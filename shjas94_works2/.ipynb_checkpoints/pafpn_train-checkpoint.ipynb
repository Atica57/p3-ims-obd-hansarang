{
 "cells": [
  {
   "cell_type": "code",
   "execution_count": 14,
   "metadata": {
    "pycharm": {
     "name": "#%%\n"
    }
   },
   "outputs": [],
   "source": [
    "from mmcv import Config\n",
    "from mmdet.datasets import build_dataset\n",
    "from mmdet.models import build_detector\n",
    "from mmdet.apis import train_detector\n",
    "from mmdet.datasets import (build_dataloader, build_dataset,\n",
    "                            replace_ImageToTensor)"
   ]
  },
  {
   "cell_type": "code",
   "execution_count": 18,
   "metadata": {
    "pycharm": {
     "name": "#%%\n"
    }
   },
   "outputs": [],
   "source": [
    "classes = (\"UNKNOWN\", \"General trash\", \"Paper\", \"Paper pack\", \"Metal\", \"Glass\", \n",
    "           \"Plastic\", \"Styrofoam\", \"Plastic bag\", \"Battery\", \"Clothing\")\n",
    "# config file 들고오기\n",
    "cfg = Config.fromfile('./configs/faster_rcnn/faster_rcnn_r50_fpn_1x_coco.py')\n",
    "\n",
    "PREFIX = '../../input/data/'\n",
    "\n",
    "\n",
    "# dataset 바꾸기\n",
    "cfg.data.train.classes = classes\n",
    "cfg.data.train.img_prefix = PREFIX\n",
    "cfg.data.train.ann_file = PREFIX + 'train.json'\n",
    "cfg.data.train.pipeline[2]['img_scale'] = (512, 512)\n",
    "\n",
    "cfg.data.val.classes = classes\n",
    "cfg.data.val.img_prefix = PREFIX\n",
    "cfg.data.val.ann_file = PREFIX + 'val.json'\n",
    "cfg.data.val.pipeline[1]['img_scale'] = (512, 512)\n",
    "\n",
    "cfg.data.test.classes = classes\n",
    "cfg.data.test.img_prefix = PREFIX\n",
    "cfg.data.test.ann_file = PREFIX + 'test.json'\n",
    "cfg.data.test.pipeline[1]['img_scale'] = (512, 512)\n",
    "\n",
    "cfg.data.samples_per_gpu = 4\n",
    "\n",
    "cfg.seed=2020\n",
    "cfg.gpu_ids = [0]\n",
    "cfg.work_dir = './work_dirs/faster_rcnn_r50_fpn_1x_trash'\n",
    "\n",
    "cfg.model.roi_head.bbox_head.num_classes = 11\n",
    "\n",
    "cfg.optimizer_config.grad_clip = dict(max_norm=35, norm_type=2)"
   ]
  },
  {
   "cell_type": "code",
   "execution_count": 19,
   "metadata": {
    "pycharm": {
     "name": "#%%\n"
    }
   },
   "outputs": [
    {
     "name": "stderr",
     "output_type": "stream",
     "text": [
      "2021-05-10 15:39:05,595 - mmdet - INFO - load model from: torchvision://resnet50\n",
      "2021-05-10 15:39:05,596 - mmdet - INFO - Use load_from_torchvision loader\n",
      "2021-05-10 15:39:05,799 - mmdet - WARNING - The model and loaded state dict do not match exactly\n",
      "\n",
      "unexpected key in source state_dict: fc.weight, fc.bias\n",
      "\n"
     ]
    }
   ],
   "source": [
    "model = build_detector(cfg.model)"
   ]
  },
  {
   "cell_type": "code",
   "execution_count": 20,
   "metadata": {
    "pycharm": {
     "name": "#%%\n"
    }
   },
   "outputs": [
    {
     "name": "stdout",
     "output_type": "stream",
     "text": [
      "loading annotations into memory...\n",
      "Done (t=3.53s)\n",
      "creating index...\n",
      "index created!\n"
     ]
    }
   ],
   "source": [
    "datasets = [build_dataset(cfg.data.train)]"
   ]
  },
  {
   "cell_type": "code",
   "execution_count": 21,
   "metadata": {
    "pycharm": {
     "name": "#%%\n"
    }
   },
   "outputs": [
    {
     "name": "stdout",
     "output_type": "stream",
     "text": [
      "loading annotations into memory...\n"
     ]
    },
    {
     "name": "stderr",
     "output_type": "stream",
     "text": [
      "2021-05-10 15:39:15,597 - mmdet - INFO - Start running, host: root@05a924235fca, work_dir: /opt/ml/code/mmdetection_trash/work_dirs/faster_rcnn_r50_fpn_1x_trash\n",
      "2021-05-10 15:39:15,598 - mmdet - INFO - workflow: [('train', 1)], max: 12 epochs\n"
     ]
    },
    {
     "name": "stdout",
     "output_type": "stream",
     "text": [
      "Done (t=0.74s)\n",
      "creating index...\n",
      "index created!\n"
     ]
    },
    {
     "name": "stderr",
     "output_type": "stream",
     "text": [
      "2021-05-10 15:39:33,212 - mmdet - INFO - Epoch [1][50/655]\tlr: 1.978e-03, eta: 0:45:50, time: 0.352, data_time: 0.049, memory: 2098, loss_rpn_cls: 0.5638, loss_rpn_bbox: 0.0980, loss_cls: 0.6812, acc: 87.3818, loss_bbox: 0.1772, loss: 1.5203, grad_norm: 6.9496\n",
      "2021-05-10 15:39:48,732 - mmdet - INFO - Epoch [1][100/655]\tlr: 3.976e-03, eta: 0:42:50, time: 0.310, data_time: 0.006, memory: 2098, loss_rpn_cls: 0.2187, loss_rpn_bbox: 0.0777, loss_cls: 0.4094, acc: 91.1787, loss_bbox: 0.3229, loss: 1.0286, grad_norm: 2.6536\n",
      "2021-05-10 15:40:04,131 - mmdet - INFO - Epoch [1][150/655]\tlr: 5.974e-03, eta: 0:41:34, time: 0.308, data_time: 0.006, memory: 2098, loss_rpn_cls: 0.2048, loss_rpn_bbox: 0.0877, loss_cls: 0.4573, acc: 89.7246, loss_bbox: 0.3791, loss: 1.1289, grad_norm: 3.1323\n",
      "2021-05-10 15:40:19,484 - mmdet - INFO - Epoch [1][200/655]\tlr: 7.972e-03, eta: 0:40:46, time: 0.307, data_time: 0.005, memory: 2098, loss_rpn_cls: 0.1952, loss_rpn_bbox: 0.0810, loss_cls: 0.4666, acc: 89.3682, loss_bbox: 0.3907, loss: 1.1334, grad_norm: 3.5374\n",
      "2021-05-10 15:40:34,606 - mmdet - INFO - Epoch [1][250/655]\tlr: 9.970e-03, eta: 0:40:04, time: 0.302, data_time: 0.006, memory: 2098, loss_rpn_cls: 0.1547, loss_rpn_bbox: 0.0713, loss_cls: 0.4334, acc: 88.9375, loss_bbox: 0.4029, loss: 1.0623, grad_norm: 3.1284\n",
      "2021-05-10 15:40:49,897 - mmdet - INFO - Epoch [1][300/655]\tlr: 1.197e-02, eta: 0:39:36, time: 0.306, data_time: 0.006, memory: 2098, loss_rpn_cls: 0.1468, loss_rpn_bbox: 0.0676, loss_cls: 0.4386, acc: 89.7002, loss_bbox: 0.3804, loss: 1.0333, grad_norm: 2.8942\n",
      "2021-05-10 15:41:05,100 - mmdet - INFO - Epoch [1][350/655]\tlr: 1.397e-02, eta: 0:39:09, time: 0.304, data_time: 0.006, memory: 2098, loss_rpn_cls: 0.1414, loss_rpn_bbox: 0.0786, loss_cls: 0.4377, acc: 89.1357, loss_bbox: 0.3969, loss: 1.0547, grad_norm: 2.9514\n",
      "2021-05-10 15:41:20,485 - mmdet - INFO - Epoch [1][400/655]\tlr: 1.596e-02, eta: 0:38:49, time: 0.308, data_time: 0.006, memory: 2098, loss_rpn_cls: 0.1603, loss_rpn_bbox: 0.0831, loss_cls: 0.4466, acc: 88.9980, loss_bbox: 0.3925, loss: 1.0826, grad_norm: 3.0251\n",
      "2021-05-10 15:41:35,777 - mmdet - INFO - Epoch [1][450/655]\tlr: 1.796e-02, eta: 0:38:28, time: 0.306, data_time: 0.006, memory: 2098, loss_rpn_cls: 0.1668, loss_rpn_bbox: 0.0856, loss_cls: 0.4653, acc: 88.5430, loss_bbox: 0.4054, loss: 1.1230, grad_norm: 3.3642\n",
      "2021-05-10 15:41:50,848 - mmdet - INFO - Epoch [1][500/655]\tlr: 1.996e-02, eta: 0:38:05, time: 0.301, data_time: 0.006, memory: 2098, loss_rpn_cls: 0.1766, loss_rpn_bbox: 0.0720, loss_cls: 0.4196, acc: 90.5947, loss_bbox: 0.3246, loss: 0.9929, grad_norm: 2.9576\n",
      "2021-05-10 15:42:06,104 - mmdet - INFO - Epoch [1][550/655]\tlr: 2.000e-02, eta: 0:37:46, time: 0.305, data_time: 0.006, memory: 2098, loss_rpn_cls: 0.1553, loss_rpn_bbox: 0.0797, loss_cls: 0.4613, acc: 88.4082, loss_bbox: 0.4031, loss: 1.0993, grad_norm: 2.5625\n",
      "2021-05-10 15:42:21,275 - mmdet - INFO - Epoch [1][600/655]\tlr: 2.000e-02, eta: 0:37:26, time: 0.303, data_time: 0.005, memory: 2098, loss_rpn_cls: 0.1418, loss_rpn_bbox: 0.0777, loss_cls: 0.4480, acc: 88.9863, loss_bbox: 0.3732, loss: 1.0406, grad_norm: 2.4237\n",
      "2021-05-10 15:42:36,358 - mmdet - INFO - Epoch [1][650/655]\tlr: 2.000e-02, eta: 0:37:06, time: 0.302, data_time: 0.006, memory: 2098, loss_rpn_cls: 0.1336, loss_rpn_bbox: 0.0822, loss_cls: 0.4682, acc: 87.9336, loss_bbox: 0.4060, loss: 1.0900, grad_norm: 2.2417\n",
      "2021-05-10 15:42:37,913 - mmdet - INFO - Saving checkpoint at 1 epochs\n"
     ]
    },
    {
     "name": "stdout",
     "output_type": "stream",
     "text": [
      "[>>>>>>>>>>>>>>>>>>>>>>>>>>>>>] 655/655, 23.3 task/s, elapsed: 28s, ETA:     0s"
     ]
    },
    {
     "name": "stderr",
     "output_type": "stream",
     "text": [
      "2021-05-10 15:43:07,308 - mmdet - INFO - Evaluating bbox...\n"
     ]
    },
    {
     "name": "stdout",
     "output_type": "stream",
     "text": [
      "Loading and preparing results...\n",
      "DONE (t=0.85s)\n",
      "creating index...\n",
      "index created!\n",
      "Running per image evaluation...\n",
      "Evaluate annotation type *bbox*\n",
      "DONE (t=5.23s).\n",
      "Accumulating evaluation results...\n"
     ]
    },
    {
     "name": "stderr",
     "output_type": "stream",
     "text": [
      "2021-05-10 15:43:14,285 - mmdet - INFO - Epoch(val) [1][655]\tbbox_mAP: 0.0340, bbox_mAP_50: 0.0780, bbox_mAP_75: 0.0230, bbox_mAP_s: 0.0040, bbox_mAP_m: 0.0420, bbox_mAP_l: 0.0660, bbox_mAP_copypaste: 0.034 0.078 0.023 0.004 0.042 0.066\n"
     ]
    },
    {
     "name": "stdout",
     "output_type": "stream",
     "text": [
      "DONE (t=0.82s).\n",
      "Average Precision  (AP) @[ IoU=0.50:0.95 | area=   all | maxDets=100 ] = 0.034\n",
      "Average Precision  (AP) @[ IoU=0.50      | area=   all | maxDets=1000 ] = 0.078\n",
      "Average Precision  (AP) @[ IoU=0.75      | area=   all | maxDets=1000 ] = 0.023\n",
      "Average Precision  (AP) @[ IoU=0.50:0.95 | area= small | maxDets=1000 ] = 0.004\n",
      "Average Precision  (AP) @[ IoU=0.50:0.95 | area=medium | maxDets=1000 ] = 0.042\n",
      "Average Precision  (AP) @[ IoU=0.50:0.95 | area= large | maxDets=1000 ] = 0.066\n",
      "Average Recall     (AR) @[ IoU=0.50:0.95 | area=   all | maxDets=100 ] = 0.091\n",
      "Average Recall     (AR) @[ IoU=0.50:0.95 | area=   all | maxDets=300 ] = 0.091\n",
      "Average Recall     (AR) @[ IoU=0.50:0.95 | area=   all | maxDets=1000 ] = 0.091\n",
      "Average Recall     (AR) @[ IoU=0.50:0.95 | area= small | maxDets=1000 ] = 0.015\n",
      "Average Recall     (AR) @[ IoU=0.50:0.95 | area=medium | maxDets=1000 ] = 0.066\n",
      "Average Recall     (AR) @[ IoU=0.50:0.95 | area= large | maxDets=1000 ] = 0.213\n"
     ]
    },
    {
     "name": "stderr",
     "output_type": "stream",
     "text": [
      "2021-05-10 15:43:31,659 - mmdet - INFO - Epoch [2][50/655]\tlr: 2.000e-02, eta: 0:36:53, time: 0.347, data_time: 0.049, memory: 2098, loss_rpn_cls: 0.1345, loss_rpn_bbox: 0.0851, loss_cls: 0.4584, acc: 87.8750, loss_bbox: 0.4115, loss: 1.0895, grad_norm: 2.5336\n",
      "2021-05-10 15:43:47,148 - mmdet - INFO - Epoch [2][100/655]\tlr: 2.000e-02, eta: 0:36:38, time: 0.310, data_time: 0.006, memory: 2098, loss_rpn_cls: 0.1126, loss_rpn_bbox: 0.0732, loss_cls: 0.4334, acc: 88.4385, loss_bbox: 0.3902, loss: 1.0094, grad_norm: 2.1527\n",
      "2021-05-10 15:44:02,452 - mmdet - INFO - Epoch [2][150/655]\tlr: 2.000e-02, eta: 0:36:21, time: 0.306, data_time: 0.006, memory: 2098, loss_rpn_cls: 0.1056, loss_rpn_bbox: 0.0707, loss_cls: 0.4287, acc: 88.7266, loss_bbox: 0.3751, loss: 0.9800, grad_norm: 2.0680\n",
      "2021-05-10 15:44:17,848 - mmdet - INFO - Epoch [2][200/655]\tlr: 2.000e-02, eta: 0:36:05, time: 0.308, data_time: 0.006, memory: 2098, loss_rpn_cls: 0.1003, loss_rpn_bbox: 0.0650, loss_cls: 0.4310, acc: 88.5469, loss_bbox: 0.3760, loss: 0.9722, grad_norm: 2.2191\n",
      "2021-05-10 15:44:32,871 - mmdet - INFO - Epoch [2][250/655]\tlr: 2.000e-02, eta: 0:35:46, time: 0.300, data_time: 0.005, memory: 2098, loss_rpn_cls: 0.1056, loss_rpn_bbox: 0.0671, loss_cls: 0.4108, acc: 88.9482, loss_bbox: 0.3612, loss: 0.9447, grad_norm: 2.1930\n",
      "2021-05-10 15:44:47,905 - mmdet - INFO - Epoch [2][300/655]\tlr: 2.000e-02, eta: 0:35:28, time: 0.301, data_time: 0.006, memory: 2098, loss_rpn_cls: 0.1066, loss_rpn_bbox: 0.0689, loss_cls: 0.4082, acc: 89.1455, loss_bbox: 0.3605, loss: 0.9443, grad_norm: 2.0811\n",
      "2021-05-10 15:45:02,888 - mmdet - INFO - Epoch [2][350/655]\tlr: 2.000e-02, eta: 0:35:10, time: 0.300, data_time: 0.006, memory: 2098, loss_rpn_cls: 0.1002, loss_rpn_bbox: 0.0607, loss_cls: 0.4299, acc: 88.5010, loss_bbox: 0.3765, loss: 0.9672, grad_norm: 2.2216\n",
      "2021-05-10 15:45:17,896 - mmdet - INFO - Epoch [2][400/655]\tlr: 2.000e-02, eta: 0:34:52, time: 0.300, data_time: 0.006, memory: 2098, loss_rpn_cls: 0.1027, loss_rpn_bbox: 0.0753, loss_cls: 0.4068, acc: 88.6846, loss_bbox: 0.3711, loss: 0.9559, grad_norm: 2.2600\n",
      "2021-05-10 15:45:33,048 - mmdet - INFO - Epoch [2][450/655]\tlr: 2.000e-02, eta: 0:34:35, time: 0.303, data_time: 0.005, memory: 2098, loss_rpn_cls: 0.1231, loss_rpn_bbox: 0.0736, loss_cls: 0.4095, acc: 88.9609, loss_bbox: 0.3547, loss: 0.9610, grad_norm: 2.2922\n",
      "2021-05-10 15:45:48,055 - mmdet - INFO - Epoch [2][500/655]\tlr: 2.000e-02, eta: 0:34:18, time: 0.300, data_time: 0.005, memory: 2098, loss_rpn_cls: 0.1203, loss_rpn_bbox: 0.0675, loss_cls: 0.4421, acc: 88.5684, loss_bbox: 0.3518, loss: 0.9816, grad_norm: 2.3414\n",
      "2021-05-10 15:46:03,144 - mmdet - INFO - Epoch [2][550/655]\tlr: 2.000e-02, eta: 0:34:01, time: 0.302, data_time: 0.005, memory: 2098, loss_rpn_cls: 0.0885, loss_rpn_bbox: 0.0602, loss_cls: 0.3956, acc: 89.1055, loss_bbox: 0.3449, loss: 0.8892, grad_norm: 2.1428\n",
      "2021-05-10 15:46:18,093 - mmdet - INFO - Epoch [2][600/655]\tlr: 2.000e-02, eta: 0:33:43, time: 0.299, data_time: 0.005, memory: 2098, loss_rpn_cls: 0.1082, loss_rpn_bbox: 0.0643, loss_cls: 0.4045, acc: 88.8994, loss_bbox: 0.3592, loss: 0.9361, grad_norm: 2.1228\n",
      "2021-05-10 15:46:33,125 - mmdet - INFO - Epoch [2][650/655]\tlr: 2.000e-02, eta: 0:33:27, time: 0.301, data_time: 0.005, memory: 2098, loss_rpn_cls: 0.1124, loss_rpn_bbox: 0.0743, loss_cls: 0.4166, acc: 88.6748, loss_bbox: 0.3625, loss: 0.9658, grad_norm: 2.2393\n",
      "2021-05-10 15:46:34,666 - mmdet - INFO - Saving checkpoint at 2 epochs\n"
     ]
    },
    {
     "name": "stdout",
     "output_type": "stream",
     "text": [
      "[>>>>>>>>>>>>>>>>>>>>>>>>>>>>>] 655/655, 23.0 task/s, elapsed: 29s, ETA:     0s"
     ]
    },
    {
     "name": "stderr",
     "output_type": "stream",
     "text": [
      "2021-05-10 15:47:04,300 - mmdet - INFO - Evaluating bbox...\n"
     ]
    },
    {
     "name": "stdout",
     "output_type": "stream",
     "text": [
      "Loading and preparing results...\n",
      "DONE (t=0.46s)\n",
      "creating index...\n",
      "index created!\n",
      "Running per image evaluation...\n",
      "Evaluate annotation type *bbox*\n",
      "DONE (t=4.00s).\n",
      "Accumulating evaluation results...\n"
     ]
    },
    {
     "name": "stderr",
     "output_type": "stream",
     "text": [
      "2021-05-10 15:47:09,597 - mmdet - INFO - Epoch(val) [2][655]\tbbox_mAP: 0.0560, bbox_mAP_50: 0.1130, bbox_mAP_75: 0.0520, bbox_mAP_s: 0.0090, bbox_mAP_m: 0.0500, bbox_mAP_l: 0.1140, bbox_mAP_copypaste: 0.056 0.113 0.052 0.009 0.050 0.114\n"
     ]
    },
    {
     "name": "stdout",
     "output_type": "stream",
     "text": [
      "DONE (t=0.76s).\n",
      "Average Precision  (AP) @[ IoU=0.50:0.95 | area=   all | maxDets=100 ] = 0.056\n",
      "Average Precision  (AP) @[ IoU=0.50      | area=   all | maxDets=1000 ] = 0.113\n",
      "Average Precision  (AP) @[ IoU=0.75      | area=   all | maxDets=1000 ] = 0.052\n",
      "Average Precision  (AP) @[ IoU=0.50:0.95 | area= small | maxDets=1000 ] = 0.009\n",
      "Average Precision  (AP) @[ IoU=0.50:0.95 | area=medium | maxDets=1000 ] = 0.050\n",
      "Average Precision  (AP) @[ IoU=0.50:0.95 | area= large | maxDets=1000 ] = 0.114\n",
      "Average Recall     (AR) @[ IoU=0.50:0.95 | area=   all | maxDets=100 ] = 0.150\n",
      "Average Recall     (AR) @[ IoU=0.50:0.95 | area=   all | maxDets=300 ] = 0.150\n",
      "Average Recall     (AR) @[ IoU=0.50:0.95 | area=   all | maxDets=1000 ] = 0.150\n",
      "Average Recall     (AR) @[ IoU=0.50:0.95 | area= small | maxDets=1000 ] = 0.022\n",
      "Average Recall     (AR) @[ IoU=0.50:0.95 | area=medium | maxDets=1000 ] = 0.116\n",
      "Average Recall     (AR) @[ IoU=0.50:0.95 | area= large | maxDets=1000 ] = 0.341\n"
     ]
    },
    {
     "name": "stderr",
     "output_type": "stream",
     "text": [
      "2021-05-10 15:47:26,898 - mmdet - INFO - Epoch [3][50/655]\tlr: 2.000e-02, eta: 0:33:12, time: 0.346, data_time: 0.048, memory: 2099, loss_rpn_cls: 0.0876, loss_rpn_bbox: 0.0603, loss_cls: 0.4034, acc: 88.8203, loss_bbox: 0.3627, loss: 0.9140, grad_norm: 2.0717\n",
      "2021-05-10 15:47:41,993 - mmdet - INFO - Epoch [3][100/655]\tlr: 2.000e-02, eta: 0:32:56, time: 0.302, data_time: 0.005, memory: 2099, loss_rpn_cls: 0.0960, loss_rpn_bbox: 0.0715, loss_cls: 0.4088, acc: 88.3115, loss_bbox: 0.3810, loss: 0.9574, grad_norm: 2.2408\n",
      "2021-05-10 15:47:57,028 - mmdet - INFO - Epoch [3][150/655]\tlr: 2.000e-02, eta: 0:32:39, time: 0.301, data_time: 0.005, memory: 2099, loss_rpn_cls: 0.0842, loss_rpn_bbox: 0.0689, loss_cls: 0.3803, acc: 89.2402, loss_bbox: 0.3498, loss: 0.8831, grad_norm: 2.0242\n",
      "2021-05-10 15:48:12,230 - mmdet - INFO - Epoch [3][200/655]\tlr: 2.000e-02, eta: 0:32:23, time: 0.304, data_time: 0.006, memory: 2099, loss_rpn_cls: 0.0890, loss_rpn_bbox: 0.0625, loss_cls: 0.3933, acc: 89.0205, loss_bbox: 0.3545, loss: 0.8993, grad_norm: 2.1890\n",
      "2021-05-10 15:48:27,110 - mmdet - INFO - Epoch [3][250/655]\tlr: 2.000e-02, eta: 0:32:06, time: 0.298, data_time: 0.005, memory: 2099, loss_rpn_cls: 0.0858, loss_rpn_bbox: 0.0597, loss_cls: 0.4013, acc: 88.9443, loss_bbox: 0.3533, loss: 0.9000, grad_norm: 2.1044\n",
      "2021-05-10 15:48:42,015 - mmdet - INFO - Epoch [3][300/655]\tlr: 2.000e-02, eta: 0:31:49, time: 0.298, data_time: 0.005, memory: 2099, loss_rpn_cls: 0.1049, loss_rpn_bbox: 0.0716, loss_cls: 0.3953, acc: 89.1318, loss_bbox: 0.3481, loss: 0.9200, grad_norm: 2.1074\n",
      "2021-05-10 15:48:57,057 - mmdet - INFO - Epoch [3][350/655]\tlr: 2.000e-02, eta: 0:31:33, time: 0.301, data_time: 0.005, memory: 2099, loss_rpn_cls: 0.0743, loss_rpn_bbox: 0.0525, loss_cls: 0.3673, acc: 89.8389, loss_bbox: 0.3319, loss: 0.8261, grad_norm: 2.1124\n",
      "2021-05-10 15:49:12,582 - mmdet - INFO - Epoch [3][400/655]\tlr: 2.000e-02, eta: 0:31:19, time: 0.310, data_time: 0.006, memory: 2099, loss_rpn_cls: 0.1033, loss_rpn_bbox: 0.0679, loss_cls: 0.3751, acc: 89.8438, loss_bbox: 0.3160, loss: 0.8623, grad_norm: 2.1630\n",
      "2021-05-10 15:49:27,721 - mmdet - INFO - Epoch [3][450/655]\tlr: 2.000e-02, eta: 0:31:03, time: 0.303, data_time: 0.005, memory: 2099, loss_rpn_cls: 0.0957, loss_rpn_bbox: 0.0732, loss_cls: 0.3987, acc: 88.9424, loss_bbox: 0.3523, loss: 0.9199, grad_norm: 2.0891\n",
      "2021-05-10 15:49:42,815 - mmdet - INFO - Epoch [3][500/655]\tlr: 2.000e-02, eta: 0:30:47, time: 0.302, data_time: 0.005, memory: 2099, loss_rpn_cls: 0.0669, loss_rpn_bbox: 0.0511, loss_cls: 0.3476, acc: 90.3135, loss_bbox: 0.3151, loss: 0.7807, grad_norm: 1.9653\n",
      "2021-05-10 15:49:57,696 - mmdet - INFO - Epoch [3][550/655]\tlr: 2.000e-02, eta: 0:30:31, time: 0.298, data_time: 0.005, memory: 2099, loss_rpn_cls: 0.1033, loss_rpn_bbox: 0.0627, loss_cls: 0.3897, acc: 89.1025, loss_bbox: 0.3434, loss: 0.8991, grad_norm: 2.2589\n",
      "2021-05-10 15:50:12,755 - mmdet - INFO - Epoch [3][600/655]\tlr: 2.000e-02, eta: 0:30:15, time: 0.301, data_time: 0.006, memory: 2099, loss_rpn_cls: 0.1027, loss_rpn_bbox: 0.0693, loss_cls: 0.4113, acc: 88.4004, loss_bbox: 0.3457, loss: 0.9289, grad_norm: 2.2426\n",
      "2021-05-10 15:50:27,664 - mmdet - INFO - Epoch [3][650/655]\tlr: 2.000e-02, eta: 0:29:59, time: 0.298, data_time: 0.005, memory: 2099, loss_rpn_cls: 0.0927, loss_rpn_bbox: 0.0625, loss_cls: 0.3936, acc: 88.8447, loss_bbox: 0.3563, loss: 0.9052, grad_norm: 2.0116\n",
      "2021-05-10 15:50:29,228 - mmdet - INFO - Saving checkpoint at 3 epochs\n"
     ]
    },
    {
     "name": "stdout",
     "output_type": "stream",
     "text": [
      "[>>>>>>>>>>>>>>>>>>>>>>>>>>>>>] 655/655, 23.5 task/s, elapsed: 28s, ETA:     0s"
     ]
    },
    {
     "name": "stderr",
     "output_type": "stream",
     "text": [
      "2021-05-10 15:50:58,698 - mmdet - INFO - Evaluating bbox...\n"
     ]
    },
    {
     "name": "stdout",
     "output_type": "stream",
     "text": [
      "Loading and preparing results...\n",
      "DONE (t=0.48s)\n",
      "creating index...\n",
      "index created!\n",
      "Running per image evaluation...\n",
      "Evaluate annotation type *bbox*\n",
      "DONE (t=6.00s).\n",
      "Accumulating evaluation results...\n"
     ]
    },
    {
     "name": "stderr",
     "output_type": "stream",
     "text": [
      "2021-05-10 15:51:06,118 - mmdet - INFO - Epoch(val) [3][655]\tbbox_mAP: 0.0800, bbox_mAP_50: 0.1570, bbox_mAP_75: 0.0780, bbox_mAP_s: 0.0180, bbox_mAP_m: 0.0840, bbox_mAP_l: 0.1510, bbox_mAP_copypaste: 0.080 0.157 0.078 0.018 0.084 0.151\n"
     ]
    },
    {
     "name": "stdout",
     "output_type": "stream",
     "text": [
      "DONE (t=0.86s).\n",
      "Average Precision  (AP) @[ IoU=0.50:0.95 | area=   all | maxDets=100 ] = 0.080\n",
      "Average Precision  (AP) @[ IoU=0.50      | area=   all | maxDets=1000 ] = 0.157\n",
      "Average Precision  (AP) @[ IoU=0.75      | area=   all | maxDets=1000 ] = 0.078\n",
      "Average Precision  (AP) @[ IoU=0.50:0.95 | area= small | maxDets=1000 ] = 0.018\n",
      "Average Precision  (AP) @[ IoU=0.50:0.95 | area=medium | maxDets=1000 ] = 0.084\n",
      "Average Precision  (AP) @[ IoU=0.50:0.95 | area= large | maxDets=1000 ] = 0.151\n",
      "Average Recall     (AR) @[ IoU=0.50:0.95 | area=   all | maxDets=100 ] = 0.191\n",
      "Average Recall     (AR) @[ IoU=0.50:0.95 | area=   all | maxDets=300 ] = 0.191\n",
      "Average Recall     (AR) @[ IoU=0.50:0.95 | area=   all | maxDets=1000 ] = 0.191\n",
      "Average Recall     (AR) @[ IoU=0.50:0.95 | area= small | maxDets=1000 ] = 0.062\n",
      "Average Recall     (AR) @[ IoU=0.50:0.95 | area=medium | maxDets=1000 ] = 0.174\n",
      "Average Recall     (AR) @[ IoU=0.50:0.95 | area= large | maxDets=1000 ] = 0.354\n"
     ]
    },
    {
     "name": "stderr",
     "output_type": "stream",
     "text": [
      "2021-05-10 15:51:23,292 - mmdet - INFO - Epoch [4][50/655]\tlr: 2.000e-02, eta: 0:29:43, time: 0.343, data_time: 0.049, memory: 2099, loss_rpn_cls: 0.0800, loss_rpn_bbox: 0.0641, loss_cls: 0.3852, acc: 88.5928, loss_bbox: 0.3656, loss: 0.8949, grad_norm: 2.0554\n",
      "2021-05-10 15:51:38,001 - mmdet - INFO - Epoch [4][100/655]\tlr: 2.000e-02, eta: 0:29:26, time: 0.294, data_time: 0.005, memory: 2099, loss_rpn_cls: 0.0655, loss_rpn_bbox: 0.0572, loss_cls: 0.3330, acc: 90.1641, loss_bbox: 0.3107, loss: 0.7663, grad_norm: 1.9720\n",
      "2021-05-10 15:51:52,874 - mmdet - INFO - Epoch [4][150/655]\tlr: 2.000e-02, eta: 0:29:10, time: 0.297, data_time: 0.005, memory: 2099, loss_rpn_cls: 0.0905, loss_rpn_bbox: 0.0655, loss_cls: 0.3560, acc: 89.6611, loss_bbox: 0.3202, loss: 0.8322, grad_norm: 2.1515\n",
      "2021-05-10 15:52:07,784 - mmdet - INFO - Epoch [4][200/655]\tlr: 2.000e-02, eta: 0:28:54, time: 0.298, data_time: 0.006, memory: 2099, loss_rpn_cls: 0.0806, loss_rpn_bbox: 0.0630, loss_cls: 0.3828, acc: 89.1689, loss_bbox: 0.3411, loss: 0.8675, grad_norm: 2.1593\n",
      "2021-05-10 15:52:22,725 - mmdet - INFO - Epoch [4][250/655]\tlr: 2.000e-02, eta: 0:28:38, time: 0.299, data_time: 0.005, memory: 2099, loss_rpn_cls: 0.0779, loss_rpn_bbox: 0.0615, loss_cls: 0.3778, acc: 88.9902, loss_bbox: 0.3521, loss: 0.8694, grad_norm: 2.1062\n",
      "2021-05-10 15:52:37,558 - mmdet - INFO - Epoch [4][300/655]\tlr: 2.000e-02, eta: 0:28:22, time: 0.297, data_time: 0.005, memory: 2099, loss_rpn_cls: 0.0863, loss_rpn_bbox: 0.0680, loss_cls: 0.3820, acc: 88.9434, loss_bbox: 0.3489, loss: 0.8851, grad_norm: 2.1136\n",
      "2021-05-10 15:52:52,519 - mmdet - INFO - Epoch [4][350/655]\tlr: 2.000e-02, eta: 0:28:06, time: 0.299, data_time: 0.006, memory: 2099, loss_rpn_cls: 0.0888, loss_rpn_bbox: 0.0627, loss_cls: 0.3610, acc: 89.6016, loss_bbox: 0.3235, loss: 0.8360, grad_norm: 2.1529\n",
      "2021-05-10 15:53:07,603 - mmdet - INFO - Epoch [4][400/655]\tlr: 2.000e-02, eta: 0:27:50, time: 0.302, data_time: 0.006, memory: 2099, loss_rpn_cls: 0.0816, loss_rpn_bbox: 0.0604, loss_cls: 0.3743, acc: 89.2100, loss_bbox: 0.3343, loss: 0.8507, grad_norm: 2.1717\n",
      "2021-05-10 15:53:22,616 - mmdet - INFO - Epoch [4][450/655]\tlr: 2.000e-02, eta: 0:27:35, time: 0.300, data_time: 0.006, memory: 2099, loss_rpn_cls: 0.0756, loss_rpn_bbox: 0.0520, loss_cls: 0.3868, acc: 89.0537, loss_bbox: 0.3413, loss: 0.8558, grad_norm: 2.0707\n",
      "2021-05-10 15:53:37,713 - mmdet - INFO - Epoch [4][500/655]\tlr: 2.000e-02, eta: 0:27:19, time: 0.302, data_time: 0.006, memory: 2099, loss_rpn_cls: 0.0789, loss_rpn_bbox: 0.0627, loss_cls: 0.3771, acc: 89.2910, loss_bbox: 0.3398, loss: 0.8585, grad_norm: 2.1066\n",
      "2021-05-10 15:53:52,703 - mmdet - INFO - Epoch [4][550/655]\tlr: 2.000e-02, eta: 0:27:04, time: 0.300, data_time: 0.006, memory: 2099, loss_rpn_cls: 0.0772, loss_rpn_bbox: 0.0570, loss_cls: 0.3748, acc: 89.3877, loss_bbox: 0.3316, loss: 0.8406, grad_norm: 2.1786\n",
      "2021-05-10 15:54:07,611 - mmdet - INFO - Epoch [4][600/655]\tlr: 2.000e-02, eta: 0:26:48, time: 0.298, data_time: 0.006, memory: 2099, loss_rpn_cls: 0.0859, loss_rpn_bbox: 0.0560, loss_cls: 0.3712, acc: 89.5195, loss_bbox: 0.3256, loss: 0.8387, grad_norm: 2.1734\n",
      "2021-05-10 15:54:22,548 - mmdet - INFO - Epoch [4][650/655]\tlr: 2.000e-02, eta: 0:26:32, time: 0.299, data_time: 0.006, memory: 2099, loss_rpn_cls: 0.0810, loss_rpn_bbox: 0.0591, loss_cls: 0.4113, acc: 88.6318, loss_bbox: 0.3569, loss: 0.9084, grad_norm: 2.2141\n",
      "2021-05-10 15:54:24,088 - mmdet - INFO - Saving checkpoint at 4 epochs\n"
     ]
    },
    {
     "name": "stdout",
     "output_type": "stream",
     "text": [
      "[>>>>>>>>>>>>>>>>>>>>>>>>>>>>>] 655/655, 23.2 task/s, elapsed: 28s, ETA:     0s"
     ]
    },
    {
     "name": "stderr",
     "output_type": "stream",
     "text": [
      "2021-05-10 15:54:53,649 - mmdet - INFO - Evaluating bbox...\n"
     ]
    },
    {
     "name": "stdout",
     "output_type": "stream",
     "text": [
      "Loading and preparing results...\n",
      "DONE (t=0.51s)\n",
      "creating index...\n",
      "index created!\n",
      "Running per image evaluation...\n",
      "Evaluate annotation type *bbox*\n",
      "DONE (t=5.71s).\n",
      "Accumulating evaluation results...\n"
     ]
    },
    {
     "name": "stderr",
     "output_type": "stream",
     "text": [
      "2021-05-10 15:55:00,878 - mmdet - INFO - Epoch(val) [4][655]\tbbox_mAP: 0.0780, bbox_mAP_50: 0.1610, bbox_mAP_75: 0.0710, bbox_mAP_s: 0.0260, bbox_mAP_m: 0.0830, bbox_mAP_l: 0.1420, bbox_mAP_copypaste: 0.078 0.161 0.071 0.026 0.083 0.142\n"
     ]
    },
    {
     "name": "stdout",
     "output_type": "stream",
     "text": [
      "DONE (t=0.93s).\n",
      "Average Precision  (AP) @[ IoU=0.50:0.95 | area=   all | maxDets=100 ] = 0.078\n",
      "Average Precision  (AP) @[ IoU=0.50      | area=   all | maxDets=1000 ] = 0.161\n",
      "Average Precision  (AP) @[ IoU=0.75      | area=   all | maxDets=1000 ] = 0.071\n",
      "Average Precision  (AP) @[ IoU=0.50:0.95 | area= small | maxDets=1000 ] = 0.026\n",
      "Average Precision  (AP) @[ IoU=0.50:0.95 | area=medium | maxDets=1000 ] = 0.083\n",
      "Average Precision  (AP) @[ IoU=0.50:0.95 | area= large | maxDets=1000 ] = 0.142\n",
      "Average Recall     (AR) @[ IoU=0.50:0.95 | area=   all | maxDets=100 ] = 0.206\n",
      "Average Recall     (AR) @[ IoU=0.50:0.95 | area=   all | maxDets=300 ] = 0.206\n",
      "Average Recall     (AR) @[ IoU=0.50:0.95 | area=   all | maxDets=1000 ] = 0.206\n",
      "Average Recall     (AR) @[ IoU=0.50:0.95 | area= small | maxDets=1000 ] = 0.066\n",
      "Average Recall     (AR) @[ IoU=0.50:0.95 | area=medium | maxDets=1000 ] = 0.207\n",
      "Average Recall     (AR) @[ IoU=0.50:0.95 | area= large | maxDets=1000 ] = 0.355\n"
     ]
    },
    {
     "name": "stderr",
     "output_type": "stream",
     "text": [
      "2021-05-10 15:55:18,130 - mmdet - INFO - Epoch [5][50/655]\tlr: 2.000e-02, eta: 0:26:17, time: 0.345, data_time: 0.050, memory: 2099, loss_rpn_cls: 0.0808, loss_rpn_bbox: 0.0663, loss_cls: 0.3812, acc: 88.6865, loss_bbox: 0.3652, loss: 0.8935, grad_norm: 2.1800\n",
      "2021-05-10 15:55:32,986 - mmdet - INFO - Epoch [5][100/655]\tlr: 2.000e-02, eta: 0:26:01, time: 0.297, data_time: 0.005, memory: 2099, loss_rpn_cls: 0.0698, loss_rpn_bbox: 0.0567, loss_cls: 0.3323, acc: 90.1953, loss_bbox: 0.3197, loss: 0.7785, grad_norm: 1.9339\n",
      "2021-05-10 15:55:48,526 - mmdet - INFO - Epoch [5][150/655]\tlr: 2.000e-02, eta: 0:25:46, time: 0.311, data_time: 0.006, memory: 2099, loss_rpn_cls: 0.0632, loss_rpn_bbox: 0.0599, loss_cls: 0.3924, acc: 88.6172, loss_bbox: 0.3553, loss: 0.8708, grad_norm: 2.2460\n",
      "2021-05-10 15:56:03,651 - mmdet - INFO - Epoch [5][200/655]\tlr: 2.000e-02, eta: 0:25:31, time: 0.302, data_time: 0.005, memory: 2099, loss_rpn_cls: 0.0722, loss_rpn_bbox: 0.0638, loss_cls: 0.3724, acc: 89.1113, loss_bbox: 0.3351, loss: 0.8435, grad_norm: 2.2172\n",
      "2021-05-10 15:56:18,635 - mmdet - INFO - Epoch [5][250/655]\tlr: 2.000e-02, eta: 0:25:15, time: 0.300, data_time: 0.005, memory: 2099, loss_rpn_cls: 0.0781, loss_rpn_bbox: 0.0612, loss_cls: 0.3607, acc: 89.5166, loss_bbox: 0.3365, loss: 0.8366, grad_norm: 2.2302\n",
      "2021-05-10 15:56:33,857 - mmdet - INFO - Epoch [5][300/655]\tlr: 2.000e-02, eta: 0:25:00, time: 0.304, data_time: 0.006, memory: 2099, loss_rpn_cls: 0.0625, loss_rpn_bbox: 0.0572, loss_cls: 0.3379, acc: 90.1758, loss_bbox: 0.3068, loss: 0.7643, grad_norm: 2.0311\n",
      "2021-05-10 15:56:48,856 - mmdet - INFO - Epoch [5][350/655]\tlr: 2.000e-02, eta: 0:24:45, time: 0.300, data_time: 0.006, memory: 2099, loss_rpn_cls: 0.0669, loss_rpn_bbox: 0.0540, loss_cls: 0.3270, acc: 90.4033, loss_bbox: 0.2947, loss: 0.7426, grad_norm: 2.0469\n",
      "2021-05-10 15:57:03,796 - mmdet - INFO - Epoch [5][400/655]\tlr: 2.000e-02, eta: 0:24:29, time: 0.299, data_time: 0.006, memory: 2099, loss_rpn_cls: 0.0810, loss_rpn_bbox: 0.0627, loss_cls: 0.3573, acc: 89.6299, loss_bbox: 0.3305, loss: 0.8315, grad_norm: 2.2185\n",
      "2021-05-10 15:57:19,429 - mmdet - INFO - Epoch [5][450/655]\tlr: 2.000e-02, eta: 0:24:15, time: 0.313, data_time: 0.006, memory: 2099, loss_rpn_cls: 0.0664, loss_rpn_bbox: 0.0633, loss_cls: 0.3619, acc: 89.2363, loss_bbox: 0.3329, loss: 0.8244, grad_norm: 2.1288\n",
      "2021-05-10 15:57:35,215 - mmdet - INFO - Epoch [5][500/655]\tlr: 2.000e-02, eta: 0:24:00, time: 0.316, data_time: 0.006, memory: 2099, loss_rpn_cls: 0.0660, loss_rpn_bbox: 0.0536, loss_cls: 0.3635, acc: 89.8135, loss_bbox: 0.3205, loss: 0.8037, grad_norm: 2.0916\n",
      "2021-05-10 15:57:50,927 - mmdet - INFO - Epoch [5][550/655]\tlr: 2.000e-02, eta: 0:23:46, time: 0.314, data_time: 0.006, memory: 2099, loss_rpn_cls: 0.0842, loss_rpn_bbox: 0.0577, loss_cls: 0.3690, acc: 89.3516, loss_bbox: 0.3233, loss: 0.8341, grad_norm: 2.1569\n",
      "2021-05-10 15:58:06,305 - mmdet - INFO - Epoch [5][600/655]\tlr: 2.000e-02, eta: 0:23:31, time: 0.308, data_time: 0.006, memory: 2099, loss_rpn_cls: 0.0741, loss_rpn_bbox: 0.0605, loss_cls: 0.3973, acc: 88.7373, loss_bbox: 0.3333, loss: 0.8652, grad_norm: 2.1762\n",
      "2021-05-10 15:58:21,312 - mmdet - INFO - Epoch [5][650/655]\tlr: 2.000e-02, eta: 0:23:15, time: 0.300, data_time: 0.006, memory: 2099, loss_rpn_cls: 0.0666, loss_rpn_bbox: 0.0537, loss_cls: 0.3554, acc: 89.7061, loss_bbox: 0.3299, loss: 0.8056, grad_norm: 2.1131\n",
      "2021-05-10 15:58:22,841 - mmdet - INFO - Saving checkpoint at 5 epochs\n"
     ]
    },
    {
     "name": "stdout",
     "output_type": "stream",
     "text": [
      "[>>>>>>>>>>>>>>>>>>>>>>>>>>>>>] 655/655, 22.8 task/s, elapsed: 29s, ETA:     0s"
     ]
    },
    {
     "name": "stderr",
     "output_type": "stream",
     "text": [
      "2021-05-10 15:58:53,256 - mmdet - INFO - Evaluating bbox...\n"
     ]
    },
    {
     "name": "stdout",
     "output_type": "stream",
     "text": [
      "Loading and preparing results...\n",
      "DONE (t=0.52s)\n",
      "creating index...\n",
      "index created!\n",
      "Running per image evaluation...\n",
      "Evaluate annotation type *bbox*\n",
      "DONE (t=6.09s).\n",
      "Accumulating evaluation results...\n"
     ]
    },
    {
     "name": "stderr",
     "output_type": "stream",
     "text": [
      "2021-05-10 15:59:00,946 - mmdet - INFO - Epoch(val) [5][655]\tbbox_mAP: 0.0990, bbox_mAP_50: 0.1830, bbox_mAP_75: 0.1000, bbox_mAP_s: 0.0240, bbox_mAP_m: 0.0890, bbox_mAP_l: 0.1930, bbox_mAP_copypaste: 0.099 0.183 0.100 0.024 0.089 0.193\n"
     ]
    },
    {
     "name": "stdout",
     "output_type": "stream",
     "text": [
      "DONE (t=1.00s).\n",
      "Average Precision  (AP) @[ IoU=0.50:0.95 | area=   all | maxDets=100 ] = 0.099\n",
      "Average Precision  (AP) @[ IoU=0.50      | area=   all | maxDets=1000 ] = 0.183\n",
      "Average Precision  (AP) @[ IoU=0.75      | area=   all | maxDets=1000 ] = 0.100\n",
      "Average Precision  (AP) @[ IoU=0.50:0.95 | area= small | maxDets=1000 ] = 0.024\n",
      "Average Precision  (AP) @[ IoU=0.50:0.95 | area=medium | maxDets=1000 ] = 0.089\n",
      "Average Precision  (AP) @[ IoU=0.50:0.95 | area= large | maxDets=1000 ] = 0.193\n",
      "Average Recall     (AR) @[ IoU=0.50:0.95 | area=   all | maxDets=100 ] = 0.242\n",
      "Average Recall     (AR) @[ IoU=0.50:0.95 | area=   all | maxDets=300 ] = 0.242\n",
      "Average Recall     (AR) @[ IoU=0.50:0.95 | area=   all | maxDets=1000 ] = 0.242\n",
      "Average Recall     (AR) @[ IoU=0.50:0.95 | area= small | maxDets=1000 ] = 0.067\n",
      "Average Recall     (AR) @[ IoU=0.50:0.95 | area=medium | maxDets=1000 ] = 0.241\n",
      "Average Recall     (AR) @[ IoU=0.50:0.95 | area= large | maxDets=1000 ] = 0.465\n"
     ]
    },
    {
     "name": "stderr",
     "output_type": "stream",
     "text": [
      "2021-05-10 15:59:18,218 - mmdet - INFO - Epoch [6][50/655]\tlr: 2.000e-02, eta: 0:22:59, time: 0.345, data_time: 0.049, memory: 2099, loss_rpn_cls: 0.0550, loss_rpn_bbox: 0.0523, loss_cls: 0.3277, acc: 90.4404, loss_bbox: 0.2945, loss: 0.7295, grad_norm: 2.0455\n",
      "2021-05-10 15:59:33,391 - mmdet - INFO - Epoch [6][100/655]\tlr: 2.000e-02, eta: 0:22:44, time: 0.303, data_time: 0.005, memory: 2099, loss_rpn_cls: 0.0752, loss_rpn_bbox: 0.0618, loss_cls: 0.3616, acc: 89.3584, loss_bbox: 0.3462, loss: 0.8448, grad_norm: 2.2010\n",
      "2021-05-10 15:59:48,418 - mmdet - INFO - Epoch [6][150/655]\tlr: 2.000e-02, eta: 0:22:29, time: 0.301, data_time: 0.005, memory: 2099, loss_rpn_cls: 0.0650, loss_rpn_bbox: 0.0572, loss_cls: 0.3560, acc: 89.5029, loss_bbox: 0.3273, loss: 0.8055, grad_norm: 2.1348\n",
      "2021-05-10 16:00:03,679 - mmdet - INFO - Epoch [6][200/655]\tlr: 2.000e-02, eta: 0:22:14, time: 0.305, data_time: 0.006, memory: 2099, loss_rpn_cls: 0.0565, loss_rpn_bbox: 0.0590, loss_cls: 0.3190, acc: 90.0918, loss_bbox: 0.3137, loss: 0.7482, grad_norm: 2.0957\n",
      "2021-05-10 16:00:18,641 - mmdet - INFO - Epoch [6][250/655]\tlr: 2.000e-02, eta: 0:21:58, time: 0.299, data_time: 0.006, memory: 2099, loss_rpn_cls: 0.0620, loss_rpn_bbox: 0.0554, loss_cls: 0.3396, acc: 90.0293, loss_bbox: 0.3107, loss: 0.7677, grad_norm: 2.2041\n",
      "2021-05-10 16:00:33,574 - mmdet - INFO - Epoch [6][300/655]\tlr: 2.000e-02, eta: 0:21:42, time: 0.299, data_time: 0.006, memory: 2099, loss_rpn_cls: 0.0661, loss_rpn_bbox: 0.0598, loss_cls: 0.3711, acc: 88.8818, loss_bbox: 0.3490, loss: 0.8460, grad_norm: 2.1980\n",
      "2021-05-10 16:00:48,412 - mmdet - INFO - Epoch [6][350/655]\tlr: 2.000e-02, eta: 0:21:27, time: 0.297, data_time: 0.005, memory: 2099, loss_rpn_cls: 0.0684, loss_rpn_bbox: 0.0610, loss_cls: 0.3484, acc: 89.7939, loss_bbox: 0.3325, loss: 0.8103, grad_norm: 2.2020\n",
      "2021-05-10 16:01:03,273 - mmdet - INFO - Epoch [6][400/655]\tlr: 2.000e-02, eta: 0:21:11, time: 0.297, data_time: 0.006, memory: 2099, loss_rpn_cls: 0.0647, loss_rpn_bbox: 0.0549, loss_cls: 0.3367, acc: 90.1123, loss_bbox: 0.3065, loss: 0.7628, grad_norm: 2.1882\n",
      "2021-05-10 16:01:18,175 - mmdet - INFO - Epoch [6][450/655]\tlr: 2.000e-02, eta: 0:20:56, time: 0.298, data_time: 0.006, memory: 2099, loss_rpn_cls: 0.0685, loss_rpn_bbox: 0.0543, loss_cls: 0.3570, acc: 89.7314, loss_bbox: 0.3129, loss: 0.7926, grad_norm: 2.2278\n",
      "2021-05-10 16:01:33,300 - mmdet - INFO - Epoch [6][500/655]\tlr: 2.000e-02, eta: 0:20:41, time: 0.303, data_time: 0.006, memory: 2099, loss_rpn_cls: 0.0713, loss_rpn_bbox: 0.0567, loss_cls: 0.3384, acc: 90.0586, loss_bbox: 0.3008, loss: 0.7673, grad_norm: 2.0850\n",
      "2021-05-10 16:01:48,390 - mmdet - INFO - Epoch [6][550/655]\tlr: 2.000e-02, eta: 0:20:25, time: 0.302, data_time: 0.005, memory: 2099, loss_rpn_cls: 0.0771, loss_rpn_bbox: 0.0623, loss_cls: 0.3722, acc: 89.1826, loss_bbox: 0.3247, loss: 0.8362, grad_norm: 2.3061\n",
      "2021-05-10 16:02:03,406 - mmdet - INFO - Epoch [6][600/655]\tlr: 2.000e-02, eta: 0:20:10, time: 0.300, data_time: 0.006, memory: 2099, loss_rpn_cls: 0.0658, loss_rpn_bbox: 0.0528, loss_cls: 0.3446, acc: 89.8945, loss_bbox: 0.3043, loss: 0.7675, grad_norm: 2.0209\n",
      "2021-05-10 16:02:18,377 - mmdet - INFO - Epoch [6][650/655]\tlr: 2.000e-02, eta: 0:19:54, time: 0.299, data_time: 0.005, memory: 2099, loss_rpn_cls: 0.0656, loss_rpn_bbox: 0.0584, loss_cls: 0.3568, acc: 89.7031, loss_bbox: 0.3274, loss: 0.8082, grad_norm: 2.2003\n",
      "2021-05-10 16:02:19,999 - mmdet - INFO - Saving checkpoint at 6 epochs\n"
     ]
    },
    {
     "name": "stdout",
     "output_type": "stream",
     "text": [
      "[>>>>>>>>>>>>>>>>>>>>>>>>>>>>>] 655/655, 23.5 task/s, elapsed: 28s, ETA:     0s"
     ]
    },
    {
     "name": "stderr",
     "output_type": "stream",
     "text": [
      "2021-05-10 16:02:49,108 - mmdet - INFO - Evaluating bbox...\n"
     ]
    },
    {
     "name": "stdout",
     "output_type": "stream",
     "text": [
      "Loading and preparing results...\n",
      "DONE (t=0.50s)\n",
      "creating index...\n",
      "index created!\n",
      "Running per image evaluation...\n",
      "Evaluate annotation type *bbox*\n",
      "DONE (t=4.38s).\n",
      "Accumulating evaluation results...\n"
     ]
    },
    {
     "name": "stderr",
     "output_type": "stream",
     "text": [
      "2021-05-10 16:02:54,869 - mmdet - INFO - Epoch(val) [6][655]\tbbox_mAP: 0.0960, bbox_mAP_50: 0.1780, bbox_mAP_75: 0.0950, bbox_mAP_s: 0.0280, bbox_mAP_m: 0.1010, bbox_mAP_l: 0.1700, bbox_mAP_copypaste: 0.096 0.178 0.095 0.028 0.101 0.170\n"
     ]
    },
    {
     "name": "stdout",
     "output_type": "stream",
     "text": [
      "DONE (t=0.80s).\n",
      "Average Precision  (AP) @[ IoU=0.50:0.95 | area=   all | maxDets=100 ] = 0.096\n",
      "Average Precision  (AP) @[ IoU=0.50      | area=   all | maxDets=1000 ] = 0.178\n",
      "Average Precision  (AP) @[ IoU=0.75      | area=   all | maxDets=1000 ] = 0.095\n",
      "Average Precision  (AP) @[ IoU=0.50:0.95 | area= small | maxDets=1000 ] = 0.028\n",
      "Average Precision  (AP) @[ IoU=0.50:0.95 | area=medium | maxDets=1000 ] = 0.101\n",
      "Average Precision  (AP) @[ IoU=0.50:0.95 | area= large | maxDets=1000 ] = 0.170\n",
      "Average Recall     (AR) @[ IoU=0.50:0.95 | area=   all | maxDets=100 ] = 0.236\n",
      "Average Recall     (AR) @[ IoU=0.50:0.95 | area=   all | maxDets=300 ] = 0.236\n",
      "Average Recall     (AR) @[ IoU=0.50:0.95 | area=   all | maxDets=1000 ] = 0.236\n",
      "Average Recall     (AR) @[ IoU=0.50:0.95 | area= small | maxDets=1000 ] = 0.085\n",
      "Average Recall     (AR) @[ IoU=0.50:0.95 | area=medium | maxDets=1000 ] = 0.230\n",
      "Average Recall     (AR) @[ IoU=0.50:0.95 | area= large | maxDets=1000 ] = 0.420\n"
     ]
    },
    {
     "name": "stderr",
     "output_type": "stream",
     "text": [
      "2021-05-10 16:03:12,080 - mmdet - INFO - Epoch [7][50/655]\tlr: 2.000e-02, eta: 0:19:38, time: 0.344, data_time: 0.049, memory: 2099, loss_rpn_cls: 0.0673, loss_rpn_bbox: 0.0576, loss_cls: 0.3600, acc: 89.3809, loss_bbox: 0.3201, loss: 0.8051, grad_norm: 2.2466\n",
      "2021-05-10 16:03:26,983 - mmdet - INFO - Epoch [7][100/655]\tlr: 2.000e-02, eta: 0:19:23, time: 0.298, data_time: 0.005, memory: 2099, loss_rpn_cls: 0.0580, loss_rpn_bbox: 0.0585, loss_cls: 0.3441, acc: 89.5703, loss_bbox: 0.3280, loss: 0.7887, grad_norm: 2.2095\n",
      "2021-05-10 16:03:41,805 - mmdet - INFO - Epoch [7][150/655]\tlr: 2.000e-02, eta: 0:19:07, time: 0.296, data_time: 0.005, memory: 2099, loss_rpn_cls: 0.0523, loss_rpn_bbox: 0.0471, loss_cls: 0.3166, acc: 90.5117, loss_bbox: 0.2870, loss: 0.7029, grad_norm: 2.2121\n",
      "2021-05-10 16:03:56,726 - mmdet - INFO - Epoch [7][200/655]\tlr: 2.000e-02, eta: 0:18:52, time: 0.298, data_time: 0.005, memory: 2099, loss_rpn_cls: 0.0572, loss_rpn_bbox: 0.0568, loss_cls: 0.3326, acc: 90.2520, loss_bbox: 0.3070, loss: 0.7536, grad_norm: 2.1032\n",
      "2021-05-10 16:04:12,738 - mmdet - INFO - Epoch [7][250/655]\tlr: 2.000e-02, eta: 0:18:37, time: 0.320, data_time: 0.006, memory: 2099, loss_rpn_cls: 0.0652, loss_rpn_bbox: 0.0581, loss_cls: 0.3410, acc: 89.7900, loss_bbox: 0.3142, loss: 0.7785, grad_norm: 2.2359\n",
      "2021-05-10 16:04:48,213 - mmdet - INFO - Epoch [7][300/655]\tlr: 2.000e-02, eta: 0:18:40, time: 0.709, data_time: 0.006, memory: 2099, loss_rpn_cls: 0.0624, loss_rpn_bbox: 0.0580, loss_cls: 0.3492, acc: 89.7480, loss_bbox: 0.3087, loss: 0.7783, grad_norm: 2.3056\n",
      "2021-05-10 16:05:23,214 - mmdet - INFO - Epoch [7][350/655]\tlr: 2.000e-02, eta: 0:18:41, time: 0.700, data_time: 0.006, memory: 2099, loss_rpn_cls: 0.0516, loss_rpn_bbox: 0.0507, loss_cls: 0.3307, acc: 89.6650, loss_bbox: 0.3237, loss: 0.7566, grad_norm: 2.1828\n",
      "2021-05-10 16:05:57,938 - mmdet - INFO - Epoch [7][400/655]\tlr: 2.000e-02, eta: 0:18:40, time: 0.695, data_time: 0.006, memory: 2099, loss_rpn_cls: 0.0609, loss_rpn_bbox: 0.0552, loss_cls: 0.3591, acc: 89.6855, loss_bbox: 0.3342, loss: 0.8093, grad_norm: 2.3439\n",
      "2021-05-10 16:06:33,071 - mmdet - INFO - Epoch [7][450/655]\tlr: 2.000e-02, eta: 0:18:40, time: 0.703, data_time: 0.006, memory: 2099, loss_rpn_cls: 0.0617, loss_rpn_bbox: 0.0542, loss_cls: 0.3218, acc: 90.7822, loss_bbox: 0.2879, loss: 0.7255, grad_norm: 2.2160\n",
      "2021-05-10 16:07:07,725 - mmdet - INFO - Epoch [7][500/655]\tlr: 2.000e-02, eta: 0:18:38, time: 0.693, data_time: 0.006, memory: 2099, loss_rpn_cls: 0.0660, loss_rpn_bbox: 0.0545, loss_cls: 0.3376, acc: 89.9014, loss_bbox: 0.3160, loss: 0.7742, grad_norm: 2.1975\n",
      "2021-05-10 16:07:42,930 - mmdet - INFO - Epoch [7][550/655]\tlr: 2.000e-02, eta: 0:18:36, time: 0.704, data_time: 0.006, memory: 2099, loss_rpn_cls: 0.0640, loss_rpn_bbox: 0.0567, loss_cls: 0.3366, acc: 90.1240, loss_bbox: 0.3129, loss: 0.7701, grad_norm: 2.2610\n",
      "2021-05-10 16:08:19,128 - mmdet - INFO - Epoch [7][600/655]\tlr: 2.000e-02, eta: 0:18:34, time: 0.724, data_time: 0.006, memory: 2099, loss_rpn_cls: 0.0598, loss_rpn_bbox: 0.0528, loss_cls: 0.3100, acc: 90.6738, loss_bbox: 0.3002, loss: 0.7228, grad_norm: 2.1952\n",
      "2021-05-10 16:08:50,573 - mmdet - INFO - Epoch [7][650/655]\tlr: 2.000e-02, eta: 0:18:28, time: 0.629, data_time: 0.006, memory: 2099, loss_rpn_cls: 0.0669, loss_rpn_bbox: 0.0598, loss_cls: 0.3605, acc: 89.0879, loss_bbox: 0.3447, loss: 0.8319, grad_norm: 2.3487\n",
      "2021-05-10 16:08:53,077 - mmdet - INFO - Saving checkpoint at 7 epochs\n"
     ]
    },
    {
     "name": "stdout",
     "output_type": "stream",
     "text": [
      "[>>>>>>>>>>>>>>>>>>>>>>>>>>>>>] 655/655, 15.7 task/s, elapsed: 42s, ETA:     0s"
     ]
    },
    {
     "name": "stderr",
     "output_type": "stream",
     "text": [
      "2021-05-10 16:09:36,696 - mmdet - INFO - Evaluating bbox...\n"
     ]
    },
    {
     "name": "stdout",
     "output_type": "stream",
     "text": [
      "Loading and preparing results...\n",
      "DONE (t=0.54s)\n",
      "creating index...\n",
      "index created!\n",
      "Running per image evaluation...\n",
      "Evaluate annotation type *bbox*\n",
      "DONE (t=6.37s).\n",
      "Accumulating evaluation results...\n"
     ]
    },
    {
     "name": "stderr",
     "output_type": "stream",
     "text": [
      "2021-05-10 16:09:44,660 - mmdet - INFO - Epoch(val) [7][655]\tbbox_mAP: 0.1050, bbox_mAP_50: 0.1950, bbox_mAP_75: 0.1050, bbox_mAP_s: 0.0200, bbox_mAP_m: 0.1030, bbox_mAP_l: 0.2030, bbox_mAP_copypaste: 0.105 0.195 0.105 0.020 0.103 0.203\n"
     ]
    },
    {
     "name": "stdout",
     "output_type": "stream",
     "text": [
      "DONE (t=0.98s).\n",
      "Average Precision  (AP) @[ IoU=0.50:0.95 | area=   all | maxDets=100 ] = 0.105\n",
      "Average Precision  (AP) @[ IoU=0.50      | area=   all | maxDets=1000 ] = 0.195\n",
      "Average Precision  (AP) @[ IoU=0.75      | area=   all | maxDets=1000 ] = 0.105\n",
      "Average Precision  (AP) @[ IoU=0.50:0.95 | area= small | maxDets=1000 ] = 0.020\n",
      "Average Precision  (AP) @[ IoU=0.50:0.95 | area=medium | maxDets=1000 ] = 0.103\n",
      "Average Precision  (AP) @[ IoU=0.50:0.95 | area= large | maxDets=1000 ] = 0.203\n",
      "Average Recall     (AR) @[ IoU=0.50:0.95 | area=   all | maxDets=100 ] = 0.238\n",
      "Average Recall     (AR) @[ IoU=0.50:0.95 | area=   all | maxDets=300 ] = 0.238\n",
      "Average Recall     (AR) @[ IoU=0.50:0.95 | area=   all | maxDets=1000 ] = 0.238\n",
      "Average Recall     (AR) @[ IoU=0.50:0.95 | area= small | maxDets=1000 ] = 0.077\n",
      "Average Recall     (AR) @[ IoU=0.50:0.95 | area=medium | maxDets=1000 ] = 0.223\n",
      "Average Recall     (AR) @[ IoU=0.50:0.95 | area= large | maxDets=1000 ] = 0.427\n"
     ]
    },
    {
     "name": "stderr",
     "output_type": "stream",
     "text": [
      "2021-05-10 16:10:21,919 - mmdet - INFO - Epoch [8][50/655]\tlr: 2.000e-02, eta: 0:18:22, time: 0.745, data_time: 0.049, memory: 2099, loss_rpn_cls: 0.0529, loss_rpn_bbox: 0.0537, loss_cls: 0.3318, acc: 90.0703, loss_bbox: 0.3200, loss: 0.7584, grad_norm: 2.1412\n",
      "2021-05-10 16:10:57,060 - mmdet - INFO - Epoch [8][100/655]\tlr: 2.000e-02, eta: 0:18:17, time: 0.703, data_time: 0.006, memory: 2099, loss_rpn_cls: 0.0527, loss_rpn_bbox: 0.0551, loss_cls: 0.3272, acc: 90.2393, loss_bbox: 0.3097, loss: 0.7447, grad_norm: 2.0602\n",
      "2021-05-10 16:11:32,089 - mmdet - INFO - Epoch [8][150/655]\tlr: 2.000e-02, eta: 0:18:12, time: 0.701, data_time: 0.006, memory: 2099, loss_rpn_cls: 0.0516, loss_rpn_bbox: 0.0531, loss_cls: 0.3395, acc: 89.9189, loss_bbox: 0.3094, loss: 0.7535, grad_norm: 2.2458\n",
      "2021-05-10 16:12:08,070 - mmdet - INFO - Epoch [8][200/655]\tlr: 2.000e-02, eta: 0:18:06, time: 0.720, data_time: 0.006, memory: 2099, loss_rpn_cls: 0.0500, loss_rpn_bbox: 0.0514, loss_cls: 0.3160, acc: 90.4287, loss_bbox: 0.3021, loss: 0.7194, grad_norm: 2.2366\n",
      "2021-05-10 16:12:43,903 - mmdet - INFO - Epoch [8][250/655]\tlr: 2.000e-02, eta: 0:18:00, time: 0.717, data_time: 0.006, memory: 2099, loss_rpn_cls: 0.0633, loss_rpn_bbox: 0.0570, loss_cls: 0.3572, acc: 89.2227, loss_bbox: 0.3236, loss: 0.8011, grad_norm: 2.2334\n",
      "2021-05-10 16:13:19,274 - mmdet - INFO - Epoch [8][300/655]\tlr: 2.000e-02, eta: 0:17:53, time: 0.707, data_time: 0.006, memory: 2099, loss_rpn_cls: 0.0564, loss_rpn_bbox: 0.0565, loss_cls: 0.3172, acc: 90.1074, loss_bbox: 0.3083, loss: 0.7384, grad_norm: 2.2322\n",
      "2021-05-10 16:13:54,997 - mmdet - INFO - Epoch [8][350/655]\tlr: 2.000e-02, eta: 0:17:45, time: 0.714, data_time: 0.006, memory: 2099, loss_rpn_cls: 0.0537, loss_rpn_bbox: 0.0505, loss_cls: 0.3254, acc: 90.2334, loss_bbox: 0.2982, loss: 0.7277, grad_norm: 2.2951\n",
      "2021-05-10 16:14:19,199 - mmdet - INFO - Epoch [8][400/655]\tlr: 2.000e-02, eta: 0:17:30, time: 0.484, data_time: 0.006, memory: 2099, loss_rpn_cls: 0.0594, loss_rpn_bbox: 0.0574, loss_cls: 0.3270, acc: 89.7988, loss_bbox: 0.3221, loss: 0.7659, grad_norm: 2.3574\n",
      "2021-05-10 16:14:41,725 - mmdet - INFO - Epoch [8][450/655]\tlr: 2.000e-02, eta: 0:17:14, time: 0.451, data_time: 0.006, memory: 2099, loss_rpn_cls: 0.0515, loss_rpn_bbox: 0.0553, loss_cls: 0.3131, acc: 90.4658, loss_bbox: 0.2894, loss: 0.7094, grad_norm: 2.1433\n",
      "2021-05-10 16:15:01,526 - mmdet - INFO - Epoch [8][500/655]\tlr: 2.000e-02, eta: 0:16:57, time: 0.396, data_time: 0.006, memory: 2099, loss_rpn_cls: 0.0594, loss_rpn_bbox: 0.0498, loss_cls: 0.3273, acc: 90.2637, loss_bbox: 0.2961, loss: 0.7326, grad_norm: 2.2245\n",
      "2021-05-10 16:15:36,972 - mmdet - INFO - Epoch [8][550/655]\tlr: 2.000e-02, eta: 0:16:48, time: 0.709, data_time: 0.006, memory: 2099, loss_rpn_cls: 0.0559, loss_rpn_bbox: 0.0514, loss_cls: 0.3096, acc: 90.7373, loss_bbox: 0.2945, loss: 0.7115, grad_norm: 2.1960\n",
      "2021-05-10 16:16:10,603 - mmdet - INFO - Epoch [8][600/655]\tlr: 2.000e-02, eta: 0:16:37, time: 0.673, data_time: 0.006, memory: 2099, loss_rpn_cls: 0.0523, loss_rpn_bbox: 0.0534, loss_cls: 0.3212, acc: 90.4346, loss_bbox: 0.3024, loss: 0.7292, grad_norm: 2.1102\n",
      "2021-05-10 16:16:46,019 - mmdet - INFO - Epoch [8][650/655]\tlr: 2.000e-02, eta: 0:16:27, time: 0.708, data_time: 0.006, memory: 2099, loss_rpn_cls: 0.0594, loss_rpn_bbox: 0.0551, loss_cls: 0.3293, acc: 90.2100, loss_bbox: 0.2980, loss: 0.7418, grad_norm: 2.3550\n",
      "2021-05-10 16:16:49,545 - mmdet - INFO - Saving checkpoint at 8 epochs\n"
     ]
    },
    {
     "name": "stdout",
     "output_type": "stream",
     "text": [
      "[>>>>>>>>>>>>>>>>>>>>>>>>>>>>>>] 655/655, 8.6 task/s, elapsed: 77s, ETA:     0s"
     ]
    },
    {
     "name": "stderr",
     "output_type": "stream",
     "text": [
      "2021-05-10 16:18:07,342 - mmdet - INFO - Evaluating bbox...\n"
     ]
    },
    {
     "name": "stdout",
     "output_type": "stream",
     "text": [
      "Loading and preparing results...\n",
      "DONE (t=0.56s)\n",
      "creating index...\n",
      "index created!\n",
      "Running per image evaluation...\n",
      "Evaluate annotation type *bbox*\n",
      "DONE (t=5.83s).\n",
      "Accumulating evaluation results...\n"
     ]
    },
    {
     "name": "stderr",
     "output_type": "stream",
     "text": [
      "2021-05-10 16:18:14,688 - mmdet - INFO - Epoch(val) [8][655]\tbbox_mAP: 0.1040, bbox_mAP_50: 0.1900, bbox_mAP_75: 0.1040, bbox_mAP_s: 0.0260, bbox_mAP_m: 0.0990, bbox_mAP_l: 0.1860, bbox_mAP_copypaste: 0.104 0.190 0.104 0.026 0.099 0.186\n"
     ]
    },
    {
     "name": "stdout",
     "output_type": "stream",
     "text": [
      "DONE (t=0.89s).\n",
      "Average Precision  (AP) @[ IoU=0.50:0.95 | area=   all | maxDets=100 ] = 0.104\n",
      "Average Precision  (AP) @[ IoU=0.50      | area=   all | maxDets=1000 ] = 0.190\n",
      "Average Precision  (AP) @[ IoU=0.75      | area=   all | maxDets=1000 ] = 0.104\n",
      "Average Precision  (AP) @[ IoU=0.50:0.95 | area= small | maxDets=1000 ] = 0.026\n",
      "Average Precision  (AP) @[ IoU=0.50:0.95 | area=medium | maxDets=1000 ] = 0.099\n",
      "Average Precision  (AP) @[ IoU=0.50:0.95 | area= large | maxDets=1000 ] = 0.186\n",
      "Average Recall     (AR) @[ IoU=0.50:0.95 | area=   all | maxDets=100 ] = 0.247\n",
      "Average Recall     (AR) @[ IoU=0.50:0.95 | area=   all | maxDets=300 ] = 0.247\n",
      "Average Recall     (AR) @[ IoU=0.50:0.95 | area=   all | maxDets=1000 ] = 0.247\n",
      "Average Recall     (AR) @[ IoU=0.50:0.95 | area= small | maxDets=1000 ] = 0.087\n",
      "Average Recall     (AR) @[ IoU=0.50:0.95 | area=medium | maxDets=1000 ] = 0.221\n",
      "Average Recall     (AR) @[ IoU=0.50:0.95 | area= large | maxDets=1000 ] = 0.428\n"
     ]
    },
    {
     "name": "stderr",
     "output_type": "stream",
     "text": [
      "2021-05-10 16:18:52,679 - mmdet - INFO - Epoch [9][50/655]\tlr: 2.000e-03, eta: 0:16:15, time: 0.760, data_time: 0.049, memory: 2099, loss_rpn_cls: 0.0395, loss_rpn_bbox: 0.0469, loss_cls: 0.3080, acc: 90.5176, loss_bbox: 0.2945, loss: 0.6888, grad_norm: 1.9434\n",
      "2021-05-10 16:19:22,931 - mmdet - INFO - Epoch [9][100/655]\tlr: 2.000e-03, eta: 0:16:01, time: 0.605, data_time: 0.006, memory: 2099, loss_rpn_cls: 0.0397, loss_rpn_bbox: 0.0510, loss_cls: 0.2947, acc: 90.5664, loss_bbox: 0.3050, loss: 0.6904, grad_norm: 1.8551\n",
      "2021-05-10 16:19:47,268 - mmdet - INFO - Epoch [9][150/655]\tlr: 2.000e-03, eta: 0:15:44, time: 0.487, data_time: 0.006, memory: 2099, loss_rpn_cls: 0.0379, loss_rpn_bbox: 0.0468, loss_cls: 0.2704, acc: 91.4688, loss_bbox: 0.2872, loss: 0.6423, grad_norm: 1.9492\n",
      "2021-05-10 16:20:05,117 - mmdet - INFO - Epoch [9][200/655]\tlr: 2.000e-03, eta: 0:15:25, time: 0.357, data_time: 0.006, memory: 2099, loss_rpn_cls: 0.0352, loss_rpn_bbox: 0.0441, loss_cls: 0.2811, acc: 91.0615, loss_bbox: 0.2933, loss: 0.6537, grad_norm: 1.8720\n",
      "2021-05-10 16:20:35,560 - mmdet - INFO - Epoch [9][250/655]\tlr: 2.000e-03, eta: 0:15:10, time: 0.609, data_time: 0.006, memory: 2099, loss_rpn_cls: 0.0375, loss_rpn_bbox: 0.0430, loss_cls: 0.2824, acc: 91.1162, loss_bbox: 0.2828, loss: 0.6456, grad_norm: 1.9851\n",
      "2021-05-10 16:21:11,565 - mmdet - INFO - Epoch [9][300/655]\tlr: 2.000e-03, eta: 0:14:58, time: 0.720, data_time: 0.006, memory: 2099, loss_rpn_cls: 0.0327, loss_rpn_bbox: 0.0468, loss_cls: 0.2712, acc: 91.2559, loss_bbox: 0.2862, loss: 0.6369, grad_norm: 1.9698\n",
      "2021-05-10 16:21:47,409 - mmdet - INFO - Epoch [9][350/655]\tlr: 2.000e-03, eta: 0:14:45, time: 0.717, data_time: 0.006, memory: 2099, loss_rpn_cls: 0.0433, loss_rpn_bbox: 0.0547, loss_cls: 0.3075, acc: 90.3867, loss_bbox: 0.3014, loss: 0.7070, grad_norm: 2.0467\n",
      "2021-05-10 16:22:21,899 - mmdet - INFO - Epoch [9][400/655]\tlr: 2.000e-03, eta: 0:14:32, time: 0.690, data_time: 0.006, memory: 2099, loss_rpn_cls: 0.0382, loss_rpn_bbox: 0.0458, loss_cls: 0.2685, acc: 91.4492, loss_bbox: 0.2711, loss: 0.6236, grad_norm: 1.9899\n",
      "2021-05-10 16:22:57,027 - mmdet - INFO - Epoch [9][450/655]\tlr: 2.000e-03, eta: 0:14:18, time: 0.702, data_time: 0.006, memory: 2099, loss_rpn_cls: 0.0323, loss_rpn_bbox: 0.0413, loss_cls: 0.2594, acc: 92.0146, loss_bbox: 0.2603, loss: 0.5933, grad_norm: 1.9399\n",
      "2021-05-10 16:23:32,777 - mmdet - INFO - Epoch [9][500/655]\tlr: 2.000e-03, eta: 0:14:04, time: 0.715, data_time: 0.006, memory: 2099, loss_rpn_cls: 0.0383, loss_rpn_bbox: 0.0447, loss_cls: 0.2809, acc: 91.2314, loss_bbox: 0.2733, loss: 0.6372, grad_norm: 2.0286\n",
      "2021-05-10 16:24:07,838 - mmdet - INFO - Epoch [9][550/655]\tlr: 2.000e-03, eta: 0:13:50, time: 0.701, data_time: 0.006, memory: 2099, loss_rpn_cls: 0.0304, loss_rpn_bbox: 0.0406, loss_cls: 0.2488, acc: 92.1523, loss_bbox: 0.2605, loss: 0.5803, grad_norm: 1.8724\n",
      "2021-05-10 16:24:42,497 - mmdet - INFO - Epoch [9][600/655]\tlr: 2.000e-03, eta: 0:13:35, time: 0.693, data_time: 0.006, memory: 2099, loss_rpn_cls: 0.0304, loss_rpn_bbox: 0.0389, loss_cls: 0.2528, acc: 92.0635, loss_bbox: 0.2569, loss: 0.5791, grad_norm: 1.9441\n",
      "2021-05-10 16:25:07,591 - mmdet - INFO - Epoch [9][650/655]\tlr: 2.000e-03, eta: 0:13:16, time: 0.502, data_time: 0.006, memory: 2099, loss_rpn_cls: 0.0327, loss_rpn_bbox: 0.0475, loss_cls: 0.2649, acc: 91.5723, loss_bbox: 0.2835, loss: 0.6286, grad_norm: 2.0608\n",
      "2021-05-10 16:25:10,111 - mmdet - INFO - Saving checkpoint at 9 epochs\n"
     ]
    },
    {
     "name": "stdout",
     "output_type": "stream",
     "text": [
      "[>>>>>>>>>>>>>>>>>>>>>>>>>>>>>] 655/655, 13.4 task/s, elapsed: 49s, ETA:     0s"
     ]
    },
    {
     "name": "stderr",
     "output_type": "stream",
     "text": [
      "2021-05-10 16:26:00,500 - mmdet - INFO - Evaluating bbox...\n"
     ]
    },
    {
     "name": "stdout",
     "output_type": "stream",
     "text": [
      "Loading and preparing results...\n",
      "DONE (t=0.50s)\n",
      "creating index...\n",
      "index created!\n",
      "Running per image evaluation...\n",
      "Evaluate annotation type *bbox*\n",
      "DONE (t=5.96s).\n",
      "Accumulating evaluation results...\n"
     ]
    },
    {
     "name": "stderr",
     "output_type": "stream",
     "text": [
      "2021-05-10 16:26:07,898 - mmdet - INFO - Epoch(val) [9][655]\tbbox_mAP: 0.1450, bbox_mAP_50: 0.2540, bbox_mAP_75: 0.1450, bbox_mAP_s: 0.0410, bbox_mAP_m: 0.1300, bbox_mAP_l: 0.2860, bbox_mAP_copypaste: 0.145 0.254 0.145 0.041 0.130 0.286\n"
     ]
    },
    {
     "name": "stdout",
     "output_type": "stream",
     "text": [
      "DONE (t=0.87s).\n",
      "Average Precision  (AP) @[ IoU=0.50:0.95 | area=   all | maxDets=100 ] = 0.145\n",
      "Average Precision  (AP) @[ IoU=0.50      | area=   all | maxDets=1000 ] = 0.254\n",
      "Average Precision  (AP) @[ IoU=0.75      | area=   all | maxDets=1000 ] = 0.145\n",
      "Average Precision  (AP) @[ IoU=0.50:0.95 | area= small | maxDets=1000 ] = 0.041\n",
      "Average Precision  (AP) @[ IoU=0.50:0.95 | area=medium | maxDets=1000 ] = 0.130\n",
      "Average Precision  (AP) @[ IoU=0.50:0.95 | area= large | maxDets=1000 ] = 0.286\n",
      "Average Recall     (AR) @[ IoU=0.50:0.95 | area=   all | maxDets=100 ] = 0.300\n",
      "Average Recall     (AR) @[ IoU=0.50:0.95 | area=   all | maxDets=300 ] = 0.300\n",
      "Average Recall     (AR) @[ IoU=0.50:0.95 | area=   all | maxDets=1000 ] = 0.300\n",
      "Average Recall     (AR) @[ IoU=0.50:0.95 | area= small | maxDets=1000 ] = 0.110\n",
      "Average Recall     (AR) @[ IoU=0.50:0.95 | area=medium | maxDets=1000 ] = 0.280\n",
      "Average Recall     (AR) @[ IoU=0.50:0.95 | area= large | maxDets=1000 ] = 0.539\n"
     ]
    },
    {
     "name": "stderr",
     "output_type": "stream",
     "text": [
      "2021-05-10 16:26:45,398 - mmdet - INFO - Epoch [10][50/655]\tlr: 2.000e-03, eta: 0:12:59, time: 0.750, data_time: 0.050, memory: 2099, loss_rpn_cls: 0.0304, loss_rpn_bbox: 0.0469, loss_cls: 0.2698, acc: 91.2832, loss_bbox: 0.2906, loss: 0.6378, grad_norm: 1.9604\n",
      "2021-05-10 16:27:20,916 - mmdet - INFO - Epoch [10][100/655]\tlr: 2.000e-03, eta: 0:12:43, time: 0.710, data_time: 0.006, memory: 2099, loss_rpn_cls: 0.0313, loss_rpn_bbox: 0.0434, loss_cls: 0.2546, acc: 91.9336, loss_bbox: 0.2675, loss: 0.5968, grad_norm: 1.9681\n",
      "2021-05-10 16:27:54,868 - mmdet - INFO - Epoch [10][150/655]\tlr: 2.000e-03, eta: 0:12:27, time: 0.679, data_time: 0.006, memory: 2099, loss_rpn_cls: 0.0285, loss_rpn_bbox: 0.0400, loss_cls: 0.2542, acc: 91.9092, loss_bbox: 0.2606, loss: 0.5834, grad_norm: 1.9743\n",
      "2021-05-10 16:28:30,053 - mmdet - INFO - Epoch [10][200/655]\tlr: 2.000e-03, eta: 0:12:10, time: 0.704, data_time: 0.006, memory: 2099, loss_rpn_cls: 0.0290, loss_rpn_bbox: 0.0447, loss_cls: 0.2555, acc: 92.0312, loss_bbox: 0.2743, loss: 0.6035, grad_norm: 1.9791\n",
      "2021-05-10 16:29:05,598 - mmdet - INFO - Epoch [10][250/655]\tlr: 2.000e-03, eta: 0:11:54, time: 0.711, data_time: 0.006, memory: 2099, loss_rpn_cls: 0.0305, loss_rpn_bbox: 0.0416, loss_cls: 0.2718, acc: 91.3496, loss_bbox: 0.2772, loss: 0.6211, grad_norm: 1.9684\n",
      "2021-05-10 16:29:40,917 - mmdet - INFO - Epoch [10][300/655]\tlr: 2.000e-03, eta: 0:11:37, time: 0.706, data_time: 0.006, memory: 2099, loss_rpn_cls: 0.0318, loss_rpn_bbox: 0.0464, loss_cls: 0.2576, acc: 91.7891, loss_bbox: 0.2786, loss: 0.6144, grad_norm: 1.9966\n",
      "2021-05-10 16:30:10,123 - mmdet - INFO - Epoch [10][350/655]\tlr: 2.000e-03, eta: 0:11:18, time: 0.584, data_time: 0.006, memory: 2099, loss_rpn_cls: 0.0345, loss_rpn_bbox: 0.0483, loss_cls: 0.2680, acc: 91.6865, loss_bbox: 0.2807, loss: 0.6315, grad_norm: 2.1067\n",
      "2021-05-10 16:30:34,409 - mmdet - INFO - Epoch [10][400/655]\tlr: 2.000e-03, eta: 0:10:58, time: 0.486, data_time: 0.007, memory: 2099, loss_rpn_cls: 0.0261, loss_rpn_bbox: 0.0377, loss_cls: 0.2452, acc: 92.1357, loss_bbox: 0.2497, loss: 0.5587, grad_norm: 1.9620\n",
      "2021-05-10 16:30:51,723 - mmdet - INFO - Epoch [10][450/655]\tlr: 2.000e-03, eta: 0:10:36, time: 0.346, data_time: 0.006, memory: 2099, loss_rpn_cls: 0.0283, loss_rpn_bbox: 0.0405, loss_cls: 0.2382, acc: 92.3994, loss_bbox: 0.2483, loss: 0.5554, grad_norm: 1.9638\n",
      "2021-05-10 16:31:23,727 - mmdet - INFO - Epoch [10][500/655]\tlr: 2.000e-03, eta: 0:10:17, time: 0.640, data_time: 0.006, memory: 2099, loss_rpn_cls: 0.0273, loss_rpn_bbox: 0.0400, loss_cls: 0.2573, acc: 91.7119, loss_bbox: 0.2728, loss: 0.5973, grad_norm: 2.0517\n",
      "2021-05-10 16:31:59,143 - mmdet - INFO - Epoch [10][550/655]\tlr: 2.000e-03, eta: 0:10:00, time: 0.708, data_time: 0.006, memory: 2099, loss_rpn_cls: 0.0271, loss_rpn_bbox: 0.0409, loss_cls: 0.2472, acc: 92.1123, loss_bbox: 0.2625, loss: 0.5778, grad_norm: 2.0647\n",
      "2021-05-10 16:32:33,959 - mmdet - INFO - Epoch [10][600/655]\tlr: 2.000e-03, eta: 0:09:41, time: 0.696, data_time: 0.006, memory: 2099, loss_rpn_cls: 0.0309, loss_rpn_bbox: 0.0433, loss_cls: 0.2416, acc: 92.2969, loss_bbox: 0.2567, loss: 0.5725, grad_norm: 2.0216\n",
      "2021-05-10 16:33:09,292 - mmdet - INFO - Epoch [10][650/655]\tlr: 2.000e-03, eta: 0:09:23, time: 0.707, data_time: 0.006, memory: 2099, loss_rpn_cls: 0.0330, loss_rpn_bbox: 0.0462, loss_cls: 0.2614, acc: 91.6143, loss_bbox: 0.2822, loss: 0.6228, grad_norm: 2.1230\n",
      "2021-05-10 16:33:13,071 - mmdet - INFO - Saving checkpoint at 10 epochs\n"
     ]
    },
    {
     "name": "stdout",
     "output_type": "stream",
     "text": [
      "[>>>>>>>>>>>>>>>>>>>>>>>>>>>>>>] 655/655, 8.5 task/s, elapsed: 77s, ETA:     0s"
     ]
    },
    {
     "name": "stderr",
     "output_type": "stream",
     "text": [
      "2021-05-10 16:34:33,037 - mmdet - INFO - Evaluating bbox...\n"
     ]
    },
    {
     "name": "stdout",
     "output_type": "stream",
     "text": [
      "Loading and preparing results...\n",
      "DONE (t=0.51s)\n",
      "creating index...\n",
      "index created!\n",
      "Running per image evaluation...\n",
      "Evaluate annotation type *bbox*\n",
      "DONE (t=5.63s).\n",
      "Accumulating evaluation results...\n"
     ]
    },
    {
     "name": "stderr",
     "output_type": "stream",
     "text": [
      "2021-05-10 16:34:40,155 - mmdet - INFO - Epoch(val) [10][655]\tbbox_mAP: 0.1470, bbox_mAP_50: 0.2550, bbox_mAP_75: 0.1430, bbox_mAP_s: 0.0360, bbox_mAP_m: 0.1350, bbox_mAP_l: 0.2860, bbox_mAP_copypaste: 0.147 0.255 0.143 0.036 0.135 0.286\n"
     ]
    },
    {
     "name": "stdout",
     "output_type": "stream",
     "text": [
      "DONE (t=0.89s).\n",
      "Average Precision  (AP) @[ IoU=0.50:0.95 | area=   all | maxDets=100 ] = 0.147\n",
      "Average Precision  (AP) @[ IoU=0.50      | area=   all | maxDets=1000 ] = 0.255\n",
      "Average Precision  (AP) @[ IoU=0.75      | area=   all | maxDets=1000 ] = 0.143\n",
      "Average Precision  (AP) @[ IoU=0.50:0.95 | area= small | maxDets=1000 ] = 0.036\n",
      "Average Precision  (AP) @[ IoU=0.50:0.95 | area=medium | maxDets=1000 ] = 0.135\n",
      "Average Precision  (AP) @[ IoU=0.50:0.95 | area= large | maxDets=1000 ] = 0.286\n",
      "Average Recall     (AR) @[ IoU=0.50:0.95 | area=   all | maxDets=100 ] = 0.300\n",
      "Average Recall     (AR) @[ IoU=0.50:0.95 | area=   all | maxDets=300 ] = 0.300\n",
      "Average Recall     (AR) @[ IoU=0.50:0.95 | area=   all | maxDets=1000 ] = 0.300\n",
      "Average Recall     (AR) @[ IoU=0.50:0.95 | area= small | maxDets=1000 ] = 0.105\n",
      "Average Recall     (AR) @[ IoU=0.50:0.95 | area=medium | maxDets=1000 ] = 0.282\n",
      "Average Recall     (AR) @[ IoU=0.50:0.95 | area= large | maxDets=1000 ] = 0.539\n"
     ]
    },
    {
     "name": "stderr",
     "output_type": "stream",
     "text": [
      "2021-05-10 16:35:15,148 - mmdet - INFO - Epoch [11][50/655]\tlr: 2.000e-03, eta: 0:09:01, time: 0.700, data_time: 0.050, memory: 2099, loss_rpn_cls: 0.0287, loss_rpn_bbox: 0.0434, loss_cls: 0.2588, acc: 91.6475, loss_bbox: 0.2794, loss: 0.6103, grad_norm: 2.0065\n",
      "2021-05-10 16:35:39,865 - mmdet - INFO - Epoch [11][100/655]\tlr: 2.000e-03, eta: 0:08:40, time: 0.494, data_time: 0.007, memory: 2099, loss_rpn_cls: 0.0242, loss_rpn_bbox: 0.0396, loss_cls: 0.2227, acc: 92.5908, loss_bbox: 0.2541, loss: 0.5406, grad_norm: 1.9074\n",
      "2021-05-10 16:35:59,488 - mmdet - INFO - Epoch [11][150/655]\tlr: 2.000e-03, eta: 0:08:19, time: 0.393, data_time: 0.006, memory: 2099, loss_rpn_cls: 0.0274, loss_rpn_bbox: 0.0420, loss_cls: 0.2388, acc: 92.3682, loss_bbox: 0.2404, loss: 0.5486, grad_norm: 1.9855\n",
      "2021-05-10 16:36:25,560 - mmdet - INFO - Epoch [11][200/655]\tlr: 2.000e-03, eta: 0:07:58, time: 0.521, data_time: 0.007, memory: 2099, loss_rpn_cls: 0.0259, loss_rpn_bbox: 0.0420, loss_cls: 0.2389, acc: 92.3330, loss_bbox: 0.2587, loss: 0.5655, grad_norm: 1.9447\n",
      "2021-05-10 16:37:01,122 - mmdet - INFO - Epoch [11][250/655]\tlr: 2.000e-03, eta: 0:07:38, time: 0.711, data_time: 0.006, memory: 2099, loss_rpn_cls: 0.0273, loss_rpn_bbox: 0.0449, loss_cls: 0.2464, acc: 91.9316, loss_bbox: 0.2744, loss: 0.5930, grad_norm: 1.9446\n",
      "2021-05-10 16:37:37,117 - mmdet - INFO - Epoch [11][300/655]\tlr: 2.000e-03, eta: 0:07:19, time: 0.720, data_time: 0.006, memory: 2099, loss_rpn_cls: 0.0232, loss_rpn_bbox: 0.0421, loss_cls: 0.2353, acc: 92.5947, loss_bbox: 0.2537, loss: 0.5543, grad_norm: 2.0019\n",
      "2021-05-10 16:38:12,214 - mmdet - INFO - Epoch [11][350/655]\tlr: 2.000e-03, eta: 0:06:59, time: 0.702, data_time: 0.006, memory: 2099, loss_rpn_cls: 0.0289, loss_rpn_bbox: 0.0427, loss_cls: 0.2530, acc: 91.8701, loss_bbox: 0.2681, loss: 0.5927, grad_norm: 2.1478\n",
      "2021-05-10 16:38:47,045 - mmdet - INFO - Epoch [11][400/655]\tlr: 2.000e-03, eta: 0:06:39, time: 0.697, data_time: 0.006, memory: 2099, loss_rpn_cls: 0.0277, loss_rpn_bbox: 0.0436, loss_cls: 0.2600, acc: 91.6777, loss_bbox: 0.2694, loss: 0.6007, grad_norm: 2.0698\n",
      "2021-05-10 16:39:21,959 - mmdet - INFO - Epoch [11][450/655]\tlr: 2.000e-03, eta: 0:06:19, time: 0.698, data_time: 0.006, memory: 2099, loss_rpn_cls: 0.0266, loss_rpn_bbox: 0.0387, loss_cls: 0.2449, acc: 92.1816, loss_bbox: 0.2487, loss: 0.5589, grad_norm: 2.0727\n",
      "2021-05-10 16:39:57,080 - mmdet - INFO - Epoch [11][500/655]\tlr: 2.000e-03, eta: 0:05:58, time: 0.703, data_time: 0.006, memory: 2099, loss_rpn_cls: 0.0233, loss_rpn_bbox: 0.0361, loss_cls: 0.2261, acc: 92.6914, loss_bbox: 0.2434, loss: 0.5289, grad_norm: 1.9851\n",
      "2021-05-10 16:40:32,607 - mmdet - INFO - Epoch [11][550/655]\tlr: 2.000e-03, eta: 0:05:37, time: 0.711, data_time: 0.006, memory: 2099, loss_rpn_cls: 0.0244, loss_rpn_bbox: 0.0402, loss_cls: 0.2439, acc: 92.2070, loss_bbox: 0.2678, loss: 0.5763, grad_norm: 2.1375\n",
      "2021-05-10 16:40:58,865 - mmdet - INFO - Epoch [11][600/655]\tlr: 2.000e-03, eta: 0:05:15, time: 0.525, data_time: 0.006, memory: 2099, loss_rpn_cls: 0.0272, loss_rpn_bbox: 0.0389, loss_cls: 0.2400, acc: 92.3799, loss_bbox: 0.2554, loss: 0.5616, grad_norm: 2.1772\n",
      "2021-05-10 16:41:22,517 - mmdet - INFO - Epoch [11][650/655]\tlr: 2.000e-03, eta: 0:04:53, time: 0.473, data_time: 0.007, memory: 2099, loss_rpn_cls: 0.0306, loss_rpn_bbox: 0.0512, loss_cls: 0.2630, acc: 91.3496, loss_bbox: 0.2952, loss: 0.6400, grad_norm: 2.2020\n",
      "2021-05-10 16:41:24,121 - mmdet - INFO - Saving checkpoint at 11 epochs\n"
     ]
    },
    {
     "name": "stdout",
     "output_type": "stream",
     "text": [
      "[>>>>>>>>>>>>>>>>>>>>>>>>>>>>>] 655/655, 10.8 task/s, elapsed: 61s, ETA:     0s"
     ]
    },
    {
     "name": "stderr",
     "output_type": "stream",
     "text": [
      "2021-05-10 16:42:28,012 - mmdet - INFO - Evaluating bbox...\n"
     ]
    },
    {
     "name": "stdout",
     "output_type": "stream",
     "text": [
      "Loading and preparing results...\n",
      "DONE (t=0.51s)\n",
      "creating index...\n",
      "index created!\n",
      "Running per image evaluation...\n",
      "Evaluate annotation type *bbox*\n",
      "DONE (t=5.13s).\n",
      "Accumulating evaluation results...\n"
     ]
    },
    {
     "name": "stderr",
     "output_type": "stream",
     "text": [
      "2021-05-10 16:42:34,502 - mmdet - INFO - Epoch(val) [11][655]\tbbox_mAP: 0.1520, bbox_mAP_50: 0.2660, bbox_mAP_75: 0.1520, bbox_mAP_s: 0.0380, bbox_mAP_m: 0.1320, bbox_mAP_l: 0.2960, bbox_mAP_copypaste: 0.152 0.266 0.152 0.038 0.132 0.296\n"
     ]
    },
    {
     "name": "stdout",
     "output_type": "stream",
     "text": [
      "DONE (t=0.78s).\n",
      "Average Precision  (AP) @[ IoU=0.50:0.95 | area=   all | maxDets=100 ] = 0.152\n",
      "Average Precision  (AP) @[ IoU=0.50      | area=   all | maxDets=1000 ] = 0.266\n",
      "Average Precision  (AP) @[ IoU=0.75      | area=   all | maxDets=1000 ] = 0.152\n",
      "Average Precision  (AP) @[ IoU=0.50:0.95 | area= small | maxDets=1000 ] = 0.038\n",
      "Average Precision  (AP) @[ IoU=0.50:0.95 | area=medium | maxDets=1000 ] = 0.132\n",
      "Average Precision  (AP) @[ IoU=0.50:0.95 | area= large | maxDets=1000 ] = 0.296\n",
      "Average Recall     (AR) @[ IoU=0.50:0.95 | area=   all | maxDets=100 ] = 0.292\n",
      "Average Recall     (AR) @[ IoU=0.50:0.95 | area=   all | maxDets=300 ] = 0.292\n",
      "Average Recall     (AR) @[ IoU=0.50:0.95 | area=   all | maxDets=1000 ] = 0.292\n",
      "Average Recall     (AR) @[ IoU=0.50:0.95 | area= small | maxDets=1000 ] = 0.105\n",
      "Average Recall     (AR) @[ IoU=0.50:0.95 | area=medium | maxDets=1000 ] = 0.273\n",
      "Average Recall     (AR) @[ IoU=0.50:0.95 | area= large | maxDets=1000 ] = 0.534\n"
     ]
    },
    {
     "name": "stderr",
     "output_type": "stream",
     "text": [
      "2021-05-10 16:43:11,698 - mmdet - INFO - Epoch [12][50/655]\tlr: 2.000e-04, eta: 0:04:30, time: 0.744, data_time: 0.049, memory: 2099, loss_rpn_cls: 0.0203, loss_rpn_bbox: 0.0371, loss_cls: 0.2275, acc: 92.6221, loss_bbox: 0.2492, loss: 0.5341, grad_norm: 1.9468\n",
      "2021-05-10 16:43:46,440 - mmdet - INFO - Epoch [12][100/655]\tlr: 2.000e-04, eta: 0:04:09, time: 0.695, data_time: 0.006, memory: 2099, loss_rpn_cls: 0.0249, loss_rpn_bbox: 0.0341, loss_cls: 0.2278, acc: 92.9805, loss_bbox: 0.2386, loss: 0.5255, grad_norm: 2.0533\n",
      "2021-05-10 16:44:22,638 - mmdet - INFO - Epoch [12][150/655]\tlr: 2.000e-04, eta: 0:03:47, time: 0.724, data_time: 0.006, memory: 2099, loss_rpn_cls: 0.0267, loss_rpn_bbox: 0.0501, loss_cls: 0.2602, acc: 91.5713, loss_bbox: 0.2927, loss: 0.6298, grad_norm: 2.0882\n",
      "2021-05-10 16:44:58,484 - mmdet - INFO - Epoch [12][200/655]\tlr: 2.000e-04, eta: 0:03:25, time: 0.717, data_time: 0.006, memory: 2099, loss_rpn_cls: 0.0245, loss_rpn_bbox: 0.0442, loss_cls: 0.2360, acc: 92.1748, loss_bbox: 0.2703, loss: 0.5751, grad_norm: 1.9643\n",
      "2021-05-10 16:45:33,719 - mmdet - INFO - Epoch [12][250/655]\tlr: 2.000e-04, eta: 0:03:03, time: 0.705, data_time: 0.006, memory: 2099, loss_rpn_cls: 0.0266, loss_rpn_bbox: 0.0414, loss_cls: 0.2344, acc: 92.3887, loss_bbox: 0.2560, loss: 0.5585, grad_norm: 1.9788\n",
      "2021-05-10 16:46:04,790 - mmdet - INFO - Epoch [12][300/655]\tlr: 2.000e-04, eta: 0:02:41, time: 0.621, data_time: 0.006, memory: 2099, loss_rpn_cls: 0.0263, loss_rpn_bbox: 0.0420, loss_cls: 0.2197, acc: 92.8760, loss_bbox: 0.2453, loss: 0.5332, grad_norm: 1.9876\n",
      "2021-05-10 16:46:29,525 - mmdet - INFO - Epoch [12][350/655]\tlr: 2.000e-04, eta: 0:02:18, time: 0.495, data_time: 0.006, memory: 2099, loss_rpn_cls: 0.0258, loss_rpn_bbox: 0.0396, loss_cls: 0.2429, acc: 92.3877, loss_bbox: 0.2494, loss: 0.5577, grad_norm: 2.0017\n",
      "2021-05-10 16:46:47,420 - mmdet - INFO - Epoch [12][400/655]\tlr: 2.000e-04, eta: 0:01:55, time: 0.358, data_time: 0.006, memory: 2099, loss_rpn_cls: 0.0228, loss_rpn_bbox: 0.0367, loss_cls: 0.2219, acc: 92.7832, loss_bbox: 0.2344, loss: 0.5158, grad_norm: 1.9659\n",
      "2021-05-10 16:47:18,824 - mmdet - INFO - Epoch [12][450/655]\tlr: 2.000e-04, eta: 0:01:33, time: 0.628, data_time: 0.006, memory: 2099, loss_rpn_cls: 0.0266, loss_rpn_bbox: 0.0432, loss_cls: 0.2391, acc: 92.2285, loss_bbox: 0.2650, loss: 0.5738, grad_norm: 2.0421\n",
      "2021-05-10 16:47:54,204 - mmdet - INFO - Epoch [12][500/655]\tlr: 2.000e-04, eta: 0:01:10, time: 0.708, data_time: 0.006, memory: 2099, loss_rpn_cls: 0.0213, loss_rpn_bbox: 0.0370, loss_cls: 0.2121, acc: 92.8135, loss_bbox: 0.2451, loss: 0.5156, grad_norm: 1.9978\n",
      "2021-05-10 16:48:29,418 - mmdet - INFO - Epoch [12][550/655]\tlr: 2.000e-04, eta: 0:00:48, time: 0.704, data_time: 0.006, memory: 2099, loss_rpn_cls: 0.0247, loss_rpn_bbox: 0.0452, loss_cls: 0.2385, acc: 92.0684, loss_bbox: 0.2771, loss: 0.5856, grad_norm: 1.9871\n",
      "2021-05-10 16:49:04,713 - mmdet - INFO - Epoch [12][600/655]\tlr: 2.000e-04, eta: 0:00:25, time: 0.706, data_time: 0.006, memory: 2099, loss_rpn_cls: 0.0284, loss_rpn_bbox: 0.0429, loss_cls: 0.2341, acc: 92.3242, loss_bbox: 0.2597, loss: 0.5652, grad_norm: 2.0601\n",
      "2021-05-10 16:49:39,340 - mmdet - INFO - Epoch [12][650/655]\tlr: 2.000e-04, eta: 0:00:02, time: 0.692, data_time: 0.006, memory: 2099, loss_rpn_cls: 0.0240, loss_rpn_bbox: 0.0372, loss_cls: 0.2124, acc: 93.2080, loss_bbox: 0.2355, loss: 0.5090, grad_norm: 1.9191\n",
      "2021-05-10 16:49:42,966 - mmdet - INFO - Saving checkpoint at 12 epochs\n"
     ]
    },
    {
     "name": "stdout",
     "output_type": "stream",
     "text": [
      "[>>>>>>>>>>>>>>>>>>>>>>>>>>>>>>] 655/655, 8.5 task/s, elapsed: 77s, ETA:     0s"
     ]
    },
    {
     "name": "stderr",
     "output_type": "stream",
     "text": [
      "2021-05-10 16:51:02,896 - mmdet - INFO - Evaluating bbox...\n"
     ]
    },
    {
     "name": "stdout",
     "output_type": "stream",
     "text": [
      "Loading and preparing results...\n",
      "DONE (t=0.50s)\n",
      "creating index...\n",
      "index created!\n",
      "Running per image evaluation...\n",
      "Evaluate annotation type *bbox*\n",
      "DONE (t=4.93s).\n",
      "Accumulating evaluation results...\n"
     ]
    },
    {
     "name": "stderr",
     "output_type": "stream",
     "text": [
      "2021-05-10 16:51:09,138 - mmdet - INFO - Epoch(val) [12][655]\tbbox_mAP: 0.1530, bbox_mAP_50: 0.2670, bbox_mAP_75: 0.1530, bbox_mAP_s: 0.0370, bbox_mAP_m: 0.1350, bbox_mAP_l: 0.3010, bbox_mAP_copypaste: 0.153 0.267 0.153 0.037 0.135 0.301\n"
     ]
    },
    {
     "name": "stdout",
     "output_type": "stream",
     "text": [
      "DONE (t=0.75s).\n",
      "Average Precision  (AP) @[ IoU=0.50:0.95 | area=   all | maxDets=100 ] = 0.153\n",
      "Average Precision  (AP) @[ IoU=0.50      | area=   all | maxDets=1000 ] = 0.267\n",
      "Average Precision  (AP) @[ IoU=0.75      | area=   all | maxDets=1000 ] = 0.153\n",
      "Average Precision  (AP) @[ IoU=0.50:0.95 | area= small | maxDets=1000 ] = 0.037\n",
      "Average Precision  (AP) @[ IoU=0.50:0.95 | area=medium | maxDets=1000 ] = 0.135\n",
      "Average Precision  (AP) @[ IoU=0.50:0.95 | area= large | maxDets=1000 ] = 0.301\n",
      "Average Recall     (AR) @[ IoU=0.50:0.95 | area=   all | maxDets=100 ] = 0.301\n",
      "Average Recall     (AR) @[ IoU=0.50:0.95 | area=   all | maxDets=300 ] = 0.301\n",
      "Average Recall     (AR) @[ IoU=0.50:0.95 | area=   all | maxDets=1000 ] = 0.301\n",
      "Average Recall     (AR) @[ IoU=0.50:0.95 | area= small | maxDets=1000 ] = 0.102\n",
      "Average Recall     (AR) @[ IoU=0.50:0.95 | area=medium | maxDets=1000 ] = 0.279\n",
      "Average Recall     (AR) @[ IoU=0.50:0.95 | area= large | maxDets=1000 ] = 0.541\n"
     ]
    }
   ],
   "source": [
    "train_detector(model, datasets[0], cfg, distributed=False, validate=True)"
   ]
  },
  {
   "cell_type": "code",
   "execution_count": null,
   "metadata": {},
   "outputs": [],
   "source": []
  }
 ],
 "metadata": {
  "kernelspec": {
   "display_name": "Python 3",
   "language": "python",
   "name": "python3"
  },
  "language_info": {
   "codemirror_mode": {
    "name": "ipython",
    "version": 3
   },
   "file_extension": ".py",
   "mimetype": "text/x-python",
   "name": "python",
   "nbconvert_exporter": "python",
   "pygments_lexer": "ipython3",
   "version": "3.7.7"
  },
  "pycharm": {
   "stem_cell": {
    "cell_type": "raw",
    "metadata": {
     "collapsed": false
    },
    "source": []
   }
  }
 },
 "nbformat": 4,
 "nbformat_minor": 4
}
