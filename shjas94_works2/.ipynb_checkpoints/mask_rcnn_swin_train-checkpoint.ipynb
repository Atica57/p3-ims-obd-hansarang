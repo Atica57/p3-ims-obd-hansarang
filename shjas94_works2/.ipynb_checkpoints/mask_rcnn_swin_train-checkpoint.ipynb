{
 "cells": [
  {
   "cell_type": "code",
   "execution_count": 25,
   "metadata": {
    "pycharm": {
     "name": "#%%\n"
    }
   },
   "outputs": [],
   "source": [
    "from mmcv import Config\n",
    "from mmdet.datasets import build_dataset\n",
    "from mmdet.models import build_detector\n",
    "from mmdet.apis import train_detector\n",
    "from mmdet.datasets import (build_dataloader, build_dataset,\n",
    "                            replace_ImageToTensor)"
   ]
  },
  {
   "cell_type": "code",
   "execution_count": 26,
   "metadata": {
    "pycharm": {
     "name": "#%%\n"
    }
   },
   "outputs": [],
   "source": [
    "classes = (\"UNKNOWN\", \"General trash\", \"Paper\", \"Paper pack\", \"Metal\", \"Glass\", \n",
    "           \"Plastic\", \"Styrofoam\", \"Plastic bag\", \"Battery\", \"Clothing\")\n",
    "# config file 들고오기\n",
    "cfg = Config.fromfile('./configs/yolo/yolov3_d53_mstrain-608_273e_coco.py')\n",
    "\n",
    "PREFIX = '../../input/data/'\n",
    "\n",
    "\n",
    "# dataset 바꾸기\n",
    "cfg.data.train.classes = classes\n",
    "cfg.data.train.img_prefix = PREFIX\n",
    "cfg.data.train.ann_file = PREFIX + 'train.json'\n",
    "# cfg.data.train.pipe line[2]['img_scale'] = (512, 512)\n",
    "\n",
    "cfg.data.val.classes = classes\n",
    "cfg.data.val.img_prefix = PREFIX\n",
    "cfg.data.val.ann_file = PREFIX + 'val.json'\n",
    "# cfg.data.val.pipeline[1]['img_scale'] = (512, 512)\n",
    "\n",
    "cfg.data.test.classes = classes\n",
    "cfg.data.test.img_prefix = PREFIX\n",
    "cfg.data.test.ann_file = PREFIX + 'test.json'\n",
    "# cfg.data.test.pipeline[1]['img_scale'] = (512, 512)\n",
    "\n",
    "cfg.data.samples_per_gpu = 4\n",
    "\n",
    "cfg.seed=41\n",
    "cfg.gpu_ids = [0]\n",
    "cfg.work_dir = './work_dirs/yolov3'\n",
    "\n",
    "cfg.runner.max_epochs = 20\n",
    "\n",
    "cfg.model.bbox_head.num_classes = 11\n",
    "\n",
    "\n",
    "# cfg.optimizer_config.grad_clip = dict(max_norm=35, norm_type=2)"
   ]
  },
  {
   "cell_type": "code",
   "execution_count": 27,
   "metadata": {
    "pycharm": {
     "name": "#%%\n"
    }
   },
   "outputs": [
    {
     "name": "stderr",
     "output_type": "stream",
     "text": [
      "2021-05-11 08:17:44,438 - mmdet - INFO - load model from: open-mmlab://darknet53\n"
     ]
    }
   ],
   "source": [
    "model = build_detector(cfg.model)"
   ]
  },
  {
   "cell_type": "code",
   "execution_count": 28,
   "metadata": {
    "pycharm": {
     "name": "#%%\n"
    }
   },
   "outputs": [
    {
     "name": "stdout",
     "output_type": "stream",
     "text": [
      "loading annotations into memory...\n",
      "Done (t=4.39s)\n",
      "creating index...\n",
      "index created!\n"
     ]
    }
   ],
   "source": [
    "datasets = [build_dataset(cfg.data.train)]"
   ]
  },
  {
   "cell_type": "code",
   "execution_count": null,
   "metadata": {
    "pycharm": {
     "name": "#%%\n"
    }
   },
   "outputs": [
    {
     "name": "stdout",
     "output_type": "stream",
     "text": [
      "loading annotations into memory...\n"
     ]
    },
    {
     "name": "stderr",
     "output_type": "stream",
     "text": [
      "2021-05-11 08:17:50,776 - mmdet - INFO - Start running, host: root@05a924235fca, work_dir: /opt/ml/code/mmdetection_trash/work_dirs/yolov3\n",
      "2021-05-11 08:17:50,777 - mmdet - INFO - workflow: [('train', 1)], max: 20 epochs\n"
     ]
    },
    {
     "name": "stdout",
     "output_type": "stream",
     "text": [
      "Done (t=1.47s)\n",
      "creating index...\n",
      "index created!\n"
     ]
    },
    {
     "name": "stderr",
     "output_type": "stream",
     "text": [
      "2021-05-11 08:18:06,320 - mmdet - INFO - Epoch [1][50/655]\tlr: 1.220e-04, eta: 1:07:34, time: 0.311, data_time: 0.059, memory: 4578, loss_cls: 254.3761, loss_conf: 21839.3349, loss_xy: 92.4724, loss_wh: 22.2516, loss: 22208.4348, grad_norm: 69171.9174\n",
      "2021-05-11 08:18:18,770 - mmdet - INFO - Epoch [1][100/655]\tlr: 1.445e-04, eta: 1:00:38, time: 0.249, data_time: 0.006, memory: 4578, loss_cls: 296.5140, loss_conf: 1903.1577, loss_xy: 109.1497, loss_wh: 23.4741, loss: 2332.2955, grad_norm: 14131.4119\n",
      "2021-05-11 08:18:30,747 - mmdet - INFO - Epoch [1][150/655]\tlr: 1.671e-04, eta: 0:57:30, time: 0.240, data_time: 0.005, memory: 4578, loss_cls: 254.9834, loss_conf: 482.9507, loss_xy: 98.8659, loss_wh: 17.8331, loss: 854.6332, grad_norm: 4709.2696\n",
      "2021-05-11 08:18:43,072 - mmdet - INFO - Epoch [1][200/655]\tlr: 1.895e-04, eta: 0:56:12, time: 0.246, data_time: 0.006, memory: 4578, loss_cls: 219.4548, loss_conf: 294.0394, loss_xy: 92.5376, loss_wh: 16.1768, loss: 622.2086, grad_norm: 2945.6502\n",
      "2021-05-11 08:18:55,388 - mmdet - INFO - Epoch [1][250/655]\tlr: 2.121e-04, eta: 0:55:20, time: 0.246, data_time: 0.006, memory: 4578, loss_cls: 192.9854, loss_conf: 244.3072, loss_xy: 95.6920, loss_wh: 15.2199, loss: 548.2045, grad_norm: 1974.4473\n",
      "2021-05-11 08:19:08,460 - mmdet - INFO - Epoch [1][300/655]\tlr: 2.345e-04, eta: 0:55:14, time: 0.261, data_time: 0.006, memory: 4578, loss_cls: 150.0583, loss_conf: 221.3637, loss_xy: 91.6926, loss_wh: 13.4782, loss: 476.5927, grad_norm: 1661.2325\n",
      "2021-05-11 08:19:20,862 - mmdet - INFO - Epoch [1][350/655]\tlr: 2.570e-04, eta: 0:54:41, time: 0.248, data_time: 0.005, memory: 4578, loss_cls: 136.6103, loss_conf: 214.7837, loss_xy: 92.7457, loss_wh: 13.2565, loss: 457.3962, grad_norm: 1637.0403\n",
      "2021-05-11 08:19:33,211 - mmdet - INFO - Epoch [1][400/655]\tlr: 2.795e-04, eta: 0:54:11, time: 0.247, data_time: 0.005, memory: 4578, loss_cls: 132.8808, loss_conf: 234.5620, loss_xy: 104.6492, loss_wh: 16.9428, loss: 489.0348, grad_norm: 1633.4319\n",
      "2021-05-11 08:19:45,606 - mmdet - INFO - Epoch [1][450/655]\tlr: 3.021e-04, eta: 0:53:47, time: 0.248, data_time: 0.006, memory: 4578, loss_cls: 106.0658, loss_conf: 203.9456, loss_xy: 90.7101, loss_wh: 12.6592, loss: 413.3807, grad_norm: 1374.5209\n",
      "2021-05-11 08:19:58,397 - mmdet - INFO - Epoch [1][500/655]\tlr: 3.246e-04, eta: 0:53:35, time: 0.256, data_time: 0.006, memory: 4578, loss_cls: 114.6045, loss_conf: 231.0935, loss_xy: 105.6222, loss_wh: 16.6192, loss: 467.9394, grad_norm: 1546.3957\n",
      "2021-05-11 08:20:11,449 - mmdet - INFO - Epoch [1][550/655]\tlr: 3.470e-04, eta: 0:53:29, time: 0.261, data_time: 0.006, memory: 4578, loss_cls: 101.1491, loss_conf: 216.1773, loss_xy: 98.9935, loss_wh: 14.4093, loss: 430.7292, grad_norm: 1565.1596\n",
      "2021-05-11 08:20:24,429 - mmdet - INFO - Epoch [1][600/655]\tlr: 3.695e-04, eta: 0:53:20, time: 0.260, data_time: 0.006, memory: 4578, loss_cls: 109.9735, loss_conf: 227.5461, loss_xy: 107.0118, loss_wh: 16.0282, loss: 460.5596, grad_norm: 1577.1808\n",
      "2021-05-11 08:20:37,265 - mmdet - INFO - Epoch [1][650/655]\tlr: 3.921e-04, eta: 0:53:08, time: 0.257, data_time: 0.006, memory: 4578, loss_cls: 107.8698, loss_conf: 223.9682, loss_xy: 103.9689, loss_wh: 16.3520, loss: 452.1589, grad_norm: 1446.2177\n",
      "2021-05-11 08:20:38,671 - mmdet - INFO - Saving checkpoint at 1 epochs\n"
     ]
    },
    {
     "name": "stdout",
     "output_type": "stream",
     "text": [
      "[>>>>>>>>>>>>>>>>>>>>>>>>>>>>>] 655/655, 26.9 task/s, elapsed: 24s, ETA:     0s"
     ]
    },
    {
     "name": "stderr",
     "output_type": "stream",
     "text": [
      "2021-05-11 08:21:07,217 - mmdet - INFO - Evaluating bbox...\n"
     ]
    },
    {
     "name": "stdout",
     "output_type": "stream",
     "text": [
      "Loading and preparing results...\n",
      "DONE (t=1.53s)\n",
      "creating index...\n",
      "index created!\n",
      "Running per image evaluation...\n",
      "Evaluate annotation type *bbox*\n",
      "DONE (t=5.59s).\n",
      "Accumulating evaluation results...\n"
     ]
    },
    {
     "name": "stderr",
     "output_type": "stream",
     "text": [
      "2021-05-11 08:21:15,794 - mmdet - INFO - Epoch(val) [1][655]\tbbox_mAP: 0.0010, bbox_mAP_50: 0.0040, bbox_mAP_75: 0.0000, bbox_mAP_s: 0.0020, bbox_mAP_m: 0.0040, bbox_mAP_l: 0.0010, bbox_mAP_copypaste: 0.001 0.004 0.000 0.002 0.004 0.001\n"
     ]
    },
    {
     "name": "stdout",
     "output_type": "stream",
     "text": [
      "DONE (t=1.33s).\n",
      "Average Precision  (AP) @[ IoU=0.50:0.95 | area=   all | maxDets=100 ] = 0.001\n",
      "Average Precision  (AP) @[ IoU=0.50      | area=   all | maxDets=1000 ] = 0.004\n",
      "Average Precision  (AP) @[ IoU=0.75      | area=   all | maxDets=1000 ] = 0.000\n",
      "Average Precision  (AP) @[ IoU=0.50:0.95 | area= small | maxDets=1000 ] = 0.002\n",
      "Average Precision  (AP) @[ IoU=0.50:0.95 | area=medium | maxDets=1000 ] = 0.004\n",
      "Average Precision  (AP) @[ IoU=0.50:0.95 | area= large | maxDets=1000 ] = 0.001\n",
      "Average Recall     (AR) @[ IoU=0.50:0.95 | area=   all | maxDets=100 ] = 0.021\n",
      "Average Recall     (AR) @[ IoU=0.50:0.95 | area=   all | maxDets=300 ] = 0.021\n",
      "Average Recall     (AR) @[ IoU=0.50:0.95 | area=   all | maxDets=1000 ] = 0.021\n",
      "Average Recall     (AR) @[ IoU=0.50:0.95 | area= small | maxDets=1000 ] = 0.007\n",
      "Average Recall     (AR) @[ IoU=0.50:0.95 | area=medium | maxDets=1000 ] = 0.026\n",
      "Average Recall     (AR) @[ IoU=0.50:0.95 | area= large | maxDets=1000 ] = 0.024\n"
     ]
    },
    {
     "name": "stderr",
     "output_type": "stream",
     "text": [
      "2021-05-11 08:21:30,710 - mmdet - INFO - Epoch [2][50/655]\tlr: 4.168e-04, eta: 0:53:09, time: 0.298, data_time: 0.056, memory: 4578, loss_cls: 105.4405, loss_conf: 228.8855, loss_xy: 106.8168, loss_wh: 19.1747, loss: 460.3175, grad_norm: 1500.4669\n",
      "2021-05-11 08:21:42,933 - mmdet - INFO - Epoch [2][100/655]\tlr: 4.393e-04, eta: 0:52:45, time: 0.244, data_time: 0.006, memory: 4578, loss_cls: 91.2447, loss_conf: 194.2040, loss_xy: 93.2137, loss_wh: 12.5370, loss: 391.1994, grad_norm: 1210.1068\n",
      "2021-05-11 08:21:55,277 - mmdet - INFO - Epoch [2][150/655]\tlr: 4.618e-04, eta: 0:52:25, time: 0.247, data_time: 0.006, memory: 4578, loss_cls: 101.7122, loss_conf: 223.7062, loss_xy: 107.0293, loss_wh: 14.3793, loss: 446.8270, grad_norm: 1497.4958\n",
      "2021-05-11 08:22:08,004 - mmdet - INFO - Epoch [2][200/655]\tlr: 4.843e-04, eta: 0:52:11, time: 0.255, data_time: 0.006, memory: 4578, loss_cls: 83.7565, loss_conf: 185.8657, loss_xy: 89.1746, loss_wh: 12.1899, loss: 370.9867, grad_norm: 1179.6289\n",
      "2021-05-11 08:22:20,327 - mmdet - INFO - Epoch [2][250/655]\tlr: 5.068e-04, eta: 0:51:52, time: 0.246, data_time: 0.005, memory: 4578, loss_cls: 108.8838, loss_conf: 237.1410, loss_xy: 114.8271, loss_wh: 15.8287, loss: 476.6807, grad_norm: 1492.7250\n",
      "2021-05-11 08:22:32,559 - mmdet - INFO - Epoch [2][300/655]\tlr: 5.293e-04, eta: 0:51:33, time: 0.245, data_time: 0.005, memory: 4578, loss_cls: 91.1965, loss_conf: 198.9256, loss_xy: 100.2400, loss_wh: 13.9896, loss: 404.3518, grad_norm: 1215.3378\n",
      "2021-05-11 08:22:44,923 - mmdet - INFO - Epoch [2][350/655]\tlr: 5.518e-04, eta: 0:51:16, time: 0.247, data_time: 0.005, memory: 4578, loss_cls: 100.1296, loss_conf: 210.8389, loss_xy: 105.5470, loss_wh: 15.0093, loss: 431.5249, grad_norm: 1425.7026\n",
      "2021-05-11 08:22:57,718 - mmdet - INFO - Epoch [2][400/655]\tlr: 5.743e-04, eta: 0:51:04, time: 0.256, data_time: 0.006, memory: 4578, loss_cls: 95.6982, loss_conf: 215.3659, loss_xy: 101.5202, loss_wh: 14.9321, loss: 427.5164, grad_norm: 1447.7106\n",
      "2021-05-11 08:23:10,577 - mmdet - INFO - Epoch [2][450/655]\tlr: 5.968e-04, eta: 0:50:52, time: 0.257, data_time: 0.006, memory: 4578, loss_cls: 80.6511, loss_conf: 177.0809, loss_xy: 84.3306, loss_wh: 12.1408, loss: 354.2034, grad_norm: 1167.4791\n",
      "2021-05-11 08:23:23,132 - mmdet - INFO - Epoch [2][500/655]\tlr: 6.193e-04, eta: 0:50:38, time: 0.251, data_time: 0.005, memory: 4578, loss_cls: 85.3923, loss_conf: 179.0373, loss_xy: 92.2765, loss_wh: 13.0463, loss: 369.7524, grad_norm: 1356.9545\n",
      "2021-05-11 08:23:35,444 - mmdet - INFO - Epoch [2][550/655]\tlr: 6.418e-04, eta: 0:50:21, time: 0.246, data_time: 0.006, memory: 4578, loss_cls: 80.1536, loss_conf: 180.6332, loss_xy: 87.2062, loss_wh: 13.2833, loss: 361.2763, grad_norm: 1218.2716\n",
      "2021-05-11 08:23:48,105 - mmdet - INFO - Epoch [2][600/655]\tlr: 6.643e-04, eta: 0:50:08, time: 0.253, data_time: 0.006, memory: 4578, loss_cls: 93.3128, loss_conf: 194.7004, loss_xy: 98.5242, loss_wh: 13.2493, loss: 399.7867, grad_norm: 1228.6350\n",
      "2021-05-11 08:24:00,474 - mmdet - INFO - Epoch [2][650/655]\tlr: 6.868e-04, eta: 0:49:52, time: 0.247, data_time: 0.006, memory: 4578, loss_cls: 98.2884, loss_conf: 209.1065, loss_xy: 105.1269, loss_wh: 14.6958, loss: 427.2176, grad_norm: 1328.5766\n",
      "2021-05-11 08:24:01,770 - mmdet - INFO - Saving checkpoint at 2 epochs\n"
     ]
    },
    {
     "name": "stdout",
     "output_type": "stream",
     "text": [
      "[>>>>>>>>>>>>>>>>>>>>>>>>>>>>>] 655/655, 26.0 task/s, elapsed: 25s, ETA:     0s"
     ]
    },
    {
     "name": "stderr",
     "output_type": "stream",
     "text": [
      "2021-05-11 08:24:31,995 - mmdet - INFO - Evaluating bbox...\n"
     ]
    },
    {
     "name": "stdout",
     "output_type": "stream",
     "text": [
      "Loading and preparing results...\n",
      "DONE (t=1.53s)\n",
      "creating index...\n",
      "index created!\n",
      "Running per image evaluation...\n",
      "Evaluate annotation type *bbox*\n",
      "DONE (t=7.22s).\n",
      "Accumulating evaluation results...\n"
     ]
    },
    {
     "name": "stderr",
     "output_type": "stream",
     "text": [
      "2021-05-11 08:24:42,501 - mmdet - INFO - Epoch(val) [2][655]\tbbox_mAP: 0.0010, bbox_mAP_50: 0.0060, bbox_mAP_75: 0.0000, bbox_mAP_s: 0.0040, bbox_mAP_m: 0.0010, bbox_mAP_l: 0.0030, bbox_mAP_copypaste: 0.001 0.006 0.000 0.004 0.001 0.003\n"
     ]
    },
    {
     "name": "stdout",
     "output_type": "stream",
     "text": [
      "DONE (t=1.65s).\n",
      "Average Precision  (AP) @[ IoU=0.50:0.95 | area=   all | maxDets=100 ] = 0.001\n",
      "Average Precision  (AP) @[ IoU=0.50      | area=   all | maxDets=1000 ] = 0.006\n",
      "Average Precision  (AP) @[ IoU=0.75      | area=   all | maxDets=1000 ] = 0.000\n",
      "Average Precision  (AP) @[ IoU=0.50:0.95 | area= small | maxDets=1000 ] = 0.004\n",
      "Average Precision  (AP) @[ IoU=0.50:0.95 | area=medium | maxDets=1000 ] = 0.001\n",
      "Average Precision  (AP) @[ IoU=0.50:0.95 | area= large | maxDets=1000 ] = 0.003\n",
      "Average Recall     (AR) @[ IoU=0.50:0.95 | area=   all | maxDets=100 ] = 0.021\n",
      "Average Recall     (AR) @[ IoU=0.50:0.95 | area=   all | maxDets=300 ] = 0.021\n",
      "Average Recall     (AR) @[ IoU=0.50:0.95 | area=   all | maxDets=1000 ] = 0.021\n",
      "Average Recall     (AR) @[ IoU=0.50:0.95 | area= small | maxDets=1000 ] = 0.005\n",
      "Average Recall     (AR) @[ IoU=0.50:0.95 | area=medium | maxDets=1000 ] = 0.021\n",
      "Average Recall     (AR) @[ IoU=0.50:0.95 | area= large | maxDets=1000 ] = 0.037\n"
     ]
    },
    {
     "name": "stderr",
     "output_type": "stream",
     "text": [
      "2021-05-11 08:24:58,313 - mmdet - INFO - Epoch [3][50/655]\tlr: 7.115e-04, eta: 0:49:54, time: 0.316, data_time: 0.055, memory: 4578, loss_cls: 90.1062, loss_conf: 181.9915, loss_xy: 92.1457, loss_wh: 13.4525, loss: 377.6959, grad_norm: 1304.8104\n",
      "2021-05-11 08:25:11,180 - mmdet - INFO - Epoch [3][100/655]\tlr: 7.340e-04, eta: 0:49:43, time: 0.257, data_time: 0.006, memory: 4578, loss_cls: 76.4380, loss_conf: 158.4333, loss_xy: 77.8274, loss_wh: 11.1311, loss: 323.8298, grad_norm: 1017.4221\n",
      "2021-05-11 08:25:23,082 - mmdet - INFO - Epoch [3][150/655]\tlr: 7.566e-04, eta: 0:49:23, time: 0.238, data_time: 0.005, memory: 4578, loss_cls: 97.2789, loss_conf: 204.4736, loss_xy: 103.7035, loss_wh: 13.2835, loss: 418.7394, grad_norm: 1328.0944\n",
      "2021-05-11 08:25:35,263 - mmdet - INFO - Epoch [3][200/655]\tlr: 7.790e-04, eta: 0:49:06, time: 0.244, data_time: 0.005, memory: 4578, loss_cls: 95.6565, loss_conf: 190.9282, loss_xy: 99.7984, loss_wh: 13.0338, loss: 399.4169, grad_norm: 1213.5894\n",
      "2021-05-11 08:25:47,875 - mmdet - INFO - Epoch [3][250/655]\tlr: 8.016e-04, eta: 0:48:53, time: 0.252, data_time: 0.006, memory: 4578, loss_cls: 90.9041, loss_conf: 185.3892, loss_xy: 96.0356, loss_wh: 11.2862, loss: 383.6151, grad_norm: 1115.6839\n",
      "2021-05-11 08:26:00,687 - mmdet - INFO - Epoch [3][300/655]\tlr: 8.240e-04, eta: 0:48:41, time: 0.256, data_time: 0.006, memory: 4578, loss_cls: 93.4514, loss_conf: 189.7253, loss_xy: 98.1514, loss_wh: 12.8231, loss: 394.1513, grad_norm: 1145.8010\n",
      "2021-05-11 08:26:13,062 - mmdet - INFO - Epoch [3][350/655]\tlr: 8.466e-04, eta: 0:48:26, time: 0.248, data_time: 0.006, memory: 4578, loss_cls: 96.0271, loss_conf: 201.4545, loss_xy: 99.8982, loss_wh: 13.8281, loss: 411.2079, grad_norm: 1152.9528\n",
      "2021-05-11 08:26:25,379 - mmdet - INFO - Epoch [3][400/655]\tlr: 8.691e-04, eta: 0:48:10, time: 0.246, data_time: 0.006, memory: 4578, loss_cls: 79.2406, loss_conf: 165.9386, loss_xy: 85.4886, loss_wh: 14.0030, loss: 344.6707, grad_norm: 1061.6806\n",
      "2021-05-11 08:26:37,871 - mmdet - INFO - Epoch [3][450/655]\tlr: 8.915e-04, eta: 0:47:56, time: 0.250, data_time: 0.005, memory: 4578, loss_cls: 91.8987, loss_conf: 193.3580, loss_xy: 99.1778, loss_wh: 13.3466, loss: 397.7812, grad_norm: 1115.5926\n",
      "2021-05-11 08:26:50,312 - mmdet - INFO - Epoch [3][500/655]\tlr: 9.141e-04, eta: 0:47:42, time: 0.249, data_time: 0.005, memory: 4578, loss_cls: 91.3570, loss_conf: 195.5705, loss_xy: 99.4051, loss_wh: 13.7126, loss: 400.0451, grad_norm: 1085.2361\n",
      "2021-05-11 08:27:03,062 - mmdet - INFO - Epoch [3][550/655]\tlr: 9.365e-04, eta: 0:47:30, time: 0.255, data_time: 0.006, memory: 4578, loss_cls: 91.9361, loss_conf: 190.3048, loss_xy: 102.8394, loss_wh: 14.3439, loss: 399.4241, grad_norm: 1160.3267\n",
      "2021-05-11 08:27:15,388 - mmdet - INFO - Epoch [3][600/655]\tlr: 9.591e-04, eta: 0:47:15, time: 0.246, data_time: 0.006, memory: 4578, loss_cls: 86.1729, loss_conf: 184.7769, loss_xy: 94.1242, loss_wh: 13.0022, loss: 378.0761, grad_norm: 1186.3119\n",
      "2021-05-11 08:27:27,270 - mmdet - INFO - Epoch [3][650/655]\tlr: 9.816e-04, eta: 0:46:58, time: 0.238, data_time: 0.005, memory: 4578, loss_cls: 84.2354, loss_conf: 176.4346, loss_xy: 92.4377, loss_wh: 11.2780, loss: 364.3857, grad_norm: 1122.2915\n",
      "2021-05-11 08:27:28,548 - mmdet - INFO - Saving checkpoint at 3 epochs\n"
     ]
    },
    {
     "name": "stdout",
     "output_type": "stream",
     "text": [
      "[>>>>>>>>>>>>>>>>>>>>>>>>>>>>>] 655/655, 27.5 task/s, elapsed: 24s, ETA:     0s"
     ]
    },
    {
     "name": "stderr",
     "output_type": "stream",
     "text": [
      "2021-05-11 08:27:56,990 - mmdet - INFO - Evaluating bbox...\n"
     ]
    },
    {
     "name": "stdout",
     "output_type": "stream",
     "text": [
      "Loading and preparing results...\n",
      "DONE (t=1.59s)\n",
      "creating index...\n",
      "index created!\n",
      "Running per image evaluation...\n",
      "Evaluate annotation type *bbox*\n",
      "DONE (t=5.97s).\n",
      "Accumulating evaluation results...\n"
     ]
    },
    {
     "name": "stderr",
     "output_type": "stream",
     "text": [
      "2021-05-11 08:28:06,244 - mmdet - INFO - Epoch(val) [3][655]\tbbox_mAP: 0.0070, bbox_mAP_50: 0.0250, bbox_mAP_75: 0.0020, bbox_mAP_s: 0.0040, bbox_mAP_m: 0.0060, bbox_mAP_l: 0.0110, bbox_mAP_copypaste: 0.007 0.025 0.002 0.004 0.006 0.011\n"
     ]
    },
    {
     "name": "stdout",
     "output_type": "stream",
     "text": [
      "DONE (t=1.57s).\n",
      "Average Precision  (AP) @[ IoU=0.50:0.95 | area=   all | maxDets=100 ] = 0.007\n",
      "Average Precision  (AP) @[ IoU=0.50      | area=   all | maxDets=1000 ] = 0.025\n",
      "Average Precision  (AP) @[ IoU=0.75      | area=   all | maxDets=1000 ] = 0.002\n",
      "Average Precision  (AP) @[ IoU=0.50:0.95 | area= small | maxDets=1000 ] = 0.004\n",
      "Average Precision  (AP) @[ IoU=0.50:0.95 | area=medium | maxDets=1000 ] = 0.006\n",
      "Average Precision  (AP) @[ IoU=0.50:0.95 | area= large | maxDets=1000 ] = 0.011\n",
      "Average Recall     (AR) @[ IoU=0.50:0.95 | area=   all | maxDets=100 ] = 0.056\n",
      "Average Recall     (AR) @[ IoU=0.50:0.95 | area=   all | maxDets=300 ] = 0.056\n",
      "Average Recall     (AR) @[ IoU=0.50:0.95 | area=   all | maxDets=1000 ] = 0.056\n",
      "Average Recall     (AR) @[ IoU=0.50:0.95 | area= small | maxDets=1000 ] = 0.016\n",
      "Average Recall     (AR) @[ IoU=0.50:0.95 | area=medium | maxDets=1000 ] = 0.050\n",
      "Average Recall     (AR) @[ IoU=0.50:0.95 | area= large | maxDets=1000 ] = 0.108\n"
     ]
    },
    {
     "name": "stderr",
     "output_type": "stream",
     "text": [
      "2021-05-11 08:28:21,487 - mmdet - INFO - Epoch [4][50/655]\tlr: 1.000e-03, eta: 0:46:51, time: 0.305, data_time: 0.054, memory: 4578, loss_cls: 89.1789, loss_conf: 178.1720, loss_xy: 95.3903, loss_wh: 12.0672, loss: 374.8084, grad_norm: 982.7297\n",
      "2021-05-11 08:28:34,155 - mmdet - INFO - Epoch [4][100/655]\tlr: 1.000e-03, eta: 0:46:39, time: 0.253, data_time: 0.006, memory: 4578, loss_cls: 82.3157, loss_conf: 170.5095, loss_xy: 92.2008, loss_wh: 13.0179, loss: 358.0440, grad_norm: 988.7030\n",
      "2021-05-11 08:28:46,827 - mmdet - INFO - Epoch [4][150/655]\tlr: 1.000e-03, eta: 0:46:26, time: 0.253, data_time: 0.005, memory: 4578, loss_cls: 88.3702, loss_conf: 186.4880, loss_xy: 100.6086, loss_wh: 12.7100, loss: 388.1768, grad_norm: 1005.6222\n",
      "2021-05-11 08:28:59,108 - mmdet - INFO - Epoch [4][200/655]\tlr: 1.000e-03, eta: 0:46:11, time: 0.246, data_time: 0.005, memory: 4578, loss_cls: 85.2400, loss_conf: 187.9833, loss_xy: 98.8955, loss_wh: 12.8093, loss: 384.9280, grad_norm: 1039.6540\n",
      "2021-05-11 08:29:11,592 - mmdet - INFO - Epoch [4][250/655]\tlr: 1.000e-03, eta: 0:45:58, time: 0.250, data_time: 0.006, memory: 4578, loss_cls: 96.2073, loss_conf: 189.4428, loss_xy: 98.8593, loss_wh: 14.2028, loss: 398.7122, grad_norm: 1056.0918\n",
      "2021-05-11 08:29:23,659 - mmdet - INFO - Epoch [4][300/655]\tlr: 1.000e-03, eta: 0:45:42, time: 0.241, data_time: 0.005, memory: 4578, loss_cls: 79.9446, loss_conf: 166.3279, loss_xy: 88.4462, loss_wh: 12.5057, loss: 347.2244, grad_norm: 895.5488\n",
      "2021-05-11 08:29:36,286 - mmdet - INFO - Epoch [4][350/655]\tlr: 1.000e-03, eta: 0:45:29, time: 0.253, data_time: 0.006, memory: 4578, loss_cls: 83.5355, loss_conf: 169.8293, loss_xy: 90.0299, loss_wh: 11.0931, loss: 354.4879, grad_norm: 913.2332\n",
      "2021-05-11 08:29:48,394 - mmdet - INFO - Epoch [4][400/655]\tlr: 1.000e-03, eta: 0:45:14, time: 0.242, data_time: 0.005, memory: 4578, loss_cls: 84.3644, loss_conf: 176.7897, loss_xy: 95.2367, loss_wh: 14.0672, loss: 370.4580, grad_norm: 1048.9583\n",
      "2021-05-11 08:30:01,403 - mmdet - INFO - Epoch [4][450/655]\tlr: 1.000e-03, eta: 0:45:03, time: 0.260, data_time: 0.006, memory: 4578, loss_cls: 94.7539, loss_conf: 200.7590, loss_xy: 108.3817, loss_wh: 13.8994, loss: 417.7939, grad_norm: 1040.7513\n",
      "2021-05-11 08:30:14,181 - mmdet - INFO - Epoch [4][500/655]\tlr: 1.000e-03, eta: 0:44:51, time: 0.256, data_time: 0.006, memory: 4578, loss_cls: 101.4721, loss_conf: 202.3955, loss_xy: 108.9380, loss_wh: 16.0993, loss: 428.9049, grad_norm: 1052.7262\n",
      "2021-05-11 08:30:27,079 - mmdet - INFO - Epoch [4][550/655]\tlr: 1.000e-03, eta: 0:44:39, time: 0.258, data_time: 0.006, memory: 4578, loss_cls: 77.6260, loss_conf: 166.9401, loss_xy: 89.5150, loss_wh: 11.0246, loss: 345.1058, grad_norm: 907.3392\n",
      "2021-05-11 08:30:39,699 - mmdet - INFO - Epoch [4][600/655]\tlr: 1.000e-03, eta: 0:44:26, time: 0.252, data_time: 0.006, memory: 4578, loss_cls: 79.4197, loss_conf: 168.4269, loss_xy: 86.2717, loss_wh: 10.1620, loss: 344.2803, grad_norm: 879.8893\n",
      "2021-05-11 08:30:52,125 - mmdet - INFO - Epoch [4][650/655]\tlr: 1.000e-03, eta: 0:44:13, time: 0.249, data_time: 0.006, memory: 4578, loss_cls: 74.3135, loss_conf: 161.2980, loss_xy: 87.5274, loss_wh: 11.2183, loss: 334.3571, grad_norm: 903.9084\n",
      "2021-05-11 08:30:53,387 - mmdet - INFO - Saving checkpoint at 4 epochs\n"
     ]
    },
    {
     "name": "stdout",
     "output_type": "stream",
     "text": [
      "[>>>>>>>>>>>>>>>>>>>>>>>>>>>>>] 655/655, 26.8 task/s, elapsed: 24s, ETA:     0s"
     ]
    },
    {
     "name": "stderr",
     "output_type": "stream",
     "text": [
      "2021-05-11 08:31:22,989 - mmdet - INFO - Evaluating bbox...\n"
     ]
    },
    {
     "name": "stdout",
     "output_type": "stream",
     "text": [
      "Loading and preparing results...\n",
      "DONE (t=0.85s)\n",
      "creating index...\n",
      "index created!\n",
      "Running per image evaluation...\n",
      "Evaluate annotation type *bbox*\n",
      "DONE (t=5.91s).\n",
      "Accumulating evaluation results...\n"
     ]
    },
    {
     "name": "stderr",
     "output_type": "stream",
     "text": [
      "2021-05-11 08:31:31,269 - mmdet - INFO - Epoch(val) [4][655]\tbbox_mAP: 0.0160, bbox_mAP_50: 0.0430, bbox_mAP_75: 0.0090, bbox_mAP_s: 0.0020, bbox_mAP_m: 0.0130, bbox_mAP_l: 0.0280, bbox_mAP_copypaste: 0.016 0.043 0.009 0.002 0.013 0.028\n"
     ]
    },
    {
     "name": "stdout",
     "output_type": "stream",
     "text": [
      "DONE (t=1.40s).\n",
      "Average Precision  (AP) @[ IoU=0.50:0.95 | area=   all | maxDets=100 ] = 0.016\n",
      "Average Precision  (AP) @[ IoU=0.50      | area=   all | maxDets=1000 ] = 0.043\n",
      "Average Precision  (AP) @[ IoU=0.75      | area=   all | maxDets=1000 ] = 0.009\n",
      "Average Precision  (AP) @[ IoU=0.50:0.95 | area= small | maxDets=1000 ] = 0.002\n",
      "Average Precision  (AP) @[ IoU=0.50:0.95 | area=medium | maxDets=1000 ] = 0.013\n",
      "Average Precision  (AP) @[ IoU=0.50:0.95 | area= large | maxDets=1000 ] = 0.028\n",
      "Average Recall     (AR) @[ IoU=0.50:0.95 | area=   all | maxDets=100 ] = 0.077\n",
      "Average Recall     (AR) @[ IoU=0.50:0.95 | area=   all | maxDets=300 ] = 0.077\n",
      "Average Recall     (AR) @[ IoU=0.50:0.95 | area=   all | maxDets=1000 ] = 0.077\n",
      "Average Recall     (AR) @[ IoU=0.50:0.95 | area= small | maxDets=1000 ] = 0.016\n",
      "Average Recall     (AR) @[ IoU=0.50:0.95 | area=medium | maxDets=1000 ] = 0.066\n",
      "Average Recall     (AR) @[ IoU=0.50:0.95 | area= large | maxDets=1000 ] = 0.158\n"
     ]
    },
    {
     "name": "stderr",
     "output_type": "stream",
     "text": [
      "2021-05-11 08:31:46,463 - mmdet - INFO - Epoch [5][50/655]\tlr: 1.000e-03, eta: 0:44:04, time: 0.304, data_time: 0.055, memory: 4578, loss_cls: 76.1778, loss_conf: 164.4650, loss_xy: 86.9840, loss_wh: 11.7403, loss: 339.3671, grad_norm: 891.1783\n",
      "2021-05-11 08:31:58,883 - mmdet - INFO - Epoch [5][100/655]\tlr: 1.000e-03, eta: 0:43:50, time: 0.248, data_time: 0.005, memory: 4578, loss_cls: 72.4900, loss_conf: 157.5073, loss_xy: 85.4432, loss_wh: 10.7097, loss: 326.1502, grad_norm: 892.7167\n",
      "2021-05-11 08:32:11,306 - mmdet - INFO - Epoch [5][150/655]\tlr: 1.000e-03, eta: 0:43:37, time: 0.248, data_time: 0.005, memory: 4578, loss_cls: 83.0892, loss_conf: 169.2182, loss_xy: 95.1205, loss_wh: 9.6549, loss: 357.0828, grad_norm: 909.5977\n",
      "2021-05-11 08:32:23,932 - mmdet - INFO - Epoch [5][200/655]\tlr: 1.000e-03, eta: 0:43:24, time: 0.253, data_time: 0.006, memory: 4578, loss_cls: 82.0901, loss_conf: 172.2031, loss_xy: 94.9270, loss_wh: 10.8357, loss: 360.0559, grad_norm: 889.3595\n",
      "2021-05-11 08:32:36,763 - mmdet - INFO - Epoch [5][250/655]\tlr: 1.000e-03, eta: 0:43:12, time: 0.257, data_time: 0.006, memory: 4578, loss_cls: 79.3432, loss_conf: 176.6291, loss_xy: 94.3033, loss_wh: 11.4376, loss: 361.7132, grad_norm: 951.8976\n",
      "2021-05-11 08:32:49,850 - mmdet - INFO - Epoch [5][300/655]\tlr: 1.000e-03, eta: 0:43:01, time: 0.262, data_time: 0.006, memory: 4578, loss_cls: 77.1901, loss_conf: 164.3509, loss_xy: 91.4760, loss_wh: 11.2844, loss: 344.3014, grad_norm: 862.5627\n",
      "2021-05-11 08:33:02,767 - mmdet - INFO - Epoch [5][350/655]\tlr: 1.000e-03, eta: 0:42:49, time: 0.258, data_time: 0.006, memory: 4578, loss_cls: 78.4958, loss_conf: 161.0596, loss_xy: 89.4580, loss_wh: 11.4109, loss: 340.4244, grad_norm: 950.9080\n",
      "2021-05-11 08:33:15,033 - mmdet - INFO - Epoch [5][400/655]\tlr: 1.000e-03, eta: 0:42:35, time: 0.245, data_time: 0.006, memory: 4578, loss_cls: 88.9501, loss_conf: 182.1147, loss_xy: 102.0144, loss_wh: 11.3517, loss: 384.4309, grad_norm: 901.8305\n",
      "2021-05-11 08:33:27,995 - mmdet - INFO - Epoch [5][450/655]\tlr: 1.000e-03, eta: 0:42:23, time: 0.259, data_time: 0.006, memory: 4578, loss_cls: 81.0947, loss_conf: 168.6505, loss_xy: 94.8450, loss_wh: 11.0142, loss: 355.6044, grad_norm: 871.1394\n",
      "2021-05-11 08:33:40,700 - mmdet - INFO - Epoch [5][500/655]\tlr: 1.000e-03, eta: 0:42:10, time: 0.254, data_time: 0.006, memory: 4578, loss_cls: 78.0719, loss_conf: 165.1495, loss_xy: 90.4786, loss_wh: 10.4726, loss: 344.1726, grad_norm: 898.8671\n",
      "2021-05-11 08:33:53,518 - mmdet - INFO - Epoch [5][550/655]\tlr: 1.000e-03, eta: 0:41:58, time: 0.256, data_time: 0.006, memory: 4578, loss_cls: 85.0821, loss_conf: 169.5834, loss_xy: 94.8176, loss_wh: 11.2975, loss: 360.7807, grad_norm: 886.5985\n",
      "2021-05-11 08:34:05,876 - mmdet - INFO - Epoch [5][600/655]\tlr: 1.000e-03, eta: 0:41:44, time: 0.247, data_time: 0.006, memory: 4578, loss_cls: 81.1870, loss_conf: 166.7673, loss_xy: 94.1542, loss_wh: 10.1202, loss: 352.2286, grad_norm: 869.0199\n",
      "2021-05-11 08:34:18,260 - mmdet - INFO - Epoch [5][650/655]\tlr: 1.000e-03, eta: 0:41:31, time: 0.248, data_time: 0.006, memory: 4578, loss_cls: 75.5973, loss_conf: 169.1265, loss_xy: 95.1850, loss_wh: 11.8235, loss: 351.7324, grad_norm: 988.9900\n",
      "2021-05-11 08:34:19,718 - mmdet - INFO - Saving checkpoint at 5 epochs\n"
     ]
    },
    {
     "name": "stdout",
     "output_type": "stream",
     "text": [
      "[>>>>>>>>>>>>>>>>>>>>>>>>>>>>>] 655/655, 28.0 task/s, elapsed: 23s, ETA:     0s"
     ]
    },
    {
     "name": "stderr",
     "output_type": "stream",
     "text": [
      "2021-05-11 08:34:48,169 - mmdet - INFO - Evaluating bbox...\n"
     ]
    },
    {
     "name": "stdout",
     "output_type": "stream",
     "text": [
      "Loading and preparing results...\n",
      "DONE (t=0.88s)\n",
      "creating index...\n",
      "index created!\n",
      "Running per image evaluation...\n",
      "Evaluate annotation type *bbox*\n",
      "DONE (t=5.52s).\n",
      "Accumulating evaluation results...\n"
     ]
    },
    {
     "name": "stderr",
     "output_type": "stream",
     "text": [
      "2021-05-11 08:34:56,070 - mmdet - INFO - Epoch(val) [5][655]\tbbox_mAP: 0.0190, bbox_mAP_50: 0.0540, bbox_mAP_75: 0.0080, bbox_mAP_s: 0.0030, bbox_mAP_m: 0.0190, bbox_mAP_l: 0.0330, bbox_mAP_copypaste: 0.019 0.054 0.008 0.003 0.019 0.033\n"
     ]
    },
    {
     "name": "stdout",
     "output_type": "stream",
     "text": [
      "DONE (t=1.38s).\n",
      "Average Precision  (AP) @[ IoU=0.50:0.95 | area=   all | maxDets=100 ] = 0.019\n",
      "Average Precision  (AP) @[ IoU=0.50      | area=   all | maxDets=1000 ] = 0.054\n",
      "Average Precision  (AP) @[ IoU=0.75      | area=   all | maxDets=1000 ] = 0.008\n",
      "Average Precision  (AP) @[ IoU=0.50:0.95 | area= small | maxDets=1000 ] = 0.003\n",
      "Average Precision  (AP) @[ IoU=0.50:0.95 | area=medium | maxDets=1000 ] = 0.019\n",
      "Average Precision  (AP) @[ IoU=0.50:0.95 | area= large | maxDets=1000 ] = 0.033\n",
      "Average Recall     (AR) @[ IoU=0.50:0.95 | area=   all | maxDets=100 ] = 0.084\n",
      "Average Recall     (AR) @[ IoU=0.50:0.95 | area=   all | maxDets=300 ] = 0.084\n",
      "Average Recall     (AR) @[ IoU=0.50:0.95 | area=   all | maxDets=1000 ] = 0.084\n",
      "Average Recall     (AR) @[ IoU=0.50:0.95 | area= small | maxDets=1000 ] = 0.019\n",
      "Average Recall     (AR) @[ IoU=0.50:0.95 | area=medium | maxDets=1000 ] = 0.081\n",
      "Average Recall     (AR) @[ IoU=0.50:0.95 | area= large | maxDets=1000 ] = 0.161\n"
     ]
    },
    {
     "name": "stderr",
     "output_type": "stream",
     "text": [
      "2021-05-11 08:35:15,191 - mmdet - INFO - Epoch [6][50/655]\tlr: 1.000e-03, eta: 0:41:32, time: 0.382, data_time: 0.106, memory: 4578, loss_cls: 73.2512, loss_conf: 159.0597, loss_xy: 84.5718, loss_wh: 8.8666, loss: 325.7493, grad_norm: 853.8257\n",
      "2021-05-11 08:35:27,742 - mmdet - INFO - Epoch [6][100/655]\tlr: 1.000e-03, eta: 0:41:19, time: 0.251, data_time: 0.006, memory: 4578, loss_cls: 74.3277, loss_conf: 166.3668, loss_xy: 94.3408, loss_wh: 11.1325, loss: 346.1677, grad_norm: 934.8449\n",
      "2021-05-11 08:35:40,257 - mmdet - INFO - Epoch [6][150/655]\tlr: 1.000e-03, eta: 0:41:05, time: 0.250, data_time: 0.006, memory: 4578, loss_cls: 75.2812, loss_conf: 165.7911, loss_xy: 89.4028, loss_wh: 9.7954, loss: 340.2706, grad_norm: 922.5858\n",
      "2021-05-11 08:35:52,552 - mmdet - INFO - Epoch [6][200/655]\tlr: 1.000e-03, eta: 0:40:51, time: 0.246, data_time: 0.006, memory: 4578, loss_cls: 82.4127, loss_conf: 170.5746, loss_xy: 96.0325, loss_wh: 10.4964, loss: 359.5163, grad_norm: 880.4868\n",
      "2021-05-11 08:36:04,654 - mmdet - INFO - Epoch [6][250/655]\tlr: 1.000e-03, eta: 0:40:37, time: 0.242, data_time: 0.006, memory: 4578, loss_cls: 81.2851, loss_conf: 169.7105, loss_xy: 98.0105, loss_wh: 10.7381, loss: 359.7441, grad_norm: 935.9090\n",
      "2021-05-11 08:36:17,417 - mmdet - INFO - Epoch [6][300/655]\tlr: 1.000e-03, eta: 0:40:24, time: 0.255, data_time: 0.006, memory: 4578, loss_cls: 79.4901, loss_conf: 171.1786, loss_xy: 94.2836, loss_wh: 12.2214, loss: 357.1737, grad_norm: 895.5802\n",
      "2021-05-11 08:36:29,767 - mmdet - INFO - Epoch [6][350/655]\tlr: 1.000e-03, eta: 0:40:11, time: 0.247, data_time: 0.006, memory: 4578, loss_cls: 79.5615, loss_conf: 162.1347, loss_xy: 87.8680, loss_wh: 9.8452, loss: 339.4093, grad_norm: 831.0463\n",
      "2021-05-11 08:36:42,383 - mmdet - INFO - Epoch [6][400/655]\tlr: 1.000e-03, eta: 0:39:58, time: 0.252, data_time: 0.006, memory: 4578, loss_cls: 71.3528, loss_conf: 158.0900, loss_xy: 88.7213, loss_wh: 9.4524, loss: 327.6166, grad_norm: 868.2587\n",
      "2021-05-11 08:36:55,175 - mmdet - INFO - Epoch [6][450/655]\tlr: 1.000e-03, eta: 0:39:45, time: 0.256, data_time: 0.006, memory: 4578, loss_cls: 80.0328, loss_conf: 165.7159, loss_xy: 96.2309, loss_wh: 10.2418, loss: 352.2213, grad_norm: 896.2608\n",
      "2021-05-11 08:37:07,411 - mmdet - INFO - Epoch [6][500/655]\tlr: 1.000e-03, eta: 0:39:31, time: 0.245, data_time: 0.006, memory: 4578, loss_cls: 87.4659, loss_conf: 184.2813, loss_xy: 105.8221, loss_wh: 11.0820, loss: 388.6513, grad_norm: 901.0934\n",
      "2021-05-11 08:37:19,736 - mmdet - INFO - Epoch [6][550/655]\tlr: 1.000e-03, eta: 0:39:17, time: 0.246, data_time: 0.006, memory: 4578, loss_cls: 75.8449, loss_conf: 150.0895, loss_xy: 81.3616, loss_wh: 8.5017, loss: 315.7976, grad_norm: 825.4073\n",
      "2021-05-11 08:37:32,797 - mmdet - INFO - Epoch [6][600/655]\tlr: 1.000e-03, eta: 0:39:06, time: 0.261, data_time: 0.006, memory: 4578, loss_cls: 76.2704, loss_conf: 159.0717, loss_xy: 86.3720, loss_wh: 9.2677, loss: 330.9817, grad_norm: 834.7525\n",
      "2021-05-11 08:37:45,738 - mmdet - INFO - Epoch [6][650/655]\tlr: 1.000e-03, eta: 0:38:53, time: 0.259, data_time: 0.006, memory: 4578, loss_cls: 84.9742, loss_conf: 177.6207, loss_xy: 105.3876, loss_wh: 12.6227, loss: 380.6052, grad_norm: 924.5131\n",
      "2021-05-11 08:37:47,008 - mmdet - INFO - Saving checkpoint at 6 epochs\n"
     ]
    },
    {
     "name": "stdout",
     "output_type": "stream",
     "text": [
      "[>>>>>>>>>>>>>>>>>>>>>>>>>>>>>] 655/655, 26.0 task/s, elapsed: 25s, ETA:     0s"
     ]
    },
    {
     "name": "stderr",
     "output_type": "stream",
     "text": [
      "2021-05-11 08:38:16,911 - mmdet - INFO - Evaluating bbox...\n"
     ]
    },
    {
     "name": "stdout",
     "output_type": "stream",
     "text": [
      "Loading and preparing results...\n",
      "DONE (t=1.56s)\n",
      "creating index...\n",
      "index created!\n",
      "Running per image evaluation...\n",
      "Evaluate annotation type *bbox*\n",
      "DONE (t=7.25s).\n",
      "Accumulating evaluation results...\n"
     ]
    },
    {
     "name": "stderr",
     "output_type": "stream",
     "text": [
      "2021-05-11 08:38:27,492 - mmdet - INFO - Epoch(val) [6][655]\tbbox_mAP: 0.0250, bbox_mAP_50: 0.0680, bbox_mAP_75: 0.0120, bbox_mAP_s: 0.0100, bbox_mAP_m: 0.0150, bbox_mAP_l: 0.0520, bbox_mAP_copypaste: 0.025 0.068 0.012 0.010 0.015 0.052\n"
     ]
    },
    {
     "name": "stdout",
     "output_type": "stream",
     "text": [
      "DONE (t=1.63s).\n",
      "Average Precision  (AP) @[ IoU=0.50:0.95 | area=   all | maxDets=100 ] = 0.025\n",
      "Average Precision  (AP) @[ IoU=0.50      | area=   all | maxDets=1000 ] = 0.068\n",
      "Average Precision  (AP) @[ IoU=0.75      | area=   all | maxDets=1000 ] = 0.012\n",
      "Average Precision  (AP) @[ IoU=0.50:0.95 | area= small | maxDets=1000 ] = 0.010\n",
      "Average Precision  (AP) @[ IoU=0.50:0.95 | area=medium | maxDets=1000 ] = 0.015\n",
      "Average Precision  (AP) @[ IoU=0.50:0.95 | area= large | maxDets=1000 ] = 0.052\n",
      "Average Recall     (AR) @[ IoU=0.50:0.95 | area=   all | maxDets=100 ] = 0.113\n",
      "Average Recall     (AR) @[ IoU=0.50:0.95 | area=   all | maxDets=300 ] = 0.113\n",
      "Average Recall     (AR) @[ IoU=0.50:0.95 | area=   all | maxDets=1000 ] = 0.113\n",
      "Average Recall     (AR) @[ IoU=0.50:0.95 | area= small | maxDets=1000 ] = 0.033\n",
      "Average Recall     (AR) @[ IoU=0.50:0.95 | area=medium | maxDets=1000 ] = 0.091\n",
      "Average Recall     (AR) @[ IoU=0.50:0.95 | area= large | maxDets=1000 ] = 0.229\n"
     ]
    },
    {
     "name": "stderr",
     "output_type": "stream",
     "text": [
      "2021-05-11 08:38:42,331 - mmdet - INFO - Epoch [7][50/655]\tlr: 1.000e-03, eta: 0:38:41, time: 0.297, data_time: 0.055, memory: 4578, loss_cls: 84.5398, loss_conf: 169.8085, loss_xy: 96.3285, loss_wh: 10.5351, loss: 361.2120, grad_norm: 845.8588\n",
      "2021-05-11 08:38:54,919 - mmdet - INFO - Epoch [7][100/655]\tlr: 1.000e-03, eta: 0:38:28, time: 0.252, data_time: 0.006, memory: 4578, loss_cls: 68.2740, loss_conf: 144.1776, loss_xy: 81.5975, loss_wh: 8.5276, loss: 302.5767, grad_norm: 813.3239\n",
      "2021-05-11 08:39:07,582 - mmdet - INFO - Epoch [7][150/655]\tlr: 1.000e-03, eta: 0:38:15, time: 0.253, data_time: 0.006, memory: 4578, loss_cls: 65.1258, loss_conf: 143.2754, loss_xy: 84.3004, loss_wh: 9.6778, loss: 302.3794, grad_norm: 804.8842\n",
      "2021-05-11 08:39:20,056 - mmdet - INFO - Epoch [7][200/655]\tlr: 1.000e-03, eta: 0:38:02, time: 0.249, data_time: 0.006, memory: 4578, loss_cls: 75.1919, loss_conf: 170.6276, loss_xy: 96.7919, loss_wh: 10.3041, loss: 352.9155, grad_norm: 898.5316\n",
      "2021-05-11 08:39:33,131 - mmdet - INFO - Epoch [7][250/655]\tlr: 1.000e-03, eta: 0:37:50, time: 0.262, data_time: 0.007, memory: 4578, loss_cls: 82.5454, loss_conf: 170.8237, loss_xy: 95.8430, loss_wh: 11.2043, loss: 360.4164, grad_norm: 877.4674\n",
      "2021-05-11 08:39:45,588 - mmdet - INFO - Epoch [7][300/655]\tlr: 1.000e-03, eta: 0:37:37, time: 0.249, data_time: 0.006, memory: 4578, loss_cls: 84.5351, loss_conf: 184.1278, loss_xy: 100.3619, loss_wh: 11.2593, loss: 380.2841, grad_norm: 861.9723\n",
      "2021-05-11 08:39:58,157 - mmdet - INFO - Epoch [7][350/655]\tlr: 1.000e-03, eta: 0:37:24, time: 0.251, data_time: 0.006, memory: 4578, loss_cls: 77.4338, loss_conf: 157.1275, loss_xy: 88.5133, loss_wh: 9.7533, loss: 332.8279, grad_norm: 793.9666\n",
      "2021-05-11 08:40:11,287 - mmdet - INFO - Epoch [7][400/655]\tlr: 1.000e-03, eta: 0:37:12, time: 0.263, data_time: 0.006, memory: 4578, loss_cls: 81.4371, loss_conf: 166.2680, loss_xy: 94.1910, loss_wh: 9.1930, loss: 351.0892, grad_norm: 819.1620\n",
      "2021-05-11 08:40:23,998 - mmdet - INFO - Epoch [7][450/655]\tlr: 1.000e-03, eta: 0:36:59, time: 0.254, data_time: 0.006, memory: 4578, loss_cls: 80.9248, loss_conf: 168.5276, loss_xy: 94.5578, loss_wh: 9.6173, loss: 353.6275, grad_norm: 815.2821\n",
      "2021-05-11 08:40:36,802 - mmdet - INFO - Epoch [7][500/655]\tlr: 1.000e-03, eta: 0:36:47, time: 0.256, data_time: 0.006, memory: 4578, loss_cls: 77.0547, loss_conf: 167.1586, loss_xy: 95.1379, loss_wh: 11.3385, loss: 350.6897, grad_norm: 871.1606\n",
      "2021-05-11 08:40:49,662 - mmdet - INFO - Epoch [7][550/655]\tlr: 1.000e-03, eta: 0:36:34, time: 0.257, data_time: 0.006, memory: 4578, loss_cls: 68.4594, loss_conf: 134.8770, loss_xy: 80.0708, loss_wh: 8.0992, loss: 291.5065, grad_norm: 770.5991\n",
      "2021-05-11 08:41:02,433 - mmdet - INFO - Epoch [7][600/655]\tlr: 1.000e-03, eta: 0:36:21, time: 0.255, data_time: 0.006, memory: 4578, loss_cls: 81.5444, loss_conf: 170.8919, loss_xy: 98.9787, loss_wh: 9.8608, loss: 361.2758, grad_norm: 850.4855\n",
      "2021-05-11 08:41:14,630 - mmdet - INFO - Epoch [7][650/655]\tlr: 1.000e-03, eta: 0:36:08, time: 0.244, data_time: 0.006, memory: 4578, loss_cls: 72.5739, loss_conf: 159.8259, loss_xy: 90.4873, loss_wh: 11.9462, loss: 334.8333, grad_norm: 888.9743\n",
      "2021-05-11 08:41:16,045 - mmdet - INFO - Saving checkpoint at 7 epochs\n"
     ]
    },
    {
     "name": "stdout",
     "output_type": "stream",
     "text": [
      "[>>>>>>>>>>>>>>>>>>>>>>>>>>>>>] 655/655, 25.7 task/s, elapsed: 25s, ETA:     0s"
     ]
    },
    {
     "name": "stderr",
     "output_type": "stream",
     "text": [
      "2021-05-11 08:41:46,750 - mmdet - INFO - Evaluating bbox...\n"
     ]
    },
    {
     "name": "stdout",
     "output_type": "stream",
     "text": [
      "Loading and preparing results...\n",
      "DONE (t=0.99s)\n",
      "creating index...\n",
      "index created!\n",
      "Running per image evaluation...\n",
      "Evaluate annotation type *bbox*\n",
      "DONE (t=7.55s).\n",
      "Accumulating evaluation results...\n"
     ]
    },
    {
     "name": "stderr",
     "output_type": "stream",
     "text": [
      "2021-05-11 08:41:57,257 - mmdet - INFO - Epoch(val) [7][655]\tbbox_mAP: 0.0210, bbox_mAP_50: 0.0580, bbox_mAP_75: 0.0080, bbox_mAP_s: 0.0080, bbox_mAP_m: 0.0200, bbox_mAP_l: 0.0400, bbox_mAP_copypaste: 0.021 0.058 0.008 0.008 0.020 0.040\n"
     ]
    },
    {
     "name": "stdout",
     "output_type": "stream",
     "text": [
      "DONE (t=1.82s).\n",
      "Average Precision  (AP) @[ IoU=0.50:0.95 | area=   all | maxDets=100 ] = 0.021\n",
      "Average Precision  (AP) @[ IoU=0.50      | area=   all | maxDets=1000 ] = 0.058\n",
      "Average Precision  (AP) @[ IoU=0.75      | area=   all | maxDets=1000 ] = 0.008\n",
      "Average Precision  (AP) @[ IoU=0.50:0.95 | area= small | maxDets=1000 ] = 0.008\n",
      "Average Precision  (AP) @[ IoU=0.50:0.95 | area=medium | maxDets=1000 ] = 0.020\n",
      "Average Precision  (AP) @[ IoU=0.50:0.95 | area= large | maxDets=1000 ] = 0.040\n",
      "Average Recall     (AR) @[ IoU=0.50:0.95 | area=   all | maxDets=100 ] = 0.104\n",
      "Average Recall     (AR) @[ IoU=0.50:0.95 | area=   all | maxDets=300 ] = 0.104\n",
      "Average Recall     (AR) @[ IoU=0.50:0.95 | area=   all | maxDets=1000 ] = 0.104\n",
      "Average Recall     (AR) @[ IoU=0.50:0.95 | area= small | maxDets=1000 ] = 0.031\n",
      "Average Recall     (AR) @[ IoU=0.50:0.95 | area=medium | maxDets=1000 ] = 0.097\n",
      "Average Recall     (AR) @[ IoU=0.50:0.95 | area= large | maxDets=1000 ] = 0.195\n"
     ]
    },
    {
     "name": "stderr",
     "output_type": "stream",
     "text": [
      "2021-05-11 08:42:12,863 - mmdet - INFO - Epoch [8][50/655]\tlr: 1.000e-03, eta: 0:35:57, time: 0.312, data_time: 0.056, memory: 4578, loss_cls: 67.7558, loss_conf: 137.7292, loss_xy: 80.0483, loss_wh: 7.9635, loss: 293.4969, grad_norm: 781.7394\n",
      "2021-05-11 08:42:25,510 - mmdet - INFO - Epoch [8][100/655]\tlr: 1.000e-03, eta: 0:35:44, time: 0.253, data_time: 0.006, memory: 4578, loss_cls: 86.9388, loss_conf: 176.3032, loss_xy: 102.2249, loss_wh: 11.7260, loss: 377.1929, grad_norm: 887.4595\n",
      "2021-05-11 08:42:38,364 - mmdet - INFO - Epoch [8][150/655]\tlr: 1.000e-03, eta: 0:35:31, time: 0.257, data_time: 0.006, memory: 4578, loss_cls: 93.1386, loss_conf: 181.0409, loss_xy: 108.7061, loss_wh: 13.1901, loss: 396.0757, grad_norm: 892.5588\n",
      "2021-05-11 08:42:50,423 - mmdet - INFO - Epoch [8][200/655]\tlr: 1.000e-03, eta: 0:35:17, time: 0.241, data_time: 0.006, memory: 4578, loss_cls: 65.0000, loss_conf: 138.7167, loss_xy: 80.9034, loss_wh: 7.6977, loss: 292.3179, grad_norm: 740.2888\n",
      "2021-05-11 08:43:03,253 - mmdet - INFO - Epoch [8][250/655]\tlr: 1.000e-03, eta: 0:35:05, time: 0.257, data_time: 0.006, memory: 4578, loss_cls: 67.5660, loss_conf: 145.8238, loss_xy: 81.2184, loss_wh: 7.8253, loss: 302.4335, grad_norm: 759.4519\n",
      "2021-05-11 08:43:15,902 - mmdet - INFO - Epoch [8][300/655]\tlr: 1.000e-03, eta: 0:34:52, time: 0.253, data_time: 0.006, memory: 4578, loss_cls: 62.1148, loss_conf: 135.1191, loss_xy: 75.2953, loss_wh: 7.2239, loss: 279.7532, grad_norm: 694.5689\n",
      "2021-05-11 08:43:28,667 - mmdet - INFO - Epoch [8][350/655]\tlr: 1.000e-03, eta: 0:34:39, time: 0.255, data_time: 0.006, memory: 4578, loss_cls: 87.1543, loss_conf: 176.5472, loss_xy: 103.4593, loss_wh: 10.2695, loss: 377.4304, grad_norm: 916.7240\n",
      "2021-05-11 08:43:41,597 - mmdet - INFO - Epoch [8][400/655]\tlr: 1.000e-03, eta: 0:34:27, time: 0.259, data_time: 0.006, memory: 4578, loss_cls: 80.1831, loss_conf: 166.6244, loss_xy: 98.8484, loss_wh: 9.1741, loss: 354.8299, grad_norm: 845.4694\n",
      "2021-05-11 08:43:54,098 - mmdet - INFO - Epoch [8][450/655]\tlr: 1.000e-03, eta: 0:34:14, time: 0.250, data_time: 0.006, memory: 4578, loss_cls: 90.3322, loss_conf: 179.8478, loss_xy: 106.4533, loss_wh: 10.8652, loss: 387.4986, grad_norm: 901.3458\n",
      "2021-05-11 08:44:06,612 - mmdet - INFO - Epoch [8][500/655]\tlr: 1.000e-03, eta: 0:34:00, time: 0.250, data_time: 0.006, memory: 4578, loss_cls: 63.9141, loss_conf: 142.4698, loss_xy: 82.6114, loss_wh: 7.4390, loss: 296.4343, grad_norm: 755.2556\n",
      "2021-05-11 08:44:19,508 - mmdet - INFO - Epoch [8][550/655]\tlr: 1.000e-03, eta: 0:33:48, time: 0.258, data_time: 0.006, memory: 4578, loss_cls: 70.8602, loss_conf: 143.4993, loss_xy: 83.9353, loss_wh: 9.8531, loss: 308.1479, grad_norm: 794.3648\n",
      "2021-05-11 08:44:31,915 - mmdet - INFO - Epoch [8][600/655]\tlr: 1.000e-03, eta: 0:33:35, time: 0.248, data_time: 0.006, memory: 4578, loss_cls: 78.3368, loss_conf: 164.2507, loss_xy: 95.1481, loss_wh: 9.0604, loss: 346.7960, grad_norm: 853.0121\n",
      "2021-05-11 08:44:44,095 - mmdet - INFO - Epoch [8][650/655]\tlr: 1.000e-03, eta: 0:33:21, time: 0.244, data_time: 0.006, memory: 4578, loss_cls: 78.0331, loss_conf: 174.1027, loss_xy: 96.3336, loss_wh: 9.9166, loss: 358.3861, grad_norm: 871.9188\n",
      "2021-05-11 08:44:45,462 - mmdet - INFO - Saving checkpoint at 8 epochs\n"
     ]
    },
    {
     "name": "stdout",
     "output_type": "stream",
     "text": [
      "[>>>>>>>>>>>>>>>>>>>>>>>>>>>>>] 655/655, 26.1 task/s, elapsed: 25s, ETA:     0s"
     ]
    },
    {
     "name": "stderr",
     "output_type": "stream",
     "text": [
      "2021-05-11 08:45:14,751 - mmdet - INFO - Evaluating bbox...\n"
     ]
    },
    {
     "name": "stdout",
     "output_type": "stream",
     "text": [
      "Loading and preparing results...\n",
      "DONE (t=1.58s)\n",
      "creating index...\n",
      "index created!\n",
      "Running per image evaluation...\n",
      "Evaluate annotation type *bbox*\n",
      "DONE (t=6.71s).\n",
      "Accumulating evaluation results...\n"
     ]
    },
    {
     "name": "stderr",
     "output_type": "stream",
     "text": [
      "2021-05-11 08:45:24,723 - mmdet - INFO - Epoch(val) [8][655]\tbbox_mAP: 0.0300, bbox_mAP_50: 0.0720, bbox_mAP_75: 0.0200, bbox_mAP_s: 0.0130, bbox_mAP_m: 0.0240, bbox_mAP_l: 0.0570, bbox_mAP_copypaste: 0.030 0.072 0.020 0.013 0.024 0.057\n"
     ]
    },
    {
     "name": "stdout",
     "output_type": "stream",
     "text": [
      "DONE (t=1.56s).\n",
      "Average Precision  (AP) @[ IoU=0.50:0.95 | area=   all | maxDets=100 ] = 0.030\n",
      "Average Precision  (AP) @[ IoU=0.50      | area=   all | maxDets=1000 ] = 0.072\n",
      "Average Precision  (AP) @[ IoU=0.75      | area=   all | maxDets=1000 ] = 0.020\n",
      "Average Precision  (AP) @[ IoU=0.50:0.95 | area= small | maxDets=1000 ] = 0.013\n",
      "Average Precision  (AP) @[ IoU=0.50:0.95 | area=medium | maxDets=1000 ] = 0.024\n",
      "Average Precision  (AP) @[ IoU=0.50:0.95 | area= large | maxDets=1000 ] = 0.057\n",
      "Average Recall     (AR) @[ IoU=0.50:0.95 | area=   all | maxDets=100 ] = 0.104\n",
      "Average Recall     (AR) @[ IoU=0.50:0.95 | area=   all | maxDets=300 ] = 0.104\n",
      "Average Recall     (AR) @[ IoU=0.50:0.95 | area=   all | maxDets=1000 ] = 0.104\n",
      "Average Recall     (AR) @[ IoU=0.50:0.95 | area= small | maxDets=1000 ] = 0.036\n",
      "Average Recall     (AR) @[ IoU=0.50:0.95 | area=medium | maxDets=1000 ] = 0.094\n",
      "Average Recall     (AR) @[ IoU=0.50:0.95 | area= large | maxDets=1000 ] = 0.193\n"
     ]
    },
    {
     "name": "stderr",
     "output_type": "stream",
     "text": [
      "2021-05-11 08:45:40,063 - mmdet - INFO - Epoch [9][50/655]\tlr: 1.000e-03, eta: 0:33:09, time: 0.307, data_time: 0.055, memory: 4578, loss_cls: 83.1413, loss_conf: 166.3845, loss_xy: 97.2081, loss_wh: 10.0231, loss: 356.7570, grad_norm: 853.7639\n",
      "2021-05-11 08:45:52,611 - mmdet - INFO - Epoch [9][100/655]\tlr: 1.000e-03, eta: 0:32:56, time: 0.251, data_time: 0.006, memory: 4578, loss_cls: 73.1549, loss_conf: 150.4665, loss_xy: 92.0259, loss_wh: 8.6682, loss: 324.3155, grad_norm: 795.7835\n",
      "2021-05-11 08:46:04,809 - mmdet - INFO - Epoch [9][150/655]\tlr: 1.000e-03, eta: 0:32:43, time: 0.244, data_time: 0.006, memory: 4578, loss_cls: 85.6522, loss_conf: 179.8707, loss_xy: 105.0229, loss_wh: 10.8684, loss: 381.4141, grad_norm: 824.6114\n",
      "2021-05-11 08:46:17,635 - mmdet - INFO - Epoch [9][200/655]\tlr: 1.000e-03, eta: 0:32:30, time: 0.257, data_time: 0.006, memory: 4578, loss_cls: 78.5260, loss_conf: 168.8079, loss_xy: 103.7866, loss_wh: 11.9116, loss: 363.0320, grad_norm: 835.8075\n",
      "2021-05-11 08:46:29,895 - mmdet - INFO - Epoch [9][250/655]\tlr: 1.000e-03, eta: 0:32:17, time: 0.245, data_time: 0.006, memory: 4578, loss_cls: 66.7851, loss_conf: 143.2899, loss_xy: 88.0554, loss_wh: 9.4336, loss: 307.5640, grad_norm: 765.4124\n",
      "2021-05-11 08:46:42,427 - mmdet - INFO - Epoch [9][300/655]\tlr: 1.000e-03, eta: 0:32:04, time: 0.251, data_time: 0.006, memory: 4578, loss_cls: 79.0522, loss_conf: 167.4095, loss_xy: 103.0192, loss_wh: 9.1686, loss: 358.6495, grad_norm: 850.8685\n",
      "2021-05-11 08:46:55,296 - mmdet - INFO - Epoch [9][350/655]\tlr: 1.000e-03, eta: 0:31:51, time: 0.257, data_time: 0.006, memory: 4578, loss_cls: 74.0550, loss_conf: 137.7896, loss_xy: 81.5327, loss_wh: 8.7957, loss: 302.1730, grad_norm: 806.8421\n",
      "2021-05-11 08:47:07,845 - mmdet - INFO - Epoch [9][400/655]\tlr: 1.000e-03, eta: 0:31:38, time: 0.251, data_time: 0.006, memory: 4578, loss_cls: 77.6026, loss_conf: 160.5817, loss_xy: 93.3355, loss_wh: 8.6595, loss: 340.1793, grad_norm: 848.9683\n",
      "2021-05-11 08:47:20,799 - mmdet - INFO - Epoch [9][450/655]\tlr: 1.000e-03, eta: 0:31:26, time: 0.259, data_time: 0.006, memory: 4578, loss_cls: 77.2111, loss_conf: 159.9943, loss_xy: 90.4874, loss_wh: 8.9456, loss: 336.6385, grad_norm: 826.0597\n",
      "2021-05-11 08:47:33,151 - mmdet - INFO - Epoch [9][500/655]\tlr: 1.000e-03, eta: 0:31:13, time: 0.247, data_time: 0.006, memory: 4578, loss_cls: 66.0134, loss_conf: 141.1726, loss_xy: 83.7756, loss_wh: 7.7065, loss: 298.6681, grad_norm: 820.1358\n",
      "2021-05-11 08:47:46,142 - mmdet - INFO - Epoch [9][550/655]\tlr: 1.000e-03, eta: 0:31:00, time: 0.260, data_time: 0.006, memory: 4578, loss_cls: 71.5779, loss_conf: 154.3956, loss_xy: 86.1858, loss_wh: 8.0861, loss: 320.2454, grad_norm: 756.2593\n",
      "2021-05-11 08:47:58,636 - mmdet - INFO - Epoch [9][600/655]\tlr: 1.000e-03, eta: 0:30:47, time: 0.250, data_time: 0.006, memory: 4578, loss_cls: 66.4054, loss_conf: 141.9576, loss_xy: 84.9988, loss_wh: 8.4204, loss: 301.7822, grad_norm: 777.4404\n",
      "2021-05-11 08:48:11,213 - mmdet - INFO - Epoch [9][650/655]\tlr: 1.000e-03, eta: 0:30:34, time: 0.252, data_time: 0.006, memory: 4578, loss_cls: 76.4800, loss_conf: 150.0965, loss_xy: 88.1864, loss_wh: 8.3340, loss: 323.0969, grad_norm: 725.3456\n",
      "2021-05-11 08:48:12,619 - mmdet - INFO - Saving checkpoint at 9 epochs\n"
     ]
    },
    {
     "name": "stdout",
     "output_type": "stream",
     "text": [
      "[>>>>>>>>>>>>>>>>>>>>>>>>>>>>>] 655/655, 26.5 task/s, elapsed: 25s, ETA:     0s"
     ]
    },
    {
     "name": "stderr",
     "output_type": "stream",
     "text": [
      "2021-05-11 08:48:42,160 - mmdet - INFO - Evaluating bbox...\n"
     ]
    },
    {
     "name": "stdout",
     "output_type": "stream",
     "text": [
      "Loading and preparing results...\n",
      "DONE (t=1.58s)\n",
      "creating index...\n",
      "index created!\n",
      "Running per image evaluation...\n",
      "Evaluate annotation type *bbox*\n",
      "DONE (t=6.78s).\n",
      "Accumulating evaluation results...\n"
     ]
    },
    {
     "name": "stderr",
     "output_type": "stream",
     "text": [
      "2021-05-11 08:48:52,139 - mmdet - INFO - Epoch(val) [9][655]\tbbox_mAP: 0.0300, bbox_mAP_50: 0.0800, bbox_mAP_75: 0.0150, bbox_mAP_s: 0.0110, bbox_mAP_m: 0.0290, bbox_mAP_l: 0.0520, bbox_mAP_copypaste: 0.030 0.080 0.015 0.011 0.029 0.052\n"
     ]
    },
    {
     "name": "stdout",
     "output_type": "stream",
     "text": [
      "DONE (t=1.49s).\n",
      "Average Precision  (AP) @[ IoU=0.50:0.95 | area=   all | maxDets=100 ] = 0.030\n",
      "Average Precision  (AP) @[ IoU=0.50      | area=   all | maxDets=1000 ] = 0.080\n",
      "Average Precision  (AP) @[ IoU=0.75      | area=   all | maxDets=1000 ] = 0.015\n",
      "Average Precision  (AP) @[ IoU=0.50:0.95 | area= small | maxDets=1000 ] = 0.011\n",
      "Average Precision  (AP) @[ IoU=0.50:0.95 | area=medium | maxDets=1000 ] = 0.029\n",
      "Average Precision  (AP) @[ IoU=0.50:0.95 | area= large | maxDets=1000 ] = 0.052\n",
      "Average Recall     (AR) @[ IoU=0.50:0.95 | area=   all | maxDets=100 ] = 0.133\n",
      "Average Recall     (AR) @[ IoU=0.50:0.95 | area=   all | maxDets=300 ] = 0.133\n",
      "Average Recall     (AR) @[ IoU=0.50:0.95 | area=   all | maxDets=1000 ] = 0.133\n",
      "Average Recall     (AR) @[ IoU=0.50:0.95 | area= small | maxDets=1000 ] = 0.041\n",
      "Average Recall     (AR) @[ IoU=0.50:0.95 | area=medium | maxDets=1000 ] = 0.140\n",
      "Average Recall     (AR) @[ IoU=0.50:0.95 | area= large | maxDets=1000 ] = 0.218\n"
     ]
    },
    {
     "name": "stderr",
     "output_type": "stream",
     "text": [
      "2021-05-11 08:49:07,119 - mmdet - INFO - Epoch [10][50/655]\tlr: 1.000e-03, eta: 0:30:21, time: 0.299, data_time: 0.055, memory: 4578, loss_cls: 73.6107, loss_conf: 149.8538, loss_xy: 90.0228, loss_wh: 8.4149, loss: 321.9023, grad_norm: 801.2915\n",
      "2021-05-11 08:49:19,896 - mmdet - INFO - Epoch [10][100/655]\tlr: 1.000e-03, eta: 0:30:09, time: 0.256, data_time: 0.006, memory: 4578, loss_cls: 82.9414, loss_conf: 170.1927, loss_xy: 98.7861, loss_wh: 11.0242, loss: 362.9444, grad_norm: 841.2368\n",
      "2021-05-11 08:49:32,727 - mmdet - INFO - Epoch [10][150/655]\tlr: 1.000e-03, eta: 0:29:56, time: 0.257, data_time: 0.006, memory: 4578, loss_cls: 79.1585, loss_conf: 156.9641, loss_xy: 90.4876, loss_wh: 11.1299, loss: 337.7401, grad_norm: 800.0048\n",
      "2021-05-11 08:49:45,510 - mmdet - INFO - Epoch [10][200/655]\tlr: 1.000e-03, eta: 0:29:43, time: 0.256, data_time: 0.006, memory: 4578, loss_cls: 64.1324, loss_conf: 146.0074, loss_xy: 86.6876, loss_wh: 8.5454, loss: 305.3728, grad_norm: 773.7566\n",
      "2021-05-11 08:49:58,348 - mmdet - INFO - Epoch [10][250/655]\tlr: 1.000e-03, eta: 0:29:31, time: 0.257, data_time: 0.006, memory: 4578, loss_cls: 67.4262, loss_conf: 139.6883, loss_xy: 85.1271, loss_wh: 8.6284, loss: 300.8699, grad_norm: 744.3734\n",
      "2021-05-11 08:50:10,775 - mmdet - INFO - Epoch [10][300/655]\tlr: 1.000e-03, eta: 0:29:18, time: 0.249, data_time: 0.006, memory: 4578, loss_cls: 76.2135, loss_conf: 150.8843, loss_xy: 91.2113, loss_wh: 8.5637, loss: 326.8728, grad_norm: 789.8766\n",
      "2021-05-11 08:50:23,722 - mmdet - INFO - Epoch [10][350/655]\tlr: 1.000e-03, eta: 0:29:05, time: 0.259, data_time: 0.006, memory: 4578, loss_cls: 70.2211, loss_conf: 148.7412, loss_xy: 86.8877, loss_wh: 8.4241, loss: 314.2741, grad_norm: 824.4965\n",
      "2021-05-11 08:50:36,005 - mmdet - INFO - Epoch [10][400/655]\tlr: 1.000e-03, eta: 0:28:52, time: 0.246, data_time: 0.006, memory: 4578, loss_cls: 72.0252, loss_conf: 157.6518, loss_xy: 93.2550, loss_wh: 9.8230, loss: 332.7550, grad_norm: 809.0436\n",
      "2021-05-11 08:50:48,649 - mmdet - INFO - Epoch [10][450/655]\tlr: 1.000e-03, eta: 0:28:39, time: 0.253, data_time: 0.006, memory: 4578, loss_cls: 79.4134, loss_conf: 167.7746, loss_xy: 104.4133, loss_wh: 10.7770, loss: 362.3783, grad_norm: 864.4074\n",
      "2021-05-11 08:51:01,664 - mmdet - INFO - Epoch [10][500/655]\tlr: 1.000e-03, eta: 0:28:27, time: 0.260, data_time: 0.006, memory: 4578, loss_cls: 65.2515, loss_conf: 144.6060, loss_xy: 87.6483, loss_wh: 8.4160, loss: 305.9219, grad_norm: 760.5943\n",
      "2021-05-11 08:51:14,369 - mmdet - INFO - Epoch [10][550/655]\tlr: 1.000e-03, eta: 0:28:14, time: 0.254, data_time: 0.006, memory: 4578, loss_cls: 71.4805, loss_conf: 154.2133, loss_xy: 95.9289, loss_wh: 8.8012, loss: 330.4239, grad_norm: 837.8908\n",
      "2021-05-11 08:51:26,766 - mmdet - INFO - Epoch [10][600/655]\tlr: 1.000e-03, eta: 0:28:01, time: 0.248, data_time: 0.006, memory: 4578, loss_cls: 80.8714, loss_conf: 169.7011, loss_xy: 99.4558, loss_wh: 8.8407, loss: 358.8690, grad_norm: 869.3159\n",
      "2021-05-11 08:51:39,333 - mmdet - INFO - Epoch [10][650/655]\tlr: 1.000e-03, eta: 0:27:48, time: 0.251, data_time: 0.006, memory: 4578, loss_cls: 88.1282, loss_conf: 163.6288, loss_xy: 99.3286, loss_wh: 8.9163, loss: 360.0019, grad_norm: 810.6532\n",
      "2021-05-11 08:51:40,655 - mmdet - INFO - Saving checkpoint at 10 epochs\n"
     ]
    },
    {
     "name": "stdout",
     "output_type": "stream",
     "text": [
      "[>>>>>>>>>>>>>>>>>>>>>>>>>>>>>] 655/655, 27.3 task/s, elapsed: 24s, ETA:     0s"
     ]
    },
    {
     "name": "stderr",
     "output_type": "stream",
     "text": [
      "2021-05-11 08:52:08,967 - mmdet - INFO - Evaluating bbox...\n"
     ]
    },
    {
     "name": "stdout",
     "output_type": "stream",
     "text": [
      "Loading and preparing results...\n",
      "DONE (t=1.63s)\n",
      "creating index...\n",
      "index created!\n",
      "Running per image evaluation...\n",
      "Evaluate annotation type *bbox*\n",
      "DONE (t=6.76s).\n",
      "Accumulating evaluation results...\n"
     ]
    },
    {
     "name": "stderr",
     "output_type": "stream",
     "text": [
      "2021-05-11 08:52:19,044 - mmdet - INFO - Epoch(val) [10][655]\tbbox_mAP: 0.0360, bbox_mAP_50: 0.0860, bbox_mAP_75: 0.0230, bbox_mAP_s: 0.0070, bbox_mAP_m: 0.0310, bbox_mAP_l: 0.0690, bbox_mAP_copypaste: 0.036 0.086 0.023 0.007 0.031 0.069\n"
     ]
    },
    {
     "name": "stdout",
     "output_type": "stream",
     "text": [
      "DONE (t=1.56s).\n",
      "Average Precision  (AP) @[ IoU=0.50:0.95 | area=   all | maxDets=100 ] = 0.036\n",
      "Average Precision  (AP) @[ IoU=0.50      | area=   all | maxDets=1000 ] = 0.086\n",
      "Average Precision  (AP) @[ IoU=0.75      | area=   all | maxDets=1000 ] = 0.023\n",
      "Average Precision  (AP) @[ IoU=0.50:0.95 | area= small | maxDets=1000 ] = 0.007\n",
      "Average Precision  (AP) @[ IoU=0.50:0.95 | area=medium | maxDets=1000 ] = 0.031\n",
      "Average Precision  (AP) @[ IoU=0.50:0.95 | area= large | maxDets=1000 ] = 0.069\n",
      "Average Recall     (AR) @[ IoU=0.50:0.95 | area=   all | maxDets=100 ] = 0.119\n",
      "Average Recall     (AR) @[ IoU=0.50:0.95 | area=   all | maxDets=300 ] = 0.119\n",
      "Average Recall     (AR) @[ IoU=0.50:0.95 | area=   all | maxDets=1000 ] = 0.119\n",
      "Average Recall     (AR) @[ IoU=0.50:0.95 | area= small | maxDets=1000 ] = 0.031\n",
      "Average Recall     (AR) @[ IoU=0.50:0.95 | area=medium | maxDets=1000 ] = 0.107\n",
      "Average Recall     (AR) @[ IoU=0.50:0.95 | area= large | maxDets=1000 ] = 0.224\n"
     ]
    },
    {
     "name": "stderr",
     "output_type": "stream",
     "text": [
      "2021-05-11 08:52:34,336 - mmdet - INFO - Epoch [11][50/655]\tlr: 1.000e-03, eta: 0:27:35, time: 0.306, data_time: 0.056, memory: 4578, loss_cls: 86.7756, loss_conf: 171.7856, loss_xy: 104.1408, loss_wh: 10.3764, loss: 373.0783, grad_norm: 844.4239\n",
      "2021-05-11 08:52:46,843 - mmdet - INFO - Epoch [11][100/655]\tlr: 1.000e-03, eta: 0:27:22, time: 0.250, data_time: 0.006, memory: 4578, loss_cls: 65.9220, loss_conf: 140.8627, loss_xy: 84.9867, loss_wh: 8.0597, loss: 299.8312, grad_norm: 770.9051\n",
      "2021-05-11 08:52:59,280 - mmdet - INFO - Epoch [11][150/655]\tlr: 1.000e-03, eta: 0:27:09, time: 0.249, data_time: 0.006, memory: 4578, loss_cls: 77.1742, loss_conf: 155.6835, loss_xy: 90.6369, loss_wh: 9.2233, loss: 332.7179, grad_norm: 816.5865\n",
      "2021-05-11 08:53:11,580 - mmdet - INFO - Epoch [11][200/655]\tlr: 1.000e-03, eta: 0:26:56, time: 0.246, data_time: 0.006, memory: 4578, loss_cls: 70.9983, loss_conf: 154.6391, loss_xy: 93.0697, loss_wh: 9.0599, loss: 327.7669, grad_norm: 777.4074\n",
      "2021-05-11 08:53:24,042 - mmdet - INFO - Epoch [11][250/655]\tlr: 1.000e-03, eta: 0:26:43, time: 0.249, data_time: 0.006, memory: 4578, loss_cls: 78.5772, loss_conf: 167.9774, loss_xy: 98.6718, loss_wh: 8.9178, loss: 354.1443, grad_norm: 790.0325\n",
      "2021-05-11 08:53:36,344 - mmdet - INFO - Epoch [11][300/655]\tlr: 1.000e-03, eta: 0:26:30, time: 0.246, data_time: 0.006, memory: 4578, loss_cls: 83.9948, loss_conf: 158.1697, loss_xy: 95.9988, loss_wh: 9.0243, loss: 347.1876, grad_norm: 770.0642\n",
      "2021-05-11 08:53:48,899 - mmdet - INFO - Epoch [11][350/655]\tlr: 1.000e-03, eta: 0:26:17, time: 0.251, data_time: 0.006, memory: 4578, loss_cls: 65.9563, loss_conf: 135.0394, loss_xy: 84.2089, loss_wh: 7.3177, loss: 292.5222, grad_norm: 744.0680\n",
      "2021-05-11 08:54:01,795 - mmdet - INFO - Epoch [11][400/655]\tlr: 1.000e-03, eta: 0:26:05, time: 0.258, data_time: 0.006, memory: 4578, loss_cls: 73.6569, loss_conf: 144.4433, loss_xy: 86.9147, loss_wh: 8.1956, loss: 313.2104, grad_norm: 753.7667\n",
      "2021-05-11 08:54:14,044 - mmdet - INFO - Epoch [11][450/655]\tlr: 1.000e-03, eta: 0:25:52, time: 0.245, data_time: 0.005, memory: 4578, loss_cls: 78.1522, loss_conf: 161.3168, loss_xy: 101.2175, loss_wh: 10.2240, loss: 350.9105, grad_norm: 842.7563\n",
      "2021-05-11 08:54:26,295 - mmdet - INFO - Epoch [11][500/655]\tlr: 1.000e-03, eta: 0:25:38, time: 0.245, data_time: 0.005, memory: 4578, loss_cls: 65.0934, loss_conf: 135.7234, loss_xy: 83.2196, loss_wh: 7.8021, loss: 291.8385, grad_norm: 709.2279\n"
     ]
    }
   ],
   "source": [
    "train_detector(model, datasets[0], cfg, distributed=False, validate=True)"
   ]
  },
  {
   "cell_type": "code",
   "execution_count": null,
   "metadata": {},
   "outputs": [],
   "source": []
  }
 ],
 "metadata": {
  "kernelspec": {
   "display_name": "Python 3",
   "language": "python",
   "name": "python3"
  },
  "language_info": {
   "codemirror_mode": {
    "name": "ipython",
    "version": 3
   },
   "file_extension": ".py",
   "mimetype": "text/x-python",
   "name": "python",
   "nbconvert_exporter": "python",
   "pygments_lexer": "ipython3",
   "version": "3.7.7"
  },
  "pycharm": {
   "stem_cell": {
    "cell_type": "raw",
    "metadata": {
     "collapsed": false
    },
    "source": []
   }
  }
 },
 "nbformat": 4,
 "nbformat_minor": 4
}
