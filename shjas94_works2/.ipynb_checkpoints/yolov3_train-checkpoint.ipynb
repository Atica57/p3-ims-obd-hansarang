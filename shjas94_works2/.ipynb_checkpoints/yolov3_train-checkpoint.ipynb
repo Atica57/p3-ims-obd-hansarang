{
 "cells": [
  {
   "cell_type": "code",
   "execution_count": 14,
   "metadata": {
    "pycharm": {
     "name": "#%%\n"
    }
   },
   "outputs": [],
   "source": [
    "from mmcv import Config\n",
    "from mmdet.datasets import build_dataset\n",
    "from mmdet.models import build_detector\n",
    "from mmdet.apis import train_detector\n",
    "from mmdet.datasets import (build_dataloader, build_dataset,\n",
    "                            replace_ImageToTensor)"
   ]
  },
  {
   "cell_type": "code",
   "execution_count": 18,
   "metadata": {
    "pycharm": {
     "name": "#%%\n"
    }
   },
   "outputs": [],
   "source": [
    "classes = (\"UNKNOWN\", \"General trash\", \"Paper\", \"Paper pack\", \"Metal\", \"Glass\", \n",
    "           \"Plastic\", \"Styrofoam\", \"Plastic bag\", \"Battery\", \"Clothing\")\n",
    "# config file 들고오기\n",
    "cfg = Config.fromfile('./configs/faster_rcnn/faster_rcnn_r50_fpn_1x_coco.py')\n",
    "\n",
    "PREFIX = '../../input/data/'\n",
    "\n",
    "\n",
    "# dataset 바꾸기\n",
    "cfg.data.train.classes = classes\n",
    "cfg.data.train.img_prefix = PREFIX\n",
    "cfg.data.train.ann_file = PREFIX + 'train.json'\n",
    "cfg.data.train.pipeline[2]['img_scale'] = (512, 512)\n",
    "\n",
    "cfg.data.val.classes = classes\n",
    "cfg.data.val.img_prefix = PREFIX\n",
    "cfg.data.val.ann_file = PREFIX + 'val.json'\n",
    "cfg.data.val.pipeline[1]['img_scale'] = (512, 512)\n",
    "\n",
    "cfg.data.test.classes = classes\n",
    "cfg.data.test.img_prefix = PREFIX\n",
    "cfg.data.test.ann_file = PREFIX + 'test.json'\n",
    "cfg.data.test.pipeline[1]['img_scale'] = (512, 512)\n",
    "\n",
    "cfg.data.samples_per_gpu = 4\n",
    "\n",
    "cfg.seed=2020\n",
    "cfg.gpu_ids = [0]\n",
    "cfg.work_dir = './work_dirs/faster_rcnn_r50_fpn_1x_trash'\n",
    "\n",
    "cfg.model.roi_head.bbox_head.num_classes = 11\n",
    "\n",
    "cfg.optimizer_config.grad_clip = dict(max_norm=35, norm_type=2)"
   ]
  },
  {
   "cell_type": "code",
   "execution_count": 19,
   "metadata": {
    "pycharm": {
     "name": "#%%\n"
    }
   },
   "outputs": [
    {
     "name": "stderr",
     "output_type": "stream",
     "text": [
      "2021-05-10 15:39:05,595 - mmdet - INFO - load model from: torchvision://resnet50\n",
      "2021-05-10 15:39:05,596 - mmdet - INFO - Use load_from_torchvision loader\n",
      "2021-05-10 15:39:05,799 - mmdet - WARNING - The model and loaded state dict do not match exactly\n",
      "\n",
      "unexpected key in source state_dict: fc.weight, fc.bias\n",
      "\n"
     ]
    }
   ],
   "source": [
    "model = build_detector(cfg.model)"
   ]
  },
  {
   "cell_type": "code",
   "execution_count": 20,
   "metadata": {
    "pycharm": {
     "name": "#%%\n"
    }
   },
   "outputs": [
    {
     "name": "stdout",
     "output_type": "stream",
     "text": [
      "loading annotations into memory...\n",
      "Done (t=3.53s)\n",
      "creating index...\n",
      "index created!\n"
     ]
    }
   ],
   "source": [
    "datasets = [build_dataset(cfg.data.train)]"
   ]
  },
  {
   "cell_type": "code",
   "execution_count": null,
   "metadata": {
    "pycharm": {
     "name": "#%%\n"
    }
   },
   "outputs": [
    {
     "name": "stdout",
     "output_type": "stream",
     "text": [
      "loading annotations into memory...\n"
     ]
    },
    {
     "name": "stderr",
     "output_type": "stream",
     "text": [
      "2021-05-10 15:39:15,597 - mmdet - INFO - Start running, host: root@05a924235fca, work_dir: /opt/ml/code/mmdetection_trash/work_dirs/faster_rcnn_r50_fpn_1x_trash\n",
      "2021-05-10 15:39:15,598 - mmdet - INFO - workflow: [('train', 1)], max: 12 epochs\n"
     ]
    },
    {
     "name": "stdout",
     "output_type": "stream",
     "text": [
      "Done (t=0.74s)\n",
      "creating index...\n",
      "index created!\n"
     ]
    },
    {
     "name": "stderr",
     "output_type": "stream",
     "text": [
      "2021-05-10 15:39:33,212 - mmdet - INFO - Epoch [1][50/655]\tlr: 1.978e-03, eta: 0:45:50, time: 0.352, data_time: 0.049, memory: 2098, loss_rpn_cls: 0.5638, loss_rpn_bbox: 0.0980, loss_cls: 0.6812, acc: 87.3818, loss_bbox: 0.1772, loss: 1.5203, grad_norm: 6.9496\n",
      "2021-05-10 15:39:48,732 - mmdet - INFO - Epoch [1][100/655]\tlr: 3.976e-03, eta: 0:42:50, time: 0.310, data_time: 0.006, memory: 2098, loss_rpn_cls: 0.2187, loss_rpn_bbox: 0.0777, loss_cls: 0.4094, acc: 91.1787, loss_bbox: 0.3229, loss: 1.0286, grad_norm: 2.6536\n",
      "2021-05-10 15:40:04,131 - mmdet - INFO - Epoch [1][150/655]\tlr: 5.974e-03, eta: 0:41:34, time: 0.308, data_time: 0.006, memory: 2098, loss_rpn_cls: 0.2048, loss_rpn_bbox: 0.0877, loss_cls: 0.4573, acc: 89.7246, loss_bbox: 0.3791, loss: 1.1289, grad_norm: 3.1323\n",
      "2021-05-10 15:40:19,484 - mmdet - INFO - Epoch [1][200/655]\tlr: 7.972e-03, eta: 0:40:46, time: 0.307, data_time: 0.005, memory: 2098, loss_rpn_cls: 0.1952, loss_rpn_bbox: 0.0810, loss_cls: 0.4666, acc: 89.3682, loss_bbox: 0.3907, loss: 1.1334, grad_norm: 3.5374\n",
      "2021-05-10 15:40:34,606 - mmdet - INFO - Epoch [1][250/655]\tlr: 9.970e-03, eta: 0:40:04, time: 0.302, data_time: 0.006, memory: 2098, loss_rpn_cls: 0.1547, loss_rpn_bbox: 0.0713, loss_cls: 0.4334, acc: 88.9375, loss_bbox: 0.4029, loss: 1.0623, grad_norm: 3.1284\n"
     ]
    }
   ],
   "source": [
    "train_detector(model, datasets[0], cfg, distributed=False, validate=True)"
   ]
  },
  {
   "cell_type": "code",
   "execution_count": null,
   "metadata": {},
   "outputs": [],
   "source": []
  }
 ],
 "metadata": {
  "kernelspec": {
   "display_name": "Python 3",
   "language": "python",
   "name": "python3"
  },
  "language_info": {
   "codemirror_mode": {
    "name": "ipython",
    "version": 3
   },
   "file_extension": ".py",
   "mimetype": "text/x-python",
   "name": "python",
   "nbconvert_exporter": "python",
   "pygments_lexer": "ipython3",
   "version": "3.7.7"
  },
  "pycharm": {
   "stem_cell": {
    "cell_type": "raw",
    "metadata": {
     "collapsed": false
    },
    "source": []
   }
  }
 },
 "nbformat": 4,
 "nbformat_minor": 4
}
