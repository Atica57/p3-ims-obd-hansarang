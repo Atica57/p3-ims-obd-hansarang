{
 "cells": [
  {
   "cell_type": "code",
   "execution_count": 1,
   "metadata": {},
   "outputs": [
    {
     "name": "stdout",
     "output_type": "stream",
     "text": [
      "Fri May 14 18:15:43 2021       \n",
      "+-----------------------------------------------------------------------------+\n",
      "| NVIDIA-SMI 418.67       Driver Version: 418.67       CUDA Version: 10.1     |\n",
      "|-------------------------------+----------------------+----------------------+\n",
      "| GPU  Name        Persistence-M| Bus-Id        Disp.A | Volatile Uncorr. ECC |\n",
      "| Fan  Temp  Perf  Pwr:Usage/Cap|         Memory-Usage | GPU-Util  Compute M. |\n",
      "|===============================+======================+======================|\n",
      "|   0  Tesla P40           On   | 00000000:00:05.0 Off |                  Off |\n",
      "| N/A   27C    P0    54W / 250W |      0MiB / 24451MiB |      0%      Default |\n",
      "+-------------------------------+----------------------+----------------------+\n",
      "                                                                               \n",
      "+-----------------------------------------------------------------------------+\n",
      "| Processes:                                                       GPU Memory |\n",
      "|  GPU       PID   Type   Process name                             Usage      |\n",
      "|=============================================================================|\n",
      "|  No running processes found                                                 |\n",
      "+-----------------------------------------------------------------------------+\n"
     ]
    }
   ],
   "source": [
    "!nvidia-smi"
   ]
  },
  {
   "cell_type": "code",
   "execution_count": 2,
   "metadata": {
    "pycharm": {
     "name": "#%%\n"
    }
   },
   "outputs": [
    {
     "name": "stdout",
     "output_type": "stream",
     "text": [
      "apex is not installed\n",
      "apex is not installed\n",
      "apex is not installed\n",
      "apex is not installed\n"
     ]
    }
   ],
   "source": [
    "from mmcv import Config\n",
    "from mmdet.datasets import build_dataset\n",
    "from mmdet.models import build_detector\n",
    "from mmdet.apis import train_detector\n",
    "from mmdet.datasets import (build_dataloader, build_dataset,\n",
    "                            replace_ImageToTensor)"
   ]
  },
  {
   "cell_type": "code",
   "execution_count": 3,
   "metadata": {
    "pycharm": {
     "name": "#%%\n"
    }
   },
   "outputs": [],
   "source": [
    "# config file 들고오기\n",
    "cfg = Config.fromfile('./configs/swin/casmaskrcnn_swin_base_p4_win7_adamw_Crunner_trash.py')\n",
    "\n",
    "cfg.seed = 42\n",
    "cfg.gpu_ids = [0]\n",
    "cfg.work_dir = './work_dirs/casmaskrcnn_swin_base_p4_win7_adamw_Crunner_trash_1'\n",
    "\n",
    "#cfg.optimizer_config.grad_clip = dict(max_norm=35, norm_type=2)"
   ]
  },
  {
   "cell_type": "code",
   "execution_count": 4,
   "metadata": {},
   "outputs": [],
   "source": [
    "group_name = 'cascade_swinbase'; project_name = 'kw_ojd_p3_2'; run_name = \"1_autoaug_anchoradded_rpn\"\n",
    "config_list = {\n",
    "    'epoch' : cfg.runner.max_epochs,\n",
    "    'batch_size' :  cfg.data.samples_per_gpu,\n",
    "    'optimizer' : cfg.optimizer,\n",
    "    'optimizer_config' : cfg.optimizer_config,\n",
    "    'lr_config' : cfg.lr_config\n",
    "}\n",
    "cfg.log_config.hooks[1].init_kwargs['group'] = group_name # group name(option)\n",
    "cfg.log_config.hooks[1].init_kwargs['name'] = run_name # run name\n",
    "cfg.log_config.hooks[1].init_kwargs['config'] = config_list # config"
   ]
  },
  {
   "cell_type": "code",
   "execution_count": 5,
   "metadata": {
    "pycharm": {
     "name": "#%%\n"
    }
   },
   "outputs": [
    {
     "name": "stderr",
     "output_type": "stream",
     "text": [
      "2021-05-14 18:15:55,327 - mmdet - INFO - load model from: /opt/ml/code/pretrained_pth/swin_base_patch4_window7_224.pth\n",
      "2021-05-14 18:15:56,389 - mmdet - WARNING - The model and loaded state dict do not match exactly\n",
      "\n",
      "unexpected key in source state_dict: norm.weight, norm.bias, head.weight, head.bias, layers.0.blocks.1.attn_mask, layers.1.blocks.1.attn_mask, layers.2.blocks.1.attn_mask, layers.2.blocks.3.attn_mask, layers.2.blocks.5.attn_mask, layers.2.blocks.7.attn_mask, layers.2.blocks.9.attn_mask, layers.2.blocks.11.attn_mask, layers.2.blocks.13.attn_mask, layers.2.blocks.15.attn_mask, layers.2.blocks.17.attn_mask\n",
      "\n",
      "missing keys in source state_dict: norm0.weight, norm0.bias, norm1.weight, norm1.bias, norm2.weight, norm2.bias, norm3.weight, norm3.bias\n",
      "\n"
     ]
    }
   ],
   "source": [
    "model = build_detector(cfg.model)"
   ]
  },
  {
   "cell_type": "code",
   "execution_count": 6,
   "metadata": {},
   "outputs": [
    {
     "name": "stdout",
     "output_type": "stream",
     "text": [
      "Use load_from_local loader\n",
      "The model and loaded state dict do not match exactly\n",
      "\n",
      "size mismatch for rpn_head.rpn_cls.weight: copying a param with shape torch.Size([3, 256, 1, 1]) from checkpoint, the shape in current model is torch.Size([12, 256, 1, 1]).\n",
      "size mismatch for rpn_head.rpn_cls.bias: copying a param with shape torch.Size([3]) from checkpoint, the shape in current model is torch.Size([12]).\n",
      "size mismatch for rpn_head.rpn_reg.weight: copying a param with shape torch.Size([12, 256, 1, 1]) from checkpoint, the shape in current model is torch.Size([48, 256, 1, 1]).\n",
      "size mismatch for rpn_head.rpn_reg.bias: copying a param with shape torch.Size([12]) from checkpoint, the shape in current model is torch.Size([48]).\n",
      "size mismatch for roi_head.bbox_head.0.fc_cls.weight: copying a param with shape torch.Size([81, 1024]) from checkpoint, the shape in current model is torch.Size([12, 1024]).\n",
      "size mismatch for roi_head.bbox_head.0.fc_cls.bias: copying a param with shape torch.Size([81]) from checkpoint, the shape in current model is torch.Size([12]).\n",
      "size mismatch for roi_head.bbox_head.0.fc_reg.weight: copying a param with shape torch.Size([320, 1024]) from checkpoint, the shape in current model is torch.Size([44, 1024]).\n",
      "size mismatch for roi_head.bbox_head.0.fc_reg.bias: copying a param with shape torch.Size([320]) from checkpoint, the shape in current model is torch.Size([44]).\n",
      "size mismatch for roi_head.bbox_head.1.fc_cls.weight: copying a param with shape torch.Size([81, 1024]) from checkpoint, the shape in current model is torch.Size([12, 1024]).\n",
      "size mismatch for roi_head.bbox_head.1.fc_cls.bias: copying a param with shape torch.Size([81]) from checkpoint, the shape in current model is torch.Size([12]).\n",
      "size mismatch for roi_head.bbox_head.1.fc_reg.weight: copying a param with shape torch.Size([320, 1024]) from checkpoint, the shape in current model is torch.Size([44, 1024]).\n",
      "size mismatch for roi_head.bbox_head.1.fc_reg.bias: copying a param with shape torch.Size([320]) from checkpoint, the shape in current model is torch.Size([44]).\n",
      "size mismatch for roi_head.bbox_head.2.fc_cls.weight: copying a param with shape torch.Size([81, 1024]) from checkpoint, the shape in current model is torch.Size([12, 1024]).\n",
      "size mismatch for roi_head.bbox_head.2.fc_cls.bias: copying a param with shape torch.Size([81]) from checkpoint, the shape in current model is torch.Size([12]).\n",
      "size mismatch for roi_head.bbox_head.2.fc_reg.weight: copying a param with shape torch.Size([320, 1024]) from checkpoint, the shape in current model is torch.Size([44, 1024]).\n",
      "size mismatch for roi_head.bbox_head.2.fc_reg.bias: copying a param with shape torch.Size([320]) from checkpoint, the shape in current model is torch.Size([44]).\n",
      "size mismatch for roi_head.mask_head.0.conv_logits.weight: copying a param with shape torch.Size([80, 256, 1, 1]) from checkpoint, the shape in current model is torch.Size([11, 256, 1, 1]).\n",
      "size mismatch for roi_head.mask_head.0.conv_logits.bias: copying a param with shape torch.Size([80]) from checkpoint, the shape in current model is torch.Size([11]).\n",
      "size mismatch for roi_head.mask_head.1.conv_logits.weight: copying a param with shape torch.Size([80, 256, 1, 1]) from checkpoint, the shape in current model is torch.Size([11, 256, 1, 1]).\n",
      "size mismatch for roi_head.mask_head.1.conv_logits.bias: copying a param with shape torch.Size([80]) from checkpoint, the shape in current model is torch.Size([11]).\n",
      "size mismatch for roi_head.mask_head.2.conv_logits.weight: copying a param with shape torch.Size([80, 256, 1, 1]) from checkpoint, the shape in current model is torch.Size([11, 256, 1, 1]).\n",
      "size mismatch for roi_head.mask_head.2.conv_logits.bias: copying a param with shape torch.Size([80]) from checkpoint, the shape in current model is torch.Size([11]).\n"
     ]
    }
   ],
   "source": [
    "from mmcv.runner import load_checkpoint\n",
    "checkpoint = load_checkpoint(model, \"../pretrained_pth/cascade_mask_rcnn_swin_base_patch4_window7.pth\", map_location='cuda:0')"
   ]
  },
  {
   "cell_type": "code",
   "execution_count": 7,
   "metadata": {
    "pycharm": {
     "name": "#%%\n"
    }
   },
   "outputs": [
    {
     "name": "stdout",
     "output_type": "stream",
     "text": [
      "loading annotations into memory...\n",
      "Done (t=3.51s)\n",
      "creating index...\n",
      "index created!\n"
     ]
    }
   ],
   "source": [
    "datasets = [build_dataset(cfg.data.train)]"
   ]
  },
  {
   "cell_type": "code",
   "execution_count": null,
   "metadata": {
    "pycharm": {
     "name": "#%%\n"
    }
   },
   "outputs": [
    {
     "name": "stdout",
     "output_type": "stream",
     "text": [
      "loading annotations into memory...\n"
     ]
    },
    {
     "name": "stderr",
     "output_type": "stream",
     "text": [
      "2021-05-14 18:16:17,382 - mmdet - INFO - Start running, host: root@45b74c7c03c9, work_dir: /opt/ml/code/mmdetection_trash/work_dirs/casmaskrcnn_swin_base_p4_win7_adamw_Crunner_trash_1\n",
      "2021-05-14 18:16:17,383 - mmdet - INFO - workflow: [('train', 1)], max: 20 epochs\n"
     ]
    },
    {
     "name": "stdout",
     "output_type": "stream",
     "text": [
      "Done (t=0.83s)\n",
      "creating index...\n",
      "index created!\n"
     ]
    },
    {
     "name": "stderr",
     "output_type": "stream",
     "text": [
      "\u001b[34m\u001b[1mwandb\u001b[0m: Currently logged in as: \u001b[33mpstage12\u001b[0m (use `wandb login --relogin` to force relogin)\n"
     ]
    },
    {
     "data": {
      "text/html": [
       "\n",
       "                Tracking run with wandb version 0.10.30<br/>\n",
       "                Syncing run <strong style=\"color:#cdcd00\">1_autoaug_anchoradded_rpn</strong> to <a href=\"https://wandb.ai\" target=\"_blank\">Weights & Biases</a> <a href=\"https://docs.wandb.com/integrations/jupyter.html\" target=\"_blank\">(Documentation)</a>.<br/>\n",
       "                Project page: <a href=\"https://wandb.ai/pstage12/kw_ojd_p3_2\" target=\"_blank\">https://wandb.ai/pstage12/kw_ojd_p3_2</a><br/>\n",
       "                Run page: <a href=\"https://wandb.ai/pstage12/kw_ojd_p3_2/runs/3vj70gw9\" target=\"_blank\">https://wandb.ai/pstage12/kw_ojd_p3_2/runs/3vj70gw9</a><br/>\n",
       "                Run data is saved locally in <code>/opt/ml/code/mmdetection_trash/wandb/run-20210514_181617-3vj70gw9</code><br/><br/>\n",
       "            "
      ],
      "text/plain": [
       "<IPython.core.display.HTML object>"
      ]
     },
     "metadata": {},
     "output_type": "display_data"
    },
    {
     "name": "stderr",
     "output_type": "stream",
     "text": [
      "2021-05-14 18:16:40,278 - mmdet - INFO - Epoch [1][10/524]\tlr: 1.898e-06, eta: 5:22:49, time: 1.850, data_time: 0.264, memory: 14431, loss_rpn_cls: 0.8939, loss_rpn_bbox: 1.5167, s0.loss_cls: 2.2178, s0.acc: 36.2891, s0.loss_bbox: 0.0544, s0.loss_mask: 2.3031, s1.loss_cls: 1.5144, s1.acc: 0.0469, s1.loss_bbox: 0.0060, s1.loss_mask: 1.2513, s2.loss_cls: 0.6704, s2.acc: 0.0938, s2.loss_bbox: 0.0008, s2.loss_mask: 0.2925, loss: 10.7213\n",
      "2021-05-14 18:16:56,156 - mmdet - INFO - Epoch [1][20/524]\tlr: 3.896e-06, eta: 4:59:39, time: 1.588, data_time: 0.022, memory: 14431, loss_rpn_cls: 0.8915, loss_rpn_bbox: 1.4425, s0.loss_cls: 2.1709, s0.acc: 54.4180, s0.loss_bbox: 0.0507, s0.loss_mask: 2.1224, s1.loss_cls: 1.5029, s1.acc: 0.0234, s1.loss_bbox: 0.0067, s1.loss_mask: 1.1514, s2.loss_cls: 0.6665, s2.acc: 0.0664, s2.loss_bbox: 0.0007, s2.loss_mask: 0.3101, loss: 10.3163\n",
      "2021-05-14 18:17:12,031 - mmdet - INFO - Epoch [1][30/524]\tlr: 5.894e-06, eta: 4:51:44, time: 1.587, data_time: 0.019, memory: 14431, loss_rpn_cls: 0.8440, loss_rpn_bbox: 1.2818, s0.loss_cls: 2.0844, s0.acc: 67.8828, s0.loss_bbox: 0.0311, s0.loss_mask: 1.8732, s1.loss_cls: 1.4666, s1.acc: 0.0039, s1.loss_bbox: 0.0032, s1.loss_mask: 0.9800, s2.loss_cls: 0.6449, s2.acc: 0.0547, s2.loss_bbox: 0.0005, s2.loss_mask: 0.3374, loss: 9.5472\n",
      "2021-05-14 18:17:28,094 - mmdet - INFO - Epoch [1][40/524]\tlr: 7.892e-06, eta: 4:48:28, time: 1.606, data_time: 0.022, memory: 14431, loss_rpn_cls: 0.8082, loss_rpn_bbox: 1.1204, s0.loss_cls: 1.9554, s0.acc: 78.8906, s0.loss_bbox: 0.0563, s0.loss_mask: 1.6369, s1.loss_cls: 1.3883, s1.acc: 0.0703, s1.loss_bbox: 0.0074, s1.loss_mask: 0.8842, s2.loss_cls: 0.6137, s2.acc: 0.2383, s2.loss_bbox: 0.0009, s2.loss_mask: 0.2720, loss: 8.7439\n",
      "2021-05-14 18:17:43,997 - mmdet - INFO - Epoch [1][50/524]\tlr: 9.890e-06, eta: 4:45:51, time: 1.591, data_time: 0.019, memory: 14431, loss_rpn_cls: 0.7629, loss_rpn_bbox: 0.8746, s0.loss_cls: 1.6976, s0.acc: 90.2070, s0.loss_bbox: 0.0554, s0.loss_mask: 1.4286, s1.loss_cls: 1.3194, s1.acc: 0.1445, s1.loss_bbox: 0.0073, s1.loss_mask: 0.8195, s2.loss_cls: 0.5755, s2.acc: 1.9219, s2.loss_bbox: 0.0008, s2.loss_mask: 0.2485, loss: 7.7901\n",
      "2021-05-14 18:18:00,142 - mmdet - INFO - Epoch [1][60/524]\tlr: 1.189e-05, eta: 4:44:42, time: 1.614, data_time: 0.020, memory: 14515, loss_rpn_cls: 0.7180, loss_rpn_bbox: 0.6606, s0.loss_cls: 1.4119, s0.acc: 95.8242, s0.loss_bbox: 0.0434, s0.loss_mask: 1.1911, s1.loss_cls: 1.1931, s1.acc: 27.7305, s1.loss_bbox: 0.0072, s1.loss_mask: 0.7173, s2.loss_cls: 0.5247, s2.acc: 48.4219, s2.loss_bbox: 0.0008, s2.loss_mask: 0.2137, loss: 6.6817\n",
      "2021-05-14 18:18:15,510 - mmdet - INFO - Epoch [1][70/524]\tlr: 1.389e-05, eta: 4:41:53, time: 1.537, data_time: 0.019, memory: 14515, loss_rpn_cls: 0.6935, loss_rpn_bbox: 0.6131, s0.loss_cls: 1.0280, s0.acc: 97.2109, s0.loss_bbox: 0.0548, s0.loss_mask: 1.0273, s1.loss_cls: 1.0074, s1.acc: 55.1172, s1.loss_bbox: 0.0074, s1.loss_mask: 0.5650, s2.loss_cls: 0.4466, s2.acc: 72.3906, s2.loss_bbox: 0.0009, s2.loss_mask: 0.1886, loss: 5.6326\n",
      "2021-05-14 18:18:31,418 - mmdet - INFO - Epoch [1][80/524]\tlr: 1.588e-05, eta: 4:40:53, time: 1.591, data_time: 0.019, memory: 14515, loss_rpn_cls: 0.6581, loss_rpn_bbox: 0.4479, s0.loss_cls: 0.7170, s0.acc: 97.4805, s0.loss_bbox: 0.0492, s0.loss_mask: 0.9418, s1.loss_cls: 0.7513, s1.acc: 73.5391, s1.loss_bbox: 0.0069, s1.loss_mask: 0.5560, s2.loss_cls: 0.3529, s2.acc: 92.2148, s2.loss_bbox: 0.0005, s2.loss_mask: 0.1700, loss: 4.6516\n",
      "2021-05-14 18:18:46,849 - mmdet - INFO - Epoch [1][90/524]\tlr: 1.788e-05, eta: 4:39:07, time: 1.543, data_time: 0.016, memory: 14515, loss_rpn_cls: 0.6642, loss_rpn_bbox: 0.4439, s0.loss_cls: 0.4032, s0.acc: 97.5000, s0.loss_bbox: 0.0510, s0.loss_mask: 0.9425, s1.loss_cls: 0.4843, s1.acc: 93.7812, s1.loss_bbox: 0.0082, s1.loss_mask: 0.4353, s2.loss_cls: 0.2404, s2.acc: 98.2383, s2.loss_bbox: 0.0008, s2.loss_mask: 0.1865, loss: 3.8605\n",
      "2021-05-14 18:19:02,189 - mmdet - INFO - Epoch [1][100/524]\tlr: 1.988e-05, eta: 4:37:30, time: 1.534, data_time: 0.020, memory: 14515, loss_rpn_cls: 0.6499, loss_rpn_bbox: 0.3729, s0.loss_cls: 0.2891, s0.acc: 96.6055, s0.loss_bbox: 0.0878, s0.loss_mask: 0.8414, s1.loss_cls: 0.3384, s1.acc: 97.8633, s1.loss_bbox: 0.0115, s1.loss_mask: 0.4070, s2.loss_cls: 0.1505, s2.acc: 98.3477, s2.loss_bbox: 0.0015, s2.loss_mask: 0.1769, loss: 3.3269\n",
      "2021-05-14 18:19:17,569 - mmdet - INFO - Epoch [1][110/524]\tlr: 2.188e-05, eta: 4:36:12, time: 1.538, data_time: 0.018, memory: 14515, loss_rpn_cls: 0.6273, loss_rpn_bbox: 0.3194, s0.loss_cls: 0.2271, s0.acc: 96.0547, s0.loss_bbox: 0.1169, s0.loss_mask: 0.7282, s1.loss_cls: 0.1920, s1.acc: 97.8125, s1.loss_bbox: 0.0147, s1.loss_mask: 0.3522, s2.loss_cls: 0.0816, s2.acc: 98.4102, s2.loss_bbox: 0.0017, s2.loss_mask: 0.1393, loss: 2.8004\n",
      "2021-05-14 18:19:33,301 - mmdet - INFO - Epoch [1][120/524]\tlr: 2.388e-05, eta: 4:35:34, time: 1.573, data_time: 0.019, memory: 14515, loss_rpn_cls: 0.6178, loss_rpn_bbox: 0.2680, s0.loss_cls: 0.1716, s0.acc: 96.3281, s0.loss_bbox: 0.0911, s0.loss_mask: 0.7864, s1.loss_cls: 0.0932, s1.acc: 97.5664, s1.loss_bbox: 0.0148, s1.loss_mask: 0.3602, s2.loss_cls: 0.0421, s2.acc: 98.1641, s2.loss_bbox: 0.0017, s2.loss_mask: 0.1522, loss: 2.5992\n",
      "2021-05-14 18:19:49,585 - mmdet - INFO - Epoch [1][130/524]\tlr: 2.587e-05, eta: 4:35:44, time: 1.628, data_time: 0.021, memory: 14542, loss_rpn_cls: 0.6323, loss_rpn_bbox: 0.2753, s0.loss_cls: 0.2781, s0.acc: 93.3008, s0.loss_bbox: 0.2010, s0.loss_mask: 0.6309, s1.loss_cls: 0.1115, s1.acc: 96.0469, s1.loss_bbox: 0.0306, s1.loss_mask: 0.3166, s2.loss_cls: 0.0431, s2.acc: 97.2695, s2.loss_bbox: 0.0038, s2.loss_mask: 0.1486, loss: 2.6720\n",
      "2021-05-14 18:20:06,677 - mmdet - INFO - Epoch [1][140/524]\tlr: 2.787e-05, eta: 4:36:50, time: 1.710, data_time: 0.021, memory: 14643, loss_rpn_cls: 0.6175, loss_rpn_bbox: 0.2238, s0.loss_cls: 0.2146, s0.acc: 94.7461, s0.loss_bbox: 0.1617, s0.loss_mask: 0.6753, s1.loss_cls: 0.0788, s1.acc: 97.0195, s1.loss_bbox: 0.0243, s1.loss_mask: 0.3616, s2.loss_cls: 0.0295, s2.acc: 97.9727, s2.loss_bbox: 0.0031, s2.loss_mask: 0.1401, loss: 2.5302\n",
      "2021-05-14 18:20:22,584 - mmdet - INFO - Epoch [1][150/524]\tlr: 2.987e-05, eta: 4:36:23, time: 1.590, data_time: 0.018, memory: 14643, loss_rpn_cls: 0.6109, loss_rpn_bbox: 0.2146, s0.loss_cls: 0.2283, s0.acc: 94.0781, s0.loss_bbox: 0.1869, s0.loss_mask: 0.6273, s1.loss_cls: 0.0830, s1.acc: 96.6914, s1.loss_bbox: 0.0297, s1.loss_mask: 0.2985, s2.loss_cls: 0.0289, s2.acc: 97.9102, s2.loss_bbox: 0.0034, s2.loss_mask: 0.1283, loss: 2.4398\n",
      "2021-05-14 18:20:40,040 - mmdet - INFO - Epoch [1][160/524]\tlr: 3.187e-05, eta: 4:37:37, time: 1.746, data_time: 0.022, memory: 14868, loss_rpn_cls: 0.5981, loss_rpn_bbox: 0.2127, s0.loss_cls: 0.2379, s0.acc: 93.3711, s0.loss_bbox: 0.2193, s0.loss_mask: 0.5532, s1.loss_cls: 0.0835, s1.acc: 96.4062, s1.loss_bbox: 0.0345, s1.loss_mask: 0.3072, s2.loss_cls: 0.0279, s2.acc: 97.8477, s2.loss_bbox: 0.0037, s2.loss_mask: 0.1280, loss: 2.4062\n",
      "2021-05-14 18:20:57,356 - mmdet - INFO - Epoch [1][170/524]\tlr: 3.387e-05, eta: 4:38:32, time: 1.731, data_time: 0.022, memory: 14868, loss_rpn_cls: 0.5902, loss_rpn_bbox: 0.2467, s0.loss_cls: 0.2680, s0.acc: 91.9414, s0.loss_bbox: 0.2761, s0.loss_mask: 0.5528, s1.loss_cls: 0.0945, s1.acc: 95.6953, s1.loss_bbox: 0.0458, s1.loss_mask: 0.2851, s2.loss_cls: 0.0307, s2.acc: 97.5156, s2.loss_bbox: 0.0058, s2.loss_mask: 0.1234, loss: 2.5192\n",
      "2021-05-14 18:21:14,000 - mmdet - INFO - Epoch [1][180/524]\tlr: 3.586e-05, eta: 4:38:41, time: 1.664, data_time: 0.019, memory: 14868, loss_rpn_cls: 0.5644, loss_rpn_bbox: 0.1951, s0.loss_cls: 0.2374, s0.acc: 92.2852, s0.loss_bbox: 0.2685, s0.loss_mask: 0.5140, s1.loss_cls: 0.0859, s1.acc: 95.7734, s1.loss_bbox: 0.0457, s1.loss_mask: 0.2635, s2.loss_cls: 0.0268, s2.acc: 97.6289, s2.loss_bbox: 0.0056, s2.loss_mask: 0.1108, loss: 2.3177\n",
      "2021-05-14 18:21:30,989 - mmdet - INFO - Epoch [1][190/524]\tlr: 3.786e-05, eta: 4:39:06, time: 1.699, data_time: 0.018, memory: 14868, loss_rpn_cls: 0.5411, loss_rpn_bbox: 0.1945, s0.loss_cls: 0.2401, s0.acc: 92.3281, s0.loss_bbox: 0.2714, s0.loss_mask: 0.5079, s1.loss_cls: 0.0904, s1.acc: 95.5039, s1.loss_bbox: 0.0511, s1.loss_mask: 0.2548, s2.loss_cls: 0.0272, s2.acc: 97.5781, s2.loss_bbox: 0.0062, s2.loss_mask: 0.1141, loss: 2.2986\n"
     ]
    }
   ],
   "source": [
    "train_detector(model, datasets[0], cfg, distributed=False, validate=True)"
   ]
  },
  {
   "cell_type": "code",
   "execution_count": null,
   "metadata": {},
   "outputs": [],
   "source": []
  }
 ],
 "metadata": {
  "kernelspec": {
   "display_name": "Python 3",
   "language": "python",
   "name": "python3"
  },
  "language_info": {
   "codemirror_mode": {
    "name": "ipython",
    "version": 3
   },
   "file_extension": ".py",
   "mimetype": "text/x-python",
   "name": "python",
   "nbconvert_exporter": "python",
   "pygments_lexer": "ipython3",
   "version": "3.7.7"
  },
  "pycharm": {
   "stem_cell": {
    "cell_type": "raw",
    "metadata": {
     "collapsed": false
    },
    "source": []
   }
  }
 },
 "nbformat": 4,
 "nbformat_minor": 4
}
