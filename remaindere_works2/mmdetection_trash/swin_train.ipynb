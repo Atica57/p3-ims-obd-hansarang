{
 "cells": [
  {
   "cell_type": "code",
   "execution_count": 1,
   "metadata": {},
   "outputs": [
    {
     "name": "stdout",
     "output_type": "stream",
     "text": [
      "Fri May 14 00:23:23 2021       \n",
      "+-----------------------------------------------------------------------------+\n",
      "| NVIDIA-SMI 418.67       Driver Version: 418.67       CUDA Version: 10.1     |\n",
      "|-------------------------------+----------------------+----------------------+\n",
      "| GPU  Name        Persistence-M| Bus-Id        Disp.A | Volatile Uncorr. ECC |\n",
      "| Fan  Temp  Perf  Pwr:Usage/Cap|         Memory-Usage | GPU-Util  Compute M. |\n",
      "|===============================+======================+======================|\n",
      "|   0  Tesla P40           On   | 00000000:00:05.0 Off |                  Off |\n",
      "| N/A   26C    P8    10W / 250W |      0MiB / 24451MiB |      0%      Default |\n",
      "+-------------------------------+----------------------+----------------------+\n",
      "                                                                               \n",
      "+-----------------------------------------------------------------------------+\n",
      "| Processes:                                                       GPU Memory |\n",
      "|  GPU       PID   Type   Process name                             Usage      |\n",
      "|=============================================================================|\n",
      "|  No running processes found                                                 |\n",
      "+-----------------------------------------------------------------------------+\n"
     ]
    }
   ],
   "source": [
    "!nvidia-smi"
   ]
  },
  {
   "cell_type": "code",
   "execution_count": 2,
   "metadata": {
    "pycharm": {
     "name": "#%%\n"
    }
   },
   "outputs": [
    {
     "name": "stdout",
     "output_type": "stream",
     "text": [
      "apex is not installed\n",
      "apex is not installed\n",
      "apex is not installed\n",
      "apex is not installed\n"
     ]
    }
   ],
   "source": [
    "from mmcv import Config\n",
    "from mmdet.datasets import build_dataset\n",
    "from mmdet.models import build_detector\n",
    "from mmdet.apis import train_detector\n",
    "from mmdet.datasets import (build_dataloader, build_dataset,\n",
    "                            replace_ImageToTensor)"
   ]
  },
  {
   "cell_type": "code",
   "execution_count": 3,
   "metadata": {
    "pycharm": {
     "name": "#%%\n"
    }
   },
   "outputs": [],
   "source": [
    "# config file 들고오기\n",
    "cfg = Config.fromfile('./configs/swin/cascade_mask_rcnn_swin_base_patch4_window12_mstrain_480-800_giou_4conv1f_adamw_3x_coco.py')\n",
    "\n",
    "cfg.seed = 42\n",
    "cfg.gpu_ids = [0]\n",
    "cfg.work_dir = './work_dirs/cascade_mask_rcnn_swin_base_patch4_window12_mstrain_480-800_giou_4conv1f_adamw_3x_coco'\n",
    "\n",
    "#cfg.optimizer_config.grad_clip = dict(max_norm=35, norm_type=2)"
   ]
  },
  {
   "cell_type": "code",
   "execution_count": 4,
   "metadata": {},
   "outputs": [],
   "source": [
    "group_name = 'cascade'; project_name = 'kw_ojd_p3_2'; run_name = \"swin_base_window12_Pretrained22K_continued1/10lr_\"\n",
    "config_list = {\n",
    "    'epoch' : cfg.runner.max_epochs,\n",
    "    'batch_size' :  cfg.data.samples_per_gpu,\n",
    "    'optimizer' : cfg.optimizer,\n",
    "    'optimizer_config' : cfg.optimizer_config,\n",
    "    'lr_config' : cfg.lr_config\n",
    "}\n",
    "cfg.log_config.hooks[1].init_kwargs['group'] = group_name # group name(option)\n",
    "cfg.log_config.hooks[1].init_kwargs['name'] = run_name # run name\n",
    "cfg.log_config.hooks[1].init_kwargs['config'] = config_list # config"
   ]
  },
  {
   "cell_type": "code",
   "execution_count": 5,
   "metadata": {
    "pycharm": {
     "name": "#%%\n"
    }
   },
   "outputs": [
    {
     "name": "stderr",
     "output_type": "stream",
     "text": [
      "2021-05-13 20:39:17,676 - mmdet - INFO - load model from: /opt/ml/code/mmdetection_trash/pretrained_pth/swin_base_patch4_window12_384_22k.pth\n",
      "2021-05-13 20:39:18,793 - mmdet - WARNING - The model and loaded state dict do not match exactly\n",
      "\n",
      "unexpected key in source state_dict: norm.weight, norm.bias, head.weight, head.bias, layers.0.blocks.1.attn_mask, layers.1.blocks.1.attn_mask, layers.2.blocks.1.attn_mask, layers.2.blocks.3.attn_mask, layers.2.blocks.5.attn_mask, layers.2.blocks.7.attn_mask, layers.2.blocks.9.attn_mask, layers.2.blocks.11.attn_mask, layers.2.blocks.13.attn_mask, layers.2.blocks.15.attn_mask, layers.2.blocks.17.attn_mask\n",
      "\n",
      "missing keys in source state_dict: norm0.weight, norm0.bias, norm1.weight, norm1.bias, norm2.weight, norm2.bias, norm3.weight, norm3.bias\n",
      "\n"
     ]
    }
   ],
   "source": [
    "model = build_detector(cfg.model)"
   ]
  },
  {
   "cell_type": "code",
   "execution_count": 6,
   "metadata": {},
   "outputs": [
    {
     "name": "stdout",
     "output_type": "stream",
     "text": [
      "Use load_from_local loader\n"
     ]
    }
   ],
   "source": [
    "from mmcv.runner import load_checkpoint\n",
    "checkpoint = load_checkpoint(model, \"./work_dirs/cascade_mask_rcnn_swin_base_patch4_window12_mstrain_480-800_giou_4conv1f_adamw_3x_coco/epoch_15.pth\", map_location='cuda:0')"
   ]
  },
  {
   "cell_type": "code",
   "execution_count": 7,
   "metadata": {
    "pycharm": {
     "name": "#%%\n"
    }
   },
   "outputs": [
    {
     "name": "stdout",
     "output_type": "stream",
     "text": [
      "loading annotations into memory...\n",
      "Done (t=3.51s)\n",
      "creating index...\n",
      "index created!\n"
     ]
    }
   ],
   "source": [
    "datasets = [build_dataset(cfg.data.train)]"
   ]
  },
  {
   "cell_type": "code",
   "execution_count": null,
   "metadata": {
    "pycharm": {
     "name": "#%%\n"
    }
   },
   "outputs": [
    {
     "name": "stdout",
     "output_type": "stream",
     "text": [
      "loading annotations into memory...\n"
     ]
    },
    {
     "name": "stderr",
     "output_type": "stream",
     "text": [
      "2021-05-13 20:39:32,031 - mmdet - INFO - Start running, host: root@45b74c7c03c9, work_dir: /opt/ml/code/mmdetection_trash/work_dirs/cascade_mask_rcnn_swin_base_patch4_window12_mstrain_480-800_giou_4conv1f_adamw_3x_coco\n",
      "2021-05-13 20:39:32,032 - mmdet - INFO - workflow: [('train', 1)], max: 36 epochs\n"
     ]
    },
    {
     "name": "stdout",
     "output_type": "stream",
     "text": [
      "Done (t=0.84s)\n",
      "creating index...\n",
      "index created!\n"
     ]
    },
    {
     "name": "stderr",
     "output_type": "stream",
     "text": [
      "\u001b[34m\u001b[1mwandb\u001b[0m: Currently logged in as: \u001b[33mpstage12\u001b[0m (use `wandb login --relogin` to force relogin)\n"
     ]
    },
    {
     "data": {
      "text/html": [
       "\n",
       "                Tracking run with wandb version 0.10.30<br/>\n",
       "                Syncing run <strong style=\"color:#cdcd00\">swin_base_window12_Pretrained22K_continued_from_epoch10_epoch15</strong> to <a href=\"https://wandb.ai\" target=\"_blank\">Weights & Biases</a> <a href=\"https://docs.wandb.com/integrations/jupyter.html\" target=\"_blank\">(Documentation)</a>.<br/>\n",
       "                Project page: <a href=\"https://wandb.ai/pstage12/kw_ojd_p3_2\" target=\"_blank\">https://wandb.ai/pstage12/kw_ojd_p3_2</a><br/>\n",
       "                Run page: <a href=\"https://wandb.ai/pstage12/kw_ojd_p3_2/runs/2vgzd6gh\" target=\"_blank\">https://wandb.ai/pstage12/kw_ojd_p3_2/runs/2vgzd6gh</a><br/>\n",
       "                Run data is saved locally in <code>/opt/ml/code/mmdetection_trash/wandb/run-20210513_203932-2vgzd6gh</code><br/><br/>\n",
       "            "
      ],
      "text/plain": [
       "<IPython.core.display.HTML object>"
      ]
     },
     "metadata": {},
     "output_type": "display_data"
    },
    {
     "name": "stderr",
     "output_type": "stream",
     "text": [
      "2021-05-13 20:39:57,142 - mmdet - INFO - Epoch [1][10/655]\tlr: 9.491e-09, eta: 13:33:22, time: 2.071, data_time: 0.255, memory: 17462, loss_rpn_cls: 0.0143, loss_rpn_bbox: 0.0243, s0.loss_cls: 0.1126, s0.acc: 95.9766, s0.loss_bbox: 0.2245, s0.loss_mask: 0.1908, s1.loss_cls: 0.0449, s1.acc: 97.0131, s1.loss_bbox: 0.0925, s1.loss_mask: 0.0852, s2.loss_cls: 0.0217, s2.acc: 96.8301, s2.loss_bbox: 0.0383, s2.loss_mask: 0.0395, loss: 0.8886\n",
      "2021-05-13 20:40:15,284 - mmdet - INFO - Epoch [1][20/655]\tlr: 1.948e-08, eta: 12:42:42, time: 1.814, data_time: 0.024, memory: 17462, loss_rpn_cls: 0.0142, loss_rpn_bbox: 0.0158, s0.loss_cls: 0.1049, s0.acc: 96.2109, s0.loss_bbox: 0.2087, s0.loss_mask: 0.1816, s1.loss_cls: 0.0396, s1.acc: 97.0923, s1.loss_bbox: 0.0880, s1.loss_mask: 0.0828, s2.loss_cls: 0.0178, s2.acc: 97.3846, s2.loss_bbox: 0.0381, s2.loss_mask: 0.0382, loss: 0.8298\n",
      "2021-05-13 20:40:34,137 - mmdet - INFO - Epoch [1][30/655]\tlr: 2.947e-08, eta: 12:34:54, time: 1.885, data_time: 0.033, memory: 17482, loss_rpn_cls: 0.0299, loss_rpn_bbox: 0.0344, s0.loss_cls: 0.1616, s0.acc: 94.2041, s0.loss_bbox: 0.3332, s0.loss_mask: 0.2398, s1.loss_cls: 0.0636, s1.acc: 95.5086, s1.loss_bbox: 0.1339, s1.loss_mask: 0.1042, s2.loss_cls: 0.0295, s2.acc: 95.7774, s2.loss_bbox: 0.0520, s2.loss_mask: 0.0470, loss: 1.2290\n",
      "2021-05-13 20:40:52,407 - mmdet - INFO - Epoch [1][40/655]\tlr: 3.946e-08, eta: 12:25:09, time: 1.827, data_time: 0.028, memory: 17482, loss_rpn_cls: 0.0216, loss_rpn_bbox: 0.0298, s0.loss_cls: 0.1283, s0.acc: 95.3711, s0.loss_bbox: 0.2349, s0.loss_mask: 0.2056, s1.loss_cls: 0.0488, s1.acc: 96.7765, s1.loss_bbox: 0.0944, s1.loss_mask: 0.0920, s2.loss_cls: 0.0238, s2.acc: 96.9859, s2.loss_bbox: 0.0390, s2.loss_mask: 0.0425, loss: 0.9607\n",
      "2021-05-13 20:41:10,765 - mmdet - INFO - Epoch [1][50/655]\tlr: 4.945e-08, eta: 12:19:50, time: 1.836, data_time: 0.024, memory: 17494, loss_rpn_cls: 0.0136, loss_rpn_bbox: 0.0218, s0.loss_cls: 0.1153, s0.acc: 95.7812, s0.loss_bbox: 0.2250, s0.loss_mask: 0.1818, s1.loss_cls: 0.0466, s1.acc: 96.8839, s1.loss_bbox: 0.0947, s1.loss_mask: 0.0811, s2.loss_cls: 0.0205, s2.acc: 96.9873, s2.loss_bbox: 0.0414, s2.loss_mask: 0.0364, loss: 0.8781\n",
      "2021-05-13 20:41:29,277 - mmdet - INFO - Epoch [1][60/655]\tlr: 5.944e-08, eta: 12:17:13, time: 1.851, data_time: 0.028, memory: 17494, loss_rpn_cls: 0.0211, loss_rpn_bbox: 0.0291, s0.loss_cls: 0.1250, s0.acc: 95.5225, s0.loss_bbox: 0.2566, s0.loss_mask: 0.2067, s1.loss_cls: 0.0478, s1.acc: 96.5825, s1.loss_bbox: 0.1088, s1.loss_mask: 0.0960, s2.loss_cls: 0.0221, s2.acc: 96.7923, s2.loss_bbox: 0.0450, s2.loss_mask: 0.0450, loss: 1.0032\n",
      "2021-05-13 20:41:47,721 - mmdet - INFO - Epoch [1][70/655]\tlr: 6.943e-08, eta: 12:14:52, time: 1.844, data_time: 0.025, memory: 17494, loss_rpn_cls: 0.0178, loss_rpn_bbox: 0.0239, s0.loss_cls: 0.1135, s0.acc: 95.8203, s0.loss_bbox: 0.2380, s0.loss_mask: 0.1869, s1.loss_cls: 0.0405, s1.acc: 97.0310, s1.loss_bbox: 0.1018, s1.loss_mask: 0.0857, s2.loss_cls: 0.0191, s2.acc: 97.0851, s2.loss_bbox: 0.0461, s2.loss_mask: 0.0397, loss: 0.9129\n",
      "2021-05-13 20:42:05,793 - mmdet - INFO - Epoch [1][80/655]\tlr: 7.942e-08, eta: 12:11:13, time: 1.807, data_time: 0.024, memory: 17494, loss_rpn_cls: 0.0202, loss_rpn_bbox: 0.0257, s0.loss_cls: 0.1062, s0.acc: 96.0400, s0.loss_bbox: 0.2209, s0.loss_mask: 0.1965, s1.loss_cls: 0.0432, s1.acc: 96.7571, s1.loss_bbox: 0.0948, s1.loss_mask: 0.0916, s2.loss_cls: 0.0208, s2.acc: 97.0539, s2.loss_bbox: 0.0398, s2.loss_mask: 0.0420, loss: 0.9019\n",
      "2021-05-13 20:42:24,430 - mmdet - INFO - Epoch [1][90/655]\tlr: 8.941e-08, eta: 12:10:46, time: 1.864, data_time: 0.023, memory: 17494, loss_rpn_cls: 0.0208, loss_rpn_bbox: 0.0215, s0.loss_cls: 0.1377, s0.acc: 95.0342, s0.loss_bbox: 0.2846, s0.loss_mask: 0.2237, s1.loss_cls: 0.0531, s1.acc: 95.9727, s1.loss_bbox: 0.1155, s1.loss_mask: 0.0960, s2.loss_cls: 0.0262, s2.acc: 96.0582, s2.loss_bbox: 0.0490, s2.loss_mask: 0.0443, loss: 1.0724\n",
      "2021-05-13 20:42:43,080 - mmdet - INFO - Epoch [1][100/655]\tlr: 9.940e-08, eta: 12:10:23, time: 1.865, data_time: 0.026, memory: 17494, loss_rpn_cls: 0.0232, loss_rpn_bbox: 0.0267, s0.loss_cls: 0.1412, s0.acc: 94.8486, s0.loss_bbox: 0.2652, s0.loss_mask: 0.2088, s1.loss_cls: 0.0581, s1.acc: 95.9205, s1.loss_bbox: 0.1119, s1.loss_mask: 0.0963, s2.loss_cls: 0.0278, s2.acc: 95.9714, s2.loss_bbox: 0.0447, s2.loss_mask: 0.0439, loss: 1.0478\n",
      "2021-05-13 20:43:01,139 - mmdet - INFO - Epoch [1][110/655]\tlr: 1.094e-07, eta: 12:07:55, time: 1.806, data_time: 0.022, memory: 17494, loss_rpn_cls: 0.0249, loss_rpn_bbox: 0.0290, s0.loss_cls: 0.1340, s0.acc: 94.9854, s0.loss_bbox: 0.2594, s0.loss_mask: 0.2053, s1.loss_cls: 0.0540, s1.acc: 96.0167, s1.loss_bbox: 0.1065, s1.loss_mask: 0.0939, s2.loss_cls: 0.0272, s2.acc: 95.9232, s2.loss_bbox: 0.0424, s2.loss_mask: 0.0431, loss: 1.0197\n",
      "2021-05-13 20:43:19,419 - mmdet - INFO - Epoch [1][120/655]\tlr: 1.194e-07, eta: 12:06:32, time: 1.828, data_time: 0.021, memory: 17494, loss_rpn_cls: 0.0142, loss_rpn_bbox: 0.0203, s0.loss_cls: 0.1143, s0.acc: 95.9619, s0.loss_bbox: 0.2312, s0.loss_mask: 0.1991, s1.loss_cls: 0.0450, s1.acc: 96.7336, s1.loss_bbox: 0.0996, s1.loss_mask: 0.0904, s2.loss_cls: 0.0223, s2.acc: 96.5715, s2.loss_bbox: 0.0425, s2.loss_mask: 0.0418, loss: 0.9207\n",
      "2021-05-13 20:43:37,462 - mmdet - INFO - Epoch [1][130/655]\tlr: 1.294e-07, eta: 12:04:37, time: 1.804, data_time: 0.022, memory: 17494, loss_rpn_cls: 0.0259, loss_rpn_bbox: 0.0277, s0.loss_cls: 0.1328, s0.acc: 95.1221, s0.loss_bbox: 0.2400, s0.loss_mask: 0.2372, s1.loss_cls: 0.0542, s1.acc: 95.9550, s1.loss_bbox: 0.1001, s1.loss_mask: 0.1031, s2.loss_cls: 0.0243, s2.acc: 96.5075, s2.loss_bbox: 0.0409, s2.loss_mask: 0.0473, loss: 1.0334\n",
      "2021-05-13 20:43:56,129 - mmdet - INFO - Epoch [1][140/655]\tlr: 1.394e-07, eta: 12:04:39, time: 1.867, data_time: 0.029, memory: 17494, loss_rpn_cls: 0.0242, loss_rpn_bbox: 0.0321, s0.loss_cls: 0.1489, s0.acc: 94.8145, s0.loss_bbox: 0.2756, s0.loss_mask: 0.2039, s1.loss_cls: 0.0603, s1.acc: 95.9045, s1.loss_bbox: 0.1105, s1.loss_mask: 0.0910, s2.loss_cls: 0.0292, s2.acc: 95.9661, s2.loss_bbox: 0.0443, s2.loss_mask: 0.0410, loss: 1.0611\n",
      "2021-05-13 20:44:14,535 - mmdet - INFO - Epoch [1][150/655]\tlr: 1.494e-07, eta: 12:03:58, time: 1.841, data_time: 0.021, memory: 17494, loss_rpn_cls: 0.0165, loss_rpn_bbox: 0.0206, s0.loss_cls: 0.1201, s0.acc: 95.4736, s0.loss_bbox: 0.2416, s0.loss_mask: 0.1917, s1.loss_cls: 0.0474, s1.acc: 96.6181, s1.loss_bbox: 0.1027, s1.loss_mask: 0.0867, s2.loss_cls: 0.0217, s2.acc: 96.7263, s2.loss_bbox: 0.0433, s2.loss_mask: 0.0396, loss: 0.9319\n",
      "2021-05-13 20:44:32,133 - mmdet - INFO - Epoch [1][160/655]\tlr: 1.593e-07, eta: 12:01:22, time: 1.760, data_time: 0.019, memory: 17494, loss_rpn_cls: 0.0141, loss_rpn_bbox: 0.0160, s0.loss_cls: 0.0863, s0.acc: 96.6992, s0.loss_bbox: 0.2022, s0.loss_mask: 0.1622, s1.loss_cls: 0.0344, s1.acc: 97.3068, s1.loss_bbox: 0.0834, s1.loss_mask: 0.0712, s2.loss_cls: 0.0169, s2.acc: 97.4633, s2.loss_bbox: 0.0343, s2.loss_mask: 0.0323, loss: 0.7532\n",
      "2021-05-13 20:44:50,436 - mmdet - INFO - Epoch [1][170/655]\tlr: 1.693e-07, eta: 12:00:39, time: 1.830, data_time: 0.022, memory: 17494, loss_rpn_cls: 0.0160, loss_rpn_bbox: 0.0208, s0.loss_cls: 0.1202, s0.acc: 95.4932, s0.loss_bbox: 0.2545, s0.loss_mask: 0.2029, s1.loss_cls: 0.0447, s1.acc: 96.5799, s1.loss_bbox: 0.1048, s1.loss_mask: 0.0925, s2.loss_cls: 0.0200, s2.acc: 97.2202, s2.loss_bbox: 0.0449, s2.loss_mask: 0.0433, loss: 0.9646\n",
      "2021-05-13 20:45:08,488 - mmdet - INFO - Epoch [1][180/655]\tlr: 1.793e-07, eta: 11:59:26, time: 1.805, data_time: 0.019, memory: 17494, loss_rpn_cls: 0.0128, loss_rpn_bbox: 0.0171, s0.loss_cls: 0.0943, s0.acc: 96.5479, s0.loss_bbox: 0.2126, s0.loss_mask: 0.1814, s1.loss_cls: 0.0358, s1.acc: 97.3214, s1.loss_bbox: 0.0892, s1.loss_mask: 0.0837, s2.loss_cls: 0.0161, s2.acc: 97.4647, s2.loss_bbox: 0.0380, s2.loss_mask: 0.0391, loss: 0.8200\n",
      "2021-05-13 20:45:27,903 - mmdet - INFO - Epoch [1][190/655]\tlr: 1.893e-07, eta: 12:01:07, time: 1.941, data_time: 0.033, memory: 17494, loss_rpn_cls: 0.0295, loss_rpn_bbox: 0.0344, s0.loss_cls: 0.1671, s0.acc: 93.8037, s0.loss_bbox: 0.3208, s0.loss_mask: 0.2325, s1.loss_cls: 0.0711, s1.acc: 94.8913, s1.loss_bbox: 0.1378, s1.loss_mask: 0.1055, s2.loss_cls: 0.0343, s2.acc: 95.0481, s2.loss_bbox: 0.0546, s2.loss_mask: 0.0482, loss: 1.2360\n",
      "2021-05-13 20:45:46,186 - mmdet - INFO - Epoch [1][200/655]\tlr: 1.993e-07, eta: 12:00:23, time: 1.828, data_time: 0.025, memory: 17494, loss_rpn_cls: 0.0148, loss_rpn_bbox: 0.0192, s0.loss_cls: 0.1155, s0.acc: 95.7031, s0.loss_bbox: 0.2320, s0.loss_mask: 0.1859, s1.loss_cls: 0.0433, s1.acc: 96.7734, s1.loss_bbox: 0.0972, s1.loss_mask: 0.0827, s2.loss_cls: 0.0219, s2.acc: 96.6713, s2.loss_bbox: 0.0405, s2.loss_mask: 0.0379, loss: 0.8908\n",
      "2021-05-13 20:46:05,312 - mmdet - INFO - Epoch [1][210/655]\tlr: 2.093e-07, eta: 12:01:15, time: 1.912, data_time: 0.031, memory: 17494, loss_rpn_cls: 0.0302, loss_rpn_bbox: 0.0328, s0.loss_cls: 0.1506, s0.acc: 94.6924, s0.loss_bbox: 0.2983, s0.loss_mask: 0.2148, s1.loss_cls: 0.0614, s1.acc: 95.8134, s1.loss_bbox: 0.1213, s1.loss_mask: 0.0923, s2.loss_cls: 0.0308, s2.acc: 95.5500, s2.loss_bbox: 0.0512, s2.loss_mask: 0.0426, loss: 1.1264\n",
      "2021-05-13 20:46:23,423 - mmdet - INFO - Epoch [1][220/655]\tlr: 2.193e-07, eta: 12:00:14, time: 1.811, data_time: 0.025, memory: 17494, loss_rpn_cls: 0.0153, loss_rpn_bbox: 0.0226, s0.loss_cls: 0.1132, s0.acc: 95.8057, s0.loss_bbox: 0.2399, s0.loss_mask: 0.1947, s1.loss_cls: 0.0455, s1.acc: 96.8023, s1.loss_bbox: 0.0967, s1.loss_mask: 0.0888, s2.loss_cls: 0.0224, s2.acc: 96.8625, s2.loss_bbox: 0.0409, s2.loss_mask: 0.0400, loss: 0.9199\n",
      "2021-05-13 20:46:41,914 - mmdet - INFO - Epoch [1][230/655]\tlr: 2.293e-07, eta: 11:59:54, time: 1.849, data_time: 0.026, memory: 17494, loss_rpn_cls: 0.0208, loss_rpn_bbox: 0.0273, s0.loss_cls: 0.1182, s0.acc: 95.6348, s0.loss_bbox: 0.2603, s0.loss_mask: 0.2344, s1.loss_cls: 0.0507, s1.acc: 96.3107, s1.loss_bbox: 0.1128, s1.loss_mask: 0.1063, s2.loss_cls: 0.0265, s2.acc: 96.1683, s2.loss_bbox: 0.0459, s2.loss_mask: 0.0491, loss: 1.0521\n",
      "2021-05-13 20:47:00,187 - mmdet - INFO - Epoch [1][240/655]\tlr: 2.393e-07, eta: 11:59:14, time: 1.827, data_time: 0.022, memory: 17494, loss_rpn_cls: 0.0131, loss_rpn_bbox: 0.0167, s0.loss_cls: 0.0964, s0.acc: 96.5039, s0.loss_bbox: 0.2226, s0.loss_mask: 0.1493, s1.loss_cls: 0.0375, s1.acc: 97.4761, s1.loss_bbox: 0.0944, s1.loss_mask: 0.0720, s2.loss_cls: 0.0197, s2.acc: 97.0624, s2.loss_bbox: 0.0395, s2.loss_mask: 0.0337, loss: 0.7948\n",
      "2021-05-13 20:47:18,380 - mmdet - INFO - Epoch [1][250/655]\tlr: 2.493e-07, eta: 11:58:28, time: 1.819, data_time: 0.023, memory: 17494, loss_rpn_cls: 0.0276, loss_rpn_bbox: 0.0280, s0.loss_cls: 0.1332, s0.acc: 95.1318, s0.loss_bbox: 0.2656, s0.loss_mask: 0.2184, s1.loss_cls: 0.0557, s1.acc: 96.0648, s1.loss_bbox: 0.1086, s1.loss_mask: 0.0959, s2.loss_cls: 0.0270, s2.acc: 96.2021, s2.loss_bbox: 0.0420, s2.loss_mask: 0.0434, loss: 1.0455\n",
      "2021-05-13 20:47:37,184 - mmdet - INFO - Epoch [1][260/655]\tlr: 2.592e-07, eta: 11:58:39, time: 1.880, data_time: 0.023, memory: 17494, loss_rpn_cls: 0.0195, loss_rpn_bbox: 0.0248, s0.loss_cls: 0.1234, s0.acc: 95.1904, s0.loss_bbox: 0.3005, s0.loss_mask: 0.2068, s1.loss_cls: 0.0507, s1.acc: 96.1385, s1.loss_bbox: 0.1304, s1.loss_mask: 0.0941, s2.loss_cls: 0.0266, s2.acc: 95.8414, s2.loss_bbox: 0.0546, s2.loss_mask: 0.0439, loss: 1.0754\n",
      "2021-05-13 20:47:54,918 - mmdet - INFO - Epoch [1][270/655]\tlr: 2.692e-07, eta: 11:57:15, time: 1.773, data_time: 0.023, memory: 17494, loss_rpn_cls: 0.0123, loss_rpn_bbox: 0.0262, s0.loss_cls: 0.1003, s0.acc: 96.2109, s0.loss_bbox: 0.1981, s0.loss_mask: 0.1872, s1.loss_cls: 0.0375, s1.acc: 97.3643, s1.loss_bbox: 0.0849, s1.loss_mask: 0.0858, s2.loss_cls: 0.0181, s2.acc: 97.3527, s2.loss_bbox: 0.0366, s2.loss_mask: 0.0406, loss: 0.8277\n",
      "2021-05-13 20:48:13,812 - mmdet - INFO - Epoch [1][280/655]\tlr: 2.792e-07, eta: 11:57:32, time: 1.889, data_time: 0.025, memory: 17494, loss_rpn_cls: 0.0165, loss_rpn_bbox: 0.0264, s0.loss_cls: 0.1352, s0.acc: 95.0879, s0.loss_bbox: 0.2833, s0.loss_mask: 0.2098, s1.loss_cls: 0.0548, s1.acc: 96.1509, s1.loss_bbox: 0.1187, s1.loss_mask: 0.0909, s2.loss_cls: 0.0268, s2.acc: 95.9152, s2.loss_bbox: 0.0501, s2.loss_mask: 0.0422, loss: 1.0547\n",
      "2021-05-13 20:48:31,947 - mmdet - INFO - Epoch [1][290/655]\tlr: 2.892e-07, eta: 11:56:46, time: 1.814, data_time: 0.020, memory: 17494, loss_rpn_cls: 0.0123, loss_rpn_bbox: 0.0180, s0.loss_cls: 0.1034, s0.acc: 96.2109, s0.loss_bbox: 0.2084, s0.loss_mask: 0.1728, s1.loss_cls: 0.0398, s1.acc: 97.2501, s1.loss_bbox: 0.0903, s1.loss_mask: 0.0824, s2.loss_cls: 0.0174, s2.acc: 97.5494, s2.loss_bbox: 0.0387, s2.loss_mask: 0.0372, loss: 0.8207\n",
      "2021-05-13 20:48:50,088 - mmdet - INFO - Epoch [1][300/655]\tlr: 2.992e-07, eta: 11:56:03, time: 1.814, data_time: 0.029, memory: 17494, loss_rpn_cls: 0.0229, loss_rpn_bbox: 0.0296, s0.loss_cls: 0.1264, s0.acc: 95.5078, s0.loss_bbox: 0.2366, s0.loss_mask: 0.2076, s1.loss_cls: 0.0529, s1.acc: 96.3824, s1.loss_bbox: 0.0973, s1.loss_mask: 0.0899, s2.loss_cls: 0.0256, s2.acc: 96.5133, s2.loss_bbox: 0.0388, s2.loss_mask: 0.0413, loss: 0.9690\n",
      "2021-05-13 20:49:07,853 - mmdet - INFO - Epoch [1][310/655]\tlr: 3.092e-07, eta: 11:54:52, time: 1.777, data_time: 0.022, memory: 17494, loss_rpn_cls: 0.0167, loss_rpn_bbox: 0.0162, s0.loss_cls: 0.0941, s0.acc: 96.5088, s0.loss_bbox: 0.1967, s0.loss_mask: 0.1733, s1.loss_cls: 0.0342, s1.acc: 97.4764, s1.loss_bbox: 0.0792, s1.loss_mask: 0.0792, s2.loss_cls: 0.0163, s2.acc: 97.5869, s2.loss_bbox: 0.0345, s2.loss_mask: 0.0365, loss: 0.7767\n",
      "2021-05-13 20:49:26,861 - mmdet - INFO - Epoch [1][320/655]\tlr: 3.192e-07, eta: 11:55:16, time: 1.901, data_time: 0.030, memory: 17494, loss_rpn_cls: 0.0280, loss_rpn_bbox: 0.0348, s0.loss_cls: 0.1563, s0.acc: 94.0283, s0.loss_bbox: 0.3181, s0.loss_mask: 0.2146, s1.loss_cls: 0.0631, s1.acc: 95.5555, s1.loss_bbox: 0.1340, s1.loss_mask: 0.0973, s2.loss_cls: 0.0302, s2.acc: 95.6495, s2.loss_bbox: 0.0558, s2.loss_mask: 0.0452, loss: 1.1776\n",
      "2021-05-13 20:49:45,079 - mmdet - INFO - Epoch [1][330/655]\tlr: 3.292e-07, eta: 11:54:41, time: 1.822, data_time: 0.022, memory: 17494, loss_rpn_cls: 0.0153, loss_rpn_bbox: 0.0198, s0.loss_cls: 0.1138, s0.acc: 95.9766, s0.loss_bbox: 0.2249, s0.loss_mask: 0.1947, s1.loss_cls: 0.0445, s1.acc: 96.9569, s1.loss_bbox: 0.0954, s1.loss_mask: 0.0873, s2.loss_cls: 0.0219, s2.acc: 97.1014, s2.loss_bbox: 0.0415, s2.loss_mask: 0.0417, loss: 0.9007\n",
      "2021-05-13 20:50:03,430 - mmdet - INFO - Epoch [1][340/655]\tlr: 3.392e-07, eta: 11:54:16, time: 1.835, data_time: 0.020, memory: 17494, loss_rpn_cls: 0.0153, loss_rpn_bbox: 0.0323, s0.loss_cls: 0.1033, s0.acc: 96.2695, s0.loss_bbox: 0.2277, s0.loss_mask: 0.1983, s1.loss_cls: 0.0367, s1.acc: 97.3486, s1.loss_bbox: 0.0939, s1.loss_mask: 0.0881, s2.loss_cls: 0.0191, s2.acc: 97.2758, s2.loss_bbox: 0.0404, s2.loss_mask: 0.0399, loss: 0.8951\n",
      "2021-05-13 20:50:21,792 - mmdet - INFO - Epoch [1][350/655]\tlr: 3.492e-07, eta: 11:53:52, time: 1.836, data_time: 0.024, memory: 17494, loss_rpn_cls: 0.0206, loss_rpn_bbox: 0.0275, s0.loss_cls: 0.1363, s0.acc: 95.2197, s0.loss_bbox: 0.2619, s0.loss_mask: 0.2017, s1.loss_cls: 0.0545, s1.acc: 96.2120, s1.loss_bbox: 0.1139, s1.loss_mask: 0.0904, s2.loss_cls: 0.0261, s2.acc: 96.3337, s2.loss_bbox: 0.0501, s2.loss_mask: 0.0425, loss: 1.0254\n",
      "2021-05-13 20:50:40,364 - mmdet - INFO - Epoch [1][360/655]\tlr: 3.591e-07, eta: 11:53:43, time: 1.857, data_time: 0.024, memory: 17494, loss_rpn_cls: 0.0196, loss_rpn_bbox: 0.0278, s0.loss_cls: 0.1373, s0.acc: 94.9902, s0.loss_bbox: 0.2779, s0.loss_mask: 0.2064, s1.loss_cls: 0.0545, s1.acc: 96.0750, s1.loss_bbox: 0.1160, s1.loss_mask: 0.0943, s2.loss_cls: 0.0263, s2.acc: 96.2116, s2.loss_bbox: 0.0492, s2.loss_mask: 0.0438, loss: 1.0531\n",
      "2021-05-13 20:50:58,515 - mmdet - INFO - Epoch [1][370/655]\tlr: 3.691e-07, eta: 11:53:06, time: 1.815, data_time: 0.022, memory: 17494, loss_rpn_cls: 0.0204, loss_rpn_bbox: 0.0258, s0.loss_cls: 0.1206, s0.acc: 95.4102, s0.loss_bbox: 0.2568, s0.loss_mask: 0.2211, s1.loss_cls: 0.0503, s1.acc: 96.1617, s1.loss_bbox: 0.1074, s1.loss_mask: 0.1045, s2.loss_cls: 0.0239, s2.acc: 96.1833, s2.loss_bbox: 0.0448, s2.loss_mask: 0.0482, loss: 1.0237\n",
      "2021-05-13 20:51:16,305 - mmdet - INFO - Epoch [1][380/655]\tlr: 3.791e-07, eta: 11:52:08, time: 1.779, data_time: 0.017, memory: 17494, loss_rpn_cls: 0.0110, loss_rpn_bbox: 0.0122, s0.loss_cls: 0.0682, s0.acc: 97.2705, s0.loss_bbox: 0.1733, s0.loss_mask: 0.1597, s1.loss_cls: 0.0217, s1.acc: 98.4956, s1.loss_bbox: 0.0714, s1.loss_mask: 0.0703, s2.loss_cls: 0.0105, s2.acc: 98.5023, s2.loss_bbox: 0.0319, s2.loss_mask: 0.0327, loss: 0.6630\n",
      "2021-05-13 20:51:35,191 - mmdet - INFO - Epoch [1][390/655]\tlr: 3.891e-07, eta: 11:52:17, time: 1.889, data_time: 0.021, memory: 17494, loss_rpn_cls: 0.0173, loss_rpn_bbox: 0.0185, s0.loss_cls: 0.1069, s0.acc: 96.0449, s0.loss_bbox: 0.2668, s0.loss_mask: 0.1939, s1.loss_cls: 0.0404, s1.acc: 97.1211, s1.loss_bbox: 0.1146, s1.loss_mask: 0.0887, s2.loss_cls: 0.0206, s2.acc: 97.0589, s2.loss_bbox: 0.0477, s2.loss_mask: 0.0402, loss: 0.9556\n",
      "2021-05-13 20:51:53,461 - mmdet - INFO - Epoch [1][400/655]\tlr: 3.991e-07, eta: 11:51:50, time: 1.827, data_time: 0.022, memory: 17494, loss_rpn_cls: 0.0218, loss_rpn_bbox: 0.0239, s0.loss_cls: 0.1105, s0.acc: 96.0791, s0.loss_bbox: 0.2262, s0.loss_mask: 0.1849, s1.loss_cls: 0.0446, s1.acc: 96.7149, s1.loss_bbox: 0.0960, s1.loss_mask: 0.0830, s2.loss_cls: 0.0209, s2.acc: 96.8805, s2.loss_bbox: 0.0407, s2.loss_mask: 0.0376, loss: 0.8902\n",
      "2021-05-13 20:52:11,686 - mmdet - INFO - Epoch [1][410/655]\tlr: 4.091e-07, eta: 11:51:20, time: 1.822, data_time: 0.021, memory: 17494, loss_rpn_cls: 0.0176, loss_rpn_bbox: 0.0186, s0.loss_cls: 0.0981, s0.acc: 96.2256, s0.loss_bbox: 0.2190, s0.loss_mask: 0.1695, s1.loss_cls: 0.0368, s1.acc: 97.4040, s1.loss_bbox: 0.0931, s1.loss_mask: 0.0780, s2.loss_cls: 0.0170, s2.acc: 97.5285, s2.loss_bbox: 0.0387, s2.loss_mask: 0.0357, loss: 0.8219\n",
      "2021-05-13 20:52:30,099 - mmdet - INFO - Epoch [1][420/655]\tlr: 4.191e-07, eta: 11:51:01, time: 1.841, data_time: 0.025, memory: 17494, loss_rpn_cls: 0.0288, loss_rpn_bbox: 0.0262, s0.loss_cls: 0.1428, s0.acc: 95.0781, s0.loss_bbox: 0.2797, s0.loss_mask: 0.2328, s1.loss_cls: 0.0551, s1.acc: 96.0039, s1.loss_bbox: 0.1174, s1.loss_mask: 0.1031, s2.loss_cls: 0.0275, s2.acc: 96.1726, s2.loss_bbox: 0.0472, s2.loss_mask: 0.0474, loss: 1.1080\n",
      "2021-05-13 20:52:48,104 - mmdet - INFO - Epoch [1][430/655]\tlr: 4.291e-07, eta: 11:50:20, time: 1.801, data_time: 0.021, memory: 17494, loss_rpn_cls: 0.0185, loss_rpn_bbox: 0.0260, s0.loss_cls: 0.1136, s0.acc: 95.7861, s0.loss_bbox: 0.2306, s0.loss_mask: 0.1889, s1.loss_cls: 0.0417, s1.acc: 97.1000, s1.loss_bbox: 0.0953, s1.loss_mask: 0.0814, s2.loss_cls: 0.0204, s2.acc: 97.0360, s2.loss_bbox: 0.0428, s2.loss_mask: 0.0389, loss: 0.8980\n",
      "2021-05-13 20:53:06,914 - mmdet - INFO - Epoch [1][440/655]\tlr: 4.391e-07, eta: 11:50:23, time: 1.881, data_time: 0.023, memory: 17494, loss_rpn_cls: 0.0184, loss_rpn_bbox: 0.0364, s0.loss_cls: 0.1419, s0.acc: 94.7168, s0.loss_bbox: 0.3018, s0.loss_mask: 0.2350, s1.loss_cls: 0.0575, s1.acc: 95.9427, s1.loss_bbox: 0.1250, s1.loss_mask: 0.1082, s2.loss_cls: 0.0278, s2.acc: 96.0509, s2.loss_bbox: 0.0504, s2.loss_mask: 0.0488, loss: 1.1510\n",
      "2021-05-13 20:53:25,606 - mmdet - INFO - Epoch [1][450/655]\tlr: 4.491e-07, eta: 11:50:19, time: 1.869, data_time: 0.031, memory: 17494, loss_rpn_cls: 0.0301, loss_rpn_bbox: 0.0377, s0.loss_cls: 0.1722, s0.acc: 93.8770, s0.loss_bbox: 0.3005, s0.loss_mask: 0.2255, s1.loss_cls: 0.0699, s1.acc: 95.3333, s1.loss_bbox: 0.1199, s1.loss_mask: 0.1015, s2.loss_cls: 0.0338, s2.acc: 95.3244, s2.loss_bbox: 0.0486, s2.loss_mask: 0.0472, loss: 1.1868\n",
      "2021-05-13 20:53:43,767 - mmdet - INFO - Epoch [1][460/655]\tlr: 4.590e-07, eta: 11:49:47, time: 1.816, data_time: 0.021, memory: 17494, loss_rpn_cls: 0.0228, loss_rpn_bbox: 0.0278, s0.loss_cls: 0.1299, s0.acc: 95.0586, s0.loss_bbox: 0.2516, s0.loss_mask: 0.2189, s1.loss_cls: 0.0517, s1.acc: 96.2063, s1.loss_bbox: 0.1005, s1.loss_mask: 0.0957, s2.loss_cls: 0.0254, s2.acc: 96.5506, s2.loss_bbox: 0.0408, s2.loss_mask: 0.0439, loss: 1.0091\n",
      "2021-05-13 20:54:02,229 - mmdet - INFO - Epoch [1][470/655]\tlr: 4.690e-07, eta: 11:49:30, time: 1.846, data_time: 0.024, memory: 17494, loss_rpn_cls: 0.0212, loss_rpn_bbox: 0.0249, s0.loss_cls: 0.1332, s0.acc: 95.3418, s0.loss_bbox: 0.2460, s0.loss_mask: 0.1996, s1.loss_cls: 0.0566, s1.acc: 96.0105, s1.loss_bbox: 0.1012, s1.loss_mask: 0.0879, s2.loss_cls: 0.0270, s2.acc: 96.3959, s2.loss_bbox: 0.0438, s2.loss_mask: 0.0425, loss: 0.9840\n",
      "2021-05-13 20:54:20,579 - mmdet - INFO - Epoch [1][480/655]\tlr: 4.790e-07, eta: 11:49:09, time: 1.835, data_time: 0.022, memory: 17494, loss_rpn_cls: 0.0213, loss_rpn_bbox: 0.0289, s0.loss_cls: 0.1212, s0.acc: 95.5420, s0.loss_bbox: 0.2333, s0.loss_mask: 0.1825, s1.loss_cls: 0.0474, s1.acc: 96.7786, s1.loss_bbox: 0.0994, s1.loss_mask: 0.0835, s2.loss_cls: 0.0224, s2.acc: 96.8082, s2.loss_bbox: 0.0418, s2.loss_mask: 0.0387, loss: 0.9202\n",
      "2021-05-13 20:54:39,294 - mmdet - INFO - Epoch [1][490/655]\tlr: 4.890e-07, eta: 11:49:04, time: 1.871, data_time: 0.024, memory: 17494, loss_rpn_cls: 0.0216, loss_rpn_bbox: 0.0302, s0.loss_cls: 0.1352, s0.acc: 94.9121, s0.loss_bbox: 0.2771, s0.loss_mask: 0.2229, s1.loss_cls: 0.0578, s1.acc: 95.8713, s1.loss_bbox: 0.1179, s1.loss_mask: 0.1034, s2.loss_cls: 0.0272, s2.acc: 95.7894, s2.loss_bbox: 0.0462, s2.loss_mask: 0.0482, loss: 1.0878\n",
      "2021-05-13 20:54:57,811 - mmdet - INFO - Epoch [1][500/655]\tlr: 4.990e-07, eta: 11:48:50, time: 1.852, data_time: 0.023, memory: 17494, loss_rpn_cls: 0.0207, loss_rpn_bbox: 0.0254, s0.loss_cls: 0.1429, s0.acc: 94.6387, s0.loss_bbox: 0.2900, s0.loss_mask: 0.2280, s1.loss_cls: 0.0539, s1.acc: 96.0795, s1.loss_bbox: 0.1146, s1.loss_mask: 0.0940, s2.loss_cls: 0.0259, s2.acc: 96.3370, s2.loss_bbox: 0.0484, s2.loss_mask: 0.0432, loss: 1.0869\n",
      "2021-05-13 20:55:16,356 - mmdet - INFO - Epoch [1][510/655]\tlr: 5.000e-07, eta: 11:48:37, time: 1.854, data_time: 0.024, memory: 17494, loss_rpn_cls: 0.0201, loss_rpn_bbox: 0.0316, s0.loss_cls: 0.1334, s0.acc: 95.1318, s0.loss_bbox: 0.2725, s0.loss_mask: 0.2055, s1.loss_cls: 0.0539, s1.acc: 96.1504, s1.loss_bbox: 0.1107, s1.loss_mask: 0.0924, s2.loss_cls: 0.0256, s2.acc: 96.3933, s2.loss_bbox: 0.0459, s2.loss_mask: 0.0440, loss: 1.0357\n",
      "2021-05-13 20:55:35,180 - mmdet - INFO - Epoch [1][520/655]\tlr: 5.000e-07, eta: 11:48:36, time: 1.882, data_time: 0.028, memory: 17498, loss_rpn_cls: 0.0212, loss_rpn_bbox: 0.0322, s0.loss_cls: 0.1352, s0.acc: 94.8779, s0.loss_bbox: 0.2883, s0.loss_mask: 0.2115, s1.loss_cls: 0.0508, s1.acc: 96.2177, s1.loss_bbox: 0.1172, s1.loss_mask: 0.0976, s2.loss_cls: 0.0238, s2.acc: 96.4742, s2.loss_bbox: 0.0496, s2.loss_mask: 0.0465, loss: 1.0738\n",
      "2021-05-13 20:55:53,500 - mmdet - INFO - Epoch [1][530/655]\tlr: 5.000e-07, eta: 11:48:12, time: 1.832, data_time: 0.029, memory: 17498, loss_rpn_cls: 0.0257, loss_rpn_bbox: 0.0352, s0.loss_cls: 0.1495, s0.acc: 94.4336, s0.loss_bbox: 0.2785, s0.loss_mask: 0.2505, s1.loss_cls: 0.0623, s1.acc: 95.3241, s1.loss_bbox: 0.1122, s1.loss_mask: 0.1118, s2.loss_cls: 0.0295, s2.acc: 95.6351, s2.loss_bbox: 0.0437, s2.loss_mask: 0.0518, loss: 1.1508\n",
      "2021-05-13 20:56:11,732 - mmdet - INFO - Epoch [1][540/655]\tlr: 5.000e-07, eta: 11:47:45, time: 1.823, data_time: 0.022, memory: 17498, loss_rpn_cls: 0.0183, loss_rpn_bbox: 0.0279, s0.loss_cls: 0.1137, s0.acc: 95.6152, s0.loss_bbox: 0.2323, s0.loss_mask: 0.1952, s1.loss_cls: 0.0464, s1.acc: 96.5866, s1.loss_bbox: 0.1005, s1.loss_mask: 0.0887, s2.loss_cls: 0.0226, s2.acc: 96.8078, s2.loss_bbox: 0.0415, s2.loss_mask: 0.0406, loss: 0.9275\n",
      "2021-05-13 20:56:29,991 - mmdet - INFO - Epoch [1][550/655]\tlr: 5.000e-07, eta: 11:47:20, time: 1.826, data_time: 0.025, memory: 17498, loss_rpn_cls: 0.0144, loss_rpn_bbox: 0.0188, s0.loss_cls: 0.1152, s0.acc: 95.8838, s0.loss_bbox: 0.2358, s0.loss_mask: 0.1846, s1.loss_cls: 0.0472, s1.acc: 96.6926, s1.loss_bbox: 0.1021, s1.loss_mask: 0.0819, s2.loss_cls: 0.0218, s2.acc: 97.0116, s2.loss_bbox: 0.0427, s2.loss_mask: 0.0387, loss: 0.9032\n",
      "2021-05-13 20:56:48,861 - mmdet - INFO - Epoch [1][560/655]\tlr: 5.000e-07, eta: 11:47:19, time: 1.887, data_time: 0.031, memory: 17498, loss_rpn_cls: 0.0213, loss_rpn_bbox: 0.0328, s0.loss_cls: 0.1495, s0.acc: 94.4287, s0.loss_bbox: 0.3105, s0.loss_mask: 0.2164, s1.loss_cls: 0.0593, s1.acc: 95.4628, s1.loss_bbox: 0.1239, s1.loss_mask: 0.0937, s2.loss_cls: 0.0279, s2.acc: 95.8715, s2.loss_bbox: 0.0492, s2.loss_mask: 0.0432, loss: 1.1277\n",
      "2021-05-13 20:57:06,877 - mmdet - INFO - Epoch [1][570/655]\tlr: 5.000e-07, eta: 11:46:44, time: 1.801, data_time: 0.024, memory: 17498, loss_rpn_cls: 0.0171, loss_rpn_bbox: 0.0195, s0.loss_cls: 0.1052, s0.acc: 96.1719, s0.loss_bbox: 0.2131, s0.loss_mask: 0.1929, s1.loss_cls: 0.0420, s1.acc: 97.1052, s1.loss_bbox: 0.0879, s1.loss_mask: 0.0844, s2.loss_cls: 0.0186, s2.acc: 97.4695, s2.loss_bbox: 0.0374, s2.loss_mask: 0.0388, loss: 0.8568\n",
      "2021-05-13 20:57:24,932 - mmdet - INFO - Epoch [1][580/655]\tlr: 5.000e-07, eta: 11:46:11, time: 1.806, data_time: 0.024, memory: 17498, loss_rpn_cls: 0.0183, loss_rpn_bbox: 0.0184, s0.loss_cls: 0.0908, s0.acc: 96.4941, s0.loss_bbox: 0.2006, s0.loss_mask: 0.1552, s1.loss_cls: 0.0326, s1.acc: 97.6826, s1.loss_bbox: 0.0830, s1.loss_mask: 0.0709, s2.loss_cls: 0.0165, s2.acc: 97.4957, s2.loss_bbox: 0.0369, s2.loss_mask: 0.0335, loss: 0.7567\n",
      "2021-05-13 20:57:43,655 - mmdet - INFO - Epoch [1][590/655]\tlr: 5.000e-07, eta: 11:46:04, time: 1.872, data_time: 0.031, memory: 17498, loss_rpn_cls: 0.0239, loss_rpn_bbox: 0.0402, s0.loss_cls: 0.1489, s0.acc: 94.3311, s0.loss_bbox: 0.3002, s0.loss_mask: 0.2317, s1.loss_cls: 0.0618, s1.acc: 95.5165, s1.loss_bbox: 0.1239, s1.loss_mask: 0.1065, s2.loss_cls: 0.0309, s2.acc: 95.3113, s2.loss_bbox: 0.0497, s2.loss_mask: 0.0503, loss: 1.1680\n",
      "2021-05-13 20:58:01,683 - mmdet - INFO - Epoch [1][600/655]\tlr: 5.000e-07, eta: 11:45:30, time: 1.803, data_time: 0.022, memory: 17498, loss_rpn_cls: 0.0147, loss_rpn_bbox: 0.0190, s0.loss_cls: 0.0955, s0.acc: 96.3721, s0.loss_bbox: 0.1972, s0.loss_mask: 0.1699, s1.loss_cls: 0.0345, s1.acc: 97.5462, s1.loss_bbox: 0.0855, s1.loss_mask: 0.0759, s2.loss_cls: 0.0180, s2.acc: 97.3332, s2.loss_bbox: 0.0385, s2.loss_mask: 0.0359, loss: 0.7847\n",
      "2021-05-13 20:58:20,648 - mmdet - INFO - Epoch [1][610/655]\tlr: 5.000e-07, eta: 11:45:32, time: 1.897, data_time: 0.028, memory: 17498, loss_rpn_cls: 0.0162, loss_rpn_bbox: 0.0281, s0.loss_cls: 0.1271, s0.acc: 95.4297, s0.loss_bbox: 0.2673, s0.loss_mask: 0.2008, s1.loss_cls: 0.0477, s1.acc: 96.6280, s1.loss_bbox: 0.1116, s1.loss_mask: 0.0891, s2.loss_cls: 0.0225, s2.acc: 97.0169, s2.loss_bbox: 0.0495, s2.loss_mask: 0.0415, loss: 1.0012\n",
      "2021-05-13 20:58:39,065 - mmdet - INFO - Epoch [1][620/655]\tlr: 5.000e-07, eta: 11:45:13, time: 1.842, data_time: 0.023, memory: 17498, loss_rpn_cls: 0.0188, loss_rpn_bbox: 0.0207, s0.loss_cls: 0.1150, s0.acc: 95.6885, s0.loss_bbox: 0.2500, s0.loss_mask: 0.1851, s1.loss_cls: 0.0450, s1.acc: 96.6029, s1.loss_bbox: 0.1056, s1.loss_mask: 0.0821, s2.loss_cls: 0.0225, s2.acc: 96.7518, s2.loss_bbox: 0.0470, s2.loss_mask: 0.0388, loss: 0.9306\n",
      "2021-05-13 20:58:57,457 - mmdet - INFO - Epoch [1][630/655]\tlr: 5.000e-07, eta: 11:44:54, time: 1.839, data_time: 0.025, memory: 17498, loss_rpn_cls: 0.0261, loss_rpn_bbox: 0.0239, s0.loss_cls: 0.1236, s0.acc: 95.3125, s0.loss_bbox: 0.2312, s0.loss_mask: 0.1748, s1.loss_cls: 0.0458, s1.acc: 96.7366, s1.loss_bbox: 0.0941, s1.loss_mask: 0.0757, s2.loss_cls: 0.0205, s2.acc: 97.2352, s2.loss_bbox: 0.0398, s2.loss_mask: 0.0356, loss: 0.8910\n",
      "2021-05-13 20:59:16,166 - mmdet - INFO - Epoch [1][640/655]\tlr: 5.000e-07, eta: 11:44:45, time: 1.871, data_time: 0.028, memory: 17498, loss_rpn_cls: 0.0233, loss_rpn_bbox: 0.0276, s0.loss_cls: 0.1381, s0.acc: 95.1025, s0.loss_bbox: 0.2726, s0.loss_mask: 0.1970, s1.loss_cls: 0.0539, s1.acc: 96.2750, s1.loss_bbox: 0.1147, s1.loss_mask: 0.0921, s2.loss_cls: 0.0268, s2.acc: 96.2265, s2.loss_bbox: 0.0479, s2.loss_mask: 0.0430, loss: 1.0370\n",
      "2021-05-13 20:59:34,695 - mmdet - INFO - Epoch [1][650/655]\tlr: 5.000e-07, eta: 11:44:30, time: 1.853, data_time: 0.025, memory: 17498, loss_rpn_cls: 0.0170, loss_rpn_bbox: 0.0256, s0.loss_cls: 0.1187, s0.acc: 95.4297, s0.loss_bbox: 0.2575, s0.loss_mask: 0.2220, s1.loss_cls: 0.0499, s1.acc: 96.3262, s1.loss_bbox: 0.1114, s1.loss_mask: 0.1032, s2.loss_cls: 0.0230, s2.acc: 96.5286, s2.loss_bbox: 0.0456, s2.loss_mask: 0.0467, loss: 1.0206\n",
      "2021-05-13 20:59:44,375 - mmdet - INFO - Saving checkpoint at 1 epochs\n"
     ]
    },
    {
     "name": "stdout",
     "output_type": "stream",
     "text": [
      "[>>>>>>>>>>>>>>>>>>>>>>>>>>>>>] 655/655, 4.8 task/s, elapsed: 138s, ETA:     0s"
     ]
    },
    {
     "name": "stderr",
     "output_type": "stream",
     "text": [
      "2021-05-13 21:02:06,785 - mmdet - INFO - Evaluating bbox...\n"
     ]
    },
    {
     "name": "stdout",
     "output_type": "stream",
     "text": [
      "Loading and preparing results...\n",
      "DONE (t=0.58s)\n",
      "creating index...\n",
      "index created!\n",
      "Running per image evaluation...\n",
      "Evaluate annotation type *bbox*\n",
      "DONE (t=3.82s).\n",
      "Accumulating evaluation results...\n"
     ]
    },
    {
     "name": "stderr",
     "output_type": "stream",
     "text": [
      "2021-05-13 21:02:11,718 - mmdet - INFO - Evaluating segm...\n"
     ]
    },
    {
     "name": "stdout",
     "output_type": "stream",
     "text": [
      "DONE (t=0.50s).\n",
      "Average Precision  (AP) @[ IoU=0.50:0.95 | area=   all | maxDets=100 ] = 0.283\n",
      "Average Precision  (AP) @[ IoU=0.50      | area=   all | maxDets=1000 ] = 0.454\n",
      "Average Precision  (AP) @[ IoU=0.75      | area=   all | maxDets=1000 ] = 0.276\n",
      "Average Precision  (AP) @[ IoU=0.50:0.95 | area= small | maxDets=1000 ] = 0.046\n",
      "Average Precision  (AP) @[ IoU=0.50:0.95 | area=medium | maxDets=1000 ] = 0.252\n",
      "Average Precision  (AP) @[ IoU=0.50:0.95 | area= large | maxDets=1000 ] = 0.501\n",
      "Average Recall     (AR) @[ IoU=0.50:0.95 | area=   all | maxDets=100 ] = 0.372\n",
      "Average Recall     (AR) @[ IoU=0.50:0.95 | area=   all | maxDets=300 ] = 0.372\n",
      "Average Recall     (AR) @[ IoU=0.50:0.95 | area=   all | maxDets=1000 ] = 0.372\n",
      "Average Recall     (AR) @[ IoU=0.50:0.95 | area= small | maxDets=1000 ] = 0.109\n",
      "Average Recall     (AR) @[ IoU=0.50:0.95 | area=medium | maxDets=1000 ] = 0.344\n",
      "Average Recall     (AR) @[ IoU=0.50:0.95 | area= large | maxDets=1000 ] = 0.591\n",
      "Loading and preparing results...\n",
      "DONE (t=0.09s)\n",
      "creating index...\n",
      "index created!\n",
      "Running per image evaluation...\n",
      "Evaluate annotation type *segm*\n",
      "DONE (t=5.19s).\n",
      "Accumulating evaluation results...\n"
     ]
    },
    {
     "name": "stderr",
     "output_type": "stream",
     "text": [
      "2021-05-13 21:02:17,618 - mmdet - INFO - Epoch(val) [1][655]\tbbox_mAP: 0.2830, bbox_mAP_50: 0.4540, bbox_mAP_75: 0.2760, bbox_mAP_s: 0.0460, bbox_mAP_m: 0.2520, bbox_mAP_l: 0.5010, bbox_mAP_copypaste: 0.283 0.454 0.276 0.046 0.252 0.501, segm_mAP: 0.2590, segm_mAP_50: 0.4260, segm_mAP_75: 0.2590, segm_mAP_s: 0.0330, segm_mAP_m: 0.2200, segm_mAP_l: 0.4890, segm_mAP_copypaste: 0.259 0.426 0.259 0.033 0.220 0.489\n"
     ]
    },
    {
     "name": "stdout",
     "output_type": "stream",
     "text": [
      "DONE (t=0.51s).\n",
      "Average Precision  (AP) @[ IoU=0.50:0.95 | area=   all | maxDets=100 ] = 0.259\n",
      "Average Precision  (AP) @[ IoU=0.50      | area=   all | maxDets=1000 ] = 0.426\n",
      "Average Precision  (AP) @[ IoU=0.75      | area=   all | maxDets=1000 ] = 0.259\n",
      "Average Precision  (AP) @[ IoU=0.50:0.95 | area= small | maxDets=1000 ] = 0.033\n",
      "Average Precision  (AP) @[ IoU=0.50:0.95 | area=medium | maxDets=1000 ] = 0.220\n",
      "Average Precision  (AP) @[ IoU=0.50:0.95 | area= large | maxDets=1000 ] = 0.489\n",
      "Average Recall     (AR) @[ IoU=0.50:0.95 | area=   all | maxDets=100 ] = 0.342\n",
      "Average Recall     (AR) @[ IoU=0.50:0.95 | area=   all | maxDets=300 ] = 0.342\n",
      "Average Recall     (AR) @[ IoU=0.50:0.95 | area=   all | maxDets=1000 ] = 0.342\n",
      "Average Recall     (AR) @[ IoU=0.50:0.95 | area= small | maxDets=1000 ] = 0.083\n",
      "Average Recall     (AR) @[ IoU=0.50:0.95 | area=medium | maxDets=1000 ] = 0.310\n",
      "Average Recall     (AR) @[ IoU=0.50:0.95 | area= large | maxDets=1000 ] = 0.579\n"
     ]
    },
    {
     "name": "stderr",
     "output_type": "stream",
     "text": [
      "2021-05-13 21:02:39,173 - mmdet - INFO - Epoch [2][10/655]\tlr: 5.000e-07, eta: 11:40:32, time: 2.154, data_time: 0.261, memory: 17498, loss_rpn_cls: 0.0232, loss_rpn_bbox: 0.0282, s0.loss_cls: 0.1369, s0.acc: 95.0146, s0.loss_bbox: 0.2904, s0.loss_mask: 0.2124, s1.loss_cls: 0.0550, s1.acc: 95.9740, s1.loss_bbox: 0.1256, s1.loss_mask: 0.0958, s2.loss_cls: 0.0265, s2.acc: 96.1897, s2.loss_bbox: 0.0534, s2.loss_mask: 0.0444, loss: 1.0919\n",
      "2021-05-13 21:02:58,133 - mmdet - INFO - Epoch [2][20/655]\tlr: 5.000e-07, eta: 11:40:34, time: 1.896, data_time: 0.031, memory: 17498, loss_rpn_cls: 0.0195, loss_rpn_bbox: 0.0290, s0.loss_cls: 0.1366, s0.acc: 95.2148, s0.loss_bbox: 0.2793, s0.loss_mask: 0.2133, s1.loss_cls: 0.0548, s1.acc: 96.1003, s1.loss_bbox: 0.1180, s1.loss_mask: 0.0954, s2.loss_cls: 0.0267, s2.acc: 96.1932, s2.loss_bbox: 0.0492, s2.loss_mask: 0.0443, loss: 1.0662\n",
      "2021-05-13 21:03:16,725 - mmdet - INFO - Epoch [2][30/655]\tlr: 5.000e-07, eta: 11:40:24, time: 1.859, data_time: 0.031, memory: 17498, loss_rpn_cls: 0.0225, loss_rpn_bbox: 0.0324, s0.loss_cls: 0.1463, s0.acc: 94.8242, s0.loss_bbox: 0.2740, s0.loss_mask: 0.2107, s1.loss_cls: 0.0620, s1.acc: 95.6609, s1.loss_bbox: 0.1113, s1.loss_mask: 0.0947, s2.loss_cls: 0.0295, s2.acc: 95.4874, s2.loss_bbox: 0.0452, s2.loss_mask: 0.0428, loss: 1.0715\n",
      "2021-05-13 21:03:35,089 - mmdet - INFO - Epoch [2][40/655]\tlr: 5.000e-07, eta: 11:40:06, time: 1.836, data_time: 0.029, memory: 17498, loss_rpn_cls: 0.0201, loss_rpn_bbox: 0.0273, s0.loss_cls: 0.1227, s0.acc: 95.2539, s0.loss_bbox: 0.2716, s0.loss_mask: 0.2200, s1.loss_cls: 0.0523, s1.acc: 95.9667, s1.loss_bbox: 0.1092, s1.loss_mask: 0.0999, s2.loss_cls: 0.0251, s2.acc: 96.2915, s2.loss_bbox: 0.0436, s2.loss_mask: 0.0460, loss: 1.0379\n",
      "2021-05-13 21:03:53,220 - mmdet - INFO - Epoch [2][50/655]\tlr: 5.000e-07, eta: 11:39:40, time: 1.813, data_time: 0.028, memory: 17498, loss_rpn_cls: 0.0199, loss_rpn_bbox: 0.0238, s0.loss_cls: 0.1165, s0.acc: 95.6836, s0.loss_bbox: 0.2251, s0.loss_mask: 0.1967, s1.loss_cls: 0.0450, s1.acc: 96.8364, s1.loss_bbox: 0.0954, s1.loss_mask: 0.0888, s2.loss_cls: 0.0222, s2.acc: 96.8985, s2.loss_bbox: 0.0398, s2.loss_mask: 0.0410, loss: 0.9142\n",
      "2021-05-13 21:04:11,841 - mmdet - INFO - Epoch [2][60/655]\tlr: 5.000e-07, eta: 11:39:31, time: 1.862, data_time: 0.027, memory: 17498, loss_rpn_cls: 0.0154, loss_rpn_bbox: 0.0267, s0.loss_cls: 0.1192, s0.acc: 95.7422, s0.loss_bbox: 0.2514, s0.loss_mask: 0.2115, s1.loss_cls: 0.0444, s1.acc: 96.8653, s1.loss_bbox: 0.1028, s1.loss_mask: 0.0921, s2.loss_cls: 0.0225, s2.acc: 96.6051, s2.loss_bbox: 0.0429, s2.loss_mask: 0.0418, loss: 0.9708\n",
      "2021-05-13 21:04:30,322 - mmdet - INFO - Epoch [2][70/655]\tlr: 5.000e-07, eta: 11:39:16, time: 1.848, data_time: 0.028, memory: 17498, loss_rpn_cls: 0.0211, loss_rpn_bbox: 0.0193, s0.loss_cls: 0.1144, s0.acc: 95.7080, s0.loss_bbox: 0.2324, s0.loss_mask: 0.1888, s1.loss_cls: 0.0446, s1.acc: 96.8668, s1.loss_bbox: 0.0970, s1.loss_mask: 0.0878, s2.loss_cls: 0.0201, s2.acc: 97.1860, s2.loss_bbox: 0.0409, s2.loss_mask: 0.0409, loss: 0.9073\n",
      "2021-05-13 21:04:48,882 - mmdet - INFO - Epoch [2][80/655]\tlr: 5.000e-07, eta: 11:39:04, time: 1.856, data_time: 0.025, memory: 17498, loss_rpn_cls: 0.0216, loss_rpn_bbox: 0.0329, s0.loss_cls: 0.1426, s0.acc: 94.8242, s0.loss_bbox: 0.2741, s0.loss_mask: 0.1848, s1.loss_cls: 0.0575, s1.acc: 95.8261, s1.loss_bbox: 0.1101, s1.loss_mask: 0.0839, s2.loss_cls: 0.0253, s2.acc: 96.2269, s2.loss_bbox: 0.0455, s2.loss_mask: 0.0386, loss: 1.0170\n",
      "2021-05-13 21:05:06,871 - mmdet - INFO - Epoch [2][90/655]\tlr: 5.000e-07, eta: 11:38:34, time: 1.799, data_time: 0.025, memory: 17498, loss_rpn_cls: 0.0160, loss_rpn_bbox: 0.0201, s0.loss_cls: 0.1005, s0.acc: 96.1865, s0.loss_bbox: 0.2147, s0.loss_mask: 0.1914, s1.loss_cls: 0.0409, s1.acc: 96.9160, s1.loss_bbox: 0.0870, s1.loss_mask: 0.0854, s2.loss_cls: 0.0175, s2.acc: 97.4932, s2.loss_bbox: 0.0373, s2.loss_mask: 0.0397, loss: 0.8505\n",
      "2021-05-13 21:05:25,596 - mmdet - INFO - Epoch [2][100/655]\tlr: 5.000e-07, eta: 11:38:27, time: 1.872, data_time: 0.027, memory: 17498, loss_rpn_cls: 0.0213, loss_rpn_bbox: 0.0242, s0.loss_cls: 0.1231, s0.acc: 95.4639, s0.loss_bbox: 0.2705, s0.loss_mask: 0.1984, s1.loss_cls: 0.0479, s1.acc: 96.5320, s1.loss_bbox: 0.1168, s1.loss_mask: 0.0904, s2.loss_cls: 0.0233, s2.acc: 96.6322, s2.loss_bbox: 0.0501, s2.loss_mask: 0.0429, loss: 1.0090\n",
      "2021-05-13 21:05:43,932 - mmdet - INFO - Epoch [2][110/655]\tlr: 5.000e-07, eta: 11:38:08, time: 1.834, data_time: 0.023, memory: 17498, loss_rpn_cls: 0.0165, loss_rpn_bbox: 0.0192, s0.loss_cls: 0.1090, s0.acc: 96.3818, s0.loss_bbox: 0.2167, s0.loss_mask: 0.1695, s1.loss_cls: 0.0416, s1.acc: 97.2679, s1.loss_bbox: 0.0886, s1.loss_mask: 0.0763, s2.loss_cls: 0.0182, s2.acc: 97.4597, s2.loss_bbox: 0.0388, s2.loss_mask: 0.0352, loss: 0.8297\n",
      "2021-05-13 21:06:02,126 - mmdet - INFO - Epoch [2][120/655]\tlr: 5.000e-07, eta: 11:37:45, time: 1.819, data_time: 0.024, memory: 17498, loss_rpn_cls: 0.0192, loss_rpn_bbox: 0.0201, s0.loss_cls: 0.1205, s0.acc: 95.6592, s0.loss_bbox: 0.2385, s0.loss_mask: 0.2074, s1.loss_cls: 0.0461, s1.acc: 96.6981, s1.loss_bbox: 0.0994, s1.loss_mask: 0.0961, s2.loss_cls: 0.0239, s2.acc: 96.3364, s2.loss_bbox: 0.0421, s2.loss_mask: 0.0441, loss: 0.9574\n",
      "2021-05-13 21:06:20,339 - mmdet - INFO - Epoch [2][130/655]\tlr: 5.000e-07, eta: 11:37:22, time: 1.821, data_time: 0.024, memory: 17498, loss_rpn_cls: 0.0201, loss_rpn_bbox: 0.0208, s0.loss_cls: 0.0922, s0.acc: 96.4209, s0.loss_bbox: 0.2161, s0.loss_mask: 0.1770, s1.loss_cls: 0.0333, s1.acc: 97.5286, s1.loss_bbox: 0.0906, s1.loss_mask: 0.0785, s2.loss_cls: 0.0163, s2.acc: 97.5689, s2.loss_bbox: 0.0396, s2.loss_mask: 0.0370, loss: 0.8214\n",
      "2021-05-13 21:06:38,733 - mmdet - INFO - Epoch [2][140/655]\tlr: 5.000e-07, eta: 11:37:05, time: 1.839, data_time: 0.022, memory: 17504, loss_rpn_cls: 0.0147, loss_rpn_bbox: 0.0237, s0.loss_cls: 0.1086, s0.acc: 95.8301, s0.loss_bbox: 0.2414, s0.loss_mask: 0.1891, s1.loss_cls: 0.0404, s1.acc: 96.9562, s1.loss_bbox: 0.1020, s1.loss_mask: 0.0865, s2.loss_cls: 0.0213, s2.acc: 96.8110, s2.loss_bbox: 0.0437, s2.loss_mask: 0.0406, loss: 0.9120\n",
      "2021-05-13 21:06:57,649 - mmdet - INFO - Epoch [2][150/655]\tlr: 5.000e-07, eta: 11:37:02, time: 1.891, data_time: 0.032, memory: 17504, loss_rpn_cls: 0.0225, loss_rpn_bbox: 0.0261, s0.loss_cls: 0.1450, s0.acc: 94.7314, s0.loss_bbox: 0.2830, s0.loss_mask: 0.1880, s1.loss_cls: 0.0577, s1.acc: 95.7498, s1.loss_bbox: 0.1185, s1.loss_mask: 0.0884, s2.loss_cls: 0.0289, s2.acc: 95.8310, s2.loss_bbox: 0.0507, s2.loss_mask: 0.0406, loss: 1.0495\n",
      "2021-05-13 21:07:16,078 - mmdet - INFO - Epoch [2][160/655]\tlr: 5.000e-07, eta: 11:36:46, time: 1.843, data_time: 0.024, memory: 17504, loss_rpn_cls: 0.0193, loss_rpn_bbox: 0.0233, s0.loss_cls: 0.1192, s0.acc: 95.5859, s0.loss_bbox: 0.2514, s0.loss_mask: 0.2282, s1.loss_cls: 0.0468, s1.acc: 96.6581, s1.loss_bbox: 0.1062, s1.loss_mask: 0.1030, s2.loss_cls: 0.0227, s2.acc: 96.8694, s2.loss_bbox: 0.0451, s2.loss_mask: 0.0470, loss: 1.0122\n",
      "2021-05-13 21:07:34,550 - mmdet - INFO - Epoch [2][170/655]\tlr: 5.000e-07, eta: 11:36:30, time: 1.847, data_time: 0.025, memory: 17504, loss_rpn_cls: 0.0222, loss_rpn_bbox: 0.0278, s0.loss_cls: 0.1364, s0.acc: 95.0098, s0.loss_bbox: 0.2567, s0.loss_mask: 0.2228, s1.loss_cls: 0.0562, s1.acc: 95.8755, s1.loss_bbox: 0.1109, s1.loss_mask: 0.1005, s2.loss_cls: 0.0266, s2.acc: 96.2136, s2.loss_bbox: 0.0462, s2.loss_mask: 0.0460, loss: 1.0522\n",
      "2021-05-13 21:07:53,570 - mmdet - INFO - Epoch [2][180/655]\tlr: 5.000e-07, eta: 11:36:30, time: 1.902, data_time: 0.023, memory: 17504, loss_rpn_cls: 0.0182, loss_rpn_bbox: 0.0315, s0.loss_cls: 0.1406, s0.acc: 94.9023, s0.loss_bbox: 0.3079, s0.loss_mask: 0.2107, s1.loss_cls: 0.0538, s1.acc: 96.0835, s1.loss_bbox: 0.1305, s1.loss_mask: 0.0981, s2.loss_cls: 0.0269, s2.acc: 95.9088, s2.loss_bbox: 0.0542, s2.loss_mask: 0.0453, loss: 1.1179\n",
      "2021-05-13 21:08:12,618 - mmdet - INFO - Epoch [2][190/655]\tlr: 5.000e-07, eta: 11:36:30, time: 1.905, data_time: 0.028, memory: 17504, loss_rpn_cls: 0.0268, loss_rpn_bbox: 0.0308, s0.loss_cls: 0.1569, s0.acc: 94.4336, s0.loss_bbox: 0.3075, s0.loss_mask: 0.2160, s1.loss_cls: 0.0624, s1.acc: 95.5914, s1.loss_bbox: 0.1226, s1.loss_mask: 0.0929, s2.loss_cls: 0.0285, s2.acc: 95.7078, s2.loss_bbox: 0.0507, s2.loss_mask: 0.0423, loss: 1.1374\n",
      "2021-05-13 21:08:31,333 - mmdet - INFO - Epoch [2][200/655]\tlr: 5.000e-07, eta: 11:36:20, time: 1.871, data_time: 0.027, memory: 17504, loss_rpn_cls: 0.0254, loss_rpn_bbox: 0.0279, s0.loss_cls: 0.1259, s0.acc: 95.4736, s0.loss_bbox: 0.2512, s0.loss_mask: 0.1904, s1.loss_cls: 0.0472, s1.acc: 96.4325, s1.loss_bbox: 0.1097, s1.loss_mask: 0.0886, s2.loss_cls: 0.0226, s2.acc: 96.7341, s2.loss_bbox: 0.0473, s2.loss_mask: 0.0415, loss: 0.9777\n",
      "2021-05-13 21:08:49,540 - mmdet - INFO - Epoch [2][210/655]\tlr: 5.000e-07, eta: 11:35:57, time: 1.821, data_time: 0.022, memory: 17504, loss_rpn_cls: 0.0133, loss_rpn_bbox: 0.0199, s0.loss_cls: 0.0961, s0.acc: 96.4111, s0.loss_bbox: 0.2115, s0.loss_mask: 0.1800, s1.loss_cls: 0.0350, s1.acc: 97.4355, s1.loss_bbox: 0.0897, s1.loss_mask: 0.0782, s2.loss_cls: 0.0170, s2.acc: 97.4873, s2.loss_bbox: 0.0380, s2.loss_mask: 0.0368, loss: 0.8157\n",
      "2021-05-13 21:09:08,124 - mmdet - INFO - Epoch [2][220/655]\tlr: 5.000e-07, eta: 11:35:44, time: 1.858, data_time: 0.029, memory: 17504, loss_rpn_cls: 0.0287, loss_rpn_bbox: 0.0338, s0.loss_cls: 0.1450, s0.acc: 94.7803, s0.loss_bbox: 0.2521, s0.loss_mask: 0.2013, s1.loss_cls: 0.0616, s1.acc: 95.7783, s1.loss_bbox: 0.1002, s1.loss_mask: 0.0902, s2.loss_cls: 0.0286, s2.acc: 96.1385, s2.loss_bbox: 0.0398, s2.loss_mask: 0.0423, loss: 1.0236\n",
      "2021-05-13 21:09:26,635 - mmdet - INFO - Epoch [2][230/655]\tlr: 5.000e-07, eta: 11:35:29, time: 1.851, data_time: 0.023, memory: 17504, loss_rpn_cls: 0.0180, loss_rpn_bbox: 0.0212, s0.loss_cls: 0.1065, s0.acc: 96.0254, s0.loss_bbox: 0.2351, s0.loss_mask: 0.1981, s1.loss_cls: 0.0388, s1.acc: 97.1515, s1.loss_bbox: 0.0996, s1.loss_mask: 0.0875, s2.loss_cls: 0.0186, s2.acc: 97.2225, s2.loss_bbox: 0.0430, s2.loss_mask: 0.0396, loss: 0.9061\n",
      "2021-05-13 21:09:44,853 - mmdet - INFO - Epoch [2][240/655]\tlr: 5.000e-07, eta: 11:35:06, time: 1.822, data_time: 0.023, memory: 17504, loss_rpn_cls: 0.0198, loss_rpn_bbox: 0.0264, s0.loss_cls: 0.1204, s0.acc: 95.8203, s0.loss_bbox: 0.2205, s0.loss_mask: 0.1875, s1.loss_cls: 0.0442, s1.acc: 96.9146, s1.loss_bbox: 0.0904, s1.loss_mask: 0.0843, s2.loss_cls: 0.0205, s2.acc: 96.9942, s2.loss_bbox: 0.0381, s2.loss_mask: 0.0389, loss: 0.8911\n",
      "2021-05-13 21:10:02,859 - mmdet - INFO - Epoch [2][250/655]\tlr: 5.000e-07, eta: 11:34:38, time: 1.801, data_time: 0.020, memory: 17504, loss_rpn_cls: 0.0112, loss_rpn_bbox: 0.0133, s0.loss_cls: 0.0887, s0.acc: 96.5234, s0.loss_bbox: 0.2089, s0.loss_mask: 0.1715, s1.loss_cls: 0.0340, s1.acc: 97.4777, s1.loss_bbox: 0.0873, s1.loss_mask: 0.0782, s2.loss_cls: 0.0166, s2.acc: 97.4938, s2.loss_bbox: 0.0372, s2.loss_mask: 0.0357, loss: 0.7827\n",
      "2021-05-13 21:10:21,438 - mmdet - INFO - Epoch [2][260/655]\tlr: 5.000e-07, eta: 11:34:25, time: 1.858, data_time: 0.026, memory: 17504, loss_rpn_cls: 0.0181, loss_rpn_bbox: 0.0274, s0.loss_cls: 0.1417, s0.acc: 94.8682, s0.loss_bbox: 0.2652, s0.loss_mask: 0.2022, s1.loss_cls: 0.0557, s1.acc: 95.9835, s1.loss_bbox: 0.1109, s1.loss_mask: 0.0924, s2.loss_cls: 0.0274, s2.acc: 96.0790, s2.loss_bbox: 0.0457, s2.loss_mask: 0.0431, loss: 1.0298\n",
      "2021-05-13 21:10:39,848 - mmdet - INFO - Epoch [2][270/655]\tlr: 5.000e-07, eta: 11:34:07, time: 1.841, data_time: 0.023, memory: 17504, loss_rpn_cls: 0.0192, loss_rpn_bbox: 0.0253, s0.loss_cls: 0.1137, s0.acc: 95.9033, s0.loss_bbox: 0.2237, s0.loss_mask: 0.1912, s1.loss_cls: 0.0448, s1.acc: 96.8280, s1.loss_bbox: 0.0930, s1.loss_mask: 0.0817, s2.loss_cls: 0.0199, s2.acc: 97.3244, s2.loss_bbox: 0.0392, s2.loss_mask: 0.0378, loss: 0.8894\n",
      "2021-05-13 21:10:58,791 - mmdet - INFO - Epoch [2][280/655]\tlr: 5.000e-07, eta: 11:34:02, time: 1.894, data_time: 0.029, memory: 17504, loss_rpn_cls: 0.0283, loss_rpn_bbox: 0.0371, s0.loss_cls: 0.1607, s0.acc: 93.7158, s0.loss_bbox: 0.3341, s0.loss_mask: 0.2488, s1.loss_cls: 0.0667, s1.acc: 95.0449, s1.loss_bbox: 0.1364, s1.loss_mask: 0.1104, s2.loss_cls: 0.0339, s2.acc: 94.6272, s2.loss_bbox: 0.0538, s2.loss_mask: 0.0495, loss: 1.2596\n",
      "2021-05-13 21:11:17,392 - mmdet - INFO - Epoch [2][290/655]\tlr: 5.000e-07, eta: 11:33:49, time: 1.860, data_time: 0.025, memory: 17504, loss_rpn_cls: 0.0189, loss_rpn_bbox: 0.0204, s0.loss_cls: 0.1045, s0.acc: 96.3037, s0.loss_bbox: 0.2474, s0.loss_mask: 0.1891, s1.loss_cls: 0.0369, s1.acc: 97.3496, s1.loss_bbox: 0.1012, s1.loss_mask: 0.0808, s2.loss_cls: 0.0195, s2.acc: 97.1240, s2.loss_bbox: 0.0431, s2.loss_mask: 0.0373, loss: 0.8992\n",
      "2021-05-13 21:11:35,968 - mmdet - INFO - Epoch [2][300/655]\tlr: 5.000e-07, eta: 11:33:35, time: 1.858, data_time: 0.025, memory: 17504, loss_rpn_cls: 0.0198, loss_rpn_bbox: 0.0226, s0.loss_cls: 0.1195, s0.acc: 95.5762, s0.loss_bbox: 0.2417, s0.loss_mask: 0.1732, s1.loss_cls: 0.0474, s1.acc: 96.6004, s1.loss_bbox: 0.1028, s1.loss_mask: 0.0806, s2.loss_cls: 0.0240, s2.acc: 96.6165, s2.loss_bbox: 0.0438, s2.loss_mask: 0.0387, loss: 0.9142\n",
      "2021-05-13 21:11:54,400 - mmdet - INFO - Epoch [2][310/655]\tlr: 5.000e-07, eta: 11:33:17, time: 1.843, data_time: 0.026, memory: 17504, loss_rpn_cls: 0.0210, loss_rpn_bbox: 0.0258, s0.loss_cls: 0.1231, s0.acc: 95.4541, s0.loss_bbox: 0.2551, s0.loss_mask: 0.2028, s1.loss_cls: 0.0496, s1.acc: 96.4635, s1.loss_bbox: 0.1045, s1.loss_mask: 0.0934, s2.loss_cls: 0.0236, s2.acc: 96.6857, s2.loss_bbox: 0.0441, s2.loss_mask: 0.0430, loss: 0.9861\n",
      "2021-05-13 21:12:12,597 - mmdet - INFO - Epoch [2][320/655]\tlr: 5.000e-07, eta: 11:32:54, time: 1.820, data_time: 0.028, memory: 17504, loss_rpn_cls: 0.0241, loss_rpn_bbox: 0.0252, s0.loss_cls: 0.1227, s0.acc: 95.3125, s0.loss_bbox: 0.2401, s0.loss_mask: 0.2106, s1.loss_cls: 0.0478, s1.acc: 96.5170, s1.loss_bbox: 0.0953, s1.loss_mask: 0.0935, s2.loss_cls: 0.0220, s2.acc: 96.9095, s2.loss_bbox: 0.0384, s2.loss_mask: 0.0420, loss: 0.9615\n",
      "2021-05-13 21:12:31,242 - mmdet - INFO - Epoch [2][330/655]\tlr: 5.000e-07, eta: 11:32:42, time: 1.864, data_time: 0.031, memory: 17504, loss_rpn_cls: 0.0229, loss_rpn_bbox: 0.0306, s0.loss_cls: 0.1434, s0.acc: 94.8535, s0.loss_bbox: 0.2757, s0.loss_mask: 0.2121, s1.loss_cls: 0.0601, s1.acc: 95.5773, s1.loss_bbox: 0.1134, s1.loss_mask: 0.0966, s2.loss_cls: 0.0306, s2.acc: 95.5033, s2.loss_bbox: 0.0477, s2.loss_mask: 0.0454, loss: 1.0784\n",
      "2021-05-13 21:12:49,877 - mmdet - INFO - Epoch [2][340/655]\tlr: 5.000e-07, eta: 11:32:29, time: 1.864, data_time: 0.024, memory: 17504, loss_rpn_cls: 0.0198, loss_rpn_bbox: 0.0298, s0.loss_cls: 0.1409, s0.acc: 94.7070, s0.loss_bbox: 0.2919, s0.loss_mask: 0.2106, s1.loss_cls: 0.0587, s1.acc: 95.7658, s1.loss_bbox: 0.1217, s1.loss_mask: 0.0933, s2.loss_cls: 0.0292, s2.acc: 95.7189, s2.loss_bbox: 0.0494, s2.loss_mask: 0.0425, loss: 1.0878\n",
      "2021-05-13 21:13:08,212 - mmdet - INFO - Epoch [2][350/655]\tlr: 5.000e-07, eta: 11:32:09, time: 1.833, data_time: 0.022, memory: 17504, loss_rpn_cls: 0.0197, loss_rpn_bbox: 0.0241, s0.loss_cls: 0.1286, s0.acc: 95.2197, s0.loss_bbox: 0.2620, s0.loss_mask: 0.2107, s1.loss_cls: 0.0523, s1.acc: 96.3004, s1.loss_bbox: 0.1094, s1.loss_mask: 0.0946, s2.loss_cls: 0.0251, s2.acc: 96.3159, s2.loss_bbox: 0.0453, s2.loss_mask: 0.0433, loss: 1.0151\n",
      "2021-05-13 21:13:26,456 - mmdet - INFO - Epoch [2][360/655]\tlr: 5.000e-07, eta: 11:31:47, time: 1.824, data_time: 0.021, memory: 17504, loss_rpn_cls: 0.0134, loss_rpn_bbox: 0.0208, s0.loss_cls: 0.1001, s0.acc: 96.2207, s0.loss_bbox: 0.2321, s0.loss_mask: 0.1859, s1.loss_cls: 0.0386, s1.acc: 97.0554, s1.loss_bbox: 0.0936, s1.loss_mask: 0.0838, s2.loss_cls: 0.0187, s2.acc: 97.0409, s2.loss_bbox: 0.0394, s2.loss_mask: 0.0399, loss: 0.8663\n",
      "2021-05-13 21:13:44,796 - mmdet - INFO - Epoch [2][370/655]\tlr: 5.000e-07, eta: 11:31:28, time: 1.834, data_time: 0.023, memory: 17504, loss_rpn_cls: 0.0174, loss_rpn_bbox: 0.0195, s0.loss_cls: 0.0978, s0.acc: 96.2012, s0.loss_bbox: 0.2237, s0.loss_mask: 0.1716, s1.loss_cls: 0.0361, s1.acc: 97.3588, s1.loss_bbox: 0.0944, s1.loss_mask: 0.0800, s2.loss_cls: 0.0190, s2.acc: 97.0127, s2.loss_bbox: 0.0399, s2.loss_mask: 0.0373, loss: 0.8368\n",
      "2021-05-13 21:14:02,731 - mmdet - INFO - Epoch [2][380/655]\tlr: 5.000e-07, eta: 11:30:59, time: 1.794, data_time: 0.022, memory: 17504, loss_rpn_cls: 0.0180, loss_rpn_bbox: 0.0213, s0.loss_cls: 0.1097, s0.acc: 96.0449, s0.loss_bbox: 0.2181, s0.loss_mask: 0.1871, s1.loss_cls: 0.0412, s1.acc: 97.0652, s1.loss_bbox: 0.0870, s1.loss_mask: 0.0830, s2.loss_cls: 0.0198, s2.acc: 97.1676, s2.loss_bbox: 0.0370, s2.loss_mask: 0.0384, loss: 0.8604\n",
      "2021-05-13 21:14:21,270 - mmdet - INFO - Epoch [2][390/655]\tlr: 5.000e-07, eta: 11:30:44, time: 1.854, data_time: 0.025, memory: 17504, loss_rpn_cls: 0.0213, loss_rpn_bbox: 0.0267, s0.loss_cls: 0.1391, s0.acc: 94.9316, s0.loss_bbox: 0.2787, s0.loss_mask: 0.2219, s1.loss_cls: 0.0571, s1.acc: 95.8872, s1.loss_bbox: 0.1117, s1.loss_mask: 0.0945, s2.loss_cls: 0.0262, s2.acc: 96.3256, s2.loss_bbox: 0.0439, s2.loss_mask: 0.0423, loss: 1.0634\n",
      "2021-05-13 21:14:39,964 - mmdet - INFO - Epoch [2][400/655]\tlr: 5.000e-07, eta: 11:30:32, time: 1.870, data_time: 0.022, memory: 17504, loss_rpn_cls: 0.0205, loss_rpn_bbox: 0.0223, s0.loss_cls: 0.1220, s0.acc: 95.5615, s0.loss_bbox: 0.2609, s0.loss_mask: 0.1874, s1.loss_cls: 0.0508, s1.acc: 96.6897, s1.loss_bbox: 0.1081, s1.loss_mask: 0.0848, s2.loss_cls: 0.0246, s2.acc: 96.7137, s2.loss_bbox: 0.0454, s2.loss_mask: 0.0392, loss: 0.9659\n",
      "2021-05-13 21:14:58,301 - mmdet - INFO - Epoch [2][410/655]\tlr: 5.000e-07, eta: 11:30:12, time: 1.833, data_time: 0.024, memory: 17504, loss_rpn_cls: 0.0188, loss_rpn_bbox: 0.0309, s0.loss_cls: 0.1328, s0.acc: 94.8975, s0.loss_bbox: 0.2543, s0.loss_mask: 0.2036, s1.loss_cls: 0.0554, s1.acc: 96.1501, s1.loss_bbox: 0.1088, s1.loss_mask: 0.0934, s2.loss_cls: 0.0256, s2.acc: 96.4883, s2.loss_bbox: 0.0454, s2.loss_mask: 0.0438, loss: 1.0127\n",
      "2021-05-13 21:15:16,391 - mmdet - INFO - Epoch [2][420/655]\tlr: 5.000e-07, eta: 11:29:48, time: 1.809, data_time: 0.027, memory: 17504, loss_rpn_cls: 0.0188, loss_rpn_bbox: 0.0261, s0.loss_cls: 0.1249, s0.acc: 95.4736, s0.loss_bbox: 0.2312, s0.loss_mask: 0.1944, s1.loss_cls: 0.0479, s1.acc: 96.6528, s1.loss_bbox: 0.0970, s1.loss_mask: 0.0894, s2.loss_cls: 0.0232, s2.acc: 96.5736, s2.loss_bbox: 0.0415, s2.loss_mask: 0.0421, loss: 0.9365\n",
      "2021-05-13 21:15:34,845 - mmdet - INFO - Epoch [2][430/655]\tlr: 5.000e-07, eta: 11:29:31, time: 1.846, data_time: 0.024, memory: 17516, loss_rpn_cls: 0.0098, loss_rpn_bbox: 0.0182, s0.loss_cls: 0.1013, s0.acc: 96.2061, s0.loss_bbox: 0.2309, s0.loss_mask: 0.1774, s1.loss_cls: 0.0381, s1.acc: 97.3310, s1.loss_bbox: 0.0954, s1.loss_mask: 0.0786, s2.loss_cls: 0.0180, s2.acc: 97.4477, s2.loss_bbox: 0.0402, s2.loss_mask: 0.0363, loss: 0.8443\n",
      "2021-05-13 21:15:53,595 - mmdet - INFO - Epoch [2][440/655]\tlr: 5.000e-07, eta: 11:29:20, time: 1.875, data_time: 0.031, memory: 17516, loss_rpn_cls: 0.0247, loss_rpn_bbox: 0.0347, s0.loss_cls: 0.1357, s0.acc: 94.7754, s0.loss_bbox: 0.2866, s0.loss_mask: 0.2445, s1.loss_cls: 0.0557, s1.acc: 95.7124, s1.loss_bbox: 0.1225, s1.loss_mask: 0.1100, s2.loss_cls: 0.0289, s2.acc: 95.9111, s2.loss_bbox: 0.0507, s2.loss_mask: 0.0512, loss: 1.1453\n",
      "2021-05-13 21:16:12,157 - mmdet - INFO - Epoch [2][450/655]\tlr: 5.000e-07, eta: 11:29:05, time: 1.856, data_time: 0.024, memory: 17519, loss_rpn_cls: 0.0166, loss_rpn_bbox: 0.0242, s0.loss_cls: 0.1295, s0.acc: 95.4102, s0.loss_bbox: 0.2705, s0.loss_mask: 0.2069, s1.loss_cls: 0.0508, s1.acc: 96.5292, s1.loss_bbox: 0.1139, s1.loss_mask: 0.0924, s2.loss_cls: 0.0229, s2.acc: 96.8804, s2.loss_bbox: 0.0490, s2.loss_mask: 0.0434, loss: 1.0201\n",
      "2021-05-13 21:16:30,879 - mmdet - INFO - Epoch [2][460/655]\tlr: 5.000e-07, eta: 11:28:53, time: 1.872, data_time: 0.027, memory: 17519, loss_rpn_cls: 0.0247, loss_rpn_bbox: 0.0291, s0.loss_cls: 0.1371, s0.acc: 94.9805, s0.loss_bbox: 0.2660, s0.loss_mask: 0.1888, s1.loss_cls: 0.0540, s1.acc: 96.0451, s1.loss_bbox: 0.1154, s1.loss_mask: 0.0884, s2.loss_cls: 0.0248, s2.acc: 96.3904, s2.loss_bbox: 0.0471, s2.loss_mask: 0.0399, loss: 1.0152\n",
      "2021-05-13 21:16:48,683 - mmdet - INFO - Epoch [2][470/655]\tlr: 5.000e-07, eta: 11:28:22, time: 1.780, data_time: 0.022, memory: 17519, loss_rpn_cls: 0.0144, loss_rpn_bbox: 0.0178, s0.loss_cls: 0.0907, s0.acc: 96.4795, s0.loss_bbox: 0.1731, s0.loss_mask: 0.1606, s1.loss_cls: 0.0369, s1.acc: 97.5262, s1.loss_bbox: 0.0708, s1.loss_mask: 0.0762, s2.loss_cls: 0.0173, s2.acc: 97.4659, s2.loss_bbox: 0.0302, s2.loss_mask: 0.0350, loss: 0.7231\n",
      "2021-05-13 21:17:06,828 - mmdet - INFO - Epoch [2][480/655]\tlr: 5.000e-07, eta: 11:27:59, time: 1.814, data_time: 0.026, memory: 17519, loss_rpn_cls: 0.0151, loss_rpn_bbox: 0.0258, s0.loss_cls: 0.1091, s0.acc: 96.0693, s0.loss_bbox: 0.2140, s0.loss_mask: 0.1812, s1.loss_cls: 0.0412, s1.acc: 97.3305, s1.loss_bbox: 0.0901, s1.loss_mask: 0.0838, s2.loss_cls: 0.0186, s2.acc: 97.4131, s2.loss_bbox: 0.0417, s2.loss_mask: 0.0399, loss: 0.8606\n",
      "2021-05-13 21:17:25,003 - mmdet - INFO - Epoch [2][490/655]\tlr: 5.000e-07, eta: 11:27:36, time: 1.818, data_time: 0.025, memory: 17519, loss_rpn_cls: 0.0192, loss_rpn_bbox: 0.0265, s0.loss_cls: 0.1057, s0.acc: 96.2939, s0.loss_bbox: 0.2206, s0.loss_mask: 0.1789, s1.loss_cls: 0.0426, s1.acc: 96.9515, s1.loss_bbox: 0.0927, s1.loss_mask: 0.0837, s2.loss_cls: 0.0202, s2.acc: 97.2120, s2.loss_bbox: 0.0407, s2.loss_mask: 0.0401, loss: 0.8709\n",
      "2021-05-13 21:17:43,448 - mmdet - INFO - Epoch [2][500/655]\tlr: 5.000e-07, eta: 11:27:19, time: 1.844, data_time: 0.023, memory: 17519, loss_rpn_cls: 0.0187, loss_rpn_bbox: 0.0273, s0.loss_cls: 0.1080, s0.acc: 96.0303, s0.loss_bbox: 0.2266, s0.loss_mask: 0.1977, s1.loss_cls: 0.0422, s1.acc: 97.0217, s1.loss_bbox: 0.0947, s1.loss_mask: 0.0922, s2.loss_cls: 0.0208, s2.acc: 96.9669, s2.loss_bbox: 0.0418, s2.loss_mask: 0.0431, loss: 0.9132\n",
      "2021-05-13 21:18:01,754 - mmdet - INFO - Epoch [2][510/655]\tlr: 5.000e-07, eta: 11:26:59, time: 1.831, data_time: 0.026, memory: 17519, loss_rpn_cls: 0.0297, loss_rpn_bbox: 0.0336, s0.loss_cls: 0.1407, s0.acc: 94.7168, s0.loss_bbox: 0.2618, s0.loss_mask: 0.2017, s1.loss_cls: 0.0532, s1.acc: 95.9100, s1.loss_bbox: 0.1071, s1.loss_mask: 0.0942, s2.loss_cls: 0.0254, s2.acc: 96.1562, s2.loss_bbox: 0.0451, s2.loss_mask: 0.0446, loss: 1.0371\n",
      "2021-05-13 21:18:20,567 - mmdet - INFO - Epoch [2][520/655]\tlr: 5.000e-07, eta: 11:26:49, time: 1.881, data_time: 0.024, memory: 17519, loss_rpn_cls: 0.0192, loss_rpn_bbox: 0.0240, s0.loss_cls: 0.1203, s0.acc: 95.4541, s0.loss_bbox: 0.2700, s0.loss_mask: 0.2020, s1.loss_cls: 0.0471, s1.acc: 96.5293, s1.loss_bbox: 0.1167, s1.loss_mask: 0.0941, s2.loss_cls: 0.0237, s2.acc: 96.2602, s2.loss_bbox: 0.0493, s2.loss_mask: 0.0441, loss: 1.0104\n",
      "2021-05-13 21:18:38,727 - mmdet - INFO - Epoch [2][530/655]\tlr: 5.000e-07, eta: 11:26:26, time: 1.816, data_time: 0.025, memory: 17519, loss_rpn_cls: 0.0288, loss_rpn_bbox: 0.0330, s0.loss_cls: 0.1308, s0.acc: 94.9561, s0.loss_bbox: 0.2551, s0.loss_mask: 0.2122, s1.loss_cls: 0.0538, s1.acc: 96.0521, s1.loss_bbox: 0.1073, s1.loss_mask: 0.0945, s2.loss_cls: 0.0264, s2.acc: 96.0706, s2.loss_bbox: 0.0443, s2.loss_mask: 0.0425, loss: 1.0286\n",
      "2021-05-13 21:18:57,056 - mmdet - INFO - Epoch [2][540/655]\tlr: 5.000e-07, eta: 11:26:06, time: 1.833, data_time: 0.022, memory: 17519, loss_rpn_cls: 0.0157, loss_rpn_bbox: 0.0176, s0.loss_cls: 0.1044, s0.acc: 96.3232, s0.loss_bbox: 0.2190, s0.loss_mask: 0.1787, s1.loss_cls: 0.0388, s1.acc: 97.1885, s1.loss_bbox: 0.0935, s1.loss_mask: 0.0798, s2.loss_cls: 0.0195, s2.acc: 97.2002, s2.loss_bbox: 0.0432, s2.loss_mask: 0.0381, loss: 0.8483\n",
      "2021-05-13 21:19:15,657 - mmdet - INFO - Epoch [2][550/655]\tlr: 5.000e-07, eta: 11:25:52, time: 1.860, data_time: 0.033, memory: 17519, loss_rpn_cls: 0.0271, loss_rpn_bbox: 0.0368, s0.loss_cls: 0.1639, s0.acc: 94.2676, s0.loss_bbox: 0.2969, s0.loss_mask: 0.2420, s1.loss_cls: 0.0688, s1.acc: 95.4296, s1.loss_bbox: 0.1153, s1.loss_mask: 0.1058, s2.loss_cls: 0.0339, s2.acc: 95.3613, s2.loss_bbox: 0.0448, s2.loss_mask: 0.0484, loss: 1.1836\n",
      "2021-05-13 21:19:34,338 - mmdet - INFO - Epoch [2][560/655]\tlr: 5.000e-07, eta: 11:25:39, time: 1.868, data_time: 0.025, memory: 17519, loss_rpn_cls: 0.0214, loss_rpn_bbox: 0.0240, s0.loss_cls: 0.1172, s0.acc: 95.5469, s0.loss_bbox: 0.2579, s0.loss_mask: 0.1904, s1.loss_cls: 0.0484, s1.acc: 96.3295, s1.loss_bbox: 0.1109, s1.loss_mask: 0.0853, s2.loss_cls: 0.0228, s2.acc: 96.5950, s2.loss_bbox: 0.0482, s2.loss_mask: 0.0401, loss: 0.9667\n",
      "2021-05-13 21:19:51,979 - mmdet - INFO - Epoch [2][570/655]\tlr: 5.000e-07, eta: 11:25:07, time: 1.764, data_time: 0.023, memory: 17519, loss_rpn_cls: 0.0147, loss_rpn_bbox: 0.0187, s0.loss_cls: 0.0917, s0.acc: 96.6650, s0.loss_bbox: 0.2001, s0.loss_mask: 0.1824, s1.loss_cls: 0.0402, s1.acc: 97.0605, s1.loss_bbox: 0.0831, s1.loss_mask: 0.0818, s2.loss_cls: 0.0183, s2.acc: 97.3554, s2.loss_bbox: 0.0343, s2.loss_mask: 0.0367, loss: 0.8021\n",
      "2021-05-13 21:20:10,437 - mmdet - INFO - Epoch [2][580/655]\tlr: 5.000e-07, eta: 11:24:50, time: 1.846, data_time: 0.028, memory: 17519, loss_rpn_cls: 0.0238, loss_rpn_bbox: 0.0310, s0.loss_cls: 0.1361, s0.acc: 94.9219, s0.loss_bbox: 0.2753, s0.loss_mask: 0.2218, s1.loss_cls: 0.0558, s1.acc: 95.7815, s1.loss_bbox: 0.1141, s1.loss_mask: 0.0990, s2.loss_cls: 0.0261, s2.acc: 96.1856, s2.loss_bbox: 0.0474, s2.loss_mask: 0.0454, loss: 1.0758\n",
      "2021-05-13 21:20:28,421 - mmdet - INFO - Epoch [2][590/655]\tlr: 5.000e-07, eta: 11:24:24, time: 1.798, data_time: 0.025, memory: 17519, loss_rpn_cls: 0.0158, loss_rpn_bbox: 0.0216, s0.loss_cls: 0.1036, s0.acc: 96.1768, s0.loss_bbox: 0.2173, s0.loss_mask: 0.1882, s1.loss_cls: 0.0389, s1.acc: 97.2142, s1.loss_bbox: 0.0944, s1.loss_mask: 0.0837, s2.loss_cls: 0.0200, s2.acc: 97.2144, s2.loss_bbox: 0.0402, s2.loss_mask: 0.0382, loss: 0.8621\n",
      "2021-05-13 21:20:47,334 - mmdet - INFO - Epoch [2][600/655]\tlr: 5.000e-07, eta: 11:24:15, time: 1.891, data_time: 0.030, memory: 17519, loss_rpn_cls: 0.0226, loss_rpn_bbox: 0.0275, s0.loss_cls: 0.1407, s0.acc: 94.9219, s0.loss_bbox: 0.3042, s0.loss_mask: 0.2168, s1.loss_cls: 0.0598, s1.acc: 95.8033, s1.loss_bbox: 0.1240, s1.loss_mask: 0.0985, s2.loss_cls: 0.0285, s2.acc: 95.5856, s2.loss_bbox: 0.0508, s2.loss_mask: 0.0452, loss: 1.1185\n",
      "2021-05-13 21:21:06,026 - mmdet - INFO - Epoch [2][610/655]\tlr: 5.000e-07, eta: 11:24:02, time: 1.869, data_time: 0.020, memory: 17519, loss_rpn_cls: 0.0141, loss_rpn_bbox: 0.0166, s0.loss_cls: 0.1102, s0.acc: 95.8496, s0.loss_bbox: 0.2414, s0.loss_mask: 0.1860, s1.loss_cls: 0.0425, s1.acc: 96.9087, s1.loss_bbox: 0.1009, s1.loss_mask: 0.0853, s2.loss_cls: 0.0212, s2.acc: 96.8268, s2.loss_bbox: 0.0438, s2.loss_mask: 0.0399, loss: 0.9018\n",
      "2021-05-13 21:21:25,088 - mmdet - INFO - Epoch [2][620/655]\tlr: 5.000e-07, eta: 11:23:55, time: 1.906, data_time: 0.024, memory: 17519, loss_rpn_cls: 0.0328, loss_rpn_bbox: 0.0278, s0.loss_cls: 0.1315, s0.acc: 95.0586, s0.loss_bbox: 0.2901, s0.loss_mask: 0.2280, s1.loss_cls: 0.0497, s1.acc: 96.4303, s1.loss_bbox: 0.1207, s1.loss_mask: 0.1046, s2.loss_cls: 0.0243, s2.acc: 96.4883, s2.loss_bbox: 0.0507, s2.loss_mask: 0.0474, loss: 1.1077\n",
      "2021-05-13 21:21:43,477 - mmdet - INFO - Epoch [2][630/655]\tlr: 5.000e-07, eta: 11:23:37, time: 1.839, data_time: 0.021, memory: 17519, loss_rpn_cls: 0.0136, loss_rpn_bbox: 0.0185, s0.loss_cls: 0.0975, s0.acc: 96.4697, s0.loss_bbox: 0.2243, s0.loss_mask: 0.1964, s1.loss_cls: 0.0351, s1.acc: 97.4899, s1.loss_bbox: 0.0913, s1.loss_mask: 0.0904, s2.loss_cls: 0.0173, s2.acc: 97.4444, s2.loss_bbox: 0.0388, s2.loss_mask: 0.0417, loss: 0.8650\n",
      "2021-05-13 21:22:01,815 - mmdet - INFO - Epoch [2][640/655]\tlr: 5.000e-07, eta: 11:23:17, time: 1.834, data_time: 0.026, memory: 17519, loss_rpn_cls: 0.0303, loss_rpn_bbox: 0.0327, s0.loss_cls: 0.1465, s0.acc: 94.6143, s0.loss_bbox: 0.2850, s0.loss_mask: 0.2357, s1.loss_cls: 0.0588, s1.acc: 95.5687, s1.loss_bbox: 0.1159, s1.loss_mask: 0.1067, s2.loss_cls: 0.0286, s2.acc: 95.6676, s2.loss_bbox: 0.0449, s2.loss_mask: 0.0478, loss: 1.1328\n",
      "2021-05-13 21:22:20,368 - mmdet - INFO - Epoch [2][650/655]\tlr: 5.000e-07, eta: 11:23:02, time: 1.855, data_time: 0.027, memory: 17519, loss_rpn_cls: 0.0259, loss_rpn_bbox: 0.0354, s0.loss_cls: 0.1455, s0.acc: 94.8584, s0.loss_bbox: 0.2684, s0.loss_mask: 0.2186, s1.loss_cls: 0.0615, s1.acc: 95.9132, s1.loss_bbox: 0.1063, s1.loss_mask: 0.0959, s2.loss_cls: 0.0288, s2.acc: 96.2867, s2.loss_bbox: 0.0435, s2.loss_mask: 0.0432, loss: 1.0729\n",
      "2021-05-13 21:22:29,415 - mmdet - INFO - Saving checkpoint at 2 epochs\n"
     ]
    },
    {
     "name": "stdout",
     "output_type": "stream",
     "text": [
      "[>>>>>>>>>>>>>>>>>>>>>>>>>>>>>] 655/655, 4.7 task/s, elapsed: 138s, ETA:     0s"
     ]
    },
    {
     "name": "stderr",
     "output_type": "stream",
     "text": [
      "2021-05-13 21:24:52,567 - mmdet - INFO - Evaluating bbox...\n"
     ]
    },
    {
     "name": "stdout",
     "output_type": "stream",
     "text": [
      "Loading and preparing results...\n",
      "DONE (t=0.05s)\n",
      "creating index...\n",
      "index created!\n",
      "Running per image evaluation...\n",
      "Evaluate annotation type *bbox*\n",
      "DONE (t=3.80s).\n",
      "Accumulating evaluation results...\n",
      "DONE (t=0.51s).\n",
      "Average Precision  (AP) @[ IoU=0.50:0.95 | area=   all | maxDets=100 ] = 0.284\n",
      "Average Precision  (AP) @[ IoU=0.50      | area=   all | maxDets=1000 ] = 0.454\n",
      "Average Precision  (AP) @[ IoU=0.75      | area=   all | maxDets=1000 ] = 0.274\n",
      "Average Precision  (AP) @[ IoU=0.50:0.95 | area= small | maxDets=1000 ] = 0.046\n",
      "Average Precision  (AP) @[ IoU=0.50:0.95 | area=medium | maxDets=1000 ] = 0.254\n",
      "Average Precision  (AP) @[ IoU=0.50:0.95 | area= large | maxDets=1000 ] = 0.501\n",
      "Average Recall     (AR) @[ IoU=0.50:0.95 | area=   all | maxDets=100 ] = 0.374\n",
      "Average Recall     (AR) @[ IoU=0.50:0.95 | area=   all | maxDets=300 ] = 0.374\n",
      "Average Recall     (AR) @[ IoU=0.50:0.95 | area=   all | maxDets=1000 ] = 0.374"
     ]
    },
    {
     "name": "stderr",
     "output_type": "stream",
     "text": [
      "2021-05-13 21:24:57,437 - mmdet - INFO - Evaluating segm...\n"
     ]
    },
    {
     "name": "stdout",
     "output_type": "stream",
     "text": [
      "\n",
      "Average Recall     (AR) @[ IoU=0.50:0.95 | area= small | maxDets=1000 ] = 0.109\n",
      "Average Recall     (AR) @[ IoU=0.50:0.95 | area=medium | maxDets=1000 ] = 0.350\n",
      "Average Recall     (AR) @[ IoU=0.50:0.95 | area= large | maxDets=1000 ] = 0.593\n",
      "Loading and preparing results...\n",
      "DONE (t=0.09s)\n",
      "creating index...\n",
      "index created!\n",
      "Running per image evaluation...\n",
      "Evaluate annotation type *segm*\n",
      "DONE (t=4.17s).\n",
      "Accumulating evaluation results...\n"
     ]
    },
    {
     "name": "stderr",
     "output_type": "stream",
     "text": [
      "2021-05-13 21:25:02,417 - mmdet - INFO - Epoch(val) [2][655]\tbbox_mAP: 0.2840, bbox_mAP_50: 0.4540, bbox_mAP_75: 0.2740, bbox_mAP_s: 0.0460, bbox_mAP_m: 0.2540, bbox_mAP_l: 0.5010, bbox_mAP_copypaste: 0.284 0.454 0.274 0.046 0.254 0.501, segm_mAP: 0.2590, segm_mAP_50: 0.4270, segm_mAP_75: 0.2580, segm_mAP_s: 0.0340, segm_mAP_m: 0.2230, segm_mAP_l: 0.4870, segm_mAP_copypaste: 0.259 0.427 0.258 0.034 0.223 0.487\n"
     ]
    },
    {
     "name": "stdout",
     "output_type": "stream",
     "text": [
      "DONE (t=0.59s).\n",
      "Average Precision  (AP) @[ IoU=0.50:0.95 | area=   all | maxDets=100 ] = 0.259\n",
      "Average Precision  (AP) @[ IoU=0.50      | area=   all | maxDets=1000 ] = 0.427\n",
      "Average Precision  (AP) @[ IoU=0.75      | area=   all | maxDets=1000 ] = 0.258\n",
      "Average Precision  (AP) @[ IoU=0.50:0.95 | area= small | maxDets=1000 ] = 0.034\n",
      "Average Precision  (AP) @[ IoU=0.50:0.95 | area=medium | maxDets=1000 ] = 0.223\n",
      "Average Precision  (AP) @[ IoU=0.50:0.95 | area= large | maxDets=1000 ] = 0.487\n",
      "Average Recall     (AR) @[ IoU=0.50:0.95 | area=   all | maxDets=100 ] = 0.344\n",
      "Average Recall     (AR) @[ IoU=0.50:0.95 | area=   all | maxDets=300 ] = 0.344\n",
      "Average Recall     (AR) @[ IoU=0.50:0.95 | area=   all | maxDets=1000 ] = 0.344\n",
      "Average Recall     (AR) @[ IoU=0.50:0.95 | area= small | maxDets=1000 ] = 0.083\n",
      "Average Recall     (AR) @[ IoU=0.50:0.95 | area=medium | maxDets=1000 ] = 0.315\n",
      "Average Recall     (AR) @[ IoU=0.50:0.95 | area= large | maxDets=1000 ] = 0.578\n"
     ]
    },
    {
     "name": "stderr",
     "output_type": "stream",
     "text": [
      "2021-05-13 21:25:23,461 - mmdet - INFO - Epoch [3][10/655]\tlr: 5.000e-07, eta: 11:20:43, time: 2.101, data_time: 0.254, memory: 17519, loss_rpn_cls: 0.0166, loss_rpn_bbox: 0.0236, s0.loss_cls: 0.1046, s0.acc: 95.9473, s0.loss_bbox: 0.2389, s0.loss_mask: 0.1667, s1.loss_cls: 0.0395, s1.acc: 96.7732, s1.loss_bbox: 0.1003, s1.loss_mask: 0.0744, s2.loss_cls: 0.0181, s2.acc: 97.3155, s2.loss_bbox: 0.0452, s2.loss_mask: 0.0351, loss: 0.8629\n",
      "2021-05-13 21:25:41,813 - mmdet - INFO - Epoch [3][20/655]\tlr: 5.000e-07, eta: 11:20:25, time: 1.835, data_time: 0.021, memory: 17519, loss_rpn_cls: 0.0175, loss_rpn_bbox: 0.0179, s0.loss_cls: 0.1056, s0.acc: 96.1621, s0.loss_bbox: 0.2342, s0.loss_mask: 0.2053, s1.loss_cls: 0.0412, s1.acc: 96.9622, s1.loss_bbox: 0.1024, s1.loss_mask: 0.0927, s2.loss_cls: 0.0215, s2.acc: 96.8197, s2.loss_bbox: 0.0438, s2.loss_mask: 0.0421, loss: 0.9242\n",
      "2021-05-13 21:26:01,004 - mmdet - INFO - Epoch [3][30/655]\tlr: 5.000e-07, eta: 11:20:20, time: 1.919, data_time: 0.029, memory: 17519, loss_rpn_cls: 0.0262, loss_rpn_bbox: 0.0366, s0.loss_cls: 0.1677, s0.acc: 93.6719, s0.loss_bbox: 0.3209, s0.loss_mask: 0.2356, s1.loss_cls: 0.0720, s1.acc: 94.7019, s1.loss_bbox: 0.1390, s1.loss_mask: 0.1081, s2.loss_cls: 0.0325, s2.acc: 95.2487, s2.loss_bbox: 0.0554, s2.loss_mask: 0.0499, loss: 1.2439\n",
      "2021-05-13 21:26:19,776 - mmdet - INFO - Epoch [3][40/655]\tlr: 5.000e-07, eta: 11:20:09, time: 1.877, data_time: 0.024, memory: 17519, loss_rpn_cls: 0.0270, loss_rpn_bbox: 0.0297, s0.loss_cls: 0.1572, s0.acc: 94.4043, s0.loss_bbox: 0.2923, s0.loss_mask: 0.2269, s1.loss_cls: 0.0649, s1.acc: 95.8031, s1.loss_bbox: 0.1168, s1.loss_mask: 0.0969, s2.loss_cls: 0.0311, s2.acc: 95.6123, s2.loss_bbox: 0.0454, s2.loss_mask: 0.0435, loss: 1.1317\n",
      "2021-05-13 21:26:38,170 - mmdet - INFO - Epoch [3][50/655]\tlr: 5.000e-07, eta: 11:19:51, time: 1.839, data_time: 0.027, memory: 17519, loss_rpn_cls: 0.0275, loss_rpn_bbox: 0.0329, s0.loss_cls: 0.1336, s0.acc: 94.9463, s0.loss_bbox: 0.2647, s0.loss_mask: 0.2123, s1.loss_cls: 0.0556, s1.acc: 95.6845, s1.loss_bbox: 0.1035, s1.loss_mask: 0.0955, s2.loss_cls: 0.0248, s2.acc: 96.3271, s2.loss_bbox: 0.0413, s2.loss_mask: 0.0433, loss: 1.0349\n",
      "2021-05-13 21:26:56,090 - mmdet - INFO - Epoch [3][60/655]\tlr: 5.000e-07, eta: 11:19:26, time: 1.792, data_time: 0.021, memory: 17519, loss_rpn_cls: 0.0196, loss_rpn_bbox: 0.0223, s0.loss_cls: 0.1099, s0.acc: 96.2549, s0.loss_bbox: 0.2129, s0.loss_mask: 0.1959, s1.loss_cls: 0.0402, s1.acc: 97.2259, s1.loss_bbox: 0.0855, s1.loss_mask: 0.0840, s2.loss_cls: 0.0192, s2.acc: 97.2852, s2.loss_bbox: 0.0350, s2.loss_mask: 0.0375, loss: 0.8621\n",
      "2021-05-13 21:27:14,357 - mmdet - INFO - Epoch [3][70/655]\tlr: 5.000e-07, eta: 11:19:06, time: 1.827, data_time: 0.028, memory: 17519, loss_rpn_cls: 0.0255, loss_rpn_bbox: 0.0330, s0.loss_cls: 0.1274, s0.acc: 95.5029, s0.loss_bbox: 0.2372, s0.loss_mask: 0.1933, s1.loss_cls: 0.0507, s1.acc: 96.4689, s1.loss_bbox: 0.0951, s1.loss_mask: 0.0841, s2.loss_cls: 0.0234, s2.acc: 96.7805, s2.loss_bbox: 0.0391, s2.loss_mask: 0.0380, loss: 0.9469\n",
      "2021-05-13 21:27:33,058 - mmdet - INFO - Epoch [3][80/655]\tlr: 5.000e-07, eta: 11:18:53, time: 1.870, data_time: 0.026, memory: 17519, loss_rpn_cls: 0.0172, loss_rpn_bbox: 0.0216, s0.loss_cls: 0.1224, s0.acc: 95.6348, s0.loss_bbox: 0.2549, s0.loss_mask: 0.2025, s1.loss_cls: 0.0452, s1.acc: 96.7378, s1.loss_bbox: 0.1054, s1.loss_mask: 0.0946, s2.loss_cls: 0.0226, s2.acc: 96.8918, s2.loss_bbox: 0.0466, s2.loss_mask: 0.0447, loss: 0.9779\n",
      "2021-05-13 21:27:51,145 - mmdet - INFO - Epoch [3][90/655]\tlr: 5.000e-07, eta: 11:18:30, time: 1.809, data_time: 0.024, memory: 17519, loss_rpn_cls: 0.0172, loss_rpn_bbox: 0.0291, s0.loss_cls: 0.1344, s0.acc: 95.3564, s0.loss_bbox: 0.2252, s0.loss_mask: 0.1942, s1.loss_cls: 0.0537, s1.acc: 96.4630, s1.loss_bbox: 0.0949, s1.loss_mask: 0.0840, s2.loss_cls: 0.0252, s2.acc: 96.6185, s2.loss_bbox: 0.0378, s2.loss_mask: 0.0383, loss: 0.9340\n",
      "2021-05-13 21:28:10,047 - mmdet - INFO - Epoch [3][100/655]\tlr: 5.000e-07, eta: 11:18:21, time: 1.890, data_time: 0.026, memory: 17519, loss_rpn_cls: 0.0216, loss_rpn_bbox: 0.0296, s0.loss_cls: 0.1334, s0.acc: 94.9707, s0.loss_bbox: 0.2953, s0.loss_mask: 0.2230, s1.loss_cls: 0.0545, s1.acc: 95.9052, s1.loss_bbox: 0.1234, s1.loss_mask: 0.1004, s2.loss_cls: 0.0257, s2.acc: 96.0724, s2.loss_bbox: 0.0485, s2.loss_mask: 0.0453, loss: 1.1008\n",
      "2021-05-13 21:28:28,940 - mmdet - INFO - Epoch [3][110/655]\tlr: 5.000e-07, eta: 11:18:11, time: 1.889, data_time: 0.027, memory: 17519, loss_rpn_cls: 0.0218, loss_rpn_bbox: 0.0332, s0.loss_cls: 0.1254, s0.acc: 95.4297, s0.loss_bbox: 0.2709, s0.loss_mask: 0.2167, s1.loss_cls: 0.0488, s1.acc: 96.3744, s1.loss_bbox: 0.1155, s1.loss_mask: 0.0986, s2.loss_cls: 0.0258, s2.acc: 96.3272, s2.loss_bbox: 0.0494, s2.loss_mask: 0.0457, loss: 1.0518\n",
      "2021-05-13 21:28:47,310 - mmdet - INFO - Epoch [3][120/655]\tlr: 5.000e-07, eta: 11:17:52, time: 1.837, data_time: 0.026, memory: 17519, loss_rpn_cls: 0.0202, loss_rpn_bbox: 0.0307, s0.loss_cls: 0.1298, s0.acc: 95.3125, s0.loss_bbox: 0.2469, s0.loss_mask: 0.2096, s1.loss_cls: 0.0538, s1.acc: 95.9797, s1.loss_bbox: 0.1070, s1.loss_mask: 0.0966, s2.loss_cls: 0.0266, s2.acc: 96.3663, s2.loss_bbox: 0.0444, s2.loss_mask: 0.0453, loss: 1.0109\n",
      "2021-05-13 21:29:05,409 - mmdet - INFO - Epoch [3][130/655]\tlr: 5.000e-07, eta: 11:17:30, time: 1.810, data_time: 0.022, memory: 17519, loss_rpn_cls: 0.0124, loss_rpn_bbox: 0.0172, s0.loss_cls: 0.0879, s0.acc: 96.5381, s0.loss_bbox: 0.2114, s0.loss_mask: 0.1685, s1.loss_cls: 0.0321, s1.acc: 97.4461, s1.loss_bbox: 0.0872, s1.loss_mask: 0.0765, s2.loss_cls: 0.0144, s2.acc: 97.7075, s2.loss_bbox: 0.0373, s2.loss_mask: 0.0355, loss: 0.7804\n",
      "2021-05-13 21:29:24,430 - mmdet - INFO - Epoch [3][140/655]\tlr: 5.000e-07, eta: 11:17:22, time: 1.902, data_time: 0.027, memory: 17519, loss_rpn_cls: 0.0138, loss_rpn_bbox: 0.0236, s0.loss_cls: 0.1164, s0.acc: 95.5664, s0.loss_bbox: 0.2722, s0.loss_mask: 0.2041, s1.loss_cls: 0.0461, s1.acc: 96.4713, s1.loss_bbox: 0.1132, s1.loss_mask: 0.0927, s2.loss_cls: 0.0237, s2.acc: 96.2193, s2.loss_bbox: 0.0487, s2.loss_mask: 0.0431, loss: 0.9976\n",
      "2021-05-13 21:29:42,791 - mmdet - INFO - Epoch [3][150/655]\tlr: 5.000e-07, eta: 11:17:03, time: 1.836, data_time: 0.026, memory: 17519, loss_rpn_cls: 0.0216, loss_rpn_bbox: 0.0276, s0.loss_cls: 0.1410, s0.acc: 94.8047, s0.loss_bbox: 0.2615, s0.loss_mask: 0.1857, s1.loss_cls: 0.0564, s1.acc: 96.1750, s1.loss_bbox: 0.1109, s1.loss_mask: 0.0843, s2.loss_cls: 0.0287, s2.acc: 95.9260, s2.loss_bbox: 0.0464, s2.loss_mask: 0.0394, loss: 1.0035\n",
      "2021-05-13 21:30:00,877 - mmdet - INFO - Epoch [3][160/655]\tlr: 5.000e-07, eta: 11:16:41, time: 1.809, data_time: 0.025, memory: 17519, loss_rpn_cls: 0.0112, loss_rpn_bbox: 0.0230, s0.loss_cls: 0.1036, s0.acc: 96.3428, s0.loss_bbox: 0.2117, s0.loss_mask: 0.2044, s1.loss_cls: 0.0411, s1.acc: 97.2136, s1.loss_bbox: 0.0864, s1.loss_mask: 0.0884, s2.loss_cls: 0.0198, s2.acc: 97.0720, s2.loss_bbox: 0.0373, s2.loss_mask: 0.0407, loss: 0.8676\n",
      "2021-05-13 21:30:19,240 - mmdet - INFO - Epoch [3][170/655]\tlr: 5.000e-07, eta: 11:16:22, time: 1.836, data_time: 0.022, memory: 17519, loss_rpn_cls: 0.0167, loss_rpn_bbox: 0.0218, s0.loss_cls: 0.1107, s0.acc: 96.1426, s0.loss_bbox: 0.2346, s0.loss_mask: 0.1893, s1.loss_cls: 0.0432, s1.acc: 96.8470, s1.loss_bbox: 0.1001, s1.loss_mask: 0.0868, s2.loss_cls: 0.0214, s2.acc: 96.7165, s2.loss_bbox: 0.0433, s2.loss_mask: 0.0405, loss: 0.9085\n",
      "2021-05-13 21:30:38,540 - mmdet - INFO - Epoch [3][180/655]\tlr: 5.000e-07, eta: 11:16:18, time: 1.930, data_time: 0.034, memory: 17519, loss_rpn_cls: 0.0342, loss_rpn_bbox: 0.0464, s0.loss_cls: 0.1987, s0.acc: 92.7490, s0.loss_bbox: 0.3880, s0.loss_mask: 0.2620, s1.loss_cls: 0.0818, s1.acc: 94.0767, s1.loss_bbox: 0.1565, s1.loss_mask: 0.1183, s2.loss_cls: 0.0398, s2.acc: 94.1505, s2.loss_bbox: 0.0620, s2.loss_mask: 0.0536, loss: 1.4412\n",
      "2021-05-13 21:30:56,597 - mmdet - INFO - Epoch [3][190/655]\tlr: 5.000e-07, eta: 11:15:55, time: 1.806, data_time: 0.019, memory: 17519, loss_rpn_cls: 0.0107, loss_rpn_bbox: 0.0111, s0.loss_cls: 0.0886, s0.acc: 96.7090, s0.loss_bbox: 0.1922, s0.loss_mask: 0.1829, s1.loss_cls: 0.0344, s1.acc: 97.4208, s1.loss_bbox: 0.0811, s1.loss_mask: 0.0806, s2.loss_cls: 0.0162, s2.acc: 97.5021, s2.loss_bbox: 0.0365, s2.loss_mask: 0.0384, loss: 0.7727\n",
      "2021-05-13 21:31:14,720 - mmdet - INFO - Epoch [3][200/655]\tlr: 5.000e-07, eta: 11:15:33, time: 1.813, data_time: 0.022, memory: 17519, loss_rpn_cls: 0.0174, loss_rpn_bbox: 0.0216, s0.loss_cls: 0.1150, s0.acc: 95.7617, s0.loss_bbox: 0.2300, s0.loss_mask: 0.1885, s1.loss_cls: 0.0499, s1.acc: 96.6573, s1.loss_bbox: 0.0968, s1.loss_mask: 0.0822, s2.loss_cls: 0.0228, s2.acc: 96.9707, s2.loss_bbox: 0.0405, s2.loss_mask: 0.0371, loss: 0.9019\n",
      "2021-05-13 21:31:33,017 - mmdet - INFO - Epoch [3][210/655]\tlr: 5.000e-07, eta: 11:15:13, time: 1.829, data_time: 0.023, memory: 17519, loss_rpn_cls: 0.0201, loss_rpn_bbox: 0.0295, s0.loss_cls: 0.1302, s0.acc: 95.3467, s0.loss_bbox: 0.2397, s0.loss_mask: 0.1889, s1.loss_cls: 0.0527, s1.acc: 96.1556, s1.loss_bbox: 0.1011, s1.loss_mask: 0.0877, s2.loss_cls: 0.0252, s2.acc: 96.1980, s2.loss_bbox: 0.0409, s2.loss_mask: 0.0392, loss: 0.9552\n",
      "2021-05-13 21:31:51,609 - mmdet - INFO - Epoch [3][220/655]\tlr: 5.000e-07, eta: 11:14:58, time: 1.859, data_time: 0.025, memory: 17519, loss_rpn_cls: 0.0203, loss_rpn_bbox: 0.0277, s0.loss_cls: 0.1251, s0.acc: 95.4883, s0.loss_bbox: 0.2600, s0.loss_mask: 0.2032, s1.loss_cls: 0.0472, s1.acc: 96.6406, s1.loss_bbox: 0.1068, s1.loss_mask: 0.0899, s2.loss_cls: 0.0231, s2.acc: 96.4795, s2.loss_bbox: 0.0454, s2.loss_mask: 0.0413, loss: 0.9900\n",
      "2021-05-13 21:32:10,533 - mmdet - INFO - Epoch [3][230/655]\tlr: 5.000e-07, eta: 11:14:48, time: 1.892, data_time: 0.029, memory: 17519, loss_rpn_cls: 0.0188, loss_rpn_bbox: 0.0301, s0.loss_cls: 0.1402, s0.acc: 94.8193, s0.loss_bbox: 0.2824, s0.loss_mask: 0.2166, s1.loss_cls: 0.0537, s1.acc: 96.1222, s1.loss_bbox: 0.1184, s1.loss_mask: 0.0969, s2.loss_cls: 0.0260, s2.acc: 96.0610, s2.loss_bbox: 0.0489, s2.loss_mask: 0.0454, loss: 1.0774\n",
      "2021-05-13 21:32:28,995 - mmdet - INFO - Epoch [3][240/655]\tlr: 5.000e-07, eta: 11:14:31, time: 1.846, data_time: 0.026, memory: 17519, loss_rpn_cls: 0.0238, loss_rpn_bbox: 0.0268, s0.loss_cls: 0.1292, s0.acc: 95.2734, s0.loss_bbox: 0.2438, s0.loss_mask: 0.1921, s1.loss_cls: 0.0513, s1.acc: 96.4360, s1.loss_bbox: 0.1011, s1.loss_mask: 0.0862, s2.loss_cls: 0.0240, s2.acc: 96.5279, s2.loss_bbox: 0.0423, s2.loss_mask: 0.0397, loss: 0.9603\n",
      "2021-05-13 21:32:47,766 - mmdet - INFO - Epoch [3][250/655]\tlr: 5.000e-07, eta: 11:14:18, time: 1.877, data_time: 0.025, memory: 17519, loss_rpn_cls: 0.0150, loss_rpn_bbox: 0.0256, s0.loss_cls: 0.1380, s0.acc: 94.9219, s0.loss_bbox: 0.2811, s0.loss_mask: 0.2203, s1.loss_cls: 0.0546, s1.acc: 95.8656, s1.loss_bbox: 0.1174, s1.loss_mask: 0.0953, s2.loss_cls: 0.0275, s2.acc: 95.8228, s2.loss_bbox: 0.0480, s2.loss_mask: 0.0430, loss: 1.0658\n",
      "2021-05-13 21:33:06,454 - mmdet - INFO - Epoch [3][260/655]\tlr: 5.000e-07, eta: 11:14:04, time: 1.869, data_time: 0.022, memory: 17519, loss_rpn_cls: 0.0140, loss_rpn_bbox: 0.0204, s0.loss_cls: 0.1121, s0.acc: 95.6836, s0.loss_bbox: 0.2657, s0.loss_mask: 0.2013, s1.loss_cls: 0.0388, s1.acc: 96.9287, s1.loss_bbox: 0.1126, s1.loss_mask: 0.0921, s2.loss_cls: 0.0202, s2.acc: 96.8684, s2.loss_bbox: 0.0486, s2.loss_mask: 0.0433, loss: 0.9692\n",
      "2021-05-13 21:33:25,282 - mmdet - INFO - Epoch [3][270/655]\tlr: 5.000e-07, eta: 11:13:52, time: 1.883, data_time: 0.027, memory: 17519, loss_rpn_cls: 0.0252, loss_rpn_bbox: 0.0272, s0.loss_cls: 0.1259, s0.acc: 95.0732, s0.loss_bbox: 0.2747, s0.loss_mask: 0.1968, s1.loss_cls: 0.0511, s1.acc: 96.2317, s1.loss_bbox: 0.1175, s1.loss_mask: 0.0871, s2.loss_cls: 0.0273, s2.acc: 95.9717, s2.loss_bbox: 0.0505, s2.loss_mask: 0.0412, loss: 1.0245\n",
      "2021-05-13 21:33:43,893 - mmdet - INFO - Epoch [3][280/655]\tlr: 5.000e-07, eta: 11:13:37, time: 1.861, data_time: 0.025, memory: 17519, loss_rpn_cls: 0.0223, loss_rpn_bbox: 0.0316, s0.loss_cls: 0.1439, s0.acc: 94.7217, s0.loss_bbox: 0.2858, s0.loss_mask: 0.2194, s1.loss_cls: 0.0567, s1.acc: 95.8771, s1.loss_bbox: 0.1175, s1.loss_mask: 0.0948, s2.loss_cls: 0.0280, s2.acc: 95.8935, s2.loss_bbox: 0.0484, s2.loss_mask: 0.0439, loss: 1.0922\n",
      "2021-05-13 21:34:02,509 - mmdet - INFO - Epoch [3][290/655]\tlr: 5.000e-07, eta: 11:13:22, time: 1.861, data_time: 0.024, memory: 17519, loss_rpn_cls: 0.0231, loss_rpn_bbox: 0.0256, s0.loss_cls: 0.1280, s0.acc: 95.1611, s0.loss_bbox: 0.2726, s0.loss_mask: 0.2045, s1.loss_cls: 0.0510, s1.acc: 96.3125, s1.loss_bbox: 0.1170, s1.loss_mask: 0.0932, s2.loss_cls: 0.0247, s2.acc: 96.2220, s2.loss_bbox: 0.0492, s2.loss_mask: 0.0431, loss: 1.0320\n",
      "2021-05-13 21:34:20,814 - mmdet - INFO - Epoch [3][300/655]\tlr: 5.000e-07, eta: 11:13:02, time: 1.830, data_time: 0.023, memory: 17519, loss_rpn_cls: 0.0128, loss_rpn_bbox: 0.0159, s0.loss_cls: 0.1057, s0.acc: 96.2109, s0.loss_bbox: 0.2279, s0.loss_mask: 0.1734, s1.loss_cls: 0.0419, s1.acc: 96.9734, s1.loss_bbox: 0.0962, s1.loss_mask: 0.0810, s2.loss_cls: 0.0189, s2.acc: 97.1408, s2.loss_bbox: 0.0420, s2.loss_mask: 0.0376, loss: 0.8534\n",
      "2021-05-13 21:34:39,293 - mmdet - INFO - Epoch [3][310/655]\tlr: 5.000e-07, eta: 11:12:45, time: 1.848, data_time: 0.025, memory: 17519, loss_rpn_cls: 0.0217, loss_rpn_bbox: 0.0197, s0.loss_cls: 0.1205, s0.acc: 95.7031, s0.loss_bbox: 0.2444, s0.loss_mask: 0.1994, s1.loss_cls: 0.0480, s1.acc: 96.6805, s1.loss_bbox: 0.1043, s1.loss_mask: 0.0922, s2.loss_cls: 0.0228, s2.acc: 96.7290, s2.loss_bbox: 0.0435, s2.loss_mask: 0.0427, loss: 0.9591\n",
      "2021-05-13 21:34:57,757 - mmdet - INFO - Epoch [3][320/655]\tlr: 5.000e-07, eta: 11:12:28, time: 1.846, data_time: 0.023, memory: 17519, loss_rpn_cls: 0.0215, loss_rpn_bbox: 0.0230, s0.loss_cls: 0.1073, s0.acc: 95.9375, s0.loss_bbox: 0.2401, s0.loss_mask: 0.1953, s1.loss_cls: 0.0426, s1.acc: 96.8720, s1.loss_bbox: 0.1012, s1.loss_mask: 0.0903, s2.loss_cls: 0.0218, s2.acc: 97.0226, s2.loss_bbox: 0.0427, s2.loss_mask: 0.0405, loss: 0.9263\n",
      "2021-05-13 21:35:15,735 - mmdet - INFO - Epoch [3][330/655]\tlr: 5.000e-07, eta: 11:12:04, time: 1.798, data_time: 0.018, memory: 17519, loss_rpn_cls: 0.0090, loss_rpn_bbox: 0.0190, s0.loss_cls: 0.0958, s0.acc: 96.5234, s0.loss_bbox: 0.2080, s0.loss_mask: 0.1788, s1.loss_cls: 0.0341, s1.acc: 97.5364, s1.loss_bbox: 0.0867, s1.loss_mask: 0.0837, s2.loss_cls: 0.0155, s2.acc: 97.8362, s2.loss_bbox: 0.0370, s2.loss_mask: 0.0387, loss: 0.8063\n",
      "2021-05-13 21:35:34,286 - mmdet - INFO - Epoch [3][340/655]\tlr: 5.000e-07, eta: 11:11:48, time: 1.855, data_time: 0.023, memory: 17519, loss_rpn_cls: 0.0250, loss_rpn_bbox: 0.0254, s0.loss_cls: 0.1330, s0.acc: 95.0195, s0.loss_bbox: 0.2702, s0.loss_mask: 0.2098, s1.loss_cls: 0.0543, s1.acc: 96.1151, s1.loss_bbox: 0.1167, s1.loss_mask: 0.0973, s2.loss_cls: 0.0273, s2.acc: 96.1199, s2.loss_bbox: 0.0496, s2.loss_mask: 0.0455, loss: 1.0542\n",
      "2021-05-13 21:35:52,570 - mmdet - INFO - Epoch [3][350/655]\tlr: 5.000e-07, eta: 11:11:28, time: 1.828, data_time: 0.021, memory: 17519, loss_rpn_cls: 0.0168, loss_rpn_bbox: 0.0236, s0.loss_cls: 0.1142, s0.acc: 95.6104, s0.loss_bbox: 0.2517, s0.loss_mask: 0.2036, s1.loss_cls: 0.0426, s1.acc: 96.7388, s1.loss_bbox: 0.1063, s1.loss_mask: 0.0903, s2.loss_cls: 0.0213, s2.acc: 96.7002, s2.loss_bbox: 0.0454, s2.loss_mask: 0.0421, loss: 0.9578\n",
      "2021-05-13 21:36:10,338 - mmdet - INFO - Epoch [3][360/655]\tlr: 5.000e-07, eta: 11:11:02, time: 1.777, data_time: 0.020, memory: 17519, loss_rpn_cls: 0.0096, loss_rpn_bbox: 0.0142, s0.loss_cls: 0.0954, s0.acc: 96.5039, s0.loss_bbox: 0.1909, s0.loss_mask: 0.1789, s1.loss_cls: 0.0338, s1.acc: 97.4765, s1.loss_bbox: 0.0820, s1.loss_mask: 0.0826, s2.loss_cls: 0.0167, s2.acc: 97.4914, s2.loss_bbox: 0.0364, s2.loss_mask: 0.0385, loss: 0.7791\n",
      "2021-05-13 21:36:28,738 - mmdet - INFO - Epoch [3][370/655]\tlr: 5.000e-07, eta: 11:10:44, time: 1.840, data_time: 0.021, memory: 17519, loss_rpn_cls: 0.0237, loss_rpn_bbox: 0.0228, s0.loss_cls: 0.1063, s0.acc: 96.1572, s0.loss_bbox: 0.2390, s0.loss_mask: 0.1940, s1.loss_cls: 0.0416, s1.acc: 97.0078, s1.loss_bbox: 0.1009, s1.loss_mask: 0.0852, s2.loss_cls: 0.0191, s2.acc: 97.2107, s2.loss_bbox: 0.0452, s2.loss_mask: 0.0389, loss: 0.9167\n",
      "2021-05-13 21:36:47,365 - mmdet - INFO - Epoch [3][380/655]\tlr: 5.000e-07, eta: 11:10:29, time: 1.863, data_time: 0.028, memory: 17519, loss_rpn_cls: 0.0218, loss_rpn_bbox: 0.0306, s0.loss_cls: 0.1522, s0.acc: 94.5166, s0.loss_bbox: 0.2836, s0.loss_mask: 0.2114, s1.loss_cls: 0.0606, s1.acc: 95.7351, s1.loss_bbox: 0.1216, s1.loss_mask: 0.0962, s2.loss_cls: 0.0291, s2.acc: 95.9125, s2.loss_bbox: 0.0510, s2.loss_mask: 0.0448, loss: 1.1029\n",
      "2021-05-13 21:37:05,949 - mmdet - INFO - Epoch [3][390/655]\tlr: 5.000e-07, eta: 11:10:13, time: 1.858, data_time: 0.029, memory: 17519, loss_rpn_cls: 0.0271, loss_rpn_bbox: 0.0301, s0.loss_cls: 0.1457, s0.acc: 94.5996, s0.loss_bbox: 0.2657, s0.loss_mask: 0.1840, s1.loss_cls: 0.0591, s1.acc: 96.0245, s1.loss_bbox: 0.1109, s1.loss_mask: 0.0850, s2.loss_cls: 0.0281, s2.acc: 95.9557, s2.loss_bbox: 0.0470, s2.loss_mask: 0.0400, loss: 1.0227\n",
      "2021-05-13 21:37:24,419 - mmdet - INFO - Epoch [3][400/655]\tlr: 5.000e-07, eta: 11:09:56, time: 1.847, data_time: 0.023, memory: 17519, loss_rpn_cls: 0.0143, loss_rpn_bbox: 0.0213, s0.loss_cls: 0.1067, s0.acc: 96.0791, s0.loss_bbox: 0.2234, s0.loss_mask: 0.1902, s1.loss_cls: 0.0410, s1.acc: 97.0605, s1.loss_bbox: 0.0950, s1.loss_mask: 0.0841, s2.loss_cls: 0.0186, s2.acc: 97.2147, s2.loss_bbox: 0.0416, s2.loss_mask: 0.0386, loss: 0.8748\n",
      "2021-05-13 21:37:42,693 - mmdet - INFO - Epoch [3][410/655]\tlr: 5.000e-07, eta: 11:09:36, time: 1.827, data_time: 0.028, memory: 17519, loss_rpn_cls: 0.0198, loss_rpn_bbox: 0.0313, s0.loss_cls: 0.1310, s0.acc: 95.0244, s0.loss_bbox: 0.2695, s0.loss_mask: 0.2279, s1.loss_cls: 0.0536, s1.acc: 96.1024, s1.loss_bbox: 0.1054, s1.loss_mask: 0.0992, s2.loss_cls: 0.0245, s2.acc: 96.3475, s2.loss_bbox: 0.0399, s2.loss_mask: 0.0444, loss: 1.0467\n",
      "2021-05-13 21:38:01,353 - mmdet - INFO - Epoch [3][420/655]\tlr: 5.000e-07, eta: 11:09:21, time: 1.866, data_time: 0.028, memory: 17519, loss_rpn_cls: 0.0253, loss_rpn_bbox: 0.0335, s0.loss_cls: 0.1534, s0.acc: 94.3896, s0.loss_bbox: 0.2861, s0.loss_mask: 0.2139, s1.loss_cls: 0.0614, s1.acc: 95.6280, s1.loss_bbox: 0.1209, s1.loss_mask: 0.0991, s2.loss_cls: 0.0297, s2.acc: 95.6332, s2.loss_bbox: 0.0490, s2.loss_mask: 0.0443, loss: 1.1167\n",
      "2021-05-13 21:38:20,505 - mmdet - INFO - Epoch [3][430/655]\tlr: 5.000e-07, eta: 11:09:13, time: 1.915, data_time: 0.025, memory: 17519, loss_rpn_cls: 0.0272, loss_rpn_bbox: 0.0355, s0.loss_cls: 0.1488, s0.acc: 94.2725, s0.loss_bbox: 0.3297, s0.loss_mask: 0.2269, s1.loss_cls: 0.0625, s1.acc: 95.4162, s1.loss_bbox: 0.1350, s1.loss_mask: 0.1017, s2.loss_cls: 0.0305, s2.acc: 95.5696, s2.loss_bbox: 0.0524, s2.loss_mask: 0.0462, loss: 1.1962\n",
      "2021-05-13 21:38:38,327 - mmdet - INFO - Epoch [3][440/655]\tlr: 5.000e-07, eta: 11:08:47, time: 1.782, data_time: 0.018, memory: 17519, loss_rpn_cls: 0.0159, loss_rpn_bbox: 0.0133, s0.loss_cls: 0.0852, s0.acc: 96.8115, s0.loss_bbox: 0.1938, s0.loss_mask: 0.1791, s1.loss_cls: 0.0329, s1.acc: 97.5679, s1.loss_bbox: 0.0822, s1.loss_mask: 0.0773, s2.loss_cls: 0.0148, s2.acc: 97.8023, s2.loss_bbox: 0.0356, s2.loss_mask: 0.0352, loss: 0.7654\n",
      "2021-05-13 21:38:56,540 - mmdet - INFO - Epoch [3][450/655]\tlr: 5.000e-07, eta: 11:08:27, time: 1.821, data_time: 0.024, memory: 17519, loss_rpn_cls: 0.0103, loss_rpn_bbox: 0.0202, s0.loss_cls: 0.1010, s0.acc: 96.1963, s0.loss_bbox: 0.2253, s0.loss_mask: 0.1785, s1.loss_cls: 0.0409, s1.acc: 97.1102, s1.loss_bbox: 0.0935, s1.loss_mask: 0.0816, s2.loss_cls: 0.0205, s2.acc: 96.9509, s2.loss_bbox: 0.0393, s2.loss_mask: 0.0380, loss: 0.8491\n",
      "2021-05-13 21:39:14,632 - mmdet - INFO - Epoch [3][460/655]\tlr: 5.000e-07, eta: 11:08:05, time: 1.809, data_time: 0.020, memory: 17519, loss_rpn_cls: 0.0168, loss_rpn_bbox: 0.0171, s0.loss_cls: 0.1023, s0.acc: 96.3184, s0.loss_bbox: 0.2032, s0.loss_mask: 0.1841, s1.loss_cls: 0.0395, s1.acc: 97.2577, s1.loss_bbox: 0.0897, s1.loss_mask: 0.0846, s2.loss_cls: 0.0176, s2.acc: 97.5310, s2.loss_bbox: 0.0381, s2.loss_mask: 0.0393, loss: 0.8322\n",
      "2021-05-13 21:39:32,804 - mmdet - INFO - Epoch [3][470/655]\tlr: 5.000e-07, eta: 11:07:44, time: 1.817, data_time: 0.021, memory: 17519, loss_rpn_cls: 0.0165, loss_rpn_bbox: 0.0208, s0.loss_cls: 0.1167, s0.acc: 95.5322, s0.loss_bbox: 0.2402, s0.loss_mask: 0.1987, s1.loss_cls: 0.0469, s1.acc: 96.3513, s1.loss_bbox: 0.1050, s1.loss_mask: 0.0916, s2.loss_cls: 0.0236, s2.acc: 96.4615, s2.loss_bbox: 0.0426, s2.loss_mask: 0.0421, loss: 0.9447\n",
      "2021-05-13 21:39:51,202 - mmdet - INFO - Epoch [3][480/655]\tlr: 5.000e-07, eta: 11:07:26, time: 1.840, data_time: 0.026, memory: 17519, loss_rpn_cls: 0.0137, loss_rpn_bbox: 0.0235, s0.loss_cls: 0.1134, s0.acc: 95.7275, s0.loss_bbox: 0.2387, s0.loss_mask: 0.1993, s1.loss_cls: 0.0446, s1.acc: 96.7909, s1.loss_bbox: 0.1019, s1.loss_mask: 0.0904, s2.loss_cls: 0.0239, s2.acc: 96.3433, s2.loss_bbox: 0.0423, s2.loss_mask: 0.0420, loss: 0.9338\n",
      "2021-05-13 21:40:09,466 - mmdet - INFO - Epoch [3][490/655]\tlr: 5.000e-07, eta: 11:07:06, time: 1.826, data_time: 0.023, memory: 17519, loss_rpn_cls: 0.0169, loss_rpn_bbox: 0.0218, s0.loss_cls: 0.0995, s0.acc: 96.1621, s0.loss_bbox: 0.2149, s0.loss_mask: 0.1935, s1.loss_cls: 0.0399, s1.acc: 97.0872, s1.loss_bbox: 0.0910, s1.loss_mask: 0.0881, s2.loss_cls: 0.0189, s2.acc: 97.0777, s2.loss_bbox: 0.0398, s2.loss_mask: 0.0424, loss: 0.8665\n",
      "2021-05-13 21:40:27,695 - mmdet - INFO - Epoch [3][500/655]\tlr: 5.000e-07, eta: 11:06:46, time: 1.823, data_time: 0.022, memory: 17519, loss_rpn_cls: 0.0263, loss_rpn_bbox: 0.0316, s0.loss_cls: 0.1218, s0.acc: 95.4980, s0.loss_bbox: 0.2435, s0.loss_mask: 0.2153, s1.loss_cls: 0.0481, s1.acc: 96.4548, s1.loss_bbox: 0.1023, s1.loss_mask: 0.0931, s2.loss_cls: 0.0238, s2.acc: 96.5839, s2.loss_bbox: 0.0425, s2.loss_mask: 0.0429, loss: 0.9911\n",
      "2021-05-13 21:40:46,081 - mmdet - INFO - Epoch [3][510/655]\tlr: 5.000e-07, eta: 11:06:28, time: 1.839, data_time: 0.023, memory: 17519, loss_rpn_cls: 0.0149, loss_rpn_bbox: 0.0240, s0.loss_cls: 0.1024, s0.acc: 96.1719, s0.loss_bbox: 0.2290, s0.loss_mask: 0.1978, s1.loss_cls: 0.0401, s1.acc: 97.1220, s1.loss_bbox: 0.1004, s1.loss_mask: 0.0928, s2.loss_cls: 0.0217, s2.acc: 96.8425, s2.loss_bbox: 0.0432, s2.loss_mask: 0.0437, loss: 0.9099\n",
      "2021-05-13 21:41:04,849 - mmdet - INFO - Epoch [3][520/655]\tlr: 5.000e-07, eta: 11:06:14, time: 1.877, data_time: 0.031, memory: 17519, loss_rpn_cls: 0.0269, loss_rpn_bbox: 0.0321, s0.loss_cls: 0.1528, s0.acc: 94.7510, s0.loss_bbox: 0.2812, s0.loss_mask: 0.2180, s1.loss_cls: 0.0611, s1.acc: 95.9093, s1.loss_bbox: 0.1141, s1.loss_mask: 0.1002, s2.loss_cls: 0.0280, s2.acc: 96.0912, s2.loss_bbox: 0.0470, s2.loss_mask: 0.0471, loss: 1.1085\n",
      "2021-05-13 21:41:23,322 - mmdet - INFO - Epoch [3][530/655]\tlr: 5.000e-07, eta: 11:05:57, time: 1.847, data_time: 0.024, memory: 17519, loss_rpn_cls: 0.0206, loss_rpn_bbox: 0.0318, s0.loss_cls: 0.1384, s0.acc: 94.6777, s0.loss_bbox: 0.2739, s0.loss_mask: 0.2416, s1.loss_cls: 0.0563, s1.acc: 95.9284, s1.loss_bbox: 0.1103, s1.loss_mask: 0.1064, s2.loss_cls: 0.0270, s2.acc: 96.2536, s2.loss_bbox: 0.0435, s2.loss_mask: 0.0482, loss: 1.0980\n",
      "2021-05-13 21:41:41,617 - mmdet - INFO - Epoch [3][540/655]\tlr: 5.000e-07, eta: 11:05:37, time: 1.830, data_time: 0.021, memory: 17519, loss_rpn_cls: 0.0246, loss_rpn_bbox: 0.0243, s0.loss_cls: 0.1159, s0.acc: 95.9033, s0.loss_bbox: 0.2398, s0.loss_mask: 0.2089, s1.loss_cls: 0.0455, s1.acc: 96.8772, s1.loss_bbox: 0.0979, s1.loss_mask: 0.0915, s2.loss_cls: 0.0207, s2.acc: 97.2346, s2.loss_bbox: 0.0417, s2.loss_mask: 0.0423, loss: 0.9531\n",
      "2021-05-13 21:42:01,051 - mmdet - INFO - Epoch [3][550/655]\tlr: 5.000e-07, eta: 11:05:31, time: 1.943, data_time: 0.024, memory: 17519, loss_rpn_cls: 0.0181, loss_rpn_bbox: 0.0332, s0.loss_cls: 0.1395, s0.acc: 94.7607, s0.loss_bbox: 0.2926, s0.loss_mask: 0.2018, s1.loss_cls: 0.0534, s1.acc: 96.0665, s1.loss_bbox: 0.1221, s1.loss_mask: 0.0897, s2.loss_cls: 0.0255, s2.acc: 96.3806, s2.loss_bbox: 0.0502, s2.loss_mask: 0.0404, loss: 1.0665\n",
      "2021-05-13 21:42:19,330 - mmdet - INFO - Epoch [3][560/655]\tlr: 5.000e-07, eta: 11:05:11, time: 1.828, data_time: 0.019, memory: 17519, loss_rpn_cls: 0.0177, loss_rpn_bbox: 0.0207, s0.loss_cls: 0.1113, s0.acc: 95.8838, s0.loss_bbox: 0.2355, s0.loss_mask: 0.1966, s1.loss_cls: 0.0430, s1.acc: 96.9593, s1.loss_bbox: 0.0998, s1.loss_mask: 0.0881, s2.loss_cls: 0.0203, s2.acc: 97.1737, s2.loss_bbox: 0.0418, s2.loss_mask: 0.0409, loss: 0.9157\n",
      "2021-05-13 21:42:37,615 - mmdet - INFO - Epoch [3][570/655]\tlr: 5.000e-07, eta: 11:04:52, time: 1.829, data_time: 0.028, memory: 17519, loss_rpn_cls: 0.0229, loss_rpn_bbox: 0.0281, s0.loss_cls: 0.1333, s0.acc: 95.1758, s0.loss_bbox: 0.2535, s0.loss_mask: 0.2161, s1.loss_cls: 0.0487, s1.acc: 96.4794, s1.loss_bbox: 0.1095, s1.loss_mask: 0.1022, s2.loss_cls: 0.0251, s2.acc: 96.3871, s2.loss_bbox: 0.0447, s2.loss_mask: 0.0476, loss: 1.0317\n",
      "2021-05-13 21:42:55,807 - mmdet - INFO - Epoch [3][580/655]\tlr: 5.000e-07, eta: 11:04:31, time: 1.819, data_time: 0.023, memory: 17519, loss_rpn_cls: 0.0188, loss_rpn_bbox: 0.0190, s0.loss_cls: 0.0933, s0.acc: 96.4600, s0.loss_bbox: 0.2175, s0.loss_mask: 0.1737, s1.loss_cls: 0.0330, s1.acc: 97.5943, s1.loss_bbox: 0.0968, s1.loss_mask: 0.0804, s2.loss_cls: 0.0176, s2.acc: 97.4112, s2.loss_bbox: 0.0424, s2.loss_mask: 0.0373, loss: 0.8297\n",
      "2021-05-13 21:43:14,216 - mmdet - INFO - Epoch [3][590/655]\tlr: 5.000e-07, eta: 11:04:13, time: 1.841, data_time: 0.022, memory: 17519, loss_rpn_cls: 0.0212, loss_rpn_bbox: 0.0295, s0.loss_cls: 0.1269, s0.acc: 95.3711, s0.loss_bbox: 0.2497, s0.loss_mask: 0.2086, s1.loss_cls: 0.0500, s1.acc: 96.5584, s1.loss_bbox: 0.1017, s1.loss_mask: 0.0888, s2.loss_cls: 0.0227, s2.acc: 96.8620, s2.loss_bbox: 0.0437, s2.loss_mask: 0.0408, loss: 0.9836\n",
      "2021-05-13 21:43:32,259 - mmdet - INFO - Epoch [3][600/655]\tlr: 5.000e-07, eta: 11:03:51, time: 1.804, data_time: 0.020, memory: 17519, loss_rpn_cls: 0.0187, loss_rpn_bbox: 0.0211, s0.loss_cls: 0.1121, s0.acc: 96.0352, s0.loss_bbox: 0.2077, s0.loss_mask: 0.1973, s1.loss_cls: 0.0435, s1.acc: 96.9513, s1.loss_bbox: 0.0863, s1.loss_mask: 0.0903, s2.loss_cls: 0.0196, s2.acc: 97.1239, s2.loss_bbox: 0.0374, s2.loss_mask: 0.0432, loss: 0.8771\n",
      "2021-05-13 21:43:50,823 - mmdet - INFO - Epoch [3][610/655]\tlr: 5.000e-07, eta: 11:03:35, time: 1.856, data_time: 0.022, memory: 17519, loss_rpn_cls: 0.0194, loss_rpn_bbox: 0.0280, s0.loss_cls: 0.1293, s0.acc: 95.2100, s0.loss_bbox: 0.2648, s0.loss_mask: 0.1932, s1.loss_cls: 0.0506, s1.acc: 96.3111, s1.loss_bbox: 0.1061, s1.loss_mask: 0.0872, s2.loss_cls: 0.0251, s2.acc: 96.5206, s2.loss_bbox: 0.0456, s2.loss_mask: 0.0401, loss: 0.9895\n",
      "2021-05-13 21:44:09,038 - mmdet - INFO - Epoch [3][620/655]\tlr: 5.000e-07, eta: 11:03:14, time: 1.822, data_time: 0.022, memory: 17519, loss_rpn_cls: 0.0200, loss_rpn_bbox: 0.0256, s0.loss_cls: 0.1112, s0.acc: 95.9570, s0.loss_bbox: 0.2388, s0.loss_mask: 0.1916, s1.loss_cls: 0.0418, s1.acc: 96.7696, s1.loss_bbox: 0.1009, s1.loss_mask: 0.0873, s2.loss_cls: 0.0202, s2.acc: 96.9010, s2.loss_bbox: 0.0421, s2.loss_mask: 0.0397, loss: 0.9192\n",
      "2021-05-13 21:44:27,618 - mmdet - INFO - Epoch [3][630/655]\tlr: 5.000e-07, eta: 11:02:58, time: 1.858, data_time: 0.021, memory: 17519, loss_rpn_cls: 0.0149, loss_rpn_bbox: 0.0203, s0.loss_cls: 0.1053, s0.acc: 95.9619, s0.loss_bbox: 0.2289, s0.loss_mask: 0.1892, s1.loss_cls: 0.0388, s1.acc: 96.9896, s1.loss_bbox: 0.0958, s1.loss_mask: 0.0870, s2.loss_cls: 0.0189, s2.acc: 97.0787, s2.loss_bbox: 0.0395, s2.loss_mask: 0.0404, loss: 0.8789\n",
      "2021-05-13 21:44:45,446 - mmdet - INFO - Epoch [3][640/655]\tlr: 5.000e-07, eta: 11:02:34, time: 1.783, data_time: 0.020, memory: 17519, loss_rpn_cls: 0.0079, loss_rpn_bbox: 0.0159, s0.loss_cls: 0.0818, s0.acc: 96.9531, s0.loss_bbox: 0.1795, s0.loss_mask: 0.1750, s1.loss_cls: 0.0264, s1.acc: 98.1743, s1.loss_bbox: 0.0775, s1.loss_mask: 0.0811, s2.loss_cls: 0.0124, s2.acc: 98.1251, s2.loss_bbox: 0.0337, s2.loss_mask: 0.0389, loss: 0.7302\n",
      "2021-05-13 21:45:03,855 - mmdet - INFO - Epoch [3][650/655]\tlr: 5.000e-07, eta: 11:02:16, time: 1.841, data_time: 0.025, memory: 17519, loss_rpn_cls: 0.0167, loss_rpn_bbox: 0.0245, s0.loss_cls: 0.1211, s0.acc: 95.4053, s0.loss_bbox: 0.2425, s0.loss_mask: 0.1966, s1.loss_cls: 0.0469, s1.acc: 96.6416, s1.loss_bbox: 0.1021, s1.loss_mask: 0.0879, s2.loss_cls: 0.0217, s2.acc: 96.6851, s2.loss_bbox: 0.0426, s2.loss_mask: 0.0401, loss: 0.9426\n",
      "2021-05-13 21:45:13,215 - mmdet - INFO - Saving checkpoint at 3 epochs\n"
     ]
    },
    {
     "name": "stdout",
     "output_type": "stream",
     "text": [
      "[>>>>>>>>>>>>>>>>>>>>>>>>>>>>>] 655/655, 4.7 task/s, elapsed: 140s, ETA:     0s"
     ]
    },
    {
     "name": "stderr",
     "output_type": "stream",
     "text": [
      "2021-05-13 21:47:37,507 - mmdet - INFO - Evaluating bbox...\n"
     ]
    },
    {
     "name": "stdout",
     "output_type": "stream",
     "text": [
      "Loading and preparing results...\n",
      "DONE (t=0.05s)\n",
      "creating index...\n",
      "index created!\n",
      "Running per image evaluation...\n",
      "Evaluate annotation type *bbox*\n",
      "DONE (t=4.25s).\n",
      "Accumulating evaluation results...\n"
     ]
    },
    {
     "name": "stderr",
     "output_type": "stream",
     "text": [
      "2021-05-13 21:47:42,339 - mmdet - INFO - Evaluating segm...\n"
     ]
    },
    {
     "name": "stdout",
     "output_type": "stream",
     "text": [
      "DONE (t=0.51s).\n",
      "Average Precision  (AP) @[ IoU=0.50:0.95 | area=   all | maxDets=100 ] = 0.282\n",
      "Average Precision  (AP) @[ IoU=0.50      | area=   all | maxDets=1000 ] = 0.452\n",
      "Average Precision  (AP) @[ IoU=0.75      | area=   all | maxDets=1000 ] = 0.273\n",
      "Average Precision  (AP) @[ IoU=0.50:0.95 | area= small | maxDets=1000 ] = 0.045\n",
      "Average Precision  (AP) @[ IoU=0.50:0.95 | area=medium | maxDets=1000 ] = 0.251\n",
      "Average Precision  (AP) @[ IoU=0.50:0.95 | area= large | maxDets=1000 ] = 0.501\n",
      "Average Recall     (AR) @[ IoU=0.50:0.95 | area=   all | maxDets=100 ] = 0.372\n",
      "Average Recall     (AR) @[ IoU=0.50:0.95 | area=   all | maxDets=300 ] = 0.372\n",
      "Average Recall     (AR) @[ IoU=0.50:0.95 | area=   all | maxDets=1000 ] = 0.372\n",
      "Average Recall     (AR) @[ IoU=0.50:0.95 | area= small | maxDets=1000 ] = 0.108\n",
      "Average Recall     (AR) @[ IoU=0.50:0.95 | area=medium | maxDets=1000 ] = 0.347\n",
      "Average Recall     (AR) @[ IoU=0.50:0.95 | area= large | maxDets=1000 ] = 0.593\n",
      "Loading and preparing results...\n",
      "DONE (t=0.09s)\n",
      "creating index...\n",
      "index created!\n",
      "Running per image evaluation...\n",
      "Evaluate annotation type *segm*\n",
      "DONE (t=4.08s).\n",
      "Accumulating evaluation results...\n"
     ]
    },
    {
     "name": "stderr",
     "output_type": "stream",
     "text": [
      "2021-05-13 21:47:47,142 - mmdet - INFO - Epoch(val) [3][655]\tbbox_mAP: 0.2820, bbox_mAP_50: 0.4520, bbox_mAP_75: 0.2730, bbox_mAP_s: 0.0450, bbox_mAP_m: 0.2510, bbox_mAP_l: 0.5010, bbox_mAP_copypaste: 0.282 0.452 0.273 0.045 0.251 0.501, segm_mAP: 0.2590, segm_mAP_50: 0.4270, segm_mAP_75: 0.2560, segm_mAP_s: 0.0340, segm_mAP_m: 0.2220, segm_mAP_l: 0.4880, segm_mAP_copypaste: 0.259 0.427 0.256 0.034 0.222 0.488\n"
     ]
    },
    {
     "name": "stdout",
     "output_type": "stream",
     "text": [
      "DONE (t=0.53s).\n",
      "Average Precision  (AP) @[ IoU=0.50:0.95 | area=   all | maxDets=100 ] = 0.259\n",
      "Average Precision  (AP) @[ IoU=0.50      | area=   all | maxDets=1000 ] = 0.427\n",
      "Average Precision  (AP) @[ IoU=0.75      | area=   all | maxDets=1000 ] = 0.256\n",
      "Average Precision  (AP) @[ IoU=0.50:0.95 | area= small | maxDets=1000 ] = 0.034\n",
      "Average Precision  (AP) @[ IoU=0.50:0.95 | area=medium | maxDets=1000 ] = 0.222\n",
      "Average Precision  (AP) @[ IoU=0.50:0.95 | area= large | maxDets=1000 ] = 0.488\n",
      "Average Recall     (AR) @[ IoU=0.50:0.95 | area=   all | maxDets=100 ] = 0.343\n",
      "Average Recall     (AR) @[ IoU=0.50:0.95 | area=   all | maxDets=300 ] = 0.343\n",
      "Average Recall     (AR) @[ IoU=0.50:0.95 | area=   all | maxDets=1000 ] = 0.343\n",
      "Average Recall     (AR) @[ IoU=0.50:0.95 | area= small | maxDets=1000 ] = 0.082\n",
      "Average Recall     (AR) @[ IoU=0.50:0.95 | area=medium | maxDets=1000 ] = 0.311\n",
      "Average Recall     (AR) @[ IoU=0.50:0.95 | area= large | maxDets=1000 ] = 0.578\n"
     ]
    },
    {
     "name": "stderr",
     "output_type": "stream",
     "text": [
      "2021-05-13 21:48:07,881 - mmdet - INFO - Epoch [4][10/655]\tlr: 5.000e-07, eta: 11:00:33, time: 2.072, data_time: 0.250, memory: 17519, loss_rpn_cls: 0.0224, loss_rpn_bbox: 0.0234, s0.loss_cls: 0.1194, s0.acc: 95.7129, s0.loss_bbox: 0.2283, s0.loss_mask: 0.1904, s1.loss_cls: 0.0444, s1.acc: 96.9286, s1.loss_bbox: 0.0957, s1.loss_mask: 0.0866, s2.loss_cls: 0.0205, s2.acc: 96.8111, s2.loss_bbox: 0.0419, s2.loss_mask: 0.0396, loss: 0.9125\n",
      "2021-05-13 21:48:27,023 - mmdet - INFO - Epoch [4][20/655]\tlr: 5.000e-07, eta: 11:00:24, time: 1.914, data_time: 0.026, memory: 17519, loss_rpn_cls: 0.0280, loss_rpn_bbox: 0.0312, s0.loss_cls: 0.1502, s0.acc: 94.3604, s0.loss_bbox: 0.3150, s0.loss_mask: 0.2246, s1.loss_cls: 0.0596, s1.acc: 95.8407, s1.loss_bbox: 0.1328, s1.loss_mask: 0.0988, s2.loss_cls: 0.0285, s2.acc: 96.1563, s2.loss_bbox: 0.0558, s2.loss_mask: 0.0455, loss: 1.1698\n",
      "2021-05-13 21:48:45,136 - mmdet - INFO - Epoch [4][30/655]\tlr: 5.000e-07, eta: 11:00:03, time: 1.811, data_time: 0.025, memory: 17519, loss_rpn_cls: 0.0203, loss_rpn_bbox: 0.0232, s0.loss_cls: 0.1189, s0.acc: 96.0059, s0.loss_bbox: 0.2234, s0.loss_mask: 0.2085, s1.loss_cls: 0.0493, s1.acc: 96.6343, s1.loss_bbox: 0.0920, s1.loss_mask: 0.0915, s2.loss_cls: 0.0218, s2.acc: 96.9763, s2.loss_bbox: 0.0378, s2.loss_mask: 0.0414, loss: 0.9281\n",
      "2021-05-13 21:49:02,970 - mmdet - INFO - Epoch [4][40/655]\tlr: 5.000e-07, eta: 10:59:39, time: 1.783, data_time: 0.017, memory: 17519, loss_rpn_cls: 0.0086, loss_rpn_bbox: 0.0125, s0.loss_cls: 0.0766, s0.acc: 97.0996, s0.loss_bbox: 0.1790, s0.loss_mask: 0.1645, s1.loss_cls: 0.0265, s1.acc: 98.0806, s1.loss_bbox: 0.0757, s1.loss_mask: 0.0722, s2.loss_cls: 0.0120, s2.acc: 98.1473, s2.loss_bbox: 0.0342, s2.loss_mask: 0.0337, loss: 0.6956\n",
      "2021-05-13 21:49:21,572 - mmdet - INFO - Epoch [4][50/655]\tlr: 5.000e-07, eta: 10:59:23, time: 1.860, data_time: 0.022, memory: 17519, loss_rpn_cls: 0.0184, loss_rpn_bbox: 0.0253, s0.loss_cls: 0.1289, s0.acc: 95.2539, s0.loss_bbox: 0.2639, s0.loss_mask: 0.2007, s1.loss_cls: 0.0521, s1.acc: 96.0556, s1.loss_bbox: 0.1080, s1.loss_mask: 0.0879, s2.loss_cls: 0.0236, s2.acc: 96.7496, s2.loss_bbox: 0.0456, s2.loss_mask: 0.0417, loss: 0.9959\n",
      "2021-05-13 21:49:40,332 - mmdet - INFO - Epoch [4][60/655]\tlr: 5.000e-07, eta: 10:59:09, time: 1.876, data_time: 0.025, memory: 17519, loss_rpn_cls: 0.0157, loss_rpn_bbox: 0.0248, s0.loss_cls: 0.1161, s0.acc: 95.6738, s0.loss_bbox: 0.2600, s0.loss_mask: 0.2082, s1.loss_cls: 0.0447, s1.acc: 96.6483, s1.loss_bbox: 0.1082, s1.loss_mask: 0.0952, s2.loss_cls: 0.0215, s2.acc: 96.8733, s2.loss_bbox: 0.0466, s2.loss_mask: 0.0444, loss: 0.9853\n",
      "2021-05-13 21:49:58,577 - mmdet - INFO - Epoch [4][70/655]\tlr: 5.000e-07, eta: 10:58:50, time: 1.824, data_time: 0.027, memory: 17519, loss_rpn_cls: 0.0185, loss_rpn_bbox: 0.0279, s0.loss_cls: 0.1362, s0.acc: 95.2002, s0.loss_bbox: 0.2576, s0.loss_mask: 0.2159, s1.loss_cls: 0.0522, s1.acc: 96.4841, s1.loss_bbox: 0.1043, s1.loss_mask: 0.1010, s2.loss_cls: 0.0260, s2.acc: 96.5262, s2.loss_bbox: 0.0427, s2.loss_mask: 0.0471, loss: 1.0294\n",
      "2021-05-13 21:50:16,638 - mmdet - INFO - Epoch [4][80/655]\tlr: 5.000e-07, eta: 10:58:28, time: 1.806, data_time: 0.022, memory: 17519, loss_rpn_cls: 0.0169, loss_rpn_bbox: 0.0206, s0.loss_cls: 0.0995, s0.acc: 96.1133, s0.loss_bbox: 0.2278, s0.loss_mask: 0.2082, s1.loss_cls: 0.0366, s1.acc: 97.2862, s1.loss_bbox: 0.0963, s1.loss_mask: 0.0911, s2.loss_cls: 0.0192, s2.acc: 96.9330, s2.loss_bbox: 0.0414, s2.loss_mask: 0.0428, loss: 0.9004\n",
      "2021-05-13 21:50:34,502 - mmdet - INFO - Epoch [4][90/655]\tlr: 5.000e-07, eta: 10:58:05, time: 1.786, data_time: 0.020, memory: 17519, loss_rpn_cls: 0.0140, loss_rpn_bbox: 0.0212, s0.loss_cls: 0.1100, s0.acc: 95.9033, s0.loss_bbox: 0.2084, s0.loss_mask: 0.2090, s1.loss_cls: 0.0451, s1.acc: 96.6093, s1.loss_bbox: 0.0871, s1.loss_mask: 0.0932, s2.loss_cls: 0.0215, s2.acc: 96.6288, s2.loss_bbox: 0.0366, s2.loss_mask: 0.0431, loss: 0.8892\n",
      "2021-05-13 21:50:52,707 - mmdet - INFO - Epoch [4][100/655]\tlr: 5.000e-07, eta: 10:57:45, time: 1.820, data_time: 0.023, memory: 17519, loss_rpn_cls: 0.0166, loss_rpn_bbox: 0.0255, s0.loss_cls: 0.1191, s0.acc: 95.7764, s0.loss_bbox: 0.2289, s0.loss_mask: 0.1987, s1.loss_cls: 0.0462, s1.acc: 96.8127, s1.loss_bbox: 0.0939, s1.loss_mask: 0.0922, s2.loss_cls: 0.0225, s2.acc: 96.9904, s2.loss_bbox: 0.0387, s2.loss_mask: 0.0426, loss: 0.9249\n",
      "2021-05-13 21:51:11,811 - mmdet - INFO - Epoch [4][110/655]\tlr: 5.000e-07, eta: 10:57:35, time: 1.910, data_time: 0.026, memory: 17519, loss_rpn_cls: 0.0215, loss_rpn_bbox: 0.0279, s0.loss_cls: 0.1370, s0.acc: 95.0635, s0.loss_bbox: 0.2669, s0.loss_mask: 0.1972, s1.loss_cls: 0.0505, s1.acc: 96.5539, s1.loss_bbox: 0.1118, s1.loss_mask: 0.0899, s2.loss_cls: 0.0239, s2.acc: 96.9077, s2.loss_bbox: 0.0490, s2.loss_mask: 0.0420, loss: 1.0175\n",
      "2021-05-13 21:51:30,413 - mmdet - INFO - Epoch [4][120/655]\tlr: 5.000e-07, eta: 10:57:19, time: 1.860, data_time: 0.026, memory: 17519, loss_rpn_cls: 0.0247, loss_rpn_bbox: 0.0230, s0.loss_cls: 0.1231, s0.acc: 95.6836, s0.loss_bbox: 0.2431, s0.loss_mask: 0.1709, s1.loss_cls: 0.0461, s1.acc: 96.8330, s1.loss_bbox: 0.1022, s1.loss_mask: 0.0785, s2.loss_cls: 0.0219, s2.acc: 96.7455, s2.loss_bbox: 0.0449, s2.loss_mask: 0.0371, loss: 0.9156\n",
      "2021-05-13 21:51:49,394 - mmdet - INFO - Epoch [4][130/655]\tlr: 5.000e-07, eta: 10:57:07, time: 1.898, data_time: 0.027, memory: 17519, loss_rpn_cls: 0.0251, loss_rpn_bbox: 0.0372, s0.loss_cls: 0.1517, s0.acc: 94.4971, s0.loss_bbox: 0.3009, s0.loss_mask: 0.2189, s1.loss_cls: 0.0596, s1.acc: 95.9954, s1.loss_bbox: 0.1202, s1.loss_mask: 0.0964, s2.loss_cls: 0.0297, s2.acc: 95.7498, s2.loss_bbox: 0.0495, s2.loss_mask: 0.0436, loss: 1.1328\n",
      "2021-05-13 21:52:08,403 - mmdet - INFO - Epoch [4][140/655]\tlr: 5.000e-07, eta: 10:56:56, time: 1.901, data_time: 0.027, memory: 17519, loss_rpn_cls: 0.0272, loss_rpn_bbox: 0.0349, s0.loss_cls: 0.1480, s0.acc: 94.4336, s0.loss_bbox: 0.3057, s0.loss_mask: 0.2206, s1.loss_cls: 0.0629, s1.acc: 95.1599, s1.loss_bbox: 0.1278, s1.loss_mask: 0.1013, s2.loss_cls: 0.0296, s2.acc: 95.4503, s2.loss_bbox: 0.0520, s2.loss_mask: 0.0465, loss: 1.1565\n",
      "2021-05-13 21:52:26,900 - mmdet - INFO - Epoch [4][150/655]\tlr: 5.000e-07, eta: 10:56:39, time: 1.850, data_time: 0.023, memory: 17519, loss_rpn_cls: 0.0139, loss_rpn_bbox: 0.0255, s0.loss_cls: 0.0976, s0.acc: 96.1963, s0.loss_bbox: 0.2315, s0.loss_mask: 0.1709, s1.loss_cls: 0.0377, s1.acc: 97.0595, s1.loss_bbox: 0.0995, s1.loss_mask: 0.0794, s2.loss_cls: 0.0197, s2.acc: 97.0011, s2.loss_bbox: 0.0427, s2.loss_mask: 0.0372, loss: 0.8557\n",
      "2021-05-13 21:52:45,099 - mmdet - INFO - Epoch [4][160/655]\tlr: 5.000e-07, eta: 10:56:19, time: 1.820, data_time: 0.024, memory: 17519, loss_rpn_cls: 0.0171, loss_rpn_bbox: 0.0236, s0.loss_cls: 0.1060, s0.acc: 95.9229, s0.loss_bbox: 0.2366, s0.loss_mask: 0.1983, s1.loss_cls: 0.0419, s1.acc: 96.8953, s1.loss_bbox: 0.1006, s1.loss_mask: 0.0882, s2.loss_cls: 0.0200, s2.acc: 96.9565, s2.loss_bbox: 0.0405, s2.loss_mask: 0.0396, loss: 0.9126\n",
      "2021-05-13 21:53:03,952 - mmdet - INFO - Epoch [4][170/655]\tlr: 5.000e-07, eta: 10:56:05, time: 1.885, data_time: 0.030, memory: 17519, loss_rpn_cls: 0.0252, loss_rpn_bbox: 0.0326, s0.loss_cls: 0.1447, s0.acc: 94.7119, s0.loss_bbox: 0.2845, s0.loss_mask: 0.2180, s1.loss_cls: 0.0547, s1.acc: 96.0346, s1.loss_bbox: 0.1174, s1.loss_mask: 0.0972, s2.loss_cls: 0.0269, s2.acc: 95.9455, s2.loss_bbox: 0.0486, s2.loss_mask: 0.0456, loss: 1.0952\n",
      "2021-05-13 21:53:22,591 - mmdet - INFO - Epoch [4][180/655]\tlr: 5.000e-07, eta: 10:55:50, time: 1.864, data_time: 0.029, memory: 17519, loss_rpn_cls: 0.0238, loss_rpn_bbox: 0.0363, s0.loss_cls: 0.1547, s0.acc: 94.3359, s0.loss_bbox: 0.2698, s0.loss_mask: 0.1980, s1.loss_cls: 0.0609, s1.acc: 95.6446, s1.loss_bbox: 0.1102, s1.loss_mask: 0.0885, s2.loss_cls: 0.0287, s2.acc: 95.7957, s2.loss_bbox: 0.0441, s2.loss_mask: 0.0405, loss: 1.0556\n",
      "2021-05-13 21:53:41,150 - mmdet - INFO - Epoch [4][190/655]\tlr: 5.000e-07, eta: 10:55:33, time: 1.856, data_time: 0.031, memory: 17519, loss_rpn_cls: 0.0226, loss_rpn_bbox: 0.0316, s0.loss_cls: 0.1330, s0.acc: 95.2539, s0.loss_bbox: 0.2682, s0.loss_mask: 0.1944, s1.loss_cls: 0.0551, s1.acc: 95.9483, s1.loss_bbox: 0.1129, s1.loss_mask: 0.0881, s2.loss_cls: 0.0268, s2.acc: 96.0374, s2.loss_bbox: 0.0460, s2.loss_mask: 0.0409, loss: 1.0195\n",
      "2021-05-13 21:53:59,272 - mmdet - INFO - Epoch [4][200/655]\tlr: 5.000e-07, eta: 10:55:13, time: 1.812, data_time: 0.025, memory: 17519, loss_rpn_cls: 0.0126, loss_rpn_bbox: 0.0199, s0.loss_cls: 0.1042, s0.acc: 96.0596, s0.loss_bbox: 0.2137, s0.loss_mask: 0.1667, s1.loss_cls: 0.0356, s1.acc: 97.5407, s1.loss_bbox: 0.0862, s1.loss_mask: 0.0778, s2.loss_cls: 0.0168, s2.acc: 97.6417, s2.loss_bbox: 0.0380, s2.loss_mask: 0.0356, loss: 0.8070\n",
      "2021-05-13 21:54:17,395 - mmdet - INFO - Epoch [4][210/655]\tlr: 5.000e-07, eta: 10:54:52, time: 1.812, data_time: 0.027, memory: 17519, loss_rpn_cls: 0.0219, loss_rpn_bbox: 0.0254, s0.loss_cls: 0.1387, s0.acc: 95.1465, s0.loss_bbox: 0.2473, s0.loss_mask: 0.2212, s1.loss_cls: 0.0523, s1.acc: 96.4304, s1.loss_bbox: 0.0931, s1.loss_mask: 0.0938, s2.loss_cls: 0.0252, s2.acc: 96.6076, s2.loss_bbox: 0.0379, s2.loss_mask: 0.0432, loss: 1.0001\n",
      "2021-05-13 21:54:35,959 - mmdet - INFO - Epoch [4][220/655]\tlr: 5.000e-07, eta: 10:54:36, time: 1.857, data_time: 0.024, memory: 17519, loss_rpn_cls: 0.0196, loss_rpn_bbox: 0.0270, s0.loss_cls: 0.1364, s0.acc: 95.1172, s0.loss_bbox: 0.2684, s0.loss_mask: 0.2147, s1.loss_cls: 0.0552, s1.acc: 96.1089, s1.loss_bbox: 0.1045, s1.loss_mask: 0.0944, s2.loss_cls: 0.0255, s2.acc: 96.4813, s2.loss_bbox: 0.0416, s2.loss_mask: 0.0424, loss: 1.0296\n",
      "2021-05-13 21:54:54,600 - mmdet - INFO - Epoch [4][230/655]\tlr: 5.000e-07, eta: 10:54:20, time: 1.864, data_time: 0.024, memory: 17519, loss_rpn_cls: 0.0206, loss_rpn_bbox: 0.0210, s0.loss_cls: 0.1132, s0.acc: 95.8594, s0.loss_bbox: 0.2426, s0.loss_mask: 0.1763, s1.loss_cls: 0.0427, s1.acc: 97.0951, s1.loss_bbox: 0.1003, s1.loss_mask: 0.0802, s2.loss_cls: 0.0200, s2.acc: 97.2239, s2.loss_bbox: 0.0446, s2.loss_mask: 0.0379, loss: 0.8995\n",
      "2021-05-13 21:55:13,385 - mmdet - INFO - Epoch [4][240/655]\tlr: 5.000e-07, eta: 10:54:06, time: 1.878, data_time: 0.024, memory: 17519, loss_rpn_cls: 0.0184, loss_rpn_bbox: 0.0248, s0.loss_cls: 0.1332, s0.acc: 94.9072, s0.loss_bbox: 0.2838, s0.loss_mask: 0.2060, s1.loss_cls: 0.0538, s1.acc: 96.0290, s1.loss_bbox: 0.1208, s1.loss_mask: 0.0936, s2.loss_cls: 0.0235, s2.acc: 96.5621, s2.loss_bbox: 0.0496, s2.loss_mask: 0.0430, loss: 1.0506\n",
      "2021-05-13 21:55:31,822 - mmdet - INFO - Epoch [4][250/655]\tlr: 5.000e-07, eta: 10:53:48, time: 1.844, data_time: 0.025, memory: 17519, loss_rpn_cls: 0.0196, loss_rpn_bbox: 0.0228, s0.loss_cls: 0.1161, s0.acc: 95.6787, s0.loss_bbox: 0.2495, s0.loss_mask: 0.1999, s1.loss_cls: 0.0410, s1.acc: 97.0945, s1.loss_bbox: 0.1028, s1.loss_mask: 0.0889, s2.loss_cls: 0.0205, s2.acc: 96.9107, s2.loss_bbox: 0.0437, s2.loss_mask: 0.0420, loss: 0.9468\n",
      "2021-05-13 21:55:50,329 - mmdet - INFO - Epoch [4][260/655]\tlr: 5.000e-07, eta: 10:53:31, time: 1.851, data_time: 0.023, memory: 17519, loss_rpn_cls: 0.0179, loss_rpn_bbox: 0.0223, s0.loss_cls: 0.1168, s0.acc: 95.8545, s0.loss_bbox: 0.2365, s0.loss_mask: 0.1861, s1.loss_cls: 0.0465, s1.acc: 96.8002, s1.loss_bbox: 0.0956, s1.loss_mask: 0.0838, s2.loss_cls: 0.0191, s2.acc: 97.3214, s2.loss_bbox: 0.0397, s2.loss_mask: 0.0386, loss: 0.9030\n",
      "2021-05-13 21:56:08,726 - mmdet - INFO - Epoch [4][270/655]\tlr: 5.000e-07, eta: 10:53:13, time: 1.840, data_time: 0.031, memory: 17519, loss_rpn_cls: 0.0254, loss_rpn_bbox: 0.0290, s0.loss_cls: 0.1279, s0.acc: 95.4297, s0.loss_bbox: 0.2392, s0.loss_mask: 0.2119, s1.loss_cls: 0.0493, s1.acc: 96.7414, s1.loss_bbox: 0.0940, s1.loss_mask: 0.0909, s2.loss_cls: 0.0240, s2.acc: 96.9220, s2.loss_bbox: 0.0396, s2.loss_mask: 0.0420, loss: 0.9731\n",
      "2021-05-13 21:56:27,301 - mmdet - INFO - Epoch [4][280/655]\tlr: 5.000e-07, eta: 10:52:57, time: 1.858, data_time: 0.029, memory: 17519, loss_rpn_cls: 0.0261, loss_rpn_bbox: 0.0341, s0.loss_cls: 0.1425, s0.acc: 94.7412, s0.loss_bbox: 0.2604, s0.loss_mask: 0.2083, s1.loss_cls: 0.0574, s1.acc: 96.0408, s1.loss_bbox: 0.1087, s1.loss_mask: 0.0953, s2.loss_cls: 0.0284, s2.acc: 96.1643, s2.loss_bbox: 0.0456, s2.loss_mask: 0.0446, loss: 1.0514\n",
      "2021-05-13 21:56:45,972 - mmdet - INFO - Epoch [4][290/655]\tlr: 5.000e-07, eta: 10:52:42, time: 1.867, data_time: 0.025, memory: 17519, loss_rpn_cls: 0.0240, loss_rpn_bbox: 0.0243, s0.loss_cls: 0.1246, s0.acc: 95.2344, s0.loss_bbox: 0.2673, s0.loss_mask: 0.2082, s1.loss_cls: 0.0511, s1.acc: 96.2633, s1.loss_bbox: 0.1150, s1.loss_mask: 0.0942, s2.loss_cls: 0.0258, s2.acc: 96.1773, s2.loss_bbox: 0.0471, s2.loss_mask: 0.0427, loss: 1.0241\n",
      "2021-05-13 21:57:04,126 - mmdet - INFO - Epoch [4][300/655]\tlr: 5.000e-07, eta: 10:52:21, time: 1.815, data_time: 0.022, memory: 17519, loss_rpn_cls: 0.0169, loss_rpn_bbox: 0.0210, s0.loss_cls: 0.1068, s0.acc: 96.1035, s0.loss_bbox: 0.2171, s0.loss_mask: 0.1834, s1.loss_cls: 0.0382, s1.acc: 97.3891, s1.loss_bbox: 0.0878, s1.loss_mask: 0.0812, s2.loss_cls: 0.0176, s2.acc: 97.6008, s2.loss_bbox: 0.0383, s2.loss_mask: 0.0382, loss: 0.8466\n",
      "2021-05-13 21:57:22,728 - mmdet - INFO - Epoch [4][310/655]\tlr: 5.000e-07, eta: 10:52:05, time: 1.860, data_time: 0.023, memory: 17519, loss_rpn_cls: 0.0183, loss_rpn_bbox: 0.0177, s0.loss_cls: 0.1141, s0.acc: 95.7373, s0.loss_bbox: 0.2278, s0.loss_mask: 0.1830, s1.loss_cls: 0.0447, s1.acc: 96.6219, s1.loss_bbox: 0.0983, s1.loss_mask: 0.0824, s2.loss_cls: 0.0206, s2.acc: 97.2122, s2.loss_bbox: 0.0439, s2.loss_mask: 0.0384, loss: 0.8892\n",
      "2021-05-13 21:57:41,326 - mmdet - INFO - Epoch [4][320/655]\tlr: 5.000e-07, eta: 10:51:49, time: 1.860, data_time: 0.021, memory: 17519, loss_rpn_cls: 0.0161, loss_rpn_bbox: 0.0227, s0.loss_cls: 0.0982, s0.acc: 96.2891, s0.loss_bbox: 0.2459, s0.loss_mask: 0.1734, s1.loss_cls: 0.0399, s1.acc: 96.8067, s1.loss_bbox: 0.1010, s1.loss_mask: 0.0797, s2.loss_cls: 0.0188, s2.acc: 97.1386, s2.loss_bbox: 0.0435, s2.loss_mask: 0.0382, loss: 0.8773\n",
      "2021-05-13 21:57:59,730 - mmdet - INFO - Epoch [4][330/655]\tlr: 5.000e-07, eta: 10:51:31, time: 1.840, data_time: 0.025, memory: 17519, loss_rpn_cls: 0.0156, loss_rpn_bbox: 0.0273, s0.loss_cls: 0.1261, s0.acc: 95.6348, s0.loss_bbox: 0.2403, s0.loss_mask: 0.1907, s1.loss_cls: 0.0563, s1.acc: 96.0235, s1.loss_bbox: 0.0995, s1.loss_mask: 0.0858, s2.loss_cls: 0.0244, s2.acc: 96.6025, s2.loss_bbox: 0.0410, s2.loss_mask: 0.0398, loss: 0.9467\n",
      "2021-05-13 21:58:18,409 - mmdet - INFO - Epoch [4][340/655]\tlr: 5.000e-07, eta: 10:51:15, time: 1.868, data_time: 0.030, memory: 17519, loss_rpn_cls: 0.0247, loss_rpn_bbox: 0.0347, s0.loss_cls: 0.1263, s0.acc: 95.4297, s0.loss_bbox: 0.2679, s0.loss_mask: 0.1994, s1.loss_cls: 0.0496, s1.acc: 96.3322, s1.loss_bbox: 0.1135, s1.loss_mask: 0.0923, s2.loss_cls: 0.0244, s2.acc: 96.2507, s2.loss_bbox: 0.0471, s2.loss_mask: 0.0436, loss: 1.0235\n",
      "2021-05-13 21:58:36,797 - mmdet - INFO - Epoch [4][350/655]\tlr: 5.000e-07, eta: 10:50:57, time: 1.839, data_time: 0.020, memory: 17519, loss_rpn_cls: 0.0136, loss_rpn_bbox: 0.0171, s0.loss_cls: 0.1016, s0.acc: 96.4648, s0.loss_bbox: 0.2201, s0.loss_mask: 0.1888, s1.loss_cls: 0.0374, s1.acc: 97.2732, s1.loss_bbox: 0.0952, s1.loss_mask: 0.0856, s2.loss_cls: 0.0186, s2.acc: 97.2247, s2.loss_bbox: 0.0429, s2.loss_mask: 0.0396, loss: 0.8605\n",
      "2021-05-13 21:58:55,980 - mmdet - INFO - Epoch [4][360/655]\tlr: 5.000e-07, eta: 10:50:46, time: 1.918, data_time: 0.026, memory: 17519, loss_rpn_cls: 0.0225, loss_rpn_bbox: 0.0328, s0.loss_cls: 0.1293, s0.acc: 95.1807, s0.loss_bbox: 0.2504, s0.loss_mask: 0.1985, s1.loss_cls: 0.0527, s1.acc: 96.2247, s1.loss_bbox: 0.1067, s1.loss_mask: 0.0900, s2.loss_cls: 0.0262, s2.acc: 96.2431, s2.loss_bbox: 0.0439, s2.loss_mask: 0.0424, loss: 0.9954\n",
      "2021-05-13 21:59:14,121 - mmdet - INFO - Epoch [4][370/655]\tlr: 5.000e-07, eta: 10:50:26, time: 1.814, data_time: 0.024, memory: 17519, loss_rpn_cls: 0.0165, loss_rpn_bbox: 0.0226, s0.loss_cls: 0.1021, s0.acc: 96.0889, s0.loss_bbox: 0.2259, s0.loss_mask: 0.2028, s1.loss_cls: 0.0398, s1.acc: 96.9762, s1.loss_bbox: 0.0907, s1.loss_mask: 0.0894, s2.loss_cls: 0.0188, s2.acc: 97.1774, s2.loss_bbox: 0.0382, s2.loss_mask: 0.0410, loss: 0.8879\n",
      "2021-05-13 21:59:32,564 - mmdet - INFO - Epoch [4][380/655]\tlr: 5.000e-07, eta: 10:50:08, time: 1.844, data_time: 0.031, memory: 17519, loss_rpn_cls: 0.0211, loss_rpn_bbox: 0.0300, s0.loss_cls: 0.1441, s0.acc: 94.6729, s0.loss_bbox: 0.2646, s0.loss_mask: 0.2227, s1.loss_cls: 0.0616, s1.acc: 95.5244, s1.loss_bbox: 0.1071, s1.loss_mask: 0.0998, s2.loss_cls: 0.0286, s2.acc: 95.7183, s2.loss_bbox: 0.0441, s2.loss_mask: 0.0456, loss: 1.0692\n",
      "2021-05-13 21:59:51,049 - mmdet - INFO - Epoch [4][390/655]\tlr: 5.000e-07, eta: 10:49:51, time: 1.849, data_time: 0.027, memory: 17519, loss_rpn_cls: 0.0166, loss_rpn_bbox: 0.0243, s0.loss_cls: 0.1077, s0.acc: 95.6982, s0.loss_bbox: 0.2412, s0.loss_mask: 0.2032, s1.loss_cls: 0.0408, s1.acc: 96.9810, s1.loss_bbox: 0.0998, s1.loss_mask: 0.0903, s2.loss_cls: 0.0195, s2.acc: 97.1094, s2.loss_bbox: 0.0412, s2.loss_mask: 0.0405, loss: 0.9251\n",
      "2021-05-13 22:00:09,535 - mmdet - INFO - Epoch [4][400/655]\tlr: 5.000e-07, eta: 10:49:33, time: 1.849, data_time: 0.022, memory: 17519, loss_rpn_cls: 0.0186, loss_rpn_bbox: 0.0162, s0.loss_cls: 0.1160, s0.acc: 95.8643, s0.loss_bbox: 0.2484, s0.loss_mask: 0.1908, s1.loss_cls: 0.0492, s1.acc: 96.5408, s1.loss_bbox: 0.1087, s1.loss_mask: 0.0880, s2.loss_cls: 0.0230, s2.acc: 96.6311, s2.loss_bbox: 0.0442, s2.loss_mask: 0.0405, loss: 0.9435\n",
      "2021-05-13 22:00:28,114 - mmdet - INFO - Epoch [4][410/655]\tlr: 5.000e-07, eta: 10:49:17, time: 1.858, data_time: 0.024, memory: 17519, loss_rpn_cls: 0.0195, loss_rpn_bbox: 0.0259, s0.loss_cls: 0.1272, s0.acc: 95.3467, s0.loss_bbox: 0.2629, s0.loss_mask: 0.2351, s1.loss_cls: 0.0505, s1.acc: 96.4321, s1.loss_bbox: 0.1111, s1.loss_mask: 0.1068, s2.loss_cls: 0.0265, s2.acc: 96.1091, s2.loss_bbox: 0.0447, s2.loss_mask: 0.0497, loss: 1.0598\n",
      "2021-05-13 22:00:46,747 - mmdet - INFO - Epoch [4][420/655]\tlr: 5.000e-07, eta: 10:49:01, time: 1.863, data_time: 0.022, memory: 17519, loss_rpn_cls: 0.0220, loss_rpn_bbox: 0.0234, s0.loss_cls: 0.1214, s0.acc: 95.6982, s0.loss_bbox: 0.2444, s0.loss_mask: 0.1953, s1.loss_cls: 0.0476, s1.acc: 96.7016, s1.loss_bbox: 0.1058, s1.loss_mask: 0.0886, s2.loss_cls: 0.0227, s2.acc: 96.6122, s2.loss_bbox: 0.0449, s2.loss_mask: 0.0420, loss: 0.9584\n",
      "2021-05-13 22:01:04,709 - mmdet - INFO - Epoch [4][430/655]\tlr: 5.000e-07, eta: 10:48:39, time: 1.796, data_time: 0.022, memory: 17519, loss_rpn_cls: 0.0081, loss_rpn_bbox: 0.0129, s0.loss_cls: 0.0659, s0.acc: 97.4854, s0.loss_bbox: 0.1568, s0.loss_mask: 0.1504, s1.loss_cls: 0.0247, s1.acc: 98.1708, s1.loss_bbox: 0.0689, s1.loss_mask: 0.0703, s2.loss_cls: 0.0121, s2.acc: 98.1661, s2.loss_bbox: 0.0313, s2.loss_mask: 0.0331, loss: 0.6347\n",
      "2021-05-13 22:01:22,557 - mmdet - INFO - Epoch [4][440/655]\tlr: 5.000e-07, eta: 10:48:16, time: 1.785, data_time: 0.024, memory: 17519, loss_rpn_cls: 0.0184, loss_rpn_bbox: 0.0232, s0.loss_cls: 0.1203, s0.acc: 95.5859, s0.loss_bbox: 0.2175, s0.loss_mask: 0.1924, s1.loss_cls: 0.0464, s1.acc: 96.8789, s1.loss_bbox: 0.0876, s1.loss_mask: 0.0836, s2.loss_cls: 0.0218, s2.acc: 96.9664, s2.loss_bbox: 0.0374, s2.loss_mask: 0.0385, loss: 0.8872\n",
      "2021-05-13 22:01:40,525 - mmdet - INFO - Epoch [4][450/655]\tlr: 5.000e-07, eta: 10:47:54, time: 1.797, data_time: 0.024, memory: 17519, loss_rpn_cls: 0.0183, loss_rpn_bbox: 0.0221, s0.loss_cls: 0.1112, s0.acc: 95.8301, s0.loss_bbox: 0.2250, s0.loss_mask: 0.1915, s1.loss_cls: 0.0453, s1.acc: 96.7849, s1.loss_bbox: 0.0937, s1.loss_mask: 0.0883, s2.loss_cls: 0.0212, s2.acc: 96.8508, s2.loss_bbox: 0.0399, s2.loss_mask: 0.0398, loss: 0.8962\n",
      "2021-05-13 22:01:58,716 - mmdet - INFO - Epoch [4][460/655]\tlr: 5.000e-07, eta: 10:47:34, time: 1.819, data_time: 0.024, memory: 17519, loss_rpn_cls: 0.0169, loss_rpn_bbox: 0.0245, s0.loss_cls: 0.1198, s0.acc: 95.6738, s0.loss_bbox: 0.2376, s0.loss_mask: 0.2036, s1.loss_cls: 0.0458, s1.acc: 96.9157, s1.loss_bbox: 0.1037, s1.loss_mask: 0.0928, s2.loss_cls: 0.0222, s2.acc: 97.1437, s2.loss_bbox: 0.0441, s2.loss_mask: 0.0425, loss: 0.9537\n",
      "2021-05-13 22:02:17,668 - mmdet - INFO - Epoch [4][470/655]\tlr: 5.000e-07, eta: 10:47:21, time: 1.895, data_time: 0.027, memory: 17519, loss_rpn_cls: 0.0175, loss_rpn_bbox: 0.0339, s0.loss_cls: 0.1369, s0.acc: 94.9072, s0.loss_bbox: 0.2861, s0.loss_mask: 0.2191, s1.loss_cls: 0.0553, s1.acc: 95.9777, s1.loss_bbox: 0.1210, s1.loss_mask: 0.0988, s2.loss_cls: 0.0267, s2.acc: 96.0684, s2.loss_bbox: 0.0511, s2.loss_mask: 0.0451, loss: 1.0915\n",
      "2021-05-13 22:02:36,461 - mmdet - INFO - Epoch [4][480/655]\tlr: 5.000e-07, eta: 10:47:06, time: 1.879, data_time: 0.026, memory: 17519, loss_rpn_cls: 0.0239, loss_rpn_bbox: 0.0289, s0.loss_cls: 0.1398, s0.acc: 94.6143, s0.loss_bbox: 0.2962, s0.loss_mask: 0.2173, s1.loss_cls: 0.0560, s1.acc: 96.0600, s1.loss_bbox: 0.1207, s1.loss_mask: 0.0982, s2.loss_cls: 0.0267, s2.acc: 96.0631, s2.loss_bbox: 0.0501, s2.loss_mask: 0.0461, loss: 1.1038\n",
      "2021-05-13 22:02:55,101 - mmdet - INFO - Epoch [4][490/655]\tlr: 5.000e-07, eta: 10:46:50, time: 1.864, data_time: 0.026, memory: 17519, loss_rpn_cls: 0.0296, loss_rpn_bbox: 0.0323, s0.loss_cls: 0.1457, s0.acc: 94.8779, s0.loss_bbox: 0.2846, s0.loss_mask: 0.2317, s1.loss_cls: 0.0581, s1.acc: 95.8796, s1.loss_bbox: 0.1162, s1.loss_mask: 0.1033, s2.loss_cls: 0.0275, s2.acc: 96.0308, s2.loss_bbox: 0.0480, s2.loss_mask: 0.0467, loss: 1.1238\n",
      "2021-05-13 22:03:14,278 - mmdet - INFO - Epoch [4][500/655]\tlr: 5.000e-07, eta: 10:46:39, time: 1.918, data_time: 0.024, memory: 17519, loss_rpn_cls: 0.0261, loss_rpn_bbox: 0.0343, s0.loss_cls: 0.1499, s0.acc: 94.4873, s0.loss_bbox: 0.3230, s0.loss_mask: 0.2086, s1.loss_cls: 0.0588, s1.acc: 95.6867, s1.loss_bbox: 0.1325, s1.loss_mask: 0.0963, s2.loss_cls: 0.0306, s2.acc: 95.3106, s2.loss_bbox: 0.0537, s2.loss_mask: 0.0435, loss: 1.1572\n",
      "2021-05-13 22:03:32,680 - mmdet - INFO - Epoch [4][510/655]\tlr: 5.000e-07, eta: 10:46:20, time: 1.840, data_time: 0.024, memory: 17519, loss_rpn_cls: 0.0200, loss_rpn_bbox: 0.0249, s0.loss_cls: 0.1183, s0.acc: 95.6689, s0.loss_bbox: 0.2421, s0.loss_mask: 0.2059, s1.loss_cls: 0.0466, s1.acc: 96.6667, s1.loss_bbox: 0.1009, s1.loss_mask: 0.0933, s2.loss_cls: 0.0224, s2.acc: 96.9415, s2.loss_bbox: 0.0424, s2.loss_mask: 0.0434, loss: 0.9602\n",
      "2021-05-13 22:03:51,301 - mmdet - INFO - Epoch [4][520/655]\tlr: 5.000e-07, eta: 10:46:04, time: 1.862, data_time: 0.021, memory: 17519, loss_rpn_cls: 0.0160, loss_rpn_bbox: 0.0241, s0.loss_cls: 0.1231, s0.acc: 95.5029, s0.loss_bbox: 0.2611, s0.loss_mask: 0.1914, s1.loss_cls: 0.0517, s1.acc: 96.2807, s1.loss_bbox: 0.1132, s1.loss_mask: 0.0880, s2.loss_cls: 0.0249, s2.acc: 96.2844, s2.loss_bbox: 0.0475, s2.loss_mask: 0.0413, loss: 0.9823\n",
      "2021-05-13 22:04:09,832 - mmdet - INFO - Epoch [4][530/655]\tlr: 5.000e-07, eta: 10:45:47, time: 1.853, data_time: 0.031, memory: 17519, loss_rpn_cls: 0.0277, loss_rpn_bbox: 0.0314, s0.loss_cls: 0.1349, s0.acc: 94.9414, s0.loss_bbox: 0.2658, s0.loss_mask: 0.2247, s1.loss_cls: 0.0502, s1.acc: 96.5370, s1.loss_bbox: 0.1040, s1.loss_mask: 0.0996, s2.loss_cls: 0.0250, s2.acc: 96.5889, s2.loss_bbox: 0.0421, s2.loss_mask: 0.0450, loss: 1.0503\n",
      "2021-05-13 22:04:28,519 - mmdet - INFO - Epoch [4][540/655]\tlr: 5.000e-07, eta: 10:45:31, time: 1.869, data_time: 0.027, memory: 17519, loss_rpn_cls: 0.0207, loss_rpn_bbox: 0.0313, s0.loss_cls: 0.1431, s0.acc: 94.8975, s0.loss_bbox: 0.2816, s0.loss_mask: 0.2239, s1.loss_cls: 0.0588, s1.acc: 95.6731, s1.loss_bbox: 0.1166, s1.loss_mask: 0.1010, s2.loss_cls: 0.0286, s2.acc: 95.8158, s2.loss_bbox: 0.0470, s2.loss_mask: 0.0469, loss: 1.0994\n",
      "2021-05-13 22:04:46,654 - mmdet - INFO - Epoch [4][550/655]\tlr: 5.000e-07, eta: 10:45:11, time: 1.813, data_time: 0.019, memory: 17519, loss_rpn_cls: 0.0167, loss_rpn_bbox: 0.0212, s0.loss_cls: 0.1008, s0.acc: 96.4990, s0.loss_bbox: 0.2043, s0.loss_mask: 0.1653, s1.loss_cls: 0.0393, s1.acc: 97.3632, s1.loss_bbox: 0.0852, s1.loss_mask: 0.0766, s2.loss_cls: 0.0188, s2.acc: 97.3424, s2.loss_bbox: 0.0367, s2.loss_mask: 0.0361, loss: 0.8011\n",
      "2021-05-13 22:05:05,290 - mmdet - INFO - Epoch [4][560/655]\tlr: 5.000e-07, eta: 10:44:55, time: 1.864, data_time: 0.022, memory: 17519, loss_rpn_cls: 0.0159, loss_rpn_bbox: 0.0235, s0.loss_cls: 0.1208, s0.acc: 95.4639, s0.loss_bbox: 0.2594, s0.loss_mask: 0.1920, s1.loss_cls: 0.0450, s1.acc: 96.7038, s1.loss_bbox: 0.1088, s1.loss_mask: 0.0892, s2.loss_cls: 0.0215, s2.acc: 96.9834, s2.loss_bbox: 0.0465, s2.loss_mask: 0.0419, loss: 0.9645\n",
      "2021-05-13 22:05:23,931 - mmdet - INFO - Epoch [4][570/655]\tlr: 5.000e-07, eta: 10:44:38, time: 1.864, data_time: 0.020, memory: 17519, loss_rpn_cls: 0.0152, loss_rpn_bbox: 0.0222, s0.loss_cls: 0.1339, s0.acc: 95.1465, s0.loss_bbox: 0.2652, s0.loss_mask: 0.2260, s1.loss_cls: 0.0534, s1.acc: 96.1649, s1.loss_bbox: 0.1188, s1.loss_mask: 0.1069, s2.loss_cls: 0.0265, s2.acc: 96.1277, s2.loss_bbox: 0.0520, s2.loss_mask: 0.0485, loss: 1.0686\n",
      "2021-05-13 22:05:42,416 - mmdet - INFO - Epoch [4][580/655]\tlr: 5.000e-07, eta: 10:44:21, time: 1.849, data_time: 0.019, memory: 17519, loss_rpn_cls: 0.0143, loss_rpn_bbox: 0.0247, s0.loss_cls: 0.1119, s0.acc: 95.8936, s0.loss_bbox: 0.2429, s0.loss_mask: 0.2029, s1.loss_cls: 0.0423, s1.acc: 97.0149, s1.loss_bbox: 0.1015, s1.loss_mask: 0.0884, s2.loss_cls: 0.0198, s2.acc: 97.1983, s2.loss_bbox: 0.0419, s2.loss_mask: 0.0391, loss: 0.9295\n",
      "2021-05-13 22:06:00,618 - mmdet - INFO - Epoch [4][590/655]\tlr: 5.000e-07, eta: 10:44:01, time: 1.820, data_time: 0.024, memory: 17519, loss_rpn_cls: 0.0212, loss_rpn_bbox: 0.0330, s0.loss_cls: 0.1186, s0.acc: 95.6250, s0.loss_bbox: 0.2423, s0.loss_mask: 0.2154, s1.loss_cls: 0.0510, s1.acc: 96.3287, s1.loss_bbox: 0.0978, s1.loss_mask: 0.0942, s2.loss_cls: 0.0247, s2.acc: 96.2718, s2.loss_bbox: 0.0382, s2.loss_mask: 0.0416, loss: 0.9780\n",
      "2021-05-13 22:06:19,117 - mmdet - INFO - Epoch [4][600/655]\tlr: 5.000e-07, eta: 10:43:44, time: 1.850, data_time: 0.022, memory: 17519, loss_rpn_cls: 0.0124, loss_rpn_bbox: 0.0178, s0.loss_cls: 0.1128, s0.acc: 95.8350, s0.loss_bbox: 0.2468, s0.loss_mask: 0.1985, s1.loss_cls: 0.0457, s1.acc: 96.4769, s1.loss_bbox: 0.1036, s1.loss_mask: 0.0857, s2.loss_cls: 0.0204, s2.acc: 96.9668, s2.loss_bbox: 0.0430, s2.loss_mask: 0.0401, loss: 0.9269\n",
      "2021-05-13 22:06:37,656 - mmdet - INFO - Epoch [4][610/655]\tlr: 5.000e-07, eta: 10:43:27, time: 1.854, data_time: 0.020, memory: 17519, loss_rpn_cls: 0.0195, loss_rpn_bbox: 0.0270, s0.loss_cls: 0.1170, s0.acc: 95.6689, s0.loss_bbox: 0.2549, s0.loss_mask: 0.1998, s1.loss_cls: 0.0459, s1.acc: 96.6010, s1.loss_bbox: 0.1066, s1.loss_mask: 0.0895, s2.loss_cls: 0.0229, s2.acc: 96.7739, s2.loss_bbox: 0.0442, s2.loss_mask: 0.0414, loss: 0.9687\n",
      "2021-05-13 22:06:56,021 - mmdet - INFO - Epoch [4][620/655]\tlr: 5.000e-07, eta: 10:43:08, time: 1.836, data_time: 0.023, memory: 17519, loss_rpn_cls: 0.0154, loss_rpn_bbox: 0.0181, s0.loss_cls: 0.1087, s0.acc: 95.8594, s0.loss_bbox: 0.2292, s0.loss_mask: 0.1799, s1.loss_cls: 0.0396, s1.acc: 97.1826, s1.loss_bbox: 0.0970, s1.loss_mask: 0.0831, s2.loss_cls: 0.0188, s2.acc: 97.2487, s2.loss_bbox: 0.0425, s2.loss_mask: 0.0394, loss: 0.8717\n",
      "2021-05-13 22:07:14,650 - mmdet - INFO - Epoch [4][630/655]\tlr: 5.000e-07, eta: 10:42:52, time: 1.863, data_time: 0.022, memory: 17519, loss_rpn_cls: 0.0247, loss_rpn_bbox: 0.0294, s0.loss_cls: 0.1488, s0.acc: 94.5752, s0.loss_bbox: 0.2937, s0.loss_mask: 0.2142, s1.loss_cls: 0.0609, s1.acc: 95.5641, s1.loss_bbox: 0.1186, s1.loss_mask: 0.0958, s2.loss_cls: 0.0291, s2.acc: 95.7633, s2.loss_bbox: 0.0467, s2.loss_mask: 0.0424, loss: 1.1043\n",
      "2021-05-13 22:07:33,068 - mmdet - INFO - Epoch [4][640/655]\tlr: 5.000e-07, eta: 10:42:34, time: 1.842, data_time: 0.022, memory: 17519, loss_rpn_cls: 0.0119, loss_rpn_bbox: 0.0208, s0.loss_cls: 0.0967, s0.acc: 96.3184, s0.loss_bbox: 0.2280, s0.loss_mask: 0.1954, s1.loss_cls: 0.0372, s1.acc: 97.2209, s1.loss_bbox: 0.0973, s1.loss_mask: 0.0867, s2.loss_cls: 0.0184, s2.acc: 97.1460, s2.loss_bbox: 0.0430, s2.loss_mask: 0.0404, loss: 0.8760\n",
      "2021-05-13 22:07:51,648 - mmdet - INFO - Epoch [4][650/655]\tlr: 5.000e-07, eta: 10:42:17, time: 1.858, data_time: 0.021, memory: 17519, loss_rpn_cls: 0.0161, loss_rpn_bbox: 0.0178, s0.loss_cls: 0.0883, s0.acc: 96.5137, s0.loss_bbox: 0.2257, s0.loss_mask: 0.1730, s1.loss_cls: 0.0348, s1.acc: 97.1725, s1.loss_bbox: 0.0924, s1.loss_mask: 0.0794, s2.loss_cls: 0.0169, s2.acc: 97.3960, s2.loss_bbox: 0.0404, s2.loss_mask: 0.0370, loss: 0.8219\n",
      "2021-05-13 22:08:00,896 - mmdet - INFO - Saving checkpoint at 4 epochs\n"
     ]
    },
    {
     "name": "stdout",
     "output_type": "stream",
     "text": [
      "[>>>>>>>>>>>>>>>>>>>>>>>>>>>>>] 655/655, 4.8 task/s, elapsed: 138s, ETA:     0s"
     ]
    },
    {
     "name": "stderr",
     "output_type": "stream",
     "text": [
      "2021-05-13 22:10:23,158 - mmdet - INFO - Evaluating bbox...\n"
     ]
    },
    {
     "name": "stdout",
     "output_type": "stream",
     "text": [
      "Loading and preparing results...\n",
      "DONE (t=0.57s)\n",
      "creating index...\n",
      "index created!\n",
      "Running per image evaluation...\n",
      "Evaluate annotation type *bbox*\n",
      "DONE (t=3.98s).\n",
      "Accumulating evaluation results...\n"
     ]
    },
    {
     "name": "stderr",
     "output_type": "stream",
     "text": [
      "2021-05-13 22:10:28,253 - mmdet - INFO - Evaluating segm...\n"
     ]
    },
    {
     "name": "stdout",
     "output_type": "stream",
     "text": [
      "DONE (t=0.53s).\n",
      "Average Precision  (AP) @[ IoU=0.50:0.95 | area=   all | maxDets=100 ] = 0.283\n",
      "Average Precision  (AP) @[ IoU=0.50      | area=   all | maxDets=1000 ] = 0.452\n",
      "Average Precision  (AP) @[ IoU=0.75      | area=   all | maxDets=1000 ] = 0.274\n",
      "Average Precision  (AP) @[ IoU=0.50:0.95 | area= small | maxDets=1000 ] = 0.046\n",
      "Average Precision  (AP) @[ IoU=0.50:0.95 | area=medium | maxDets=1000 ] = 0.252\n",
      "Average Precision  (AP) @[ IoU=0.50:0.95 | area= large | maxDets=1000 ] = 0.501\n",
      "Average Recall     (AR) @[ IoU=0.50:0.95 | area=   all | maxDets=100 ] = 0.374\n",
      "Average Recall     (AR) @[ IoU=0.50:0.95 | area=   all | maxDets=300 ] = 0.374\n",
      "Average Recall     (AR) @[ IoU=0.50:0.95 | area=   all | maxDets=1000 ] = 0.374\n",
      "Average Recall     (AR) @[ IoU=0.50:0.95 | area= small | maxDets=1000 ] = 0.107\n",
      "Average Recall     (AR) @[ IoU=0.50:0.95 | area=medium | maxDets=1000 ] = 0.351\n",
      "Average Recall     (AR) @[ IoU=0.50:0.95 | area= large | maxDets=1000 ] = 0.595\n",
      "Loading and preparing results...\n",
      "DONE (t=0.09s)\n",
      "creating index...\n",
      "index created!\n",
      "Running per image evaluation...\n",
      "Evaluate annotation type *segm*\n",
      "DONE (t=4.58s).\n",
      "Accumulating evaluation results...\n"
     ]
    },
    {
     "name": "stderr",
     "output_type": "stream",
     "text": [
      "2021-05-13 22:10:33,530 - mmdet - INFO - Epoch(val) [4][655]\tbbox_mAP: 0.2830, bbox_mAP_50: 0.4520, bbox_mAP_75: 0.2740, bbox_mAP_s: 0.0460, bbox_mAP_m: 0.2520, bbox_mAP_l: 0.5010, bbox_mAP_copypaste: 0.283 0.452 0.274 0.046 0.252 0.501, segm_mAP: 0.2600, segm_mAP_50: 0.4270, segm_mAP_75: 0.2590, segm_mAP_s: 0.0340, segm_mAP_m: 0.2240, segm_mAP_l: 0.4890, segm_mAP_copypaste: 0.260 0.427 0.259 0.034 0.224 0.489\n"
     ]
    },
    {
     "name": "stdout",
     "output_type": "stream",
     "text": [
      "DONE (t=0.50s).\n",
      "Average Precision  (AP) @[ IoU=0.50:0.95 | area=   all | maxDets=100 ] = 0.260\n",
      "Average Precision  (AP) @[ IoU=0.50      | area=   all | maxDets=1000 ] = 0.427\n",
      "Average Precision  (AP) @[ IoU=0.75      | area=   all | maxDets=1000 ] = 0.259\n",
      "Average Precision  (AP) @[ IoU=0.50:0.95 | area= small | maxDets=1000 ] = 0.034\n",
      "Average Precision  (AP) @[ IoU=0.50:0.95 | area=medium | maxDets=1000 ] = 0.224\n",
      "Average Precision  (AP) @[ IoU=0.50:0.95 | area= large | maxDets=1000 ] = 0.489\n",
      "Average Recall     (AR) @[ IoU=0.50:0.95 | area=   all | maxDets=100 ] = 0.345\n",
      "Average Recall     (AR) @[ IoU=0.50:0.95 | area=   all | maxDets=300 ] = 0.345\n",
      "Average Recall     (AR) @[ IoU=0.50:0.95 | area=   all | maxDets=1000 ] = 0.345\n",
      "Average Recall     (AR) @[ IoU=0.50:0.95 | area= small | maxDets=1000 ] = 0.081\n",
      "Average Recall     (AR) @[ IoU=0.50:0.95 | area=medium | maxDets=1000 ] = 0.317\n",
      "Average Recall     (AR) @[ IoU=0.50:0.95 | area= large | maxDets=1000 ] = 0.579\n"
     ]
    },
    {
     "name": "stderr",
     "output_type": "stream",
     "text": [
      "2021-05-13 22:10:55,121 - mmdet - INFO - Epoch [5][10/655]\tlr: 5.000e-07, eta: 10:41:02, time: 2.157, data_time: 0.255, memory: 17519, loss_rpn_cls: 0.0255, loss_rpn_bbox: 0.0278, s0.loss_cls: 0.1336, s0.acc: 95.1270, s0.loss_bbox: 0.2953, s0.loss_mask: 0.2065, s1.loss_cls: 0.0517, s1.acc: 96.0601, s1.loss_bbox: 0.1234, s1.loss_mask: 0.0958, s2.loss_cls: 0.0252, s2.acc: 96.2186, s2.loss_bbox: 0.0542, s2.loss_mask: 0.0456, loss: 1.0847\n",
      "2021-05-13 22:11:13,744 - mmdet - INFO - Epoch [5][20/655]\tlr: 5.000e-07, eta: 10:40:45, time: 1.862, data_time: 0.031, memory: 17519, loss_rpn_cls: 0.0219, loss_rpn_bbox: 0.0326, s0.loss_cls: 0.1362, s0.acc: 95.1172, s0.loss_bbox: 0.2681, s0.loss_mask: 0.2214, s1.loss_cls: 0.0553, s1.acc: 96.2062, s1.loss_bbox: 0.1067, s1.loss_mask: 0.0979, s2.loss_cls: 0.0268, s2.acc: 96.1429, s2.loss_bbox: 0.0432, s2.loss_mask: 0.0430, loss: 1.0530\n",
      "2021-05-13 22:11:32,076 - mmdet - INFO - Epoch [5][30/655]\tlr: 5.000e-07, eta: 10:40:27, time: 1.833, data_time: 0.026, memory: 17519, loss_rpn_cls: 0.0139, loss_rpn_bbox: 0.0264, s0.loss_cls: 0.1050, s0.acc: 96.1572, s0.loss_bbox: 0.2380, s0.loss_mask: 0.2118, s1.loss_cls: 0.0396, s1.acc: 97.1887, s1.loss_bbox: 0.1014, s1.loss_mask: 0.0910, s2.loss_cls: 0.0210, s2.acc: 96.8879, s2.loss_bbox: 0.0428, s2.loss_mask: 0.0409, loss: 0.9319\n",
      "2021-05-13 22:11:50,422 - mmdet - INFO - Epoch [5][40/655]\tlr: 5.000e-07, eta: 10:40:08, time: 1.835, data_time: 0.026, memory: 17519, loss_rpn_cls: 0.0164, loss_rpn_bbox: 0.0245, s0.loss_cls: 0.1176, s0.acc: 95.7178, s0.loss_bbox: 0.2529, s0.loss_mask: 0.2072, s1.loss_cls: 0.0447, s1.acc: 96.6575, s1.loss_bbox: 0.1042, s1.loss_mask: 0.0946, s2.loss_cls: 0.0233, s2.acc: 96.5794, s2.loss_bbox: 0.0423, s2.loss_mask: 0.0444, loss: 0.9721\n",
      "2021-05-13 22:12:08,670 - mmdet - INFO - Epoch [5][50/655]\tlr: 5.000e-07, eta: 10:39:49, time: 1.825, data_time: 0.026, memory: 17519, loss_rpn_cls: 0.0201, loss_rpn_bbox: 0.0255, s0.loss_cls: 0.1267, s0.acc: 95.6104, s0.loss_bbox: 0.2419, s0.loss_mask: 0.1903, s1.loss_cls: 0.0516, s1.acc: 96.6508, s1.loss_bbox: 0.0980, s1.loss_mask: 0.0854, s2.loss_cls: 0.0242, s2.acc: 96.9535, s2.loss_bbox: 0.0395, s2.loss_mask: 0.0388, loss: 0.9418\n",
      "2021-05-13 22:12:26,435 - mmdet - INFO - Epoch [5][60/655]\tlr: 5.000e-07, eta: 10:39:26, time: 1.776, data_time: 0.022, memory: 17519, loss_rpn_cls: 0.0115, loss_rpn_bbox: 0.0182, s0.loss_cls: 0.0814, s0.acc: 96.8115, s0.loss_bbox: 0.1806, s0.loss_mask: 0.1705, s1.loss_cls: 0.0317, s1.acc: 97.7969, s1.loss_bbox: 0.0731, s1.loss_mask: 0.0797, s2.loss_cls: 0.0148, s2.acc: 97.9215, s2.loss_bbox: 0.0328, s2.loss_mask: 0.0374, loss: 0.7317\n",
      "2021-05-13 22:12:44,784 - mmdet - INFO - Epoch [5][70/655]\tlr: 5.000e-07, eta: 10:39:08, time: 1.835, data_time: 0.024, memory: 17519, loss_rpn_cls: 0.0163, loss_rpn_bbox: 0.0198, s0.loss_cls: 0.1189, s0.acc: 95.7910, s0.loss_bbox: 0.2296, s0.loss_mask: 0.1873, s1.loss_cls: 0.0441, s1.acc: 97.0337, s1.loss_bbox: 0.0956, s1.loss_mask: 0.0840, s2.loss_cls: 0.0200, s2.acc: 97.2666, s2.loss_bbox: 0.0403, s2.loss_mask: 0.0378, loss: 0.8938\n",
      "2021-05-13 22:13:03,115 - mmdet - INFO - Epoch [5][80/655]\tlr: 5.000e-07, eta: 10:38:49, time: 1.833, data_time: 0.023, memory: 17519, loss_rpn_cls: 0.0173, loss_rpn_bbox: 0.0226, s0.loss_cls: 0.1255, s0.acc: 95.4346, s0.loss_bbox: 0.2423, s0.loss_mask: 0.1856, s1.loss_cls: 0.0491, s1.acc: 96.3138, s1.loss_bbox: 0.1005, s1.loss_mask: 0.0877, s2.loss_cls: 0.0227, s2.acc: 96.5103, s2.loss_bbox: 0.0418, s2.loss_mask: 0.0402, loss: 0.9354\n",
      "2021-05-13 22:13:21,229 - mmdet - INFO - Epoch [5][90/655]\tlr: 5.000e-07, eta: 10:38:29, time: 1.811, data_time: 0.025, memory: 17519, loss_rpn_cls: 0.0166, loss_rpn_bbox: 0.0234, s0.loss_cls: 0.1151, s0.acc: 95.8008, s0.loss_bbox: 0.2216, s0.loss_mask: 0.1938, s1.loss_cls: 0.0454, s1.acc: 96.6658, s1.loss_bbox: 0.0924, s1.loss_mask: 0.0849, s2.loss_cls: 0.0208, s2.acc: 97.1953, s2.loss_bbox: 0.0387, s2.loss_mask: 0.0391, loss: 0.8917\n",
      "2021-05-13 22:13:39,797 - mmdet - INFO - Epoch [5][100/655]\tlr: 5.000e-07, eta: 10:38:12, time: 1.857, data_time: 0.027, memory: 17519, loss_rpn_cls: 0.0218, loss_rpn_bbox: 0.0232, s0.loss_cls: 0.1337, s0.acc: 95.4932, s0.loss_bbox: 0.2451, s0.loss_mask: 0.1987, s1.loss_cls: 0.0493, s1.acc: 96.7409, s1.loss_bbox: 0.1026, s1.loss_mask: 0.0936, s2.loss_cls: 0.0230, s2.acc: 96.7366, s2.loss_bbox: 0.0451, s2.loss_mask: 0.0448, loss: 0.9809\n",
      "2021-05-13 22:13:57,650 - mmdet - INFO - Epoch [5][110/655]\tlr: 5.000e-07, eta: 10:37:50, time: 1.785, data_time: 0.022, memory: 17519, loss_rpn_cls: 0.0156, loss_rpn_bbox: 0.0204, s0.loss_cls: 0.1076, s0.acc: 96.0352, s0.loss_bbox: 0.2128, s0.loss_mask: 0.2135, s1.loss_cls: 0.0419, s1.acc: 97.0488, s1.loss_bbox: 0.0871, s1.loss_mask: 0.0924, s2.loss_cls: 0.0190, s2.acc: 97.3928, s2.loss_bbox: 0.0342, s2.loss_mask: 0.0415, loss: 0.8860\n",
      "2021-05-13 22:14:16,195 - mmdet - INFO - Epoch [5][120/655]\tlr: 5.000e-07, eta: 10:37:33, time: 1.855, data_time: 0.026, memory: 17519, loss_rpn_cls: 0.0186, loss_rpn_bbox: 0.0308, s0.loss_cls: 0.1264, s0.acc: 95.2881, s0.loss_bbox: 0.2676, s0.loss_mask: 0.2309, s1.loss_cls: 0.0518, s1.acc: 96.4088, s1.loss_bbox: 0.1097, s1.loss_mask: 0.0996, s2.loss_cls: 0.0258, s2.acc: 96.4702, s2.loss_bbox: 0.0441, s2.loss_mask: 0.0447, loss: 1.0500\n",
      "2021-05-13 22:14:34,587 - mmdet - INFO - Epoch [5][130/655]\tlr: 5.000e-07, eta: 10:37:15, time: 1.839, data_time: 0.028, memory: 17519, loss_rpn_cls: 0.0244, loss_rpn_bbox: 0.0251, s0.loss_cls: 0.1170, s0.acc: 95.4639, s0.loss_bbox: 0.2371, s0.loss_mask: 0.1908, s1.loss_cls: 0.0489, s1.acc: 96.3916, s1.loss_bbox: 0.0986, s1.loss_mask: 0.0857, s2.loss_cls: 0.0225, s2.acc: 96.6896, s2.loss_bbox: 0.0413, s2.loss_mask: 0.0398, loss: 0.9313\n",
      "2021-05-13 22:14:53,436 - mmdet - INFO - Epoch [5][140/655]\tlr: 5.000e-07, eta: 10:37:00, time: 1.885, data_time: 0.030, memory: 17519, loss_rpn_cls: 0.0219, loss_rpn_bbox: 0.0307, s0.loss_cls: 0.1335, s0.acc: 95.0146, s0.loss_bbox: 0.2675, s0.loss_mask: 0.2075, s1.loss_cls: 0.0547, s1.acc: 96.0854, s1.loss_bbox: 0.1116, s1.loss_mask: 0.0955, s2.loss_cls: 0.0275, s2.acc: 96.2308, s2.loss_bbox: 0.0469, s2.loss_mask: 0.0444, loss: 1.0417\n",
      "2021-05-13 22:15:12,523 - mmdet - INFO - Epoch [5][150/655]\tlr: 5.000e-07, eta: 10:36:47, time: 1.909, data_time: 0.032, memory: 17519, loss_rpn_cls: 0.0206, loss_rpn_bbox: 0.0251, s0.loss_cls: 0.1405, s0.acc: 94.8291, s0.loss_bbox: 0.2906, s0.loss_mask: 0.2126, s1.loss_cls: 0.0593, s1.acc: 95.8945, s1.loss_bbox: 0.1242, s1.loss_mask: 0.0980, s2.loss_cls: 0.0283, s2.acc: 96.1204, s2.loss_bbox: 0.0508, s2.loss_mask: 0.0454, loss: 1.0954\n",
      "2021-05-13 22:15:30,619 - mmdet - INFO - Epoch [5][160/655]\tlr: 5.000e-07, eta: 10:36:27, time: 1.810, data_time: 0.024, memory: 17519, loss_rpn_cls: 0.0164, loss_rpn_bbox: 0.0189, s0.loss_cls: 0.0850, s0.acc: 96.7139, s0.loss_bbox: 0.2144, s0.loss_mask: 0.1833, s1.loss_cls: 0.0318, s1.acc: 97.7406, s1.loss_bbox: 0.0883, s1.loss_mask: 0.0832, s2.loss_cls: 0.0152, s2.acc: 97.6702, s2.loss_bbox: 0.0381, s2.loss_mask: 0.0391, loss: 0.8136\n",
      "2021-05-13 22:15:49,139 - mmdet - INFO - Epoch [5][170/655]\tlr: 5.000e-07, eta: 10:36:10, time: 1.852, data_time: 0.023, memory: 17519, loss_rpn_cls: 0.0119, loss_rpn_bbox: 0.0155, s0.loss_cls: 0.0977, s0.acc: 96.4014, s0.loss_bbox: 0.2335, s0.loss_mask: 0.1787, s1.loss_cls: 0.0350, s1.acc: 97.6365, s1.loss_bbox: 0.0967, s1.loss_mask: 0.0831, s2.loss_cls: 0.0176, s2.acc: 97.3857, s2.loss_bbox: 0.0419, s2.loss_mask: 0.0369, loss: 0.8484\n",
      "2021-05-13 22:16:07,644 - mmdet - INFO - Epoch [5][180/655]\tlr: 5.000e-07, eta: 10:35:53, time: 1.851, data_time: 0.025, memory: 17519, loss_rpn_cls: 0.0194, loss_rpn_bbox: 0.0208, s0.loss_cls: 0.1010, s0.acc: 96.2402, s0.loss_bbox: 0.2216, s0.loss_mask: 0.1662, s1.loss_cls: 0.0414, s1.acc: 96.9865, s1.loss_bbox: 0.0952, s1.loss_mask: 0.0750, s2.loss_cls: 0.0198, s2.acc: 97.1749, s2.loss_bbox: 0.0406, s2.loss_mask: 0.0354, loss: 0.8364\n",
      "2021-05-13 22:16:26,163 - mmdet - INFO - Epoch [5][190/655]\tlr: 5.000e-07, eta: 10:35:35, time: 1.852, data_time: 0.024, memory: 17519, loss_rpn_cls: 0.0137, loss_rpn_bbox: 0.0203, s0.loss_cls: 0.1159, s0.acc: 95.9082, s0.loss_bbox: 0.2398, s0.loss_mask: 0.1809, s1.loss_cls: 0.0428, s1.acc: 96.9934, s1.loss_bbox: 0.1000, s1.loss_mask: 0.0832, s2.loss_cls: 0.0195, s2.acc: 97.1472, s2.loss_bbox: 0.0446, s2.loss_mask: 0.0402, loss: 0.9010\n",
      "2021-05-13 22:16:44,629 - mmdet - INFO - Epoch [5][200/655]\tlr: 5.000e-07, eta: 10:35:18, time: 1.847, data_time: 0.025, memory: 17519, loss_rpn_cls: 0.0170, loss_rpn_bbox: 0.0183, s0.loss_cls: 0.1020, s0.acc: 95.9863, s0.loss_bbox: 0.2314, s0.loss_mask: 0.1926, s1.loss_cls: 0.0383, s1.acc: 97.1904, s1.loss_bbox: 0.1054, s1.loss_mask: 0.0912, s2.loss_cls: 0.0217, s2.acc: 96.7266, s2.loss_bbox: 0.0434, s2.loss_mask: 0.0411, loss: 0.9024\n",
      "2021-05-13 22:17:03,165 - mmdet - INFO - Epoch [5][210/655]\tlr: 5.000e-07, eta: 10:35:01, time: 1.853, data_time: 0.026, memory: 17519, loss_rpn_cls: 0.0230, loss_rpn_bbox: 0.0308, s0.loss_cls: 0.1223, s0.acc: 95.3076, s0.loss_bbox: 0.2620, s0.loss_mask: 0.2063, s1.loss_cls: 0.0516, s1.acc: 96.0185, s1.loss_bbox: 0.1122, s1.loss_mask: 0.0909, s2.loss_cls: 0.0249, s2.acc: 96.3047, s2.loss_bbox: 0.0453, s2.loss_mask: 0.0411, loss: 1.0104\n",
      "2021-05-13 22:17:21,699 - mmdet - INFO - Epoch [5][220/655]\tlr: 5.000e-07, eta: 10:34:44, time: 1.853, data_time: 0.032, memory: 17519, loss_rpn_cls: 0.0250, loss_rpn_bbox: 0.0299, s0.loss_cls: 0.1443, s0.acc: 94.7217, s0.loss_bbox: 0.2631, s0.loss_mask: 0.1991, s1.loss_cls: 0.0582, s1.acc: 95.8893, s1.loss_bbox: 0.1045, s1.loss_mask: 0.0909, s2.loss_cls: 0.0286, s2.acc: 95.9051, s2.loss_bbox: 0.0428, s2.loss_mask: 0.0419, loss: 1.0283\n",
      "2021-05-13 22:17:39,860 - mmdet - INFO - Epoch [5][230/655]\tlr: 5.000e-07, eta: 10:34:24, time: 1.816, data_time: 0.025, memory: 17519, loss_rpn_cls: 0.0162, loss_rpn_bbox: 0.0243, s0.loss_cls: 0.1100, s0.acc: 95.8203, s0.loss_bbox: 0.2353, s0.loss_mask: 0.2245, s1.loss_cls: 0.0447, s1.acc: 96.8394, s1.loss_bbox: 0.0990, s1.loss_mask: 0.1045, s2.loss_cls: 0.0203, s2.acc: 96.9536, s2.loss_bbox: 0.0406, s2.loss_mask: 0.0489, loss: 0.9682\n",
      "2021-05-13 22:17:58,407 - mmdet - INFO - Epoch [5][240/655]\tlr: 5.000e-07, eta: 10:34:07, time: 1.855, data_time: 0.024, memory: 17519, loss_rpn_cls: 0.0222, loss_rpn_bbox: 0.0284, s0.loss_cls: 0.1209, s0.acc: 95.5420, s0.loss_bbox: 0.2632, s0.loss_mask: 0.2123, s1.loss_cls: 0.0500, s1.acc: 96.5672, s1.loss_bbox: 0.1107, s1.loss_mask: 0.0949, s2.loss_cls: 0.0237, s2.acc: 96.5186, s2.loss_bbox: 0.0473, s2.loss_mask: 0.0438, loss: 1.0174\n",
      "2021-05-13 22:18:16,752 - mmdet - INFO - Epoch [5][250/655]\tlr: 5.000e-07, eta: 10:33:48, time: 1.835, data_time: 0.025, memory: 17519, loss_rpn_cls: 0.0139, loss_rpn_bbox: 0.0210, s0.loss_cls: 0.1159, s0.acc: 95.9082, s0.loss_bbox: 0.2476, s0.loss_mask: 0.2061, s1.loss_cls: 0.0414, s1.acc: 97.2322, s1.loss_bbox: 0.1070, s1.loss_mask: 0.0927, s2.loss_cls: 0.0192, s2.acc: 97.0629, s2.loss_bbox: 0.0473, s2.loss_mask: 0.0435, loss: 0.9557\n",
      "2021-05-13 22:18:35,446 - mmdet - INFO - Epoch [5][260/655]\tlr: 5.000e-07, eta: 10:33:32, time: 1.869, data_time: 0.030, memory: 17519, loss_rpn_cls: 0.0289, loss_rpn_bbox: 0.0296, s0.loss_cls: 0.1719, s0.acc: 93.9062, s0.loss_bbox: 0.3184, s0.loss_mask: 0.2434, s1.loss_cls: 0.0731, s1.acc: 94.7951, s1.loss_bbox: 0.1321, s1.loss_mask: 0.1076, s2.loss_cls: 0.0348, s2.acc: 95.0049, s2.loss_bbox: 0.0512, s2.loss_mask: 0.0475, loss: 1.2386\n",
      "2021-05-13 22:18:54,179 - mmdet - INFO - Epoch [5][270/655]\tlr: 5.000e-07, eta: 10:33:16, time: 1.873, data_time: 0.028, memory: 17519, loss_rpn_cls: 0.0187, loss_rpn_bbox: 0.0291, s0.loss_cls: 0.1365, s0.acc: 94.9609, s0.loss_bbox: 0.2629, s0.loss_mask: 0.1908, s1.loss_cls: 0.0503, s1.acc: 96.4698, s1.loss_bbox: 0.1067, s1.loss_mask: 0.0852, s2.loss_cls: 0.0240, s2.acc: 96.6673, s2.loss_bbox: 0.0448, s2.loss_mask: 0.0394, loss: 0.9884\n",
      "2021-05-13 22:19:12,604 - mmdet - INFO - Epoch [5][280/655]\tlr: 5.000e-07, eta: 10:32:59, time: 1.842, data_time: 0.029, memory: 17519, loss_rpn_cls: 0.0236, loss_rpn_bbox: 0.0304, s0.loss_cls: 0.1467, s0.acc: 94.6533, s0.loss_bbox: 0.2670, s0.loss_mask: 0.2291, s1.loss_cls: 0.0607, s1.acc: 95.8358, s1.loss_bbox: 0.1134, s1.loss_mask: 0.1057, s2.loss_cls: 0.0300, s2.acc: 95.9219, s2.loss_bbox: 0.0457, s2.loss_mask: 0.0479, loss: 1.1003\n",
      "2021-05-13 22:19:30,868 - mmdet - INFO - Epoch [5][290/655]\tlr: 5.000e-07, eta: 10:32:39, time: 1.826, data_time: 0.027, memory: 17519, loss_rpn_cls: 0.0118, loss_rpn_bbox: 0.0200, s0.loss_cls: 0.0861, s0.acc: 96.7090, s0.loss_bbox: 0.2140, s0.loss_mask: 0.1827, s1.loss_cls: 0.0342, s1.acc: 97.2886, s1.loss_bbox: 0.0876, s1.loss_mask: 0.0817, s2.loss_cls: 0.0164, s2.acc: 97.7512, s2.loss_bbox: 0.0376, s2.loss_mask: 0.0371, loss: 0.8091\n",
      "2021-05-13 22:19:48,940 - mmdet - INFO - Epoch [5][300/655]\tlr: 5.000e-07, eta: 10:32:19, time: 1.807, data_time: 0.026, memory: 17519, loss_rpn_cls: 0.0154, loss_rpn_bbox: 0.0222, s0.loss_cls: 0.0968, s0.acc: 96.4551, s0.loss_bbox: 0.2045, s0.loss_mask: 0.1808, s1.loss_cls: 0.0394, s1.acc: 97.0638, s1.loss_bbox: 0.0890, s1.loss_mask: 0.0799, s2.loss_cls: 0.0190, s2.acc: 97.1309, s2.loss_bbox: 0.0379, s2.loss_mask: 0.0372, loss: 0.8221\n",
      "2021-05-13 22:20:07,282 - mmdet - INFO - Epoch [5][310/655]\tlr: 5.000e-07, eta: 10:32:01, time: 1.834, data_time: 0.027, memory: 17519, loss_rpn_cls: 0.0238, loss_rpn_bbox: 0.0309, s0.loss_cls: 0.1376, s0.acc: 94.9072, s0.loss_bbox: 0.2601, s0.loss_mask: 0.1917, s1.loss_cls: 0.0550, s1.acc: 96.0142, s1.loss_bbox: 0.1084, s1.loss_mask: 0.0886, s2.loss_cls: 0.0261, s2.acc: 96.3287, s2.loss_bbox: 0.0452, s2.loss_mask: 0.0413, loss: 1.0086\n",
      "2021-05-13 22:20:25,602 - mmdet - INFO - Epoch [5][320/655]\tlr: 5.000e-07, eta: 10:31:42, time: 1.832, data_time: 0.026, memory: 17519, loss_rpn_cls: 0.0201, loss_rpn_bbox: 0.0309, s0.loss_cls: 0.1310, s0.acc: 95.1904, s0.loss_bbox: 0.2674, s0.loss_mask: 0.2137, s1.loss_cls: 0.0513, s1.acc: 96.3301, s1.loss_bbox: 0.1075, s1.loss_mask: 0.0948, s2.loss_cls: 0.0249, s2.acc: 96.3401, s2.loss_bbox: 0.0425, s2.loss_mask: 0.0424, loss: 1.0264\n",
      "2021-05-13 22:20:43,747 - mmdet - INFO - Epoch [5][330/655]\tlr: 5.000e-07, eta: 10:31:22, time: 1.815, data_time: 0.024, memory: 17519, loss_rpn_cls: 0.0186, loss_rpn_bbox: 0.0239, s0.loss_cls: 0.1105, s0.acc: 95.9033, s0.loss_bbox: 0.2334, s0.loss_mask: 0.2017, s1.loss_cls: 0.0459, s1.acc: 96.6898, s1.loss_bbox: 0.0997, s1.loss_mask: 0.0902, s2.loss_cls: 0.0205, s2.acc: 96.9995, s2.loss_bbox: 0.0410, s2.loss_mask: 0.0411, loss: 0.9266\n",
      "2021-05-13 22:21:01,576 - mmdet - INFO - Epoch [5][340/655]\tlr: 5.000e-07, eta: 10:31:00, time: 1.783, data_time: 0.022, memory: 17519, loss_rpn_cls: 0.0123, loss_rpn_bbox: 0.0140, s0.loss_cls: 0.0915, s0.acc: 96.6943, s0.loss_bbox: 0.1972, s0.loss_mask: 0.2089, s1.loss_cls: 0.0362, s1.acc: 97.3344, s1.loss_bbox: 0.0859, s1.loss_mask: 0.0940, s2.loss_cls: 0.0172, s2.acc: 97.3053, s2.loss_bbox: 0.0373, s2.loss_mask: 0.0425, loss: 0.8370\n",
      "2021-05-13 22:21:19,855 - mmdet - INFO - Epoch [5][350/655]\tlr: 5.000e-07, eta: 10:30:41, time: 1.828, data_time: 0.023, memory: 17519, loss_rpn_cls: 0.0139, loss_rpn_bbox: 0.0167, s0.loss_cls: 0.1045, s0.acc: 96.1816, s0.loss_bbox: 0.2193, s0.loss_mask: 0.1864, s1.loss_cls: 0.0344, s1.acc: 97.5138, s1.loss_bbox: 0.0916, s1.loss_mask: 0.0805, s2.loss_cls: 0.0171, s2.acc: 97.6891, s2.loss_bbox: 0.0402, s2.loss_mask: 0.0371, loss: 0.8418\n",
      "2021-05-13 22:21:38,532 - mmdet - INFO - Epoch [5][360/655]\tlr: 5.000e-07, eta: 10:30:25, time: 1.868, data_time: 0.028, memory: 17519, loss_rpn_cls: 0.0230, loss_rpn_bbox: 0.0305, s0.loss_cls: 0.1441, s0.acc: 94.8389, s0.loss_bbox: 0.2644, s0.loss_mask: 0.2147, s1.loss_cls: 0.0543, s1.acc: 96.3547, s1.loss_bbox: 0.1075, s1.loss_mask: 0.0959, s2.loss_cls: 0.0262, s2.acc: 96.5470, s2.loss_bbox: 0.0442, s2.loss_mask: 0.0450, loss: 1.0498\n",
      "2021-05-13 22:21:56,956 - mmdet - INFO - Epoch [5][370/655]\tlr: 5.000e-07, eta: 10:30:07, time: 1.843, data_time: 0.024, memory: 17519, loss_rpn_cls: 0.0251, loss_rpn_bbox: 0.0272, s0.loss_cls: 0.1414, s0.acc: 94.5654, s0.loss_bbox: 0.2828, s0.loss_mask: 0.2323, s1.loss_cls: 0.0601, s1.acc: 95.3109, s1.loss_bbox: 0.1127, s1.loss_mask: 0.1035, s2.loss_cls: 0.0294, s2.acc: 95.6011, s2.loss_bbox: 0.0459, s2.loss_mask: 0.0472, loss: 1.1076\n",
      "2021-05-13 22:22:15,426 - mmdet - INFO - Epoch [5][380/655]\tlr: 5.000e-07, eta: 10:29:49, time: 1.847, data_time: 0.025, memory: 17519, loss_rpn_cls: 0.0179, loss_rpn_bbox: 0.0201, s0.loss_cls: 0.1109, s0.acc: 95.9033, s0.loss_bbox: 0.2515, s0.loss_mask: 0.1990, s1.loss_cls: 0.0422, s1.acc: 96.9732, s1.loss_bbox: 0.1060, s1.loss_mask: 0.0892, s2.loss_cls: 0.0204, s2.acc: 96.8250, s2.loss_bbox: 0.0454, s2.loss_mask: 0.0412, loss: 0.9438\n",
      "2021-05-13 22:22:33,262 - mmdet - INFO - Epoch [5][390/655]\tlr: 5.000e-07, eta: 10:29:27, time: 1.784, data_time: 0.025, memory: 17519, loss_rpn_cls: 0.0132, loss_rpn_bbox: 0.0206, s0.loss_cls: 0.0987, s0.acc: 96.5967, s0.loss_bbox: 0.1890, s0.loss_mask: 0.1732, s1.loss_cls: 0.0364, s1.acc: 97.4519, s1.loss_bbox: 0.0797, s1.loss_mask: 0.0797, s2.loss_cls: 0.0166, s2.acc: 97.4767, s2.loss_bbox: 0.0350, s2.loss_mask: 0.0373, loss: 0.7795\n",
      "2021-05-13 22:22:51,687 - mmdet - INFO - Epoch [5][400/655]\tlr: 5.000e-07, eta: 10:29:09, time: 1.843, data_time: 0.031, memory: 17519, loss_rpn_cls: 0.0289, loss_rpn_bbox: 0.0270, s0.loss_cls: 0.1389, s0.acc: 94.9170, s0.loss_bbox: 0.2761, s0.loss_mask: 0.2023, s1.loss_cls: 0.0601, s1.acc: 95.7599, s1.loss_bbox: 0.1113, s1.loss_mask: 0.0901, s2.loss_cls: 0.0278, s2.acc: 96.1107, s2.loss_bbox: 0.0435, s2.loss_mask: 0.0406, loss: 1.0466\n",
      "2021-05-13 22:23:10,506 - mmdet - INFO - Epoch [5][410/655]\tlr: 5.000e-07, eta: 10:28:54, time: 1.882, data_time: 0.032, memory: 17519, loss_rpn_cls: 0.0244, loss_rpn_bbox: 0.0243, s0.loss_cls: 0.1346, s0.acc: 95.1221, s0.loss_bbox: 0.2674, s0.loss_mask: 0.2130, s1.loss_cls: 0.0544, s1.acc: 96.1665, s1.loss_bbox: 0.1117, s1.loss_mask: 0.0903, s2.loss_cls: 0.0254, s2.acc: 96.4450, s2.loss_bbox: 0.0485, s2.loss_mask: 0.0422, loss: 1.0362\n",
      "2021-05-13 22:23:28,858 - mmdet - INFO - Epoch [5][420/655]\tlr: 5.000e-07, eta: 10:28:36, time: 1.835, data_time: 0.028, memory: 17519, loss_rpn_cls: 0.0238, loss_rpn_bbox: 0.0267, s0.loss_cls: 0.1055, s0.acc: 96.1719, s0.loss_bbox: 0.2254, s0.loss_mask: 0.1923, s1.loss_cls: 0.0434, s1.acc: 97.0922, s1.loss_bbox: 0.0937, s1.loss_mask: 0.0859, s2.loss_cls: 0.0214, s2.acc: 97.1918, s2.loss_bbox: 0.0393, s2.loss_mask: 0.0402, loss: 0.8975\n",
      "2021-05-13 22:23:47,102 - mmdet - INFO - Epoch [5][430/655]\tlr: 5.000e-07, eta: 10:28:16, time: 1.824, data_time: 0.029, memory: 17519, loss_rpn_cls: 0.0220, loss_rpn_bbox: 0.0312, s0.loss_cls: 0.1328, s0.acc: 95.2051, s0.loss_bbox: 0.2391, s0.loss_mask: 0.2105, s1.loss_cls: 0.0524, s1.acc: 96.2521, s1.loss_bbox: 0.0957, s1.loss_mask: 0.0934, s2.loss_cls: 0.0263, s2.acc: 96.1448, s2.loss_bbox: 0.0395, s2.loss_mask: 0.0420, loss: 0.9850\n",
      "2021-05-13 22:24:05,760 - mmdet - INFO - Epoch [5][440/655]\tlr: 5.000e-07, eta: 10:28:00, time: 1.866, data_time: 0.027, memory: 17519, loss_rpn_cls: 0.0213, loss_rpn_bbox: 0.0302, s0.loss_cls: 0.1392, s0.acc: 94.9951, s0.loss_bbox: 0.2765, s0.loss_mask: 0.2296, s1.loss_cls: 0.0555, s1.acc: 96.2110, s1.loss_bbox: 0.1185, s1.loss_mask: 0.1017, s2.loss_cls: 0.0278, s2.acc: 96.0011, s2.loss_bbox: 0.0478, s2.loss_mask: 0.0458, loss: 1.0940\n",
      "2021-05-13 22:24:24,175 - mmdet - INFO - Epoch [5][450/655]\tlr: 5.000e-07, eta: 10:27:42, time: 1.841, data_time: 0.027, memory: 17519, loss_rpn_cls: 0.0180, loss_rpn_bbox: 0.0263, s0.loss_cls: 0.1288, s0.acc: 95.3711, s0.loss_bbox: 0.2506, s0.loss_mask: 0.1955, s1.loss_cls: 0.0470, s1.acc: 96.7133, s1.loss_bbox: 0.1026, s1.loss_mask: 0.0892, s2.loss_cls: 0.0231, s2.acc: 96.5317, s2.loss_bbox: 0.0427, s2.loss_mask: 0.0424, loss: 0.9661\n",
      "2021-05-13 22:24:42,559 - mmdet - INFO - Epoch [5][460/655]\tlr: 5.000e-07, eta: 10:27:24, time: 1.838, data_time: 0.023, memory: 17519, loss_rpn_cls: 0.0195, loss_rpn_bbox: 0.0221, s0.loss_cls: 0.1170, s0.acc: 95.9180, s0.loss_bbox: 0.2454, s0.loss_mask: 0.1951, s1.loss_cls: 0.0432, s1.acc: 96.9906, s1.loss_bbox: 0.1045, s1.loss_mask: 0.0874, s2.loss_cls: 0.0227, s2.acc: 96.7727, s2.loss_bbox: 0.0457, s2.loss_mask: 0.0412, loss: 0.9437\n",
      "2021-05-13 22:25:01,187 - mmdet - INFO - Epoch [5][470/655]\tlr: 5.000e-07, eta: 10:27:07, time: 1.863, data_time: 0.025, memory: 17519, loss_rpn_cls: 0.0212, loss_rpn_bbox: 0.0301, s0.loss_cls: 0.1319, s0.acc: 94.8975, s0.loss_bbox: 0.2748, s0.loss_mask: 0.2038, s1.loss_cls: 0.0543, s1.acc: 95.8584, s1.loss_bbox: 0.1122, s1.loss_mask: 0.0926, s2.loss_cls: 0.0261, s2.acc: 95.8961, s2.loss_bbox: 0.0453, s2.loss_mask: 0.0420, loss: 1.0342\n",
      "2021-05-13 22:25:19,213 - mmdet - INFO - Epoch [5][480/655]\tlr: 5.000e-07, eta: 10:26:47, time: 1.803, data_time: 0.024, memory: 17519, loss_rpn_cls: 0.0153, loss_rpn_bbox: 0.0203, s0.loss_cls: 0.0961, s0.acc: 96.2695, s0.loss_bbox: 0.2076, s0.loss_mask: 0.1733, s1.loss_cls: 0.0387, s1.acc: 96.9986, s1.loss_bbox: 0.0880, s1.loss_mask: 0.0778, s2.loss_cls: 0.0184, s2.acc: 96.9425, s2.loss_bbox: 0.0375, s2.loss_mask: 0.0360, loss: 0.8090\n",
      "2021-05-13 22:25:37,673 - mmdet - INFO - Epoch [5][490/655]\tlr: 5.000e-07, eta: 10:26:29, time: 1.846, data_time: 0.029, memory: 17519, loss_rpn_cls: 0.0324, loss_rpn_bbox: 0.0339, s0.loss_cls: 0.1570, s0.acc: 94.3506, s0.loss_bbox: 0.2792, s0.loss_mask: 0.2376, s1.loss_cls: 0.0667, s1.acc: 95.5322, s1.loss_bbox: 0.1126, s1.loss_mask: 0.1053, s2.loss_cls: 0.0311, s2.acc: 95.6210, s2.loss_bbox: 0.0448, s2.loss_mask: 0.0483, loss: 1.1488\n",
      "2021-05-13 22:25:56,860 - mmdet - INFO - Epoch [5][500/655]\tlr: 5.000e-07, eta: 10:26:16, time: 1.919, data_time: 0.042, memory: 17519, loss_rpn_cls: 0.0306, loss_rpn_bbox: 0.0486, s0.loss_cls: 0.1829, s0.acc: 93.2227, s0.loss_bbox: 0.3546, s0.loss_mask: 0.2433, s1.loss_cls: 0.0762, s1.acc: 94.2308, s1.loss_bbox: 0.1517, s1.loss_mask: 0.1152, s2.loss_cls: 0.0381, s2.acc: 94.1098, s2.loss_bbox: 0.0606, s2.loss_mask: 0.0544, loss: 1.3563\n",
      "2021-05-13 22:26:15,367 - mmdet - INFO - Epoch [5][510/655]\tlr: 5.000e-07, eta: 10:25:58, time: 1.851, data_time: 0.024, memory: 17519, loss_rpn_cls: 0.0244, loss_rpn_bbox: 0.0243, s0.loss_cls: 0.1154, s0.acc: 95.6396, s0.loss_bbox: 0.2387, s0.loss_mask: 0.2027, s1.loss_cls: 0.0481, s1.acc: 96.3642, s1.loss_bbox: 0.1054, s1.loss_mask: 0.0960, s2.loss_cls: 0.0238, s2.acc: 96.4103, s2.loss_bbox: 0.0457, s2.loss_mask: 0.0447, loss: 0.9691\n",
      "2021-05-13 22:26:34,210 - mmdet - INFO - Epoch [5][520/655]\tlr: 5.000e-07, eta: 10:25:43, time: 1.884, data_time: 0.032, memory: 17519, loss_rpn_cls: 0.0236, loss_rpn_bbox: 0.0283, s0.loss_cls: 0.1408, s0.acc: 94.6777, s0.loss_bbox: 0.2701, s0.loss_mask: 0.1940, s1.loss_cls: 0.0542, s1.acc: 96.0404, s1.loss_bbox: 0.1121, s1.loss_mask: 0.0890, s2.loss_cls: 0.0260, s2.acc: 96.2838, s2.loss_bbox: 0.0487, s2.loss_mask: 0.0416, loss: 1.0284\n",
      "2021-05-13 22:26:52,596 - mmdet - INFO - Epoch [5][530/655]\tlr: 5.000e-07, eta: 10:25:25, time: 1.839, data_time: 0.024, memory: 17519, loss_rpn_cls: 0.0129, loss_rpn_bbox: 0.0155, s0.loss_cls: 0.0915, s0.acc: 96.5039, s0.loss_bbox: 0.2053, s0.loss_mask: 0.1733, s1.loss_cls: 0.0312, s1.acc: 97.7436, s1.loss_bbox: 0.0889, s1.loss_mask: 0.0779, s2.loss_cls: 0.0152, s2.acc: 97.7827, s2.loss_bbox: 0.0399, s2.loss_mask: 0.0371, loss: 0.7886\n",
      "2021-05-13 22:27:11,046 - mmdet - INFO - Epoch [5][540/655]\tlr: 5.000e-07, eta: 10:25:07, time: 1.845, data_time: 0.030, memory: 17519, loss_rpn_cls: 0.0208, loss_rpn_bbox: 0.0298, s0.loss_cls: 0.1215, s0.acc: 95.5908, s0.loss_bbox: 0.2425, s0.loss_mask: 0.1939, s1.loss_cls: 0.0491, s1.acc: 96.6076, s1.loss_bbox: 0.1044, s1.loss_mask: 0.0871, s2.loss_cls: 0.0231, s2.acc: 96.6499, s2.loss_bbox: 0.0428, s2.loss_mask: 0.0390, loss: 0.9541\n",
      "2021-05-13 22:27:29,707 - mmdet - INFO - Epoch [5][550/655]\tlr: 5.000e-07, eta: 10:24:51, time: 1.866, data_time: 0.029, memory: 17519, loss_rpn_cls: 0.0207, loss_rpn_bbox: 0.0349, s0.loss_cls: 0.1429, s0.acc: 94.9609, s0.loss_bbox: 0.2813, s0.loss_mask: 0.2230, s1.loss_cls: 0.0550, s1.acc: 96.1012, s1.loss_bbox: 0.1128, s1.loss_mask: 0.0955, s2.loss_cls: 0.0280, s2.acc: 95.7771, s2.loss_bbox: 0.0476, s2.loss_mask: 0.0438, loss: 1.0856\n",
      "2021-05-13 22:27:48,746 - mmdet - INFO - Epoch [5][560/655]\tlr: 5.000e-07, eta: 10:24:37, time: 1.904, data_time: 0.023, memory: 17519, loss_rpn_cls: 0.0177, loss_rpn_bbox: 0.0233, s0.loss_cls: 0.1227, s0.acc: 95.5420, s0.loss_bbox: 0.2668, s0.loss_mask: 0.1909, s1.loss_cls: 0.0486, s1.acc: 96.3693, s1.loss_bbox: 0.1127, s1.loss_mask: 0.0849, s2.loss_cls: 0.0239, s2.acc: 96.2798, s2.loss_bbox: 0.0481, s2.loss_mask: 0.0397, loss: 0.9793\n",
      "2021-05-13 22:28:07,158 - mmdet - INFO - Epoch [5][570/655]\tlr: 5.000e-07, eta: 10:24:18, time: 1.841, data_time: 0.030, memory: 17519, loss_rpn_cls: 0.0195, loss_rpn_bbox: 0.0264, s0.loss_cls: 0.1291, s0.acc: 95.3027, s0.loss_bbox: 0.2499, s0.loss_mask: 0.2033, s1.loss_cls: 0.0491, s1.acc: 96.5728, s1.loss_bbox: 0.1012, s1.loss_mask: 0.0899, s2.loss_cls: 0.0235, s2.acc: 96.8481, s2.loss_bbox: 0.0430, s2.loss_mask: 0.0423, loss: 0.9772\n",
      "2021-05-13 22:28:25,520 - mmdet - INFO - Epoch [5][580/655]\tlr: 5.000e-07, eta: 10:24:00, time: 1.836, data_time: 0.025, memory: 17519, loss_rpn_cls: 0.0132, loss_rpn_bbox: 0.0227, s0.loss_cls: 0.1126, s0.acc: 96.0205, s0.loss_bbox: 0.2227, s0.loss_mask: 0.1759, s1.loss_cls: 0.0402, s1.acc: 97.2883, s1.loss_bbox: 0.0960, s1.loss_mask: 0.0799, s2.loss_cls: 0.0200, s2.acc: 97.0108, s2.loss_bbox: 0.0404, s2.loss_mask: 0.0378, loss: 0.8615\n",
      "2021-05-13 22:28:44,353 - mmdet - INFO - Epoch [5][590/655]\tlr: 5.000e-07, eta: 10:23:45, time: 1.883, data_time: 0.029, memory: 17519, loss_rpn_cls: 0.0183, loss_rpn_bbox: 0.0287, s0.loss_cls: 0.1420, s0.acc: 94.6924, s0.loss_bbox: 0.2844, s0.loss_mask: 0.2015, s1.loss_cls: 0.0575, s1.acc: 95.8368, s1.loss_bbox: 0.1238, s1.loss_mask: 0.0944, s2.loss_cls: 0.0270, s2.acc: 95.9974, s2.loss_bbox: 0.0514, s2.loss_mask: 0.0436, loss: 1.0725\n",
      "2021-05-13 22:29:02,846 - mmdet - INFO - Epoch [5][600/655]\tlr: 5.000e-07, eta: 10:23:27, time: 1.849, data_time: 0.029, memory: 17519, loss_rpn_cls: 0.0242, loss_rpn_bbox: 0.0242, s0.loss_cls: 0.1224, s0.acc: 95.5029, s0.loss_bbox: 0.2541, s0.loss_mask: 0.2058, s1.loss_cls: 0.0493, s1.acc: 96.5774, s1.loss_bbox: 0.1058, s1.loss_mask: 0.0917, s2.loss_cls: 0.0234, s2.acc: 96.6015, s2.loss_bbox: 0.0430, s2.loss_mask: 0.0418, loss: 0.9857\n",
      "2021-05-13 22:29:21,224 - mmdet - INFO - Epoch [5][610/655]\tlr: 5.000e-07, eta: 10:23:09, time: 1.838, data_time: 0.026, memory: 17519, loss_rpn_cls: 0.0188, loss_rpn_bbox: 0.0233, s0.loss_cls: 0.1076, s0.acc: 96.0986, s0.loss_bbox: 0.2148, s0.loss_mask: 0.1752, s1.loss_cls: 0.0432, s1.acc: 97.0465, s1.loss_bbox: 0.0928, s1.loss_mask: 0.0826, s2.loss_cls: 0.0207, s2.acc: 97.1921, s2.loss_bbox: 0.0400, s2.loss_mask: 0.0388, loss: 0.8577\n",
      "2021-05-13 22:29:40,283 - mmdet - INFO - Epoch [5][620/655]\tlr: 5.000e-07, eta: 10:22:55, time: 1.906, data_time: 0.030, memory: 17519, loss_rpn_cls: 0.0282, loss_rpn_bbox: 0.0348, s0.loss_cls: 0.1569, s0.acc: 94.1943, s0.loss_bbox: 0.3069, s0.loss_mask: 0.2240, s1.loss_cls: 0.0609, s1.acc: 95.5491, s1.loss_bbox: 0.1278, s1.loss_mask: 0.1018, s2.loss_cls: 0.0307, s2.acc: 95.6409, s2.loss_bbox: 0.0534, s2.loss_mask: 0.0479, loss: 1.1731\n",
      "2021-05-13 22:29:58,612 - mmdet - INFO - Epoch [5][630/655]\tlr: 5.000e-07, eta: 10:22:36, time: 1.833, data_time: 0.023, memory: 17519, loss_rpn_cls: 0.0146, loss_rpn_bbox: 0.0222, s0.loss_cls: 0.0896, s0.acc: 96.4551, s0.loss_bbox: 0.2149, s0.loss_mask: 0.1938, s1.loss_cls: 0.0368, s1.acc: 97.3321, s1.loss_bbox: 0.0934, s1.loss_mask: 0.0910, s2.loss_cls: 0.0172, s2.acc: 97.5316, s2.loss_bbox: 0.0393, s2.loss_mask: 0.0414, loss: 0.8543\n",
      "2021-05-13 22:30:17,465 - mmdet - INFO - Epoch [5][640/655]\tlr: 5.000e-07, eta: 10:22:21, time: 1.885, data_time: 0.025, memory: 17519, loss_rpn_cls: 0.0164, loss_rpn_bbox: 0.0263, s0.loss_cls: 0.1134, s0.acc: 95.9668, s0.loss_bbox: 0.2477, s0.loss_mask: 0.1867, s1.loss_cls: 0.0394, s1.acc: 97.1721, s1.loss_bbox: 0.1056, s1.loss_mask: 0.0836, s2.loss_cls: 0.0207, s2.acc: 96.9871, s2.loss_bbox: 0.0459, s2.loss_mask: 0.0388, loss: 0.9244\n",
      "2021-05-13 22:30:36,430 - mmdet - INFO - Epoch [5][650/655]\tlr: 5.000e-07, eta: 10:22:06, time: 1.897, data_time: 0.023, memory: 17519, loss_rpn_cls: 0.0232, loss_rpn_bbox: 0.0263, s0.loss_cls: 0.1311, s0.acc: 94.9756, s0.loss_bbox: 0.2851, s0.loss_mask: 0.2056, s1.loss_cls: 0.0506, s1.acc: 96.1583, s1.loss_bbox: 0.1148, s1.loss_mask: 0.0921, s2.loss_cls: 0.0220, s2.acc: 96.8792, s2.loss_bbox: 0.0480, s2.loss_mask: 0.0435, loss: 1.0423\n",
      "2021-05-13 22:30:45,466 - mmdet - INFO - Saving checkpoint at 5 epochs\n"
     ]
    },
    {
     "name": "stdout",
     "output_type": "stream",
     "text": [
      "[>>>>>>>>>>>>>>>>>>>>>>>>>>>>>] 655/655, 4.7 task/s, elapsed: 138s, ETA:     0s"
     ]
    },
    {
     "name": "stderr",
     "output_type": "stream",
     "text": [
      "2021-05-13 22:33:07,783 - mmdet - INFO - Evaluating bbox...\n"
     ]
    },
    {
     "name": "stdout",
     "output_type": "stream",
     "text": [
      "Loading and preparing results...\n",
      "DONE (t=0.56s)\n",
      "creating index...\n",
      "index created!\n",
      "Running per image evaluation...\n",
      "Evaluate annotation type *bbox*\n",
      "DONE (t=3.83s).\n",
      "Accumulating evaluation results...\n"
     ]
    },
    {
     "name": "stderr",
     "output_type": "stream",
     "text": [
      "2021-05-13 22:33:12,698 - mmdet - INFO - Evaluating segm...\n"
     ]
    },
    {
     "name": "stdout",
     "output_type": "stream",
     "text": [
      "DONE (t=0.51s).\n",
      "Average Precision  (AP) @[ IoU=0.50:0.95 | area=   all | maxDets=100 ] = 0.282\n",
      "Average Precision  (AP) @[ IoU=0.50      | area=   all | maxDets=1000 ] = 0.453\n",
      "Average Precision  (AP) @[ IoU=0.75      | area=   all | maxDets=1000 ] = 0.272\n",
      "Average Precision  (AP) @[ IoU=0.50:0.95 | area= small | maxDets=1000 ] = 0.046\n",
      "Average Precision  (AP) @[ IoU=0.50:0.95 | area=medium | maxDets=1000 ] = 0.252\n",
      "Average Precision  (AP) @[ IoU=0.50:0.95 | area= large | maxDets=1000 ] = 0.499\n",
      "Average Recall     (AR) @[ IoU=0.50:0.95 | area=   all | maxDets=100 ] = 0.372\n",
      "Average Recall     (AR) @[ IoU=0.50:0.95 | area=   all | maxDets=300 ] = 0.372\n",
      "Average Recall     (AR) @[ IoU=0.50:0.95 | area=   all | maxDets=1000 ] = 0.372\n",
      "Average Recall     (AR) @[ IoU=0.50:0.95 | area= small | maxDets=1000 ] = 0.109\n",
      "Average Recall     (AR) @[ IoU=0.50:0.95 | area=medium | maxDets=1000 ] = 0.348\n",
      "Average Recall     (AR) @[ IoU=0.50:0.95 | area= large | maxDets=1000 ] = 0.592\n",
      "Loading and preparing results...\n",
      "DONE (t=0.09s)\n",
      "creating index...\n",
      "index created!\n",
      "Running per image evaluation...\n",
      "Evaluate annotation type *segm*\n",
      "DONE (t=4.51s).\n",
      "Accumulating evaluation results...\n"
     ]
    },
    {
     "name": "stderr",
     "output_type": "stream",
     "text": [
      "2021-05-13 22:33:17,890 - mmdet - INFO - Epoch(val) [5][655]\tbbox_mAP: 0.2820, bbox_mAP_50: 0.4530, bbox_mAP_75: 0.2720, bbox_mAP_s: 0.0460, bbox_mAP_m: 0.2520, bbox_mAP_l: 0.4990, bbox_mAP_copypaste: 0.282 0.453 0.272 0.046 0.252 0.499, segm_mAP: 0.2580, segm_mAP_50: 0.4240, segm_mAP_75: 0.2560, segm_mAP_s: 0.0330, segm_mAP_m: 0.2230, segm_mAP_l: 0.4850, segm_mAP_copypaste: 0.258 0.424 0.256 0.033 0.223 0.485\n"
     ]
    },
    {
     "name": "stdout",
     "output_type": "stream",
     "text": [
      "DONE (t=0.49s).\n",
      "Average Precision  (AP) @[ IoU=0.50:0.95 | area=   all | maxDets=100 ] = 0.258\n",
      "Average Precision  (AP) @[ IoU=0.50      | area=   all | maxDets=1000 ] = 0.424\n",
      "Average Precision  (AP) @[ IoU=0.75      | area=   all | maxDets=1000 ] = 0.256\n",
      "Average Precision  (AP) @[ IoU=0.50:0.95 | area= small | maxDets=1000 ] = 0.033\n",
      "Average Precision  (AP) @[ IoU=0.50:0.95 | area=medium | maxDets=1000 ] = 0.223\n",
      "Average Precision  (AP) @[ IoU=0.50:0.95 | area= large | maxDets=1000 ] = 0.485\n",
      "Average Recall     (AR) @[ IoU=0.50:0.95 | area=   all | maxDets=100 ] = 0.342\n",
      "Average Recall     (AR) @[ IoU=0.50:0.95 | area=   all | maxDets=300 ] = 0.342\n",
      "Average Recall     (AR) @[ IoU=0.50:0.95 | area=   all | maxDets=1000 ] = 0.342\n",
      "Average Recall     (AR) @[ IoU=0.50:0.95 | area= small | maxDets=1000 ] = 0.081\n",
      "Average Recall     (AR) @[ IoU=0.50:0.95 | area=medium | maxDets=1000 ] = 0.311\n",
      "Average Recall     (AR) @[ IoU=0.50:0.95 | area= large | maxDets=1000 ] = 0.577\n"
     ]
    },
    {
     "name": "stderr",
     "output_type": "stream",
     "text": [
      "2021-05-13 22:33:38,599 - mmdet - INFO - Epoch [6][10/655]\tlr: 5.000e-08, eta: 10:20:56, time: 2.069, data_time: 0.253, memory: 17519, loss_rpn_cls: 0.0188, loss_rpn_bbox: 0.0203, s0.loss_cls: 0.1018, s0.acc: 96.2793, s0.loss_bbox: 0.2252, s0.loss_mask: 0.1722, s1.loss_cls: 0.0390, s1.acc: 96.9212, s1.loss_bbox: 0.0948, s1.loss_mask: 0.0813, s2.loss_cls: 0.0185, s2.acc: 97.5765, s2.loss_bbox: 0.0410, s2.loss_mask: 0.0386, loss: 0.8517\n",
      "2021-05-13 22:33:56,980 - mmdet - INFO - Epoch [6][20/655]\tlr: 5.000e-08, eta: 10:20:38, time: 1.838, data_time: 0.025, memory: 17519, loss_rpn_cls: 0.0233, loss_rpn_bbox: 0.0236, s0.loss_cls: 0.1127, s0.acc: 95.7422, s0.loss_bbox: 0.2550, s0.loss_mask: 0.2152, s1.loss_cls: 0.0442, s1.acc: 96.9896, s1.loss_bbox: 0.1033, s1.loss_mask: 0.1003, s2.loss_cls: 0.0250, s2.acc: 96.5138, s2.loss_bbox: 0.0417, s2.loss_mask: 0.0447, loss: 0.9890\n",
      "2021-05-13 22:34:14,951 - mmdet - INFO - Epoch [6][30/655]\tlr: 5.000e-08, eta: 10:20:17, time: 1.797, data_time: 0.020, memory: 17519, loss_rpn_cls: 0.0119, loss_rpn_bbox: 0.0173, s0.loss_cls: 0.0884, s0.acc: 96.7041, s0.loss_bbox: 0.2144, s0.loss_mask: 0.1894, s1.loss_cls: 0.0334, s1.acc: 97.6346, s1.loss_bbox: 0.0911, s1.loss_mask: 0.0828, s2.loss_cls: 0.0160, s2.acc: 97.5969, s2.loss_bbox: 0.0396, s2.loss_mask: 0.0389, loss: 0.8231\n",
      "2021-05-13 22:34:34,058 - mmdet - INFO - Epoch [6][40/655]\tlr: 5.000e-08, eta: 10:20:03, time: 1.911, data_time: 0.025, memory: 17519, loss_rpn_cls: 0.0236, loss_rpn_bbox: 0.0326, s0.loss_cls: 0.1517, s0.acc: 94.3555, s0.loss_bbox: 0.3363, s0.loss_mask: 0.2349, s1.loss_cls: 0.0641, s1.acc: 95.3553, s1.loss_bbox: 0.1399, s1.loss_mask: 0.1086, s2.loss_cls: 0.0320, s2.acc: 95.4539, s2.loss_bbox: 0.0572, s2.loss_mask: 0.0505, loss: 1.2313\n",
      "2021-05-13 22:34:52,293 - mmdet - INFO - Epoch [6][50/655]\tlr: 5.000e-08, eta: 10:19:44, time: 1.823, data_time: 0.024, memory: 17519, loss_rpn_cls: 0.0229, loss_rpn_bbox: 0.0255, s0.loss_cls: 0.1165, s0.acc: 95.4443, s0.loss_bbox: 0.2419, s0.loss_mask: 0.2111, s1.loss_cls: 0.0474, s1.acc: 96.3752, s1.loss_bbox: 0.1007, s1.loss_mask: 0.0965, s2.loss_cls: 0.0229, s2.acc: 96.5330, s2.loss_bbox: 0.0413, s2.loss_mask: 0.0441, loss: 0.9708\n",
      "2021-05-13 22:35:10,855 - mmdet - INFO - Epoch [6][60/655]\tlr: 5.000e-08, eta: 10:19:27, time: 1.856, data_time: 0.025, memory: 17519, loss_rpn_cls: 0.0236, loss_rpn_bbox: 0.0274, s0.loss_cls: 0.1354, s0.acc: 95.1416, s0.loss_bbox: 0.2510, s0.loss_mask: 0.1973, s1.loss_cls: 0.0538, s1.acc: 96.1800, s1.loss_bbox: 0.1082, s1.loss_mask: 0.0920, s2.loss_cls: 0.0258, s2.acc: 96.0426, s2.loss_bbox: 0.0453, s2.loss_mask: 0.0431, loss: 1.0028\n",
      "2021-05-13 22:35:29,434 - mmdet - INFO - Epoch [6][70/655]\tlr: 5.000e-08, eta: 10:19:10, time: 1.858, data_time: 0.025, memory: 17519, loss_rpn_cls: 0.0242, loss_rpn_bbox: 0.0261, s0.loss_cls: 0.1388, s0.acc: 94.9072, s0.loss_bbox: 0.2715, s0.loss_mask: 0.1962, s1.loss_cls: 0.0560, s1.acc: 95.7705, s1.loss_bbox: 0.1098, s1.loss_mask: 0.0903, s2.loss_cls: 0.0256, s2.acc: 96.2030, s2.loss_bbox: 0.0439, s2.loss_mask: 0.0417, loss: 1.0241\n",
      "2021-05-13 22:35:48,163 - mmdet - INFO - Epoch [6][80/655]\tlr: 5.000e-08, eta: 10:18:54, time: 1.873, data_time: 0.027, memory: 17519, loss_rpn_cls: 0.0279, loss_rpn_bbox: 0.0282, s0.loss_cls: 0.1301, s0.acc: 95.2393, s0.loss_bbox: 0.2662, s0.loss_mask: 0.1910, s1.loss_cls: 0.0495, s1.acc: 96.4280, s1.loss_bbox: 0.1078, s1.loss_mask: 0.0868, s2.loss_cls: 0.0242, s2.acc: 96.5651, s2.loss_bbox: 0.0465, s2.loss_mask: 0.0410, loss: 0.9992\n",
      "2021-05-13 22:36:06,898 - mmdet - INFO - Epoch [6][90/655]\tlr: 5.000e-08, eta: 10:18:38, time: 1.874, data_time: 0.029, memory: 17519, loss_rpn_cls: 0.0236, loss_rpn_bbox: 0.0331, s0.loss_cls: 0.1373, s0.acc: 95.0342, s0.loss_bbox: 0.2818, s0.loss_mask: 0.2091, s1.loss_cls: 0.0572, s1.acc: 95.9851, s1.loss_bbox: 0.1171, s1.loss_mask: 0.0918, s2.loss_cls: 0.0277, s2.acc: 95.9992, s2.loss_bbox: 0.0482, s2.loss_mask: 0.0422, loss: 1.0691\n",
      "2021-05-13 22:36:25,417 - mmdet - INFO - Epoch [6][100/655]\tlr: 5.000e-08, eta: 10:18:20, time: 1.852, data_time: 0.026, memory: 17519, loss_rpn_cls: 0.0246, loss_rpn_bbox: 0.0295, s0.loss_cls: 0.1337, s0.acc: 95.0781, s0.loss_bbox: 0.2757, s0.loss_mask: 0.2119, s1.loss_cls: 0.0514, s1.acc: 96.1187, s1.loss_bbox: 0.1128, s1.loss_mask: 0.0942, s2.loss_cls: 0.0242, s2.acc: 96.3189, s2.loss_bbox: 0.0463, s2.loss_mask: 0.0434, loss: 1.0477\n",
      "2021-05-13 22:36:43,679 - mmdet - INFO - Epoch [6][110/655]\tlr: 5.000e-08, eta: 10:18:01, time: 1.826, data_time: 0.023, memory: 17519, loss_rpn_cls: 0.0170, loss_rpn_bbox: 0.0209, s0.loss_cls: 0.1130, s0.acc: 95.8594, s0.loss_bbox: 0.2305, s0.loss_mask: 0.1903, s1.loss_cls: 0.0425, s1.acc: 96.9430, s1.loss_bbox: 0.0975, s1.loss_mask: 0.0862, s2.loss_cls: 0.0196, s2.acc: 97.1192, s2.loss_bbox: 0.0399, s2.loss_mask: 0.0393, loss: 0.8968\n",
      "2021-05-13 22:37:01,690 - mmdet - INFO - Epoch [6][120/655]\tlr: 5.000e-08, eta: 10:17:41, time: 1.801, data_time: 0.020, memory: 17519, loss_rpn_cls: 0.0134, loss_rpn_bbox: 0.0126, s0.loss_cls: 0.0825, s0.acc: 96.9775, s0.loss_bbox: 0.1978, s0.loss_mask: 0.1880, s1.loss_cls: 0.0343, s1.acc: 97.4496, s1.loss_bbox: 0.0869, s1.loss_mask: 0.0857, s2.loss_cls: 0.0162, s2.acc: 97.6181, s2.loss_bbox: 0.0383, s2.loss_mask: 0.0400, loss: 0.7957\n",
      "2021-05-13 22:37:20,224 - mmdet - INFO - Epoch [6][130/655]\tlr: 5.000e-08, eta: 10:17:23, time: 1.853, data_time: 0.025, memory: 17519, loss_rpn_cls: 0.0167, loss_rpn_bbox: 0.0299, s0.loss_cls: 0.1196, s0.acc: 95.4443, s0.loss_bbox: 0.2428, s0.loss_mask: 0.2063, s1.loss_cls: 0.0501, s1.acc: 96.0959, s1.loss_bbox: 0.0986, s1.loss_mask: 0.0937, s2.loss_cls: 0.0243, s2.acc: 96.5157, s2.loss_bbox: 0.0396, s2.loss_mask: 0.0419, loss: 0.9636\n",
      "2021-05-13 22:37:38,414 - mmdet - INFO - Epoch [6][140/655]\tlr: 5.000e-08, eta: 10:17:04, time: 1.819, data_time: 0.025, memory: 17519, loss_rpn_cls: 0.0175, loss_rpn_bbox: 0.0259, s0.loss_cls: 0.1054, s0.acc: 96.1328, s0.loss_bbox: 0.2138, s0.loss_mask: 0.1833, s1.loss_cls: 0.0397, s1.acc: 97.1238, s1.loss_bbox: 0.0886, s1.loss_mask: 0.0807, s2.loss_cls: 0.0211, s2.acc: 97.0310, s2.loss_bbox: 0.0392, s2.loss_mask: 0.0378, loss: 0.8528\n",
      "2021-05-13 22:37:57,169 - mmdet - INFO - Epoch [6][150/655]\tlr: 5.000e-08, eta: 10:16:48, time: 1.875, data_time: 0.027, memory: 17519, loss_rpn_cls: 0.0211, loss_rpn_bbox: 0.0285, s0.loss_cls: 0.1445, s0.acc: 94.3896, s0.loss_bbox: 0.2899, s0.loss_mask: 0.2317, s1.loss_cls: 0.0578, s1.acc: 95.6375, s1.loss_bbox: 0.1201, s1.loss_mask: 0.1048, s2.loss_cls: 0.0276, s2.acc: 95.8142, s2.loss_bbox: 0.0491, s2.loss_mask: 0.0477, loss: 1.1228\n",
      "2021-05-13 22:38:15,714 - mmdet - INFO - Epoch [6][160/655]\tlr: 5.000e-08, eta: 10:16:31, time: 1.855, data_time: 0.024, memory: 17519, loss_rpn_cls: 0.0139, loss_rpn_bbox: 0.0230, s0.loss_cls: 0.1108, s0.acc: 95.9033, s0.loss_bbox: 0.2441, s0.loss_mask: 0.1860, s1.loss_cls: 0.0393, s1.acc: 97.1177, s1.loss_bbox: 0.1030, s1.loss_mask: 0.0829, s2.loss_cls: 0.0189, s2.acc: 97.1509, s2.loss_bbox: 0.0462, s2.loss_mask: 0.0390, loss: 0.9072\n",
      "2021-05-13 22:38:33,856 - mmdet - INFO - Epoch [6][170/655]\tlr: 5.000e-08, eta: 10:16:11, time: 1.814, data_time: 0.024, memory: 17519, loss_rpn_cls: 0.0171, loss_rpn_bbox: 0.0226, s0.loss_cls: 0.1208, s0.acc: 95.5518, s0.loss_bbox: 0.2301, s0.loss_mask: 0.1848, s1.loss_cls: 0.0456, s1.acc: 96.5532, s1.loss_bbox: 0.0964, s1.loss_mask: 0.0854, s2.loss_cls: 0.0223, s2.acc: 96.7412, s2.loss_bbox: 0.0399, s2.loss_mask: 0.0393, loss: 0.9043\n",
      "2021-05-13 22:38:51,758 - mmdet - INFO - Epoch [6][180/655]\tlr: 5.000e-08, eta: 10:15:50, time: 1.790, data_time: 0.023, memory: 17519, loss_rpn_cls: 0.0126, loss_rpn_bbox: 0.0221, s0.loss_cls: 0.1009, s0.acc: 96.2646, s0.loss_bbox: 0.2261, s0.loss_mask: 0.1933, s1.loss_cls: 0.0411, s1.acc: 96.8916, s1.loss_bbox: 0.0944, s1.loss_mask: 0.0879, s2.loss_cls: 0.0194, s2.acc: 97.2457, s2.loss_bbox: 0.0380, s2.loss_mask: 0.0395, loss: 0.8753\n",
      "2021-05-13 22:39:10,433 - mmdet - INFO - Epoch [6][190/655]\tlr: 5.000e-08, eta: 10:15:33, time: 1.868, data_time: 0.030, memory: 17519, loss_rpn_cls: 0.0281, loss_rpn_bbox: 0.0388, s0.loss_cls: 0.1375, s0.acc: 95.1172, s0.loss_bbox: 0.2744, s0.loss_mask: 0.2288, s1.loss_cls: 0.0588, s1.acc: 95.7899, s1.loss_bbox: 0.1141, s1.loss_mask: 0.0981, s2.loss_cls: 0.0287, s2.acc: 96.0513, s2.loss_bbox: 0.0449, s2.loss_mask: 0.0445, loss: 1.0968\n",
      "2021-05-13 22:39:29,124 - mmdet - INFO - Epoch [6][200/655]\tlr: 5.000e-08, eta: 10:15:17, time: 1.869, data_time: 0.026, memory: 17519, loss_rpn_cls: 0.0164, loss_rpn_bbox: 0.0249, s0.loss_cls: 0.1214, s0.acc: 95.4639, s0.loss_bbox: 0.2428, s0.loss_mask: 0.2112, s1.loss_cls: 0.0496, s1.acc: 96.3492, s1.loss_bbox: 0.1012, s1.loss_mask: 0.0922, s2.loss_cls: 0.0227, s2.acc: 96.6987, s2.loss_bbox: 0.0435, s2.loss_mask: 0.0426, loss: 0.9687\n",
      "2021-05-13 22:39:47,774 - mmdet - INFO - Epoch [6][210/655]\tlr: 5.000e-08, eta: 10:15:00, time: 1.865, data_time: 0.026, memory: 17519, loss_rpn_cls: 0.0232, loss_rpn_bbox: 0.0274, s0.loss_cls: 0.1407, s0.acc: 94.7656, s0.loss_bbox: 0.2528, s0.loss_mask: 0.1792, s1.loss_cls: 0.0546, s1.acc: 96.2717, s1.loss_bbox: 0.1054, s1.loss_mask: 0.0800, s2.loss_cls: 0.0256, s2.acc: 96.3254, s2.loss_bbox: 0.0441, s2.loss_mask: 0.0372, loss: 0.9701\n",
      "2021-05-13 22:40:06,549 - mmdet - INFO - Epoch [6][220/655]\tlr: 5.000e-08, eta: 10:14:44, time: 1.877, data_time: 0.027, memory: 17519, loss_rpn_cls: 0.0266, loss_rpn_bbox: 0.0341, s0.loss_cls: 0.1624, s0.acc: 94.1553, s0.loss_bbox: 0.3091, s0.loss_mask: 0.2144, s1.loss_cls: 0.0676, s1.acc: 95.1380, s1.loss_bbox: 0.1247, s1.loss_mask: 0.0990, s2.loss_cls: 0.0311, s2.acc: 95.6671, s2.loss_bbox: 0.0488, s2.loss_mask: 0.0448, loss: 1.1626\n",
      "2021-05-13 22:40:24,509 - mmdet - INFO - Epoch [6][230/655]\tlr: 5.000e-08, eta: 10:14:24, time: 1.796, data_time: 0.026, memory: 17519, loss_rpn_cls: 0.0177, loss_rpn_bbox: 0.0246, s0.loss_cls: 0.1092, s0.acc: 96.1621, s0.loss_bbox: 0.2127, s0.loss_mask: 0.2013, s1.loss_cls: 0.0444, s1.acc: 96.8842, s1.loss_bbox: 0.0884, s1.loss_mask: 0.0916, s2.loss_cls: 0.0208, s2.acc: 97.0233, s2.loss_bbox: 0.0357, s2.loss_mask: 0.0437, loss: 0.8902\n",
      "2021-05-13 22:40:42,924 - mmdet - INFO - Epoch [6][240/655]\tlr: 5.000e-08, eta: 10:14:05, time: 1.841, data_time: 0.024, memory: 17519, loss_rpn_cls: 0.0157, loss_rpn_bbox: 0.0202, s0.loss_cls: 0.1251, s0.acc: 95.4785, s0.loss_bbox: 0.2469, s0.loss_mask: 0.2146, s1.loss_cls: 0.0487, s1.acc: 96.6915, s1.loss_bbox: 0.1039, s1.loss_mask: 0.0983, s2.loss_cls: 0.0240, s2.acc: 96.6052, s2.loss_bbox: 0.0429, s2.loss_mask: 0.0450, loss: 0.9854\n",
      "2021-05-13 22:41:01,275 - mmdet - INFO - Epoch [6][250/655]\tlr: 5.000e-08, eta: 10:13:47, time: 1.835, data_time: 0.024, memory: 17519, loss_rpn_cls: 0.0171, loss_rpn_bbox: 0.0240, s0.loss_cls: 0.1217, s0.acc: 95.4150, s0.loss_bbox: 0.2380, s0.loss_mask: 0.2066, s1.loss_cls: 0.0465, s1.acc: 96.5911, s1.loss_bbox: 0.0973, s1.loss_mask: 0.0919, s2.loss_cls: 0.0236, s2.acc: 96.5333, s2.loss_bbox: 0.0412, s2.loss_mask: 0.0425, loss: 0.9504\n",
      "2021-05-13 22:41:19,820 - mmdet - INFO - Epoch [6][260/655]\tlr: 5.000e-08, eta: 10:13:30, time: 1.855, data_time: 0.024, memory: 17519, loss_rpn_cls: 0.0207, loss_rpn_bbox: 0.0247, s0.loss_cls: 0.1233, s0.acc: 95.4785, s0.loss_bbox: 0.2477, s0.loss_mask: 0.2016, s1.loss_cls: 0.0513, s1.acc: 96.2678, s1.loss_bbox: 0.1002, s1.loss_mask: 0.0929, s2.loss_cls: 0.0228, s2.acc: 96.8075, s2.loss_bbox: 0.0422, s2.loss_mask: 0.0426, loss: 0.9701\n",
      "2021-05-13 22:41:38,206 - mmdet - INFO - Epoch [6][270/655]\tlr: 5.000e-08, eta: 10:13:11, time: 1.839, data_time: 0.025, memory: 17519, loss_rpn_cls: 0.0189, loss_rpn_bbox: 0.0227, s0.loss_cls: 0.1291, s0.acc: 95.2344, s0.loss_bbox: 0.2615, s0.loss_mask: 0.2032, s1.loss_cls: 0.0526, s1.acc: 96.1523, s1.loss_bbox: 0.1086, s1.loss_mask: 0.0917, s2.loss_cls: 0.0245, s2.acc: 96.4758, s2.loss_bbox: 0.0443, s2.loss_mask: 0.0422, loss: 0.9994\n",
      "2021-05-13 22:41:56,993 - mmdet - INFO - Epoch [6][280/655]\tlr: 5.000e-08, eta: 10:12:56, time: 1.879, data_time: 0.025, memory: 17519, loss_rpn_cls: 0.0139, loss_rpn_bbox: 0.0194, s0.loss_cls: 0.1059, s0.acc: 95.8203, s0.loss_bbox: 0.2254, s0.loss_mask: 0.1894, s1.loss_cls: 0.0416, s1.acc: 97.0098, s1.loss_bbox: 0.0966, s1.loss_mask: 0.0875, s2.loss_cls: 0.0210, s2.acc: 96.8644, s2.loss_bbox: 0.0415, s2.loss_mask: 0.0407, loss: 0.8829\n",
      "2021-05-13 22:42:15,650 - mmdet - INFO - Epoch [6][290/655]\tlr: 5.000e-08, eta: 10:12:39, time: 1.866, data_time: 0.026, memory: 17519, loss_rpn_cls: 0.0175, loss_rpn_bbox: 0.0208, s0.loss_cls: 0.1307, s0.acc: 95.0195, s0.loss_bbox: 0.2723, s0.loss_mask: 0.2084, s1.loss_cls: 0.0551, s1.acc: 95.7569, s1.loss_bbox: 0.1142, s1.loss_mask: 0.0920, s2.loss_cls: 0.0256, s2.acc: 96.2816, s2.loss_bbox: 0.0470, s2.loss_mask: 0.0420, loss: 1.0256\n",
      "2021-05-13 22:42:34,042 - mmdet - INFO - Epoch [6][300/655]\tlr: 5.000e-08, eta: 10:12:21, time: 1.839, data_time: 0.028, memory: 17519, loss_rpn_cls: 0.0210, loss_rpn_bbox: 0.0284, s0.loss_cls: 0.1336, s0.acc: 95.1514, s0.loss_bbox: 0.2566, s0.loss_mask: 0.2152, s1.loss_cls: 0.0549, s1.acc: 96.2479, s1.loss_bbox: 0.1064, s1.loss_mask: 0.0965, s2.loss_cls: 0.0279, s2.acc: 96.1079, s2.loss_bbox: 0.0444, s2.loss_mask: 0.0443, loss: 1.0292\n",
      "2021-05-13 22:42:52,225 - mmdet - INFO - Epoch [6][310/655]\tlr: 5.000e-08, eta: 10:12:01, time: 1.818, data_time: 0.023, memory: 17519, loss_rpn_cls: 0.0190, loss_rpn_bbox: 0.0191, s0.loss_cls: 0.0991, s0.acc: 96.3574, s0.loss_bbox: 0.2027, s0.loss_mask: 0.1838, s1.loss_cls: 0.0374, s1.acc: 97.4212, s1.loss_bbox: 0.0836, s1.loss_mask: 0.0809, s2.loss_cls: 0.0175, s2.acc: 97.4377, s2.loss_bbox: 0.0364, s2.loss_mask: 0.0369, loss: 0.8164\n",
      "2021-05-13 22:43:10,567 - mmdet - INFO - Epoch [6][320/655]\tlr: 5.000e-08, eta: 10:11:43, time: 1.834, data_time: 0.023, memory: 17519, loss_rpn_cls: 0.0151, loss_rpn_bbox: 0.0207, s0.loss_cls: 0.1118, s0.acc: 96.0449, s0.loss_bbox: 0.2247, s0.loss_mask: 0.1920, s1.loss_cls: 0.0431, s1.acc: 96.9340, s1.loss_bbox: 0.0926, s1.loss_mask: 0.0897, s2.loss_cls: 0.0211, s2.acc: 96.8964, s2.loss_bbox: 0.0383, s2.loss_mask: 0.0420, loss: 0.8910\n",
      "2021-05-13 22:43:28,925 - mmdet - INFO - Epoch [6][330/655]\tlr: 5.000e-08, eta: 10:11:24, time: 1.836, data_time: 0.025, memory: 17519, loss_rpn_cls: 0.0176, loss_rpn_bbox: 0.0245, s0.loss_cls: 0.1171, s0.acc: 95.6934, s0.loss_bbox: 0.2275, s0.loss_mask: 0.1933, s1.loss_cls: 0.0461, s1.acc: 96.6208, s1.loss_bbox: 0.0953, s1.loss_mask: 0.0855, s2.loss_cls: 0.0226, s2.acc: 96.7628, s2.loss_bbox: 0.0409, s2.loss_mask: 0.0403, loss: 0.9106\n",
      "2021-05-13 22:43:47,119 - mmdet - INFO - Epoch [6][340/655]\tlr: 5.000e-08, eta: 10:11:05, time: 1.819, data_time: 0.027, memory: 17519, loss_rpn_cls: 0.0158, loss_rpn_bbox: 0.0249, s0.loss_cls: 0.1204, s0.acc: 95.5469, s0.loss_bbox: 0.2348, s0.loss_mask: 0.1829, s1.loss_cls: 0.0447, s1.acc: 96.9748, s1.loss_bbox: 0.1012, s1.loss_mask: 0.0839, s2.loss_cls: 0.0228, s2.acc: 96.6768, s2.loss_bbox: 0.0409, s2.loss_mask: 0.0390, loss: 0.9115\n",
      "2021-05-13 22:44:06,446 - mmdet - INFO - Epoch [6][350/655]\tlr: 5.000e-08, eta: 10:10:52, time: 1.933, data_time: 0.030, memory: 17519, loss_rpn_cls: 0.0213, loss_rpn_bbox: 0.0339, s0.loss_cls: 0.1461, s0.acc: 94.3213, s0.loss_bbox: 0.3061, s0.loss_mask: 0.2108, s1.loss_cls: 0.0605, s1.acc: 95.6525, s1.loss_bbox: 0.1293, s1.loss_mask: 0.0969, s2.loss_cls: 0.0289, s2.acc: 95.8477, s2.loss_bbox: 0.0556, s2.loss_mask: 0.0442, loss: 1.1336\n",
      "2021-05-13 22:44:25,092 - mmdet - INFO - Epoch [6][360/655]\tlr: 5.000e-08, eta: 10:10:35, time: 1.864, data_time: 0.024, memory: 17532, loss_rpn_cls: 0.0180, loss_rpn_bbox: 0.0272, s0.loss_cls: 0.1314, s0.acc: 95.1953, s0.loss_bbox: 0.2775, s0.loss_mask: 0.2094, s1.loss_cls: 0.0513, s1.acc: 96.2154, s1.loss_bbox: 0.1176, s1.loss_mask: 0.0955, s2.loss_cls: 0.0264, s2.acc: 96.0638, s2.loss_bbox: 0.0473, s2.loss_mask: 0.0442, loss: 1.0459\n",
      "2021-05-13 22:44:44,009 - mmdet - INFO - Epoch [6][370/655]\tlr: 5.000e-08, eta: 10:10:20, time: 1.892, data_time: 0.025, memory: 17532, loss_rpn_cls: 0.0244, loss_rpn_bbox: 0.0364, s0.loss_cls: 0.1682, s0.acc: 94.0088, s0.loss_bbox: 0.3160, s0.loss_mask: 0.2208, s1.loss_cls: 0.0706, s1.acc: 95.0502, s1.loss_bbox: 0.1343, s1.loss_mask: 0.1017, s2.loss_cls: 0.0339, s2.acc: 94.8306, s2.loss_bbox: 0.0527, s2.loss_mask: 0.0464, loss: 1.2054\n",
      "2021-05-13 22:45:02,647 - mmdet - INFO - Epoch [6][380/655]\tlr: 5.000e-08, eta: 10:10:03, time: 1.864, data_time: 0.031, memory: 17532, loss_rpn_cls: 0.0194, loss_rpn_bbox: 0.0316, s0.loss_cls: 0.1256, s0.acc: 95.6885, s0.loss_bbox: 0.2485, s0.loss_mask: 0.1878, s1.loss_cls: 0.0479, s1.acc: 96.8117, s1.loss_bbox: 0.1018, s1.loss_mask: 0.0839, s2.loss_cls: 0.0227, s2.acc: 96.9047, s2.loss_bbox: 0.0439, s2.loss_mask: 0.0393, loss: 0.9525\n",
      "2021-05-13 22:45:21,363 - mmdet - INFO - Epoch [6][390/655]\tlr: 5.000e-08, eta: 10:09:46, time: 1.872, data_time: 0.022, memory: 17532, loss_rpn_cls: 0.0172, loss_rpn_bbox: 0.0235, s0.loss_cls: 0.1190, s0.acc: 95.5957, s0.loss_bbox: 0.2625, s0.loss_mask: 0.1928, s1.loss_cls: 0.0430, s1.acc: 96.9209, s1.loss_bbox: 0.1091, s1.loss_mask: 0.0851, s2.loss_cls: 0.0204, s2.acc: 97.1401, s2.loss_bbox: 0.0467, s2.loss_mask: 0.0394, loss: 0.9586\n",
      "2021-05-13 22:45:39,850 - mmdet - INFO - Epoch [6][400/655]\tlr: 5.000e-08, eta: 10:09:29, time: 1.849, data_time: 0.022, memory: 17532, loss_rpn_cls: 0.0157, loss_rpn_bbox: 0.0167, s0.loss_cls: 0.1098, s0.acc: 96.1328, s0.loss_bbox: 0.2331, s0.loss_mask: 0.1803, s1.loss_cls: 0.0399, s1.acc: 97.0860, s1.loss_bbox: 0.1026, s1.loss_mask: 0.0835, s2.loss_cls: 0.0200, s2.acc: 96.8017, s2.loss_bbox: 0.0450, s2.loss_mask: 0.0386, loss: 0.8852\n",
      "2021-05-13 22:45:58,700 - mmdet - INFO - Epoch [6][410/655]\tlr: 5.000e-08, eta: 10:09:13, time: 1.885, data_time: 0.028, memory: 17532, loss_rpn_cls: 0.0278, loss_rpn_bbox: 0.0320, s0.loss_cls: 0.1304, s0.acc: 95.2734, s0.loss_bbox: 0.2748, s0.loss_mask: 0.2080, s1.loss_cls: 0.0560, s1.acc: 95.8113, s1.loss_bbox: 0.1181, s1.loss_mask: 0.0965, s2.loss_cls: 0.0285, s2.acc: 95.7418, s2.loss_bbox: 0.0497, s2.loss_mask: 0.0450, loss: 1.0667\n",
      "2021-05-13 22:46:17,752 - mmdet - INFO - Epoch [6][420/655]\tlr: 5.000e-08, eta: 10:08:58, time: 1.905, data_time: 0.026, memory: 17532, loss_rpn_cls: 0.0245, loss_rpn_bbox: 0.0385, s0.loss_cls: 0.1505, s0.acc: 94.2578, s0.loss_bbox: 0.3128, s0.loss_mask: 0.2122, s1.loss_cls: 0.0619, s1.acc: 95.4704, s1.loss_bbox: 0.1312, s1.loss_mask: 0.0957, s2.loss_cls: 0.0303, s2.acc: 95.4925, s2.loss_bbox: 0.0542, s2.loss_mask: 0.0435, loss: 1.1553\n",
      "2021-05-13 22:46:36,142 - mmdet - INFO - Epoch [6][430/655]\tlr: 5.000e-08, eta: 10:08:40, time: 1.839, data_time: 0.020, memory: 17532, loss_rpn_cls: 0.0187, loss_rpn_bbox: 0.0264, s0.loss_cls: 0.1155, s0.acc: 95.5566, s0.loss_bbox: 0.2466, s0.loss_mask: 0.1994, s1.loss_cls: 0.0445, s1.acc: 96.8091, s1.loss_bbox: 0.1040, s1.loss_mask: 0.0888, s2.loss_cls: 0.0212, s2.acc: 97.0017, s2.loss_bbox: 0.0445, s2.loss_mask: 0.0409, loss: 0.9506\n",
      "2021-05-13 22:46:54,112 - mmdet - INFO - Epoch [6][440/655]\tlr: 5.000e-08, eta: 10:08:19, time: 1.797, data_time: 0.018, memory: 17532, loss_rpn_cls: 0.0111, loss_rpn_bbox: 0.0168, s0.loss_cls: 0.0823, s0.acc: 96.7822, s0.loss_bbox: 0.1962, s0.loss_mask: 0.1774, s1.loss_cls: 0.0323, s1.acc: 97.6581, s1.loss_bbox: 0.0856, s1.loss_mask: 0.0808, s2.loss_cls: 0.0160, s2.acc: 97.6529, s2.loss_bbox: 0.0362, s2.loss_mask: 0.0380, loss: 0.7727\n",
      "2021-05-13 22:47:12,441 - mmdet - INFO - Epoch [6][450/655]\tlr: 5.000e-08, eta: 10:08:01, time: 1.833, data_time: 0.021, memory: 17532, loss_rpn_cls: 0.0164, loss_rpn_bbox: 0.0225, s0.loss_cls: 0.1230, s0.acc: 95.4248, s0.loss_bbox: 0.2478, s0.loss_mask: 0.2020, s1.loss_cls: 0.0462, s1.acc: 96.6608, s1.loss_bbox: 0.1012, s1.loss_mask: 0.0875, s2.loss_cls: 0.0231, s2.acc: 96.5688, s2.loss_bbox: 0.0419, s2.loss_mask: 0.0412, loss: 0.9528\n",
      "2021-05-13 22:47:31,109 - mmdet - INFO - Epoch [6][460/655]\tlr: 5.000e-08, eta: 10:07:44, time: 1.867, data_time: 0.022, memory: 17532, loss_rpn_cls: 0.0132, loss_rpn_bbox: 0.0193, s0.loss_cls: 0.1109, s0.acc: 95.9326, s0.loss_bbox: 0.2317, s0.loss_mask: 0.2074, s1.loss_cls: 0.0445, s1.acc: 96.7307, s1.loss_bbox: 0.1004, s1.loss_mask: 0.0933, s2.loss_cls: 0.0210, s2.acc: 97.0240, s2.loss_bbox: 0.0419, s2.loss_mask: 0.0434, loss: 0.9270\n",
      "2021-05-13 22:47:49,734 - mmdet - INFO - Epoch [6][470/655]\tlr: 5.000e-08, eta: 10:07:27, time: 1.862, data_time: 0.021, memory: 17532, loss_rpn_cls: 0.0115, loss_rpn_bbox: 0.0243, s0.loss_cls: 0.0962, s0.acc: 96.4453, s0.loss_bbox: 0.2195, s0.loss_mask: 0.1726, s1.loss_cls: 0.0371, s1.acc: 97.2207, s1.loss_bbox: 0.0947, s1.loss_mask: 0.0821, s2.loss_cls: 0.0186, s2.acc: 97.0278, s2.loss_bbox: 0.0409, s2.loss_mask: 0.0396, loss: 0.8371\n",
      "2021-05-13 22:48:08,924 - mmdet - INFO - Epoch [6][480/655]\tlr: 5.000e-08, eta: 10:07:13, time: 1.919, data_time: 0.028, memory: 17532, loss_rpn_cls: 0.0264, loss_rpn_bbox: 0.0330, s0.loss_cls: 0.1608, s0.acc: 93.9795, s0.loss_bbox: 0.3276, s0.loss_mask: 0.2384, s1.loss_cls: 0.0636, s1.acc: 95.2395, s1.loss_bbox: 0.1352, s1.loss_mask: 0.1043, s2.loss_cls: 0.0318, s2.acc: 95.1017, s2.loss_bbox: 0.0554, s2.loss_mask: 0.0482, loss: 1.2247\n",
      "2021-05-13 22:48:26,974 - mmdet - INFO - Epoch [6][490/655]\tlr: 5.000e-08, eta: 10:06:53, time: 1.805, data_time: 0.023, memory: 17532, loss_rpn_cls: 0.0167, loss_rpn_bbox: 0.0183, s0.loss_cls: 0.1026, s0.acc: 96.1328, s0.loss_bbox: 0.1992, s0.loss_mask: 0.1942, s1.loss_cls: 0.0379, s1.acc: 97.1858, s1.loss_bbox: 0.0844, s1.loss_mask: 0.0867, s2.loss_cls: 0.0176, s2.acc: 97.5404, s2.loss_bbox: 0.0357, s2.loss_mask: 0.0398, loss: 0.8330\n",
      "2021-05-13 22:48:45,518 - mmdet - INFO - Epoch [6][500/655]\tlr: 5.000e-08, eta: 10:06:35, time: 1.854, data_time: 0.027, memory: 17532, loss_rpn_cls: 0.0200, loss_rpn_bbox: 0.0309, s0.loss_cls: 0.1388, s0.acc: 94.8926, s0.loss_bbox: 0.2698, s0.loss_mask: 0.2141, s1.loss_cls: 0.0542, s1.acc: 96.1990, s1.loss_bbox: 0.1127, s1.loss_mask: 0.0966, s2.loss_cls: 0.0274, s2.acc: 96.0727, s2.loss_bbox: 0.0467, s2.loss_mask: 0.0449, loss: 1.0561\n",
      "2021-05-13 22:49:04,012 - mmdet - INFO - Epoch [6][510/655]\tlr: 5.000e-08, eta: 10:06:17, time: 1.849, data_time: 0.028, memory: 17532, loss_rpn_cls: 0.0250, loss_rpn_bbox: 0.0291, s0.loss_cls: 0.1342, s0.acc: 95.2783, s0.loss_bbox: 0.2593, s0.loss_mask: 0.1959, s1.loss_cls: 0.0522, s1.acc: 96.3329, s1.loss_bbox: 0.1029, s1.loss_mask: 0.0887, s2.loss_cls: 0.0239, s2.acc: 96.6018, s2.loss_bbox: 0.0433, s2.loss_mask: 0.0432, loss: 0.9976\n",
      "2021-05-13 22:49:22,699 - mmdet - INFO - Epoch [6][520/655]\tlr: 5.000e-08, eta: 10:06:00, time: 1.869, data_time: 0.027, memory: 17532, loss_rpn_cls: 0.0218, loss_rpn_bbox: 0.0323, s0.loss_cls: 0.1438, s0.acc: 94.4873, s0.loss_bbox: 0.2910, s0.loss_mask: 0.2294, s1.loss_cls: 0.0593, s1.acc: 95.7923, s1.loss_bbox: 0.1195, s1.loss_mask: 0.1006, s2.loss_cls: 0.0292, s2.acc: 95.7747, s2.loss_bbox: 0.0495, s2.loss_mask: 0.0464, loss: 1.1228\n",
      "2021-05-13 22:49:40,991 - mmdet - INFO - Epoch [6][530/655]\tlr: 5.000e-08, eta: 10:05:42, time: 1.829, data_time: 0.021, memory: 17532, loss_rpn_cls: 0.0160, loss_rpn_bbox: 0.0186, s0.loss_cls: 0.1033, s0.acc: 96.2891, s0.loss_bbox: 0.2166, s0.loss_mask: 0.1878, s1.loss_cls: 0.0418, s1.acc: 96.9919, s1.loss_bbox: 0.0899, s1.loss_mask: 0.0841, s2.loss_cls: 0.0195, s2.acc: 97.1342, s2.loss_bbox: 0.0391, s2.loss_mask: 0.0386, loss: 0.8553\n",
      "2021-05-13 22:49:59,385 - mmdet - INFO - Epoch [6][540/655]\tlr: 5.000e-08, eta: 10:05:23, time: 1.839, data_time: 0.023, memory: 17532, loss_rpn_cls: 0.0179, loss_rpn_bbox: 0.0236, s0.loss_cls: 0.1177, s0.acc: 95.5615, s0.loss_bbox: 0.2696, s0.loss_mask: 0.1976, s1.loss_cls: 0.0448, s1.acc: 96.5965, s1.loss_bbox: 0.1098, s1.loss_mask: 0.0900, s2.loss_cls: 0.0206, s2.acc: 97.2366, s2.loss_bbox: 0.0467, s2.loss_mask: 0.0426, loss: 0.9808\n",
      "2021-05-13 22:50:17,695 - mmdet - INFO - Epoch [6][550/655]\tlr: 5.000e-08, eta: 10:05:05, time: 1.831, data_time: 0.022, memory: 17532, loss_rpn_cls: 0.0208, loss_rpn_bbox: 0.0249, s0.loss_cls: 0.1238, s0.acc: 95.6201, s0.loss_bbox: 0.2484, s0.loss_mask: 0.1960, s1.loss_cls: 0.0469, s1.acc: 96.8961, s1.loss_bbox: 0.1056, s1.loss_mask: 0.0909, s2.loss_cls: 0.0237, s2.acc: 96.6788, s2.loss_bbox: 0.0439, s2.loss_mask: 0.0429, loss: 0.9677\n",
      "2021-05-13 22:50:35,564 - mmdet - INFO - Epoch [6][560/655]\tlr: 5.000e-08, eta: 10:04:44, time: 1.787, data_time: 0.019, memory: 17532, loss_rpn_cls: 0.0131, loss_rpn_bbox: 0.0142, s0.loss_cls: 0.0886, s0.acc: 96.6602, s0.loss_bbox: 0.2037, s0.loss_mask: 0.1717, s1.loss_cls: 0.0318, s1.acc: 97.7330, s1.loss_bbox: 0.0863, s1.loss_mask: 0.0769, s2.loss_cls: 0.0163, s2.acc: 97.3797, s2.loss_bbox: 0.0367, s2.loss_mask: 0.0345, loss: 0.7737\n",
      "2021-05-13 22:50:54,044 - mmdet - INFO - Epoch [6][570/655]\tlr: 5.000e-08, eta: 10:04:26, time: 1.848, data_time: 0.022, memory: 17532, loss_rpn_cls: 0.0189, loss_rpn_bbox: 0.0198, s0.loss_cls: 0.1051, s0.acc: 96.2354, s0.loss_bbox: 0.2333, s0.loss_mask: 0.1923, s1.loss_cls: 0.0367, s1.acc: 97.3711, s1.loss_bbox: 0.0996, s1.loss_mask: 0.0866, s2.loss_cls: 0.0192, s2.acc: 97.2150, s2.loss_bbox: 0.0428, s2.loss_mask: 0.0402, loss: 0.8945\n",
      "2021-05-13 22:51:12,891 - mmdet - INFO - Epoch [6][580/655]\tlr: 5.000e-08, eta: 10:04:10, time: 1.885, data_time: 0.027, memory: 17532, loss_rpn_cls: 0.0287, loss_rpn_bbox: 0.0413, s0.loss_cls: 0.1496, s0.acc: 94.5166, s0.loss_bbox: 0.2895, s0.loss_mask: 0.2307, s1.loss_cls: 0.0597, s1.acc: 95.7390, s1.loss_bbox: 0.1188, s1.loss_mask: 0.1017, s2.loss_cls: 0.0282, s2.acc: 96.0176, s2.loss_bbox: 0.0486, s2.loss_mask: 0.0462, loss: 1.1431\n",
      "2021-05-13 22:51:31,374 - mmdet - INFO - Epoch [6][590/655]\tlr: 5.000e-08, eta: 10:03:52, time: 1.848, data_time: 0.021, memory: 17532, loss_rpn_cls: 0.0161, loss_rpn_bbox: 0.0244, s0.loss_cls: 0.1040, s0.acc: 96.1865, s0.loss_bbox: 0.2411, s0.loss_mask: 0.1949, s1.loss_cls: 0.0436, s1.acc: 96.7379, s1.loss_bbox: 0.1028, s1.loss_mask: 0.0905, s2.loss_cls: 0.0195, s2.acc: 96.9136, s2.loss_bbox: 0.0436, s2.loss_mask: 0.0429, loss: 0.9235\n",
      "2021-05-13 22:51:49,167 - mmdet - INFO - Epoch [6][600/655]\tlr: 5.000e-08, eta: 10:03:31, time: 1.779, data_time: 0.021, memory: 17532, loss_rpn_cls: 0.0108, loss_rpn_bbox: 0.0150, s0.loss_cls: 0.0977, s0.acc: 96.5869, s0.loss_bbox: 0.1901, s0.loss_mask: 0.1882, s1.loss_cls: 0.0355, s1.acc: 97.5826, s1.loss_bbox: 0.0846, s1.loss_mask: 0.0870, s2.loss_cls: 0.0187, s2.acc: 97.3968, s2.loss_bbox: 0.0360, s2.loss_mask: 0.0405, loss: 0.8042\n",
      "2021-05-13 22:52:07,255 - mmdet - INFO - Epoch [6][610/655]\tlr: 5.000e-08, eta: 10:03:11, time: 1.809, data_time: 0.024, memory: 17532, loss_rpn_cls: 0.0194, loss_rpn_bbox: 0.0223, s0.loss_cls: 0.1083, s0.acc: 95.9326, s0.loss_bbox: 0.2159, s0.loss_mask: 0.1896, s1.loss_cls: 0.0451, s1.acc: 96.5981, s1.loss_bbox: 0.0935, s1.loss_mask: 0.0881, s2.loss_cls: 0.0203, s2.acc: 97.1993, s2.loss_bbox: 0.0396, s2.loss_mask: 0.0415, loss: 0.8835\n",
      "2021-05-13 22:52:25,351 - mmdet - INFO - Epoch [6][620/655]\tlr: 5.000e-08, eta: 10:02:51, time: 1.810, data_time: 0.023, memory: 17532, loss_rpn_cls: 0.0180, loss_rpn_bbox: 0.0187, s0.loss_cls: 0.1109, s0.acc: 95.9717, s0.loss_bbox: 0.2294, s0.loss_mask: 0.1921, s1.loss_cls: 0.0404, s1.acc: 97.1031, s1.loss_bbox: 0.0968, s1.loss_mask: 0.0842, s2.loss_cls: 0.0210, s2.acc: 96.9307, s2.loss_bbox: 0.0412, s2.loss_mask: 0.0390, loss: 0.8918\n",
      "2021-05-13 22:52:43,970 - mmdet - INFO - Epoch [6][630/655]\tlr: 5.000e-08, eta: 10:02:34, time: 1.862, data_time: 0.025, memory: 17532, loss_rpn_cls: 0.0233, loss_rpn_bbox: 0.0289, s0.loss_cls: 0.1320, s0.acc: 95.1270, s0.loss_bbox: 0.2570, s0.loss_mask: 0.1993, s1.loss_cls: 0.0504, s1.acc: 96.7533, s1.loss_bbox: 0.1016, s1.loss_mask: 0.0894, s2.loss_cls: 0.0220, s2.acc: 97.0034, s2.loss_bbox: 0.0450, s2.loss_mask: 0.0424, loss: 0.9914\n",
      "2021-05-13 22:53:02,253 - mmdet - INFO - Epoch [6][640/655]\tlr: 5.000e-08, eta: 10:02:15, time: 1.828, data_time: 0.021, memory: 17532, loss_rpn_cls: 0.0178, loss_rpn_bbox: 0.0277, s0.loss_cls: 0.1091, s0.acc: 95.9375, s0.loss_bbox: 0.2398, s0.loss_mask: 0.1776, s1.loss_cls: 0.0410, s1.acc: 97.0170, s1.loss_bbox: 0.1001, s1.loss_mask: 0.0763, s2.loss_cls: 0.0190, s2.acc: 97.2612, s2.loss_bbox: 0.0420, s2.loss_mask: 0.0351, loss: 0.8854\n",
      "2021-05-13 22:53:20,310 - mmdet - INFO - Epoch [6][650/655]\tlr: 5.000e-08, eta: 10:01:55, time: 1.806, data_time: 0.022, memory: 17532, loss_rpn_cls: 0.0165, loss_rpn_bbox: 0.0257, s0.loss_cls: 0.1103, s0.acc: 95.8398, s0.loss_bbox: 0.2326, s0.loss_mask: 0.1952, s1.loss_cls: 0.0466, s1.acc: 96.5031, s1.loss_bbox: 0.1004, s1.loss_mask: 0.0924, s2.loss_cls: 0.0215, s2.acc: 96.8318, s2.loss_bbox: 0.0427, s2.loss_mask: 0.0427, loss: 0.9264\n",
      "2021-05-13 22:53:29,376 - mmdet - INFO - Saving checkpoint at 6 epochs\n"
     ]
    },
    {
     "name": "stdout",
     "output_type": "stream",
     "text": [
      "[>>>>>>>>>>>>>>>>>>>>>>>>>>>>>] 655/655, 4.8 task/s, elapsed: 137s, ETA:     0s"
     ]
    },
    {
     "name": "stderr",
     "output_type": "stream",
     "text": [
      "2021-05-13 22:55:51,398 - mmdet - INFO - Evaluating bbox...\n"
     ]
    },
    {
     "name": "stdout",
     "output_type": "stream",
     "text": [
      "Loading and preparing results...\n",
      "DONE (t=0.05s)\n",
      "creating index...\n",
      "index created!\n",
      "Running per image evaluation...\n",
      "Evaluate annotation type *bbox*\n",
      "DONE (t=4.31s).\n",
      "Accumulating evaluation results...\n"
     ]
    },
    {
     "name": "stderr",
     "output_type": "stream",
     "text": [
      "2021-05-13 22:55:56,276 - mmdet - INFO - Evaluating segm...\n"
     ]
    },
    {
     "name": "stdout",
     "output_type": "stream",
     "text": [
      "DONE (t=0.50s).\n",
      "Average Precision  (AP) @[ IoU=0.50:0.95 | area=   all | maxDets=100 ] = 0.281\n",
      "Average Precision  (AP) @[ IoU=0.50      | area=   all | maxDets=1000 ] = 0.454\n",
      "Average Precision  (AP) @[ IoU=0.75      | area=   all | maxDets=1000 ] = 0.271\n",
      "Average Precision  (AP) @[ IoU=0.50:0.95 | area= small | maxDets=1000 ] = 0.046\n",
      "Average Precision  (AP) @[ IoU=0.50:0.95 | area=medium | maxDets=1000 ] = 0.251\n",
      "Average Precision  (AP) @[ IoU=0.50:0.95 | area= large | maxDets=1000 ] = 0.498\n",
      "Average Recall     (AR) @[ IoU=0.50:0.95 | area=   all | maxDets=100 ] = 0.371\n",
      "Average Recall     (AR) @[ IoU=0.50:0.95 | area=   all | maxDets=300 ] = 0.371\n",
      "Average Recall     (AR) @[ IoU=0.50:0.95 | area=   all | maxDets=1000 ] = 0.371\n",
      "Average Recall     (AR) @[ IoU=0.50:0.95 | area= small | maxDets=1000 ] = 0.110\n",
      "Average Recall     (AR) @[ IoU=0.50:0.95 | area=medium | maxDets=1000 ] = 0.348\n",
      "Average Recall     (AR) @[ IoU=0.50:0.95 | area= large | maxDets=1000 ] = 0.590\n",
      "Loading and preparing results...\n",
      "DONE (t=0.09s)\n",
      "creating index...\n",
      "index created!\n",
      "Running per image evaluation...\n",
      "Evaluate annotation type *segm*\n",
      "DONE (t=4.00s).\n",
      "Accumulating evaluation results...\n"
     ]
    },
    {
     "name": "stderr",
     "output_type": "stream",
     "text": [
      "2021-05-13 22:56:00,962 - mmdet - INFO - Epoch(val) [6][655]\tbbox_mAP: 0.2810, bbox_mAP_50: 0.4540, bbox_mAP_75: 0.2710, bbox_mAP_s: 0.0460, bbox_mAP_m: 0.2510, bbox_mAP_l: 0.4980, bbox_mAP_copypaste: 0.281 0.454 0.271 0.046 0.251 0.498, segm_mAP: 0.2570, segm_mAP_50: 0.4240, segm_mAP_75: 0.2550, segm_mAP_s: 0.0330, segm_mAP_m: 0.2230, segm_mAP_l: 0.4850, segm_mAP_copypaste: 0.257 0.424 0.255 0.033 0.223 0.485\n"
     ]
    },
    {
     "name": "stdout",
     "output_type": "stream",
     "text": [
      "DONE (t=0.49s).\n",
      "Average Precision  (AP) @[ IoU=0.50:0.95 | area=   all | maxDets=100 ] = 0.257\n",
      "Average Precision  (AP) @[ IoU=0.50      | area=   all | maxDets=1000 ] = 0.424\n",
      "Average Precision  (AP) @[ IoU=0.75      | area=   all | maxDets=1000 ] = 0.255\n",
      "Average Precision  (AP) @[ IoU=0.50:0.95 | area= small | maxDets=1000 ] = 0.033\n",
      "Average Precision  (AP) @[ IoU=0.50:0.95 | area=medium | maxDets=1000 ] = 0.223\n",
      "Average Precision  (AP) @[ IoU=0.50:0.95 | area= large | maxDets=1000 ] = 0.485\n",
      "Average Recall     (AR) @[ IoU=0.50:0.95 | area=   all | maxDets=100 ] = 0.342\n",
      "Average Recall     (AR) @[ IoU=0.50:0.95 | area=   all | maxDets=300 ] = 0.342\n",
      "Average Recall     (AR) @[ IoU=0.50:0.95 | area=   all | maxDets=1000 ] = 0.342\n",
      "Average Recall     (AR) @[ IoU=0.50:0.95 | area= small | maxDets=1000 ] = 0.082\n",
      "Average Recall     (AR) @[ IoU=0.50:0.95 | area=medium | maxDets=1000 ] = 0.312\n",
      "Average Recall     (AR) @[ IoU=0.50:0.95 | area= large | maxDets=1000 ] = 0.577\n"
     ]
    },
    {
     "name": "stderr",
     "output_type": "stream",
     "text": [
      "2021-05-13 22:56:22,056 - mmdet - INFO - Epoch [7][10/655]\tlr: 5.000e-08, eta: 10:00:55, time: 2.108, data_time: 0.260, memory: 17532, loss_rpn_cls: 0.0240, loss_rpn_bbox: 0.0240, s0.loss_cls: 0.1334, s0.acc: 95.0244, s0.loss_bbox: 0.2693, s0.loss_mask: 0.2086, s1.loss_cls: 0.0529, s1.acc: 96.0629, s1.loss_bbox: 0.1142, s1.loss_mask: 0.0958, s2.loss_cls: 0.0251, s2.acc: 96.2990, s2.loss_bbox: 0.0488, s2.loss_mask: 0.0452, loss: 1.0413\n",
      "2021-05-13 22:56:40,873 - mmdet - INFO - Epoch [7][20/655]\tlr: 5.000e-08, eta: 10:00:39, time: 1.882, data_time: 0.028, memory: 17532, loss_rpn_cls: 0.0261, loss_rpn_bbox: 0.0327, s0.loss_cls: 0.1403, s0.acc: 94.9854, s0.loss_bbox: 0.2730, s0.loss_mask: 0.2131, s1.loss_cls: 0.0564, s1.acc: 96.0828, s1.loss_bbox: 0.1137, s1.loss_mask: 0.0978, s2.loss_cls: 0.0264, s2.acc: 96.0200, s2.loss_bbox: 0.0476, s2.loss_mask: 0.0458, loss: 1.0729\n",
      "2021-05-13 22:56:59,132 - mmdet - INFO - Epoch [7][30/655]\tlr: 5.000e-08, eta: 10:00:20, time: 1.826, data_time: 0.021, memory: 17532, loss_rpn_cls: 0.0174, loss_rpn_bbox: 0.0199, s0.loss_cls: 0.1027, s0.acc: 96.2109, s0.loss_bbox: 0.2343, s0.loss_mask: 0.2107, s1.loss_cls: 0.0376, s1.acc: 97.1489, s1.loss_bbox: 0.0971, s1.loss_mask: 0.0972, s2.loss_cls: 0.0180, s2.acc: 97.3843, s2.loss_bbox: 0.0405, s2.loss_mask: 0.0453, loss: 0.9208\n",
      "2021-05-13 22:57:17,666 - mmdet - INFO - Epoch [7][40/655]\tlr: 5.000e-08, eta: 10:00:03, time: 1.853, data_time: 0.024, memory: 17532, loss_rpn_cls: 0.0202, loss_rpn_bbox: 0.0255, s0.loss_cls: 0.1156, s0.acc: 95.4883, s0.loss_bbox: 0.2542, s0.loss_mask: 0.1964, s1.loss_cls: 0.0439, s1.acc: 96.4882, s1.loss_bbox: 0.1055, s1.loss_mask: 0.0850, s2.loss_cls: 0.0210, s2.acc: 96.8668, s2.loss_bbox: 0.0449, s2.loss_mask: 0.0402, loss: 0.9524\n",
      "2021-05-13 22:57:36,708 - mmdet - INFO - Epoch [7][50/655]\tlr: 5.000e-08, eta: 9:59:48, time: 1.904, data_time: 0.025, memory: 17532, loss_rpn_cls: 0.0130, loss_rpn_bbox: 0.0222, s0.loss_cls: 0.1283, s0.acc: 95.1562, s0.loss_bbox: 0.2854, s0.loss_mask: 0.1965, s1.loss_cls: 0.0518, s1.acc: 96.4125, s1.loss_bbox: 0.1242, s1.loss_mask: 0.0908, s2.loss_cls: 0.0266, s2.acc: 96.1444, s2.loss_bbox: 0.0525, s2.loss_mask: 0.0425, loss: 1.0336\n",
      "2021-05-13 22:57:55,020 - mmdet - INFO - Epoch [7][60/655]\tlr: 5.000e-08, eta: 9:59:29, time: 1.831, data_time: 0.024, memory: 17532, loss_rpn_cls: 0.0189, loss_rpn_bbox: 0.0285, s0.loss_cls: 0.1256, s0.acc: 95.1221, s0.loss_bbox: 0.2592, s0.loss_mask: 0.2097, s1.loss_cls: 0.0516, s1.acc: 96.1751, s1.loss_bbox: 0.1093, s1.loss_mask: 0.0944, s2.loss_cls: 0.0242, s2.acc: 96.3143, s2.loss_bbox: 0.0460, s2.loss_mask: 0.0427, loss: 1.0102\n",
      "2021-05-13 22:58:12,952 - mmdet - INFO - Epoch [7][70/655]\tlr: 5.000e-08, eta: 9:59:09, time: 1.793, data_time: 0.021, memory: 17532, loss_rpn_cls: 0.0173, loss_rpn_bbox: 0.0169, s0.loss_cls: 0.0888, s0.acc: 96.6895, s0.loss_bbox: 0.1980, s0.loss_mask: 0.1749, s1.loss_cls: 0.0314, s1.acc: 97.8114, s1.loss_bbox: 0.0849, s1.loss_mask: 0.0801, s2.loss_cls: 0.0157, s2.acc: 97.6607, s2.loss_bbox: 0.0349, s2.loss_mask: 0.0367, loss: 0.7795\n",
      "2021-05-13 22:58:31,502 - mmdet - INFO - Epoch [7][80/655]\tlr: 5.000e-08, eta: 9:58:51, time: 1.855, data_time: 0.026, memory: 17532, loss_rpn_cls: 0.0269, loss_rpn_bbox: 0.0276, s0.loss_cls: 0.1383, s0.acc: 95.1123, s0.loss_bbox: 0.2741, s0.loss_mask: 0.2217, s1.loss_cls: 0.0564, s1.acc: 96.3332, s1.loss_bbox: 0.1105, s1.loss_mask: 0.0956, s2.loss_cls: 0.0239, s2.acc: 96.5280, s2.loss_bbox: 0.0441, s2.loss_mask: 0.0427, loss: 1.0616\n",
      "2021-05-13 22:58:49,971 - mmdet - INFO - Epoch [7][90/655]\tlr: 5.000e-08, eta: 9:58:33, time: 1.847, data_time: 0.022, memory: 17532, loss_rpn_cls: 0.0175, loss_rpn_bbox: 0.0266, s0.loss_cls: 0.1180, s0.acc: 95.5469, s0.loss_bbox: 0.2550, s0.loss_mask: 0.2156, s1.loss_cls: 0.0481, s1.acc: 96.3826, s1.loss_bbox: 0.1009, s1.loss_mask: 0.0936, s2.loss_cls: 0.0235, s2.acc: 96.6234, s2.loss_bbox: 0.0401, s2.loss_mask: 0.0434, loss: 0.9822\n",
      "2021-05-13 22:59:08,504 - mmdet - INFO - Epoch [7][100/655]\tlr: 5.000e-08, eta: 9:58:16, time: 1.853, data_time: 0.022, memory: 17532, loss_rpn_cls: 0.0202, loss_rpn_bbox: 0.0293, s0.loss_cls: 0.1237, s0.acc: 95.5420, s0.loss_bbox: 0.2534, s0.loss_mask: 0.1987, s1.loss_cls: 0.0465, s1.acc: 96.7736, s1.loss_bbox: 0.1002, s1.loss_mask: 0.0897, s2.loss_cls: 0.0225, s2.acc: 96.6066, s2.loss_bbox: 0.0435, s2.loss_mask: 0.0422, loss: 0.9700\n",
      "2021-05-13 22:59:27,503 - mmdet - INFO - Epoch [7][110/655]\tlr: 5.000e-08, eta: 9:58:01, time: 1.900, data_time: 0.024, memory: 17532, loss_rpn_cls: 0.0232, loss_rpn_bbox: 0.0277, s0.loss_cls: 0.1559, s0.acc: 94.2383, s0.loss_bbox: 0.3144, s0.loss_mask: 0.2125, s1.loss_cls: 0.0668, s1.acc: 95.2198, s1.loss_bbox: 0.1307, s1.loss_mask: 0.0941, s2.loss_cls: 0.0318, s2.acc: 95.2062, s2.loss_bbox: 0.0529, s2.loss_mask: 0.0424, loss: 1.1525\n",
      "2021-05-13 22:59:46,193 - mmdet - INFO - Epoch [7][120/655]\tlr: 5.000e-08, eta: 9:57:44, time: 1.869, data_time: 0.021, memory: 17532, loss_rpn_cls: 0.0223, loss_rpn_bbox: 0.0257, s0.loss_cls: 0.1209, s0.acc: 95.6592, s0.loss_bbox: 0.2588, s0.loss_mask: 0.1888, s1.loss_cls: 0.0463, s1.acc: 96.7273, s1.loss_bbox: 0.1122, s1.loss_mask: 0.0900, s2.loss_cls: 0.0213, s2.acc: 97.0119, s2.loss_bbox: 0.0496, s2.loss_mask: 0.0425, loss: 0.9784\n",
      "2021-05-13 23:00:04,950 - mmdet - INFO - Epoch [7][130/655]\tlr: 5.000e-08, eta: 9:57:27, time: 1.876, data_time: 0.025, memory: 17532, loss_rpn_cls: 0.0261, loss_rpn_bbox: 0.0280, s0.loss_cls: 0.1405, s0.acc: 94.9072, s0.loss_bbox: 0.2706, s0.loss_mask: 0.2169, s1.loss_cls: 0.0578, s1.acc: 96.1324, s1.loss_bbox: 0.1075, s1.loss_mask: 0.0979, s2.loss_cls: 0.0279, s2.acc: 95.9524, s2.loss_bbox: 0.0447, s2.loss_mask: 0.0451, loss: 1.0630\n",
      "2021-05-13 23:00:23,843 - mmdet - INFO - Epoch [7][140/655]\tlr: 5.000e-08, eta: 9:57:11, time: 1.889, data_time: 0.021, memory: 17532, loss_rpn_cls: 0.0182, loss_rpn_bbox: 0.0302, s0.loss_cls: 0.1484, s0.acc: 94.5459, s0.loss_bbox: 0.2834, s0.loss_mask: 0.2202, s1.loss_cls: 0.0594, s1.acc: 95.5119, s1.loss_bbox: 0.1192, s1.loss_mask: 0.0999, s2.loss_cls: 0.0281, s2.acc: 95.8086, s2.loss_bbox: 0.0489, s2.loss_mask: 0.0463, loss: 1.1023\n",
      "2021-05-13 23:00:42,133 - mmdet - INFO - Epoch [7][150/655]\tlr: 5.000e-08, eta: 9:56:53, time: 1.829, data_time: 0.023, memory: 17532, loss_rpn_cls: 0.0171, loss_rpn_bbox: 0.0202, s0.loss_cls: 0.1042, s0.acc: 96.0986, s0.loss_bbox: 0.2317, s0.loss_mask: 0.1912, s1.loss_cls: 0.0431, s1.acc: 96.7457, s1.loss_bbox: 0.0961, s1.loss_mask: 0.0836, s2.loss_cls: 0.0209, s2.acc: 96.9248, s2.loss_bbox: 0.0404, s2.loss_mask: 0.0389, loss: 0.8873\n",
      "2021-05-13 23:01:00,490 - mmdet - INFO - Epoch [7][160/655]\tlr: 5.000e-08, eta: 9:56:34, time: 1.836, data_time: 0.024, memory: 17532, loss_rpn_cls: 0.0148, loss_rpn_bbox: 0.0257, s0.loss_cls: 0.1114, s0.acc: 95.9521, s0.loss_bbox: 0.2546, s0.loss_mask: 0.2189, s1.loss_cls: 0.0446, s1.acc: 96.5089, s1.loss_bbox: 0.1059, s1.loss_mask: 0.1011, s2.loss_cls: 0.0227, s2.acc: 96.3656, s2.loss_bbox: 0.0426, s2.loss_mask: 0.0444, loss: 0.9868\n",
      "2021-05-13 23:01:18,675 - mmdet - INFO - Epoch [7][170/655]\tlr: 5.000e-08, eta: 9:56:15, time: 1.818, data_time: 0.023, memory: 17532, loss_rpn_cls: 0.0157, loss_rpn_bbox: 0.0223, s0.loss_cls: 0.0873, s0.acc: 96.7041, s0.loss_bbox: 0.2003, s0.loss_mask: 0.1776, s1.loss_cls: 0.0317, s1.acc: 97.6631, s1.loss_bbox: 0.0818, s1.loss_mask: 0.0822, s2.loss_cls: 0.0147, s2.acc: 97.9193, s2.loss_bbox: 0.0364, s2.loss_mask: 0.0386, loss: 0.7886\n",
      "2021-05-13 23:01:36,657 - mmdet - INFO - Epoch [7][180/655]\tlr: 5.000e-08, eta: 9:55:55, time: 1.798, data_time: 0.022, memory: 17532, loss_rpn_cls: 0.0171, loss_rpn_bbox: 0.0174, s0.loss_cls: 0.0920, s0.acc: 96.3721, s0.loss_bbox: 0.2021, s0.loss_mask: 0.1958, s1.loss_cls: 0.0382, s1.acc: 97.3444, s1.loss_bbox: 0.0850, s1.loss_mask: 0.0889, s2.loss_cls: 0.0191, s2.acc: 97.3866, s2.loss_bbox: 0.0371, s2.loss_mask: 0.0422, loss: 0.8349\n",
      "2021-05-13 23:01:55,024 - mmdet - INFO - Epoch [7][190/655]\tlr: 5.000e-08, eta: 9:55:37, time: 1.837, data_time: 0.025, memory: 17532, loss_rpn_cls: 0.0212, loss_rpn_bbox: 0.0269, s0.loss_cls: 0.1362, s0.acc: 95.2783, s0.loss_bbox: 0.2578, s0.loss_mask: 0.1942, s1.loss_cls: 0.0540, s1.acc: 96.0532, s1.loss_bbox: 0.1093, s1.loss_mask: 0.0895, s2.loss_cls: 0.0257, s2.acc: 96.3223, s2.loss_bbox: 0.0430, s2.loss_mask: 0.0407, loss: 0.9985\n",
      "2021-05-13 23:02:13,632 - mmdet - INFO - Epoch [7][200/655]\tlr: 5.000e-08, eta: 9:55:19, time: 1.861, data_time: 0.026, memory: 17532, loss_rpn_cls: 0.0213, loss_rpn_bbox: 0.0334, s0.loss_cls: 0.1281, s0.acc: 95.0439, s0.loss_bbox: 0.2683, s0.loss_mask: 0.2213, s1.loss_cls: 0.0496, s1.acc: 96.4658, s1.loss_bbox: 0.1130, s1.loss_mask: 0.0991, s2.loss_cls: 0.0246, s2.acc: 96.5616, s2.loss_bbox: 0.0480, s2.loss_mask: 0.0455, loss: 1.0523\n",
      "2021-05-13 23:02:32,120 - mmdet - INFO - Epoch [7][210/655]\tlr: 5.000e-08, eta: 9:55:02, time: 1.849, data_time: 0.022, memory: 17532, loss_rpn_cls: 0.0181, loss_rpn_bbox: 0.0258, s0.loss_cls: 0.1242, s0.acc: 95.2441, s0.loss_bbox: 0.2498, s0.loss_mask: 0.2059, s1.loss_cls: 0.0492, s1.acc: 96.4808, s1.loss_bbox: 0.1058, s1.loss_mask: 0.0985, s2.loss_cls: 0.0226, s2.acc: 97.1058, s2.loss_bbox: 0.0438, s2.loss_mask: 0.0455, loss: 0.9892\n",
      "2021-05-13 23:02:50,252 - mmdet - INFO - Epoch [7][220/655]\tlr: 5.000e-08, eta: 9:54:42, time: 1.813, data_time: 0.020, memory: 17532, loss_rpn_cls: 0.0218, loss_rpn_bbox: 0.0282, s0.loss_cls: 0.1237, s0.acc: 95.5420, s0.loss_bbox: 0.2384, s0.loss_mask: 0.2084, s1.loss_cls: 0.0509, s1.acc: 96.3783, s1.loss_bbox: 0.0998, s1.loss_mask: 0.0948, s2.loss_cls: 0.0246, s2.acc: 96.2925, s2.loss_bbox: 0.0406, s2.loss_mask: 0.0431, loss: 0.9743\n",
      "2021-05-13 23:03:08,660 - mmdet - INFO - Epoch [7][230/655]\tlr: 5.000e-08, eta: 9:54:24, time: 1.841, data_time: 0.023, memory: 17532, loss_rpn_cls: 0.0165, loss_rpn_bbox: 0.0220, s0.loss_cls: 0.1116, s0.acc: 95.8008, s0.loss_bbox: 0.2287, s0.loss_mask: 0.1989, s1.loss_cls: 0.0400, s1.acc: 97.1881, s1.loss_bbox: 0.1013, s1.loss_mask: 0.0885, s2.loss_cls: 0.0197, s2.acc: 97.1548, s2.loss_bbox: 0.0465, s2.loss_mask: 0.0417, loss: 0.9155\n",
      "2021-05-13 23:03:26,546 - mmdet - INFO - Epoch [7][240/655]\tlr: 5.000e-08, eta: 9:54:03, time: 1.788, data_time: 0.022, memory: 17532, loss_rpn_cls: 0.0137, loss_rpn_bbox: 0.0174, s0.loss_cls: 0.1043, s0.acc: 96.2158, s0.loss_bbox: 0.2224, s0.loss_mask: 0.2047, s1.loss_cls: 0.0393, s1.acc: 97.0324, s1.loss_bbox: 0.0969, s1.loss_mask: 0.0926, s2.loss_cls: 0.0193, s2.acc: 96.9334, s2.loss_bbox: 0.0412, s2.loss_mask: 0.0426, loss: 0.8944\n",
      "2021-05-13 23:03:45,082 - mmdet - INFO - Epoch [7][250/655]\tlr: 5.000e-08, eta: 9:53:46, time: 1.854, data_time: 0.027, memory: 17532, loss_rpn_cls: 0.0257, loss_rpn_bbox: 0.0326, s0.loss_cls: 0.1409, s0.acc: 94.9170, s0.loss_bbox: 0.2829, s0.loss_mask: 0.2263, s1.loss_cls: 0.0583, s1.acc: 95.9073, s1.loss_bbox: 0.1173, s1.loss_mask: 0.1019, s2.loss_cls: 0.0292, s2.acc: 95.9424, s2.loss_bbox: 0.0491, s2.loss_mask: 0.0478, loss: 1.1120\n",
      "2021-05-13 23:04:03,522 - mmdet - INFO - Epoch [7][260/655]\tlr: 5.000e-08, eta: 9:53:28, time: 1.844, data_time: 0.025, memory: 17532, loss_rpn_cls: 0.0205, loss_rpn_bbox: 0.0261, s0.loss_cls: 0.1127, s0.acc: 95.7861, s0.loss_bbox: 0.2360, s0.loss_mask: 0.1779, s1.loss_cls: 0.0455, s1.acc: 96.8828, s1.loss_bbox: 0.1038, s1.loss_mask: 0.0834, s2.loss_cls: 0.0197, s2.acc: 97.0822, s2.loss_bbox: 0.0447, s2.loss_mask: 0.0377, loss: 0.9078\n",
      "2021-05-13 23:04:21,939 - mmdet - INFO - Epoch [7][270/655]\tlr: 5.000e-08, eta: 9:53:10, time: 1.842, data_time: 0.027, memory: 17532, loss_rpn_cls: 0.0272, loss_rpn_bbox: 0.0272, s0.loss_cls: 0.1423, s0.acc: 95.1318, s0.loss_bbox: 0.2621, s0.loss_mask: 0.1916, s1.loss_cls: 0.0582, s1.acc: 96.0258, s1.loss_bbox: 0.1062, s1.loss_mask: 0.0890, s2.loss_cls: 0.0271, s2.acc: 96.2063, s2.loss_bbox: 0.0431, s2.loss_mask: 0.0401, loss: 1.0141\n",
      "2021-05-13 23:04:40,304 - mmdet - INFO - Epoch [7][280/655]\tlr: 5.000e-08, eta: 9:52:51, time: 1.836, data_time: 0.027, memory: 17532, loss_rpn_cls: 0.0214, loss_rpn_bbox: 0.0276, s0.loss_cls: 0.1267, s0.acc: 95.4541, s0.loss_bbox: 0.2566, s0.loss_mask: 0.2121, s1.loss_cls: 0.0532, s1.acc: 96.1633, s1.loss_bbox: 0.1038, s1.loss_mask: 0.0973, s2.loss_cls: 0.0256, s2.acc: 96.2787, s2.loss_bbox: 0.0426, s2.loss_mask: 0.0448, loss: 1.0118\n",
      "2021-05-13 23:04:58,741 - mmdet - INFO - Epoch [7][290/655]\tlr: 5.000e-08, eta: 9:52:33, time: 1.844, data_time: 0.022, memory: 17532, loss_rpn_cls: 0.0141, loss_rpn_bbox: 0.0158, s0.loss_cls: 0.0946, s0.acc: 96.3818, s0.loss_bbox: 0.2200, s0.loss_mask: 0.2039, s1.loss_cls: 0.0340, s1.acc: 97.4810, s1.loss_bbox: 0.0933, s1.loss_mask: 0.0908, s2.loss_cls: 0.0172, s2.acc: 97.4389, s2.loss_bbox: 0.0409, s2.loss_mask: 0.0432, loss: 0.8678\n",
      "2021-05-13 23:05:17,822 - mmdet - INFO - Epoch [7][300/655]\tlr: 5.000e-08, eta: 9:52:18, time: 1.908, data_time: 0.023, memory: 17532, loss_rpn_cls: 0.0234, loss_rpn_bbox: 0.0292, s0.loss_cls: 0.1297, s0.acc: 95.2197, s0.loss_bbox: 0.2935, s0.loss_mask: 0.2120, s1.loss_cls: 0.0512, s1.acc: 96.2392, s1.loss_bbox: 0.1231, s1.loss_mask: 0.0919, s2.loss_cls: 0.0264, s2.acc: 95.9743, s2.loss_bbox: 0.0506, s2.loss_mask: 0.0418, loss: 1.0730\n",
      "2021-05-13 23:05:36,639 - mmdet - INFO - Epoch [7][310/655]\tlr: 5.000e-08, eta: 9:52:02, time: 1.882, data_time: 0.023, memory: 17532, loss_rpn_cls: 0.0211, loss_rpn_bbox: 0.0322, s0.loss_cls: 0.1420, s0.acc: 94.9268, s0.loss_bbox: 0.2601, s0.loss_mask: 0.2046, s1.loss_cls: 0.0582, s1.acc: 96.2163, s1.loss_bbox: 0.1097, s1.loss_mask: 0.0912, s2.loss_cls: 0.0274, s2.acc: 96.3708, s2.loss_bbox: 0.0460, s2.loss_mask: 0.0415, loss: 1.0340\n",
      "2021-05-13 23:05:55,091 - mmdet - INFO - Epoch [7][320/655]\tlr: 5.000e-08, eta: 9:51:44, time: 1.845, data_time: 0.026, memory: 17532, loss_rpn_cls: 0.0203, loss_rpn_bbox: 0.0253, s0.loss_cls: 0.1192, s0.acc: 95.8154, s0.loss_bbox: 0.2399, s0.loss_mask: 0.1817, s1.loss_cls: 0.0451, s1.acc: 96.9690, s1.loss_bbox: 0.0997, s1.loss_mask: 0.0833, s2.loss_cls: 0.0224, s2.acc: 96.8618, s2.loss_bbox: 0.0437, s2.loss_mask: 0.0394, loss: 0.9201\n",
      "2021-05-13 23:06:13,471 - mmdet - INFO - Epoch [7][330/655]\tlr: 5.000e-08, eta: 9:51:26, time: 1.838, data_time: 0.025, memory: 17532, loss_rpn_cls: 0.0147, loss_rpn_bbox: 0.0233, s0.loss_cls: 0.1089, s0.acc: 96.1328, s0.loss_bbox: 0.2398, s0.loss_mask: 0.1943, s1.loss_cls: 0.0408, s1.acc: 97.2916, s1.loss_bbox: 0.0976, s1.loss_mask: 0.0908, s2.loss_cls: 0.0189, s2.acc: 97.2225, s2.loss_bbox: 0.0417, s2.loss_mask: 0.0408, loss: 0.9116\n",
      "2021-05-13 23:06:32,426 - mmdet - INFO - Epoch [7][340/655]\tlr: 5.000e-08, eta: 9:51:10, time: 1.895, data_time: 0.028, memory: 17532, loss_rpn_cls: 0.0231, loss_rpn_bbox: 0.0296, s0.loss_cls: 0.1402, s0.acc: 95.0391, s0.loss_bbox: 0.2694, s0.loss_mask: 0.2226, s1.loss_cls: 0.0555, s1.acc: 96.1577, s1.loss_bbox: 0.1135, s1.loss_mask: 0.1019, s2.loss_cls: 0.0276, s2.acc: 96.0032, s2.loss_bbox: 0.0473, s2.loss_mask: 0.0477, loss: 1.0783\n",
      "2021-05-13 23:06:50,773 - mmdet - INFO - Epoch [7][350/655]\tlr: 5.000e-08, eta: 9:50:51, time: 1.835, data_time: 0.022, memory: 17532, loss_rpn_cls: 0.0167, loss_rpn_bbox: 0.0249, s0.loss_cls: 0.1037, s0.acc: 96.2305, s0.loss_bbox: 0.2348, s0.loss_mask: 0.1883, s1.loss_cls: 0.0403, s1.acc: 96.9857, s1.loss_bbox: 0.0989, s1.loss_mask: 0.0846, s2.loss_cls: 0.0196, s2.acc: 97.1487, s2.loss_bbox: 0.0416, s2.loss_mask: 0.0401, loss: 0.8937\n",
      "2021-05-13 23:07:09,370 - mmdet - INFO - Epoch [7][360/655]\tlr: 5.000e-08, eta: 9:50:34, time: 1.860, data_time: 0.025, memory: 17532, loss_rpn_cls: 0.0142, loss_rpn_bbox: 0.0224, s0.loss_cls: 0.1052, s0.acc: 95.9131, s0.loss_bbox: 0.2274, s0.loss_mask: 0.1701, s1.loss_cls: 0.0388, s1.acc: 97.2033, s1.loss_bbox: 0.0947, s1.loss_mask: 0.0753, s2.loss_cls: 0.0186, s2.acc: 97.3259, s2.loss_bbox: 0.0406, s2.loss_mask: 0.0356, loss: 0.8428\n",
      "2021-05-13 23:07:28,354 - mmdet - INFO - Epoch [7][370/655]\tlr: 5.000e-08, eta: 9:50:18, time: 1.899, data_time: 0.027, memory: 17532, loss_rpn_cls: 0.0223, loss_rpn_bbox: 0.0293, s0.loss_cls: 0.1339, s0.acc: 94.9951, s0.loss_bbox: 0.2751, s0.loss_mask: 0.2006, s1.loss_cls: 0.0544, s1.acc: 96.1144, s1.loss_bbox: 0.1145, s1.loss_mask: 0.0878, s2.loss_cls: 0.0266, s2.acc: 96.0548, s2.loss_bbox: 0.0477, s2.loss_mask: 0.0405, loss: 1.0326\n",
      "2021-05-13 23:07:46,829 - mmdet - INFO - Epoch [7][380/655]\tlr: 5.000e-08, eta: 9:50:01, time: 1.847, data_time: 0.025, memory: 17532, loss_rpn_cls: 0.0175, loss_rpn_bbox: 0.0244, s0.loss_cls: 0.1216, s0.acc: 95.3809, s0.loss_bbox: 0.2531, s0.loss_mask: 0.2043, s1.loss_cls: 0.0459, s1.acc: 96.5352, s1.loss_bbox: 0.1053, s1.loss_mask: 0.0921, s2.loss_cls: 0.0229, s2.acc: 96.4221, s2.loss_bbox: 0.0448, s2.loss_mask: 0.0441, loss: 0.9760\n",
      "2021-05-13 23:08:05,406 - mmdet - INFO - Epoch [7][390/655]\tlr: 5.000e-08, eta: 9:49:43, time: 1.858, data_time: 0.025, memory: 17532, loss_rpn_cls: 0.0219, loss_rpn_bbox: 0.0232, s0.loss_cls: 0.1117, s0.acc: 95.8545, s0.loss_bbox: 0.2407, s0.loss_mask: 0.1844, s1.loss_cls: 0.0417, s1.acc: 97.0292, s1.loss_bbox: 0.0977, s1.loss_mask: 0.0818, s2.loss_cls: 0.0197, s2.acc: 97.1822, s2.loss_bbox: 0.0414, s2.loss_mask: 0.0373, loss: 0.9015\n",
      "2021-05-13 23:08:23,960 - mmdet - INFO - Epoch [7][400/655]\tlr: 5.000e-08, eta: 9:49:25, time: 1.855, data_time: 0.028, memory: 17532, loss_rpn_cls: 0.0127, loss_rpn_bbox: 0.0266, s0.loss_cls: 0.1196, s0.acc: 95.5322, s0.loss_bbox: 0.2617, s0.loss_mask: 0.1989, s1.loss_cls: 0.0429, s1.acc: 97.0038, s1.loss_bbox: 0.1097, s1.loss_mask: 0.0910, s2.loss_cls: 0.0201, s2.acc: 97.0401, s2.loss_bbox: 0.0459, s2.loss_mask: 0.0418, loss: 0.9711\n",
      "2021-05-13 23:08:42,349 - mmdet - INFO - Epoch [7][410/655]\tlr: 5.000e-08, eta: 9:49:07, time: 1.839, data_time: 0.028, memory: 17532, loss_rpn_cls: 0.0168, loss_rpn_bbox: 0.0239, s0.loss_cls: 0.1165, s0.acc: 95.4199, s0.loss_bbox: 0.2569, s0.loss_mask: 0.1960, s1.loss_cls: 0.0475, s1.acc: 96.3519, s1.loss_bbox: 0.1076, s1.loss_mask: 0.0857, s2.loss_cls: 0.0236, s2.acc: 96.5096, s2.loss_bbox: 0.0426, s2.loss_mask: 0.0393, loss: 0.9565\n",
      "2021-05-13 23:09:00,835 - mmdet - INFO - Epoch [7][420/655]\tlr: 5.000e-08, eta: 9:48:49, time: 1.848, data_time: 0.026, memory: 17532, loss_rpn_cls: 0.0224, loss_rpn_bbox: 0.0275, s0.loss_cls: 0.1252, s0.acc: 95.6201, s0.loss_bbox: 0.2544, s0.loss_mask: 0.1942, s1.loss_cls: 0.0529, s1.acc: 96.4256, s1.loss_bbox: 0.1038, s1.loss_mask: 0.0878, s2.loss_cls: 0.0239, s2.acc: 96.4584, s2.loss_bbox: 0.0421, s2.loss_mask: 0.0395, loss: 0.9738\n",
      "2021-05-13 23:09:19,050 - mmdet - INFO - Epoch [7][430/655]\tlr: 5.000e-08, eta: 9:48:30, time: 1.821, data_time: 0.024, memory: 17532, loss_rpn_cls: 0.0142, loss_rpn_bbox: 0.0160, s0.loss_cls: 0.1150, s0.acc: 95.5225, s0.loss_bbox: 0.2507, s0.loss_mask: 0.2003, s1.loss_cls: 0.0436, s1.acc: 96.8661, s1.loss_bbox: 0.1057, s1.loss_mask: 0.0881, s2.loss_cls: 0.0238, s2.acc: 96.1946, s2.loss_bbox: 0.0437, s2.loss_mask: 0.0397, loss: 0.9408\n",
      "2021-05-13 23:09:37,220 - mmdet - INFO - Epoch [7][440/655]\tlr: 5.000e-08, eta: 9:48:11, time: 1.817, data_time: 0.028, memory: 17532, loss_rpn_cls: 0.0182, loss_rpn_bbox: 0.0354, s0.loss_cls: 0.1246, s0.acc: 95.3076, s0.loss_bbox: 0.2567, s0.loss_mask: 0.2075, s1.loss_cls: 0.0475, s1.acc: 96.6590, s1.loss_bbox: 0.1094, s1.loss_mask: 0.0971, s2.loss_cls: 0.0235, s2.acc: 96.5085, s2.loss_bbox: 0.0456, s2.loss_mask: 0.0429, loss: 1.0084\n",
      "2021-05-13 23:09:55,031 - mmdet - INFO - Epoch [7][450/655]\tlr: 5.000e-08, eta: 9:47:50, time: 1.781, data_time: 0.025, memory: 17532, loss_rpn_cls: 0.0147, loss_rpn_bbox: 0.0169, s0.loss_cls: 0.1027, s0.acc: 96.5723, s0.loss_bbox: 0.1925, s0.loss_mask: 0.1791, s1.loss_cls: 0.0374, s1.acc: 97.7871, s1.loss_bbox: 0.0833, s1.loss_mask: 0.0802, s2.loss_cls: 0.0186, s2.acc: 97.6325, s2.loss_bbox: 0.0366, s2.loss_mask: 0.0374, loss: 0.7995\n",
      "2021-05-13 23:10:13,418 - mmdet - INFO - Epoch [7][460/655]\tlr: 5.000e-08, eta: 9:47:32, time: 1.839, data_time: 0.025, memory: 17532, loss_rpn_cls: 0.0159, loss_rpn_bbox: 0.0210, s0.loss_cls: 0.1112, s0.acc: 95.7617, s0.loss_bbox: 0.2641, s0.loss_mask: 0.2004, s1.loss_cls: 0.0457, s1.acc: 96.4124, s1.loss_bbox: 0.1115, s1.loss_mask: 0.0909, s2.loss_cls: 0.0220, s2.acc: 96.4777, s2.loss_bbox: 0.0457, s2.loss_mask: 0.0429, loss: 0.9714\n",
      "2021-05-13 23:10:31,510 - mmdet - INFO - Epoch [7][470/655]\tlr: 5.000e-08, eta: 9:47:12, time: 1.809, data_time: 0.024, memory: 17532, loss_rpn_cls: 0.0203, loss_rpn_bbox: 0.0235, s0.loss_cls: 0.1217, s0.acc: 95.7959, s0.loss_bbox: 0.2413, s0.loss_mask: 0.1981, s1.loss_cls: 0.0491, s1.acc: 96.5713, s1.loss_bbox: 0.1012, s1.loss_mask: 0.0906, s2.loss_cls: 0.0236, s2.acc: 96.5188, s2.loss_bbox: 0.0438, s2.loss_mask: 0.0414, loss: 0.9548\n",
      "2021-05-13 23:10:50,029 - mmdet - INFO - Epoch [7][480/655]\tlr: 5.000e-08, eta: 9:46:55, time: 1.852, data_time: 0.026, memory: 17532, loss_rpn_cls: 0.0274, loss_rpn_bbox: 0.0277, s0.loss_cls: 0.1491, s0.acc: 94.4385, s0.loss_bbox: 0.2750, s0.loss_mask: 0.2346, s1.loss_cls: 0.0663, s1.acc: 95.3494, s1.loss_bbox: 0.1142, s1.loss_mask: 0.1054, s2.loss_cls: 0.0314, s2.acc: 95.2909, s2.loss_bbox: 0.0449, s2.loss_mask: 0.0478, loss: 1.1236\n",
      "2021-05-13 23:11:08,744 - mmdet - INFO - Epoch [7][490/655]\tlr: 5.000e-08, eta: 9:46:38, time: 1.872, data_time: 0.023, memory: 17532, loss_rpn_cls: 0.0241, loss_rpn_bbox: 0.0275, s0.loss_cls: 0.1307, s0.acc: 94.9463, s0.loss_bbox: 0.2682, s0.loss_mask: 0.2050, s1.loss_cls: 0.0527, s1.acc: 96.0788, s1.loss_bbox: 0.1140, s1.loss_mask: 0.0926, s2.loss_cls: 0.0266, s2.acc: 96.2709, s2.loss_bbox: 0.0469, s2.loss_mask: 0.0428, loss: 1.0311\n",
      "2021-05-13 23:11:26,786 - mmdet - INFO - Epoch [7][500/655]\tlr: 5.000e-08, eta: 9:46:18, time: 1.804, data_time: 0.020, memory: 17532, loss_rpn_cls: 0.0150, loss_rpn_bbox: 0.0171, s0.loss_cls: 0.0815, s0.acc: 97.2070, s0.loss_bbox: 0.1831, s0.loss_mask: 0.1698, s1.loss_cls: 0.0300, s1.acc: 97.6477, s1.loss_bbox: 0.0734, s1.loss_mask: 0.0766, s2.loss_cls: 0.0139, s2.acc: 98.0317, s2.loss_bbox: 0.0310, s2.loss_mask: 0.0350, loss: 0.7266\n",
      "2021-05-13 23:11:45,277 - mmdet - INFO - Epoch [7][510/655]\tlr: 5.000e-08, eta: 9:46:00, time: 1.849, data_time: 0.025, memory: 17532, loss_rpn_cls: 0.0200, loss_rpn_bbox: 0.0241, s0.loss_cls: 0.1213, s0.acc: 95.4492, s0.loss_bbox: 0.2366, s0.loss_mask: 0.1934, s1.loss_cls: 0.0465, s1.acc: 96.8193, s1.loss_bbox: 0.0988, s1.loss_mask: 0.0858, s2.loss_cls: 0.0234, s2.acc: 96.6430, s2.loss_bbox: 0.0425, s2.loss_mask: 0.0402, loss: 0.9326\n",
      "2021-05-13 23:12:03,852 - mmdet - INFO - Epoch [7][520/655]\tlr: 5.000e-08, eta: 9:45:43, time: 1.858, data_time: 0.030, memory: 17532, loss_rpn_cls: 0.0222, loss_rpn_bbox: 0.0299, s0.loss_cls: 0.1363, s0.acc: 95.0342, s0.loss_bbox: 0.2682, s0.loss_mask: 0.2108, s1.loss_cls: 0.0529, s1.acc: 96.3368, s1.loss_bbox: 0.1077, s1.loss_mask: 0.0919, s2.loss_cls: 0.0262, s2.acc: 96.2724, s2.loss_bbox: 0.0447, s2.loss_mask: 0.0423, loss: 1.0329\n",
      "2021-05-13 23:12:22,507 - mmdet - INFO - Epoch [7][530/655]\tlr: 5.000e-08, eta: 9:45:25, time: 1.865, data_time: 0.028, memory: 17532, loss_rpn_cls: 0.0299, loss_rpn_bbox: 0.0287, s0.loss_cls: 0.1357, s0.acc: 94.9902, s0.loss_bbox: 0.2738, s0.loss_mask: 0.2080, s1.loss_cls: 0.0549, s1.acc: 96.0821, s1.loss_bbox: 0.1151, s1.loss_mask: 0.0940, s2.loss_cls: 0.0278, s2.acc: 95.9242, s2.loss_bbox: 0.0462, s2.loss_mask: 0.0441, loss: 1.0583\n",
      "2021-05-13 23:12:40,969 - mmdet - INFO - Epoch [7][540/655]\tlr: 5.000e-08, eta: 9:45:07, time: 1.846, data_time: 0.028, memory: 17532, loss_rpn_cls: 0.0275, loss_rpn_bbox: 0.0304, s0.loss_cls: 0.1321, s0.acc: 95.1660, s0.loss_bbox: 0.2754, s0.loss_mask: 0.2092, s1.loss_cls: 0.0549, s1.acc: 96.1901, s1.loss_bbox: 0.1180, s1.loss_mask: 0.0935, s2.loss_cls: 0.0285, s2.acc: 95.8439, s2.loss_bbox: 0.0482, s2.loss_mask: 0.0426, loss: 1.0603\n",
      "2021-05-13 23:12:59,411 - mmdet - INFO - Epoch [7][550/655]\tlr: 5.000e-08, eta: 9:44:49, time: 1.844, data_time: 0.028, memory: 17532, loss_rpn_cls: 0.0231, loss_rpn_bbox: 0.0310, s0.loss_cls: 0.1282, s0.acc: 95.3857, s0.loss_bbox: 0.2546, s0.loss_mask: 0.1995, s1.loss_cls: 0.0545, s1.acc: 96.1411, s1.loss_bbox: 0.1036, s1.loss_mask: 0.0907, s2.loss_cls: 0.0252, s2.acc: 96.4787, s2.loss_bbox: 0.0438, s2.loss_mask: 0.0417, loss: 0.9960\n",
      "2021-05-13 23:13:17,718 - mmdet - INFO - Epoch [7][560/655]\tlr: 5.000e-08, eta: 9:44:31, time: 1.831, data_time: 0.024, memory: 17532, loss_rpn_cls: 0.0199, loss_rpn_bbox: 0.0296, s0.loss_cls: 0.1096, s0.acc: 95.8789, s0.loss_bbox: 0.2357, s0.loss_mask: 0.1882, s1.loss_cls: 0.0429, s1.acc: 96.7186, s1.loss_bbox: 0.0982, s1.loss_mask: 0.0829, s2.loss_cls: 0.0211, s2.acc: 96.8645, s2.loss_bbox: 0.0418, s2.loss_mask: 0.0378, loss: 0.9077\n",
      "2021-05-13 23:13:36,348 - mmdet - INFO - Epoch [7][570/655]\tlr: 5.000e-08, eta: 9:44:13, time: 1.863, data_time: 0.025, memory: 17532, loss_rpn_cls: 0.0162, loss_rpn_bbox: 0.0226, s0.loss_cls: 0.1226, s0.acc: 95.8691, s0.loss_bbox: 0.2554, s0.loss_mask: 0.1977, s1.loss_cls: 0.0529, s1.acc: 96.4360, s1.loss_bbox: 0.1052, s1.loss_mask: 0.0917, s2.loss_cls: 0.0246, s2.acc: 96.3981, s2.loss_bbox: 0.0462, s2.loss_mask: 0.0433, loss: 0.9783\n",
      "2021-05-13 23:13:54,594 - mmdet - INFO - Epoch [7][580/655]\tlr: 5.000e-08, eta: 9:43:55, time: 1.825, data_time: 0.022, memory: 17532, loss_rpn_cls: 0.0223, loss_rpn_bbox: 0.0197, s0.loss_cls: 0.1131, s0.acc: 95.7129, s0.loss_bbox: 0.2340, s0.loss_mask: 0.2144, s1.loss_cls: 0.0433, s1.acc: 96.6413, s1.loss_bbox: 0.1002, s1.loss_mask: 0.0958, s2.loss_cls: 0.0209, s2.acc: 96.8567, s2.loss_bbox: 0.0423, s2.loss_mask: 0.0432, loss: 0.9492\n",
      "2021-05-13 23:14:13,037 - mmdet - INFO - Epoch [7][590/655]\tlr: 5.000e-08, eta: 9:43:36, time: 1.844, data_time: 0.023, memory: 17532, loss_rpn_cls: 0.0210, loss_rpn_bbox: 0.0260, s0.loss_cls: 0.1138, s0.acc: 95.4395, s0.loss_bbox: 0.2428, s0.loss_mask: 0.2018, s1.loss_cls: 0.0422, s1.acc: 96.7375, s1.loss_bbox: 0.1017, s1.loss_mask: 0.0917, s2.loss_cls: 0.0213, s2.acc: 96.9084, s2.loss_bbox: 0.0437, s2.loss_mask: 0.0421, loss: 0.9481\n",
      "2021-05-13 23:14:31,368 - mmdet - INFO - Epoch [7][600/655]\tlr: 5.000e-08, eta: 9:43:18, time: 1.833, data_time: 0.020, memory: 17532, loss_rpn_cls: 0.0226, loss_rpn_bbox: 0.0201, s0.loss_cls: 0.1107, s0.acc: 95.8105, s0.loss_bbox: 0.2434, s0.loss_mask: 0.2105, s1.loss_cls: 0.0434, s1.acc: 96.8888, s1.loss_bbox: 0.1043, s1.loss_mask: 0.0970, s2.loss_cls: 0.0207, s2.acc: 96.9276, s2.loss_bbox: 0.0438, s2.loss_mask: 0.0428, loss: 0.9593\n",
      "2021-05-13 23:14:48,971 - mmdet - INFO - Epoch [7][610/655]\tlr: 5.000e-08, eta: 9:42:56, time: 1.760, data_time: 0.021, memory: 17532, loss_rpn_cls: 0.0199, loss_rpn_bbox: 0.0192, s0.loss_cls: 0.1029, s0.acc: 96.2842, s0.loss_bbox: 0.1951, s0.loss_mask: 0.1824, s1.loss_cls: 0.0381, s1.acc: 97.1975, s1.loss_bbox: 0.0815, s1.loss_mask: 0.0834, s2.loss_cls: 0.0193, s2.acc: 97.1502, s2.loss_bbox: 0.0348, s2.loss_mask: 0.0386, loss: 0.8153\n",
      "2021-05-13 23:15:08,062 - mmdet - INFO - Epoch [7][620/655]\tlr: 5.000e-08, eta: 9:42:41, time: 1.909, data_time: 0.028, memory: 17532, loss_rpn_cls: 0.0306, loss_rpn_bbox: 0.0402, s0.loss_cls: 0.1512, s0.acc: 94.3018, s0.loss_bbox: 0.2990, s0.loss_mask: 0.2027, s1.loss_cls: 0.0582, s1.acc: 95.6598, s1.loss_bbox: 0.1237, s1.loss_mask: 0.0896, s2.loss_cls: 0.0297, s2.acc: 95.6476, s2.loss_bbox: 0.0518, s2.loss_mask: 0.0412, loss: 1.1180\n",
      "2021-05-13 23:15:26,428 - mmdet - INFO - Epoch [7][630/655]\tlr: 5.000e-08, eta: 9:42:23, time: 1.837, data_time: 0.025, memory: 17532, loss_rpn_cls: 0.0169, loss_rpn_bbox: 0.0252, s0.loss_cls: 0.1182, s0.acc: 95.8008, s0.loss_bbox: 0.2377, s0.loss_mask: 0.1972, s1.loss_cls: 0.0471, s1.acc: 96.8096, s1.loss_bbox: 0.0981, s1.loss_mask: 0.0916, s2.loss_cls: 0.0230, s2.acc: 96.5522, s2.loss_bbox: 0.0427, s2.loss_mask: 0.0434, loss: 0.9410\n",
      "2021-05-13 23:15:44,517 - mmdet - INFO - Epoch [7][640/655]\tlr: 5.000e-08, eta: 9:42:03, time: 1.809, data_time: 0.021, memory: 17532, loss_rpn_cls: 0.0145, loss_rpn_bbox: 0.0197, s0.loss_cls: 0.0870, s0.acc: 96.8066, s0.loss_bbox: 0.2083, s0.loss_mask: 0.1773, s1.loss_cls: 0.0350, s1.acc: 97.4743, s1.loss_bbox: 0.0884, s1.loss_mask: 0.0811, s2.loss_cls: 0.0170, s2.acc: 97.7233, s2.loss_bbox: 0.0394, s2.loss_mask: 0.0385, loss: 0.8063\n",
      "2021-05-13 23:16:03,174 - mmdet - INFO - Epoch [7][650/655]\tlr: 5.000e-08, eta: 9:41:46, time: 1.866, data_time: 0.022, memory: 17532, loss_rpn_cls: 0.0230, loss_rpn_bbox: 0.0297, s0.loss_cls: 0.1487, s0.acc: 94.6631, s0.loss_bbox: 0.2752, s0.loss_mask: 0.2021, s1.loss_cls: 0.0579, s1.acc: 95.9120, s1.loss_bbox: 0.1162, s1.loss_mask: 0.0894, s2.loss_cls: 0.0275, s2.acc: 96.1731, s2.loss_bbox: 0.0491, s2.loss_mask: 0.0422, loss: 1.0610\n",
      "2021-05-13 23:16:12,059 - mmdet - INFO - Saving checkpoint at 7 epochs\n"
     ]
    },
    {
     "name": "stdout",
     "output_type": "stream",
     "text": [
      "[>>>>>>>>>>>>>>>>>>>>>>>>>>>>>] 655/655, 4.7 task/s, elapsed: 138s, ETA:     0s"
     ]
    },
    {
     "name": "stderr",
     "output_type": "stream",
     "text": [
      "2021-05-13 23:18:34,672 - mmdet - INFO - Evaluating bbox...\n"
     ]
    },
    {
     "name": "stdout",
     "output_type": "stream",
     "text": [
      "Loading and preparing results...\n",
      "DONE (t=0.06s)\n",
      "creating index...\n",
      "index created!\n",
      "Running per image evaluation...\n",
      "Evaluate annotation type *bbox*\n",
      "DONE (t=4.40s).\n",
      "Accumulating evaluation results...\n"
     ]
    },
    {
     "name": "stderr",
     "output_type": "stream",
     "text": [
      "2021-05-13 23:18:39,667 - mmdet - INFO - Evaluating segm...\n"
     ]
    },
    {
     "name": "stdout",
     "output_type": "stream",
     "text": [
      "DONE (t=0.51s).\n",
      "Average Precision  (AP) @[ IoU=0.50:0.95 | area=   all | maxDets=100 ] = 0.281\n",
      "Average Precision  (AP) @[ IoU=0.50      | area=   all | maxDets=1000 ] = 0.454\n",
      "Average Precision  (AP) @[ IoU=0.75      | area=   all | maxDets=1000 ] = 0.270\n",
      "Average Precision  (AP) @[ IoU=0.50:0.95 | area= small | maxDets=1000 ] = 0.046\n",
      "Average Precision  (AP) @[ IoU=0.50:0.95 | area=medium | maxDets=1000 ] = 0.252\n",
      "Average Precision  (AP) @[ IoU=0.50:0.95 | area= large | maxDets=1000 ] = 0.499\n",
      "Average Recall     (AR) @[ IoU=0.50:0.95 | area=   all | maxDets=100 ] = 0.372\n",
      "Average Recall     (AR) @[ IoU=0.50:0.95 | area=   all | maxDets=300 ] = 0.372\n",
      "Average Recall     (AR) @[ IoU=0.50:0.95 | area=   all | maxDets=1000 ] = 0.372\n",
      "Average Recall     (AR) @[ IoU=0.50:0.95 | area= small | maxDets=1000 ] = 0.108\n",
      "Average Recall     (AR) @[ IoU=0.50:0.95 | area=medium | maxDets=1000 ] = 0.349\n",
      "Average Recall     (AR) @[ IoU=0.50:0.95 | area= large | maxDets=1000 ] = 0.592\n",
      "Loading and preparing results...\n",
      "DONE (t=0.09s)\n",
      "creating index...\n",
      "index created!\n",
      "Running per image evaluation...\n",
      "Evaluate annotation type *segm*\n",
      "DONE (t=4.09s).\n",
      "Accumulating evaluation results...\n"
     ]
    },
    {
     "name": "stderr",
     "output_type": "stream",
     "text": [
      "2021-05-13 23:18:44,468 - mmdet - INFO - Epoch(val) [7][655]\tbbox_mAP: 0.2810, bbox_mAP_50: 0.4540, bbox_mAP_75: 0.2700, bbox_mAP_s: 0.0460, bbox_mAP_m: 0.2520, bbox_mAP_l: 0.4990, bbox_mAP_copypaste: 0.281 0.454 0.270 0.046 0.252 0.499, segm_mAP: 0.2580, segm_mAP_50: 0.4240, segm_mAP_75: 0.2550, segm_mAP_s: 0.0330, segm_mAP_m: 0.2240, segm_mAP_l: 0.4850, segm_mAP_copypaste: 0.258 0.424 0.255 0.033 0.224 0.485\n"
     ]
    },
    {
     "name": "stdout",
     "output_type": "stream",
     "text": [
      "DONE (t=0.51s).\n",
      "Average Precision  (AP) @[ IoU=0.50:0.95 | area=   all | maxDets=100 ] = 0.258\n",
      "Average Precision  (AP) @[ IoU=0.50      | area=   all | maxDets=1000 ] = 0.424\n",
      "Average Precision  (AP) @[ IoU=0.75      | area=   all | maxDets=1000 ] = 0.255\n",
      "Average Precision  (AP) @[ IoU=0.50:0.95 | area= small | maxDets=1000 ] = 0.033\n",
      "Average Precision  (AP) @[ IoU=0.50:0.95 | area=medium | maxDets=1000 ] = 0.224\n",
      "Average Precision  (AP) @[ IoU=0.50:0.95 | area= large | maxDets=1000 ] = 0.485\n",
      "Average Recall     (AR) @[ IoU=0.50:0.95 | area=   all | maxDets=100 ] = 0.342\n",
      "Average Recall     (AR) @[ IoU=0.50:0.95 | area=   all | maxDets=300 ] = 0.342\n",
      "Average Recall     (AR) @[ IoU=0.50:0.95 | area=   all | maxDets=1000 ] = 0.342\n",
      "Average Recall     (AR) @[ IoU=0.50:0.95 | area= small | maxDets=1000 ] = 0.080\n",
      "Average Recall     (AR) @[ IoU=0.50:0.95 | area=medium | maxDets=1000 ] = 0.314\n",
      "Average Recall     (AR) @[ IoU=0.50:0.95 | area= large | maxDets=1000 ] = 0.576\n"
     ]
    },
    {
     "name": "stderr",
     "output_type": "stream",
     "text": [
      "2021-05-13 23:19:05,725 - mmdet - INFO - Epoch [8][10/655]\tlr: 5.000e-08, eta: 9:40:52, time: 2.124, data_time: 0.266, memory: 17532, loss_rpn_cls: 0.0243, loss_rpn_bbox: 0.0359, s0.loss_cls: 0.1574, s0.acc: 94.3750, s0.loss_bbox: 0.3093, s0.loss_mask: 0.2352, s1.loss_cls: 0.0655, s1.acc: 95.1852, s1.loss_bbox: 0.1274, s1.loss_mask: 0.1033, s2.loss_cls: 0.0312, s2.acc: 95.1730, s2.loss_bbox: 0.0498, s2.loss_mask: 0.0465, loss: 1.1859\n",
      "2021-05-13 23:19:23,863 - mmdet - INFO - Epoch [8][20/655]\tlr: 5.000e-08, eta: 9:40:33, time: 1.814, data_time: 0.027, memory: 17532, loss_rpn_cls: 0.0135, loss_rpn_bbox: 0.0202, s0.loss_cls: 0.1119, s0.acc: 95.9668, s0.loss_bbox: 0.2293, s0.loss_mask: 0.1832, s1.loss_cls: 0.0433, s1.acc: 97.0310, s1.loss_bbox: 0.0991, s1.loss_mask: 0.0832, s2.loss_cls: 0.0210, s2.acc: 96.9619, s2.loss_bbox: 0.0430, s2.loss_mask: 0.0391, loss: 0.8866\n",
      "2021-05-13 23:19:42,199 - mmdet - INFO - Epoch [8][30/655]\tlr: 5.000e-08, eta: 9:40:14, time: 1.834, data_time: 0.024, memory: 17532, loss_rpn_cls: 0.0161, loss_rpn_bbox: 0.0171, s0.loss_cls: 0.1043, s0.acc: 96.2842, s0.loss_bbox: 0.2119, s0.loss_mask: 0.1866, s1.loss_cls: 0.0419, s1.acc: 97.1475, s1.loss_bbox: 0.0926, s1.loss_mask: 0.0847, s2.loss_cls: 0.0187, s2.acc: 97.3788, s2.loss_bbox: 0.0407, s2.loss_mask: 0.0400, loss: 0.8546\n",
      "2021-05-13 23:20:01,057 - mmdet - INFO - Epoch [8][40/655]\tlr: 5.000e-08, eta: 9:39:58, time: 1.886, data_time: 0.024, memory: 17532, loss_rpn_cls: 0.0212, loss_rpn_bbox: 0.0265, s0.loss_cls: 0.1399, s0.acc: 94.9316, s0.loss_bbox: 0.2971, s0.loss_mask: 0.2196, s1.loss_cls: 0.0586, s1.acc: 95.7397, s1.loss_bbox: 0.1252, s1.loss_mask: 0.0968, s2.loss_cls: 0.0283, s2.acc: 95.8886, s2.loss_bbox: 0.0506, s2.loss_mask: 0.0445, loss: 1.1082\n",
      "2021-05-13 23:20:19,237 - mmdet - INFO - Epoch [8][50/655]\tlr: 5.000e-08, eta: 9:39:39, time: 1.818, data_time: 0.024, memory: 17532, loss_rpn_cls: 0.0188, loss_rpn_bbox: 0.0243, s0.loss_cls: 0.1149, s0.acc: 95.8789, s0.loss_bbox: 0.2355, s0.loss_mask: 0.1897, s1.loss_cls: 0.0457, s1.acc: 96.7390, s1.loss_bbox: 0.0939, s1.loss_mask: 0.0847, s2.loss_cls: 0.0234, s2.acc: 96.6306, s2.loss_bbox: 0.0399, s2.loss_mask: 0.0388, loss: 0.9097\n",
      "2021-05-13 23:20:37,629 - mmdet - INFO - Epoch [8][60/655]\tlr: 5.000e-08, eta: 9:39:21, time: 1.839, data_time: 0.028, memory: 17532, loss_rpn_cls: 0.0191, loss_rpn_bbox: 0.0264, s0.loss_cls: 0.1212, s0.acc: 95.6055, s0.loss_bbox: 0.2524, s0.loss_mask: 0.1916, s1.loss_cls: 0.0454, s1.acc: 96.8401, s1.loss_bbox: 0.1058, s1.loss_mask: 0.0851, s2.loss_cls: 0.0219, s2.acc: 96.9177, s2.loss_bbox: 0.0456, s2.loss_mask: 0.0404, loss: 0.9549\n",
      "2021-05-13 23:20:55,531 - mmdet - INFO - Epoch [8][70/655]\tlr: 5.000e-08, eta: 9:39:01, time: 1.790, data_time: 0.022, memory: 17532, loss_rpn_cls: 0.0099, loss_rpn_bbox: 0.0184, s0.loss_cls: 0.0855, s0.acc: 96.9287, s0.loss_bbox: 0.1933, s0.loss_mask: 0.1709, s1.loss_cls: 0.0325, s1.acc: 97.8121, s1.loss_bbox: 0.0825, s1.loss_mask: 0.0789, s2.loss_cls: 0.0160, s2.acc: 97.8616, s2.loss_bbox: 0.0357, s2.loss_mask: 0.0376, loss: 0.7613\n",
      "2021-05-13 23:21:13,707 - mmdet - INFO - Epoch [8][80/655]\tlr: 5.000e-08, eta: 9:38:42, time: 1.818, data_time: 0.028, memory: 17532, loss_rpn_cls: 0.0212, loss_rpn_bbox: 0.0228, s0.loss_cls: 0.1102, s0.acc: 95.9424, s0.loss_bbox: 0.2385, s0.loss_mask: 0.1980, s1.loss_cls: 0.0422, s1.acc: 96.8156, s1.loss_bbox: 0.1032, s1.loss_mask: 0.0908, s2.loss_cls: 0.0216, s2.acc: 96.9299, s2.loss_bbox: 0.0433, s2.loss_mask: 0.0423, loss: 0.9342\n",
      "2021-05-13 23:21:32,093 - mmdet - INFO - Epoch [8][90/655]\tlr: 5.000e-08, eta: 9:38:23, time: 1.839, data_time: 0.029, memory: 17532, loss_rpn_cls: 0.0229, loss_rpn_bbox: 0.0257, s0.loss_cls: 0.1217, s0.acc: 95.4785, s0.loss_bbox: 0.2378, s0.loss_mask: 0.2080, s1.loss_cls: 0.0487, s1.acc: 96.5131, s1.loss_bbox: 0.1002, s1.loss_mask: 0.0936, s2.loss_cls: 0.0224, s2.acc: 96.9603, s2.loss_bbox: 0.0437, s2.loss_mask: 0.0444, loss: 0.9692\n",
      "2021-05-13 23:21:50,758 - mmdet - INFO - Epoch [8][100/655]\tlr: 5.000e-08, eta: 9:38:06, time: 1.867, data_time: 0.027, memory: 17532, loss_rpn_cls: 0.0171, loss_rpn_bbox: 0.0261, s0.loss_cls: 0.1248, s0.acc: 95.4248, s0.loss_bbox: 0.2694, s0.loss_mask: 0.1964, s1.loss_cls: 0.0522, s1.acc: 96.1384, s1.loss_bbox: 0.1150, s1.loss_mask: 0.0916, s2.loss_cls: 0.0248, s2.acc: 96.4940, s2.loss_bbox: 0.0481, s2.loss_mask: 0.0424, loss: 1.0079\n",
      "2021-05-13 23:22:08,824 - mmdet - INFO - Epoch [8][110/655]\tlr: 5.000e-08, eta: 9:37:47, time: 1.807, data_time: 0.025, memory: 17532, loss_rpn_cls: 0.0153, loss_rpn_bbox: 0.0264, s0.loss_cls: 0.1209, s0.acc: 95.7129, s0.loss_bbox: 0.2194, s0.loss_mask: 0.1919, s1.loss_cls: 0.0487, s1.acc: 96.7607, s1.loss_bbox: 0.0899, s1.loss_mask: 0.0849, s2.loss_cls: 0.0226, s2.acc: 96.9443, s2.loss_bbox: 0.0381, s2.loss_mask: 0.0405, loss: 0.8986\n",
      "2021-05-13 23:22:27,341 - mmdet - INFO - Epoch [8][120/655]\tlr: 5.000e-08, eta: 9:37:29, time: 1.852, data_time: 0.025, memory: 17532, loss_rpn_cls: 0.0180, loss_rpn_bbox: 0.0227, s0.loss_cls: 0.1295, s0.acc: 95.2393, s0.loss_bbox: 0.2683, s0.loss_mask: 0.2130, s1.loss_cls: 0.0495, s1.acc: 96.4444, s1.loss_bbox: 0.1095, s1.loss_mask: 0.0934, s2.loss_cls: 0.0239, s2.acc: 96.5866, s2.loss_bbox: 0.0462, s2.loss_mask: 0.0431, loss: 1.0171\n",
      "2021-05-13 23:22:45,589 - mmdet - INFO - Epoch [8][130/655]\tlr: 5.000e-08, eta: 9:37:10, time: 1.825, data_time: 0.023, memory: 17532, loss_rpn_cls: 0.0140, loss_rpn_bbox: 0.0201, s0.loss_cls: 0.1174, s0.acc: 95.6982, s0.loss_bbox: 0.2452, s0.loss_mask: 0.1932, s1.loss_cls: 0.0399, s1.acc: 97.2251, s1.loss_bbox: 0.0987, s1.loss_mask: 0.0851, s2.loss_cls: 0.0202, s2.acc: 97.2162, s2.loss_bbox: 0.0410, s2.loss_mask: 0.0394, loss: 0.9142\n",
      "2021-05-13 23:23:03,980 - mmdet - INFO - Epoch [8][140/655]\tlr: 5.000e-08, eta: 9:36:52, time: 1.839, data_time: 0.025, memory: 17532, loss_rpn_cls: 0.0179, loss_rpn_bbox: 0.0239, s0.loss_cls: 0.1257, s0.acc: 95.2344, s0.loss_bbox: 0.2626, s0.loss_mask: 0.2044, s1.loss_cls: 0.0489, s1.acc: 96.4114, s1.loss_bbox: 0.1075, s1.loss_mask: 0.0927, s2.loss_cls: 0.0218, s2.acc: 96.6141, s2.loss_bbox: 0.0452, s2.loss_mask: 0.0430, loss: 0.9935\n",
      "2021-05-13 23:23:22,099 - mmdet - INFO - Epoch [8][150/655]\tlr: 5.000e-08, eta: 9:36:33, time: 1.812, data_time: 0.026, memory: 17532, loss_rpn_cls: 0.0195, loss_rpn_bbox: 0.0270, s0.loss_cls: 0.1191, s0.acc: 95.4980, s0.loss_bbox: 0.2554, s0.loss_mask: 0.2081, s1.loss_cls: 0.0488, s1.acc: 96.4077, s1.loss_bbox: 0.1090, s1.loss_mask: 0.0923, s2.loss_cls: 0.0218, s2.acc: 96.8141, s2.loss_bbox: 0.0429, s2.loss_mask: 0.0421, loss: 0.9859\n",
      "2021-05-13 23:23:40,513 - mmdet - INFO - Epoch [8][160/655]\tlr: 5.000e-08, eta: 9:36:14, time: 1.841, data_time: 0.028, memory: 17532, loss_rpn_cls: 0.0288, loss_rpn_bbox: 0.0249, s0.loss_cls: 0.1558, s0.acc: 94.5215, s0.loss_bbox: 0.2631, s0.loss_mask: 0.1915, s1.loss_cls: 0.0644, s1.acc: 95.3686, s1.loss_bbox: 0.1071, s1.loss_mask: 0.0882, s2.loss_cls: 0.0296, s2.acc: 96.1661, s2.loss_bbox: 0.0438, s2.loss_mask: 0.0403, loss: 1.0375\n",
      "2021-05-13 23:23:59,923 - mmdet - INFO - Epoch [8][170/655]\tlr: 5.000e-08, eta: 9:36:00, time: 1.941, data_time: 0.033, memory: 17532, loss_rpn_cls: 0.0358, loss_rpn_bbox: 0.0423, s0.loss_cls: 0.1743, s0.acc: 93.4961, s0.loss_bbox: 0.3445, s0.loss_mask: 0.2369, s1.loss_cls: 0.0721, s1.acc: 94.6181, s1.loss_bbox: 0.1423, s1.loss_mask: 0.1076, s2.loss_cls: 0.0358, s2.acc: 94.7412, s2.loss_bbox: 0.0574, s2.loss_mask: 0.0500, loss: 1.2991\n",
      "2021-05-13 23:24:17,987 - mmdet - INFO - Epoch [8][180/655]\tlr: 5.000e-08, eta: 9:35:41, time: 1.806, data_time: 0.024, memory: 17532, loss_rpn_cls: 0.0209, loss_rpn_bbox: 0.0215, s0.loss_cls: 0.1059, s0.acc: 96.2695, s0.loss_bbox: 0.2309, s0.loss_mask: 0.1905, s1.loss_cls: 0.0403, s1.acc: 97.1691, s1.loss_bbox: 0.0951, s1.loss_mask: 0.0826, s2.loss_cls: 0.0193, s2.acc: 97.0932, s2.loss_bbox: 0.0415, s2.loss_mask: 0.0383, loss: 0.8869\n",
      "2021-05-13 23:24:36,450 - mmdet - INFO - Epoch [8][190/655]\tlr: 5.000e-08, eta: 9:35:23, time: 1.846, data_time: 0.022, memory: 17532, loss_rpn_cls: 0.0156, loss_rpn_bbox: 0.0162, s0.loss_cls: 0.1006, s0.acc: 96.2158, s0.loss_bbox: 0.2306, s0.loss_mask: 0.1874, s1.loss_cls: 0.0346, s1.acc: 97.4144, s1.loss_bbox: 0.0937, s1.loss_mask: 0.0825, s2.loss_cls: 0.0165, s2.acc: 97.6402, s2.loss_bbox: 0.0412, s2.loss_mask: 0.0393, loss: 0.8582\n",
      "2021-05-13 23:24:54,667 - mmdet - INFO - Epoch [8][200/655]\tlr: 5.000e-08, eta: 9:35:04, time: 1.822, data_time: 0.024, memory: 17532, loss_rpn_cls: 0.0130, loss_rpn_bbox: 0.0199, s0.loss_cls: 0.1075, s0.acc: 96.0059, s0.loss_bbox: 0.2298, s0.loss_mask: 0.1919, s1.loss_cls: 0.0388, s1.acc: 97.2095, s1.loss_bbox: 0.0964, s1.loss_mask: 0.0845, s2.loss_cls: 0.0187, s2.acc: 97.5560, s2.loss_bbox: 0.0430, s2.loss_mask: 0.0390, loss: 0.8824\n",
      "2021-05-13 23:25:13,036 - mmdet - INFO - Epoch [8][210/655]\tlr: 5.000e-08, eta: 9:34:46, time: 1.837, data_time: 0.024, memory: 17532, loss_rpn_cls: 0.0136, loss_rpn_bbox: 0.0247, s0.loss_cls: 0.1107, s0.acc: 95.7520, s0.loss_bbox: 0.2400, s0.loss_mask: 0.2015, s1.loss_cls: 0.0427, s1.acc: 96.7492, s1.loss_bbox: 0.1035, s1.loss_mask: 0.0954, s2.loss_cls: 0.0203, s2.acc: 97.1387, s2.loss_bbox: 0.0443, s2.loss_mask: 0.0454, loss: 0.9421\n",
      "2021-05-13 23:25:31,916 - mmdet - INFO - Epoch [8][220/655]\tlr: 5.000e-08, eta: 9:34:29, time: 1.888, data_time: 0.031, memory: 17532, loss_rpn_cls: 0.0276, loss_rpn_bbox: 0.0334, s0.loss_cls: 0.1451, s0.acc: 94.6582, s0.loss_bbox: 0.3014, s0.loss_mask: 0.2117, s1.loss_cls: 0.0557, s1.acc: 95.8883, s1.loss_bbox: 0.1175, s1.loss_mask: 0.0954, s2.loss_cls: 0.0278, s2.acc: 96.1796, s2.loss_bbox: 0.0497, s2.loss_mask: 0.0450, loss: 1.1104\n",
      "2021-05-13 23:25:50,736 - mmdet - INFO - Epoch [8][230/655]\tlr: 5.000e-08, eta: 9:34:13, time: 1.882, data_time: 0.026, memory: 17532, loss_rpn_cls: 0.0161, loss_rpn_bbox: 0.0276, s0.loss_cls: 0.1154, s0.acc: 95.7129, s0.loss_bbox: 0.2828, s0.loss_mask: 0.2036, s1.loss_cls: 0.0457, s1.acc: 96.5224, s1.loss_bbox: 0.1156, s1.loss_mask: 0.0924, s2.loss_cls: 0.0236, s2.acc: 96.4268, s2.loss_bbox: 0.0491, s2.loss_mask: 0.0426, loss: 1.0144\n",
      "2021-05-13 23:26:09,600 - mmdet - INFO - Epoch [8][240/655]\tlr: 5.000e-08, eta: 9:33:56, time: 1.886, data_time: 0.028, memory: 17532, loss_rpn_cls: 0.0243, loss_rpn_bbox: 0.0337, s0.loss_cls: 0.1393, s0.acc: 94.8877, s0.loss_bbox: 0.2906, s0.loss_mask: 0.2148, s1.loss_cls: 0.0567, s1.acc: 95.7331, s1.loss_bbox: 0.1194, s1.loss_mask: 0.0970, s2.loss_cls: 0.0263, s2.acc: 96.0873, s2.loss_bbox: 0.0495, s2.loss_mask: 0.0443, loss: 1.0958\n",
      "2021-05-13 23:26:28,355 - mmdet - INFO - Epoch [8][250/655]\tlr: 5.000e-08, eta: 9:33:39, time: 1.876, data_time: 0.024, memory: 17532, loss_rpn_cls: 0.0214, loss_rpn_bbox: 0.0275, s0.loss_cls: 0.1295, s0.acc: 95.2002, s0.loss_bbox: 0.2657, s0.loss_mask: 0.2051, s1.loss_cls: 0.0528, s1.acc: 96.1339, s1.loss_bbox: 0.1145, s1.loss_mask: 0.0938, s2.loss_cls: 0.0257, s2.acc: 96.1697, s2.loss_bbox: 0.0477, s2.loss_mask: 0.0444, loss: 1.0282\n",
      "2021-05-13 23:26:46,965 - mmdet - INFO - Epoch [8][260/655]\tlr: 5.000e-08, eta: 9:33:22, time: 1.861, data_time: 0.026, memory: 17532, loss_rpn_cls: 0.0226, loss_rpn_bbox: 0.0252, s0.loss_cls: 0.1257, s0.acc: 95.4395, s0.loss_bbox: 0.2640, s0.loss_mask: 0.2094, s1.loss_cls: 0.0523, s1.acc: 96.1814, s1.loss_bbox: 0.1138, s1.loss_mask: 0.0959, s2.loss_cls: 0.0257, s2.acc: 96.1328, s2.loss_bbox: 0.0493, s2.loss_mask: 0.0434, loss: 1.0271\n",
      "2021-05-13 23:27:05,839 - mmdet - INFO - Epoch [8][270/655]\tlr: 5.000e-08, eta: 9:33:06, time: 1.888, data_time: 0.027, memory: 17532, loss_rpn_cls: 0.0193, loss_rpn_bbox: 0.0355, s0.loss_cls: 0.1285, s0.acc: 95.2344, s0.loss_bbox: 0.2935, s0.loss_mask: 0.2240, s1.loss_cls: 0.0484, s1.acc: 96.3823, s1.loss_bbox: 0.1316, s1.loss_mask: 0.1032, s2.loss_cls: 0.0248, s2.acc: 96.3102, s2.loss_bbox: 0.0546, s2.loss_mask: 0.0473, loss: 1.1107\n",
      "2021-05-13 23:27:23,959 - mmdet - INFO - Epoch [8][280/655]\tlr: 5.000e-08, eta: 9:32:46, time: 1.812, data_time: 0.022, memory: 17532, loss_rpn_cls: 0.0143, loss_rpn_bbox: 0.0176, s0.loss_cls: 0.1120, s0.acc: 96.0107, s0.loss_bbox: 0.2296, s0.loss_mask: 0.1973, s1.loss_cls: 0.0428, s1.acc: 96.9566, s1.loss_bbox: 0.0929, s1.loss_mask: 0.0882, s2.loss_cls: 0.0195, s2.acc: 97.0825, s2.loss_bbox: 0.0394, s2.loss_mask: 0.0408, loss: 0.8943\n",
      "2021-05-13 23:27:42,420 - mmdet - INFO - Epoch [8][290/655]\tlr: 5.000e-08, eta: 9:32:28, time: 1.846, data_time: 0.031, memory: 17532, loss_rpn_cls: 0.0239, loss_rpn_bbox: 0.0348, s0.loss_cls: 0.1298, s0.acc: 95.1758, s0.loss_bbox: 0.2653, s0.loss_mask: 0.2083, s1.loss_cls: 0.0518, s1.acc: 96.2899, s1.loss_bbox: 0.1111, s1.loss_mask: 0.0929, s2.loss_cls: 0.0273, s2.acc: 95.8640, s2.loss_bbox: 0.0454, s2.loss_mask: 0.0430, loss: 1.0336\n",
      "2021-05-13 23:28:00,323 - mmdet - INFO - Epoch [8][300/655]\tlr: 5.000e-08, eta: 9:32:08, time: 1.791, data_time: 0.021, memory: 17532, loss_rpn_cls: 0.0121, loss_rpn_bbox: 0.0184, s0.loss_cls: 0.1014, s0.acc: 96.1084, s0.loss_bbox: 0.2147, s0.loss_mask: 0.1796, s1.loss_cls: 0.0381, s1.acc: 97.2373, s1.loss_bbox: 0.0878, s1.loss_mask: 0.0810, s2.loss_cls: 0.0173, s2.acc: 97.6891, s2.loss_bbox: 0.0384, s2.loss_mask: 0.0370, loss: 0.8258\n",
      "2021-05-13 23:28:18,807 - mmdet - INFO - Epoch [8][310/655]\tlr: 5.000e-08, eta: 9:31:50, time: 1.848, data_time: 0.025, memory: 17532, loss_rpn_cls: 0.0189, loss_rpn_bbox: 0.0262, s0.loss_cls: 0.1165, s0.acc: 95.3906, s0.loss_bbox: 0.2672, s0.loss_mask: 0.2050, s1.loss_cls: 0.0501, s1.acc: 96.1314, s1.loss_bbox: 0.1102, s1.loss_mask: 0.0926, s2.loss_cls: 0.0248, s2.acc: 96.4453, s2.loss_bbox: 0.0444, s2.loss_mask: 0.0413, loss: 0.9972\n",
      "2021-05-13 23:28:37,039 - mmdet - INFO - Epoch [8][320/655]\tlr: 5.000e-08, eta: 9:31:31, time: 1.823, data_time: 0.024, memory: 17532, loss_rpn_cls: 0.0234, loss_rpn_bbox: 0.0282, s0.loss_cls: 0.1260, s0.acc: 95.4541, s0.loss_bbox: 0.2425, s0.loss_mask: 0.2131, s1.loss_cls: 0.0542, s1.acc: 95.9733, s1.loss_bbox: 0.0995, s1.loss_mask: 0.0951, s2.loss_cls: 0.0248, s2.acc: 96.3596, s2.loss_bbox: 0.0402, s2.loss_mask: 0.0438, loss: 0.9908\n",
      "2021-05-13 23:28:55,057 - mmdet - INFO - Epoch [8][330/655]\tlr: 5.000e-08, eta: 9:31:12, time: 1.802, data_time: 0.019, memory: 17532, loss_rpn_cls: 0.0106, loss_rpn_bbox: 0.0167, s0.loss_cls: 0.0833, s0.acc: 96.7529, s0.loss_bbox: 0.2040, s0.loss_mask: 0.1764, s1.loss_cls: 0.0273, s1.acc: 97.9416, s1.loss_bbox: 0.0846, s1.loss_mask: 0.0805, s2.loss_cls: 0.0135, s2.acc: 98.0028, s2.loss_bbox: 0.0370, s2.loss_mask: 0.0376, loss: 0.7715\n",
      "2021-05-13 23:29:13,587 - mmdet - INFO - Epoch [8][340/655]\tlr: 5.000e-08, eta: 9:30:54, time: 1.853, data_time: 0.022, memory: 17532, loss_rpn_cls: 0.0193, loss_rpn_bbox: 0.0205, s0.loss_cls: 0.1170, s0.acc: 95.7959, s0.loss_bbox: 0.2356, s0.loss_mask: 0.1877, s1.loss_cls: 0.0447, s1.acc: 96.9081, s1.loss_bbox: 0.0977, s1.loss_mask: 0.0819, s2.loss_cls: 0.0229, s2.acc: 96.9350, s2.loss_bbox: 0.0416, s2.loss_mask: 0.0381, loss: 0.9070\n",
      "2021-05-13 23:29:31,613 - mmdet - INFO - Epoch [8][350/655]\tlr: 5.000e-08, eta: 9:30:34, time: 1.803, data_time: 0.021, memory: 17532, loss_rpn_cls: 0.0139, loss_rpn_bbox: 0.0236, s0.loss_cls: 0.1065, s0.acc: 96.1133, s0.loss_bbox: 0.2100, s0.loss_mask: 0.1789, s1.loss_cls: 0.0397, s1.acc: 97.1233, s1.loss_bbox: 0.0879, s1.loss_mask: 0.0803, s2.loss_cls: 0.0192, s2.acc: 97.3161, s2.loss_bbox: 0.0373, s2.loss_mask: 0.0375, loss: 0.8350\n",
      "2021-05-13 23:29:49,922 - mmdet - INFO - Epoch [8][360/655]\tlr: 5.000e-08, eta: 9:30:16, time: 1.831, data_time: 0.023, memory: 17532, loss_rpn_cls: 0.0224, loss_rpn_bbox: 0.0283, s0.loss_cls: 0.1360, s0.acc: 94.9902, s0.loss_bbox: 0.2613, s0.loss_mask: 0.2244, s1.loss_cls: 0.0498, s1.acc: 96.5993, s1.loss_bbox: 0.1043, s1.loss_mask: 0.0945, s2.loss_cls: 0.0235, s2.acc: 96.8026, s2.loss_bbox: 0.0425, s2.loss_mask: 0.0421, loss: 1.0290\n",
      "2021-05-13 23:30:08,083 - mmdet - INFO - Epoch [8][370/655]\tlr: 5.000e-08, eta: 9:29:57, time: 1.816, data_time: 0.022, memory: 17532, loss_rpn_cls: 0.0128, loss_rpn_bbox: 0.0213, s0.loss_cls: 0.1026, s0.acc: 96.1328, s0.loss_bbox: 0.2183, s0.loss_mask: 0.1855, s1.loss_cls: 0.0376, s1.acc: 97.3149, s1.loss_bbox: 0.0919, s1.loss_mask: 0.0828, s2.loss_cls: 0.0181, s2.acc: 97.4540, s2.loss_bbox: 0.0407, s2.loss_mask: 0.0389, loss: 0.8504\n",
      "2021-05-13 23:30:26,282 - mmdet - INFO - Epoch [8][380/655]\tlr: 5.000e-08, eta: 9:29:38, time: 1.820, data_time: 0.022, memory: 17532, loss_rpn_cls: 0.0229, loss_rpn_bbox: 0.0246, s0.loss_cls: 0.1175, s0.acc: 95.7324, s0.loss_bbox: 0.2452, s0.loss_mask: 0.2272, s1.loss_cls: 0.0468, s1.acc: 96.7948, s1.loss_bbox: 0.1014, s1.loss_mask: 0.0957, s2.loss_cls: 0.0226, s2.acc: 96.7578, s2.loss_bbox: 0.0436, s2.loss_mask: 0.0446, loss: 0.9921\n",
      "2021-05-13 23:30:44,582 - mmdet - INFO - Epoch [8][390/655]\tlr: 5.000e-08, eta: 9:29:19, time: 1.830, data_time: 0.024, memory: 17532, loss_rpn_cls: 0.0169, loss_rpn_bbox: 0.0286, s0.loss_cls: 0.1264, s0.acc: 95.6104, s0.loss_bbox: 0.2298, s0.loss_mask: 0.1891, s1.loss_cls: 0.0529, s1.acc: 96.3945, s1.loss_bbox: 0.0971, s1.loss_mask: 0.0873, s2.loss_cls: 0.0251, s2.acc: 96.6616, s2.loss_bbox: 0.0414, s2.loss_mask: 0.0413, loss: 0.9360\n",
      "2021-05-13 23:31:03,138 - mmdet - INFO - Epoch [8][400/655]\tlr: 5.000e-08, eta: 9:29:02, time: 1.856, data_time: 0.022, memory: 17532, loss_rpn_cls: 0.0197, loss_rpn_bbox: 0.0286, s0.loss_cls: 0.1190, s0.acc: 95.5713, s0.loss_bbox: 0.2587, s0.loss_mask: 0.2102, s1.loss_cls: 0.0489, s1.acc: 96.3889, s1.loss_bbox: 0.1062, s1.loss_mask: 0.0953, s2.loss_cls: 0.0221, s2.acc: 96.7781, s2.loss_bbox: 0.0437, s2.loss_mask: 0.0444, loss: 0.9968\n",
      "2021-05-13 23:31:22,020 - mmdet - INFO - Epoch [8][410/655]\tlr: 5.000e-08, eta: 9:28:45, time: 1.888, data_time: 0.030, memory: 17532, loss_rpn_cls: 0.0376, loss_rpn_bbox: 0.0440, s0.loss_cls: 0.1661, s0.acc: 93.9502, s0.loss_bbox: 0.3098, s0.loss_mask: 0.2364, s1.loss_cls: 0.0719, s1.acc: 94.7830, s1.loss_bbox: 0.1302, s1.loss_mask: 0.1050, s2.loss_cls: 0.0348, s2.acc: 95.0678, s2.loss_bbox: 0.0514, s2.loss_mask: 0.0487, loss: 1.2360\n",
      "2021-05-13 23:31:41,105 - mmdet - INFO - Epoch [8][420/655]\tlr: 5.000e-08, eta: 9:28:29, time: 1.908, data_time: 0.030, memory: 17532, loss_rpn_cls: 0.0241, loss_rpn_bbox: 0.0330, s0.loss_cls: 0.1552, s0.acc: 94.4092, s0.loss_bbox: 0.3211, s0.loss_mask: 0.2218, s1.loss_cls: 0.0594, s1.acc: 95.7916, s1.loss_bbox: 0.1324, s1.loss_mask: 0.0982, s2.loss_cls: 0.0274, s2.acc: 96.3526, s2.loss_bbox: 0.0560, s2.loss_mask: 0.0450, loss: 1.1735\n",
      "2021-05-13 23:31:59,831 - mmdet - INFO - Epoch [8][430/655]\tlr: 5.000e-08, eta: 9:28:12, time: 1.873, data_time: 0.026, memory: 17532, loss_rpn_cls: 0.0293, loss_rpn_bbox: 0.0291, s0.loss_cls: 0.1335, s0.acc: 95.0049, s0.loss_bbox: 0.2598, s0.loss_mask: 0.2079, s1.loss_cls: 0.0590, s1.acc: 95.9120, s1.loss_bbox: 0.1111, s1.loss_mask: 0.0942, s2.loss_cls: 0.0271, s2.acc: 96.0574, s2.loss_bbox: 0.0458, s2.loss_mask: 0.0439, loss: 1.0407\n",
      "2021-05-13 23:32:18,382 - mmdet - INFO - Epoch [8][440/655]\tlr: 5.000e-08, eta: 9:27:55, time: 1.855, data_time: 0.028, memory: 17532, loss_rpn_cls: 0.0163, loss_rpn_bbox: 0.0218, s0.loss_cls: 0.1244, s0.acc: 95.4492, s0.loss_bbox: 0.2422, s0.loss_mask: 0.2053, s1.loss_cls: 0.0491, s1.acc: 96.2362, s1.loss_bbox: 0.1022, s1.loss_mask: 0.0899, s2.loss_cls: 0.0254, s2.acc: 96.3987, s2.loss_bbox: 0.0443, s2.loss_mask: 0.0416, loss: 0.9624\n",
      "2021-05-13 23:32:37,081 - mmdet - INFO - Epoch [8][450/655]\tlr: 5.000e-08, eta: 9:27:38, time: 1.870, data_time: 0.033, memory: 17532, loss_rpn_cls: 0.0251, loss_rpn_bbox: 0.0354, s0.loss_cls: 0.1682, s0.acc: 93.8672, s0.loss_bbox: 0.2979, s0.loss_mask: 0.2360, s1.loss_cls: 0.0662, s1.acc: 95.2082, s1.loss_bbox: 0.1222, s1.loss_mask: 0.1043, s2.loss_cls: 0.0317, s2.acc: 95.4387, s2.loss_bbox: 0.0495, s2.loss_mask: 0.0486, loss: 1.1851\n",
      "2021-05-13 23:32:55,784 - mmdet - INFO - Epoch [8][460/655]\tlr: 5.000e-08, eta: 9:27:21, time: 1.870, data_time: 0.030, memory: 17532, loss_rpn_cls: 0.0232, loss_rpn_bbox: 0.0282, s0.loss_cls: 0.1415, s0.acc: 94.7900, s0.loss_bbox: 0.2850, s0.loss_mask: 0.2072, s1.loss_cls: 0.0506, s1.acc: 96.3193, s1.loss_bbox: 0.1198, s1.loss_mask: 0.0929, s2.loss_cls: 0.0242, s2.acc: 96.5694, s2.loss_bbox: 0.0519, s2.loss_mask: 0.0433, loss: 1.0677\n",
      "2021-05-13 23:33:14,962 - mmdet - INFO - Epoch [8][470/655]\tlr: 5.000e-08, eta: 9:27:05, time: 1.918, data_time: 0.027, memory: 17532, loss_rpn_cls: 0.0146, loss_rpn_bbox: 0.0210, s0.loss_cls: 0.1106, s0.acc: 95.7520, s0.loss_bbox: 0.2325, s0.loss_mask: 0.1930, s1.loss_cls: 0.0447, s1.acc: 96.5720, s1.loss_bbox: 0.0959, s1.loss_mask: 0.0787, s2.loss_cls: 0.0201, s2.acc: 97.1079, s2.loss_bbox: 0.0406, s2.loss_mask: 0.0356, loss: 0.8872\n",
      "2021-05-13 23:33:33,396 - mmdet - INFO - Epoch [8][480/655]\tlr: 5.000e-08, eta: 9:26:47, time: 1.843, data_time: 0.026, memory: 17532, loss_rpn_cls: 0.0225, loss_rpn_bbox: 0.0253, s0.loss_cls: 0.1226, s0.acc: 95.4199, s0.loss_bbox: 0.2368, s0.loss_mask: 0.1846, s1.loss_cls: 0.0455, s1.acc: 96.7697, s1.loss_bbox: 0.0928, s1.loss_mask: 0.0796, s2.loss_cls: 0.0206, s2.acc: 97.1002, s2.loss_bbox: 0.0389, s2.loss_mask: 0.0372, loss: 0.9066\n",
      "2021-05-13 23:33:51,830 - mmdet - INFO - Epoch [8][490/655]\tlr: 5.000e-08, eta: 9:26:29, time: 1.843, data_time: 0.029, memory: 17532, loss_rpn_cls: 0.0244, loss_rpn_bbox: 0.0281, s0.loss_cls: 0.1287, s0.acc: 95.1416, s0.loss_bbox: 0.2626, s0.loss_mask: 0.2201, s1.loss_cls: 0.0521, s1.acc: 96.2248, s1.loss_bbox: 0.1077, s1.loss_mask: 0.0970, s2.loss_cls: 0.0254, s2.acc: 96.4771, s2.loss_bbox: 0.0441, s2.loss_mask: 0.0457, loss: 1.0359\n",
      "2021-05-13 23:34:09,933 - mmdet - INFO - Epoch [8][500/655]\tlr: 5.000e-08, eta: 9:26:10, time: 1.810, data_time: 0.026, memory: 17532, loss_rpn_cls: 0.0142, loss_rpn_bbox: 0.0247, s0.loss_cls: 0.1045, s0.acc: 96.3184, s0.loss_bbox: 0.2138, s0.loss_mask: 0.1763, s1.loss_cls: 0.0368, s1.acc: 97.4410, s1.loss_bbox: 0.0917, s1.loss_mask: 0.0813, s2.loss_cls: 0.0177, s2.acc: 97.4382, s2.loss_bbox: 0.0382, s2.loss_mask: 0.0385, loss: 0.8379\n",
      "2021-05-13 23:34:28,464 - mmdet - INFO - Epoch [8][510/655]\tlr: 5.000e-08, eta: 9:25:52, time: 1.853, data_time: 0.027, memory: 17532, loss_rpn_cls: 0.0229, loss_rpn_bbox: 0.0327, s0.loss_cls: 0.1425, s0.acc: 94.7852, s0.loss_bbox: 0.2779, s0.loss_mask: 0.2034, s1.loss_cls: 0.0552, s1.acc: 96.0012, s1.loss_bbox: 0.1193, s1.loss_mask: 0.0928, s2.loss_cls: 0.0264, s2.acc: 96.0723, s2.loss_bbox: 0.0493, s2.loss_mask: 0.0421, loss: 1.0645\n",
      "2021-05-13 23:34:46,067 - mmdet - INFO - Epoch [8][520/655]\tlr: 5.000e-08, eta: 9:25:31, time: 1.760, data_time: 0.025, memory: 17532, loss_rpn_cls: 0.0164, loss_rpn_bbox: 0.0228, s0.loss_cls: 0.0893, s0.acc: 96.7383, s0.loss_bbox: 0.1929, s0.loss_mask: 0.1844, s1.loss_cls: 0.0344, s1.acc: 97.6523, s1.loss_bbox: 0.0768, s1.loss_mask: 0.0807, s2.loss_cls: 0.0163, s2.acc: 97.7149, s2.loss_bbox: 0.0314, s2.loss_mask: 0.0370, loss: 0.7825\n",
      "2021-05-13 23:35:04,208 - mmdet - INFO - Epoch [8][530/655]\tlr: 5.000e-08, eta: 9:25:11, time: 1.814, data_time: 0.022, memory: 17532, loss_rpn_cls: 0.0150, loss_rpn_bbox: 0.0205, s0.loss_cls: 0.0803, s0.acc: 97.0215, s0.loss_bbox: 0.1878, s0.loss_mask: 0.1871, s1.loss_cls: 0.0304, s1.acc: 97.8546, s1.loss_bbox: 0.0778, s1.loss_mask: 0.0842, s2.loss_cls: 0.0149, s2.acc: 97.8426, s2.loss_bbox: 0.0340, s2.loss_mask: 0.0396, loss: 0.7718\n",
      "2021-05-13 23:35:22,755 - mmdet - INFO - Epoch [8][540/655]\tlr: 5.000e-08, eta: 9:24:54, time: 1.855, data_time: 0.022, memory: 17532, loss_rpn_cls: 0.0130, loss_rpn_bbox: 0.0188, s0.loss_cls: 0.1025, s0.acc: 96.0938, s0.loss_bbox: 0.2255, s0.loss_mask: 0.1882, s1.loss_cls: 0.0433, s1.acc: 96.7169, s1.loss_bbox: 0.0967, s1.loss_mask: 0.0844, s2.loss_cls: 0.0210, s2.acc: 96.8437, s2.loss_bbox: 0.0395, s2.loss_mask: 0.0389, loss: 0.8716\n",
      "2021-05-13 23:35:40,781 - mmdet - INFO - Epoch [8][550/655]\tlr: 5.000e-08, eta: 9:24:34, time: 1.802, data_time: 0.026, memory: 17532, loss_rpn_cls: 0.0102, loss_rpn_bbox: 0.0169, s0.loss_cls: 0.0870, s0.acc: 96.6455, s0.loss_bbox: 0.1983, s0.loss_mask: 0.1879, s1.loss_cls: 0.0339, s1.acc: 97.3347, s1.loss_bbox: 0.0812, s1.loss_mask: 0.0881, s2.loss_cls: 0.0173, s2.acc: 97.2083, s2.loss_bbox: 0.0343, s2.loss_mask: 0.0410, loss: 0.7960\n",
      "2021-05-13 23:36:00,035 - mmdet - INFO - Epoch [8][560/655]\tlr: 5.000e-08, eta: 9:24:19, time: 1.925, data_time: 0.028, memory: 17532, loss_rpn_cls: 0.0269, loss_rpn_bbox: 0.0365, s0.loss_cls: 0.1594, s0.acc: 93.8281, s0.loss_bbox: 0.3127, s0.loss_mask: 0.2332, s1.loss_cls: 0.0658, s1.acc: 94.8310, s1.loss_bbox: 0.1303, s1.loss_mask: 0.1041, s2.loss_cls: 0.0317, s2.acc: 95.3814, s2.loss_bbox: 0.0520, s2.loss_mask: 0.0472, loss: 1.1998\n",
      "2021-05-13 23:36:18,147 - mmdet - INFO - Epoch [8][570/655]\tlr: 5.000e-08, eta: 9:24:00, time: 1.811, data_time: 0.022, memory: 17532, loss_rpn_cls: 0.0140, loss_rpn_bbox: 0.0197, s0.loss_cls: 0.0958, s0.acc: 96.4014, s0.loss_bbox: 0.2059, s0.loss_mask: 0.1918, s1.loss_cls: 0.0368, s1.acc: 97.2666, s1.loss_bbox: 0.0867, s1.loss_mask: 0.0884, s2.loss_cls: 0.0183, s2.acc: 97.3189, s2.loss_bbox: 0.0367, s2.loss_mask: 0.0412, loss: 0.8353\n",
      "2021-05-13 23:36:36,754 - mmdet - INFO - Epoch [8][580/655]\tlr: 5.000e-08, eta: 9:23:42, time: 1.861, data_time: 0.027, memory: 17532, loss_rpn_cls: 0.0193, loss_rpn_bbox: 0.0268, s0.loss_cls: 0.1161, s0.acc: 95.6641, s0.loss_bbox: 0.2437, s0.loss_mask: 0.1730, s1.loss_cls: 0.0440, s1.acc: 96.7182, s1.loss_bbox: 0.1044, s1.loss_mask: 0.0786, s2.loss_cls: 0.0207, s2.acc: 96.8835, s2.loss_bbox: 0.0428, s2.loss_mask: 0.0361, loss: 0.9055\n",
      "2021-05-13 23:36:55,051 - mmdet - INFO - Epoch [8][590/655]\tlr: 5.000e-08, eta: 9:23:24, time: 1.830, data_time: 0.023, memory: 17532, loss_rpn_cls: 0.0196, loss_rpn_bbox: 0.0252, s0.loss_cls: 0.1162, s0.acc: 95.7227, s0.loss_bbox: 0.2528, s0.loss_mask: 0.2021, s1.loss_cls: 0.0464, s1.acc: 96.6043, s1.loss_bbox: 0.1042, s1.loss_mask: 0.0900, s2.loss_cls: 0.0229, s2.acc: 96.5570, s2.loss_bbox: 0.0446, s2.loss_mask: 0.0418, loss: 0.9657\n",
      "2021-05-13 23:37:14,114 - mmdet - INFO - Epoch [8][600/655]\tlr: 5.000e-08, eta: 9:23:08, time: 1.906, data_time: 0.025, memory: 17532, loss_rpn_cls: 0.0240, loss_rpn_bbox: 0.0316, s0.loss_cls: 0.1463, s0.acc: 94.5166, s0.loss_bbox: 0.3089, s0.loss_mask: 0.2158, s1.loss_cls: 0.0590, s1.acc: 95.5564, s1.loss_bbox: 0.1321, s1.loss_mask: 0.0995, s2.loss_cls: 0.0291, s2.acc: 95.7796, s2.loss_bbox: 0.0532, s2.loss_mask: 0.0449, loss: 1.1444\n",
      "2021-05-13 23:37:32,677 - mmdet - INFO - Epoch [8][610/655]\tlr: 5.000e-08, eta: 9:22:50, time: 1.856, data_time: 0.023, memory: 17532, loss_rpn_cls: 0.0164, loss_rpn_bbox: 0.0216, s0.loss_cls: 0.1243, s0.acc: 95.4199, s0.loss_bbox: 0.2449, s0.loss_mask: 0.1678, s1.loss_cls: 0.0453, s1.acc: 96.6597, s1.loss_bbox: 0.1032, s1.loss_mask: 0.0775, s2.loss_cls: 0.0214, s2.acc: 96.7826, s2.loss_bbox: 0.0455, s2.loss_mask: 0.0361, loss: 0.9038\n",
      "2021-05-13 23:37:50,920 - mmdet - INFO - Epoch [8][620/655]\tlr: 5.000e-08, eta: 9:22:31, time: 1.824, data_time: 0.024, memory: 17532, loss_rpn_cls: 0.0156, loss_rpn_bbox: 0.0219, s0.loss_cls: 0.1075, s0.acc: 96.0840, s0.loss_bbox: 0.2350, s0.loss_mask: 0.1930, s1.loss_cls: 0.0420, s1.acc: 97.0893, s1.loss_bbox: 0.0989, s1.loss_mask: 0.0901, s2.loss_cls: 0.0189, s2.acc: 97.2677, s2.loss_bbox: 0.0416, s2.loss_mask: 0.0423, loss: 0.9069\n",
      "2021-05-13 23:38:09,776 - mmdet - INFO - Epoch [8][630/655]\tlr: 5.000e-08, eta: 9:22:15, time: 1.886, data_time: 0.028, memory: 17532, loss_rpn_cls: 0.0271, loss_rpn_bbox: 0.0306, s0.loss_cls: 0.1384, s0.acc: 94.8486, s0.loss_bbox: 0.2819, s0.loss_mask: 0.2195, s1.loss_cls: 0.0559, s1.acc: 95.9250, s1.loss_bbox: 0.1140, s1.loss_mask: 0.0965, s2.loss_cls: 0.0267, s2.acc: 96.0999, s2.loss_bbox: 0.0475, s2.loss_mask: 0.0454, loss: 1.0837\n",
      "2021-05-13 23:38:27,914 - mmdet - INFO - Epoch [8][640/655]\tlr: 5.000e-08, eta: 9:21:55, time: 1.814, data_time: 0.022, memory: 17532, loss_rpn_cls: 0.0155, loss_rpn_bbox: 0.0225, s0.loss_cls: 0.0910, s0.acc: 96.5625, s0.loss_bbox: 0.2075, s0.loss_mask: 0.1946, s1.loss_cls: 0.0356, s1.acc: 97.3095, s1.loss_bbox: 0.0872, s1.loss_mask: 0.0859, s2.loss_cls: 0.0170, s2.acc: 97.4963, s2.loss_bbox: 0.0376, s2.loss_mask: 0.0390, loss: 0.8334\n",
      "2021-05-13 23:38:46,208 - mmdet - INFO - Epoch [8][650/655]\tlr: 5.000e-08, eta: 9:21:37, time: 1.829, data_time: 0.022, memory: 17532, loss_rpn_cls: 0.0115, loss_rpn_bbox: 0.0124, s0.loss_cls: 0.0961, s0.acc: 96.6846, s0.loss_bbox: 0.1862, s0.loss_mask: 0.1597, s1.loss_cls: 0.0325, s1.acc: 97.8276, s1.loss_bbox: 0.0792, s1.loss_mask: 0.0739, s2.loss_cls: 0.0142, s2.acc: 98.0868, s2.loss_bbox: 0.0339, s2.loss_mask: 0.0339, loss: 0.7334\n",
      "2021-05-13 23:38:55,159 - mmdet - INFO - Saving checkpoint at 8 epochs\n"
     ]
    },
    {
     "name": "stdout",
     "output_type": "stream",
     "text": [
      "[>>>>>>>>>>>>>>>>>>>>>>>>>>>>>] 655/655, 4.7 task/s, elapsed: 138s, ETA:     0s"
     ]
    },
    {
     "name": "stderr",
     "output_type": "stream",
     "text": [
      "2021-05-13 23:41:17,674 - mmdet - INFO - Evaluating bbox...\n"
     ]
    },
    {
     "name": "stdout",
     "output_type": "stream",
     "text": [
      "Loading and preparing results...\n",
      "DONE (t=0.05s)\n",
      "creating index...\n",
      "index created!\n",
      "Running per image evaluation...\n",
      "Evaluate annotation type *bbox*\n",
      "DONE (t=4.37s).\n",
      "Accumulating evaluation results...\n"
     ]
    },
    {
     "name": "stderr",
     "output_type": "stream",
     "text": [
      "2021-05-13 23:41:22,629 - mmdet - INFO - Evaluating segm...\n"
     ]
    },
    {
     "name": "stdout",
     "output_type": "stream",
     "text": [
      "DONE (t=0.51s).\n",
      "Average Precision  (AP) @[ IoU=0.50:0.95 | area=   all | maxDets=100 ] = 0.283\n",
      "Average Precision  (AP) @[ IoU=0.50      | area=   all | maxDets=1000 ] = 0.453\n",
      "Average Precision  (AP) @[ IoU=0.75      | area=   all | maxDets=1000 ] = 0.273\n",
      "Average Precision  (AP) @[ IoU=0.50:0.95 | area= small | maxDets=1000 ] = 0.045\n",
      "Average Precision  (AP) @[ IoU=0.50:0.95 | area=medium | maxDets=1000 ] = 0.252\n",
      "Average Precision  (AP) @[ IoU=0.50:0.95 | area= large | maxDets=1000 ] = 0.502\n",
      "Average Recall     (AR) @[ IoU=0.50:0.95 | area=   all | maxDets=100 ] = 0.373\n",
      "Average Recall     (AR) @[ IoU=0.50:0.95 | area=   all | maxDets=300 ] = 0.373\n",
      "Average Recall     (AR) @[ IoU=0.50:0.95 | area=   all | maxDets=1000 ] = 0.373\n",
      "Average Recall     (AR) @[ IoU=0.50:0.95 | area= small | maxDets=1000 ] = 0.108\n",
      "Average Recall     (AR) @[ IoU=0.50:0.95 | area=medium | maxDets=1000 ] = 0.348\n",
      "Average Recall     (AR) @[ IoU=0.50:0.95 | area= large | maxDets=1000 ] = 0.595\n",
      "Loading and preparing results...\n",
      "DONE (t=0.09s)\n",
      "creating index...\n",
      "index created!\n",
      "Running per image evaluation...\n",
      "Evaluate annotation type *segm*\n",
      "DONE (t=4.03s).\n",
      "Accumulating evaluation results...\n"
     ]
    },
    {
     "name": "stderr",
     "output_type": "stream",
     "text": [
      "2021-05-13 23:41:27,361 - mmdet - INFO - Epoch(val) [8][655]\tbbox_mAP: 0.2830, bbox_mAP_50: 0.4530, bbox_mAP_75: 0.2730, bbox_mAP_s: 0.0450, bbox_mAP_m: 0.2520, bbox_mAP_l: 0.5020, bbox_mAP_copypaste: 0.283 0.453 0.273 0.045 0.252 0.502, segm_mAP: 0.2580, segm_mAP_50: 0.4260, segm_mAP_75: 0.2570, segm_mAP_s: 0.0330, segm_mAP_m: 0.2220, segm_mAP_l: 0.4880, segm_mAP_copypaste: 0.258 0.426 0.257 0.033 0.222 0.488\n"
     ]
    },
    {
     "name": "stdout",
     "output_type": "stream",
     "text": [
      "DONE (t=0.51s).\n",
      "Average Precision  (AP) @[ IoU=0.50:0.95 | area=   all | maxDets=100 ] = 0.258\n",
      "Average Precision  (AP) @[ IoU=0.50      | area=   all | maxDets=1000 ] = 0.426\n",
      "Average Precision  (AP) @[ IoU=0.75      | area=   all | maxDets=1000 ] = 0.257\n",
      "Average Precision  (AP) @[ IoU=0.50:0.95 | area= small | maxDets=1000 ] = 0.033\n",
      "Average Precision  (AP) @[ IoU=0.50:0.95 | area=medium | maxDets=1000 ] = 0.222\n",
      "Average Precision  (AP) @[ IoU=0.50:0.95 | area= large | maxDets=1000 ] = 0.488\n",
      "Average Recall     (AR) @[ IoU=0.50:0.95 | area=   all | maxDets=100 ] = 0.342\n",
      "Average Recall     (AR) @[ IoU=0.50:0.95 | area=   all | maxDets=300 ] = 0.342\n",
      "Average Recall     (AR) @[ IoU=0.50:0.95 | area=   all | maxDets=1000 ] = 0.342\n",
      "Average Recall     (AR) @[ IoU=0.50:0.95 | area= small | maxDets=1000 ] = 0.081\n",
      "Average Recall     (AR) @[ IoU=0.50:0.95 | area=medium | maxDets=1000 ] = 0.311\n",
      "Average Recall     (AR) @[ IoU=0.50:0.95 | area= large | maxDets=1000 ] = 0.579\n"
     ]
    },
    {
     "name": "stderr",
     "output_type": "stream",
     "text": [
      "2021-05-13 23:41:48,743 - mmdet - INFO - Epoch [9][10/655]\tlr: 5.000e-08, eta: 9:20:48, time: 2.136, data_time: 0.255, memory: 17532, loss_rpn_cls: 0.0204, loss_rpn_bbox: 0.0250, s0.loss_cls: 0.1383, s0.acc: 94.7900, s0.loss_bbox: 0.2927, s0.loss_mask: 0.2084, s1.loss_cls: 0.0558, s1.acc: 95.9262, s1.loss_bbox: 0.1231, s1.loss_mask: 0.0930, s2.loss_cls: 0.0275, s2.acc: 96.1550, s2.loss_bbox: 0.0508, s2.loss_mask: 0.0428, loss: 1.0776\n",
      "2021-05-13 23:42:07,445 - mmdet - INFO - Epoch [9][20/655]\tlr: 5.000e-08, eta: 9:20:30, time: 1.870, data_time: 0.026, memory: 17532, loss_rpn_cls: 0.0259, loss_rpn_bbox: 0.0332, s0.loss_cls: 0.1328, s0.acc: 95.0879, s0.loss_bbox: 0.2896, s0.loss_mask: 0.2117, s1.loss_cls: 0.0541, s1.acc: 95.9734, s1.loss_bbox: 0.1189, s1.loss_mask: 0.0931, s2.loss_cls: 0.0255, s2.acc: 96.1671, s2.loss_bbox: 0.0475, s2.loss_mask: 0.0422, loss: 1.0745\n",
      "2021-05-13 23:42:26,143 - mmdet - INFO - Epoch [9][30/655]\tlr: 5.000e-08, eta: 9:20:13, time: 1.870, data_time: 0.026, memory: 17532, loss_rpn_cls: 0.0192, loss_rpn_bbox: 0.0235, s0.loss_cls: 0.1160, s0.acc: 95.4688, s0.loss_bbox: 0.2679, s0.loss_mask: 0.1972, s1.loss_cls: 0.0448, s1.acc: 96.5660, s1.loss_bbox: 0.1118, s1.loss_mask: 0.0889, s2.loss_cls: 0.0240, s2.acc: 96.2925, s2.loss_bbox: 0.0464, s2.loss_mask: 0.0407, loss: 0.9805\n",
      "2021-05-13 23:42:45,000 - mmdet - INFO - Epoch [9][40/655]\tlr: 5.000e-08, eta: 9:19:57, time: 1.886, data_time: 0.026, memory: 17532, loss_rpn_cls: 0.0282, loss_rpn_bbox: 0.0262, s0.loss_cls: 0.1326, s0.acc: 95.0244, s0.loss_bbox: 0.2930, s0.loss_mask: 0.2165, s1.loss_cls: 0.0529, s1.acc: 96.1323, s1.loss_bbox: 0.1191, s1.loss_mask: 0.0964, s2.loss_cls: 0.0249, s2.acc: 96.6310, s2.loss_bbox: 0.0504, s2.loss_mask: 0.0445, loss: 1.0849\n",
      "2021-05-13 23:43:03,546 - mmdet - INFO - Epoch [9][50/655]\tlr: 5.000e-08, eta: 9:19:39, time: 1.855, data_time: 0.025, memory: 17532, loss_rpn_cls: 0.0171, loss_rpn_bbox: 0.0244, s0.loss_cls: 0.1253, s0.acc: 95.1758, s0.loss_bbox: 0.2678, s0.loss_mask: 0.2160, s1.loss_cls: 0.0532, s1.acc: 96.0722, s1.loss_bbox: 0.1178, s1.loss_mask: 0.1008, s2.loss_cls: 0.0240, s2.acc: 96.3538, s2.loss_bbox: 0.0492, s2.loss_mask: 0.0469, loss: 1.0425\n",
      "2021-05-13 23:43:21,808 - mmdet - INFO - Epoch [9][60/655]\tlr: 5.000e-08, eta: 9:19:20, time: 1.826, data_time: 0.028, memory: 17532, loss_rpn_cls: 0.0203, loss_rpn_bbox: 0.0246, s0.loss_cls: 0.1166, s0.acc: 95.9082, s0.loss_bbox: 0.2179, s0.loss_mask: 0.1814, s1.loss_cls: 0.0450, s1.acc: 96.9460, s1.loss_bbox: 0.0929, s1.loss_mask: 0.0862, s2.loss_cls: 0.0219, s2.acc: 96.8910, s2.loss_bbox: 0.0393, s2.loss_mask: 0.0412, loss: 0.8873\n",
      "2021-05-13 23:43:40,286 - mmdet - INFO - Epoch [9][70/655]\tlr: 5.000e-08, eta: 9:19:02, time: 1.848, data_time: 0.024, memory: 17532, loss_rpn_cls: 0.0158, loss_rpn_bbox: 0.0205, s0.loss_cls: 0.1191, s0.acc: 95.6836, s0.loss_bbox: 0.2494, s0.loss_mask: 0.1896, s1.loss_cls: 0.0451, s1.acc: 96.8318, s1.loss_bbox: 0.1082, s1.loss_mask: 0.0884, s2.loss_cls: 0.0210, s2.acc: 97.1650, s2.loss_bbox: 0.0460, s2.loss_mask: 0.0404, loss: 0.9434\n",
      "2021-05-13 23:43:58,872 - mmdet - INFO - Epoch [9][80/655]\tlr: 5.000e-08, eta: 9:18:45, time: 1.859, data_time: 0.024, memory: 17532, loss_rpn_cls: 0.0198, loss_rpn_bbox: 0.0239, s0.loss_cls: 0.1180, s0.acc: 95.6592, s0.loss_bbox: 0.2377, s0.loss_mask: 0.1803, s1.loss_cls: 0.0453, s1.acc: 96.7685, s1.loss_bbox: 0.1016, s1.loss_mask: 0.0831, s2.loss_cls: 0.0213, s2.acc: 97.1645, s2.loss_bbox: 0.0452, s2.loss_mask: 0.0403, loss: 0.9163\n",
      "2021-05-13 23:44:18,002 - mmdet - INFO - Epoch [9][90/655]\tlr: 5.000e-08, eta: 9:18:29, time: 1.913, data_time: 0.030, memory: 17532, loss_rpn_cls: 0.0317, loss_rpn_bbox: 0.0410, s0.loss_cls: 0.1651, s0.acc: 94.0430, s0.loss_bbox: 0.3250, s0.loss_mask: 0.2323, s1.loss_cls: 0.0693, s1.acc: 95.0359, s1.loss_bbox: 0.1352, s1.loss_mask: 0.1071, s2.loss_cls: 0.0327, s2.acc: 95.4342, s2.loss_bbox: 0.0545, s2.loss_mask: 0.0502, loss: 1.2440\n",
      "2021-05-13 23:44:36,605 - mmdet - INFO - Epoch [9][100/655]\tlr: 5.000e-08, eta: 9:18:11, time: 1.860, data_time: 0.025, memory: 17532, loss_rpn_cls: 0.0140, loss_rpn_bbox: 0.0225, s0.loss_cls: 0.1157, s0.acc: 95.6689, s0.loss_bbox: 0.2259, s0.loss_mask: 0.2011, s1.loss_cls: 0.0456, s1.acc: 96.7966, s1.loss_bbox: 0.0938, s1.loss_mask: 0.0875, s2.loss_cls: 0.0215, s2.acc: 96.6852, s2.loss_bbox: 0.0399, s2.loss_mask: 0.0392, loss: 0.9066\n",
      "2021-05-13 23:44:55,657 - mmdet - INFO - Epoch [9][110/655]\tlr: 5.000e-08, eta: 9:17:55, time: 1.905, data_time: 0.025, memory: 17532, loss_rpn_cls: 0.0148, loss_rpn_bbox: 0.0336, s0.loss_cls: 0.1450, s0.acc: 94.7803, s0.loss_bbox: 0.2886, s0.loss_mask: 0.2240, s1.loss_cls: 0.0575, s1.acc: 95.9133, s1.loss_bbox: 0.1178, s1.loss_mask: 0.1003, s2.loss_cls: 0.0269, s2.acc: 96.2230, s2.loss_bbox: 0.0484, s2.loss_mask: 0.0464, loss: 1.1034\n",
      "2021-05-13 23:45:14,335 - mmdet - INFO - Epoch [9][120/655]\tlr: 5.000e-08, eta: 9:17:38, time: 1.868, data_time: 0.024, memory: 17532, loss_rpn_cls: 0.0202, loss_rpn_bbox: 0.0264, s0.loss_cls: 0.1081, s0.acc: 96.0205, s0.loss_bbox: 0.2349, s0.loss_mask: 0.1856, s1.loss_cls: 0.0428, s1.acc: 96.8088, s1.loss_bbox: 0.0948, s1.loss_mask: 0.0855, s2.loss_cls: 0.0194, s2.acc: 97.1143, s2.loss_bbox: 0.0411, s2.loss_mask: 0.0397, loss: 0.8985\n",
      "2021-05-13 23:45:32,716 - mmdet - INFO - Epoch [9][130/655]\tlr: 5.000e-08, eta: 9:17:20, time: 1.838, data_time: 0.024, memory: 17532, loss_rpn_cls: 0.0154, loss_rpn_bbox: 0.0261, s0.loss_cls: 0.1083, s0.acc: 96.1914, s0.loss_bbox: 0.2378, s0.loss_mask: 0.2154, s1.loss_cls: 0.0388, s1.acc: 97.2877, s1.loss_bbox: 0.1025, s1.loss_mask: 0.0981, s2.loss_cls: 0.0183, s2.acc: 97.4037, s2.loss_bbox: 0.0439, s2.loss_mask: 0.0445, loss: 0.9491\n",
      "2021-05-13 23:45:51,438 - mmdet - INFO - Epoch [9][140/655]\tlr: 5.000e-08, eta: 9:17:03, time: 1.872, data_time: 0.025, memory: 17532, loss_rpn_cls: 0.0171, loss_rpn_bbox: 0.0183, s0.loss_cls: 0.1051, s0.acc: 96.1377, s0.loss_bbox: 0.2317, s0.loss_mask: 0.1832, s1.loss_cls: 0.0381, s1.acc: 97.4229, s1.loss_bbox: 0.0972, s1.loss_mask: 0.0784, s2.loss_cls: 0.0172, s2.acc: 97.7898, s2.loss_bbox: 0.0442, s2.loss_mask: 0.0368, loss: 0.8673\n",
      "2021-05-13 23:46:10,167 - mmdet - INFO - Epoch [9][150/655]\tlr: 5.000e-08, eta: 9:16:45, time: 1.873, data_time: 0.024, memory: 17532, loss_rpn_cls: 0.0153, loss_rpn_bbox: 0.0217, s0.loss_cls: 0.1134, s0.acc: 95.6201, s0.loss_bbox: 0.2708, s0.loss_mask: 0.2183, s1.loss_cls: 0.0457, s1.acc: 96.5445, s1.loss_bbox: 0.1118, s1.loss_mask: 0.1013, s2.loss_cls: 0.0223, s2.acc: 96.6150, s2.loss_bbox: 0.0465, s2.loss_mask: 0.0479, loss: 1.0149\n",
      "2021-05-13 23:46:28,737 - mmdet - INFO - Epoch [9][160/655]\tlr: 5.000e-08, eta: 9:16:28, time: 1.857, data_time: 0.026, memory: 17532, loss_rpn_cls: 0.0182, loss_rpn_bbox: 0.0295, s0.loss_cls: 0.1312, s0.acc: 95.2197, s0.loss_bbox: 0.2464, s0.loss_mask: 0.2075, s1.loss_cls: 0.0489, s1.acc: 96.5633, s1.loss_bbox: 0.1018, s1.loss_mask: 0.0940, s2.loss_cls: 0.0239, s2.acc: 96.2740, s2.loss_bbox: 0.0434, s2.loss_mask: 0.0422, loss: 0.9870\n",
      "2021-05-13 23:46:47,438 - mmdet - INFO - Epoch [9][170/655]\tlr: 5.000e-08, eta: 9:16:11, time: 1.870, data_time: 0.026, memory: 17532, loss_rpn_cls: 0.0173, loss_rpn_bbox: 0.0239, s0.loss_cls: 0.1207, s0.acc: 95.6348, s0.loss_bbox: 0.2570, s0.loss_mask: 0.2019, s1.loss_cls: 0.0470, s1.acc: 96.6730, s1.loss_bbox: 0.1073, s1.loss_mask: 0.0916, s2.loss_cls: 0.0220, s2.acc: 96.9362, s2.loss_bbox: 0.0457, s2.loss_mask: 0.0420, loss: 0.9763\n",
      "2021-05-13 23:47:05,944 - mmdet - INFO - Epoch [9][180/655]\tlr: 5.000e-08, eta: 9:15:53, time: 1.851, data_time: 0.027, memory: 17532, loss_rpn_cls: 0.0184, loss_rpn_bbox: 0.0242, s0.loss_cls: 0.1087, s0.acc: 96.0107, s0.loss_bbox: 0.2319, s0.loss_mask: 0.2008, s1.loss_cls: 0.0413, s1.acc: 97.0428, s1.loss_bbox: 0.0985, s1.loss_mask: 0.0944, s2.loss_cls: 0.0213, s2.acc: 96.9853, s2.loss_bbox: 0.0417, s2.loss_mask: 0.0466, loss: 0.9277\n",
      "2021-05-13 23:47:24,201 - mmdet - INFO - Epoch [9][190/655]\tlr: 5.000e-08, eta: 9:15:34, time: 1.826, data_time: 0.022, memory: 17532, loss_rpn_cls: 0.0125, loss_rpn_bbox: 0.0199, s0.loss_cls: 0.1063, s0.acc: 96.2500, s0.loss_bbox: 0.2257, s0.loss_mask: 0.1975, s1.loss_cls: 0.0431, s1.acc: 96.8871, s1.loss_bbox: 0.0953, s1.loss_mask: 0.0858, s2.loss_cls: 0.0212, s2.acc: 96.5362, s2.loss_bbox: 0.0387, s2.loss_mask: 0.0403, loss: 0.8865\n",
      "2021-05-13 23:47:42,328 - mmdet - INFO - Epoch [9][200/655]\tlr: 5.000e-08, eta: 9:15:15, time: 1.813, data_time: 0.022, memory: 17532, loss_rpn_cls: 0.0119, loss_rpn_bbox: 0.0183, s0.loss_cls: 0.1113, s0.acc: 95.8740, s0.loss_bbox: 0.2298, s0.loss_mask: 0.1993, s1.loss_cls: 0.0414, s1.acc: 96.9605, s1.loss_bbox: 0.0990, s1.loss_mask: 0.0894, s2.loss_cls: 0.0204, s2.acc: 96.8552, s2.loss_bbox: 0.0419, s2.loss_mask: 0.0420, loss: 0.9046\n",
      "2021-05-13 23:48:00,842 - mmdet - INFO - Epoch [9][210/655]\tlr: 5.000e-08, eta: 9:14:57, time: 1.851, data_time: 0.029, memory: 17532, loss_rpn_cls: 0.0209, loss_rpn_bbox: 0.0264, s0.loss_cls: 0.1278, s0.acc: 95.4004, s0.loss_bbox: 0.2433, s0.loss_mask: 0.2005, s1.loss_cls: 0.0464, s1.acc: 96.8547, s1.loss_bbox: 0.1000, s1.loss_mask: 0.0861, s2.loss_cls: 0.0226, s2.acc: 96.7610, s2.loss_bbox: 0.0424, s2.loss_mask: 0.0414, loss: 0.9578\n",
      "2021-05-13 23:48:19,502 - mmdet - INFO - Epoch [9][220/655]\tlr: 5.000e-08, eta: 9:14:40, time: 1.866, data_time: 0.031, memory: 17532, loss_rpn_cls: 0.0269, loss_rpn_bbox: 0.0386, s0.loss_cls: 0.1570, s0.acc: 94.2432, s0.loss_bbox: 0.3008, s0.loss_mask: 0.2358, s1.loss_cls: 0.0664, s1.acc: 95.0810, s1.loss_bbox: 0.1214, s1.loss_mask: 0.1024, s2.loss_cls: 0.0325, s2.acc: 95.4098, s2.loss_bbox: 0.0488, s2.loss_mask: 0.0470, loss: 1.1776\n",
      "2021-05-13 23:48:37,871 - mmdet - INFO - Epoch [9][230/655]\tlr: 5.000e-08, eta: 9:14:21, time: 1.837, data_time: 0.025, memory: 17532, loss_rpn_cls: 0.0223, loss_rpn_bbox: 0.0283, s0.loss_cls: 0.1174, s0.acc: 95.7861, s0.loss_bbox: 0.2313, s0.loss_mask: 0.1967, s1.loss_cls: 0.0447, s1.acc: 97.0872, s1.loss_bbox: 0.0972, s1.loss_mask: 0.0878, s2.loss_cls: 0.0221, s2.acc: 96.9333, s2.loss_bbox: 0.0421, s2.loss_mask: 0.0410, loss: 0.9309\n",
      "2021-05-13 23:48:56,363 - mmdet - INFO - Epoch [9][240/655]\tlr: 5.000e-08, eta: 9:14:03, time: 1.849, data_time: 0.024, memory: 17532, loss_rpn_cls: 0.0210, loss_rpn_bbox: 0.0291, s0.loss_cls: 0.1150, s0.acc: 95.9326, s0.loss_bbox: 0.2414, s0.loss_mask: 0.1862, s1.loss_cls: 0.0446, s1.acc: 96.6979, s1.loss_bbox: 0.1028, s1.loss_mask: 0.0875, s2.loss_cls: 0.0212, s2.acc: 96.8791, s2.loss_bbox: 0.0444, s2.loss_mask: 0.0400, loss: 0.9331\n",
      "2021-05-13 23:49:15,048 - mmdet - INFO - Epoch [9][250/655]\tlr: 5.000e-08, eta: 9:13:46, time: 1.868, data_time: 0.028, memory: 17532, loss_rpn_cls: 0.0220, loss_rpn_bbox: 0.0320, s0.loss_cls: 0.1332, s0.acc: 95.2539, s0.loss_bbox: 0.2525, s0.loss_mask: 0.2283, s1.loss_cls: 0.0567, s1.acc: 95.9920, s1.loss_bbox: 0.1023, s1.loss_mask: 0.1016, s2.loss_cls: 0.0266, s2.acc: 95.8555, s2.loss_bbox: 0.0425, s2.loss_mask: 0.0469, loss: 1.0448\n",
      "2021-05-13 23:49:33,317 - mmdet - INFO - Epoch [9][260/655]\tlr: 5.000e-08, eta: 9:13:27, time: 1.827, data_time: 0.022, memory: 17532, loss_rpn_cls: 0.0209, loss_rpn_bbox: 0.0246, s0.loss_cls: 0.1137, s0.acc: 95.8740, s0.loss_bbox: 0.2351, s0.loss_mask: 0.2028, s1.loss_cls: 0.0476, s1.acc: 96.6666, s1.loss_bbox: 0.0990, s1.loss_mask: 0.0933, s2.loss_cls: 0.0198, s2.acc: 97.1612, s2.loss_bbox: 0.0411, s2.loss_mask: 0.0427, loss: 0.9406\n",
      "2021-05-13 23:49:52,528 - mmdet - INFO - Epoch [9][270/655]\tlr: 5.000e-08, eta: 9:13:12, time: 1.921, data_time: 0.024, memory: 17532, loss_rpn_cls: 0.0199, loss_rpn_bbox: 0.0281, s0.loss_cls: 0.1506, s0.acc: 94.4287, s0.loss_bbox: 0.3031, s0.loss_mask: 0.2134, s1.loss_cls: 0.0570, s1.acc: 95.9898, s1.loss_bbox: 0.1237, s1.loss_mask: 0.0946, s2.loss_cls: 0.0273, s2.acc: 96.0612, s2.loss_bbox: 0.0502, s2.loss_mask: 0.0417, loss: 1.1096\n",
      "2021-05-13 23:50:11,473 - mmdet - INFO - Epoch [9][280/655]\tlr: 5.000e-08, eta: 9:12:55, time: 1.894, data_time: 0.024, memory: 17532, loss_rpn_cls: 0.0221, loss_rpn_bbox: 0.0314, s0.loss_cls: 0.1395, s0.acc: 94.8242, s0.loss_bbox: 0.2645, s0.loss_mask: 0.2169, s1.loss_cls: 0.0552, s1.acc: 96.2629, s1.loss_bbox: 0.1093, s1.loss_mask: 0.0970, s2.loss_cls: 0.0257, s2.acc: 96.4070, s2.loss_bbox: 0.0442, s2.loss_mask: 0.0434, loss: 1.0492\n",
      "2021-05-13 23:50:30,128 - mmdet - INFO - Epoch [9][290/655]\tlr: 5.000e-08, eta: 9:12:38, time: 1.866, data_time: 0.024, memory: 17532, loss_rpn_cls: 0.0224, loss_rpn_bbox: 0.0284, s0.loss_cls: 0.1370, s0.acc: 94.9805, s0.loss_bbox: 0.2734, s0.loss_mask: 0.1977, s1.loss_cls: 0.0526, s1.acc: 96.0893, s1.loss_bbox: 0.1116, s1.loss_mask: 0.0886, s2.loss_cls: 0.0248, s2.acc: 96.3799, s2.loss_bbox: 0.0453, s2.loss_mask: 0.0413, loss: 1.0230\n",
      "2021-05-13 23:50:48,668 - mmdet - INFO - Epoch [9][300/655]\tlr: 5.000e-08, eta: 9:12:20, time: 1.854, data_time: 0.024, memory: 17532, loss_rpn_cls: 0.0217, loss_rpn_bbox: 0.0224, s0.loss_cls: 0.1176, s0.acc: 95.5957, s0.loss_bbox: 0.2431, s0.loss_mask: 0.2092, s1.loss_cls: 0.0465, s1.acc: 96.6510, s1.loss_bbox: 0.0987, s1.loss_mask: 0.0931, s2.loss_cls: 0.0230, s2.acc: 96.5726, s2.loss_bbox: 0.0412, s2.loss_mask: 0.0431, loss: 0.9597\n",
      "2021-05-13 23:51:07,644 - mmdet - INFO - Epoch [9][310/655]\tlr: 5.000e-08, eta: 9:12:03, time: 1.898, data_time: 0.027, memory: 17532, loss_rpn_cls: 0.0219, loss_rpn_bbox: 0.0265, s0.loss_cls: 0.1345, s0.acc: 94.8877, s0.loss_bbox: 0.2829, s0.loss_mask: 0.2083, s1.loss_cls: 0.0511, s1.acc: 96.1615, s1.loss_bbox: 0.1179, s1.loss_mask: 0.0953, s2.loss_cls: 0.0234, s2.acc: 96.5953, s2.loss_bbox: 0.0497, s2.loss_mask: 0.0448, loss: 1.0563\n",
      "2021-05-13 23:51:26,407 - mmdet - INFO - Epoch [9][320/655]\tlr: 5.000e-08, eta: 9:11:46, time: 1.876, data_time: 0.023, memory: 17532, loss_rpn_cls: 0.0158, loss_rpn_bbox: 0.0218, s0.loss_cls: 0.1294, s0.acc: 95.4004, s0.loss_bbox: 0.2760, s0.loss_mask: 0.2185, s1.loss_cls: 0.0467, s1.acc: 96.8239, s1.loss_bbox: 0.1165, s1.loss_mask: 0.1005, s2.loss_cls: 0.0231, s2.acc: 96.7170, s2.loss_bbox: 0.0504, s2.loss_mask: 0.0465, loss: 1.0452\n",
      "2021-05-13 23:51:44,596 - mmdet - INFO - Epoch [9][330/655]\tlr: 5.000e-08, eta: 9:11:27, time: 1.819, data_time: 0.023, memory: 17532, loss_rpn_cls: 0.0279, loss_rpn_bbox: 0.0330, s0.loss_cls: 0.1252, s0.acc: 95.4102, s0.loss_bbox: 0.2372, s0.loss_mask: 0.1961, s1.loss_cls: 0.0513, s1.acc: 96.4928, s1.loss_bbox: 0.0985, s1.loss_mask: 0.0881, s2.loss_cls: 0.0252, s2.acc: 96.6970, s2.loss_bbox: 0.0395, s2.loss_mask: 0.0404, loss: 0.9626\n",
      "2021-05-13 23:52:02,455 - mmdet - INFO - Epoch [9][340/655]\tlr: 5.000e-08, eta: 9:11:07, time: 1.786, data_time: 0.018, memory: 17532, loss_rpn_cls: 0.0115, loss_rpn_bbox: 0.0147, s0.loss_cls: 0.0896, s0.acc: 96.6650, s0.loss_bbox: 0.2004, s0.loss_mask: 0.1873, s1.loss_cls: 0.0359, s1.acc: 97.4371, s1.loss_bbox: 0.0890, s1.loss_mask: 0.0866, s2.loss_cls: 0.0169, s2.acc: 97.8515, s2.loss_bbox: 0.0375, s2.loss_mask: 0.0390, loss: 0.8084\n",
      "2021-05-13 23:52:21,268 - mmdet - INFO - Epoch [9][350/655]\tlr: 5.000e-08, eta: 9:10:50, time: 1.881, data_time: 0.027, memory: 17532, loss_rpn_cls: 0.0178, loss_rpn_bbox: 0.0323, s0.loss_cls: 0.1539, s0.acc: 94.5166, s0.loss_bbox: 0.2932, s0.loss_mask: 0.2191, s1.loss_cls: 0.0614, s1.acc: 95.6851, s1.loss_bbox: 0.1210, s1.loss_mask: 0.0974, s2.loss_cls: 0.0285, s2.acc: 95.9330, s2.loss_bbox: 0.0511, s2.loss_mask: 0.0451, loss: 1.1207\n",
      "2021-05-13 23:52:39,720 - mmdet - INFO - Epoch [9][360/655]\tlr: 5.000e-08, eta: 9:10:32, time: 1.845, data_time: 0.025, memory: 17532, loss_rpn_cls: 0.0270, loss_rpn_bbox: 0.0269, s0.loss_cls: 0.1399, s0.acc: 94.9121, s0.loss_bbox: 0.2707, s0.loss_mask: 0.2030, s1.loss_cls: 0.0535, s1.acc: 96.2235, s1.loss_bbox: 0.1152, s1.loss_mask: 0.0911, s2.loss_cls: 0.0268, s2.acc: 96.1850, s2.loss_bbox: 0.0464, s2.loss_mask: 0.0416, loss: 1.0420\n",
      "2021-05-13 23:52:58,241 - mmdet - INFO - Epoch [9][370/655]\tlr: 5.000e-08, eta: 9:10:14, time: 1.852, data_time: 0.021, memory: 17532, loss_rpn_cls: 0.0196, loss_rpn_bbox: 0.0272, s0.loss_cls: 0.1254, s0.acc: 95.3369, s0.loss_bbox: 0.2726, s0.loss_mask: 0.1963, s1.loss_cls: 0.0506, s1.acc: 96.1002, s1.loss_bbox: 0.1144, s1.loss_mask: 0.0895, s2.loss_cls: 0.0252, s2.acc: 96.0799, s2.loss_bbox: 0.0470, s2.loss_mask: 0.0412, loss: 1.0089\n",
      "2021-05-13 23:53:16,371 - mmdet - INFO - Epoch [9][380/655]\tlr: 5.000e-08, eta: 9:09:55, time: 1.813, data_time: 0.021, memory: 17532, loss_rpn_cls: 0.0161, loss_rpn_bbox: 0.0208, s0.loss_cls: 0.1084, s0.acc: 96.2012, s0.loss_bbox: 0.2247, s0.loss_mask: 0.2020, s1.loss_cls: 0.0448, s1.acc: 96.7718, s1.loss_bbox: 0.0947, s1.loss_mask: 0.0891, s2.loss_cls: 0.0229, s2.acc: 96.6873, s2.loss_bbox: 0.0390, s2.loss_mask: 0.0401, loss: 0.9028\n",
      "2021-05-13 23:53:34,577 - mmdet - INFO - Epoch [9][390/655]\tlr: 5.000e-08, eta: 9:09:36, time: 1.821, data_time: 0.021, memory: 17532, loss_rpn_cls: 0.0206, loss_rpn_bbox: 0.0239, s0.loss_cls: 0.1206, s0.acc: 95.6982, s0.loss_bbox: 0.2376, s0.loss_mask: 0.1994, s1.loss_cls: 0.0468, s1.acc: 96.6500, s1.loss_bbox: 0.1015, s1.loss_mask: 0.0890, s2.loss_cls: 0.0224, s2.acc: 96.8654, s2.loss_bbox: 0.0426, s2.loss_mask: 0.0415, loss: 0.9459\n",
      "2021-05-13 23:53:52,403 - mmdet - INFO - Epoch [9][400/655]\tlr: 5.000e-08, eta: 9:09:16, time: 1.783, data_time: 0.019, memory: 17532, loss_rpn_cls: 0.0139, loss_rpn_bbox: 0.0176, s0.loss_cls: 0.0894, s0.acc: 96.5430, s0.loss_bbox: 0.2007, s0.loss_mask: 0.1827, s1.loss_cls: 0.0347, s1.acc: 97.3914, s1.loss_bbox: 0.0839, s1.loss_mask: 0.0808, s2.loss_cls: 0.0167, s2.acc: 97.6258, s2.loss_bbox: 0.0361, s2.loss_mask: 0.0379, loss: 0.7943\n",
      "2021-05-13 23:54:09,980 - mmdet - INFO - Epoch [9][410/655]\tlr: 5.000e-08, eta: 9:08:55, time: 1.758, data_time: 0.020, memory: 17532, loss_rpn_cls: 0.0114, loss_rpn_bbox: 0.0140, s0.loss_cls: 0.0760, s0.acc: 97.0850, s0.loss_bbox: 0.1801, s0.loss_mask: 0.1483, s1.loss_cls: 0.0300, s1.acc: 97.6921, s1.loss_bbox: 0.0748, s1.loss_mask: 0.0698, s2.loss_cls: 0.0138, s2.acc: 97.8078, s2.loss_bbox: 0.0327, s2.loss_mask: 0.0312, loss: 0.6820\n",
      "2021-05-13 23:54:28,692 - mmdet - INFO - Epoch [9][420/655]\tlr: 5.000e-08, eta: 9:08:38, time: 1.871, data_time: 0.027, memory: 17532, loss_rpn_cls: 0.0190, loss_rpn_bbox: 0.0265, s0.loss_cls: 0.1349, s0.acc: 95.0977, s0.loss_bbox: 0.2793, s0.loss_mask: 0.2128, s1.loss_cls: 0.0553, s1.acc: 96.2096, s1.loss_bbox: 0.1113, s1.loss_mask: 0.0976, s2.loss_cls: 0.0242, s2.acc: 96.6215, s2.loss_bbox: 0.0478, s2.loss_mask: 0.0449, loss: 1.0536\n",
      "2021-05-13 23:54:47,317 - mmdet - INFO - Epoch [9][430/655]\tlr: 5.000e-08, eta: 9:08:20, time: 1.863, data_time: 0.028, memory: 17532, loss_rpn_cls: 0.0326, loss_rpn_bbox: 0.0414, s0.loss_cls: 0.1832, s0.acc: 93.4668, s0.loss_bbox: 0.3245, s0.loss_mask: 0.2412, s1.loss_cls: 0.0791, s1.acc: 94.5343, s1.loss_bbox: 0.1300, s1.loss_mask: 0.1077, s2.loss_cls: 0.0366, s2.acc: 94.7107, s2.loss_bbox: 0.0479, s2.loss_mask: 0.0481, loss: 1.2723\n",
      "2021-05-13 23:55:05,742 - mmdet - INFO - Epoch [9][440/655]\tlr: 5.000e-08, eta: 9:08:02, time: 1.842, data_time: 0.024, memory: 17532, loss_rpn_cls: 0.0189, loss_rpn_bbox: 0.0259, s0.loss_cls: 0.1507, s0.acc: 94.4678, s0.loss_bbox: 0.2701, s0.loss_mask: 0.2067, s1.loss_cls: 0.0580, s1.acc: 95.7697, s1.loss_bbox: 0.1131, s1.loss_mask: 0.0938, s2.loss_cls: 0.0284, s2.acc: 95.9824, s2.loss_bbox: 0.0471, s2.loss_mask: 0.0443, loss: 1.0569\n",
      "2021-05-13 23:55:24,265 - mmdet - INFO - Epoch [9][450/655]\tlr: 5.000e-08, eta: 9:07:44, time: 1.852, data_time: 0.023, memory: 17532, loss_rpn_cls: 0.0158, loss_rpn_bbox: 0.0248, s0.loss_cls: 0.1211, s0.acc: 95.4736, s0.loss_bbox: 0.2544, s0.loss_mask: 0.1974, s1.loss_cls: 0.0484, s1.acc: 96.4662, s1.loss_bbox: 0.1101, s1.loss_mask: 0.0911, s2.loss_cls: 0.0247, s2.acc: 96.2654, s2.loss_bbox: 0.0461, s2.loss_mask: 0.0428, loss: 0.9769\n",
      "2021-05-13 23:55:43,271 - mmdet - INFO - Epoch [9][460/655]\tlr: 5.000e-08, eta: 9:07:28, time: 1.901, data_time: 0.025, memory: 17532, loss_rpn_cls: 0.0235, loss_rpn_bbox: 0.0264, s0.loss_cls: 0.1437, s0.acc: 94.7803, s0.loss_bbox: 0.2975, s0.loss_mask: 0.2127, s1.loss_cls: 0.0610, s1.acc: 95.8347, s1.loss_bbox: 0.1251, s1.loss_mask: 0.0955, s2.loss_cls: 0.0297, s2.acc: 95.6581, s2.loss_bbox: 0.0506, s2.loss_mask: 0.0437, loss: 1.1093\n",
      "2021-05-13 23:56:01,650 - mmdet - INFO - Epoch [9][470/655]\tlr: 5.000e-08, eta: 9:07:10, time: 1.838, data_time: 0.025, memory: 17532, loss_rpn_cls: 0.0135, loss_rpn_bbox: 0.0237, s0.loss_cls: 0.1150, s0.acc: 95.8203, s0.loss_bbox: 0.2267, s0.loss_mask: 0.1765, s1.loss_cls: 0.0443, s1.acc: 96.9548, s1.loss_bbox: 0.0962, s1.loss_mask: 0.0815, s2.loss_cls: 0.0221, s2.acc: 96.9091, s2.loss_bbox: 0.0387, s2.loss_mask: 0.0383, loss: 0.8765\n",
      "2021-05-13 23:56:20,365 - mmdet - INFO - Epoch [9][480/655]\tlr: 5.000e-08, eta: 9:06:52, time: 1.872, data_time: 0.021, memory: 17532, loss_rpn_cls: 0.0207, loss_rpn_bbox: 0.0234, s0.loss_cls: 0.1027, s0.acc: 95.8057, s0.loss_bbox: 0.2297, s0.loss_mask: 0.2030, s1.loss_cls: 0.0388, s1.acc: 96.9781, s1.loss_bbox: 0.0954, s1.loss_mask: 0.0931, s2.loss_cls: 0.0195, s2.acc: 97.1374, s2.loss_bbox: 0.0399, s2.loss_mask: 0.0429, loss: 0.9091\n",
      "2021-05-13 23:56:38,991 - mmdet - INFO - Epoch [9][490/655]\tlr: 5.000e-08, eta: 9:06:35, time: 1.862, data_time: 0.024, memory: 17532, loss_rpn_cls: 0.0245, loss_rpn_bbox: 0.0352, s0.loss_cls: 0.1432, s0.acc: 94.6533, s0.loss_bbox: 0.2711, s0.loss_mask: 0.2204, s1.loss_cls: 0.0584, s1.acc: 95.8295, s1.loss_bbox: 0.1101, s1.loss_mask: 0.1031, s2.loss_cls: 0.0286, s2.acc: 95.9359, s2.loss_bbox: 0.0442, s2.loss_mask: 0.0476, loss: 1.0863\n",
      "2021-05-13 23:56:56,896 - mmdet - INFO - Epoch [9][500/655]\tlr: 5.000e-08, eta: 9:06:15, time: 1.790, data_time: 0.019, memory: 17532, loss_rpn_cls: 0.0157, loss_rpn_bbox: 0.0201, s0.loss_cls: 0.0929, s0.acc: 96.5479, s0.loss_bbox: 0.2135, s0.loss_mask: 0.2022, s1.loss_cls: 0.0353, s1.acc: 97.3312, s1.loss_bbox: 0.0902, s1.loss_mask: 0.0914, s2.loss_cls: 0.0172, s2.acc: 97.3248, s2.loss_bbox: 0.0392, s2.loss_mask: 0.0421, loss: 0.8599\n",
      "2021-05-13 23:57:14,983 - mmdet - INFO - Epoch [9][510/655]\tlr: 5.000e-08, eta: 9:05:56, time: 1.809, data_time: 0.018, memory: 17532, loss_rpn_cls: 0.0156, loss_rpn_bbox: 0.0182, s0.loss_cls: 0.1077, s0.acc: 96.0059, s0.loss_bbox: 0.2228, s0.loss_mask: 0.1856, s1.loss_cls: 0.0389, s1.acc: 97.1522, s1.loss_bbox: 0.0957, s1.loss_mask: 0.0858, s2.loss_cls: 0.0182, s2.acc: 97.3038, s2.loss_bbox: 0.0418, s2.loss_mask: 0.0397, loss: 0.8699\n",
      "2021-05-13 23:57:33,095 - mmdet - INFO - Epoch [9][520/655]\tlr: 5.000e-08, eta: 9:05:37, time: 1.811, data_time: 0.024, memory: 17532, loss_rpn_cls: 0.0211, loss_rpn_bbox: 0.0311, s0.loss_cls: 0.1313, s0.acc: 95.1318, s0.loss_bbox: 0.2401, s0.loss_mask: 0.1834, s1.loss_cls: 0.0505, s1.acc: 96.3177, s1.loss_bbox: 0.0935, s1.loss_mask: 0.0806, s2.loss_cls: 0.0225, s2.acc: 97.0781, s2.loss_bbox: 0.0376, s2.loss_mask: 0.0371, loss: 0.9286\n",
      "2021-05-13 23:57:51,714 - mmdet - INFO - Epoch [9][530/655]\tlr: 5.000e-08, eta: 9:05:19, time: 1.862, data_time: 0.022, memory: 17532, loss_rpn_cls: 0.0220, loss_rpn_bbox: 0.0308, s0.loss_cls: 0.1378, s0.acc: 94.7754, s0.loss_bbox: 0.2680, s0.loss_mask: 0.1926, s1.loss_cls: 0.0527, s1.acc: 96.1094, s1.loss_bbox: 0.1117, s1.loss_mask: 0.0866, s2.loss_cls: 0.0255, s2.acc: 96.2733, s2.loss_bbox: 0.0462, s2.loss_mask: 0.0399, loss: 1.0140\n",
      "2021-05-13 23:58:10,474 - mmdet - INFO - Epoch [9][540/655]\tlr: 5.000e-08, eta: 9:05:02, time: 1.876, data_time: 0.024, memory: 17532, loss_rpn_cls: 0.0238, loss_rpn_bbox: 0.0289, s0.loss_cls: 0.1329, s0.acc: 95.1660, s0.loss_bbox: 0.2715, s0.loss_mask: 0.1970, s1.loss_cls: 0.0507, s1.acc: 96.2890, s1.loss_bbox: 0.1185, s1.loss_mask: 0.0893, s2.loss_cls: 0.0251, s2.acc: 96.4124, s2.loss_bbox: 0.0503, s2.loss_mask: 0.0413, loss: 1.0292\n",
      "2021-05-13 23:58:29,178 - mmdet - INFO - Epoch [9][550/655]\tlr: 5.000e-08, eta: 9:04:44, time: 1.870, data_time: 0.021, memory: 17532, loss_rpn_cls: 0.0166, loss_rpn_bbox: 0.0262, s0.loss_cls: 0.1283, s0.acc: 95.0928, s0.loss_bbox: 0.2964, s0.loss_mask: 0.2235, s1.loss_cls: 0.0518, s1.acc: 95.9966, s1.loss_bbox: 0.1264, s1.loss_mask: 0.1001, s2.loss_cls: 0.0248, s2.acc: 96.2868, s2.loss_bbox: 0.0536, s2.loss_mask: 0.0447, loss: 1.0924\n",
      "2021-05-13 23:58:47,175 - mmdet - INFO - Epoch [9][560/655]\tlr: 5.000e-08, eta: 9:04:25, time: 1.800, data_time: 0.019, memory: 17532, loss_rpn_cls: 0.0112, loss_rpn_bbox: 0.0166, s0.loss_cls: 0.0924, s0.acc: 96.5820, s0.loss_bbox: 0.1964, s0.loss_mask: 0.1740, s1.loss_cls: 0.0337, s1.acc: 97.6470, s1.loss_bbox: 0.0810, s1.loss_mask: 0.0774, s2.loss_cls: 0.0151, s2.acc: 97.8391, s2.loss_bbox: 0.0344, s2.loss_mask: 0.0355, loss: 0.7678\n",
      "2021-05-13 23:59:06,190 - mmdet - INFO - Epoch [9][570/655]\tlr: 5.000e-08, eta: 9:04:08, time: 1.902, data_time: 0.027, memory: 17532, loss_rpn_cls: 0.0272, loss_rpn_bbox: 0.0386, s0.loss_cls: 0.1312, s0.acc: 95.1562, s0.loss_bbox: 0.2717, s0.loss_mask: 0.2030, s1.loss_cls: 0.0564, s1.acc: 95.6221, s1.loss_bbox: 0.1152, s1.loss_mask: 0.0892, s2.loss_cls: 0.0268, s2.acc: 96.0626, s2.loss_bbox: 0.0476, s2.loss_mask: 0.0413, loss: 1.0482\n",
      "2021-05-13 23:59:24,485 - mmdet - INFO - Epoch [9][580/655]\tlr: 5.000e-08, eta: 9:03:50, time: 1.830, data_time: 0.019, memory: 17532, loss_rpn_cls: 0.0157, loss_rpn_bbox: 0.0173, s0.loss_cls: 0.0975, s0.acc: 96.3672, s0.loss_bbox: 0.2103, s0.loss_mask: 0.1798, s1.loss_cls: 0.0353, s1.acc: 97.2792, s1.loss_bbox: 0.0912, s1.loss_mask: 0.0822, s2.loss_cls: 0.0162, s2.acc: 97.4856, s2.loss_bbox: 0.0405, s2.loss_mask: 0.0385, loss: 0.8246\n",
      "2021-05-13 23:59:42,697 - mmdet - INFO - Epoch [9][590/655]\tlr: 5.000e-08, eta: 9:03:31, time: 1.821, data_time: 0.020, memory: 17532, loss_rpn_cls: 0.0154, loss_rpn_bbox: 0.0166, s0.loss_cls: 0.0994, s0.acc: 96.2793, s0.loss_bbox: 0.2263, s0.loss_mask: 0.1798, s1.loss_cls: 0.0392, s1.acc: 97.2545, s1.loss_bbox: 0.0954, s1.loss_mask: 0.0819, s2.loss_cls: 0.0184, s2.acc: 97.4453, s2.loss_bbox: 0.0409, s2.loss_mask: 0.0383, loss: 0.8516\n",
      "2021-05-14 00:00:00,853 - mmdet - INFO - Epoch [9][600/655]\tlr: 5.000e-08, eta: 9:03:12, time: 1.816, data_time: 0.021, memory: 17532, loss_rpn_cls: 0.0147, loss_rpn_bbox: 0.0231, s0.loss_cls: 0.1043, s0.acc: 96.1621, s0.loss_bbox: 0.2264, s0.loss_mask: 0.1865, s1.loss_cls: 0.0425, s1.acc: 96.7767, s1.loss_bbox: 0.0937, s1.loss_mask: 0.0859, s2.loss_cls: 0.0199, s2.acc: 97.0927, s2.loss_bbox: 0.0393, s2.loss_mask: 0.0402, loss: 0.8767\n",
      "2021-05-14 00:00:19,298 - mmdet - INFO - Epoch [9][610/655]\tlr: 5.000e-08, eta: 9:02:54, time: 1.844, data_time: 0.022, memory: 17532, loss_rpn_cls: 0.0147, loss_rpn_bbox: 0.0274, s0.loss_cls: 0.1090, s0.acc: 95.7959, s0.loss_bbox: 0.2553, s0.loss_mask: 0.2104, s1.loss_cls: 0.0455, s1.acc: 96.4329, s1.loss_bbox: 0.1067, s1.loss_mask: 0.0949, s2.loss_cls: 0.0233, s2.acc: 96.3942, s2.loss_bbox: 0.0430, s2.loss_mask: 0.0431, loss: 0.9733\n",
      "2021-05-14 00:00:37,287 - mmdet - INFO - Epoch [9][620/655]\tlr: 5.000e-08, eta: 9:02:34, time: 1.799, data_time: 0.023, memory: 17532, loss_rpn_cls: 0.0151, loss_rpn_bbox: 0.0180, s0.loss_cls: 0.0786, s0.acc: 97.0947, s0.loss_bbox: 0.1568, s0.loss_mask: 0.1502, s1.loss_cls: 0.0278, s1.acc: 98.0924, s1.loss_bbox: 0.0665, s1.loss_mask: 0.0678, s2.loss_cls: 0.0138, s2.acc: 98.1341, s2.loss_bbox: 0.0296, s2.loss_mask: 0.0320, loss: 0.6562\n",
      "2021-05-14 00:00:55,947 - mmdet - INFO - Epoch [9][630/655]\tlr: 5.000e-08, eta: 9:02:17, time: 1.866, data_time: 0.023, memory: 17532, loss_rpn_cls: 0.0181, loss_rpn_bbox: 0.0192, s0.loss_cls: 0.1103, s0.acc: 96.0498, s0.loss_bbox: 0.2220, s0.loss_mask: 0.1829, s1.loss_cls: 0.0400, s1.acc: 97.2628, s1.loss_bbox: 0.0920, s1.loss_mask: 0.0812, s2.loss_cls: 0.0185, s2.acc: 97.3625, s2.loss_bbox: 0.0403, s2.loss_mask: 0.0378, loss: 0.8622\n",
      "2021-05-14 00:01:14,339 - mmdet - INFO - Epoch [9][640/655]\tlr: 5.000e-08, eta: 9:01:58, time: 1.839, data_time: 0.023, memory: 17532, loss_rpn_cls: 0.0146, loss_rpn_bbox: 0.0191, s0.loss_cls: 0.0981, s0.acc: 96.5137, s0.loss_bbox: 0.2124, s0.loss_mask: 0.1696, s1.loss_cls: 0.0387, s1.acc: 97.2414, s1.loss_bbox: 0.0875, s1.loss_mask: 0.0787, s2.loss_cls: 0.0180, s2.acc: 97.6031, s2.loss_bbox: 0.0383, s2.loss_mask: 0.0382, loss: 0.8132\n",
      "2021-05-14 00:01:32,438 - mmdet - INFO - Epoch [9][650/655]\tlr: 5.000e-08, eta: 9:01:39, time: 1.810, data_time: 0.022, memory: 17532, loss_rpn_cls: 0.0145, loss_rpn_bbox: 0.0197, s0.loss_cls: 0.0947, s0.acc: 96.4844, s0.loss_bbox: 0.2138, s0.loss_mask: 0.1967, s1.loss_cls: 0.0321, s1.acc: 97.7061, s1.loss_bbox: 0.0890, s1.loss_mask: 0.0893, s2.loss_cls: 0.0163, s2.acc: 97.6238, s2.loss_bbox: 0.0371, s2.loss_mask: 0.0416, loss: 0.8447\n",
      "2021-05-14 00:01:41,512 - mmdet - INFO - Saving checkpoint at 9 epochs\n"
     ]
    },
    {
     "name": "stdout",
     "output_type": "stream",
     "text": [
      "[>>>>>>>>>>>>>>>>>>>>>>>>>>>>>] 655/655, 4.7 task/s, elapsed: 139s, ETA:     0s"
     ]
    },
    {
     "name": "stderr",
     "output_type": "stream",
     "text": [
      "2021-05-14 00:04:04,726 - mmdet - INFO - Evaluating bbox...\n"
     ]
    },
    {
     "name": "stdout",
     "output_type": "stream",
     "text": [
      "Loading and preparing results...\n",
      "DONE (t=0.05s)\n",
      "creating index...\n",
      "index created!\n",
      "Running per image evaluation...\n",
      "Evaluate annotation type *bbox*\n",
      "DONE (t=3.76s).\n",
      "Accumulating evaluation results...\n"
     ]
    },
    {
     "name": "stderr",
     "output_type": "stream",
     "text": [
      "2021-05-14 00:04:09,070 - mmdet - INFO - Evaluating segm...\n"
     ]
    },
    {
     "name": "stdout",
     "output_type": "stream",
     "text": [
      "DONE (t=0.51s).\n",
      "Average Precision  (AP) @[ IoU=0.50:0.95 | area=   all | maxDets=100 ] = 0.283\n",
      "Average Precision  (AP) @[ IoU=0.50      | area=   all | maxDets=1000 ] = 0.452\n",
      "Average Precision  (AP) @[ IoU=0.75      | area=   all | maxDets=1000 ] = 0.274\n",
      "Average Precision  (AP) @[ IoU=0.50:0.95 | area= small | maxDets=1000 ] = 0.045\n",
      "Average Precision  (AP) @[ IoU=0.50:0.95 | area=medium | maxDets=1000 ] = 0.252\n",
      "Average Precision  (AP) @[ IoU=0.50:0.95 | area= large | maxDets=1000 ] = 0.502\n",
      "Average Recall     (AR) @[ IoU=0.50:0.95 | area=   all | maxDets=100 ] = 0.374\n",
      "Average Recall     (AR) @[ IoU=0.50:0.95 | area=   all | maxDets=300 ] = 0.374\n",
      "Average Recall     (AR) @[ IoU=0.50:0.95 | area=   all | maxDets=1000 ] = 0.374\n",
      "Average Recall     (AR) @[ IoU=0.50:0.95 | area= small | maxDets=1000 ] = 0.109\n",
      "Average Recall     (AR) @[ IoU=0.50:0.95 | area=medium | maxDets=1000 ] = 0.348\n",
      "Average Recall     (AR) @[ IoU=0.50:0.95 | area= large | maxDets=1000 ] = 0.594\n",
      "Loading and preparing results...\n",
      "DONE (t=0.64s)\n",
      "creating index...\n",
      "index created!\n",
      "Running per image evaluation...\n",
      "Evaluate annotation type *segm*\n",
      "DONE (t=4.05s).\n",
      "Accumulating evaluation results...\n"
     ]
    },
    {
     "name": "stderr",
     "output_type": "stream",
     "text": [
      "2021-05-14 00:04:14,360 - mmdet - INFO - Epoch(val) [9][655]\tbbox_mAP: 0.2830, bbox_mAP_50: 0.4520, bbox_mAP_75: 0.2740, bbox_mAP_s: 0.0450, bbox_mAP_m: 0.2520, bbox_mAP_l: 0.5020, bbox_mAP_copypaste: 0.283 0.452 0.274 0.045 0.252 0.502, segm_mAP: 0.2590, segm_mAP_50: 0.4270, segm_mAP_75: 0.2570, segm_mAP_s: 0.0330, segm_mAP_m: 0.2240, segm_mAP_l: 0.4880, segm_mAP_copypaste: 0.259 0.427 0.257 0.033 0.224 0.488\n"
     ]
    },
    {
     "name": "stdout",
     "output_type": "stream",
     "text": [
      "DONE (t=0.50s).\n",
      "Average Precision  (AP) @[ IoU=0.50:0.95 | area=   all | maxDets=100 ] = 0.259\n",
      "Average Precision  (AP) @[ IoU=0.50      | area=   all | maxDets=1000 ] = 0.427\n",
      "Average Precision  (AP) @[ IoU=0.75      | area=   all | maxDets=1000 ] = 0.257\n",
      "Average Precision  (AP) @[ IoU=0.50:0.95 | area= small | maxDets=1000 ] = 0.033\n",
      "Average Precision  (AP) @[ IoU=0.50:0.95 | area=medium | maxDets=1000 ] = 0.224\n",
      "Average Precision  (AP) @[ IoU=0.50:0.95 | area= large | maxDets=1000 ] = 0.488\n",
      "Average Recall     (AR) @[ IoU=0.50:0.95 | area=   all | maxDets=100 ] = 0.344\n",
      "Average Recall     (AR) @[ IoU=0.50:0.95 | area=   all | maxDets=300 ] = 0.344\n",
      "Average Recall     (AR) @[ IoU=0.50:0.95 | area=   all | maxDets=1000 ] = 0.344\n",
      "Average Recall     (AR) @[ IoU=0.50:0.95 | area= small | maxDets=1000 ] = 0.081\n",
      "Average Recall     (AR) @[ IoU=0.50:0.95 | area=medium | maxDets=1000 ] = 0.313\n",
      "Average Recall     (AR) @[ IoU=0.50:0.95 | area= large | maxDets=1000 ] = 0.579\n"
     ]
    }
   ],
   "source": [
    "train_detector(model, datasets[0], cfg, distributed=False, validate=True)"
   ]
  },
  {
   "cell_type": "code",
   "execution_count": null,
   "metadata": {},
   "outputs": [],
   "source": []
  }
 ],
 "metadata": {
  "kernelspec": {
   "display_name": "Python 3",
   "language": "python",
   "name": "python3"
  },
  "language_info": {
   "codemirror_mode": {
    "name": "ipython",
    "version": 3
   },
   "file_extension": ".py",
   "mimetype": "text/x-python",
   "name": "python",
   "nbconvert_exporter": "python",
   "pygments_lexer": "ipython3",
   "version": "3.7.7"
  },
  "pycharm": {
   "stem_cell": {
    "cell_type": "raw",
    "metadata": {
     "collapsed": false
    },
    "source": []
   }
  }
 },
 "nbformat": 4,
 "nbformat_minor": 4
}
