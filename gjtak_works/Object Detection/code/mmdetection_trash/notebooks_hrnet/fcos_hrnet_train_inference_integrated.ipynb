{
 "cells": [
  {
   "cell_type": "code",
   "execution_count": 1,
   "metadata": {},
   "outputs": [
    {
     "output_type": "stream",
     "name": "stdout",
     "text": [
      "Wed May 12 20:29:15 2021       \n+-----------------------------------------------------------------------------+\n| NVIDIA-SMI 418.67       Driver Version: 418.67       CUDA Version: 10.1     |\n|-------------------------------+----------------------+----------------------+\n| GPU  Name        Persistence-M| Bus-Id        Disp.A | Volatile Uncorr. ECC |\n| Fan  Temp  Perf  Pwr:Usage/Cap|         Memory-Usage | GPU-Util  Compute M. |\n|===============================+======================+======================|\n|   0  Tesla V100-PCIE...  On   | 00000000:00:05.0 Off |                  Off |\n| N/A   43C    P0    45W / 250W |   1388MiB / 32480MiB |      0%      Default |\n+-------------------------------+----------------------+----------------------+\n                                                                               \n+-----------------------------------------------------------------------------+\n| Processes:                                                       GPU Memory |\n|  GPU       PID   Type   Process name                             Usage      |\n|=============================================================================|\n+-----------------------------------------------------------------------------+\n"
     ]
    }
   ],
   "source": [
    "!nvidia-smi"
   ]
  },
  {
   "cell_type": "code",
   "execution_count": 2,
   "metadata": {
    "pycharm": {
     "name": "#%%\n"
    }
   },
   "outputs": [],
   "source": [
    "import os, time\n",
    "import mmcv\n",
    "from mmcv import Config\n",
    "from mmdet.datasets import (build_dataloader, build_dataset, replace_ImageToTensor) # 앞의 2개 --> mmdet/datasets/builder.py에 존재 / 마지막 1개 --> \n",
    "from mmdet.models import build_detector #mmdet/models/builder.py에 존재\n",
    "from mmdet.apis import train_detector, single_gpu_test # mmdet/apis/train.py, test.py에 존재\n",
    "from mmcv.runner import load_checkpoint\n",
    "from mmcv.parallel import MMDataParallel\n",
    "import pandas as pd\n",
    "from pandas import DataFrame\n",
    "from pycocotools.coco import COCO\n",
    "import numpy as np\n",
    "import json, wandb"
   ]
  },
  {
   "cell_type": "markdown",
   "metadata": {},
   "source": [
    "## train part"
   ]
  },
  {
   "cell_type": "code",
   "execution_count": 6,
   "metadata": {
    "pycharm": {
     "name": "#%%\n"
    }
   },
   "outputs": [],
   "source": [
    "classes = (\"UNKNOWN\", \"General trash\", \"Paper\", \"Paper pack\", \"Metal\", \"Glass\", \n",
    "           \"Plastic\", \"Styrofoam\", \"Plastic bag\", \"Battery\", \"Clothing\")\n",
    "# config file 들고오기\n",
    "#cfg = Config.fromfile('../configs/faster_rcnn/faster_rcnn_r50_fpn_1x_coco.py')\n",
    "#파일 교체 시 여기 이름 바꾸기\n",
    "config_dir_name = 'hrnet'\n",
    "config_file_name = 'fcos_hrnetv2p_w40_gn-head_mstrain_640-800_4x4_2x_coco'\n",
    "cfg = Config.fromfile('../configs/'+config_dir_name+'/'+config_file_name+'.py')\n",
    "\n",
    "PREFIX = '/opt/ml/input/data/'\n",
    "\n",
    "# dataset 바꾸기\n",
    "cfg.data.train.classes = classes\n",
    "cfg.data.train.img_prefix = PREFIX\n",
    "cfg.data.train.ann_file = PREFIX + 'train.json'\n",
    "cfg.data.train.pipeline[2]['img_scale'] = (512, 512)\n",
    "\n",
    "cfg.data.val.classes = classes\n",
    "cfg.data.val.img_prefix = PREFIX\n",
    "cfg.data.val.ann_file = PREFIX + 'val.json'\n",
    "cfg.data.val.pipeline[1]['img_scale'] = (512, 512)\n",
    "\n",
    "cfg.data.test.classes = classes\n",
    "cfg.data.test.img_prefix = PREFIX\n",
    "cfg.data.test.ann_file = PREFIX + 'test.json'\n",
    "cfg.data.test.pipeline[1]['img_scale'] = (512, 512)\n",
    "\n",
    "cfg.data.samples_per_gpu = 16    #batch size\n",
    "\n",
    "cfg.seed=42 #42로 고정\n",
    "cfg.gpu_ids = [0]\n",
    "\n",
    "cfg.model.bbox_head.num_classes = 11    #class 개수 설정\n",
    "\n",
    "cfg.optimizer_config.grad_clip = dict(max_norm=35, norm_type=2)\n",
    "\n",
    "#working directory 이름 설정\n",
    "working_dir_name = '../work_dirs/' + config_file_name +'_'+str(cfg.runner.max_epochs)\n",
    "cfg.work_dir = working_dir_name\n",
    "\n",
    "\n",
    "cfg.optimizer_config.grad_clip = dict(max_norm=35, norm_type=2)\n",
    "\n",
    "#working directory 이름 설정\n",
    "working_dir_name = '../work_dirs/' + config_file_name +'_'+str(cfg.runner.max_epochs)\n",
    "cfg.work_dir = working_dir_name\n"
   ]
  },
  {
   "source": [
    "## wandb setting"
   ],
   "cell_type": "markdown",
   "metadata": {}
  },
  {
   "cell_type": "code",
   "execution_count": 8,
   "metadata": {},
   "outputs": [],
   "source": [
    "group_name = 'hrnet'; project_name = 'gjtak'; run_name = config_file_name\n",
    "config_list = {\n",
    "    'epoch' : cfg.runner.max_epochs,\n",
    "    'batch_size' :  cfg.data.samples_per_gpu,\n",
    "    'optimizer' : cfg.optimizer,\n",
    "    'optimizer_config' : cfg.optimizer_config,\n",
    "    'lr_config' : cfg.lr_config,\n",
    "    'bbox_head_loss_cls' : cfg.model.bbox_head.loss_cls\n",
    "}\n",
    "cfg.log_config.hooks[1].init_kwargs['group']=group_name # group name(option)\n",
    "cfg.log_config.hooks[1].init_kwargs['name'] = run_name # run name\n",
    "cfg.log_config.hooks[1].init_kwargs['config'] = config_list # config"
   ]
  },
  {
   "source": [
    "### config 저장"
   ],
   "cell_type": "markdown",
   "metadata": {}
  },
  {
   "cell_type": "code",
   "execution_count": 9,
   "metadata": {},
   "outputs": [],
   "source": [
    "# config 객체 -> 파일(json)로 저장(저장 장소 = working directory와 같이)\n",
    "#working directory 없으면 생성하기\n",
    "try:\n",
    "    if not os.path.exists(working_dir_name):\n",
    "        os.makedirs(working_dir_name)\n",
    "except OSError :\n",
    "    print('Error: Creating directory :: ' + working_dir_name)\n",
    "\n",
    "#cfg 객체 -> string(str이용) -> dict(eval이용) -> json 으로 저장\n",
    "cfg_str = str(cfg)[str(cfg).find(')')+3:]\n",
    "cfg_dict = eval(cfg_str)\n",
    "with open(working_dir_name+'/config.json','w') as config_json_file :\n",
    "    json.dump(cfg_dict, config_json_file, indent=\"\\t\")\n"
   ]
  },
  {
   "cell_type": "code",
   "execution_count": 11,
   "metadata": {},
   "outputs": [],
   "source": [
    "#config 저장 확인\n",
    "with open(working_dir_name+'/config.json', 'r') as f :\n",
    "    json_data = json.load(f)\n",
    "#json_data"
   ]
  },
  {
   "cell_type": "code",
   "execution_count": 12,
   "metadata": {
    "pycharm": {
     "name": "#%%\n"
    }
   },
   "outputs": [
    {
     "output_type": "stream",
     "name": "stderr",
     "text": [
      "2021-05-12 17:10:40,638 - mmdet - INFO - load model from: open-mmlab://msra/hrnetv2_w40\n",
      "2021-05-12 17:10:40,639 - mmdet - INFO - Use load_from_openmmlab loader\n",
      "2021-05-12 17:10:41,209 - mmdet - WARNING - The model and loaded state dict do not match exactly\n",
      "\n",
      "unexpected key in source state_dict: incre_modules.0.0.conv1.weight, incre_modules.0.0.bn1.weight, incre_modules.0.0.bn1.bias, incre_modules.0.0.bn1.running_mean, incre_modules.0.0.bn1.running_var, incre_modules.0.0.bn1.num_batches_tracked, incre_modules.0.0.conv2.weight, incre_modules.0.0.bn2.weight, incre_modules.0.0.bn2.bias, incre_modules.0.0.bn2.running_mean, incre_modules.0.0.bn2.running_var, incre_modules.0.0.bn2.num_batches_tracked, incre_modules.0.0.conv3.weight, incre_modules.0.0.bn3.weight, incre_modules.0.0.bn3.bias, incre_modules.0.0.bn3.running_mean, incre_modules.0.0.bn3.running_var, incre_modules.0.0.bn3.num_batches_tracked, incre_modules.0.0.downsample.0.weight, incre_modules.0.0.downsample.1.weight, incre_modules.0.0.downsample.1.bias, incre_modules.0.0.downsample.1.running_mean, incre_modules.0.0.downsample.1.running_var, incre_modules.0.0.downsample.1.num_batches_tracked, incre_modules.1.0.conv1.weight, incre_modules.1.0.bn1.weight, incre_modules.1.0.bn1.bias, incre_modules.1.0.bn1.running_mean, incre_modules.1.0.bn1.running_var, incre_modules.1.0.bn1.num_batches_tracked, incre_modules.1.0.conv2.weight, incre_modules.1.0.bn2.weight, incre_modules.1.0.bn2.bias, incre_modules.1.0.bn2.running_mean, incre_modules.1.0.bn2.running_var, incre_modules.1.0.bn2.num_batches_tracked, incre_modules.1.0.conv3.weight, incre_modules.1.0.bn3.weight, incre_modules.1.0.bn3.bias, incre_modules.1.0.bn3.running_mean, incre_modules.1.0.bn3.running_var, incre_modules.1.0.bn3.num_batches_tracked, incre_modules.1.0.downsample.0.weight, incre_modules.1.0.downsample.1.weight, incre_modules.1.0.downsample.1.bias, incre_modules.1.0.downsample.1.running_mean, incre_modules.1.0.downsample.1.running_var, incre_modules.1.0.downsample.1.num_batches_tracked, incre_modules.2.0.conv1.weight, incre_modules.2.0.bn1.weight, incre_modules.2.0.bn1.bias, incre_modules.2.0.bn1.running_mean, incre_modules.2.0.bn1.running_var, incre_modules.2.0.bn1.num_batches_tracked, incre_modules.2.0.conv2.weight, incre_modules.2.0.bn2.weight, incre_modules.2.0.bn2.bias, incre_modules.2.0.bn2.running_mean, incre_modules.2.0.bn2.running_var, incre_modules.2.0.bn2.num_batches_tracked, incre_modules.2.0.conv3.weight, incre_modules.2.0.bn3.weight, incre_modules.2.0.bn3.bias, incre_modules.2.0.bn3.running_mean, incre_modules.2.0.bn3.running_var, incre_modules.2.0.bn3.num_batches_tracked, incre_modules.2.0.downsample.0.weight, incre_modules.2.0.downsample.1.weight, incre_modules.2.0.downsample.1.bias, incre_modules.2.0.downsample.1.running_mean, incre_modules.2.0.downsample.1.running_var, incre_modules.2.0.downsample.1.num_batches_tracked, incre_modules.3.0.conv1.weight, incre_modules.3.0.bn1.weight, incre_modules.3.0.bn1.bias, incre_modules.3.0.bn1.running_mean, incre_modules.3.0.bn1.running_var, incre_modules.3.0.bn1.num_batches_tracked, incre_modules.3.0.conv2.weight, incre_modules.3.0.bn2.weight, incre_modules.3.0.bn2.bias, incre_modules.3.0.bn2.running_mean, incre_modules.3.0.bn2.running_var, incre_modules.3.0.bn2.num_batches_tracked, incre_modules.3.0.conv3.weight, incre_modules.3.0.bn3.weight, incre_modules.3.0.bn3.bias, incre_modules.3.0.bn3.running_mean, incre_modules.3.0.bn3.running_var, incre_modules.3.0.bn3.num_batches_tracked, incre_modules.3.0.downsample.0.weight, incre_modules.3.0.downsample.1.weight, incre_modules.3.0.downsample.1.bias, incre_modules.3.0.downsample.1.running_mean, incre_modules.3.0.downsample.1.running_var, incre_modules.3.0.downsample.1.num_batches_tracked, downsamp_modules.0.0.weight, downsamp_modules.0.0.bias, downsamp_modules.0.1.weight, downsamp_modules.0.1.bias, downsamp_modules.0.1.running_mean, downsamp_modules.0.1.running_var, downsamp_modules.0.1.num_batches_tracked, downsamp_modules.1.0.weight, downsamp_modules.1.0.bias, downsamp_modules.1.1.weight, downsamp_modules.1.1.bias, downsamp_modules.1.1.running_mean, downsamp_modules.1.1.running_var, downsamp_modules.1.1.num_batches_tracked, downsamp_modules.2.0.weight, downsamp_modules.2.0.bias, downsamp_modules.2.1.weight, downsamp_modules.2.1.bias, downsamp_modules.2.1.running_mean, downsamp_modules.2.1.running_var, downsamp_modules.2.1.num_batches_tracked, final_layer.0.weight, final_layer.0.bias, final_layer.1.weight, final_layer.1.bias, final_layer.1.running_mean, final_layer.1.running_var, final_layer.1.num_batches_tracked, classifier.weight, classifier.bias\n",
      "\n"
     ]
    }
   ],
   "source": [
    "model = build_detector(cfg.model)"
   ]
  },
  {
   "cell_type": "code",
   "execution_count": 13,
   "metadata": {
    "pycharm": {
     "name": "#%%\n"
    }
   },
   "outputs": [
    {
     "output_type": "stream",
     "name": "stdout",
     "text": [
      "loading annotations into memory...\n",
      "Done (t=3.91s)\n",
      "creating index...\n",
      "index created!\n"
     ]
    }
   ],
   "source": [
    "datasets = [build_dataset(cfg.data.train)]"
   ]
  },
  {
   "cell_type": "code",
   "execution_count": 14,
   "metadata": {
    "pycharm": {
     "name": "#%%\n"
    },
    "tags": [
     "outputPrepend"
    ]
   },
   "outputs": [
    {
     "output_type": "stream",
     "name": "stdout",
     "text": [
      "loading annotations into memory...\n",
      "2021-05-12 17:10:56,987 - mmdet - INFO - Start running, host: root@7abc6b7bc976, work_dir: /opt/ml/p3-ims-obd-hansarang/gjtak_works/Object Detection/code/mmdetection_trash/work_dirs/fcos_hrnetv2p_w40_gn-head_mstrain_640-800_4x4_2x_coco_24\n",
      "2021-05-12 17:10:56,988 - mmdet - INFO - workflow: [('train', 1)], max: 24 epochs\n",
      "Failed to detect the name of this notebook, you can set it manually with the WANDB_NOTEBOOK_NAME environment variable to enable code saving.\n",
      "Done (t=0.90s)\n",
      "creating index...\n",
      "index created!\n",
      "\u001b[34m\u001b[1mwandb\u001b[0m: Currently logged in as: \u001b[33mpstage3_det\u001b[0m (use `wandb login --relogin` to force relogin)\n"
     ]
    },
    {
     "output_type": "display_data",
     "data": {
      "text/plain": "<IPython.core.display.HTML object>",
      "text/html": "\n                Tracking run with wandb version 0.10.30<br/>\n                Syncing run <strong style=\"color:#cdcd00\">fcos_hrnetv2p_w40_gn-head_mstrain_640-800_4x4_2x_coco</strong> to <a href=\"https://wandb.ai\" target=\"_blank\">Weights & Biases</a> <a href=\"https://docs.wandb.com/integrations/jupyter.html\" target=\"_blank\">(Documentation)</a>.<br/>\n                Project page: <a href=\"https://wandb.ai/pstage3_det/gjtak\" target=\"_blank\">https://wandb.ai/pstage3_det/gjtak</a><br/>\n                Run page: <a href=\"https://wandb.ai/pstage3_det/gjtak/runs/i5vlne35\" target=\"_blank\">https://wandb.ai/pstage3_det/gjtak/runs/i5vlne35</a><br/>\n                Run data is saved locally in <code>/opt/ml/p3-ims-obd-hansarang/gjtak_works/Object Detection/code/mmdetection_trash/notebooks/wandb/run-20210512_171057-i5vlne35</code><br/><br/>\n            "
     },
     "metadata": {}
    },
    {
     "output_type": "stream",
     "name": "stderr",
     "text": [
      "18:32:11,195 - mmdet - INFO - Epoch [21][60/164]\tlr: 1.000e-03, eta: 0:10:44, time: 1.090, data_time: 0.018, memory: 18190, loss_cls: 0.2114, loss_bbox: 0.2924, loss_centerness: 0.5902, loss: 1.0940, grad_norm: 2.1468\n",
      "2021-05-12 18:32:22,090 - mmdet - INFO - Epoch [21][70/164]\tlr: 1.000e-03, eta: 0:10:33, time: 1.090, data_time: 0.019, memory: 18190, loss_cls: 0.2031, loss_bbox: 0.3026, loss_centerness: 0.5911, loss: 1.0969, grad_norm: 2.0698\n",
      "2021-05-12 18:32:32,993 - mmdet - INFO - Epoch [21][80/164]\tlr: 1.000e-03, eta: 0:10:22, time: 1.090, data_time: 0.019, memory: 18190, loss_cls: 0.1957, loss_bbox: 0.3015, loss_centerness: 0.5904, loss: 1.0876, grad_norm: 1.8013\n",
      "2021-05-12 18:32:43,903 - mmdet - INFO - Epoch [21][90/164]\tlr: 1.000e-03, eta: 0:10:11, time: 1.091, data_time: 0.020, memory: 18190, loss_cls: 0.2111, loss_bbox: 0.2706, loss_centerness: 0.5878, loss: 1.0694, grad_norm: 2.1239\n",
      "2021-05-12 18:32:54,840 - mmdet - INFO - Epoch [21][100/164]\tlr: 1.000e-03, eta: 0:10:00, time: 1.094, data_time: 0.021, memory: 18190, loss_cls: 0.2065, loss_bbox: 0.3110, loss_centerness: 0.5916, loss: 1.1091, grad_norm: 1.9828\n",
      "2021-05-12 18:33:05,754 - mmdet - INFO - Epoch [21][110/164]\tlr: 1.000e-03, eta: 0:09:50, time: 1.091, data_time: 0.020, memory: 18190, loss_cls: 0.2052, loss_bbox: 0.2980, loss_centerness: 0.5893, loss: 1.0925, grad_norm: 2.1477\n",
      "2021-05-12 18:33:16,659 - mmdet - INFO - Epoch [21][120/164]\tlr: 1.000e-03, eta: 0:09:39, time: 1.090, data_time: 0.020, memory: 18190, loss_cls: 0.2071, loss_bbox: 0.2863, loss_centerness: 0.5866, loss: 1.0800, grad_norm: 2.2235\n",
      "2021-05-12 18:33:27,563 - mmdet - INFO - Epoch [21][130/164]\tlr: 1.000e-03, eta: 0:09:28, time: 1.090, data_time: 0.019, memory: 18190, loss_cls: 0.2059, loss_bbox: 0.2960, loss_centerness: 0.5879, loss: 1.0898, grad_norm: 1.9805\n",
      "2021-05-12 18:33:38,478 - mmdet - INFO - Epoch [21][140/164]\tlr: 1.000e-03, eta: 0:09:17, time: 1.092, data_time: 0.020, memory: 18190, loss_cls: 0.2105, loss_bbox: 0.2671, loss_centerness: 0.5871, loss: 1.0647, grad_norm: 2.1396\n",
      "2021-05-12 18:33:49,385 - mmdet - INFO - Epoch [21][150/164]\tlr: 1.000e-03, eta: 0:09:06, time: 1.091, data_time: 0.019, memory: 18190, loss_cls: 0.2001, loss_bbox: 0.2722, loss_centerness: 0.5851, loss: 1.0573, grad_norm: 2.1861\n",
      "2021-05-12 18:34:00,290 - mmdet - INFO - Epoch [21][160/164]\tlr: 1.000e-03, eta: 0:08:56, time: 1.090, data_time: 0.020, memory: 18190, loss_cls: 0.1985, loss_bbox: 0.3119, loss_centerness: 0.5899, loss: 1.1004, grad_norm: 2.0562\n",
      "2021-05-12 18:34:04,737 - mmdet - INFO - Saving checkpoint at 21 epochs\n",
      "[>>>>>>>>>>>>>>>>>>>>>>>>>>>>>] 655/655, 14.6 task/s, elapsed: 45s, ETA:     0s2021-05-12 18:34:52,274 - mmdet - INFO - Evaluating bbox...\n",
      "Loading and preparing results...\n",
      "DONE (t=0.85s)\n",
      "creating index...\n",
      "index created!\n",
      "Running per image evaluation...\n",
      "Evaluate annotation type *bbox*\n",
      "DONE (t=6.72s).\n",
      "Accumulating evaluation results...\n",
      "2021-05-12 18:35:01,754 - mmdet - INFO - Epoch(val) [21][164]\tbbox_mAP: 0.1100, bbox_mAP_50: 0.1900, bbox_mAP_75: 0.1120, bbox_mAP_s: 0.0420, bbox_mAP_m: 0.0940, bbox_mAP_l: 0.2030, bbox_mAP_copypaste: 0.110 0.190 0.112 0.042 0.094 0.203\n",
      "DONE (t=1.74s).\n",
      "Average Precision  (AP) @[ IoU=0.50:0.95 | area=   all | maxDets=100 ] = 0.110\n",
      "Average Precision  (AP) @[ IoU=0.50      | area=   all | maxDets=1000 ] = 0.190\n",
      "Average Precision  (AP) @[ IoU=0.75      | area=   all | maxDets=1000 ] = 0.112\n",
      "Average Precision  (AP) @[ IoU=0.50:0.95 | area= small | maxDets=1000 ] = 0.042\n",
      "Average Precision  (AP) @[ IoU=0.50:0.95 | area=medium | maxDets=1000 ] = 0.094\n",
      "Average Precision  (AP) @[ IoU=0.50:0.95 | area= large | maxDets=1000 ] = 0.203\n",
      "Average Recall     (AR) @[ IoU=0.50:0.95 | area=   all | maxDets=100 ] = 0.329\n",
      "Average Recall     (AR) @[ IoU=0.50:0.95 | area=   all | maxDets=300 ] = 0.329\n",
      "Average Recall     (AR) @[ IoU=0.50:0.95 | area=   all | maxDets=1000 ] = 0.329\n",
      "Average Recall     (AR) @[ IoU=0.50:0.95 | area= small | maxDets=1000 ] = 0.129\n",
      "Average Recall     (AR) @[ IoU=0.50:0.95 | area=medium | maxDets=1000 ] = 0.290\n",
      "Average Recall     (AR) @[ IoU=0.50:0.95 | area= large | maxDets=1000 ] = 0.571\n",
      "2021-05-12 18:35:15,176 - mmdet - INFO - Epoch [22][10/164]\tlr: 1.000e-03, eta: 0:08:40, time: 1.340, data_time: 0.268, memory: 18190, loss_cls: 0.2114, loss_bbox: 0.3106, loss_centerness: 0.5887, loss: 1.1107, grad_norm: 2.2504\n",
      "2021-05-12 18:35:26,123 - mmdet - INFO - Epoch [22][20/164]\tlr: 1.000e-03, eta: 0:08:30, time: 1.095, data_time: 0.021, memory: 18190, loss_cls: 0.2004, loss_bbox: 0.2877, loss_centerness: 0.5856, loss: 1.0737, grad_norm: 2.0950\n",
      "2021-05-12 18:35:37,031 - mmdet - INFO - Epoch [22][30/164]\tlr: 1.000e-03, eta: 0:08:19, time: 1.091, data_time: 0.020, memory: 18190, loss_cls: 0.2073, loss_bbox: 0.2732, loss_centerness: 0.5879, loss: 1.0684, grad_norm: 2.1201\n",
      "2021-05-12 18:35:47,932 - mmdet - INFO - Epoch [22][40/164]\tlr: 1.000e-03, eta: 0:08:08, time: 1.090, data_time: 0.019, memory: 18190, loss_cls: 0.2040, loss_bbox: 0.2807, loss_centerness: 0.5885, loss: 1.0733, grad_norm: 1.9977\n",
      "2021-05-12 18:35:58,824 - mmdet - INFO - Epoch [22][50/164]\tlr: 1.000e-03, eta: 0:07:57, time: 1.089, data_time: 0.019, memory: 18190, loss_cls: 0.2021, loss_bbox: 0.2850, loss_centerness: 0.5873, loss: 1.0744, grad_norm: 2.1532\n",
      "2021-05-12 18:36:09,723 - mmdet - INFO - Epoch [22][60/164]\tlr: 1.000e-03, eta: 0:07:46, time: 1.090, data_time: 0.019, memory: 18190, loss_cls: 0.1851, loss_bbox: 0.2977, loss_centerness: 0.5907, loss: 1.0736, grad_norm: 2.0226\n",
      "2021-05-12 18:36:20,626 - mmdet - INFO - Epoch [22][70/164]\tlr: 1.000e-03, eta: 0:07:36, time: 1.090, data_time: 0.019, memory: 18190, loss_cls: 0.1971, loss_bbox: 0.2889, loss_centerness: 0.5878, loss: 1.0737, grad_norm: 2.1638\n",
      "2021-05-12 18:36:31,528 - mmdet - INFO - Epoch [22][80/164]\tlr: 1.000e-03, eta: 0:07:25, time: 1.090, data_time: 0.019, memory: 18190, loss_cls: 0.2089, loss_bbox: 0.3044, loss_centerness: 0.5911, loss: 1.1044, grad_norm: 2.2109\n",
      "2021-05-12 18:36:42,413 - mmdet - INFO - Epoch [22][90/164]\tlr: 1.000e-03, eta: 0:07:14, time: 1.089, data_time: 0.018, memory: 18190, loss_cls: 0.2071, loss_bbox: 0.3018, loss_centerness: 0.5906, loss: 1.0995, grad_norm: 1.9656\n",
      "2021-05-12 18:36:53,322 - mmdet - INFO - Epoch [22][100/164]\tlr: 1.000e-03, eta: 0:07:03, time: 1.091, data_time: 0.019, memory: 18190, loss_cls: 0.2167, loss_bbox: 0.2653, loss_centerness: 0.5871, loss: 1.0691, grad_norm: 2.2409\n",
      "2021-05-12 18:37:04,234 - mmdet - INFO - Epoch [22][110/164]\tlr: 1.000e-03, eta: 0:06:52, time: 1.091, data_time: 0.019, memory: 18190, loss_cls: 0.2045, loss_bbox: 0.2939, loss_centerness: 0.5886, loss: 1.0870, grad_norm: 2.0321\n",
      "2021-05-12 18:37:15,140 - mmdet - INFO - Epoch [22][120/164]\tlr: 1.000e-03, eta: 0:06:42, time: 1.091, data_time: 0.020, memory: 18190, loss_cls: 0.2072, loss_bbox: 0.2903, loss_centerness: 0.5905, loss: 1.0880, grad_norm: 2.0165\n",
      "2021-05-12 18:37:26,040 - mmdet - INFO - Epoch [22][130/164]\tlr: 1.000e-03, eta: 0:06:31, time: 1.090, data_time: 0.019, memory: 18190, loss_cls: 0.1910, loss_bbox: 0.2874, loss_centerness: 0.5877, loss: 1.0661, grad_norm: 1.9524\n",
      "2021-05-12 18:37:37,019 - mmdet - INFO - Epoch [22][140/164]\tlr: 1.000e-03, eta: 0:06:20, time: 1.098, data_time: 0.021, memory: 18190, loss_cls: 0.2173, loss_bbox: 0.2882, loss_centerness: 0.5915, loss: 1.0971, grad_norm: 2.2373\n",
      "2021-05-12 18:37:47,920 - mmdet - INFO - Epoch [22][150/164]\tlr: 1.000e-03, eta: 0:06:09, time: 1.090, data_time: 0.019, memory: 18190, loss_cls: 0.2031, loss_bbox: 0.3102, loss_centerness: 0.5901, loss: 1.1035, grad_norm: 2.0429\n",
      "2021-05-12 18:37:58,811 - mmdet - INFO - Epoch [22][160/164]\tlr: 1.000e-03, eta: 0:05:58, time: 1.089, data_time: 0.018, memory: 18190, loss_cls: 0.1960, loss_bbox: 0.2973, loss_centerness: 0.5886, loss: 1.0819, grad_norm: 2.1200\n",
      "2021-05-12 18:38:03,235 - mmdet - INFO - Saving checkpoint at 22 epochs\n",
      "[>>>>>>>>>>>>>>>>>>>>>>>>>>>>>] 655/655, 14.7 task/s, elapsed: 44s, ETA:     0s2021-05-12 18:38:50,482 - mmdet - INFO - Evaluating bbox...\n",
      "Loading and preparing results...\n",
      "DONE (t=0.84s)\n",
      "creating index...\n",
      "index created!\n",
      "Running per image evaluation...\n",
      "Evaluate annotation type *bbox*\n",
      "DONE (t=6.82s).\n",
      "Accumulating evaluation results...\n",
      "2021-05-12 18:39:00,050 - mmdet - INFO - Epoch(val) [22][164]\tbbox_mAP: 0.1110, bbox_mAP_50: 0.1880, bbox_mAP_75: 0.1120, bbox_mAP_s: 0.0440, bbox_mAP_m: 0.0940, bbox_mAP_l: 0.2020, bbox_mAP_copypaste: 0.111 0.188 0.112 0.044 0.094 0.202\n",
      "DONE (t=1.75s).\n",
      "Average Precision  (AP) @[ IoU=0.50:0.95 | area=   all | maxDets=100 ] = 0.111\n",
      "Average Precision  (AP) @[ IoU=0.50      | area=   all | maxDets=1000 ] = 0.188\n",
      "Average Precision  (AP) @[ IoU=0.75      | area=   all | maxDets=1000 ] = 0.112\n",
      "Average Precision  (AP) @[ IoU=0.50:0.95 | area= small | maxDets=1000 ] = 0.044\n",
      "Average Precision  (AP) @[ IoU=0.50:0.95 | area=medium | maxDets=1000 ] = 0.094\n",
      "Average Precision  (AP) @[ IoU=0.50:0.95 | area= large | maxDets=1000 ] = 0.202\n",
      "Average Recall     (AR) @[ IoU=0.50:0.95 | area=   all | maxDets=100 ] = 0.330\n",
      "Average Recall     (AR) @[ IoU=0.50:0.95 | area=   all | maxDets=300 ] = 0.330\n",
      "Average Recall     (AR) @[ IoU=0.50:0.95 | area=   all | maxDets=1000 ] = 0.330\n",
      "Average Recall     (AR) @[ IoU=0.50:0.95 | area= small | maxDets=1000 ] = 0.124\n",
      "Average Recall     (AR) @[ IoU=0.50:0.95 | area=medium | maxDets=1000 ] = 0.292\n",
      "Average Recall     (AR) @[ IoU=0.50:0.95 | area= large | maxDets=1000 ] = 0.586\n",
      "2021-05-12 18:39:13,481 - mmdet - INFO - Epoch [23][10/164]\tlr: 1.000e-04, eta: 0:05:43, time: 1.341, data_time: 0.268, memory: 18190, loss_cls: 0.1989, loss_bbox: 0.2977, loss_centerness: 0.5894, loss: 1.0860, grad_norm: 2.0686\n",
      "2021-05-12 18:39:24,399 - mmdet - INFO - Epoch [23][20/164]\tlr: 1.000e-04, eta: 0:05:32, time: 1.092, data_time: 0.020, memory: 18190, loss_cls: 0.1992, loss_bbox: 0.2699, loss_centerness: 0.5867, loss: 1.0558, grad_norm: 1.9637\n",
      "2021-05-12 18:39:35,314 - mmdet - INFO - Epoch [23][30/164]\tlr: 1.000e-04, eta: 0:05:21, time: 1.091, data_time: 0.020, memory: 18190, loss_cls: 0.1927, loss_bbox: 0.2703, loss_centerness: 0.5859, loss: 1.0488, grad_norm: 1.7787\n",
      "2021-05-12 18:39:46,241 - mmdet - INFO - Epoch [23][40/164]\tlr: 1.000e-04, eta: 0:05:11, time: 1.093, data_time: 0.021, memory: 18190, loss_cls: 0.2006, loss_bbox: 0.2980, loss_centerness: 0.5895, loss: 1.0881, grad_norm: 2.0266\n",
      "2021-05-12 18:39:57,158 - mmdet - INFO - Epoch [23][50/164]\tlr: 1.000e-04, eta: 0:05:00, time: 1.092, data_time: 0.019, memory: 18190, loss_cls: 0.2118, loss_bbox: 0.2961, loss_centerness: 0.5895, loss: 1.0973, grad_norm: 1.8698\n",
      "2021-05-12 18:40:08,065 - mmdet - INFO - Epoch [23][60/164]\tlr: 1.000e-04, eta: 0:04:49, time: 1.091, data_time: 0.019, memory: 18190, loss_cls: 0.1889, loss_bbox: 0.2926, loss_centerness: 0.5886, loss: 1.0701, grad_norm: 1.8379\n",
      "2021-05-12 18:40:19,002 - mmdet - INFO - Epoch [23][70/164]\tlr: 1.000e-04, eta: 0:04:38, time: 1.094, data_time: 0.020, memory: 18190, loss_cls: 0.2003, loss_bbox: 0.2856, loss_centerness: 0.5873, loss: 1.0732, grad_norm: 1.9015\n",
      "2021-05-12 18:40:29,901 - mmdet - INFO - Epoch [23][80/164]\tlr: 1.000e-04, eta: 0:04:28, time: 1.090, data_time: 0.019, memory: 18190, loss_cls: 0.1999, loss_bbox: 0.2734, loss_centerness: 0.5865, loss: 1.0598, grad_norm: 1.9503\n",
      "2021-05-12 18:40:40,824 - mmdet - INFO - Epoch [23][90/164]\tlr: 1.000e-04, eta: 0:04:17, time: 1.092, data_time: 0.020, memory: 18190, loss_cls: 0.2082, loss_bbox: 0.2833, loss_centerness: 0.5895, loss: 1.0810, grad_norm: 1.7933\n",
      "2021-05-12 18:40:51,719 - mmdet - INFO - Epoch [23][100/164]\tlr: 1.000e-04, eta: 0:04:06, time: 1.089, data_time: 0.019, memory: 18190, loss_cls: 0.2017, loss_bbox: 0.2902, loss_centerness: 0.5875, loss: 1.0794, grad_norm: 1.8321\n",
      "2021-05-12 18:41:02,669 - mmdet - INFO - Epoch [23][110/164]\tlr: 1.000e-04, eta: 0:03:55, time: 1.095, data_time: 0.019, memory: 18190, loss_cls: 0.2012, loss_bbox: 0.2906, loss_centerness: 0.5899, loss: 1.0816, grad_norm: 1.8430\n",
      "2021-05-12 18:41:13,582 - mmdet - INFO - Epoch [23][120/164]\tlr: 1.000e-04, eta: 0:03:44, time: 1.091, data_time: 0.019, memory: 18190, loss_cls: 0.2073, loss_bbox: 0.2596, loss_centerness: 0.5857, loss: 1.0526, grad_norm: 1.9381\n",
      "2021-05-12 18:41:24,496 - mmdet - INFO - Epoch [23][130/164]\tlr: 1.000e-04, eta: 0:03:33, time: 1.091, data_time: 0.020, memory: 18190, loss_cls: 0.1990, loss_bbox: 0.3003, loss_centerness: 0.5906, loss: 1.0899, grad_norm: 1.9576\n",
      "2021-05-12 18:41:35,397 - mmdet - INFO - Epoch [23][140/164]\tlr: 1.000e-04, eta: 0:03:23, time: 1.090, data_time: 0.019, memory: 18190, loss_cls: 0.1877, loss_bbox: 0.2877, loss_centerness: 0.5888, loss: 1.0642, grad_norm: 1.9125\n",
      "2021-05-12 18:41:46,325 - mmdet - INFO - Epoch [23][150/164]\tlr: 1.000e-04, eta: 0:03:12, time: 1.093, data_time: 0.020, memory: 18190, loss_cls: 0.1835, loss_bbox: 0.2746, loss_centerness: 0.5875, loss: 1.0456, grad_norm: 1.7492\n",
      "2021-05-12 18:41:57,214 - mmdet - INFO - Epoch [23][160/164]\tlr: 1.000e-04, eta: 0:03:01, time: 1.089, data_time: 0.019, memory: 18190, loss_cls: 0.1972, loss_bbox: 0.3029, loss_centerness: 0.5904, loss: 1.0905, grad_norm: 1.7381\n",
      "2021-05-12 18:42:01,654 - mmdet - INFO - Saving checkpoint at 23 epochs\n",
      "[>>>>>>>>>>>>>>>>>>>>>>>>>>>>>] 655/655, 14.9 task/s, elapsed: 44s, ETA:     0s2021-05-12 18:42:47,920 - mmdet - INFO - Evaluating bbox...\n",
      "Loading and preparing results...\n",
      "DONE (t=0.85s)\n",
      "creating index...\n",
      "index created!\n",
      "Running per image evaluation...\n",
      "Evaluate annotation type *bbox*\n",
      "DONE (t=6.84s).\n",
      "Accumulating evaluation results...\n",
      "2021-05-12 18:42:57,522 - mmdet - INFO - Epoch(val) [23][164]\tbbox_mAP: 0.1120, bbox_mAP_50: 0.1890, bbox_mAP_75: 0.1120, bbox_mAP_s: 0.0420, bbox_mAP_m: 0.0950, bbox_mAP_l: 0.2050, bbox_mAP_copypaste: 0.112 0.189 0.112 0.042 0.095 0.205\n",
      "DONE (t=1.75s).\n",
      "Average Precision  (AP) @[ IoU=0.50:0.95 | area=   all | maxDets=100 ] = 0.112\n",
      "Average Precision  (AP) @[ IoU=0.50      | area=   all | maxDets=1000 ] = 0.189\n",
      "Average Precision  (AP) @[ IoU=0.75      | area=   all | maxDets=1000 ] = 0.112\n",
      "Average Precision  (AP) @[ IoU=0.50:0.95 | area= small | maxDets=1000 ] = 0.042\n",
      "Average Precision  (AP) @[ IoU=0.50:0.95 | area=medium | maxDets=1000 ] = 0.095\n",
      "Average Precision  (AP) @[ IoU=0.50:0.95 | area= large | maxDets=1000 ] = 0.205\n",
      "Average Recall     (AR) @[ IoU=0.50:0.95 | area=   all | maxDets=100 ] = 0.331\n",
      "Average Recall     (AR) @[ IoU=0.50:0.95 | area=   all | maxDets=300 ] = 0.331\n",
      "Average Recall     (AR) @[ IoU=0.50:0.95 | area=   all | maxDets=1000 ] = 0.331\n",
      "Average Recall     (AR) @[ IoU=0.50:0.95 | area= small | maxDets=1000 ] = 0.126\n",
      "Average Recall     (AR) @[ IoU=0.50:0.95 | area=medium | maxDets=1000 ] = 0.292\n",
      "Average Recall     (AR) @[ IoU=0.50:0.95 | area= large | maxDets=1000 ] = 0.597\n",
      "2021-05-12 18:43:10,963 - mmdet - INFO - Epoch [24][10/164]\tlr: 1.000e-04, eta: 0:02:46, time: 1.342, data_time: 0.268, memory: 18190, loss_cls: 0.2087, loss_bbox: 0.2829, loss_centerness: 0.5880, loss: 1.0796, grad_norm: 1.9683\n",
      "2021-05-12 18:43:21,878 - mmdet - INFO - Epoch [24][20/164]\tlr: 1.000e-04, eta: 0:02:35, time: 1.092, data_time: 0.021, memory: 18190, loss_cls: 0.1978, loss_bbox: 0.2731, loss_centerness: 0.5858, loss: 1.0567, grad_norm: 1.8970\n",
      "2021-05-12 18:43:32,788 - mmdet - INFO - Epoch [24][30/164]\tlr: 1.000e-04, eta: 0:02:24, time: 1.091, data_time: 0.020, memory: 18190, loss_cls: 0.1861, loss_bbox: 0.2905, loss_centerness: 0.5881, loss: 1.0647, grad_norm: 1.7844\n",
      "2021-05-12 18:43:43,687 - mmdet - INFO - Epoch [24][40/164]\tlr: 1.000e-04, eta: 0:02:13, time: 1.090, data_time: 0.018, memory: 18190, loss_cls: 0.1911, loss_bbox: 0.2874, loss_centerness: 0.5880, loss: 1.0664, grad_norm: 1.8740\n",
      "2021-05-12 18:43:54,592 - mmdet - INFO - Epoch [24][50/164]\tlr: 1.000e-04, eta: 0:02:03, time: 1.090, data_time: 0.019, memory: 18190, loss_cls: 0.2015, loss_bbox: 0.2967, loss_centerness: 0.5911, loss: 1.0893, grad_norm: 1.9244\n",
      "2021-05-12 18:44:05,490 - mmdet - INFO - Epoch [24][60/164]\tlr: 1.000e-04, eta: 0:01:52, time: 1.090, data_time: 0.019, memory: 18190, loss_cls: 0.1904, loss_bbox: 0.3053, loss_centerness: 0.5911, loss: 1.0867, grad_norm: 1.6930\n",
      "2021-05-12 18:44:16,419 - mmdet - INFO - Epoch [24][70/164]\tlr: 1.000e-04, eta: 0:01:41, time: 1.093, data_time: 0.019, memory: 18190, loss_cls: 0.2094, loss_bbox: 0.2815, loss_centerness: 0.5883, loss: 1.0792, grad_norm: 1.8472\n",
      "2021-05-12 18:44:27,305 - mmdet - INFO - Epoch [24][80/164]\tlr: 1.000e-04, eta: 0:01:30, time: 1.089, data_time: 0.018, memory: 18190, loss_cls: 0.1925, loss_bbox: 0.2815, loss_centerness: 0.5879, loss: 1.0619, grad_norm: 1.7589\n",
      "2021-05-12 18:44:38,230 - mmdet - INFO - Epoch [24][90/164]\tlr: 1.000e-04, eta: 0:01:19, time: 1.093, data_time: 0.018, memory: 18190, loss_cls: 0.1921, loss_bbox: 0.2724, loss_centerness: 0.5873, loss: 1.0519, grad_norm: 1.9240\n",
      "2021-05-12 18:44:49,169 - mmdet - INFO - Epoch [24][100/164]\tlr: 1.000e-04, eta: 0:01:09, time: 1.094, data_time: 0.020, memory: 18190, loss_cls: 0.1932, loss_bbox: 0.2933, loss_centerness: 0.5875, loss: 1.0740, grad_norm: 1.9155\n",
      "2021-05-12 18:45:00,176 - mmdet - INFO - Epoch [24][110/164]\tlr: 1.000e-04, eta: 0:00:58, time: 1.101, data_time: 0.019, memory: 18190, loss_cls: 0.1960, loss_bbox: 0.2877, loss_centerness: 0.5883, loss: 1.0720, grad_norm: 1.8178\n",
      "2021-05-12 18:45:11,090 - mmdet - INFO - Epoch [24][120/164]\tlr: 1.000e-04, eta: 0:00:47, time: 1.091, data_time: 0.019, memory: 18190, loss_cls: 0.2163, loss_bbox: 0.2937, loss_centerness: 0.5896, loss: 1.0996, grad_norm: 1.8596\n",
      "2021-05-12 18:45:21,994 - mmdet - INFO - Epoch [24][130/164]\tlr: 1.000e-04, eta: 0:00:36, time: 1.090, data_time: 0.018, memory: 18190, loss_cls: 0.1966, loss_bbox: 0.2834, loss_centerness: 0.5877, loss: 1.0678, grad_norm: 1.9130\n",
      "2021-05-12 18:45:33,035 - mmdet - INFO - Epoch [24][140/164]\tlr: 1.000e-04, eta: 0:00:25, time: 1.104, data_time: 0.019, memory: 18190, loss_cls: 0.2025, loss_bbox: 0.2801, loss_centerness: 0.5859, loss: 1.0684, grad_norm: 1.8479\n",
      "2021-05-12 18:45:44,014 - mmdet - INFO - Epoch [24][150/164]\tlr: 1.000e-04, eta: 0:00:15, time: 1.098, data_time: 0.019, memory: 18190, loss_cls: 0.1907, loss_bbox: 0.2795, loss_centerness: 0.5873, loss: 1.0574, grad_norm: 1.8623\n",
      "2021-05-12 18:45:54,912 - mmdet - INFO - Epoch [24][160/164]\tlr: 1.000e-04, eta: 0:00:04, time: 1.090, data_time: 0.018, memory: 18190, loss_cls: 0.2093, loss_bbox: 0.2657, loss_centerness: 0.5864, loss: 1.0614, grad_norm: 1.9130\n",
      "2021-05-12 18:45:59,330 - mmdet - INFO - Saving checkpoint at 24 epochs\n",
      "[>>>>>>>>>>>>>>>>>>>>>>>>>>>>>] 655/655, 14.1 task/s, elapsed: 46s, ETA:     0s2021-05-12 18:46:48,037 - mmdet - INFO - Evaluating bbox...\n",
      "Loading and preparing results...\n",
      "DONE (t=1.41s)\n",
      "creating index...\n",
      "index created!\n",
      "Running per image evaluation...\n",
      "Evaluate annotation type *bbox*\n",
      "DONE (t=6.08s).\n",
      "Accumulating evaluation results...\n",
      "2021-05-12 18:46:57,469 - mmdet - INFO - Epoch(val) [24][164]\tbbox_mAP: 0.1120, bbox_mAP_50: 0.1900, bbox_mAP_75: 0.1120, bbox_mAP_s: 0.0430, bbox_mAP_m: 0.0960, bbox_mAP_l: 0.2050, bbox_mAP_copypaste: 0.112 0.190 0.112 0.043 0.096 0.205\n",
      "DONE (t=1.76s).\n",
      "Average Precision  (AP) @[ IoU=0.50:0.95 | area=   all | maxDets=100 ] = 0.112\n",
      "Average Precision  (AP) @[ IoU=0.50      | area=   all | maxDets=1000 ] = 0.190\n",
      "Average Precision  (AP) @[ IoU=0.75      | area=   all | maxDets=1000 ] = 0.112\n",
      "Average Precision  (AP) @[ IoU=0.50:0.95 | area= small | maxDets=1000 ] = 0.043\n",
      "Average Precision  (AP) @[ IoU=0.50:0.95 | area=medium | maxDets=1000 ] = 0.096\n",
      "Average Precision  (AP) @[ IoU=0.50:0.95 | area= large | maxDets=1000 ] = 0.205\n",
      "Average Recall     (AR) @[ IoU=0.50:0.95 | area=   all | maxDets=100 ] = 0.334\n",
      "Average Recall     (AR) @[ IoU=0.50:0.95 | area=   all | maxDets=300 ] = 0.334\n",
      "Average Recall     (AR) @[ IoU=0.50:0.95 | area=   all | maxDets=1000 ] = 0.334\n",
      "Average Recall     (AR) @[ IoU=0.50:0.95 | area= small | maxDets=1000 ] = 0.127\n",
      "Average Recall     (AR) @[ IoU=0.50:0.95 | area=medium | maxDets=1000 ] = 0.296\n",
      "Average Recall     (AR) @[ IoU=0.50:0.95 | area= large | maxDets=1000 ] = 0.596\n"
     ]
    },
    {
     "output_type": "display_data",
     "data": {
      "text/plain": "<IPython.core.display.HTML object>",
      "text/html": "<br/>Waiting for W&B process to finish, PID 29043<br/>Program ended successfully."
     },
     "metadata": {}
    },
    {
     "output_type": "display_data",
     "data": {
      "text/plain": "VBox(children=(Label(value=' 0.00MB of 0.00MB uploaded (0.00MB deduped)\\r'), FloatProgress(value=1.0, max=1.0)…",
      "application/vnd.jupyter.widget-view+json": {
       "version_major": 2,
       "version_minor": 0,
       "model_id": "359757a661ea4977ae7ee0df3e7e525c"
      }
     },
     "metadata": {}
    },
    {
     "output_type": "display_data",
     "data": {
      "text/plain": "<IPython.core.display.HTML object>",
      "text/html": "Find user logs for this run at: <code>/opt/ml/p3-ims-obd-hansarang/gjtak_works/Object Detection/code/mmdetection_trash/notebooks/wandb/run-20210512_171057-i5vlne35/logs/debug.log</code>"
     },
     "metadata": {}
    },
    {
     "output_type": "display_data",
     "data": {
      "text/plain": "<IPython.core.display.HTML object>",
      "text/html": "Find internal logs for this run at: <code>/opt/ml/p3-ims-obd-hansarang/gjtak_works/Object Detection/code/mmdetection_trash/notebooks/wandb/run-20210512_171057-i5vlne35/logs/debug-internal.log</code>"
     },
     "metadata": {}
    },
    {
     "output_type": "display_data",
     "data": {
      "text/plain": "<IPython.core.display.HTML object>",
      "text/html": "<h3>Run summary:</h3><br/><style>\n    table.wandb td:nth-child(1) { padding: 0 10px; text-align: right }\n    </style><table class=\"wandb\">\n<tr><td>train/loss_cls</td><td>0.20931</td></tr><tr><td>train/loss_bbox</td><td>0.26566</td></tr><tr><td>train/loss_centerness</td><td>0.58638</td></tr><tr><td>train/loss</td><td>1.06136</td></tr><tr><td>train/grad_norm</td><td>1.91296</td></tr><tr><td>learning_rate</td><td>0.0001</td></tr><tr><td>momentum</td><td>0.9</td></tr><tr><td>_runtime</td><td>5760</td></tr><tr><td>_timestamp</td><td>1620845217</td></tr><tr><td>_step</td><td>3937</td></tr><tr><td>val/bbox_mAP</td><td>0.112</td></tr><tr><td>val/bbox_mAP_50</td><td>0.19</td></tr><tr><td>val/bbox_mAP_75</td><td>0.112</td></tr><tr><td>val/bbox_mAP_s</td><td>0.043</td></tr><tr><td>val/bbox_mAP_m</td><td>0.096</td></tr><tr><td>val/bbox_mAP_l</td><td>0.205</td></tr></table>"
     },
     "metadata": {}
    },
    {
     "output_type": "display_data",
     "data": {
      "text/plain": "<IPython.core.display.HTML object>",
      "text/html": "<h3>Run history:</h3><br/><style>\n    table.wandb td:nth-child(1) { padding: 0 10px; text-align: right }\n    </style><table class=\"wandb\">\n<tr><td>train/loss_cls</td><td>▃▂▂▂▂▃█▂▂▂▂▂▂▂▂▂▂▂▂▁▁▁▁▁▁▁▁▁▁▁▁▁▁▁▁▁▁▁▁▁</td></tr><tr><td>train/loss_bbox</td><td>█▇▆▆▃▅▄▃▃▃▃▃▃▃▂▂▂▃▂▂▂▂▂▂▂▂▂▁▁▁▁▁▁▁▁▁▁▁▁▁</td></tr><tr><td>train/loss_centerness</td><td>██▇▆▅▆█▇▆▅▄▄▄▄▃▃▃▃▃▂▃▂▂▂▂▂▂▂▁▁▁▁▁▁▁▁▁▁▁▁</td></tr><tr><td>train/loss</td><td>█▆▆▆▃▅█▄▄▃▃▃▃▃▂▂▂▃▂▂▂▂▂▂▂▂▂▁▁▁▁▁▁▁▁▁▁▁▁▁</td></tr><tr><td>train/grad_norm</td><td>▆▂▂▃▃█▅▄▅▅▄▅▅▄▄▃▂▅▃▃▄▄▂▄▄▄▃▁▁▁▁▁▁▁▁▁▁▁▁▁</td></tr><tr><td>learning_rate</td><td>▃▃▃▃▃██████████████████████▂▂▂▂▂▂▂▂▂▁▁▁▁</td></tr><tr><td>momentum</td><td>▁▁▁▁▁▁▁▁▁▁▁▁▁▁▁▁▁▁▁▁▁▁▁▁▁▁▁▁▁▁▁▁▁▁▁▁▁▁▁▁</td></tr><tr><td>_runtime</td><td>▁▁▁▁▂▂▂▂▂▃▃▃▃▃▃▄▄▄▄▄▅▅▅▅▅▅▆▆▆▆▆▇▇▇▇▇▇███</td></tr><tr><td>_timestamp</td><td>▁▁▁▁▂▂▂▂▂▃▃▃▃▃▃▄▄▄▄▄▅▅▅▅▅▅▆▆▆▆▆▇▇▇▇▇▇███</td></tr><tr><td>_step</td><td>▁▁▁▁▂▂▂▂▂▃▃▃▃▃▄▄▄▄▄▄▅▅▅▅▅▅▆▆▆▆▆▇▇▇▇▇▇███</td></tr><tr><td>val/bbox_mAP</td><td>▁▁▂▁▁▂▃▃▂▃▄▄▅▆▆▅████████</td></tr><tr><td>val/bbox_mAP_50</td><td>▁▁▃▁▁▂▄▄▃▅▅▆▆▆▇▇████████</td></tr><tr><td>val/bbox_mAP_75</td><td>▁▁▁▁▁▁▂▂▂▂▃▃▄▆▆▄████████</td></tr><tr><td>val/bbox_mAP_s</td><td>▁▁▂▁▂▂▂▄▂▅▇▅▃▆▇▇▇███▇█▇█</td></tr><tr><td>val/bbox_mAP_m</td><td>▁▁▃▁▁▂▃▃▃▄▄▅▅▆▇▆████████</td></tr><tr><td>val/bbox_mAP_l</td><td>▁▁▂▁▁▂▃▃▂▃▄▄▅▆▆▅████████</td></tr></table><br/>"
     },
     "metadata": {}
    },
    {
     "output_type": "display_data",
     "data": {
      "text/plain": "<IPython.core.display.HTML object>",
      "text/html": "Synced 6 W&B file(s), 0 media file(s), 0 artifact file(s) and 0 other file(s)"
     },
     "metadata": {}
    },
    {
     "output_type": "display_data",
     "data": {
      "text/plain": "<IPython.core.display.HTML object>",
      "text/html": "\n                    <br/>Synced <strong style=\"color:#cdcd00\">fcos_hrnetv2p_w40_gn-head_mstrain_640-800_4x4_2x_coco</strong>: <a href=\"https://wandb.ai/pstage3_det/gjtak/runs/i5vlne35\" target=\"_blank\">https://wandb.ai/pstage3_det/gjtak/runs/i5vlne35</a><br/>\n                "
     },
     "metadata": {}
    },
    {
     "output_type": "stream",
     "name": "stdout",
     "text": [
      "time(sec) : 5769.765910387039\n"
     ]
    }
   ],
   "source": [
    "start = time.time()  # 시작 시간 저장\n",
    "train_detector(model, datasets[0], cfg, distributed=False, validate=True)\n",
    "print(\"time(sec) :\", time.time() - start)  # 현재시각 - 시작시간 = 실행 시간(단위 : 초)"
   ]
  },
  {
   "cell_type": "markdown",
   "metadata": {},
   "source": [
    "## Inference part"
   ]
  },
  {
   "cell_type": "code",
   "execution_count": 15,
   "metadata": {},
   "outputs": [],
   "source": [
    "epoch = cfg.runner.max_epochs\n",
    "cfg.model.train_cfg = None\n",
    "\n",
    "# checkpoint path\n",
    "checkpoint_path = os.path.join(cfg.work_dir, f'epoch_{epoch}.pth')"
   ]
  },
  {
   "cell_type": "code",
   "execution_count": 16,
   "metadata": {},
   "outputs": [
    {
     "output_type": "stream",
     "name": "stdout",
     "text": [
      "loading annotations into memory...\nDone (t=0.00s)\ncreating index...\nindex created!\n"
     ]
    }
   ],
   "source": [
    "dataset = build_dataset(cfg.data.test)\n",
    "data_loader = build_dataloader(\n",
    "        dataset,\n",
    "        samples_per_gpu=1,\n",
    "        workers_per_gpu=cfg.data.workers_per_gpu,\n",
    "        dist=False,\n",
    "        shuffle=False)"
   ]
  },
  {
   "cell_type": "code",
   "execution_count": 17,
   "metadata": {},
   "outputs": [
    {
     "output_type": "stream",
     "name": "stderr",
     "text": [
      "2021-05-12 18:47:02,376 - mmdet - INFO - load model from: open-mmlab://msra/hrnetv2_w40\n",
      "2021-05-12 18:47:02,377 - mmdet - INFO - Use load_from_openmmlab loader\n",
      "2021-05-12 18:47:02,927 - mmdet - WARNING - The model and loaded state dict do not match exactly\n",
      "\n",
      "unexpected key in source state_dict: incre_modules.0.0.conv1.weight, incre_modules.0.0.bn1.weight, incre_modules.0.0.bn1.bias, incre_modules.0.0.bn1.running_mean, incre_modules.0.0.bn1.running_var, incre_modules.0.0.bn1.num_batches_tracked, incre_modules.0.0.conv2.weight, incre_modules.0.0.bn2.weight, incre_modules.0.0.bn2.bias, incre_modules.0.0.bn2.running_mean, incre_modules.0.0.bn2.running_var, incre_modules.0.0.bn2.num_batches_tracked, incre_modules.0.0.conv3.weight, incre_modules.0.0.bn3.weight, incre_modules.0.0.bn3.bias, incre_modules.0.0.bn3.running_mean, incre_modules.0.0.bn3.running_var, incre_modules.0.0.bn3.num_batches_tracked, incre_modules.0.0.downsample.0.weight, incre_modules.0.0.downsample.1.weight, incre_modules.0.0.downsample.1.bias, incre_modules.0.0.downsample.1.running_mean, incre_modules.0.0.downsample.1.running_var, incre_modules.0.0.downsample.1.num_batches_tracked, incre_modules.1.0.conv1.weight, incre_modules.1.0.bn1.weight, incre_modules.1.0.bn1.bias, incre_modules.1.0.bn1.running_mean, incre_modules.1.0.bn1.running_var, incre_modules.1.0.bn1.num_batches_tracked, incre_modules.1.0.conv2.weight, incre_modules.1.0.bn2.weight, incre_modules.1.0.bn2.bias, incre_modules.1.0.bn2.running_mean, incre_modules.1.0.bn2.running_var, incre_modules.1.0.bn2.num_batches_tracked, incre_modules.1.0.conv3.weight, incre_modules.1.0.bn3.weight, incre_modules.1.0.bn3.bias, incre_modules.1.0.bn3.running_mean, incre_modules.1.0.bn3.running_var, incre_modules.1.0.bn3.num_batches_tracked, incre_modules.1.0.downsample.0.weight, incre_modules.1.0.downsample.1.weight, incre_modules.1.0.downsample.1.bias, incre_modules.1.0.downsample.1.running_mean, incre_modules.1.0.downsample.1.running_var, incre_modules.1.0.downsample.1.num_batches_tracked, incre_modules.2.0.conv1.weight, incre_modules.2.0.bn1.weight, incre_modules.2.0.bn1.bias, incre_modules.2.0.bn1.running_mean, incre_modules.2.0.bn1.running_var, incre_modules.2.0.bn1.num_batches_tracked, incre_modules.2.0.conv2.weight, incre_modules.2.0.bn2.weight, incre_modules.2.0.bn2.bias, incre_modules.2.0.bn2.running_mean, incre_modules.2.0.bn2.running_var, incre_modules.2.0.bn2.num_batches_tracked, incre_modules.2.0.conv3.weight, incre_modules.2.0.bn3.weight, incre_modules.2.0.bn3.bias, incre_modules.2.0.bn3.running_mean, incre_modules.2.0.bn3.running_var, incre_modules.2.0.bn3.num_batches_tracked, incre_modules.2.0.downsample.0.weight, incre_modules.2.0.downsample.1.weight, incre_modules.2.0.downsample.1.bias, incre_modules.2.0.downsample.1.running_mean, incre_modules.2.0.downsample.1.running_var, incre_modules.2.0.downsample.1.num_batches_tracked, incre_modules.3.0.conv1.weight, incre_modules.3.0.bn1.weight, incre_modules.3.0.bn1.bias, incre_modules.3.0.bn1.running_mean, incre_modules.3.0.bn1.running_var, incre_modules.3.0.bn1.num_batches_tracked, incre_modules.3.0.conv2.weight, incre_modules.3.0.bn2.weight, incre_modules.3.0.bn2.bias, incre_modules.3.0.bn2.running_mean, incre_modules.3.0.bn2.running_var, incre_modules.3.0.bn2.num_batches_tracked, incre_modules.3.0.conv3.weight, incre_modules.3.0.bn3.weight, incre_modules.3.0.bn3.bias, incre_modules.3.0.bn3.running_mean, incre_modules.3.0.bn3.running_var, incre_modules.3.0.bn3.num_batches_tracked, incre_modules.3.0.downsample.0.weight, incre_modules.3.0.downsample.1.weight, incre_modules.3.0.downsample.1.bias, incre_modules.3.0.downsample.1.running_mean, incre_modules.3.0.downsample.1.running_var, incre_modules.3.0.downsample.1.num_batches_tracked, downsamp_modules.0.0.weight, downsamp_modules.0.0.bias, downsamp_modules.0.1.weight, downsamp_modules.0.1.bias, downsamp_modules.0.1.running_mean, downsamp_modules.0.1.running_var, downsamp_modules.0.1.num_batches_tracked, downsamp_modules.1.0.weight, downsamp_modules.1.0.bias, downsamp_modules.1.1.weight, downsamp_modules.1.1.bias, downsamp_modules.1.1.running_mean, downsamp_modules.1.1.running_var, downsamp_modules.1.1.num_batches_tracked, downsamp_modules.2.0.weight, downsamp_modules.2.0.bias, downsamp_modules.2.1.weight, downsamp_modules.2.1.bias, downsamp_modules.2.1.running_mean, downsamp_modules.2.1.running_var, downsamp_modules.2.1.num_batches_tracked, final_layer.0.weight, final_layer.0.bias, final_layer.1.weight, final_layer.1.bias, final_layer.1.running_mean, final_layer.1.running_var, final_layer.1.num_batches_tracked, classifier.weight, classifier.bias\n",
      "\n",
      "Use load_from_local loader\n"
     ]
    }
   ],
   "source": [
    "model = build_detector(cfg.model, test_cfg=cfg.get('test_cfg'))\n",
    "checkpoint = load_checkpoint(model, checkpoint_path, map_location='cpu')\n",
    "\n",
    "model.CLASSES = dataset.CLASSES\n",
    "model = MMDataParallel(model.cuda(), device_ids=[0])"
   ]
  },
  {
   "cell_type": "code",
   "execution_count": 18,
   "metadata": {},
   "outputs": [
    {
     "output_type": "stream",
     "name": "stdout",
     "text": [
      "[>>>>>>>>>>>>>>>>>>>>>>>>>>>>>] 837/837, 14.8 task/s, elapsed: 56s, ETA:     0s"
     ]
    }
   ],
   "source": [
    "output = single_gpu_test(model, data_loader, show_score_thr=0.05)"
   ]
  },
  {
   "cell_type": "code",
   "execution_count": 19,
   "metadata": {},
   "outputs": [
    {
     "output_type": "stream",
     "name": "stdout",
     "text": [
      "loading annotations into memory...\n",
      "Done (t=0.53s)\n",
      "creating index...\n",
      "index created!\n"
     ]
    },
    {
     "output_type": "execute_result",
     "data": {
      "text/plain": [
       "                                    PredictionString              image_id\n",
       "0  0 0.040290806 128.12572 54.976624 257.18927 17...  batch_01_vt/0021.jpg\n",
       "1  0 0.0622886 2.6855164 244.7976 296.18066 458.5...  batch_01_vt/0028.jpg\n",
       "2  0 0.08864036 65.54167 165.637 376.50534 386.05...  batch_01_vt/0031.jpg\n",
       "3  0 0.043949112 287.4513 149.0187 359.8841 231.8...  batch_01_vt/0032.jpg\n",
       "4  1 0.25261065 387.64752 273.28253 473.24817 346...  batch_01_vt/0070.jpg"
      ],
      "text/html": "<div>\n<style scoped>\n    .dataframe tbody tr th:only-of-type {\n        vertical-align: middle;\n    }\n\n    .dataframe tbody tr th {\n        vertical-align: top;\n    }\n\n    .dataframe thead th {\n        text-align: right;\n    }\n</style>\n<table border=\"1\" class=\"dataframe\">\n  <thead>\n    <tr style=\"text-align: right;\">\n      <th></th>\n      <th>PredictionString</th>\n      <th>image_id</th>\n    </tr>\n  </thead>\n  <tbody>\n    <tr>\n      <th>0</th>\n      <td>0 0.040290806 128.12572 54.976624 257.18927 17...</td>\n      <td>batch_01_vt/0021.jpg</td>\n    </tr>\n    <tr>\n      <th>1</th>\n      <td>0 0.0622886 2.6855164 244.7976 296.18066 458.5...</td>\n      <td>batch_01_vt/0028.jpg</td>\n    </tr>\n    <tr>\n      <th>2</th>\n      <td>0 0.08864036 65.54167 165.637 376.50534 386.05...</td>\n      <td>batch_01_vt/0031.jpg</td>\n    </tr>\n    <tr>\n      <th>3</th>\n      <td>0 0.043949112 287.4513 149.0187 359.8841 231.8...</td>\n      <td>batch_01_vt/0032.jpg</td>\n    </tr>\n    <tr>\n      <th>4</th>\n      <td>1 0.25261065 387.64752 273.28253 473.24817 346...</td>\n      <td>batch_01_vt/0070.jpg</td>\n    </tr>\n  </tbody>\n</table>\n</div>"
     },
     "metadata": {},
     "execution_count": 19
    }
   ],
   "source": [
    "prediction_strings = []\n",
    "file_names = []\n",
    "coco = COCO(cfg.data.test.ann_file)\n",
    "imag_ids = coco.getImgIds()\n",
    "\n",
    "class_num = 11\n",
    "for i, out in enumerate(output):\n",
    "    prediction_string = ''\n",
    "    image_info = coco.loadImgs(coco.getImgIds(imgIds=i))[0]\n",
    "    for j in range(class_num):\n",
    "        for o in out[j]:\n",
    "            prediction_string += str(j) + ' ' + str(o[4]) + ' ' + str(o[0]) + ' ' + str(o[1]) + ' ' + str(\n",
    "                o[2]) + ' ' + str(o[3]) + ' '\n",
    "        \n",
    "    prediction_strings.append(prediction_string)\n",
    "    file_names.append(image_info['file_name'])\n",
    "\n",
    "\n",
    "submission = pd.DataFrame()\n",
    "submission['PredictionString'] = prediction_strings\n",
    "submission['image_id'] = file_names\n",
    "\n",
    "submission.to_csv(os.path.join(cfg.work_dir, 'submission_'+config_file_name+f'_{epoch}.csv'), index=None)\n",
    "submission.head()"
   ]
  },
  {
   "cell_type": "code",
   "execution_count": null,
   "metadata": {},
   "outputs": [],
   "source": []
  }
 ],
 "metadata": {
  "kernelspec": {
   "name": "python377jvsc74a57bd098b0a9b7b4eaaa670588a142fd0a9b87eaafe866f1db4228be72b4211d12040f",
   "display_name": "Python 3.7.7 64-bit ('conda': virtualenv)"
  },
  "language_info": {
   "codemirror_mode": {
    "name": "ipython",
    "version": 3
   },
   "file_extension": ".py",
   "mimetype": "text/x-python",
   "name": "python",
   "nbconvert_exporter": "python",
   "pygments_lexer": "ipython3",
   "version": "3.7.7"
  },
  "pycharm": {
   "stem_cell": {
    "cell_type": "raw",
    "metadata": {
     "collapsed": false
    },
    "source": []
   }
  }
 },
 "nbformat": 4,
 "nbformat_minor": 4
}