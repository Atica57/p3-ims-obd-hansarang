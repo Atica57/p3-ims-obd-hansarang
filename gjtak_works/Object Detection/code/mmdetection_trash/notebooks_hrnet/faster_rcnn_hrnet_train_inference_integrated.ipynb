{
 "cells": [
  {
   "cell_type": "code",
   "execution_count": 2,
   "metadata": {},
   "outputs": [
    {
     "output_type": "stream",
     "name": "stdout",
     "text": [
      "Thu May 20 07:51:33 2021       \n+-----------------------------------------------------------------------------+\n| NVIDIA-SMI 418.67       Driver Version: 418.67       CUDA Version: 10.1     |\n|-------------------------------+----------------------+----------------------+\n| GPU  Name        Persistence-M| Bus-Id        Disp.A | Volatile Uncorr. ECC |\n| Fan  Temp  Perf  Pwr:Usage/Cap|         Memory-Usage | GPU-Util  Compute M. |\n|===============================+======================+======================|\n|   0  Tesla V100-PCIE...  On   | 00000000:00:05.0 Off |                  Off |\n| N/A   33C    P0    27W / 250W |      0MiB / 32480MiB |      0%      Default |\n+-------------------------------+----------------------+----------------------+\n                                                                               \n+-----------------------------------------------------------------------------+\n| Processes:                                                       GPU Memory |\n|  GPU       PID   Type   Process name                             Usage      |\n|=============================================================================|\n|  No running processes found                                                 |\n+-----------------------------------------------------------------------------+\n"
     ]
    }
   ],
   "source": [
    "!nvidia-smi"
   ]
  },
  {
   "cell_type": "code",
   "execution_count": 3,
   "metadata": {
    "pycharm": {
     "name": "#%%\n"
    }
   },
   "outputs": [],
   "source": [
    "import os, time\n",
    "import mmcv\n",
    "from mmcv import Config\n",
    "from mmdet.datasets import (build_dataloader, build_dataset, replace_ImageToTensor) # 앞의 2개 --> mmdet/datasets/builder.py에 존재 / 마지막 1개 --> \n",
    "from mmdet.models import build_detector #mmdet/models/builder.py에 존재\n",
    "from mmdet.apis import train_detector, single_gpu_test # mmdet/apis/train.py, test.py에 존재\n",
    "from mmcv.runner import load_checkpoint\n",
    "from mmcv.parallel import MMDataParallel\n",
    "import pandas as pd\n",
    "from pandas import DataFrame\n",
    "from pycocotools.coco import COCO\n",
    "import numpy as np\n",
    "import json, wandb"
   ]
  },
  {
   "cell_type": "markdown",
   "metadata": {},
   "source": [
    "## train part"
   ]
  },
  {
   "cell_type": "code",
   "execution_count": 4,
   "metadata": {
    "pycharm": {
     "name": "#%%\n"
    }
   },
   "outputs": [],
   "source": [
    "classes = (\"UNKNOWN\", \"General trash\", \"Paper\", \"Paper pack\", \"Metal\", \"Glass\", \n",
    "           \"Plastic\", \"Styrofoam\", \"Plastic bag\", \"Battery\", \"Clothing\")\n",
    "# config file 들고오기\n",
    "#cfg = Config.fromfile('../configs/faster_rcnn/faster_rcnn_r50_fpn_1x_coco.py')\n",
    "#파일 교체 시 여기 이름 바꾸기\n",
    "config_dir_name = 'hrnet'\n",
    "config_file_name = 'faster_rcnn_hrnetv2p_w40_2x_coco'\n",
    "cfg = Config.fromfile('../configs/'+config_dir_name+'/'+config_file_name+'.py')\n",
    "\n",
    "PREFIX = '/opt/ml/input/data/'\n",
    "\n",
    "# dataset 바꾸기\n",
    "cfg.data.train.classes = classes\n",
    "cfg.data.train.img_prefix = PREFIX\n",
    "cfg.data.train.ann_file = PREFIX + 'train+pseudo.json'\n",
    "cfg.data.train.pipeline[2]['img_scale'] = (512, 512)\n",
    "\n",
    "cfg.data.val.classes = classes\n",
    "cfg.data.val.img_prefix = PREFIX\n",
    "cfg.data.val.ann_file = PREFIX + 'val.json'\n",
    "cfg.data.val.pipeline[1]['img_scale'] = (512, 512)\n",
    "\n",
    "cfg.data.test.classes = classes\n",
    "cfg.data.test.img_prefix = PREFIX\n",
    "cfg.data.test.ann_file = PREFIX + 'test.json'\n",
    "cfg.data.test.pipeline[1]['img_scale'] = (512, 512)\n",
    "\n",
    "cfg.data.samples_per_gpu = 16    #batch size\n",
    "\n",
    "cfg.seed=42 #42로 고정\n",
    "cfg.gpu_ids = [0]\n",
    "\n",
    "cfg.model.roi_head.bbox_head.num_classes = 11\n",
    "\n",
    "cfg.optimizer_config.grad_clip = dict(max_norm=35, norm_type=2)\n",
    "\n",
    "#working directory 이름 설정\n",
    "working_dir_name = '../work_dirs/' + config_file_name+'_psudoLabeling' +'_'+str(cfg.runner.max_epochs)\n",
    "cfg.work_dir = working_dir_name\n"
   ]
  },
  {
   "cell_type": "markdown",
   "metadata": {},
   "source": [
    "## wandb setting"
   ]
  },
  {
   "cell_type": "code",
   "execution_count": 5,
   "metadata": {},
   "outputs": [],
   "source": [
    "group_name = 'hrnet'; project_name = 'gjtak'; run_name = config_file_name\n",
    "config_list = {\n",
    "    'epoch' : cfg.runner.max_epochs,\n",
    "    'batch_size' :  cfg.data.samples_per_gpu,\n",
    "    'optimizer' : cfg.optimizer,\n",
    "    'optimizer_config' : cfg.optimizer_config,\n",
    "    'lr_config' : cfg.lr_config\n",
    "}\n",
    "cfg.log_config.hooks[1].init_kwargs['group']=group_name # group name(option)\n",
    "cfg.log_config.hooks[1].init_kwargs['name'] = run_name # run name\n",
    "cfg.log_config.hooks[1].init_kwargs['config'] = config_list # config"
   ]
  },
  {
   "cell_type": "markdown",
   "metadata": {},
   "source": [
    "### config 저장"
   ]
  },
  {
   "cell_type": "code",
   "execution_count": 6,
   "metadata": {},
   "outputs": [],
   "source": [
    "# config 객체 -> 파일(json)로 저장(저장 장소 = working directory와 같이)\n",
    "#working directory 없으면 생성하기\n",
    "try:\n",
    "    if not os.path.exists(working_dir_name):\n",
    "        os.makedirs(working_dir_name)\n",
    "except OSError :\n",
    "    print('Error: Creating directory :: ' + working_dir_name)\n",
    "\n",
    "#cfg 객체 -> string(str이용) -> dict(eval이용) -> json 으로 저장\n",
    "cfg_str = str(cfg)[str(cfg).find(')')+3:]\n",
    "cfg_dict = eval(cfg_str)\n",
    "with open(working_dir_name+'/config.json','w') as config_json_file :\n",
    "    json.dump(cfg_dict, config_json_file, indent=\"\\t\")\n"
   ]
  },
  {
   "cell_type": "code",
   "execution_count": 7,
   "metadata": {},
   "outputs": [],
   "source": [
    "#config 저장 확인\n",
    "with open(working_dir_name+'/config.json', 'r') as f :\n",
    "    json_data = json.load(f)\n",
    "#json_data"
   ]
  },
  {
   "cell_type": "code",
   "execution_count": 8,
   "metadata": {
    "pycharm": {
     "name": "#%%\n"
    }
   },
   "outputs": [
    {
     "output_type": "stream",
     "name": "stderr",
     "text": [
      "2021-05-20 07:51:43,106 - mmdet - INFO - load model from: open-mmlab://msra/hrnetv2_w40\n",
      "2021-05-20 07:51:43,107 - mmdet - INFO - Use load_from_openmmlab loader\n",
      "2021-05-20 07:51:43,927 - mmdet - WARNING - The model and loaded state dict do not match exactly\n",
      "\n",
      "unexpected key in source state_dict: incre_modules.0.0.conv1.weight, incre_modules.0.0.bn1.weight, incre_modules.0.0.bn1.bias, incre_modules.0.0.bn1.running_mean, incre_modules.0.0.bn1.running_var, incre_modules.0.0.bn1.num_batches_tracked, incre_modules.0.0.conv2.weight, incre_modules.0.0.bn2.weight, incre_modules.0.0.bn2.bias, incre_modules.0.0.bn2.running_mean, incre_modules.0.0.bn2.running_var, incre_modules.0.0.bn2.num_batches_tracked, incre_modules.0.0.conv3.weight, incre_modules.0.0.bn3.weight, incre_modules.0.0.bn3.bias, incre_modules.0.0.bn3.running_mean, incre_modules.0.0.bn3.running_var, incre_modules.0.0.bn3.num_batches_tracked, incre_modules.0.0.downsample.0.weight, incre_modules.0.0.downsample.1.weight, incre_modules.0.0.downsample.1.bias, incre_modules.0.0.downsample.1.running_mean, incre_modules.0.0.downsample.1.running_var, incre_modules.0.0.downsample.1.num_batches_tracked, incre_modules.1.0.conv1.weight, incre_modules.1.0.bn1.weight, incre_modules.1.0.bn1.bias, incre_modules.1.0.bn1.running_mean, incre_modules.1.0.bn1.running_var, incre_modules.1.0.bn1.num_batches_tracked, incre_modules.1.0.conv2.weight, incre_modules.1.0.bn2.weight, incre_modules.1.0.bn2.bias, incre_modules.1.0.bn2.running_mean, incre_modules.1.0.bn2.running_var, incre_modules.1.0.bn2.num_batches_tracked, incre_modules.1.0.conv3.weight, incre_modules.1.0.bn3.weight, incre_modules.1.0.bn3.bias, incre_modules.1.0.bn3.running_mean, incre_modules.1.0.bn3.running_var, incre_modules.1.0.bn3.num_batches_tracked, incre_modules.1.0.downsample.0.weight, incre_modules.1.0.downsample.1.weight, incre_modules.1.0.downsample.1.bias, incre_modules.1.0.downsample.1.running_mean, incre_modules.1.0.downsample.1.running_var, incre_modules.1.0.downsample.1.num_batches_tracked, incre_modules.2.0.conv1.weight, incre_modules.2.0.bn1.weight, incre_modules.2.0.bn1.bias, incre_modules.2.0.bn1.running_mean, incre_modules.2.0.bn1.running_var, incre_modules.2.0.bn1.num_batches_tracked, incre_modules.2.0.conv2.weight, incre_modules.2.0.bn2.weight, incre_modules.2.0.bn2.bias, incre_modules.2.0.bn2.running_mean, incre_modules.2.0.bn2.running_var, incre_modules.2.0.bn2.num_batches_tracked, incre_modules.2.0.conv3.weight, incre_modules.2.0.bn3.weight, incre_modules.2.0.bn3.bias, incre_modules.2.0.bn3.running_mean, incre_modules.2.0.bn3.running_var, incre_modules.2.0.bn3.num_batches_tracked, incre_modules.2.0.downsample.0.weight, incre_modules.2.0.downsample.1.weight, incre_modules.2.0.downsample.1.bias, incre_modules.2.0.downsample.1.running_mean, incre_modules.2.0.downsample.1.running_var, incre_modules.2.0.downsample.1.num_batches_tracked, incre_modules.3.0.conv1.weight, incre_modules.3.0.bn1.weight, incre_modules.3.0.bn1.bias, incre_modules.3.0.bn1.running_mean, incre_modules.3.0.bn1.running_var, incre_modules.3.0.bn1.num_batches_tracked, incre_modules.3.0.conv2.weight, incre_modules.3.0.bn2.weight, incre_modules.3.0.bn2.bias, incre_modules.3.0.bn2.running_mean, incre_modules.3.0.bn2.running_var, incre_modules.3.0.bn2.num_batches_tracked, incre_modules.3.0.conv3.weight, incre_modules.3.0.bn3.weight, incre_modules.3.0.bn3.bias, incre_modules.3.0.bn3.running_mean, incre_modules.3.0.bn3.running_var, incre_modules.3.0.bn3.num_batches_tracked, incre_modules.3.0.downsample.0.weight, incre_modules.3.0.downsample.1.weight, incre_modules.3.0.downsample.1.bias, incre_modules.3.0.downsample.1.running_mean, incre_modules.3.0.downsample.1.running_var, incre_modules.3.0.downsample.1.num_batches_tracked, downsamp_modules.0.0.weight, downsamp_modules.0.0.bias, downsamp_modules.0.1.weight, downsamp_modules.0.1.bias, downsamp_modules.0.1.running_mean, downsamp_modules.0.1.running_var, downsamp_modules.0.1.num_batches_tracked, downsamp_modules.1.0.weight, downsamp_modules.1.0.bias, downsamp_modules.1.1.weight, downsamp_modules.1.1.bias, downsamp_modules.1.1.running_mean, downsamp_modules.1.1.running_var, downsamp_modules.1.1.num_batches_tracked, downsamp_modules.2.0.weight, downsamp_modules.2.0.bias, downsamp_modules.2.1.weight, downsamp_modules.2.1.bias, downsamp_modules.2.1.running_mean, downsamp_modules.2.1.running_var, downsamp_modules.2.1.num_batches_tracked, final_layer.0.weight, final_layer.0.bias, final_layer.1.weight, final_layer.1.bias, final_layer.1.running_mean, final_layer.1.running_var, final_layer.1.num_batches_tracked, classifier.weight, classifier.bias\n",
      "\n"
     ]
    }
   ],
   "source": [
    "model = build_detector(cfg.model)"
   ]
  },
  {
   "cell_type": "code",
   "execution_count": 9,
   "metadata": {
    "pycharm": {
     "name": "#%%\n"
    }
   },
   "outputs": [
    {
     "output_type": "stream",
     "name": "stdout",
     "text": [
      "loading annotations into memory...\n",
      "Done (t=3.93s)\n",
      "creating index...\n",
      "index created!\n"
     ]
    }
   ],
   "source": [
    "datasets = [build_dataset(cfg.data.train)]"
   ]
  },
  {
   "cell_type": "code",
   "execution_count": 10,
   "metadata": {
    "pycharm": {
     "name": "#%%\n"
    },
    "tags": [
     "outputPrepend"
    ]
   },
   "outputs": [
    {
     "output_type": "stream",
     "name": "stdout",
     "text": [
      "loading annotations into memory...\n",
      "2021-05-20 07:51:54,273 - mmdet - INFO - Start running, host: root@a0934ebc062a, work_dir: /opt/ml/p3-ims-obd-hansarang/gjtak_works/Object Detection/code/mmdetection_trash/work_dirs/faster_rcnn_hrnetv2p_w40_2x_coco_psudoLabeling_24\n",
      "2021-05-20 07:51:54,273 - mmdet - INFO - workflow: [('train', 1)], max: 24 epochs\n",
      "Failed to detect the name of this notebook, you can set it manually with the WANDB_NOTEBOOK_NAME environment variable to enable code saving.\n",
      "Done (t=0.89s)\n",
      "creating index...\n",
      "index created!\n",
      "\u001b[34m\u001b[1mwandb\u001b[0m: Currently logged in as: \u001b[33mpstage3_det\u001b[0m (use `wandb login --relogin` to force relogin)\n"
     ]
    },
    {
     "output_type": "display_data",
     "data": {
      "text/plain": "<IPython.core.display.HTML object>",
      "text/html": "\n                Tracking run with wandb version 0.10.30<br/>\n                Syncing run <strong style=\"color:#cdcd00\">faster_rcnn_hrnetv2p_w40_2x_coco</strong> to <a href=\"https://wandb.ai\" target=\"_blank\">Weights & Biases</a> <a href=\"https://docs.wandb.com/integrations/jupyter.html\" target=\"_blank\">(Documentation)</a>.<br/>\n                Project page: <a href=\"https://wandb.ai/pstage3_det/gjtak\" target=\"_blank\">https://wandb.ai/pstage3_det/gjtak</a><br/>\n                Run page: <a href=\"https://wandb.ai/pstage3_det/gjtak/runs/1cfgufn7\" target=\"_blank\">https://wandb.ai/pstage3_det/gjtak/runs/1cfgufn7</a><br/>\n                Run data is saved locally in <code>/opt/ml/p3-ims-obd-hansarang/gjtak_works/Object Detection/code/mmdetection_trash/notebooks_hrnet/wandb/run-20210520_075154-1cfgufn7</code><br/><br/>\n            "
     },
     "metadata": {}
    },
    {
     "output_type": "stream",
     "name": "stderr",
     "text": [
      "pn_cls: 0.0117, loss_rpn_bbox: 0.0281, loss_cls: 0.1555, acc: 94.3213, loss_bbox: 0.1899, loss: 0.3853, grad_norm: 1.5561\n",
      "2021-05-20 09:54:42,234 - mmdet - INFO - Epoch [22][40/207]\tlr: 2.000e-03, eta: 0:13:09, time: 1.392, data_time: 0.019, memory: 19081, loss_rpn_cls: 0.0111, loss_rpn_bbox: 0.0265, loss_cls: 0.1615, acc: 94.3164, loss_bbox: 0.1859, loss: 0.3849, grad_norm: 1.5667\n",
      "2021-05-20 09:54:56,206 - mmdet - INFO - Epoch [22][50/207]\tlr: 2.000e-03, eta: 0:12:56, time: 1.397, data_time: 0.020, memory: 19081, loss_rpn_cls: 0.0102, loss_rpn_bbox: 0.0263, loss_cls: 0.1502, acc: 94.5776, loss_bbox: 0.1872, loss: 0.3740, grad_norm: 1.6314\n",
      "2021-05-20 09:55:10,123 - mmdet - INFO - Epoch [22][60/207]\tlr: 2.000e-03, eta: 0:12:42, time: 1.392, data_time: 0.020, memory: 19081, loss_rpn_cls: 0.0121, loss_rpn_bbox: 0.0274, loss_cls: 0.1504, acc: 94.5947, loss_bbox: 0.1824, loss: 0.3724, grad_norm: 1.5608\n",
      "2021-05-20 09:55:23,982 - mmdet - INFO - Epoch [22][70/207]\tlr: 2.000e-03, eta: 0:12:29, time: 1.386, data_time: 0.019, memory: 19081, loss_rpn_cls: 0.0086, loss_rpn_bbox: 0.0202, loss_cls: 0.1240, acc: 95.3992, loss_bbox: 0.1672, loss: 0.3201, grad_norm: 1.4943\n",
      "2021-05-20 09:55:37,862 - mmdet - INFO - Epoch [22][80/207]\tlr: 2.000e-03, eta: 0:12:15, time: 1.388, data_time: 0.019, memory: 19081, loss_rpn_cls: 0.0115, loss_rpn_bbox: 0.0285, loss_cls: 0.1613, acc: 94.1479, loss_bbox: 0.1996, loss: 0.4008, grad_norm: 1.6263\n",
      "2021-05-20 09:55:51,747 - mmdet - INFO - Epoch [22][90/207]\tlr: 2.000e-03, eta: 0:12:02, time: 1.389, data_time: 0.019, memory: 19081, loss_rpn_cls: 0.0102, loss_rpn_bbox: 0.0284, loss_cls: 0.1574, acc: 94.5129, loss_bbox: 0.1844, loss: 0.3803, grad_norm: 1.5590\n",
      "2021-05-20 09:56:05,680 - mmdet - INFO - Epoch [22][100/207]\tlr: 2.000e-03, eta: 0:11:48, time: 1.393, data_time: 0.019, memory: 19081, loss_rpn_cls: 0.0152, loss_rpn_bbox: 0.0375, loss_cls: 0.1788, acc: 93.5071, loss_bbox: 0.2211, loss: 0.4526, grad_norm: 1.6184\n",
      "2021-05-20 09:56:19,811 - mmdet - INFO - Epoch [22][110/207]\tlr: 2.000e-03, eta: 0:11:34, time: 1.413, data_time: 0.019, memory: 19081, loss_rpn_cls: 0.0110, loss_rpn_bbox: 0.0286, loss_cls: 0.1587, acc: 94.2957, loss_bbox: 0.2005, loss: 0.3988, grad_norm: 1.5958\n",
      "2021-05-20 09:56:33,942 - mmdet - INFO - Epoch [22][120/207]\tlr: 2.000e-03, eta: 0:11:21, time: 1.413, data_time: 0.019, memory: 19081, loss_rpn_cls: 0.0134, loss_rpn_bbox: 0.0344, loss_cls: 0.1765, acc: 93.7061, loss_bbox: 0.2069, loss: 0.4311, grad_norm: 1.6341\n",
      "2021-05-20 09:56:47,852 - mmdet - INFO - Epoch [22][130/207]\tlr: 2.000e-03, eta: 0:11:07, time: 1.391, data_time: 0.019, memory: 19081, loss_rpn_cls: 0.0129, loss_rpn_bbox: 0.0292, loss_cls: 0.1643, acc: 94.2334, loss_bbox: 0.2009, loss: 0.4072, grad_norm: 1.6421\n",
      "2021-05-20 09:57:01,744 - mmdet - INFO - Epoch [22][140/207]\tlr: 2.000e-03, eta: 0:10:54, time: 1.389, data_time: 0.019, memory: 19081, loss_rpn_cls: 0.0117, loss_rpn_bbox: 0.0243, loss_cls: 0.1433, acc: 94.7974, loss_bbox: 0.1703, loss: 0.3496, grad_norm: 1.5622\n",
      "2021-05-20 09:57:15,610 - mmdet - INFO - Epoch [22][150/207]\tlr: 2.000e-03, eta: 0:10:40, time: 1.387, data_time: 0.019, memory: 19081, loss_rpn_cls: 0.0107, loss_rpn_bbox: 0.0274, loss_cls: 0.1515, acc: 94.5508, loss_bbox: 0.1851, loss: 0.3746, grad_norm: 1.5687\n",
      "2021-05-20 09:57:29,459 - mmdet - INFO - Epoch [22][160/207]\tlr: 2.000e-03, eta: 0:10:27, time: 1.385, data_time: 0.019, memory: 19081, loss_rpn_cls: 0.0118, loss_rpn_bbox: 0.0285, loss_cls: 0.1691, acc: 93.7012, loss_bbox: 0.2039, loss: 0.4133, grad_norm: 1.7817\n",
      "2021-05-20 09:57:43,290 - mmdet - INFO - Epoch [22][170/207]\tlr: 2.000e-03, eta: 0:10:13, time: 1.383, data_time: 0.019, memory: 19081, loss_rpn_cls: 0.0084, loss_rpn_bbox: 0.0241, loss_cls: 0.1363, acc: 95.1428, loss_bbox: 0.1535, loss: 0.3222, grad_norm: 1.4628\n",
      "2021-05-20 09:57:57,150 - mmdet - INFO - Epoch [22][180/207]\tlr: 2.000e-03, eta: 0:09:59, time: 1.386, data_time: 0.019, memory: 19081, loss_rpn_cls: 0.0124, loss_rpn_bbox: 0.0290, loss_cls: 0.1588, acc: 94.2932, loss_bbox: 0.1978, loss: 0.3979, grad_norm: 1.6555\n",
      "2021-05-20 09:58:11,067 - mmdet - INFO - Epoch [22][190/207]\tlr: 2.000e-03, eta: 0:09:46, time: 1.392, data_time: 0.019, memory: 19081, loss_rpn_cls: 0.0132, loss_rpn_bbox: 0.0334, loss_cls: 0.1734, acc: 93.7878, loss_bbox: 0.2004, loss: 0.4204, grad_norm: 1.7181\n",
      "2021-05-20 09:58:24,964 - mmdet - INFO - Epoch [22][200/207]\tlr: 2.000e-03, eta: 0:09:32, time: 1.390, data_time: 0.019, memory: 19081, loss_rpn_cls: 0.0128, loss_rpn_bbox: 0.0315, loss_cls: 0.1721, acc: 93.8330, loss_bbox: 0.1938, loss: 0.4103, grad_norm: 1.6539\n",
      "2021-05-20 09:58:34,760 - mmdet - INFO - Saving checkpoint at 22 epochs\n",
      "[>>>>>>>>>>>>>>>>>>>>>>>>>>>>>] 655/655, 14.0 task/s, elapsed: 47s, ETA:     0s2021-05-20 09:59:23,246 - mmdet - INFO - Evaluating bbox...\n",
      "Loading and preparing results...\n",
      "DONE (t=0.06s)\n",
      "creating index...\n",
      "index created!\n",
      "Running per image evaluation...\n",
      "Evaluate annotation type *bbox*\n",
      "DONE (t=4.25s).\n",
      "Accumulating evaluation results...\n",
      "2021-05-20 09:59:28,182 - mmdet - INFO - Epoch(val) [22][207]\tbbox_mAP: 0.1900, bbox_mAP_50: 0.3360, bbox_mAP_75: 0.1840, bbox_mAP_s: 0.0330, bbox_mAP_m: 0.1580, bbox_mAP_l: 0.3780, bbox_mAP_copypaste: 0.190 0.336 0.184 0.033 0.158 0.378\n",
      "DONE (t=0.56s).\n",
      "Average Precision  (AP) @[ IoU=0.50:0.95 | area=   all | maxDets=100 ] = 0.190\n",
      "Average Precision  (AP) @[ IoU=0.50      | area=   all | maxDets=1000 ] = 0.336\n",
      "Average Precision  (AP) @[ IoU=0.75      | area=   all | maxDets=1000 ] = 0.184\n",
      "Average Precision  (AP) @[ IoU=0.50:0.95 | area= small | maxDets=1000 ] = 0.033\n",
      "Average Precision  (AP) @[ IoU=0.50:0.95 | area=medium | maxDets=1000 ] = 0.158\n",
      "Average Precision  (AP) @[ IoU=0.50:0.95 | area= large | maxDets=1000 ] = 0.378\n",
      "Average Recall     (AR) @[ IoU=0.50:0.95 | area=   all | maxDets=100 ] = 0.314\n",
      "Average Recall     (AR) @[ IoU=0.50:0.95 | area=   all | maxDets=300 ] = 0.314\n",
      "Average Recall     (AR) @[ IoU=0.50:0.95 | area=   all | maxDets=1000 ] = 0.314\n",
      "Average Recall     (AR) @[ IoU=0.50:0.95 | area= small | maxDets=1000 ] = 0.078\n",
      "Average Recall     (AR) @[ IoU=0.50:0.95 | area=medium | maxDets=1000 ] = 0.269\n",
      "Average Recall     (AR) @[ IoU=0.50:0.95 | area= large | maxDets=1000 ] = 0.575\n",
      "2021-05-20 09:59:44,506 - mmdet - INFO - Epoch [23][10/207]\tlr: 2.000e-04, eta: 0:09:09, time: 1.630, data_time: 0.260, memory: 19081, loss_rpn_cls: 0.0088, loss_rpn_bbox: 0.0252, loss_cls: 0.1433, acc: 94.7778, loss_bbox: 0.1847, loss: 0.3620, grad_norm: 1.4853\n",
      "2021-05-20 09:59:58,381 - mmdet - INFO - Epoch [23][20/207]\tlr: 2.000e-04, eta: 0:08:55, time: 1.388, data_time: 0.020, memory: 19081, loss_rpn_cls: 0.0091, loss_rpn_bbox: 0.0262, loss_cls: 0.1465, acc: 94.6545, loss_bbox: 0.1902, loss: 0.3721, grad_norm: 1.5121\n",
      "2021-05-20 10:00:12,249 - mmdet - INFO - Epoch [23][30/207]\tlr: 2.000e-04, eta: 0:08:41, time: 1.387, data_time: 0.019, memory: 19081, loss_rpn_cls: 0.0132, loss_rpn_bbox: 0.0331, loss_cls: 0.1611, acc: 94.1760, loss_bbox: 0.2018, loss: 0.4093, grad_norm: 1.5697\n",
      "2021-05-20 10:00:26,099 - mmdet - INFO - Epoch [23][40/207]\tlr: 2.000e-04, eta: 0:08:28, time: 1.385, data_time: 0.020, memory: 19081, loss_rpn_cls: 0.0099, loss_rpn_bbox: 0.0248, loss_cls: 0.1422, acc: 94.8730, loss_bbox: 0.1738, loss: 0.3507, grad_norm: 1.4394\n",
      "2021-05-20 10:00:39,959 - mmdet - INFO - Epoch [23][50/207]\tlr: 2.000e-04, eta: 0:08:14, time: 1.386, data_time: 0.019, memory: 19081, loss_rpn_cls: 0.0101, loss_rpn_bbox: 0.0301, loss_cls: 0.1527, acc: 94.5129, loss_bbox: 0.1862, loss: 0.3792, grad_norm: 1.4578\n",
      "2021-05-20 10:00:53,849 - mmdet - INFO - Epoch [23][60/207]\tlr: 2.000e-04, eta: 0:08:01, time: 1.389, data_time: 0.019, memory: 19081, loss_rpn_cls: 0.0109, loss_rpn_bbox: 0.0263, loss_cls: 0.1434, acc: 94.8596, loss_bbox: 0.1726, loss: 0.3532, grad_norm: 1.4656\n",
      "2021-05-20 10:01:07,726 - mmdet - INFO - Epoch [23][70/207]\tlr: 2.000e-04, eta: 0:07:47, time: 1.388, data_time: 0.021, memory: 19081, loss_rpn_cls: 0.0104, loss_rpn_bbox: 0.0314, loss_cls: 0.1569, acc: 94.4104, loss_bbox: 0.1881, loss: 0.3868, grad_norm: 1.4897\n",
      "2021-05-20 10:01:21,707 - mmdet - INFO - Epoch [23][80/207]\tlr: 2.000e-04, eta: 0:07:34, time: 1.398, data_time: 0.019, memory: 19081, loss_rpn_cls: 0.0096, loss_rpn_bbox: 0.0259, loss_cls: 0.1469, acc: 94.6851, loss_bbox: 0.1838, loss: 0.3662, grad_norm: 1.4899\n",
      "2021-05-20 10:01:35,677 - mmdet - INFO - Epoch [23][90/207]\tlr: 2.000e-04, eta: 0:07:20, time: 1.397, data_time: 0.020, memory: 19081, loss_rpn_cls: 0.0105, loss_rpn_bbox: 0.0269, loss_cls: 0.1518, acc: 94.4348, loss_bbox: 0.1925, loss: 0.3817, grad_norm: 1.5389\n",
      "2021-05-20 10:01:49,554 - mmdet - INFO - Epoch [23][100/207]\tlr: 2.000e-04, eta: 0:07:06, time: 1.388, data_time: 0.020, memory: 19081, loss_rpn_cls: 0.0095, loss_rpn_bbox: 0.0239, loss_cls: 0.1272, acc: 95.5017, loss_bbox: 0.1567, loss: 0.3174, grad_norm: 1.4014\n",
      "2021-05-20 10:02:03,693 - mmdet - INFO - Epoch [23][110/207]\tlr: 2.000e-04, eta: 0:06:53, time: 1.414, data_time: 0.021, memory: 19081, loss_rpn_cls: 0.0102, loss_rpn_bbox: 0.0342, loss_cls: 0.1623, acc: 94.2346, loss_bbox: 0.2032, loss: 0.4098, grad_norm: 1.5100\n",
      "2021-05-20 10:02:17,615 - mmdet - INFO - Epoch [23][120/207]\tlr: 2.000e-04, eta: 0:06:39, time: 1.392, data_time: 0.020, memory: 19081, loss_rpn_cls: 0.0076, loss_rpn_bbox: 0.0265, loss_cls: 0.1418, acc: 94.8987, loss_bbox: 0.1741, loss: 0.3500, grad_norm: 1.4662\n",
      "2021-05-20 10:02:31,611 - mmdet - INFO - Epoch [23][130/207]\tlr: 2.000e-04, eta: 0:06:26, time: 1.400, data_time: 0.021, memory: 19081, loss_rpn_cls: 0.0123, loss_rpn_bbox: 0.0316, loss_cls: 0.1730, acc: 93.8074, loss_bbox: 0.2129, loss: 0.4298, grad_norm: 1.5421\n",
      "2021-05-20 10:02:45,530 - mmdet - INFO - Epoch [23][140/207]\tlr: 2.000e-04, eta: 0:06:12, time: 1.392, data_time: 0.019, memory: 19081, loss_rpn_cls: 0.0112, loss_rpn_bbox: 0.0257, loss_cls: 0.1557, acc: 94.3921, loss_bbox: 0.1869, loss: 0.3795, grad_norm: 1.5628\n",
      "2021-05-20 10:02:59,451 - mmdet - INFO - Epoch [23][150/207]\tlr: 2.000e-04, eta: 0:05:59, time: 1.392, data_time: 0.019, memory: 19081, loss_rpn_cls: 0.0087, loss_rpn_bbox: 0.0238, loss_cls: 0.1298, acc: 95.3271, loss_bbox: 0.1681, loss: 0.3305, grad_norm: 1.3973\n",
      "2021-05-20 10:03:13,473 - mmdet - INFO - Epoch [23][160/207]\tlr: 2.000e-04, eta: 0:05:45, time: 1.402, data_time: 0.019, memory: 19081, loss_rpn_cls: 0.0098, loss_rpn_bbox: 0.0276, loss_cls: 0.1477, acc: 94.6045, loss_bbox: 0.1720, loss: 0.3572, grad_norm: 1.5315\n",
      "2021-05-20 10:03:27,401 - mmdet - INFO - Epoch [23][170/207]\tlr: 2.000e-04, eta: 0:05:31, time: 1.393, data_time: 0.020, memory: 19081, loss_rpn_cls: 0.0116, loss_rpn_bbox: 0.0284, loss_cls: 0.1519, acc: 94.6741, loss_bbox: 0.1826, loss: 0.3745, grad_norm: 1.5214\n",
      "2021-05-20 10:03:41,307 - mmdet - INFO - Epoch [23][180/207]\tlr: 2.000e-04, eta: 0:05:18, time: 1.391, data_time: 0.018, memory: 19081, loss_rpn_cls: 0.0085, loss_rpn_bbox: 0.0233, loss_cls: 0.1349, acc: 95.1672, loss_bbox: 0.1702, loss: 0.3369, grad_norm: 1.4672\n",
      "2021-05-20 10:03:55,423 - mmdet - INFO - Epoch [23][190/207]\tlr: 2.000e-04, eta: 0:05:04, time: 1.412, data_time: 0.022, memory: 19081, loss_rpn_cls: 0.0112, loss_rpn_bbox: 0.0306, loss_cls: 0.1507, acc: 94.6326, loss_bbox: 0.1883, loss: 0.3807, grad_norm: 1.4675\n",
      "2021-05-20 10:04:09,374 - mmdet - INFO - Epoch [23][200/207]\tlr: 2.000e-04, eta: 0:04:51, time: 1.395, data_time: 0.019, memory: 19081, loss_rpn_cls: 0.0123, loss_rpn_bbox: 0.0311, loss_cls: 0.1735, acc: 93.5400, loss_bbox: 0.2173, loss: 0.4343, grad_norm: 1.6383\n",
      "2021-05-20 10:04:19,357 - mmdet - INFO - Saving checkpoint at 23 epochs\n",
      "[>>>>>>>>>>>>>>>>>>>>>>>>>>>>>] 655/655, 14.0 task/s, elapsed: 47s, ETA:     0s2021-05-20 10:05:07,644 - mmdet - INFO - Evaluating bbox...\n",
      "Loading and preparing results...\n",
      "DONE (t=0.06s)\n",
      "creating index...\n",
      "index created!\n",
      "Running per image evaluation...\n",
      "Evaluate annotation type *bbox*\n",
      "DONE (t=4.06s).\n",
      "Accumulating evaluation results...\n",
      "2021-05-20 10:05:12,372 - mmdet - INFO - Epoch(val) [23][207]\tbbox_mAP: 0.1880, bbox_mAP_50: 0.3350, bbox_mAP_75: 0.1810, bbox_mAP_s: 0.0330, bbox_mAP_m: 0.1570, bbox_mAP_l: 0.3720, bbox_mAP_copypaste: 0.188 0.335 0.181 0.033 0.157 0.372\n",
      "DONE (t=0.54s).\n",
      "Average Precision  (AP) @[ IoU=0.50:0.95 | area=   all | maxDets=100 ] = 0.188\n",
      "Average Precision  (AP) @[ IoU=0.50      | area=   all | maxDets=1000 ] = 0.335\n",
      "Average Precision  (AP) @[ IoU=0.75      | area=   all | maxDets=1000 ] = 0.181\n",
      "Average Precision  (AP) @[ IoU=0.50:0.95 | area= small | maxDets=1000 ] = 0.033\n",
      "Average Precision  (AP) @[ IoU=0.50:0.95 | area=medium | maxDets=1000 ] = 0.157\n",
      "Average Precision  (AP) @[ IoU=0.50:0.95 | area= large | maxDets=1000 ] = 0.372\n",
      "Average Recall     (AR) @[ IoU=0.50:0.95 | area=   all | maxDets=100 ] = 0.314\n",
      "Average Recall     (AR) @[ IoU=0.50:0.95 | area=   all | maxDets=300 ] = 0.314\n",
      "Average Recall     (AR) @[ IoU=0.50:0.95 | area=   all | maxDets=1000 ] = 0.314\n",
      "Average Recall     (AR) @[ IoU=0.50:0.95 | area= small | maxDets=1000 ] = 0.076\n",
      "Average Recall     (AR) @[ IoU=0.50:0.95 | area=medium | maxDets=1000 ] = 0.271\n",
      "Average Recall     (AR) @[ IoU=0.50:0.95 | area= large | maxDets=1000 ] = 0.574\n",
      "2021-05-20 10:05:28,772 - mmdet - INFO - Epoch [24][10/207]\tlr: 2.000e-04, eta: 0:04:27, time: 1.638, data_time: 0.260, memory: 19081, loss_rpn_cls: 0.0098, loss_rpn_bbox: 0.0272, loss_cls: 0.1431, acc: 94.7620, loss_bbox: 0.1841, loss: 0.3642, grad_norm: 1.4347\n",
      "2021-05-20 10:05:42,771 - mmdet - INFO - Epoch [24][20/207]\tlr: 2.000e-04, eta: 0:04:14, time: 1.400, data_time: 0.020, memory: 19081, loss_rpn_cls: 0.0093, loss_rpn_bbox: 0.0270, loss_cls: 0.1505, acc: 94.5520, loss_bbox: 0.1812, loss: 0.3680, grad_norm: 1.5011\n",
      "2021-05-20 10:05:56,685 - mmdet - INFO - Epoch [24][30/207]\tlr: 2.000e-04, eta: 0:04:00, time: 1.391, data_time: 0.020, memory: 19081, loss_rpn_cls: 0.0098, loss_rpn_bbox: 0.0278, loss_cls: 0.1407, acc: 94.9182, loss_bbox: 0.1849, loss: 0.3631, grad_norm: 1.4377\n",
      "2021-05-20 10:06:10,616 - mmdet - INFO - Epoch [24][40/207]\tlr: 2.000e-04, eta: 0:03:47, time: 1.393, data_time: 0.020, memory: 19081, loss_rpn_cls: 0.0087, loss_rpn_bbox: 0.0282, loss_cls: 0.1440, acc: 94.7644, loss_bbox: 0.1823, loss: 0.3631, grad_norm: 1.4319\n",
      "2021-05-20 10:06:24,522 - mmdet - INFO - Epoch [24][50/207]\tlr: 2.000e-04, eta: 0:03:33, time: 1.391, data_time: 0.019, memory: 19081, loss_rpn_cls: 0.0090, loss_rpn_bbox: 0.0250, loss_cls: 0.1400, acc: 94.8743, loss_bbox: 0.1720, loss: 0.3460, grad_norm: 1.4235\n",
      "2021-05-20 10:06:38,476 - mmdet - INFO - Epoch [24][60/207]\tlr: 2.000e-04, eta: 0:03:19, time: 1.395, data_time: 0.019, memory: 19081, loss_rpn_cls: 0.0084, loss_rpn_bbox: 0.0217, loss_cls: 0.1422, acc: 95.1001, loss_bbox: 0.1615, loss: 0.3338, grad_norm: 1.4668\n",
      "2021-05-20 10:06:52,471 - mmdet - INFO - Epoch [24][70/207]\tlr: 2.000e-04, eta: 0:03:06, time: 1.399, data_time: 0.020, memory: 19081, loss_rpn_cls: 0.0123, loss_rpn_bbox: 0.0298, loss_cls: 0.1514, acc: 94.5142, loss_bbox: 0.1985, loss: 0.3920, grad_norm: 1.6122\n",
      "2021-05-20 10:07:06,366 - mmdet - INFO - Epoch [24][80/207]\tlr: 2.000e-04, eta: 0:02:52, time: 1.390, data_time: 0.019, memory: 19081, loss_rpn_cls: 0.0081, loss_rpn_bbox: 0.0248, loss_cls: 0.1462, acc: 94.8291, loss_bbox: 0.1859, loss: 0.3649, grad_norm: 1.4443\n",
      "2021-05-20 10:07:20,255 - mmdet - INFO - Epoch [24][90/207]\tlr: 2.000e-04, eta: 0:02:39, time: 1.389, data_time: 0.019, memory: 19081, loss_rpn_cls: 0.0087, loss_rpn_bbox: 0.0281, loss_cls: 0.1458, acc: 94.7437, loss_bbox: 0.1794, loss: 0.3621, grad_norm: 1.4710\n",
      "2021-05-20 10:07:34,162 - mmdet - INFO - Epoch [24][100/207]\tlr: 2.000e-04, eta: 0:02:25, time: 1.391, data_time: 0.020, memory: 19081, loss_rpn_cls: 0.0122, loss_rpn_bbox: 0.0288, loss_cls: 0.1547, acc: 94.4250, loss_bbox: 0.1897, loss: 0.3853, grad_norm: 1.5134\n",
      "2021-05-20 10:07:48,036 - mmdet - INFO - Epoch [24][110/207]\tlr: 2.000e-04, eta: 0:02:11, time: 1.387, data_time: 0.019, memory: 19081, loss_rpn_cls: 0.0097, loss_rpn_bbox: 0.0265, loss_cls: 0.1445, acc: 95.0159, loss_bbox: 0.1788, loss: 0.3594, grad_norm: 1.4828\n",
      "2021-05-20 10:08:01,911 - mmdet - INFO - Epoch [24][120/207]\tlr: 2.000e-04, eta: 0:01:58, time: 1.388, data_time: 0.019, memory: 19081, loss_rpn_cls: 0.0129, loss_rpn_bbox: 0.0298, loss_cls: 0.1633, acc: 94.2957, loss_bbox: 0.1928, loss: 0.3988, grad_norm: 1.6139\n",
      "2021-05-20 10:08:15,737 - mmdet - INFO - Epoch [24][130/207]\tlr: 2.000e-04, eta: 0:01:44, time: 1.383, data_time: 0.019, memory: 19081, loss_rpn_cls: 0.0113, loss_rpn_bbox: 0.0274, loss_cls: 0.1447, acc: 94.7388, loss_bbox: 0.1741, loss: 0.3576, grad_norm: 1.5624\n",
      "2021-05-20 10:08:29,602 - mmdet - INFO - Epoch [24][140/207]\tlr: 2.000e-04, eta: 0:01:31, time: 1.386, data_time: 0.020, memory: 19081, loss_rpn_cls: 0.0114, loss_rpn_bbox: 0.0294, loss_cls: 0.1610, acc: 94.2261, loss_bbox: 0.2011, loss: 0.4030, grad_norm: 1.4955\n",
      "2021-05-20 10:08:43,461 - mmdet - INFO - Epoch [24][150/207]\tlr: 2.000e-04, eta: 0:01:17, time: 1.386, data_time: 0.019, memory: 19081, loss_rpn_cls: 0.0128, loss_rpn_bbox: 0.0298, loss_cls: 0.1556, acc: 94.3201, loss_bbox: 0.1982, loss: 0.3964, grad_norm: 1.5382\n",
      "2021-05-20 10:08:57,338 - mmdet - INFO - Epoch [24][160/207]\tlr: 2.000e-04, eta: 0:01:03, time: 1.388, data_time: 0.019, memory: 19081, loss_rpn_cls: 0.0105, loss_rpn_bbox: 0.0265, loss_cls: 0.1592, acc: 94.2114, loss_bbox: 0.1982, loss: 0.3944, grad_norm: 1.5782\n",
      "2021-05-20 10:09:11,287 - mmdet - INFO - Epoch [24][170/207]\tlr: 2.000e-04, eta: 0:00:50, time: 1.395, data_time: 0.021, memory: 19081, loss_rpn_cls: 0.0105, loss_rpn_bbox: 0.0280, loss_cls: 0.1455, acc: 94.8511, loss_bbox: 0.1712, loss: 0.3552, grad_norm: 1.4211\n",
      "2021-05-20 10:09:25,266 - mmdet - INFO - Epoch [24][180/207]\tlr: 2.000e-04, eta: 0:00:36, time: 1.398, data_time: 0.020, memory: 19081, loss_rpn_cls: 0.0107, loss_rpn_bbox: 0.0294, loss_cls: 0.1662, acc: 93.9600, loss_bbox: 0.2018, loss: 0.4081, grad_norm: 1.6357\n",
      "2021-05-20 10:09:39,207 - mmdet - INFO - Epoch [24][190/207]\tlr: 2.000e-04, eta: 0:00:23, time: 1.394, data_time: 0.021, memory: 19081, loss_rpn_cls: 0.0114, loss_rpn_bbox: 0.0253, loss_cls: 0.1432, acc: 94.7815, loss_bbox: 0.1807, loss: 0.3606, grad_norm: 1.5309\n",
      "2021-05-20 10:09:53,314 - mmdet - INFO - Epoch [24][200/207]\tlr: 2.000e-04, eta: 0:00:09, time: 1.411, data_time: 0.020, memory: 19081, loss_rpn_cls: 0.0084, loss_rpn_bbox: 0.0268, loss_cls: 0.1320, acc: 95.3015, loss_bbox: 0.1658, loss: 0.3329, grad_norm: 1.3730\n",
      "2021-05-20 10:10:03,112 - mmdet - INFO - Saving checkpoint at 24 epochs\n",
      "[>>>>>>>>>>>>>>>>>>>>>>>>>>>>>] 655/655, 14.2 task/s, elapsed: 46s, ETA:     0s2021-05-20 10:10:50,923 - mmdet - INFO - Evaluating bbox...\n",
      "Loading and preparing results...\n",
      "DONE (t=0.06s)\n",
      "creating index...\n",
      "index created!\n",
      "Running per image evaluation...\n",
      "Evaluate annotation type *bbox*\n",
      "DONE (t=4.10s).\n",
      "Accumulating evaluation results...\n",
      "2021-05-20 10:10:55,683 - mmdet - INFO - Epoch(val) [24][207]\tbbox_mAP: 0.1900, bbox_mAP_50: 0.3350, bbox_mAP_75: 0.1780, bbox_mAP_s: 0.0320, bbox_mAP_m: 0.1590, bbox_mAP_l: 0.3760, bbox_mAP_copypaste: 0.190 0.335 0.178 0.032 0.159 0.376\n",
      "DONE (t=0.54s).\n",
      "Average Precision  (AP) @[ IoU=0.50:0.95 | area=   all | maxDets=100 ] = 0.190\n",
      "Average Precision  (AP) @[ IoU=0.50      | area=   all | maxDets=1000 ] = 0.335\n",
      "Average Precision  (AP) @[ IoU=0.75      | area=   all | maxDets=1000 ] = 0.178\n",
      "Average Precision  (AP) @[ IoU=0.50:0.95 | area= small | maxDets=1000 ] = 0.032\n",
      "Average Precision  (AP) @[ IoU=0.50:0.95 | area=medium | maxDets=1000 ] = 0.159\n",
      "Average Precision  (AP) @[ IoU=0.50:0.95 | area= large | maxDets=1000 ] = 0.376\n",
      "Average Recall     (AR) @[ IoU=0.50:0.95 | area=   all | maxDets=100 ] = 0.313\n",
      "Average Recall     (AR) @[ IoU=0.50:0.95 | area=   all | maxDets=300 ] = 0.313\n",
      "Average Recall     (AR) @[ IoU=0.50:0.95 | area=   all | maxDets=1000 ] = 0.313\n",
      "Average Recall     (AR) @[ IoU=0.50:0.95 | area= small | maxDets=1000 ] = 0.075\n",
      "Average Recall     (AR) @[ IoU=0.50:0.95 | area=medium | maxDets=1000 ] = 0.270\n",
      "Average Recall     (AR) @[ IoU=0.50:0.95 | area= large | maxDets=1000 ] = 0.572\n"
     ]
    },
    {
     "output_type": "display_data",
     "data": {
      "text/plain": "<IPython.core.display.HTML object>",
      "text/html": "<br/>Waiting for W&B process to finish, PID 26799<br/>Program ended successfully."
     },
     "metadata": {}
    },
    {
     "output_type": "display_data",
     "data": {
      "text/plain": "VBox(children=(Label(value=' 0.00MB of 0.00MB uploaded (0.00MB deduped)\\r'), FloatProgress(value=1.0, max=1.0)…",
      "application/vnd.jupyter.widget-view+json": {
       "version_major": 2,
       "version_minor": 0,
       "model_id": "ed8f5a3608254c4086b981856949919c"
      }
     },
     "metadata": {}
    },
    {
     "output_type": "display_data",
     "data": {
      "text/plain": "<IPython.core.display.HTML object>",
      "text/html": "Find user logs for this run at: <code>/opt/ml/p3-ims-obd-hansarang/gjtak_works/Object Detection/code/mmdetection_trash/notebooks_hrnet/wandb/run-20210520_075154-1cfgufn7/logs/debug.log</code>"
     },
     "metadata": {}
    },
    {
     "output_type": "display_data",
     "data": {
      "text/plain": "<IPython.core.display.HTML object>",
      "text/html": "Find internal logs for this run at: <code>/opt/ml/p3-ims-obd-hansarang/gjtak_works/Object Detection/code/mmdetection_trash/notebooks_hrnet/wandb/run-20210520_075154-1cfgufn7/logs/debug-internal.log</code>"
     },
     "metadata": {}
    },
    {
     "output_type": "display_data",
     "data": {
      "text/plain": "<IPython.core.display.HTML object>",
      "text/html": "<h3>Run summary:</h3><br/><style>\n    table.wandb td:nth-child(1) { padding: 0 10px; text-align: right }\n    </style><table class=\"wandb\">\n<tr><td>train/loss_rpn_cls</td><td>0.00835</td></tr><tr><td>train/loss_rpn_bbox</td><td>0.02677</td></tr><tr><td>train/loss_cls</td><td>0.13196</td></tr><tr><td>train/acc</td><td>95.30151</td></tr><tr><td>train/loss_bbox</td><td>0.16578</td></tr><tr><td>train/loss</td><td>0.33286</td></tr><tr><td>train/grad_norm</td><td>1.37297</td></tr><tr><td>learning_rate</td><td>0.0002</td></tr><tr><td>momentum</td><td>0.9</td></tr><tr><td>_runtime</td><td>8341</td></tr><tr><td>_timestamp</td><td>1621505455</td></tr><tr><td>_step</td><td>4969</td></tr><tr><td>val/bbox_mAP</td><td>0.19</td></tr><tr><td>val/bbox_mAP_50</td><td>0.335</td></tr><tr><td>val/bbox_mAP_75</td><td>0.178</td></tr><tr><td>val/bbox_mAP_s</td><td>0.032</td></tr><tr><td>val/bbox_mAP_m</td><td>0.159</td></tr><tr><td>val/bbox_mAP_l</td><td>0.376</td></tr></table>"
     },
     "metadata": {}
    },
    {
     "output_type": "display_data",
     "data": {
      "text/plain": "<IPython.core.display.HTML object>",
      "text/html": "<h3>Run history:</h3><br/><style>\n    table.wandb td:nth-child(1) { padding: 0 10px; text-align: right }\n    </style><table class=\"wandb\">\n<tr><td>train/loss_rpn_cls</td><td>█▃▃▃▂▂▂▂▂▂▂▂▂▂▂▁▂▁▁▁▁▁▁▁▁▁▁▁▁▁▁▁▁▁▁▁▁▁▁▁</td></tr><tr><td>train/loss_rpn_bbox</td><td>███▇▆▆▄▅▅▇▄▄▆▄▅▃▅▄▃▃▃▄▃▃▃▄▃▂▂▂▁▃▂▂▂▂▂▂▂▂</td></tr><tr><td>train/loss_cls</td><td>█▆▆▆▅▆▅▅▅▅▅▅▅▄▄▄▄▄▄▄▄▄▃▃▃▃▃▂▂▂▁▂▂▁▂▂▂▁▁▁</td></tr><tr><td>train/acc</td><td>▆▂▂▁▂▁▂▂▂▁▂▂▁▃▂▄▃▂▃▃▃▃▄▄▅▄▄▆▆▆▇▆▇▇▇▇▆█▇█</td></tr><tr><td>train/loss_bbox</td><td>▂███▆▇▅▆▅▆▅▅▆▄▅▄▅▅▅▄▄▄▃▃▂▄▄▂▃▂▁▃▁▂▂▂▂▁▂▁</td></tr><tr><td>train/loss</td><td>█▆▆▆▅▅▄▄▄▅▄▄▄▃▄▃▃▃▃▃▃▃▃▃▂▃▃▂▂▂▁▂▁▁▂▁▂▁▁▁</td></tr><tr><td>train/grad_norm</td><td>▇█▅▇▆▅▄▅▅▅▆▅▇▄▅▃▅▅█▆▆▅▅▅▅▆▆▂▂▂▂▃▂▂▂▃▃▂▁▁</td></tr><tr><td>learning_rate</td><td>▁▃▅▇███████████████████████▂▂▂▂▂▂▂▂▂▁▁▁▁</td></tr><tr><td>momentum</td><td>▁▁▁▁▁▁▁▁▁▁▁▁▁▁▁▁▁▁▁▁▁▁▁▁▁▁▁▁▁▁▁▁▁▁▁▁▁▁▁▁</td></tr><tr><td>_runtime</td><td>▁▁▁▁▂▂▂▂▂▃▃▃▃▃▃▄▄▄▄▄▅▅▅▅▅▅▆▆▆▆▆▇▇▇▇▇▇███</td></tr><tr><td>_timestamp</td><td>▁▁▁▁▂▂▂▂▂▃▃▃▃▃▃▄▄▄▄▄▅▅▅▅▅▅▆▆▆▆▆▇▇▇▇▇▇███</td></tr><tr><td>_step</td><td>▁▁▁▂▂▂▂▂▂▃▃▃▃▃▃▄▄▄▄▄▅▅▅▅▅▅▆▆▆▆▆▇▇▇▇▇▇███</td></tr><tr><td>val/bbox_mAP</td><td>▁▂▃▃▄▅▅▆▅▆▅▅▆▆▆▇████████</td></tr><tr><td>val/bbox_mAP_50</td><td>▁▂▃▄▄▅▅▆▆▆▆▅▆▇▆▇████████</td></tr><tr><td>val/bbox_mAP_75</td><td>▁▂▃▃▄▅▅▆▅▆▅▆▆▆▆▆████▇▇▇▇</td></tr><tr><td>val/bbox_mAP_s</td><td>▁▂▄▅▆▆█▇▇▇▆▆▇▆▇▇█▇█▇▇▇▇▇</td></tr><tr><td>val/bbox_mAP_m</td><td>▁▂▄▄▄▅▅▆▅▆▅▅▆▇▆▆██▇██▇▇▇</td></tr><tr><td>val/bbox_mAP_l</td><td>▁▂▃▃▄▆▆▆▅▅▆▆▇▆▆▇████████</td></tr></table><br/>"
     },
     "metadata": {}
    },
    {
     "output_type": "display_data",
     "data": {
      "text/plain": "<IPython.core.display.HTML object>",
      "text/html": "Synced 6 W&B file(s), 0 media file(s), 0 artifact file(s) and 0 other file(s)"
     },
     "metadata": {}
    },
    {
     "output_type": "display_data",
     "data": {
      "text/plain": "<IPython.core.display.HTML object>",
      "text/html": "\n                    <br/>Synced <strong style=\"color:#cdcd00\">faster_rcnn_hrnetv2p_w40_2x_coco</strong>: <a href=\"https://wandb.ai/pstage3_det/gjtak/runs/1cfgufn7\" target=\"_blank\">https://wandb.ai/pstage3_det/gjtak/runs/1cfgufn7</a><br/>\n                "
     },
     "metadata": {}
    },
    {
     "output_type": "stream",
     "name": "stdout",
     "text": [
      "time(sec) : 8354.730295419693\n"
     ]
    }
   ],
   "source": [
    "start = time.time()  # 시작 시간 저장\n",
    "train_detector(model, datasets[0], cfg, distributed=False, validate=True)\n",
    "print(\"time(sec) :\", time.time() - start)  # 현재시각 - 시작시간 = 실행 시간(단위 : 초)"
   ]
  },
  {
   "cell_type": "markdown",
   "metadata": {},
   "source": [
    "## Inference part"
   ]
  },
  {
   "cell_type": "code",
   "execution_count": 14,
   "metadata": {},
   "outputs": [],
   "source": [
    "epoch = cfg.runner.max_epochs\n",
    "cfg.model.train_cfg = None\n",
    "\n",
    "# checkpoint path\n",
    "checkpoint_path = os.path.join(cfg.work_dir, f'epoch_{epoch}.pth')"
   ]
  },
  {
   "cell_type": "code",
   "execution_count": 15,
   "metadata": {},
   "outputs": [
    {
     "output_type": "stream",
     "name": "stdout",
     "text": [
      "loading annotations into memory...\nDone (t=0.01s)\ncreating index...\nindex created!\n"
     ]
    }
   ],
   "source": [
    "dataset = build_dataset(cfg.data.test)\n",
    "data_loader = build_dataloader(\n",
    "        dataset,\n",
    "        samples_per_gpu=1,\n",
    "        workers_per_gpu=cfg.data.workers_per_gpu,\n",
    "        dist=False,\n",
    "        shuffle=False)"
   ]
  },
  {
   "cell_type": "code",
   "execution_count": 16,
   "metadata": {},
   "outputs": [
    {
     "output_type": "stream",
     "name": "stderr",
     "text": [
      "2021-05-20 10:33:43,168 - mmdet - INFO - load model from: open-mmlab://msra/hrnetv2_w40\n",
      "2021-05-20 10:33:43,169 - mmdet - INFO - Use load_from_openmmlab loader\n",
      "2021-05-20 10:33:43,690 - mmdet - WARNING - The model and loaded state dict do not match exactly\n",
      "\n",
      "unexpected key in source state_dict: incre_modules.0.0.conv1.weight, incre_modules.0.0.bn1.weight, incre_modules.0.0.bn1.bias, incre_modules.0.0.bn1.running_mean, incre_modules.0.0.bn1.running_var, incre_modules.0.0.bn1.num_batches_tracked, incre_modules.0.0.conv2.weight, incre_modules.0.0.bn2.weight, incre_modules.0.0.bn2.bias, incre_modules.0.0.bn2.running_mean, incre_modules.0.0.bn2.running_var, incre_modules.0.0.bn2.num_batches_tracked, incre_modules.0.0.conv3.weight, incre_modules.0.0.bn3.weight, incre_modules.0.0.bn3.bias, incre_modules.0.0.bn3.running_mean, incre_modules.0.0.bn3.running_var, incre_modules.0.0.bn3.num_batches_tracked, incre_modules.0.0.downsample.0.weight, incre_modules.0.0.downsample.1.weight, incre_modules.0.0.downsample.1.bias, incre_modules.0.0.downsample.1.running_mean, incre_modules.0.0.downsample.1.running_var, incre_modules.0.0.downsample.1.num_batches_tracked, incre_modules.1.0.conv1.weight, incre_modules.1.0.bn1.weight, incre_modules.1.0.bn1.bias, incre_modules.1.0.bn1.running_mean, incre_modules.1.0.bn1.running_var, incre_modules.1.0.bn1.num_batches_tracked, incre_modules.1.0.conv2.weight, incre_modules.1.0.bn2.weight, incre_modules.1.0.bn2.bias, incre_modules.1.0.bn2.running_mean, incre_modules.1.0.bn2.running_var, incre_modules.1.0.bn2.num_batches_tracked, incre_modules.1.0.conv3.weight, incre_modules.1.0.bn3.weight, incre_modules.1.0.bn3.bias, incre_modules.1.0.bn3.running_mean, incre_modules.1.0.bn3.running_var, incre_modules.1.0.bn3.num_batches_tracked, incre_modules.1.0.downsample.0.weight, incre_modules.1.0.downsample.1.weight, incre_modules.1.0.downsample.1.bias, incre_modules.1.0.downsample.1.running_mean, incre_modules.1.0.downsample.1.running_var, incre_modules.1.0.downsample.1.num_batches_tracked, incre_modules.2.0.conv1.weight, incre_modules.2.0.bn1.weight, incre_modules.2.0.bn1.bias, incre_modules.2.0.bn1.running_mean, incre_modules.2.0.bn1.running_var, incre_modules.2.0.bn1.num_batches_tracked, incre_modules.2.0.conv2.weight, incre_modules.2.0.bn2.weight, incre_modules.2.0.bn2.bias, incre_modules.2.0.bn2.running_mean, incre_modules.2.0.bn2.running_var, incre_modules.2.0.bn2.num_batches_tracked, incre_modules.2.0.conv3.weight, incre_modules.2.0.bn3.weight, incre_modules.2.0.bn3.bias, incre_modules.2.0.bn3.running_mean, incre_modules.2.0.bn3.running_var, incre_modules.2.0.bn3.num_batches_tracked, incre_modules.2.0.downsample.0.weight, incre_modules.2.0.downsample.1.weight, incre_modules.2.0.downsample.1.bias, incre_modules.2.0.downsample.1.running_mean, incre_modules.2.0.downsample.1.running_var, incre_modules.2.0.downsample.1.num_batches_tracked, incre_modules.3.0.conv1.weight, incre_modules.3.0.bn1.weight, incre_modules.3.0.bn1.bias, incre_modules.3.0.bn1.running_mean, incre_modules.3.0.bn1.running_var, incre_modules.3.0.bn1.num_batches_tracked, incre_modules.3.0.conv2.weight, incre_modules.3.0.bn2.weight, incre_modules.3.0.bn2.bias, incre_modules.3.0.bn2.running_mean, incre_modules.3.0.bn2.running_var, incre_modules.3.0.bn2.num_batches_tracked, incre_modules.3.0.conv3.weight, incre_modules.3.0.bn3.weight, incre_modules.3.0.bn3.bias, incre_modules.3.0.bn3.running_mean, incre_modules.3.0.bn3.running_var, incre_modules.3.0.bn3.num_batches_tracked, incre_modules.3.0.downsample.0.weight, incre_modules.3.0.downsample.1.weight, incre_modules.3.0.downsample.1.bias, incre_modules.3.0.downsample.1.running_mean, incre_modules.3.0.downsample.1.running_var, incre_modules.3.0.downsample.1.num_batches_tracked, downsamp_modules.0.0.weight, downsamp_modules.0.0.bias, downsamp_modules.0.1.weight, downsamp_modules.0.1.bias, downsamp_modules.0.1.running_mean, downsamp_modules.0.1.running_var, downsamp_modules.0.1.num_batches_tracked, downsamp_modules.1.0.weight, downsamp_modules.1.0.bias, downsamp_modules.1.1.weight, downsamp_modules.1.1.bias, downsamp_modules.1.1.running_mean, downsamp_modules.1.1.running_var, downsamp_modules.1.1.num_batches_tracked, downsamp_modules.2.0.weight, downsamp_modules.2.0.bias, downsamp_modules.2.1.weight, downsamp_modules.2.1.bias, downsamp_modules.2.1.running_mean, downsamp_modules.2.1.running_var, downsamp_modules.2.1.num_batches_tracked, final_layer.0.weight, final_layer.0.bias, final_layer.1.weight, final_layer.1.bias, final_layer.1.running_mean, final_layer.1.running_var, final_layer.1.num_batches_tracked, classifier.weight, classifier.bias\n",
      "\n",
      "Use load_from_local loader\n"
     ]
    }
   ],
   "source": [
    "model = build_detector(cfg.model, test_cfg=cfg.get('test_cfg'))\n",
    "checkpoint = load_checkpoint(model, checkpoint_path, map_location='cpu')\n",
    "\n",
    "model.CLASSES = dataset.CLASSES\n",
    "model = MMDataParallel(model.cuda(), device_ids=[0])"
   ]
  },
  {
   "cell_type": "code",
   "execution_count": 17,
   "metadata": {},
   "outputs": [
    {
     "output_type": "stream",
     "name": "stdout",
     "text": [
      "[>>>>>>>>>>>>>>>>>>>>>>>>>>>>>] 837/837, 14.4 task/s, elapsed: 58s, ETA:     0s"
     ]
    }
   ],
   "source": [
    "output = single_gpu_test(model, data_loader, show_score_thr=0.05)"
   ]
  },
  {
   "cell_type": "code",
   "execution_count": 18,
   "metadata": {},
   "outputs": [
    {
     "output_type": "stream",
     "name": "stdout",
     "text": [
      "loading annotations into memory...\nDone (t=0.01s)\ncreating index...\nindex created!\n"
     ]
    },
    {
     "output_type": "execute_result",
     "data": {
      "text/plain": [
       "                                    PredictionString              image_id\n",
       "0  8 0.9433308 173.66113 232.71133 464.47498 472....  batch_01_vt/0021.jpg\n",
       "1  1 0.062591285 7.3584595 242.80472 283.3836 460...  batch_01_vt/0028.jpg\n",
       "2  1 0.9233929 62.195374 378.62085 374.7003 511.4...  batch_01_vt/0031.jpg\n",
       "3  8 0.88586533 46.39122 115.29739 381.84613 373....  batch_01_vt/0032.jpg\n",
       "4  1 0.4257798 395.00494 276.52463 465.91333 342....  batch_01_vt/0070.jpg"
      ],
      "text/html": "<div>\n<style scoped>\n    .dataframe tbody tr th:only-of-type {\n        vertical-align: middle;\n    }\n\n    .dataframe tbody tr th {\n        vertical-align: top;\n    }\n\n    .dataframe thead th {\n        text-align: right;\n    }\n</style>\n<table border=\"1\" class=\"dataframe\">\n  <thead>\n    <tr style=\"text-align: right;\">\n      <th></th>\n      <th>PredictionString</th>\n      <th>image_id</th>\n    </tr>\n  </thead>\n  <tbody>\n    <tr>\n      <th>0</th>\n      <td>8 0.9433308 173.66113 232.71133 464.47498 472....</td>\n      <td>batch_01_vt/0021.jpg</td>\n    </tr>\n    <tr>\n      <th>1</th>\n      <td>1 0.062591285 7.3584595 242.80472 283.3836 460...</td>\n      <td>batch_01_vt/0028.jpg</td>\n    </tr>\n    <tr>\n      <th>2</th>\n      <td>1 0.9233929 62.195374 378.62085 374.7003 511.4...</td>\n      <td>batch_01_vt/0031.jpg</td>\n    </tr>\n    <tr>\n      <th>3</th>\n      <td>8 0.88586533 46.39122 115.29739 381.84613 373....</td>\n      <td>batch_01_vt/0032.jpg</td>\n    </tr>\n    <tr>\n      <th>4</th>\n      <td>1 0.4257798 395.00494 276.52463 465.91333 342....</td>\n      <td>batch_01_vt/0070.jpg</td>\n    </tr>\n  </tbody>\n</table>\n</div>"
     },
     "metadata": {},
     "execution_count": 18
    }
   ],
   "source": [
    "prediction_strings = []\n",
    "file_names = []\n",
    "coco = COCO(cfg.data.test.ann_file)\n",
    "imag_ids = coco.getImgIds()\n",
    "\n",
    "class_num = 11\n",
    "for i, out in enumerate(output):\n",
    "    prediction_string = ''\n",
    "    image_info = coco.loadImgs(coco.getImgIds(imgIds=i))[0]\n",
    "    for j in range(class_num):\n",
    "        for o in out[j]:\n",
    "            prediction_string += str(j) + ' ' + str(o[4]) + ' ' + str(o[0]) + ' ' + str(o[1]) + ' ' + str(\n",
    "                o[2]) + ' ' + str(o[3]) + ' '\n",
    "        \n",
    "    prediction_strings.append(prediction_string)\n",
    "    file_names.append(image_info['file_name'])\n",
    "\n",
    "\n",
    "submission = pd.DataFrame()\n",
    "submission['PredictionString'] = prediction_strings\n",
    "submission['image_id'] = file_names\n",
    "\n",
    "submission.to_csv(os.path.join(cfg.work_dir, 'submission_'+config_file_name+'_psudoLabeling' +'_'+f'_{epoch}.csv'), index=None)\n",
    "submission.head()"
   ]
  },
  {
   "cell_type": "code",
   "execution_count": null,
   "metadata": {},
   "outputs": [],
   "source": []
  }
 ],
 "metadata": {
  "kernelspec": {
   "name": "python377jvsc74a57bd098b0a9b7b4eaaa670588a142fd0a9b87eaafe866f1db4228be72b4211d12040f",
   "display_name": "Python 3.7.7 64-bit ('base': conda)"
  },
  "language_info": {
   "codemirror_mode": {
    "name": "ipython",
    "version": 3
   },
   "file_extension": ".py",
   "mimetype": "text/x-python",
   "name": "python",
   "nbconvert_exporter": "python",
   "pygments_lexer": "ipython3",
   "version": "3.7.7"
  },
  "pycharm": {
   "stem_cell": {
    "cell_type": "raw",
    "metadata": {
     "collapsed": false
    },
    "source": []
   }
  }
 },
 "nbformat": 4,
 "nbformat_minor": 4
}