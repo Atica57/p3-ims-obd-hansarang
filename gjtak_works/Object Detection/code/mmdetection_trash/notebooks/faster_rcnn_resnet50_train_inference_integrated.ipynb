{
 "cells": [
  {
   "cell_type": "code",
   "execution_count": 11,
   "metadata": {
    "pycharm": {
     "name": "#%%\n"
    }
   },
   "outputs": [],
   "source": [
    "import os\n",
    "import mmcv\n",
    "from mmcv import Config\n",
    "from mmdet.datasets import (build_dataloader, build_dataset, replace_ImageToTensor) # 앞의 2개 --> mmdet/datasets/builder.py에 존재 / 마지막 1개 --> \n",
    "from mmdet.models import build_detector #mmdet/models/builder.py에 존재\n",
    "from mmdet.apis import train_detector, single_gpu_test # mmdet/apis/train.py, test.py에 존재\n",
    "from mmcv.runner import load_checkpoint\n",
    "from mmcv.parallel import MMDataParallel\n",
    "import pandas as pd\n",
    "from pandas import DataFrame\n",
    "from pycocotools.coco import COCO\n",
    "import numpy as np\n",
    "import json, wandb"
   ]
  },
  {
   "cell_type": "markdown",
   "metadata": {},
   "source": [
    "## train part"
   ]
  },
  {
   "cell_type": "code",
   "execution_count": 14,
   "metadata": {
    "pycharm": {
     "name": "#%%\n"
    }
   },
   "outputs": [],
   "source": [
    "classes = (\"UNKNOWN\", \"General trash\", \"Paper\", \"Paper pack\", \"Metal\", \"Glass\", \n",
    "           \"Plastic\", \"Styrofoam\", \"Plastic bag\", \"Battery\", \"Clothing\")\n",
    "# config file 들고오기\n",
    "#cfg = Config.fromfile('../configs/faster_rcnn/faster_rcnn_r50_fpn_1x_coco.py')## faster_rcnn_hrnetv2p_w40_2x_coco\n",
    "#파일 교체 시 여기 이름 바꾸기\n",
    "config_dir_name = 'faster_rcnn'## hrnet\n",
    "config_file_name = 'faster_rcnn_r50_fpn_1x_coco'\n",
    "cfg = Config.fromfile('../configs/'+config_dir_name+'/'+config_file_name+'.py')\n",
    "\n",
    "PREFIX = '/opt/ml/input/data/'\n",
    "#working directory 이름 설정\n",
    "#sub_working_dir_name = 'faster_rcnn_r50_fpn_1x_trash'\n",
    "working_dir_name = '../work_dirs/' + config_file_name\n",
    "\n",
    "# dataset 바꾸기\n",
    "cfg.data.train.classes = classes\n",
    "cfg.data.train.img_prefix = PREFIX\n",
    "cfg.data.train.ann_file = PREFIX + 'train.json'\n",
    "cfg.data.train.pipeline[2]['img_scale'] = (512, 512)\n",
    "\n",
    "cfg.data.val.classes = classes\n",
    "cfg.data.val.img_prefix = PREFIX\n",
    "cfg.data.val.ann_file = PREFIX + 'val.json'\n",
    "cfg.data.val.pipeline[1]['img_scale'] = (512, 512)\n",
    "\n",
    "cfg.data.test.classes = classes\n",
    "cfg.data.test.img_prefix = PREFIX\n",
    "cfg.data.test.ann_file = PREFIX + 'test.json'\n",
    "cfg.data.test.pipeline[1]['img_scale'] = (512, 512)\n",
    "\n",
    "cfg.data.samples_per_gpu = 16    #batch size\n",
    "\n",
    "cfg.seed=42 #42로 고정\n",
    "cfg.gpu_ids = [0]\n",
    "cfg.work_dir = working_dir_name\n",
    "\n",
    "cfg.model.roi_head.bbox_head.num_classes = 11\n",
    "\n",
    "cfg.optimizer_config.grad_clip = dict(max_norm=35, norm_type=2)\n",
    "\n",
    "#wandb setting\n"
   ]
  },
  {
   "source": [
    "## wandb setting"
   ],
   "cell_type": "markdown",
   "metadata": {}
  },
  {
   "cell_type": "code",
   "execution_count": 23,
   "metadata": {},
   "outputs": [],
   "source": [
    "group_name = 'hrnet'; project_name = 'gjtak_od'; run_name = config_file_name\n",
    "config_list = {\n",
    "    'epoch' : cfg.runner.max_epochs,\n",
    "    'batch_size' :  cfg.data.samples_per_gpu,\n",
    "    'optimizer' : cfg.optimizer,\n",
    "    'optimizer_config' : cfg.optimizer_config,\n",
    "    'lr_config' : cfg.lr_config\n",
    "}\n",
    "cfg.log_config.hooks[1].init_kwargs['group']=group_name # group name(option)\n",
    "cfg.log_config.hooks[1].init_kwargs['name'] = config_file_name # run name\n",
    "cfg.log_config.hooks[1].init_kwargs['config'] = config_list # config\n",
    "#cfg.log_config.hooks[1].init_kwargs"
   ]
  },
  {
   "source": [
    "### config 저장"
   ],
   "cell_type": "markdown",
   "metadata": {}
  },
  {
   "cell_type": "code",
   "execution_count": 29,
   "metadata": {},
   "outputs": [],
   "source": [
    "# config 객체 -> 파일(json)로 저장(저장 장소 = working directory와 같이)\n",
    "#working directory 없으면 생성하기\n",
    "try:\n",
    "    if not os.path.exists(working_dir_name):\n",
    "        os.makedirs(working_dir_name)\n",
    "except OSError :\n",
    "    print('Error: Creating directory :: ' + working_dir_name)\n",
    "\n",
    "#cfg 객체 -> string(str이용) -> dict(eval이용) -> json 으로 저장\n",
    "cfg_str = str(cfg)[str(cfg).find(')')+3:]\n",
    "cfg_dict = eval(cfg_str)\n",
    "with open(working_dir_name+'/config.json','w') as config_json_file :\n",
    "    json.dump(cfg_dict, config_json_file, indent=\"\\t\")\n"
   ]
  },
  {
   "cell_type": "code",
   "execution_count": 28,
   "metadata": {},
   "outputs": [],
   "source": [
    "#config 저장 확인\n",
    "with open(working_dir_name+'/config.json', 'r') as f :\n",
    "    json_data = json.load(f)\n",
    "#json_data"
   ]
  },
  {
   "cell_type": "code",
   "execution_count": 30,
   "metadata": {
    "pycharm": {
     "name": "#%%\n"
    }
   },
   "outputs": [
    {
     "output_type": "stream",
     "name": "stderr",
     "text": [
      "2021-05-12 09:24:25,127 - mmdet - INFO - load model from: torchvision://resnet50\n",
      "2021-05-12 09:24:25,128 - mmdet - INFO - Use load_from_torchvision loader\n",
      "2021-05-12 09:24:25,356 - mmdet - WARNING - The model and loaded state dict do not match exactly\n",
      "\n",
      "unexpected key in source state_dict: fc.weight, fc.bias\n",
      "\n"
     ]
    }
   ],
   "source": [
    "model = build_detector(cfg.model)"
   ]
  },
  {
   "cell_type": "code",
   "execution_count": 31,
   "metadata": {
    "pycharm": {
     "name": "#%%\n"
    }
   },
   "outputs": [
    {
     "output_type": "stream",
     "name": "stdout",
     "text": [
      "loading annotations into memory...\n",
      "Done (t=4.09s)\n",
      "creating index...\n",
      "index created!\n"
     ]
    }
   ],
   "source": [
    "datasets = [build_dataset(cfg.data.train)]"
   ]
  },
  {
   "cell_type": "code",
   "execution_count": 33,
   "metadata": {},
   "outputs": [],
   "source": [
    "#wandb watch\n",
    "#wandb.watch(model, log='all')"
   ]
  },
  {
   "cell_type": "code",
   "execution_count": 34,
   "metadata": {
    "pycharm": {
     "name": "#%%\n"
    },
    "tags": [
     "outputPrepend"
    ]
   },
   "outputs": [
    {
     "output_type": "stream",
     "name": "stdout",
     "text": [
      "loading annotations into memory...\n",
      "2021-05-12 09:24:57,682 - mmdet - INFO - Start running, host: root@7abc6b7bc976, work_dir: /opt/ml/p3-ims-obd-hansarang/gjtak_works/Object Detection/code/mmdetection_trash/work_dirs/faster_rcnn_r50_fpn_1x_coco\n",
      "2021-05-12 09:24:57,682 - mmdet - INFO - workflow: [('train', 1)], max: 12 epochs\n",
      "Failed to detect the name of this notebook, you can set it manually with the WANDB_NOTEBOOK_NAME environment variable to enable code saving.\n",
      "Done (t=0.89s)\n",
      "creating index...\n",
      "index created!\n",
      "\u001b[34m\u001b[1mwandb\u001b[0m: Currently logged in as: \u001b[33mpstage12\u001b[0m (use `wandb login --relogin` to force relogin)\n"
     ]
    },
    {
     "output_type": "display_data",
     "data": {
      "text/plain": "<IPython.core.display.HTML object>",
      "text/html": "\n                Tracking run with wandb version 0.10.30<br/>\n                Syncing run <strong style=\"color:#cdcd00\">faster_rcnn_r50_fpn_1x_coco</strong> to <a href=\"https://wandb.ai\" target=\"_blank\">Weights & Biases</a> <a href=\"https://docs.wandb.com/integrations/jupyter.html\" target=\"_blank\">(Documentation)</a>.<br/>\n                Project page: <a href=\"https://wandb.ai/pstage12/gjtak_od\" target=\"_blank\">https://wandb.ai/pstage12/gjtak_od</a><br/>\n                Run page: <a href=\"https://wandb.ai/pstage12/gjtak_od/runs/2y2tz8q8\" target=\"_blank\">https://wandb.ai/pstage12/gjtak_od/runs/2y2tz8q8</a><br/>\n                Run data is saved locally in <code>/opt/ml/p3-ims-obd-hansarang/gjtak_works/Object Detection/code/mmdetection_trash/notebooks/wandb/run-20210512_092457-2y2tz8q8</code><br/><br/>\n            "
     },
     "metadata": {}
    },
    {
     "output_type": "stream",
     "name": "stderr",
     "text": [
      "019, memory: 6896, loss_rpn_cls: 0.0329, loss_rpn_bbox: 0.0435, loss_cls: 0.2528, acc: 91.9934, loss_bbox: 0.2978, loss: 0.6270, grad_norm: 1.5486\n",
      "2021-05-12 09:46:35,193 - mmdet - INFO - Epoch [9][140/164]\tlr: 2.000e-03, eta: 0:06:07, time: 0.703, data_time: 0.018, memory: 6896, loss_rpn_cls: 0.0415, loss_rpn_bbox: 0.0548, loss_cls: 0.2775, acc: 90.9998, loss_bbox: 0.3389, loss: 0.7127, grad_norm: 1.6968\n",
      "2021-05-12 09:46:42,189 - mmdet - INFO - Epoch [9][150/164]\tlr: 2.000e-03, eta: 0:06:00, time: 0.700, data_time: 0.018, memory: 6896, loss_rpn_cls: 0.0378, loss_rpn_bbox: 0.0502, loss_cls: 0.2536, acc: 91.8762, loss_bbox: 0.2775, loss: 0.6191, grad_norm: 1.5792\n",
      "2021-05-12 09:46:49,204 - mmdet - INFO - Epoch [9][160/164]\tlr: 2.000e-03, eta: 0:05:52, time: 0.701, data_time: 0.018, memory: 6896, loss_rpn_cls: 0.0316, loss_rpn_bbox: 0.0421, loss_cls: 0.2476, acc: 91.9836, loss_bbox: 0.2950, loss: 0.6163, grad_norm: 1.5140\n",
      "2021-05-12 09:46:52,068 - mmdet - INFO - Saving checkpoint at 9 epochs\n",
      "[>>>>>>>>>>>>>>>>>>>>>>>>>>>>>] 655/655, 34.4 task/s, elapsed: 19s, ETA:     0s2021-05-12 09:47:12,981 - mmdet - INFO - Evaluating bbox...\n",
      "Loading and preparing results...\n",
      "DONE (t=0.12s)\n",
      "creating index...\n",
      "index created!\n",
      "Running per image evaluation...\n",
      "Evaluate annotation type *bbox*\n",
      "DONE (t=6.15s).\n",
      "Accumulating evaluation results...\n",
      "2021-05-12 09:47:20,182 - mmdet - INFO - Epoch(val) [9][164]\tbbox_mAP: 0.1500, bbox_mAP_50: 0.2780, bbox_mAP_75: 0.1420, bbox_mAP_s: 0.0280, bbox_mAP_m: 0.1330, bbox_mAP_l: 0.2940, bbox_mAP_copypaste: 0.150 0.278 0.142 0.028 0.133 0.294\n",
      "DONE (t=0.84s).\n",
      "Average Precision  (AP) @[ IoU=0.50:0.95 | area=   all | maxDets=100 ] = 0.150\n",
      "Average Precision  (AP) @[ IoU=0.50      | area=   all | maxDets=1000 ] = 0.278\n",
      "Average Precision  (AP) @[ IoU=0.75      | area=   all | maxDets=1000 ] = 0.142\n",
      "Average Precision  (AP) @[ IoU=0.50:0.95 | area= small | maxDets=1000 ] = 0.028\n",
      "Average Precision  (AP) @[ IoU=0.50:0.95 | area=medium | maxDets=1000 ] = 0.133\n",
      "Average Precision  (AP) @[ IoU=0.50:0.95 | area= large | maxDets=1000 ] = 0.294\n",
      "Average Recall     (AR) @[ IoU=0.50:0.95 | area=   all | maxDets=100 ] = 0.282\n",
      "Average Recall     (AR) @[ IoU=0.50:0.95 | area=   all | maxDets=300 ] = 0.282\n",
      "Average Recall     (AR) @[ IoU=0.50:0.95 | area=   all | maxDets=1000 ] = 0.282\n",
      "Average Recall     (AR) @[ IoU=0.50:0.95 | area= small | maxDets=1000 ] = 0.089\n",
      "Average Recall     (AR) @[ IoU=0.50:0.95 | area=medium | maxDets=1000 ] = 0.261\n",
      "Average Recall     (AR) @[ IoU=0.50:0.95 | area= large | maxDets=1000 ] = 0.468\n",
      "2021-05-12 09:47:29,890 - mmdet - INFO - Epoch [10][10/164]\tlr: 2.000e-03, eta: 0:05:42, time: 0.969, data_time: 0.261, memory: 6896, loss_rpn_cls: 0.0342, loss_rpn_bbox: 0.0499, loss_cls: 0.2704, acc: 91.2720, loss_bbox: 0.3105, loss: 0.6650, grad_norm: 1.5663\n",
      "2021-05-12 09:47:37,266 - mmdet - INFO - Epoch [10][20/164]\tlr: 2.000e-03, eta: 0:05:35, time: 0.738, data_time: 0.020, memory: 6896, loss_rpn_cls: 0.0339, loss_rpn_bbox: 0.0457, loss_cls: 0.2534, acc: 91.7749, loss_bbox: 0.2953, loss: 0.6283, grad_norm: 1.6231\n",
      "2021-05-12 09:47:44,433 - mmdet - INFO - Epoch [10][30/164]\tlr: 2.000e-03, eta: 0:05:28, time: 0.717, data_time: 0.019, memory: 6896, loss_rpn_cls: 0.0297, loss_rpn_bbox: 0.0404, loss_cls: 0.2416, acc: 92.2437, loss_bbox: 0.2837, loss: 0.5954, grad_norm: 1.5717\n",
      "2021-05-12 09:47:51,478 - mmdet - INFO - Epoch [10][40/164]\tlr: 2.000e-03, eta: 0:05:21, time: 0.705, data_time: 0.019, memory: 6896, loss_rpn_cls: 0.0326, loss_rpn_bbox: 0.0462, loss_cls: 0.2567, acc: 91.3843, loss_bbox: 0.3088, loss: 0.6443, grad_norm: 1.5433\n",
      "2021-05-12 09:47:58,609 - mmdet - INFO - Epoch [10][50/164]\tlr: 2.000e-03, eta: 0:05:14, time: 0.713, data_time: 0.019, memory: 6896, loss_rpn_cls: 0.0339, loss_rpn_bbox: 0.0515, loss_cls: 0.2570, acc: 91.5784, loss_bbox: 0.3180, loss: 0.6604, grad_norm: 1.5640\n",
      "2021-05-12 09:48:05,687 - mmdet - INFO - Epoch [10][60/164]\tlr: 2.000e-03, eta: 0:05:07, time: 0.708, data_time: 0.019, memory: 6896, loss_rpn_cls: 0.0328, loss_rpn_bbox: 0.0483, loss_cls: 0.2774, acc: 91.2134, loss_bbox: 0.3166, loss: 0.6751, grad_norm: 1.6597\n",
      "2021-05-12 09:48:12,760 - mmdet - INFO - Epoch [10][70/164]\tlr: 2.000e-03, eta: 0:05:00, time: 0.707, data_time: 0.018, memory: 6896, loss_rpn_cls: 0.0342, loss_rpn_bbox: 0.0463, loss_cls: 0.2739, acc: 91.1072, loss_bbox: 0.3169, loss: 0.6713, grad_norm: 1.6818\n",
      "2021-05-12 09:48:19,811 - mmdet - INFO - Epoch [10][80/164]\tlr: 2.000e-03, eta: 0:04:53, time: 0.705, data_time: 0.018, memory: 6896, loss_rpn_cls: 0.0328, loss_rpn_bbox: 0.0438, loss_cls: 0.2291, acc: 92.4939, loss_bbox: 0.2731, loss: 0.5788, grad_norm: 1.5289\n",
      "2021-05-12 09:48:26,883 - mmdet - INFO - Epoch [10][90/164]\tlr: 2.000e-03, eta: 0:04:45, time: 0.707, data_time: 0.019, memory: 6896, loss_rpn_cls: 0.0332, loss_rpn_bbox: 0.0437, loss_cls: 0.2561, acc: 91.6711, loss_bbox: 0.3122, loss: 0.6453, grad_norm: 1.7614\n",
      "2021-05-12 09:48:33,958 - mmdet - INFO - Epoch [10][100/164]\tlr: 2.000e-03, eta: 0:04:38, time: 0.708, data_time: 0.018, memory: 6896, loss_rpn_cls: 0.0322, loss_rpn_bbox: 0.0437, loss_cls: 0.2544, acc: 91.7310, loss_bbox: 0.2960, loss: 0.6263, grad_norm: 1.5910\n",
      "2021-05-12 09:48:41,034 - mmdet - INFO - Epoch [10][110/164]\tlr: 2.000e-03, eta: 0:04:31, time: 0.708, data_time: 0.018, memory: 6896, loss_rpn_cls: 0.0347, loss_rpn_bbox: 0.0471, loss_cls: 0.2638, acc: 91.2842, loss_bbox: 0.3094, loss: 0.6550, grad_norm: 1.7117\n",
      "2021-05-12 09:48:48,096 - mmdet - INFO - Epoch [10][120/164]\tlr: 2.000e-03, eta: 0:04:24, time: 0.706, data_time: 0.019, memory: 6896, loss_rpn_cls: 0.0287, loss_rpn_bbox: 0.0422, loss_cls: 0.2515, acc: 91.7151, loss_bbox: 0.3013, loss: 0.6237, grad_norm: 1.6303\n",
      "2021-05-12 09:48:55,188 - mmdet - INFO - Epoch [10][130/164]\tlr: 2.000e-03, eta: 0:04:17, time: 0.709, data_time: 0.018, memory: 6896, loss_rpn_cls: 0.0362, loss_rpn_bbox: 0.0552, loss_cls: 0.2671, acc: 90.9265, loss_bbox: 0.3260, loss: 0.6844, grad_norm: 1.7298\n",
      "2021-05-12 09:49:02,266 - mmdet - INFO - Epoch [10][140/164]\tlr: 2.000e-03, eta: 0:04:10, time: 0.708, data_time: 0.018, memory: 6896, loss_rpn_cls: 0.0365, loss_rpn_bbox: 0.0531, loss_cls: 0.2738, acc: 91.0022, loss_bbox: 0.3318, loss: 0.6953, grad_norm: 1.6951\n",
      "2021-05-12 09:49:09,458 - mmdet - INFO - Epoch [10][150/164]\tlr: 2.000e-03, eta: 0:04:03, time: 0.719, data_time: 0.019, memory: 6896, loss_rpn_cls: 0.0359, loss_rpn_bbox: 0.0537, loss_cls: 0.2846, acc: 90.9851, loss_bbox: 0.3224, loss: 0.6966, grad_norm: 1.6886\n",
      "2021-05-12 09:49:16,509 - mmdet - INFO - Epoch [10][160/164]\tlr: 2.000e-03, eta: 0:03:56, time: 0.705, data_time: 0.019, memory: 6896, loss_rpn_cls: 0.0303, loss_rpn_bbox: 0.0420, loss_cls: 0.2499, acc: 91.6895, loss_bbox: 0.3072, loss: 0.6293, grad_norm: 1.6207\n",
      "2021-05-12 09:49:19,399 - mmdet - INFO - Saving checkpoint at 10 epochs\n",
      "[>>>>>>>>>>>>>>>>>>>>>>>>>>>>>] 655/655, 34.5 task/s, elapsed: 19s, ETA:     0s2021-05-12 09:49:39,732 - mmdet - INFO - Evaluating bbox...\n",
      "Loading and preparing results...\n",
      "DONE (t=0.67s)\n",
      "creating index...\n",
      "index created!\n",
      "Running per image evaluation...\n",
      "Evaluate annotation type *bbox*\n",
      "DONE (t=5.52s).\n",
      "Accumulating evaluation results...\n",
      "2021-05-12 09:49:46,828 - mmdet - INFO - Epoch(val) [10][164]\tbbox_mAP: 0.1540, bbox_mAP_50: 0.2770, bbox_mAP_75: 0.1470, bbox_mAP_s: 0.0280, bbox_mAP_m: 0.1350, bbox_mAP_l: 0.3020, bbox_mAP_copypaste: 0.154 0.277 0.147 0.028 0.135 0.302\n",
      "DONE (t=0.82s).\n",
      "Average Precision  (AP) @[ IoU=0.50:0.95 | area=   all | maxDets=100 ] = 0.154\n",
      "Average Precision  (AP) @[ IoU=0.50      | area=   all | maxDets=1000 ] = 0.277\n",
      "Average Precision  (AP) @[ IoU=0.75      | area=   all | maxDets=1000 ] = 0.147\n",
      "Average Precision  (AP) @[ IoU=0.50:0.95 | area= small | maxDets=1000 ] = 0.028\n",
      "Average Precision  (AP) @[ IoU=0.50:0.95 | area=medium | maxDets=1000 ] = 0.135\n",
      "Average Precision  (AP) @[ IoU=0.50:0.95 | area= large | maxDets=1000 ] = 0.302\n",
      "Average Recall     (AR) @[ IoU=0.50:0.95 | area=   all | maxDets=100 ] = 0.289\n",
      "Average Recall     (AR) @[ IoU=0.50:0.95 | area=   all | maxDets=300 ] = 0.289\n",
      "Average Recall     (AR) @[ IoU=0.50:0.95 | area=   all | maxDets=1000 ] = 0.289\n",
      "Average Recall     (AR) @[ IoU=0.50:0.95 | area= small | maxDets=1000 ] = 0.092\n",
      "Average Recall     (AR) @[ IoU=0.50:0.95 | area=medium | maxDets=1000 ] = 0.264\n",
      "Average Recall     (AR) @[ IoU=0.50:0.95 | area= large | maxDets=1000 ] = 0.478\n",
      "2021-05-12 09:49:56,507 - mmdet - INFO - Epoch [11][10/164]\tlr: 2.000e-03, eta: 0:03:46, time: 0.967, data_time: 0.260, memory: 6896, loss_rpn_cls: 0.0296, loss_rpn_bbox: 0.0455, loss_cls: 0.2386, acc: 92.0874, loss_bbox: 0.2931, loss: 0.6068, grad_norm: 1.5349\n",
      "2021-05-12 09:50:03,561 - mmdet - INFO - Epoch [11][20/164]\tlr: 2.000e-03, eta: 0:03:39, time: 0.705, data_time: 0.019, memory: 6896, loss_rpn_cls: 0.0273, loss_rpn_bbox: 0.0409, loss_cls: 0.2281, acc: 92.4023, loss_bbox: 0.2681, loss: 0.5644, grad_norm: 1.5999\n",
      "2021-05-12 09:50:10,631 - mmdet - INFO - Epoch [11][30/164]\tlr: 2.000e-03, eta: 0:03:31, time: 0.707, data_time: 0.019, memory: 6896, loss_rpn_cls: 0.0326, loss_rpn_bbox: 0.0494, loss_cls: 0.2598, acc: 91.5503, loss_bbox: 0.3131, loss: 0.6549, grad_norm: 1.6138\n",
      "2021-05-12 09:50:17,760 - mmdet - INFO - Epoch [11][40/164]\tlr: 2.000e-03, eta: 0:03:24, time: 0.713, data_time: 0.018, memory: 6896, loss_rpn_cls: 0.0293, loss_rpn_bbox: 0.0484, loss_cls: 0.2467, acc: 91.9617, loss_bbox: 0.2955, loss: 0.6198, grad_norm: 1.5741\n",
      "2021-05-12 09:50:24,843 - mmdet - INFO - Epoch [11][50/164]\tlr: 2.000e-03, eta: 0:03:17, time: 0.708, data_time: 0.019, memory: 6896, loss_rpn_cls: 0.0347, loss_rpn_bbox: 0.0516, loss_cls: 0.2532, acc: 91.5173, loss_bbox: 0.3107, loss: 0.6502, grad_norm: 1.6223\n",
      "2021-05-12 09:50:31,945 - mmdet - INFO - Epoch [11][60/164]\tlr: 2.000e-03, eta: 0:03:10, time: 0.710, data_time: 0.019, memory: 6896, loss_rpn_cls: 0.0307, loss_rpn_bbox: 0.0454, loss_cls: 0.2579, acc: 91.5894, loss_bbox: 0.2912, loss: 0.6252, grad_norm: 1.8042\n",
      "2021-05-12 09:50:39,042 - mmdet - INFO - Epoch [11][70/164]\tlr: 2.000e-03, eta: 0:03:03, time: 0.710, data_time: 0.020, memory: 6896, loss_rpn_cls: 0.0301, loss_rpn_bbox: 0.0431, loss_cls: 0.2376, acc: 92.3120, loss_bbox: 0.2896, loss: 0.6005, grad_norm: 1.6202\n",
      "2021-05-12 09:50:46,241 - mmdet - INFO - Epoch [11][80/164]\tlr: 2.000e-03, eta: 0:02:56, time: 0.720, data_time: 0.019, memory: 6896, loss_rpn_cls: 0.0359, loss_rpn_bbox: 0.0503, loss_cls: 0.2694, acc: 91.2390, loss_bbox: 0.3306, loss: 0.6862, grad_norm: 1.7979\n",
      "2021-05-12 09:50:53,330 - mmdet - INFO - Epoch [11][90/164]\tlr: 2.000e-03, eta: 0:02:49, time: 0.709, data_time: 0.019, memory: 6896, loss_rpn_cls: 0.0363, loss_rpn_bbox: 0.0496, loss_cls: 0.2724, acc: 91.0559, loss_bbox: 0.3305, loss: 0.6888, grad_norm: 1.7667\n",
      "2021-05-12 09:51:00,410 - mmdet - INFO - Epoch [11][100/164]\tlr: 2.000e-03, eta: 0:02:42, time: 0.708, data_time: 0.018, memory: 6896, loss_rpn_cls: 0.0287, loss_rpn_bbox: 0.0429, loss_cls: 0.2376, acc: 92.0496, loss_bbox: 0.2883, loss: 0.5975, grad_norm: 1.6141\n",
      "2021-05-12 09:51:07,513 - mmdet - INFO - Epoch [11][110/164]\tlr: 2.000e-03, eta: 0:02:35, time: 0.710, data_time: 0.020, memory: 6896, loss_rpn_cls: 0.0362, loss_rpn_bbox: 0.0516, loss_cls: 0.2650, acc: 91.2732, loss_bbox: 0.3332, loss: 0.6860, grad_norm: 1.6725\n",
      "2021-05-12 09:51:14,526 - mmdet - INFO - Epoch [11][120/164]\tlr: 2.000e-03, eta: 0:02:27, time: 0.701, data_time: 0.019, memory: 6896, loss_rpn_cls: 0.0268, loss_rpn_bbox: 0.0418, loss_cls: 0.2402, acc: 92.2424, loss_bbox: 0.2895, loss: 0.5983, grad_norm: 1.6409\n",
      "2021-05-12 09:51:21,755 - mmdet - INFO - Epoch [11][130/164]\tlr: 2.000e-03, eta: 0:02:20, time: 0.723, data_time: 0.019, memory: 6896, loss_rpn_cls: 0.0352, loss_rpn_bbox: 0.0527, loss_cls: 0.2759, acc: 91.0010, loss_bbox: 0.3282, loss: 0.6919, grad_norm: 1.7723\n",
      "2021-05-12 09:51:28,864 - mmdet - INFO - Epoch [11][140/164]\tlr: 2.000e-03, eta: 0:02:13, time: 0.711, data_time: 0.020, memory: 6896, loss_rpn_cls: 0.0318, loss_rpn_bbox: 0.0480, loss_cls: 0.2574, acc: 91.4868, loss_bbox: 0.3115, loss: 0.6487, grad_norm: 1.6323\n",
      "2021-05-12 09:51:35,942 - mmdet - INFO - Epoch [11][150/164]\tlr: 2.000e-03, eta: 0:02:06, time: 0.708, data_time: 0.019, memory: 6896, loss_rpn_cls: 0.0315, loss_rpn_bbox: 0.0461, loss_cls: 0.2552, acc: 91.8787, loss_bbox: 0.3035, loss: 0.6363, grad_norm: 1.6907\n",
      "2021-05-12 09:51:42,981 - mmdet - INFO - Epoch [11][160/164]\tlr: 2.000e-03, eta: 0:01:59, time: 0.704, data_time: 0.019, memory: 6896, loss_rpn_cls: 0.0285, loss_rpn_bbox: 0.0415, loss_cls: 0.2501, acc: 91.8665, loss_bbox: 0.2930, loss: 0.6131, grad_norm: 1.6447\n",
      "2021-05-12 09:51:45,862 - mmdet - INFO - Saving checkpoint at 11 epochs\n",
      "[>>>>>>>>>>>>>>>>>>>>>>>>>>>>>] 655/655, 33.3 task/s, elapsed: 20s, ETA:     0s2021-05-12 09:52:06,772 - mmdet - INFO - Evaluating bbox...\n",
      "Loading and preparing results...\n",
      "DONE (t=0.64s)\n",
      "creating index...\n",
      "index created!\n",
      "Running per image evaluation...\n",
      "Evaluate annotation type *bbox*\n",
      "DONE (t=5.74s).\n",
      "Accumulating evaluation results...\n",
      "2021-05-12 09:52:14,006 - mmdet - INFO - Epoch(val) [11][164]\tbbox_mAP: 0.1580, bbox_mAP_50: 0.2870, bbox_mAP_75: 0.1530, bbox_mAP_s: 0.0300, bbox_mAP_m: 0.1420, bbox_mAP_l: 0.3060, bbox_mAP_copypaste: 0.158 0.287 0.153 0.030 0.142 0.306\n",
      "DONE (t=0.77s).\n",
      "Average Precision  (AP) @[ IoU=0.50:0.95 | area=   all | maxDets=100 ] = 0.158\n",
      "Average Precision  (AP) @[ IoU=0.50      | area=   all | maxDets=1000 ] = 0.287\n",
      "Average Precision  (AP) @[ IoU=0.75      | area=   all | maxDets=1000 ] = 0.153\n",
      "Average Precision  (AP) @[ IoU=0.50:0.95 | area= small | maxDets=1000 ] = 0.030\n",
      "Average Precision  (AP) @[ IoU=0.50:0.95 | area=medium | maxDets=1000 ] = 0.142\n",
      "Average Precision  (AP) @[ IoU=0.50:0.95 | area= large | maxDets=1000 ] = 0.306\n",
      "Average Recall     (AR) @[ IoU=0.50:0.95 | area=   all | maxDets=100 ] = 0.293\n",
      "Average Recall     (AR) @[ IoU=0.50:0.95 | area=   all | maxDets=300 ] = 0.293\n",
      "Average Recall     (AR) @[ IoU=0.50:0.95 | area=   all | maxDets=1000 ] = 0.293\n",
      "Average Recall     (AR) @[ IoU=0.50:0.95 | area= small | maxDets=1000 ] = 0.087\n",
      "Average Recall     (AR) @[ IoU=0.50:0.95 | area=medium | maxDets=1000 ] = 0.272\n",
      "Average Recall     (AR) @[ IoU=0.50:0.95 | area= large | maxDets=1000 ] = 0.486\n",
      "2021-05-12 09:52:23,690 - mmdet - INFO - Epoch [12][10/164]\tlr: 2.000e-04, eta: 0:01:49, time: 0.967, data_time: 0.257, memory: 6896, loss_rpn_cls: 0.0335, loss_rpn_bbox: 0.0490, loss_cls: 0.2752, acc: 90.8105, loss_bbox: 0.3438, loss: 0.7016, grad_norm: 1.6567\n",
      "2021-05-12 09:52:30,797 - mmdet - INFO - Epoch [12][20/164]\tlr: 2.000e-04, eta: 0:01:42, time: 0.711, data_time: 0.020, memory: 6896, loss_rpn_cls: 0.0276, loss_rpn_bbox: 0.0404, loss_cls: 0.2285, acc: 92.4011, loss_bbox: 0.2788, loss: 0.5752, grad_norm: 1.5420\n",
      "2021-05-12 09:52:37,853 - mmdet - INFO - Epoch [12][30/164]\tlr: 2.000e-04, eta: 0:01:35, time: 0.706, data_time: 0.019, memory: 6896, loss_rpn_cls: 0.0269, loss_rpn_bbox: 0.0422, loss_cls: 0.2312, acc: 92.4646, loss_bbox: 0.2794, loss: 0.5797, grad_norm: 1.5166\n",
      "2021-05-12 09:52:44,896 - mmdet - INFO - Epoch [12][40/164]\tlr: 2.000e-04, eta: 0:01:28, time: 0.704, data_time: 0.018, memory: 6896, loss_rpn_cls: 0.0266, loss_rpn_bbox: 0.0421, loss_cls: 0.2293, acc: 92.5476, loss_bbox: 0.2767, loss: 0.5748, grad_norm: 1.4720\n",
      "2021-05-12 09:52:52,202 - mmdet - INFO - Epoch [12][50/164]\tlr: 2.000e-04, eta: 0:01:21, time: 0.731, data_time: 0.019, memory: 6896, loss_rpn_cls: 0.0267, loss_rpn_bbox: 0.0438, loss_cls: 0.2368, acc: 92.2791, loss_bbox: 0.2992, loss: 0.6065, grad_norm: 1.5386\n",
      "2021-05-12 09:52:59,347 - mmdet - INFO - Epoch [12][60/164]\tlr: 2.000e-04, eta: 0:01:13, time: 0.714, data_time: 0.019, memory: 6896, loss_rpn_cls: 0.0288, loss_rpn_bbox: 0.0472, loss_cls: 0.2400, acc: 92.2119, loss_bbox: 0.2889, loss: 0.6048, grad_norm: 1.5608\n",
      "2021-05-12 09:53:06,426 - mmdet - INFO - Epoch [12][70/164]\tlr: 2.000e-04, eta: 0:01:06, time: 0.708, data_time: 0.018, memory: 6896, loss_rpn_cls: 0.0282, loss_rpn_bbox: 0.0456, loss_cls: 0.2293, acc: 92.2803, loss_bbox: 0.2883, loss: 0.5913, grad_norm: 1.5376\n",
      "2021-05-12 09:53:13,472 - mmdet - INFO - Epoch [12][80/164]\tlr: 2.000e-04, eta: 0:00:59, time: 0.705, data_time: 0.018, memory: 6896, loss_rpn_cls: 0.0274, loss_rpn_bbox: 0.0422, loss_cls: 0.2299, acc: 92.3157, loss_bbox: 0.2844, loss: 0.5839, grad_norm: 1.5626\n",
      "2021-05-12 09:53:20,503 - mmdet - INFO - Epoch [12][90/164]\tlr: 2.000e-04, eta: 0:00:52, time: 0.703, data_time: 0.019, memory: 6896, loss_rpn_cls: 0.0278, loss_rpn_bbox: 0.0447, loss_cls: 0.2495, acc: 91.7334, loss_bbox: 0.3124, loss: 0.6345, grad_norm: 1.6148\n",
      "2021-05-12 09:53:27,564 - mmdet - INFO - Epoch [12][100/164]\tlr: 2.000e-04, eta: 0:00:45, time: 0.706, data_time: 0.019, memory: 6896, loss_rpn_cls: 0.0296, loss_rpn_bbox: 0.0485, loss_cls: 0.2277, acc: 92.4060, loss_bbox: 0.2919, loss: 0.5978, grad_norm: 1.5145\n",
      "2021-05-12 09:53:34,643 - mmdet - INFO - Epoch [12][110/164]\tlr: 2.000e-04, eta: 0:00:38, time: 0.708, data_time: 0.019, memory: 6896, loss_rpn_cls: 0.0320, loss_rpn_bbox: 0.0523, loss_cls: 0.2632, acc: 91.4258, loss_bbox: 0.3126, loss: 0.6602, grad_norm: 1.6122\n",
      "2021-05-12 09:53:41,703 - mmdet - INFO - Epoch [12][120/164]\tlr: 2.000e-04, eta: 0:00:31, time: 0.706, data_time: 0.018, memory: 6896, loss_rpn_cls: 0.0266, loss_rpn_bbox: 0.0425, loss_cls: 0.2320, acc: 92.3169, loss_bbox: 0.2891, loss: 0.5902, grad_norm: 1.5537\n",
      "2021-05-12 09:53:48,792 - mmdet - INFO - Epoch [12][130/164]\tlr: 2.000e-04, eta: 0:00:24, time: 0.709, data_time: 0.018, memory: 6896, loss_rpn_cls: 0.0316, loss_rpn_bbox: 0.0497, loss_cls: 0.2594, acc: 91.4160, loss_bbox: 0.3166, loss: 0.6573, grad_norm: 1.6085\n",
      "2021-05-12 09:53:55,856 - mmdet - INFO - Epoch [12][140/164]\tlr: 2.000e-04, eta: 0:00:17, time: 0.706, data_time: 0.018, memory: 6896, loss_rpn_cls: 0.0282, loss_rpn_bbox: 0.0470, loss_cls: 0.2367, acc: 92.1472, loss_bbox: 0.2890, loss: 0.6010, grad_norm: 1.5370\n",
      "2021-05-12 09:54:02,931 - mmdet - INFO - Epoch [12][150/164]\tlr: 2.000e-04, eta: 0:00:09, time: 0.708, data_time: 0.018, memory: 6896, loss_rpn_cls: 0.0345, loss_rpn_bbox: 0.0521, loss_cls: 0.2783, acc: 90.7068, loss_bbox: 0.3331, loss: 0.6981, grad_norm: 1.6800\n",
      "2021-05-12 09:54:10,003 - mmdet - INFO - Epoch [12][160/164]\tlr: 2.000e-04, eta: 0:00:02, time: 0.707, data_time: 0.019, memory: 6896, loss_rpn_cls: 0.0281, loss_rpn_bbox: 0.0448, loss_cls: 0.2467, acc: 91.9299, loss_bbox: 0.2995, loss: 0.6191, grad_norm: 1.5863\n",
      "2021-05-12 09:54:12,885 - mmdet - INFO - Saving checkpoint at 12 epochs\n",
      "[>>>>>>>>>>>>>>>>>>>>>>>>>>>>>] 655/655, 34.5 task/s, elapsed: 19s, ETA:     0s2021-05-12 09:54:33,198 - mmdet - INFO - Evaluating bbox...\n",
      "Loading and preparing results...\n",
      "DONE (t=0.11s)\n",
      "creating index...\n",
      "index created!\n",
      "Running per image evaluation...\n",
      "Evaluate annotation type *bbox*\n",
      "DONE (t=6.02s).\n",
      "Accumulating evaluation results...\n",
      "2021-05-12 09:54:40,232 - mmdet - INFO - Epoch(val) [12][164]\tbbox_mAP: 0.1590, bbox_mAP_50: 0.2860, bbox_mAP_75: 0.1540, bbox_mAP_s: 0.0300, bbox_mAP_m: 0.1420, bbox_mAP_l: 0.3060, bbox_mAP_copypaste: 0.159 0.286 0.154 0.030 0.142 0.306\n",
      "DONE (t=0.82s).\n",
      "Average Precision  (AP) @[ IoU=0.50:0.95 | area=   all | maxDets=100 ] = 0.159\n",
      "Average Precision  (AP) @[ IoU=0.50      | area=   all | maxDets=1000 ] = 0.286\n",
      "Average Precision  (AP) @[ IoU=0.75      | area=   all | maxDets=1000 ] = 0.154\n",
      "Average Precision  (AP) @[ IoU=0.50:0.95 | area= small | maxDets=1000 ] = 0.030\n",
      "Average Precision  (AP) @[ IoU=0.50:0.95 | area=medium | maxDets=1000 ] = 0.142\n",
      "Average Precision  (AP) @[ IoU=0.50:0.95 | area= large | maxDets=1000 ] = 0.306\n",
      "Average Recall     (AR) @[ IoU=0.50:0.95 | area=   all | maxDets=100 ] = 0.298\n",
      "Average Recall     (AR) @[ IoU=0.50:0.95 | area=   all | maxDets=300 ] = 0.298\n",
      "Average Recall     (AR) @[ IoU=0.50:0.95 | area=   all | maxDets=1000 ] = 0.298\n",
      "Average Recall     (AR) @[ IoU=0.50:0.95 | area= small | maxDets=1000 ] = 0.088\n",
      "Average Recall     (AR) @[ IoU=0.50:0.95 | area=medium | maxDets=1000 ] = 0.277\n",
      "Average Recall     (AR) @[ IoU=0.50:0.95 | area= large | maxDets=1000 ] = 0.487\n"
     ]
    },
    {
     "output_type": "display_data",
     "data": {
      "text/plain": "<IPython.core.display.HTML object>",
      "text/html": "<br/>Waiting for W&B process to finish, PID 20543<br/>Program ended successfully."
     },
     "metadata": {}
    },
    {
     "output_type": "display_data",
     "data": {
      "text/plain": "VBox(children=(Label(value=' 0.00MB of 0.00MB uploaded (0.00MB deduped)\\r'), FloatProgress(value=1.0, max=1.0)…",
      "application/vnd.jupyter.widget-view+json": {
       "version_major": 2,
       "version_minor": 0,
       "model_id": "bdd51d74ae8445458372eb278bf498c6"
      }
     },
     "metadata": {}
    },
    {
     "output_type": "display_data",
     "data": {
      "text/plain": "<IPython.core.display.HTML object>",
      "text/html": "Find user logs for this run at: <code>/opt/ml/p3-ims-obd-hansarang/gjtak_works/Object Detection/code/mmdetection_trash/notebooks/wandb/run-20210512_092457-2y2tz8q8/logs/debug.log</code>"
     },
     "metadata": {}
    },
    {
     "output_type": "display_data",
     "data": {
      "text/plain": "<IPython.core.display.HTML object>",
      "text/html": "Find internal logs for this run at: <code>/opt/ml/p3-ims-obd-hansarang/gjtak_works/Object Detection/code/mmdetection_trash/notebooks/wandb/run-20210512_092457-2y2tz8q8/logs/debug-internal.log</code>"
     },
     "metadata": {}
    },
    {
     "output_type": "display_data",
     "data": {
      "text/plain": "<IPython.core.display.HTML object>",
      "text/html": "<h3>Run summary:</h3><br/><style>\n    table.wandb td:nth-child(1) { padding: 0 10px; text-align: right }\n    </style><table class=\"wandb\">\n<tr><td>train/loss_rpn_cls</td><td>0.02811</td></tr><tr><td>train/loss_rpn_bbox</td><td>0.04475</td></tr><tr><td>train/loss_cls</td><td>0.24672</td></tr><tr><td>train/acc</td><td>91.92993</td></tr><tr><td>train/loss_bbox</td><td>0.29949</td></tr><tr><td>train/loss</td><td>0.61907</td></tr><tr><td>train/grad_norm</td><td>1.58628</td></tr><tr><td>learning_rate</td><td>0.0002</td></tr><tr><td>momentum</td><td>0.9</td></tr><tr><td>_runtime</td><td>1782</td></tr><tr><td>_timestamp</td><td>1620813280</td></tr><tr><td>_step</td><td>1969</td></tr><tr><td>val/bbox_mAP</td><td>0.159</td></tr><tr><td>val/bbox_mAP_50</td><td>0.286</td></tr><tr><td>val/bbox_mAP_75</td><td>0.154</td></tr><tr><td>val/bbox_mAP_s</td><td>0.03</td></tr><tr><td>val/bbox_mAP_m</td><td>0.142</td></tr><tr><td>val/bbox_mAP_l</td><td>0.306</td></tr></table>"
     },
     "metadata": {}
    },
    {
     "output_type": "display_data",
     "data": {
      "text/plain": "<IPython.core.display.HTML object>",
      "text/html": "<h3>Run history:</h3><br/><style>\n    table.wandb td:nth-child(1) { padding: 0 10px; text-align: right }\n    </style><table class=\"wandb\">\n<tr><td>train/loss_rpn_cls</td><td>█▃▃▂▂▂▂▂▂▂▂▂▂▂▂▁▂▁▁▁▁▁▁▁▁▁▁▁▁▁▁▁▁▁▁▁▁▁▁▁</td></tr><tr><td>train/loss_rpn_bbox</td><td>█▅▆▄▇▄▅▆▄▄▅▄▃▃▅▂▄▃▃▃▃▃▃▃▃▃▃▃▁▃▂▁▁▁▂▁▁▂▂▂</td></tr><tr><td>train/loss_cls</td><td>█▆▆▅▆▆▆▆▅▆▆▆▅▄▅▄▅▄▄▄▄▄▃▄▃▃▄▃▂▂▂▁▂▁▂▁▂▁▁▁</td></tr><tr><td>train/acc</td><td>█▄▃▃▁▂▂▂▂▁▁▁▃▃▂▃▂▃▂▂▃▃▄▃▃▃▃▃▅▄▄▅▄▅▄▅▄▅▅▅</td></tr><tr><td>train/loss_bbox</td><td>▁▅▆▆█▇▇▇▇▇▇▇▆▆▇▅▆▆▆▆▆▆▅▆▅▆▆▆▅▆▅▄▅▄▅▅▅▅▅▅</td></tr><tr><td>train/loss</td><td>█▅▅▅▆▅▅▅▅▅▅▅▄▃▄▃▄▃▃▃▃▃▂▃▃▃▃▃▁▂▂▁▂▁▂▁▁▁▁▁</td></tr><tr><td>train/grad_norm</td><td>█▂▁▂▃▃▄▃▂▃▃▂▂▂▂▂▂▂▂▂▂▂▂▂▂▂▃▁▁▁▁▁▁▁▂▁▁▁▁▁</td></tr><tr><td>learning_rate</td><td>▁▂▃▃▄▅▅▆▇██████████████████▂▂▂▂▂▂▂▂▂▁▁▁▁</td></tr><tr><td>momentum</td><td>▁▁▁▁▁▁▁▁▁▁▁▁▁▁▁▁▁▁▁▁▁▁▁▁▁▁▁▁▁▁▁▁▁▁▁▁▁▁▁▁</td></tr><tr><td>_runtime</td><td>▁▁▁▁▂▂▂▂▂▃▃▃▃▃▄▄▄▄▄▄▅▅▅▅▅▅▆▆▆▆▆▇▇▇▇▇▇███</td></tr><tr><td>_timestamp</td><td>▁▁▁▁▂▂▂▂▂▃▃▃▃▃▄▄▄▄▄▄▅▅▅▅▅▅▆▆▆▆▆▇▇▇▇▇▇███</td></tr><tr><td>_step</td><td>▁▁▁▂▂▂▂▂▂▃▃▃▃▃▃▄▄▄▄▄▅▅▅▅▅▅▆▆▆▆▆▇▇▇▇▇▇███</td></tr><tr><td>val/bbox_mAP</td><td>▁▃▃▄▅▅▆▆████</td></tr><tr><td>val/bbox_mAP_50</td><td>▁▃▄▅▅▆▆▇████</td></tr><tr><td>val/bbox_mAP_75</td><td>▁▂▃▄▅▅▆▆▇███</td></tr><tr><td>val/bbox_mAP_s</td><td>▁▂▃▄▆▅▆▆████</td></tr><tr><td>val/bbox_mAP_m</td><td>▁▃▄▅▆▆▆▆████</td></tr><tr><td>val/bbox_mAP_l</td><td>▁▃▃▄▅▅▆▇████</td></tr></table><br/>"
     },
     "metadata": {}
    },
    {
     "output_type": "display_data",
     "data": {
      "text/plain": "<IPython.core.display.HTML object>",
      "text/html": "Synced 6 W&B file(s), 0 media file(s), 0 artifact file(s) and 0 other file(s)"
     },
     "metadata": {}
    },
    {
     "output_type": "display_data",
     "data": {
      "text/plain": "<IPython.core.display.HTML object>",
      "text/html": "\n                    <br/>Synced <strong style=\"color:#cdcd00\">faster_rcnn_r50_fpn_1x_coco</strong>: <a href=\"https://wandb.ai/pstage12/gjtak_od/runs/2y2tz8q8\" target=\"_blank\">https://wandb.ai/pstage12/gjtak_od/runs/2y2tz8q8</a><br/>\n                "
     },
     "metadata": {}
    }
   ],
   "source": [
    "train_detector(model, datasets[0], cfg, distributed=False, validate=True)"
   ]
  },
  {
   "cell_type": "markdown",
   "metadata": {},
   "source": [
    "## Inference part"
   ]
  },
  {
   "cell_type": "code",
   "execution_count": 35,
   "metadata": {},
   "outputs": [],
   "source": [
    "epoch = cfg.runner.max_epochs\n",
    "cfg.model.train_cfg = None\n",
    "\n",
    "# checkpoint path\n",
    "checkpoint_path = os.path.join(cfg.work_dir, f'epoch_{epoch}.pth')"
   ]
  },
  {
   "cell_type": "code",
   "execution_count": 36,
   "metadata": {},
   "outputs": [
    {
     "output_type": "stream",
     "name": "stdout",
     "text": [
      "loading annotations into memory...\nDone (t=0.01s)\ncreating index...\nindex created!\n"
     ]
    }
   ],
   "source": [
    "dataset = build_dataset(cfg.data.test)\n",
    "data_loader = build_dataloader(\n",
    "        dataset,\n",
    "        samples_per_gpu=1,\n",
    "        workers_per_gpu=cfg.data.workers_per_gpu,\n",
    "        dist=False,\n",
    "        shuffle=False)"
   ]
  },
  {
   "cell_type": "code",
   "execution_count": 37,
   "metadata": {},
   "outputs": [
    {
     "output_type": "stream",
     "name": "stderr",
     "text": [
      "2021-05-12 09:56:11,817 - mmdet - INFO - load model from: torchvision://resnet50\n",
      "2021-05-12 09:56:11,818 - mmdet - INFO - Use load_from_torchvision loader\n",
      "2021-05-12 09:56:12,042 - mmdet - WARNING - The model and loaded state dict do not match exactly\n",
      "\n",
      "unexpected key in source state_dict: fc.weight, fc.bias\n",
      "\n",
      "Use load_from_local loader\n"
     ]
    }
   ],
   "source": [
    "model = build_detector(cfg.model, test_cfg=cfg.get('test_cfg'))\n",
    "checkpoint = load_checkpoint(model, checkpoint_path, map_location='cpu')\n",
    "\n",
    "model.CLASSES = dataset.CLASSES\n",
    "model = MMDataParallel(model.cuda(), device_ids=[0])"
   ]
  },
  {
   "cell_type": "code",
   "execution_count": 38,
   "metadata": {},
   "outputs": [
    {
     "output_type": "stream",
     "name": "stdout",
     "text": [
      "[>>>>>>>>>>>>>>>>>>>>>>>>>>>>>] 837/837, 34.2 task/s, elapsed: 24s, ETA:     0s"
     ]
    }
   ],
   "source": [
    "output = single_gpu_test(model, data_loader, show_score_thr=0.05)"
   ]
  },
  {
   "cell_type": "code",
   "execution_count": 39,
   "metadata": {},
   "outputs": [
    {
     "output_type": "stream",
     "name": "stdout",
     "text": [
      "loading annotations into memory...\nDone (t=0.00s)\ncreating index...\nindex created!\n"
     ]
    },
    {
     "output_type": "execute_result",
     "data": {
      "text/plain": [
       "                                    PredictionString              image_id\n",
       "0  1 0.27591115 165.25833 74.776306 260.0695 186....  batch_01_vt/0021.jpg\n",
       "1  1 0.087882824 36.40812 0.0 150.26389 275.60645...  batch_01_vt/0028.jpg\n",
       "2  1 0.42258692 122.51999 159.63556 381.79993 341...  batch_01_vt/0031.jpg\n",
       "3  1 0.053491384 0.32694817 218.53006 39.504967 3...  batch_01_vt/0032.jpg\n",
       "4  1 0.7363675 393.93417 280.24387 460.42484 346....  batch_01_vt/0070.jpg"
      ],
      "text/html": "<div>\n<style scoped>\n    .dataframe tbody tr th:only-of-type {\n        vertical-align: middle;\n    }\n\n    .dataframe tbody tr th {\n        vertical-align: top;\n    }\n\n    .dataframe thead th {\n        text-align: right;\n    }\n</style>\n<table border=\"1\" class=\"dataframe\">\n  <thead>\n    <tr style=\"text-align: right;\">\n      <th></th>\n      <th>PredictionString</th>\n      <th>image_id</th>\n    </tr>\n  </thead>\n  <tbody>\n    <tr>\n      <th>0</th>\n      <td>1 0.27591115 165.25833 74.776306 260.0695 186....</td>\n      <td>batch_01_vt/0021.jpg</td>\n    </tr>\n    <tr>\n      <th>1</th>\n      <td>1 0.087882824 36.40812 0.0 150.26389 275.60645...</td>\n      <td>batch_01_vt/0028.jpg</td>\n    </tr>\n    <tr>\n      <th>2</th>\n      <td>1 0.42258692 122.51999 159.63556 381.79993 341...</td>\n      <td>batch_01_vt/0031.jpg</td>\n    </tr>\n    <tr>\n      <th>3</th>\n      <td>1 0.053491384 0.32694817 218.53006 39.504967 3...</td>\n      <td>batch_01_vt/0032.jpg</td>\n    </tr>\n    <tr>\n      <th>4</th>\n      <td>1 0.7363675 393.93417 280.24387 460.42484 346....</td>\n      <td>batch_01_vt/0070.jpg</td>\n    </tr>\n  </tbody>\n</table>\n</div>"
     },
     "metadata": {},
     "execution_count": 39
    }
   ],
   "source": [
    "prediction_strings = []\n",
    "file_names = []\n",
    "coco = COCO(cfg.data.test.ann_file)\n",
    "imag_ids = coco.getImgIds()\n",
    "\n",
    "class_num = 11\n",
    "for i, out in enumerate(output):\n",
    "    prediction_string = ''\n",
    "    image_info = coco.loadImgs(coco.getImgIds(imgIds=i))[0]\n",
    "    for j in range(class_num):\n",
    "        for o in out[j]:\n",
    "            prediction_string += str(j) + ' ' + str(o[4]) + ' ' + str(o[0]) + ' ' + str(o[1]) + ' ' + str(\n",
    "                o[2]) + ' ' + str(o[3]) + ' '\n",
    "        \n",
    "    prediction_strings.append(prediction_string)\n",
    "    file_names.append(image_info['file_name'])\n",
    "\n",
    "\n",
    "submission = pd.DataFrame()\n",
    "submission['PredictionString'] = prediction_strings\n",
    "submission['image_id'] = file_names\n",
    "submission.to_csv(os.path.join(cfg.work_dir, 'submission_'+config_file_name+'f_{epoch}.csv'), index=None)\n",
    "submission.head()"
   ]
  },
  {
   "cell_type": "code",
   "execution_count": null,
   "metadata": {},
   "outputs": [],
   "source": []
  }
 ],
 "metadata": {
  "kernelspec": {
   "name": "python377jvsc74a57bd098b0a9b7b4eaaa670588a142fd0a9b87eaafe866f1db4228be72b4211d12040f",
   "display_name": "Python 3.7.7 64-bit ('conda': virtualenv)"
  },
  "language_info": {
   "codemirror_mode": {
    "name": "ipython",
    "version": 3
   },
   "file_extension": ".py",
   "mimetype": "text/x-python",
   "name": "python",
   "nbconvert_exporter": "python",
   "pygments_lexer": "ipython3",
   "version": "3.7.7"
  },
  "pycharm": {
   "stem_cell": {
    "cell_type": "raw",
    "metadata": {
     "collapsed": false
    },
    "source": []
   }
  }
 },
 "nbformat": 4,
 "nbformat_minor": 4
}