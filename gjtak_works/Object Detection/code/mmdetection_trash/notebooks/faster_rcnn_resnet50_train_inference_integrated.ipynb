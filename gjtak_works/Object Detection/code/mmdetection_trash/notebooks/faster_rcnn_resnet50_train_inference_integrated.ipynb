{
 "cells": [
  {
   "cell_type": "code",
   "execution_count": 2,
   "metadata": {},
   "outputs": [
    {
     "output_type": "stream",
     "name": "stdout",
     "text": [
      "Wed May 12 12:03:40 2021       \n+-----------------------------------------------------------------------------+\n| NVIDIA-SMI 418.67       Driver Version: 418.67       CUDA Version: 10.1     |\n|-------------------------------+----------------------+----------------------+\n| GPU  Name        Persistence-M| Bus-Id        Disp.A | Volatile Uncorr. ECC |\n| Fan  Temp  Perf  Pwr:Usage/Cap|         Memory-Usage | GPU-Util  Compute M. |\n|===============================+======================+======================|\n|   0  Tesla V100-PCIE...  On   | 00000000:00:05.0 Off |                  Off |\n| N/A   40C    P0    29W / 250W |      0MiB / 32480MiB |      0%      Default |\n+-------------------------------+----------------------+----------------------+\n                                                                               \n+-----------------------------------------------------------------------------+\n| Processes:                                                       GPU Memory |\n|  GPU       PID   Type   Process name                             Usage      |\n|=============================================================================|\n|  No running processes found                                                 |\n+-----------------------------------------------------------------------------+\n"
     ]
    }
   ],
   "source": [
    "!nvidia-smi"
   ]
  },
  {
   "cell_type": "code",
   "execution_count": 3,
   "metadata": {
    "pycharm": {
     "name": "#%%\n"
    }
   },
   "outputs": [],
   "source": [
    "import os\n",
    "import mmcv\n",
    "from mmcv import Config\n",
    "from mmdet.datasets import (build_dataloader, build_dataset, replace_ImageToTensor) # 앞의 2개 --> mmdet/datasets/builder.py에 존재 / 마지막 1개 --> \n",
    "from mmdet.models import build_detector #mmdet/models/builder.py에 존재\n",
    "from mmdet.apis import (train_detector, single_gpu_test, init_detector, inference_detector, show_result_pyplot) \n",
    "    # train_detector --> mmdet/apis/train.py에 존재, init_detector, inference_detector, show_result_pyplot --> mmdet/apis/inference.py에 존재, single_gpu_test -->  mmdet/apis/test.py에 존재\n",
    "from mmcv.runner import load_checkpoint\n",
    "from mmcv.parallel import MMDataParallel\n",
    "import pandas as pd\n",
    "from pandas import DataFrame\n",
    "from pycocotools.coco import COCO\n",
    "import numpy as np\n",
    "import json, wandb"
   ]
  },
  {
   "cell_type": "markdown",
   "metadata": {},
   "source": [
    "## train part"
   ]
  },
  {
   "cell_type": "code",
   "execution_count": 4,
   "metadata": {
    "pycharm": {
     "name": "#%%\n"
    }
   },
   "outputs": [],
   "source": [
    "classes = (\"UNKNOWN\", \"General trash\", \"Paper\", \"Paper pack\", \"Metal\", \"Glass\", \n",
    "           \"Plastic\", \"Styrofoam\", \"Plastic bag\", \"Battery\", \"Clothing\")\n",
    "# config file 들고오기\n",
    "#cfg = Config.fromfile('../configs/faster_rcnn/faster_rcnn_r50_fpn_1x_coco.py')## faster_rcnn_hrnetv2p_w40_2x_coco\n",
    "#파일 교체 시 여기 이름 바꾸기\n",
    "config_dir_name = 'faster_rcnn'\n",
    "config_file_name = 'faster_rcnn_r50_fpn_1x_coco'\n",
    "cfg = Config.fromfile('../configs/'+config_dir_name+'/'+config_file_name+'.py')\n",
    "\n",
    "PREFIX = '/opt/ml/input/data/'\n",
    "#working directory 이름 설정\n",
    "#sub_working_dir_name = 'faster_rcnn_r50_fpn_1x_trash'\n",
    "working_dir_name = '../work_dirs/' + config_file_name\n",
    "\n",
    "# dataset 바꾸기\n",
    "cfg.data.train.classes = classes\n",
    "cfg.data.train.img_prefix = PREFIX\n",
    "cfg.data.train.ann_file = PREFIX + 'train.json'\n",
    "cfg.data.train.pipeline[2]['img_scale'] = (512, 512)\n",
    "\n",
    "cfg.data.val.classes = classes\n",
    "cfg.data.val.img_prefix = PREFIX\n",
    "cfg.data.val.ann_file = PREFIX + 'val.json'\n",
    "cfg.data.val.pipeline[1]['img_scale'] = (512, 512)\n",
    "\n",
    "cfg.data.test.classes = classes\n",
    "cfg.data.test.img_prefix = PREFIX\n",
    "cfg.data.test.ann_file = PREFIX + 'test.json'\n",
    "cfg.data.test.pipeline[1]['img_scale'] = (512, 512)\n",
    "\n",
    "cfg.data.samples_per_gpu = 16    #batch size\n",
    "\n",
    "cfg.seed=42 #42로 고정\n",
    "cfg.gpu_ids = [0]\n",
    "cfg.work_dir = working_dir_name\n",
    "\n",
    "cfg.model.roi_head.bbox_head.num_classes = 11\n",
    "\n",
    "cfg.optimizer_config.grad_clip = dict(max_norm=35, norm_type=2)\n",
    "\n",
    "#wandb setting\n"
   ]
  },
  {
   "source": [
    "## wandb setting"
   ],
   "cell_type": "markdown",
   "metadata": {}
  },
  {
   "cell_type": "code",
   "execution_count": 5,
   "metadata": {},
   "outputs": [],
   "source": [
    "group_name = 'hrnet'; project_name = 'gjtak'; run_name = config_file_name\n",
    "config_list = {\n",
    "    'epoch' : cfg.runner.max_epochs,\n",
    "    'batch_size' :  cfg.data.samples_per_gpu,\n",
    "    'optimizer' : cfg.optimizer,\n",
    "    'optimizer_config' : cfg.optimizer_config,\n",
    "    'lr_config' : cfg.lr_config\n",
    "}\n",
    "cfg.log_config.hooks[1].init_kwargs['group']=group_name # group name(option)\n",
    "cfg.log_config.hooks[1].init_kwargs['name'] = config_file_name # run name\n",
    "cfg.log_config.hooks[1].init_kwargs['config'] = config_list # config"
   ]
  },
  {
   "source": [
    "### config 저장"
   ],
   "cell_type": "markdown",
   "metadata": {}
  },
  {
   "cell_type": "code",
   "execution_count": 6,
   "metadata": {},
   "outputs": [],
   "source": [
    "# config 객체 -> 파일(json)로 저장(저장 장소 = working directory와 같이)\n",
    "#working directory 없으면 생성하기\n",
    "try:\n",
    "    if not os.path.exists(working_dir_name):\n",
    "        os.makedirs(working_dir_name)\n",
    "except OSError :\n",
    "    print('Error: Creating directory :: ' + working_dir_name)\n",
    "\n",
    "#cfg 객체 -> string(str이용) -> dict(eval이용) -> json 으로 저장\n",
    "cfg_str = str(cfg)[str(cfg).find(')')+3:]\n",
    "cfg_dict = eval(cfg_str)\n",
    "with open(working_dir_name+'/config.json','w') as config_json_file :\n",
    "    json.dump(cfg_dict, config_json_file, indent=\"\\t\")\n"
   ]
  },
  {
   "cell_type": "code",
   "execution_count": 7,
   "metadata": {},
   "outputs": [],
   "source": [
    "#config 저장 확인\n",
    "with open(working_dir_name+'/config.json', 'r') as f :\n",
    "    json_data = json.load(f)\n",
    "#json_data"
   ]
  },
  {
   "cell_type": "code",
   "execution_count": 8,
   "metadata": {
    "pycharm": {
     "name": "#%%\n"
    }
   },
   "outputs": [
    {
     "output_type": "stream",
     "name": "stderr",
     "text": [
      "2021-05-12 12:03:49,713 - mmdet - INFO - load model from: torchvision://resnet50\n",
      "2021-05-12 12:03:49,714 - mmdet - INFO - Use load_from_torchvision loader\n",
      "2021-05-12 12:03:49,999 - mmdet - WARNING - The model and loaded state dict do not match exactly\n",
      "\n",
      "unexpected key in source state_dict: fc.weight, fc.bias\n",
      "\n"
     ]
    }
   ],
   "source": [
    "model = build_detector(cfg.model)"
   ]
  },
  {
   "cell_type": "code",
   "execution_count": 9,
   "metadata": {
    "pycharm": {
     "name": "#%%\n"
    }
   },
   "outputs": [
    {
     "output_type": "stream",
     "name": "stdout",
     "text": [
      "loading annotations into memory...\n",
      "Done (t=3.72s)\n",
      "creating index...\n",
      "index created!\n"
     ]
    }
   ],
   "source": [
    "datasets = [build_dataset(cfg.data.train)]"
   ]
  },
  {
   "cell_type": "code",
   "execution_count": 10,
   "metadata": {},
   "outputs": [],
   "source": [
    "#wandb watch\n",
    "#wandb.watch(model, log='all')"
   ]
  },
  {
   "cell_type": "code",
   "execution_count": 11,
   "metadata": {
    "pycharm": {
     "name": "#%%\n"
    },
    "tags": [
     "outputPrepend"
    ]
   },
   "outputs": [
    {
     "output_type": "stream",
     "name": "stdout",
     "text": [
      "loading annotations into memory...\n",
      "2021-05-12 12:03:59,123 - mmdet - INFO - Start running, host: root@7abc6b7bc976, work_dir: /opt/ml/p3-ims-obd-hansarang/gjtak_works/Object Detection/code/mmdetection_trash/work_dirs/faster_rcnn_r50_fpn_1x_coco\n",
      "2021-05-12 12:03:59,124 - mmdet - INFO - workflow: [('train', 1)], max: 12 epochs\n",
      "Failed to detect the name of this notebook, you can set it manually with the WANDB_NOTEBOOK_NAME environment variable to enable code saving.\n",
      "Done (t=1.30s)\n",
      "creating index...\n",
      "index created!\n",
      "\u001b[34m\u001b[1mwandb\u001b[0m: Currently logged in as: \u001b[33mpstage3_det\u001b[0m (use `wandb login --relogin` to force relogin)\n"
     ]
    },
    {
     "output_type": "display_data",
     "data": {
      "text/plain": "<IPython.core.display.HTML object>",
      "text/html": "\n                Tracking run with wandb version 0.10.30<br/>\n                Syncing run <strong style=\"color:#cdcd00\">faster_rcnn_r50_fpn_1x_coco</strong> to <a href=\"https://wandb.ai\" target=\"_blank\">Weights & Biases</a> <a href=\"https://docs.wandb.com/integrations/jupyter.html\" target=\"_blank\">(Documentation)</a>.<br/>\n                Project page: <a href=\"https://wandb.ai/pstage3_det/gjtak\" target=\"_blank\">https://wandb.ai/pstage3_det/gjtak</a><br/>\n                Run page: <a href=\"https://wandb.ai/pstage3_det/gjtak/runs/11ckhm1c\" target=\"_blank\">https://wandb.ai/pstage3_det/gjtak/runs/11ckhm1c</a><br/>\n                Run data is saved locally in <code>/opt/ml/p3-ims-obd-hansarang/gjtak_works/Object Detection/code/mmdetection_trash/notebooks/wandb/run-20210512_120359-11ckhm1c</code><br/><br/>\n            "
     },
     "metadata": {}
    },
    {
     "output_type": "stream",
     "name": "stderr",
     "text": [
      "020, memory: 6897, loss_rpn_cls: 0.0329, loss_rpn_bbox: 0.0415, loss_cls: 0.2596, acc: 91.6809, loss_bbox: 0.2970, loss: 0.6310, grad_norm: 1.5671\n",
      "2021-05-12 12:25:47,563 - mmdet - INFO - Epoch [9][140/164]\tlr: 2.000e-03, eta: 0:06:07, time: 0.707, data_time: 0.018, memory: 6897, loss_rpn_cls: 0.0337, loss_rpn_bbox: 0.0419, loss_cls: 0.2418, acc: 92.1826, loss_bbox: 0.2739, loss: 0.5914, grad_norm: 1.4879\n",
      "2021-05-12 12:25:54,589 - mmdet - INFO - Epoch [9][150/164]\tlr: 2.000e-03, eta: 0:06:00, time: 0.703, data_time: 0.018, memory: 6897, loss_rpn_cls: 0.0347, loss_rpn_bbox: 0.0459, loss_cls: 0.2624, acc: 91.4319, loss_bbox: 0.3070, loss: 0.6500, grad_norm: 1.5084\n",
      "2021-05-12 12:26:01,633 - mmdet - INFO - Epoch [9][160/164]\tlr: 2.000e-03, eta: 0:05:53, time: 0.704, data_time: 0.018, memory: 6897, loss_rpn_cls: 0.0360, loss_rpn_bbox: 0.0454, loss_cls: 0.2670, acc: 91.5674, loss_bbox: 0.2988, loss: 0.6473, grad_norm: 1.5820\n",
      "2021-05-12 12:26:04,524 - mmdet - INFO - Saving checkpoint at 9 epochs\n",
      "[>>>>>>>>>>>>>>>>>>>>>>>>>>>>>] 655/655, 34.6 task/s, elapsed: 19s, ETA:     0s2021-05-12 12:26:26,261 - mmdet - INFO - Evaluating bbox...\n",
      "Loading and preparing results...\n",
      "DONE (t=0.62s)\n",
      "creating index...\n",
      "index created!\n",
      "Running per image evaluation...\n",
      "Evaluate annotation type *bbox*\n",
      "DONE (t=6.17s).\n",
      "Accumulating evaluation results...\n",
      "2021-05-12 12:26:34,019 - mmdet - INFO - Epoch(val) [9][164]\tbbox_mAP: 0.1670, bbox_mAP_50: 0.3040, bbox_mAP_75: 0.1620, bbox_mAP_s: 0.0320, bbox_mAP_m: 0.1470, bbox_mAP_l: 0.3030, bbox_mAP_copypaste: 0.167 0.304 0.162 0.032 0.147 0.303\n",
      "DONE (t=0.88s).\n",
      "Average Precision  (AP) @[ IoU=0.50:0.95 | area=   all | maxDets=100 ] = 0.167\n",
      "Average Precision  (AP) @[ IoU=0.50      | area=   all | maxDets=1000 ] = 0.304\n",
      "Average Precision  (AP) @[ IoU=0.75      | area=   all | maxDets=1000 ] = 0.162\n",
      "Average Precision  (AP) @[ IoU=0.50:0.95 | area= small | maxDets=1000 ] = 0.032\n",
      "Average Precision  (AP) @[ IoU=0.50:0.95 | area=medium | maxDets=1000 ] = 0.147\n",
      "Average Precision  (AP) @[ IoU=0.50:0.95 | area= large | maxDets=1000 ] = 0.303\n",
      "Average Recall     (AR) @[ IoU=0.50:0.95 | area=   all | maxDets=100 ] = 0.318\n",
      "Average Recall     (AR) @[ IoU=0.50:0.95 | area=   all | maxDets=300 ] = 0.318\n",
      "Average Recall     (AR) @[ IoU=0.50:0.95 | area=   all | maxDets=1000 ] = 0.318\n",
      "Average Recall     (AR) @[ IoU=0.50:0.95 | area= small | maxDets=1000 ] = 0.090\n",
      "Average Recall     (AR) @[ IoU=0.50:0.95 | area=medium | maxDets=1000 ] = 0.287\n",
      "Average Recall     (AR) @[ IoU=0.50:0.95 | area= large | maxDets=1000 ] = 0.531\n",
      "2021-05-12 12:26:43,517 - mmdet - INFO - Epoch [10][10/164]\tlr: 2.000e-03, eta: 0:05:43, time: 0.948, data_time: 0.253, memory: 6897, loss_rpn_cls: 0.0349, loss_rpn_bbox: 0.0506, loss_cls: 0.2612, acc: 91.5686, loss_bbox: 0.3038, loss: 0.6506, grad_norm: 1.5746\n",
      "2021-05-12 12:26:50,608 - mmdet - INFO - Epoch [10][20/164]\tlr: 2.000e-03, eta: 0:05:36, time: 0.709, data_time: 0.019, memory: 6897, loss_rpn_cls: 0.0332, loss_rpn_bbox: 0.0454, loss_cls: 0.2589, acc: 91.6431, loss_bbox: 0.3052, loss: 0.6427, grad_norm: 1.5867\n",
      "2021-05-12 12:26:57,802 - mmdet - INFO - Epoch [10][30/164]\tlr: 2.000e-03, eta: 0:05:28, time: 0.719, data_time: 0.019, memory: 6897, loss_rpn_cls: 0.0356, loss_rpn_bbox: 0.0526, loss_cls: 0.2719, acc: 91.3892, loss_bbox: 0.3158, loss: 0.6759, grad_norm: 1.6404\n",
      "2021-05-12 12:27:05,026 - mmdet - INFO - Epoch [10][40/164]\tlr: 2.000e-03, eta: 0:05:21, time: 0.722, data_time: 0.019, memory: 6897, loss_rpn_cls: 0.0338, loss_rpn_bbox: 0.0457, loss_cls: 0.2612, acc: 91.2720, loss_bbox: 0.3286, loss: 0.6693, grad_norm: 1.6344\n",
      "2021-05-12 12:27:12,232 - mmdet - INFO - Epoch [10][50/164]\tlr: 2.000e-03, eta: 0:05:14, time: 0.721, data_time: 0.019, memory: 6897, loss_rpn_cls: 0.0313, loss_rpn_bbox: 0.0436, loss_cls: 0.2439, acc: 92.0142, loss_bbox: 0.2901, loss: 0.6088, grad_norm: 1.5712\n",
      "2021-05-12 12:27:19,325 - mmdet - INFO - Epoch [10][60/164]\tlr: 2.000e-03, eta: 0:05:07, time: 0.709, data_time: 0.018, memory: 6897, loss_rpn_cls: 0.0356, loss_rpn_bbox: 0.0476, loss_cls: 0.2598, acc: 91.6528, loss_bbox: 0.3065, loss: 0.6495, grad_norm: 1.6154\n",
      "2021-05-12 12:27:26,404 - mmdet - INFO - Epoch [10][70/164]\tlr: 2.000e-03, eta: 0:05:00, time: 0.708, data_time: 0.018, memory: 6897, loss_rpn_cls: 0.0281, loss_rpn_bbox: 0.0396, loss_cls: 0.2681, acc: 91.2378, loss_bbox: 0.3205, loss: 0.6563, grad_norm: 1.6031\n",
      "2021-05-12 12:27:33,665 - mmdet - INFO - Epoch [10][80/164]\tlr: 2.000e-03, eta: 0:04:53, time: 0.726, data_time: 0.019, memory: 6897, loss_rpn_cls: 0.0393, loss_rpn_bbox: 0.0522, loss_cls: 0.2831, acc: 90.8594, loss_bbox: 0.3288, loss: 0.7035, grad_norm: 1.5900\n",
      "2021-05-12 12:27:40,837 - mmdet - INFO - Epoch [10][90/164]\tlr: 2.000e-03, eta: 0:04:46, time: 0.717, data_time: 0.019, memory: 6897, loss_rpn_cls: 0.0326, loss_rpn_bbox: 0.0450, loss_cls: 0.2502, acc: 92.0715, loss_bbox: 0.2873, loss: 0.6151, grad_norm: 1.5359\n",
      "2021-05-12 12:27:48,029 - mmdet - INFO - Epoch [10][100/164]\tlr: 2.000e-03, eta: 0:04:39, time: 0.719, data_time: 0.020, memory: 6897, loss_rpn_cls: 0.0381, loss_rpn_bbox: 0.0526, loss_cls: 0.2619, acc: 91.1755, loss_bbox: 0.3223, loss: 0.6750, grad_norm: 1.5946\n",
      "2021-05-12 12:27:55,090 - mmdet - INFO - Epoch [10][110/164]\tlr: 2.000e-03, eta: 0:04:32, time: 0.706, data_time: 0.019, memory: 6897, loss_rpn_cls: 0.0318, loss_rpn_bbox: 0.0447, loss_cls: 0.2436, acc: 91.9263, loss_bbox: 0.2948, loss: 0.6149, grad_norm: 1.5557\n",
      "2021-05-12 12:28:02,167 - mmdet - INFO - Epoch [10][120/164]\tlr: 2.000e-03, eta: 0:04:24, time: 0.708, data_time: 0.018, memory: 6897, loss_rpn_cls: 0.0359, loss_rpn_bbox: 0.0487, loss_cls: 0.2620, acc: 91.5430, loss_bbox: 0.3185, loss: 0.6651, grad_norm: 1.6603\n",
      "2021-05-12 12:28:09,253 - mmdet - INFO - Epoch [10][130/164]\tlr: 2.000e-03, eta: 0:04:17, time: 0.709, data_time: 0.018, memory: 6897, loss_rpn_cls: 0.0312, loss_rpn_bbox: 0.0481, loss_cls: 0.2567, acc: 91.3403, loss_bbox: 0.3022, loss: 0.6382, grad_norm: 1.5898\n",
      "2021-05-12 12:28:16,385 - mmdet - INFO - Epoch [10][140/164]\tlr: 2.000e-03, eta: 0:04:10, time: 0.713, data_time: 0.018, memory: 6897, loss_rpn_cls: 0.0414, loss_rpn_bbox: 0.0563, loss_cls: 0.2979, acc: 90.1184, loss_bbox: 0.3512, loss: 0.7468, grad_norm: 1.8320\n",
      "2021-05-12 12:28:23,495 - mmdet - INFO - Epoch [10][150/164]\tlr: 2.000e-03, eta: 0:04:03, time: 0.711, data_time: 0.019, memory: 6897, loss_rpn_cls: 0.0375, loss_rpn_bbox: 0.0516, loss_cls: 0.2709, acc: 91.0889, loss_bbox: 0.3148, loss: 0.6747, grad_norm: 1.6150\n",
      "2021-05-12 12:28:30,499 - mmdet - INFO - Epoch [10][160/164]\tlr: 2.000e-03, eta: 0:03:56, time: 0.700, data_time: 0.018, memory: 6897, loss_rpn_cls: 0.0274, loss_rpn_bbox: 0.0361, loss_cls: 0.2186, acc: 92.9480, loss_bbox: 0.2488, loss: 0.5308, grad_norm: 1.5102\n",
      "2021-05-12 12:28:33,361 - mmdet - INFO - Saving checkpoint at 10 epochs\n",
      "[>>>>>>>>>>>>>>>>>>>>>>>>>>>>>] 655/655, 34.5 task/s, elapsed: 19s, ETA:     0s2021-05-12 12:28:55,114 - mmdet - INFO - Evaluating bbox...\n",
      "Loading and preparing results...\n",
      "DONE (t=0.12s)\n",
      "creating index...\n",
      "index created!\n",
      "Running per image evaluation...\n",
      "Evaluate annotation type *bbox*\n",
      "DONE (t=6.09s).\n",
      "Accumulating evaluation results...\n",
      "2021-05-12 12:29:02,251 - mmdet - INFO - Epoch(val) [10][164]\tbbox_mAP: 0.1640, bbox_mAP_50: 0.2950, bbox_mAP_75: 0.1610, bbox_mAP_s: 0.0310, bbox_mAP_m: 0.1430, bbox_mAP_l: 0.3140, bbox_mAP_copypaste: 0.164 0.295 0.161 0.031 0.143 0.314\n",
      "DONE (t=0.84s).\n",
      "Average Precision  (AP) @[ IoU=0.50:0.95 | area=   all | maxDets=100 ] = 0.164\n",
      "Average Precision  (AP) @[ IoU=0.50      | area=   all | maxDets=1000 ] = 0.295\n",
      "Average Precision  (AP) @[ IoU=0.75      | area=   all | maxDets=1000 ] = 0.161\n",
      "Average Precision  (AP) @[ IoU=0.50:0.95 | area= small | maxDets=1000 ] = 0.031\n",
      "Average Precision  (AP) @[ IoU=0.50:0.95 | area=medium | maxDets=1000 ] = 0.143\n",
      "Average Precision  (AP) @[ IoU=0.50:0.95 | area= large | maxDets=1000 ] = 0.314\n",
      "Average Recall     (AR) @[ IoU=0.50:0.95 | area=   all | maxDets=100 ] = 0.307\n",
      "Average Recall     (AR) @[ IoU=0.50:0.95 | area=   all | maxDets=300 ] = 0.307\n",
      "Average Recall     (AR) @[ IoU=0.50:0.95 | area=   all | maxDets=1000 ] = 0.307\n",
      "Average Recall     (AR) @[ IoU=0.50:0.95 | area= small | maxDets=1000 ] = 0.087\n",
      "Average Recall     (AR) @[ IoU=0.50:0.95 | area=medium | maxDets=1000 ] = 0.281\n",
      "Average Recall     (AR) @[ IoU=0.50:0.95 | area= large | maxDets=1000 ] = 0.523\n",
      "2021-05-12 12:29:11,801 - mmdet - INFO - Epoch [11][10/164]\tlr: 2.000e-03, eta: 0:03:46, time: 0.954, data_time: 0.256, memory: 6897, loss_rpn_cls: 0.0381, loss_rpn_bbox: 0.0476, loss_cls: 0.2891, acc: 90.8508, loss_bbox: 0.3327, loss: 0.7075, grad_norm: 1.7152\n",
      "2021-05-12 12:29:18,892 - mmdet - INFO - Epoch [11][20/164]\tlr: 2.000e-03, eta: 0:03:39, time: 0.709, data_time: 0.019, memory: 6897, loss_rpn_cls: 0.0305, loss_rpn_bbox: 0.0495, loss_cls: 0.2759, acc: 90.9949, loss_bbox: 0.3280, loss: 0.6840, grad_norm: 1.6833\n",
      "2021-05-12 12:29:26,090 - mmdet - INFO - Epoch [11][30/164]\tlr: 2.000e-03, eta: 0:03:32, time: 0.720, data_time: 0.019, memory: 6897, loss_rpn_cls: 0.0360, loss_rpn_bbox: 0.0484, loss_cls: 0.2591, acc: 91.4575, loss_bbox: 0.3146, loss: 0.6581, grad_norm: 1.6656\n",
      "2021-05-12 12:29:33,179 - mmdet - INFO - Epoch [11][40/164]\tlr: 2.000e-03, eta: 0:03:24, time: 0.709, data_time: 0.018, memory: 6897, loss_rpn_cls: 0.0355, loss_rpn_bbox: 0.0486, loss_cls: 0.2682, acc: 91.3623, loss_bbox: 0.3126, loss: 0.6650, grad_norm: 1.6171\n",
      "2021-05-12 12:29:40,284 - mmdet - INFO - Epoch [11][50/164]\tlr: 2.000e-03, eta: 0:03:17, time: 0.710, data_time: 0.018, memory: 6897, loss_rpn_cls: 0.0349, loss_rpn_bbox: 0.0485, loss_cls: 0.2422, acc: 91.9299, loss_bbox: 0.3038, loss: 0.6294, grad_norm: 1.5901\n",
      "2021-05-12 12:29:47,371 - mmdet - INFO - Epoch [11][60/164]\tlr: 2.000e-03, eta: 0:03:10, time: 0.709, data_time: 0.019, memory: 6897, loss_rpn_cls: 0.0266, loss_rpn_bbox: 0.0433, loss_cls: 0.2265, acc: 92.6477, loss_bbox: 0.2731, loss: 0.5695, grad_norm: 1.5144\n",
      "2021-05-12 12:29:54,486 - mmdet - INFO - Epoch [11][70/164]\tlr: 2.000e-03, eta: 0:03:03, time: 0.712, data_time: 0.020, memory: 6897, loss_rpn_cls: 0.0325, loss_rpn_bbox: 0.0474, loss_cls: 0.2599, acc: 91.4258, loss_bbox: 0.3099, loss: 0.6497, grad_norm: 1.7205\n",
      "2021-05-12 12:30:01,583 - mmdet - INFO - Epoch [11][80/164]\tlr: 2.000e-03, eta: 0:02:56, time: 0.710, data_time: 0.021, memory: 6897, loss_rpn_cls: 0.0374, loss_rpn_bbox: 0.0543, loss_cls: 0.2703, acc: 91.1182, loss_bbox: 0.3230, loss: 0.6850, grad_norm: 1.6668\n",
      "2021-05-12 12:30:08,655 - mmdet - INFO - Epoch [11][90/164]\tlr: 2.000e-03, eta: 0:02:49, time: 0.707, data_time: 0.019, memory: 6897, loss_rpn_cls: 0.0245, loss_rpn_bbox: 0.0377, loss_cls: 0.2091, acc: 93.2959, loss_bbox: 0.2439, loss: 0.5151, grad_norm: 1.4869\n",
      "2021-05-12 12:30:15,760 - mmdet - INFO - Epoch [11][100/164]\tlr: 2.000e-03, eta: 0:02:42, time: 0.710, data_time: 0.018, memory: 6897, loss_rpn_cls: 0.0329, loss_rpn_bbox: 0.0427, loss_cls: 0.2588, acc: 91.7700, loss_bbox: 0.3057, loss: 0.6401, grad_norm: 1.7785\n",
      "2021-05-12 12:30:22,854 - mmdet - INFO - Epoch [11][110/164]\tlr: 2.000e-03, eta: 0:02:35, time: 0.709, data_time: 0.018, memory: 6897, loss_rpn_cls: 0.0377, loss_rpn_bbox: 0.0481, loss_cls: 0.2613, acc: 91.4233, loss_bbox: 0.3133, loss: 0.6603, grad_norm: 1.6074\n",
      "2021-05-12 12:30:29,970 - mmdet - INFO - Epoch [11][120/164]\tlr: 2.000e-03, eta: 0:02:28, time: 0.712, data_time: 0.019, memory: 6897, loss_rpn_cls: 0.0269, loss_rpn_bbox: 0.0399, loss_cls: 0.2243, acc: 92.6025, loss_bbox: 0.2627, loss: 0.5538, grad_norm: 1.5966\n",
      "2021-05-12 12:30:37,043 - mmdet - INFO - Epoch [11][130/164]\tlr: 2.000e-03, eta: 0:02:20, time: 0.707, data_time: 0.018, memory: 6897, loss_rpn_cls: 0.0323, loss_rpn_bbox: 0.0470, loss_cls: 0.2606, acc: 91.3721, loss_bbox: 0.3286, loss: 0.6685, grad_norm: 1.6484\n",
      "2021-05-12 12:30:44,244 - mmdet - INFO - Epoch [11][140/164]\tlr: 2.000e-03, eta: 0:02:13, time: 0.720, data_time: 0.019, memory: 6897, loss_rpn_cls: 0.0318, loss_rpn_bbox: 0.0443, loss_cls: 0.2509, acc: 91.7529, loss_bbox: 0.2899, loss: 0.6169, grad_norm: 1.6394\n",
      "2021-05-12 12:30:51,328 - mmdet - INFO - Epoch [11][150/164]\tlr: 2.000e-03, eta: 0:02:06, time: 0.708, data_time: 0.018, memory: 6897, loss_rpn_cls: 0.0312, loss_rpn_bbox: 0.0493, loss_cls: 0.2444, acc: 92.2571, loss_bbox: 0.2919, loss: 0.6167, grad_norm: 1.5548\n",
      "2021-05-12 12:30:58,416 - mmdet - INFO - Epoch [11][160/164]\tlr: 2.000e-03, eta: 0:01:59, time: 0.709, data_time: 0.018, memory: 6897, loss_rpn_cls: 0.0300, loss_rpn_bbox: 0.0448, loss_cls: 0.2458, acc: 91.7786, loss_bbox: 0.2956, loss: 0.6162, grad_norm: 1.7354\n",
      "2021-05-12 12:31:01,314 - mmdet - INFO - Saving checkpoint at 11 epochs\n",
      "[>>>>>>>>>>>>>>>>>>>>>>>>>>>>>] 655/655, 33.8 task/s, elapsed: 19s, ETA:     0s2021-05-12 12:31:23,406 - mmdet - INFO - Evaluating bbox...\n",
      "Loading and preparing results...\n",
      "DONE (t=0.58s)\n",
      "creating index...\n",
      "index created!\n",
      "Running per image evaluation...\n",
      "Evaluate annotation type *bbox*\n",
      "DONE (t=5.96s).\n",
      "Accumulating evaluation results...\n",
      "2021-05-12 12:31:30,835 - mmdet - INFO - Epoch(val) [11][164]\tbbox_mAP: 0.1720, bbox_mAP_50: 0.3070, bbox_mAP_75: 0.1670, bbox_mAP_s: 0.0320, bbox_mAP_m: 0.1470, bbox_mAP_l: 0.3170, bbox_mAP_copypaste: 0.172 0.307 0.167 0.032 0.147 0.317\n",
      "DONE (t=0.81s).\n",
      "Average Precision  (AP) @[ IoU=0.50:0.95 | area=   all | maxDets=100 ] = 0.172\n",
      "Average Precision  (AP) @[ IoU=0.50      | area=   all | maxDets=1000 ] = 0.307\n",
      "Average Precision  (AP) @[ IoU=0.75      | area=   all | maxDets=1000 ] = 0.167\n",
      "Average Precision  (AP) @[ IoU=0.50:0.95 | area= small | maxDets=1000 ] = 0.032\n",
      "Average Precision  (AP) @[ IoU=0.50:0.95 | area=medium | maxDets=1000 ] = 0.147\n",
      "Average Precision  (AP) @[ IoU=0.50:0.95 | area= large | maxDets=1000 ] = 0.317\n",
      "Average Recall     (AR) @[ IoU=0.50:0.95 | area=   all | maxDets=100 ] = 0.309\n",
      "Average Recall     (AR) @[ IoU=0.50:0.95 | area=   all | maxDets=300 ] = 0.309\n",
      "Average Recall     (AR) @[ IoU=0.50:0.95 | area=   all | maxDets=1000 ] = 0.309\n",
      "Average Recall     (AR) @[ IoU=0.50:0.95 | area= small | maxDets=1000 ] = 0.088\n",
      "Average Recall     (AR) @[ IoU=0.50:0.95 | area=medium | maxDets=1000 ] = 0.282\n",
      "Average Recall     (AR) @[ IoU=0.50:0.95 | area= large | maxDets=1000 ] = 0.528\n",
      "2021-05-12 12:31:40,316 - mmdet - INFO - Epoch [12][10/164]\tlr: 2.000e-04, eta: 0:01:49, time: 0.947, data_time: 0.253, memory: 6897, loss_rpn_cls: 0.0259, loss_rpn_bbox: 0.0396, loss_cls: 0.2242, acc: 92.9272, loss_bbox: 0.2617, loss: 0.5514, grad_norm: 1.5273\n",
      "2021-05-12 12:31:47,416 - mmdet - INFO - Epoch [12][20/164]\tlr: 2.000e-04, eta: 0:01:42, time: 0.710, data_time: 0.018, memory: 6897, loss_rpn_cls: 0.0337, loss_rpn_bbox: 0.0542, loss_cls: 0.2681, acc: 91.0913, loss_bbox: 0.3309, loss: 0.6869, grad_norm: 1.6629\n",
      "2021-05-12 12:31:54,505 - mmdet - INFO - Epoch [12][30/164]\tlr: 2.000e-04, eta: 0:01:35, time: 0.709, data_time: 0.018, memory: 6897, loss_rpn_cls: 0.0255, loss_rpn_bbox: 0.0416, loss_cls: 0.2432, acc: 91.7334, loss_bbox: 0.3083, loss: 0.6186, grad_norm: 1.5759\n",
      "2021-05-12 12:32:01,569 - mmdet - INFO - Epoch [12][40/164]\tlr: 2.000e-04, eta: 0:01:28, time: 0.706, data_time: 0.018, memory: 6897, loss_rpn_cls: 0.0303, loss_rpn_bbox: 0.0409, loss_cls: 0.2300, acc: 92.4646, loss_bbox: 0.2567, loss: 0.5578, grad_norm: 1.5646\n",
      "2021-05-12 12:32:08,649 - mmdet - INFO - Epoch [12][50/164]\tlr: 2.000e-04, eta: 0:01:21, time: 0.708, data_time: 0.018, memory: 6897, loss_rpn_cls: 0.0301, loss_rpn_bbox: 0.0465, loss_cls: 0.2441, acc: 91.9836, loss_bbox: 0.2933, loss: 0.6140, grad_norm: 1.4773\n",
      "2021-05-12 12:32:15,741 - mmdet - INFO - Epoch [12][60/164]\tlr: 2.000e-04, eta: 0:01:13, time: 0.709, data_time: 0.018, memory: 6897, loss_rpn_cls: 0.0298, loss_rpn_bbox: 0.0457, loss_cls: 0.2445, acc: 91.8188, loss_bbox: 0.3055, loss: 0.6255, grad_norm: 1.5533\n",
      "2021-05-12 12:32:22,864 - mmdet - INFO - Epoch [12][70/164]\tlr: 2.000e-04, eta: 0:01:06, time: 0.712, data_time: 0.019, memory: 6897, loss_rpn_cls: 0.0325, loss_rpn_bbox: 0.0506, loss_cls: 0.2450, acc: 91.8115, loss_bbox: 0.3006, loss: 0.6288, grad_norm: 1.5611\n",
      "2021-05-12 12:32:29,988 - mmdet - INFO - Epoch [12][80/164]\tlr: 2.000e-04, eta: 0:00:59, time: 0.712, data_time: 0.020, memory: 6897, loss_rpn_cls: 0.0302, loss_rpn_bbox: 0.0496, loss_cls: 0.2721, acc: 91.0901, loss_bbox: 0.3223, loss: 0.6743, grad_norm: 1.6918\n",
      "2021-05-12 12:32:37,142 - mmdet - INFO - Epoch [12][90/164]\tlr: 2.000e-04, eta: 0:00:52, time: 0.715, data_time: 0.019, memory: 6897, loss_rpn_cls: 0.0383, loss_rpn_bbox: 0.0542, loss_cls: 0.2878, acc: 90.4785, loss_bbox: 0.3573, loss: 0.7376, grad_norm: 1.6404\n",
      "2021-05-12 12:32:44,246 - mmdet - INFO - Epoch [12][100/164]\tlr: 2.000e-04, eta: 0:00:45, time: 0.710, data_time: 0.018, memory: 6897, loss_rpn_cls: 0.0256, loss_rpn_bbox: 0.0436, loss_cls: 0.2330, acc: 92.1729, loss_bbox: 0.2877, loss: 0.5899, grad_norm: 1.5358\n",
      "2021-05-12 12:32:51,322 - mmdet - INFO - Epoch [12][110/164]\tlr: 2.000e-04, eta: 0:00:38, time: 0.708, data_time: 0.019, memory: 6897, loss_rpn_cls: 0.0238, loss_rpn_bbox: 0.0363, loss_cls: 0.2248, acc: 92.5891, loss_bbox: 0.2753, loss: 0.5602, grad_norm: 1.4383\n",
      "2021-05-12 12:32:58,439 - mmdet - INFO - Epoch [12][120/164]\tlr: 2.000e-04, eta: 0:00:31, time: 0.712, data_time: 0.018, memory: 6897, loss_rpn_cls: 0.0272, loss_rpn_bbox: 0.0407, loss_cls: 0.2200, acc: 92.6013, loss_bbox: 0.2727, loss: 0.5606, grad_norm: 1.4712\n",
      "2021-05-12 12:33:05,587 - mmdet - INFO - Epoch [12][130/164]\tlr: 2.000e-04, eta: 0:00:24, time: 0.715, data_time: 0.018, memory: 6897, loss_rpn_cls: 0.0319, loss_rpn_bbox: 0.0498, loss_cls: 0.2546, acc: 91.4832, loss_bbox: 0.3088, loss: 0.6451, grad_norm: 1.5658\n",
      "2021-05-12 12:33:12,763 - mmdet - INFO - Epoch [12][140/164]\tlr: 2.000e-04, eta: 0:00:17, time: 0.718, data_time: 0.019, memory: 6897, loss_rpn_cls: 0.0296, loss_rpn_bbox: 0.0456, loss_cls: 0.2559, acc: 91.9238, loss_bbox: 0.3004, loss: 0.6315, grad_norm: 1.6528\n",
      "2021-05-12 12:33:19,876 - mmdet - INFO - Epoch [12][150/164]\tlr: 2.000e-04, eta: 0:00:09, time: 0.711, data_time: 0.019, memory: 6897, loss_rpn_cls: 0.0328, loss_rpn_bbox: 0.0495, loss_cls: 0.2620, acc: 91.4307, loss_bbox: 0.3203, loss: 0.6647, grad_norm: 1.6761\n",
      "2021-05-12 12:33:27,002 - mmdet - INFO - Epoch [12][160/164]\tlr: 2.000e-04, eta: 0:00:02, time: 0.713, data_time: 0.019, memory: 6897, loss_rpn_cls: 0.0287, loss_rpn_bbox: 0.0425, loss_cls: 0.2485, acc: 91.8860, loss_bbox: 0.2924, loss: 0.6122, grad_norm: 1.5585\n",
      "2021-05-12 12:33:29,864 - mmdet - INFO - Saving checkpoint at 12 epochs\n",
      "[>>>>>>>>>>>>>>>>>>>>>>>>>>>>>] 655/655, 34.5 task/s, elapsed: 19s, ETA:     0s2021-05-12 12:33:51,621 - mmdet - INFO - Evaluating bbox...\n",
      "Loading and preparing results...\n",
      "DONE (t=0.60s)\n",
      "creating index...\n",
      "index created!\n",
      "Running per image evaluation...\n",
      "Evaluate annotation type *bbox*\n",
      "DONE (t=5.51s).\n",
      "Accumulating evaluation results...\n",
      "2021-05-12 12:33:58,652 - mmdet - INFO - Epoch(val) [12][164]\tbbox_mAP: 0.1730, bbox_mAP_50: 0.3130, bbox_mAP_75: 0.1680, bbox_mAP_s: 0.0320, bbox_mAP_m: 0.1560, bbox_mAP_l: 0.3210, bbox_mAP_copypaste: 0.173 0.313 0.168 0.032 0.156 0.321\n",
      "DONE (t=0.84s).\n",
      "Average Precision  (AP) @[ IoU=0.50:0.95 | area=   all | maxDets=100 ] = 0.173\n",
      "Average Precision  (AP) @[ IoU=0.50      | area=   all | maxDets=1000 ] = 0.313\n",
      "Average Precision  (AP) @[ IoU=0.75      | area=   all | maxDets=1000 ] = 0.168\n",
      "Average Precision  (AP) @[ IoU=0.50:0.95 | area= small | maxDets=1000 ] = 0.032\n",
      "Average Precision  (AP) @[ IoU=0.50:0.95 | area=medium | maxDets=1000 ] = 0.156\n",
      "Average Precision  (AP) @[ IoU=0.50:0.95 | area= large | maxDets=1000 ] = 0.321\n",
      "Average Recall     (AR) @[ IoU=0.50:0.95 | area=   all | maxDets=100 ] = 0.321\n",
      "Average Recall     (AR) @[ IoU=0.50:0.95 | area=   all | maxDets=300 ] = 0.321\n",
      "Average Recall     (AR) @[ IoU=0.50:0.95 | area=   all | maxDets=1000 ] = 0.321\n",
      "Average Recall     (AR) @[ IoU=0.50:0.95 | area= small | maxDets=1000 ] = 0.091\n",
      "Average Recall     (AR) @[ IoU=0.50:0.95 | area=medium | maxDets=1000 ] = 0.288\n",
      "Average Recall     (AR) @[ IoU=0.50:0.95 | area= large | maxDets=1000 ] = 0.541\n"
     ]
    },
    {
     "output_type": "display_data",
     "data": {
      "text/plain": "<IPython.core.display.HTML object>",
      "text/html": "<br/>Waiting for W&B process to finish, PID 23904<br/>Program ended successfully."
     },
     "metadata": {}
    },
    {
     "output_type": "display_data",
     "data": {
      "text/plain": "VBox(children=(Label(value=' 0.00MB of 0.00MB uploaded (0.00MB deduped)\\r'), FloatProgress(value=1.0, max=1.0)…",
      "application/vnd.jupyter.widget-view+json": {
       "version_major": 2,
       "version_minor": 0,
       "model_id": "bc1cdbb1f99f4d108a7a78cfbee053d1"
      }
     },
     "metadata": {}
    },
    {
     "output_type": "display_data",
     "data": {
      "text/plain": "<IPython.core.display.HTML object>",
      "text/html": "Find user logs for this run at: <code>/opt/ml/p3-ims-obd-hansarang/gjtak_works/Object Detection/code/mmdetection_trash/notebooks/wandb/run-20210512_120359-11ckhm1c/logs/debug.log</code>"
     },
     "metadata": {}
    },
    {
     "output_type": "display_data",
     "data": {
      "text/plain": "<IPython.core.display.HTML object>",
      "text/html": "Find internal logs for this run at: <code>/opt/ml/p3-ims-obd-hansarang/gjtak_works/Object Detection/code/mmdetection_trash/notebooks/wandb/run-20210512_120359-11ckhm1c/logs/debug-internal.log</code>"
     },
     "metadata": {}
    },
    {
     "output_type": "display_data",
     "data": {
      "text/plain": "<IPython.core.display.HTML object>",
      "text/html": "<h3>Run summary:</h3><br/><style>\n    table.wandb td:nth-child(1) { padding: 0 10px; text-align: right }\n    </style><table class=\"wandb\">\n<tr><td>train/loss_rpn_cls</td><td>0.02873</td></tr><tr><td>train/loss_rpn_bbox</td><td>0.04247</td></tr><tr><td>train/loss_cls</td><td>0.24855</td></tr><tr><td>train/acc</td><td>91.88599</td></tr><tr><td>train/loss_bbox</td><td>0.29243</td></tr><tr><td>train/loss</td><td>0.61218</td></tr><tr><td>train/grad_norm</td><td>1.55846</td></tr><tr><td>learning_rate</td><td>0.0002</td></tr><tr><td>momentum</td><td>0.9</td></tr><tr><td>_runtime</td><td>1799</td></tr><tr><td>_timestamp</td><td>1620822838</td></tr><tr><td>_step</td><td>1969</td></tr><tr><td>val/bbox_mAP</td><td>0.173</td></tr><tr><td>val/bbox_mAP_50</td><td>0.313</td></tr><tr><td>val/bbox_mAP_75</td><td>0.168</td></tr><tr><td>val/bbox_mAP_s</td><td>0.032</td></tr><tr><td>val/bbox_mAP_m</td><td>0.156</td></tr><tr><td>val/bbox_mAP_l</td><td>0.321</td></tr></table>"
     },
     "metadata": {}
    },
    {
     "output_type": "display_data",
     "data": {
      "text/plain": "<IPython.core.display.HTML object>",
      "text/html": "<h3>Run history:</h3><br/><style>\n    table.wandb td:nth-child(1) { padding: 0 10px; text-align: right }\n    </style><table class=\"wandb\">\n<tr><td>train/loss_rpn_cls</td><td>█▄▃▃▂▂▂▂▂▂▂▂▂▂▂▂▂▂▂▁▁▁▁▁▁▁▁▁▁▁▁▁▁▁▁▁▁▁▁▁</td></tr><tr><td>train/loss_rpn_bbox</td><td>▅█▇▇▅▆▇▅▃▅▄▃▄▅▄▄▃▄▄▃▄▄▄▃▃▃▃▃▂▁▂▃▂▂▁▁▂▂▁▂</td></tr><tr><td>train/loss_cls</td><td>▄██▇▇▆▇▆▅▆▆▅▅▆▅▅▅▄▅▄▄▅▅▃▄▄▃▄▃▂▂▃▂▃▁▁▂▂▁▂</td></tr><tr><td>train/acc</td><td>█▃▂▂▁▂▂▁▂▁▁▂▂▁▂▂▂▃▂▃▂▁▂▃▂▂▃▂▃▄▃▃▃▃▄▄▄▄▄▄</td></tr><tr><td>train/loss_bbox</td><td>▁▆▇██▇▇▇▇█▇▇▆▇▇▇▆▆▇▆▇▇▇▆▇▆▆▇▆▅▆▆▆▆▅▅▅▆▅▅</td></tr><tr><td>train/loss</td><td>▇█▇▇▇▆▆▆▅▆▅▅▄▅▄▄▄▃▅▃▄▄▄▃▄▃▃▃▃▁▂▃▂▂▁▁▂▂▁▂</td></tr><tr><td>train/grad_norm</td><td>▆▃▂▄█▄▃▃▃▃▅▃▂▃▃▂▂▃▅▂▂▃▃▂▃▃▃▁▁▁▁▁▂▂▁▁▂▁▁▂</td></tr><tr><td>learning_rate</td><td>▁▂▃▃▄▅▅▆▇██████████████████▂▂▂▂▂▂▂▂▂▁▁▁▁</td></tr><tr><td>momentum</td><td>▁▁▁▁▁▁▁▁▁▁▁▁▁▁▁▁▁▁▁▁▁▁▁▁▁▁▁▁▁▁▁▁▁▁▁▁▁▁▁▁</td></tr><tr><td>_runtime</td><td>▁▁▁▁▂▂▂▂▂▃▃▃▃▃▃▄▄▄▄▄▅▅▅▅▅▅▆▆▆▆▆▇▇▇▇▇▇███</td></tr><tr><td>_timestamp</td><td>▁▁▁▁▂▂▂▂▂▃▃▃▃▃▃▄▄▄▄▄▅▅▅▅▅▅▆▆▆▆▆▇▇▇▇▇▇███</td></tr><tr><td>_step</td><td>▁▁▁▂▂▂▂▂▂▃▃▃▃▃▃▄▄▄▄▄▅▅▅▅▅▅▆▆▆▆▆▇▇▇▇▇▇███</td></tr><tr><td>val/bbox_mAP</td><td>▁▃▃▄▄▆▆▆████</td></tr><tr><td>val/bbox_mAP_50</td><td>▁▃▄▄▃▆▇▆████</td></tr><tr><td>val/bbox_mAP_75</td><td>▁▃▃▃▄▅▆▆████</td></tr><tr><td>val/bbox_mAP_s</td><td>▁▂▃▄▄▅▇▆████</td></tr><tr><td>val/bbox_mAP_m</td><td>▁▂▃▄▃▆▆▆█▇██</td></tr><tr><td>val/bbox_mAP_l</td><td>▁▃▃▄▄▅▆▆████</td></tr></table><br/>"
     },
     "metadata": {}
    },
    {
     "output_type": "display_data",
     "data": {
      "text/plain": "<IPython.core.display.HTML object>",
      "text/html": "Synced 4 W&B file(s), 0 media file(s), 0 artifact file(s) and 0 other file(s)"
     },
     "metadata": {}
    },
    {
     "output_type": "display_data",
     "data": {
      "text/plain": "<IPython.core.display.HTML object>",
      "text/html": "\n                    <br/>Synced <strong style=\"color:#cdcd00\">faster_rcnn_r50_fpn_1x_coco</strong>: <a href=\"https://wandb.ai/pstage3_det/gjtak/runs/11ckhm1c\" target=\"_blank\">https://wandb.ai/pstage3_det/gjtak/runs/11ckhm1c</a><br/>\n                "
     },
     "metadata": {}
    }
   ],
   "source": [
    "train_detector(model, datasets[0], cfg, distributed=False, validate=True)"
   ]
  },
  {
   "source": [
    "## \\[option\\] check inference result picture"
   ],
   "cell_type": "markdown",
   "metadata": {}
  },
  {
   "cell_type": "markdown",
   "metadata": {},
   "source": [
    "## Inference part"
   ]
  },
  {
   "cell_type": "code",
   "execution_count": 12,
   "metadata": {},
   "outputs": [],
   "source": [
    "epoch = cfg.runner.max_epochs\n",
    "cfg.model.train_cfg = None\n",
    "\n",
    "# checkpoint path\n",
    "checkpoint_path = os.path.join(cfg.work_dir, f'epoch_{epoch}.pth')"
   ]
  },
  {
   "cell_type": "code",
   "execution_count": 13,
   "metadata": {},
   "outputs": [
    {
     "output_type": "stream",
     "name": "stdout",
     "text": [
      "loading annotations into memory...\nDone (t=0.01s)\ncreating index...\nindex created!\n"
     ]
    }
   ],
   "source": [
    "dataset = build_dataset(cfg.data.test)\n",
    "data_loader = build_dataloader(\n",
    "        dataset,\n",
    "        samples_per_gpu=1,\n",
    "        workers_per_gpu=cfg.data.workers_per_gpu,\n",
    "        dist=False,\n",
    "        shuffle=False)"
   ]
  },
  {
   "cell_type": "code",
   "execution_count": 14,
   "metadata": {},
   "outputs": [
    {
     "output_type": "stream",
     "name": "stderr",
     "text": [
      "2021-05-12 12:34:04,620 - mmdet - INFO - load model from: torchvision://resnet50\n",
      "2021-05-12 12:34:04,621 - mmdet - INFO - Use load_from_torchvision loader\n",
      "2021-05-12 12:34:04,849 - mmdet - WARNING - The model and loaded state dict do not match exactly\n",
      "\n",
      "unexpected key in source state_dict: fc.weight, fc.bias\n",
      "\n",
      "Use load_from_local loader\n"
     ]
    }
   ],
   "source": [
    "model = build_detector(cfg.model, test_cfg=cfg.get('test_cfg'))\n",
    "checkpoint = load_checkpoint(model, checkpoint_path, map_location='cpu')\n",
    "\n",
    "model.CLASSES = dataset.CLASSES\n",
    "model = MMDataParallel(model.cuda(), device_ids=[0])"
   ]
  },
  {
   "cell_type": "code",
   "execution_count": null,
   "metadata": {},
   "outputs": [],
   "source": [
    "img = '/opt/ml/input/data/batch_01_vt/1259.jpg'\n",
    "result = inference_detector(model, img)\n",
    "# show the results\n",
    "show_result_pyplot(model, img, result)"
   ]
  },
  {
   "cell_type": "code",
   "execution_count": 15,
   "metadata": {},
   "outputs": [
    {
     "output_type": "stream",
     "name": "stdout",
     "text": [
      "[>>>>>>>>>>>>>>>>>>>>>>>>>>>>>] 837/837, 35.1 task/s, elapsed: 24s, ETA:     0s"
     ]
    }
   ],
   "source": [
    "output = single_gpu_test(model, data_loader, show_score_thr=0.05)"
   ]
  },
  {
   "cell_type": "code",
   "execution_count": 16,
   "metadata": {},
   "outputs": [
    {
     "output_type": "stream",
     "name": "stdout",
     "text": [
      "loading annotations into memory...\nDone (t=0.01s)\ncreating index...\nindex created!\n"
     ]
    },
    {
     "output_type": "execute_result",
     "data": {
      "text/plain": [
       "                                    PredictionString              image_id\n",
       "0  1 0.7910051 166.29288 72.28441 258.1669 162.39...  batch_01_vt/0021.jpg\n",
       "1  1 0.11672539 0.0 254.27222 278.9244 457.78162 ...  batch_01_vt/0028.jpg\n",
       "2  1 0.5059585 102.46115 159.92076 377.29037 372....  batch_01_vt/0031.jpg\n",
       "3  8 0.9910874 28.70813 229.26047 268.64853 373.9...  batch_01_vt/0032.jpg\n",
       "4  1 0.37863806 379.50616 253.739 496.26514 351.7...  batch_01_vt/0070.jpg"
      ],
      "text/html": "<div>\n<style scoped>\n    .dataframe tbody tr th:only-of-type {\n        vertical-align: middle;\n    }\n\n    .dataframe tbody tr th {\n        vertical-align: top;\n    }\n\n    .dataframe thead th {\n        text-align: right;\n    }\n</style>\n<table border=\"1\" class=\"dataframe\">\n  <thead>\n    <tr style=\"text-align: right;\">\n      <th></th>\n      <th>PredictionString</th>\n      <th>image_id</th>\n    </tr>\n  </thead>\n  <tbody>\n    <tr>\n      <th>0</th>\n      <td>1 0.7910051 166.29288 72.28441 258.1669 162.39...</td>\n      <td>batch_01_vt/0021.jpg</td>\n    </tr>\n    <tr>\n      <th>1</th>\n      <td>1 0.11672539 0.0 254.27222 278.9244 457.78162 ...</td>\n      <td>batch_01_vt/0028.jpg</td>\n    </tr>\n    <tr>\n      <th>2</th>\n      <td>1 0.5059585 102.46115 159.92076 377.29037 372....</td>\n      <td>batch_01_vt/0031.jpg</td>\n    </tr>\n    <tr>\n      <th>3</th>\n      <td>8 0.9910874 28.70813 229.26047 268.64853 373.9...</td>\n      <td>batch_01_vt/0032.jpg</td>\n    </tr>\n    <tr>\n      <th>4</th>\n      <td>1 0.37863806 379.50616 253.739 496.26514 351.7...</td>\n      <td>batch_01_vt/0070.jpg</td>\n    </tr>\n  </tbody>\n</table>\n</div>"
     },
     "metadata": {},
     "execution_count": 16
    }
   ],
   "source": [
    "prediction_strings = []\n",
    "file_names = []\n",
    "coco = COCO(cfg.data.test.ann_file)\n",
    "imag_ids = coco.getImgIds()\n",
    "\n",
    "class_num = 11\n",
    "for i, out in enumerate(output):\n",
    "    prediction_string = ''\n",
    "    image_info = coco.loadImgs(coco.getImgIds(imgIds=i))[0]\n",
    "    for j in range(class_num):\n",
    "        for o in out[j]:\n",
    "            prediction_string += str(j) + ' ' + str(o[4]) + ' ' + str(o[0]) + ' ' + str(o[1]) + ' ' + str(\n",
    "                o[2]) + ' ' + str(o[3]) + ' '\n",
    "        \n",
    "    prediction_strings.append(prediction_string)\n",
    "    file_names.append(image_info['file_name'])\n",
    "\n",
    "\n",
    "submission = pd.DataFrame()\n",
    "submission['PredictionString'] = prediction_strings\n",
    "submission['image_id'] = file_names\n",
    "submission.to_csv(os.path.join(cfg.work_dir, 'submission_'+config_file_name+f'_{epoch}.csv'), index=None)\n",
    "submission.head()"
   ]
  },
  {
   "cell_type": "code",
   "execution_count": null,
   "metadata": {},
   "outputs": [],
   "source": []
  }
 ],
 "metadata": {
  "kernelspec": {
   "name": "python377jvsc74a57bd098b0a9b7b4eaaa670588a142fd0a9b87eaafe866f1db4228be72b4211d12040f",
   "display_name": "Python 3.7.7 64-bit ('conda': virtualenv)"
  },
  "language_info": {
   "codemirror_mode": {
    "name": "ipython",
    "version": 3
   },
   "file_extension": ".py",
   "mimetype": "text/x-python",
   "name": "python",
   "nbconvert_exporter": "python",
   "pygments_lexer": "ipython3",
   "version": "3.7.7"
  },
  "pycharm": {
   "stem_cell": {
    "cell_type": "raw",
    "metadata": {
     "collapsed": false
    },
    "source": []
   }
  }
 },
 "nbformat": 4,
 "nbformat_minor": 4
}