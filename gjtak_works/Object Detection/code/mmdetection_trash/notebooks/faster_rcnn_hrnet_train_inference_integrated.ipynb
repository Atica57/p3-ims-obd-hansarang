{
 "cells": [
  {
   "cell_type": "code",
   "execution_count": 1,
   "metadata": {},
   "outputs": [
    {
     "output_type": "stream",
     "name": "stdout",
     "text": [
      "Wed May 12 13:28:53 2021       \n+-----------------------------------------------------------------------------+\n| NVIDIA-SMI 418.67       Driver Version: 418.67       CUDA Version: 10.1     |\n|-------------------------------+----------------------+----------------------+\n| GPU  Name        Persistence-M| Bus-Id        Disp.A | Volatile Uncorr. ECC |\n| Fan  Temp  Perf  Pwr:Usage/Cap|         Memory-Usage | GPU-Util  Compute M. |\n|===============================+======================+======================|\n|   0  Tesla V100-PCIE...  On   | 00000000:00:05.0 Off |                  Off |\n| N/A   40C    P0    29W / 250W |      0MiB / 32480MiB |      0%      Default |\n+-------------------------------+----------------------+----------------------+\n                                                                               \n+-----------------------------------------------------------------------------+\n| Processes:                                                       GPU Memory |\n|  GPU       PID   Type   Process name                             Usage      |\n|=============================================================================|\n|  No running processes found                                                 |\n+-----------------------------------------------------------------------------+\n"
     ]
    }
   ],
   "source": [
    "!nvidia-smi"
   ]
  },
  {
   "cell_type": "code",
   "execution_count": 2,
   "metadata": {
    "pycharm": {
     "name": "#%%\n"
    }
   },
   "outputs": [],
   "source": [
    "import os, time\n",
    "import mmcv\n",
    "from mmcv import Config\n",
    "from mmdet.datasets import (build_dataloader, build_dataset, replace_ImageToTensor) # 앞의 2개 --> mmdet/datasets/builder.py에 존재 / 마지막 1개 --> \n",
    "from mmdet.models import build_detector #mmdet/models/builder.py에 존재\n",
    "from mmdet.apis import train_detector, single_gpu_test # mmdet/apis/train.py, test.py에 존재\n",
    "from mmcv.runner import load_checkpoint\n",
    "from mmcv.parallel import MMDataParallel\n",
    "import pandas as pd\n",
    "from pandas import DataFrame\n",
    "from pycocotools.coco import COCO\n",
    "import numpy as np\n",
    "import json, wandb"
   ]
  },
  {
   "cell_type": "markdown",
   "metadata": {},
   "source": [
    "## train part"
   ]
  },
  {
   "cell_type": "code",
   "execution_count": 3,
   "metadata": {
    "pycharm": {
     "name": "#%%\n"
    }
   },
   "outputs": [],
   "source": [
    "classes = (\"UNKNOWN\", \"General trash\", \"Paper\", \"Paper pack\", \"Metal\", \"Glass\", \n",
    "           \"Plastic\", \"Styrofoam\", \"Plastic bag\", \"Battery\", \"Clothing\")\n",
    "# config file 들고오기\n",
    "#cfg = Config.fromfile('../configs/faster_rcnn/faster_rcnn_r50_fpn_1x_coco.py')\n",
    "#파일 교체 시 여기 이름 바꾸기\n",
    "config_dir_name = 'hrnet'\n",
    "config_file_name = 'faster_rcnn_hrnetv2p_w40_2x_coco'\n",
    "cfg = Config.fromfile('../configs/'+config_dir_name+'/'+config_file_name+'.py')\n",
    "\n",
    "PREFIX = '/opt/ml/input/data/'\n",
    "\n",
    "# dataset 바꾸기\n",
    "cfg.data.train.classes = classes\n",
    "cfg.data.train.img_prefix = PREFIX\n",
    "cfg.data.train.ann_file = PREFIX + 'train.json'\n",
    "cfg.data.train.pipeline[2]['img_scale'] = (512, 512)\n",
    "\n",
    "cfg.data.val.classes = classes\n",
    "cfg.data.val.img_prefix = PREFIX\n",
    "cfg.data.val.ann_file = PREFIX + 'val.json'\n",
    "cfg.data.val.pipeline[1]['img_scale'] = (512, 512)\n",
    "\n",
    "cfg.data.test.classes = classes\n",
    "cfg.data.test.img_prefix = PREFIX\n",
    "cfg.data.test.ann_file = PREFIX + 'test.json'\n",
    "cfg.data.test.pipeline[1]['img_scale'] = (512, 512)\n",
    "\n",
    "cfg.data.samples_per_gpu = 16    #batch size\n",
    "\n",
    "cfg.seed=42 #42로 고정\n",
    "cfg.gpu_ids = [0]\n",
    "\n",
    "cfg.model.roi_head.bbox_head.num_classes = 11\n",
    "\n",
    "cfg.optimizer_config.grad_clip = dict(max_norm=35, norm_type=2)\n",
    "\n",
    "#working directory 이름 설정\n",
    "working_dir_name = '../work_dirs/' + config_file_name +'_'+str(cfg.runner.max_epochs)\n",
    "cfg.work_dir = working_dir_name\n"
   ]
  },
  {
   "source": [
    "## wandb setting"
   ],
   "cell_type": "markdown",
   "metadata": {}
  },
  {
   "cell_type": "code",
   "execution_count": 4,
   "metadata": {},
   "outputs": [],
   "source": [
    "group_name = 'hrnet'; project_name = 'gjtak'; run_name = config_file_name\n",
    "config_list = {\n",
    "    'epoch' : cfg.runner.max_epochs,\n",
    "    'batch_size' :  cfg.data.samples_per_gpu,\n",
    "    'optimizer' : cfg.optimizer,\n",
    "    'optimizer_config' : cfg.optimizer_config,\n",
    "    'lr_config' : cfg.lr_config\n",
    "}\n",
    "cfg.log_config.hooks[1].init_kwargs['group']=group_name # group name(option)\n",
    "cfg.log_config.hooks[1].init_kwargs['name'] = run_name # run name\n",
    "cfg.log_config.hooks[1].init_kwargs['config'] = config_list # config"
   ]
  },
  {
   "source": [
    "### config 저장"
   ],
   "cell_type": "markdown",
   "metadata": {}
  },
  {
   "cell_type": "code",
   "execution_count": 5,
   "metadata": {},
   "outputs": [],
   "source": [
    "# config 객체 -> 파일(json)로 저장(저장 장소 = working directory와 같이)\n",
    "#working directory 없으면 생성하기\n",
    "try:\n",
    "    if not os.path.exists(working_dir_name):\n",
    "        os.makedirs(working_dir_name)\n",
    "except OSError :\n",
    "    print('Error: Creating directory :: ' + working_dir_name)\n",
    "\n",
    "#cfg 객체 -> string(str이용) -> dict(eval이용) -> json 으로 저장\n",
    "cfg_str = str(cfg)[str(cfg).find(')')+3:]\n",
    "cfg_dict = eval(cfg_str)\n",
    "with open(working_dir_name+'/config.json','w') as config_json_file :\n",
    "    json.dump(cfg_dict, config_json_file, indent=\"\\t\")\n"
   ]
  },
  {
   "cell_type": "code",
   "execution_count": 6,
   "metadata": {},
   "outputs": [],
   "source": [
    "#config 저장 확인\n",
    "with open(working_dir_name+'/config.json', 'r') as f :\n",
    "    json_data = json.load(f)\n",
    "#json_data"
   ]
  },
  {
   "cell_type": "code",
   "execution_count": 7,
   "metadata": {
    "pycharm": {
     "name": "#%%\n"
    }
   },
   "outputs": [
    {
     "output_type": "stream",
     "name": "stderr",
     "text": [
      "2021-05-12 13:29:04,119 - mmdet - INFO - load model from: open-mmlab://msra/hrnetv2_w40\n",
      "2021-05-12 13:29:04,120 - mmdet - INFO - Use load_from_openmmlab loader\n",
      "2021-05-12 13:29:04,792 - mmdet - WARNING - The model and loaded state dict do not match exactly\n",
      "\n",
      "unexpected key in source state_dict: incre_modules.0.0.conv1.weight, incre_modules.0.0.bn1.weight, incre_modules.0.0.bn1.bias, incre_modules.0.0.bn1.running_mean, incre_modules.0.0.bn1.running_var, incre_modules.0.0.bn1.num_batches_tracked, incre_modules.0.0.conv2.weight, incre_modules.0.0.bn2.weight, incre_modules.0.0.bn2.bias, incre_modules.0.0.bn2.running_mean, incre_modules.0.0.bn2.running_var, incre_modules.0.0.bn2.num_batches_tracked, incre_modules.0.0.conv3.weight, incre_modules.0.0.bn3.weight, incre_modules.0.0.bn3.bias, incre_modules.0.0.bn3.running_mean, incre_modules.0.0.bn3.running_var, incre_modules.0.0.bn3.num_batches_tracked, incre_modules.0.0.downsample.0.weight, incre_modules.0.0.downsample.1.weight, incre_modules.0.0.downsample.1.bias, incre_modules.0.0.downsample.1.running_mean, incre_modules.0.0.downsample.1.running_var, incre_modules.0.0.downsample.1.num_batches_tracked, incre_modules.1.0.conv1.weight, incre_modules.1.0.bn1.weight, incre_modules.1.0.bn1.bias, incre_modules.1.0.bn1.running_mean, incre_modules.1.0.bn1.running_var, incre_modules.1.0.bn1.num_batches_tracked, incre_modules.1.0.conv2.weight, incre_modules.1.0.bn2.weight, incre_modules.1.0.bn2.bias, incre_modules.1.0.bn2.running_mean, incre_modules.1.0.bn2.running_var, incre_modules.1.0.bn2.num_batches_tracked, incre_modules.1.0.conv3.weight, incre_modules.1.0.bn3.weight, incre_modules.1.0.bn3.bias, incre_modules.1.0.bn3.running_mean, incre_modules.1.0.bn3.running_var, incre_modules.1.0.bn3.num_batches_tracked, incre_modules.1.0.downsample.0.weight, incre_modules.1.0.downsample.1.weight, incre_modules.1.0.downsample.1.bias, incre_modules.1.0.downsample.1.running_mean, incre_modules.1.0.downsample.1.running_var, incre_modules.1.0.downsample.1.num_batches_tracked, incre_modules.2.0.conv1.weight, incre_modules.2.0.bn1.weight, incre_modules.2.0.bn1.bias, incre_modules.2.0.bn1.running_mean, incre_modules.2.0.bn1.running_var, incre_modules.2.0.bn1.num_batches_tracked, incre_modules.2.0.conv2.weight, incre_modules.2.0.bn2.weight, incre_modules.2.0.bn2.bias, incre_modules.2.0.bn2.running_mean, incre_modules.2.0.bn2.running_var, incre_modules.2.0.bn2.num_batches_tracked, incre_modules.2.0.conv3.weight, incre_modules.2.0.bn3.weight, incre_modules.2.0.bn3.bias, incre_modules.2.0.bn3.running_mean, incre_modules.2.0.bn3.running_var, incre_modules.2.0.bn3.num_batches_tracked, incre_modules.2.0.downsample.0.weight, incre_modules.2.0.downsample.1.weight, incre_modules.2.0.downsample.1.bias, incre_modules.2.0.downsample.1.running_mean, incre_modules.2.0.downsample.1.running_var, incre_modules.2.0.downsample.1.num_batches_tracked, incre_modules.3.0.conv1.weight, incre_modules.3.0.bn1.weight, incre_modules.3.0.bn1.bias, incre_modules.3.0.bn1.running_mean, incre_modules.3.0.bn1.running_var, incre_modules.3.0.bn1.num_batches_tracked, incre_modules.3.0.conv2.weight, incre_modules.3.0.bn2.weight, incre_modules.3.0.bn2.bias, incre_modules.3.0.bn2.running_mean, incre_modules.3.0.bn2.running_var, incre_modules.3.0.bn2.num_batches_tracked, incre_modules.3.0.conv3.weight, incre_modules.3.0.bn3.weight, incre_modules.3.0.bn3.bias, incre_modules.3.0.bn3.running_mean, incre_modules.3.0.bn3.running_var, incre_modules.3.0.bn3.num_batches_tracked, incre_modules.3.0.downsample.0.weight, incre_modules.3.0.downsample.1.weight, incre_modules.3.0.downsample.1.bias, incre_modules.3.0.downsample.1.running_mean, incre_modules.3.0.downsample.1.running_var, incre_modules.3.0.downsample.1.num_batches_tracked, downsamp_modules.0.0.weight, downsamp_modules.0.0.bias, downsamp_modules.0.1.weight, downsamp_modules.0.1.bias, downsamp_modules.0.1.running_mean, downsamp_modules.0.1.running_var, downsamp_modules.0.1.num_batches_tracked, downsamp_modules.1.0.weight, downsamp_modules.1.0.bias, downsamp_modules.1.1.weight, downsamp_modules.1.1.bias, downsamp_modules.1.1.running_mean, downsamp_modules.1.1.running_var, downsamp_modules.1.1.num_batches_tracked, downsamp_modules.2.0.weight, downsamp_modules.2.0.bias, downsamp_modules.2.1.weight, downsamp_modules.2.1.bias, downsamp_modules.2.1.running_mean, downsamp_modules.2.1.running_var, downsamp_modules.2.1.num_batches_tracked, final_layer.0.weight, final_layer.0.bias, final_layer.1.weight, final_layer.1.bias, final_layer.1.running_mean, final_layer.1.running_var, final_layer.1.num_batches_tracked, classifier.weight, classifier.bias\n",
      "\n"
     ]
    }
   ],
   "source": [
    "model = build_detector(cfg.model)"
   ]
  },
  {
   "cell_type": "code",
   "execution_count": 8,
   "metadata": {
    "pycharm": {
     "name": "#%%\n"
    }
   },
   "outputs": [
    {
     "output_type": "stream",
     "name": "stdout",
     "text": [
      "loading annotations into memory...\n",
      "Done (t=3.82s)\n",
      "creating index...\n",
      "index created!\n"
     ]
    }
   ],
   "source": [
    "datasets = [build_dataset(cfg.data.train)]"
   ]
  },
  {
   "cell_type": "code",
   "execution_count": 9,
   "metadata": {
    "pycharm": {
     "name": "#%%\n"
    },
    "tags": [
     "outputPrepend"
    ]
   },
   "outputs": [
    {
     "output_type": "stream",
     "name": "stdout",
     "text": [
      "loading annotations into memory...\n",
      "2021-05-12 13:29:14,204 - mmdet - INFO - Start running, host: root@7abc6b7bc976, work_dir: /opt/ml/p3-ims-obd-hansarang/gjtak_works/Object Detection/code/mmdetection_trash/work_dirs/faster_rcnn_hrnetv2p_w40_2x_coco_24\n",
      "2021-05-12 13:29:14,204 - mmdet - INFO - workflow: [('train', 1)], max: 24 epochs\n",
      "Failed to detect the name of this notebook, you can set it manually with the WANDB_NOTEBOOK_NAME environment variable to enable code saving.\n",
      "Done (t=0.89s)\n",
      "creating index...\n",
      "index created!\n",
      "\u001b[34m\u001b[1mwandb\u001b[0m: Currently logged in as: \u001b[33mpstage3_det\u001b[0m (use `wandb login --relogin` to force relogin)\n"
     ]
    },
    {
     "output_type": "display_data",
     "data": {
      "text/plain": "<IPython.core.display.HTML object>",
      "text/html": "\n                Tracking run with wandb version 0.10.30<br/>\n                Syncing run <strong style=\"color:#cdcd00\">faster_rcnn_hrnetv2p_w40_2x_coco</strong> to <a href=\"https://wandb.ai\" target=\"_blank\">Weights & Biases</a> <a href=\"https://docs.wandb.com/integrations/jupyter.html\" target=\"_blank\">(Documentation)</a>.<br/>\n                Project page: <a href=\"https://wandb.ai/pstage3_det/gjtak\" target=\"_blank\">https://wandb.ai/pstage3_det/gjtak</a><br/>\n                Run page: <a href=\"https://wandb.ai/pstage3_det/gjtak/runs/2gm7klxk\" target=\"_blank\">https://wandb.ai/pstage3_det/gjtak/runs/2gm7klxk</a><br/>\n                Run data is saved locally in <code>/opt/ml/p3-ims-obd-hansarang/gjtak_works/Object Detection/code/mmdetection_trash/notebooks/wandb/run-20210512_132914-2gm7klxk</code><br/><br/>\n            "
     },
     "metadata": {}
    },
    {
     "output_type": "stream",
     "name": "stderr",
     "text": [
      "0.0283, loss_cls: 0.1344, acc: 95.2795, loss_bbox: 0.1974, loss: 0.3672, grad_norm: 1.4205\n",
      "2021-05-12 15:08:03,370 - mmdet - INFO - Epoch [21][140/164]\tlr: 2.000e-03, eta: 0:11:48, time: 1.384, data_time: 0.019, memory: 19082, loss_rpn_cls: 0.0113, loss_rpn_bbox: 0.0334, loss_cls: 0.1500, acc: 94.9097, loss_bbox: 0.2158, loss: 0.4106, grad_norm: 1.5088\n",
      "2021-05-12 15:08:17,206 - mmdet - INFO - Epoch [21][150/164]\tlr: 2.000e-03, eta: 0:11:34, time: 1.384, data_time: 0.019, memory: 19082, loss_rpn_cls: 0.0106, loss_rpn_bbox: 0.0335, loss_cls: 0.1465, acc: 95.0574, loss_bbox: 0.2003, loss: 0.3908, grad_norm: 1.4501\n",
      "2021-05-12 15:08:31,074 - mmdet - INFO - Epoch [21][160/164]\tlr: 2.000e-03, eta: 0:11:21, time: 1.387, data_time: 0.019, memory: 19082, loss_rpn_cls: 0.0114, loss_rpn_bbox: 0.0362, loss_cls: 0.1505, acc: 94.7961, loss_bbox: 0.2170, loss: 0.4151, grad_norm: 1.4813\n",
      "2021-05-12 15:08:37,210 - mmdet - INFO - Saving checkpoint at 21 epochs\n",
      "[>>>>>>>>>>>>>>>>>>>>>>>>>>>>>] 655/655, 14.1 task/s, elapsed: 46s, ETA:     0s2021-05-12 15:09:25,107 - mmdet - INFO - Evaluating bbox...\n",
      "Loading and preparing results...\n",
      "DONE (t=0.07s)\n",
      "creating index...\n",
      "index created!\n",
      "Running per image evaluation...\n",
      "Evaluate annotation type *bbox*\n",
      "DONE (t=4.38s).\n",
      "Accumulating evaluation results...\n",
      "2021-05-12 15:09:30,190 - mmdet - INFO - Epoch(val) [21][164]\tbbox_mAP: 0.2010, bbox_mAP_50: 0.3360, bbox_mAP_75: 0.2090, bbox_mAP_s: 0.0450, bbox_mAP_m: 0.1690, bbox_mAP_l: 0.4050, bbox_mAP_copypaste: 0.201 0.336 0.209 0.045 0.169 0.405\n",
      "DONE (t=0.57s).\n",
      "Average Precision  (AP) @[ IoU=0.50:0.95 | area=   all | maxDets=100 ] = 0.201\n",
      "Average Precision  (AP) @[ IoU=0.50      | area=   all | maxDets=1000 ] = 0.336\n",
      "Average Precision  (AP) @[ IoU=0.75      | area=   all | maxDets=1000 ] = 0.209\n",
      "Average Precision  (AP) @[ IoU=0.50:0.95 | area= small | maxDets=1000 ] = 0.045\n",
      "Average Precision  (AP) @[ IoU=0.50:0.95 | area=medium | maxDets=1000 ] = 0.169\n",
      "Average Precision  (AP) @[ IoU=0.50:0.95 | area= large | maxDets=1000 ] = 0.405\n",
      "Average Recall     (AR) @[ IoU=0.50:0.95 | area=   all | maxDets=100 ] = 0.324\n",
      "Average Recall     (AR) @[ IoU=0.50:0.95 | area=   all | maxDets=300 ] = 0.324\n",
      "Average Recall     (AR) @[ IoU=0.50:0.95 | area=   all | maxDets=1000 ] = 0.324\n",
      "Average Recall     (AR) @[ IoU=0.50:0.95 | area= small | maxDets=1000 ] = 0.102\n",
      "Average Recall     (AR) @[ IoU=0.50:0.95 | area=medium | maxDets=1000 ] = 0.288\n",
      "Average Recall     (AR) @[ IoU=0.50:0.95 | area= large | maxDets=1000 ] = 0.572\n",
      "2021-05-12 15:09:46,539 - mmdet - INFO - Epoch [22][10/164]\tlr: 2.000e-03, eta: 0:11:01, time: 1.633, data_time: 0.255, memory: 19082, loss_rpn_cls: 0.0086, loss_rpn_bbox: 0.0315, loss_cls: 0.1366, acc: 95.3430, loss_bbox: 0.1930, loss: 0.3696, grad_norm: 1.3611\n",
      "2021-05-12 15:10:00,522 - mmdet - INFO - Epoch [22][20/164]\tlr: 2.000e-03, eta: 0:10:47, time: 1.398, data_time: 0.020, memory: 19082, loss_rpn_cls: 0.0085, loss_rpn_bbox: 0.0252, loss_cls: 0.1122, acc: 96.1121, loss_bbox: 0.1646, loss: 0.3103, grad_norm: 1.3278\n",
      "2021-05-12 15:10:14,408 - mmdet - INFO - Epoch [22][30/164]\tlr: 2.000e-03, eta: 0:10:34, time: 1.389, data_time: 0.020, memory: 19082, loss_rpn_cls: 0.0078, loss_rpn_bbox: 0.0287, loss_cls: 0.1226, acc: 95.8154, loss_bbox: 0.1824, loss: 0.3414, grad_norm: 1.3083\n",
      "2021-05-12 15:10:28,299 - mmdet - INFO - Epoch [22][40/164]\tlr: 2.000e-03, eta: 0:10:20, time: 1.389, data_time: 0.019, memory: 19082, loss_rpn_cls: 0.0087, loss_rpn_bbox: 0.0326, loss_cls: 0.1416, acc: 95.0427, loss_bbox: 0.2016, loss: 0.3846, grad_norm: 1.4357\n",
      "2021-05-12 15:10:42,192 - mmdet - INFO - Epoch [22][50/164]\tlr: 2.000e-03, eta: 0:10:06, time: 1.389, data_time: 0.019, memory: 19082, loss_rpn_cls: 0.0083, loss_rpn_bbox: 0.0327, loss_cls: 0.1338, acc: 95.2954, loss_bbox: 0.1991, loss: 0.3739, grad_norm: 1.3956\n",
      "2021-05-12 15:10:56,083 - mmdet - INFO - Epoch [22][60/164]\tlr: 2.000e-03, eta: 0:09:52, time: 1.389, data_time: 0.018, memory: 19082, loss_rpn_cls: 0.0109, loss_rpn_bbox: 0.0355, loss_cls: 0.1544, acc: 94.6863, loss_bbox: 0.2194, loss: 0.4202, grad_norm: 1.5926\n",
      "2021-05-12 15:11:09,990 - mmdet - INFO - Epoch [22][70/164]\tlr: 2.000e-03, eta: 0:09:39, time: 1.391, data_time: 0.018, memory: 19082, loss_rpn_cls: 0.0097, loss_rpn_bbox: 0.0362, loss_cls: 0.1558, acc: 94.6094, loss_bbox: 0.2241, loss: 0.4258, grad_norm: 1.4574\n",
      "2021-05-12 15:11:23,889 - mmdet - INFO - Epoch [22][80/164]\tlr: 2.000e-03, eta: 0:09:25, time: 1.390, data_time: 0.019, memory: 19082, loss_rpn_cls: 0.0100, loss_rpn_bbox: 0.0283, loss_cls: 0.1335, acc: 95.4150, loss_bbox: 0.1963, loss: 0.3682, grad_norm: 1.4731\n",
      "2021-05-12 15:11:37,783 - mmdet - INFO - Epoch [22][90/164]\tlr: 2.000e-03, eta: 0:09:11, time: 1.389, data_time: 0.019, memory: 19082, loss_rpn_cls: 0.0106, loss_rpn_bbox: 0.0339, loss_cls: 0.1420, acc: 95.0525, loss_bbox: 0.2009, loss: 0.3874, grad_norm: 1.4734\n",
      "2021-05-12 15:11:51,680 - mmdet - INFO - Epoch [22][100/164]\tlr: 2.000e-03, eta: 0:08:58, time: 1.390, data_time: 0.018, memory: 19082, loss_rpn_cls: 0.0096, loss_rpn_bbox: 0.0333, loss_cls: 0.1459, acc: 95.0073, loss_bbox: 0.2155, loss: 0.4042, grad_norm: 1.4859\n",
      "2021-05-12 15:12:05,619 - mmdet - INFO - Epoch [22][110/164]\tlr: 2.000e-03, eta: 0:08:44, time: 1.394, data_time: 0.020, memory: 19082, loss_rpn_cls: 0.0093, loss_rpn_bbox: 0.0335, loss_cls: 0.1461, acc: 94.9158, loss_bbox: 0.2113, loss: 0.4003, grad_norm: 1.4623\n",
      "2021-05-12 15:12:19,515 - mmdet - INFO - Epoch [22][120/164]\tlr: 2.000e-03, eta: 0:08:30, time: 1.390, data_time: 0.019, memory: 19082, loss_rpn_cls: 0.0085, loss_rpn_bbox: 0.0302, loss_cls: 0.1332, acc: 95.4309, loss_bbox: 0.1933, loss: 0.3651, grad_norm: 1.4341\n",
      "2021-05-12 15:12:33,419 - mmdet - INFO - Epoch [22][130/164]\tlr: 2.000e-03, eta: 0:08:16, time: 1.390, data_time: 0.018, memory: 19082, loss_rpn_cls: 0.0101, loss_rpn_bbox: 0.0337, loss_cls: 0.1546, acc: 94.5300, loss_bbox: 0.2271, loss: 0.4254, grad_norm: 1.5851\n",
      "2021-05-12 15:12:47,338 - mmdet - INFO - Epoch [22][140/164]\tlr: 2.000e-03, eta: 0:08:03, time: 1.392, data_time: 0.018, memory: 19082, loss_rpn_cls: 0.0101, loss_rpn_bbox: 0.0325, loss_cls: 0.1559, acc: 94.7046, loss_bbox: 0.2118, loss: 0.4104, grad_norm: 1.4674\n",
      "2021-05-12 15:13:01,254 - mmdet - INFO - Epoch [22][150/164]\tlr: 2.000e-03, eta: 0:07:49, time: 1.392, data_time: 0.019, memory: 19082, loss_rpn_cls: 0.0088, loss_rpn_bbox: 0.0352, loss_cls: 0.1455, acc: 95.0159, loss_bbox: 0.2066, loss: 0.3961, grad_norm: 1.4458\n",
      "2021-05-12 15:13:15,165 - mmdet - INFO - Epoch [22][160/164]\tlr: 2.000e-03, eta: 0:07:35, time: 1.391, data_time: 0.019, memory: 19082, loss_rpn_cls: 0.0097, loss_rpn_bbox: 0.0358, loss_cls: 0.1446, acc: 95.0537, loss_bbox: 0.2089, loss: 0.3990, grad_norm: 1.5252\n",
      "2021-05-12 15:13:20,786 - mmdet - INFO - Saving checkpoint at 22 epochs\n",
      "[>>>>>>>>>>>>>>>>>>>>>>>>>>>>>] 655/655, 14.1 task/s, elapsed: 46s, ETA:     0s2021-05-12 15:14:08,816 - mmdet - INFO - Evaluating bbox...\n",
      "Loading and preparing results...\n",
      "DONE (t=0.07s)\n",
      "creating index...\n",
      "index created!\n",
      "Running per image evaluation...\n",
      "Evaluate annotation type *bbox*\n",
      "DONE (t=4.23s).\n",
      "Accumulating evaluation results...\n",
      "2021-05-12 15:14:13,738 - mmdet - INFO - Epoch(val) [22][164]\tbbox_mAP: 0.1990, bbox_mAP_50: 0.3400, bbox_mAP_75: 0.1940, bbox_mAP_s: 0.0430, bbox_mAP_m: 0.1690, bbox_mAP_l: 0.3960, bbox_mAP_copypaste: 0.199 0.340 0.194 0.043 0.169 0.396\n",
      "DONE (t=0.56s).\n",
      "Average Precision  (AP) @[ IoU=0.50:0.95 | area=   all | maxDets=100 ] = 0.199\n",
      "Average Precision  (AP) @[ IoU=0.50      | area=   all | maxDets=1000 ] = 0.340\n",
      "Average Precision  (AP) @[ IoU=0.75      | area=   all | maxDets=1000 ] = 0.194\n",
      "Average Precision  (AP) @[ IoU=0.50:0.95 | area= small | maxDets=1000 ] = 0.043\n",
      "Average Precision  (AP) @[ IoU=0.50:0.95 | area=medium | maxDets=1000 ] = 0.169\n",
      "Average Precision  (AP) @[ IoU=0.50:0.95 | area= large | maxDets=1000 ] = 0.396\n",
      "Average Recall     (AR) @[ IoU=0.50:0.95 | area=   all | maxDets=100 ] = 0.327\n",
      "Average Recall     (AR) @[ IoU=0.50:0.95 | area=   all | maxDets=300 ] = 0.327\n",
      "Average Recall     (AR) @[ IoU=0.50:0.95 | area=   all | maxDets=1000 ] = 0.327\n",
      "Average Recall     (AR) @[ IoU=0.50:0.95 | area= small | maxDets=1000 ] = 0.095\n",
      "Average Recall     (AR) @[ IoU=0.50:0.95 | area=medium | maxDets=1000 ] = 0.295\n",
      "Average Recall     (AR) @[ IoU=0.50:0.95 | area= large | maxDets=1000 ] = 0.563\n",
      "2021-05-12 15:14:30,048 - mmdet - INFO - Epoch [23][10/164]\tlr: 2.000e-04, eta: 0:07:16, time: 1.629, data_time: 0.254, memory: 19082, loss_rpn_cls: 0.0093, loss_rpn_bbox: 0.0347, loss_cls: 0.1475, acc: 94.8926, loss_bbox: 0.2185, loss: 0.4100, grad_norm: 1.4476\n",
      "2021-05-12 15:14:43,942 - mmdet - INFO - Epoch [23][20/164]\tlr: 2.000e-04, eta: 0:07:02, time: 1.389, data_time: 0.019, memory: 19082, loss_rpn_cls: 0.0067, loss_rpn_bbox: 0.0311, loss_cls: 0.1301, acc: 95.4492, loss_bbox: 0.1887, loss: 0.3566, grad_norm: 1.3537\n",
      "2021-05-12 15:14:57,830 - mmdet - INFO - Epoch [23][30/164]\tlr: 2.000e-04, eta: 0:06:48, time: 1.389, data_time: 0.019, memory: 19082, loss_rpn_cls: 0.0080, loss_rpn_bbox: 0.0337, loss_cls: 0.1388, acc: 95.1855, loss_bbox: 0.1995, loss: 0.3800, grad_norm: 1.3342\n",
      "2021-05-12 15:15:11,745 - mmdet - INFO - Epoch [23][40/164]\tlr: 2.000e-04, eta: 0:06:35, time: 1.392, data_time: 0.020, memory: 19082, loss_rpn_cls: 0.0099, loss_rpn_bbox: 0.0325, loss_cls: 0.1300, acc: 95.4944, loss_bbox: 0.1944, loss: 0.3668, grad_norm: 1.3997\n",
      "2021-05-12 15:15:25,705 - mmdet - INFO - Epoch [23][50/164]\tlr: 2.000e-04, eta: 0:06:21, time: 1.396, data_time: 0.021, memory: 19082, loss_rpn_cls: 0.0105, loss_rpn_bbox: 0.0354, loss_cls: 0.1451, acc: 95.0281, loss_bbox: 0.2120, loss: 0.4030, grad_norm: 1.4142\n",
      "2021-05-12 15:15:39,609 - mmdet - INFO - Epoch [23][60/164]\tlr: 2.000e-04, eta: 0:06:07, time: 1.390, data_time: 0.020, memory: 19082, loss_rpn_cls: 0.0094, loss_rpn_bbox: 0.0334, loss_cls: 0.1365, acc: 95.2087, loss_bbox: 0.2013, loss: 0.3806, grad_norm: 1.4288\n",
      "2021-05-12 15:15:53,504 - mmdet - INFO - Epoch [23][70/164]\tlr: 2.000e-04, eta: 0:05:54, time: 1.390, data_time: 0.020, memory: 19082, loss_rpn_cls: 0.0089, loss_rpn_bbox: 0.0331, loss_cls: 0.1438, acc: 95.1794, loss_bbox: 0.1937, loss: 0.3796, grad_norm: 1.4023\n",
      "2021-05-12 15:16:07,488 - mmdet - INFO - Epoch [23][80/164]\tlr: 2.000e-04, eta: 0:05:40, time: 1.398, data_time: 0.021, memory: 19082, loss_rpn_cls: 0.0098, loss_rpn_bbox: 0.0335, loss_cls: 0.1486, acc: 94.8035, loss_bbox: 0.2161, loss: 0.4080, grad_norm: 1.4275\n",
      "2021-05-12 15:16:21,415 - mmdet - INFO - Epoch [23][90/164]\tlr: 2.000e-04, eta: 0:05:26, time: 1.393, data_time: 0.020, memory: 19082, loss_rpn_cls: 0.0072, loss_rpn_bbox: 0.0281, loss_cls: 0.1225, acc: 95.7129, loss_bbox: 0.1817, loss: 0.3395, grad_norm: 1.3317\n",
      "2021-05-12 15:16:35,337 - mmdet - INFO - Epoch [23][100/164]\tlr: 2.000e-04, eta: 0:05:12, time: 1.392, data_time: 0.019, memory: 19082, loss_rpn_cls: 0.0094, loss_rpn_bbox: 0.0363, loss_cls: 0.1539, acc: 94.7607, loss_bbox: 0.2079, loss: 0.4075, grad_norm: 1.4603\n",
      "2021-05-12 15:16:49,270 - mmdet - INFO - Epoch [23][110/164]\tlr: 2.000e-04, eta: 0:04:59, time: 1.393, data_time: 0.019, memory: 19082, loss_rpn_cls: 0.0104, loss_rpn_bbox: 0.0285, loss_cls: 0.1251, acc: 95.6738, loss_bbox: 0.1923, loss: 0.3563, grad_norm: 1.3566\n",
      "2021-05-12 15:17:03,179 - mmdet - INFO - Epoch [23][120/164]\tlr: 2.000e-04, eta: 0:04:45, time: 1.391, data_time: 0.019, memory: 19082, loss_rpn_cls: 0.0086, loss_rpn_bbox: 0.0308, loss_cls: 0.1266, acc: 95.5896, loss_bbox: 0.1842, loss: 0.3502, grad_norm: 1.2764\n",
      "2021-05-12 15:17:17,098 - mmdet - INFO - Epoch [23][130/164]\tlr: 2.000e-04, eta: 0:04:31, time: 1.392, data_time: 0.019, memory: 19082, loss_rpn_cls: 0.0101, loss_rpn_bbox: 0.0350, loss_cls: 0.1372, acc: 95.2588, loss_bbox: 0.2065, loss: 0.3889, grad_norm: 1.4009\n",
      "2021-05-12 15:17:30,968 - mmdet - INFO - Epoch [23][140/164]\tlr: 2.000e-04, eta: 0:04:18, time: 1.387, data_time: 0.019, memory: 19082, loss_rpn_cls: 0.0071, loss_rpn_bbox: 0.0280, loss_cls: 0.1228, acc: 95.6909, loss_bbox: 0.1847, loss: 0.3427, grad_norm: 1.3196\n",
      "2021-05-12 15:17:44,812 - mmdet - INFO - Epoch [23][150/164]\tlr: 2.000e-04, eta: 0:04:04, time: 1.384, data_time: 0.019, memory: 19082, loss_rpn_cls: 0.0066, loss_rpn_bbox: 0.0252, loss_cls: 0.1170, acc: 95.9473, loss_bbox: 0.1729, loss: 0.3217, grad_norm: 1.2752\n",
      "2021-05-12 15:17:58,676 - mmdet - INFO - Epoch [23][160/164]\tlr: 2.000e-04, eta: 0:03:50, time: 1.386, data_time: 0.020, memory: 19082, loss_rpn_cls: 0.0082, loss_rpn_bbox: 0.0303, loss_cls: 0.1352, acc: 95.3528, loss_bbox: 0.2060, loss: 0.3796, grad_norm: 1.4194\n",
      "2021-05-12 15:18:04,296 - mmdet - INFO - Saving checkpoint at 23 epochs\n",
      "[>>>>>>>>>>>>>>>>>>>>>>>>>>>>>] 655/655, 13.8 task/s, elapsed: 48s, ETA:     0s2021-05-12 15:18:53,410 - mmdet - INFO - Evaluating bbox...\n",
      "Loading and preparing results...\n",
      "DONE (t=0.56s)\n",
      "creating index...\n",
      "index created!\n",
      "Running per image evaluation...\n",
      "Evaluate annotation type *bbox*\n",
      "DONE (t=3.67s).\n",
      "Accumulating evaluation results...\n",
      "2021-05-12 15:18:58,248 - mmdet - INFO - Epoch(val) [23][164]\tbbox_mAP: 0.2050, bbox_mAP_50: 0.3430, bbox_mAP_75: 0.2100, bbox_mAP_s: 0.0400, bbox_mAP_m: 0.1700, bbox_mAP_l: 0.4110, bbox_mAP_copypaste: 0.205 0.343 0.210 0.040 0.170 0.411\n",
      "DONE (t=0.55s).\n",
      "Average Precision  (AP) @[ IoU=0.50:0.95 | area=   all | maxDets=100 ] = 0.205\n",
      "Average Precision  (AP) @[ IoU=0.50      | area=   all | maxDets=1000 ] = 0.343\n",
      "Average Precision  (AP) @[ IoU=0.75      | area=   all | maxDets=1000 ] = 0.210\n",
      "Average Precision  (AP) @[ IoU=0.50:0.95 | area= small | maxDets=1000 ] = 0.040\n",
      "Average Precision  (AP) @[ IoU=0.50:0.95 | area=medium | maxDets=1000 ] = 0.170\n",
      "Average Precision  (AP) @[ IoU=0.50:0.95 | area= large | maxDets=1000 ] = 0.411\n",
      "Average Recall     (AR) @[ IoU=0.50:0.95 | area=   all | maxDets=100 ] = 0.327\n",
      "Average Recall     (AR) @[ IoU=0.50:0.95 | area=   all | maxDets=300 ] = 0.327\n",
      "Average Recall     (AR) @[ IoU=0.50:0.95 | area=   all | maxDets=1000 ] = 0.327\n",
      "Average Recall     (AR) @[ IoU=0.50:0.95 | area= small | maxDets=1000 ] = 0.093\n",
      "Average Recall     (AR) @[ IoU=0.50:0.95 | area=medium | maxDets=1000 ] = 0.296\n",
      "Average Recall     (AR) @[ IoU=0.50:0.95 | area= large | maxDets=1000 ] = 0.570\n",
      "2021-05-12 15:19:14,575 - mmdet - INFO - Epoch [24][10/164]\tlr: 2.000e-04, eta: 0:03:31, time: 1.631, data_time: 0.256, memory: 19082, loss_rpn_cls: 0.0101, loss_rpn_bbox: 0.0332, loss_cls: 0.1379, acc: 95.2856, loss_bbox: 0.1968, loss: 0.3781, grad_norm: 1.3794\n",
      "2021-05-12 15:19:28,427 - mmdet - INFO - Epoch [24][20/164]\tlr: 2.000e-04, eta: 0:03:17, time: 1.385, data_time: 0.021, memory: 19082, loss_rpn_cls: 0.0082, loss_rpn_bbox: 0.0280, loss_cls: 0.1163, acc: 95.9375, loss_bbox: 0.1866, loss: 0.3391, grad_norm: 1.3058\n",
      "2021-05-12 15:19:42,292 - mmdet - INFO - Epoch [24][30/164]\tlr: 2.000e-04, eta: 0:03:03, time: 1.386, data_time: 0.019, memory: 19082, loss_rpn_cls: 0.0086, loss_rpn_bbox: 0.0313, loss_cls: 0.1408, acc: 95.2502, loss_bbox: 0.1997, loss: 0.3806, grad_norm: 1.3717\n",
      "2021-05-12 15:19:56,155 - mmdet - INFO - Epoch [24][40/164]\tlr: 2.000e-04, eta: 0:02:50, time: 1.386, data_time: 0.019, memory: 19082, loss_rpn_cls: 0.0089, loss_rpn_bbox: 0.0353, loss_cls: 0.1423, acc: 94.9841, loss_bbox: 0.2094, loss: 0.3959, grad_norm: 1.3702\n",
      "2021-05-12 15:20:10,065 - mmdet - INFO - Epoch [24][50/164]\tlr: 2.000e-04, eta: 0:02:36, time: 1.391, data_time: 0.019, memory: 19082, loss_rpn_cls: 0.0080, loss_rpn_bbox: 0.0330, loss_cls: 0.1318, acc: 95.3894, loss_bbox: 0.1984, loss: 0.3712, grad_norm: 1.3439\n",
      "2021-05-12 15:20:23,967 - mmdet - INFO - Epoch [24][60/164]\tlr: 2.000e-04, eta: 0:02:22, time: 1.390, data_time: 0.020, memory: 19082, loss_rpn_cls: 0.0077, loss_rpn_bbox: 0.0293, loss_cls: 0.1285, acc: 95.4578, loss_bbox: 0.1904, loss: 0.3558, grad_norm: 1.2637\n",
      "2021-05-12 15:20:37,963 - mmdet - INFO - Epoch [24][70/164]\tlr: 2.000e-04, eta: 0:02:09, time: 1.400, data_time: 0.019, memory: 19082, loss_rpn_cls: 0.0098, loss_rpn_bbox: 0.0399, loss_cls: 0.1534, acc: 94.7522, loss_bbox: 0.2224, loss: 0.4255, grad_norm: 1.4108\n",
      "2021-05-12 15:20:51,860 - mmdet - INFO - Epoch [24][80/164]\tlr: 2.000e-04, eta: 0:01:55, time: 1.390, data_time: 0.018, memory: 19082, loss_rpn_cls: 0.0110, loss_rpn_bbox: 0.0360, loss_cls: 0.1565, acc: 94.6863, loss_bbox: 0.2199, loss: 0.4234, grad_norm: 1.4986\n",
      "2021-05-12 15:21:05,737 - mmdet - INFO - Epoch [24][90/164]\tlr: 2.000e-04, eta: 0:01:41, time: 1.388, data_time: 0.018, memory: 19082, loss_rpn_cls: 0.0077, loss_rpn_bbox: 0.0298, loss_cls: 0.1263, acc: 95.5237, loss_bbox: 0.1824, loss: 0.3463, grad_norm: 1.3304\n",
      "2021-05-12 15:21:19,624 - mmdet - INFO - Epoch [24][100/164]\tlr: 2.000e-04, eta: 0:01:27, time: 1.389, data_time: 0.018, memory: 19082, loss_rpn_cls: 0.0075, loss_rpn_bbox: 0.0311, loss_cls: 0.1251, acc: 95.5286, loss_bbox: 0.1932, loss: 0.3569, grad_norm: 1.3185\n",
      "2021-05-12 15:21:33,508 - mmdet - INFO - Epoch [24][110/164]\tlr: 2.000e-04, eta: 0:01:14, time: 1.388, data_time: 0.018, memory: 19082, loss_rpn_cls: 0.0075, loss_rpn_bbox: 0.0284, loss_cls: 0.1237, acc: 95.7593, loss_bbox: 0.1864, loss: 0.3460, grad_norm: 1.3261\n",
      "2021-05-12 15:21:47,381 - mmdet - INFO - Epoch [24][120/164]\tlr: 2.000e-04, eta: 0:01:00, time: 1.387, data_time: 0.018, memory: 19082, loss_rpn_cls: 0.0075, loss_rpn_bbox: 0.0314, loss_cls: 0.1312, acc: 95.4016, loss_bbox: 0.1925, loss: 0.3625, grad_norm: 1.3685\n",
      "2021-05-12 15:22:01,338 - mmdet - INFO - Epoch [24][130/164]\tlr: 2.000e-04, eta: 0:00:46, time: 1.396, data_time: 0.020, memory: 19082, loss_rpn_cls: 0.0090, loss_rpn_bbox: 0.0321, loss_cls: 0.1416, acc: 95.1233, loss_bbox: 0.2043, loss: 0.3870, grad_norm: 1.3268\n",
      "2021-05-12 15:22:15,296 - mmdet - INFO - Epoch [24][140/164]\tlr: 2.000e-04, eta: 0:00:32, time: 1.396, data_time: 0.019, memory: 19082, loss_rpn_cls: 0.0087, loss_rpn_bbox: 0.0307, loss_cls: 0.1293, acc: 95.5359, loss_bbox: 0.1804, loss: 0.3491, grad_norm: 1.3564\n",
      "2021-05-12 15:22:29,186 - mmdet - INFO - Epoch [24][150/164]\tlr: 2.000e-04, eta: 0:00:19, time: 1.389, data_time: 0.019, memory: 19082, loss_rpn_cls: 0.0081, loss_rpn_bbox: 0.0314, loss_cls: 0.1343, acc: 95.4517, loss_bbox: 0.1976, loss: 0.3713, grad_norm: 1.3842\n",
      "2021-05-12 15:22:43,063 - mmdet - INFO - Epoch [24][160/164]\tlr: 2.000e-04, eta: 0:00:05, time: 1.388, data_time: 0.019, memory: 19082, loss_rpn_cls: 0.0086, loss_rpn_bbox: 0.0301, loss_cls: 0.1294, acc: 95.7715, loss_bbox: 0.1808, loss: 0.3488, grad_norm: 1.2908\n",
      "2021-05-12 15:22:48,663 - mmdet - INFO - Saving checkpoint at 24 epochs\n",
      "[>>>>>>>>>>>>>>>>>>>>>>>>>>>>>] 655/655, 14.1 task/s, elapsed: 47s, ETA:     0s2021-05-12 15:23:36,776 - mmdet - INFO - Evaluating bbox...\n",
      "Loading and preparing results...\n",
      "DONE (t=0.55s)\n",
      "creating index...\n",
      "index created!\n",
      "Running per image evaluation...\n",
      "Evaluate annotation type *bbox*\n",
      "DONE (t=3.76s).\n",
      "Accumulating evaluation results...\n",
      "2021-05-12 15:23:41,706 - mmdet - INFO - Epoch(val) [24][164]\tbbox_mAP: 0.2030, bbox_mAP_50: 0.3410, bbox_mAP_75: 0.1960, bbox_mAP_s: 0.0410, bbox_mAP_m: 0.1710, bbox_mAP_l: 0.4010, bbox_mAP_copypaste: 0.203 0.341 0.196 0.041 0.171 0.401\n",
      "DONE (t=0.56s).\n",
      "Average Precision  (AP) @[ IoU=0.50:0.95 | area=   all | maxDets=100 ] = 0.203\n",
      "Average Precision  (AP) @[ IoU=0.50      | area=   all | maxDets=1000 ] = 0.341\n",
      "Average Precision  (AP) @[ IoU=0.75      | area=   all | maxDets=1000 ] = 0.196\n",
      "Average Precision  (AP) @[ IoU=0.50:0.95 | area= small | maxDets=1000 ] = 0.041\n",
      "Average Precision  (AP) @[ IoU=0.50:0.95 | area=medium | maxDets=1000 ] = 0.171\n",
      "Average Precision  (AP) @[ IoU=0.50:0.95 | area= large | maxDets=1000 ] = 0.401\n",
      "Average Recall     (AR) @[ IoU=0.50:0.95 | area=   all | maxDets=100 ] = 0.327\n",
      "Average Recall     (AR) @[ IoU=0.50:0.95 | area=   all | maxDets=300 ] = 0.327\n",
      "Average Recall     (AR) @[ IoU=0.50:0.95 | area=   all | maxDets=1000 ] = 0.327\n",
      "Average Recall     (AR) @[ IoU=0.50:0.95 | area= small | maxDets=1000 ] = 0.095\n",
      "Average Recall     (AR) @[ IoU=0.50:0.95 | area=medium | maxDets=1000 ] = 0.296\n",
      "Average Recall     (AR) @[ IoU=0.50:0.95 | area= large | maxDets=1000 ] = 0.558\n"
     ]
    },
    {
     "output_type": "display_data",
     "data": {
      "text/plain": "<IPython.core.display.HTML object>",
      "text/html": "<br/>Waiting for W&B process to finish, PID 25736<br/>Program ended successfully."
     },
     "metadata": {}
    },
    {
     "output_type": "display_data",
     "data": {
      "text/plain": "VBox(children=(Label(value=' 0.00MB of 0.00MB uploaded (0.00MB deduped)\\r'), FloatProgress(value=1.0, max=1.0)…",
      "application/vnd.jupyter.widget-view+json": {
       "version_major": 2,
       "version_minor": 0,
       "model_id": "72dab81204b54f7a9435ded8c12d9c33"
      }
     },
     "metadata": {}
    },
    {
     "output_type": "display_data",
     "data": {
      "text/plain": "<IPython.core.display.HTML object>",
      "text/html": "Find user logs for this run at: <code>/opt/ml/p3-ims-obd-hansarang/gjtak_works/Object Detection/code/mmdetection_trash/notebooks/wandb/run-20210512_132914-2gm7klxk/logs/debug.log</code>"
     },
     "metadata": {}
    },
    {
     "output_type": "display_data",
     "data": {
      "text/plain": "<IPython.core.display.HTML object>",
      "text/html": "Find internal logs for this run at: <code>/opt/ml/p3-ims-obd-hansarang/gjtak_works/Object Detection/code/mmdetection_trash/notebooks/wandb/run-20210512_132914-2gm7klxk/logs/debug-internal.log</code>"
     },
     "metadata": {}
    },
    {
     "output_type": "display_data",
     "data": {
      "text/plain": "<IPython.core.display.HTML object>",
      "text/html": "<h3>Run summary:</h3><br/><style>\n    table.wandb td:nth-child(1) { padding: 0 10px; text-align: right }\n    </style><table class=\"wandb\">\n<tr><td>train/loss_rpn_cls</td><td>0.00863</td></tr><tr><td>train/loss_rpn_bbox</td><td>0.03007</td></tr><tr><td>train/loss_cls</td><td>0.12938</td></tr><tr><td>train/acc</td><td>95.77148</td></tr><tr><td>train/loss_bbox</td><td>0.18076</td></tr><tr><td>train/loss</td><td>0.34883</td></tr><tr><td>train/grad_norm</td><td>1.29077</td></tr><tr><td>learning_rate</td><td>0.0002</td></tr><tr><td>momentum</td><td>0.9</td></tr><tr><td>_runtime</td><td>6867</td></tr><tr><td>_timestamp</td><td>1620833021</td></tr><tr><td>_step</td><td>3937</td></tr><tr><td>val/bbox_mAP</td><td>0.203</td></tr><tr><td>val/bbox_mAP_50</td><td>0.341</td></tr><tr><td>val/bbox_mAP_75</td><td>0.196</td></tr><tr><td>val/bbox_mAP_s</td><td>0.041</td></tr><tr><td>val/bbox_mAP_m</td><td>0.171</td></tr><tr><td>val/bbox_mAP_l</td><td>0.401</td></tr></table>"
     },
     "metadata": {}
    },
    {
     "output_type": "display_data",
     "data": {
      "text/plain": "<IPython.core.display.HTML object>",
      "text/html": "<h3>Run history:</h3><br/><style>\n    table.wandb td:nth-child(1) { padding: 0 10px; text-align: right }\n    </style><table class=\"wandb\">\n<tr><td>train/loss_rpn_cls</td><td>█▃▃▂▂▂▂▂▂▂▂▂▂▂▁▁▁▁▂▁▁▁▁▁▁▁▁▁▁▁▁▁▁▁▁▁▁▁▁▁</td></tr><tr><td>train/loss_rpn_bbox</td><td>▇█▆▆▆▆▅▅▅▅▄▅▅▅▃▄▅▃▄▄▃▃▃▃▃▂▂▃▁▃▂▂▂▂▁▁▂▁▂▁</td></tr><tr><td>train/loss_cls</td><td>▇█▇▇▇▇▆▆▇▆▅▆▆▆▅▅▅▄▅▄▃▄▃▃▃▃▃▂▂▂▁▂▁▁▁▁▁▁▁▁</td></tr><tr><td>train/acc</td><td>▇▂▁▁▂▁▁▂▁▂▂▂▂▁▃▂▃▄▃▃▅▄▄▅▅▅▆▆▇▆▇▇▇▇██▇█▇█</td></tr><tr><td>train/loss_bbox</td><td>▁▆█▇▆▆▆▆▆▅▅▅▅▆▅▅▅▄▅▅▄▄▄▄▃▃▃▃▂▃▂▃▂▂▂▂▂▁▂▂</td></tr><tr><td>train/loss</td><td>█▇▇▆▆▅▅▅▅▅▄▄▄▅▄▄▄▃▄▃▃▃▃▃▂▂▂▂▁▂▁▂▁▁▁▁▁▁▁▁</td></tr><tr><td>train/grad_norm</td><td>▄▄█▇▇▆▆▅▆▅▅▆▅█▅▅▅▅▆▆▅▅▅▅▅▆▅▃▂▂▂▂▂▂▂▂▂▁▁▁</td></tr><tr><td>learning_rate</td><td>▁▃▄▅▇██████████████████████▂▂▂▂▂▂▂▂▂▁▁▁▁</td></tr><tr><td>momentum</td><td>▁▁▁▁▁▁▁▁▁▁▁▁▁▁▁▁▁▁▁▁▁▁▁▁▁▁▁▁▁▁▁▁▁▁▁▁▁▁▁▁</td></tr><tr><td>_runtime</td><td>▁▁▁▁▂▂▂▂▂▃▃▃▃▃▃▄▄▄▄▄▅▅▅▅▅▅▆▆▆▆▆▇▇▇▇▇▇███</td></tr><tr><td>_timestamp</td><td>▁▁▁▁▂▂▂▂▂▃▃▃▃▃▃▄▄▄▄▄▅▅▅▅▅▅▆▆▆▆▆▇▇▇▇▇▇███</td></tr><tr><td>_step</td><td>▁▁▁▁▂▂▂▂▂▃▃▃▃▃▄▄▄▄▄▄▅▅▅▅▅▅▆▆▆▆▆▇▇▇▇▇▇███</td></tr><tr><td>val/bbox_mAP</td><td>▁▂▃▄▄▄▅▅▆▆▆▆▆▇▆▇████████</td></tr><tr><td>val/bbox_mAP_50</td><td>▁▂▃▄▅▅▅▆▆▆▆▆▆▇▇▇████████</td></tr><tr><td>val/bbox_mAP_75</td><td>▁▂▂▃▄▄▅▆▅▆▆▆▆▆▆▇█████▇██</td></tr><tr><td>val/bbox_mAP_s</td><td>▁▂▃▃▅▅▅▆▆▇▆▆▇▇▇▆█████▇▇▇</td></tr><tr><td>val/bbox_mAP_m</td><td>▁▂▃▄▅▄▆▅▆▅▆▇▆▇▆▇████████</td></tr><tr><td>val/bbox_mAP_l</td><td>▁▂▂▄▄▄▅▅▆▆▆▇▆▆▇▇████████</td></tr></table><br/>"
     },
     "metadata": {}
    },
    {
     "output_type": "display_data",
     "data": {
      "text/plain": "<IPython.core.display.HTML object>",
      "text/html": "Synced 4 W&B file(s), 0 media file(s), 0 artifact file(s) and 0 other file(s)"
     },
     "metadata": {}
    },
    {
     "output_type": "display_data",
     "data": {
      "text/plain": "<IPython.core.display.HTML object>",
      "text/html": "\n                    <br/>Synced <strong style=\"color:#cdcd00\">faster_rcnn_hrnetv2p_w40_2x_coco</strong>: <a href=\"https://wandb.ai/pstage3_det/gjtak/runs/2gm7klxk\" target=\"_blank\">https://wandb.ai/pstage3_det/gjtak/runs/2gm7klxk</a><br/>\n                "
     },
     "metadata": {}
    },
    {
     "output_type": "stream",
     "name": "stdout",
     "text": [
      "time(sec) : 6877.59588599205\n"
     ]
    }
   ],
   "source": [
    "start = time.time()  # 시작 시간 저장\n",
    "train_detector(model, datasets[0], cfg, distributed=False, validate=True)\n",
    "print(\"time(sec) :\", time.time() - start)  # 현재시각 - 시작시간 = 실행 시간(단위 : 초)"
   ]
  },
  {
   "cell_type": "markdown",
   "metadata": {},
   "source": [
    "## Inference part"
   ]
  },
  {
   "cell_type": "code",
   "execution_count": 10,
   "metadata": {},
   "outputs": [],
   "source": [
    "epoch = cfg.runner.max_epochs\n",
    "cfg.model.train_cfg = None\n",
    "\n",
    "# checkpoint path\n",
    "checkpoint_path = os.path.join(cfg.work_dir, f'epoch_{epoch}.pth')"
   ]
  },
  {
   "cell_type": "code",
   "execution_count": 11,
   "metadata": {},
   "outputs": [
    {
     "output_type": "stream",
     "name": "stdout",
     "text": [
      "loading annotations into memory...\nDone (t=0.01s)\ncreating index...\nindex created!\n"
     ]
    }
   ],
   "source": [
    "dataset = build_dataset(cfg.data.test)\n",
    "data_loader = build_dataloader(\n",
    "        dataset,\n",
    "        samples_per_gpu=1,\n",
    "        workers_per_gpu=cfg.data.workers_per_gpu,\n",
    "        dist=False,\n",
    "        shuffle=False)"
   ]
  },
  {
   "cell_type": "code",
   "execution_count": 12,
   "metadata": {},
   "outputs": [
    {
     "output_type": "stream",
     "name": "stderr",
     "text": [
      "2021-05-12 15:23:49,963 - mmdet - INFO - load model from: open-mmlab://msra/hrnetv2_w40\n",
      "2021-05-12 15:23:49,964 - mmdet - INFO - Use load_from_openmmlab loader\n",
      "2021-05-12 15:23:50,874 - mmdet - WARNING - The model and loaded state dict do not match exactly\n",
      "\n",
      "unexpected key in source state_dict: incre_modules.0.0.conv1.weight, incre_modules.0.0.bn1.weight, incre_modules.0.0.bn1.bias, incre_modules.0.0.bn1.running_mean, incre_modules.0.0.bn1.running_var, incre_modules.0.0.bn1.num_batches_tracked, incre_modules.0.0.conv2.weight, incre_modules.0.0.bn2.weight, incre_modules.0.0.bn2.bias, incre_modules.0.0.bn2.running_mean, incre_modules.0.0.bn2.running_var, incre_modules.0.0.bn2.num_batches_tracked, incre_modules.0.0.conv3.weight, incre_modules.0.0.bn3.weight, incre_modules.0.0.bn3.bias, incre_modules.0.0.bn3.running_mean, incre_modules.0.0.bn3.running_var, incre_modules.0.0.bn3.num_batches_tracked, incre_modules.0.0.downsample.0.weight, incre_modules.0.0.downsample.1.weight, incre_modules.0.0.downsample.1.bias, incre_modules.0.0.downsample.1.running_mean, incre_modules.0.0.downsample.1.running_var, incre_modules.0.0.downsample.1.num_batches_tracked, incre_modules.1.0.conv1.weight, incre_modules.1.0.bn1.weight, incre_modules.1.0.bn1.bias, incre_modules.1.0.bn1.running_mean, incre_modules.1.0.bn1.running_var, incre_modules.1.0.bn1.num_batches_tracked, incre_modules.1.0.conv2.weight, incre_modules.1.0.bn2.weight, incre_modules.1.0.bn2.bias, incre_modules.1.0.bn2.running_mean, incre_modules.1.0.bn2.running_var, incre_modules.1.0.bn2.num_batches_tracked, incre_modules.1.0.conv3.weight, incre_modules.1.0.bn3.weight, incre_modules.1.0.bn3.bias, incre_modules.1.0.bn3.running_mean, incre_modules.1.0.bn3.running_var, incre_modules.1.0.bn3.num_batches_tracked, incre_modules.1.0.downsample.0.weight, incre_modules.1.0.downsample.1.weight, incre_modules.1.0.downsample.1.bias, incre_modules.1.0.downsample.1.running_mean, incre_modules.1.0.downsample.1.running_var, incre_modules.1.0.downsample.1.num_batches_tracked, incre_modules.2.0.conv1.weight, incre_modules.2.0.bn1.weight, incre_modules.2.0.bn1.bias, incre_modules.2.0.bn1.running_mean, incre_modules.2.0.bn1.running_var, incre_modules.2.0.bn1.num_batches_tracked, incre_modules.2.0.conv2.weight, incre_modules.2.0.bn2.weight, incre_modules.2.0.bn2.bias, incre_modules.2.0.bn2.running_mean, incre_modules.2.0.bn2.running_var, incre_modules.2.0.bn2.num_batches_tracked, incre_modules.2.0.conv3.weight, incre_modules.2.0.bn3.weight, incre_modules.2.0.bn3.bias, incre_modules.2.0.bn3.running_mean, incre_modules.2.0.bn3.running_var, incre_modules.2.0.bn3.num_batches_tracked, incre_modules.2.0.downsample.0.weight, incre_modules.2.0.downsample.1.weight, incre_modules.2.0.downsample.1.bias, incre_modules.2.0.downsample.1.running_mean, incre_modules.2.0.downsample.1.running_var, incre_modules.2.0.downsample.1.num_batches_tracked, incre_modules.3.0.conv1.weight, incre_modules.3.0.bn1.weight, incre_modules.3.0.bn1.bias, incre_modules.3.0.bn1.running_mean, incre_modules.3.0.bn1.running_var, incre_modules.3.0.bn1.num_batches_tracked, incre_modules.3.0.conv2.weight, incre_modules.3.0.bn2.weight, incre_modules.3.0.bn2.bias, incre_modules.3.0.bn2.running_mean, incre_modules.3.0.bn2.running_var, incre_modules.3.0.bn2.num_batches_tracked, incre_modules.3.0.conv3.weight, incre_modules.3.0.bn3.weight, incre_modules.3.0.bn3.bias, incre_modules.3.0.bn3.running_mean, incre_modules.3.0.bn3.running_var, incre_modules.3.0.bn3.num_batches_tracked, incre_modules.3.0.downsample.0.weight, incre_modules.3.0.downsample.1.weight, incre_modules.3.0.downsample.1.bias, incre_modules.3.0.downsample.1.running_mean, incre_modules.3.0.downsample.1.running_var, incre_modules.3.0.downsample.1.num_batches_tracked, downsamp_modules.0.0.weight, downsamp_modules.0.0.bias, downsamp_modules.0.1.weight, downsamp_modules.0.1.bias, downsamp_modules.0.1.running_mean, downsamp_modules.0.1.running_var, downsamp_modules.0.1.num_batches_tracked, downsamp_modules.1.0.weight, downsamp_modules.1.0.bias, downsamp_modules.1.1.weight, downsamp_modules.1.1.bias, downsamp_modules.1.1.running_mean, downsamp_modules.1.1.running_var, downsamp_modules.1.1.num_batches_tracked, downsamp_modules.2.0.weight, downsamp_modules.2.0.bias, downsamp_modules.2.1.weight, downsamp_modules.2.1.bias, downsamp_modules.2.1.running_mean, downsamp_modules.2.1.running_var, downsamp_modules.2.1.num_batches_tracked, final_layer.0.weight, final_layer.0.bias, final_layer.1.weight, final_layer.1.bias, final_layer.1.running_mean, final_layer.1.running_var, final_layer.1.num_batches_tracked, classifier.weight, classifier.bias\n",
      "\n",
      "Use load_from_local loader\n"
     ]
    }
   ],
   "source": [
    "model = build_detector(cfg.model, test_cfg=cfg.get('test_cfg'))\n",
    "checkpoint = load_checkpoint(model, checkpoint_path, map_location='cpu')\n",
    "\n",
    "model.CLASSES = dataset.CLASSES\n",
    "model = MMDataParallel(model.cuda(), device_ids=[0])"
   ]
  },
  {
   "cell_type": "code",
   "execution_count": 13,
   "metadata": {},
   "outputs": [
    {
     "output_type": "stream",
     "name": "stdout",
     "text": [
      "[>>>>>>>>>>>>>>>>>>>>>>>>>>>>>] 837/837, 14.3 task/s, elapsed: 59s, ETA:     0s"
     ]
    }
   ],
   "source": [
    "output = single_gpu_test(model, data_loader, show_score_thr=0.05)"
   ]
  },
  {
   "cell_type": "code",
   "execution_count": 14,
   "metadata": {},
   "outputs": [
    {
     "output_type": "stream",
     "name": "stdout",
     "text": [
      "loading annotations into memory...\nDone (t=0.01s)\ncreating index...\nindex created!\n"
     ]
    },
    {
     "output_type": "execute_result",
     "data": {
      "text/plain": [
       "                                    PredictionString              image_id\n",
       "0  1 0.2753772 126.15086 42.434036 258.5605 158.3...  batch_01_vt/0021.jpg\n",
       "1  1 0.3900201 0.0 245.68784 310.3589 458.77896 6...  batch_01_vt/0028.jpg\n",
       "2  1 0.75788474 71.10812 166.34515 373.33267 381....  batch_01_vt/0031.jpg\n",
       "3  1 0.16377981 0.0 211.50726 27.063309 305.18378...  batch_01_vt/0032.jpg\n",
       "4  1 0.9086419 392.5952 271.44092 467.72595 345.3...  batch_01_vt/0070.jpg"
      ],
      "text/html": "<div>\n<style scoped>\n    .dataframe tbody tr th:only-of-type {\n        vertical-align: middle;\n    }\n\n    .dataframe tbody tr th {\n        vertical-align: top;\n    }\n\n    .dataframe thead th {\n        text-align: right;\n    }\n</style>\n<table border=\"1\" class=\"dataframe\">\n  <thead>\n    <tr style=\"text-align: right;\">\n      <th></th>\n      <th>PredictionString</th>\n      <th>image_id</th>\n    </tr>\n  </thead>\n  <tbody>\n    <tr>\n      <th>0</th>\n      <td>1 0.2753772 126.15086 42.434036 258.5605 158.3...</td>\n      <td>batch_01_vt/0021.jpg</td>\n    </tr>\n    <tr>\n      <th>1</th>\n      <td>1 0.3900201 0.0 245.68784 310.3589 458.77896 6...</td>\n      <td>batch_01_vt/0028.jpg</td>\n    </tr>\n    <tr>\n      <th>2</th>\n      <td>1 0.75788474 71.10812 166.34515 373.33267 381....</td>\n      <td>batch_01_vt/0031.jpg</td>\n    </tr>\n    <tr>\n      <th>3</th>\n      <td>1 0.16377981 0.0 211.50726 27.063309 305.18378...</td>\n      <td>batch_01_vt/0032.jpg</td>\n    </tr>\n    <tr>\n      <th>4</th>\n      <td>1 0.9086419 392.5952 271.44092 467.72595 345.3...</td>\n      <td>batch_01_vt/0070.jpg</td>\n    </tr>\n  </tbody>\n</table>\n</div>"
     },
     "metadata": {},
     "execution_count": 14
    }
   ],
   "source": [
    "prediction_strings = []\n",
    "file_names = []\n",
    "coco = COCO(cfg.data.test.ann_file)\n",
    "imag_ids = coco.getImgIds()\n",
    "\n",
    "class_num = 11\n",
    "for i, out in enumerate(output):\n",
    "    prediction_string = ''\n",
    "    image_info = coco.loadImgs(coco.getImgIds(imgIds=i))[0]\n",
    "    for j in range(class_num):\n",
    "        for o in out[j]:\n",
    "            prediction_string += str(j) + ' ' + str(o[4]) + ' ' + str(o[0]) + ' ' + str(o[1]) + ' ' + str(\n",
    "                o[2]) + ' ' + str(o[3]) + ' '\n",
    "        \n",
    "    prediction_strings.append(prediction_string)\n",
    "    file_names.append(image_info['file_name'])\n",
    "\n",
    "\n",
    "submission = pd.DataFrame()\n",
    "submission['PredictionString'] = prediction_strings\n",
    "submission['image_id'] = file_names\n",
    "\n",
    "submission.to_csv(os.path.join(cfg.work_dir, 'submission_'+config_file_name+f'_{epoch}.csv'), index=None)\n",
    "submission.head()"
   ]
  },
  {
   "cell_type": "code",
   "execution_count": null,
   "metadata": {},
   "outputs": [],
   "source": []
  }
 ],
 "metadata": {
  "kernelspec": {
   "name": "python377jvsc74a57bd098b0a9b7b4eaaa670588a142fd0a9b87eaafe866f1db4228be72b4211d12040f",
   "display_name": "Python 3.7.7 64-bit ('conda': virtualenv)"
  },
  "language_info": {
   "codemirror_mode": {
    "name": "ipython",
    "version": 3
   },
   "file_extension": ".py",
   "mimetype": "text/x-python",
   "name": "python",
   "nbconvert_exporter": "python",
   "pygments_lexer": "ipython3",
   "version": "3.7.7"
  },
  "pycharm": {
   "stem_cell": {
    "cell_type": "raw",
    "metadata": {
     "collapsed": false
    },
    "source": []
   }
  }
 },
 "nbformat": 4,
 "nbformat_minor": 4
}