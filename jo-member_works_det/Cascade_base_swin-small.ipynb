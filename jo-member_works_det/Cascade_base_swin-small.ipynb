{
 "cells": [
  {
   "cell_type": "code",
   "execution_count": 16,
   "metadata": {},
   "outputs": [
    {
     "name": "stdout",
     "output_type": "stream",
     "text": [
      "PyTorch version:[1.6.0].\n",
      "device:[cuda:1].\n"
     ]
    }
   ],
   "source": [
    "from mmcv import Config\n",
    "from mmdet.datasets import build_dataset\n",
    "from mmdet.models import build_detector\n",
    "from mmdet.apis import train_detector\n",
    "from mmdet.datasets import (build_dataloader, build_dataset,\n",
    "                            replace_ImageToTensor)\n",
    "from mmcv.runner import load_checkpoint\n",
    "from tqdm.notebook import tqdm\n",
    "import torch\n",
    "print (\"PyTorch version:[%s].\"%(torch.__version__))\n",
    "device = torch.device('cuda:1' if torch.cuda.is_available() else 'cpu')\n",
    "print (\"device:[%s].\"%(device))"
   ]
  },
  {
   "cell_type": "code",
   "execution_count": 17,
   "metadata": {},
   "outputs": [],
   "source": [
    "classes = (\"UNKNOWN\", \"General trash\", \"Paper\", \"Paper pack\", \"Metal\", \"Glass\", \n",
    "           \"Plastic\", \"Styrofoam\", \"Plastic bag\", \"Battery\", \"Clothing\")\n",
    "# config file 들고오기\n",
    "cfg = Config.fromfile('./configs/swin/cascade_mask_rcnn_swin_small.py')\n",
    "\n",
    "PREFIX = '../../input/data/'\n",
    "\n",
    "# dataset 바꾸기\n",
    "cfg.data.train.classes = classes\n",
    "cfg.data.train.img_prefix = PREFIX\n",
    "cfg.data.train.ann_file = PREFIX + 'train.json'\n",
    "\n",
    "cfg.data.val.classes = classes\n",
    "cfg.data.val.img_prefix = PREFIX\n",
    "cfg.data.val.ann_file = PREFIX + 'val.json'\n",
    "cfg.data.val.pipeline[1]['img_scale'] = (512, 512)\n",
    "\n",
    "cfg.data.test.classes = classes\n",
    "cfg.data.test.img_prefix = PREFIX\n",
    "cfg.data.test.ann_file = PREFIX + 'test.json'\n",
    "cfg.data.test.pipeline[1]['img_scale'] = (512, 512)\n",
    "\n",
    "cfg.data.samples_per_gpu = 4\n",
    "\n",
    "cfg.seed=42\n",
    "cfg.gpu_ids = [1]\n",
    "cfg.work_dir = './work_dirs/swin+cascade+small'\n",
    "\n",
    "\n",
    "cfg.optimizer_config.grad_clip = dict(max_norm=35, norm_type=2)"
   ]
  },
  {
   "cell_type": "code",
   "execution_count": 18,
   "metadata": {},
   "outputs": [
    {
     "name": "stderr",
     "output_type": "stream",
     "text": [
      "2021-05-15 12:56:29,283 - mmdet - INFO - load model from: /home/ubuntu/CUAI_2021/Advanced_Won_Cho/code/Swin-Transformer-Object-Detection/work_dirs/swin+cascade/swin_small_patch4_window7_224.pth\n",
      "2021-05-15 12:56:30,056 - mmdet - WARNING - The model and loaded state dict do not match exactly\n",
      "\n",
      "unexpected key in source state_dict: norm.weight, norm.bias, head.weight, head.bias, layers.0.blocks.1.attn_mask, layers.1.blocks.1.attn_mask, layers.2.blocks.1.attn_mask, layers.2.blocks.3.attn_mask, layers.2.blocks.5.attn_mask, layers.2.blocks.7.attn_mask, layers.2.blocks.9.attn_mask, layers.2.blocks.11.attn_mask, layers.2.blocks.13.attn_mask, layers.2.blocks.15.attn_mask, layers.2.blocks.17.attn_mask\n",
      "\n",
      "missing keys in source state_dict: norm0.weight, norm0.bias, norm1.weight, norm1.bias, norm2.weight, norm2.bias, norm3.weight, norm3.bias\n",
      "\n"
     ]
    },
    {
     "name": "stdout",
     "output_type": "stream",
     "text": [
      "Use load_from_local loader\n",
      "The model and loaded state dict do not match exactly\n",
      "\n",
      "size mismatch for roi_head.bbox_head.0.fc_cls.weight: copying a param with shape torch.Size([81, 1024]) from checkpoint, the shape in current model is torch.Size([12, 1024]).\n",
      "size mismatch for roi_head.bbox_head.0.fc_cls.bias: copying a param with shape torch.Size([81]) from checkpoint, the shape in current model is torch.Size([12]).\n",
      "size mismatch for roi_head.bbox_head.0.fc_reg.weight: copying a param with shape torch.Size([320, 1024]) from checkpoint, the shape in current model is torch.Size([44, 1024]).\n",
      "size mismatch for roi_head.bbox_head.0.fc_reg.bias: copying a param with shape torch.Size([320]) from checkpoint, the shape in current model is torch.Size([44]).\n",
      "size mismatch for roi_head.bbox_head.1.fc_cls.weight: copying a param with shape torch.Size([81, 1024]) from checkpoint, the shape in current model is torch.Size([12, 1024]).\n",
      "size mismatch for roi_head.bbox_head.1.fc_cls.bias: copying a param with shape torch.Size([81]) from checkpoint, the shape in current model is torch.Size([12]).\n",
      "size mismatch for roi_head.bbox_head.1.fc_reg.weight: copying a param with shape torch.Size([320, 1024]) from checkpoint, the shape in current model is torch.Size([44, 1024]).\n",
      "size mismatch for roi_head.bbox_head.1.fc_reg.bias: copying a param with shape torch.Size([320]) from checkpoint, the shape in current model is torch.Size([44]).\n",
      "size mismatch for roi_head.bbox_head.2.fc_cls.weight: copying a param with shape torch.Size([81, 1024]) from checkpoint, the shape in current model is torch.Size([12, 1024]).\n",
      "size mismatch for roi_head.bbox_head.2.fc_cls.bias: copying a param with shape torch.Size([81]) from checkpoint, the shape in current model is torch.Size([12]).\n",
      "size mismatch for roi_head.bbox_head.2.fc_reg.weight: copying a param with shape torch.Size([320, 1024]) from checkpoint, the shape in current model is torch.Size([44, 1024]).\n",
      "size mismatch for roi_head.bbox_head.2.fc_reg.bias: copying a param with shape torch.Size([320]) from checkpoint, the shape in current model is torch.Size([44]).\n",
      "size mismatch for roi_head.mask_head.0.conv_logits.weight: copying a param with shape torch.Size([80, 256, 1, 1]) from checkpoint, the shape in current model is torch.Size([11, 256, 1, 1]).\n",
      "size mismatch for roi_head.mask_head.0.conv_logits.bias: copying a param with shape torch.Size([80]) from checkpoint, the shape in current model is torch.Size([11]).\n",
      "size mismatch for roi_head.mask_head.1.conv_logits.weight: copying a param with shape torch.Size([80, 256, 1, 1]) from checkpoint, the shape in current model is torch.Size([11, 256, 1, 1]).\n",
      "size mismatch for roi_head.mask_head.1.conv_logits.bias: copying a param with shape torch.Size([80]) from checkpoint, the shape in current model is torch.Size([11]).\n",
      "size mismatch for roi_head.mask_head.2.conv_logits.weight: copying a param with shape torch.Size([80, 256, 1, 1]) from checkpoint, the shape in current model is torch.Size([11, 256, 1, 1]).\n",
      "size mismatch for roi_head.mask_head.2.conv_logits.bias: copying a param with shape torch.Size([80]) from checkpoint, the shape in current model is torch.Size([11]).\n",
      "missing keys in source state_dict: neck.downsample_convs.0.conv.weight, neck.downsample_convs.0.conv.bias, neck.downsample_convs.1.conv.weight, neck.downsample_convs.1.conv.bias, neck.downsample_convs.2.conv.weight, neck.downsample_convs.2.conv.bias, neck.pafpn_convs.0.conv.weight, neck.pafpn_convs.0.conv.bias, neck.pafpn_convs.1.conv.weight, neck.pafpn_convs.1.conv.bias, neck.pafpn_convs.2.conv.weight, neck.pafpn_convs.2.conv.bias\n",
      "\n"
     ]
    }
   ],
   "source": [
    "import os\n",
    "from mmcv.runner import load_checkpoint\n",
    "model = build_detector(cfg.model)\n",
    "checkpoint_path = os.path.join('./work_dirs/swin+cascade','cascade_mask_rcnn_swin_small_patch4_window7.pth')\n",
    "checkpoint = load_checkpoint(model, checkpoint_path)"
   ]
  },
  {
   "cell_type": "code",
   "execution_count": 19,
   "metadata": {},
   "outputs": [
    {
     "name": "stdout",
     "output_type": "stream",
     "text": [
      "loading annotations into memory...\n",
      "Done (t=4.54s)\n",
      "creating index...\n",
      "index created!\n"
     ]
    }
   ],
   "source": [
    "datasets = [build_dataset(cfg.data.train)]"
   ]
  },
  {
   "cell_type": "code",
   "execution_count": 20,
   "metadata": {
    "scrolled": true
   },
   "outputs": [
    {
     "name": "stdout",
     "output_type": "stream",
     "text": [
      "loading annotations into memory...\n"
     ]
    },
    {
     "name": "stderr",
     "output_type": "stream",
     "text": [
      "2021-05-15 12:56:55,214 - mmdet - INFO - Start running, host: ubuntu@nipa2021-1083, work_dir: /home/ubuntu/CUAI_2021/Advanced_Won_Cho/code/Swin-Transformer-Object-Detection/work_dirs/swin+cascade+small\n",
      "2021-05-15 12:56:55,215 - mmdet - INFO - workflow: [('train', 1)], max: 15 epochs\n"
     ]
    },
    {
     "name": "stdout",
     "output_type": "stream",
     "text": [
      "Done (t=0.97s)\n",
      "creating index...\n",
      "index created!\n"
     ]
    },
    {
     "name": "stderr",
     "output_type": "stream",
     "text": [
      "2021-05-15 12:57:38,623 - mmdet - INFO - Epoch [1][50/655]\tlr: 9.890e-06, eta: 2:21:25, time: 0.868, data_time: 0.077, memory: 16080, loss_rpn_cls: 0.5125, loss_rpn_bbox: 0.0810, s0.loss_cls: 2.2043, s0.acc: 35.8525, s0.loss_bbox: 0.3296, s0.loss_mask: 1.2078, s1.loss_cls: 1.0718, s1.acc: 51.8174, s1.loss_bbox: 0.0427, s1.loss_mask: 0.4885, s2.loss_cls: 0.5482, s2.acc: 30.7803, s2.loss_bbox: 0.0044, s2.loss_mask: 0.3538, loss: 6.8447, grad_norm: 32.5844\n",
      "2021-05-15 12:58:19,412 - mmdet - INFO - Epoch [1][100/655]\tlr: 1.988e-05, eta: 2:16:27, time: 0.816, data_time: 0.026, memory: 16080, loss_rpn_cls: 0.2211, loss_rpn_bbox: 0.0594, s0.loss_cls: 1.0373, s0.acc: 88.3662, s0.loss_bbox: 0.4071, s0.loss_mask: 0.8454, s1.loss_cls: 0.4432, s1.acc: 94.9990, s1.loss_bbox: 0.0560, s1.loss_mask: 0.3816, s2.loss_cls: 0.2440, s2.acc: 97.1270, s2.loss_bbox: 0.0059, s2.loss_mask: 0.2335, loss: 3.9345, grad_norm: 17.0909\n",
      "2021-05-15 12:59:00,927 - mmdet - INFO - Epoch [1][150/655]\tlr: 2.987e-05, eta: 2:15:07, time: 0.830, data_time: 0.030, memory: 16080, loss_rpn_cls: 0.1399, loss_rpn_bbox: 0.0588, s0.loss_cls: 0.5007, s0.acc: 87.8633, s0.loss_bbox: 0.4652, s0.loss_mask: 0.6517, s1.loss_cls: 0.1504, s1.acc: 94.2939, s1.loss_bbox: 0.0681, s1.loss_mask: 0.3006, s2.loss_cls: 0.0505, s2.acc: 97.1250, s2.loss_bbox: 0.0074, s2.loss_mask: 0.1757, loss: 2.5691, grad_norm: 6.1152\n",
      "2021-05-15 12:59:43,255 - mmdet - INFO - Epoch [1][200/655]\tlr: 3.986e-05, eta: 2:14:46, time: 0.847, data_time: 0.030, memory: 16080, loss_rpn_cls: 0.1140, loss_rpn_bbox: 0.0558, s0.loss_cls: 0.4573, s0.acc: 86.9697, s0.loss_bbox: 0.5054, s0.loss_mask: 0.5181, s1.loss_cls: 0.1472, s1.acc: 93.1855, s1.loss_bbox: 0.0862, s1.loss_mask: 0.2349, s2.loss_cls: 0.0440, s2.acc: 96.6924, s2.loss_bbox: 0.0102, s2.loss_mask: 0.1291, loss: 2.3023, grad_norm: 5.5961\n",
      "2021-05-15 13:00:26,834 - mmdet - INFO - Epoch [1][250/655]\tlr: 4.985e-05, eta: 2:15:04, time: 0.872, data_time: 0.030, memory: 16080, loss_rpn_cls: 0.0896, loss_rpn_bbox: 0.0537, s0.loss_cls: 0.4360, s0.acc: 87.6289, s0.loss_bbox: 0.5002, s0.loss_mask: 0.4472, s1.loss_cls: 0.1639, s1.acc: 91.3672, s1.loss_bbox: 0.1182, s1.loss_mask: 0.2039, s2.loss_cls: 0.0514, s2.acc: 95.3018, s2.loss_bbox: 0.0181, s2.loss_mask: 0.1078, loss: 2.1900, grad_norm: 5.3765\n",
      "2021-05-15 13:01:11,948 - mmdet - INFO - Epoch [1][300/655]\tlr: 5.984e-05, eta: 2:15:50, time: 0.902, data_time: 0.026, memory: 16080, loss_rpn_cls: 0.0946, loss_rpn_bbox: 0.0457, s0.loss_cls: 0.4005, s0.acc: 88.7461, s0.loss_bbox: 0.4152, s0.loss_mask: 0.4148, s1.loss_cls: 0.1883, s1.acc: 89.4797, s1.loss_bbox: 0.1550, s1.loss_mask: 0.1986, s2.loss_cls: 0.0706, s2.acc: 92.2752, s2.loss_bbox: 0.0383, s2.loss_mask: 0.0904, loss: 2.1122, grad_norm: 6.0008\n",
      "2021-05-15 13:01:57,541 - mmdet - INFO - Epoch [1][350/655]\tlr: 6.983e-05, eta: 2:16:24, time: 0.912, data_time: 0.028, memory: 16080, loss_rpn_cls: 0.0887, loss_rpn_bbox: 0.0480, s0.loss_cls: 0.3972, s0.acc: 89.1719, s0.loss_bbox: 0.3521, s0.loss_mask: 0.3668, s1.loss_cls: 0.2017, s1.acc: 88.9647, s1.loss_bbox: 0.1498, s1.loss_mask: 0.1739, s2.loss_cls: 0.0880, s2.acc: 90.4124, s2.loss_bbox: 0.0485, s2.loss_mask: 0.0775, loss: 1.9920, grad_norm: 6.6086\n",
      "2021-05-15 13:02:44,462 - mmdet - INFO - Epoch [1][400/655]\tlr: 7.982e-05, eta: 2:17:08, time: 0.938, data_time: 0.026, memory: 16080, loss_rpn_cls: 0.0798, loss_rpn_bbox: 0.0435, s0.loss_cls: 0.3938, s0.acc: 88.9463, s0.loss_bbox: 0.3249, s0.loss_mask: 0.3198, s1.loss_cls: 0.2037, s1.acc: 88.3878, s1.loss_bbox: 0.1382, s1.loss_mask: 0.1516, s2.loss_cls: 0.0940, s2.acc: 89.3451, s2.loss_bbox: 0.0502, s2.loss_mask: 0.0684, loss: 1.8679, grad_norm: 6.8272\n",
      "2021-05-15 13:03:30,945 - mmdet - INFO - Epoch [1][450/655]\tlr: 8.981e-05, eta: 2:17:24, time: 0.930, data_time: 0.027, memory: 16080, loss_rpn_cls: 0.0818, loss_rpn_bbox: 0.0406, s0.loss_cls: 0.3182, s0.acc: 90.8809, s0.loss_bbox: 0.2833, s0.loss_mask: 0.3073, s1.loss_cls: 0.1670, s1.acc: 90.2112, s1.loss_bbox: 0.1201, s1.loss_mask: 0.1412, s2.loss_cls: 0.0790, s2.acc: 90.7581, s2.loss_bbox: 0.0452, s2.loss_mask: 0.0641, loss: 1.6478, grad_norm: 7.4863\n",
      "2021-05-15 13:04:17,259 - mmdet - INFO - Epoch [1][500/655]\tlr: 9.980e-05, eta: 2:17:23, time: 0.926, data_time: 0.026, memory: 16080, loss_rpn_cls: 0.0870, loss_rpn_bbox: 0.0448, s0.loss_cls: 0.3694, s0.acc: 89.4893, s0.loss_bbox: 0.3050, s0.loss_mask: 0.3219, s1.loss_cls: 0.1883, s1.acc: 88.9389, s1.loss_bbox: 0.1275, s1.loss_mask: 0.1497, s2.loss_cls: 0.0893, s2.acc: 89.3956, s2.loss_bbox: 0.0471, s2.loss_mask: 0.0702, loss: 1.8003, grad_norm: 7.2172\n",
      "2021-05-15 13:05:04,567 - mmdet - INFO - Epoch [1][550/655]\tlr: 1.000e-04, eta: 2:17:32, time: 0.946, data_time: 0.029, memory: 16080, loss_rpn_cls: 0.0792, loss_rpn_bbox: 0.0402, s0.loss_cls: 0.3670, s0.acc: 89.3525, s0.loss_bbox: 0.3229, s0.loss_mask: 0.3241, s1.loss_cls: 0.1839, s1.acc: 89.1737, s1.loss_bbox: 0.1292, s1.loss_mask: 0.1444, s2.loss_cls: 0.0865, s2.acc: 89.8456, s2.loss_bbox: 0.0480, s2.loss_mask: 0.0658, loss: 1.7911, grad_norm: 7.0568\n",
      "2021-05-15 13:05:52,875 - mmdet - INFO - Epoch [1][600/655]\tlr: 1.000e-04, eta: 2:17:46, time: 0.966, data_time: 0.029, memory: 16080, loss_rpn_cls: 0.0827, loss_rpn_bbox: 0.0426, s0.loss_cls: 0.3733, s0.acc: 89.4248, s0.loss_bbox: 0.3341, s0.loss_mask: 0.3110, s1.loss_cls: 0.1841, s1.acc: 89.4448, s1.loss_bbox: 0.1348, s1.loss_mask: 0.1380, s2.loss_cls: 0.0869, s2.acc: 89.8721, s2.loss_bbox: 0.0495, s2.loss_mask: 0.0613, loss: 1.7983, grad_norm: 6.9218\n",
      "2021-05-15 13:06:39,714 - mmdet - INFO - Epoch [1][650/655]\tlr: 1.000e-04, eta: 2:17:30, time: 0.937, data_time: 0.025, memory: 16080, loss_rpn_cls: 0.0646, loss_rpn_bbox: 0.0348, s0.loss_cls: 0.3177, s0.acc: 90.6875, s0.loss_bbox: 0.2824, s0.loss_mask: 0.3094, s1.loss_cls: 0.1619, s1.acc: 90.3341, s1.loss_bbox: 0.1161, s1.loss_mask: 0.1435, s2.loss_cls: 0.0777, s2.acc: 90.7786, s2.loss_bbox: 0.0440, s2.loss_mask: 0.0659, loss: 1.6179, grad_norm: 7.7637\n",
      "2021-05-15 13:06:44,689 - mmdet - INFO - Saving checkpoint at 1 epochs\n"
     ]
    },
    {
     "name": "stdout",
     "output_type": "stream",
     "text": [
      "[>>>>>>>>>>>>>>>>>>>>>>>>>>>>>>] 655/655, 7.0 task/s, elapsed: 94s, ETA:     0s"
     ]
    },
    {
     "name": "stderr",
     "output_type": "stream",
     "text": [
      "2021-05-15 13:08:23,258 - mmdet - INFO - Evaluating bbox...\n"
     ]
    },
    {
     "name": "stdout",
     "output_type": "stream",
     "text": [
      "Loading and preparing results...\n",
      "DONE (t=0.88s)\n",
      "creating index...\n",
      "index created!\n",
      "Running per image evaluation...\n",
      "Evaluate annotation type *bbox*\n",
      "DONE (t=6.57s).\n",
      "Accumulating evaluation results...\n"
     ]
    },
    {
     "name": "stderr",
     "output_type": "stream",
     "text": [
      "2021-05-15 13:08:31,643 - mmdet - INFO - Evaluating segm...\n"
     ]
    },
    {
     "name": "stdout",
     "output_type": "stream",
     "text": [
      "DONE (t=0.92s).\n",
      "Average Precision  (AP) @[ IoU=0.50:0.95 | area=   all | maxDets=100 ] = 0.136\n",
      "Average Precision  (AP) @[ IoU=0.50      | area=   all | maxDets=1000 ] = 0.201\n",
      "Average Precision  (AP) @[ IoU=0.75      | area=   all | maxDets=1000 ] = 0.142\n",
      "Average Precision  (AP) @[ IoU=0.50:0.95 | area= small | maxDets=1000 ] = 0.037\n",
      "Average Precision  (AP) @[ IoU=0.50:0.95 | area=medium | maxDets=1000 ] = 0.158\n",
      "Average Precision  (AP) @[ IoU=0.50:0.95 | area= large | maxDets=1000 ] = 0.225\n",
      "Average Recall     (AR) @[ IoU=0.50:0.95 | area=   all | maxDets=100 ] = 0.285\n",
      "Average Recall     (AR) @[ IoU=0.50:0.95 | area=   all | maxDets=300 ] = 0.285\n",
      "Average Recall     (AR) @[ IoU=0.50:0.95 | area=   all | maxDets=1000 ] = 0.285\n",
      "Average Recall     (AR) @[ IoU=0.50:0.95 | area= small | maxDets=1000 ] = 0.119\n",
      "Average Recall     (AR) @[ IoU=0.50:0.95 | area=medium | maxDets=1000 ] = 0.294\n",
      "Average Recall     (AR) @[ IoU=0.50:0.95 | area= large | maxDets=1000 ] = 0.455\n",
      "Loading and preparing results...\n",
      "DONE (t=0.19s)\n",
      "creating index...\n",
      "index created!\n",
      "Running per image evaluation...\n",
      "Evaluate annotation type *segm*\n",
      "DONE (t=7.56s).\n",
      "Accumulating evaluation results...\n"
     ]
    },
    {
     "name": "stderr",
     "output_type": "stream",
     "text": [
      "2021-05-15 13:08:40,411 - mmdet - INFO - Epoch(val) [1][655]\tbbox_mAP: 0.1360, bbox_mAP_50: 0.2010, bbox_mAP_75: 0.1420, bbox_mAP_s: 0.0370, bbox_mAP_m: 0.1580, bbox_mAP_l: 0.2250, bbox_mAP_copypaste: 0.136 0.201 0.142 0.037 0.158 0.225, segm_mAP: 0.1190, segm_mAP_50: 0.1850, segm_mAP_75: 0.1210, segm_mAP_s: 0.0240, segm_mAP_m: 0.1400, segm_mAP_l: 0.2010, segm_mAP_copypaste: 0.119 0.185 0.121 0.024 0.140 0.201\n"
     ]
    },
    {
     "name": "stdout",
     "output_type": "stream",
     "text": [
      "DONE (t=0.86s).\n",
      "Average Precision  (AP) @[ IoU=0.50:0.95 | area=   all | maxDets=100 ] = 0.119\n",
      "Average Precision  (AP) @[ IoU=0.50      | area=   all | maxDets=1000 ] = 0.185\n",
      "Average Precision  (AP) @[ IoU=0.75      | area=   all | maxDets=1000 ] = 0.121\n",
      "Average Precision  (AP) @[ IoU=0.50:0.95 | area= small | maxDets=1000 ] = 0.024\n",
      "Average Precision  (AP) @[ IoU=0.50:0.95 | area=medium | maxDets=1000 ] = 0.140\n",
      "Average Precision  (AP) @[ IoU=0.50:0.95 | area= large | maxDets=1000 ] = 0.201\n",
      "Average Recall     (AR) @[ IoU=0.50:0.95 | area=   all | maxDets=100 ] = 0.255\n",
      "Average Recall     (AR) @[ IoU=0.50:0.95 | area=   all | maxDets=300 ] = 0.255\n",
      "Average Recall     (AR) @[ IoU=0.50:0.95 | area=   all | maxDets=1000 ] = 0.255\n",
      "Average Recall     (AR) @[ IoU=0.50:0.95 | area= small | maxDets=1000 ] = 0.086\n",
      "Average Recall     (AR) @[ IoU=0.50:0.95 | area=medium | maxDets=1000 ] = 0.261\n",
      "Average Recall     (AR) @[ IoU=0.50:0.95 | area= large | maxDets=1000 ] = 0.431\n"
     ]
    },
    {
     "name": "stderr",
     "output_type": "stream",
     "text": [
      "2021-05-15 13:09:31,284 - mmdet - INFO - Epoch [2][50/655]\tlr: 1.000e-04, eta: 2:16:58, time: 1.017, data_time: 0.076, memory: 16080, loss_rpn_cls: 0.0706, loss_rpn_bbox: 0.0356, s0.loss_cls: 0.3351, s0.acc: 90.0811, s0.loss_bbox: 0.2963, s0.loss_mask: 0.2849, s1.loss_cls: 0.1681, s1.acc: 89.9575, s1.loss_bbox: 0.1202, s1.loss_mask: 0.1246, s2.loss_cls: 0.0826, s2.acc: 90.0915, s2.loss_bbox: 0.0458, s2.loss_mask: 0.0567, loss: 1.6205, grad_norm: 7.0266\n",
      "2021-05-15 13:10:17,960 - mmdet - INFO - Epoch [2][100/655]\tlr: 1.000e-04, eta: 2:16:33, time: 0.934, data_time: 0.027, memory: 16080, loss_rpn_cls: 0.0784, loss_rpn_bbox: 0.0391, s0.loss_cls: 0.3215, s0.acc: 90.4229, s0.loss_bbox: 0.2889, s0.loss_mask: 0.2906, s1.loss_cls: 0.1625, s1.acc: 90.1428, s1.loss_bbox: 0.1185, s1.loss_mask: 0.1313, s2.loss_cls: 0.0787, s2.acc: 90.3104, s2.loss_bbox: 0.0444, s2.loss_mask: 0.0599, loss: 1.6137, grad_norm: 7.1896\n",
      "2021-05-15 13:11:03,949 - mmdet - INFO - Epoch [2][150/655]\tlr: 1.000e-04, eta: 2:15:57, time: 0.920, data_time: 0.024, memory: 16080, loss_rpn_cls: 0.0729, loss_rpn_bbox: 0.0391, s0.loss_cls: 0.3018, s0.acc: 90.8604, s0.loss_bbox: 0.2704, s0.loss_mask: 0.2796, s1.loss_cls: 0.1540, s1.acc: 90.5445, s1.loss_bbox: 0.1116, s1.loss_mask: 0.1291, s2.loss_cls: 0.0761, s2.acc: 90.6995, s2.loss_bbox: 0.0431, s2.loss_mask: 0.0583, loss: 1.5360, grad_norm: 7.1799\n",
      "2021-05-15 13:11:49,942 - mmdet - INFO - Epoch [2][200/655]\tlr: 1.000e-04, eta: 2:15:20, time: 0.920, data_time: 0.025, memory: 16080, loss_rpn_cls: 0.0723, loss_rpn_bbox: 0.0344, s0.loss_cls: 0.2914, s0.acc: 91.4512, s0.loss_bbox: 0.2528, s0.loss_mask: 0.2776, s1.loss_cls: 0.1474, s1.acc: 91.0249, s1.loss_bbox: 0.1025, s1.loss_mask: 0.1243, s2.loss_cls: 0.0719, s2.acc: 91.2404, s2.loss_bbox: 0.0390, s2.loss_mask: 0.0575, loss: 1.4711, grad_norm: 7.2829\n",
      "2021-05-15 13:12:36,167 - mmdet - INFO - Epoch [2][250/655]\tlr: 1.000e-04, eta: 2:14:44, time: 0.924, data_time: 0.026, memory: 16080, loss_rpn_cls: 0.0608, loss_rpn_bbox: 0.0323, s0.loss_cls: 0.3026, s0.acc: 91.1182, s0.loss_bbox: 0.2572, s0.loss_mask: 0.2796, s1.loss_cls: 0.1541, s1.acc: 90.8722, s1.loss_bbox: 0.1068, s1.loss_mask: 0.1249, s2.loss_cls: 0.0738, s2.acc: 90.9478, s2.loss_bbox: 0.0402, s2.loss_mask: 0.0566, loss: 1.4889, grad_norm: 7.6127\n",
      "2021-05-15 13:13:22,667 - mmdet - INFO - Epoch [2][300/655]\tlr: 1.000e-04, eta: 2:14:10, time: 0.930, data_time: 0.026, memory: 16080, loss_rpn_cls: 0.0644, loss_rpn_bbox: 0.0342, s0.loss_cls: 0.3224, s0.acc: 90.5273, s0.loss_bbox: 0.2692, s0.loss_mask: 0.2809, s1.loss_cls: 0.1628, s1.acc: 90.2646, s1.loss_bbox: 0.1094, s1.loss_mask: 0.1282, s2.loss_cls: 0.0783, s2.acc: 90.4638, s2.loss_bbox: 0.0401, s2.loss_mask: 0.0570, loss: 1.5469, grad_norm: 7.2604\n",
      "2021-05-15 13:14:09,392 - mmdet - INFO - Epoch [2][350/655]\tlr: 1.000e-04, eta: 2:13:36, time: 0.934, data_time: 0.030, memory: 16080, loss_rpn_cls: 0.0774, loss_rpn_bbox: 0.0377, s0.loss_cls: 0.2995, s0.acc: 91.1406, s0.loss_bbox: 0.2761, s0.loss_mask: 0.2940, s1.loss_cls: 0.1528, s1.acc: 90.9002, s1.loss_bbox: 0.1098, s1.loss_mask: 0.1313, s2.loss_cls: 0.0745, s2.acc: 91.1062, s2.loss_bbox: 0.0409, s2.loss_mask: 0.0597, loss: 1.5537, grad_norm: 6.5882\n",
      "2021-05-15 13:14:56,096 - mmdet - INFO - Epoch [2][400/655]\tlr: 1.000e-04, eta: 2:13:01, time: 0.934, data_time: 0.027, memory: 16080, loss_rpn_cls: 0.0707, loss_rpn_bbox: 0.0422, s0.loss_cls: 0.2968, s0.acc: 91.0059, s0.loss_bbox: 0.2829, s0.loss_mask: 0.2853, s1.loss_cls: 0.1504, s1.acc: 90.8904, s1.loss_bbox: 0.1141, s1.loss_mask: 0.1273, s2.loss_cls: 0.0714, s2.acc: 91.3126, s2.loss_bbox: 0.0410, s2.loss_mask: 0.0575, loss: 1.5398, grad_norm: 7.1318\n",
      "2021-05-15 13:15:43,473 - mmdet - INFO - Epoch [2][450/655]\tlr: 1.000e-04, eta: 2:12:30, time: 0.948, data_time: 0.029, memory: 16080, loss_rpn_cls: 0.0774, loss_rpn_bbox: 0.0428, s0.loss_cls: 0.3174, s0.acc: 90.3340, s0.loss_bbox: 0.2931, s0.loss_mask: 0.2912, s1.loss_cls: 0.1567, s1.acc: 90.3679, s1.loss_bbox: 0.1179, s1.loss_mask: 0.1307, s2.loss_cls: 0.0761, s2.acc: 90.6891, s2.loss_bbox: 0.0435, s2.loss_mask: 0.0597, loss: 1.6065, grad_norm: 7.0433\n",
      "2021-05-15 13:16:30,380 - mmdet - INFO - Epoch [2][500/655]\tlr: 1.000e-04, eta: 2:11:55, time: 0.938, data_time: 0.029, memory: 16080, loss_rpn_cls: 0.0765, loss_rpn_bbox: 0.0372, s0.loss_cls: 0.3068, s0.acc: 90.7959, s0.loss_bbox: 0.2883, s0.loss_mask: 0.2749, s1.loss_cls: 0.1528, s1.acc: 90.7929, s1.loss_bbox: 0.1157, s1.loss_mask: 0.1273, s2.loss_cls: 0.0723, s2.acc: 91.1489, s2.loss_bbox: 0.0419, s2.loss_mask: 0.0572, loss: 1.5509, grad_norm: 6.8600\n",
      "2021-05-15 13:17:17,564 - mmdet - INFO - Epoch [2][550/655]\tlr: 1.000e-04, eta: 2:11:20, time: 0.944, data_time: 0.031, memory: 16080, loss_rpn_cls: 0.0632, loss_rpn_bbox: 0.0383, s0.loss_cls: 0.2961, s0.acc: 91.0283, s0.loss_bbox: 0.2707, s0.loss_mask: 0.2725, s1.loss_cls: 0.1479, s1.acc: 90.8184, s1.loss_bbox: 0.1074, s1.loss_mask: 0.1194, s2.loss_cls: 0.0712, s2.acc: 91.0454, s2.loss_bbox: 0.0399, s2.loss_mask: 0.0537, loss: 1.4804, grad_norm: 6.8239\n",
      "2021-05-15 13:18:05,508 - mmdet - INFO - Epoch [2][600/655]\tlr: 1.000e-04, eta: 2:10:50, time: 0.959, data_time: 0.028, memory: 16080, loss_rpn_cls: 0.0628, loss_rpn_bbox: 0.0325, s0.loss_cls: 0.3016, s0.acc: 90.8926, s0.loss_bbox: 0.2783, s0.loss_mask: 0.2795, s1.loss_cls: 0.1534, s1.acc: 90.7298, s1.loss_bbox: 0.1109, s1.loss_mask: 0.1245, s2.loss_cls: 0.0738, s2.acc: 90.9904, s2.loss_bbox: 0.0409, s2.loss_mask: 0.0552, loss: 1.5135, grad_norm: 7.2217\n",
      "2021-05-15 13:18:52,947 - mmdet - INFO - Epoch [2][650/655]\tlr: 1.000e-04, eta: 2:10:14, time: 0.949, data_time: 0.032, memory: 16080, loss_rpn_cls: 0.0698, loss_rpn_bbox: 0.0366, s0.loss_cls: 0.3052, s0.acc: 90.4473, s0.loss_bbox: 0.2935, s0.loss_mask: 0.2754, s1.loss_cls: 0.1548, s1.acc: 90.0595, s1.loss_bbox: 0.1203, s1.loss_mask: 0.1252, s2.loss_cls: 0.0755, s2.acc: 90.1121, s2.loss_bbox: 0.0438, s2.loss_mask: 0.0566, loss: 1.5568, grad_norm: 7.5610\n",
      "2021-05-15 13:18:57,733 - mmdet - INFO - Saving checkpoint at 2 epochs\n"
     ]
    },
    {
     "name": "stdout",
     "output_type": "stream",
     "text": [
      "[>>>>>>>>>>>>>>>>>>>>>>>>>>>>>>] 655/655, 7.4 task/s, elapsed: 88s, ETA:     0s"
     ]
    },
    {
     "name": "stderr",
     "output_type": "stream",
     "text": [
      "2021-05-15 13:20:30,400 - mmdet - INFO - Evaluating bbox...\n"
     ]
    },
    {
     "name": "stdout",
     "output_type": "stream",
     "text": [
      "Loading and preparing results...\n",
      "DONE (t=0.79s)\n",
      "creating index...\n",
      "index created!\n",
      "Running per image evaluation...\n",
      "Evaluate annotation type *bbox*\n",
      "DONE (t=4.92s).\n",
      "Accumulating evaluation results...\n"
     ]
    },
    {
     "name": "stderr",
     "output_type": "stream",
     "text": [
      "2021-05-15 13:20:36,890 - mmdet - INFO - Evaluating segm...\n"
     ]
    },
    {
     "name": "stdout",
     "output_type": "stream",
     "text": [
      "DONE (t=0.76s).\n",
      "Average Precision  (AP) @[ IoU=0.50:0.95 | area=   all | maxDets=100 ] = 0.188\n",
      "Average Precision  (AP) @[ IoU=0.50      | area=   all | maxDets=1000 ] = 0.263\n",
      "Average Precision  (AP) @[ IoU=0.75      | area=   all | maxDets=1000 ] = 0.195\n",
      "Average Precision  (AP) @[ IoU=0.50:0.95 | area= small | maxDets=1000 ] = 0.064\n",
      "Average Precision  (AP) @[ IoU=0.50:0.95 | area=medium | maxDets=1000 ] = 0.210\n",
      "Average Precision  (AP) @[ IoU=0.50:0.95 | area= large | maxDets=1000 ] = 0.308\n",
      "Average Recall     (AR) @[ IoU=0.50:0.95 | area=   all | maxDets=100 ] = 0.353\n",
      "Average Recall     (AR) @[ IoU=0.50:0.95 | area=   all | maxDets=300 ] = 0.353\n",
      "Average Recall     (AR) @[ IoU=0.50:0.95 | area=   all | maxDets=1000 ] = 0.353\n",
      "Average Recall     (AR) @[ IoU=0.50:0.95 | area= small | maxDets=1000 ] = 0.149\n",
      "Average Recall     (AR) @[ IoU=0.50:0.95 | area=medium | maxDets=1000 ] = 0.367\n",
      "Average Recall     (AR) @[ IoU=0.50:0.95 | area= large | maxDets=1000 ] = 0.536\n",
      "Loading and preparing results...\n",
      "DONE (t=0.85s)\n",
      "creating index...\n",
      "index created!\n",
      "Running per image evaluation...\n",
      "Evaluate annotation type *segm*\n",
      "DONE (t=5.25s).\n",
      "Accumulating evaluation results...\n"
     ]
    },
    {
     "name": "stderr",
     "output_type": "stream",
     "text": [
      "2021-05-15 13:20:43,859 - mmdet - INFO - Epoch(val) [2][655]\tbbox_mAP: 0.1880, bbox_mAP_50: 0.2630, bbox_mAP_75: 0.1950, bbox_mAP_s: 0.0640, bbox_mAP_m: 0.2100, bbox_mAP_l: 0.3080, bbox_mAP_copypaste: 0.188 0.263 0.195 0.064 0.210 0.308, segm_mAP: 0.1690, segm_mAP_50: 0.2500, segm_mAP_75: 0.1760, segm_mAP_s: 0.0470, segm_mAP_m: 0.1880, segm_mAP_l: 0.2810, segm_mAP_copypaste: 0.169 0.250 0.176 0.047 0.188 0.281\n"
     ]
    },
    {
     "name": "stdout",
     "output_type": "stream",
     "text": [
      "DONE (t=0.75s).\n",
      "Average Precision  (AP) @[ IoU=0.50:0.95 | area=   all | maxDets=100 ] = 0.169\n",
      "Average Precision  (AP) @[ IoU=0.50      | area=   all | maxDets=1000 ] = 0.250\n",
      "Average Precision  (AP) @[ IoU=0.75      | area=   all | maxDets=1000 ] = 0.176\n",
      "Average Precision  (AP) @[ IoU=0.50:0.95 | area= small | maxDets=1000 ] = 0.047\n",
      "Average Precision  (AP) @[ IoU=0.50:0.95 | area=medium | maxDets=1000 ] = 0.188\n",
      "Average Precision  (AP) @[ IoU=0.50:0.95 | area= large | maxDets=1000 ] = 0.281\n",
      "Average Recall     (AR) @[ IoU=0.50:0.95 | area=   all | maxDets=100 ] = 0.325\n",
      "Average Recall     (AR) @[ IoU=0.50:0.95 | area=   all | maxDets=300 ] = 0.325\n",
      "Average Recall     (AR) @[ IoU=0.50:0.95 | area=   all | maxDets=1000 ] = 0.325\n",
      "Average Recall     (AR) @[ IoU=0.50:0.95 | area= small | maxDets=1000 ] = 0.118\n",
      "Average Recall     (AR) @[ IoU=0.50:0.95 | area=medium | maxDets=1000 ] = 0.330\n",
      "Average Recall     (AR) @[ IoU=0.50:0.95 | area= large | maxDets=1000 ] = 0.513\n"
     ]
    },
    {
     "name": "stderr",
     "output_type": "stream",
     "text": [
      "2021-05-15 13:21:33,247 - mmdet - INFO - Epoch [3][50/655]\tlr: 1.000e-04, eta: 2:09:17, time: 0.988, data_time: 0.077, memory: 16080, loss_rpn_cls: 0.0529, loss_rpn_bbox: 0.0308, s0.loss_cls: 0.2696, s0.acc: 91.8047, s0.loss_bbox: 0.2597, s0.loss_mask: 0.2704, s1.loss_cls: 0.1325, s1.acc: 91.7872, s1.loss_bbox: 0.1032, s1.loss_mask: 0.1211, s2.loss_cls: 0.0642, s2.acc: 91.8452, s2.loss_bbox: 0.0401, s2.loss_mask: 0.0565, loss: 1.4010, grad_norm: 6.4369\n",
      "2021-05-15 13:22:20,208 - mmdet - INFO - Epoch [3][100/655]\tlr: 1.000e-04, eta: 2:08:38, time: 0.939, data_time: 0.030, memory: 16080, loss_rpn_cls: 0.0668, loss_rpn_bbox: 0.0367, s0.loss_cls: 0.2990, s0.acc: 90.7607, s0.loss_bbox: 0.2781, s0.loss_mask: 0.2754, s1.loss_cls: 0.1495, s1.acc: 90.6437, s1.loss_bbox: 0.1135, s1.loss_mask: 0.1246, s2.loss_cls: 0.0729, s2.acc: 90.8808, s2.loss_bbox: 0.0430, s2.loss_mask: 0.0569, loss: 1.5164, grad_norm: 7.1297\n",
      "2021-05-15 13:23:08,022 - mmdet - INFO - Epoch [3][150/655]\tlr: 1.000e-04, eta: 2:08:04, time: 0.956, data_time: 0.029, memory: 16080, loss_rpn_cls: 0.0659, loss_rpn_bbox: 0.0370, s0.loss_cls: 0.3029, s0.acc: 90.5986, s0.loss_bbox: 0.2979, s0.loss_mask: 0.2755, s1.loss_cls: 0.1492, s1.acc: 90.5116, s1.loss_bbox: 0.1189, s1.loss_mask: 0.1222, s2.loss_cls: 0.0718, s2.acc: 90.8049, s2.loss_bbox: 0.0435, s2.loss_mask: 0.0545, loss: 1.5392, grad_norm: 6.7622\n",
      "2021-05-15 13:23:54,365 - mmdet - INFO - Epoch [3][200/655]\tlr: 1.000e-04, eta: 2:07:20, time: 0.927, data_time: 0.026, memory: 16080, loss_rpn_cls: 0.0549, loss_rpn_bbox: 0.0320, s0.loss_cls: 0.2570, s0.acc: 91.9902, s0.loss_bbox: 0.2493, s0.loss_mask: 0.2600, s1.loss_cls: 0.1289, s1.acc: 91.8096, s1.loss_bbox: 0.1003, s1.loss_mask: 0.1160, s2.loss_cls: 0.0634, s2.acc: 91.9480, s2.loss_bbox: 0.0380, s2.loss_mask: 0.0537, loss: 1.3536, grad_norm: 6.9527\n",
      "2021-05-15 13:24:41,107 - mmdet - INFO - Epoch [3][250/655]\tlr: 1.000e-04, eta: 2:06:38, time: 0.935, data_time: 0.028, memory: 16080, loss_rpn_cls: 0.0666, loss_rpn_bbox: 0.0361, s0.loss_cls: 0.2837, s0.acc: 91.3643, s0.loss_bbox: 0.2591, s0.loss_mask: 0.2568, s1.loss_cls: 0.1430, s1.acc: 91.2763, s1.loss_bbox: 0.1031, s1.loss_mask: 0.1124, s2.loss_cls: 0.0704, s2.acc: 91.4504, s2.loss_bbox: 0.0383, s2.loss_mask: 0.0508, loss: 1.4204, grad_norm: 6.8517\n",
      "2021-05-15 13:25:28,198 - mmdet - INFO - Epoch [3][300/655]\tlr: 1.000e-04, eta: 2:05:58, time: 0.942, data_time: 0.028, memory: 16080, loss_rpn_cls: 0.0623, loss_rpn_bbox: 0.0368, s0.loss_cls: 0.2663, s0.acc: 91.6562, s0.loss_bbox: 0.2665, s0.loss_mask: 0.2481, s1.loss_cls: 0.1354, s1.acc: 91.3903, s1.loss_bbox: 0.1093, s1.loss_mask: 0.1084, s2.loss_cls: 0.0672, s2.acc: 91.4356, s2.loss_bbox: 0.0412, s2.loss_mask: 0.0485, loss: 1.3899, grad_norm: 6.7351\n",
      "2021-05-15 13:26:14,020 - mmdet - INFO - Epoch [3][350/655]\tlr: 1.000e-04, eta: 2:05:11, time: 0.916, data_time: 0.024, memory: 16080, loss_rpn_cls: 0.0563, loss_rpn_bbox: 0.0312, s0.loss_cls: 0.2652, s0.acc: 92.0566, s0.loss_bbox: 0.2412, s0.loss_mask: 0.2523, s1.loss_cls: 0.1335, s1.acc: 91.8208, s1.loss_bbox: 0.0974, s1.loss_mask: 0.1135, s2.loss_cls: 0.0652, s2.acc: 91.7865, s2.loss_bbox: 0.0369, s2.loss_mask: 0.0517, loss: 1.3444, grad_norm: 6.8992\n",
      "2021-05-15 13:27:01,185 - mmdet - INFO - Epoch [3][400/655]\tlr: 1.000e-04, eta: 2:04:31, time: 0.943, data_time: 0.028, memory: 16080, loss_rpn_cls: 0.0592, loss_rpn_bbox: 0.0341, s0.loss_cls: 0.2801, s0.acc: 91.6143, s0.loss_bbox: 0.2661, s0.loss_mask: 0.2731, s1.loss_cls: 0.1416, s1.acc: 91.3979, s1.loss_bbox: 0.1069, s1.loss_mask: 0.1244, s2.loss_cls: 0.0690, s2.acc: 91.3924, s2.loss_bbox: 0.0393, s2.loss_mask: 0.0570, loss: 1.4510, grad_norm: 7.3917\n",
      "2021-05-15 13:27:47,551 - mmdet - INFO - Epoch [3][450/655]\tlr: 1.000e-04, eta: 2:03:46, time: 0.927, data_time: 0.025, memory: 16080, loss_rpn_cls: 0.0579, loss_rpn_bbox: 0.0322, s0.loss_cls: 0.2593, s0.acc: 91.9355, s0.loss_bbox: 0.2573, s0.loss_mask: 0.2765, s1.loss_cls: 0.1308, s1.acc: 91.7056, s1.loss_bbox: 0.1049, s1.loss_mask: 0.1255, s2.loss_cls: 0.0638, s2.acc: 91.7671, s2.loss_bbox: 0.0392, s2.loss_mask: 0.0569, loss: 1.4042, grad_norm: 6.7427\n",
      "2021-05-15 13:28:33,791 - mmdet - INFO - Epoch [3][500/655]\tlr: 1.000e-04, eta: 2:03:01, time: 0.925, data_time: 0.027, memory: 16080, loss_rpn_cls: 0.0512, loss_rpn_bbox: 0.0350, s0.loss_cls: 0.2615, s0.acc: 91.7090, s0.loss_bbox: 0.2565, s0.loss_mask: 0.2601, s1.loss_cls: 0.1280, s1.acc: 91.8673, s1.loss_bbox: 0.1040, s1.loss_mask: 0.1150, s2.loss_cls: 0.0621, s2.acc: 91.7219, s2.loss_bbox: 0.0385, s2.loss_mask: 0.0514, loss: 1.3633, grad_norm: 6.6704\n",
      "2021-05-15 13:29:20,492 - mmdet - INFO - Epoch [3][550/655]\tlr: 1.000e-04, eta: 2:02:18, time: 0.934, data_time: 0.029, memory: 16080, loss_rpn_cls: 0.0574, loss_rpn_bbox: 0.0348, s0.loss_cls: 0.2701, s0.acc: 91.9023, s0.loss_bbox: 0.2452, s0.loss_mask: 0.2568, s1.loss_cls: 0.1364, s1.acc: 91.9137, s1.loss_bbox: 0.1005, s1.loss_mask: 0.1144, s2.loss_cls: 0.0667, s2.acc: 91.8344, s2.loss_bbox: 0.0383, s2.loss_mask: 0.0516, loss: 1.3722, grad_norm: 6.8474\n",
      "2021-05-15 13:30:08,068 - mmdet - INFO - Epoch [3][600/655]\tlr: 1.000e-04, eta: 2:01:38, time: 0.952, data_time: 0.027, memory: 16080, loss_rpn_cls: 0.0579, loss_rpn_bbox: 0.0340, s0.loss_cls: 0.2768, s0.acc: 91.5703, s0.loss_bbox: 0.2676, s0.loss_mask: 0.2649, s1.loss_cls: 0.1389, s1.acc: 91.4840, s1.loss_bbox: 0.1090, s1.loss_mask: 0.1187, s2.loss_cls: 0.0682, s2.acc: 91.4439, s2.loss_bbox: 0.0414, s2.loss_mask: 0.0545, loss: 1.4319, grad_norm: 6.8012\n",
      "2021-05-15 13:30:55,845 - mmdet - INFO - Epoch [3][650/655]\tlr: 1.000e-04, eta: 2:00:58, time: 0.956, data_time: 0.030, memory: 16080, loss_rpn_cls: 0.0674, loss_rpn_bbox: 0.0393, s0.loss_cls: 0.2870, s0.acc: 91.1621, s0.loss_bbox: 0.2868, s0.loss_mask: 0.2602, s1.loss_cls: 0.1436, s1.acc: 91.1950, s1.loss_bbox: 0.1153, s1.loss_mask: 0.1163, s2.loss_cls: 0.0693, s2.acc: 91.5776, s2.loss_bbox: 0.0429, s2.loss_mask: 0.0524, loss: 1.4805, grad_norm: 6.7451\n",
      "2021-05-15 13:31:00,575 - mmdet - INFO - Saving checkpoint at 3 epochs\n"
     ]
    },
    {
     "name": "stdout",
     "output_type": "stream",
     "text": [
      "[>>>>>>>>>>>>>>>>>>>>>>>>>>>>>>] 655/655, 7.3 task/s, elapsed: 90s, ETA:     0s"
     ]
    },
    {
     "name": "stderr",
     "output_type": "stream",
     "text": [
      "2021-05-15 13:32:35,304 - mmdet - INFO - Evaluating bbox...\n"
     ]
    },
    {
     "name": "stdout",
     "output_type": "stream",
     "text": [
      "Loading and preparing results...\n",
      "DONE (t=0.82s)\n",
      "creating index...\n",
      "index created!\n",
      "Running per image evaluation...\n",
      "Evaluate annotation type *bbox*\n",
      "DONE (t=5.02s).\n",
      "Accumulating evaluation results...\n"
     ]
    },
    {
     "name": "stderr",
     "output_type": "stream",
     "text": [
      "2021-05-15 13:32:41,940 - mmdet - INFO - Evaluating segm...\n"
     ]
    },
    {
     "name": "stdout",
     "output_type": "stream",
     "text": [
      "DONE (t=0.78s).\n",
      "Average Precision  (AP) @[ IoU=0.50:0.95 | area=   all | maxDets=100 ] = 0.225\n",
      "Average Precision  (AP) @[ IoU=0.50      | area=   all | maxDets=1000 ] = 0.316\n",
      "Average Precision  (AP) @[ IoU=0.75      | area=   all | maxDets=1000 ] = 0.239\n",
      "Average Precision  (AP) @[ IoU=0.50:0.95 | area= small | maxDets=1000 ] = 0.067\n",
      "Average Precision  (AP) @[ IoU=0.50:0.95 | area=medium | maxDets=1000 ] = 0.238\n",
      "Average Precision  (AP) @[ IoU=0.50:0.95 | area= large | maxDets=1000 ] = 0.395\n",
      "Average Recall     (AR) @[ IoU=0.50:0.95 | area=   all | maxDets=100 ] = 0.412\n",
      "Average Recall     (AR) @[ IoU=0.50:0.95 | area=   all | maxDets=300 ] = 0.412\n",
      "Average Recall     (AR) @[ IoU=0.50:0.95 | area=   all | maxDets=1000 ] = 0.412\n",
      "Average Recall     (AR) @[ IoU=0.50:0.95 | area= small | maxDets=1000 ] = 0.165\n",
      "Average Recall     (AR) @[ IoU=0.50:0.95 | area=medium | maxDets=1000 ] = 0.390\n",
      "Average Recall     (AR) @[ IoU=0.50:0.95 | area= large | maxDets=1000 ] = 0.693\n",
      "Loading and preparing results...\n",
      "DONE (t=0.89s)\n",
      "creating index...\n",
      "index created!\n",
      "Running per image evaluation...\n",
      "Evaluate annotation type *segm*\n",
      "DONE (t=5.32s).\n",
      "Accumulating evaluation results...\n"
     ]
    },
    {
     "name": "stderr",
     "output_type": "stream",
     "text": [
      "2021-05-15 13:32:49,092 - mmdet - INFO - Epoch(val) [3][655]\tbbox_mAP: 0.2250, bbox_mAP_50: 0.3160, bbox_mAP_75: 0.2390, bbox_mAP_s: 0.0670, bbox_mAP_m: 0.2380, bbox_mAP_l: 0.3950, bbox_mAP_copypaste: 0.225 0.316 0.239 0.067 0.238 0.395, segm_mAP: 0.1990, segm_mAP_50: 0.2900, segm_mAP_75: 0.2040, segm_mAP_s: 0.0470, segm_mAP_m: 0.2100, segm_mAP_l: 0.3610, segm_mAP_copypaste: 0.199 0.290 0.204 0.047 0.210 0.361\n"
     ]
    },
    {
     "name": "stdout",
     "output_type": "stream",
     "text": [
      "DONE (t=0.80s).\n",
      "Average Precision  (AP) @[ IoU=0.50:0.95 | area=   all | maxDets=100 ] = 0.199\n",
      "Average Precision  (AP) @[ IoU=0.50      | area=   all | maxDets=1000 ] = 0.290\n",
      "Average Precision  (AP) @[ IoU=0.75      | area=   all | maxDets=1000 ] = 0.204\n",
      "Average Precision  (AP) @[ IoU=0.50:0.95 | area= small | maxDets=1000 ] = 0.047\n",
      "Average Precision  (AP) @[ IoU=0.50:0.95 | area=medium | maxDets=1000 ] = 0.210\n",
      "Average Precision  (AP) @[ IoU=0.50:0.95 | area= large | maxDets=1000 ] = 0.361\n",
      "Average Recall     (AR) @[ IoU=0.50:0.95 | area=   all | maxDets=100 ] = 0.378\n",
      "Average Recall     (AR) @[ IoU=0.50:0.95 | area=   all | maxDets=300 ] = 0.378\n",
      "Average Recall     (AR) @[ IoU=0.50:0.95 | area=   all | maxDets=1000 ] = 0.378\n",
      "Average Recall     (AR) @[ IoU=0.50:0.95 | area= small | maxDets=1000 ] = 0.126\n",
      "Average Recall     (AR) @[ IoU=0.50:0.95 | area=medium | maxDets=1000 ] = 0.352\n",
      "Average Recall     (AR) @[ IoU=0.50:0.95 | area= large | maxDets=1000 ] = 0.670\n"
     ]
    },
    {
     "name": "stderr",
     "output_type": "stream",
     "text": [
      "2021-05-15 13:33:38,807 - mmdet - INFO - Epoch [4][50/655]\tlr: 1.000e-04, eta: 2:00:04, time: 0.994, data_time: 0.078, memory: 16080, loss_rpn_cls: 0.0469, loss_rpn_bbox: 0.0363, s0.loss_cls: 0.2508, s0.acc: 92.0811, s0.loss_bbox: 0.2428, s0.loss_mask: 0.2529, s1.loss_cls: 0.1265, s1.acc: 91.8895, s1.loss_bbox: 0.1007, s1.loss_mask: 0.1142, s2.loss_cls: 0.0616, s2.acc: 92.1251, s2.loss_bbox: 0.0385, s2.loss_mask: 0.0523, loss: 1.3234, grad_norm: 6.6898\n",
      "2021-05-15 13:34:25,335 - mmdet - INFO - Epoch [4][100/655]\tlr: 1.000e-04, eta: 1:59:19, time: 0.931, data_time: 0.029, memory: 16080, loss_rpn_cls: 0.0567, loss_rpn_bbox: 0.0369, s0.loss_cls: 0.2481, s0.acc: 92.2773, s0.loss_bbox: 0.2490, s0.loss_mask: 0.2402, s1.loss_cls: 0.1223, s1.acc: 92.4344, s1.loss_bbox: 0.1018, s1.loss_mask: 0.1063, s2.loss_cls: 0.0595, s2.acc: 92.5328, s2.loss_bbox: 0.0384, s2.loss_mask: 0.0476, loss: 1.3067, grad_norm: 6.5421\n",
      "2021-05-15 13:35:12,906 - mmdet - INFO - Epoch [4][150/655]\tlr: 1.000e-04, eta: 1:58:38, time: 0.951, data_time: 0.029, memory: 16080, loss_rpn_cls: 0.0670, loss_rpn_bbox: 0.0366, s0.loss_cls: 0.2806, s0.acc: 91.3076, s0.loss_bbox: 0.2861, s0.loss_mask: 0.2777, s1.loss_cls: 0.1353, s1.acc: 91.6349, s1.loss_bbox: 0.1119, s1.loss_mask: 0.1199, s2.loss_cls: 0.0647, s2.acc: 91.7975, s2.loss_bbox: 0.0416, s2.loss_mask: 0.0543, loss: 1.4758, grad_norm: 7.3533\n",
      "2021-05-15 13:36:00,020 - mmdet - INFO - Epoch [4][200/655]\tlr: 1.000e-04, eta: 1:57:55, time: 0.942, data_time: 0.030, memory: 16080, loss_rpn_cls: 0.0604, loss_rpn_bbox: 0.0365, s0.loss_cls: 0.2620, s0.acc: 91.8545, s0.loss_bbox: 0.2569, s0.loss_mask: 0.2566, s1.loss_cls: 0.1307, s1.acc: 91.7896, s1.loss_bbox: 0.1034, s1.loss_mask: 0.1138, s2.loss_cls: 0.0640, s2.acc: 92.0053, s2.loss_bbox: 0.0396, s2.loss_mask: 0.0517, loss: 1.3756, grad_norm: 6.9125\n",
      "2021-05-15 13:36:46,971 - mmdet - INFO - Epoch [4][250/655]\tlr: 1.000e-04, eta: 1:57:12, time: 0.939, data_time: 0.030, memory: 16080, loss_rpn_cls: 0.0548, loss_rpn_bbox: 0.0367, s0.loss_cls: 0.2582, s0.acc: 91.7949, s0.loss_bbox: 0.2605, s0.loss_mask: 0.2364, s1.loss_cls: 0.1283, s1.acc: 91.7392, s1.loss_bbox: 0.1069, s1.loss_mask: 0.1038, s2.loss_cls: 0.0635, s2.acc: 91.6863, s2.loss_bbox: 0.0403, s2.loss_mask: 0.0466, loss: 1.3358, grad_norm: 7.4556\n",
      "2021-05-15 13:37:33,196 - mmdet - INFO - Epoch [4][300/655]\tlr: 1.000e-04, eta: 1:56:26, time: 0.924, data_time: 0.027, memory: 16080, loss_rpn_cls: 0.0508, loss_rpn_bbox: 0.0293, s0.loss_cls: 0.2449, s0.acc: 92.3027, s0.loss_bbox: 0.2440, s0.loss_mask: 0.2398, s1.loss_cls: 0.1222, s1.acc: 92.2164, s1.loss_bbox: 0.1019, s1.loss_mask: 0.1072, s2.loss_cls: 0.0603, s2.acc: 92.3840, s2.loss_bbox: 0.0391, s2.loss_mask: 0.0478, loss: 1.2872, grad_norm: 7.0696\n",
      "2021-05-15 13:38:19,639 - mmdet - INFO - Epoch [4][350/655]\tlr: 1.000e-04, eta: 1:55:40, time: 0.929, data_time: 0.028, memory: 16080, loss_rpn_cls: 0.0573, loss_rpn_bbox: 0.0334, s0.loss_cls: 0.2441, s0.acc: 92.4053, s0.loss_bbox: 0.2577, s0.loss_mask: 0.2517, s1.loss_cls: 0.1220, s1.acc: 92.3431, s1.loss_bbox: 0.1060, s1.loss_mask: 0.1146, s2.loss_cls: 0.0602, s2.acc: 92.3298, s2.loss_bbox: 0.0408, s2.loss_mask: 0.0524, loss: 1.3402, grad_norm: 7.5261\n",
      "2021-05-15 13:39:06,719 - mmdet - INFO - Epoch [4][400/655]\tlr: 1.000e-04, eta: 1:54:57, time: 0.942, data_time: 0.028, memory: 16080, loss_rpn_cls: 0.0614, loss_rpn_bbox: 0.0349, s0.loss_cls: 0.2693, s0.acc: 91.5439, s0.loss_bbox: 0.2732, s0.loss_mask: 0.2610, s1.loss_cls: 0.1353, s1.acc: 91.4014, s1.loss_bbox: 0.1104, s1.loss_mask: 0.1182, s2.loss_cls: 0.0665, s2.acc: 91.5452, s2.loss_bbox: 0.0427, s2.loss_mask: 0.0541, loss: 1.4270, grad_norm: 7.2709\n",
      "2021-05-15 13:39:53,324 - mmdet - INFO - Epoch [4][450/655]\tlr: 1.000e-04, eta: 1:54:12, time: 0.932, data_time: 0.028, memory: 16080, loss_rpn_cls: 0.0536, loss_rpn_bbox: 0.0352, s0.loss_cls: 0.2512, s0.acc: 92.1660, s0.loss_bbox: 0.2522, s0.loss_mask: 0.2655, s1.loss_cls: 0.1237, s1.acc: 92.4060, s1.loss_bbox: 0.1013, s1.loss_mask: 0.1192, s2.loss_cls: 0.0599, s2.acc: 92.6240, s2.loss_bbox: 0.0382, s2.loss_mask: 0.0539, loss: 1.3540, grad_norm: 6.8431\n",
      "2021-05-15 13:40:39,597 - mmdet - INFO - Epoch [4][500/655]\tlr: 1.000e-04, eta: 1:53:26, time: 0.925, data_time: 0.027, memory: 16080, loss_rpn_cls: 0.0502, loss_rpn_bbox: 0.0321, s0.loss_cls: 0.2491, s0.acc: 92.3506, s0.loss_bbox: 0.2462, s0.loss_mask: 0.2367, s1.loss_cls: 0.1218, s1.acc: 92.5674, s1.loss_bbox: 0.1002, s1.loss_mask: 0.1045, s2.loss_cls: 0.0604, s2.acc: 92.3788, s2.loss_bbox: 0.0389, s2.loss_mask: 0.0479, loss: 1.2880, grad_norm: 6.7086\n",
      "2021-05-15 13:41:26,777 - mmdet - INFO - Epoch [4][550/655]\tlr: 1.000e-04, eta: 1:52:42, time: 0.944, data_time: 0.030, memory: 16080, loss_rpn_cls: 0.0637, loss_rpn_bbox: 0.0363, s0.loss_cls: 0.2486, s0.acc: 92.2451, s0.loss_bbox: 0.2574, s0.loss_mask: 0.2506, s1.loss_cls: 0.1246, s1.acc: 92.2040, s1.loss_bbox: 0.1049, s1.loss_mask: 0.1109, s2.loss_cls: 0.0618, s2.acc: 92.2586, s2.loss_bbox: 0.0392, s2.loss_mask: 0.0491, loss: 1.3472, grad_norm: 6.8879\n",
      "2021-05-15 13:42:14,253 - mmdet - INFO - Epoch [4][600/655]\tlr: 1.000e-04, eta: 1:51:59, time: 0.950, data_time: 0.027, memory: 16080, loss_rpn_cls: 0.0532, loss_rpn_bbox: 0.0274, s0.loss_cls: 0.2466, s0.acc: 92.4512, s0.loss_bbox: 0.2437, s0.loss_mask: 0.2313, s1.loss_cls: 0.1231, s1.acc: 92.3619, s1.loss_bbox: 0.0980, s1.loss_mask: 0.1019, s2.loss_cls: 0.0585, s2.acc: 92.6827, s2.loss_bbox: 0.0380, s2.loss_mask: 0.0466, loss: 1.2684, grad_norm: 6.7611\n",
      "2021-05-15 13:43:00,579 - mmdet - INFO - Epoch [4][650/655]\tlr: 1.000e-04, eta: 1:51:13, time: 0.927, data_time: 0.027, memory: 16080, loss_rpn_cls: 0.0526, loss_rpn_bbox: 0.0340, s0.loss_cls: 0.2471, s0.acc: 92.4131, s0.loss_bbox: 0.2444, s0.loss_mask: 0.2487, s1.loss_cls: 0.1208, s1.acc: 92.6082, s1.loss_bbox: 0.0969, s1.loss_mask: 0.1073, s2.loss_cls: 0.0587, s2.acc: 92.6918, s2.loss_bbox: 0.0370, s2.loss_mask: 0.0481, loss: 1.2955, grad_norm: 6.9137\n",
      "2021-05-15 13:43:05,147 - mmdet - INFO - Saving checkpoint at 4 epochs\n"
     ]
    },
    {
     "name": "stdout",
     "output_type": "stream",
     "text": [
      "[>>>>>>>>>>>>>>>>>>>>>>>>>>>>>>] 655/655, 7.3 task/s, elapsed: 90s, ETA:     0s"
     ]
    },
    {
     "name": "stderr",
     "output_type": "stream",
     "text": [
      "2021-05-15 13:44:40,128 - mmdet - INFO - Evaluating bbox...\n"
     ]
    },
    {
     "name": "stdout",
     "output_type": "stream",
     "text": [
      "Loading and preparing results...\n",
      "DONE (t=0.73s)\n",
      "creating index...\n",
      "index created!\n",
      "Running per image evaluation...\n",
      "Evaluate annotation type *bbox*\n",
      "DONE (t=4.88s).\n",
      "Accumulating evaluation results...\n"
     ]
    },
    {
     "name": "stderr",
     "output_type": "stream",
     "text": [
      "2021-05-15 13:44:46,540 - mmdet - INFO - Evaluating segm...\n"
     ]
    },
    {
     "name": "stdout",
     "output_type": "stream",
     "text": [
      "DONE (t=0.78s).\n",
      "Average Precision  (AP) @[ IoU=0.50:0.95 | area=   all | maxDets=100 ] = 0.228\n",
      "Average Precision  (AP) @[ IoU=0.50      | area=   all | maxDets=1000 ] = 0.330\n",
      "Average Precision  (AP) @[ IoU=0.75      | area=   all | maxDets=1000 ] = 0.240\n",
      "Average Precision  (AP) @[ IoU=0.50:0.95 | area= small | maxDets=1000 ] = 0.065\n",
      "Average Precision  (AP) @[ IoU=0.50:0.95 | area=medium | maxDets=1000 ] = 0.215\n",
      "Average Precision  (AP) @[ IoU=0.50:0.95 | area= large | maxDets=1000 ] = 0.382\n",
      "Average Recall     (AR) @[ IoU=0.50:0.95 | area=   all | maxDets=100 ] = 0.399\n",
      "Average Recall     (AR) @[ IoU=0.50:0.95 | area=   all | maxDets=300 ] = 0.399\n",
      "Average Recall     (AR) @[ IoU=0.50:0.95 | area=   all | maxDets=1000 ] = 0.399\n",
      "Average Recall     (AR) @[ IoU=0.50:0.95 | area= small | maxDets=1000 ] = 0.150\n",
      "Average Recall     (AR) @[ IoU=0.50:0.95 | area=medium | maxDets=1000 ] = 0.384\n",
      "Average Recall     (AR) @[ IoU=0.50:0.95 | area= large | maxDets=1000 ] = 0.599\n",
      "Loading and preparing results...\n",
      "DONE (t=0.87s)\n",
      "creating index...\n",
      "index created!\n",
      "Running per image evaluation...\n",
      "Evaluate annotation type *segm*\n",
      "DONE (t=5.24s).\n",
      "Accumulating evaluation results...\n"
     ]
    },
    {
     "name": "stderr",
     "output_type": "stream",
     "text": [
      "2021-05-15 13:44:53,524 - mmdet - INFO - Epoch(val) [4][655]\tbbox_mAP: 0.2280, bbox_mAP_50: 0.3300, bbox_mAP_75: 0.2400, bbox_mAP_s: 0.0650, bbox_mAP_m: 0.2150, bbox_mAP_l: 0.3820, bbox_mAP_copypaste: 0.228 0.330 0.240 0.065 0.215 0.382, segm_mAP: 0.2060, segm_mAP_50: 0.3070, segm_mAP_75: 0.2130, segm_mAP_s: 0.0510, segm_mAP_m: 0.1920, segm_mAP_l: 0.3510, segm_mAP_copypaste: 0.206 0.307 0.213 0.051 0.192 0.351\n"
     ]
    },
    {
     "name": "stdout",
     "output_type": "stream",
     "text": [
      "DONE (t=0.75s).\n",
      "Average Precision  (AP) @[ IoU=0.50:0.95 | area=   all | maxDets=100 ] = 0.206\n",
      "Average Precision  (AP) @[ IoU=0.50      | area=   all | maxDets=1000 ] = 0.307\n",
      "Average Precision  (AP) @[ IoU=0.75      | area=   all | maxDets=1000 ] = 0.213\n",
      "Average Precision  (AP) @[ IoU=0.50:0.95 | area= small | maxDets=1000 ] = 0.051\n",
      "Average Precision  (AP) @[ IoU=0.50:0.95 | area=medium | maxDets=1000 ] = 0.192\n",
      "Average Precision  (AP) @[ IoU=0.50:0.95 | area= large | maxDets=1000 ] = 0.351\n",
      "Average Recall     (AR) @[ IoU=0.50:0.95 | area=   all | maxDets=100 ] = 0.366\n",
      "Average Recall     (AR) @[ IoU=0.50:0.95 | area=   all | maxDets=300 ] = 0.366\n",
      "Average Recall     (AR) @[ IoU=0.50:0.95 | area=   all | maxDets=1000 ] = 0.366\n",
      "Average Recall     (AR) @[ IoU=0.50:0.95 | area= small | maxDets=1000 ] = 0.125\n",
      "Average Recall     (AR) @[ IoU=0.50:0.95 | area=medium | maxDets=1000 ] = 0.343\n",
      "Average Recall     (AR) @[ IoU=0.50:0.95 | area= large | maxDets=1000 ] = 0.568\n"
     ]
    },
    {
     "name": "stderr",
     "output_type": "stream",
     "text": [
      "2021-05-15 13:45:43,942 - mmdet - INFO - Epoch [5][50/655]\tlr: 1.000e-04, eta: 1:50:21, time: 1.008, data_time: 0.078, memory: 16080, loss_rpn_cls: 0.0515, loss_rpn_bbox: 0.0337, s0.loss_cls: 0.2557, s0.acc: 91.9277, s0.loss_bbox: 0.2720, s0.loss_mask: 0.2474, s1.loss_cls: 0.1240, s1.acc: 92.1300, s1.loss_bbox: 0.1102, s1.loss_mask: 0.1109, s2.loss_cls: 0.0612, s2.acc: 92.0902, s2.loss_bbox: 0.0427, s2.loss_mask: 0.0509, loss: 1.3601, grad_norm: 7.5246\n",
      "2021-05-15 13:46:30,305 - mmdet - INFO - Epoch [5][100/655]\tlr: 1.000e-04, eta: 1:49:35, time: 0.927, data_time: 0.026, memory: 16080, loss_rpn_cls: 0.0427, loss_rpn_bbox: 0.0321, s0.loss_cls: 0.2239, s0.acc: 92.7617, s0.loss_bbox: 0.2454, s0.loss_mask: 0.2386, s1.loss_cls: 0.1111, s1.acc: 92.6755, s1.loss_bbox: 0.1022, s1.loss_mask: 0.1081, s2.loss_cls: 0.0568, s2.acc: 92.5403, s2.loss_bbox: 0.0386, s2.loss_mask: 0.0475, loss: 1.2470, grad_norm: 7.0088\n",
      "2021-05-15 13:47:16,610 - mmdet - INFO - Epoch [5][150/655]\tlr: 1.000e-04, eta: 1:48:49, time: 0.926, data_time: 0.025, memory: 16080, loss_rpn_cls: 0.0450, loss_rpn_bbox: 0.0331, s0.loss_cls: 0.2270, s0.acc: 92.8760, s0.loss_bbox: 0.2430, s0.loss_mask: 0.2533, s1.loss_cls: 0.1135, s1.acc: 92.7681, s1.loss_bbox: 0.1011, s1.loss_mask: 0.1134, s2.loss_cls: 0.0572, s2.acc: 92.7267, s2.loss_bbox: 0.0391, s2.loss_mask: 0.0518, loss: 1.2773, grad_norm: 7.0701\n",
      "2021-05-15 13:48:03,770 - mmdet - INFO - Epoch [5][200/655]\tlr: 1.000e-04, eta: 1:48:05, time: 0.943, data_time: 0.029, memory: 16080, loss_rpn_cls: 0.0463, loss_rpn_bbox: 0.0341, s0.loss_cls: 0.2444, s0.acc: 92.2588, s0.loss_bbox: 0.2572, s0.loss_mask: 0.2507, s1.loss_cls: 0.1209, s1.acc: 92.2558, s1.loss_bbox: 0.1043, s1.loss_mask: 0.1130, s2.loss_cls: 0.0590, s2.acc: 92.2329, s2.loss_bbox: 0.0397, s2.loss_mask: 0.0504, loss: 1.3200, grad_norm: 6.9959\n",
      "2021-05-15 13:48:49,993 - mmdet - INFO - Epoch [5][250/655]\tlr: 1.000e-04, eta: 1:47:18, time: 0.924, data_time: 0.028, memory: 16080, loss_rpn_cls: 0.0454, loss_rpn_bbox: 0.0303, s0.loss_cls: 0.2242, s0.acc: 92.7920, s0.loss_bbox: 0.2257, s0.loss_mask: 0.2232, s1.loss_cls: 0.1109, s1.acc: 92.8957, s1.loss_bbox: 0.0941, s1.loss_mask: 0.0987, s2.loss_cls: 0.0545, s2.acc: 93.0222, s2.loss_bbox: 0.0367, s2.loss_mask: 0.0452, loss: 1.1889, grad_norm: 6.8312\n",
      "2021-05-15 13:49:36,078 - mmdet - INFO - Epoch [5][300/655]\tlr: 1.000e-04, eta: 1:46:31, time: 0.922, data_time: 0.030, memory: 16080, loss_rpn_cls: 0.0655, loss_rpn_bbox: 0.0360, s0.loss_cls: 0.2375, s0.acc: 92.5811, s0.loss_bbox: 0.2472, s0.loss_mask: 0.2460, s1.loss_cls: 0.1171, s1.acc: 92.7002, s1.loss_bbox: 0.0997, s1.loss_mask: 0.1082, s2.loss_cls: 0.0583, s2.acc: 92.8833, s2.loss_bbox: 0.0382, s2.loss_mask: 0.0494, loss: 1.3030, grad_norm: 7.8836\n",
      "2021-05-15 13:50:23,498 - mmdet - INFO - Epoch [5][350/655]\tlr: 1.000e-04, eta: 1:45:48, time: 0.948, data_time: 0.031, memory: 16080, loss_rpn_cls: 0.0639, loss_rpn_bbox: 0.0376, s0.loss_cls: 0.2700, s0.acc: 91.5283, s0.loss_bbox: 0.2680, s0.loss_mask: 0.2509, s1.loss_cls: 0.1343, s1.acc: 91.4624, s1.loss_bbox: 0.1090, s1.loss_mask: 0.1089, s2.loss_cls: 0.0663, s2.acc: 91.5352, s2.loss_bbox: 0.0419, s2.loss_mask: 0.0499, loss: 1.4007, grad_norm: 7.6152\n",
      "2021-05-15 13:51:09,841 - mmdet - INFO - Epoch [5][400/655]\tlr: 1.000e-04, eta: 1:45:01, time: 0.927, data_time: 0.028, memory: 16080, loss_rpn_cls: 0.0536, loss_rpn_bbox: 0.0318, s0.loss_cls: 0.2285, s0.acc: 92.9033, s0.loss_bbox: 0.2315, s0.loss_mask: 0.2366, s1.loss_cls: 0.1135, s1.acc: 92.8518, s1.loss_bbox: 0.0949, s1.loss_mask: 0.1031, s2.loss_cls: 0.0558, s2.acc: 93.0682, s2.loss_bbox: 0.0374, s2.loss_mask: 0.0465, loss: 1.2332, grad_norm: 7.0510\n",
      "2021-05-15 13:51:57,148 - mmdet - INFO - Epoch [5][450/655]\tlr: 1.000e-04, eta: 1:44:17, time: 0.946, data_time: 0.029, memory: 16080, loss_rpn_cls: 0.0562, loss_rpn_bbox: 0.0355, s0.loss_cls: 0.2618, s0.acc: 91.7568, s0.loss_bbox: 0.2540, s0.loss_mask: 0.2432, s1.loss_cls: 0.1324, s1.acc: 91.5180, s1.loss_bbox: 0.1045, s1.loss_mask: 0.1057, s2.loss_cls: 0.0646, s2.acc: 91.7095, s2.loss_bbox: 0.0400, s2.loss_mask: 0.0468, loss: 1.3449, grad_norm: 7.2268\n",
      "2021-05-15 13:52:43,944 - mmdet - INFO - Epoch [5][500/655]\tlr: 1.000e-04, eta: 1:43:32, time: 0.936, data_time: 0.026, memory: 16080, loss_rpn_cls: 0.0609, loss_rpn_bbox: 0.0359, s0.loss_cls: 0.2548, s0.acc: 91.9062, s0.loss_bbox: 0.2618, s0.loss_mask: 0.2495, s1.loss_cls: 0.1270, s1.acc: 91.8530, s1.loss_bbox: 0.1070, s1.loss_mask: 0.1096, s2.loss_cls: 0.0626, s2.acc: 92.0304, s2.loss_bbox: 0.0418, s2.loss_mask: 0.0492, loss: 1.3601, grad_norm: 7.1503\n",
      "2021-05-15 13:53:31,822 - mmdet - INFO - Epoch [5][550/655]\tlr: 1.000e-04, eta: 1:42:49, time: 0.958, data_time: 0.032, memory: 16080, loss_rpn_cls: 0.0580, loss_rpn_bbox: 0.0369, s0.loss_cls: 0.2476, s0.acc: 92.2588, s0.loss_bbox: 0.2536, s0.loss_mask: 0.2385, s1.loss_cls: 0.1238, s1.acc: 92.4636, s1.loss_bbox: 0.1031, s1.loss_mask: 0.1076, s2.loss_cls: 0.0607, s2.acc: 92.4650, s2.loss_bbox: 0.0404, s2.loss_mask: 0.0489, loss: 1.3191, grad_norm: 6.5801\n",
      "2021-05-15 13:54:18,979 - mmdet - INFO - Epoch [5][600/655]\tlr: 1.000e-04, eta: 1:42:04, time: 0.943, data_time: 0.029, memory: 16080, loss_rpn_cls: 0.0452, loss_rpn_bbox: 0.0298, s0.loss_cls: 0.2358, s0.acc: 92.7246, s0.loss_bbox: 0.2400, s0.loss_mask: 0.2337, s1.loss_cls: 0.1153, s1.acc: 92.9129, s1.loss_bbox: 0.0993, s1.loss_mask: 0.1060, s2.loss_cls: 0.0574, s2.acc: 92.8671, s2.loss_bbox: 0.0390, s2.loss_mask: 0.0485, loss: 1.2502, grad_norm: 6.6616\n",
      "2021-05-15 13:55:06,311 - mmdet - INFO - Epoch [5][650/655]\tlr: 1.000e-04, eta: 1:41:20, time: 0.947, data_time: 0.029, memory: 16080, loss_rpn_cls: 0.0559, loss_rpn_bbox: 0.0356, s0.loss_cls: 0.2535, s0.acc: 91.9395, s0.loss_bbox: 0.2688, s0.loss_mask: 0.2456, s1.loss_cls: 0.1236, s1.acc: 92.1620, s1.loss_bbox: 0.1074, s1.loss_mask: 0.1082, s2.loss_cls: 0.0606, s2.acc: 92.2700, s2.loss_bbox: 0.0397, s2.loss_mask: 0.0482, loss: 1.3471, grad_norm: 7.1381\n",
      "2021-05-15 13:55:10,943 - mmdet - INFO - Saving checkpoint at 5 epochs\n"
     ]
    },
    {
     "name": "stdout",
     "output_type": "stream",
     "text": [
      "[>>>>>>>>>>>>>>>>>>>>>>>>>>>>>>] 655/655, 7.8 task/s, elapsed: 84s, ETA:     0s"
     ]
    },
    {
     "name": "stderr",
     "output_type": "stream",
     "text": [
      "2021-05-15 13:56:40,011 - mmdet - INFO - Evaluating bbox...\n"
     ]
    },
    {
     "name": "stdout",
     "output_type": "stream",
     "text": [
      "Loading and preparing results...\n",
      "DONE (t=0.07s)\n",
      "creating index...\n",
      "index created!\n",
      "Running per image evaluation...\n",
      "Evaluate annotation type *bbox*\n",
      "DONE (t=5.26s).\n",
      "Accumulating evaluation results...\n"
     ]
    },
    {
     "name": "stderr",
     "output_type": "stream",
     "text": [
      "2021-05-15 13:56:45,989 - mmdet - INFO - Evaluating segm...\n"
     ]
    },
    {
     "name": "stdout",
     "output_type": "stream",
     "text": [
      "DONE (t=0.63s).\n",
      "Average Precision  (AP) @[ IoU=0.50:0.95 | area=   all | maxDets=100 ] = 0.252\n",
      "Average Precision  (AP) @[ IoU=0.50      | area=   all | maxDets=1000 ] = 0.357\n",
      "Average Precision  (AP) @[ IoU=0.75      | area=   all | maxDets=1000 ] = 0.265\n",
      "Average Precision  (AP) @[ IoU=0.50:0.95 | area= small | maxDets=1000 ] = 0.064\n",
      "Average Precision  (AP) @[ IoU=0.50:0.95 | area=medium | maxDets=1000 ] = 0.254\n",
      "Average Precision  (AP) @[ IoU=0.50:0.95 | area= large | maxDets=1000 ] = 0.412\n",
      "Average Recall     (AR) @[ IoU=0.50:0.95 | area=   all | maxDets=100 ] = 0.403\n",
      "Average Recall     (AR) @[ IoU=0.50:0.95 | area=   all | maxDets=300 ] = 0.403\n",
      "Average Recall     (AR) @[ IoU=0.50:0.95 | area=   all | maxDets=1000 ] = 0.403\n",
      "Average Recall     (AR) @[ IoU=0.50:0.95 | area= small | maxDets=1000 ] = 0.131\n",
      "Average Recall     (AR) @[ IoU=0.50:0.95 | area=medium | maxDets=1000 ] = 0.376\n",
      "Average Recall     (AR) @[ IoU=0.50:0.95 | area= large | maxDets=1000 ] = 0.695\n",
      "Loading and preparing results...\n",
      "DONE (t=0.12s)\n",
      "creating index...\n",
      "index created!\n",
      "Running per image evaluation...\n",
      "Evaluate annotation type *segm*\n",
      "DONE (t=5.39s).\n",
      "Accumulating evaluation results...\n"
     ]
    },
    {
     "name": "stderr",
     "output_type": "stream",
     "text": [
      "2021-05-15 13:56:52,221 - mmdet - INFO - Epoch(val) [5][655]\tbbox_mAP: 0.2520, bbox_mAP_50: 0.3570, bbox_mAP_75: 0.2650, bbox_mAP_s: 0.0640, bbox_mAP_m: 0.2540, bbox_mAP_l: 0.4120, bbox_mAP_copypaste: 0.252 0.357 0.265 0.064 0.254 0.412, segm_mAP: 0.2250, segm_mAP_50: 0.3340, segm_mAP_75: 0.2300, segm_mAP_s: 0.0430, segm_mAP_m: 0.2190, segm_mAP_l: 0.3790, segm_mAP_copypaste: 0.225 0.334 0.230 0.043 0.219 0.379\n"
     ]
    },
    {
     "name": "stdout",
     "output_type": "stream",
     "text": [
      "DONE (t=0.62s).\n",
      "Average Precision  (AP) @[ IoU=0.50:0.95 | area=   all | maxDets=100 ] = 0.225\n",
      "Average Precision  (AP) @[ IoU=0.50      | area=   all | maxDets=1000 ] = 0.334\n",
      "Average Precision  (AP) @[ IoU=0.75      | area=   all | maxDets=1000 ] = 0.230\n",
      "Average Precision  (AP) @[ IoU=0.50:0.95 | area= small | maxDets=1000 ] = 0.043\n",
      "Average Precision  (AP) @[ IoU=0.50:0.95 | area=medium | maxDets=1000 ] = 0.219\n",
      "Average Precision  (AP) @[ IoU=0.50:0.95 | area= large | maxDets=1000 ] = 0.379\n",
      "Average Recall     (AR) @[ IoU=0.50:0.95 | area=   all | maxDets=100 ] = 0.377\n",
      "Average Recall     (AR) @[ IoU=0.50:0.95 | area=   all | maxDets=300 ] = 0.377\n",
      "Average Recall     (AR) @[ IoU=0.50:0.95 | area=   all | maxDets=1000 ] = 0.377\n",
      "Average Recall     (AR) @[ IoU=0.50:0.95 | area= small | maxDets=1000 ] = 0.096\n",
      "Average Recall     (AR) @[ IoU=0.50:0.95 | area=medium | maxDets=1000 ] = 0.340\n",
      "Average Recall     (AR) @[ IoU=0.50:0.95 | area= large | maxDets=1000 ] = 0.677\n"
     ]
    },
    {
     "name": "stderr",
     "output_type": "stream",
     "text": [
      "2021-05-15 13:57:41,797 - mmdet - INFO - Epoch [6][50/655]\tlr: 1.000e-04, eta: 1:40:26, time: 0.991, data_time: 0.076, memory: 16080, loss_rpn_cls: 0.0456, loss_rpn_bbox: 0.0335, s0.loss_cls: 0.2248, s0.acc: 92.8369, s0.loss_bbox: 0.2481, s0.loss_mask: 0.2406, s1.loss_cls: 0.1067, s1.acc: 93.0598, s1.loss_bbox: 0.0993, s1.loss_mask: 0.1041, s2.loss_cls: 0.0534, s2.acc: 93.0584, s2.loss_bbox: 0.0382, s2.loss_mask: 0.0474, loss: 1.2419, grad_norm: 6.8693\n",
      "2021-05-15 13:58:28,569 - mmdet - INFO - Epoch [6][100/655]\tlr: 1.000e-04, eta: 1:39:40, time: 0.935, data_time: 0.027, memory: 16080, loss_rpn_cls: 0.0410, loss_rpn_bbox: 0.0282, s0.loss_cls: 0.2176, s0.acc: 93.0889, s0.loss_bbox: 0.2390, s0.loss_mask: 0.2222, s1.loss_cls: 0.1068, s1.acc: 93.0359, s1.loss_bbox: 0.0976, s1.loss_mask: 0.1004, s2.loss_cls: 0.0527, s2.acc: 93.0843, s2.loss_bbox: 0.0377, s2.loss_mask: 0.0456, loss: 1.1889, grad_norm: 6.6898\n",
      "2021-05-15 13:59:15,472 - mmdet - INFO - Epoch [6][150/655]\tlr: 1.000e-04, eta: 1:38:55, time: 0.938, data_time: 0.026, memory: 16080, loss_rpn_cls: 0.0442, loss_rpn_bbox: 0.0297, s0.loss_cls: 0.2226, s0.acc: 93.0117, s0.loss_bbox: 0.2368, s0.loss_mask: 0.2181, s1.loss_cls: 0.1125, s1.acc: 93.0780, s1.loss_bbox: 0.0988, s1.loss_mask: 0.0979, s2.loss_cls: 0.0568, s2.acc: 92.8360, s2.loss_bbox: 0.0391, s2.loss_mask: 0.0442, loss: 1.2006, grad_norm: 7.0897\n",
      "2021-05-15 14:00:03,158 - mmdet - INFO - Epoch [6][200/655]\tlr: 1.000e-04, eta: 1:38:11, time: 0.954, data_time: 0.028, memory: 16080, loss_rpn_cls: 0.0487, loss_rpn_bbox: 0.0318, s0.loss_cls: 0.2244, s0.acc: 92.8887, s0.loss_bbox: 0.2418, s0.loss_mask: 0.2291, s1.loss_cls: 0.1094, s1.acc: 93.0802, s1.loss_bbox: 0.1017, s1.loss_mask: 0.1048, s2.loss_cls: 0.0553, s2.acc: 92.9971, s2.loss_bbox: 0.0395, s2.loss_mask: 0.0473, loss: 1.2339, grad_norm: 7.3525\n",
      "2021-05-15 14:00:50,105 - mmdet - INFO - Epoch [6][250/655]\tlr: 1.000e-04, eta: 1:37:26, time: 0.939, data_time: 0.027, memory: 16080, loss_rpn_cls: 0.0442, loss_rpn_bbox: 0.0285, s0.loss_cls: 0.2341, s0.acc: 92.8037, s0.loss_bbox: 0.2296, s0.loss_mask: 0.2151, s1.loss_cls: 0.1128, s1.acc: 93.0138, s1.loss_bbox: 0.0934, s1.loss_mask: 0.0983, s2.loss_cls: 0.0545, s2.acc: 92.9766, s2.loss_bbox: 0.0380, s2.loss_mask: 0.0455, loss: 1.1940, grad_norm: 7.0766\n",
      "2021-05-15 14:01:37,642 - mmdet - INFO - Epoch [6][300/655]\tlr: 1.000e-04, eta: 1:36:41, time: 0.951, data_time: 0.029, memory: 16080, loss_rpn_cls: 0.0596, loss_rpn_bbox: 0.0329, s0.loss_cls: 0.2485, s0.acc: 92.0811, s0.loss_bbox: 0.2730, s0.loss_mask: 0.2500, s1.loss_cls: 0.1208, s1.acc: 92.3796, s1.loss_bbox: 0.1066, s1.loss_mask: 0.1089, s2.loss_cls: 0.0586, s2.acc: 92.4134, s2.loss_bbox: 0.0405, s2.loss_mask: 0.0481, loss: 1.3476, grad_norm: 7.4106\n",
      "2021-05-15 14:02:24,716 - mmdet - INFO - Epoch [6][350/655]\tlr: 1.000e-04, eta: 1:35:56, time: 0.941, data_time: 0.031, memory: 16080, loss_rpn_cls: 0.0540, loss_rpn_bbox: 0.0382, s0.loss_cls: 0.2406, s0.acc: 92.1484, s0.loss_bbox: 0.2671, s0.loss_mask: 0.2491, s1.loss_cls: 0.1181, s1.acc: 92.3109, s1.loss_bbox: 0.1083, s1.loss_mask: 0.1105, s2.loss_cls: 0.0576, s2.acc: 92.3914, s2.loss_bbox: 0.0408, s2.loss_mask: 0.0500, loss: 1.3344, grad_norm: 7.2595\n",
      "2021-05-15 14:03:11,683 - mmdet - INFO - Epoch [6][400/655]\tlr: 1.000e-04, eta: 1:35:10, time: 0.939, data_time: 0.028, memory: 16080, loss_rpn_cls: 0.0501, loss_rpn_bbox: 0.0341, s0.loss_cls: 0.2400, s0.acc: 92.4111, s0.loss_bbox: 0.2630, s0.loss_mask: 0.2424, s1.loss_cls: 0.1161, s1.acc: 92.4564, s1.loss_bbox: 0.1057, s1.loss_mask: 0.1079, s2.loss_cls: 0.0572, s2.acc: 92.4772, s2.loss_bbox: 0.0407, s2.loss_mask: 0.0489, loss: 1.3061, grad_norm: 7.0086\n",
      "2021-05-15 14:03:58,491 - mmdet - INFO - Epoch [6][450/655]\tlr: 1.000e-04, eta: 1:34:25, time: 0.936, data_time: 0.026, memory: 16080, loss_rpn_cls: 0.0487, loss_rpn_bbox: 0.0321, s0.loss_cls: 0.2317, s0.acc: 92.7656, s0.loss_bbox: 0.2499, s0.loss_mask: 0.2514, s1.loss_cls: 0.1159, s1.acc: 92.8498, s1.loss_bbox: 0.1036, s1.loss_mask: 0.1086, s2.loss_cls: 0.0574, s2.acc: 92.8215, s2.loss_bbox: 0.0400, s2.loss_mask: 0.0503, loss: 1.2896, grad_norm: 7.4387\n",
      "2021-05-15 14:04:45,639 - mmdet - INFO - Epoch [6][500/655]\tlr: 1.000e-04, eta: 1:33:39, time: 0.943, data_time: 0.028, memory: 16080, loss_rpn_cls: 0.0620, loss_rpn_bbox: 0.0392, s0.loss_cls: 0.2426, s0.acc: 92.2715, s0.loss_bbox: 0.2569, s0.loss_mask: 0.2434, s1.loss_cls: 0.1175, s1.acc: 92.5358, s1.loss_bbox: 0.1050, s1.loss_mask: 0.1089, s2.loss_cls: 0.0578, s2.acc: 92.6849, s2.loss_bbox: 0.0401, s2.loss_mask: 0.0480, loss: 1.3215, grad_norm: 7.1305\n",
      "2021-05-15 14:05:32,043 - mmdet - INFO - Epoch [6][550/655]\tlr: 1.000e-04, eta: 1:32:53, time: 0.928, data_time: 0.026, memory: 16080, loss_rpn_cls: 0.0525, loss_rpn_bbox: 0.0299, s0.loss_cls: 0.2200, s0.acc: 93.1455, s0.loss_bbox: 0.2313, s0.loss_mask: 0.2331, s1.loss_cls: 0.1058, s1.acc: 93.3080, s1.loss_bbox: 0.0937, s1.loss_mask: 0.1013, s2.loss_cls: 0.0527, s2.acc: 93.3251, s2.loss_bbox: 0.0372, s2.loss_mask: 0.0461, loss: 1.2035, grad_norm: 6.6877\n",
      "2021-05-15 14:06:19,579 - mmdet - INFO - Epoch [6][600/655]\tlr: 1.000e-04, eta: 1:32:08, time: 0.951, data_time: 0.032, memory: 16080, loss_rpn_cls: 0.0531, loss_rpn_bbox: 0.0361, s0.loss_cls: 0.2388, s0.acc: 92.5078, s0.loss_bbox: 0.2446, s0.loss_mask: 0.2352, s1.loss_cls: 0.1146, s1.acc: 92.8346, s1.loss_bbox: 0.0990, s1.loss_mask: 0.1029, s2.loss_cls: 0.0562, s2.acc: 92.7954, s2.loss_bbox: 0.0377, s2.loss_mask: 0.0466, loss: 1.2648, grad_norm: 6.9186\n",
      "2021-05-15 14:07:07,407 - mmdet - INFO - Epoch [6][650/655]\tlr: 1.000e-04, eta: 1:31:24, time: 0.957, data_time: 0.028, memory: 16080, loss_rpn_cls: 0.0494, loss_rpn_bbox: 0.0316, s0.loss_cls: 0.2353, s0.acc: 92.5371, s0.loss_bbox: 0.2515, s0.loss_mask: 0.2375, s1.loss_cls: 0.1135, s1.acc: 92.7073, s1.loss_bbox: 0.1021, s1.loss_mask: 0.1050, s2.loss_cls: 0.0559, s2.acc: 92.7339, s2.loss_bbox: 0.0394, s2.loss_mask: 0.0468, loss: 1.2681, grad_norm: 7.1162\n",
      "2021-05-15 14:07:12,305 - mmdet - INFO - Saving checkpoint at 6 epochs\n"
     ]
    },
    {
     "name": "stdout",
     "output_type": "stream",
     "text": [
      "[>>>>>>>>>>>>>>>>>>>>>>>>>>>>>>] 655/655, 7.6 task/s, elapsed: 86s, ETA:     0s"
     ]
    },
    {
     "name": "stderr",
     "output_type": "stream",
     "text": [
      "2021-05-15 14:08:42,680 - mmdet - INFO - Evaluating bbox...\n"
     ]
    },
    {
     "name": "stdout",
     "output_type": "stream",
     "text": [
      "Loading and preparing results...\n",
      "DONE (t=0.74s)\n",
      "creating index...\n",
      "index created!\n",
      "Running per image evaluation...\n",
      "Evaluate annotation type *bbox*\n",
      "DONE (t=4.58s).\n",
      "Accumulating evaluation results...\n"
     ]
    },
    {
     "name": "stderr",
     "output_type": "stream",
     "text": [
      "2021-05-15 14:08:48,719 - mmdet - INFO - Evaluating segm...\n"
     ]
    },
    {
     "name": "stdout",
     "output_type": "stream",
     "text": [
      "DONE (t=0.71s).\n",
      "Average Precision  (AP) @[ IoU=0.50:0.95 | area=   all | maxDets=100 ] = 0.244\n",
      "Average Precision  (AP) @[ IoU=0.50      | area=   all | maxDets=1000 ] = 0.345\n",
      "Average Precision  (AP) @[ IoU=0.75      | area=   all | maxDets=1000 ] = 0.254\n",
      "Average Precision  (AP) @[ IoU=0.50:0.95 | area= small | maxDets=1000 ] = 0.068\n",
      "Average Precision  (AP) @[ IoU=0.50:0.95 | area=medium | maxDets=1000 ] = 0.231\n",
      "Average Precision  (AP) @[ IoU=0.50:0.95 | area= large | maxDets=1000 ] = 0.419\n",
      "Average Recall     (AR) @[ IoU=0.50:0.95 | area=   all | maxDets=100 ] = 0.405\n",
      "Average Recall     (AR) @[ IoU=0.50:0.95 | area=   all | maxDets=300 ] = 0.405\n",
      "Average Recall     (AR) @[ IoU=0.50:0.95 | area=   all | maxDets=1000 ] = 0.405\n",
      "Average Recall     (AR) @[ IoU=0.50:0.95 | area= small | maxDets=1000 ] = 0.166\n",
      "Average Recall     (AR) @[ IoU=0.50:0.95 | area=medium | maxDets=1000 ] = 0.395\n",
      "Average Recall     (AR) @[ IoU=0.50:0.95 | area= large | maxDets=1000 ] = 0.618\n",
      "Loading and preparing results...\n",
      "DONE (t=0.91s)\n",
      "creating index...\n",
      "index created!\n",
      "Running per image evaluation...\n",
      "Evaluate annotation type *segm*\n",
      "DONE (t=4.80s).\n",
      "Accumulating evaluation results...\n"
     ]
    },
    {
     "name": "stderr",
     "output_type": "stream",
     "text": [
      "2021-05-15 14:08:55,231 - mmdet - INFO - Epoch(val) [6][655]\tbbox_mAP: 0.2440, bbox_mAP_50: 0.3450, bbox_mAP_75: 0.2540, bbox_mAP_s: 0.0680, bbox_mAP_m: 0.2310, bbox_mAP_l: 0.4190, bbox_mAP_copypaste: 0.244 0.345 0.254 0.068 0.231 0.419, segm_mAP: 0.2260, segm_mAP_50: 0.3300, segm_mAP_75: 0.2350, segm_mAP_s: 0.0500, segm_mAP_m: 0.2100, segm_mAP_l: 0.3950, segm_mAP_copypaste: 0.226 0.330 0.235 0.050 0.210 0.395\n"
     ]
    },
    {
     "name": "stdout",
     "output_type": "stream",
     "text": [
      "DONE (t=0.68s).\n",
      "Average Precision  (AP) @[ IoU=0.50:0.95 | area=   all | maxDets=100 ] = 0.226\n",
      "Average Precision  (AP) @[ IoU=0.50      | area=   all | maxDets=1000 ] = 0.330\n",
      "Average Precision  (AP) @[ IoU=0.75      | area=   all | maxDets=1000 ] = 0.235\n",
      "Average Precision  (AP) @[ IoU=0.50:0.95 | area= small | maxDets=1000 ] = 0.050\n",
      "Average Precision  (AP) @[ IoU=0.50:0.95 | area=medium | maxDets=1000 ] = 0.210\n",
      "Average Precision  (AP) @[ IoU=0.50:0.95 | area= large | maxDets=1000 ] = 0.395\n",
      "Average Recall     (AR) @[ IoU=0.50:0.95 | area=   all | maxDets=100 ] = 0.382\n",
      "Average Recall     (AR) @[ IoU=0.50:0.95 | area=   all | maxDets=300 ] = 0.382\n",
      "Average Recall     (AR) @[ IoU=0.50:0.95 | area=   all | maxDets=1000 ] = 0.382\n",
      "Average Recall     (AR) @[ IoU=0.50:0.95 | area= small | maxDets=1000 ] = 0.131\n",
      "Average Recall     (AR) @[ IoU=0.50:0.95 | area=medium | maxDets=1000 ] = 0.364\n",
      "Average Recall     (AR) @[ IoU=0.50:0.95 | area= large | maxDets=1000 ] = 0.598\n"
     ]
    },
    {
     "name": "stderr",
     "output_type": "stream",
     "text": [
      "2021-05-15 14:09:45,713 - mmdet - INFO - Epoch [7][50/655]\tlr: 1.000e-04, eta: 1:30:32, time: 1.009, data_time: 0.082, memory: 16080, loss_rpn_cls: 0.0436, loss_rpn_bbox: 0.0353, s0.loss_cls: 0.2131, s0.acc: 92.8867, s0.loss_bbox: 0.2518, s0.loss_mask: 0.2281, s1.loss_cls: 0.1021, s1.acc: 93.0977, s1.loss_bbox: 0.1025, s1.loss_mask: 0.1020, s2.loss_cls: 0.0505, s2.acc: 93.2698, s2.loss_bbox: 0.0398, s2.loss_mask: 0.0470, loss: 1.2158, grad_norm: 6.9420\n",
      "2021-05-15 14:10:32,490 - mmdet - INFO - Epoch [7][100/655]\tlr: 1.000e-04, eta: 1:29:46, time: 0.936, data_time: 0.026, memory: 16080, loss_rpn_cls: 0.0427, loss_rpn_bbox: 0.0296, s0.loss_cls: 0.2114, s0.acc: 93.1836, s0.loss_bbox: 0.2399, s0.loss_mask: 0.2246, s1.loss_cls: 0.1001, s1.acc: 93.4058, s1.loss_bbox: 0.0973, s1.loss_mask: 0.1010, s2.loss_cls: 0.0480, s2.acc: 93.6773, s2.loss_bbox: 0.0370, s2.loss_mask: 0.0455, loss: 1.1772, grad_norm: 6.7479\n",
      "2021-05-15 14:11:18,690 - mmdet - INFO - Epoch [7][150/655]\tlr: 1.000e-04, eta: 1:28:59, time: 0.924, data_time: 0.028, memory: 16080, loss_rpn_cls: 0.0507, loss_rpn_bbox: 0.0317, s0.loss_cls: 0.2013, s0.acc: 93.5859, s0.loss_bbox: 0.2289, s0.loss_mask: 0.2325, s1.loss_cls: 0.0981, s1.acc: 93.9031, s1.loss_bbox: 0.0940, s1.loss_mask: 0.1014, s2.loss_cls: 0.0472, s2.acc: 93.9629, s2.loss_bbox: 0.0366, s2.loss_mask: 0.0458, loss: 1.1683, grad_norm: 6.9957\n",
      "2021-05-15 14:12:05,548 - mmdet - INFO - Epoch [7][200/655]\tlr: 1.000e-04, eta: 1:28:13, time: 0.937, data_time: 0.029, memory: 16080, loss_rpn_cls: 0.0421, loss_rpn_bbox: 0.0318, s0.loss_cls: 0.2147, s0.acc: 93.2441, s0.loss_bbox: 0.2358, s0.loss_mask: 0.2279, s1.loss_cls: 0.1022, s1.acc: 93.5791, s1.loss_bbox: 0.0972, s1.loss_mask: 0.1020, s2.loss_cls: 0.0500, s2.acc: 93.6150, s2.loss_bbox: 0.0382, s2.loss_mask: 0.0461, loss: 1.1882, grad_norm: 6.7769\n",
      "2021-05-15 14:12:53,177 - mmdet - INFO - Epoch [7][250/655]\tlr: 1.000e-04, eta: 1:27:28, time: 0.953, data_time: 0.031, memory: 16080, loss_rpn_cls: 0.0435, loss_rpn_bbox: 0.0335, s0.loss_cls: 0.2207, s0.acc: 92.7129, s0.loss_bbox: 0.2565, s0.loss_mask: 0.2242, s1.loss_cls: 0.1070, s1.acc: 92.9657, s1.loss_bbox: 0.1050, s1.loss_mask: 0.0982, s2.loss_cls: 0.0529, s2.acc: 92.9409, s2.loss_bbox: 0.0412, s2.loss_mask: 0.0446, loss: 1.2273, grad_norm: 7.1209\n",
      "2021-05-15 14:13:39,402 - mmdet - INFO - Epoch [7][300/655]\tlr: 1.000e-04, eta: 1:26:41, time: 0.924, data_time: 0.027, memory: 16080, loss_rpn_cls: 0.0408, loss_rpn_bbox: 0.0258, s0.loss_cls: 0.2197, s0.acc: 93.0635, s0.loss_bbox: 0.2281, s0.loss_mask: 0.2305, s1.loss_cls: 0.1083, s1.acc: 93.1472, s1.loss_bbox: 0.0946, s1.loss_mask: 0.0983, s2.loss_cls: 0.0532, s2.acc: 93.1594, s2.loss_bbox: 0.0373, s2.loss_mask: 0.0448, loss: 1.1813, grad_norm: 7.3705\n",
      "2021-05-15 14:14:27,137 - mmdet - INFO - Epoch [7][350/655]\tlr: 1.000e-04, eta: 1:25:56, time: 0.955, data_time: 0.030, memory: 16080, loss_rpn_cls: 0.0555, loss_rpn_bbox: 0.0377, s0.loss_cls: 0.2303, s0.acc: 92.5449, s0.loss_bbox: 0.2594, s0.loss_mask: 0.2306, s1.loss_cls: 0.1122, s1.acc: 92.6099, s1.loss_bbox: 0.1057, s1.loss_mask: 0.1026, s2.loss_cls: 0.0560, s2.acc: 92.5002, s2.loss_bbox: 0.0406, s2.loss_mask: 0.0450, loss: 1.2756, grad_norm: 6.7794\n",
      "2021-05-15 14:15:14,008 - mmdet - INFO - Epoch [7][400/655]\tlr: 1.000e-04, eta: 1:25:10, time: 0.937, data_time: 0.028, memory: 16080, loss_rpn_cls: 0.0492, loss_rpn_bbox: 0.0320, s0.loss_cls: 0.1909, s0.acc: 93.9150, s0.loss_bbox: 0.2281, s0.loss_mask: 0.2240, s1.loss_cls: 0.0910, s1.acc: 94.2769, s1.loss_bbox: 0.0944, s1.loss_mask: 0.1017, s2.loss_cls: 0.0454, s2.acc: 94.1910, s2.loss_bbox: 0.0368, s2.loss_mask: 0.0458, loss: 1.1394, grad_norm: 6.9365\n",
      "2021-05-15 14:16:00,398 - mmdet - INFO - Epoch [7][450/655]\tlr: 1.000e-04, eta: 1:24:24, time: 0.928, data_time: 0.027, memory: 16080, loss_rpn_cls: 0.0496, loss_rpn_bbox: 0.0299, s0.loss_cls: 0.2092, s0.acc: 93.3145, s0.loss_bbox: 0.2367, s0.loss_mask: 0.2327, s1.loss_cls: 0.1015, s1.acc: 93.4930, s1.loss_bbox: 0.0980, s1.loss_mask: 0.1052, s2.loss_cls: 0.0495, s2.acc: 93.6092, s2.loss_bbox: 0.0383, s2.loss_mask: 0.0474, loss: 1.1980, grad_norm: 7.2221\n",
      "2021-05-15 14:16:47,172 - mmdet - INFO - Epoch [7][500/655]\tlr: 1.000e-04, eta: 1:23:37, time: 0.935, data_time: 0.026, memory: 16080, loss_rpn_cls: 0.0537, loss_rpn_bbox: 0.0342, s0.loss_cls: 0.2301, s0.acc: 92.8584, s0.loss_bbox: 0.2378, s0.loss_mask: 0.2294, s1.loss_cls: 0.1115, s1.acc: 93.0779, s1.loss_bbox: 0.0991, s1.loss_mask: 0.1029, s2.loss_cls: 0.0549, s2.acc: 93.0120, s2.loss_bbox: 0.0388, s2.loss_mask: 0.0470, loss: 1.2394, grad_norm: 7.5220\n",
      "2021-05-15 14:17:35,071 - mmdet - INFO - Epoch [7][550/655]\tlr: 1.000e-04, eta: 1:22:52, time: 0.958, data_time: 0.032, memory: 16080, loss_rpn_cls: 0.0509, loss_rpn_bbox: 0.0340, s0.loss_cls: 0.2340, s0.acc: 92.5811, s0.loss_bbox: 0.2539, s0.loss_mask: 0.2305, s1.loss_cls: 0.1157, s1.acc: 92.7066, s1.loss_bbox: 0.1039, s1.loss_mask: 0.1046, s2.loss_cls: 0.0565, s2.acc: 92.6770, s2.loss_bbox: 0.0398, s2.loss_mask: 0.0478, loss: 1.2715, grad_norm: 7.1394\n",
      "2021-05-15 14:18:22,611 - mmdet - INFO - Epoch [7][600/655]\tlr: 1.000e-04, eta: 1:22:07, time: 0.951, data_time: 0.028, memory: 16080, loss_rpn_cls: 0.0402, loss_rpn_bbox: 0.0288, s0.loss_cls: 0.2113, s0.acc: 93.1777, s0.loss_bbox: 0.2382, s0.loss_mask: 0.2248, s1.loss_cls: 0.1020, s1.acc: 93.5000, s1.loss_bbox: 0.0969, s1.loss_mask: 0.1004, s2.loss_cls: 0.0506, s2.acc: 93.5188, s2.loss_bbox: 0.0378, s2.loss_mask: 0.0463, loss: 1.1773, grad_norm: 7.6601\n",
      "2021-05-15 14:19:10,462 - mmdet - INFO - Epoch [7][650/655]\tlr: 1.000e-04, eta: 1:21:22, time: 0.957, data_time: 0.031, memory: 16080, loss_rpn_cls: 0.0518, loss_rpn_bbox: 0.0313, s0.loss_cls: 0.2415, s0.acc: 92.2588, s0.loss_bbox: 0.2519, s0.loss_mask: 0.2460, s1.loss_cls: 0.1179, s1.acc: 92.3645, s1.loss_bbox: 0.1029, s1.loss_mask: 0.1095, s2.loss_cls: 0.0574, s2.acc: 92.5067, s2.loss_bbox: 0.0398, s2.loss_mask: 0.0492, loss: 1.2992, grad_norm: 7.2507\n",
      "2021-05-15 14:19:14,838 - mmdet - INFO - Saving checkpoint at 7 epochs\n"
     ]
    },
    {
     "name": "stdout",
     "output_type": "stream",
     "text": [
      "[>>>>>>>>>>>>>>>>>>>>>>>>>>>>>>] 655/655, 7.6 task/s, elapsed: 86s, ETA:     0s"
     ]
    },
    {
     "name": "stderr",
     "output_type": "stream",
     "text": [
      "2021-05-15 14:20:45,125 - mmdet - INFO - Evaluating bbox...\n"
     ]
    },
    {
     "name": "stdout",
     "output_type": "stream",
     "text": [
      "Loading and preparing results...\n",
      "DONE (t=0.77s)\n",
      "creating index...\n",
      "index created!\n",
      "Running per image evaluation...\n",
      "Evaluate annotation type *bbox*\n",
      "DONE (t=4.47s).\n",
      "Accumulating evaluation results...\n"
     ]
    },
    {
     "name": "stderr",
     "output_type": "stream",
     "text": [
      "2021-05-15 14:20:51,091 - mmdet - INFO - Evaluating segm...\n"
     ]
    },
    {
     "name": "stdout",
     "output_type": "stream",
     "text": [
      "DONE (t=0.71s).\n",
      "Average Precision  (AP) @[ IoU=0.50:0.95 | area=   all | maxDets=100 ] = 0.265\n",
      "Average Precision  (AP) @[ IoU=0.50      | area=   all | maxDets=1000 ] = 0.375\n",
      "Average Precision  (AP) @[ IoU=0.75      | area=   all | maxDets=1000 ] = 0.272\n",
      "Average Precision  (AP) @[ IoU=0.50:0.95 | area= small | maxDets=1000 ] = 0.063\n",
      "Average Precision  (AP) @[ IoU=0.50:0.95 | area=medium | maxDets=1000 ] = 0.254\n",
      "Average Precision  (AP) @[ IoU=0.50:0.95 | area= large | maxDets=1000 ] = 0.446\n",
      "Average Recall     (AR) @[ IoU=0.50:0.95 | area=   all | maxDets=100 ] = 0.426\n",
      "Average Recall     (AR) @[ IoU=0.50:0.95 | area=   all | maxDets=300 ] = 0.426\n",
      "Average Recall     (AR) @[ IoU=0.50:0.95 | area=   all | maxDets=1000 ] = 0.426\n",
      "Average Recall     (AR) @[ IoU=0.50:0.95 | area= small | maxDets=1000 ] = 0.157\n",
      "Average Recall     (AR) @[ IoU=0.50:0.95 | area=medium | maxDets=1000 ] = 0.409\n",
      "Average Recall     (AR) @[ IoU=0.50:0.95 | area= large | maxDets=1000 ] = 0.689\n",
      "Loading and preparing results...\n",
      "DONE (t=0.87s)\n",
      "creating index...\n",
      "index created!\n",
      "Running per image evaluation...\n",
      "Evaluate annotation type *segm*\n",
      "DONE (t=4.53s).\n",
      "Accumulating evaluation results...\n"
     ]
    },
    {
     "name": "stderr",
     "output_type": "stream",
     "text": [
      "2021-05-15 14:20:57,288 - mmdet - INFO - Epoch(val) [7][655]\tbbox_mAP: 0.2650, bbox_mAP_50: 0.3750, bbox_mAP_75: 0.2720, bbox_mAP_s: 0.0630, bbox_mAP_m: 0.2540, bbox_mAP_l: 0.4460, bbox_mAP_copypaste: 0.265 0.375 0.272 0.063 0.254 0.446, segm_mAP: 0.2470, segm_mAP_50: 0.3530, segm_mAP_75: 0.2630, segm_mAP_s: 0.0470, segm_mAP_m: 0.2290, segm_mAP_l: 0.4270, segm_mAP_copypaste: 0.247 0.353 0.263 0.047 0.229 0.427\n"
     ]
    },
    {
     "name": "stdout",
     "output_type": "stream",
     "text": [
      "DONE (t=0.68s).\n",
      "Average Precision  (AP) @[ IoU=0.50:0.95 | area=   all | maxDets=100 ] = 0.247\n",
      "Average Precision  (AP) @[ IoU=0.50      | area=   all | maxDets=1000 ] = 0.353\n",
      "Average Precision  (AP) @[ IoU=0.75      | area=   all | maxDets=1000 ] = 0.263\n",
      "Average Precision  (AP) @[ IoU=0.50:0.95 | area= small | maxDets=1000 ] = 0.047\n",
      "Average Precision  (AP) @[ IoU=0.50:0.95 | area=medium | maxDets=1000 ] = 0.229\n",
      "Average Precision  (AP) @[ IoU=0.50:0.95 | area= large | maxDets=1000 ] = 0.427\n",
      "Average Recall     (AR) @[ IoU=0.50:0.95 | area=   all | maxDets=100 ] = 0.400\n",
      "Average Recall     (AR) @[ IoU=0.50:0.95 | area=   all | maxDets=300 ] = 0.400\n",
      "Average Recall     (AR) @[ IoU=0.50:0.95 | area=   all | maxDets=1000 ] = 0.400\n",
      "Average Recall     (AR) @[ IoU=0.50:0.95 | area= small | maxDets=1000 ] = 0.123\n",
      "Average Recall     (AR) @[ IoU=0.50:0.95 | area=medium | maxDets=1000 ] = 0.373\n",
      "Average Recall     (AR) @[ IoU=0.50:0.95 | area= large | maxDets=1000 ] = 0.673\n"
     ]
    },
    {
     "name": "stderr",
     "output_type": "stream",
     "text": [
      "2021-05-15 14:21:47,334 - mmdet - INFO - Epoch [8][50/655]\tlr: 1.000e-04, eta: 1:20:30, time: 1.001, data_time: 0.077, memory: 16080, loss_rpn_cls: 0.0445, loss_rpn_bbox: 0.0283, s0.loss_cls: 0.2131, s0.acc: 93.2031, s0.loss_bbox: 0.2312, s0.loss_mask: 0.2143, s1.loss_cls: 0.1041, s1.acc: 93.2962, s1.loss_bbox: 0.0968, s1.loss_mask: 0.0966, s2.loss_cls: 0.0514, s2.acc: 93.3420, s2.loss_bbox: 0.0394, s2.loss_mask: 0.0441, loss: 1.1638, grad_norm: 7.3287\n",
      "2021-05-15 14:22:33,724 - mmdet - INFO - Epoch [8][100/655]\tlr: 1.000e-04, eta: 1:19:43, time: 0.928, data_time: 0.027, memory: 16080, loss_rpn_cls: 0.0415, loss_rpn_bbox: 0.0317, s0.loss_cls: 0.1917, s0.acc: 93.8311, s0.loss_bbox: 0.2230, s0.loss_mask: 0.2100, s1.loss_cls: 0.0902, s1.acc: 94.2896, s1.loss_bbox: 0.0924, s1.loss_mask: 0.0930, s2.loss_cls: 0.0447, s2.acc: 94.1544, s2.loss_bbox: 0.0360, s2.loss_mask: 0.0421, loss: 1.0964, grad_norm: 6.6140\n",
      "2021-05-15 14:23:20,709 - mmdet - INFO - Epoch [8][150/655]\tlr: 1.000e-04, eta: 1:18:57, time: 0.940, data_time: 0.029, memory: 16080, loss_rpn_cls: 0.0455, loss_rpn_bbox: 0.0354, s0.loss_cls: 0.2089, s0.acc: 93.2510, s0.loss_bbox: 0.2370, s0.loss_mask: 0.2213, s1.loss_cls: 0.1006, s1.acc: 93.6474, s1.loss_bbox: 0.0976, s1.loss_mask: 0.0982, s2.loss_cls: 0.0500, s2.acc: 93.5716, s2.loss_bbox: 0.0376, s2.loss_mask: 0.0447, loss: 1.1768, grad_norm: 6.9482\n",
      "2021-05-15 14:24:08,678 - mmdet - INFO - Epoch [8][200/655]\tlr: 1.000e-04, eta: 1:18:12, time: 0.959, data_time: 0.034, memory: 16080, loss_rpn_cls: 0.0523, loss_rpn_bbox: 0.0406, s0.loss_cls: 0.2290, s0.acc: 92.5908, s0.loss_bbox: 0.2595, s0.loss_mask: 0.2266, s1.loss_cls: 0.1085, s1.acc: 93.0041, s1.loss_bbox: 0.1080, s1.loss_mask: 0.0991, s2.loss_cls: 0.0543, s2.acc: 92.8408, s2.loss_bbox: 0.0426, s2.loss_mask: 0.0453, loss: 1.2658, grad_norm: 6.8601\n",
      "2021-05-15 14:24:55,827 - mmdet - INFO - Epoch [8][250/655]\tlr: 1.000e-04, eta: 1:17:26, time: 0.943, data_time: 0.028, memory: 16080, loss_rpn_cls: 0.0398, loss_rpn_bbox: 0.0307, s0.loss_cls: 0.1921, s0.acc: 93.8818, s0.loss_bbox: 0.2216, s0.loss_mask: 0.1942, s1.loss_cls: 0.0927, s1.acc: 94.1320, s1.loss_bbox: 0.0943, s1.loss_mask: 0.0883, s2.loss_cls: 0.0457, s2.acc: 94.0567, s2.loss_bbox: 0.0376, s2.loss_mask: 0.0408, loss: 1.0777, grad_norm: 6.7962\n",
      "2021-05-15 14:25:41,932 - mmdet - INFO - Epoch [8][300/655]\tlr: 1.000e-04, eta: 1:16:39, time: 0.922, data_time: 0.026, memory: 16080, loss_rpn_cls: 0.0376, loss_rpn_bbox: 0.0305, s0.loss_cls: 0.1873, s0.acc: 93.9961, s0.loss_bbox: 0.2181, s0.loss_mask: 0.2156, s1.loss_cls: 0.0912, s1.acc: 94.1361, s1.loss_bbox: 0.0896, s1.loss_mask: 0.0950, s2.loss_cls: 0.0452, s2.acc: 94.2022, s2.loss_bbox: 0.0369, s2.loss_mask: 0.0449, loss: 1.0918, grad_norm: 6.9202\n",
      "2021-05-15 14:26:29,250 - mmdet - INFO - Epoch [8][350/655]\tlr: 1.000e-04, eta: 1:15:53, time: 0.946, data_time: 0.025, memory: 16080, loss_rpn_cls: 0.0393, loss_rpn_bbox: 0.0260, s0.loss_cls: 0.2099, s0.acc: 93.3477, s0.loss_bbox: 0.2420, s0.loss_mask: 0.2198, s1.loss_cls: 0.0981, s1.acc: 93.8943, s1.loss_bbox: 0.1008, s1.loss_mask: 0.0972, s2.loss_cls: 0.0482, s2.acc: 93.7410, s2.loss_bbox: 0.0396, s2.loss_mask: 0.0435, loss: 1.1646, grad_norm: 6.8057\n",
      "2021-05-15 14:27:16,565 - mmdet - INFO - Epoch [8][400/655]\tlr: 1.000e-04, eta: 1:15:07, time: 0.946, data_time: 0.029, memory: 16080, loss_rpn_cls: 0.0409, loss_rpn_bbox: 0.0312, s0.loss_cls: 0.2049, s0.acc: 93.4414, s0.loss_bbox: 0.2243, s0.loss_mask: 0.2179, s1.loss_cls: 0.0979, s1.acc: 93.8957, s1.loss_bbox: 0.0951, s1.loss_mask: 0.0955, s2.loss_cls: 0.0489, s2.acc: 93.7614, s2.loss_bbox: 0.0381, s2.loss_mask: 0.0432, loss: 1.1378, grad_norm: 6.9307\n",
      "2021-05-15 14:28:04,002 - mmdet - INFO - Epoch [8][450/655]\tlr: 1.000e-04, eta: 1:14:22, time: 0.949, data_time: 0.029, memory: 16080, loss_rpn_cls: 0.0425, loss_rpn_bbox: 0.0290, s0.loss_cls: 0.2197, s0.acc: 92.8652, s0.loss_bbox: 0.2543, s0.loss_mask: 0.2410, s1.loss_cls: 0.1065, s1.acc: 92.9748, s1.loss_bbox: 0.1069, s1.loss_mask: 0.1084, s2.loss_cls: 0.0523, s2.acc: 93.0661, s2.loss_bbox: 0.0409, s2.loss_mask: 0.0470, loss: 1.2487, grad_norm: 7.1601\n",
      "2021-05-15 14:28:51,078 - mmdet - INFO - Epoch [8][500/655]\tlr: 1.000e-04, eta: 1:13:35, time: 0.941, data_time: 0.029, memory: 16080, loss_rpn_cls: 0.0540, loss_rpn_bbox: 0.0360, s0.loss_cls: 0.2263, s0.acc: 92.8057, s0.loss_bbox: 0.2633, s0.loss_mask: 0.2405, s1.loss_cls: 0.1103, s1.acc: 92.7638, s1.loss_bbox: 0.1078, s1.loss_mask: 0.1062, s2.loss_cls: 0.0538, s2.acc: 92.9515, s2.loss_bbox: 0.0422, s2.loss_mask: 0.0474, loss: 1.2879, grad_norm: 6.9299\n",
      "2021-05-15 14:29:37,976 - mmdet - INFO - Epoch [8][550/655]\tlr: 1.000e-04, eta: 1:12:49, time: 0.938, data_time: 0.030, memory: 16080, loss_rpn_cls: 0.0496, loss_rpn_bbox: 0.0346, s0.loss_cls: 0.2063, s0.acc: 93.3916, s0.loss_bbox: 0.2403, s0.loss_mask: 0.2225, s1.loss_cls: 0.1002, s1.acc: 93.5933, s1.loss_bbox: 0.0978, s1.loss_mask: 0.0991, s2.loss_cls: 0.0488, s2.acc: 93.5830, s2.loss_bbox: 0.0383, s2.loss_mask: 0.0450, loss: 1.1827, grad_norm: 7.4211\n",
      "2021-05-15 14:30:24,959 - mmdet - INFO - Epoch [8][600/655]\tlr: 1.000e-04, eta: 1:12:03, time: 0.940, data_time: 0.026, memory: 16080, loss_rpn_cls: 0.0412, loss_rpn_bbox: 0.0297, s0.loss_cls: 0.2081, s0.acc: 93.1846, s0.loss_bbox: 0.2377, s0.loss_mask: 0.2195, s1.loss_cls: 0.1008, s1.acc: 93.4884, s1.loss_bbox: 0.1015, s1.loss_mask: 0.1010, s2.loss_cls: 0.0500, s2.acc: 93.4980, s2.loss_bbox: 0.0407, s2.loss_mask: 0.0456, loss: 1.1758, grad_norm: 7.0217\n",
      "2021-05-15 14:31:11,724 - mmdet - INFO - Epoch [8][650/655]\tlr: 1.000e-04, eta: 1:11:16, time: 0.935, data_time: 0.028, memory: 16080, loss_rpn_cls: 0.0427, loss_rpn_bbox: 0.0338, s0.loss_cls: 0.2081, s0.acc: 93.2207, s0.loss_bbox: 0.2403, s0.loss_mask: 0.2235, s1.loss_cls: 0.1032, s1.acc: 93.1710, s1.loss_bbox: 0.0982, s1.loss_mask: 0.0992, s2.loss_cls: 0.0515, s2.acc: 93.1063, s2.loss_bbox: 0.0393, s2.loss_mask: 0.0454, loss: 1.1851, grad_norm: 7.1598\n",
      "2021-05-15 14:31:16,421 - mmdet - INFO - Saving checkpoint at 8 epochs\n"
     ]
    },
    {
     "name": "stdout",
     "output_type": "stream",
     "text": [
      "[>>>>>>>>>>>>>>>>>>>>>>>>>>>>>>] 655/655, 7.7 task/s, elapsed: 85s, ETA:     0s"
     ]
    },
    {
     "name": "stderr",
     "output_type": "stream",
     "text": [
      "2021-05-15 14:32:46,806 - mmdet - INFO - Evaluating bbox...\n"
     ]
    },
    {
     "name": "stdout",
     "output_type": "stream",
     "text": [
      "Loading and preparing results...\n",
      "DONE (t=0.08s)\n",
      "creating index...\n",
      "index created!\n",
      "Running per image evaluation...\n",
      "Evaluate annotation type *bbox*\n",
      "DONE (t=4.25s).\n",
      "Accumulating evaluation results...\n"
     ]
    },
    {
     "name": "stderr",
     "output_type": "stream",
     "text": [
      "2021-05-15 14:32:51,793 - mmdet - INFO - Evaluating segm...\n"
     ]
    },
    {
     "name": "stdout",
     "output_type": "stream",
     "text": [
      "DONE (t=0.64s).\n",
      "Average Precision  (AP) @[ IoU=0.50:0.95 | area=   all | maxDets=100 ] = 0.253\n",
      "Average Precision  (AP) @[ IoU=0.50      | area=   all | maxDets=1000 ] = 0.356\n",
      "Average Precision  (AP) @[ IoU=0.75      | area=   all | maxDets=1000 ] = 0.267\n",
      "Average Precision  (AP) @[ IoU=0.50:0.95 | area= small | maxDets=1000 ] = 0.063\n",
      "Average Precision  (AP) @[ IoU=0.50:0.95 | area=medium | maxDets=1000 ] = 0.244\n",
      "Average Precision  (AP) @[ IoU=0.50:0.95 | area= large | maxDets=1000 ] = 0.437\n",
      "Average Recall     (AR) @[ IoU=0.50:0.95 | area=   all | maxDets=100 ] = 0.417\n",
      "Average Recall     (AR) @[ IoU=0.50:0.95 | area=   all | maxDets=300 ] = 0.417\n",
      "Average Recall     (AR) @[ IoU=0.50:0.95 | area=   all | maxDets=1000 ] = 0.417\n",
      "Average Recall     (AR) @[ IoU=0.50:0.95 | area= small | maxDets=1000 ] = 0.143\n",
      "Average Recall     (AR) @[ IoU=0.50:0.95 | area=medium | maxDets=1000 ] = 0.404\n",
      "Average Recall     (AR) @[ IoU=0.50:0.95 | area= large | maxDets=1000 ] = 0.694\n",
      "Loading and preparing results...\n",
      "DONE (t=0.84s)\n",
      "creating index...\n",
      "index created!\n",
      "Running per image evaluation...\n",
      "Evaluate annotation type *segm*\n",
      "DONE (t=4.58s).\n",
      "Accumulating evaluation results...\n"
     ]
    },
    {
     "name": "stderr",
     "output_type": "stream",
     "text": [
      "2021-05-15 14:32:57,996 - mmdet - INFO - Epoch(val) [8][655]\tbbox_mAP: 0.2530, bbox_mAP_50: 0.3560, bbox_mAP_75: 0.2670, bbox_mAP_s: 0.0630, bbox_mAP_m: 0.2440, bbox_mAP_l: 0.4370, bbox_mAP_copypaste: 0.253 0.356 0.267 0.063 0.244 0.437, segm_mAP: 0.2380, segm_mAP_50: 0.3430, segm_mAP_75: 0.2540, segm_mAP_s: 0.0470, segm_mAP_m: 0.2260, segm_mAP_l: 0.4130, segm_mAP_copypaste: 0.238 0.343 0.254 0.047 0.226 0.413\n"
     ]
    },
    {
     "name": "stdout",
     "output_type": "stream",
     "text": [
      "DONE (t=0.67s).\n",
      "Average Precision  (AP) @[ IoU=0.50:0.95 | area=   all | maxDets=100 ] = 0.238\n",
      "Average Precision  (AP) @[ IoU=0.50      | area=   all | maxDets=1000 ] = 0.343\n",
      "Average Precision  (AP) @[ IoU=0.75      | area=   all | maxDets=1000 ] = 0.254\n",
      "Average Precision  (AP) @[ IoU=0.50:0.95 | area= small | maxDets=1000 ] = 0.047\n",
      "Average Precision  (AP) @[ IoU=0.50:0.95 | area=medium | maxDets=1000 ] = 0.226\n",
      "Average Precision  (AP) @[ IoU=0.50:0.95 | area= large | maxDets=1000 ] = 0.413\n",
      "Average Recall     (AR) @[ IoU=0.50:0.95 | area=   all | maxDets=100 ] = 0.392\n",
      "Average Recall     (AR) @[ IoU=0.50:0.95 | area=   all | maxDets=300 ] = 0.392\n",
      "Average Recall     (AR) @[ IoU=0.50:0.95 | area=   all | maxDets=1000 ] = 0.392\n",
      "Average Recall     (AR) @[ IoU=0.50:0.95 | area= small | maxDets=1000 ] = 0.111\n",
      "Average Recall     (AR) @[ IoU=0.50:0.95 | area=medium | maxDets=1000 ] = 0.371\n",
      "Average Recall     (AR) @[ IoU=0.50:0.95 | area= large | maxDets=1000 ] = 0.678\n"
     ]
    },
    {
     "name": "stderr",
     "output_type": "stream",
     "text": [
      "2021-05-15 14:33:48,318 - mmdet - INFO - Epoch [9][50/655]\tlr: 1.000e-05, eta: 1:10:24, time: 1.006, data_time: 0.080, memory: 16080, loss_rpn_cls: 0.0466, loss_rpn_bbox: 0.0340, s0.loss_cls: 0.2101, s0.acc: 93.4160, s0.loss_bbox: 0.2474, s0.loss_mask: 0.2191, s1.loss_cls: 0.0999, s1.acc: 93.7261, s1.loss_bbox: 0.1023, s1.loss_mask: 0.0988, s2.loss_cls: 0.0484, s2.acc: 94.0125, s2.loss_bbox: 0.0396, s2.loss_mask: 0.0447, loss: 1.1909, grad_norm: 7.2416\n",
      "2021-05-15 14:34:34,359 - mmdet - INFO - Epoch [9][100/655]\tlr: 1.000e-05, eta: 1:09:37, time: 0.921, data_time: 0.023, memory: 16080, loss_rpn_cls: 0.0300, loss_rpn_bbox: 0.0237, s0.loss_cls: 0.1543, s0.acc: 94.9863, s0.loss_bbox: 0.1889, s0.loss_mask: 0.1972, s1.loss_cls: 0.0728, s1.acc: 95.2549, s1.loss_bbox: 0.0806, s1.loss_mask: 0.0881, s2.loss_cls: 0.0357, s2.acc: 95.2777, s2.loss_bbox: 0.0324, s2.loss_mask: 0.0394, loss: 0.9432, grad_norm: 5.6311\n",
      "2021-05-15 14:35:21,481 - mmdet - INFO - Epoch [9][150/655]\tlr: 1.000e-05, eta: 1:08:51, time: 0.942, data_time: 0.029, memory: 16080, loss_rpn_cls: 0.0385, loss_rpn_bbox: 0.0296, s0.loss_cls: 0.1871, s0.acc: 93.9912, s0.loss_bbox: 0.2303, s0.loss_mask: 0.2104, s1.loss_cls: 0.0894, s1.acc: 94.3096, s1.loss_bbox: 0.0944, s1.loss_mask: 0.0946, s2.loss_cls: 0.0430, s2.acc: 94.5074, s2.loss_bbox: 0.0380, s2.loss_mask: 0.0427, loss: 1.0981, grad_norm: 6.2072\n",
      "2021-05-15 14:36:08,149 - mmdet - INFO - Epoch [9][200/655]\tlr: 1.000e-05, eta: 1:08:05, time: 0.933, data_time: 0.026, memory: 16080, loss_rpn_cls: 0.0313, loss_rpn_bbox: 0.0238, s0.loss_cls: 0.1580, s0.acc: 94.8467, s0.loss_bbox: 0.2040, s0.loss_mask: 0.1841, s1.loss_cls: 0.0723, s1.acc: 95.2640, s1.loss_bbox: 0.0877, s1.loss_mask: 0.0821, s2.loss_cls: 0.0357, s2.acc: 95.2576, s2.loss_bbox: 0.0366, s2.loss_mask: 0.0377, loss: 0.9532, grad_norm: 5.8584\n",
      "2021-05-15 14:36:54,877 - mmdet - INFO - Epoch [9][250/655]\tlr: 1.000e-05, eta: 1:07:18, time: 0.935, data_time: 0.029, memory: 16080, loss_rpn_cls: 0.0412, loss_rpn_bbox: 0.0315, s0.loss_cls: 0.1714, s0.acc: 94.4580, s0.loss_bbox: 0.2150, s0.loss_mask: 0.1917, s1.loss_cls: 0.0830, s1.acc: 94.6903, s1.loss_bbox: 0.0889, s1.loss_mask: 0.0865, s2.loss_cls: 0.0412, s2.acc: 94.6126, s2.loss_bbox: 0.0346, s2.loss_mask: 0.0395, loss: 1.0245, grad_norm: 6.1966\n",
      "2021-05-15 14:37:41,914 - mmdet - INFO - Epoch [9][300/655]\tlr: 1.000e-05, eta: 1:06:32, time: 0.941, data_time: 0.028, memory: 16080, loss_rpn_cls: 0.0369, loss_rpn_bbox: 0.0293, s0.loss_cls: 0.1761, s0.acc: 94.2871, s0.loss_bbox: 0.2178, s0.loss_mask: 0.2035, s1.loss_cls: 0.0826, s1.acc: 94.6259, s1.loss_bbox: 0.0903, s1.loss_mask: 0.0916, s2.loss_cls: 0.0403, s2.acc: 94.6880, s2.loss_bbox: 0.0369, s2.loss_mask: 0.0417, loss: 1.0471, grad_norm: 6.3562\n",
      "2021-05-15 14:38:29,511 - mmdet - INFO - Epoch [9][350/655]\tlr: 1.000e-05, eta: 1:05:46, time: 0.952, data_time: 0.029, memory: 16080, loss_rpn_cls: 0.0383, loss_rpn_bbox: 0.0276, s0.loss_cls: 0.1787, s0.acc: 94.2041, s0.loss_bbox: 0.2277, s0.loss_mask: 0.2016, s1.loss_cls: 0.0826, s1.acc: 94.7282, s1.loss_bbox: 0.0944, s1.loss_mask: 0.0910, s2.loss_cls: 0.0401, s2.acc: 94.7068, s2.loss_bbox: 0.0382, s2.loss_mask: 0.0417, loss: 1.0620, grad_norm: 6.2670\n",
      "2021-05-15 14:39:16,727 - mmdet - INFO - Epoch [9][400/655]\tlr: 1.000e-05, eta: 1:05:00, time: 0.944, data_time: 0.028, memory: 16080, loss_rpn_cls: 0.0369, loss_rpn_bbox: 0.0283, s0.loss_cls: 0.1751, s0.acc: 94.2510, s0.loss_bbox: 0.2206, s0.loss_mask: 0.2017, s1.loss_cls: 0.0809, s1.acc: 94.6951, s1.loss_bbox: 0.0922, s1.loss_mask: 0.0913, s2.loss_cls: 0.0395, s2.acc: 94.7896, s2.loss_bbox: 0.0360, s2.loss_mask: 0.0411, loss: 1.0434, grad_norm: 6.3257\n",
      "2021-05-15 14:40:04,030 - mmdet - INFO - Epoch [9][450/655]\tlr: 1.000e-05, eta: 1:04:14, time: 0.946, data_time: 0.032, memory: 16080, loss_rpn_cls: 0.0380, loss_rpn_bbox: 0.0303, s0.loss_cls: 0.1781, s0.acc: 94.1318, s0.loss_bbox: 0.2223, s0.loss_mask: 0.2106, s1.loss_cls: 0.0840, s1.acc: 94.5540, s1.loss_bbox: 0.0950, s1.loss_mask: 0.0972, s2.loss_cls: 0.0407, s2.acc: 94.6546, s2.loss_bbox: 0.0374, s2.loss_mask: 0.0436, loss: 1.0772, grad_norm: 6.1359\n",
      "2021-05-15 14:40:51,029 - mmdet - INFO - Epoch [9][500/655]\tlr: 1.000e-05, eta: 1:03:28, time: 0.940, data_time: 0.029, memory: 16080, loss_rpn_cls: 0.0425, loss_rpn_bbox: 0.0264, s0.loss_cls: 0.1651, s0.acc: 94.5498, s0.loss_bbox: 0.2230, s0.loss_mask: 0.2019, s1.loss_cls: 0.0768, s1.acc: 94.9070, s1.loss_bbox: 0.0927, s1.loss_mask: 0.0894, s2.loss_cls: 0.0380, s2.acc: 94.7802, s2.loss_bbox: 0.0360, s2.loss_mask: 0.0404, loss: 1.0322, grad_norm: 5.7575\n",
      "2021-05-15 14:41:38,255 - mmdet - INFO - Epoch [9][550/655]\tlr: 1.000e-05, eta: 1:02:41, time: 0.944, data_time: 0.027, memory: 16080, loss_rpn_cls: 0.0335, loss_rpn_bbox: 0.0267, s0.loss_cls: 0.1648, s0.acc: 94.4590, s0.loss_bbox: 0.2135, s0.loss_mask: 0.1911, s1.loss_cls: 0.0747, s1.acc: 95.0055, s1.loss_bbox: 0.0908, s1.loss_mask: 0.0869, s2.loss_cls: 0.0361, s2.acc: 95.2702, s2.loss_bbox: 0.0366, s2.loss_mask: 0.0395, loss: 0.9943, grad_norm: 6.2024\n",
      "2021-05-15 14:42:25,193 - mmdet - INFO - Epoch [9][600/655]\tlr: 1.000e-05, eta: 1:01:55, time: 0.939, data_time: 0.029, memory: 16080, loss_rpn_cls: 0.0397, loss_rpn_bbox: 0.0284, s0.loss_cls: 0.1763, s0.acc: 94.3047, s0.loss_bbox: 0.2241, s0.loss_mask: 0.2160, s1.loss_cls: 0.0819, s1.acc: 94.6753, s1.loss_bbox: 0.0942, s1.loss_mask: 0.0967, s2.loss_cls: 0.0406, s2.acc: 94.7528, s2.loss_bbox: 0.0367, s2.loss_mask: 0.0428, loss: 1.0774, grad_norm: 6.2009\n",
      "2021-05-15 14:43:12,185 - mmdet - INFO - Epoch [9][650/655]\tlr: 1.000e-05, eta: 1:01:09, time: 0.940, data_time: 0.027, memory: 16080, loss_rpn_cls: 0.0319, loss_rpn_bbox: 0.0256, s0.loss_cls: 0.1677, s0.acc: 94.3779, s0.loss_bbox: 0.2249, s0.loss_mask: 0.2022, s1.loss_cls: 0.0773, s1.acc: 94.8953, s1.loss_bbox: 0.0949, s1.loss_mask: 0.0920, s2.loss_cls: 0.0386, s2.acc: 94.9197, s2.loss_bbox: 0.0380, s2.loss_mask: 0.0419, loss: 1.0350, grad_norm: 6.1223\n",
      "2021-05-15 14:43:16,934 - mmdet - INFO - Saving checkpoint at 9 epochs\n"
     ]
    },
    {
     "name": "stdout",
     "output_type": "stream",
     "text": [
      "[>>>>>>>>>>>>>>>>>>>>>>>>>>>>>>] 655/655, 7.9 task/s, elapsed: 83s, ETA:     0s"
     ]
    },
    {
     "name": "stderr",
     "output_type": "stream",
     "text": [
      "2021-05-15 14:44:44,000 - mmdet - INFO - Evaluating bbox...\n"
     ]
    },
    {
     "name": "stdout",
     "output_type": "stream",
     "text": [
      "Loading and preparing results...\n",
      "DONE (t=0.07s)\n",
      "creating index...\n",
      "index created!\n",
      "Running per image evaluation...\n",
      "Evaluate annotation type *bbox*\n",
      "DONE (t=5.07s).\n",
      "Accumulating evaluation results...\n"
     ]
    },
    {
     "name": "stderr",
     "output_type": "stream",
     "text": [
      "2021-05-15 14:44:49,757 - mmdet - INFO - Evaluating segm...\n"
     ]
    },
    {
     "name": "stdout",
     "output_type": "stream",
     "text": [
      "DONE (t=0.61s).\n",
      "Average Precision  (AP) @[ IoU=0.50:0.95 | area=   all | maxDets=100 ] = 0.294\n",
      "Average Precision  (AP) @[ IoU=0.50      | area=   all | maxDets=1000 ] = 0.404\n",
      "Average Precision  (AP) @[ IoU=0.75      | area=   all | maxDets=1000 ] = 0.297\n",
      "Average Precision  (AP) @[ IoU=0.50:0.95 | area= small | maxDets=1000 ] = 0.069\n",
      "Average Precision  (AP) @[ IoU=0.50:0.95 | area=medium | maxDets=1000 ] = 0.275\n",
      "Average Precision  (AP) @[ IoU=0.50:0.95 | area= large | maxDets=1000 ] = 0.500\n",
      "Average Recall     (AR) @[ IoU=0.50:0.95 | area=   all | maxDets=100 ] = 0.427\n",
      "Average Recall     (AR) @[ IoU=0.50:0.95 | area=   all | maxDets=300 ] = 0.427\n",
      "Average Recall     (AR) @[ IoU=0.50:0.95 | area=   all | maxDets=1000 ] = 0.427\n",
      "Average Recall     (AR) @[ IoU=0.50:0.95 | area= small | maxDets=1000 ] = 0.158\n",
      "Average Recall     (AR) @[ IoU=0.50:0.95 | area=medium | maxDets=1000 ] = 0.407\n",
      "Average Recall     (AR) @[ IoU=0.50:0.95 | area= large | maxDets=1000 ] = 0.703\n",
      "Loading and preparing results...\n",
      "DONE (t=0.10s)\n",
      "creating index...\n",
      "index created!\n",
      "Running per image evaluation...\n",
      "Evaluate annotation type *segm*\n",
      "DONE (t=5.20s).\n",
      "Accumulating evaluation results...\n"
     ]
    },
    {
     "name": "stderr",
     "output_type": "stream",
     "text": [
      "2021-05-15 14:44:55,766 - mmdet - INFO - Epoch(val) [9][655]\tbbox_mAP: 0.2940, bbox_mAP_50: 0.4040, bbox_mAP_75: 0.2970, bbox_mAP_s: 0.0690, bbox_mAP_m: 0.2750, bbox_mAP_l: 0.5000, bbox_mAP_copypaste: 0.294 0.404 0.297 0.069 0.275 0.500, segm_mAP: 0.2720, segm_mAP_50: 0.3960, segm_mAP_75: 0.2800, segm_mAP_s: 0.0520, segm_mAP_m: 0.2490, segm_mAP_l: 0.4690, segm_mAP_copypaste: 0.272 0.396 0.280 0.052 0.249 0.469\n"
     ]
    },
    {
     "name": "stdout",
     "output_type": "stream",
     "text": [
      "DONE (t=0.61s).\n",
      "Average Precision  (AP) @[ IoU=0.50:0.95 | area=   all | maxDets=100 ] = 0.272\n",
      "Average Precision  (AP) @[ IoU=0.50      | area=   all | maxDets=1000 ] = 0.396\n",
      "Average Precision  (AP) @[ IoU=0.75      | area=   all | maxDets=1000 ] = 0.280\n",
      "Average Precision  (AP) @[ IoU=0.50:0.95 | area= small | maxDets=1000 ] = 0.052\n",
      "Average Precision  (AP) @[ IoU=0.50:0.95 | area=medium | maxDets=1000 ] = 0.249\n",
      "Average Precision  (AP) @[ IoU=0.50:0.95 | area= large | maxDets=1000 ] = 0.469\n",
      "Average Recall     (AR) @[ IoU=0.50:0.95 | area=   all | maxDets=100 ] = 0.398\n",
      "Average Recall     (AR) @[ IoU=0.50:0.95 | area=   all | maxDets=300 ] = 0.398\n",
      "Average Recall     (AR) @[ IoU=0.50:0.95 | area=   all | maxDets=1000 ] = 0.398\n",
      "Average Recall     (AR) @[ IoU=0.50:0.95 | area= small | maxDets=1000 ] = 0.123\n",
      "Average Recall     (AR) @[ IoU=0.50:0.95 | area=medium | maxDets=1000 ] = 0.371\n",
      "Average Recall     (AR) @[ IoU=0.50:0.95 | area= large | maxDets=1000 ] = 0.683\n"
     ]
    },
    {
     "name": "stderr",
     "output_type": "stream",
     "text": [
      "2021-05-15 14:45:44,570 - mmdet - INFO - Epoch [10][50/655]\tlr: 1.000e-05, eta: 1:00:16, time: 0.976, data_time: 0.075, memory: 16080, loss_rpn_cls: 0.0326, loss_rpn_bbox: 0.0259, s0.loss_cls: 0.1578, s0.acc: 94.7295, s0.loss_bbox: 0.1961, s0.loss_mask: 0.1946, s1.loss_cls: 0.0726, s1.acc: 95.1909, s1.loss_bbox: 0.0819, s1.loss_mask: 0.0862, s2.loss_cls: 0.0352, s2.acc: 95.1228, s2.loss_bbox: 0.0325, s2.loss_mask: 0.0390, loss: 0.9545, grad_norm: 5.8526\n",
      "2021-05-15 14:46:32,060 - mmdet - INFO - Epoch [10][100/655]\tlr: 1.000e-05, eta: 0:59:30, time: 0.950, data_time: 0.027, memory: 16080, loss_rpn_cls: 0.0329, loss_rpn_bbox: 0.0267, s0.loss_cls: 0.1662, s0.acc: 94.7666, s0.loss_bbox: 0.2168, s0.loss_mask: 0.1930, s1.loss_cls: 0.0752, s1.acc: 95.2562, s1.loss_bbox: 0.0902, s1.loss_mask: 0.0869, s2.loss_cls: 0.0372, s2.acc: 95.1014, s2.loss_bbox: 0.0377, s2.loss_mask: 0.0400, loss: 1.0029, grad_norm: 6.3503\n",
      "2021-05-15 14:47:18,603 - mmdet - INFO - Epoch [10][150/655]\tlr: 1.000e-05, eta: 0:58:43, time: 0.931, data_time: 0.029, memory: 16080, loss_rpn_cls: 0.0354, loss_rpn_bbox: 0.0271, s0.loss_cls: 0.1673, s0.acc: 94.5586, s0.loss_bbox: 0.2170, s0.loss_mask: 0.2155, s1.loss_cls: 0.0777, s1.acc: 94.9571, s1.loss_bbox: 0.0896, s1.loss_mask: 0.0974, s2.loss_cls: 0.0376, s2.acc: 95.2050, s2.loss_bbox: 0.0345, s2.loss_mask: 0.0438, loss: 1.0429, grad_norm: 5.6589\n",
      "2021-05-15 14:48:05,251 - mmdet - INFO - Epoch [10][200/655]\tlr: 1.000e-05, eta: 0:57:57, time: 0.933, data_time: 0.027, memory: 16080, loss_rpn_cls: 0.0287, loss_rpn_bbox: 0.0239, s0.loss_cls: 0.1467, s0.acc: 95.0527, s0.loss_bbox: 0.2041, s0.loss_mask: 0.1886, s1.loss_cls: 0.0679, s1.acc: 95.4907, s1.loss_bbox: 0.0857, s1.loss_mask: 0.0859, s2.loss_cls: 0.0326, s2.acc: 95.6311, s2.loss_bbox: 0.0349, s2.loss_mask: 0.0386, loss: 0.9375, grad_norm: 5.6758\n",
      "2021-05-15 14:48:52,274 - mmdet - INFO - Epoch [10][250/655]\tlr: 1.000e-05, eta: 0:57:10, time: 0.940, data_time: 0.031, memory: 16080, loss_rpn_cls: 0.0376, loss_rpn_bbox: 0.0281, s0.loss_cls: 0.1669, s0.acc: 94.4932, s0.loss_bbox: 0.2154, s0.loss_mask: 0.1898, s1.loss_cls: 0.0768, s1.acc: 94.8815, s1.loss_bbox: 0.0903, s1.loss_mask: 0.0873, s2.loss_cls: 0.0379, s2.acc: 94.9712, s2.loss_bbox: 0.0361, s2.loss_mask: 0.0397, loss: 1.0059, grad_norm: 5.9124\n",
      "2021-05-15 14:49:38,865 - mmdet - INFO - Epoch [10][300/655]\tlr: 1.000e-05, eta: 0:56:24, time: 0.932, data_time: 0.027, memory: 16080, loss_rpn_cls: 0.0310, loss_rpn_bbox: 0.0258, s0.loss_cls: 0.1571, s0.acc: 94.9990, s0.loss_bbox: 0.2078, s0.loss_mask: 0.1901, s1.loss_cls: 0.0717, s1.acc: 95.4640, s1.loss_bbox: 0.0873, s1.loss_mask: 0.0849, s2.loss_cls: 0.0348, s2.acc: 95.4074, s2.loss_bbox: 0.0349, s2.loss_mask: 0.0383, loss: 0.9637, grad_norm: 5.6730\n",
      "2021-05-15 14:50:25,637 - mmdet - INFO - Epoch [10][350/655]\tlr: 1.000e-05, eta: 0:55:37, time: 0.935, data_time: 0.028, memory: 16080, loss_rpn_cls: 0.0368, loss_rpn_bbox: 0.0278, s0.loss_cls: 0.1505, s0.acc: 95.0010, s0.loss_bbox: 0.2097, s0.loss_mask: 0.1962, s1.loss_cls: 0.0677, s1.acc: 95.6146, s1.loss_bbox: 0.0890, s1.loss_mask: 0.0894, s2.loss_cls: 0.0332, s2.acc: 95.6300, s2.loss_bbox: 0.0354, s2.loss_mask: 0.0405, loss: 0.9762, grad_norm: 6.1549\n",
      "2021-05-15 14:51:12,302 - mmdet - INFO - Epoch [10][400/655]\tlr: 1.000e-05, eta: 0:54:50, time: 0.933, data_time: 0.025, memory: 16080, loss_rpn_cls: 0.0357, loss_rpn_bbox: 0.0249, s0.loss_cls: 0.1612, s0.acc: 94.8232, s0.loss_bbox: 0.2136, s0.loss_mask: 0.1857, s1.loss_cls: 0.0728, s1.acc: 95.3111, s1.loss_bbox: 0.0874, s1.loss_mask: 0.0824, s2.loss_cls: 0.0356, s2.acc: 95.3131, s2.loss_bbox: 0.0355, s2.loss_mask: 0.0376, loss: 0.9724, grad_norm: 5.9320\n",
      "2021-05-15 14:51:59,994 - mmdet - INFO - Epoch [10][450/655]\tlr: 1.000e-05, eta: 0:54:04, time: 0.954, data_time: 0.031, memory: 16080, loss_rpn_cls: 0.0329, loss_rpn_bbox: 0.0281, s0.loss_cls: 0.1731, s0.acc: 94.3936, s0.loss_bbox: 0.2221, s0.loss_mask: 0.1938, s1.loss_cls: 0.0792, s1.acc: 94.9606, s1.loss_bbox: 0.0948, s1.loss_mask: 0.0880, s2.loss_cls: 0.0383, s2.acc: 94.9998, s2.loss_bbox: 0.0383, s2.loss_mask: 0.0405, loss: 1.0291, grad_norm: 6.0430\n",
      "2021-05-15 14:52:46,700 - mmdet - INFO - Epoch [10][500/655]\tlr: 1.000e-05, eta: 0:53:18, time: 0.934, data_time: 0.028, memory: 16080, loss_rpn_cls: 0.0317, loss_rpn_bbox: 0.0268, s0.loss_cls: 0.1542, s0.acc: 94.8701, s0.loss_bbox: 0.2051, s0.loss_mask: 0.1938, s1.loss_cls: 0.0712, s1.acc: 95.2499, s1.loss_bbox: 0.0876, s1.loss_mask: 0.0895, s2.loss_cls: 0.0356, s2.acc: 95.2102, s2.loss_bbox: 0.0366, s2.loss_mask: 0.0414, loss: 0.9735, grad_norm: 6.1242\n",
      "2021-05-15 14:53:34,275 - mmdet - INFO - Epoch [10][550/655]\tlr: 1.000e-05, eta: 0:52:32, time: 0.952, data_time: 0.032, memory: 16080, loss_rpn_cls: 0.0339, loss_rpn_bbox: 0.0264, s0.loss_cls: 0.1660, s0.acc: 94.5137, s0.loss_bbox: 0.2175, s0.loss_mask: 0.1959, s1.loss_cls: 0.0771, s1.acc: 94.9249, s1.loss_bbox: 0.0911, s1.loss_mask: 0.0878, s2.loss_cls: 0.0387, s2.acc: 94.8877, s2.loss_bbox: 0.0361, s2.loss_mask: 0.0402, loss: 1.0105, grad_norm: 5.7557\n",
      "2021-05-15 14:54:22,771 - mmdet - INFO - Epoch [10][600/655]\tlr: 1.000e-05, eta: 0:51:46, time: 0.970, data_time: 0.032, memory: 16080, loss_rpn_cls: 0.0365, loss_rpn_bbox: 0.0271, s0.loss_cls: 0.1692, s0.acc: 94.4150, s0.loss_bbox: 0.2246, s0.loss_mask: 0.2006, s1.loss_cls: 0.0780, s1.acc: 94.9695, s1.loss_bbox: 0.0940, s1.loss_mask: 0.0908, s2.loss_cls: 0.0381, s2.acc: 94.9709, s2.loss_bbox: 0.0375, s2.loss_mask: 0.0415, loss: 1.0380, grad_norm: 6.2731\n",
      "2021-05-15 14:55:09,768 - mmdet - INFO - Epoch [10][650/655]\tlr: 1.000e-05, eta: 0:51:00, time: 0.940, data_time: 0.029, memory: 16080, loss_rpn_cls: 0.0381, loss_rpn_bbox: 0.0272, s0.loss_cls: 0.1711, s0.acc: 94.4717, s0.loss_bbox: 0.2248, s0.loss_mask: 0.2152, s1.loss_cls: 0.0819, s1.acc: 94.4611, s1.loss_bbox: 0.0922, s1.loss_mask: 0.0957, s2.loss_cls: 0.0403, s2.acc: 94.6602, s2.loss_bbox: 0.0352, s2.loss_mask: 0.0427, loss: 1.0644, grad_norm: 6.1082\n",
      "2021-05-15 14:55:14,294 - mmdet - INFO - Saving checkpoint at 10 epochs\n"
     ]
    },
    {
     "name": "stdout",
     "output_type": "stream",
     "text": [
      "[>>>>>>>>>>>>>>>>>>>>>>>>>>>>>>] 655/655, 7.8 task/s, elapsed: 84s, ETA:     0s"
     ]
    },
    {
     "name": "stderr",
     "output_type": "stream",
     "text": [
      "2021-05-15 14:56:42,576 - mmdet - INFO - Evaluating bbox...\n"
     ]
    },
    {
     "name": "stdout",
     "output_type": "stream",
     "text": [
      "Loading and preparing results...\n",
      "DONE (t=0.83s)\n",
      "creating index...\n",
      "index created!\n",
      "Running per image evaluation...\n",
      "Evaluate annotation type *bbox*\n",
      "DONE (t=4.40s).\n",
      "Accumulating evaluation results...\n"
     ]
    },
    {
     "name": "stderr",
     "output_type": "stream",
     "text": [
      "2021-05-15 14:56:48,452 - mmdet - INFO - Evaluating segm...\n"
     ]
    },
    {
     "name": "stdout",
     "output_type": "stream",
     "text": [
      "DONE (t=0.63s).\n",
      "Average Precision  (AP) @[ IoU=0.50:0.95 | area=   all | maxDets=100 ] = 0.305\n",
      "Average Precision  (AP) @[ IoU=0.50      | area=   all | maxDets=1000 ] = 0.413\n",
      "Average Precision  (AP) @[ IoU=0.75      | area=   all | maxDets=1000 ] = 0.315\n",
      "Average Precision  (AP) @[ IoU=0.50:0.95 | area= small | maxDets=1000 ] = 0.070\n",
      "Average Precision  (AP) @[ IoU=0.50:0.95 | area=medium | maxDets=1000 ] = 0.286\n",
      "Average Precision  (AP) @[ IoU=0.50:0.95 | area= large | maxDets=1000 ] = 0.492\n",
      "Average Recall     (AR) @[ IoU=0.50:0.95 | area=   all | maxDets=100 ] = 0.438\n",
      "Average Recall     (AR) @[ IoU=0.50:0.95 | area=   all | maxDets=300 ] = 0.438\n",
      "Average Recall     (AR) @[ IoU=0.50:0.95 | area=   all | maxDets=1000 ] = 0.438\n",
      "Average Recall     (AR) @[ IoU=0.50:0.95 | area= small | maxDets=1000 ] = 0.166\n",
      "Average Recall     (AR) @[ IoU=0.50:0.95 | area=medium | maxDets=1000 ] = 0.428\n",
      "Average Recall     (AR) @[ IoU=0.50:0.95 | area= large | maxDets=1000 ] = 0.627\n",
      "Loading and preparing results...\n",
      "DONE (t=0.93s)\n",
      "creating index...\n",
      "index created!\n",
      "Running per image evaluation...\n",
      "Evaluate annotation type *segm*\n",
      "DONE (t=4.51s).\n",
      "Accumulating evaluation results...\n"
     ]
    },
    {
     "name": "stderr",
     "output_type": "stream",
     "text": [
      "2021-05-15 14:56:54,611 - mmdet - INFO - Epoch(val) [10][655]\tbbox_mAP: 0.3050, bbox_mAP_50: 0.4130, bbox_mAP_75: 0.3150, bbox_mAP_s: 0.0700, bbox_mAP_m: 0.2860, bbox_mAP_l: 0.4920, bbox_mAP_copypaste: 0.305 0.413 0.315 0.070 0.286 0.492, segm_mAP: 0.2820, segm_mAP_50: 0.4040, segm_mAP_75: 0.2860, segm_mAP_s: 0.0520, segm_mAP_m: 0.2580, segm_mAP_l: 0.4630, segm_mAP_copypaste: 0.282 0.404 0.286 0.052 0.258 0.463\n"
     ]
    },
    {
     "name": "stdout",
     "output_type": "stream",
     "text": [
      "DONE (t=0.62s).\n",
      "Average Precision  (AP) @[ IoU=0.50:0.95 | area=   all | maxDets=100 ] = 0.282\n",
      "Average Precision  (AP) @[ IoU=0.50      | area=   all | maxDets=1000 ] = 0.404\n",
      "Average Precision  (AP) @[ IoU=0.75      | area=   all | maxDets=1000 ] = 0.286\n",
      "Average Precision  (AP) @[ IoU=0.50:0.95 | area= small | maxDets=1000 ] = 0.052\n",
      "Average Precision  (AP) @[ IoU=0.50:0.95 | area=medium | maxDets=1000 ] = 0.258\n",
      "Average Precision  (AP) @[ IoU=0.50:0.95 | area= large | maxDets=1000 ] = 0.463\n",
      "Average Recall     (AR) @[ IoU=0.50:0.95 | area=   all | maxDets=100 ] = 0.409\n",
      "Average Recall     (AR) @[ IoU=0.50:0.95 | area=   all | maxDets=300 ] = 0.409\n",
      "Average Recall     (AR) @[ IoU=0.50:0.95 | area=   all | maxDets=1000 ] = 0.409\n",
      "Average Recall     (AR) @[ IoU=0.50:0.95 | area= small | maxDets=1000 ] = 0.130\n",
      "Average Recall     (AR) @[ IoU=0.50:0.95 | area=medium | maxDets=1000 ] = 0.389\n",
      "Average Recall     (AR) @[ IoU=0.50:0.95 | area= large | maxDets=1000 ] = 0.603\n"
     ]
    },
    {
     "name": "stderr",
     "output_type": "stream",
     "text": [
      "2021-05-15 14:57:44,234 - mmdet - INFO - Epoch [11][50/655]\tlr: 1.000e-05, eta: 0:50:07, time: 0.992, data_time: 0.077, memory: 16080, loss_rpn_cls: 0.0343, loss_rpn_bbox: 0.0285, s0.loss_cls: 0.1715, s0.acc: 94.4062, s0.loss_bbox: 0.2162, s0.loss_mask: 0.1919, s1.loss_cls: 0.0794, s1.acc: 94.8962, s1.loss_bbox: 0.0884, s1.loss_mask: 0.0861, s2.loss_cls: 0.0384, s2.acc: 94.9203, s2.loss_bbox: 0.0350, s2.loss_mask: 0.0396, loss: 1.0092, grad_norm: 5.9736\n",
      "2021-05-15 14:58:31,923 - mmdet - INFO - Epoch [11][100/655]\tlr: 1.000e-05, eta: 0:49:21, time: 0.954, data_time: 0.030, memory: 16080, loss_rpn_cls: 0.0338, loss_rpn_bbox: 0.0285, s0.loss_cls: 0.1625, s0.acc: 94.5371, s0.loss_bbox: 0.2270, s0.loss_mask: 0.1989, s1.loss_cls: 0.0724, s1.acc: 95.2150, s1.loss_bbox: 0.0955, s1.loss_mask: 0.0900, s2.loss_cls: 0.0362, s2.acc: 95.0978, s2.loss_bbox: 0.0394, s2.loss_mask: 0.0417, loss: 1.0259, grad_norm: 6.3048\n",
      "2021-05-15 14:59:18,124 - mmdet - INFO - Epoch [11][150/655]\tlr: 1.000e-05, eta: 0:48:34, time: 0.924, data_time: 0.026, memory: 16080, loss_rpn_cls: 0.0306, loss_rpn_bbox: 0.0257, s0.loss_cls: 0.1457, s0.acc: 95.1748, s0.loss_bbox: 0.1989, s0.loss_mask: 0.1909, s1.loss_cls: 0.0644, s1.acc: 95.6712, s1.loss_bbox: 0.0830, s1.loss_mask: 0.0857, s2.loss_cls: 0.0320, s2.acc: 95.6131, s2.loss_bbox: 0.0328, s2.loss_mask: 0.0385, loss: 0.9282, grad_norm: 6.0163\n",
      "2021-05-15 15:00:05,441 - mmdet - INFO - Epoch [11][200/655]\tlr: 1.000e-05, eta: 0:47:48, time: 0.946, data_time: 0.028, memory: 16080, loss_rpn_cls: 0.0322, loss_rpn_bbox: 0.0273, s0.loss_cls: 0.1732, s0.acc: 94.3887, s0.loss_bbox: 0.2247, s0.loss_mask: 0.1929, s1.loss_cls: 0.0780, s1.acc: 95.1386, s1.loss_bbox: 0.0944, s1.loss_mask: 0.0874, s2.loss_cls: 0.0375, s2.acc: 95.1719, s2.loss_bbox: 0.0384, s2.loss_mask: 0.0397, loss: 1.0256, grad_norm: 6.0189\n",
      "2021-05-15 15:00:52,404 - mmdet - INFO - Epoch [11][250/655]\tlr: 1.000e-05, eta: 0:47:02, time: 0.939, data_time: 0.029, memory: 16080, loss_rpn_cls: 0.0291, loss_rpn_bbox: 0.0262, s0.loss_cls: 0.1544, s0.acc: 94.8408, s0.loss_bbox: 0.2033, s0.loss_mask: 0.1844, s1.loss_cls: 0.0715, s1.acc: 95.2918, s1.loss_bbox: 0.0859, s1.loss_mask: 0.0849, s2.loss_cls: 0.0357, s2.acc: 95.3574, s2.loss_bbox: 0.0349, s2.loss_mask: 0.0397, loss: 0.9498, grad_norm: 6.0085\n",
      "2021-05-15 15:01:39,420 - mmdet - INFO - Epoch [11][300/655]\tlr: 1.000e-05, eta: 0:46:15, time: 0.940, data_time: 0.030, memory: 16080, loss_rpn_cls: 0.0313, loss_rpn_bbox: 0.0255, s0.loss_cls: 0.1469, s0.acc: 95.0664, s0.loss_bbox: 0.2126, s0.loss_mask: 0.1950, s1.loss_cls: 0.0652, s1.acc: 95.7220, s1.loss_bbox: 0.0881, s1.loss_mask: 0.0873, s2.loss_cls: 0.0324, s2.acc: 95.6214, s2.loss_bbox: 0.0355, s2.loss_mask: 0.0403, loss: 0.9600, grad_norm: 5.6879\n",
      "2021-05-15 15:02:25,844 - mmdet - INFO - Epoch [11][350/655]\tlr: 1.000e-05, eta: 0:45:28, time: 0.928, data_time: 0.027, memory: 16080, loss_rpn_cls: 0.0303, loss_rpn_bbox: 0.0228, s0.loss_cls: 0.1360, s0.acc: 95.6650, s0.loss_bbox: 0.1920, s0.loss_mask: 0.1829, s1.loss_cls: 0.0618, s1.acc: 95.9891, s1.loss_bbox: 0.0789, s1.loss_mask: 0.0804, s2.loss_cls: 0.0294, s2.acc: 96.2787, s2.loss_bbox: 0.0321, s2.loss_mask: 0.0366, loss: 0.8832, grad_norm: 5.9392\n",
      "2021-05-15 15:03:13,720 - mmdet - INFO - Epoch [11][400/655]\tlr: 1.000e-05, eta: 0:44:42, time: 0.958, data_time: 0.030, memory: 16080, loss_rpn_cls: 0.0390, loss_rpn_bbox: 0.0302, s0.loss_cls: 0.1781, s0.acc: 94.0244, s0.loss_bbox: 0.2345, s0.loss_mask: 0.1989, s1.loss_cls: 0.0822, s1.acc: 94.6496, s1.loss_bbox: 0.0983, s1.loss_mask: 0.0923, s2.loss_cls: 0.0393, s2.acc: 94.7012, s2.loss_bbox: 0.0393, s2.loss_mask: 0.0415, loss: 1.0735, grad_norm: 6.1115\n",
      "2021-05-15 15:04:00,459 - mmdet - INFO - Epoch [11][450/655]\tlr: 1.000e-05, eta: 0:43:56, time: 0.935, data_time: 0.027, memory: 16080, loss_rpn_cls: 0.0306, loss_rpn_bbox: 0.0254, s0.loss_cls: 0.1590, s0.acc: 94.7656, s0.loss_bbox: 0.2074, s0.loss_mask: 0.1901, s1.loss_cls: 0.0746, s1.acc: 95.2315, s1.loss_bbox: 0.0864, s1.loss_mask: 0.0851, s2.loss_cls: 0.0369, s2.acc: 95.1472, s2.loss_bbox: 0.0345, s2.loss_mask: 0.0387, loss: 0.9687, grad_norm: 6.6010\n",
      "2021-05-15 15:04:46,004 - mmdet - INFO - Epoch [11][500/655]\tlr: 1.000e-05, eta: 0:43:09, time: 0.911, data_time: 0.025, memory: 16080, loss_rpn_cls: 0.0243, loss_rpn_bbox: 0.0210, s0.loss_cls: 0.1319, s0.acc: 95.7471, s0.loss_bbox: 0.1748, s0.loss_mask: 0.1762, s1.loss_cls: 0.0584, s1.acc: 96.2767, s1.loss_bbox: 0.0764, s1.loss_mask: 0.0804, s2.loss_cls: 0.0285, s2.acc: 96.2411, s2.loss_bbox: 0.0312, s2.loss_mask: 0.0364, loss: 0.8395, grad_norm: 5.8102\n",
      "2021-05-15 15:05:34,333 - mmdet - INFO - Epoch [11][550/655]\tlr: 1.000e-05, eta: 0:42:23, time: 0.967, data_time: 0.032, memory: 16080, loss_rpn_cls: 0.0345, loss_rpn_bbox: 0.0264, s0.loss_cls: 0.1644, s0.acc: 94.5625, s0.loss_bbox: 0.2239, s0.loss_mask: 0.1978, s1.loss_cls: 0.0738, s1.acc: 95.0758, s1.loss_bbox: 0.0930, s1.loss_mask: 0.0871, s2.loss_cls: 0.0362, s2.acc: 94.9769, s2.loss_bbox: 0.0375, s2.loss_mask: 0.0391, loss: 1.0138, grad_norm: 5.8400\n",
      "2021-05-15 15:06:22,595 - mmdet - INFO - Epoch [11][600/655]\tlr: 1.000e-05, eta: 0:41:36, time: 0.965, data_time: 0.033, memory: 16080, loss_rpn_cls: 0.0349, loss_rpn_bbox: 0.0280, s0.loss_cls: 0.1764, s0.acc: 93.9834, s0.loss_bbox: 0.2334, s0.loss_mask: 0.2111, s1.loss_cls: 0.0799, s1.acc: 94.5177, s1.loss_bbox: 0.0954, s1.loss_mask: 0.0926, s2.loss_cls: 0.0391, s2.acc: 94.6344, s2.loss_bbox: 0.0379, s2.loss_mask: 0.0424, loss: 1.0710, grad_norm: 6.0206\n",
      "2021-05-15 15:07:08,840 - mmdet - INFO - Epoch [11][650/655]\tlr: 1.000e-05, eta: 0:40:50, time: 0.925, data_time: 0.026, memory: 16080, loss_rpn_cls: 0.0273, loss_rpn_bbox: 0.0202, s0.loss_cls: 0.1325, s0.acc: 95.6133, s0.loss_bbox: 0.1916, s0.loss_mask: 0.1824, s1.loss_cls: 0.0591, s1.acc: 96.0000, s1.loss_bbox: 0.0831, s1.loss_mask: 0.0829, s2.loss_cls: 0.0296, s2.acc: 96.0528, s2.loss_bbox: 0.0341, s2.loss_mask: 0.0382, loss: 0.8809, grad_norm: 5.7638\n",
      "2021-05-15 15:07:13,389 - mmdet - INFO - Saving checkpoint at 11 epochs\n"
     ]
    },
    {
     "name": "stdout",
     "output_type": "stream",
     "text": [
      "[>>>>>>>>>>>>>>>>>>>>>>>>>>>>>>] 655/655, 8.1 task/s, elapsed: 81s, ETA:     0s"
     ]
    },
    {
     "name": "stderr",
     "output_type": "stream",
     "text": [
      "2021-05-15 15:08:39,232 - mmdet - INFO - Evaluating bbox...\n"
     ]
    },
    {
     "name": "stdout",
     "output_type": "stream",
     "text": [
      "Loading and preparing results...\n",
      "DONE (t=0.06s)\n",
      "creating index...\n",
      "index created!\n",
      "Running per image evaluation...\n",
      "Evaluate annotation type *bbox*\n",
      "DONE (t=3.97s).\n",
      "Accumulating evaluation results...\n"
     ]
    },
    {
     "name": "stderr",
     "output_type": "stream",
     "text": [
      "2021-05-15 15:08:43,825 - mmdet - INFO - Evaluating segm...\n"
     ]
    },
    {
     "name": "stdout",
     "output_type": "stream",
     "text": [
      "DONE (t=0.55s).\n",
      "Average Precision  (AP) @[ IoU=0.50:0.95 | area=   all | maxDets=100 ] = 0.307\n",
      "Average Precision  (AP) @[ IoU=0.50      | area=   all | maxDets=1000 ] = 0.417\n",
      "Average Precision  (AP) @[ IoU=0.75      | area=   all | maxDets=1000 ] = 0.319\n",
      "Average Precision  (AP) @[ IoU=0.50:0.95 | area= small | maxDets=1000 ] = 0.071\n",
      "Average Precision  (AP) @[ IoU=0.50:0.95 | area=medium | maxDets=1000 ] = 0.291\n",
      "Average Precision  (AP) @[ IoU=0.50:0.95 | area= large | maxDets=1000 ] = 0.485\n",
      "Average Recall     (AR) @[ IoU=0.50:0.95 | area=   all | maxDets=100 ] = 0.429\n",
      "Average Recall     (AR) @[ IoU=0.50:0.95 | area=   all | maxDets=300 ] = 0.429\n",
      "Average Recall     (AR) @[ IoU=0.50:0.95 | area=   all | maxDets=1000 ] = 0.429\n",
      "Average Recall     (AR) @[ IoU=0.50:0.95 | area= small | maxDets=1000 ] = 0.158\n",
      "Average Recall     (AR) @[ IoU=0.50:0.95 | area=medium | maxDets=1000 ] = 0.421\n",
      "Average Recall     (AR) @[ IoU=0.50:0.95 | area= large | maxDets=1000 ] = 0.620\n",
      "Loading and preparing results...\n",
      "DONE (t=0.86s)\n",
      "creating index...\n",
      "index created!\n",
      "Running per image evaluation...\n",
      "Evaluate annotation type *segm*\n",
      "DONE (t=4.07s).\n",
      "Accumulating evaluation results...\n"
     ]
    },
    {
     "name": "stderr",
     "output_type": "stream",
     "text": [
      "2021-05-15 15:08:49,419 - mmdet - INFO - Epoch(val) [11][655]\tbbox_mAP: 0.3070, bbox_mAP_50: 0.4170, bbox_mAP_75: 0.3190, bbox_mAP_s: 0.0710, bbox_mAP_m: 0.2910, bbox_mAP_l: 0.4850, bbox_mAP_copypaste: 0.307 0.417 0.319 0.071 0.291 0.485, segm_mAP: 0.2860, segm_mAP_50: 0.4080, segm_mAP_75: 0.2970, segm_mAP_s: 0.0530, segm_mAP_m: 0.2640, segm_mAP_l: 0.4560, segm_mAP_copypaste: 0.286 0.408 0.297 0.053 0.264 0.456\n"
     ]
    },
    {
     "name": "stdout",
     "output_type": "stream",
     "text": [
      "DONE (t=0.56s).\n",
      "Average Precision  (AP) @[ IoU=0.50:0.95 | area=   all | maxDets=100 ] = 0.286\n",
      "Average Precision  (AP) @[ IoU=0.50      | area=   all | maxDets=1000 ] = 0.408\n",
      "Average Precision  (AP) @[ IoU=0.75      | area=   all | maxDets=1000 ] = 0.297\n",
      "Average Precision  (AP) @[ IoU=0.50:0.95 | area= small | maxDets=1000 ] = 0.053\n",
      "Average Precision  (AP) @[ IoU=0.50:0.95 | area=medium | maxDets=1000 ] = 0.264\n",
      "Average Precision  (AP) @[ IoU=0.50:0.95 | area= large | maxDets=1000 ] = 0.456\n",
      "Average Recall     (AR) @[ IoU=0.50:0.95 | area=   all | maxDets=100 ] = 0.400\n",
      "Average Recall     (AR) @[ IoU=0.50:0.95 | area=   all | maxDets=300 ] = 0.400\n",
      "Average Recall     (AR) @[ IoU=0.50:0.95 | area=   all | maxDets=1000 ] = 0.400\n",
      "Average Recall     (AR) @[ IoU=0.50:0.95 | area= small | maxDets=1000 ] = 0.122\n",
      "Average Recall     (AR) @[ IoU=0.50:0.95 | area=medium | maxDets=1000 ] = 0.387\n",
      "Average Recall     (AR) @[ IoU=0.50:0.95 | area= large | maxDets=1000 ] = 0.595\n"
     ]
    },
    {
     "name": "stderr",
     "output_type": "stream",
     "text": [
      "2021-05-15 15:09:38,327 - mmdet - INFO - Epoch [12][50/655]\tlr: 1.000e-05, eta: 0:39:57, time: 0.978, data_time: 0.076, memory: 16080, loss_rpn_cls: 0.0312, loss_rpn_bbox: 0.0231, s0.loss_cls: 0.1438, s0.acc: 95.2461, s0.loss_bbox: 0.2011, s0.loss_mask: 0.1910, s1.loss_cls: 0.0637, s1.acc: 95.7853, s1.loss_bbox: 0.0834, s1.loss_mask: 0.0844, s2.loss_cls: 0.0315, s2.acc: 95.6649, s2.loss_bbox: 0.0341, s2.loss_mask: 0.0389, loss: 0.9263, grad_norm: 5.9588\n",
      "2021-05-15 15:10:25,269 - mmdet - INFO - Epoch [12][100/655]\tlr: 1.000e-05, eta: 0:39:11, time: 0.939, data_time: 0.030, memory: 16080, loss_rpn_cls: 0.0347, loss_rpn_bbox: 0.0287, s0.loss_cls: 0.1611, s0.acc: 94.5928, s0.loss_bbox: 0.2261, s0.loss_mask: 0.2073, s1.loss_cls: 0.0725, s1.acc: 95.1937, s1.loss_bbox: 0.0927, s1.loss_mask: 0.0923, s2.loss_cls: 0.0358, s2.acc: 95.2666, s2.loss_bbox: 0.0370, s2.loss_mask: 0.0422, loss: 1.0306, grad_norm: 5.9132\n",
      "2021-05-15 15:11:11,680 - mmdet - INFO - Epoch [12][150/655]\tlr: 1.000e-05, eta: 0:38:24, time: 0.928, data_time: 0.026, memory: 16080, loss_rpn_cls: 0.0325, loss_rpn_bbox: 0.0257, s0.loss_cls: 0.1480, s0.acc: 95.0469, s0.loss_bbox: 0.2061, s0.loss_mask: 0.1922, s1.loss_cls: 0.0674, s1.acc: 95.4920, s1.loss_bbox: 0.0855, s1.loss_mask: 0.0873, s2.loss_cls: 0.0328, s2.acc: 95.5667, s2.loss_bbox: 0.0343, s2.loss_mask: 0.0405, loss: 0.9522, grad_norm: 5.8987\n",
      "2021-05-15 15:11:59,250 - mmdet - INFO - Epoch [12][200/655]\tlr: 1.000e-05, eta: 0:37:38, time: 0.951, data_time: 0.029, memory: 16080, loss_rpn_cls: 0.0329, loss_rpn_bbox: 0.0252, s0.loss_cls: 0.1554, s0.acc: 94.8096, s0.loss_bbox: 0.2159, s0.loss_mask: 0.1943, s1.loss_cls: 0.0695, s1.acc: 95.4592, s1.loss_bbox: 0.0877, s1.loss_mask: 0.0862, s2.loss_cls: 0.0334, s2.acc: 95.6878, s2.loss_bbox: 0.0356, s2.loss_mask: 0.0393, loss: 0.9753, grad_norm: 5.9861\n",
      "2021-05-15 15:12:46,686 - mmdet - INFO - Epoch [12][250/655]\tlr: 1.000e-05, eta: 0:36:51, time: 0.949, data_time: 0.028, memory: 16080, loss_rpn_cls: 0.0282, loss_rpn_bbox: 0.0258, s0.loss_cls: 0.1524, s0.acc: 95.0195, s0.loss_bbox: 0.2134, s0.loss_mask: 0.1877, s1.loss_cls: 0.0680, s1.acc: 95.6364, s1.loss_bbox: 0.0882, s1.loss_mask: 0.0837, s2.loss_cls: 0.0338, s2.acc: 95.5971, s2.loss_bbox: 0.0359, s2.loss_mask: 0.0382, loss: 0.9554, grad_norm: 5.9546\n",
      "2021-05-15 15:13:33,272 - mmdet - INFO - Epoch [12][300/655]\tlr: 1.000e-05, eta: 0:36:05, time: 0.932, data_time: 0.027, memory: 16080, loss_rpn_cls: 0.0301, loss_rpn_bbox: 0.0225, s0.loss_cls: 0.1337, s0.acc: 95.4268, s0.loss_bbox: 0.1909, s0.loss_mask: 0.1714, s1.loss_cls: 0.0606, s1.acc: 95.8308, s1.loss_bbox: 0.0817, s1.loss_mask: 0.0773, s2.loss_cls: 0.0298, s2.acc: 95.8934, s2.loss_bbox: 0.0335, s2.loss_mask: 0.0359, loss: 0.8673, grad_norm: 5.8944\n",
      "2021-05-15 15:14:20,324 - mmdet - INFO - Epoch [12][350/655]\tlr: 1.000e-05, eta: 0:35:18, time: 0.941, data_time: 0.029, memory: 16080, loss_rpn_cls: 0.0317, loss_rpn_bbox: 0.0258, s0.loss_cls: 0.1588, s0.acc: 94.7529, s0.loss_bbox: 0.2039, s0.loss_mask: 0.1950, s1.loss_cls: 0.0736, s1.acc: 95.1350, s1.loss_bbox: 0.0870, s1.loss_mask: 0.0926, s2.loss_cls: 0.0361, s2.acc: 95.1335, s2.loss_bbox: 0.0346, s2.loss_mask: 0.0424, loss: 0.9815, grad_norm: 6.1860\n",
      "2021-05-15 15:15:07,623 - mmdet - INFO - Epoch [12][400/655]\tlr: 1.000e-05, eta: 0:34:32, time: 0.946, data_time: 0.031, memory: 16080, loss_rpn_cls: 0.0308, loss_rpn_bbox: 0.0260, s0.loss_cls: 0.1552, s0.acc: 94.8516, s0.loss_bbox: 0.2087, s0.loss_mask: 0.1875, s1.loss_cls: 0.0699, s1.acc: 95.3979, s1.loss_bbox: 0.0873, s1.loss_mask: 0.0866, s2.loss_cls: 0.0340, s2.acc: 95.4781, s2.loss_bbox: 0.0354, s2.loss_mask: 0.0394, loss: 0.9607, grad_norm: 6.0186\n",
      "2021-05-15 15:15:54,314 - mmdet - INFO - Epoch [12][450/655]\tlr: 1.000e-05, eta: 0:33:45, time: 0.934, data_time: 0.029, memory: 16080, loss_rpn_cls: 0.0339, loss_rpn_bbox: 0.0264, s0.loss_cls: 0.1623, s0.acc: 94.7588, s0.loss_bbox: 0.2144, s0.loss_mask: 0.2048, s1.loss_cls: 0.0742, s1.acc: 95.1958, s1.loss_bbox: 0.0883, s1.loss_mask: 0.0930, s2.loss_cls: 0.0356, s2.acc: 95.4469, s2.loss_bbox: 0.0350, s2.loss_mask: 0.0422, loss: 1.0102, grad_norm: 5.9069\n",
      "2021-05-15 15:16:41,098 - mmdet - INFO - Epoch [12][500/655]\tlr: 1.000e-05, eta: 0:32:58, time: 0.936, data_time: 0.027, memory: 16080, loss_rpn_cls: 0.0302, loss_rpn_bbox: 0.0217, s0.loss_cls: 0.1442, s0.acc: 95.3203, s0.loss_bbox: 0.2030, s0.loss_mask: 0.1818, s1.loss_cls: 0.0625, s1.acc: 96.0315, s1.loss_bbox: 0.0834, s1.loss_mask: 0.0824, s2.loss_cls: 0.0306, s2.acc: 95.9622, s2.loss_bbox: 0.0345, s2.loss_mask: 0.0376, loss: 0.9118, grad_norm: 5.9099\n",
      "2021-05-15 15:17:29,598 - mmdet - INFO - Epoch [12][550/655]\tlr: 1.000e-05, eta: 0:32:12, time: 0.970, data_time: 0.035, memory: 16080, loss_rpn_cls: 0.0399, loss_rpn_bbox: 0.0314, s0.loss_cls: 0.1882, s0.acc: 94.0098, s0.loss_bbox: 0.2380, s0.loss_mask: 0.2036, s1.loss_cls: 0.0847, s1.acc: 94.5364, s1.loss_bbox: 0.0995, s1.loss_mask: 0.0909, s2.loss_cls: 0.0410, s2.acc: 94.7571, s2.loss_bbox: 0.0394, s2.loss_mask: 0.0415, loss: 1.0981, grad_norm: 6.2169\n",
      "2021-05-15 15:18:16,901 - mmdet - INFO - Epoch [12][600/655]\tlr: 1.000e-05, eta: 0:31:26, time: 0.946, data_time: 0.030, memory: 16080, loss_rpn_cls: 0.0342, loss_rpn_bbox: 0.0273, s0.loss_cls: 0.1503, s0.acc: 95.0752, s0.loss_bbox: 0.2042, s0.loss_mask: 0.1862, s1.loss_cls: 0.0681, s1.acc: 95.5640, s1.loss_bbox: 0.0857, s1.loss_mask: 0.0845, s2.loss_cls: 0.0338, s2.acc: 95.5252, s2.loss_bbox: 0.0339, s2.loss_mask: 0.0380, loss: 0.9462, grad_norm: 5.9489\n",
      "2021-05-15 15:19:02,337 - mmdet - INFO - Epoch [12][650/655]\tlr: 1.000e-05, eta: 0:30:39, time: 0.909, data_time: 0.025, memory: 16080, loss_rpn_cls: 0.0261, loss_rpn_bbox: 0.0227, s0.loss_cls: 0.1319, s0.acc: 95.4609, s0.loss_bbox: 0.1867, s0.loss_mask: 0.1917, s1.loss_cls: 0.0597, s1.acc: 95.9385, s1.loss_bbox: 0.0778, s1.loss_mask: 0.0861, s2.loss_cls: 0.0301, s2.acc: 95.8601, s2.loss_bbox: 0.0309, s2.loss_mask: 0.0392, loss: 0.8829, grad_norm: 6.2203\n",
      "2021-05-15 15:19:07,204 - mmdet - INFO - Saving checkpoint at 12 epochs\n"
     ]
    },
    {
     "name": "stdout",
     "output_type": "stream",
     "text": [
      "[>>>>>>>>>>>>>>>>>>>>>>>>>>>>>>] 655/655, 8.0 task/s, elapsed: 82s, ETA:     0s"
     ]
    },
    {
     "name": "stderr",
     "output_type": "stream",
     "text": [
      "2021-05-15 15:20:34,642 - mmdet - INFO - Evaluating bbox...\n"
     ]
    },
    {
     "name": "stdout",
     "output_type": "stream",
     "text": [
      "Loading and preparing results...\n",
      "DONE (t=0.06s)\n",
      "creating index...\n",
      "index created!\n",
      "Running per image evaluation...\n",
      "Evaluate annotation type *bbox*\n",
      "DONE (t=4.75s).\n",
      "Accumulating evaluation results...\n"
     ]
    },
    {
     "name": "stderr",
     "output_type": "stream",
     "text": [
      "2021-05-15 15:20:40,029 - mmdet - INFO - Evaluating segm...\n"
     ]
    },
    {
     "name": "stdout",
     "output_type": "stream",
     "text": [
      "DONE (t=0.56s).\n",
      "Average Precision  (AP) @[ IoU=0.50:0.95 | area=   all | maxDets=100 ] = 0.316\n",
      "Average Precision  (AP) @[ IoU=0.50      | area=   all | maxDets=1000 ] = 0.427\n",
      "Average Precision  (AP) @[ IoU=0.75      | area=   all | maxDets=1000 ] = 0.331\n",
      "Average Precision  (AP) @[ IoU=0.50:0.95 | area= small | maxDets=1000 ] = 0.072\n",
      "Average Precision  (AP) @[ IoU=0.50:0.95 | area=medium | maxDets=1000 ] = 0.299\n",
      "Average Precision  (AP) @[ IoU=0.50:0.95 | area= large | maxDets=1000 ] = 0.492\n",
      "Average Recall     (AR) @[ IoU=0.50:0.95 | area=   all | maxDets=100 ] = 0.440\n",
      "Average Recall     (AR) @[ IoU=0.50:0.95 | area=   all | maxDets=300 ] = 0.440\n",
      "Average Recall     (AR) @[ IoU=0.50:0.95 | area=   all | maxDets=1000 ] = 0.440\n",
      "Average Recall     (AR) @[ IoU=0.50:0.95 | area= small | maxDets=1000 ] = 0.163\n",
      "Average Recall     (AR) @[ IoU=0.50:0.95 | area=medium | maxDets=1000 ] = 0.432\n",
      "Average Recall     (AR) @[ IoU=0.50:0.95 | area= large | maxDets=1000 ] = 0.623\n",
      "Loading and preparing results...\n",
      "DONE (t=0.10s)\n",
      "creating index...\n",
      "index created!\n",
      "Running per image evaluation...\n",
      "Evaluate annotation type *segm*\n",
      "DONE (t=4.27s).\n",
      "Accumulating evaluation results...\n"
     ]
    },
    {
     "name": "stderr",
     "output_type": "stream",
     "text": [
      "2021-05-15 15:20:45,057 - mmdet - INFO - Epoch(val) [12][655]\tbbox_mAP: 0.3160, bbox_mAP_50: 0.4270, bbox_mAP_75: 0.3310, bbox_mAP_s: 0.0720, bbox_mAP_m: 0.2990, bbox_mAP_l: 0.4920, bbox_mAP_copypaste: 0.316 0.427 0.331 0.072 0.299 0.492, segm_mAP: 0.2920, segm_mAP_50: 0.4180, segm_mAP_75: 0.3020, segm_mAP_s: 0.0540, segm_mAP_m: 0.2700, segm_mAP_l: 0.4630, segm_mAP_copypaste: 0.292 0.418 0.302 0.054 0.270 0.463\n"
     ]
    },
    {
     "name": "stdout",
     "output_type": "stream",
     "text": [
      "DONE (t=0.56s).\n",
      "Average Precision  (AP) @[ IoU=0.50:0.95 | area=   all | maxDets=100 ] = 0.292\n",
      "Average Precision  (AP) @[ IoU=0.50      | area=   all | maxDets=1000 ] = 0.418\n",
      "Average Precision  (AP) @[ IoU=0.75      | area=   all | maxDets=1000 ] = 0.302\n",
      "Average Precision  (AP) @[ IoU=0.50:0.95 | area= small | maxDets=1000 ] = 0.054\n",
      "Average Precision  (AP) @[ IoU=0.50:0.95 | area=medium | maxDets=1000 ] = 0.270\n",
      "Average Precision  (AP) @[ IoU=0.50:0.95 | area= large | maxDets=1000 ] = 0.463\n",
      "Average Recall     (AR) @[ IoU=0.50:0.95 | area=   all | maxDets=100 ] = 0.408\n",
      "Average Recall     (AR) @[ IoU=0.50:0.95 | area=   all | maxDets=300 ] = 0.408\n",
      "Average Recall     (AR) @[ IoU=0.50:0.95 | area=   all | maxDets=1000 ] = 0.408\n",
      "Average Recall     (AR) @[ IoU=0.50:0.95 | area= small | maxDets=1000 ] = 0.128\n",
      "Average Recall     (AR) @[ IoU=0.50:0.95 | area=medium | maxDets=1000 ] = 0.399\n",
      "Average Recall     (AR) @[ IoU=0.50:0.95 | area= large | maxDets=1000 ] = 0.595\n"
     ]
    },
    {
     "name": "stderr",
     "output_type": "stream",
     "text": [
      "2021-05-15 15:21:34,680 - mmdet - INFO - Epoch [13][50/655]\tlr: 1.000e-06, eta: 0:29:47, time: 0.992, data_time: 0.077, memory: 16080, loss_rpn_cls: 0.0316, loss_rpn_bbox: 0.0247, s0.loss_cls: 0.1518, s0.acc: 94.9248, s0.loss_bbox: 0.2099, s0.loss_mask: 0.1832, s1.loss_cls: 0.0671, s1.acc: 95.5145, s1.loss_bbox: 0.0879, s1.loss_mask: 0.0825, s2.loss_cls: 0.0328, s2.acc: 95.5579, s2.loss_bbox: 0.0351, s2.loss_mask: 0.0379, loss: 0.9446, grad_norm: 6.0665\n",
      "2021-05-15 15:22:20,430 - mmdet - INFO - Epoch [13][100/655]\tlr: 1.000e-06, eta: 0:29:00, time: 0.915, data_time: 0.026, memory: 16080, loss_rpn_cls: 0.0287, loss_rpn_bbox: 0.0227, s0.loss_cls: 0.1296, s0.acc: 95.6816, s0.loss_bbox: 0.1894, s0.loss_mask: 0.1796, s1.loss_cls: 0.0573, s1.acc: 96.2788, s1.loss_bbox: 0.0811, s1.loss_mask: 0.0827, s2.loss_cls: 0.0288, s2.acc: 96.2057, s2.loss_bbox: 0.0325, s2.loss_mask: 0.0375, loss: 0.8699, grad_norm: 5.4641\n",
      "2021-05-15 15:23:06,931 - mmdet - INFO - Epoch [13][150/655]\tlr: 1.000e-06, eta: 0:28:13, time: 0.930, data_time: 0.027, memory: 16080, loss_rpn_cls: 0.0297, loss_rpn_bbox: 0.0226, s0.loss_cls: 0.1474, s0.acc: 95.2041, s0.loss_bbox: 0.2039, s0.loss_mask: 0.1962, s1.loss_cls: 0.0656, s1.acc: 95.7195, s1.loss_bbox: 0.0862, s1.loss_mask: 0.0881, s2.loss_cls: 0.0314, s2.acc: 95.8311, s2.loss_bbox: 0.0344, s2.loss_mask: 0.0397, loss: 0.9452, grad_norm: 6.0109\n",
      "2021-05-15 15:23:53,362 - mmdet - INFO - Epoch [13][200/655]\tlr: 1.000e-06, eta: 0:27:27, time: 0.929, data_time: 0.027, memory: 16080, loss_rpn_cls: 0.0281, loss_rpn_bbox: 0.0250, s0.loss_cls: 0.1290, s0.acc: 95.6475, s0.loss_bbox: 0.1911, s0.loss_mask: 0.1815, s1.loss_cls: 0.0572, s1.acc: 96.1619, s1.loss_bbox: 0.0804, s1.loss_mask: 0.0802, s2.loss_cls: 0.0286, s2.acc: 96.1327, s2.loss_bbox: 0.0328, s2.loss_mask: 0.0369, loss: 0.8707, grad_norm: 5.4134\n",
      "2021-05-15 15:24:41,347 - mmdet - INFO - Epoch [13][250/655]\tlr: 1.000e-06, eta: 0:26:40, time: 0.960, data_time: 0.029, memory: 16080, loss_rpn_cls: 0.0331, loss_rpn_bbox: 0.0252, s0.loss_cls: 0.1622, s0.acc: 94.5781, s0.loss_bbox: 0.2271, s0.loss_mask: 0.1976, s1.loss_cls: 0.0717, s1.acc: 95.2205, s1.loss_bbox: 0.0917, s1.loss_mask: 0.0861, s2.loss_cls: 0.0351, s2.acc: 95.3341, s2.loss_bbox: 0.0368, s2.loss_mask: 0.0388, loss: 1.0054, grad_norm: 6.0371\n",
      "2021-05-15 15:25:27,911 - mmdet - INFO - Epoch [13][300/655]\tlr: 1.000e-06, eta: 0:25:54, time: 0.931, data_time: 0.027, memory: 16080, loss_rpn_cls: 0.0315, loss_rpn_bbox: 0.0220, s0.loss_cls: 0.1482, s0.acc: 95.2949, s0.loss_bbox: 0.1963, s0.loss_mask: 0.1831, s1.loss_cls: 0.0667, s1.acc: 95.7918, s1.loss_bbox: 0.0821, s1.loss_mask: 0.0840, s2.loss_cls: 0.0327, s2.acc: 95.8027, s2.loss_bbox: 0.0338, s2.loss_mask: 0.0389, loss: 0.9191, grad_norm: 5.6925\n",
      "2021-05-15 15:26:14,336 - mmdet - INFO - Epoch [13][350/655]\tlr: 1.000e-06, eta: 0:25:07, time: 0.928, data_time: 0.026, memory: 16080, loss_rpn_cls: 0.0300, loss_rpn_bbox: 0.0229, s0.loss_cls: 0.1439, s0.acc: 95.2363, s0.loss_bbox: 0.1969, s0.loss_mask: 0.1890, s1.loss_cls: 0.0646, s1.acc: 95.7378, s1.loss_bbox: 0.0821, s1.loss_mask: 0.0879, s2.loss_cls: 0.0316, s2.acc: 95.8635, s2.loss_bbox: 0.0326, s2.loss_mask: 0.0400, loss: 0.9215, grad_norm: 5.7276\n",
      "2021-05-15 15:27:00,548 - mmdet - INFO - Epoch [13][400/655]\tlr: 1.000e-06, eta: 0:24:20, time: 0.924, data_time: 0.026, memory: 16080, loss_rpn_cls: 0.0315, loss_rpn_bbox: 0.0241, s0.loss_cls: 0.1388, s0.acc: 95.3467, s0.loss_bbox: 0.2026, s0.loss_mask: 0.1980, s1.loss_cls: 0.0611, s1.acc: 95.9661, s1.loss_bbox: 0.0844, s1.loss_mask: 0.0872, s2.loss_cls: 0.0292, s2.acc: 96.0638, s2.loss_bbox: 0.0333, s2.loss_mask: 0.0398, loss: 0.9301, grad_norm: 5.6800\n",
      "2021-05-15 15:27:47,428 - mmdet - INFO - Epoch [13][450/655]\tlr: 1.000e-06, eta: 0:23:33, time: 0.938, data_time: 0.032, memory: 16080, loss_rpn_cls: 0.0319, loss_rpn_bbox: 0.0299, s0.loss_cls: 0.1453, s0.acc: 95.1475, s0.loss_bbox: 0.2094, s0.loss_mask: 0.1978, s1.loss_cls: 0.0664, s1.acc: 95.4251, s1.loss_bbox: 0.0882, s1.loss_mask: 0.0901, s2.loss_cls: 0.0324, s2.acc: 95.5007, s2.loss_bbox: 0.0339, s2.loss_mask: 0.0405, loss: 0.9658, grad_norm: 5.8126\n",
      "2021-05-15 15:28:33,720 - mmdet - INFO - Epoch [13][500/655]\tlr: 1.000e-06, eta: 0:22:47, time: 0.926, data_time: 0.028, memory: 16080, loss_rpn_cls: 0.0287, loss_rpn_bbox: 0.0235, s0.loss_cls: 0.1423, s0.acc: 95.3711, s0.loss_bbox: 0.1979, s0.loss_mask: 0.1876, s1.loss_cls: 0.0628, s1.acc: 95.9002, s1.loss_bbox: 0.0826, s1.loss_mask: 0.0852, s2.loss_cls: 0.0300, s2.acc: 96.0568, s2.loss_bbox: 0.0336, s2.loss_mask: 0.0397, loss: 0.9138, grad_norm: 5.4347\n",
      "2021-05-15 15:29:20,681 - mmdet - INFO - Epoch [13][550/655]\tlr: 1.000e-06, eta: 0:22:00, time: 0.939, data_time: 0.031, memory: 16080, loss_rpn_cls: 0.0352, loss_rpn_bbox: 0.0279, s0.loss_cls: 0.1543, s0.acc: 94.7324, s0.loss_bbox: 0.2129, s0.loss_mask: 0.1954, s1.loss_cls: 0.0703, s1.acc: 95.3649, s1.loss_bbox: 0.0876, s1.loss_mask: 0.0866, s2.loss_cls: 0.0351, s2.acc: 95.4078, s2.loss_bbox: 0.0350, s2.loss_mask: 0.0398, loss: 0.9800, grad_norm: 6.3095\n",
      "2021-05-15 15:30:08,715 - mmdet - INFO - Epoch [13][600/655]\tlr: 1.000e-06, eta: 0:21:14, time: 0.961, data_time: 0.030, memory: 16080, loss_rpn_cls: 0.0310, loss_rpn_bbox: 0.0258, s0.loss_cls: 0.1601, s0.acc: 94.5781, s0.loss_bbox: 0.2199, s0.loss_mask: 0.1886, s1.loss_cls: 0.0724, s1.acc: 95.1415, s1.loss_bbox: 0.0921, s1.loss_mask: 0.0856, s2.loss_cls: 0.0355, s2.acc: 95.2719, s2.loss_bbox: 0.0373, s2.loss_mask: 0.0389, loss: 0.9872, grad_norm: 6.0887\n",
      "2021-05-15 15:30:55,119 - mmdet - INFO - Epoch [13][650/655]\tlr: 1.000e-06, eta: 0:20:27, time: 0.928, data_time: 0.027, memory: 16080, loss_rpn_cls: 0.0287, loss_rpn_bbox: 0.0223, s0.loss_cls: 0.1357, s0.acc: 95.4297, s0.loss_bbox: 0.1952, s0.loss_mask: 0.1853, s1.loss_cls: 0.0600, s1.acc: 95.9434, s1.loss_bbox: 0.0808, s1.loss_mask: 0.0853, s2.loss_cls: 0.0290, s2.acc: 96.0183, s2.loss_bbox: 0.0327, s2.loss_mask: 0.0388, loss: 0.8937, grad_norm: 6.0923\n",
      "2021-05-15 15:31:00,070 - mmdet - INFO - Saving checkpoint at 13 epochs\n"
     ]
    },
    {
     "name": "stdout",
     "output_type": "stream",
     "text": [
      "[>>>>>>>>>>>>>>>>>>>>>>>>>>>>>>] 655/655, 8.0 task/s, elapsed: 82s, ETA:     0s"
     ]
    },
    {
     "name": "stderr",
     "output_type": "stream",
     "text": [
      "2021-05-15 15:32:27,097 - mmdet - INFO - Evaluating bbox...\n"
     ]
    },
    {
     "name": "stdout",
     "output_type": "stream",
     "text": [
      "Loading and preparing results...\n",
      "DONE (t=0.76s)\n",
      "creating index...\n",
      "index created!\n",
      "Running per image evaluation...\n",
      "Evaluate annotation type *bbox*\n",
      "DONE (t=4.00s).\n",
      "Accumulating evaluation results...\n"
     ]
    },
    {
     "name": "stderr",
     "output_type": "stream",
     "text": [
      "2021-05-15 15:32:32,439 - mmdet - INFO - Evaluating segm...\n"
     ]
    },
    {
     "name": "stdout",
     "output_type": "stream",
     "text": [
      "DONE (t=0.56s).\n",
      "Average Precision  (AP) @[ IoU=0.50:0.95 | area=   all | maxDets=100 ] = 0.314\n",
      "Average Precision  (AP) @[ IoU=0.50      | area=   all | maxDets=1000 ] = 0.423\n",
      "Average Precision  (AP) @[ IoU=0.75      | area=   all | maxDets=1000 ] = 0.329\n",
      "Average Precision  (AP) @[ IoU=0.50:0.95 | area= small | maxDets=1000 ] = 0.072\n",
      "Average Precision  (AP) @[ IoU=0.50:0.95 | area=medium | maxDets=1000 ] = 0.297\n",
      "Average Precision  (AP) @[ IoU=0.50:0.95 | area= large | maxDets=1000 ] = 0.492\n",
      "Average Recall     (AR) @[ IoU=0.50:0.95 | area=   all | maxDets=100 ] = 0.437\n",
      "Average Recall     (AR) @[ IoU=0.50:0.95 | area=   all | maxDets=300 ] = 0.437\n",
      "Average Recall     (AR) @[ IoU=0.50:0.95 | area=   all | maxDets=1000 ] = 0.437\n",
      "Average Recall     (AR) @[ IoU=0.50:0.95 | area= small | maxDets=1000 ] = 0.163\n",
      "Average Recall     (AR) @[ IoU=0.50:0.95 | area=medium | maxDets=1000 ] = 0.435\n",
      "Average Recall     (AR) @[ IoU=0.50:0.95 | area= large | maxDets=1000 ] = 0.621\n",
      "Loading and preparing results...\n",
      "DONE (t=0.82s)\n",
      "creating index...\n",
      "index created!\n",
      "Running per image evaluation...\n",
      "Evaluate annotation type *segm*\n",
      "DONE (t=4.12s).\n",
      "Accumulating evaluation results...\n"
     ]
    },
    {
     "name": "stderr",
     "output_type": "stream",
     "text": [
      "2021-05-15 15:32:38,047 - mmdet - INFO - Epoch(val) [13][655]\tbbox_mAP: 0.3140, bbox_mAP_50: 0.4230, bbox_mAP_75: 0.3290, bbox_mAP_s: 0.0720, bbox_mAP_m: 0.2970, bbox_mAP_l: 0.4920, bbox_mAP_copypaste: 0.314 0.423 0.329 0.072 0.297 0.492, segm_mAP: 0.2920, segm_mAP_50: 0.4180, segm_mAP_75: 0.2920, segm_mAP_s: 0.0550, segm_mAP_m: 0.2680, segm_mAP_l: 0.4660, segm_mAP_copypaste: 0.292 0.418 0.292 0.055 0.268 0.466\n"
     ]
    },
    {
     "name": "stdout",
     "output_type": "stream",
     "text": [
      "DONE (t=0.57s).\n",
      "Average Precision  (AP) @[ IoU=0.50:0.95 | area=   all | maxDets=100 ] = 0.292\n",
      "Average Precision  (AP) @[ IoU=0.50      | area=   all | maxDets=1000 ] = 0.418\n",
      "Average Precision  (AP) @[ IoU=0.75      | area=   all | maxDets=1000 ] = 0.292\n",
      "Average Precision  (AP) @[ IoU=0.50:0.95 | area= small | maxDets=1000 ] = 0.055\n",
      "Average Precision  (AP) @[ IoU=0.50:0.95 | area=medium | maxDets=1000 ] = 0.268\n",
      "Average Precision  (AP) @[ IoU=0.50:0.95 | area= large | maxDets=1000 ] = 0.466\n",
      "Average Recall     (AR) @[ IoU=0.50:0.95 | area=   all | maxDets=100 ] = 0.408\n",
      "Average Recall     (AR) @[ IoU=0.50:0.95 | area=   all | maxDets=300 ] = 0.408\n",
      "Average Recall     (AR) @[ IoU=0.50:0.95 | area=   all | maxDets=1000 ] = 0.408\n",
      "Average Recall     (AR) @[ IoU=0.50:0.95 | area= small | maxDets=1000 ] = 0.127\n",
      "Average Recall     (AR) @[ IoU=0.50:0.95 | area=medium | maxDets=1000 ] = 0.399\n",
      "Average Recall     (AR) @[ IoU=0.50:0.95 | area= large | maxDets=1000 ] = 0.598\n"
     ]
    },
    {
     "name": "stderr",
     "output_type": "stream",
     "text": [
      "2021-05-15 15:33:27,944 - mmdet - INFO - Epoch [14][50/655]\tlr: 1.000e-06, eta: 0:19:35, time: 0.998, data_time: 0.077, memory: 16080, loss_rpn_cls: 0.0298, loss_rpn_bbox: 0.0239, s0.loss_cls: 0.1442, s0.acc: 95.0176, s0.loss_bbox: 0.2123, s0.loss_mask: 0.1934, s1.loss_cls: 0.0650, s1.acc: 95.6135, s1.loss_bbox: 0.0898, s1.loss_mask: 0.0875, s2.loss_cls: 0.0321, s2.acc: 95.5843, s2.loss_bbox: 0.0361, s2.loss_mask: 0.0399, loss: 0.9540, grad_norm: 5.9216\n",
      "2021-05-15 15:34:14,663 - mmdet - INFO - Epoch [14][100/655]\tlr: 1.000e-06, eta: 0:18:49, time: 0.934, data_time: 0.028, memory: 16080, loss_rpn_cls: 0.0299, loss_rpn_bbox: 0.0247, s0.loss_cls: 0.1357, s0.acc: 95.4082, s0.loss_bbox: 0.1992, s0.loss_mask: 0.1846, s1.loss_cls: 0.0603, s1.acc: 95.8165, s1.loss_bbox: 0.0840, s1.loss_mask: 0.0846, s2.loss_cls: 0.0294, s2.acc: 96.0497, s2.loss_bbox: 0.0339, s2.loss_mask: 0.0388, loss: 0.9051, grad_norm: 5.6534\n",
      "2021-05-15 15:35:01,044 - mmdet - INFO - Epoch [14][150/655]\tlr: 1.000e-06, eta: 0:18:02, time: 0.928, data_time: 0.028, memory: 16080, loss_rpn_cls: 0.0305, loss_rpn_bbox: 0.0274, s0.loss_cls: 0.1406, s0.acc: 95.2822, s0.loss_bbox: 0.2046, s0.loss_mask: 0.1919, s1.loss_cls: 0.0629, s1.acc: 95.8351, s1.loss_bbox: 0.0847, s1.loss_mask: 0.0853, s2.loss_cls: 0.0315, s2.acc: 95.7471, s2.loss_bbox: 0.0344, s2.loss_mask: 0.0390, loss: 0.9328, grad_norm: 5.6116\n",
      "2021-05-15 15:35:47,517 - mmdet - INFO - Epoch [14][200/655]\tlr: 1.000e-06, eta: 0:17:15, time: 0.929, data_time: 0.027, memory: 16080, loss_rpn_cls: 0.0251, loss_rpn_bbox: 0.0233, s0.loss_cls: 0.1350, s0.acc: 95.4746, s0.loss_bbox: 0.1883, s0.loss_mask: 0.1779, s1.loss_cls: 0.0599, s1.acc: 96.0633, s1.loss_bbox: 0.0788, s1.loss_mask: 0.0792, s2.loss_cls: 0.0301, s2.acc: 96.0664, s2.loss_bbox: 0.0320, s2.loss_mask: 0.0361, loss: 0.8656, grad_norm: 5.5386\n",
      "2021-05-15 15:36:34,389 - mmdet - INFO - Epoch [14][250/655]\tlr: 1.000e-06, eta: 0:16:29, time: 0.937, data_time: 0.029, memory: 16080, loss_rpn_cls: 0.0339, loss_rpn_bbox: 0.0270, s0.loss_cls: 0.1496, s0.acc: 95.0264, s0.loss_bbox: 0.2070, s0.loss_mask: 0.1893, s1.loss_cls: 0.0665, s1.acc: 95.6669, s1.loss_bbox: 0.0854, s1.loss_mask: 0.0847, s2.loss_cls: 0.0320, s2.acc: 95.7698, s2.loss_bbox: 0.0338, s2.loss_mask: 0.0385, loss: 0.9477, grad_norm: 5.7946\n",
      "2021-05-15 15:37:21,419 - mmdet - INFO - Epoch [14][300/655]\tlr: 1.000e-06, eta: 0:15:42, time: 0.941, data_time: 0.028, memory: 16080, loss_rpn_cls: 0.0340, loss_rpn_bbox: 0.0256, s0.loss_cls: 0.1426, s0.acc: 95.1289, s0.loss_bbox: 0.2119, s0.loss_mask: 0.1959, s1.loss_cls: 0.0643, s1.acc: 95.5682, s1.loss_bbox: 0.0861, s1.loss_mask: 0.0867, s2.loss_cls: 0.0309, s2.acc: 95.5636, s2.loss_bbox: 0.0336, s2.loss_mask: 0.0394, loss: 0.9510, grad_norm: 5.9652\n",
      "2021-05-15 15:38:07,502 - mmdet - INFO - Epoch [14][350/655]\tlr: 1.000e-06, eta: 0:14:55, time: 0.922, data_time: 0.025, memory: 16080, loss_rpn_cls: 0.0274, loss_rpn_bbox: 0.0214, s0.loss_cls: 0.1304, s0.acc: 95.6416, s0.loss_bbox: 0.1947, s0.loss_mask: 0.1865, s1.loss_cls: 0.0572, s1.acc: 96.2420, s1.loss_bbox: 0.0818, s1.loss_mask: 0.0852, s2.loss_cls: 0.0277, s2.acc: 96.1589, s2.loss_bbox: 0.0334, s2.loss_mask: 0.0395, loss: 0.8853, grad_norm: 5.6654\n",
      "2021-05-15 15:38:54,202 - mmdet - INFO - Epoch [14][400/655]\tlr: 1.000e-06, eta: 0:14:09, time: 0.934, data_time: 0.029, memory: 16080, loss_rpn_cls: 0.0297, loss_rpn_bbox: 0.0258, s0.loss_cls: 0.1453, s0.acc: 95.0449, s0.loss_bbox: 0.2090, s0.loss_mask: 0.1938, s1.loss_cls: 0.0653, s1.acc: 95.6033, s1.loss_bbox: 0.0878, s1.loss_mask: 0.0883, s2.loss_cls: 0.0325, s2.acc: 95.4916, s2.loss_bbox: 0.0354, s2.loss_mask: 0.0406, loss: 0.9534, grad_norm: 5.7353\n",
      "2021-05-15 15:39:41,547 - mmdet - INFO - Epoch [14][450/655]\tlr: 1.000e-06, eta: 0:13:22, time: 0.947, data_time: 0.027, memory: 16080, loss_rpn_cls: 0.0336, loss_rpn_bbox: 0.0252, s0.loss_cls: 0.1426, s0.acc: 95.3135, s0.loss_bbox: 0.1943, s0.loss_mask: 0.1802, s1.loss_cls: 0.0643, s1.acc: 95.7597, s1.loss_bbox: 0.0813, s1.loss_mask: 0.0816, s2.loss_cls: 0.0313, s2.acc: 95.8413, s2.loss_bbox: 0.0329, s2.loss_mask: 0.0375, loss: 0.9047, grad_norm: 5.9679\n",
      "2021-05-15 15:40:27,777 - mmdet - INFO - Epoch [14][500/655]\tlr: 1.000e-06, eta: 0:12:35, time: 0.925, data_time: 0.027, memory: 16080, loss_rpn_cls: 0.0296, loss_rpn_bbox: 0.0233, s0.loss_cls: 0.1443, s0.acc: 95.3486, s0.loss_bbox: 0.1871, s0.loss_mask: 0.1889, s1.loss_cls: 0.0644, s1.acc: 95.9005, s1.loss_bbox: 0.0765, s1.loss_mask: 0.0863, s2.loss_cls: 0.0319, s2.acc: 95.7676, s2.loss_bbox: 0.0311, s2.loss_mask: 0.0399, loss: 0.9033, grad_norm: 5.5076\n",
      "2021-05-15 15:41:15,605 - mmdet - INFO - Epoch [14][550/655]\tlr: 1.000e-06, eta: 0:11:49, time: 0.957, data_time: 0.029, memory: 16080, loss_rpn_cls: 0.0258, loss_rpn_bbox: 0.0232, s0.loss_cls: 0.1478, s0.acc: 95.2227, s0.loss_bbox: 0.2081, s0.loss_mask: 0.1840, s1.loss_cls: 0.0664, s1.acc: 95.7572, s1.loss_bbox: 0.0881, s1.loss_mask: 0.0830, s2.loss_cls: 0.0321, s2.acc: 95.8031, s2.loss_bbox: 0.0360, s2.loss_mask: 0.0377, loss: 0.9323, grad_norm: 5.9328\n",
      "2021-05-15 15:42:03,193 - mmdet - INFO - Epoch [14][600/655]\tlr: 1.000e-06, eta: 0:11:02, time: 0.952, data_time: 0.029, memory: 16080, loss_rpn_cls: 0.0291, loss_rpn_bbox: 0.0234, s0.loss_cls: 0.1406, s0.acc: 95.2646, s0.loss_bbox: 0.2093, s0.loss_mask: 0.1936, s1.loss_cls: 0.0642, s1.acc: 95.6631, s1.loss_bbox: 0.0883, s1.loss_mask: 0.0888, s2.loss_cls: 0.0314, s2.acc: 95.8551, s2.loss_bbox: 0.0361, s2.loss_mask: 0.0408, loss: 0.9457, grad_norm: 5.8424\n",
      "2021-05-15 15:42:50,943 - mmdet - INFO - Epoch [14][650/655]\tlr: 1.000e-06, eta: 0:10:16, time: 0.955, data_time: 0.033, memory: 16080, loss_rpn_cls: 0.0332, loss_rpn_bbox: 0.0281, s0.loss_cls: 0.1611, s0.acc: 94.7471, s0.loss_bbox: 0.2196, s0.loss_mask: 0.1951, s1.loss_cls: 0.0705, s1.acc: 95.4129, s1.loss_bbox: 0.0908, s1.loss_mask: 0.0872, s2.loss_cls: 0.0352, s2.acc: 95.3591, s2.loss_bbox: 0.0363, s2.loss_mask: 0.0395, loss: 0.9966, grad_norm: 5.8003\n",
      "2021-05-15 15:42:55,737 - mmdet - INFO - Saving checkpoint at 14 epochs\n"
     ]
    },
    {
     "name": "stdout",
     "output_type": "stream",
     "text": [
      "[>>>>>>>>>>>>>>>>>>>>>>>>>>>>>>] 655/655, 7.9 task/s, elapsed: 83s, ETA:     0s"
     ]
    },
    {
     "name": "stderr",
     "output_type": "stream",
     "text": [
      "2021-05-15 15:44:22,832 - mmdet - INFO - Evaluating bbox...\n"
     ]
    },
    {
     "name": "stdout",
     "output_type": "stream",
     "text": [
      "Loading and preparing results...\n",
      "DONE (t=0.75s)\n",
      "creating index...\n",
      "index created!\n",
      "Running per image evaluation...\n",
      "Evaluate annotation type *bbox*\n",
      "DONE (t=4.05s).\n",
      "Accumulating evaluation results...\n"
     ]
    },
    {
     "name": "stderr",
     "output_type": "stream",
     "text": [
      "2021-05-15 15:44:28,226 - mmdet - INFO - Evaluating segm...\n"
     ]
    },
    {
     "name": "stdout",
     "output_type": "stream",
     "text": [
      "DONE (t=0.58s).\n",
      "Average Precision  (AP) @[ IoU=0.50:0.95 | area=   all | maxDets=100 ] = 0.317\n",
      "Average Precision  (AP) @[ IoU=0.50      | area=   all | maxDets=1000 ] = 0.426\n",
      "Average Precision  (AP) @[ IoU=0.75      | area=   all | maxDets=1000 ] = 0.332\n",
      "Average Precision  (AP) @[ IoU=0.50:0.95 | area= small | maxDets=1000 ] = 0.073\n",
      "Average Precision  (AP) @[ IoU=0.50:0.95 | area=medium | maxDets=1000 ] = 0.297\n",
      "Average Precision  (AP) @[ IoU=0.50:0.95 | area= large | maxDets=1000 ] = 0.498\n",
      "Average Recall     (AR) @[ IoU=0.50:0.95 | area=   all | maxDets=100 ] = 0.440\n",
      "Average Recall     (AR) @[ IoU=0.50:0.95 | area=   all | maxDets=300 ] = 0.440\n",
      "Average Recall     (AR) @[ IoU=0.50:0.95 | area=   all | maxDets=1000 ] = 0.440\n",
      "Average Recall     (AR) @[ IoU=0.50:0.95 | area= small | maxDets=1000 ] = 0.162\n",
      "Average Recall     (AR) @[ IoU=0.50:0.95 | area=medium | maxDets=1000 ] = 0.436\n",
      "Average Recall     (AR) @[ IoU=0.50:0.95 | area= large | maxDets=1000 ] = 0.626\n",
      "Loading and preparing results...\n",
      "DONE (t=0.91s)\n",
      "creating index...\n",
      "index created!\n",
      "Running per image evaluation...\n",
      "Evaluate annotation type *segm*\n",
      "DONE (t=4.11s).\n",
      "Accumulating evaluation results...\n"
     ]
    },
    {
     "name": "stderr",
     "output_type": "stream",
     "text": [
      "2021-05-15 15:44:33,866 - mmdet - INFO - Epoch(val) [14][655]\tbbox_mAP: 0.3170, bbox_mAP_50: 0.4260, bbox_mAP_75: 0.3320, bbox_mAP_s: 0.0730, bbox_mAP_m: 0.2970, bbox_mAP_l: 0.4980, bbox_mAP_copypaste: 0.317 0.426 0.332 0.073 0.297 0.498, segm_mAP: 0.2920, segm_mAP_50: 0.4180, segm_mAP_75: 0.3020, segm_mAP_s: 0.0550, segm_mAP_m: 0.2670, segm_mAP_l: 0.4690, segm_mAP_copypaste: 0.292 0.418 0.302 0.055 0.267 0.469\n"
     ]
    },
    {
     "name": "stdout",
     "output_type": "stream",
     "text": [
      "DONE (t=0.53s).\n",
      "Average Precision  (AP) @[ IoU=0.50:0.95 | area=   all | maxDets=100 ] = 0.292\n",
      "Average Precision  (AP) @[ IoU=0.50      | area=   all | maxDets=1000 ] = 0.418\n",
      "Average Precision  (AP) @[ IoU=0.75      | area=   all | maxDets=1000 ] = 0.302\n",
      "Average Precision  (AP) @[ IoU=0.50:0.95 | area= small | maxDets=1000 ] = 0.055\n",
      "Average Precision  (AP) @[ IoU=0.50:0.95 | area=medium | maxDets=1000 ] = 0.267\n",
      "Average Precision  (AP) @[ IoU=0.50:0.95 | area= large | maxDets=1000 ] = 0.469\n",
      "Average Recall     (AR) @[ IoU=0.50:0.95 | area=   all | maxDets=100 ] = 0.409\n",
      "Average Recall     (AR) @[ IoU=0.50:0.95 | area=   all | maxDets=300 ] = 0.409\n",
      "Average Recall     (AR) @[ IoU=0.50:0.95 | area=   all | maxDets=1000 ] = 0.409\n",
      "Average Recall     (AR) @[ IoU=0.50:0.95 | area= small | maxDets=1000 ] = 0.127\n",
      "Average Recall     (AR) @[ IoU=0.50:0.95 | area=medium | maxDets=1000 ] = 0.399\n",
      "Average Recall     (AR) @[ IoU=0.50:0.95 | area= large | maxDets=1000 ] = 0.600\n"
     ]
    },
    {
     "name": "stderr",
     "output_type": "stream",
     "text": [
      "2021-05-15 15:45:23,732 - mmdet - INFO - Epoch [15][50/655]\tlr: 1.000e-06, eta: 0:09:24, time: 0.997, data_time: 0.081, memory: 16080, loss_rpn_cls: 0.0288, loss_rpn_bbox: 0.0242, s0.loss_cls: 0.1353, s0.acc: 95.4443, s0.loss_bbox: 0.1985, s0.loss_mask: 0.1821, s1.loss_cls: 0.0607, s1.acc: 96.0312, s1.loss_bbox: 0.0810, s1.loss_mask: 0.0827, s2.loss_cls: 0.0290, s2.acc: 96.1581, s2.loss_bbox: 0.0330, s2.loss_mask: 0.0380, loss: 0.8933, grad_norm: 5.7677\n",
      "2021-05-15 15:46:11,015 - mmdet - INFO - Epoch [15][100/655]\tlr: 1.000e-06, eta: 0:08:38, time: 0.946, data_time: 0.029, memory: 16080, loss_rpn_cls: 0.0319, loss_rpn_bbox: 0.0244, s0.loss_cls: 0.1433, s0.acc: 95.1484, s0.loss_bbox: 0.2032, s0.loss_mask: 0.1887, s1.loss_cls: 0.0646, s1.acc: 95.6127, s1.loss_bbox: 0.0841, s1.loss_mask: 0.0829, s2.loss_cls: 0.0315, s2.acc: 95.8112, s2.loss_bbox: 0.0337, s2.loss_mask: 0.0378, loss: 0.9262, grad_norm: 5.9175\n",
      "2021-05-15 15:46:57,835 - mmdet - INFO - Epoch [15][150/655]\tlr: 1.000e-06, eta: 0:07:51, time: 0.936, data_time: 0.025, memory: 16080, loss_rpn_cls: 0.0285, loss_rpn_bbox: 0.0226, s0.loss_cls: 0.1308, s0.acc: 95.6289, s0.loss_bbox: 0.1981, s0.loss_mask: 0.1976, s1.loss_cls: 0.0580, s1.acc: 96.0644, s1.loss_bbox: 0.0810, s1.loss_mask: 0.0890, s2.loss_cls: 0.0284, s2.acc: 96.1496, s2.loss_bbox: 0.0329, s2.loss_mask: 0.0407, loss: 0.9076, grad_norm: 5.7548\n",
      "2021-05-15 15:47:45,114 - mmdet - INFO - Epoch [15][200/655]\tlr: 1.000e-06, eta: 0:07:04, time: 0.946, data_time: 0.029, memory: 16080, loss_rpn_cls: 0.0262, loss_rpn_bbox: 0.0246, s0.loss_cls: 0.1337, s0.acc: 95.6201, s0.loss_bbox: 0.1908, s0.loss_mask: 0.1827, s1.loss_cls: 0.0590, s1.acc: 96.1819, s1.loss_bbox: 0.0794, s1.loss_mask: 0.0821, s2.loss_cls: 0.0295, s2.acc: 96.2072, s2.loss_bbox: 0.0322, s2.loss_mask: 0.0376, loss: 0.8778, grad_norm: 5.6672\n",
      "2021-05-15 15:48:33,649 - mmdet - INFO - Epoch [15][250/655]\tlr: 1.000e-06, eta: 0:06:18, time: 0.971, data_time: 0.033, memory: 16080, loss_rpn_cls: 0.0312, loss_rpn_bbox: 0.0269, s0.loss_cls: 0.1607, s0.acc: 94.6279, s0.loss_bbox: 0.2181, s0.loss_mask: 0.1926, s1.loss_cls: 0.0714, s1.acc: 95.1234, s1.loss_bbox: 0.0904, s1.loss_mask: 0.0875, s2.loss_cls: 0.0352, s2.acc: 95.4000, s2.loss_bbox: 0.0368, s2.loss_mask: 0.0407, loss: 0.9915, grad_norm: 6.1438\n",
      "2021-05-15 15:49:19,326 - mmdet - INFO - Epoch [15][300/655]\tlr: 1.000e-06, eta: 0:05:31, time: 0.914, data_time: 0.028, memory: 16080, loss_rpn_cls: 0.0288, loss_rpn_bbox: 0.0223, s0.loss_cls: 0.1336, s0.acc: 95.5137, s0.loss_bbox: 0.1955, s0.loss_mask: 0.1849, s1.loss_cls: 0.0579, s1.acc: 96.1736, s1.loss_bbox: 0.0813, s1.loss_mask: 0.0812, s2.loss_cls: 0.0283, s2.acc: 96.2330, s2.loss_bbox: 0.0330, s2.loss_mask: 0.0373, loss: 0.8840, grad_norm: 5.7465\n",
      "2021-05-15 15:50:07,303 - mmdet - INFO - Epoch [15][350/655]\tlr: 1.000e-06, eta: 0:04:44, time: 0.960, data_time: 0.032, memory: 16080, loss_rpn_cls: 0.0325, loss_rpn_bbox: 0.0262, s0.loss_cls: 0.1491, s0.acc: 94.9209, s0.loss_bbox: 0.2070, s0.loss_mask: 0.1871, s1.loss_cls: 0.0677, s1.acc: 95.4196, s1.loss_bbox: 0.0858, s1.loss_mask: 0.0849, s2.loss_cls: 0.0332, s2.acc: 95.5225, s2.loss_bbox: 0.0347, s2.loss_mask: 0.0391, loss: 0.9474, grad_norm: 5.9468\n",
      "2021-05-15 15:50:55,641 - mmdet - INFO - Epoch [15][400/655]\tlr: 1.000e-06, eta: 0:03:58, time: 0.967, data_time: 0.031, memory: 16080, loss_rpn_cls: 0.0322, loss_rpn_bbox: 0.0292, s0.loss_cls: 0.1519, s0.acc: 94.9795, s0.loss_bbox: 0.2156, s0.loss_mask: 0.1974, s1.loss_cls: 0.0677, s1.acc: 95.5944, s1.loss_bbox: 0.0891, s1.loss_mask: 0.0889, s2.loss_cls: 0.0332, s2.acc: 95.6379, s2.loss_bbox: 0.0345, s2.loss_mask: 0.0399, loss: 0.9795, grad_norm: 6.0728\n",
      "2021-05-15 15:51:43,368 - mmdet - INFO - Epoch [15][450/655]\tlr: 1.000e-06, eta: 0:03:11, time: 0.954, data_time: 0.028, memory: 16080, loss_rpn_cls: 0.0389, loss_rpn_bbox: 0.0235, s0.loss_cls: 0.1522, s0.acc: 95.1328, s0.loss_bbox: 0.2114, s0.loss_mask: 0.1927, s1.loss_cls: 0.0671, s1.acc: 95.7023, s1.loss_bbox: 0.0867, s1.loss_mask: 0.0861, s2.loss_cls: 0.0333, s2.acc: 95.7403, s2.loss_bbox: 0.0349, s2.loss_mask: 0.0398, loss: 0.9667, grad_norm: 5.8037\n",
      "2021-05-15 15:52:30,623 - mmdet - INFO - Epoch [15][500/655]\tlr: 1.000e-06, eta: 0:02:24, time: 0.945, data_time: 0.029, memory: 16080, loss_rpn_cls: 0.0336, loss_rpn_bbox: 0.0284, s0.loss_cls: 0.1641, s0.acc: 94.5537, s0.loss_bbox: 0.2172, s0.loss_mask: 0.1983, s1.loss_cls: 0.0719, s1.acc: 95.3153, s1.loss_bbox: 0.0916, s1.loss_mask: 0.0902, s2.loss_cls: 0.0350, s2.acc: 95.3507, s2.loss_bbox: 0.0371, s2.loss_mask: 0.0414, loss: 1.0086, grad_norm: 6.0492\n",
      "2021-05-15 15:53:18,520 - mmdet - INFO - Epoch [15][550/655]\tlr: 1.000e-06, eta: 0:01:38, time: 0.958, data_time: 0.028, memory: 16080, loss_rpn_cls: 0.0322, loss_rpn_bbox: 0.0277, s0.loss_cls: 0.1578, s0.acc: 94.7773, s0.loss_bbox: 0.2307, s0.loss_mask: 0.2037, s1.loss_cls: 0.0710, s1.acc: 95.3338, s1.loss_bbox: 0.0984, s1.loss_mask: 0.0937, s2.loss_cls: 0.0349, s2.acc: 95.2299, s2.loss_bbox: 0.0390, s2.loss_mask: 0.0424, loss: 1.0314, grad_norm: 5.8589\n",
      "2021-05-15 15:54:06,621 - mmdet - INFO - Epoch [15][600/655]\tlr: 1.000e-06, eta: 0:00:51, time: 0.962, data_time: 0.029, memory: 16080, loss_rpn_cls: 0.0278, loss_rpn_bbox: 0.0239, s0.loss_cls: 0.1514, s0.acc: 94.9766, s0.loss_bbox: 0.2104, s0.loss_mask: 0.1866, s1.loss_cls: 0.0675, s1.acc: 95.5131, s1.loss_bbox: 0.0889, s1.loss_mask: 0.0833, s2.loss_cls: 0.0332, s2.acc: 95.5675, s2.loss_bbox: 0.0366, s2.loss_mask: 0.0383, loss: 0.9480, grad_norm: 5.7602\n",
      "2021-05-15 15:54:52,687 - mmdet - INFO - Epoch [15][650/655]\tlr: 1.000e-06, eta: 0:00:04, time: 0.921, data_time: 0.025, memory: 16080, loss_rpn_cls: 0.0249, loss_rpn_bbox: 0.0189, s0.loss_cls: 0.1271, s0.acc: 95.7871, s0.loss_bbox: 0.1727, s0.loss_mask: 0.1763, s1.loss_cls: 0.0570, s1.acc: 96.2775, s1.loss_bbox: 0.0710, s1.loss_mask: 0.0780, s2.loss_cls: 0.0276, s2.acc: 96.3912, s2.loss_bbox: 0.0293, s2.loss_mask: 0.0358, loss: 0.8187, grad_norm: 5.9587\n",
      "2021-05-15 15:54:57,243 - mmdet - INFO - Saving checkpoint at 15 epochs\n"
     ]
    },
    {
     "name": "stdout",
     "output_type": "stream",
     "text": [
      "[>>>>>>>>>>>>>>>>>>>>>>>>>>>>>>] 655/655, 7.9 task/s, elapsed: 82s, ETA:     0s"
     ]
    },
    {
     "name": "stderr",
     "output_type": "stream",
     "text": [
      "2021-05-15 15:56:24,120 - mmdet - INFO - Evaluating bbox...\n"
     ]
    },
    {
     "name": "stdout",
     "output_type": "stream",
     "text": [
      "Loading and preparing results...\n",
      "DONE (t=0.77s)\n",
      "creating index...\n",
      "index created!\n",
      "Running per image evaluation...\n",
      "Evaluate annotation type *bbox*\n",
      "DONE (t=3.96s).\n",
      "Accumulating evaluation results...\n"
     ]
    },
    {
     "name": "stderr",
     "output_type": "stream",
     "text": [
      "2021-05-15 15:56:29,455 - mmdet - INFO - Evaluating segm...\n"
     ]
    },
    {
     "name": "stdout",
     "output_type": "stream",
     "text": [
      "DONE (t=0.60s).\n",
      "Average Precision  (AP) @[ IoU=0.50:0.95 | area=   all | maxDets=100 ] = 0.316\n",
      "Average Precision  (AP) @[ IoU=0.50      | area=   all | maxDets=1000 ] = 0.427\n",
      "Average Precision  (AP) @[ IoU=0.75      | area=   all | maxDets=1000 ] = 0.334\n",
      "Average Precision  (AP) @[ IoU=0.50:0.95 | area= small | maxDets=1000 ] = 0.074\n",
      "Average Precision  (AP) @[ IoU=0.50:0.95 | area=medium | maxDets=1000 ] = 0.297\n",
      "Average Precision  (AP) @[ IoU=0.50:0.95 | area= large | maxDets=1000 ] = 0.497\n",
      "Average Recall     (AR) @[ IoU=0.50:0.95 | area=   all | maxDets=100 ] = 0.440\n",
      "Average Recall     (AR) @[ IoU=0.50:0.95 | area=   all | maxDets=300 ] = 0.440\n",
      "Average Recall     (AR) @[ IoU=0.50:0.95 | area=   all | maxDets=1000 ] = 0.440\n",
      "Average Recall     (AR) @[ IoU=0.50:0.95 | area= small | maxDets=1000 ] = 0.163\n",
      "Average Recall     (AR) @[ IoU=0.50:0.95 | area=medium | maxDets=1000 ] = 0.435\n",
      "Average Recall     (AR) @[ IoU=0.50:0.95 | area= large | maxDets=1000 ] = 0.625\n",
      "Loading and preparing results...\n",
      "DONE (t=0.88s)\n",
      "creating index...\n",
      "index created!\n",
      "Running per image evaluation...\n",
      "Evaluate annotation type *segm*\n",
      "DONE (t=4.08s).\n",
      "Accumulating evaluation results...\n"
     ]
    },
    {
     "name": "stderr",
     "output_type": "stream",
     "text": [
      "2021-05-15 15:56:35,056 - mmdet - INFO - Epoch(val) [15][655]\tbbox_mAP: 0.3160, bbox_mAP_50: 0.4270, bbox_mAP_75: 0.3340, bbox_mAP_s: 0.0740, bbox_mAP_m: 0.2970, bbox_mAP_l: 0.4970, bbox_mAP_copypaste: 0.316 0.427 0.334 0.074 0.297 0.497, segm_mAP: 0.2910, segm_mAP_50: 0.4170, segm_mAP_75: 0.3030, segm_mAP_s: 0.0550, segm_mAP_m: 0.2670, segm_mAP_l: 0.4670, segm_mAP_copypaste: 0.291 0.417 0.303 0.055 0.267 0.467\n"
     ]
    },
    {
     "name": "stdout",
     "output_type": "stream",
     "text": [
      "DONE (t=0.54s).\n",
      "Average Precision  (AP) @[ IoU=0.50:0.95 | area=   all | maxDets=100 ] = 0.291\n",
      "Average Precision  (AP) @[ IoU=0.50      | area=   all | maxDets=1000 ] = 0.417\n",
      "Average Precision  (AP) @[ IoU=0.75      | area=   all | maxDets=1000 ] = 0.303\n",
      "Average Precision  (AP) @[ IoU=0.50:0.95 | area= small | maxDets=1000 ] = 0.055\n",
      "Average Precision  (AP) @[ IoU=0.50:0.95 | area=medium | maxDets=1000 ] = 0.267\n",
      "Average Precision  (AP) @[ IoU=0.50:0.95 | area= large | maxDets=1000 ] = 0.467\n",
      "Average Recall     (AR) @[ IoU=0.50:0.95 | area=   all | maxDets=100 ] = 0.407\n",
      "Average Recall     (AR) @[ IoU=0.50:0.95 | area=   all | maxDets=300 ] = 0.407\n",
      "Average Recall     (AR) @[ IoU=0.50:0.95 | area=   all | maxDets=1000 ] = 0.407\n",
      "Average Recall     (AR) @[ IoU=0.50:0.95 | area= small | maxDets=1000 ] = 0.126\n",
      "Average Recall     (AR) @[ IoU=0.50:0.95 | area=medium | maxDets=1000 ] = 0.398\n",
      "Average Recall     (AR) @[ IoU=0.50:0.95 | area= large | maxDets=1000 ] = 0.597\n"
     ]
    }
   ],
   "source": [
    "train_detector(model, datasets[0], cfg, distributed=False, validate=True)"
   ]
  }
 ],
 "metadata": {
  "kernelspec": {
   "display_name": "Python 3",
   "language": "python",
   "name": "python3"
  },
  "language_info": {
   "codemirror_mode": {
    "name": "ipython",
    "version": 3
   },
   "file_extension": ".py",
   "mimetype": "text/x-python",
   "name": "python",
   "nbconvert_exporter": "python",
   "pygments_lexer": "ipython3",
   "version": "3.6.5"
  }
 },
 "nbformat": 4,
 "nbformat_minor": 5
}
