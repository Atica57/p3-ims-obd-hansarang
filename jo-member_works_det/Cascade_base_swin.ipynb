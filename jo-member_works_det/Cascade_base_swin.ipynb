{
 "cells": [
  {
   "cell_type": "code",
   "execution_count": 1,
   "metadata": {},
   "outputs": [
    {
     "name": "stdout",
     "output_type": "stream",
     "text": [
      "PyTorch version:[1.6.0].\n",
      "device:[cuda:1].\n"
     ]
    },
    {
     "name": "stderr",
     "output_type": "stream",
     "text": [
      "/home/ubuntu/anaconda3/envs/pytorch_p36/lib/python3.6/site-packages/mmcv/utils/registry.py:250: UserWarning: The old API of register_module(module, force=False) is deprecated and will be removed, please use the new API register_module(name=None, force=False, module=None) instead.\n",
      "  'The old API of register_module(module, force=False) '\n"
     ]
    }
   ],
   "source": [
    "from mmcv import Config\n",
    "from mmdet.datasets import build_dataset\n",
    "from mmdet.models import build_detector\n",
    "from mmdet.apis import train_detector\n",
    "from mmdet.datasets import (build_dataloader, build_dataset,\n",
    "                            replace_ImageToTensor)\n",
    "from mmcv.runner import load_checkpoint\n",
    "from tqdm.notebook import tqdm\n",
    "import torch\n",
    "print (\"PyTorch version:[%s].\"%(torch.__version__))\n",
    "device = torch.device('cuda:1' if torch.cuda.is_available() else 'cpu')\n",
    "print (\"device:[%s].\"%(device))"
   ]
  },
  {
   "cell_type": "code",
   "execution_count": 2,
   "metadata": {},
   "outputs": [],
   "source": [
    "classes = (\"UNKNOWN\", \"General trash\", \"Paper\", \"Paper pack\", \"Metal\", \"Glass\", \n",
    "           \"Plastic\", \"Styrofoam\", \"Plastic bag\", \"Battery\", \"Clothing\")\n",
    "# config file 들고오기\n",
    "cfg = Config.fromfile('./configs/swin/cascade_mask_rcnn_swin_base-Copy1.py')\n",
    "\n",
    "PREFIX = '../../input/data/'\n",
    "\n",
    "# dataset 바꾸기\n",
    "cfg.data.train.classes = classes\n",
    "cfg.data.train.img_prefix = PREFIX\n",
    "cfg.data.train.ann_file = PREFIX + 'train_all.json'\n",
    "cfg.data.train.seg_prefix=PREFIX  \n",
    "\n",
    "cfg.data.val.classes = classes\n",
    "cfg.data.val.img_prefix = PREFIX\n",
    "cfg.data.val.ann_file = PREFIX + 'val.json'\n",
    "\n",
    "cfg.data.test.classes = classes\n",
    "cfg.data.test.img_prefix = PREFIX\n",
    "cfg.data.test.ann_file = PREFIX + 'test.json'\n",
    "\n",
    "cfg.data.samples_per_gpu = 4\n",
    "\n",
    "cfg.seed=42\n",
    "cfg.gpu_ids = [1]\n",
    "cfg.work_dir = './work_dirs/swin+cascade'\n",
    "cfg.optimizer_config.grad_clip = dict(max_norm=35, norm_type=2)"
   ]
  },
  {
   "cell_type": "code",
   "execution_count": 3,
   "metadata": {},
   "outputs": [
    {
     "name": "stderr",
     "output_type": "stream",
     "text": [
      "2021-05-20 02:43:11,981 - mmdet - INFO - load model from: /home/ubuntu/CUAI_2021/Advanced_Won_Cho/code/Swin-Transformer-Object-Detection/work_dirs/swin+cascade/swin_small_patch4_window7_224.pth\n",
      "2021-05-20 02:43:14,569 - mmdet - WARNING - The model and loaded state dict do not match exactly\n",
      "\n",
      "unexpected key in source state_dict: norm.weight, norm.bias, head.weight, head.bias, layers.0.blocks.1.attn_mask, layers.1.blocks.1.attn_mask, layers.2.blocks.1.attn_mask, layers.2.blocks.3.attn_mask, layers.2.blocks.5.attn_mask, layers.2.blocks.7.attn_mask, layers.2.blocks.9.attn_mask, layers.2.blocks.11.attn_mask, layers.2.blocks.13.attn_mask, layers.2.blocks.15.attn_mask, layers.2.blocks.17.attn_mask\n",
      "\n",
      "missing keys in source state_dict: norm0.weight, norm0.bias, norm1.weight, norm1.bias, norm2.weight, norm2.bias, norm3.weight, norm3.bias\n",
      "\n"
     ]
    }
   ],
   "source": [
    "import os\n",
    "from mmcv.runner import load_checkpoint\n",
    "model = build_detector(cfg.model)"
   ]
  },
  {
   "cell_type": "code",
   "execution_count": 4,
   "metadata": {},
   "outputs": [
    {
     "name": "stdout",
     "output_type": "stream",
     "text": [
      "loading annotations into memory...\n",
      "Done (t=5.33s)\n",
      "creating index...\n",
      "index created!\n"
     ]
    },
    {
     "name": "stderr",
     "output_type": "stream",
     "text": [
      "/home/ubuntu/anaconda3/envs/pytorch_p36/lib/python3.6/site-packages/albumentations/augmentations/transforms.py:2611: UserWarning: blur_limit and sigma_limit minimum value can not be both equal to 0. blur_limit minimum value changed to 3.\n",
      "  \"blur_limit and sigma_limit minimum value can not be both equal to 0. \"\n"
     ]
    }
   ],
   "source": [
    "datasets = [build_dataset(cfg.data.train)]"
   ]
  },
  {
   "cell_type": "code",
   "execution_count": 5,
   "metadata": {
    "scrolled": true
   },
   "outputs": [
    {
     "name": "stdout",
     "output_type": "stream",
     "text": [
      "loading annotations into memory...\n"
     ]
    },
    {
     "name": "stderr",
     "output_type": "stream",
     "text": [
      "2021-05-20 02:43:25,863 - mmdet - INFO - load checkpoint from /home/ubuntu/CUAI_2021/Advanced_Won_Cho/code/Swin-Transformer-Object-Detection/work_dirs/swin+cascade/cascade_mask_rcnn_swin_small_patch4_window7.pth\n",
      "2021-05-20 02:43:25,865 - mmdet - INFO - Use load_from_local loader\n"
     ]
    },
    {
     "name": "stdout",
     "output_type": "stream",
     "text": [
      "Done (t=1.41s)\n",
      "creating index...\n",
      "index created!\n"
     ]
    },
    {
     "name": "stderr",
     "output_type": "stream",
     "text": [
      "2021-05-20 02:43:26,241 - mmdet - WARNING - The model and loaded state dict do not match exactly\n",
      "\n",
      "size mismatch for roi_head.bbox_head.0.fc_cls.weight: copying a param with shape torch.Size([81, 1024]) from checkpoint, the shape in current model is torch.Size([12, 1024]).\n",
      "size mismatch for roi_head.bbox_head.0.fc_cls.bias: copying a param with shape torch.Size([81]) from checkpoint, the shape in current model is torch.Size([12]).\n",
      "size mismatch for roi_head.bbox_head.0.fc_reg.weight: copying a param with shape torch.Size([320, 1024]) from checkpoint, the shape in current model is torch.Size([4, 1024]).\n",
      "size mismatch for roi_head.bbox_head.0.fc_reg.bias: copying a param with shape torch.Size([320]) from checkpoint, the shape in current model is torch.Size([4]).\n",
      "size mismatch for roi_head.bbox_head.1.fc_cls.weight: copying a param with shape torch.Size([81, 1024]) from checkpoint, the shape in current model is torch.Size([12, 1024]).\n",
      "size mismatch for roi_head.bbox_head.1.fc_cls.bias: copying a param with shape torch.Size([81]) from checkpoint, the shape in current model is torch.Size([12]).\n",
      "size mismatch for roi_head.bbox_head.1.fc_reg.weight: copying a param with shape torch.Size([320, 1024]) from checkpoint, the shape in current model is torch.Size([4, 1024]).\n",
      "size mismatch for roi_head.bbox_head.1.fc_reg.bias: copying a param with shape torch.Size([320]) from checkpoint, the shape in current model is torch.Size([4]).\n",
      "size mismatch for roi_head.bbox_head.2.fc_cls.weight: copying a param with shape torch.Size([81, 1024]) from checkpoint, the shape in current model is torch.Size([12, 1024]).\n",
      "size mismatch for roi_head.bbox_head.2.fc_cls.bias: copying a param with shape torch.Size([81]) from checkpoint, the shape in current model is torch.Size([12]).\n",
      "size mismatch for roi_head.bbox_head.2.fc_reg.weight: copying a param with shape torch.Size([320, 1024]) from checkpoint, the shape in current model is torch.Size([4, 1024]).\n",
      "size mismatch for roi_head.bbox_head.2.fc_reg.bias: copying a param with shape torch.Size([320]) from checkpoint, the shape in current model is torch.Size([4]).\n",
      "size mismatch for roi_head.mask_head.0.conv_logits.weight: copying a param with shape torch.Size([80, 256, 1, 1]) from checkpoint, the shape in current model is torch.Size([11, 256, 1, 1]).\n",
      "size mismatch for roi_head.mask_head.0.conv_logits.bias: copying a param with shape torch.Size([80]) from checkpoint, the shape in current model is torch.Size([11]).\n",
      "size mismatch for roi_head.mask_head.1.conv_logits.weight: copying a param with shape torch.Size([80, 256, 1, 1]) from checkpoint, the shape in current model is torch.Size([11, 256, 1, 1]).\n",
      "size mismatch for roi_head.mask_head.1.conv_logits.bias: copying a param with shape torch.Size([80]) from checkpoint, the shape in current model is torch.Size([11]).\n",
      "size mismatch for roi_head.mask_head.2.conv_logits.weight: copying a param with shape torch.Size([80, 256, 1, 1]) from checkpoint, the shape in current model is torch.Size([11, 256, 1, 1]).\n",
      "size mismatch for roi_head.mask_head.2.conv_logits.bias: copying a param with shape torch.Size([80]) from checkpoint, the shape in current model is torch.Size([11]).\n",
      "unexpected key in source state_dict: roi_head.bbox_head.0.shared_convs.0.conv.weight, roi_head.bbox_head.0.shared_convs.0.bn.weight, roi_head.bbox_head.0.shared_convs.0.bn.bias, roi_head.bbox_head.0.shared_convs.0.bn.running_mean, roi_head.bbox_head.0.shared_convs.0.bn.running_var, roi_head.bbox_head.0.shared_convs.0.bn.num_batches_tracked, roi_head.bbox_head.0.shared_convs.1.conv.weight, roi_head.bbox_head.0.shared_convs.1.bn.weight, roi_head.bbox_head.0.shared_convs.1.bn.bias, roi_head.bbox_head.0.shared_convs.1.bn.running_mean, roi_head.bbox_head.0.shared_convs.1.bn.running_var, roi_head.bbox_head.0.shared_convs.1.bn.num_batches_tracked, roi_head.bbox_head.0.shared_convs.2.conv.weight, roi_head.bbox_head.0.shared_convs.2.bn.weight, roi_head.bbox_head.0.shared_convs.2.bn.bias, roi_head.bbox_head.0.shared_convs.2.bn.running_mean, roi_head.bbox_head.0.shared_convs.2.bn.running_var, roi_head.bbox_head.0.shared_convs.2.bn.num_batches_tracked, roi_head.bbox_head.0.shared_convs.3.conv.weight, roi_head.bbox_head.0.shared_convs.3.bn.weight, roi_head.bbox_head.0.shared_convs.3.bn.bias, roi_head.bbox_head.0.shared_convs.3.bn.running_mean, roi_head.bbox_head.0.shared_convs.3.bn.running_var, roi_head.bbox_head.0.shared_convs.3.bn.num_batches_tracked, roi_head.bbox_head.1.shared_convs.0.conv.weight, roi_head.bbox_head.1.shared_convs.0.bn.weight, roi_head.bbox_head.1.shared_convs.0.bn.bias, roi_head.bbox_head.1.shared_convs.0.bn.running_mean, roi_head.bbox_head.1.shared_convs.0.bn.running_var, roi_head.bbox_head.1.shared_convs.0.bn.num_batches_tracked, roi_head.bbox_head.1.shared_convs.1.conv.weight, roi_head.bbox_head.1.shared_convs.1.bn.weight, roi_head.bbox_head.1.shared_convs.1.bn.bias, roi_head.bbox_head.1.shared_convs.1.bn.running_mean, roi_head.bbox_head.1.shared_convs.1.bn.running_var, roi_head.bbox_head.1.shared_convs.1.bn.num_batches_tracked, roi_head.bbox_head.1.shared_convs.2.conv.weight, roi_head.bbox_head.1.shared_convs.2.bn.weight, roi_head.bbox_head.1.shared_convs.2.bn.bias, roi_head.bbox_head.1.shared_convs.2.bn.running_mean, roi_head.bbox_head.1.shared_convs.2.bn.running_var, roi_head.bbox_head.1.shared_convs.2.bn.num_batches_tracked, roi_head.bbox_head.1.shared_convs.3.conv.weight, roi_head.bbox_head.1.shared_convs.3.bn.weight, roi_head.bbox_head.1.shared_convs.3.bn.bias, roi_head.bbox_head.1.shared_convs.3.bn.running_mean, roi_head.bbox_head.1.shared_convs.3.bn.running_var, roi_head.bbox_head.1.shared_convs.3.bn.num_batches_tracked, roi_head.bbox_head.2.shared_convs.0.conv.weight, roi_head.bbox_head.2.shared_convs.0.bn.weight, roi_head.bbox_head.2.shared_convs.0.bn.bias, roi_head.bbox_head.2.shared_convs.0.bn.running_mean, roi_head.bbox_head.2.shared_convs.0.bn.running_var, roi_head.bbox_head.2.shared_convs.0.bn.num_batches_tracked, roi_head.bbox_head.2.shared_convs.1.conv.weight, roi_head.bbox_head.2.shared_convs.1.bn.weight, roi_head.bbox_head.2.shared_convs.1.bn.bias, roi_head.bbox_head.2.shared_convs.1.bn.running_mean, roi_head.bbox_head.2.shared_convs.1.bn.running_var, roi_head.bbox_head.2.shared_convs.1.bn.num_batches_tracked, roi_head.bbox_head.2.shared_convs.2.conv.weight, roi_head.bbox_head.2.shared_convs.2.bn.weight, roi_head.bbox_head.2.shared_convs.2.bn.bias, roi_head.bbox_head.2.shared_convs.2.bn.running_mean, roi_head.bbox_head.2.shared_convs.2.bn.running_var, roi_head.bbox_head.2.shared_convs.2.bn.num_batches_tracked, roi_head.bbox_head.2.shared_convs.3.conv.weight, roi_head.bbox_head.2.shared_convs.3.bn.weight, roi_head.bbox_head.2.shared_convs.3.bn.bias, roi_head.bbox_head.2.shared_convs.3.bn.running_mean, roi_head.bbox_head.2.shared_convs.3.bn.running_var, roi_head.bbox_head.2.shared_convs.3.bn.num_batches_tracked\n",
      "\n",
      "missing keys in source state_dict: roi_head.bbox_head.0.shared_fcs.1.weight, roi_head.bbox_head.0.shared_fcs.1.bias, roi_head.bbox_head.1.shared_fcs.1.weight, roi_head.bbox_head.1.shared_fcs.1.bias, roi_head.bbox_head.2.shared_fcs.1.weight, roi_head.bbox_head.2.shared_fcs.1.bias, roi_head.mask_head.1.conv_res.conv.weight, roi_head.mask_head.1.conv_res.conv.bias, roi_head.mask_head.2.conv_res.conv.weight, roi_head.mask_head.2.conv_res.conv.bias, roi_head.semantic_head.lateral_convs.0.conv.weight, roi_head.semantic_head.lateral_convs.0.conv.bias, roi_head.semantic_head.lateral_convs.1.conv.weight, roi_head.semantic_head.lateral_convs.1.conv.bias, roi_head.semantic_head.lateral_convs.2.conv.weight, roi_head.semantic_head.lateral_convs.2.conv.bias, roi_head.semantic_head.lateral_convs.3.conv.weight, roi_head.semantic_head.lateral_convs.3.conv.bias, roi_head.semantic_head.lateral_convs.4.conv.weight, roi_head.semantic_head.lateral_convs.4.conv.bias, roi_head.semantic_head.convs.0.conv.weight, roi_head.semantic_head.convs.0.conv.bias, roi_head.semantic_head.convs.1.conv.weight, roi_head.semantic_head.convs.1.conv.bias, roi_head.semantic_head.convs.2.conv.weight, roi_head.semantic_head.convs.2.conv.bias, roi_head.semantic_head.convs.3.conv.weight, roi_head.semantic_head.convs.3.conv.bias, roi_head.semantic_head.conv_embedding.conv.weight, roi_head.semantic_head.conv_embedding.conv.bias, roi_head.semantic_head.conv_logits.weight, roi_head.semantic_head.conv_logits.bias\n",
      "\n"
     ]
    },
    {
     "name": "stderr",
     "output_type": "stream",
     "text": [
      "2021-05-20 02:43:26,255 - mmdet - INFO - Start running, host: ubuntu@nipa2021-1083, work_dir: /home/ubuntu/CUAI_2021/Advanced_Won_Cho/code/Swin-Transformer-Object-Detection/work_dirs/swin+cascade\n",
      "2021-05-20 02:43:26,258 - mmdet - INFO - workflow: [('train', 1)], max: 60 epochs\n",
      "/home/ubuntu/CUAI_2021/Advanced_Won_Cho/code/Swin-Transformer-Object-Detection/mmdet/core/evaluation/eval_hooks.py:111: UserWarning: runner.meta is None. Creating a empty one.\n",
      "  warnings.warn('runner.meta is None. Creating a empty one.')\n",
      "/home/ubuntu/anaconda3/envs/pytorch_p36/lib/python3.6/site-packages/instaboostfast/pycococreater.py:48: VisibleDeprecationWarning: Creating an ndarray from ragged nested sequences (which is a list-or-tuple of lists-or-tuples-or ndarrays with different lengths or shapes) is deprecated. If you meant to do this, you must specify 'dtype=object' when creating the ndarray\n",
      "  contours = np.subtract(contours, 1)\n",
      "/home/ubuntu/anaconda3/envs/pytorch_p36/lib/python3.6/site-packages/instaboostfast/pycococreater.py:48: VisibleDeprecationWarning: Creating an ndarray from ragged nested sequences (which is a list-or-tuple of lists-or-tuples-or ndarrays with different lengths or shapes) is deprecated. If you meant to do this, you must specify 'dtype=object' when creating the ndarray\n",
      "  contours = np.subtract(contours, 1)\n",
      "2021-05-20 02:44:41,700 - mmdet - INFO - Epoch [1][50/818]\tlr: 1.643e-06, eta: 20:32:52, time: 1.509, data_time: 0.133, memory: 22986, loss_rpn_cls: 0.2518, loss_rpn_bbox: 0.0352, loss_semantic_seg: 12.0415, s0.loss_cls: 13.7770, s0.acc: 0.7441, s0.loss_bbox: 0.2595, s0.loss_mask: 2.9738, s1.loss_cls: 0.9308, s1.acc: 45.3398, s1.loss_bbox: 0.1116, s1.loss_mask: 1.3560, s2.loss_cls: 4.5400, s2.acc: 0.0615, s2.loss_bbox: 0.0190, s2.loss_mask: 0.6525, loss: 36.9487, grad_norm: 667.5755\n",
      "2021-05-20 02:45:53,827 - mmdet - INFO - Epoch [1][100/818]\tlr: 3.310e-06, eta: 20:04:35, time: 1.443, data_time: 0.063, memory: 23608, loss_rpn_cls: 0.1828, loss_rpn_bbox: 0.0327, loss_semantic_seg: 3.1721, s0.loss_cls: 5.5804, s0.acc: 10.3662, s0.loss_bbox: 0.2514, s0.loss_mask: 1.6281, s1.loss_cls: 0.5496, s1.acc: 78.4062, s1.loss_bbox: 0.1052, s1.loss_mask: 0.8016, s2.loss_cls: 1.3081, s2.acc: 36.9014, s2.loss_bbox: 0.0202, s2.loss_mask: 0.3511, loss: 13.9832, grad_norm: 268.9606\n",
      "2021-05-20 02:47:08,211 - mmdet - INFO - Epoch [1][150/818]\tlr: 4.976e-06, eta: 20:06:38, time: 1.488, data_time: 0.070, memory: 23608, loss_rpn_cls: 0.1574, loss_rpn_bbox: 0.0388, loss_semantic_seg: 1.2626, s0.loss_cls: 1.2041, s0.acc: 84.3311, s0.loss_bbox: 0.2909, s0.loss_mask: 0.8787, s1.loss_cls: 0.4468, s1.acc: 92.8828, s1.loss_bbox: 0.1213, s1.loss_mask: 0.4620, s2.loss_cls: 0.2064, s2.acc: 95.8057, s2.loss_bbox: 0.0239, s2.loss_mask: 0.2169, loss: 5.3099, grad_norm: 55.4794\n",
      "2021-05-20 02:48:22,882 - mmdet - INFO - Epoch [1][200/818]\tlr: 6.643e-06, eta: 20:08:12, time: 1.493, data_time: 0.075, memory: 23608, loss_rpn_cls: 0.0887, loss_rpn_bbox: 0.0353, loss_semantic_seg: 0.7731, s0.loss_cls: 0.8506, s0.acc: 87.9531, s0.loss_bbox: 0.2743, s0.loss_mask: 0.6827, s1.loss_cls: 0.3391, s1.acc: 93.4805, s1.loss_bbox: 0.1169, s1.loss_mask: 0.3579, s2.loss_cls: 0.1437, s2.acc: 96.7168, s2.loss_bbox: 0.0233, s2.loss_mask: 0.1752, loss: 3.8608, grad_norm: 35.8841\n",
      "2021-05-20 02:49:36,921 - mmdet - INFO - Epoch [1][250/818]\tlr: 8.309e-06, eta: 20:06:35, time: 1.481, data_time: 0.065, memory: 23777, loss_rpn_cls: 0.0887, loss_rpn_bbox: 0.0415, loss_semantic_seg: 0.5245, s0.loss_cls: 0.7960, s0.acc: 87.0811, s0.loss_bbox: 0.3124, s0.loss_mask: 0.6351, s1.loss_cls: 0.3178, s1.acc: 92.6807, s1.loss_bbox: 0.1320, s1.loss_mask: 0.3169, s2.loss_cls: 0.1302, s2.acc: 96.4170, s2.loss_bbox: 0.0251, s2.loss_mask: 0.1587, loss: 3.4789, grad_norm: 27.0494\n",
      "2021-05-20 02:50:54,061 - mmdet - INFO - Epoch [1][300/818]\tlr: 9.976e-06, eta: 20:13:31, time: 1.543, data_time: 0.126, memory: 24134, loss_rpn_cls: 0.0780, loss_rpn_bbox: 0.0439, loss_semantic_seg: 0.4572, s0.loss_cls: 0.7657, s0.acc: 87.1094, s0.loss_bbox: 0.3081, s0.loss_mask: 0.6069, s1.loss_cls: 0.3039, s1.acc: 92.6621, s1.loss_bbox: 0.1285, s1.loss_mask: 0.3025, s2.loss_cls: 0.1213, s2.acc: 96.3359, s2.loss_bbox: 0.0252, s2.loss_mask: 0.1536, loss: 3.2947, grad_norm: 26.5346\n",
      "2021-05-20 02:52:11,321 - mmdet - INFO - Epoch [1][350/818]\tlr: 1.164e-05, eta: 20:18:22, time: 1.545, data_time: 0.085, memory: 24134, loss_rpn_cls: 0.0728, loss_rpn_bbox: 0.0460, loss_semantic_seg: 0.3647, s0.loss_cls: 0.7910, s0.acc: 86.9863, s0.loss_bbox: 0.3240, s0.loss_mask: 0.5441, s1.loss_cls: 0.3242, s1.acc: 91.8721, s1.loss_bbox: 0.1425, s1.loss_mask: 0.2680, s2.loss_cls: 0.1332, s2.acc: 95.8613, s2.loss_bbox: 0.0281, s2.loss_mask: 0.1347, loss: 3.1732, grad_norm: 21.6182\n",
      "2021-05-20 02:53:26,598 - mmdet - INFO - Epoch [1][400/818]\tlr: 1.331e-05, eta: 20:17:40, time: 1.506, data_time: 0.073, memory: 24134, loss_rpn_cls: 0.0694, loss_rpn_bbox: 0.0352, loss_semantic_seg: 0.3201, s0.loss_cls: 0.6995, s0.acc: 87.7422, s0.loss_bbox: 0.3064, s0.loss_mask: 0.4989, s1.loss_cls: 0.2835, s1.acc: 92.2227, s1.loss_bbox: 0.1436, s1.loss_mask: 0.2450, s2.loss_cls: 0.1146, s2.acc: 95.9531, s2.loss_bbox: 0.0307, s2.loss_mask: 0.1150, loss: 2.8618, grad_norm: 20.0589\n",
      "2021-05-20 02:54:41,121 - mmdet - INFO - Epoch [1][450/818]\tlr: 1.498e-05, eta: 20:15:28, time: 1.490, data_time: 0.060, memory: 24134, loss_rpn_cls: 0.0595, loss_rpn_bbox: 0.0374, loss_semantic_seg: 0.2879, s0.loss_cls: 0.7441, s0.acc: 88.3955, s0.loss_bbox: 0.2908, s0.loss_mask: 0.4559, s1.loss_cls: 0.3168, s1.acc: 92.1387, s1.loss_bbox: 0.1502, s1.loss_mask: 0.2121, s2.loss_cls: 0.1330, s2.acc: 95.5869, s2.loss_bbox: 0.0357, s2.loss_mask: 0.1010, loss: 2.8245, grad_norm: 19.2224\n",
      "2021-05-20 02:55:57,617 - mmdet - INFO - Epoch [1][500/818]\tlr: 1.664e-05, eta: 20:16:40, time: 1.530, data_time: 0.068, memory: 24134, loss_rpn_cls: 0.0506, loss_rpn_bbox: 0.0325, loss_semantic_seg: 0.2603, s0.loss_cls: 0.7285, s0.acc: 88.5586, s0.loss_bbox: 0.2792, s0.loss_mask: 0.4073, s1.loss_cls: 0.3125, s1.acc: 91.9912, s1.loss_bbox: 0.1547, s1.loss_mask: 0.1957, s2.loss_cls: 0.1329, s2.acc: 95.3076, s2.loss_bbox: 0.0400, s2.loss_mask: 0.0868, loss: 2.6810, grad_norm: 17.2880\n",
      "2021-05-20 02:57:13,784 - mmdet - INFO - Epoch [1][550/818]\tlr: 1.831e-05, eta: 20:16:56, time: 1.523, data_time: 0.061, memory: 24320, loss_rpn_cls: 0.0523, loss_rpn_bbox: 0.0281, loss_semantic_seg: 0.2406, s0.loss_cls: 0.7007, s0.acc: 89.5117, s0.loss_bbox: 0.2585, s0.loss_mask: 0.3531, s1.loss_cls: 0.3191, s1.acc: 91.8516, s1.loss_bbox: 0.1600, s1.loss_mask: 0.1657, s2.loss_cls: 0.1397, s2.acc: 94.7275, s2.loss_bbox: 0.0481, s2.loss_mask: 0.0750, loss: 2.5411, grad_norm: 15.9959\n",
      "2021-05-20 02:58:33,281 - mmdet - INFO - Epoch [1][600/818]\tlr: 1.997e-05, eta: 20:21:26, time: 1.590, data_time: 0.071, memory: 24440, loss_rpn_cls: 0.0613, loss_rpn_bbox: 0.0352, loss_semantic_seg: 0.2275, s0.loss_cls: 0.6953, s0.acc: 88.0518, s0.loss_bbox: 0.2797, s0.loss_mask: 0.3690, s1.loss_cls: 0.3154, s1.acc: 90.4229, s1.loss_bbox: 0.1771, s1.loss_mask: 0.1706, s2.loss_cls: 0.1372, s2.acc: 93.3604, s2.loss_bbox: 0.0573, s2.loss_mask: 0.0780, loss: 2.6037, grad_norm: 16.3384\n",
      "2021-05-20 02:59:52,654 - mmdet - INFO - Epoch [1][650/818]\tlr: 2.164e-05, eta: 20:24:52, time: 1.587, data_time: 0.064, memory: 24515, loss_rpn_cls: 0.0549, loss_rpn_bbox: 0.0347, loss_semantic_seg: 0.2376, s0.loss_cls: 0.6413, s0.acc: 88.8213, s0.loss_bbox: 0.2556, s0.loss_mask: 0.3581, s1.loss_cls: 0.2935, s1.acc: 90.8525, s1.loss_bbox: 0.1628, s1.loss_mask: 0.1647, s2.loss_cls: 0.1317, s2.acc: 93.5713, s2.loss_bbox: 0.0564, s2.loss_mask: 0.0764, loss: 2.4677, grad_norm: 16.0111\n",
      "2021-05-20 03:01:12,300 - mmdet - INFO - Epoch [1][700/818]\tlr: 2.331e-05, eta: 20:27:57, time: 1.593, data_time: 0.073, memory: 24982, loss_rpn_cls: 0.0484, loss_rpn_bbox: 0.0354, loss_semantic_seg: 0.2137, s0.loss_cls: 0.6392, s0.acc: 88.4590, s0.loss_bbox: 0.2690, s0.loss_mask: 0.3666, s1.loss_cls: 0.2955, s1.acc: 90.5518, s1.loss_bbox: 0.1706, s1.loss_mask: 0.1670, s2.loss_cls: 0.1337, s2.acc: 93.0332, s2.loss_bbox: 0.0610, s2.loss_mask: 0.0762, loss: 2.4764, grad_norm: 14.8596\n",
      "2021-05-20 03:02:33,371 - mmdet - INFO - Epoch [1][750/818]\tlr: 2.497e-05, eta: 20:31:58, time: 1.621, data_time: 0.075, memory: 24982, loss_rpn_cls: 0.0537, loss_rpn_bbox: 0.0296, loss_semantic_seg: 0.1995, s0.loss_cls: 0.6093, s0.acc: 89.2715, s0.loss_bbox: 0.2410, s0.loss_mask: 0.3088, s1.loss_cls: 0.2915, s1.acc: 90.8838, s1.loss_bbox: 0.1664, s1.loss_mask: 0.1446, s2.loss_cls: 0.1382, s2.acc: 92.7627, s2.loss_bbox: 0.0678, s2.loss_mask: 0.0646, loss: 2.3150, grad_norm: 14.1759\n"
     ]
    },
    {
     "name": "stderr",
     "output_type": "stream",
     "text": [
      "2021-05-20 03:03:55,877 - mmdet - INFO - Epoch [1][800/818]\tlr: 2.664e-05, eta: 20:36:46, time: 1.650, data_time: 0.089, memory: 25407, loss_rpn_cls: 0.0543, loss_rpn_bbox: 0.0340, loss_semantic_seg: 0.2008, s0.loss_cls: 0.6011, s0.acc: 88.8340, s0.loss_bbox: 0.2436, s0.loss_mask: 0.3128, s1.loss_cls: 0.2893, s1.acc: 90.5498, s1.loss_bbox: 0.1609, s1.loss_mask: 0.1455, s2.loss_cls: 0.1398, s2.acc: 92.3857, s2.loss_bbox: 0.0658, s2.loss_mask: 0.0650, loss: 2.3130, grad_norm: 14.3882\n",
      "2021-05-20 03:04:24,985 - mmdet - INFO - Saving checkpoint at 1 epochs\n"
     ]
    },
    {
     "name": "stdout",
     "output_type": "stream",
     "text": [
      "[>>>>>>>>>>>>>>>>>>>>>>>>>>>>>] 655/655, 3.5 task/s, elapsed: 185s, ETA:     0s"
     ]
    },
    {
     "name": "stderr",
     "output_type": "stream",
     "text": [
      "2021-05-20 03:07:38,288 - mmdet - INFO - Evaluating bbox...\n"
     ]
    },
    {
     "name": "stdout",
     "output_type": "stream",
     "text": [
      "Loading and preparing results...\n",
      "DONE (t=0.78s)\n",
      "creating index...\n",
      "index created!\n",
      "Running per image evaluation...\n",
      "Evaluate annotation type *bbox*\n",
      "DONE (t=8.98s).\n",
      "Accumulating evaluation results...\n",
      "DONE (t=1.78s).\n",
      "Average Precision  (AP) @[ IoU=0.50:0.95 | area=   all | maxDets=100 ] = 0.101\n",
      "Average Precision  (AP) @[ IoU=0.50      | area=   all | maxDets=1000 ] = 0.179\n",
      "Average Precision  (AP) @[ IoU=0.75      | area=   all | maxDets=1000 ] = 0.100\n",
      "Average Precision  (AP) @[ IoU=0.50:0.95 | area= small | maxDets=1000 ] = 0.023\n",
      "Average Precision  (AP) @[ IoU=0.50:0.95 | area=medium | maxDets=1000 ] = 0.096\n",
      "Average Precision  (AP) @[ IoU=0.50:0.95 | area= large | maxDets=1000 ] = 0.196\n",
      "Average Recall     (AR) @[ IoU=0.50:0.95 | area=   all | maxDets=100 ] = 0.254\n",
      "Average Recall     (AR) @[ IoU=0.50:0.95 | area=   all | maxDets=300 ] = 0.254\n",
      "Average Recall     (AR) @[ IoU=0.50:0.95 | area=   all | maxDets=1000 ] = 0.254\n",
      "Average Recall     (AR) @[ IoU=0.50:0.95 | area= small | maxDets=1000 ] = 0.068\n",
      "Average Recall     (AR) @[ IoU=0.50:0.95 | area=medium | maxDets=1000 ] = 0.213\n",
      "Average Recall     (AR) @[ IoU=0.50:0.95 | area= large | maxDets=1000 ] = 0.485\n"
     ]
    },
    {
     "name": "stderr",
     "output_type": "stream",
     "text": [
      "2021-05-20 03:07:51,164 - mmdet - INFO - Now best checkpoint is epoch_1.pth.Best bbox_mAP_50 is 0.1790\n",
      "2021-05-20 03:07:51,201 - mmdet - INFO - Epoch(val) [1][818]\tbbox_mAP: 0.1010, bbox_mAP_50: 0.1790, bbox_mAP_75: 0.1000, bbox_mAP_s: 0.0230, bbox_mAP_m: 0.0960, bbox_mAP_l: 0.1960, bbox_mAP_copypaste: 0.101 0.179 0.100 0.023 0.096 0.196\n",
      "/home/ubuntu/anaconda3/envs/pytorch_p36/lib/python3.6/site-packages/instaboostfast/pycococreater.py:48: VisibleDeprecationWarning: Creating an ndarray from ragged nested sequences (which is a list-or-tuple of lists-or-tuples-or ndarrays with different lengths or shapes) is deprecated. If you meant to do this, you must specify 'dtype=object' when creating the ndarray\n",
      "  contours = np.subtract(contours, 1)\n",
      "/home/ubuntu/anaconda3/envs/pytorch_p36/lib/python3.6/site-packages/instaboostfast/pycococreater.py:48: VisibleDeprecationWarning: Creating an ndarray from ragged nested sequences (which is a list-or-tuple of lists-or-tuples-or ndarrays with different lengths or shapes) is deprecated. If you meant to do this, you must specify 'dtype=object' when creating the ndarray\n",
      "  contours = np.subtract(contours, 1)\n",
      "2021-05-20 03:09:19,477 - mmdet - INFO - Epoch [2][50/818]\tlr: 2.889e-05, eta: 20:19:59, time: 1.765, data_time: 0.170, memory: 25407, loss_rpn_cls: 0.0507, loss_rpn_bbox: 0.0318, loss_semantic_seg: 0.1868, s0.loss_cls: 0.5309, s0.acc: 89.3301, s0.loss_bbox: 0.2425, s0.loss_mask: 0.2975, s1.loss_cls: 0.2619, s1.acc: 90.9365, s1.loss_bbox: 0.1571, s1.loss_mask: 0.1348, s2.loss_cls: 0.1325, s2.acc: 92.5986, s2.loss_bbox: 0.0681, s2.loss_mask: 0.0583, loss: 2.1529, grad_norm: 13.3807\n",
      "2021-05-20 03:11:13,616 - mmdet - INFO - Epoch [2][100/818]\tlr: 3.055e-05, eta: 20:52:08, time: 2.283, data_time: 0.075, memory: 25407, loss_rpn_cls: 0.0468, loss_rpn_bbox: 0.0297, loss_semantic_seg: 0.1744, s0.loss_cls: 0.5115, s0.acc: 89.2119, s0.loss_bbox: 0.2276, s0.loss_mask: 0.2733, s1.loss_cls: 0.2536, s1.acc: 90.5417, s1.loss_bbox: 0.1520, s1.loss_mask: 0.1259, s2.loss_cls: 0.1366, s2.acc: 92.1816, s2.loss_bbox: 0.0690, s2.loss_mask: 0.0554, loss: 2.0559, grad_norm: 12.2772\n",
      "2021-05-20 03:12:36,173 - mmdet - INFO - Epoch [2][150/818]\tlr: 3.222e-05, eta: 20:54:37, time: 1.651, data_time: 0.077, memory: 25653, loss_rpn_cls: 0.0486, loss_rpn_bbox: 0.0335, loss_semantic_seg: 0.1656, s0.loss_cls: 0.4480, s0.acc: 89.4316, s0.loss_bbox: 0.2291, s0.loss_mask: 0.3111, s1.loss_cls: 0.2202, s1.acc: 90.9951, s1.loss_bbox: 0.1518, s1.loss_mask: 0.1411, s2.loss_cls: 0.1219, s2.acc: 92.3398, s2.loss_bbox: 0.0687, s2.loss_mask: 0.0625, loss: 2.0021, grad_norm: 14.4890\n",
      "2021-05-20 03:13:58,678 - mmdet - INFO - Epoch [2][200/818]\tlr: 3.388e-05, eta: 20:56:40, time: 1.650, data_time: 0.065, memory: 25653, loss_rpn_cls: 0.0454, loss_rpn_bbox: 0.0299, loss_semantic_seg: 0.1765, s0.loss_cls: 0.4197, s0.acc: 90.0801, s0.loss_bbox: 0.2196, s0.loss_mask: 0.3081, s1.loss_cls: 0.2083, s1.acc: 91.3476, s1.loss_bbox: 0.1462, s1.loss_mask: 0.1389, s2.loss_cls: 0.1256, s2.acc: 92.6793, s2.loss_bbox: 0.0679, s2.loss_mask: 0.0624, loss: 1.9484, grad_norm: 13.7931\n",
      "2021-05-20 03:15:18,935 - mmdet - INFO - Epoch [2][250/818]\tlr: 3.555e-05, eta: 20:56:44, time: 1.605, data_time: 0.068, memory: 25653, loss_rpn_cls: 0.0552, loss_rpn_bbox: 0.0333, loss_semantic_seg: 0.1729, s0.loss_cls: 0.4355, s0.acc: 89.1963, s0.loss_bbox: 0.2231, s0.loss_mask: 0.3138, s1.loss_cls: 0.2035, s1.acc: 90.7881, s1.loss_bbox: 0.1515, s1.loss_mask: 0.1437, s2.loss_cls: 0.1224, s2.acc: 92.3076, s2.loss_bbox: 0.0677, s2.loss_mask: 0.0653, loss: 1.9878, grad_norm: 13.9417\n",
      "2021-05-20 03:16:36,788 - mmdet - INFO - Epoch [2][300/818]\tlr: 3.721e-05, eta: 20:54:56, time: 1.557, data_time: 0.065, memory: 25653, loss_rpn_cls: 0.0436, loss_rpn_bbox: 0.0316, loss_semantic_seg: 0.1717, s0.loss_cls: 0.3718, s0.acc: 90.3086, s0.loss_bbox: 0.2050, s0.loss_mask: 0.3073, s1.loss_cls: 0.1761, s1.acc: 91.8047, s1.loss_bbox: 0.1420, s1.loss_mask: 0.1427, s2.loss_cls: 0.1152, s2.acc: 93.0635, s2.loss_bbox: 0.0626, s2.loss_mask: 0.0637, loss: 1.8333, grad_norm: 12.3861\n",
      "2021-05-20 03:18:01,192 - mmdet - INFO - Epoch [2][350/818]\tlr: 3.888e-05, eta: 20:57:40, time: 1.688, data_time: 0.079, memory: 25886, loss_rpn_cls: 0.0492, loss_rpn_bbox: 0.0281, loss_semantic_seg: 0.1668, s0.loss_cls: 0.3970, s0.acc: 89.1328, s0.loss_bbox: 0.2202, s0.loss_mask: 0.2962, s1.loss_cls: 0.1806, s1.acc: 90.6821, s1.loss_bbox: 0.1513, s1.loss_mask: 0.1355, s2.loss_cls: 0.1132, s2.acc: 91.9545, s2.loss_bbox: 0.0694, s2.loss_mask: 0.0599, loss: 1.8674, grad_norm: 13.0149\n",
      "2021-05-20 03:19:23,523 - mmdet - INFO - Epoch [2][400/818]\tlr: 4.054e-05, eta: 20:58:42, time: 1.647, data_time: 0.067, memory: 25886, loss_rpn_cls: 0.0561, loss_rpn_bbox: 0.0300, loss_semantic_seg: 0.1523, s0.loss_cls: 0.3898, s0.acc: 89.1055, s0.loss_bbox: 0.2283, s0.loss_mask: 0.2929, s1.loss_cls: 0.1715, s1.acc: 90.5508, s1.loss_bbox: 0.1549, s1.loss_mask: 0.1339, s2.loss_cls: 0.1001, s2.acc: 92.0614, s2.loss_bbox: 0.0679, s2.loss_mask: 0.0603, loss: 1.8379, grad_norm: 12.4889\n",
      "2021-05-20 03:20:44,786 - mmdet - INFO - Epoch [2][450/818]\tlr: 4.221e-05, eta: 20:58:52, time: 1.625, data_time: 0.072, memory: 25886, loss_rpn_cls: 0.0472, loss_rpn_bbox: 0.0293, loss_semantic_seg: 0.1643, s0.loss_cls: 0.3571, s0.acc: 89.8418, s0.loss_bbox: 0.2077, s0.loss_mask: 0.2866, s1.loss_cls: 0.1613, s1.acc: 91.0076, s1.loss_bbox: 0.1439, s1.loss_mask: 0.1268, s2.loss_cls: 0.0927, s2.acc: 91.9835, s2.loss_bbox: 0.0638, s2.loss_mask: 0.0566, loss: 1.7373, grad_norm: 11.3833\n",
      "2021-05-20 03:22:05,971 - mmdet - INFO - Epoch [2][500/818]\tlr: 4.388e-05, eta: 20:58:53, time: 1.624, data_time: 0.074, memory: 25886, loss_rpn_cls: 0.0490, loss_rpn_bbox: 0.0304, loss_semantic_seg: 0.1728, s0.loss_cls: 0.3485, s0.acc: 89.9727, s0.loss_bbox: 0.1959, s0.loss_mask: 0.2669, s1.loss_cls: 0.1598, s1.acc: 90.8604, s1.loss_bbox: 0.1374, s1.loss_mask: 0.1201, s2.loss_cls: 0.0843, s2.acc: 92.1789, s2.loss_bbox: 0.0637, s2.loss_mask: 0.0536, loss: 1.6823, grad_norm: 12.5500\n",
      "2021-05-20 03:23:27,434 - mmdet - INFO - Epoch [2][550/818]\tlr: 4.554e-05, eta: 20:58:57, time: 1.629, data_time: 0.072, memory: 25886, loss_rpn_cls: 0.0553, loss_rpn_bbox: 0.0274, loss_semantic_seg: 0.1627, s0.loss_cls: 0.3600, s0.acc: 89.7715, s0.loss_bbox: 0.2038, s0.loss_mask: 0.2838, s1.loss_cls: 0.1603, s1.acc: 90.9161, s1.loss_bbox: 0.1430, s1.loss_mask: 0.1242, s2.loss_cls: 0.0794, s2.acc: 92.1794, s2.loss_bbox: 0.0658, s2.loss_mask: 0.0550, loss: 1.7207, grad_norm: 11.4901\n",
      "2021-05-20 03:24:50,320 - mmdet - INFO - Epoch [2][600/818]\tlr: 4.721e-05, eta: 20:59:43, time: 1.658, data_time: 0.071, memory: 25886, loss_rpn_cls: 0.0535, loss_rpn_bbox: 0.0320, loss_semantic_seg: 0.1589, s0.loss_cls: 0.3556, s0.acc: 89.7236, s0.loss_bbox: 0.2036, s0.loss_mask: 0.2869, s1.loss_cls: 0.1588, s1.acc: 90.7752, s1.loss_bbox: 0.1458, s1.loss_mask: 0.1259, s2.loss_cls: 0.0780, s2.acc: 91.9129, s2.loss_bbox: 0.0675, s2.loss_mask: 0.0556, loss: 1.7222, grad_norm: 10.9513\n",
      "2021-05-20 03:26:15,720 - mmdet - INFO - Epoch [2][650/818]\tlr: 4.887e-05, eta: 21:01:42, time: 1.708, data_time: 0.078, memory: 25886, loss_rpn_cls: 0.0485, loss_rpn_bbox: 0.0335, loss_semantic_seg: 0.1479, s0.loss_cls: 0.3470, s0.acc: 89.6514, s0.loss_bbox: 0.2091, s0.loss_mask: 0.2958, s1.loss_cls: 0.1564, s1.acc: 90.5689, s1.loss_bbox: 0.1486, s1.loss_mask: 0.1324, s2.loss_cls: 0.0747, s2.acc: 91.6969, s2.loss_bbox: 0.0673, s2.loss_mask: 0.0585, loss: 1.7197, grad_norm: 11.0404\n",
      "2021-05-20 03:27:35,649 - mmdet - INFO - Epoch [2][700/818]\tlr: 5.054e-05, eta: 21:00:36, time: 1.599, data_time: 0.052, memory: 25886, loss_rpn_cls: 0.0443, loss_rpn_bbox: 0.0243, loss_semantic_seg: 0.1405, s0.loss_cls: 0.3109, s0.acc: 90.9561, s0.loss_bbox: 0.1693, s0.loss_mask: 0.2875, s1.loss_cls: 0.1421, s1.acc: 91.6751, s1.loss_bbox: 0.1304, s1.loss_mask: 0.1306, s2.loss_cls: 0.0677, s2.acc: 92.6933, s2.loss_bbox: 0.0610, s2.loss_mask: 0.0569, loss: 1.5656, grad_norm: 10.8295\n",
      "2021-05-20 03:28:55,427 - mmdet - INFO - Epoch [2][750/818]\tlr: 5.220e-05, eta: 20:59:24, time: 1.596, data_time: 0.052, memory: 25886, loss_rpn_cls: 0.0379, loss_rpn_bbox: 0.0237, loss_semantic_seg: 0.1400, s0.loss_cls: 0.3143, s0.acc: 90.9648, s0.loss_bbox: 0.1717, s0.loss_mask: 0.2681, s1.loss_cls: 0.1388, s1.acc: 91.8585, s1.loss_bbox: 0.1259, s1.loss_mask: 0.1217, s2.loss_cls: 0.0654, s2.acc: 92.7803, s2.loss_bbox: 0.0580, s2.loss_mask: 0.0536, loss: 1.5191, grad_norm: 10.3693\n"
     ]
    },
    {
     "name": "stderr",
     "output_type": "stream",
     "text": [
      "2021-05-20 03:30:18,862 - mmdet - INFO - Epoch [2][800/818]\tlr: 5.387e-05, eta: 21:00:00, time: 1.669, data_time: 0.073, memory: 25886, loss_rpn_cls: 0.0444, loss_rpn_bbox: 0.0311, loss_semantic_seg: 0.1428, s0.loss_cls: 0.3264, s0.acc: 90.1914, s0.loss_bbox: 0.1978, s0.loss_mask: 0.2861, s1.loss_cls: 0.1479, s1.acc: 91.1074, s1.loss_bbox: 0.1471, s1.loss_mask: 0.1307, s2.loss_cls: 0.0680, s2.acc: 92.0507, s2.loss_bbox: 0.0685, s2.loss_mask: 0.0578, loss: 1.6486, grad_norm: 10.7808\n",
      "2021-05-20 03:30:47,165 - mmdet - INFO - Saving checkpoint at 2 epochs\n"
     ]
    },
    {
     "name": "stdout",
     "output_type": "stream",
     "text": [
      "[>>>>>>>>>>>>>>>>>>>>>>>>>>>>>] 655/655, 3.5 task/s, elapsed: 185s, ETA:     0s"
     ]
    },
    {
     "name": "stderr",
     "output_type": "stream",
     "text": [
      "2021-05-20 03:33:59,856 - mmdet - INFO - Evaluating bbox...\n"
     ]
    },
    {
     "name": "stdout",
     "output_type": "stream",
     "text": [
      "Loading and preparing results...\n",
      "DONE (t=0.81s)\n",
      "creating index...\n",
      "index created!\n",
      "Running per image evaluation...\n",
      "Evaluate annotation type *bbox*\n",
      "DONE (t=8.48s).\n",
      "Accumulating evaluation results...\n",
      "DONE (t=1.74s).\n",
      "Average Precision  (AP) @[ IoU=0.50:0.95 | area=   all | maxDets=100 ] = 0.172\n",
      "Average Precision  (AP) @[ IoU=0.50      | area=   all | maxDets=1000 ] = 0.272\n",
      "Average Precision  (AP) @[ IoU=0.75      | area=   all | maxDets=1000 ] = 0.179\n",
      "Average Precision  (AP) @[ IoU=0.50:0.95 | area= small | maxDets=1000 ] = 0.032\n",
      "Average Precision  (AP) @[ IoU=0.50:0.95 | area=medium | maxDets=1000 ] = 0.142\n",
      "Average Precision  (AP) @[ IoU=0.50:0.95 | area= large | maxDets=1000 ] = 0.344\n",
      "Average Recall     (AR) @[ IoU=0.50:0.95 | area=   all | maxDets=100 ] = 0.325\n",
      "Average Recall     (AR) @[ IoU=0.50:0.95 | area=   all | maxDets=300 ] = 0.325\n",
      "Average Recall     (AR) @[ IoU=0.50:0.95 | area=   all | maxDets=1000 ] = 0.325\n",
      "Average Recall     (AR) @[ IoU=0.50:0.95 | area= small | maxDets=1000 ] = 0.090\n",
      "Average Recall     (AR) @[ IoU=0.50:0.95 | area=medium | maxDets=1000 ] = 0.288\n",
      "Average Recall     (AR) @[ IoU=0.50:0.95 | area= large | maxDets=1000 ] = 0.576\n"
     ]
    },
    {
     "name": "stderr",
     "output_type": "stream",
     "text": [
      "2021-05-20 03:34:16,707 - mmdet - INFO - Now best checkpoint is epoch_2.pth.Best bbox_mAP_50 is 0.2720\n",
      "2021-05-20 03:34:16,743 - mmdet - INFO - Epoch(val) [2][818]\tbbox_mAP: 0.1720, bbox_mAP_50: 0.2720, bbox_mAP_75: 0.1790, bbox_mAP_s: 0.0320, bbox_mAP_m: 0.1420, bbox_mAP_l: 0.3440, bbox_mAP_copypaste: 0.172 0.272 0.179 0.032 0.142 0.344\n",
      "/home/ubuntu/anaconda3/envs/pytorch_p36/lib/python3.6/site-packages/instaboostfast/pycococreater.py:48: VisibleDeprecationWarning: Creating an ndarray from ragged nested sequences (which is a list-or-tuple of lists-or-tuples-or ndarrays with different lengths or shapes) is deprecated. If you meant to do this, you must specify 'dtype=object' when creating the ndarray\n",
      "  contours = np.subtract(contours, 1)\n",
      "/home/ubuntu/anaconda3/envs/pytorch_p36/lib/python3.6/site-packages/instaboostfast/pycococreater.py:48: VisibleDeprecationWarning: Creating an ndarray from ragged nested sequences (which is a list-or-tuple of lists-or-tuples-or ndarrays with different lengths or shapes) is deprecated. If you meant to do this, you must specify 'dtype=object' when creating the ndarray\n",
      "  contours = np.subtract(contours, 1)\n",
      "2021-05-20 03:35:43,707 - mmdet - INFO - Epoch [3][50/818]\tlr: 5.602e-05, eta: 20:48:11, time: 1.739, data_time: 0.135, memory: 25886, loss_rpn_cls: 0.0316, loss_rpn_bbox: 0.0246, loss_semantic_seg: 0.1427, s0.loss_cls: 0.3041, s0.acc: 90.9131, s0.loss_bbox: 0.1675, s0.loss_mask: 0.2500, s1.loss_cls: 0.1386, s1.acc: 91.6759, s1.loss_bbox: 0.1263, s1.loss_mask: 0.1130, s2.loss_cls: 0.0641, s2.acc: 92.4551, s2.loss_bbox: 0.0629, s2.loss_mask: 0.0510, loss: 1.4763, grad_norm: 10.5109\n",
      "2021-05-20 03:37:06,285 - mmdet - INFO - Epoch [3][100/818]\tlr: 5.768e-05, eta: 20:48:29, time: 1.652, data_time: 0.078, memory: 26078, loss_rpn_cls: 0.0454, loss_rpn_bbox: 0.0289, loss_semantic_seg: 0.1424, s0.loss_cls: 0.3306, s0.acc: 90.1777, s0.loss_bbox: 0.1919, s0.loss_mask: 0.2695, s1.loss_cls: 0.1515, s1.acc: 91.0207, s1.loss_bbox: 0.1399, s1.loss_mask: 0.1197, s2.loss_cls: 0.0680, s2.acc: 92.2106, s2.loss_bbox: 0.0653, s2.loss_mask: 0.0534, loss: 1.6064, grad_norm: 10.0345\n",
      "2021-05-20 03:38:29,485 - mmdet - INFO - Epoch [3][150/818]\tlr: 5.934e-05, eta: 20:48:58, time: 1.664, data_time: 0.070, memory: 26315, loss_rpn_cls: 0.0463, loss_rpn_bbox: 0.0259, loss_semantic_seg: 0.1406, s0.loss_cls: 0.3176, s0.acc: 90.5186, s0.loss_bbox: 0.1753, s0.loss_mask: 0.2620, s1.loss_cls: 0.1473, s1.acc: 91.2489, s1.loss_bbox: 0.1324, s1.loss_mask: 0.1155, s2.loss_cls: 0.0665, s2.acc: 92.3446, s2.loss_bbox: 0.0640, s2.loss_mask: 0.0510, loss: 1.5445, grad_norm: 10.6197\n",
      "2021-05-20 03:39:54,812 - mmdet - INFO - Epoch [3][200/818]\tlr: 6.100e-05, eta: 20:50:16, time: 1.707, data_time: 0.076, memory: 26336, loss_rpn_cls: 0.0587, loss_rpn_bbox: 0.0316, loss_semantic_seg: 0.1421, s0.loss_cls: 0.3429, s0.acc: 89.8213, s0.loss_bbox: 0.1931, s0.loss_mask: 0.2828, s1.loss_cls: 0.1554, s1.acc: 90.7942, s1.loss_bbox: 0.1495, s1.loss_mask: 0.1291, s2.loss_cls: 0.0708, s2.acc: 91.8048, s2.loss_bbox: 0.0710, s2.loss_mask: 0.0567, loss: 1.6837, grad_norm: 10.6942\n",
      "2021-05-20 03:41:17,716 - mmdet - INFO - Epoch [3][250/818]\tlr: 6.266e-05, eta: 20:50:24, time: 1.658, data_time: 0.062, memory: 26336, loss_rpn_cls: 0.0422, loss_rpn_bbox: 0.0258, loss_semantic_seg: 0.1490, s0.loss_cls: 0.3295, s0.acc: 90.0771, s0.loss_bbox: 0.1802, s0.loss_mask: 0.2715, s1.loss_cls: 0.1496, s1.acc: 90.9601, s1.loss_bbox: 0.1381, s1.loss_mask: 0.1214, s2.loss_cls: 0.0683, s2.acc: 91.9203, s2.loss_bbox: 0.0676, s2.loss_mask: 0.0513, loss: 1.5944, grad_norm: 11.5346\n",
      "2021-05-20 03:42:39,082 - mmdet - INFO - Epoch [3][300/818]\tlr: 6.433e-05, eta: 20:49:51, time: 1.627, data_time: 0.069, memory: 26336, loss_rpn_cls: 0.0460, loss_rpn_bbox: 0.0297, loss_semantic_seg: 0.1361, s0.loss_cls: 0.3226, s0.acc: 90.1357, s0.loss_bbox: 0.1879, s0.loss_mask: 0.2676, s1.loss_cls: 0.1515, s1.acc: 90.8054, s1.loss_bbox: 0.1462, s1.loss_mask: 0.1168, s2.loss_cls: 0.0698, s2.acc: 91.6504, s2.loss_bbox: 0.0702, s2.loss_mask: 0.0514, loss: 1.5956, grad_norm: 9.9098\n",
      "2021-05-20 03:44:03,851 - mmdet - INFO - Epoch [3][350/818]\tlr: 6.599e-05, eta: 20:50:35, time: 1.695, data_time: 0.067, memory: 26336, loss_rpn_cls: 0.0431, loss_rpn_bbox: 0.0292, loss_semantic_seg: 0.1388, s0.loss_cls: 0.3384, s0.acc: 89.7754, s0.loss_bbox: 0.1869, s0.loss_mask: 0.2823, s1.loss_cls: 0.1550, s1.acc: 90.6977, s1.loss_bbox: 0.1412, s1.loss_mask: 0.1301, s2.loss_cls: 0.0705, s2.acc: 91.4690, s2.loss_bbox: 0.0677, s2.loss_mask: 0.0576, loss: 1.6409, grad_norm: 10.0377\n",
      "2021-05-20 03:45:25,810 - mmdet - INFO - Epoch [3][400/818]\tlr: 6.765e-05, eta: 20:50:09, time: 1.639, data_time: 0.070, memory: 26336, loss_rpn_cls: 0.0434, loss_rpn_bbox: 0.0252, loss_semantic_seg: 0.1416, s0.loss_cls: 0.3034, s0.acc: 90.7090, s0.loss_bbox: 0.1764, s0.loss_mask: 0.2820, s1.loss_cls: 0.1387, s1.acc: 91.6744, s1.loss_bbox: 0.1333, s1.loss_mask: 0.1268, s2.loss_cls: 0.0628, s2.acc: 92.4730, s2.loss_bbox: 0.0640, s2.loss_mask: 0.0545, loss: 1.5521, grad_norm: 9.8214\n",
      "2021-05-20 03:46:46,502 - mmdet - INFO - Epoch [3][450/818]\tlr: 6.931e-05, eta: 20:49:11, time: 1.614, data_time: 0.057, memory: 26336, loss_rpn_cls: 0.0455, loss_rpn_bbox: 0.0329, loss_semantic_seg: 0.1448, s0.loss_cls: 0.3118, s0.acc: 90.6748, s0.loss_bbox: 0.1785, s0.loss_mask: 0.2741, s1.loss_cls: 0.1400, s1.acc: 91.5620, s1.loss_bbox: 0.1366, s1.loss_mask: 0.1234, s2.loss_cls: 0.0641, s2.acc: 92.3645, s2.loss_bbox: 0.0658, s2.loss_mask: 0.0552, loss: 1.5726, grad_norm: 9.9442\n",
      "2021-05-20 03:48:08,987 - mmdet - INFO - Epoch [3][500/818]\tlr: 7.097e-05, eta: 20:48:51, time: 1.650, data_time: 0.069, memory: 26336, loss_rpn_cls: 0.0418, loss_rpn_bbox: 0.0281, loss_semantic_seg: 0.1314, s0.loss_cls: 0.3140, s0.acc: 90.5332, s0.loss_bbox: 0.1735, s0.loss_mask: 0.2491, s1.loss_cls: 0.1453, s1.acc: 91.0624, s1.loss_bbox: 0.1322, s1.loss_mask: 0.1115, s2.loss_cls: 0.0665, s2.acc: 91.8244, s2.loss_bbox: 0.0649, s2.loss_mask: 0.0482, loss: 1.5066, grad_norm: 9.5892\n",
      "2021-05-20 03:49:31,242 - mmdet - INFO - Epoch [3][550/818]\tlr: 7.264e-05, eta: 20:48:24, time: 1.645, data_time: 0.073, memory: 26336, loss_rpn_cls: 0.0491, loss_rpn_bbox: 0.0321, loss_semantic_seg: 0.1354, s0.loss_cls: 0.3480, s0.acc: 89.6289, s0.loss_bbox: 0.1891, s0.loss_mask: 0.2869, s1.loss_cls: 0.1561, s1.acc: 90.6858, s1.loss_bbox: 0.1451, s1.loss_mask: 0.1293, s2.loss_cls: 0.0702, s2.acc: 91.5379, s2.loss_bbox: 0.0700, s2.loss_mask: 0.0587, loss: 1.6699, grad_norm: 10.0634\n",
      "2021-05-20 03:50:55,114 - mmdet - INFO - Epoch [3][600/818]\tlr: 7.430e-05, eta: 20:48:28, time: 1.677, data_time: 0.079, memory: 26336, loss_rpn_cls: 0.0528, loss_rpn_bbox: 0.0306, loss_semantic_seg: 0.1367, s0.loss_cls: 0.3317, s0.acc: 89.9678, s0.loss_bbox: 0.1974, s0.loss_mask: 0.2890, s1.loss_cls: 0.1475, s1.acc: 91.0604, s1.loss_bbox: 0.1462, s1.loss_mask: 0.1272, s2.loss_cls: 0.0654, s2.acc: 92.1186, s2.loss_bbox: 0.0676, s2.loss_mask: 0.0561, loss: 1.6484, grad_norm: 9.4504\n",
      "2021-05-20 03:52:20,451 - mmdet - INFO - Epoch [3][650/818]\tlr: 7.596e-05, eta: 20:48:58, time: 1.707, data_time: 0.085, memory: 26336, loss_rpn_cls: 0.0465, loss_rpn_bbox: 0.0314, loss_semantic_seg: 0.1501, s0.loss_cls: 0.3340, s0.acc: 89.9883, s0.loss_bbox: 0.1879, s0.loss_mask: 0.2777, s1.loss_cls: 0.1495, s1.acc: 91.0058, s1.loss_bbox: 0.1423, s1.loss_mask: 0.1232, s2.loss_cls: 0.0662, s2.acc: 92.1270, s2.loss_bbox: 0.0683, s2.loss_mask: 0.0537, loss: 1.6308, grad_norm: 9.3711\n",
      "2021-05-20 03:53:43,462 - mmdet - INFO - Epoch [3][700/818]\tlr: 7.762e-05, eta: 20:48:37, time: 1.660, data_time: 0.059, memory: 26336, loss_rpn_cls: 0.0467, loss_rpn_bbox: 0.0272, loss_semantic_seg: 0.1350, s0.loss_cls: 0.3286, s0.acc: 90.3711, s0.loss_bbox: 0.1678, s0.loss_mask: 0.2775, s1.loss_cls: 0.1522, s1.acc: 91.1411, s1.loss_bbox: 0.1345, s1.loss_mask: 0.1258, s2.loss_cls: 0.0699, s2.acc: 91.9404, s2.loss_bbox: 0.0659, s2.loss_mask: 0.0571, loss: 1.5880, grad_norm: 8.5190\n",
      "2021-05-20 03:55:04,760 - mmdet - INFO - Epoch [3][750/818]\tlr: 7.928e-05, eta: 20:47:39, time: 1.626, data_time: 0.062, memory: 26336, loss_rpn_cls: 0.0406, loss_rpn_bbox: 0.0261, loss_semantic_seg: 0.1356, s0.loss_cls: 0.3000, s0.acc: 90.8789, s0.loss_bbox: 0.1605, s0.loss_mask: 0.2706, s1.loss_cls: 0.1357, s1.acc: 91.6927, s1.loss_bbox: 0.1251, s1.loss_mask: 0.1208, s2.loss_cls: 0.0619, s2.acc: 92.4783, s2.loss_bbox: 0.0628, s2.loss_mask: 0.0535, loss: 1.4931, grad_norm: 8.8756\n"
     ]
    },
    {
     "name": "stderr",
     "output_type": "stream",
     "text": [
      "2021-05-20 03:56:28,366 - mmdet - INFO - Epoch [3][800/818]\tlr: 8.095e-05, eta: 20:47:25, time: 1.672, data_time: 0.064, memory: 26336, loss_rpn_cls: 0.0475, loss_rpn_bbox: 0.0301, loss_semantic_seg: 0.1292, s0.loss_cls: 0.3095, s0.acc: 90.8965, s0.loss_bbox: 0.1755, s0.loss_mask: 0.2703, s1.loss_cls: 0.1390, s1.acc: 91.7137, s1.loss_bbox: 0.1351, s1.loss_mask: 0.1204, s2.loss_cls: 0.0616, s2.acc: 92.7001, s2.loss_bbox: 0.0658, s2.loss_mask: 0.0530, loss: 1.5370, grad_norm: 9.5956\n",
      "2021-05-20 03:56:58,536 - mmdet - INFO - Saving checkpoint at 3 epochs\n"
     ]
    },
    {
     "name": "stdout",
     "output_type": "stream",
     "text": [
      "[>>>>>>>>>>>>>>>>>>>>>>>>>>>>>] 655/655, 3.6 task/s, elapsed: 182s, ETA:     0s"
     ]
    },
    {
     "name": "stderr",
     "output_type": "stream",
     "text": [
      "2021-05-20 04:00:08,264 - mmdet - INFO - Evaluating bbox...\n"
     ]
    },
    {
     "name": "stdout",
     "output_type": "stream",
     "text": [
      "Loading and preparing results...\n",
      "DONE (t=1.27s)\n",
      "creating index...\n",
      "index created!\n",
      "Running per image evaluation...\n",
      "Evaluate annotation type *bbox*\n",
      "DONE (t=7.64s).\n",
      "Accumulating evaluation results...\n",
      "DONE (t=1.73s).\n",
      "Average Precision  (AP) @[ IoU=0.50:0.95 | area=   all | maxDets=100 ] = 0.219\n",
      "Average Precision  (AP) @[ IoU=0.50      | area=   all | maxDets=1000 ] = 0.349\n",
      "Average Precision  (AP) @[ IoU=0.75      | area=   all | maxDets=1000 ] = 0.225\n",
      "Average Precision  (AP) @[ IoU=0.50:0.95 | area= small | maxDets=1000 ] = 0.055\n",
      "Average Precision  (AP) @[ IoU=0.50:0.95 | area=medium | maxDets=1000 ] = 0.204\n",
      "Average Precision  (AP) @[ IoU=0.50:0.95 | area= large | maxDets=1000 ] = 0.392\n",
      "Average Recall     (AR) @[ IoU=0.50:0.95 | area=   all | maxDets=100 ] = 0.382\n",
      "Average Recall     (AR) @[ IoU=0.50:0.95 | area=   all | maxDets=300 ] = 0.382\n",
      "Average Recall     (AR) @[ IoU=0.50:0.95 | area=   all | maxDets=1000 ] = 0.382\n",
      "Average Recall     (AR) @[ IoU=0.50:0.95 | area= small | maxDets=1000 ] = 0.128\n",
      "Average Recall     (AR) @[ IoU=0.50:0.95 | area=medium | maxDets=1000 ] = 0.349\n",
      "Average Recall     (AR) @[ IoU=0.50:0.95 | area= large | maxDets=1000 ] = 0.600\n"
     ]
    },
    {
     "name": "stderr",
     "output_type": "stream",
     "text": [
      "2021-05-20 04:00:25,139 - mmdet - INFO - Now best checkpoint is epoch_3.pth.Best bbox_mAP_50 is 0.3490\n",
      "2021-05-20 04:00:25,175 - mmdet - INFO - Epoch(val) [3][818]\tbbox_mAP: 0.2190, bbox_mAP_50: 0.3490, bbox_mAP_75: 0.2250, bbox_mAP_s: 0.0550, bbox_mAP_m: 0.2040, bbox_mAP_l: 0.3920, bbox_mAP_copypaste: 0.219 0.349 0.225 0.055 0.204 0.392\n",
      "/home/ubuntu/anaconda3/envs/pytorch_p36/lib/python3.6/site-packages/instaboostfast/pycococreater.py:48: VisibleDeprecationWarning: Creating an ndarray from ragged nested sequences (which is a list-or-tuple of lists-or-tuples-or ndarrays with different lengths or shapes) is deprecated. If you meant to do this, you must specify 'dtype=object' when creating the ndarray\n",
      "  contours = np.subtract(contours, 1)\n",
      "/home/ubuntu/anaconda3/envs/pytorch_p36/lib/python3.6/site-packages/instaboostfast/pycococreater.py:48: VisibleDeprecationWarning: Creating an ndarray from ragged nested sequences (which is a list-or-tuple of lists-or-tuples-or ndarrays with different lengths or shapes) is deprecated. If you meant to do this, you must specify 'dtype=object' when creating the ndarray\n",
      "  contours = np.subtract(contours, 1)\n",
      "2021-05-20 04:01:51,278 - mmdet - INFO - Epoch [4][50/818]\tlr: 8.292e-05, eta: 20:38:28, time: 1.722, data_time: 0.154, memory: 26336, loss_rpn_cls: 0.0462, loss_rpn_bbox: 0.0329, loss_semantic_seg: 0.1487, s0.loss_cls: 0.3184, s0.acc: 90.1426, s0.loss_bbox: 0.1917, s0.loss_mask: 0.2772, s1.loss_cls: 0.1438, s1.acc: 91.2879, s1.loss_bbox: 0.1486, s1.loss_mask: 0.1217, s2.loss_cls: 0.0651, s2.acc: 92.2335, s2.loss_bbox: 0.0715, s2.loss_mask: 0.0536, loss: 1.6194, grad_norm: 9.1014\n",
      "2021-05-20 04:03:14,067 - mmdet - INFO - Epoch [4][100/818]\tlr: 8.458e-05, eta: 20:38:03, time: 1.656, data_time: 0.069, memory: 26336, loss_rpn_cls: 0.0438, loss_rpn_bbox: 0.0306, loss_semantic_seg: 0.1386, s0.loss_cls: 0.3044, s0.acc: 90.8418, s0.loss_bbox: 0.1681, s0.loss_mask: 0.2749, s1.loss_cls: 0.1407, s1.acc: 91.5086, s1.loss_bbox: 0.1321, s1.loss_mask: 0.1202, s2.loss_cls: 0.0640, s2.acc: 92.2001, s2.loss_bbox: 0.0619, s2.loss_mask: 0.0526, loss: 1.5317, grad_norm: 8.4546\n",
      "2021-05-20 04:04:39,836 - mmdet - INFO - Epoch [4][150/818]\tlr: 8.623e-05, eta: 20:38:29, time: 1.715, data_time: 0.075, memory: 26336, loss_rpn_cls: 0.0507, loss_rpn_bbox: 0.0312, loss_semantic_seg: 0.1261, s0.loss_cls: 0.3236, s0.acc: 90.2559, s0.loss_bbox: 0.1792, s0.loss_mask: 0.2724, s1.loss_cls: 0.1493, s1.acc: 90.8580, s1.loss_bbox: 0.1445, s1.loss_mask: 0.1239, s2.loss_cls: 0.0666, s2.acc: 91.7627, s2.loss_bbox: 0.0713, s2.loss_mask: 0.0560, loss: 1.5948, grad_norm: 8.5093\n",
      "2021-05-20 04:06:02,446 - mmdet - INFO - Epoch [4][200/818]\tlr: 8.789e-05, eta: 20:37:56, time: 1.652, data_time: 0.061, memory: 26336, loss_rpn_cls: 0.0354, loss_rpn_bbox: 0.0234, loss_semantic_seg: 0.1222, s0.loss_cls: 0.3069, s0.acc: 90.7715, s0.loss_bbox: 0.1711, s0.loss_mask: 0.2684, s1.loss_cls: 0.1425, s1.acc: 91.2372, s1.loss_bbox: 0.1344, s1.loss_mask: 0.1218, s2.loss_cls: 0.0648, s2.acc: 92.2398, s2.loss_bbox: 0.0643, s2.loss_mask: 0.0530, loss: 1.5081, grad_norm: 9.2293\n",
      "2021-05-20 04:07:24,312 - mmdet - INFO - Epoch [4][250/818]\tlr: 8.955e-05, eta: 20:37:08, time: 1.637, data_time: 0.066, memory: 26336, loss_rpn_cls: 0.0445, loss_rpn_bbox: 0.0272, loss_semantic_seg: 0.1365, s0.loss_cls: 0.2833, s0.acc: 91.4219, s0.loss_bbox: 0.1582, s0.loss_mask: 0.2645, s1.loss_cls: 0.1296, s1.acc: 92.0257, s1.loss_bbox: 0.1231, s1.loss_mask: 0.1177, s2.loss_cls: 0.0602, s2.acc: 92.5781, s2.loss_bbox: 0.0605, s2.loss_mask: 0.0524, loss: 1.4577, grad_norm: 8.6441\n",
      "2021-05-20 04:08:45,327 - mmdet - INFO - Epoch [4][300/818]\tlr: 9.120e-05, eta: 20:36:04, time: 1.620, data_time: 0.072, memory: 26336, loss_rpn_cls: 0.0488, loss_rpn_bbox: 0.0274, loss_semantic_seg: 0.1339, s0.loss_cls: 0.2983, s0.acc: 91.0508, s0.loss_bbox: 0.1570, s0.loss_mask: 0.2420, s1.loss_cls: 0.1389, s1.acc: 91.7029, s1.loss_bbox: 0.1253, s1.loss_mask: 0.1071, s2.loss_cls: 0.0642, s2.acc: 92.5811, s2.loss_bbox: 0.0627, s2.loss_mask: 0.0495, loss: 1.4550, grad_norm: 8.4510\n",
      "2021-05-20 04:10:10,811 - mmdet - INFO - Epoch [4][350/818]\tlr: 9.286e-05, eta: 20:36:14, time: 1.710, data_time: 0.081, memory: 26336, loss_rpn_cls: 0.0582, loss_rpn_bbox: 0.0315, loss_semantic_seg: 0.1233, s0.loss_cls: 0.3235, s0.acc: 90.0508, s0.loss_bbox: 0.1834, s0.loss_mask: 0.2838, s1.loss_cls: 0.1517, s1.acc: 90.5077, s1.loss_bbox: 0.1427, s1.loss_mask: 0.1282, s2.loss_cls: 0.0683, s2.acc: 91.5876, s2.loss_bbox: 0.0695, s2.loss_mask: 0.0588, loss: 1.6230, grad_norm: 9.1941\n",
      "2021-05-20 04:11:30,639 - mmdet - INFO - Epoch [4][400/818]\tlr: 9.452e-05, eta: 20:34:49, time: 1.597, data_time: 0.063, memory: 26336, loss_rpn_cls: 0.0444, loss_rpn_bbox: 0.0292, loss_semantic_seg: 0.1358, s0.loss_cls: 0.3122, s0.acc: 90.6494, s0.loss_bbox: 0.1686, s0.loss_mask: 0.2620, s1.loss_cls: 0.1446, s1.acc: 91.2644, s1.loss_bbox: 0.1341, s1.loss_mask: 0.1178, s2.loss_cls: 0.0663, s2.acc: 91.8839, s2.loss_bbox: 0.0676, s2.loss_mask: 0.0529, loss: 1.5356, grad_norm: 8.3484\n",
      "2021-05-20 04:12:55,020 - mmdet - INFO - Epoch [4][450/818]\tlr: 9.617e-05, eta: 20:34:36, time: 1.688, data_time: 0.071, memory: 26336, loss_rpn_cls: 0.0485, loss_rpn_bbox: 0.0305, loss_semantic_seg: 0.1382, s0.loss_cls: 0.3242, s0.acc: 90.5430, s0.loss_bbox: 0.1722, s0.loss_mask: 0.2690, s1.loss_cls: 0.1475, s1.acc: 91.2445, s1.loss_bbox: 0.1381, s1.loss_mask: 0.1216, s2.loss_cls: 0.0669, s2.acc: 91.9525, s2.loss_bbox: 0.0687, s2.loss_mask: 0.0541, loss: 1.5795, grad_norm: 8.7600\n",
      "2021-05-20 04:14:17,776 - mmdet - INFO - Epoch [4][500/818]\tlr: 9.783e-05, eta: 20:33:56, time: 1.655, data_time: 0.068, memory: 26336, loss_rpn_cls: 0.0380, loss_rpn_bbox: 0.0260, loss_semantic_seg: 0.1251, s0.loss_cls: 0.3100, s0.acc: 90.6211, s0.loss_bbox: 0.1743, s0.loss_mask: 0.2667, s1.loss_cls: 0.1386, s1.acc: 91.5665, s1.loss_bbox: 0.1353, s1.loss_mask: 0.1179, s2.loss_cls: 0.0623, s2.acc: 92.4220, s2.loss_bbox: 0.0690, s2.loss_mask: 0.0522, loss: 1.5154, grad_norm: 8.2595\n",
      "2021-05-20 04:15:43,364 - mmdet - INFO - Epoch [4][550/818]\tlr: 9.938e-05, eta: 20:33:57, time: 1.712, data_time: 0.077, memory: 26336, loss_rpn_cls: 0.0452, loss_rpn_bbox: 0.0305, loss_semantic_seg: 0.1323, s0.loss_cls: 0.3178, s0.acc: 90.0928, s0.loss_bbox: 0.1818, s0.loss_mask: 0.2716, s1.loss_cls: 0.1455, s1.acc: 91.0594, s1.loss_bbox: 0.1444, s1.loss_mask: 0.1226, s2.loss_cls: 0.0658, s2.acc: 91.9972, s2.loss_bbox: 0.0706, s2.loss_mask: 0.0536, loss: 1.5818, grad_norm: 8.5962\n",
      "2021-05-20 04:17:08,434 - mmdet - INFO - Epoch [4][600/818]\tlr: 9.938e-05, eta: 20:33:48, time: 1.701, data_time: 0.068, memory: 26336, loss_rpn_cls: 0.0430, loss_rpn_bbox: 0.0286, loss_semantic_seg: 0.1201, s0.loss_cls: 0.2966, s0.acc: 90.9043, s0.loss_bbox: 0.1609, s0.loss_mask: 0.2683, s1.loss_cls: 0.1366, s1.acc: 91.7393, s1.loss_bbox: 0.1283, s1.loss_mask: 0.1204, s2.loss_cls: 0.0623, s2.acc: 92.4601, s2.loss_bbox: 0.0623, s2.loss_mask: 0.0538, loss: 1.4812, grad_norm: 8.1257\n",
      "2021-05-20 04:18:32,880 - mmdet - INFO - Epoch [4][650/818]\tlr: 9.938e-05, eta: 20:33:27, time: 1.689, data_time: 0.067, memory: 26336, loss_rpn_cls: 0.0433, loss_rpn_bbox: 0.0305, loss_semantic_seg: 0.1352, s0.loss_cls: 0.2934, s0.acc: 91.2686, s0.loss_bbox: 0.1608, s0.loss_mask: 0.2641, s1.loss_cls: 0.1339, s1.acc: 91.9669, s1.loss_bbox: 0.1263, s1.loss_mask: 0.1178, s2.loss_cls: 0.0598, s2.acc: 92.8303, s2.loss_bbox: 0.0645, s2.loss_mask: 0.0535, loss: 1.4830, grad_norm: 8.5106\n",
      "2021-05-20 04:19:53,733 - mmdet - INFO - Epoch [4][700/818]\tlr: 9.938e-05, eta: 20:32:12, time: 1.617, data_time: 0.057, memory: 26336, loss_rpn_cls: 0.0419, loss_rpn_bbox: 0.0285, loss_semantic_seg: 0.1197, s0.loss_cls: 0.2860, s0.acc: 91.1855, s0.loss_bbox: 0.1569, s0.loss_mask: 0.2596, s1.loss_cls: 0.1323, s1.acc: 91.8484, s1.loss_bbox: 0.1285, s1.loss_mask: 0.1148, s2.loss_cls: 0.0605, s2.acc: 92.6330, s2.loss_bbox: 0.0682, s2.loss_mask: 0.0525, loss: 1.4493, grad_norm: 8.2100\n",
      "2021-05-20 04:21:15,362 - mmdet - INFO - Epoch [4][750/818]\tlr: 9.938e-05, eta: 20:31:08, time: 1.633, data_time: 0.074, memory: 26367, loss_rpn_cls: 0.0432, loss_rpn_bbox: 0.0256, loss_semantic_seg: 0.1387, s0.loss_cls: 0.2987, s0.acc: 91.4424, s0.loss_bbox: 0.1499, s0.loss_mask: 0.2643, s1.loss_cls: 0.1364, s1.acc: 92.0401, s1.loss_bbox: 0.1204, s1.loss_mask: 0.1179, s2.loss_cls: 0.0617, s2.acc: 92.8715, s2.loss_bbox: 0.0629, s2.loss_mask: 0.0523, loss: 1.4720, grad_norm: 7.7760\n"
     ]
    },
    {
     "name": "stderr",
     "output_type": "stream",
     "text": [
      "2021-05-20 04:22:39,103 - mmdet - INFO - Epoch [4][800/818]\tlr: 9.938e-05, eta: 20:30:33, time: 1.675, data_time: 0.071, memory: 26367, loss_rpn_cls: 0.0394, loss_rpn_bbox: 0.0305, loss_semantic_seg: 0.1323, s0.loss_cls: 0.3047, s0.acc: 90.9531, s0.loss_bbox: 0.1683, s0.loss_mask: 0.2408, s1.loss_cls: 0.1355, s1.acc: 91.9617, s1.loss_bbox: 0.1328, s1.loss_mask: 0.1055, s2.loss_cls: 0.0613, s2.acc: 92.6917, s2.loss_bbox: 0.0678, s2.loss_mask: 0.0454, loss: 1.4641, grad_norm: 8.1691\n",
      "2021-05-20 04:23:08,935 - mmdet - INFO - Saving checkpoint at 4 epochs\n"
     ]
    },
    {
     "name": "stdout",
     "output_type": "stream",
     "text": [
      "[>>>>>>>>>>>>>>>>>>>>>>>>>>>>>] 655/655, 3.6 task/s, elapsed: 183s, ETA:     0s"
     ]
    },
    {
     "name": "stderr",
     "output_type": "stream",
     "text": [
      "2021-05-20 04:26:18,849 - mmdet - INFO - Evaluating bbox...\n"
     ]
    },
    {
     "name": "stdout",
     "output_type": "stream",
     "text": [
      "Loading and preparing results...\n",
      "DONE (t=1.28s)\n",
      "creating index...\n",
      "index created!\n",
      "Running per image evaluation...\n",
      "Evaluate annotation type *bbox*\n",
      "DONE (t=7.98s).\n",
      "Accumulating evaluation results...\n"
     ]
    },
    {
     "name": "stderr",
     "output_type": "stream",
     "text": [
      "2021-05-20 04:26:29,998 - mmdet - INFO - Epoch(val) [4][818]\tbbox_mAP: 0.2190, bbox_mAP_50: 0.3430, bbox_mAP_75: 0.2330, bbox_mAP_s: 0.0660, bbox_mAP_m: 0.2240, bbox_mAP_l: 0.3880, bbox_mAP_copypaste: 0.219 0.343 0.233 0.066 0.224 0.388\n"
     ]
    },
    {
     "name": "stdout",
     "output_type": "stream",
     "text": [
      "DONE (t=1.72s).\n",
      "Average Precision  (AP) @[ IoU=0.50:0.95 | area=   all | maxDets=100 ] = 0.219\n",
      "Average Precision  (AP) @[ IoU=0.50      | area=   all | maxDets=1000 ] = 0.343\n",
      "Average Precision  (AP) @[ IoU=0.75      | area=   all | maxDets=1000 ] = 0.233\n",
      "Average Precision  (AP) @[ IoU=0.50:0.95 | area= small | maxDets=1000 ] = 0.066\n",
      "Average Precision  (AP) @[ IoU=0.50:0.95 | area=medium | maxDets=1000 ] = 0.224\n",
      "Average Precision  (AP) @[ IoU=0.50:0.95 | area= large | maxDets=1000 ] = 0.388\n",
      "Average Recall     (AR) @[ IoU=0.50:0.95 | area=   all | maxDets=100 ] = 0.404\n",
      "Average Recall     (AR) @[ IoU=0.50:0.95 | area=   all | maxDets=300 ] = 0.404\n",
      "Average Recall     (AR) @[ IoU=0.50:0.95 | area=   all | maxDets=1000 ] = 0.404\n",
      "Average Recall     (AR) @[ IoU=0.50:0.95 | area= small | maxDets=1000 ] = 0.131\n",
      "Average Recall     (AR) @[ IoU=0.50:0.95 | area=medium | maxDets=1000 ] = 0.393\n",
      "Average Recall     (AR) @[ IoU=0.50:0.95 | area= large | maxDets=1000 ] = 0.675\n"
     ]
    },
    {
     "name": "stderr",
     "output_type": "stream",
     "text": [
      "/home/ubuntu/anaconda3/envs/pytorch_p36/lib/python3.6/site-packages/instaboostfast/pycococreater.py:48: VisibleDeprecationWarning: Creating an ndarray from ragged nested sequences (which is a list-or-tuple of lists-or-tuples-or ndarrays with different lengths or shapes) is deprecated. If you meant to do this, you must specify 'dtype=object' when creating the ndarray\n",
      "  contours = np.subtract(contours, 1)\n",
      "/home/ubuntu/anaconda3/envs/pytorch_p36/lib/python3.6/site-packages/instaboostfast/pycococreater.py:48: VisibleDeprecationWarning: Creating an ndarray from ragged nested sequences (which is a list-or-tuple of lists-or-tuples-or ndarrays with different lengths or shapes) is deprecated. If you meant to do this, you must specify 'dtype=object' when creating the ndarray\n",
      "  contours = np.subtract(contours, 1)\n",
      "2021-05-20 04:27:53,273 - mmdet - INFO - Epoch [5][50/818]\tlr: 9.891e-05, eta: 20:22:41, time: 1.665, data_time: 0.142, memory: 26367, loss_rpn_cls: 0.0384, loss_rpn_bbox: 0.0256, loss_semantic_seg: 0.1388, s0.loss_cls: 0.2894, s0.acc: 91.1299, s0.loss_bbox: 0.1547, s0.loss_mask: 0.2603, s1.loss_cls: 0.1357, s1.acc: 91.5030, s1.loss_bbox: 0.1260, s1.loss_mask: 0.1155, s2.loss_cls: 0.0632, s2.acc: 92.1629, s2.loss_bbox: 0.0645, s2.loss_mask: 0.0505, loss: 1.4625, grad_norm: 8.1409\n",
      "2021-05-20 04:29:15,668 - mmdet - INFO - Epoch [5][100/818]\tlr: 9.891e-05, eta: 20:21:51, time: 1.648, data_time: 0.078, memory: 26367, loss_rpn_cls: 0.0565, loss_rpn_bbox: 0.0366, loss_semantic_seg: 0.1177, s0.loss_cls: 0.3125, s0.acc: 90.4268, s0.loss_bbox: 0.1775, s0.loss_mask: 0.2909, s1.loss_cls: 0.1401, s1.acc: 91.2931, s1.loss_bbox: 0.1355, s1.loss_mask: 0.1307, s2.loss_cls: 0.0635, s2.acc: 92.1017, s2.loss_bbox: 0.0665, s2.loss_mask: 0.0578, loss: 1.5858, grad_norm: 7.6848\n",
      "2021-05-20 04:30:41,028 - mmdet - INFO - Epoch [5][150/818]\tlr: 9.891e-05, eta: 20:21:40, time: 1.707, data_time: 0.105, memory: 26367, loss_rpn_cls: 0.0546, loss_rpn_bbox: 0.0347, loss_semantic_seg: 0.1364, s0.loss_cls: 0.3262, s0.acc: 90.2051, s0.loss_bbox: 0.1755, s0.loss_mask: 0.2747, s1.loss_cls: 0.1486, s1.acc: 91.0989, s1.loss_bbox: 0.1384, s1.loss_mask: 0.1250, s2.loss_cls: 0.0666, s2.acc: 91.9996, s2.loss_bbox: 0.0692, s2.loss_mask: 0.0563, loss: 1.6062, grad_norm: 8.1344\n",
      "2021-05-20 04:32:04,380 - mmdet - INFO - Epoch [5][200/818]\tlr: 9.891e-05, eta: 20:21:00, time: 1.667, data_time: 0.072, memory: 26367, loss_rpn_cls: 0.0446, loss_rpn_bbox: 0.0311, loss_semantic_seg: 0.1331, s0.loss_cls: 0.3077, s0.acc: 90.7090, s0.loss_bbox: 0.1753, s0.loss_mask: 0.2600, s1.loss_cls: 0.1403, s1.acc: 91.6288, s1.loss_bbox: 0.1415, s1.loss_mask: 0.1167, s2.loss_cls: 0.0640, s2.acc: 92.4935, s2.loss_bbox: 0.0725, s2.loss_mask: 0.0505, loss: 1.5373, grad_norm: 8.5948\n",
      "2021-05-20 04:33:26,270 - mmdet - INFO - Epoch [5][250/818]\tlr: 9.891e-05, eta: 20:20:00, time: 1.638, data_time: 0.060, memory: 26367, loss_rpn_cls: 0.0416, loss_rpn_bbox: 0.0280, loss_semantic_seg: 0.1160, s0.loss_cls: 0.2935, s0.acc: 91.0479, s0.loss_bbox: 0.1617, s0.loss_mask: 0.2511, s1.loss_cls: 0.1347, s1.acc: 91.7729, s1.loss_bbox: 0.1349, s1.loss_mask: 0.1125, s2.loss_cls: 0.0618, s2.acc: 92.4554, s2.loss_bbox: 0.0701, s2.loss_mask: 0.0505, loss: 1.4564, grad_norm: 7.8004\n",
      "2021-05-20 04:34:49,937 - mmdet - INFO - Epoch [5][300/818]\tlr: 9.891e-05, eta: 20:19:22, time: 1.673, data_time: 0.083, memory: 26367, loss_rpn_cls: 0.0387, loss_rpn_bbox: 0.0279, loss_semantic_seg: 0.1272, s0.loss_cls: 0.2862, s0.acc: 91.2607, s0.loss_bbox: 0.1552, s0.loss_mask: 0.2644, s1.loss_cls: 0.1346, s1.acc: 91.6570, s1.loss_bbox: 0.1308, s1.loss_mask: 0.1208, s2.loss_cls: 0.0623, s2.acc: 92.3944, s2.loss_bbox: 0.0695, s2.loss_mask: 0.0561, loss: 1.4737, grad_norm: 8.1672\n",
      "2021-05-20 04:36:11,604 - mmdet - INFO - Epoch [5][350/818]\tlr: 9.891e-05, eta: 20:18:18, time: 1.633, data_time: 0.061, memory: 26367, loss_rpn_cls: 0.0443, loss_rpn_bbox: 0.0291, loss_semantic_seg: 0.1278, s0.loss_cls: 0.3220, s0.acc: 90.3379, s0.loss_bbox: 0.1658, s0.loss_mask: 0.2632, s1.loss_cls: 0.1465, s1.acc: 91.1569, s1.loss_bbox: 0.1345, s1.loss_mask: 0.1177, s2.loss_cls: 0.0669, s2.acc: 91.8337, s2.loss_bbox: 0.0672, s2.loss_mask: 0.0517, loss: 1.5367, grad_norm: 8.0931\n",
      "2021-05-20 04:37:32,653 - mmdet - INFO - Epoch [5][400/818]\tlr: 9.891e-05, eta: 20:17:06, time: 1.621, data_time: 0.051, memory: 26367, loss_rpn_cls: 0.0402, loss_rpn_bbox: 0.0260, loss_semantic_seg: 0.1260, s0.loss_cls: 0.2755, s0.acc: 91.7412, s0.loss_bbox: 0.1560, s0.loss_mask: 0.2702, s1.loss_cls: 0.1271, s1.acc: 92.2638, s1.loss_bbox: 0.1258, s1.loss_mask: 0.1204, s2.loss_cls: 0.0577, s2.acc: 92.8604, s2.loss_bbox: 0.0604, s2.loss_mask: 0.0498, loss: 1.4351, grad_norm: 7.9328\n",
      "2021-05-20 04:38:57,040 - mmdet - INFO - Epoch [5][450/818]\tlr: 9.891e-05, eta: 20:16:34, time: 1.688, data_time: 0.087, memory: 26367, loss_rpn_cls: 0.0441, loss_rpn_bbox: 0.0343, loss_semantic_seg: 0.1340, s0.loss_cls: 0.3412, s0.acc: 89.6152, s0.loss_bbox: 0.1782, s0.loss_mask: 0.2708, s1.loss_cls: 0.1576, s1.acc: 90.3708, s1.loss_bbox: 0.1433, s1.loss_mask: 0.1209, s2.loss_cls: 0.0711, s2.acc: 91.4278, s2.loss_bbox: 0.0697, s2.loss_mask: 0.0533, loss: 1.6185, grad_norm: 7.7987\n",
      "2021-05-20 04:40:20,996 - mmdet - INFO - Epoch [5][500/818]\tlr: 9.891e-05, eta: 20:15:55, time: 1.679, data_time: 0.076, memory: 26367, loss_rpn_cls: 0.0429, loss_rpn_bbox: 0.0310, loss_semantic_seg: 0.1219, s0.loss_cls: 0.3099, s0.acc: 90.3447, s0.loss_bbox: 0.1747, s0.loss_mask: 0.2552, s1.loss_cls: 0.1447, s1.acc: 91.0281, s1.loss_bbox: 0.1399, s1.loss_mask: 0.1147, s2.loss_cls: 0.0676, s2.acc: 91.7540, s2.loss_bbox: 0.0701, s2.loss_mask: 0.0515, loss: 1.5241, grad_norm: 8.2115\n",
      "2021-05-20 04:41:43,868 - mmdet - INFO - Epoch [5][550/818]\tlr: 9.891e-05, eta: 20:15:02, time: 1.657, data_time: 0.060, memory: 26367, loss_rpn_cls: 0.0424, loss_rpn_bbox: 0.0267, loss_semantic_seg: 0.1289, s0.loss_cls: 0.2814, s0.acc: 91.4268, s0.loss_bbox: 0.1479, s0.loss_mask: 0.2602, s1.loss_cls: 0.1308, s1.acc: 91.9509, s1.loss_bbox: 0.1198, s1.loss_mask: 0.1152, s2.loss_cls: 0.0599, s2.acc: 92.4837, s2.loss_bbox: 0.0624, s2.loss_mask: 0.0503, loss: 1.4258, grad_norm: 7.7777\n",
      "2021-05-20 04:43:07,705 - mmdet - INFO - Epoch [5][600/818]\tlr: 9.891e-05, eta: 20:14:20, time: 1.677, data_time: 0.060, memory: 26367, loss_rpn_cls: 0.0459, loss_rpn_bbox: 0.0301, loss_semantic_seg: 0.1228, s0.loss_cls: 0.2960, s0.acc: 91.0996, s0.loss_bbox: 0.1601, s0.loss_mask: 0.2644, s1.loss_cls: 0.1340, s1.acc: 91.8156, s1.loss_bbox: 0.1313, s1.loss_mask: 0.1185, s2.loss_cls: 0.0625, s2.acc: 92.5365, s2.loss_bbox: 0.0655, s2.loss_mask: 0.0528, loss: 1.4840, grad_norm: 7.5120\n",
      "2021-05-20 04:44:31,206 - mmdet - INFO - Epoch [5][650/818]\tlr: 9.891e-05, eta: 20:13:33, time: 1.670, data_time: 0.070, memory: 26367, loss_rpn_cls: 0.0438, loss_rpn_bbox: 0.0307, loss_semantic_seg: 0.1245, s0.loss_cls: 0.2905, s0.acc: 91.0234, s0.loss_bbox: 0.1694, s0.loss_mask: 0.2629, s1.loss_cls: 0.1341, s1.acc: 91.8119, s1.loss_bbox: 0.1365, s1.loss_mask: 0.1174, s2.loss_cls: 0.0620, s2.acc: 92.4756, s2.loss_bbox: 0.0686, s2.loss_mask: 0.0535, loss: 1.4937, grad_norm: 7.7752\n",
      "2021-05-20 04:45:51,942 - mmdet - INFO - Epoch [5][700/818]\tlr: 9.891e-05, eta: 20:12:14, time: 1.615, data_time: 0.064, memory: 26367, loss_rpn_cls: 0.0424, loss_rpn_bbox: 0.0305, loss_semantic_seg: 0.1337, s0.loss_cls: 0.3369, s0.acc: 89.9512, s0.loss_bbox: 0.1713, s0.loss_mask: 0.2770, s1.loss_cls: 0.1589, s1.acc: 90.7097, s1.loss_bbox: 0.1450, s1.loss_mask: 0.1251, s2.loss_cls: 0.0719, s2.acc: 91.5301, s2.loss_bbox: 0.0736, s2.loss_mask: 0.0566, loss: 1.6229, grad_norm: 7.8522\n",
      "2021-05-20 04:47:15,796 - mmdet - INFO - Epoch [5][750/818]\tlr: 9.891e-05, eta: 20:11:30, time: 1.677, data_time: 0.079, memory: 26367, loss_rpn_cls: 0.0430, loss_rpn_bbox: 0.0284, loss_semantic_seg: 0.1283, s0.loss_cls: 0.2784, s0.acc: 91.2637, s0.loss_bbox: 0.1480, s0.loss_mask: 0.2501, s1.loss_cls: 0.1325, s1.acc: 91.6689, s1.loss_bbox: 0.1216, s1.loss_mask: 0.1106, s2.loss_cls: 0.0603, s2.acc: 92.4010, s2.loss_bbox: 0.0609, s2.loss_mask: 0.0495, loss: 1.4116, grad_norm: 7.0514\n",
      "2021-05-20 04:48:39,228 - mmdet - INFO - Epoch [5][800/818]\tlr: 9.891e-05, eta: 20:10:40, time: 1.669, data_time: 0.074, memory: 26367, loss_rpn_cls: 0.0347, loss_rpn_bbox: 0.0260, loss_semantic_seg: 0.1251, s0.loss_cls: 0.2843, s0.acc: 91.4932, s0.loss_bbox: 0.1412, s0.loss_mask: 0.2594, s1.loss_cls: 0.1346, s1.acc: 92.0061, s1.loss_bbox: 0.1160, s1.loss_mask: 0.1149, s2.loss_cls: 0.0617, s2.acc: 92.4021, s2.loss_bbox: 0.0610, s2.loss_mask: 0.0525, loss: 1.4113, grad_norm: 7.1995\n"
     ]
    },
    {
     "name": "stderr",
     "output_type": "stream",
     "text": [
      "2021-05-20 04:49:09,594 - mmdet - INFO - Saving checkpoint at 5 epochs\n"
     ]
    },
    {
     "name": "stdout",
     "output_type": "stream",
     "text": [
      "[>>>>>>>>>>>>>>>>>>>>>>>>>>>>>] 655/655, 3.5 task/s, elapsed: 187s, ETA:     0s"
     ]
    },
    {
     "name": "stderr",
     "output_type": "stream",
     "text": [
      "2021-05-20 04:52:24,317 - mmdet - INFO - Evaluating bbox...\n"
     ]
    },
    {
     "name": "stdout",
     "output_type": "stream",
     "text": [
      "Loading and preparing results...\n",
      "DONE (t=1.36s)\n",
      "creating index...\n",
      "index created!\n",
      "Running per image evaluation...\n",
      "Evaluate annotation type *bbox*\n",
      "DONE (t=8.06s).\n",
      "Accumulating evaluation results...\n",
      "DONE (t=1.71s).\n",
      "Average Precision  (AP) @[ IoU=0.50:0.95 | area=   all | maxDets=100 ] = 0.253\n",
      "Average Precision  (AP) @[ IoU=0.50      | area=   all | maxDets=1000 ] = 0.400\n",
      "Average Precision  (AP) @[ IoU=0.75      | area=   all | maxDets=1000 ] = 0.266\n",
      "Average Precision  (AP) @[ IoU=0.50:0.95 | area= small | maxDets=1000 ] = 0.067\n",
      "Average Precision  (AP) @[ IoU=0.50:0.95 | area=medium | maxDets=1000 ] = 0.223\n",
      "Average Precision  (AP) @[ IoU=0.50:0.95 | area= large | maxDets=1000 ] = 0.445\n",
      "Average Recall     (AR) @[ IoU=0.50:0.95 | area=   all | maxDets=100 ] = 0.396\n",
      "Average Recall     (AR) @[ IoU=0.50:0.95 | area=   all | maxDets=300 ] = 0.396\n",
      "Average Recall     (AR) @[ IoU=0.50:0.95 | area=   all | maxDets=1000 ] = 0.396\n",
      "Average Recall     (AR) @[ IoU=0.50:0.95 | area= small | maxDets=1000 ] = 0.137\n",
      "Average Recall     (AR) @[ IoU=0.50:0.95 | area=medium | maxDets=1000 ] = 0.367\n",
      "Average Recall     (AR) @[ IoU=0.50:0.95 | area= large | maxDets=1000 ] = 0.618\n"
     ]
    },
    {
     "name": "stderr",
     "output_type": "stream",
     "text": [
      "2021-05-20 04:52:38,989 - mmdet - INFO - Now best checkpoint is epoch_5.pth.Best bbox_mAP_50 is 0.4000\n",
      "2021-05-20 04:52:39,025 - mmdet - INFO - Epoch(val) [5][818]\tbbox_mAP: 0.2530, bbox_mAP_50: 0.4000, bbox_mAP_75: 0.2660, bbox_mAP_s: 0.0670, bbox_mAP_m: 0.2230, bbox_mAP_l: 0.4450, bbox_mAP_copypaste: 0.253 0.400 0.266 0.067 0.223 0.445\n",
      "/home/ubuntu/anaconda3/envs/pytorch_p36/lib/python3.6/site-packages/instaboostfast/pycococreater.py:48: VisibleDeprecationWarning: Creating an ndarray from ragged nested sequences (which is a list-or-tuple of lists-or-tuples-or ndarrays with different lengths or shapes) is deprecated. If you meant to do this, you must specify 'dtype=object' when creating the ndarray\n",
      "  contours = np.subtract(contours, 1)\n",
      "/home/ubuntu/anaconda3/envs/pytorch_p36/lib/python3.6/site-packages/instaboostfast/pycococreater.py:48: VisibleDeprecationWarning: Creating an ndarray from ragged nested sequences (which is a list-or-tuple of lists-or-tuples-or ndarrays with different lengths or shapes) is deprecated. If you meant to do this, you must specify 'dtype=object' when creating the ndarray\n",
      "  contours = np.subtract(contours, 1)\n",
      "2021-05-20 04:54:05,438 - mmdet - INFO - Epoch [6][50/818]\tlr: 9.830e-05, eta: 20:04:36, time: 1.728, data_time: 0.163, memory: 26367, loss_rpn_cls: 0.0372, loss_rpn_bbox: 0.0263, loss_semantic_seg: 0.1354, s0.loss_cls: 0.2724, s0.acc: 91.7930, s0.loss_bbox: 0.1467, s0.loss_mask: 0.2480, s1.loss_cls: 0.1231, s1.acc: 92.4034, s1.loss_bbox: 0.1173, s1.loss_mask: 0.1072, s2.loss_cls: 0.0571, s2.acc: 92.9306, s2.loss_bbox: 0.0613, s2.loss_mask: 0.0476, loss: 1.3796, grad_norm: 8.0016\n",
      "2021-05-20 04:55:29,355 - mmdet - INFO - Epoch [6][100/818]\tlr: 9.830e-05, eta: 20:03:53, time: 1.678, data_time: 0.072, memory: 26469, loss_rpn_cls: 0.0432, loss_rpn_bbox: 0.0294, loss_semantic_seg: 0.1156, s0.loss_cls: 0.2990, s0.acc: 90.7881, s0.loss_bbox: 0.1621, s0.loss_mask: 0.2354, s1.loss_cls: 0.1384, s1.acc: 91.4646, s1.loss_bbox: 0.1323, s1.loss_mask: 0.1053, s2.loss_cls: 0.0630, s2.acc: 92.1055, s2.loss_bbox: 0.0688, s2.loss_mask: 0.0469, loss: 1.4393, grad_norm: 8.1390\n",
      "2021-05-20 04:56:53,210 - mmdet - INFO - Epoch [6][150/818]\tlr: 9.830e-05, eta: 20:03:09, time: 1.677, data_time: 0.069, memory: 26469, loss_rpn_cls: 0.0402, loss_rpn_bbox: 0.0243, loss_semantic_seg: 0.1348, s0.loss_cls: 0.2746, s0.acc: 91.7061, s0.loss_bbox: 0.1401, s0.loss_mask: 0.2533, s1.loss_cls: 0.1288, s1.acc: 92.2456, s1.loss_bbox: 0.1218, s1.loss_mask: 0.1144, s2.loss_cls: 0.0613, s2.acc: 92.7278, s2.loss_bbox: 0.0649, s2.loss_mask: 0.0505, loss: 1.4089, grad_norm: 7.8317\n",
      "2021-05-20 04:58:15,510 - mmdet - INFO - Epoch [6][200/818]\tlr: 9.830e-05, eta: 20:02:07, time: 1.646, data_time: 0.064, memory: 26469, loss_rpn_cls: 0.0419, loss_rpn_bbox: 0.0256, loss_semantic_seg: 0.1241, s0.loss_cls: 0.2809, s0.acc: 91.6602, s0.loss_bbox: 0.1534, s0.loss_mask: 0.2595, s1.loss_cls: 0.1310, s1.acc: 92.1208, s1.loss_bbox: 0.1216, s1.loss_mask: 0.1144, s2.loss_cls: 0.0600, s2.acc: 92.6462, s2.loss_bbox: 0.0609, s2.loss_mask: 0.0511, loss: 1.4244, grad_norm: 7.0756\n",
      "2021-05-20 04:59:37,804 - mmdet - INFO - Epoch [6][250/818]\tlr: 9.830e-05, eta: 20:01:05, time: 1.646, data_time: 0.072, memory: 26469, loss_rpn_cls: 0.0410, loss_rpn_bbox: 0.0291, loss_semantic_seg: 0.1223, s0.loss_cls: 0.2923, s0.acc: 90.7979, s0.loss_bbox: 0.1630, s0.loss_mask: 0.2682, s1.loss_cls: 0.1347, s1.acc: 91.6190, s1.loss_bbox: 0.1324, s1.loss_mask: 0.1201, s2.loss_cls: 0.0618, s2.acc: 92.3240, s2.loss_bbox: 0.0688, s2.loss_mask: 0.0527, loss: 1.4864, grad_norm: 7.5634\n",
      "2021-05-20 05:01:00,915 - mmdet - INFO - Epoch [6][300/818]\tlr: 9.830e-05, eta: 20:00:11, time: 1.662, data_time: 0.064, memory: 26469, loss_rpn_cls: 0.0435, loss_rpn_bbox: 0.0281, loss_semantic_seg: 0.1408, s0.loss_cls: 0.2974, s0.acc: 91.0312, s0.loss_bbox: 0.1556, s0.loss_mask: 0.2586, s1.loss_cls: 0.1352, s1.acc: 91.6884, s1.loss_bbox: 0.1250, s1.loss_mask: 0.1157, s2.loss_cls: 0.0645, s2.acc: 92.0241, s2.loss_bbox: 0.0662, s2.loss_mask: 0.0512, loss: 1.4817, grad_norm: 7.8170\n",
      "2021-05-20 05:02:22,767 - mmdet - INFO - Epoch [6][350/818]\tlr: 9.830e-05, eta: 19:59:03, time: 1.637, data_time: 0.060, memory: 26469, loss_rpn_cls: 0.0440, loss_rpn_bbox: 0.0320, loss_semantic_seg: 0.1250, s0.loss_cls: 0.2991, s0.acc: 91.0605, s0.loss_bbox: 0.1518, s0.loss_mask: 0.2607, s1.loss_cls: 0.1374, s1.acc: 91.6726, s1.loss_bbox: 0.1192, s1.loss_mask: 0.1149, s2.loss_cls: 0.0625, s2.acc: 92.4531, s2.loss_bbox: 0.0595, s2.loss_mask: 0.0512, loss: 1.4573, grad_norm: 7.3537\n",
      "2021-05-20 05:03:45,756 - mmdet - INFO - Epoch [6][400/818]\tlr: 9.830e-05, eta: 19:58:06, time: 1.660, data_time: 0.073, memory: 26469, loss_rpn_cls: 0.0369, loss_rpn_bbox: 0.0276, loss_semantic_seg: 0.1103, s0.loss_cls: 0.3004, s0.acc: 90.6992, s0.loss_bbox: 0.1613, s0.loss_mask: 0.2610, s1.loss_cls: 0.1374, s1.acc: 91.5268, s1.loss_bbox: 0.1296, s1.loss_mask: 0.1160, s2.loss_cls: 0.0636, s2.acc: 91.9805, s2.loss_bbox: 0.0678, s2.loss_mask: 0.0510, loss: 1.4628, grad_norm: 6.9291\n",
      "2021-05-20 05:05:09,077 - mmdet - INFO - Epoch [6][450/818]\tlr: 9.830e-05, eta: 19:57:12, time: 1.666, data_time: 0.065, memory: 26469, loss_rpn_cls: 0.0436, loss_rpn_bbox: 0.0274, loss_semantic_seg: 0.1151, s0.loss_cls: 0.2825, s0.acc: 91.2734, s0.loss_bbox: 0.1530, s0.loss_mask: 0.2447, s1.loss_cls: 0.1286, s1.acc: 92.0852, s1.loss_bbox: 0.1268, s1.loss_mask: 0.1072, s2.loss_cls: 0.0592, s2.acc: 92.6461, s2.loss_bbox: 0.0672, s2.loss_mask: 0.0467, loss: 1.4019, grad_norm: 6.9831\n",
      "2021-05-20 05:06:33,606 - mmdet - INFO - Epoch [6][500/818]\tlr: 9.830e-05, eta: 19:56:29, time: 1.691, data_time: 0.083, memory: 26469, loss_rpn_cls: 0.0431, loss_rpn_bbox: 0.0301, loss_semantic_seg: 0.1077, s0.loss_cls: 0.2809, s0.acc: 91.1006, s0.loss_bbox: 0.1552, s0.loss_mask: 0.2568, s1.loss_cls: 0.1313, s1.acc: 91.7838, s1.loss_bbox: 0.1259, s1.loss_mask: 0.1148, s2.loss_cls: 0.0596, s2.acc: 92.6667, s2.loss_bbox: 0.0624, s2.loss_mask: 0.0518, loss: 1.4197, grad_norm: 7.1609\n",
      "2021-05-20 05:07:56,710 - mmdet - INFO - Epoch [6][550/818]\tlr: 9.830e-05, eta: 19:55:32, time: 1.662, data_time: 0.073, memory: 26469, loss_rpn_cls: 0.0405, loss_rpn_bbox: 0.0269, loss_semantic_seg: 0.1211, s0.loss_cls: 0.2796, s0.acc: 91.3496, s0.loss_bbox: 0.1489, s0.loss_mask: 0.2365, s1.loss_cls: 0.1315, s1.acc: 91.8477, s1.loss_bbox: 0.1247, s1.loss_mask: 0.1024, s2.loss_cls: 0.0607, s2.acc: 92.3133, s2.loss_bbox: 0.0619, s2.loss_mask: 0.0445, loss: 1.3791, grad_norm: 6.7841\n",
      "2021-05-20 05:09:19,787 - mmdet - INFO - Epoch [6][600/818]\tlr: 9.830e-05, eta: 19:54:34, time: 1.661, data_time: 0.075, memory: 26469, loss_rpn_cls: 0.0498, loss_rpn_bbox: 0.0347, loss_semantic_seg: 0.1222, s0.loss_cls: 0.2887, s0.acc: 90.9326, s0.loss_bbox: 0.1622, s0.loss_mask: 0.2639, s1.loss_cls: 0.1335, s1.acc: 91.6094, s1.loss_bbox: 0.1307, s1.loss_mask: 0.1192, s2.loss_cls: 0.0614, s2.acc: 92.1998, s2.loss_bbox: 0.0674, s2.loss_mask: 0.0525, loss: 1.4862, grad_norm: 7.1523\n",
      "2021-05-20 05:10:46,787 - mmdet - INFO - Epoch [6][650/818]\tlr: 9.830e-05, eta: 19:54:11, time: 1.740, data_time: 0.095, memory: 26469, loss_rpn_cls: 0.0608, loss_rpn_bbox: 0.0346, loss_semantic_seg: 0.1196, s0.loss_cls: 0.3131, s0.acc: 90.2891, s0.loss_bbox: 0.1802, s0.loss_mask: 0.2845, s1.loss_cls: 0.1425, s1.acc: 91.0868, s1.loss_bbox: 0.1461, s1.loss_mask: 0.1283, s2.loss_cls: 0.0655, s2.acc: 91.7492, s2.loss_bbox: 0.0710, s2.loss_mask: 0.0577, loss: 1.6040, grad_norm: 7.7370\n",
      "2021-05-20 05:12:10,172 - mmdet - INFO - Epoch [6][700/818]\tlr: 9.830e-05, eta: 19:53:15, time: 1.668, data_time: 0.065, memory: 26469, loss_rpn_cls: 0.0370, loss_rpn_bbox: 0.0269, loss_semantic_seg: 0.1365, s0.loss_cls: 0.2901, s0.acc: 91.4990, s0.loss_bbox: 0.1399, s0.loss_mask: 0.2501, s1.loss_cls: 0.1367, s1.acc: 92.0104, s1.loss_bbox: 0.1141, s1.loss_mask: 0.1134, s2.loss_cls: 0.0632, s2.acc: 92.5207, s2.loss_bbox: 0.0608, s2.loss_mask: 0.0500, loss: 1.4188, grad_norm: 8.1181\n",
      "2021-05-20 05:13:33,800 - mmdet - INFO - Epoch [6][750/818]\tlr: 9.830e-05, eta: 19:52:19, time: 1.673, data_time: 0.078, memory: 26469, loss_rpn_cls: 0.0488, loss_rpn_bbox: 0.0327, loss_semantic_seg: 0.1174, s0.loss_cls: 0.3260, s0.acc: 90.1318, s0.loss_bbox: 0.1742, s0.loss_mask: 0.2737, s1.loss_cls: 0.1498, s1.acc: 90.8514, s1.loss_bbox: 0.1432, s1.loss_mask: 0.1223, s2.loss_cls: 0.0663, s2.acc: 91.9339, s2.loss_bbox: 0.0695, s2.loss_mask: 0.0551, loss: 1.5792, grad_norm: 6.9349\n"
     ]
    },
    {
     "name": "stderr",
     "output_type": "stream",
     "text": [
      "2021-05-20 05:15:00,067 - mmdet - INFO - Epoch [6][800/818]\tlr: 9.830e-05, eta: 19:51:47, time: 1.725, data_time: 0.071, memory: 26469, loss_rpn_cls: 0.0475, loss_rpn_bbox: 0.0280, loss_semantic_seg: 0.1156, s0.loss_cls: 0.3129, s0.acc: 90.7031, s0.loss_bbox: 0.1710, s0.loss_mask: 0.2757, s1.loss_cls: 0.1435, s1.acc: 91.4592, s1.loss_bbox: 0.1362, s1.loss_mask: 0.1215, s2.loss_cls: 0.0662, s2.acc: 91.5863, s2.loss_bbox: 0.0704, s2.loss_mask: 0.0539, loss: 1.5424, grad_norm: 7.4776\n",
      "2021-05-20 05:15:29,986 - mmdet - INFO - Saving checkpoint at 6 epochs\n"
     ]
    },
    {
     "name": "stdout",
     "output_type": "stream",
     "text": [
      "[>>>>>>>>>>>>>>>>>>>>>>>>>>>>>] 655/655, 3.5 task/s, elapsed: 185s, ETA:     0s"
     ]
    },
    {
     "name": "stderr",
     "output_type": "stream",
     "text": [
      "2021-05-20 05:18:43,415 - mmdet - INFO - Evaluating bbox...\n"
     ]
    },
    {
     "name": "stdout",
     "output_type": "stream",
     "text": [
      "Loading and preparing results...\n",
      "DONE (t=0.77s)\n",
      "creating index...\n",
      "index created!\n",
      "Running per image evaluation...\n",
      "Evaluate annotation type *bbox*\n",
      "DONE (t=8.65s).\n",
      "Accumulating evaluation results...\n",
      "DONE (t=1.76s).\n",
      "Average Precision  (AP) @[ IoU=0.50:0.95 | area=   all | maxDets=100 ] = 0.282\n",
      "Average Precision  (AP) @[ IoU=0.50      | area=   all | maxDets=1000 ] = 0.447\n",
      "Average Precision  (AP) @[ IoU=0.75      | area=   all | maxDets=1000 ] = 0.280\n",
      "Average Precision  (AP) @[ IoU=0.50:0.95 | area= small | maxDets=1000 ] = 0.063\n",
      "Average Precision  (AP) @[ IoU=0.50:0.95 | area=medium | maxDets=1000 ] = 0.258\n",
      "Average Precision  (AP) @[ IoU=0.50:0.95 | area= large | maxDets=1000 ] = 0.485\n",
      "Average Recall     (AR) @[ IoU=0.50:0.95 | area=   all | maxDets=100 ] = 0.438\n",
      "Average Recall     (AR) @[ IoU=0.50:0.95 | area=   all | maxDets=300 ] = 0.438\n",
      "Average Recall     (AR) @[ IoU=0.50:0.95 | area=   all | maxDets=1000 ] = 0.438\n",
      "Average Recall     (AR) @[ IoU=0.50:0.95 | area= small | maxDets=1000 ] = 0.146\n",
      "Average Recall     (AR) @[ IoU=0.50:0.95 | area=medium | maxDets=1000 ] = 0.424\n",
      "Average Recall     (AR) @[ IoU=0.50:0.95 | area= large | maxDets=1000 ] = 0.707\n"
     ]
    },
    {
     "name": "stderr",
     "output_type": "stream",
     "text": [
      "2021-05-20 05:18:58,455 - mmdet - INFO - Now best checkpoint is epoch_6.pth.Best bbox_mAP_50 is 0.4470\n",
      "2021-05-20 05:18:58,492 - mmdet - INFO - Epoch(val) [6][818]\tbbox_mAP: 0.2820, bbox_mAP_50: 0.4470, bbox_mAP_75: 0.2800, bbox_mAP_s: 0.0630, bbox_mAP_m: 0.2580, bbox_mAP_l: 0.4850, bbox_mAP_copypaste: 0.282 0.447 0.280 0.063 0.258 0.485\n",
      "/home/ubuntu/anaconda3/envs/pytorch_p36/lib/python3.6/site-packages/instaboostfast/pycococreater.py:48: VisibleDeprecationWarning: Creating an ndarray from ragged nested sequences (which is a list-or-tuple of lists-or-tuples-or ndarrays with different lengths or shapes) is deprecated. If you meant to do this, you must specify 'dtype=object' when creating the ndarray\n",
      "  contours = np.subtract(contours, 1)\n",
      "/home/ubuntu/anaconda3/envs/pytorch_p36/lib/python3.6/site-packages/instaboostfast/pycococreater.py:48: VisibleDeprecationWarning: Creating an ndarray from ragged nested sequences (which is a list-or-tuple of lists-or-tuples-or ndarrays with different lengths or shapes) is deprecated. If you meant to do this, you must specify 'dtype=object' when creating the ndarray\n",
      "  contours = np.subtract(contours, 1)\n",
      "2021-05-20 05:20:25,016 - mmdet - INFO - Epoch [7][50/818]\tlr: 9.755e-05, eta: 19:46:28, time: 1.730, data_time: 0.158, memory: 26469, loss_rpn_cls: 0.0380, loss_rpn_bbox: 0.0273, loss_semantic_seg: 0.1207, s0.loss_cls: 0.2606, s0.acc: 91.9131, s0.loss_bbox: 0.1433, s0.loss_mask: 0.2521, s1.loss_cls: 0.1218, s1.acc: 92.4207, s1.loss_bbox: 0.1181, s1.loss_mask: 0.1109, s2.loss_cls: 0.0566, s2.acc: 93.0041, s2.loss_bbox: 0.0615, s2.loss_mask: 0.0500, loss: 1.3610, grad_norm: 7.2300\n",
      "2021-05-20 05:21:47,614 - mmdet - INFO - Epoch [7][100/818]\tlr: 9.755e-05, eta: 19:45:24, time: 1.652, data_time: 0.068, memory: 26469, loss_rpn_cls: 0.0509, loss_rpn_bbox: 0.0320, loss_semantic_seg: 0.1137, s0.loss_cls: 0.2915, s0.acc: 91.1543, s0.loss_bbox: 0.1528, s0.loss_mask: 0.2462, s1.loss_cls: 0.1362, s1.acc: 91.7420, s1.loss_bbox: 0.1254, s1.loss_mask: 0.1111, s2.loss_cls: 0.0641, s2.acc: 92.1938, s2.loss_bbox: 0.0649, s2.loss_mask: 0.0499, loss: 1.4387, grad_norm: 7.1888\n",
      "2021-05-20 05:23:10,189 - mmdet - INFO - Epoch [7][150/818]\tlr: 9.755e-05, eta: 19:44:20, time: 1.651, data_time: 0.067, memory: 26469, loss_rpn_cls: 0.0447, loss_rpn_bbox: 0.0310, loss_semantic_seg: 0.1249, s0.loss_cls: 0.3003, s0.acc: 91.0166, s0.loss_bbox: 0.1510, s0.loss_mask: 0.2472, s1.loss_cls: 0.1386, s1.acc: 91.6632, s1.loss_bbox: 0.1245, s1.loss_mask: 0.1095, s2.loss_cls: 0.0642, s2.acc: 92.0443, s2.loss_bbox: 0.0644, s2.loss_mask: 0.0492, loss: 1.4494, grad_norm: 7.2780\n",
      "2021-05-20 05:24:33,570 - mmdet - INFO - Epoch [7][200/818]\tlr: 9.755e-05, eta: 19:43:22, time: 1.668, data_time: 0.073, memory: 26469, loss_rpn_cls: 0.0381, loss_rpn_bbox: 0.0282, loss_semantic_seg: 0.1216, s0.loss_cls: 0.2781, s0.acc: 91.3428, s0.loss_bbox: 0.1527, s0.loss_mask: 0.2441, s1.loss_cls: 0.1266, s1.acc: 91.9498, s1.loss_bbox: 0.1274, s1.loss_mask: 0.1091, s2.loss_cls: 0.0588, s2.acc: 92.5288, s2.loss_bbox: 0.0647, s2.loss_mask: 0.0474, loss: 1.3968, grad_norm: 7.1990\n",
      "2021-05-20 05:25:56,136 - mmdet - INFO - Epoch [7][250/818]\tlr: 9.755e-05, eta: 19:42:17, time: 1.651, data_time: 0.076, memory: 26469, loss_rpn_cls: 0.0430, loss_rpn_bbox: 0.0318, loss_semantic_seg: 0.1229, s0.loss_cls: 0.3031, s0.acc: 90.7793, s0.loss_bbox: 0.1567, s0.loss_mask: 0.2580, s1.loss_cls: 0.1414, s1.acc: 91.3926, s1.loss_bbox: 0.1290, s1.loss_mask: 0.1151, s2.loss_cls: 0.0654, s2.acc: 91.9540, s2.loss_bbox: 0.0683, s2.loss_mask: 0.0519, loss: 1.4867, grad_norm: 7.1640\n",
      "2021-05-20 05:27:18,328 - mmdet - INFO - Epoch [7][300/818]\tlr: 9.755e-05, eta: 19:41:08, time: 1.644, data_time: 0.073, memory: 26469, loss_rpn_cls: 0.0407, loss_rpn_bbox: 0.0290, loss_semantic_seg: 0.1236, s0.loss_cls: 0.2587, s0.acc: 92.0166, s0.loss_bbox: 0.1463, s0.loss_mask: 0.2492, s1.loss_cls: 0.1206, s1.acc: 92.5526, s1.loss_bbox: 0.1195, s1.loss_mask: 0.1099, s2.loss_cls: 0.0569, s2.acc: 92.9241, s2.loss_bbox: 0.0618, s2.loss_mask: 0.0482, loss: 1.3645, grad_norm: 7.3025\n",
      "2021-05-20 05:28:44,688 - mmdet - INFO - Epoch [7][350/818]\tlr: 9.755e-05, eta: 19:40:34, time: 1.727, data_time: 0.089, memory: 26469, loss_rpn_cls: 0.0605, loss_rpn_bbox: 0.0345, loss_semantic_seg: 0.1240, s0.loss_cls: 0.3184, s0.acc: 90.4482, s0.loss_bbox: 0.1697, s0.loss_mask: 0.2739, s1.loss_cls: 0.1444, s1.acc: 91.2324, s1.loss_bbox: 0.1371, s1.loss_mask: 0.1227, s2.loss_cls: 0.0654, s2.acc: 92.0493, s2.loss_bbox: 0.0674, s2.loss_mask: 0.0546, loss: 1.5726, grad_norm: 7.4424\n",
      "2021-05-20 05:30:08,755 - mmdet - INFO - Epoch [7][400/818]\tlr: 9.755e-05, eta: 19:39:40, time: 1.681, data_time: 0.073, memory: 26469, loss_rpn_cls: 0.0454, loss_rpn_bbox: 0.0298, loss_semantic_seg: 0.1308, s0.loss_cls: 0.2937, s0.acc: 90.8809, s0.loss_bbox: 0.1594, s0.loss_mask: 0.2618, s1.loss_cls: 0.1366, s1.acc: 91.4128, s1.loss_bbox: 0.1308, s1.loss_mask: 0.1158, s2.loss_cls: 0.0641, s2.acc: 92.1144, s2.loss_bbox: 0.0675, s2.loss_mask: 0.0508, loss: 1.4864, grad_norm: 7.4187\n",
      "2021-05-20 05:31:30,691 - mmdet - INFO - Epoch [7][450/818]\tlr: 9.755e-05, eta: 19:38:28, time: 1.639, data_time: 0.059, memory: 26469, loss_rpn_cls: 0.0414, loss_rpn_bbox: 0.0285, loss_semantic_seg: 0.1297, s0.loss_cls: 0.2803, s0.acc: 91.4463, s0.loss_bbox: 0.1482, s0.loss_mask: 0.2593, s1.loss_cls: 0.1320, s1.acc: 91.9929, s1.loss_bbox: 0.1245, s1.loss_mask: 0.1186, s2.loss_cls: 0.0623, s2.acc: 92.2887, s2.loss_bbox: 0.0662, s2.loss_mask: 0.0540, loss: 1.4450, grad_norm: 7.5470\n",
      "2021-05-20 05:32:54,115 - mmdet - INFO - Epoch [7][500/818]\tlr: 9.755e-05, eta: 19:37:28, time: 1.668, data_time: 0.066, memory: 26469, loss_rpn_cls: 0.0358, loss_rpn_bbox: 0.0246, loss_semantic_seg: 0.1113, s0.loss_cls: 0.2834, s0.acc: 91.3486, s0.loss_bbox: 0.1492, s0.loss_mask: 0.2502, s1.loss_cls: 0.1330, s1.acc: 91.6661, s1.loss_bbox: 0.1269, s1.loss_mask: 0.1107, s2.loss_cls: 0.0617, s2.acc: 92.2793, s2.loss_bbox: 0.0670, s2.loss_mask: 0.0485, loss: 1.4023, grad_norm: 6.8087\n",
      "2021-05-20 05:34:15,776 - mmdet - INFO - Epoch [7][550/818]\tlr: 9.755e-05, eta: 19:36:13, time: 1.633, data_time: 0.067, memory: 26469, loss_rpn_cls: 0.0343, loss_rpn_bbox: 0.0268, loss_semantic_seg: 0.1262, s0.loss_cls: 0.2364, s0.acc: 92.7021, s0.loss_bbox: 0.1358, s0.loss_mask: 0.2611, s1.loss_cls: 0.1083, s1.acc: 93.3723, s1.loss_bbox: 0.1163, s1.loss_mask: 0.1173, s2.loss_cls: 0.0505, s2.acc: 93.5256, s2.loss_bbox: 0.0617, s2.loss_mask: 0.0512, loss: 1.3257, grad_norm: 6.8322\n",
      "2021-05-20 05:35:38,125 - mmdet - INFO - Epoch [7][600/818]\tlr: 9.755e-05, eta: 19:35:04, time: 1.647, data_time: 0.067, memory: 26469, loss_rpn_cls: 0.0438, loss_rpn_bbox: 0.0279, loss_semantic_seg: 0.1299, s0.loss_cls: 0.2674, s0.acc: 91.5996, s0.loss_bbox: 0.1531, s0.loss_mask: 0.2439, s1.loss_cls: 0.1246, s1.acc: 91.9986, s1.loss_bbox: 0.1232, s1.loss_mask: 0.1087, s2.loss_cls: 0.0580, s2.acc: 92.3876, s2.loss_bbox: 0.0649, s2.loss_mask: 0.0483, loss: 1.3936, grad_norm: 6.6701\n",
      "2021-05-20 05:36:58,712 - mmdet - INFO - Epoch [7][650/818]\tlr: 9.755e-05, eta: 19:33:41, time: 1.612, data_time: 0.058, memory: 26469, loss_rpn_cls: 0.0420, loss_rpn_bbox: 0.0276, loss_semantic_seg: 0.1169, s0.loss_cls: 0.2649, s0.acc: 91.7715, s0.loss_bbox: 0.1460, s0.loss_mask: 0.2611, s1.loss_cls: 0.1230, s1.acc: 92.2397, s1.loss_bbox: 0.1228, s1.loss_mask: 0.1172, s2.loss_cls: 0.0576, s2.acc: 92.7708, s2.loss_bbox: 0.0642, s2.loss_mask: 0.0514, loss: 1.3947, grad_norm: 6.6939\n",
      "2021-05-20 05:38:22,081 - mmdet - INFO - Epoch [7][700/818]\tlr: 9.755e-05, eta: 19:32:39, time: 1.667, data_time: 0.074, memory: 26469, loss_rpn_cls: 0.0408, loss_rpn_bbox: 0.0303, loss_semantic_seg: 0.1114, s0.loss_cls: 0.2672, s0.acc: 91.6123, s0.loss_bbox: 0.1490, s0.loss_mask: 0.2446, s1.loss_cls: 0.1250, s1.acc: 92.1084, s1.loss_bbox: 0.1245, s1.loss_mask: 0.1119, s2.loss_cls: 0.0592, s2.acc: 92.5130, s2.loss_bbox: 0.0666, s2.loss_mask: 0.0499, loss: 1.3804, grad_norm: 7.0310\n",
      "2021-05-20 05:39:45,953 - mmdet - INFO - Epoch [7][750/818]\tlr: 9.755e-05, eta: 19:31:40, time: 1.677, data_time: 0.076, memory: 26469, loss_rpn_cls: 0.0453, loss_rpn_bbox: 0.0284, loss_semantic_seg: 0.1127, s0.loss_cls: 0.2815, s0.acc: 91.3740, s0.loss_bbox: 0.1551, s0.loss_mask: 0.2379, s1.loss_cls: 0.1288, s1.acc: 91.9745, s1.loss_bbox: 0.1288, s1.loss_mask: 0.1057, s2.loss_cls: 0.0601, s2.acc: 92.4940, s2.loss_bbox: 0.0685, s2.loss_mask: 0.0467, loss: 1.3992, grad_norm: 6.9554\n"
     ]
    },
    {
     "name": "stderr",
     "output_type": "stream",
     "text": [
      "2021-05-20 05:41:11,380 - mmdet - INFO - Epoch [7][800/818]\tlr: 9.755e-05, eta: 19:30:54, time: 1.709, data_time: 0.084, memory: 26469, loss_rpn_cls: 0.0437, loss_rpn_bbox: 0.0294, loss_semantic_seg: 0.1264, s0.loss_cls: 0.2864, s0.acc: 91.1250, s0.loss_bbox: 0.1557, s0.loss_mask: 0.2555, s1.loss_cls: 0.1355, s1.acc: 91.6476, s1.loss_bbox: 0.1281, s1.loss_mask: 0.1118, s2.loss_cls: 0.0609, s2.acc: 92.4198, s2.loss_bbox: 0.0658, s2.loss_mask: 0.0496, loss: 1.4488, grad_norm: 7.5946\n",
      "2021-05-20 05:41:42,515 - mmdet - INFO - Saving checkpoint at 7 epochs\n"
     ]
    },
    {
     "name": "stdout",
     "output_type": "stream",
     "text": [
      "[>>>>>>>>>>>>>>>>>>>>>>>>>>>>>] 655/655, 3.5 task/s, elapsed: 186s, ETA:     0s"
     ]
    },
    {
     "name": "stderr",
     "output_type": "stream",
     "text": [
      "2021-05-20 05:44:56,684 - mmdet - INFO - Evaluating bbox...\n"
     ]
    },
    {
     "name": "stdout",
     "output_type": "stream",
     "text": [
      "Loading and preparing results...\n",
      "DONE (t=0.77s)\n",
      "creating index...\n",
      "index created!\n",
      "Running per image evaluation...\n",
      "Evaluate annotation type *bbox*\n",
      "DONE (t=8.21s).\n",
      "Accumulating evaluation results...\n",
      "DONE (t=1.75s).\n",
      "Average Precision  (AP) @[ IoU=0.50:0.95 | area=   all | maxDets=100 ] = 0.300\n",
      "Average Precision  (AP) @[ IoU=0.50      | area=   all | maxDets=1000 ] = 0.452\n",
      "Average Precision  (AP) @[ IoU=0.75      | area=   all | maxDets=1000 ] = 0.315\n",
      "Average Precision  (AP) @[ IoU=0.50:0.95 | area= small | maxDets=1000 ] = 0.083\n",
      "Average Precision  (AP) @[ IoU=0.50:0.95 | area=medium | maxDets=1000 ] = 0.288\n",
      "Average Precision  (AP) @[ IoU=0.50:0.95 | area= large | maxDets=1000 ] = 0.520\n",
      "Average Recall     (AR) @[ IoU=0.50:0.95 | area=   all | maxDets=100 ] = 0.462\n",
      "Average Recall     (AR) @[ IoU=0.50:0.95 | area=   all | maxDets=300 ] = 0.462\n",
      "Average Recall     (AR) @[ IoU=0.50:0.95 | area=   all | maxDets=1000 ] = 0.462\n",
      "Average Recall     (AR) @[ IoU=0.50:0.95 | area= small | maxDets=1000 ] = 0.161\n",
      "Average Recall     (AR) @[ IoU=0.50:0.95 | area=medium | maxDets=1000 ] = 0.474\n",
      "Average Recall     (AR) @[ IoU=0.50:0.95 | area= large | maxDets=1000 ] = 0.698\n"
     ]
    },
    {
     "name": "stderr",
     "output_type": "stream",
     "text": [
      "2021-05-20 05:45:10,964 - mmdet - INFO - Now best checkpoint is epoch_7.pth.Best bbox_mAP_50 is 0.4520\n",
      "2021-05-20 05:45:11,001 - mmdet - INFO - Epoch(val) [7][818]\tbbox_mAP: 0.3000, bbox_mAP_50: 0.4520, bbox_mAP_75: 0.3150, bbox_mAP_s: 0.0830, bbox_mAP_m: 0.2880, bbox_mAP_l: 0.5200, bbox_mAP_copypaste: 0.300 0.452 0.315 0.083 0.288 0.520\n",
      "/home/ubuntu/anaconda3/envs/pytorch_p36/lib/python3.6/site-packages/instaboostfast/pycococreater.py:48: VisibleDeprecationWarning: Creating an ndarray from ragged nested sequences (which is a list-or-tuple of lists-or-tuples-or ndarrays with different lengths or shapes) is deprecated. If you meant to do this, you must specify 'dtype=object' when creating the ndarray\n",
      "  contours = np.subtract(contours, 1)\n",
      "/home/ubuntu/anaconda3/envs/pytorch_p36/lib/python3.6/site-packages/instaboostfast/pycococreater.py:48: VisibleDeprecationWarning: Creating an ndarray from ragged nested sequences (which is a list-or-tuple of lists-or-tuples-or ndarrays with different lengths or shapes) is deprecated. If you meant to do this, you must specify 'dtype=object' when creating the ndarray\n",
      "  contours = np.subtract(contours, 1)\n",
      "2021-05-20 05:46:37,695 - mmdet - INFO - Epoch [8][50/818]\tlr: 9.668e-05, eta: 19:26:07, time: 1.734, data_time: 0.142, memory: 26469, loss_rpn_cls: 0.0451, loss_rpn_bbox: 0.0336, loss_semantic_seg: 0.1222, s0.loss_cls: 0.2849, s0.acc: 91.1445, s0.loss_bbox: 0.1619, s0.loss_mask: 0.2583, s1.loss_cls: 0.1293, s1.acc: 92.0598, s1.loss_bbox: 0.1300, s1.loss_mask: 0.1140, s2.loss_cls: 0.0598, s2.acc: 92.4683, s2.loss_bbox: 0.0653, s2.loss_mask: 0.0496, loss: 1.4540, grad_norm: 6.6566\n",
      "2021-05-20 05:47:57,539 - mmdet - INFO - Epoch [8][100/818]\tlr: 9.668e-05, eta: 19:24:40, time: 1.597, data_time: 0.067, memory: 26469, loss_rpn_cls: 0.0387, loss_rpn_bbox: 0.0290, loss_semantic_seg: 0.1235, s0.loss_cls: 0.2584, s0.acc: 91.7041, s0.loss_bbox: 0.1462, s0.loss_mask: 0.2400, s1.loss_cls: 0.1163, s1.acc: 92.6004, s1.loss_bbox: 0.1193, s1.loss_mask: 0.1051, s2.loss_cls: 0.0540, s2.acc: 93.0783, s2.loss_bbox: 0.0635, s2.loss_mask: 0.0463, loss: 1.3402, grad_norm: 7.3676\n",
      "2021-05-20 05:49:22,281 - mmdet - INFO - Epoch [8][150/818]\tlr: 9.668e-05, eta: 19:23:48, time: 1.695, data_time: 0.064, memory: 26469, loss_rpn_cls: 0.0389, loss_rpn_bbox: 0.0303, loss_semantic_seg: 0.1154, s0.loss_cls: 0.2696, s0.acc: 91.3467, s0.loss_bbox: 0.1537, s0.loss_mask: 0.2381, s1.loss_cls: 0.1265, s1.acc: 91.8699, s1.loss_bbox: 0.1276, s1.loss_mask: 0.1026, s2.loss_cls: 0.0584, s2.acc: 92.3019, s2.loss_bbox: 0.0687, s2.loss_mask: 0.0450, loss: 1.3749, grad_norm: 7.1100\n",
      "2021-05-20 05:50:44,415 - mmdet - INFO - Epoch [8][200/818]\tlr: 9.668e-05, eta: 19:22:37, time: 1.643, data_time: 0.066, memory: 26469, loss_rpn_cls: 0.0355, loss_rpn_bbox: 0.0275, loss_semantic_seg: 0.1242, s0.loss_cls: 0.2665, s0.acc: 91.5908, s0.loss_bbox: 0.1407, s0.loss_mask: 0.2363, s1.loss_cls: 0.1266, s1.acc: 92.1126, s1.loss_bbox: 0.1158, s1.loss_mask: 0.1030, s2.loss_cls: 0.0581, s2.acc: 92.8825, s2.loss_bbox: 0.0613, s2.loss_mask: 0.0452, loss: 1.3406, grad_norm: 6.7732\n",
      "2021-05-20 05:52:07,687 - mmdet - INFO - Epoch [8][250/818]\tlr: 9.668e-05, eta: 19:21:34, time: 1.665, data_time: 0.075, memory: 26469, loss_rpn_cls: 0.0429, loss_rpn_bbox: 0.0292, loss_semantic_seg: 0.1254, s0.loss_cls: 0.2813, s0.acc: 91.1719, s0.loss_bbox: 0.1540, s0.loss_mask: 0.2542, s1.loss_cls: 0.1306, s1.acc: 91.8992, s1.loss_bbox: 0.1255, s1.loss_mask: 0.1130, s2.loss_cls: 0.0597, s2.acc: 92.5174, s2.loss_bbox: 0.0663, s2.loss_mask: 0.0518, loss: 1.4337, grad_norm: 7.4757\n",
      "2021-05-20 05:53:29,823 - mmdet - INFO - Epoch [8][300/818]\tlr: 9.668e-05, eta: 19:20:22, time: 1.643, data_time: 0.063, memory: 26469, loss_rpn_cls: 0.0437, loss_rpn_bbox: 0.0282, loss_semantic_seg: 0.1247, s0.loss_cls: 0.2677, s0.acc: 91.7314, s0.loss_bbox: 0.1393, s0.loss_mask: 0.2411, s1.loss_cls: 0.1246, s1.acc: 92.3652, s1.loss_bbox: 0.1185, s1.loss_mask: 0.1077, s2.loss_cls: 0.0569, s2.acc: 92.9026, s2.loss_bbox: 0.0623, s2.loss_mask: 0.0479, loss: 1.3625, grad_norm: 6.8418\n",
      "2021-05-20 05:54:52,562 - mmdet - INFO - Epoch [8][350/818]\tlr: 9.668e-05, eta: 19:19:15, time: 1.655, data_time: 0.061, memory: 26469, loss_rpn_cls: 0.0419, loss_rpn_bbox: 0.0289, loss_semantic_seg: 0.1191, s0.loss_cls: 0.2810, s0.acc: 91.0869, s0.loss_bbox: 0.1496, s0.loss_mask: 0.2599, s1.loss_cls: 0.1317, s1.acc: 91.6777, s1.loss_bbox: 0.1276, s1.loss_mask: 0.1169, s2.loss_cls: 0.0624, s2.acc: 91.9213, s2.loss_bbox: 0.0653, s2.loss_mask: 0.0517, loss: 1.4362, grad_norm: 6.9500\n",
      "2021-05-20 05:56:15,925 - mmdet - INFO - Epoch [8][400/818]\tlr: 9.668e-05, eta: 19:18:11, time: 1.667, data_time: 0.071, memory: 26469, loss_rpn_cls: 0.0374, loss_rpn_bbox: 0.0278, loss_semantic_seg: 0.1249, s0.loss_cls: 0.2989, s0.acc: 90.9590, s0.loss_bbox: 0.1478, s0.loss_mask: 0.2635, s1.loss_cls: 0.1387, s1.acc: 91.6658, s1.loss_bbox: 0.1241, s1.loss_mask: 0.1145, s2.loss_cls: 0.0641, s2.acc: 92.1075, s2.loss_bbox: 0.0625, s2.loss_mask: 0.0518, loss: 1.4559, grad_norm: 7.1300\n",
      "2021-05-20 05:57:41,427 - mmdet - INFO - Epoch [8][450/818]\tlr: 9.668e-05, eta: 19:17:22, time: 1.710, data_time: 0.081, memory: 26469, loss_rpn_cls: 0.0423, loss_rpn_bbox: 0.0304, loss_semantic_seg: 0.1187, s0.loss_cls: 0.2996, s0.acc: 90.7920, s0.loss_bbox: 0.1581, s0.loss_mask: 0.2453, s1.loss_cls: 0.1416, s1.acc: 91.2235, s1.loss_bbox: 0.1326, s1.loss_mask: 0.1105, s2.loss_cls: 0.0659, s2.acc: 91.7456, s2.loss_bbox: 0.0714, s2.loss_mask: 0.0499, loss: 1.4664, grad_norm: 7.3703\n",
      "2021-05-20 05:59:03,580 - mmdet - INFO - Epoch [8][500/818]\tlr: 9.668e-05, eta: 19:16:10, time: 1.643, data_time: 0.067, memory: 26469, loss_rpn_cls: 0.0399, loss_rpn_bbox: 0.0292, loss_semantic_seg: 0.1199, s0.loss_cls: 0.2769, s0.acc: 91.5566, s0.loss_bbox: 0.1400, s0.loss_mask: 0.2445, s1.loss_cls: 0.1305, s1.acc: 92.1002, s1.loss_bbox: 0.1174, s1.loss_mask: 0.1091, s2.loss_cls: 0.0603, s2.acc: 92.5944, s2.loss_bbox: 0.0665, s2.loss_mask: 0.0501, loss: 1.3842, grad_norm: 7.0323\n",
      "2021-05-20 06:00:27,616 - mmdet - INFO - Epoch [8][550/818]\tlr: 9.668e-05, eta: 19:15:10, time: 1.681, data_time: 0.077, memory: 26469, loss_rpn_cls: 0.0459, loss_rpn_bbox: 0.0305, loss_semantic_seg: 0.1162, s0.loss_cls: 0.2584, s0.acc: 92.0850, s0.loss_bbox: 0.1388, s0.loss_mask: 0.2416, s1.loss_cls: 0.1204, s1.acc: 92.5558, s1.loss_bbox: 0.1175, s1.loss_mask: 0.1071, s2.loss_cls: 0.0566, s2.acc: 92.8667, s2.loss_bbox: 0.0617, s2.loss_mask: 0.0467, loss: 1.3414, grad_norm: 6.7786\n",
      "2021-05-20 06:01:53,537 - mmdet - INFO - Epoch [8][600/818]\tlr: 9.668e-05, eta: 19:14:22, time: 1.718, data_time: 0.108, memory: 26469, loss_rpn_cls: 0.0390, loss_rpn_bbox: 0.0312, loss_semantic_seg: 0.1192, s0.loss_cls: 0.2760, s0.acc: 91.1924, s0.loss_bbox: 0.1510, s0.loss_mask: 0.2431, s1.loss_cls: 0.1292, s1.acc: 91.6856, s1.loss_bbox: 0.1248, s1.loss_mask: 0.1081, s2.loss_cls: 0.0605, s2.acc: 92.1789, s2.loss_bbox: 0.0653, s2.loss_mask: 0.0480, loss: 1.3954, grad_norm: 6.5302\n",
      "2021-05-20 06:03:16,768 - mmdet - INFO - Epoch [8][650/818]\tlr: 9.668e-05, eta: 19:13:16, time: 1.665, data_time: 0.062, memory: 26469, loss_rpn_cls: 0.0354, loss_rpn_bbox: 0.0272, loss_semantic_seg: 0.1302, s0.loss_cls: 0.2842, s0.acc: 91.6074, s0.loss_bbox: 0.1484, s0.loss_mask: 0.2644, s1.loss_cls: 0.1326, s1.acc: 92.1047, s1.loss_bbox: 0.1205, s1.loss_mask: 0.1187, s2.loss_cls: 0.0594, s2.acc: 92.7272, s2.loss_bbox: 0.0623, s2.loss_mask: 0.0538, loss: 1.4371, grad_norm: 6.9669\n",
      "2021-05-20 06:04:39,390 - mmdet - INFO - Epoch [8][700/818]\tlr: 9.668e-05, eta: 19:12:06, time: 1.652, data_time: 0.066, memory: 26469, loss_rpn_cls: 0.0403, loss_rpn_bbox: 0.0279, loss_semantic_seg: 0.1164, s0.loss_cls: 0.2900, s0.acc: 91.3145, s0.loss_bbox: 0.1431, s0.loss_mask: 0.2507, s1.loss_cls: 0.1360, s1.acc: 91.8670, s1.loss_bbox: 0.1219, s1.loss_mask: 0.1127, s2.loss_cls: 0.0625, s2.acc: 92.3570, s2.loss_bbox: 0.0620, s2.loss_mask: 0.0512, loss: 1.4148, grad_norm: 6.5865\n",
      "2021-05-20 06:06:03,319 - mmdet - INFO - Epoch [8][750/818]\tlr: 9.668e-05, eta: 19:11:04, time: 1.679, data_time: 0.074, memory: 26469, loss_rpn_cls: 0.0394, loss_rpn_bbox: 0.0336, loss_semantic_seg: 0.1259, s0.loss_cls: 0.2954, s0.acc: 90.8975, s0.loss_bbox: 0.1486, s0.loss_mask: 0.2524, s1.loss_cls: 0.1405, s1.acc: 91.3411, s1.loss_bbox: 0.1241, s1.loss_mask: 0.1117, s2.loss_cls: 0.0667, s2.acc: 91.6295, s2.loss_bbox: 0.0649, s2.loss_mask: 0.0501, loss: 1.4534, grad_norm: 6.9555\n"
     ]
    },
    {
     "name": "stderr",
     "output_type": "stream",
     "text": [
      "2021-05-20 06:07:28,332 - mmdet - INFO - Epoch [8][800/818]\tlr: 9.668e-05, eta: 19:10:09, time: 1.700, data_time: 0.077, memory: 26469, loss_rpn_cls: 0.0449, loss_rpn_bbox: 0.0322, loss_semantic_seg: 0.1177, s0.loss_cls: 0.2856, s0.acc: 91.2412, s0.loss_bbox: 0.1548, s0.loss_mask: 0.2500, s1.loss_cls: 0.1333, s1.acc: 91.8293, s1.loss_bbox: 0.1286, s1.loss_mask: 0.1115, s2.loss_cls: 0.0626, s2.acc: 92.2921, s2.loss_bbox: 0.0657, s2.loss_mask: 0.0491, loss: 1.4360, grad_norm: 6.4765\n",
      "2021-05-20 06:07:58,437 - mmdet - INFO - Saving checkpoint at 8 epochs\n"
     ]
    },
    {
     "name": "stdout",
     "output_type": "stream",
     "text": [
      "[>>>>>>>>>>>>>>>>>>>>>>>>>>>>>] 655/655, 3.6 task/s, elapsed: 182s, ETA:     0s"
     ]
    },
    {
     "name": "stderr",
     "output_type": "stream",
     "text": [
      "2021-05-20 06:11:08,496 - mmdet - INFO - Evaluating bbox...\n"
     ]
    },
    {
     "name": "stdout",
     "output_type": "stream",
     "text": [
      "Loading and preparing results...\n",
      "DONE (t=1.27s)\n",
      "creating index...\n",
      "index created!\n",
      "Running per image evaluation...\n",
      "Evaluate annotation type *bbox*\n",
      "DONE (t=8.23s).\n",
      "Accumulating evaluation results...\n",
      "DONE (t=2.26s).\n",
      "Average Precision  (AP) @[ IoU=0.50:0.95 | area=   all | maxDets=100 ] = 0.305\n",
      "Average Precision  (AP) @[ IoU=0.50      | area=   all | maxDets=1000 ] = 0.474\n",
      "Average Precision  (AP) @[ IoU=0.75      | area=   all | maxDets=1000 ] = 0.303\n",
      "Average Precision  (AP) @[ IoU=0.50:0.95 | area= small | maxDets=1000 ] = 0.080\n",
      "Average Precision  (AP) @[ IoU=0.50:0.95 | area=medium | maxDets=1000 ] = 0.306\n",
      "Average Precision  (AP) @[ IoU=0.50:0.95 | area= large | maxDets=1000 ] = 0.500\n",
      "Average Recall     (AR) @[ IoU=0.50:0.95 | area=   all | maxDets=100 ] = 0.447\n",
      "Average Recall     (AR) @[ IoU=0.50:0.95 | area=   all | maxDets=300 ] = 0.447\n",
      "Average Recall     (AR) @[ IoU=0.50:0.95 | area=   all | maxDets=1000 ] = 0.447\n",
      "Average Recall     (AR) @[ IoU=0.50:0.95 | area= small | maxDets=1000 ] = 0.149\n",
      "Average Recall     (AR) @[ IoU=0.50:0.95 | area=medium | maxDets=1000 ] = 0.448\n",
      "Average Recall     (AR) @[ IoU=0.50:0.95 | area= large | maxDets=1000 ] = 0.650\n"
     ]
    },
    {
     "name": "stderr",
     "output_type": "stream",
     "text": [
      "2021-05-20 06:11:24,276 - mmdet - INFO - Now best checkpoint is epoch_8.pth.Best bbox_mAP_50 is 0.4740\n",
      "2021-05-20 06:11:24,312 - mmdet - INFO - Epoch(val) [8][818]\tbbox_mAP: 0.3050, bbox_mAP_50: 0.4740, bbox_mAP_75: 0.3030, bbox_mAP_s: 0.0800, bbox_mAP_m: 0.3060, bbox_mAP_l: 0.5000, bbox_mAP_copypaste: 0.305 0.474 0.303 0.080 0.306 0.500\n",
      "/home/ubuntu/anaconda3/envs/pytorch_p36/lib/python3.6/site-packages/instaboostfast/pycococreater.py:48: VisibleDeprecationWarning: Creating an ndarray from ragged nested sequences (which is a list-or-tuple of lists-or-tuples-or ndarrays with different lengths or shapes) is deprecated. If you meant to do this, you must specify 'dtype=object' when creating the ndarray\n",
      "  contours = np.subtract(contours, 1)\n",
      "/home/ubuntu/anaconda3/envs/pytorch_p36/lib/python3.6/site-packages/instaboostfast/pycococreater.py:48: VisibleDeprecationWarning: Creating an ndarray from ragged nested sequences (which is a list-or-tuple of lists-or-tuples-or ndarrays with different lengths or shapes) is deprecated. If you meant to do this, you must specify 'dtype=object' when creating the ndarray\n",
      "  contours = np.subtract(contours, 1)\n",
      "2021-05-20 06:12:53,152 - mmdet - INFO - Epoch [9][50/818]\tlr: 9.568e-05, eta: 19:06:00, time: 1.777, data_time: 0.151, memory: 26469, loss_rpn_cls: 0.0389, loss_rpn_bbox: 0.0294, loss_semantic_seg: 0.1128, s0.loss_cls: 0.2758, s0.acc: 91.3164, s0.loss_bbox: 0.1565, s0.loss_mask: 0.2526, s1.loss_cls: 0.1273, s1.acc: 92.0742, s1.loss_bbox: 0.1324, s1.loss_mask: 0.1125, s2.loss_cls: 0.0585, s2.acc: 92.6409, s2.loss_bbox: 0.0703, s2.loss_mask: 0.0487, loss: 1.4156, grad_norm: 6.5764\n",
      "2021-05-20 06:14:17,018 - mmdet - INFO - Epoch [9][100/818]\tlr: 9.568e-05, eta: 19:04:58, time: 1.677, data_time: 0.073, memory: 26469, loss_rpn_cls: 0.0413, loss_rpn_bbox: 0.0281, loss_semantic_seg: 0.1189, s0.loss_cls: 0.2693, s0.acc: 91.4297, s0.loss_bbox: 0.1555, s0.loss_mask: 0.2560, s1.loss_cls: 0.1241, s1.acc: 92.1055, s1.loss_bbox: 0.1345, s1.loss_mask: 0.1143, s2.loss_cls: 0.0583, s2.acc: 92.5979, s2.loss_bbox: 0.0712, s2.loss_mask: 0.0509, loss: 1.4224, grad_norm: 7.1114\n",
      "2021-05-20 06:15:41,070 - mmdet - INFO - Epoch [9][150/818]\tlr: 9.568e-05, eta: 19:03:57, time: 1.681, data_time: 0.059, memory: 26469, loss_rpn_cls: 0.0436, loss_rpn_bbox: 0.0271, loss_semantic_seg: 0.1143, s0.loss_cls: 0.2601, s0.acc: 91.7217, s0.loss_bbox: 0.1458, s0.loss_mask: 0.2381, s1.loss_cls: 0.1193, s1.acc: 92.3788, s1.loss_bbox: 0.1218, s1.loss_mask: 0.1078, s2.loss_cls: 0.0559, s2.acc: 92.6605, s2.loss_bbox: 0.0669, s2.loss_mask: 0.0479, loss: 1.3485, grad_norm: 6.9709\n",
      "2021-05-20 06:17:05,781 - mmdet - INFO - Epoch [9][200/818]\tlr: 9.568e-05, eta: 19:02:59, time: 1.694, data_time: 0.086, memory: 26469, loss_rpn_cls: 0.0469, loss_rpn_bbox: 0.0389, loss_semantic_seg: 0.1174, s0.loss_cls: 0.2858, s0.acc: 90.9482, s0.loss_bbox: 0.1583, s0.loss_mask: 0.2553, s1.loss_cls: 0.1341, s1.acc: 91.3932, s1.loss_bbox: 0.1311, s1.loss_mask: 0.1175, s2.loss_cls: 0.0620, s2.acc: 91.9903, s2.loss_bbox: 0.0659, s2.loss_mask: 0.0528, loss: 1.4659, grad_norm: 6.3546\n",
      "2021-05-20 06:18:27,807 - mmdet - INFO - Epoch [9][250/818]\tlr: 9.568e-05, eta: 19:01:45, time: 1.641, data_time: 0.071, memory: 26469, loss_rpn_cls: 0.0361, loss_rpn_bbox: 0.0286, loss_semantic_seg: 0.1300, s0.loss_cls: 0.2713, s0.acc: 91.6436, s0.loss_bbox: 0.1449, s0.loss_mask: 0.2340, s1.loss_cls: 0.1263, s1.acc: 92.1057, s1.loss_bbox: 0.1183, s1.loss_mask: 0.1050, s2.loss_cls: 0.0579, s2.acc: 92.7577, s2.loss_bbox: 0.0630, s2.loss_mask: 0.0468, loss: 1.3622, grad_norm: 6.6107\n",
      "2021-05-20 06:19:48,249 - mmdet - INFO - Epoch [9][300/818]\tlr: 9.568e-05, eta: 19:00:20, time: 1.609, data_time: 0.062, memory: 26469, loss_rpn_cls: 0.0362, loss_rpn_bbox: 0.0266, loss_semantic_seg: 0.1199, s0.loss_cls: 0.2620, s0.acc: 92.2666, s0.loss_bbox: 0.1390, s0.loss_mask: 0.2324, s1.loss_cls: 0.1193, s1.acc: 92.9325, s1.loss_bbox: 0.1093, s1.loss_mask: 0.1013, s2.loss_cls: 0.0541, s2.acc: 93.6346, s2.loss_bbox: 0.0586, s2.loss_mask: 0.0446, loss: 1.3033, grad_norm: 7.0134\n",
      "2021-05-20 06:21:14,162 - mmdet - INFO - Epoch [9][350/818]\tlr: 9.568e-05, eta: 18:59:30, time: 1.718, data_time: 0.070, memory: 26469, loss_rpn_cls: 0.0419, loss_rpn_bbox: 0.0284, loss_semantic_seg: 0.1186, s0.loss_cls: 0.2842, s0.acc: 91.1777, s0.loss_bbox: 0.1520, s0.loss_mask: 0.2372, s1.loss_cls: 0.1308, s1.acc: 91.8280, s1.loss_bbox: 0.1325, s1.loss_mask: 0.1030, s2.loss_cls: 0.0611, s2.acc: 92.2193, s2.loss_bbox: 0.0678, s2.loss_mask: 0.0455, loss: 1.4029, grad_norm: 7.1444\n",
      "2021-05-20 06:22:40,367 - mmdet - INFO - Epoch [9][400/818]\tlr: 9.568e-05, eta: 18:58:40, time: 1.724, data_time: 0.086, memory: 26469, loss_rpn_cls: 0.0390, loss_rpn_bbox: 0.0314, loss_semantic_seg: 0.1150, s0.loss_cls: 0.2828, s0.acc: 91.1113, s0.loss_bbox: 0.1630, s0.loss_mask: 0.2630, s1.loss_cls: 0.1290, s1.acc: 91.8178, s1.loss_bbox: 0.1364, s1.loss_mask: 0.1180, s2.loss_cls: 0.0593, s2.acc: 92.5667, s2.loss_bbox: 0.0704, s2.loss_mask: 0.0542, loss: 1.4615, grad_norm: 6.6012\n",
      "2021-05-20 06:24:04,833 - mmdet - INFO - Epoch [9][450/818]\tlr: 9.568e-05, eta: 18:57:39, time: 1.689, data_time: 0.070, memory: 26469, loss_rpn_cls: 0.0414, loss_rpn_bbox: 0.0303, loss_semantic_seg: 0.1188, s0.loss_cls: 0.2697, s0.acc: 91.6006, s0.loss_bbox: 0.1461, s0.loss_mask: 0.2443, s1.loss_cls: 0.1273, s1.acc: 92.1051, s1.loss_bbox: 0.1201, s1.loss_mask: 0.1068, s2.loss_cls: 0.0589, s2.acc: 92.4119, s2.loss_bbox: 0.0614, s2.loss_mask: 0.0467, loss: 1.3718, grad_norm: 6.7431\n",
      "2021-05-20 06:25:27,865 - mmdet - INFO - Epoch [9][500/818]\tlr: 9.568e-05, eta: 18:56:30, time: 1.661, data_time: 0.062, memory: 26469, loss_rpn_cls: 0.0408, loss_rpn_bbox: 0.0256, loss_semantic_seg: 0.1233, s0.loss_cls: 0.2766, s0.acc: 91.6699, s0.loss_bbox: 0.1388, s0.loss_mask: 0.2469, s1.loss_cls: 0.1299, s1.acc: 92.1723, s1.loss_bbox: 0.1227, s1.loss_mask: 0.1130, s2.loss_cls: 0.0605, s2.acc: 92.5762, s2.loss_bbox: 0.0660, s2.loss_mask: 0.0520, loss: 1.3961, grad_norm: 6.6712\n",
      "2021-05-20 06:26:51,612 - mmdet - INFO - Epoch [9][550/818]\tlr: 9.568e-05, eta: 18:55:24, time: 1.675, data_time: 0.067, memory: 26469, loss_rpn_cls: 0.0351, loss_rpn_bbox: 0.0234, loss_semantic_seg: 0.1094, s0.loss_cls: 0.2671, s0.acc: 91.8271, s0.loss_bbox: 0.1434, s0.loss_mask: 0.2225, s1.loss_cls: 0.1241, s1.acc: 92.4242, s1.loss_bbox: 0.1211, s1.loss_mask: 0.0968, s2.loss_cls: 0.0560, s2.acc: 92.9845, s2.loss_bbox: 0.0622, s2.loss_mask: 0.0423, loss: 1.3034, grad_norm: 6.1103\n",
      "2021-05-20 06:28:16,138 - mmdet - INFO - Epoch [9][600/818]\tlr: 9.568e-05, eta: 18:54:23, time: 1.690, data_time: 0.067, memory: 26469, loss_rpn_cls: 0.0354, loss_rpn_bbox: 0.0268, loss_semantic_seg: 0.1187, s0.loss_cls: 0.2808, s0.acc: 91.3936, s0.loss_bbox: 0.1474, s0.loss_mask: 0.2349, s1.loss_cls: 0.1307, s1.acc: 91.8654, s1.loss_bbox: 0.1220, s1.loss_mask: 0.1049, s2.loss_cls: 0.0610, s2.acc: 92.4179, s2.loss_bbox: 0.0655, s2.loss_mask: 0.0481, loss: 1.3762, grad_norm: 7.0916\n",
      "2021-05-20 06:29:40,388 - mmdet - INFO - Epoch [9][650/818]\tlr: 9.568e-05, eta: 18:53:20, time: 1.685, data_time: 0.070, memory: 26469, loss_rpn_cls: 0.0389, loss_rpn_bbox: 0.0256, loss_semantic_seg: 0.1271, s0.loss_cls: 0.2834, s0.acc: 91.4609, s0.loss_bbox: 0.1481, s0.loss_mask: 0.2335, s1.loss_cls: 0.1280, s1.acc: 92.1710, s1.loss_bbox: 0.1216, s1.loss_mask: 0.1043, s2.loss_cls: 0.0596, s2.acc: 92.4499, s2.loss_bbox: 0.0620, s2.loss_mask: 0.0444, loss: 1.3766, grad_norm: 6.3394\n",
      "2021-05-20 06:31:04,073 - mmdet - INFO - Epoch [9][700/818]\tlr: 9.568e-05, eta: 18:52:13, time: 1.674, data_time: 0.070, memory: 26469, loss_rpn_cls: 0.0409, loss_rpn_bbox: 0.0311, loss_semantic_seg: 0.1231, s0.loss_cls: 0.2749, s0.acc: 91.5400, s0.loss_bbox: 0.1468, s0.loss_mask: 0.2398, s1.loss_cls: 0.1238, s1.acc: 92.3860, s1.loss_bbox: 0.1185, s1.loss_mask: 0.1066, s2.loss_cls: 0.0580, s2.acc: 92.5640, s2.loss_bbox: 0.0645, s2.loss_mask: 0.0484, loss: 1.3765, grad_norm: 6.8176\n",
      "2021-05-20 06:32:25,501 - mmdet - INFO - Epoch [9][750/818]\tlr: 9.568e-05, eta: 18:50:53, time: 1.629, data_time: 0.059, memory: 26469, loss_rpn_cls: 0.0342, loss_rpn_bbox: 0.0230, loss_semantic_seg: 0.1153, s0.loss_cls: 0.2519, s0.acc: 92.3975, s0.loss_bbox: 0.1241, s0.loss_mask: 0.2364, s1.loss_cls: 0.1194, s1.acc: 92.6769, s1.loss_bbox: 0.1063, s1.loss_mask: 0.1066, s2.loss_cls: 0.0569, s2.acc: 92.8957, s2.loss_bbox: 0.0580, s2.loss_mask: 0.0486, loss: 1.2806, grad_norm: 6.9269\n"
     ]
    },
    {
     "name": "stderr",
     "output_type": "stream",
     "text": [
      "2021-05-20 06:33:47,865 - mmdet - INFO - Epoch [9][800/818]\tlr: 9.568e-05, eta: 18:49:39, time: 1.647, data_time: 0.066, memory: 26469, loss_rpn_cls: 0.0489, loss_rpn_bbox: 0.0273, loss_semantic_seg: 0.1241, s0.loss_cls: 0.2654, s0.acc: 92.0244, s0.loss_bbox: 0.1361, s0.loss_mask: 0.2470, s1.loss_cls: 0.1230, s1.acc: 92.5510, s1.loss_bbox: 0.1145, s1.loss_mask: 0.1118, s2.loss_cls: 0.0583, s2.acc: 92.9063, s2.loss_bbox: 0.0622, s2.loss_mask: 0.0508, loss: 1.3693, grad_norm: 6.7373\n",
      "2021-05-20 06:34:16,658 - mmdet - INFO - Saving checkpoint at 9 epochs\n"
     ]
    },
    {
     "name": "stdout",
     "output_type": "stream",
     "text": [
      "[>>>>>>>>>>>>>>>>>>>>>>>>>>>>>] 655/655, 3.6 task/s, elapsed: 183s, ETA:     0s"
     ]
    },
    {
     "name": "stderr",
     "output_type": "stream",
     "text": [
      "2021-05-20 06:37:27,884 - mmdet - INFO - Evaluating bbox...\n"
     ]
    },
    {
     "name": "stdout",
     "output_type": "stream",
     "text": [
      "Loading and preparing results...\n",
      "DONE (t=0.89s)\n",
      "creating index...\n",
      "index created!\n",
      "Running per image evaluation...\n",
      "Evaluate annotation type *bbox*\n",
      "DONE (t=8.22s).\n",
      "Accumulating evaluation results...\n"
     ]
    },
    {
     "name": "stderr",
     "output_type": "stream",
     "text": [
      "2021-05-20 06:37:38,903 - mmdet - INFO - Epoch(val) [9][818]\tbbox_mAP: 0.3200, bbox_mAP_50: 0.4730, bbox_mAP_75: 0.3190, bbox_mAP_s: 0.0630, bbox_mAP_m: 0.2980, bbox_mAP_l: 0.5210, bbox_mAP_copypaste: 0.320 0.473 0.319 0.063 0.298 0.521\n"
     ]
    },
    {
     "name": "stdout",
     "output_type": "stream",
     "text": [
      "DONE (t=1.74s).\n",
      "Average Precision  (AP) @[ IoU=0.50:0.95 | area=   all | maxDets=100 ] = 0.320\n",
      "Average Precision  (AP) @[ IoU=0.50      | area=   all | maxDets=1000 ] = 0.473\n",
      "Average Precision  (AP) @[ IoU=0.75      | area=   all | maxDets=1000 ] = 0.319\n",
      "Average Precision  (AP) @[ IoU=0.50:0.95 | area= small | maxDets=1000 ] = 0.063\n",
      "Average Precision  (AP) @[ IoU=0.50:0.95 | area=medium | maxDets=1000 ] = 0.298\n",
      "Average Precision  (AP) @[ IoU=0.50:0.95 | area= large | maxDets=1000 ] = 0.521\n",
      "Average Recall     (AR) @[ IoU=0.50:0.95 | area=   all | maxDets=100 ] = 0.460\n",
      "Average Recall     (AR) @[ IoU=0.50:0.95 | area=   all | maxDets=300 ] = 0.460\n",
      "Average Recall     (AR) @[ IoU=0.50:0.95 | area=   all | maxDets=1000 ] = 0.460\n",
      "Average Recall     (AR) @[ IoU=0.50:0.95 | area= small | maxDets=1000 ] = 0.134\n",
      "Average Recall     (AR) @[ IoU=0.50:0.95 | area=medium | maxDets=1000 ] = 0.463\n",
      "Average Recall     (AR) @[ IoU=0.50:0.95 | area= large | maxDets=1000 ] = 0.738\n"
     ]
    },
    {
     "name": "stderr",
     "output_type": "stream",
     "text": [
      "/home/ubuntu/anaconda3/envs/pytorch_p36/lib/python3.6/site-packages/instaboostfast/pycococreater.py:48: VisibleDeprecationWarning: Creating an ndarray from ragged nested sequences (which is a list-or-tuple of lists-or-tuples-or ndarrays with different lengths or shapes) is deprecated. If you meant to do this, you must specify 'dtype=object' when creating the ndarray\n",
      "  contours = np.subtract(contours, 1)\n",
      "/home/ubuntu/anaconda3/envs/pytorch_p36/lib/python3.6/site-packages/instaboostfast/pycococreater.py:48: VisibleDeprecationWarning: Creating an ndarray from ragged nested sequences (which is a list-or-tuple of lists-or-tuples-or ndarrays with different lengths or shapes) is deprecated. If you meant to do this, you must specify 'dtype=object' when creating the ndarray\n",
      "  contours = np.subtract(contours, 1)\n",
      "2021-05-20 06:39:07,154 - mmdet - INFO - Epoch [10][50/818]\tlr: 9.455e-05, eta: 18:45:44, time: 1.765, data_time: 0.184, memory: 26469, loss_rpn_cls: 0.0405, loss_rpn_bbox: 0.0288, loss_semantic_seg: 0.1201, s0.loss_cls: 0.2690, s0.acc: 91.7041, s0.loss_bbox: 0.1429, s0.loss_mask: 0.2404, s1.loss_cls: 0.1263, s1.acc: 92.0432, s1.loss_bbox: 0.1178, s1.loss_mask: 0.1066, s2.loss_cls: 0.0594, s2.acc: 92.3065, s2.loss_bbox: 0.0605, s2.loss_mask: 0.0473, loss: 1.3597, grad_norm: 7.0363\n",
      "2021-05-20 06:40:27,887 - mmdet - INFO - Epoch [10][100/818]\tlr: 9.455e-05, eta: 18:44:21, time: 1.615, data_time: 0.065, memory: 26469, loss_rpn_cls: 0.0340, loss_rpn_bbox: 0.0272, loss_semantic_seg: 0.1078, s0.loss_cls: 0.2435, s0.acc: 92.3174, s0.loss_bbox: 0.1324, s0.loss_mask: 0.2402, s1.loss_cls: 0.1119, s1.acc: 92.9741, s1.loss_bbox: 0.1136, s1.loss_mask: 0.1065, s2.loss_cls: 0.0537, s2.acc: 93.3132, s2.loss_bbox: 0.0617, s2.loss_mask: 0.0473, loss: 1.2799, grad_norm: 6.5384\n",
      "2021-05-20 06:41:53,214 - mmdet - INFO - Epoch [10][150/818]\tlr: 9.455e-05, eta: 18:43:23, time: 1.707, data_time: 0.075, memory: 26469, loss_rpn_cls: 0.0422, loss_rpn_bbox: 0.0322, loss_semantic_seg: 0.1099, s0.loss_cls: 0.2959, s0.acc: 90.7764, s0.loss_bbox: 0.1579, s0.loss_mask: 0.2612, s1.loss_cls: 0.1380, s1.acc: 91.1906, s1.loss_bbox: 0.1301, s1.loss_mask: 0.1170, s2.loss_cls: 0.0640, s2.acc: 91.9449, s2.loss_bbox: 0.0700, s2.loss_mask: 0.0520, loss: 1.4703, grad_norm: 7.6881\n",
      "2021-05-20 06:43:19,952 - mmdet - INFO - Epoch [10][200/818]\tlr: 9.455e-05, eta: 18:42:33, time: 1.735, data_time: 0.078, memory: 26469, loss_rpn_cls: 0.0529, loss_rpn_bbox: 0.0338, loss_semantic_seg: 0.1204, s0.loss_cls: 0.3002, s0.acc: 91.0215, s0.loss_bbox: 0.1664, s0.loss_mask: 0.2450, s1.loss_cls: 0.1359, s1.acc: 91.7679, s1.loss_bbox: 0.1319, s1.loss_mask: 0.1087, s2.loss_cls: 0.0625, s2.acc: 92.2696, s2.loss_bbox: 0.0681, s2.loss_mask: 0.0483, loss: 1.4740, grad_norm: 6.6475\n",
      "2021-05-20 06:44:41,002 - mmdet - INFO - Epoch [10][250/818]\tlr: 9.455e-05, eta: 18:41:12, time: 1.621, data_time: 0.059, memory: 26469, loss_rpn_cls: 0.0372, loss_rpn_bbox: 0.0269, loss_semantic_seg: 0.1169, s0.loss_cls: 0.2609, s0.acc: 91.8252, s0.loss_bbox: 0.1446, s0.loss_mask: 0.2373, s1.loss_cls: 0.1201, s1.acc: 92.5105, s1.loss_bbox: 0.1225, s1.loss_mask: 0.1066, s2.loss_cls: 0.0558, s2.acc: 92.9282, s2.loss_bbox: 0.0653, s2.loss_mask: 0.0478, loss: 1.3419, grad_norm: 6.4355\n",
      "2021-05-20 06:46:02,867 - mmdet - INFO - Epoch [10][300/818]\tlr: 9.455e-05, eta: 18:39:55, time: 1.637, data_time: 0.075, memory: 26469, loss_rpn_cls: 0.0412, loss_rpn_bbox: 0.0287, loss_semantic_seg: 0.1169, s0.loss_cls: 0.2863, s0.acc: 91.3125, s0.loss_bbox: 0.1518, s0.loss_mask: 0.2456, s1.loss_cls: 0.1312, s1.acc: 92.0028, s1.loss_bbox: 0.1250, s1.loss_mask: 0.1096, s2.loss_cls: 0.0595, s2.acc: 92.6822, s2.loss_bbox: 0.0651, s2.loss_mask: 0.0487, loss: 1.4096, grad_norm: 7.0141\n",
      "2021-05-20 06:47:25,149 - mmdet - INFO - Epoch [10][350/818]\tlr: 9.455e-05, eta: 18:38:40, time: 1.646, data_time: 0.065, memory: 26469, loss_rpn_cls: 0.0401, loss_rpn_bbox: 0.0276, loss_semantic_seg: 0.1194, s0.loss_cls: 0.2493, s0.acc: 92.3467, s0.loss_bbox: 0.1368, s0.loss_mask: 0.2253, s1.loss_cls: 0.1130, s1.acc: 92.9513, s1.loss_bbox: 0.1127, s1.loss_mask: 0.1006, s2.loss_cls: 0.0527, s2.acc: 93.4728, s2.loss_bbox: 0.0590, s2.loss_mask: 0.0446, loss: 1.2811, grad_norm: 6.3987\n",
      "2021-05-20 06:48:49,093 - mmdet - INFO - Epoch [10][400/818]\tlr: 9.455e-05, eta: 18:37:34, time: 1.679, data_time: 0.070, memory: 26469, loss_rpn_cls: 0.0383, loss_rpn_bbox: 0.0263, loss_semantic_seg: 0.1132, s0.loss_cls: 0.2597, s0.acc: 91.9189, s0.loss_bbox: 0.1415, s0.loss_mask: 0.2388, s1.loss_cls: 0.1193, s1.acc: 92.4616, s1.loss_bbox: 0.1202, s1.loss_mask: 0.1071, s2.loss_cls: 0.0560, s2.acc: 92.8677, s2.loss_bbox: 0.0635, s2.loss_mask: 0.0471, loss: 1.3311, grad_norm: 7.0122\n",
      "2021-05-20 06:50:12,854 - mmdet - INFO - Epoch [10][450/818]\tlr: 9.455e-05, eta: 18:36:27, time: 1.675, data_time: 0.066, memory: 26469, loss_rpn_cls: 0.0358, loss_rpn_bbox: 0.0278, loss_semantic_seg: 0.1191, s0.loss_cls: 0.2663, s0.acc: 91.8086, s0.loss_bbox: 0.1388, s0.loss_mask: 0.2339, s1.loss_cls: 0.1257, s1.acc: 92.3580, s1.loss_bbox: 0.1182, s1.loss_mask: 0.1039, s2.loss_cls: 0.0591, s2.acc: 92.6030, s2.loss_bbox: 0.0628, s2.loss_mask: 0.0450, loss: 1.3363, grad_norm: 6.4541\n",
      "2021-05-20 06:51:35,733 - mmdet - INFO - Epoch [10][500/818]\tlr: 9.455e-05, eta: 18:35:14, time: 1.658, data_time: 0.062, memory: 26469, loss_rpn_cls: 0.0341, loss_rpn_bbox: 0.0247, loss_semantic_seg: 0.1089, s0.loss_cls: 0.2407, s0.acc: 92.4238, s0.loss_bbox: 0.1352, s0.loss_mask: 0.2376, s1.loss_cls: 0.1152, s1.acc: 92.6846, s1.loss_bbox: 0.1172, s1.loss_mask: 0.1065, s2.loss_cls: 0.0549, s2.acc: 92.9113, s2.loss_bbox: 0.0619, s2.loss_mask: 0.0472, loss: 1.2841, grad_norm: 6.5087\n",
      "2021-05-20 06:53:00,473 - mmdet - INFO - Epoch [10][550/818]\tlr: 9.455e-05, eta: 18:34:12, time: 1.695, data_time: 0.070, memory: 26469, loss_rpn_cls: 0.0373, loss_rpn_bbox: 0.0270, loss_semantic_seg: 0.1142, s0.loss_cls: 0.2816, s0.acc: 91.2666, s0.loss_bbox: 0.1467, s0.loss_mask: 0.2465, s1.loss_cls: 0.1337, s1.acc: 91.7142, s1.loss_bbox: 0.1259, s1.loss_mask: 0.1099, s2.loss_cls: 0.0621, s2.acc: 92.2576, s2.loss_bbox: 0.0663, s2.loss_mask: 0.0477, loss: 1.3989, grad_norm: 6.6152\n",
      "2021-05-20 06:54:24,752 - mmdet - INFO - Epoch [10][600/818]\tlr: 9.455e-05, eta: 18:33:07, time: 1.686, data_time: 0.079, memory: 26469, loss_rpn_cls: 0.0389, loss_rpn_bbox: 0.0318, loss_semantic_seg: 0.1245, s0.loss_cls: 0.2866, s0.acc: 91.0244, s0.loss_bbox: 0.1559, s0.loss_mask: 0.2614, s1.loss_cls: 0.1341, s1.acc: 91.6003, s1.loss_bbox: 0.1301, s1.loss_mask: 0.1140, s2.loss_cls: 0.0612, s2.acc: 92.2120, s2.loss_bbox: 0.0665, s2.loss_mask: 0.0507, loss: 1.4559, grad_norm: 6.8303\n",
      "2021-05-20 06:55:50,808 - mmdet - INFO - Epoch [10][650/818]\tlr: 9.455e-05, eta: 18:32:10, time: 1.721, data_time: 0.082, memory: 26469, loss_rpn_cls: 0.0355, loss_rpn_bbox: 0.0246, loss_semantic_seg: 0.1187, s0.loss_cls: 0.2663, s0.acc: 91.5986, s0.loss_bbox: 0.1380, s0.loss_mask: 0.2419, s1.loss_cls: 0.1259, s1.acc: 92.1552, s1.loss_bbox: 0.1212, s1.loss_mask: 0.1074, s2.loss_cls: 0.0592, s2.acc: 92.5153, s2.loss_bbox: 0.0659, s2.loss_mask: 0.0481, loss: 1.3526, grad_norm: 6.8854\n",
      "2021-05-20 06:57:11,867 - mmdet - INFO - Epoch [10][700/818]\tlr: 9.455e-05, eta: 18:30:48, time: 1.621, data_time: 0.058, memory: 26469, loss_rpn_cls: 0.0420, loss_rpn_bbox: 0.0269, loss_semantic_seg: 0.1177, s0.loss_cls: 0.2836, s0.acc: 91.4014, s0.loss_bbox: 0.1396, s0.loss_mask: 0.2239, s1.loss_cls: 0.1345, s1.acc: 91.7291, s1.loss_bbox: 0.1228, s1.loss_mask: 0.1005, s2.loss_cls: 0.0645, s2.acc: 92.0182, s2.loss_bbox: 0.0648, s2.loss_mask: 0.0458, loss: 1.3667, grad_norm: 6.7793\n",
      "2021-05-20 06:58:34,691 - mmdet - INFO - Epoch [10][750/818]\tlr: 9.455e-05, eta: 18:29:35, time: 1.656, data_time: 0.076, memory: 26469, loss_rpn_cls: 0.0369, loss_rpn_bbox: 0.0280, loss_semantic_seg: 0.1186, s0.loss_cls: 0.2504, s0.acc: 92.2588, s0.loss_bbox: 0.1313, s0.loss_mask: 0.2246, s1.loss_cls: 0.1169, s1.acc: 92.7071, s1.loss_bbox: 0.1120, s1.loss_mask: 0.0992, s2.loss_cls: 0.0553, s2.acc: 92.9611, s2.loss_bbox: 0.0588, s2.loss_mask: 0.0449, loss: 1.2770, grad_norm: 6.0616\n",
      "2021-05-20 06:59:57,480 - mmdet - INFO - Epoch [10][800/818]\tlr: 9.455e-05, eta: 18:28:21, time: 1.656, data_time: 0.063, memory: 26469, loss_rpn_cls: 0.0388, loss_rpn_bbox: 0.0293, loss_semantic_seg: 0.1082, s0.loss_cls: 0.2640, s0.acc: 91.7773, s0.loss_bbox: 0.1404, s0.loss_mask: 0.2395, s1.loss_cls: 0.1204, s1.acc: 92.5874, s1.loss_bbox: 0.1125, s1.loss_mask: 0.1065, s2.loss_cls: 0.0570, s2.acc: 92.8784, s2.loss_bbox: 0.0594, s2.loss_mask: 0.0464, loss: 1.3222, grad_norm: 6.8899\n"
     ]
    },
    {
     "name": "stderr",
     "output_type": "stream",
     "text": [
      "2021-05-20 07:00:27,140 - mmdet - INFO - Saving checkpoint at 10 epochs\n"
     ]
    },
    {
     "name": "stdout",
     "output_type": "stream",
     "text": [
      "[>>>>>>>>>>>>>>>>>>>>>>>>>>>>>] 655/655, 3.6 task/s, elapsed: 180s, ETA:     0s"
     ]
    },
    {
     "name": "stderr",
     "output_type": "stream",
     "text": [
      "2021-05-20 07:03:35,198 - mmdet - INFO - Evaluating bbox...\n"
     ]
    },
    {
     "name": "stdout",
     "output_type": "stream",
     "text": [
      "Loading and preparing results...\n",
      "DONE (t=0.78s)\n",
      "creating index...\n",
      "index created!\n",
      "Running per image evaluation...\n",
      "Evaluate annotation type *bbox*\n",
      "DONE (t=8.59s).\n",
      "Accumulating evaluation results...\n",
      "DONE (t=1.67s).\n",
      "Average Precision  (AP) @[ IoU=0.50:0.95 | area=   all | maxDets=100 ] = 0.337\n",
      "Average Precision  (AP) @[ IoU=0.50      | area=   all | maxDets=1000 ] = 0.504\n",
      "Average Precision  (AP) @[ IoU=0.75      | area=   all | maxDets=1000 ] = 0.349\n",
      "Average Precision  (AP) @[ IoU=0.50:0.95 | area= small | maxDets=1000 ] = 0.088\n",
      "Average Precision  (AP) @[ IoU=0.50:0.95 | area=medium | maxDets=1000 ] = 0.325\n",
      "Average Precision  (AP) @[ IoU=0.50:0.95 | area= large | maxDets=1000 ] = 0.542\n",
      "Average Recall     (AR) @[ IoU=0.50:0.95 | area=   all | maxDets=100 ] = 0.474\n",
      "Average Recall     (AR) @[ IoU=0.50:0.95 | area=   all | maxDets=300 ] = 0.474\n",
      "Average Recall     (AR) @[ IoU=0.50:0.95 | area=   all | maxDets=1000 ] = 0.474\n",
      "Average Recall     (AR) @[ IoU=0.50:0.95 | area= small | maxDets=1000 ] = 0.185\n",
      "Average Recall     (AR) @[ IoU=0.50:0.95 | area=medium | maxDets=1000 ] = 0.465\n",
      "Average Recall     (AR) @[ IoU=0.50:0.95 | area= large | maxDets=1000 ] = 0.734\n"
     ]
    },
    {
     "name": "stderr",
     "output_type": "stream",
     "text": [
      "2021-05-20 07:03:49,967 - mmdet - INFO - Now best checkpoint is epoch_10.pth.Best bbox_mAP_50 is 0.5040\n",
      "2021-05-20 07:03:50,003 - mmdet - INFO - Epoch(val) [10][818]\tbbox_mAP: 0.3370, bbox_mAP_50: 0.5040, bbox_mAP_75: 0.3490, bbox_mAP_s: 0.0880, bbox_mAP_m: 0.3250, bbox_mAP_l: 0.5420, bbox_mAP_copypaste: 0.337 0.504 0.349 0.088 0.325 0.542\n",
      "/home/ubuntu/anaconda3/envs/pytorch_p36/lib/python3.6/site-packages/instaboostfast/pycococreater.py:48: VisibleDeprecationWarning: Creating an ndarray from ragged nested sequences (which is a list-or-tuple of lists-or-tuples-or ndarrays with different lengths or shapes) is deprecated. If you meant to do this, you must specify 'dtype=object' when creating the ndarray\n",
      "  contours = np.subtract(contours, 1)\n",
      "/home/ubuntu/anaconda3/envs/pytorch_p36/lib/python3.6/site-packages/instaboostfast/pycococreater.py:48: VisibleDeprecationWarning: Creating an ndarray from ragged nested sequences (which is a list-or-tuple of lists-or-tuples-or ndarrays with different lengths or shapes) is deprecated. If you meant to do this, you must specify 'dtype=object' when creating the ndarray\n",
      "  contours = np.subtract(contours, 1)\n",
      "2021-05-20 07:05:19,559 - mmdet - INFO - Epoch [11][50/818]\tlr: 9.330e-05, eta: 18:24:47, time: 1.791, data_time: 0.176, memory: 26469, loss_rpn_cls: 0.0444, loss_rpn_bbox: 0.0307, loss_semantic_seg: 0.1209, s0.loss_cls: 0.2966, s0.acc: 90.7568, s0.loss_bbox: 0.1656, s0.loss_mask: 0.2488, s1.loss_cls: 0.1356, s1.acc: 91.3803, s1.loss_bbox: 0.1353, s1.loss_mask: 0.1070, s2.loss_cls: 0.0620, s2.acc: 92.0235, s2.loss_bbox: 0.0703, s2.loss_mask: 0.0471, loss: 1.4643, grad_norm: 6.6243\n",
      "2021-05-20 07:06:42,284 - mmdet - INFO - Epoch [11][100/818]\tlr: 9.330e-05, eta: 18:23:33, time: 1.655, data_time: 0.061, memory: 26469, loss_rpn_cls: 0.0370, loss_rpn_bbox: 0.0266, loss_semantic_seg: 0.1077, s0.loss_cls: 0.2589, s0.acc: 92.0225, s0.loss_bbox: 0.1308, s0.loss_mask: 0.2220, s1.loss_cls: 0.1191, s1.acc: 92.6425, s1.loss_bbox: 0.1086, s1.loss_mask: 0.0980, s2.loss_cls: 0.0560, s2.acc: 92.8188, s2.loss_bbox: 0.0608, s2.loss_mask: 0.0437, loss: 1.2692, grad_norm: 6.7315\n",
      "2021-05-20 07:08:07,952 - mmdet - INFO - Epoch [11][150/818]\tlr: 9.330e-05, eta: 18:22:34, time: 1.713, data_time: 0.073, memory: 26469, loss_rpn_cls: 0.0373, loss_rpn_bbox: 0.0273, loss_semantic_seg: 0.1185, s0.loss_cls: 0.2568, s0.acc: 91.8691, s0.loss_bbox: 0.1434, s0.loss_mask: 0.2442, s1.loss_cls: 0.1178, s1.acc: 92.2016, s1.loss_bbox: 0.1193, s1.loss_mask: 0.1093, s2.loss_cls: 0.0551, s2.acc: 92.8477, s2.loss_bbox: 0.0659, s2.loss_mask: 0.0493, loss: 1.3442, grad_norm: 6.9636\n",
      "2021-05-20 07:09:32,766 - mmdet - INFO - Epoch [11][200/818]\tlr: 9.330e-05, eta: 18:21:31, time: 1.696, data_time: 0.080, memory: 26469, loss_rpn_cls: 0.0385, loss_rpn_bbox: 0.0300, loss_semantic_seg: 0.1237, s0.loss_cls: 0.2603, s0.acc: 91.8809, s0.loss_bbox: 0.1492, s0.loss_mask: 0.2376, s1.loss_cls: 0.1192, s1.acc: 92.5244, s1.loss_bbox: 0.1257, s1.loss_mask: 0.1039, s2.loss_cls: 0.0560, s2.acc: 92.9345, s2.loss_bbox: 0.0677, s2.loss_mask: 0.0463, loss: 1.3581, grad_norm: 6.3401\n",
      "2021-05-20 07:10:52,169 - mmdet - INFO - Epoch [11][250/818]\tlr: 9.330e-05, eta: 18:20:01, time: 1.588, data_time: 0.053, memory: 26469, loss_rpn_cls: 0.0325, loss_rpn_bbox: 0.0209, loss_semantic_seg: 0.1169, s0.loss_cls: 0.2088, s0.acc: 93.6064, s0.loss_bbox: 0.1051, s0.loss_mask: 0.2109, s1.loss_cls: 0.0949, s1.acc: 94.1089, s1.loss_bbox: 0.0880, s1.loss_mask: 0.0949, s2.loss_cls: 0.0445, s2.acc: 94.5146, s2.loss_bbox: 0.0480, s2.loss_mask: 0.0424, loss: 1.1078, grad_norm: 5.8777\n",
      "2021-05-20 07:12:10,758 - mmdet - INFO - Epoch [11][300/818]\tlr: 9.330e-05, eta: 18:18:27, time: 1.572, data_time: 0.063, memory: 26469, loss_rpn_cls: 0.0370, loss_rpn_bbox: 0.0261, loss_semantic_seg: 0.1146, s0.loss_cls: 0.2577, s0.acc: 92.0771, s0.loss_bbox: 0.1313, s0.loss_mask: 0.2272, s1.loss_cls: 0.1204, s1.acc: 92.6409, s1.loss_bbox: 0.1114, s1.loss_mask: 0.1003, s2.loss_cls: 0.0571, s2.acc: 92.9570, s2.loss_bbox: 0.0592, s2.loss_mask: 0.0444, loss: 1.2867, grad_norm: 6.8781\n",
      "2021-05-20 07:13:34,633 - mmdet - INFO - Epoch [11][350/818]\tlr: 9.330e-05, eta: 18:17:19, time: 1.677, data_time: 0.061, memory: 26469, loss_rpn_cls: 0.0357, loss_rpn_bbox: 0.0256, loss_semantic_seg: 0.1127, s0.loss_cls: 0.2416, s0.acc: 92.3672, s0.loss_bbox: 0.1359, s0.loss_mask: 0.2465, s1.loss_cls: 0.1113, s1.acc: 92.8651, s1.loss_bbox: 0.1186, s1.loss_mask: 0.1096, s2.loss_cls: 0.0520, s2.acc: 93.2577, s2.loss_bbox: 0.0635, s2.loss_mask: 0.0480, loss: 1.3009, grad_norm: 6.5682\n",
      "2021-05-20 07:14:56,045 - mmdet - INFO - Epoch [11][400/818]\tlr: 9.330e-05, eta: 18:15:59, time: 1.628, data_time: 0.064, memory: 26469, loss_rpn_cls: 0.0336, loss_rpn_bbox: 0.0240, loss_semantic_seg: 0.1141, s0.loss_cls: 0.2449, s0.acc: 92.4463, s0.loss_bbox: 0.1347, s0.loss_mask: 0.2352, s1.loss_cls: 0.1127, s1.acc: 92.9768, s1.loss_bbox: 0.1133, s1.loss_mask: 0.1033, s2.loss_cls: 0.0518, s2.acc: 93.3903, s2.loss_bbox: 0.0597, s2.loss_mask: 0.0451, loss: 1.2724, grad_norm: 6.6447\n",
      "2021-05-20 07:16:19,055 - mmdet - INFO - Epoch [11][450/818]\tlr: 9.330e-05, eta: 18:14:46, time: 1.660, data_time: 0.070, memory: 26469, loss_rpn_cls: 0.0475, loss_rpn_bbox: 0.0320, loss_semantic_seg: 0.1136, s0.loss_cls: 0.2833, s0.acc: 91.2900, s0.loss_bbox: 0.1539, s0.loss_mask: 0.2566, s1.loss_cls: 0.1304, s1.acc: 91.9012, s1.loss_bbox: 0.1301, s1.loss_mask: 0.1131, s2.loss_cls: 0.0592, s2.acc: 92.5293, s2.loss_bbox: 0.0672, s2.loss_mask: 0.0487, loss: 1.4357, grad_norm: 7.1688\n",
      "2021-05-20 07:17:43,036 - mmdet - INFO - Epoch [11][500/818]\tlr: 9.330e-05, eta: 18:13:38, time: 1.680, data_time: 0.067, memory: 26469, loss_rpn_cls: 0.0466, loss_rpn_bbox: 0.0328, loss_semantic_seg: 0.1145, s0.loss_cls: 0.2892, s0.acc: 90.8242, s0.loss_bbox: 0.1631, s0.loss_mask: 0.2479, s1.loss_cls: 0.1329, s1.acc: 91.4590, s1.loss_bbox: 0.1354, s1.loss_mask: 0.1102, s2.loss_cls: 0.0616, s2.acc: 92.1565, s2.loss_bbox: 0.0701, s2.loss_mask: 0.0489, loss: 1.4534, grad_norm: 6.8454\n",
      "2021-05-20 07:19:05,167 - mmdet - INFO - Epoch [11][550/818]\tlr: 9.330e-05, eta: 18:12:21, time: 1.643, data_time: 0.065, memory: 26469, loss_rpn_cls: 0.0360, loss_rpn_bbox: 0.0249, loss_semantic_seg: 0.1066, s0.loss_cls: 0.2505, s0.acc: 92.3467, s0.loss_bbox: 0.1309, s0.loss_mask: 0.2370, s1.loss_cls: 0.1140, s1.acc: 93.0514, s1.loss_bbox: 0.1115, s1.loss_mask: 0.1043, s2.loss_cls: 0.0534, s2.acc: 93.3260, s2.loss_bbox: 0.0605, s2.loss_mask: 0.0468, loss: 1.2764, grad_norm: 6.1190\n",
      "2021-05-20 07:20:28,969 - mmdet - INFO - Epoch [11][600/818]\tlr: 9.330e-05, eta: 18:11:12, time: 1.676, data_time: 0.059, memory: 26469, loss_rpn_cls: 0.0387, loss_rpn_bbox: 0.0268, loss_semantic_seg: 0.1173, s0.loss_cls: 0.2585, s0.acc: 91.9678, s0.loss_bbox: 0.1420, s0.loss_mask: 0.2312, s1.loss_cls: 0.1207, s1.acc: 92.4169, s1.loss_bbox: 0.1227, s1.loss_mask: 0.1022, s2.loss_cls: 0.0578, s2.acc: 92.6252, s2.loss_bbox: 0.0671, s2.loss_mask: 0.0462, loss: 1.3312, grad_norm: 6.2689\n",
      "2021-05-20 07:21:55,644 - mmdet - INFO - Epoch [11][650/818]\tlr: 9.330e-05, eta: 18:10:15, time: 1.733, data_time: 0.081, memory: 26469, loss_rpn_cls: 0.0364, loss_rpn_bbox: 0.0259, loss_semantic_seg: 0.1098, s0.loss_cls: 0.2663, s0.acc: 91.7305, s0.loss_bbox: 0.1390, s0.loss_mask: 0.2275, s1.loss_cls: 0.1231, s1.acc: 92.2474, s1.loss_bbox: 0.1215, s1.loss_mask: 0.1005, s2.loss_cls: 0.0569, s2.acc: 92.9960, s2.loss_bbox: 0.0652, s2.loss_mask: 0.0449, loss: 1.3171, grad_norm: 6.4188\n",
      "2021-05-20 07:23:20,791 - mmdet - INFO - Epoch [11][700/818]\tlr: 9.330e-05, eta: 18:09:12, time: 1.703, data_time: 0.081, memory: 26469, loss_rpn_cls: 0.0432, loss_rpn_bbox: 0.0300, loss_semantic_seg: 0.1120, s0.loss_cls: 0.2860, s0.acc: 91.2607, s0.loss_bbox: 0.1534, s0.loss_mask: 0.2466, s1.loss_cls: 0.1343, s1.acc: 91.7224, s1.loss_bbox: 0.1339, s1.loss_mask: 0.1102, s2.loss_cls: 0.0620, s2.acc: 92.1629, s2.loss_bbox: 0.0698, s2.loss_mask: 0.0483, loss: 1.4295, grad_norm: 6.3120\n",
      "2021-05-20 07:24:44,756 - mmdet - INFO - Epoch [11][750/818]\tlr: 9.330e-05, eta: 18:08:02, time: 1.679, data_time: 0.074, memory: 26469, loss_rpn_cls: 0.0351, loss_rpn_bbox: 0.0273, loss_semantic_seg: 0.1137, s0.loss_cls: 0.2618, s0.acc: 91.7490, s0.loss_bbox: 0.1349, s0.loss_mask: 0.2407, s1.loss_cls: 0.1229, s1.acc: 92.3123, s1.loss_bbox: 0.1111, s1.loss_mask: 0.1050, s2.loss_cls: 0.0589, s2.acc: 92.6631, s2.loss_bbox: 0.0589, s2.loss_mask: 0.0468, loss: 1.3173, grad_norm: 6.9678\n"
     ]
    },
    {
     "name": "stderr",
     "output_type": "stream",
     "text": [
      "2021-05-20 07:26:09,276 - mmdet - INFO - Epoch [11][800/818]\tlr: 9.330e-05, eta: 18:06:55, time: 1.690, data_time: 0.070, memory: 26469, loss_rpn_cls: 0.0420, loss_rpn_bbox: 0.0296, loss_semantic_seg: 0.1183, s0.loss_cls: 0.2756, s0.acc: 91.2510, s0.loss_bbox: 0.1544, s0.loss_mask: 0.2473, s1.loss_cls: 0.1284, s1.acc: 91.9167, s1.loss_bbox: 0.1286, s1.loss_mask: 0.1074, s2.loss_cls: 0.0588, s2.acc: 92.6760, s2.loss_bbox: 0.0651, s2.loss_mask: 0.0467, loss: 1.4022, grad_norm: 6.7351\n",
      "2021-05-20 07:26:38,549 - mmdet - INFO - Saving checkpoint at 11 epochs\n"
     ]
    },
    {
     "name": "stdout",
     "output_type": "stream",
     "text": [
      "[>>>>>>>>>>>>>>>>>>>>>>>>>>>>>] 655/655, 3.7 task/s, elapsed: 176s, ETA:     0s"
     ]
    },
    {
     "name": "stderr",
     "output_type": "stream",
     "text": [
      "2021-05-20 07:29:41,517 - mmdet - INFO - Evaluating bbox...\n"
     ]
    },
    {
     "name": "stdout",
     "output_type": "stream",
     "text": [
      "Loading and preparing results...\n",
      "DONE (t=1.32s)\n",
      "creating index...\n",
      "index created!\n",
      "Running per image evaluation...\n",
      "Evaluate annotation type *bbox*\n",
      "DONE (t=7.52s).\n",
      "Accumulating evaluation results...\n"
     ]
    },
    {
     "name": "stderr",
     "output_type": "stream",
     "text": [
      "2021-05-20 07:29:52,171 - mmdet - INFO - Epoch(val) [11][818]\tbbox_mAP: 0.3310, bbox_mAP_50: 0.5010, bbox_mAP_75: 0.3350, bbox_mAP_s: 0.0840, bbox_mAP_m: 0.3360, bbox_mAP_l: 0.5590, bbox_mAP_copypaste: 0.331 0.501 0.335 0.084 0.336 0.559\n"
     ]
    },
    {
     "name": "stdout",
     "output_type": "stream",
     "text": [
      "DONE (t=1.64s).\n",
      "Average Precision  (AP) @[ IoU=0.50:0.95 | area=   all | maxDets=100 ] = 0.331\n",
      "Average Precision  (AP) @[ IoU=0.50      | area=   all | maxDets=1000 ] = 0.501\n",
      "Average Precision  (AP) @[ IoU=0.75      | area=   all | maxDets=1000 ] = 0.335\n",
      "Average Precision  (AP) @[ IoU=0.50:0.95 | area= small | maxDets=1000 ] = 0.084\n",
      "Average Precision  (AP) @[ IoU=0.50:0.95 | area=medium | maxDets=1000 ] = 0.336\n",
      "Average Precision  (AP) @[ IoU=0.50:0.95 | area= large | maxDets=1000 ] = 0.559\n",
      "Average Recall     (AR) @[ IoU=0.50:0.95 | area=   all | maxDets=100 ] = 0.471\n",
      "Average Recall     (AR) @[ IoU=0.50:0.95 | area=   all | maxDets=300 ] = 0.471\n",
      "Average Recall     (AR) @[ IoU=0.50:0.95 | area=   all | maxDets=1000 ] = 0.471\n",
      "Average Recall     (AR) @[ IoU=0.50:0.95 | area= small | maxDets=1000 ] = 0.186\n",
      "Average Recall     (AR) @[ IoU=0.50:0.95 | area=medium | maxDets=1000 ] = 0.472\n",
      "Average Recall     (AR) @[ IoU=0.50:0.95 | area= large | maxDets=1000 ] = 0.735\n"
     ]
    },
    {
     "name": "stderr",
     "output_type": "stream",
     "text": [
      "/home/ubuntu/anaconda3/envs/pytorch_p36/lib/python3.6/site-packages/instaboostfast/pycococreater.py:48: VisibleDeprecationWarning: Creating an ndarray from ragged nested sequences (which is a list-or-tuple of lists-or-tuples-or ndarrays with different lengths or shapes) is deprecated. If you meant to do this, you must specify 'dtype=object' when creating the ndarray\n",
      "  contours = np.subtract(contours, 1)\n",
      "/home/ubuntu/anaconda3/envs/pytorch_p36/lib/python3.6/site-packages/instaboostfast/pycococreater.py:48: VisibleDeprecationWarning: Creating an ndarray from ragged nested sequences (which is a list-or-tuple of lists-or-tuples-or ndarrays with different lengths or shapes) is deprecated. If you meant to do this, you must specify 'dtype=object' when creating the ndarray\n",
      "  contours = np.subtract(contours, 1)\n",
      "2021-05-20 07:31:19,879 - mmdet - INFO - Epoch [12][50/818]\tlr: 9.193e-05, eta: 18:03:24, time: 1.754, data_time: 0.153, memory: 26469, loss_rpn_cls: 0.0334, loss_rpn_bbox: 0.0258, loss_semantic_seg: 0.1154, s0.loss_cls: 0.2491, s0.acc: 92.2275, s0.loss_bbox: 0.1283, s0.loss_mask: 0.2529, s1.loss_cls: 0.1160, s1.acc: 92.6387, s1.loss_bbox: 0.1102, s1.loss_mask: 0.1110, s2.loss_cls: 0.0555, s2.acc: 92.8806, s2.loss_bbox: 0.0601, s2.loss_mask: 0.0499, loss: 1.3076, grad_norm: 7.1325\n",
      "2021-05-20 07:32:43,723 - mmdet - INFO - Epoch [12][100/818]\tlr: 9.193e-05, eta: 18:02:14, time: 1.677, data_time: 0.067, memory: 26469, loss_rpn_cls: 0.0391, loss_rpn_bbox: 0.0291, loss_semantic_seg: 0.1182, s0.loss_cls: 0.2726, s0.acc: 91.5908, s0.loss_bbox: 0.1429, s0.loss_mask: 0.2299, s1.loss_cls: 0.1264, s1.acc: 92.1605, s1.loss_bbox: 0.1208, s1.loss_mask: 0.1036, s2.loss_cls: 0.0586, s2.acc: 92.6881, s2.loss_bbox: 0.0667, s2.loss_mask: 0.0471, loss: 1.3549, grad_norm: 6.9058\n",
      "2021-05-20 07:34:07,770 - mmdet - INFO - Epoch [12][150/818]\tlr: 9.193e-05, eta: 18:01:05, time: 1.681, data_time: 0.076, memory: 26469, loss_rpn_cls: 0.0343, loss_rpn_bbox: 0.0263, loss_semantic_seg: 0.1099, s0.loss_cls: 0.2456, s0.acc: 92.2432, s0.loss_bbox: 0.1371, s0.loss_mask: 0.2354, s1.loss_cls: 0.1124, s1.acc: 92.7647, s1.loss_bbox: 0.1143, s1.loss_mask: 0.1034, s2.loss_cls: 0.0538, s2.acc: 93.0296, s2.loss_bbox: 0.0635, s2.loss_mask: 0.0458, loss: 1.2819, grad_norm: 6.7053\n",
      "2021-05-20 07:35:32,203 - mmdet - INFO - Epoch [12][200/818]\tlr: 9.193e-05, eta: 17:59:58, time: 1.689, data_time: 0.076, memory: 26469, loss_rpn_cls: 0.0378, loss_rpn_bbox: 0.0282, loss_semantic_seg: 0.1155, s0.loss_cls: 0.2654, s0.acc: 91.6543, s0.loss_bbox: 0.1386, s0.loss_mask: 0.2331, s1.loss_cls: 0.1220, s1.acc: 92.3331, s1.loss_bbox: 0.1190, s1.loss_mask: 0.1049, s2.loss_cls: 0.0579, s2.acc: 92.6305, s2.loss_bbox: 0.0655, s2.loss_mask: 0.0473, loss: 1.3352, grad_norm: 6.8885\n",
      "2021-05-20 07:36:56,633 - mmdet - INFO - Epoch [12][250/818]\tlr: 9.193e-05, eta: 17:58:50, time: 1.689, data_time: 0.071, memory: 26469, loss_rpn_cls: 0.0409, loss_rpn_bbox: 0.0344, loss_semantic_seg: 0.1288, s0.loss_cls: 0.2822, s0.acc: 91.2295, s0.loss_bbox: 0.1567, s0.loss_mask: 0.2390, s1.loss_cls: 0.1300, s1.acc: 91.9002, s1.loss_bbox: 0.1272, s1.loss_mask: 0.1028, s2.loss_cls: 0.0593, s2.acc: 92.6703, s2.loss_bbox: 0.0648, s2.loss_mask: 0.0451, loss: 1.4111, grad_norm: 6.3480\n",
      "2021-05-20 07:38:19,345 - mmdet - INFO - Epoch [12][300/818]\tlr: 9.193e-05, eta: 17:57:35, time: 1.654, data_time: 0.064, memory: 26469, loss_rpn_cls: 0.0365, loss_rpn_bbox: 0.0269, loss_semantic_seg: 0.1218, s0.loss_cls: 0.2669, s0.acc: 91.8496, s0.loss_bbox: 0.1447, s0.loss_mask: 0.2595, s1.loss_cls: 0.1225, s1.acc: 92.4947, s1.loss_bbox: 0.1176, s1.loss_mask: 0.1173, s2.loss_cls: 0.0573, s2.acc: 92.9417, s2.loss_bbox: 0.0623, s2.loss_mask: 0.0540, loss: 1.3874, grad_norm: 7.2872\n",
      "2021-05-20 07:39:42,439 - mmdet - INFO - Epoch [12][350/818]\tlr: 9.193e-05, eta: 17:56:22, time: 1.662, data_time: 0.064, memory: 26469, loss_rpn_cls: 0.0368, loss_rpn_bbox: 0.0297, loss_semantic_seg: 0.1012, s0.loss_cls: 0.2611, s0.acc: 92.0938, s0.loss_bbox: 0.1472, s0.loss_mask: 0.2539, s1.loss_cls: 0.1175, s1.acc: 92.8414, s1.loss_bbox: 0.1184, s1.loss_mask: 0.1164, s2.loss_cls: 0.0544, s2.acc: 93.4930, s2.loss_bbox: 0.0589, s2.loss_mask: 0.0516, loss: 1.3471, grad_norm: 6.4655\n",
      "2021-05-20 07:41:05,399 - mmdet - INFO - Epoch [12][400/818]\tlr: 9.193e-05, eta: 17:55:08, time: 1.659, data_time: 0.068, memory: 26469, loss_rpn_cls: 0.0384, loss_rpn_bbox: 0.0280, loss_semantic_seg: 0.1206, s0.loss_cls: 0.2831, s0.acc: 91.2236, s0.loss_bbox: 0.1466, s0.loss_mask: 0.2327, s1.loss_cls: 0.1323, s1.acc: 91.7699, s1.loss_bbox: 0.1226, s1.loss_mask: 0.1012, s2.loss_cls: 0.0629, s2.acc: 92.2321, s2.loss_bbox: 0.0647, s2.loss_mask: 0.0453, loss: 1.3784, grad_norm: 6.7549\n",
      "2021-05-20 07:42:29,150 - mmdet - INFO - Epoch [12][450/818]\tlr: 9.193e-05, eta: 17:53:57, time: 1.675, data_time: 0.068, memory: 26469, loss_rpn_cls: 0.0378, loss_rpn_bbox: 0.0265, loss_semantic_seg: 0.1192, s0.loss_cls: 0.2481, s0.acc: 91.9180, s0.loss_bbox: 0.1428, s0.loss_mask: 0.2380, s1.loss_cls: 0.1187, s1.acc: 92.2536, s1.loss_bbox: 0.1206, s1.loss_mask: 0.1056, s2.loss_cls: 0.0562, s2.acc: 92.6488, s2.loss_bbox: 0.0623, s2.loss_mask: 0.0466, loss: 1.3224, grad_norm: 6.2892\n",
      "2021-05-20 07:43:52,936 - mmdet - INFO - Epoch [12][500/818]\tlr: 9.193e-05, eta: 17:52:46, time: 1.676, data_time: 0.066, memory: 26469, loss_rpn_cls: 0.0356, loss_rpn_bbox: 0.0277, loss_semantic_seg: 0.1067, s0.loss_cls: 0.2569, s0.acc: 91.8994, s0.loss_bbox: 0.1441, s0.loss_mask: 0.2371, s1.loss_cls: 0.1205, s1.acc: 92.4645, s1.loss_bbox: 0.1299, s1.loss_mask: 0.1081, s2.loss_cls: 0.0579, s2.acc: 92.5091, s2.loss_bbox: 0.0698, s2.loss_mask: 0.0475, loss: 1.3417, grad_norm: 6.4250\n",
      "2021-05-20 07:45:16,826 - mmdet - INFO - Epoch [12][550/818]\tlr: 9.193e-05, eta: 17:51:35, time: 1.678, data_time: 0.076, memory: 26469, loss_rpn_cls: 0.0368, loss_rpn_bbox: 0.0313, loss_semantic_seg: 0.1091, s0.loss_cls: 0.2682, s0.acc: 91.5508, s0.loss_bbox: 0.1452, s0.loss_mask: 0.2445, s1.loss_cls: 0.1266, s1.acc: 92.0585, s1.loss_bbox: 0.1254, s1.loss_mask: 0.1084, s2.loss_cls: 0.0606, s2.acc: 92.1308, s2.loss_bbox: 0.0666, s2.loss_mask: 0.0480, loss: 1.3707, grad_norm: 6.5361\n",
      "2021-05-20 07:46:43,322 - mmdet - INFO - Epoch [12][600/818]\tlr: 9.193e-05, eta: 17:50:35, time: 1.730, data_time: 0.077, memory: 26469, loss_rpn_cls: 0.0387, loss_rpn_bbox: 0.0321, loss_semantic_seg: 0.1112, s0.loss_cls: 0.2698, s0.acc: 91.6348, s0.loss_bbox: 0.1505, s0.loss_mask: 0.2362, s1.loss_cls: 0.1263, s1.acc: 92.2857, s1.loss_bbox: 0.1242, s1.loss_mask: 0.1056, s2.loss_cls: 0.0592, s2.acc: 92.5207, s2.loss_bbox: 0.0679, s2.loss_mask: 0.0472, loss: 1.3690, grad_norm: 6.4401\n",
      "2021-05-20 07:48:05,634 - mmdet - INFO - Epoch [12][650/818]\tlr: 9.193e-05, eta: 17:49:18, time: 1.646, data_time: 0.058, memory: 26469, loss_rpn_cls: 0.0390, loss_rpn_bbox: 0.0270, loss_semantic_seg: 0.1188, s0.loss_cls: 0.2436, s0.acc: 92.4453, s0.loss_bbox: 0.1269, s0.loss_mask: 0.2308, s1.loss_cls: 0.1174, s1.acc: 92.6485, s1.loss_bbox: 0.1093, s1.loss_mask: 0.1018, s2.loss_cls: 0.0558, s2.acc: 92.9591, s2.loss_bbox: 0.0589, s2.loss_mask: 0.0453, loss: 1.2747, grad_norm: 7.0772\n",
      "2021-05-20 07:49:30,996 - mmdet - INFO - Epoch [12][700/818]\tlr: 9.193e-05, eta: 17:48:13, time: 1.707, data_time: 0.097, memory: 26469, loss_rpn_cls: 0.0379, loss_rpn_bbox: 0.0305, loss_semantic_seg: 0.1122, s0.loss_cls: 0.2684, s0.acc: 91.5010, s0.loss_bbox: 0.1408, s0.loss_mask: 0.2455, s1.loss_cls: 0.1273, s1.acc: 91.9769, s1.loss_bbox: 0.1235, s1.loss_mask: 0.1090, s2.loss_cls: 0.0601, s2.acc: 92.5397, s2.loss_bbox: 0.0669, s2.loss_mask: 0.0489, loss: 1.3711, grad_norm: 6.3318\n",
      "2021-05-20 07:50:55,480 - mmdet - INFO - Epoch [12][750/818]\tlr: 9.193e-05, eta: 17:47:04, time: 1.690, data_time: 0.072, memory: 26469, loss_rpn_cls: 0.0321, loss_rpn_bbox: 0.0272, loss_semantic_seg: 0.1173, s0.loss_cls: 0.2453, s0.acc: 92.3242, s0.loss_bbox: 0.1283, s0.loss_mask: 0.2309, s1.loss_cls: 0.1124, s1.acc: 92.8416, s1.loss_bbox: 0.1121, s1.loss_mask: 0.1008, s2.loss_cls: 0.0523, s2.acc: 93.3551, s2.loss_bbox: 0.0609, s2.loss_mask: 0.0452, loss: 1.2648, grad_norm: 6.6055\n",
      "2021-05-20 07:52:19,574 - mmdet - INFO - Epoch [12][800/818]\tlr: 9.193e-05, eta: 17:45:53, time: 1.682, data_time: 0.071, memory: 26469, loss_rpn_cls: 0.0381, loss_rpn_bbox: 0.0261, loss_semantic_seg: 0.1040, s0.loss_cls: 0.2540, s0.acc: 92.1523, s0.loss_bbox: 0.1347, s0.loss_mask: 0.2377, s1.loss_cls: 0.1169, s1.acc: 92.7075, s1.loss_bbox: 0.1145, s1.loss_mask: 0.1039, s2.loss_cls: 0.0540, s2.acc: 92.9876, s2.loss_bbox: 0.0608, s2.loss_mask: 0.0460, loss: 1.2907, grad_norm: 6.1863\n"
     ]
    },
    {
     "name": "stderr",
     "output_type": "stream",
     "text": [
      "2021-05-20 07:52:50,737 - mmdet - INFO - Saving checkpoint at 12 epochs\n"
     ]
    },
    {
     "name": "stdout",
     "output_type": "stream",
     "text": [
      "[>>>>>>>>>>>>>>>>>>>>>>>>>>>>>] 655/655, 3.6 task/s, elapsed: 180s, ETA:     0s"
     ]
    },
    {
     "name": "stderr",
     "output_type": "stream",
     "text": [
      "2021-05-20 07:55:58,523 - mmdet - INFO - Evaluating bbox...\n"
     ]
    },
    {
     "name": "stdout",
     "output_type": "stream",
     "text": [
      "Loading and preparing results...\n",
      "DONE (t=0.75s)\n",
      "creating index...\n",
      "index created!\n",
      "Running per image evaluation...\n",
      "Evaluate annotation type *bbox*\n",
      "DONE (t=8.62s).\n",
      "Accumulating evaluation results...\n",
      "DONE (t=1.69s).\n",
      "Average Precision  (AP) @[ IoU=0.50:0.95 | area=   all | maxDets=100 ] = 0.359\n",
      "Average Precision  (AP) @[ IoU=0.50      | area=   all | maxDets=1000 ] = 0.515\n",
      "Average Precision  (AP) @[ IoU=0.75      | area=   all | maxDets=1000 ] = 0.383\n",
      "Average Precision  (AP) @[ IoU=0.50:0.95 | area= small | maxDets=1000 ] = 0.101\n",
      "Average Precision  (AP) @[ IoU=0.50:0.95 | area=medium | maxDets=1000 ] = 0.358\n",
      "Average Precision  (AP) @[ IoU=0.50:0.95 | area= large | maxDets=1000 ] = 0.573\n",
      "Average Recall     (AR) @[ IoU=0.50:0.95 | area=   all | maxDets=100 ] = 0.495\n",
      "Average Recall     (AR) @[ IoU=0.50:0.95 | area=   all | maxDets=300 ] = 0.495\n",
      "Average Recall     (AR) @[ IoU=0.50:0.95 | area=   all | maxDets=1000 ] = 0.495\n",
      "Average Recall     (AR) @[ IoU=0.50:0.95 | area= small | maxDets=1000 ] = 0.190\n",
      "Average Recall     (AR) @[ IoU=0.50:0.95 | area=medium | maxDets=1000 ] = 0.500\n",
      "Average Recall     (AR) @[ IoU=0.50:0.95 | area= large | maxDets=1000 ] = 0.744\n"
     ]
    },
    {
     "name": "stderr",
     "output_type": "stream",
     "text": [
      "2021-05-20 07:56:13,272 - mmdet - INFO - Now best checkpoint is epoch_12.pth.Best bbox_mAP_50 is 0.5150\n",
      "2021-05-20 07:56:13,306 - mmdet - INFO - Epoch(val) [12][818]\tbbox_mAP: 0.3590, bbox_mAP_50: 0.5150, bbox_mAP_75: 0.3830, bbox_mAP_s: 0.1010, bbox_mAP_m: 0.3580, bbox_mAP_l: 0.5730, bbox_mAP_copypaste: 0.359 0.515 0.383 0.101 0.358 0.573\n",
      "/home/ubuntu/anaconda3/envs/pytorch_p36/lib/python3.6/site-packages/instaboostfast/pycococreater.py:48: VisibleDeprecationWarning: Creating an ndarray from ragged nested sequences (which is a list-or-tuple of lists-or-tuples-or ndarrays with different lengths or shapes) is deprecated. If you meant to do this, you must specify 'dtype=object' when creating the ndarray\n",
      "  contours = np.subtract(contours, 1)\n",
      "/home/ubuntu/anaconda3/envs/pytorch_p36/lib/python3.6/site-packages/instaboostfast/pycococreater.py:48: VisibleDeprecationWarning: Creating an ndarray from ragged nested sequences (which is a list-or-tuple of lists-or-tuples-or ndarrays with different lengths or shapes) is deprecated. If you meant to do this, you must specify 'dtype=object' when creating the ndarray\n",
      "  contours = np.subtract(contours, 1)\n",
      "2021-05-20 07:57:39,730 - mmdet - INFO - Epoch [13][50/818]\tlr: 9.045e-05, eta: 17:42:26, time: 1.728, data_time: 0.153, memory: 26469, loss_rpn_cls: 0.0367, loss_rpn_bbox: 0.0291, loss_semantic_seg: 0.1161, s0.loss_cls: 0.2339, s0.acc: 92.7139, s0.loss_bbox: 0.1250, s0.loss_mask: 0.2166, s1.loss_cls: 0.1065, s1.acc: 93.2796, s1.loss_bbox: 0.1049, s1.loss_mask: 0.0939, s2.loss_cls: 0.0502, s2.acc: 93.5308, s2.loss_bbox: 0.0554, s2.loss_mask: 0.0415, loss: 1.2098, grad_norm: 5.7632\n",
      "2021-05-20 07:59:04,479 - mmdet - INFO - Epoch [13][100/818]\tlr: 9.045e-05, eta: 17:41:18, time: 1.695, data_time: 0.072, memory: 26469, loss_rpn_cls: 0.0360, loss_rpn_bbox: 0.0296, loss_semantic_seg: 0.1104, s0.loss_cls: 0.2598, s0.acc: 91.9854, s0.loss_bbox: 0.1333, s0.loss_mask: 0.2386, s1.loss_cls: 0.1204, s1.acc: 92.4807, s1.loss_bbox: 0.1134, s1.loss_mask: 0.1055, s2.loss_cls: 0.0564, s2.acc: 92.8918, s2.loss_bbox: 0.0618, s2.loss_mask: 0.0473, loss: 1.3125, grad_norm: 5.9482\n",
      "2021-05-20 08:00:26,215 - mmdet - INFO - Epoch [13][150/818]\tlr: 9.045e-05, eta: 17:39:59, time: 1.635, data_time: 0.061, memory: 26469, loss_rpn_cls: 0.0294, loss_rpn_bbox: 0.0232, loss_semantic_seg: 0.1149, s0.loss_cls: 0.2159, s0.acc: 93.0996, s0.loss_bbox: 0.1133, s0.loss_mask: 0.2044, s1.loss_cls: 0.1027, s1.acc: 93.3964, s1.loss_bbox: 0.1010, s1.loss_mask: 0.0907, s2.loss_cls: 0.0498, s2.acc: 93.4262, s2.loss_bbox: 0.0565, s2.loss_mask: 0.0415, loss: 1.1431, grad_norm: 6.6673\n",
      "2021-05-20 08:01:51,040 - mmdet - INFO - Epoch [13][200/818]\tlr: 9.045e-05, eta: 17:38:51, time: 1.697, data_time: 0.072, memory: 26469, loss_rpn_cls: 0.0353, loss_rpn_bbox: 0.0278, loss_semantic_seg: 0.1107, s0.loss_cls: 0.2611, s0.acc: 92.0059, s0.loss_bbox: 0.1373, s0.loss_mask: 0.2190, s1.loss_cls: 0.1206, s1.acc: 92.6768, s1.loss_bbox: 0.1205, s1.loss_mask: 0.0958, s2.loss_cls: 0.0558, s2.acc: 92.9065, s2.loss_bbox: 0.0645, s2.loss_mask: 0.0416, loss: 1.2900, grad_norm: 6.3794\n",
      "2021-05-20 08:03:15,412 - mmdet - INFO - Epoch [13][250/818]\tlr: 9.045e-05, eta: 17:37:42, time: 1.687, data_time: 0.074, memory: 26469, loss_rpn_cls: 0.0361, loss_rpn_bbox: 0.0256, loss_semantic_seg: 0.1159, s0.loss_cls: 0.2347, s0.acc: 92.6865, s0.loss_bbox: 0.1269, s0.loss_mask: 0.2375, s1.loss_cls: 0.1094, s1.acc: 93.0255, s1.loss_bbox: 0.1119, s1.loss_mask: 0.1070, s2.loss_cls: 0.0517, s2.acc: 93.3761, s2.loss_bbox: 0.0608, s2.loss_mask: 0.0478, loss: 1.2650, grad_norm: 6.3240\n",
      "2021-05-20 08:04:39,591 - mmdet - INFO - Epoch [13][300/818]\tlr: 9.045e-05, eta: 17:36:31, time: 1.684, data_time: 0.069, memory: 26469, loss_rpn_cls: 0.0374, loss_rpn_bbox: 0.0281, loss_semantic_seg: 0.1218, s0.loss_cls: 0.2705, s0.acc: 91.7617, s0.loss_bbox: 0.1556, s0.loss_mask: 0.2405, s1.loss_cls: 0.1234, s1.acc: 92.3760, s1.loss_bbox: 0.1265, s1.loss_mask: 0.1039, s2.loss_cls: 0.0569, s2.acc: 92.8195, s2.loss_bbox: 0.0637, s2.loss_mask: 0.0455, loss: 1.3739, grad_norm: 6.6028\n",
      "2021-05-20 08:06:02,456 - mmdet - INFO - Epoch [13][350/818]\tlr: 9.045e-05, eta: 17:35:16, time: 1.657, data_time: 0.062, memory: 26469, loss_rpn_cls: 0.0342, loss_rpn_bbox: 0.0276, loss_semantic_seg: 0.1094, s0.loss_cls: 0.2383, s0.acc: 92.4326, s0.loss_bbox: 0.1250, s0.loss_mask: 0.2256, s1.loss_cls: 0.1112, s1.acc: 93.0787, s1.loss_bbox: 0.1070, s1.loss_mask: 0.1020, s2.loss_cls: 0.0535, s2.acc: 93.1062, s2.loss_bbox: 0.0598, s2.loss_mask: 0.0454, loss: 1.2392, grad_norm: 6.3901\n",
      "2021-05-20 08:07:26,553 - mmdet - INFO - Epoch [13][400/818]\tlr: 9.045e-05, eta: 17:34:05, time: 1.682, data_time: 0.069, memory: 26469, loss_rpn_cls: 0.0397, loss_rpn_bbox: 0.0283, loss_semantic_seg: 0.1020, s0.loss_cls: 0.2455, s0.acc: 92.2715, s0.loss_bbox: 0.1343, s0.loss_mask: 0.2510, s1.loss_cls: 0.1157, s1.acc: 92.6174, s1.loss_bbox: 0.1165, s1.loss_mask: 0.1112, s2.loss_cls: 0.0547, s2.acc: 92.8332, s2.loss_bbox: 0.0621, s2.loss_mask: 0.0476, loss: 1.3087, grad_norm: 7.3547\n",
      "2021-05-20 08:08:50,010 - mmdet - INFO - Epoch [13][450/818]\tlr: 9.045e-05, eta: 17:32:52, time: 1.669, data_time: 0.061, memory: 26469, loss_rpn_cls: 0.0396, loss_rpn_bbox: 0.0257, loss_semantic_seg: 0.1083, s0.loss_cls: 0.2528, s0.acc: 92.3008, s0.loss_bbox: 0.1355, s0.loss_mask: 0.2328, s1.loss_cls: 0.1172, s1.acc: 92.7407, s1.loss_bbox: 0.1163, s1.loss_mask: 0.1060, s2.loss_cls: 0.0550, s2.acc: 93.0573, s2.loss_bbox: 0.0628, s2.loss_mask: 0.0486, loss: 1.3005, grad_norm: 6.2726\n",
      "2021-05-20 08:10:12,944 - mmdet - INFO - Epoch [13][500/818]\tlr: 9.045e-05, eta: 17:31:36, time: 1.659, data_time: 0.065, memory: 26469, loss_rpn_cls: 0.0354, loss_rpn_bbox: 0.0275, loss_semantic_seg: 0.1140, s0.loss_cls: 0.2602, s0.acc: 91.9053, s0.loss_bbox: 0.1419, s0.loss_mask: 0.2300, s1.loss_cls: 0.1210, s1.acc: 92.4510, s1.loss_bbox: 0.1245, s1.loss_mask: 0.1011, s2.loss_cls: 0.0561, s2.acc: 92.9524, s2.loss_bbox: 0.0664, s2.loss_mask: 0.0452, loss: 1.3233, grad_norm: 6.7961\n",
      "2021-05-20 08:11:41,173 - mmdet - INFO - Epoch [13][550/818]\tlr: 9.045e-05, eta: 17:30:40, time: 1.765, data_time: 0.090, memory: 26469, loss_rpn_cls: 0.0375, loss_rpn_bbox: 0.0292, loss_semantic_seg: 0.1153, s0.loss_cls: 0.2453, s0.acc: 92.2725, s0.loss_bbox: 0.1326, s0.loss_mask: 0.2326, s1.loss_cls: 0.1105, s1.acc: 93.2103, s1.loss_bbox: 0.1167, s1.loss_mask: 0.1013, s2.loss_cls: 0.0527, s2.acc: 93.6051, s2.loss_bbox: 0.0650, s2.loss_mask: 0.0448, loss: 1.2833, grad_norm: 6.5797\n",
      "2021-05-20 08:13:06,791 - mmdet - INFO - Epoch [13][600/818]\tlr: 9.045e-05, eta: 17:29:34, time: 1.712, data_time: 0.080, memory: 26469, loss_rpn_cls: 0.0398, loss_rpn_bbox: 0.0301, loss_semantic_seg: 0.1155, s0.loss_cls: 0.2745, s0.acc: 91.4746, s0.loss_bbox: 0.1528, s0.loss_mask: 0.2501, s1.loss_cls: 0.1304, s1.acc: 91.7876, s1.loss_bbox: 0.1282, s1.loss_mask: 0.1107, s2.loss_cls: 0.0606, s2.acc: 92.2543, s2.loss_bbox: 0.0667, s2.loss_mask: 0.0486, loss: 1.4081, grad_norm: 6.4920\n",
      "2021-05-20 08:14:32,884 - mmdet - INFO - Epoch [13][650/818]\tlr: 9.045e-05, eta: 17:28:30, time: 1.722, data_time: 0.073, memory: 26469, loss_rpn_cls: 0.0373, loss_rpn_bbox: 0.0273, loss_semantic_seg: 0.1116, s0.loss_cls: 0.2662, s0.acc: 91.6855, s0.loss_bbox: 0.1462, s0.loss_mask: 0.2443, s1.loss_cls: 0.1249, s1.acc: 92.1708, s1.loss_bbox: 0.1215, s1.loss_mask: 0.1079, s2.loss_cls: 0.0584, s2.acc: 92.5941, s2.loss_bbox: 0.0652, s2.loss_mask: 0.0470, loss: 1.3579, grad_norm: 6.7689\n",
      "2021-05-20 08:15:57,353 - mmdet - INFO - Epoch [13][700/818]\tlr: 9.045e-05, eta: 17:27:20, time: 1.689, data_time: 0.089, memory: 26469, loss_rpn_cls: 0.0464, loss_rpn_bbox: 0.0319, loss_semantic_seg: 0.1116, s0.loss_cls: 0.2889, s0.acc: 91.1182, s0.loss_bbox: 0.1512, s0.loss_mask: 0.2409, s1.loss_cls: 0.1332, s1.acc: 91.7367, s1.loss_bbox: 0.1229, s1.loss_mask: 0.1064, s2.loss_cls: 0.0621, s2.acc: 92.5272, s2.loss_bbox: 0.0618, s2.loss_mask: 0.0473, loss: 1.4044, grad_norm: 6.3621\n",
      "2021-05-20 08:17:19,361 - mmdet - INFO - Epoch [13][750/818]\tlr: 9.045e-05, eta: 17:26:00, time: 1.640, data_time: 0.062, memory: 26469, loss_rpn_cls: 0.0397, loss_rpn_bbox: 0.0258, loss_semantic_seg: 0.1107, s0.loss_cls: 0.2519, s0.acc: 92.1846, s0.loss_bbox: 0.1310, s0.loss_mask: 0.2094, s1.loss_cls: 0.1179, s1.acc: 92.6931, s1.loss_bbox: 0.1140, s1.loss_mask: 0.0930, s2.loss_cls: 0.0556, s2.acc: 93.1073, s2.loss_bbox: 0.0610, s2.loss_mask: 0.0406, loss: 1.2506, grad_norm: 6.7796\n"
     ]
    },
    {
     "name": "stderr",
     "output_type": "stream",
     "text": [
      "2021-05-20 08:18:44,248 - mmdet - INFO - Epoch [13][800/818]\tlr: 9.045e-05, eta: 17:24:51, time: 1.698, data_time: 0.073, memory: 26469, loss_rpn_cls: 0.0382, loss_rpn_bbox: 0.0321, loss_semantic_seg: 0.1116, s0.loss_cls: 0.2657, s0.acc: 91.6895, s0.loss_bbox: 0.1479, s0.loss_mask: 0.2616, s1.loss_cls: 0.1247, s1.acc: 92.1212, s1.loss_bbox: 0.1258, s1.loss_mask: 0.1165, s2.loss_cls: 0.0595, s2.acc: 92.3753, s2.loss_bbox: 0.0652, s2.loss_mask: 0.0519, loss: 1.4006, grad_norm: 6.7132\n",
      "2021-05-20 08:19:14,587 - mmdet - INFO - Saving checkpoint at 13 epochs\n"
     ]
    },
    {
     "name": "stdout",
     "output_type": "stream",
     "text": [
      "[>>>>>>>>>>>>>>>>>>>>>>>>>>>>>] 655/655, 3.7 task/s, elapsed: 179s, ETA:     0s"
     ]
    },
    {
     "name": "stderr",
     "output_type": "stream",
     "text": [
      "2021-05-20 08:22:20,643 - mmdet - INFO - Evaluating bbox...\n"
     ]
    },
    {
     "name": "stdout",
     "output_type": "stream",
     "text": [
      "Loading and preparing results...\n",
      "DONE (t=1.29s)\n",
      "creating index...\n",
      "index created!\n",
      "Running per image evaluation...\n",
      "Evaluate annotation type *bbox*\n",
      "DONE (t=7.94s).\n",
      "Accumulating evaluation results...\n",
      "DONE (t=1.62s).\n",
      "Average Precision  (AP) @[ IoU=0.50:0.95 | area=   all | maxDets=100 ] = 0.373\n",
      "Average Precision  (AP) @[ IoU=0.50      | area=   all | maxDets=1000 ] = 0.531\n",
      "Average Precision  (AP) @[ IoU=0.75      | area=   all | maxDets=1000 ] = 0.400\n",
      "Average Precision  (AP) @[ IoU=0.50:0.95 | area= small | maxDets=1000 ] = 0.104\n",
      "Average Precision  (AP) @[ IoU=0.50:0.95 | area=medium | maxDets=1000 ] = 0.346\n",
      "Average Precision  (AP) @[ IoU=0.50:0.95 | area= large | maxDets=1000 ] = 0.640\n",
      "Average Recall     (AR) @[ IoU=0.50:0.95 | area=   all | maxDets=100 ] = 0.496\n",
      "Average Recall     (AR) @[ IoU=0.50:0.95 | area=   all | maxDets=300 ] = 0.496\n",
      "Average Recall     (AR) @[ IoU=0.50:0.95 | area=   all | maxDets=1000 ] = 0.496\n",
      "Average Recall     (AR) @[ IoU=0.50:0.95 | area= small | maxDets=1000 ] = 0.184\n",
      "Average Recall     (AR) @[ IoU=0.50:0.95 | area=medium | maxDets=1000 ] = 0.493\n",
      "Average Recall     (AR) @[ IoU=0.50:0.95 | area= large | maxDets=1000 ] = 0.750\n"
     ]
    },
    {
     "name": "stderr",
     "output_type": "stream",
     "text": [
      "2021-05-20 08:22:35,412 - mmdet - INFO - Now best checkpoint is epoch_13.pth.Best bbox_mAP_50 is 0.5310\n",
      "2021-05-20 08:22:35,451 - mmdet - INFO - Epoch(val) [13][818]\tbbox_mAP: 0.3730, bbox_mAP_50: 0.5310, bbox_mAP_75: 0.4000, bbox_mAP_s: 0.1040, bbox_mAP_m: 0.3460, bbox_mAP_l: 0.6400, bbox_mAP_copypaste: 0.373 0.531 0.400 0.104 0.346 0.640\n",
      "/home/ubuntu/anaconda3/envs/pytorch_p36/lib/python3.6/site-packages/instaboostfast/pycococreater.py:48: VisibleDeprecationWarning: Creating an ndarray from ragged nested sequences (which is a list-or-tuple of lists-or-tuples-or ndarrays with different lengths or shapes) is deprecated. If you meant to do this, you must specify 'dtype=object' when creating the ndarray\n",
      "  contours = np.subtract(contours, 1)\n",
      "/home/ubuntu/anaconda3/envs/pytorch_p36/lib/python3.6/site-packages/instaboostfast/pycococreater.py:48: VisibleDeprecationWarning: Creating an ndarray from ragged nested sequences (which is a list-or-tuple of lists-or-tuples-or ndarrays with different lengths or shapes) is deprecated. If you meant to do this, you must specify 'dtype=object' when creating the ndarray\n",
      "  contours = np.subtract(contours, 1)\n",
      "2021-05-20 08:24:02,310 - mmdet - INFO - Epoch [14][50/818]\tlr: 8.886e-05, eta: 17:21:34, time: 1.737, data_time: 0.150, memory: 26469, loss_rpn_cls: 0.0419, loss_rpn_bbox: 0.0280, loss_semantic_seg: 0.0976, s0.loss_cls: 0.2532, s0.acc: 92.3105, s0.loss_bbox: 0.1419, s0.loss_mask: 0.2462, s1.loss_cls: 0.1155, s1.acc: 92.9970, s1.loss_bbox: 0.1178, s1.loss_mask: 0.1072, s2.loss_cls: 0.0525, s2.acc: 93.5610, s2.loss_bbox: 0.0592, s2.loss_mask: 0.0453, loss: 1.3063, grad_norm: 6.2448\n",
      "2021-05-20 08:25:26,638 - mmdet - INFO - Epoch [14][100/818]\tlr: 8.886e-05, eta: 17:20:23, time: 1.687, data_time: 0.076, memory: 26469, loss_rpn_cls: 0.0353, loss_rpn_bbox: 0.0249, loss_semantic_seg: 0.0962, s0.loss_cls: 0.2502, s0.acc: 92.0654, s0.loss_bbox: 0.1324, s0.loss_mask: 0.2306, s1.loss_cls: 0.1163, s1.acc: 92.5618, s1.loss_bbox: 0.1152, s1.loss_mask: 0.0990, s2.loss_cls: 0.0555, s2.acc: 92.7038, s2.loss_bbox: 0.0630, s2.loss_mask: 0.0437, loss: 1.2624, grad_norm: 6.0992\n",
      "2021-05-20 08:26:51,830 - mmdet - INFO - Epoch [14][150/818]\tlr: 8.886e-05, eta: 17:19:15, time: 1.704, data_time: 0.069, memory: 26469, loss_rpn_cls: 0.0325, loss_rpn_bbox: 0.0253, loss_semantic_seg: 0.1119, s0.loss_cls: 0.2476, s0.acc: 92.2793, s0.loss_bbox: 0.1334, s0.loss_mask: 0.2247, s1.loss_cls: 0.1124, s1.acc: 92.8338, s1.loss_bbox: 0.1129, s1.loss_mask: 0.0995, s2.loss_cls: 0.0530, s2.acc: 93.2397, s2.loss_bbox: 0.0612, s2.loss_mask: 0.0446, loss: 1.2590, grad_norm: 6.4807\n",
      "2021-05-20 08:28:14,352 - mmdet - INFO - Epoch [14][200/818]\tlr: 8.886e-05, eta: 17:17:58, time: 1.650, data_time: 0.067, memory: 26469, loss_rpn_cls: 0.0363, loss_rpn_bbox: 0.0273, loss_semantic_seg: 0.1153, s0.loss_cls: 0.2447, s0.acc: 92.2422, s0.loss_bbox: 0.1215, s0.loss_mask: 0.2149, s1.loss_cls: 0.1169, s1.acc: 92.5691, s1.loss_bbox: 0.1096, s1.loss_mask: 0.0957, s2.loss_cls: 0.0565, s2.acc: 92.7994, s2.loss_bbox: 0.0635, s2.loss_mask: 0.0439, loss: 1.2461, grad_norm: 6.6284\n",
      "2021-05-20 08:29:39,193 - mmdet - INFO - Epoch [14][250/818]\tlr: 8.886e-05, eta: 17:16:48, time: 1.697, data_time: 0.082, memory: 26469, loss_rpn_cls: 0.0422, loss_rpn_bbox: 0.0287, loss_semantic_seg: 0.1047, s0.loss_cls: 0.2703, s0.acc: 91.5088, s0.loss_bbox: 0.1434, s0.loss_mask: 0.2362, s1.loss_cls: 0.1253, s1.acc: 92.0606, s1.loss_bbox: 0.1203, s1.loss_mask: 0.1055, s2.loss_cls: 0.0586, s2.acc: 92.5124, s2.loss_bbox: 0.0658, s2.loss_mask: 0.0475, loss: 1.3483, grad_norm: 6.2532\n",
      "2021-05-20 08:31:03,613 - mmdet - INFO - Epoch [14][300/818]\tlr: 8.886e-05, eta: 17:15:37, time: 1.688, data_time: 0.083, memory: 26469, loss_rpn_cls: 0.0402, loss_rpn_bbox: 0.0324, loss_semantic_seg: 0.1287, s0.loss_cls: 0.2642, s0.acc: 91.5273, s0.loss_bbox: 0.1453, s0.loss_mask: 0.2369, s1.loss_cls: 0.1242, s1.acc: 92.0965, s1.loss_bbox: 0.1257, s1.loss_mask: 0.1068, s2.loss_cls: 0.0590, s2.acc: 92.3081, s2.loss_bbox: 0.0673, s2.loss_mask: 0.0479, loss: 1.3786, grad_norm: 6.2400\n",
      "2021-05-20 08:32:28,971 - mmdet - INFO - Epoch [14][350/818]\tlr: 8.886e-05, eta: 17:14:29, time: 1.707, data_time: 0.071, memory: 26469, loss_rpn_cls: 0.0362, loss_rpn_bbox: 0.0285, loss_semantic_seg: 0.1069, s0.loss_cls: 0.2373, s0.acc: 92.4512, s0.loss_bbox: 0.1347, s0.loss_mask: 0.2277, s1.loss_cls: 0.1092, s1.acc: 93.1486, s1.loss_bbox: 0.1143, s1.loss_mask: 0.1021, s2.loss_cls: 0.0512, s2.acc: 93.4176, s2.loss_bbox: 0.0612, s2.loss_mask: 0.0445, loss: 1.2539, grad_norm: 6.2664\n",
      "2021-05-20 08:33:54,659 - mmdet - INFO - Epoch [14][400/818]\tlr: 8.886e-05, eta: 17:13:22, time: 1.714, data_time: 0.079, memory: 26469, loss_rpn_cls: 0.0329, loss_rpn_bbox: 0.0269, loss_semantic_seg: 0.1145, s0.loss_cls: 0.2653, s0.acc: 91.7129, s0.loss_bbox: 0.1417, s0.loss_mask: 0.2229, s1.loss_cls: 0.1226, s1.acc: 92.2863, s1.loss_bbox: 0.1232, s1.loss_mask: 0.0979, s2.loss_cls: 0.0583, s2.acc: 92.3887, s2.loss_bbox: 0.0654, s2.loss_mask: 0.0434, loss: 1.3150, grad_norm: 6.9519\n",
      "2021-05-20 08:35:15,578 - mmdet - INFO - Epoch [14][450/818]\tlr: 8.886e-05, eta: 17:11:59, time: 1.618, data_time: 0.061, memory: 26469, loss_rpn_cls: 0.0421, loss_rpn_bbox: 0.0297, loss_semantic_seg: 0.1283, s0.loss_cls: 0.2568, s0.acc: 91.9453, s0.loss_bbox: 0.1373, s0.loss_mask: 0.2292, s1.loss_cls: 0.1165, s1.acc: 92.7852, s1.loss_bbox: 0.1181, s1.loss_mask: 0.1013, s2.loss_cls: 0.0544, s2.acc: 93.2273, s2.loss_bbox: 0.0662, s2.loss_mask: 0.0455, loss: 1.3253, grad_norm: 7.0815\n",
      "2021-05-20 08:36:36,508 - mmdet - INFO - Epoch [14][500/818]\tlr: 8.886e-05, eta: 17:10:36, time: 1.619, data_time: 0.055, memory: 26469, loss_rpn_cls: 0.0305, loss_rpn_bbox: 0.0228, loss_semantic_seg: 0.1052, s0.loss_cls: 0.2343, s0.acc: 92.6924, s0.loss_bbox: 0.1228, s0.loss_mask: 0.2100, s1.loss_cls: 0.1077, s1.acc: 93.2037, s1.loss_bbox: 0.1061, s1.loss_mask: 0.0922, s2.loss_cls: 0.0515, s2.acc: 93.1664, s2.loss_bbox: 0.0567, s2.loss_mask: 0.0414, loss: 1.1813, grad_norm: 6.9036\n",
      "2021-05-20 08:38:00,295 - mmdet - INFO - Epoch [14][550/818]\tlr: 8.886e-05, eta: 17:09:22, time: 1.676, data_time: 0.062, memory: 26469, loss_rpn_cls: 0.0352, loss_rpn_bbox: 0.0249, loss_semantic_seg: 0.0994, s0.loss_cls: 0.2394, s0.acc: 92.4033, s0.loss_bbox: 0.1309, s0.loss_mask: 0.2286, s1.loss_cls: 0.1111, s1.acc: 93.0557, s1.loss_bbox: 0.1112, s1.loss_mask: 0.1041, s2.loss_cls: 0.0527, s2.acc: 93.2961, s2.loss_bbox: 0.0597, s2.loss_mask: 0.0464, loss: 1.2434, grad_norm: 6.5538\n",
      "2021-05-20 08:39:23,927 - mmdet - INFO - Epoch [14][600/818]\tlr: 8.886e-05, eta: 17:08:08, time: 1.673, data_time: 0.066, memory: 26469, loss_rpn_cls: 0.0413, loss_rpn_bbox: 0.0295, loss_semantic_seg: 0.1129, s0.loss_cls: 0.2599, s0.acc: 91.9209, s0.loss_bbox: 0.1387, s0.loss_mask: 0.2386, s1.loss_cls: 0.1206, s1.acc: 92.6086, s1.loss_bbox: 0.1160, s1.loss_mask: 0.1072, s2.loss_cls: 0.0561, s2.acc: 92.8921, s2.loss_bbox: 0.0609, s2.loss_mask: 0.0479, loss: 1.3295, grad_norm: 6.7326\n",
      "2021-05-20 08:40:50,249 - mmdet - INFO - Epoch [14][650/818]\tlr: 8.886e-05, eta: 17:07:02, time: 1.726, data_time: 0.079, memory: 26469, loss_rpn_cls: 0.0432, loss_rpn_bbox: 0.0273, loss_semantic_seg: 0.1177, s0.loss_cls: 0.2610, s0.acc: 91.6934, s0.loss_bbox: 0.1422, s0.loss_mask: 0.2345, s1.loss_cls: 0.1234, s1.acc: 92.1620, s1.loss_bbox: 0.1199, s1.loss_mask: 0.1030, s2.loss_cls: 0.0580, s2.acc: 92.4981, s2.loss_bbox: 0.0621, s2.loss_mask: 0.0456, loss: 1.3379, grad_norm: 6.5720\n",
      "2021-05-20 08:42:13,136 - mmdet - INFO - Epoch [14][700/818]\tlr: 8.886e-05, eta: 17:05:45, time: 1.658, data_time: 0.061, memory: 26469, loss_rpn_cls: 0.0326, loss_rpn_bbox: 0.0214, loss_semantic_seg: 0.0990, s0.loss_cls: 0.2326, s0.acc: 92.7275, s0.loss_bbox: 0.1241, s0.loss_mask: 0.2182, s1.loss_cls: 0.1090, s1.acc: 93.2982, s1.loss_bbox: 0.1076, s1.loss_mask: 0.0953, s2.loss_cls: 0.0521, s2.acc: 93.4654, s2.loss_bbox: 0.0605, s2.loss_mask: 0.0431, loss: 1.1955, grad_norm: 6.5687\n",
      "2021-05-20 08:43:39,273 - mmdet - INFO - Epoch [14][750/818]\tlr: 8.886e-05, eta: 17:04:39, time: 1.723, data_time: 0.081, memory: 26469, loss_rpn_cls: 0.0338, loss_rpn_bbox: 0.0312, loss_semantic_seg: 0.1053, s0.loss_cls: 0.2698, s0.acc: 91.3936, s0.loss_bbox: 0.1422, s0.loss_mask: 0.2359, s1.loss_cls: 0.1280, s1.acc: 91.6942, s1.loss_bbox: 0.1244, s1.loss_mask: 0.1039, s2.loss_cls: 0.0612, s2.acc: 91.9734, s2.loss_bbox: 0.0654, s2.loss_mask: 0.0467, loss: 1.3477, grad_norm: 6.7236\n"
     ]
    },
    {
     "name": "stderr",
     "output_type": "stream",
     "text": [
      "2021-05-20 08:45:04,451 - mmdet - INFO - Epoch [14][800/818]\tlr: 8.886e-05, eta: 17:03:30, time: 1.704, data_time: 0.066, memory: 26469, loss_rpn_cls: 0.0347, loss_rpn_bbox: 0.0254, loss_semantic_seg: 0.1079, s0.loss_cls: 0.2405, s0.acc: 92.5361, s0.loss_bbox: 0.1307, s0.loss_mask: 0.2229, s1.loss_cls: 0.1118, s1.acc: 92.9651, s1.loss_bbox: 0.1134, s1.loss_mask: 0.0975, s2.loss_cls: 0.0519, s2.acc: 93.2287, s2.loss_bbox: 0.0626, s2.loss_mask: 0.0430, loss: 1.2423, grad_norm: 6.2564\n",
      "2021-05-20 08:45:33,873 - mmdet - INFO - Saving checkpoint at 14 epochs\n"
     ]
    },
    {
     "name": "stdout",
     "output_type": "stream",
     "text": [
      "[>>>>>>>>>>>>>>>>>>>>>>>>>>>>>] 655/655, 3.7 task/s, elapsed: 177s, ETA:     0s"
     ]
    },
    {
     "name": "stderr",
     "output_type": "stream",
     "text": [
      "2021-05-20 08:48:37,813 - mmdet - INFO - Evaluating bbox...\n"
     ]
    },
    {
     "name": "stdout",
     "output_type": "stream",
     "text": [
      "Loading and preparing results...\n",
      "DONE (t=0.74s)\n",
      "creating index...\n",
      "index created!\n",
      "Running per image evaluation...\n",
      "Evaluate annotation type *bbox*\n",
      "DONE (t=8.12s).\n",
      "Accumulating evaluation results...\n",
      "DONE (t=1.53s).\n",
      "Average Precision  (AP) @[ IoU=0.50:0.95 | area=   all | maxDets=100 ] = 0.375\n",
      "Average Precision  (AP) @[ IoU=0.50      | area=   all | maxDets=1000 ] = 0.539\n",
      "Average Precision  (AP) @[ IoU=0.75      | area=   all | maxDets=1000 ] = 0.408\n",
      "Average Precision  (AP) @[ IoU=0.50:0.95 | area= small | maxDets=1000 ] = 0.122\n",
      "Average Precision  (AP) @[ IoU=0.50:0.95 | area=medium | maxDets=1000 ] = 0.361\n",
      "Average Precision  (AP) @[ IoU=0.50:0.95 | area= large | maxDets=1000 ] = 0.582\n",
      "Average Recall     (AR) @[ IoU=0.50:0.95 | area=   all | maxDets=100 ] = 0.502\n",
      "Average Recall     (AR) @[ IoU=0.50:0.95 | area=   all | maxDets=300 ] = 0.502\n",
      "Average Recall     (AR) @[ IoU=0.50:0.95 | area=   all | maxDets=1000 ] = 0.502\n",
      "Average Recall     (AR) @[ IoU=0.50:0.95 | area= small | maxDets=1000 ] = 0.207\n",
      "Average Recall     (AR) @[ IoU=0.50:0.95 | area=medium | maxDets=1000 ] = 0.501\n",
      "Average Recall     (AR) @[ IoU=0.50:0.95 | area= large | maxDets=1000 ] = 0.733\n"
     ]
    },
    {
     "name": "stderr",
     "output_type": "stream",
     "text": [
      "2021-05-20 08:48:51,970 - mmdet - INFO - Now best checkpoint is epoch_14.pth.Best bbox_mAP_50 is 0.5390\n",
      "2021-05-20 08:48:52,029 - mmdet - INFO - Epoch(val) [14][818]\tbbox_mAP: 0.3750, bbox_mAP_50: 0.5390, bbox_mAP_75: 0.4080, bbox_mAP_s: 0.1220, bbox_mAP_m: 0.3610, bbox_mAP_l: 0.5820, bbox_mAP_copypaste: 0.375 0.539 0.408 0.122 0.361 0.582\n",
      "/home/ubuntu/anaconda3/envs/pytorch_p36/lib/python3.6/site-packages/instaboostfast/pycococreater.py:48: VisibleDeprecationWarning: Creating an ndarray from ragged nested sequences (which is a list-or-tuple of lists-or-tuples-or ndarrays with different lengths or shapes) is deprecated. If you meant to do this, you must specify 'dtype=object' when creating the ndarray\n",
      "  contours = np.subtract(contours, 1)\n",
      "/home/ubuntu/anaconda3/envs/pytorch_p36/lib/python3.6/site-packages/instaboostfast/pycococreater.py:48: VisibleDeprecationWarning: Creating an ndarray from ragged nested sequences (which is a list-or-tuple of lists-or-tuples-or ndarrays with different lengths or shapes) is deprecated. If you meant to do this, you must specify 'dtype=object' when creating the ndarray\n",
      "  contours = np.subtract(contours, 1)\n",
      "2021-05-20 08:50:18,218 - mmdet - INFO - Epoch [15][50/818]\tlr: 8.716e-05, eta: 17:00:18, time: 1.723, data_time: 0.145, memory: 26469, loss_rpn_cls: 0.0346, loss_rpn_bbox: 0.0255, loss_semantic_seg: 0.1125, s0.loss_cls: 0.2266, s0.acc: 93.0986, s0.loss_bbox: 0.1201, s0.loss_mask: 0.2214, s1.loss_cls: 0.1062, s1.acc: 93.5139, s1.loss_bbox: 0.1054, s1.loss_mask: 0.0985, s2.loss_cls: 0.0511, s2.acc: 93.7499, s2.loss_bbox: 0.0566, s2.loss_mask: 0.0440, loss: 1.2026, grad_norm: 6.4698\n",
      "2021-05-20 08:51:42,732 - mmdet - INFO - Epoch [15][100/818]\tlr: 8.716e-05, eta: 16:59:06, time: 1.690, data_time: 0.078, memory: 26469, loss_rpn_cls: 0.0437, loss_rpn_bbox: 0.0331, loss_semantic_seg: 0.1148, s0.loss_cls: 0.2561, s0.acc: 92.0176, s0.loss_bbox: 0.1408, s0.loss_mask: 0.2378, s1.loss_cls: 0.1187, s1.acc: 92.4785, s1.loss_bbox: 0.1181, s1.loss_mask: 0.1063, s2.loss_cls: 0.0548, s2.acc: 93.0344, s2.loss_bbox: 0.0611, s2.loss_mask: 0.0468, loss: 1.3323, grad_norm: 6.2710\n",
      "2021-05-20 08:53:09,303 - mmdet - INFO - Epoch [15][150/818]\tlr: 8.716e-05, eta: 16:58:01, time: 1.731, data_time: 0.080, memory: 26469, loss_rpn_cls: 0.0387, loss_rpn_bbox: 0.0299, loss_semantic_seg: 0.1097, s0.loss_cls: 0.2756, s0.acc: 91.2344, s0.loss_bbox: 0.1490, s0.loss_mask: 0.2451, s1.loss_cls: 0.1279, s1.acc: 91.7989, s1.loss_bbox: 0.1264, s1.loss_mask: 0.1085, s2.loss_cls: 0.0608, s2.acc: 92.1709, s2.loss_bbox: 0.0652, s2.loss_mask: 0.0482, loss: 1.3849, grad_norm: 6.5117\n",
      "2021-05-20 08:54:34,355 - mmdet - INFO - Epoch [15][200/818]\tlr: 8.716e-05, eta: 16:56:51, time: 1.701, data_time: 0.066, memory: 26469, loss_rpn_cls: 0.0320, loss_rpn_bbox: 0.0236, loss_semantic_seg: 0.1059, s0.loss_cls: 0.2369, s0.acc: 92.4756, s0.loss_bbox: 0.1356, s0.loss_mask: 0.2234, s1.loss_cls: 0.1082, s1.acc: 93.0947, s1.loss_bbox: 0.1182, s1.loss_mask: 0.0994, s2.loss_cls: 0.0516, s2.acc: 93.3809, s2.loss_bbox: 0.0647, s2.loss_mask: 0.0442, loss: 1.2438, grad_norm: 6.8298\n",
      "2021-05-20 08:55:56,418 - mmdet - INFO - Epoch [15][250/818]\tlr: 8.716e-05, eta: 16:55:32, time: 1.641, data_time: 0.066, memory: 26469, loss_rpn_cls: 0.0395, loss_rpn_bbox: 0.0322, loss_semantic_seg: 0.1045, s0.loss_cls: 0.2590, s0.acc: 91.8203, s0.loss_bbox: 0.1436, s0.loss_mask: 0.2388, s1.loss_cls: 0.1183, s1.acc: 92.6041, s1.loss_bbox: 0.1217, s1.loss_mask: 0.1043, s2.loss_cls: 0.0564, s2.acc: 92.8575, s2.loss_bbox: 0.0632, s2.loss_mask: 0.0446, loss: 1.3261, grad_norm: 6.3376\n",
      "2021-05-20 08:57:21,359 - mmdet - INFO - Epoch [15][300/818]\tlr: 8.716e-05, eta: 16:54:21, time: 1.699, data_time: 0.073, memory: 26469, loss_rpn_cls: 0.0332, loss_rpn_bbox: 0.0260, loss_semantic_seg: 0.1067, s0.loss_cls: 0.2570, s0.acc: 91.8779, s0.loss_bbox: 0.1427, s0.loss_mask: 0.2240, s1.loss_cls: 0.1179, s1.acc: 92.5202, s1.loss_bbox: 0.1239, s1.loss_mask: 0.1003, s2.loss_cls: 0.0555, s2.acc: 92.8490, s2.loss_bbox: 0.0672, s2.loss_mask: 0.0446, loss: 1.2990, grad_norm: 6.2941\n",
      "2021-05-20 08:58:46,173 - mmdet - INFO - Epoch [15][350/818]\tlr: 8.716e-05, eta: 16:53:10, time: 1.696, data_time: 0.065, memory: 26469, loss_rpn_cls: 0.0365, loss_rpn_bbox: 0.0295, loss_semantic_seg: 0.1203, s0.loss_cls: 0.2667, s0.acc: 91.8350, s0.loss_bbox: 0.1422, s0.loss_mask: 0.2543, s1.loss_cls: 0.1218, s1.acc: 92.6003, s1.loss_bbox: 0.1236, s1.loss_mask: 0.1133, s2.loss_cls: 0.0573, s2.acc: 92.8119, s2.loss_bbox: 0.0672, s2.loss_mask: 0.0507, loss: 1.3834, grad_norm: 6.7191\n",
      "2021-05-20 09:00:09,696 - mmdet - INFO - Epoch [15][400/818]\tlr: 8.716e-05, eta: 16:51:54, time: 1.670, data_time: 0.071, memory: 26469, loss_rpn_cls: 0.0331, loss_rpn_bbox: 0.0280, loss_semantic_seg: 0.1081, s0.loss_cls: 0.2408, s0.acc: 92.4814, s0.loss_bbox: 0.1280, s0.loss_mask: 0.2199, s1.loss_cls: 0.1133, s1.acc: 92.8881, s1.loss_bbox: 0.1111, s1.loss_mask: 0.0963, s2.loss_cls: 0.0544, s2.acc: 93.0400, s2.loss_bbox: 0.0581, s2.loss_mask: 0.0434, loss: 1.2346, grad_norm: 6.3761\n",
      "2021-05-20 09:01:31,330 - mmdet - INFO - Epoch [15][450/818]\tlr: 8.716e-05, eta: 16:50:33, time: 1.633, data_time: 0.060, memory: 26469, loss_rpn_cls: 0.0347, loss_rpn_bbox: 0.0254, loss_semantic_seg: 0.1054, s0.loss_cls: 0.2319, s0.acc: 92.7334, s0.loss_bbox: 0.1244, s0.loss_mask: 0.2197, s1.loss_cls: 0.1075, s1.acc: 93.3005, s1.loss_bbox: 0.1082, s1.loss_mask: 0.0953, s2.loss_cls: 0.0502, s2.acc: 93.7603, s2.loss_bbox: 0.0596, s2.loss_mask: 0.0424, loss: 1.2048, grad_norm: 6.5201\n",
      "2021-05-20 09:02:52,779 - mmdet - INFO - Epoch [15][500/818]\tlr: 8.716e-05, eta: 16:49:11, time: 1.629, data_time: 0.073, memory: 26469, loss_rpn_cls: 0.0428, loss_rpn_bbox: 0.0276, loss_semantic_seg: 0.1034, s0.loss_cls: 0.2355, s0.acc: 92.4961, s0.loss_bbox: 0.1335, s0.loss_mask: 0.2321, s1.loss_cls: 0.1086, s1.acc: 93.0735, s1.loss_bbox: 0.1125, s1.loss_mask: 0.1027, s2.loss_cls: 0.0507, s2.acc: 93.6231, s2.loss_bbox: 0.0596, s2.loss_mask: 0.0451, loss: 1.2541, grad_norm: 6.3523\n",
      "2021-05-20 09:04:17,068 - mmdet - INFO - Epoch [15][550/818]\tlr: 8.716e-05, eta: 16:47:58, time: 1.686, data_time: 0.089, memory: 26469, loss_rpn_cls: 0.0437, loss_rpn_bbox: 0.0310, loss_semantic_seg: 0.1071, s0.loss_cls: 0.2334, s0.acc: 92.4385, s0.loss_bbox: 0.1383, s0.loss_mask: 0.2418, s1.loss_cls: 0.1111, s1.acc: 92.7000, s1.loss_bbox: 0.1195, s1.loss_mask: 0.1074, s2.loss_cls: 0.0532, s2.acc: 92.9184, s2.loss_bbox: 0.0649, s2.loss_mask: 0.0492, loss: 1.3005, grad_norm: 6.1896\n",
      "2021-05-20 09:05:39,618 - mmdet - INFO - Epoch [15][600/818]\tlr: 8.716e-05, eta: 16:46:40, time: 1.651, data_time: 0.069, memory: 26469, loss_rpn_cls: 0.0312, loss_rpn_bbox: 0.0231, loss_semantic_seg: 0.1069, s0.loss_cls: 0.2132, s0.acc: 93.2217, s0.loss_bbox: 0.1130, s0.loss_mask: 0.2100, s1.loss_cls: 0.0993, s1.acc: 93.5985, s1.loss_bbox: 0.0993, s1.loss_mask: 0.0947, s2.loss_cls: 0.0480, s2.acc: 93.8505, s2.loss_bbox: 0.0531, s2.loss_mask: 0.0432, loss: 1.1349, grad_norm: 5.9908\n",
      "2021-05-20 09:07:03,334 - mmdet - INFO - Epoch [15][650/818]\tlr: 8.716e-05, eta: 16:45:25, time: 1.674, data_time: 0.070, memory: 26469, loss_rpn_cls: 0.0325, loss_rpn_bbox: 0.0266, loss_semantic_seg: 0.1091, s0.loss_cls: 0.2372, s0.acc: 92.5557, s0.loss_bbox: 0.1324, s0.loss_mask: 0.2259, s1.loss_cls: 0.1092, s1.acc: 93.2969, s1.loss_bbox: 0.1109, s1.loss_mask: 0.1005, s2.loss_cls: 0.0510, s2.acc: 93.7895, s2.loss_bbox: 0.0575, s2.loss_mask: 0.0443, loss: 1.2370, grad_norm: 6.4713\n",
      "2021-05-20 09:08:27,104 - mmdet - INFO - Epoch [15][700/818]\tlr: 8.716e-05, eta: 16:44:10, time: 1.675, data_time: 0.073, memory: 26469, loss_rpn_cls: 0.0386, loss_rpn_bbox: 0.0267, loss_semantic_seg: 0.1057, s0.loss_cls: 0.2432, s0.acc: 92.3623, s0.loss_bbox: 0.1333, s0.loss_mask: 0.2205, s1.loss_cls: 0.1140, s1.acc: 92.7541, s1.loss_bbox: 0.1147, s1.loss_mask: 0.0972, s2.loss_cls: 0.0530, s2.acc: 93.2342, s2.loss_bbox: 0.0595, s2.loss_mask: 0.0430, loss: 1.2492, grad_norm: 6.2219\n",
      "2021-05-20 09:09:50,322 - mmdet - INFO - Epoch [15][750/818]\tlr: 8.716e-05, eta: 16:42:53, time: 1.664, data_time: 0.060, memory: 26469, loss_rpn_cls: 0.0326, loss_rpn_bbox: 0.0212, loss_semantic_seg: 0.1032, s0.loss_cls: 0.2323, s0.acc: 92.6699, s0.loss_bbox: 0.1263, s0.loss_mask: 0.2149, s1.loss_cls: 0.1076, s1.acc: 93.2260, s1.loss_bbox: 0.1111, s1.loss_mask: 0.0958, s2.loss_cls: 0.0496, s2.acc: 93.5185, s2.loss_bbox: 0.0601, s2.loss_mask: 0.0435, loss: 1.1983, grad_norm: 5.9892\n"
     ]
    },
    {
     "name": "stderr",
     "output_type": "stream",
     "text": [
      "2021-05-20 09:11:15,152 - mmdet - INFO - Epoch [15][800/818]\tlr: 8.716e-05, eta: 16:41:41, time: 1.697, data_time: 0.071, memory: 26469, loss_rpn_cls: 0.0397, loss_rpn_bbox: 0.0255, loss_semantic_seg: 0.1188, s0.loss_cls: 0.2564, s0.acc: 91.9404, s0.loss_bbox: 0.1370, s0.loss_mask: 0.2531, s1.loss_cls: 0.1190, s1.acc: 92.4156, s1.loss_bbox: 0.1207, s1.loss_mask: 0.1124, s2.loss_cls: 0.0556, s2.acc: 92.7444, s2.loss_bbox: 0.0637, s2.loss_mask: 0.0494, loss: 1.3513, grad_norm: 6.6215\n",
      "2021-05-20 09:11:44,866 - mmdet - INFO - Saving checkpoint at 15 epochs\n"
     ]
    },
    {
     "name": "stdout",
     "output_type": "stream",
     "text": [
      "[>>>>>>>>>>>>>>>>>>>>>>>>>>>>>] 655/655, 3.7 task/s, elapsed: 177s, ETA:     0s"
     ]
    },
    {
     "name": "stderr",
     "output_type": "stream",
     "text": [
      "2021-05-20 09:14:49,644 - mmdet - INFO - Evaluating bbox...\n"
     ]
    },
    {
     "name": "stdout",
     "output_type": "stream",
     "text": [
      "Loading and preparing results...\n",
      "DONE (t=0.74s)\n",
      "creating index...\n",
      "index created!\n",
      "Running per image evaluation...\n",
      "Evaluate annotation type *bbox*\n",
      "DONE (t=8.78s).\n",
      "Accumulating evaluation results...\n"
     ]
    },
    {
     "name": "stderr",
     "output_type": "stream",
     "text": [
      "2021-05-20 09:15:00,925 - mmdet - INFO - Epoch(val) [15][818]\tbbox_mAP: 0.3740, bbox_mAP_50: 0.5380, bbox_mAP_75: 0.4090, bbox_mAP_s: 0.1140, bbox_mAP_m: 0.3600, bbox_mAP_l: 0.6020, bbox_mAP_copypaste: 0.374 0.538 0.409 0.114 0.360 0.602\n"
     ]
    },
    {
     "name": "stdout",
     "output_type": "stream",
     "text": [
      "DONE (t=1.61s).\n",
      "Average Precision  (AP) @[ IoU=0.50:0.95 | area=   all | maxDets=100 ] = 0.374\n",
      "Average Precision  (AP) @[ IoU=0.50      | area=   all | maxDets=1000 ] = 0.538\n",
      "Average Precision  (AP) @[ IoU=0.75      | area=   all | maxDets=1000 ] = 0.409\n",
      "Average Precision  (AP) @[ IoU=0.50:0.95 | area= small | maxDets=1000 ] = 0.114\n",
      "Average Precision  (AP) @[ IoU=0.50:0.95 | area=medium | maxDets=1000 ] = 0.360\n",
      "Average Precision  (AP) @[ IoU=0.50:0.95 | area= large | maxDets=1000 ] = 0.602\n",
      "Average Recall     (AR) @[ IoU=0.50:0.95 | area=   all | maxDets=100 ] = 0.501\n",
      "Average Recall     (AR) @[ IoU=0.50:0.95 | area=   all | maxDets=300 ] = 0.501\n",
      "Average Recall     (AR) @[ IoU=0.50:0.95 | area=   all | maxDets=1000 ] = 0.501\n",
      "Average Recall     (AR) @[ IoU=0.50:0.95 | area= small | maxDets=1000 ] = 0.209\n",
      "Average Recall     (AR) @[ IoU=0.50:0.95 | area=medium | maxDets=1000 ] = 0.501\n",
      "Average Recall     (AR) @[ IoU=0.50:0.95 | area= large | maxDets=1000 ] = 0.744\n"
     ]
    },
    {
     "name": "stderr",
     "output_type": "stream",
     "text": [
      "/home/ubuntu/anaconda3/envs/pytorch_p36/lib/python3.6/site-packages/instaboostfast/pycococreater.py:48: VisibleDeprecationWarning: Creating an ndarray from ragged nested sequences (which is a list-or-tuple of lists-or-tuples-or ndarrays with different lengths or shapes) is deprecated. If you meant to do this, you must specify 'dtype=object' when creating the ndarray\n",
      "  contours = np.subtract(contours, 1)\n",
      "/home/ubuntu/anaconda3/envs/pytorch_p36/lib/python3.6/site-packages/instaboostfast/pycococreater.py:48: VisibleDeprecationWarning: Creating an ndarray from ragged nested sequences (which is a list-or-tuple of lists-or-tuples-or ndarrays with different lengths or shapes) is deprecated. If you meant to do this, you must specify 'dtype=object' when creating the ndarray\n",
      "  contours = np.subtract(contours, 1)\n",
      "2021-05-20 09:16:26,808 - mmdet - INFO - Epoch [16][50/818]\tlr: 8.536e-05, eta: 16:38:36, time: 1.717, data_time: 0.146, memory: 26469, loss_rpn_cls: 0.0339, loss_rpn_bbox: 0.0250, loss_semantic_seg: 0.0966, s0.loss_cls: 0.2214, s0.acc: 93.2148, s0.loss_bbox: 0.1235, s0.loss_mask: 0.2279, s1.loss_cls: 0.1013, s1.acc: 93.8142, s1.loss_bbox: 0.1080, s1.loss_mask: 0.1016, s2.loss_cls: 0.0475, s2.acc: 94.0720, s2.loss_bbox: 0.0588, s2.loss_mask: 0.0452, loss: 1.1906, grad_norm: 6.3519\n",
      "2021-05-20 09:17:51,184 - mmdet - INFO - Epoch [16][100/818]\tlr: 8.536e-05, eta: 16:37:23, time: 1.688, data_time: 0.074, memory: 26469, loss_rpn_cls: 0.0415, loss_rpn_bbox: 0.0275, loss_semantic_seg: 0.0987, s0.loss_cls: 0.2365, s0.acc: 92.5645, s0.loss_bbox: 0.1234, s0.loss_mask: 0.2213, s1.loss_cls: 0.1119, s1.acc: 93.1142, s1.loss_bbox: 0.1081, s1.loss_mask: 0.0990, s2.loss_cls: 0.0529, s2.acc: 93.3792, s2.loss_bbox: 0.0567, s2.loss_mask: 0.0448, loss: 1.2222, grad_norm: 6.1893\n",
      "2021-05-20 09:19:14,416 - mmdet - INFO - Epoch [16][150/818]\tlr: 8.536e-05, eta: 16:36:06, time: 1.665, data_time: 0.065, memory: 26469, loss_rpn_cls: 0.0326, loss_rpn_bbox: 0.0234, loss_semantic_seg: 0.1024, s0.loss_cls: 0.2236, s0.acc: 92.8574, s0.loss_bbox: 0.1244, s0.loss_mask: 0.2275, s1.loss_cls: 0.1042, s1.acc: 93.2291, s1.loss_bbox: 0.1084, s1.loss_mask: 0.1016, s2.loss_cls: 0.0494, s2.acc: 93.5076, s2.loss_bbox: 0.0570, s2.loss_mask: 0.0448, loss: 1.1994, grad_norm: 6.7102\n",
      "2021-05-20 09:20:37,580 - mmdet - INFO - Epoch [16][200/818]\tlr: 8.536e-05, eta: 16:34:50, time: 1.663, data_time: 0.069, memory: 26469, loss_rpn_cls: 0.0270, loss_rpn_bbox: 0.0251, loss_semantic_seg: 0.1063, s0.loss_cls: 0.2277, s0.acc: 92.5430, s0.loss_bbox: 0.1316, s0.loss_mask: 0.2325, s1.loss_cls: 0.1048, s1.acc: 93.0400, s1.loss_bbox: 0.1161, s1.loss_mask: 0.1024, s2.loss_cls: 0.0500, s2.acc: 93.2643, s2.loss_bbox: 0.0637, s2.loss_mask: 0.0470, loss: 1.2341, grad_norm: 6.4302\n",
      "2021-05-20 09:21:59,270 - mmdet - INFO - Epoch [16][250/818]\tlr: 8.536e-05, eta: 16:33:29, time: 1.634, data_time: 0.064, memory: 26469, loss_rpn_cls: 0.0331, loss_rpn_bbox: 0.0273, loss_semantic_seg: 0.1096, s0.loss_cls: 0.2386, s0.acc: 92.5703, s0.loss_bbox: 0.1296, s0.loss_mask: 0.2248, s1.loss_cls: 0.1084, s1.acc: 93.0819, s1.loss_bbox: 0.1073, s1.loss_mask: 0.0981, s2.loss_cls: 0.0506, s2.acc: 93.6015, s2.loss_bbox: 0.0582, s2.loss_mask: 0.0434, loss: 1.2288, grad_norm: 6.1317\n",
      "2021-05-20 09:23:23,894 - mmdet - INFO - Epoch [16][300/818]\tlr: 8.536e-05, eta: 16:32:16, time: 1.692, data_time: 0.067, memory: 26469, loss_rpn_cls: 0.0285, loss_rpn_bbox: 0.0217, loss_semantic_seg: 0.1086, s0.loss_cls: 0.2249, s0.acc: 93.0195, s0.loss_bbox: 0.1201, s0.loss_mask: 0.2187, s1.loss_cls: 0.1036, s1.acc: 93.4589, s1.loss_bbox: 0.1030, s1.loss_mask: 0.0981, s2.loss_cls: 0.0480, s2.acc: 93.9659, s2.loss_bbox: 0.0587, s2.loss_mask: 0.0444, loss: 1.1783, grad_norm: 6.8443\n",
      "2021-05-20 09:24:46,989 - mmdet - INFO - Epoch [16][350/818]\tlr: 8.536e-05, eta: 16:30:59, time: 1.662, data_time: 0.059, memory: 26469, loss_rpn_cls: 0.0382, loss_rpn_bbox: 0.0271, loss_semantic_seg: 0.1110, s0.loss_cls: 0.2400, s0.acc: 92.5488, s0.loss_bbox: 0.1261, s0.loss_mask: 0.2272, s1.loss_cls: 0.1093, s1.acc: 93.0410, s1.loss_bbox: 0.1108, s1.loss_mask: 0.1026, s2.loss_cls: 0.0519, s2.acc: 93.3031, s2.loss_bbox: 0.0647, s2.loss_mask: 0.0470, loss: 1.2556, grad_norm: 6.2875\n",
      "2021-05-20 09:26:11,419 - mmdet - INFO - Epoch [16][400/818]\tlr: 8.536e-05, eta: 16:29:46, time: 1.689, data_time: 0.068, memory: 26469, loss_rpn_cls: 0.0371, loss_rpn_bbox: 0.0272, loss_semantic_seg: 0.1031, s0.loss_cls: 0.2285, s0.acc: 92.7393, s0.loss_bbox: 0.1272, s0.loss_mask: 0.2155, s1.loss_cls: 0.1057, s1.acc: 93.3454, s1.loss_bbox: 0.1135, s1.loss_mask: 0.0949, s2.loss_cls: 0.0509, s2.acc: 93.3583, s2.loss_bbox: 0.0620, s2.loss_mask: 0.0418, loss: 1.2074, grad_norm: 6.1979\n",
      "2021-05-20 09:27:34,582 - mmdet - INFO - Epoch [16][450/818]\tlr: 8.536e-05, eta: 16:28:29, time: 1.663, data_time: 0.062, memory: 26469, loss_rpn_cls: 0.0345, loss_rpn_bbox: 0.0286, loss_semantic_seg: 0.1083, s0.loss_cls: 0.2285, s0.acc: 92.5801, s0.loss_bbox: 0.1324, s0.loss_mask: 0.2256, s1.loss_cls: 0.1046, s1.acc: 93.1470, s1.loss_bbox: 0.1137, s1.loss_mask: 0.0987, s2.loss_cls: 0.0497, s2.acc: 93.4349, s2.loss_bbox: 0.0594, s2.loss_mask: 0.0439, loss: 1.2278, grad_norm: 6.5311\n",
      "2021-05-20 09:29:00,908 - mmdet - INFO - Epoch [16][500/818]\tlr: 8.536e-05, eta: 16:27:21, time: 1.727, data_time: 0.099, memory: 26469, loss_rpn_cls: 0.0318, loss_rpn_bbox: 0.0254, loss_semantic_seg: 0.1120, s0.loss_cls: 0.2442, s0.acc: 92.4033, s0.loss_bbox: 0.1310, s0.loss_mask: 0.2345, s1.loss_cls: 0.1117, s1.acc: 92.9257, s1.loss_bbox: 0.1127, s1.loss_mask: 0.1038, s2.loss_cls: 0.0524, s2.acc: 93.2971, s2.loss_bbox: 0.0619, s2.loss_mask: 0.0463, loss: 1.2678, grad_norm: 6.2585\n",
      "2021-05-20 09:30:23,136 - mmdet - INFO - Epoch [16][550/818]\tlr: 8.536e-05, eta: 16:26:01, time: 1.645, data_time: 0.080, memory: 26469, loss_rpn_cls: 0.0387, loss_rpn_bbox: 0.0343, loss_semantic_seg: 0.1101, s0.loss_cls: 0.2641, s0.acc: 91.7969, s0.loss_bbox: 0.1451, s0.loss_mask: 0.2580, s1.loss_cls: 0.1209, s1.acc: 92.3521, s1.loss_bbox: 0.1253, s1.loss_mask: 0.1131, s2.loss_cls: 0.0564, s2.acc: 92.7411, s2.loss_bbox: 0.0629, s2.loss_mask: 0.0490, loss: 1.3780, grad_norm: 6.6025\n",
      "2021-05-20 09:31:48,319 - mmdet - INFO - Epoch [16][600/818]\tlr: 8.536e-05, eta: 16:24:50, time: 1.704, data_time: 0.081, memory: 26469, loss_rpn_cls: 0.0421, loss_rpn_bbox: 0.0333, loss_semantic_seg: 0.1162, s0.loss_cls: 0.2771, s0.acc: 91.4219, s0.loss_bbox: 0.1517, s0.loss_mask: 0.2354, s1.loss_cls: 0.1287, s1.acc: 92.0775, s1.loss_bbox: 0.1255, s1.loss_mask: 0.1036, s2.loss_cls: 0.0603, s2.acc: 92.4964, s2.loss_bbox: 0.0652, s2.loss_mask: 0.0458, loss: 1.3849, grad_norm: 6.2177\n",
      "2021-05-20 09:33:14,196 - mmdet - INFO - Epoch [16][650/818]\tlr: 8.536e-05, eta: 16:23:40, time: 1.718, data_time: 0.080, memory: 26469, loss_rpn_cls: 0.0357, loss_rpn_bbox: 0.0270, loss_semantic_seg: 0.1018, s0.loss_cls: 0.2680, s0.acc: 91.4873, s0.loss_bbox: 0.1480, s0.loss_mask: 0.2325, s1.loss_cls: 0.1229, s1.acc: 92.0793, s1.loss_bbox: 0.1297, s1.loss_mask: 0.1032, s2.loss_cls: 0.0572, s2.acc: 92.4657, s2.loss_bbox: 0.0670, s2.loss_mask: 0.0457, loss: 1.3388, grad_norm: 6.5052\n",
      "2021-05-20 09:34:38,575 - mmdet - INFO - Epoch [16][700/818]\tlr: 8.536e-05, eta: 16:22:26, time: 1.688, data_time: 0.078, memory: 26469, loss_rpn_cls: 0.0336, loss_rpn_bbox: 0.0275, loss_semantic_seg: 0.1011, s0.loss_cls: 0.2594, s0.acc: 91.8330, s0.loss_bbox: 0.1420, s0.loss_mask: 0.2258, s1.loss_cls: 0.1194, s1.acc: 92.5487, s1.loss_bbox: 0.1173, s1.loss_mask: 0.0988, s2.loss_cls: 0.0562, s2.acc: 92.9708, s2.loss_bbox: 0.0621, s2.loss_mask: 0.0442, loss: 1.2875, grad_norm: 6.7822\n",
      "2021-05-20 09:36:01,707 - mmdet - INFO - Epoch [16][750/818]\tlr: 8.536e-05, eta: 16:21:09, time: 1.663, data_time: 0.070, memory: 26469, loss_rpn_cls: 0.0343, loss_rpn_bbox: 0.0262, loss_semantic_seg: 0.1054, s0.loss_cls: 0.2352, s0.acc: 92.6807, s0.loss_bbox: 0.1273, s0.loss_mask: 0.2186, s1.loss_cls: 0.1075, s1.acc: 93.3897, s1.loss_bbox: 0.1071, s1.loss_mask: 0.0967, s2.loss_cls: 0.0497, s2.acc: 93.8752, s2.loss_bbox: 0.0592, s2.loss_mask: 0.0427, loss: 1.2099, grad_norm: 6.6943\n",
      "2021-05-20 09:37:24,751 - mmdet - INFO - Epoch [16][800/818]\tlr: 8.536e-05, eta: 16:19:51, time: 1.661, data_time: 0.075, memory: 26469, loss_rpn_cls: 0.0333, loss_rpn_bbox: 0.0287, loss_semantic_seg: 0.1110, s0.loss_cls: 0.2346, s0.acc: 92.4736, s0.loss_bbox: 0.1283, s0.loss_mask: 0.2247, s1.loss_cls: 0.1104, s1.acc: 92.9734, s1.loss_bbox: 0.1110, s1.loss_mask: 0.0994, s2.loss_cls: 0.0521, s2.acc: 93.2627, s2.loss_bbox: 0.0602, s2.loss_mask: 0.0432, loss: 1.2370, grad_norm: 6.7492\n"
     ]
    },
    {
     "name": "stderr",
     "output_type": "stream",
     "text": [
      "2021-05-20 09:37:54,999 - mmdet - INFO - Saving checkpoint at 16 epochs\n"
     ]
    },
    {
     "name": "stdout",
     "output_type": "stream",
     "text": [
      "[>>>>>>>>>>>>>>>>>>>>>>>>>>>>>] 655/655, 3.8 task/s, elapsed: 173s, ETA:     0s"
     ]
    },
    {
     "name": "stderr",
     "output_type": "stream",
     "text": [
      "2021-05-20 09:40:54,719 - mmdet - INFO - Evaluating bbox...\n"
     ]
    },
    {
     "name": "stdout",
     "output_type": "stream",
     "text": [
      "Loading and preparing results...\n",
      "DONE (t=1.28s)\n",
      "creating index...\n",
      "index created!\n",
      "Running per image evaluation...\n",
      "Evaluate annotation type *bbox*\n",
      "DONE (t=7.57s).\n",
      "Accumulating evaluation results...\n",
      "DONE (t=1.57s).\n",
      "Average Precision  (AP) @[ IoU=0.50:0.95 | area=   all | maxDets=100 ] = 0.393\n",
      "Average Precision  (AP) @[ IoU=0.50      | area=   all | maxDets=1000 ] = 0.554\n",
      "Average Precision  (AP) @[ IoU=0.75      | area=   all | maxDets=1000 ] = 0.411\n",
      "Average Precision  (AP) @[ IoU=0.50:0.95 | area= small | maxDets=1000 ] = 0.124\n",
      "Average Precision  (AP) @[ IoU=0.50:0.95 | area=medium | maxDets=1000 ] = 0.377\n",
      "Average Precision  (AP) @[ IoU=0.50:0.95 | area= large | maxDets=1000 ] = 0.635\n",
      "Average Recall     (AR) @[ IoU=0.50:0.95 | area=   all | maxDets=100 ] = 0.519\n",
      "Average Recall     (AR) @[ IoU=0.50:0.95 | area=   all | maxDets=300 ] = 0.519\n",
      "Average Recall     (AR) @[ IoU=0.50:0.95 | area=   all | maxDets=1000 ] = 0.519\n",
      "Average Recall     (AR) @[ IoU=0.50:0.95 | area= small | maxDets=1000 ] = 0.216\n",
      "Average Recall     (AR) @[ IoU=0.50:0.95 | area=medium | maxDets=1000 ] = 0.525\n",
      "Average Recall     (AR) @[ IoU=0.50:0.95 | area= large | maxDets=1000 ] = 0.740\n"
     ]
    },
    {
     "name": "stderr",
     "output_type": "stream",
     "text": [
      "2021-05-20 09:41:08,772 - mmdet - INFO - Now best checkpoint is epoch_16.pth.Best bbox_mAP_50 is 0.5540\n",
      "2021-05-20 09:41:08,805 - mmdet - INFO - Epoch(val) [16][818]\tbbox_mAP: 0.3930, bbox_mAP_50: 0.5540, bbox_mAP_75: 0.4110, bbox_mAP_s: 0.1240, bbox_mAP_m: 0.3770, bbox_mAP_l: 0.6350, bbox_mAP_copypaste: 0.393 0.554 0.411 0.124 0.377 0.635\n",
      "/home/ubuntu/anaconda3/envs/pytorch_p36/lib/python3.6/site-packages/instaboostfast/pycococreater.py:48: VisibleDeprecationWarning: Creating an ndarray from ragged nested sequences (which is a list-or-tuple of lists-or-tuples-or ndarrays with different lengths or shapes) is deprecated. If you meant to do this, you must specify 'dtype=object' when creating the ndarray\n",
      "  contours = np.subtract(contours, 1)\n",
      "/home/ubuntu/anaconda3/envs/pytorch_p36/lib/python3.6/site-packages/instaboostfast/pycococreater.py:48: VisibleDeprecationWarning: Creating an ndarray from ragged nested sequences (which is a list-or-tuple of lists-or-tuples-or ndarrays with different lengths or shapes) is deprecated. If you meant to do this, you must specify 'dtype=object' when creating the ndarray\n",
      "  contours = np.subtract(contours, 1)\n",
      "2021-05-20 09:42:36,286 - mmdet - INFO - Epoch [17][50/818]\tlr: 8.346e-05, eta: 16:16:55, time: 1.749, data_time: 0.170, memory: 26469, loss_rpn_cls: 0.0335, loss_rpn_bbox: 0.0286, loss_semantic_seg: 0.1069, s0.loss_cls: 0.2354, s0.acc: 92.2744, s0.loss_bbox: 0.1341, s0.loss_mask: 0.2334, s1.loss_cls: 0.1108, s1.acc: 92.6872, s1.loss_bbox: 0.1163, s1.loss_mask: 0.1035, s2.loss_cls: 0.0515, s2.acc: 93.1935, s2.loss_bbox: 0.0611, s2.loss_mask: 0.0452, loss: 1.2604, grad_norm: 6.2831\n",
      "2021-05-20 09:44:01,064 - mmdet - INFO - Epoch [17][100/818]\tlr: 8.346e-05, eta: 16:15:43, time: 1.696, data_time: 0.078, memory: 26469, loss_rpn_cls: 0.0355, loss_rpn_bbox: 0.0296, loss_semantic_seg: 0.1055, s0.loss_cls: 0.2378, s0.acc: 92.3652, s0.loss_bbox: 0.1365, s0.loss_mask: 0.2342, s1.loss_cls: 0.1084, s1.acc: 92.9719, s1.loss_bbox: 0.1158, s1.loss_mask: 0.1026, s2.loss_cls: 0.0508, s2.acc: 93.3312, s2.loss_bbox: 0.0638, s2.loss_mask: 0.0455, loss: 1.2662, grad_norm: 7.1758\n",
      "2021-05-20 09:45:24,310 - mmdet - INFO - Epoch [17][150/818]\tlr: 8.346e-05, eta: 16:14:26, time: 1.665, data_time: 0.082, memory: 26469, loss_rpn_cls: 0.0397, loss_rpn_bbox: 0.0295, loss_semantic_seg: 0.1130, s0.loss_cls: 0.2598, s0.acc: 91.9316, s0.loss_bbox: 0.1439, s0.loss_mask: 0.2321, s1.loss_cls: 0.1201, s1.acc: 92.4170, s1.loss_bbox: 0.1171, s1.loss_mask: 0.1002, s2.loss_cls: 0.0563, s2.acc: 92.9360, s2.loss_bbox: 0.0611, s2.loss_mask: 0.0439, loss: 1.3167, grad_norm: 6.4434\n",
      "2021-05-20 09:46:47,261 - mmdet - INFO - Epoch [17][200/818]\tlr: 8.346e-05, eta: 16:13:08, time: 1.659, data_time: 0.085, memory: 26469, loss_rpn_cls: 0.0316, loss_rpn_bbox: 0.0253, loss_semantic_seg: 0.1169, s0.loss_cls: 0.2336, s0.acc: 92.4385, s0.loss_bbox: 0.1328, s0.loss_mask: 0.2349, s1.loss_cls: 0.1079, s1.acc: 93.0445, s1.loss_bbox: 0.1160, s1.loss_mask: 0.1018, s2.loss_cls: 0.0511, s2.acc: 93.1838, s2.loss_bbox: 0.0616, s2.loss_mask: 0.0447, loss: 1.2583, grad_norm: 6.9628\n",
      "2021-05-20 09:48:06,645 - mmdet - INFO - Epoch [17][250/818]\tlr: 8.346e-05, eta: 16:11:41, time: 1.588, data_time: 0.060, memory: 26469, loss_rpn_cls: 0.0341, loss_rpn_bbox: 0.0241, loss_semantic_seg: 0.1106, s0.loss_cls: 0.2253, s0.acc: 92.8916, s0.loss_bbox: 0.1243, s0.loss_mask: 0.2068, s1.loss_cls: 0.1028, s1.acc: 93.3950, s1.loss_bbox: 0.1054, s1.loss_mask: 0.0909, s2.loss_cls: 0.0481, s2.acc: 93.6912, s2.loss_bbox: 0.0554, s2.loss_mask: 0.0415, loss: 1.1692, grad_norm: 6.3727\n",
      "2021-05-20 09:49:26,181 - mmdet - INFO - Epoch [17][300/818]\tlr: 8.346e-05, eta: 16:10:14, time: 1.591, data_time: 0.056, memory: 26469, loss_rpn_cls: 0.0312, loss_rpn_bbox: 0.0236, loss_semantic_seg: 0.1156, s0.loss_cls: 0.2252, s0.acc: 92.9131, s0.loss_bbox: 0.1238, s0.loss_mask: 0.2134, s1.loss_cls: 0.1026, s1.acc: 93.5104, s1.loss_bbox: 0.1062, s1.loss_mask: 0.0976, s2.loss_cls: 0.0486, s2.acc: 93.7525, s2.loss_bbox: 0.0593, s2.loss_mask: 0.0445, loss: 1.1915, grad_norm: 6.1641\n",
      "2021-05-20 09:50:49,622 - mmdet - INFO - Epoch [17][350/818]\tlr: 8.346e-05, eta: 16:08:57, time: 1.669, data_time: 0.073, memory: 26469, loss_rpn_cls: 0.0381, loss_rpn_bbox: 0.0304, loss_semantic_seg: 0.1046, s0.loss_cls: 0.2482, s0.acc: 92.1523, s0.loss_bbox: 0.1448, s0.loss_mask: 0.2254, s1.loss_cls: 0.1141, s1.acc: 92.7819, s1.loss_bbox: 0.1212, s1.loss_mask: 0.0990, s2.loss_cls: 0.0535, s2.acc: 93.1801, s2.loss_bbox: 0.0677, s2.loss_mask: 0.0447, loss: 1.2919, grad_norm: 6.6218\n",
      "2021-05-20 09:52:13,104 - mmdet - INFO - Epoch [17][400/818]\tlr: 8.346e-05, eta: 16:07:41, time: 1.670, data_time: 0.079, memory: 26469, loss_rpn_cls: 0.0343, loss_rpn_bbox: 0.0294, loss_semantic_seg: 0.1096, s0.loss_cls: 0.2464, s0.acc: 92.1338, s0.loss_bbox: 0.1325, s0.loss_mask: 0.2298, s1.loss_cls: 0.1143, s1.acc: 92.7312, s1.loss_bbox: 0.1161, s1.loss_mask: 0.1037, s2.loss_cls: 0.0536, s2.acc: 93.0972, s2.loss_bbox: 0.0629, s2.loss_mask: 0.0479, loss: 1.2804, grad_norm: 6.8083\n",
      "2021-05-20 09:53:37,901 - mmdet - INFO - Epoch [17][450/818]\tlr: 8.346e-05, eta: 16:06:27, time: 1.696, data_time: 0.074, memory: 26469, loss_rpn_cls: 0.0363, loss_rpn_bbox: 0.0298, loss_semantic_seg: 0.1006, s0.loss_cls: 0.2526, s0.acc: 91.9355, s0.loss_bbox: 0.1382, s0.loss_mask: 0.2289, s1.loss_cls: 0.1177, s1.acc: 92.6105, s1.loss_bbox: 0.1218, s1.loss_mask: 0.1022, s2.loss_cls: 0.0565, s2.acc: 92.7357, s2.loss_bbox: 0.0648, s2.loss_mask: 0.0456, loss: 1.2950, grad_norm: 6.7672\n",
      "2021-05-20 09:54:59,209 - mmdet - INFO - Epoch [17][500/818]\tlr: 8.346e-05, eta: 16:05:05, time: 1.626, data_time: 0.063, memory: 26469, loss_rpn_cls: 0.0351, loss_rpn_bbox: 0.0252, loss_semantic_seg: 0.0976, s0.loss_cls: 0.2297, s0.acc: 92.6768, s0.loss_bbox: 0.1247, s0.loss_mask: 0.2213, s1.loss_cls: 0.1059, s1.acc: 93.2269, s1.loss_bbox: 0.1083, s1.loss_mask: 0.0990, s2.loss_cls: 0.0495, s2.acc: 93.6822, s2.loss_bbox: 0.0600, s2.loss_mask: 0.0446, loss: 1.2008, grad_norm: 6.5921\n",
      "2021-05-20 09:56:21,592 - mmdet - INFO - Epoch [17][550/818]\tlr: 8.346e-05, eta: 16:03:46, time: 1.648, data_time: 0.070, memory: 26469, loss_rpn_cls: 0.0375, loss_rpn_bbox: 0.0283, loss_semantic_seg: 0.1081, s0.loss_cls: 0.2663, s0.acc: 91.6934, s0.loss_bbox: 0.1363, s0.loss_mask: 0.2201, s1.loss_cls: 0.1233, s1.acc: 92.2162, s1.loss_bbox: 0.1185, s1.loss_mask: 0.0966, s2.loss_cls: 0.0583, s2.acc: 92.6372, s2.loss_bbox: 0.0634, s2.loss_mask: 0.0431, loss: 1.2998, grad_norm: 7.2886\n",
      "2021-05-20 09:57:44,146 - mmdet - INFO - Epoch [17][600/818]\tlr: 8.346e-05, eta: 16:02:27, time: 1.651, data_time: 0.073, memory: 26469, loss_rpn_cls: 0.0325, loss_rpn_bbox: 0.0278, loss_semantic_seg: 0.1023, s0.loss_cls: 0.2383, s0.acc: 92.4541, s0.loss_bbox: 0.1284, s0.loss_mask: 0.2211, s1.loss_cls: 0.1106, s1.acc: 92.9671, s1.loss_bbox: 0.1140, s1.loss_mask: 0.0970, s2.loss_cls: 0.0522, s2.acc: 93.3810, s2.loss_bbox: 0.0619, s2.loss_mask: 0.0437, loss: 1.2297, grad_norm: 6.1432\n",
      "2021-05-20 09:59:06,500 - mmdet - INFO - Epoch [17][650/818]\tlr: 8.346e-05, eta: 16:01:07, time: 1.647, data_time: 0.056, memory: 26469, loss_rpn_cls: 0.0393, loss_rpn_bbox: 0.0215, loss_semantic_seg: 0.1019, s0.loss_cls: 0.2148, s0.acc: 93.3838, s0.loss_bbox: 0.1180, s0.loss_mask: 0.2190, s1.loss_cls: 0.0978, s1.acc: 93.8144, s1.loss_bbox: 0.1048, s1.loss_mask: 0.0965, s2.loss_cls: 0.0461, s2.acc: 94.1313, s2.loss_bbox: 0.0579, s2.loss_mask: 0.0419, loss: 1.1596, grad_norm: 6.5666\n",
      "2021-05-20 10:00:28,738 - mmdet - INFO - Epoch [17][700/818]\tlr: 8.346e-05, eta: 15:59:47, time: 1.645, data_time: 0.063, memory: 26469, loss_rpn_cls: 0.0410, loss_rpn_bbox: 0.0281, loss_semantic_seg: 0.0992, s0.loss_cls: 0.2246, s0.acc: 92.9551, s0.loss_bbox: 0.1198, s0.loss_mask: 0.2173, s1.loss_cls: 0.1059, s1.acc: 93.4910, s1.loss_bbox: 0.1051, s1.loss_mask: 0.0960, s2.loss_cls: 0.0500, s2.acc: 93.5703, s2.loss_bbox: 0.0588, s2.loss_mask: 0.0431, loss: 1.1890, grad_norm: 6.5050\n",
      "2021-05-20 10:01:51,121 - mmdet - INFO - Epoch [17][750/818]\tlr: 8.346e-05, eta: 15:58:28, time: 1.648, data_time: 0.066, memory: 26469, loss_rpn_cls: 0.0293, loss_rpn_bbox: 0.0229, loss_semantic_seg: 0.1007, s0.loss_cls: 0.2242, s0.acc: 92.9521, s0.loss_bbox: 0.1192, s0.loss_mask: 0.2274, s1.loss_cls: 0.1047, s1.acc: 93.3416, s1.loss_bbox: 0.1055, s1.loss_mask: 0.1008, s2.loss_cls: 0.0495, s2.acc: 93.7481, s2.loss_bbox: 0.0586, s2.loss_mask: 0.0447, loss: 1.1875, grad_norm: 6.7114\n"
     ]
    },
    {
     "name": "stderr",
     "output_type": "stream",
     "text": [
      "2021-05-20 10:03:13,566 - mmdet - INFO - Epoch [17][800/818]\tlr: 8.346e-05, eta: 15:57:08, time: 1.649, data_time: 0.065, memory: 26469, loss_rpn_cls: 0.0315, loss_rpn_bbox: 0.0260, loss_semantic_seg: 0.1067, s0.loss_cls: 0.2401, s0.acc: 92.3838, s0.loss_bbox: 0.1387, s0.loss_mask: 0.2387, s1.loss_cls: 0.1107, s1.acc: 93.0019, s1.loss_bbox: 0.1191, s1.loss_mask: 0.1028, s2.loss_cls: 0.0520, s2.acc: 93.2492, s2.loss_bbox: 0.0636, s2.loss_mask: 0.0459, loss: 1.2756, grad_norm: 6.3042\n",
      "2021-05-20 10:03:43,857 - mmdet - INFO - Saving checkpoint at 17 epochs\n"
     ]
    },
    {
     "name": "stdout",
     "output_type": "stream",
     "text": [
      "[>>>>>>>>>>>>>>>>>>>>>>>>>>>>>] 655/655, 3.9 task/s, elapsed: 170s, ETA:     0s"
     ]
    },
    {
     "name": "stderr",
     "output_type": "stream",
     "text": [
      "2021-05-20 10:06:40,838 - mmdet - INFO - Evaluating bbox...\n"
     ]
    },
    {
     "name": "stdout",
     "output_type": "stream",
     "text": [
      "Loading and preparing results...\n",
      "DONE (t=0.74s)\n",
      "creating index...\n",
      "index created!\n",
      "Running per image evaluation...\n",
      "Evaluate annotation type *bbox*\n",
      "DONE (t=7.76s).\n",
      "Accumulating evaluation results...\n",
      "DONE (t=1.48s).\n",
      "Average Precision  (AP) @[ IoU=0.50:0.95 | area=   all | maxDets=100 ] = 0.408\n",
      "Average Precision  (AP) @[ IoU=0.50      | area=   all | maxDets=1000 ] = 0.561\n",
      "Average Precision  (AP) @[ IoU=0.75      | area=   all | maxDets=1000 ] = 0.431\n",
      "Average Precision  (AP) @[ IoU=0.50:0.95 | area= small | maxDets=1000 ] = 0.127\n",
      "Average Precision  (AP) @[ IoU=0.50:0.95 | area=medium | maxDets=1000 ] = 0.391\n",
      "Average Precision  (AP) @[ IoU=0.50:0.95 | area= large | maxDets=1000 ] = 0.675\n",
      "Average Recall     (AR) @[ IoU=0.50:0.95 | area=   all | maxDets=100 ] = 0.528\n",
      "Average Recall     (AR) @[ IoU=0.50:0.95 | area=   all | maxDets=300 ] = 0.528\n",
      "Average Recall     (AR) @[ IoU=0.50:0.95 | area=   all | maxDets=1000 ] = 0.528\n",
      "Average Recall     (AR) @[ IoU=0.50:0.95 | area= small | maxDets=1000 ] = 0.229\n",
      "Average Recall     (AR) @[ IoU=0.50:0.95 | area=medium | maxDets=1000 ] = 0.532\n",
      "Average Recall     (AR) @[ IoU=0.50:0.95 | area= large | maxDets=1000 ] = 0.778\n"
     ]
    },
    {
     "name": "stderr",
     "output_type": "stream",
     "text": [
      "2021-05-20 10:06:54,834 - mmdet - INFO - Now best checkpoint is epoch_17.pth.Best bbox_mAP_50 is 0.5610\n",
      "2021-05-20 10:06:54,868 - mmdet - INFO - Epoch(val) [17][818]\tbbox_mAP: 0.4080, bbox_mAP_50: 0.5610, bbox_mAP_75: 0.4310, bbox_mAP_s: 0.1270, bbox_mAP_m: 0.3910, bbox_mAP_l: 0.6750, bbox_mAP_copypaste: 0.408 0.561 0.431 0.127 0.391 0.675\n",
      "/home/ubuntu/anaconda3/envs/pytorch_p36/lib/python3.6/site-packages/instaboostfast/pycococreater.py:48: VisibleDeprecationWarning: Creating an ndarray from ragged nested sequences (which is a list-or-tuple of lists-or-tuples-or ndarrays with different lengths or shapes) is deprecated. If you meant to do this, you must specify 'dtype=object' when creating the ndarray\n",
      "  contours = np.subtract(contours, 1)\n",
      "/home/ubuntu/anaconda3/envs/pytorch_p36/lib/python3.6/site-packages/instaboostfast/pycococreater.py:48: VisibleDeprecationWarning: Creating an ndarray from ragged nested sequences (which is a list-or-tuple of lists-or-tuples-or ndarrays with different lengths or shapes) is deprecated. If you meant to do this, you must specify 'dtype=object' when creating the ndarray\n",
      "  contours = np.subtract(contours, 1)\n",
      "2021-05-20 10:08:21,035 - mmdet - INFO - Epoch [18][50/818]\tlr: 8.147e-05, eta: 15:54:15, time: 1.723, data_time: 0.161, memory: 26469, loss_rpn_cls: 0.0364, loss_rpn_bbox: 0.0294, loss_semantic_seg: 0.1129, s0.loss_cls: 0.2468, s0.acc: 92.2227, s0.loss_bbox: 0.1387, s0.loss_mask: 0.2351, s1.loss_cls: 0.1131, s1.acc: 92.7931, s1.loss_bbox: 0.1197, s1.loss_mask: 0.1047, s2.loss_cls: 0.0523, s2.acc: 93.3227, s2.loss_bbox: 0.0638, s2.loss_mask: 0.0471, loss: 1.3000, grad_norm: 6.4472\n",
      "2021-05-20 10:09:42,854 - mmdet - INFO - Epoch [18][100/818]\tlr: 8.147e-05, eta: 15:52:54, time: 1.636, data_time: 0.062, memory: 26469, loss_rpn_cls: 0.0347, loss_rpn_bbox: 0.0292, loss_semantic_seg: 0.1054, s0.loss_cls: 0.2357, s0.acc: 92.4443, s0.loss_bbox: 0.1356, s0.loss_mask: 0.2359, s1.loss_cls: 0.1078, s1.acc: 93.2173, s1.loss_bbox: 0.1195, s1.loss_mask: 0.1014, s2.loss_cls: 0.0507, s2.acc: 93.4902, s2.loss_bbox: 0.0628, s2.loss_mask: 0.0450, loss: 1.2636, grad_norm: 7.1368\n",
      "2021-05-20 10:11:04,403 - mmdet - INFO - Epoch [18][150/818]\tlr: 8.147e-05, eta: 15:51:33, time: 1.631, data_time: 0.064, memory: 26469, loss_rpn_cls: 0.0352, loss_rpn_bbox: 0.0292, loss_semantic_seg: 0.1068, s0.loss_cls: 0.2175, s0.acc: 93.1758, s0.loss_bbox: 0.1247, s0.loss_mask: 0.2247, s1.loss_cls: 0.0995, s1.acc: 93.7274, s1.loss_bbox: 0.1106, s1.loss_mask: 0.0984, s2.loss_cls: 0.0458, s2.acc: 94.1248, s2.loss_bbox: 0.0572, s2.loss_mask: 0.0426, loss: 1.1920, grad_norm: 6.6514\n",
      "2021-05-20 10:12:27,566 - mmdet - INFO - Epoch [18][200/818]\tlr: 8.147e-05, eta: 15:50:15, time: 1.663, data_time: 0.060, memory: 26469, loss_rpn_cls: 0.0325, loss_rpn_bbox: 0.0252, loss_semantic_seg: 0.1136, s0.loss_cls: 0.2237, s0.acc: 92.8877, s0.loss_bbox: 0.1220, s0.loss_mask: 0.2175, s1.loss_cls: 0.1055, s1.acc: 93.1442, s1.loss_bbox: 0.1095, s1.loss_mask: 0.0977, s2.loss_cls: 0.0505, s2.acc: 93.3171, s2.loss_bbox: 0.0615, s2.loss_mask: 0.0437, loss: 1.2029, grad_norm: 6.8483\n",
      "2021-05-20 10:13:49,851 - mmdet - INFO - Epoch [18][250/818]\tlr: 8.147e-05, eta: 15:48:56, time: 1.646, data_time: 0.071, memory: 26469, loss_rpn_cls: 0.0341, loss_rpn_bbox: 0.0238, loss_semantic_seg: 0.1051, s0.loss_cls: 0.2365, s0.acc: 92.3271, s0.loss_bbox: 0.1310, s0.loss_mask: 0.2264, s1.loss_cls: 0.1091, s1.acc: 92.9638, s1.loss_bbox: 0.1122, s1.loss_mask: 0.0997, s2.loss_cls: 0.0506, s2.acc: 93.3474, s2.loss_bbox: 0.0604, s2.loss_mask: 0.0443, loss: 1.2332, grad_norm: 6.4396\n",
      "2021-05-20 10:15:11,096 - mmdet - INFO - Epoch [18][300/818]\tlr: 8.147e-05, eta: 15:47:33, time: 1.625, data_time: 0.064, memory: 26469, loss_rpn_cls: 0.0373, loss_rpn_bbox: 0.0294, loss_semantic_seg: 0.1052, s0.loss_cls: 0.2276, s0.acc: 92.8799, s0.loss_bbox: 0.1284, s0.loss_mask: 0.2179, s1.loss_cls: 0.1048, s1.acc: 93.3707, s1.loss_bbox: 0.1069, s1.loss_mask: 0.0963, s2.loss_cls: 0.0487, s2.acc: 93.9091, s2.loss_bbox: 0.0602, s2.loss_mask: 0.0436, loss: 1.2063, grad_norm: 6.1979\n",
      "2021-05-20 10:16:33,561 - mmdet - INFO - Epoch [18][350/818]\tlr: 8.147e-05, eta: 15:46:14, time: 1.649, data_time: 0.061, memory: 26469, loss_rpn_cls: 0.0388, loss_rpn_bbox: 0.0280, loss_semantic_seg: 0.1103, s0.loss_cls: 0.2332, s0.acc: 92.5693, s0.loss_bbox: 0.1337, s0.loss_mask: 0.2405, s1.loss_cls: 0.1072, s1.acc: 93.0646, s1.loss_bbox: 0.1142, s1.loss_mask: 0.1050, s2.loss_cls: 0.0519, s2.acc: 93.2138, s2.loss_bbox: 0.0624, s2.loss_mask: 0.0465, loss: 1.2719, grad_norm: 6.9699\n",
      "2021-05-20 10:17:54,650 - mmdet - INFO - Epoch [18][400/818]\tlr: 8.147e-05, eta: 15:44:52, time: 1.622, data_time: 0.069, memory: 26469, loss_rpn_cls: 0.0364, loss_rpn_bbox: 0.0283, loss_semantic_seg: 0.1048, s0.loss_cls: 0.2430, s0.acc: 92.3711, s0.loss_bbox: 0.1387, s0.loss_mask: 0.2228, s1.loss_cls: 0.1110, s1.acc: 92.9497, s1.loss_bbox: 0.1158, s1.loss_mask: 0.0970, s2.loss_cls: 0.0513, s2.acc: 93.2790, s2.loss_bbox: 0.0608, s2.loss_mask: 0.0439, loss: 1.2538, grad_norm: 6.3385\n",
      "2021-05-20 10:19:14,686 - mmdet - INFO - Epoch [18][450/818]\tlr: 8.147e-05, eta: 15:43:27, time: 1.601, data_time: 0.058, memory: 26469, loss_rpn_cls: 0.0321, loss_rpn_bbox: 0.0260, loss_semantic_seg: 0.1102, s0.loss_cls: 0.2239, s0.acc: 93.0410, s0.loss_bbox: 0.1181, s0.loss_mask: 0.2133, s1.loss_cls: 0.1032, s1.acc: 93.5627, s1.loss_bbox: 0.1009, s1.loss_mask: 0.0926, s2.loss_cls: 0.0494, s2.acc: 93.6615, s2.loss_bbox: 0.0534, s2.loss_mask: 0.0404, loss: 1.1636, grad_norm: 6.4355\n",
      "2021-05-20 10:20:38,502 - mmdet - INFO - Epoch [18][500/818]\tlr: 8.147e-05, eta: 15:42:11, time: 1.676, data_time: 0.077, memory: 26469, loss_rpn_cls: 0.0343, loss_rpn_bbox: 0.0280, loss_semantic_seg: 0.1039, s0.loss_cls: 0.2537, s0.acc: 91.9287, s0.loss_bbox: 0.1393, s0.loss_mask: 0.2277, s1.loss_cls: 0.1158, s1.acc: 92.5876, s1.loss_bbox: 0.1162, s1.loss_mask: 0.1003, s2.loss_cls: 0.0543, s2.acc: 93.0198, s2.loss_bbox: 0.0640, s2.loss_mask: 0.0451, loss: 1.2825, grad_norm: 6.4187\n",
      "2021-05-20 10:22:01,528 - mmdet - INFO - Epoch [18][550/818]\tlr: 8.147e-05, eta: 15:40:53, time: 1.660, data_time: 0.076, memory: 26469, loss_rpn_cls: 0.0411, loss_rpn_bbox: 0.0325, loss_semantic_seg: 0.1097, s0.loss_cls: 0.2627, s0.acc: 92.0527, s0.loss_bbox: 0.1372, s0.loss_mask: 0.2226, s1.loss_cls: 0.1210, s1.acc: 92.5767, s1.loss_bbox: 0.1169, s1.loss_mask: 0.0985, s2.loss_cls: 0.0577, s2.acc: 92.8884, s2.loss_bbox: 0.0632, s2.loss_mask: 0.0446, loss: 1.3078, grad_norm: 6.8319\n",
      "2021-05-20 10:23:22,824 - mmdet - INFO - Epoch [18][600/818]\tlr: 8.147e-05, eta: 15:39:31, time: 1.626, data_time: 0.060, memory: 26469, loss_rpn_cls: 0.0300, loss_rpn_bbox: 0.0229, loss_semantic_seg: 0.0972, s0.loss_cls: 0.2055, s0.acc: 93.4355, s0.loss_bbox: 0.1135, s0.loss_mask: 0.1915, s1.loss_cls: 0.0953, s1.acc: 94.0237, s1.loss_bbox: 0.0985, s1.loss_mask: 0.0843, s2.loss_cls: 0.0443, s2.acc: 94.3040, s2.loss_bbox: 0.0535, s2.loss_mask: 0.0377, loss: 1.0743, grad_norm: 6.5300\n",
      "2021-05-20 10:24:47,129 - mmdet - INFO - Epoch [18][650/818]\tlr: 8.147e-05, eta: 15:38:16, time: 1.686, data_time: 0.078, memory: 26469, loss_rpn_cls: 0.0388, loss_rpn_bbox: 0.0314, loss_semantic_seg: 0.1068, s0.loss_cls: 0.2604, s0.acc: 91.7422, s0.loss_bbox: 0.1428, s0.loss_mask: 0.2304, s1.loss_cls: 0.1214, s1.acc: 92.1758, s1.loss_bbox: 0.1235, s1.loss_mask: 0.1001, s2.loss_cls: 0.0568, s2.acc: 92.6972, s2.loss_bbox: 0.0641, s2.loss_mask: 0.0439, loss: 1.3203, grad_norm: 6.3356\n",
      "2021-05-20 10:26:06,123 - mmdet - INFO - Epoch [18][700/818]\tlr: 8.147e-05, eta: 15:36:48, time: 1.580, data_time: 0.053, memory: 26469, loss_rpn_cls: 0.0310, loss_rpn_bbox: 0.0251, loss_semantic_seg: 0.1105, s0.loss_cls: 0.2273, s0.acc: 92.8340, s0.loss_bbox: 0.1285, s0.loss_mask: 0.2202, s1.loss_cls: 0.1061, s1.acc: 93.2821, s1.loss_bbox: 0.1135, s1.loss_mask: 0.0949, s2.loss_cls: 0.0504, s2.acc: 93.3703, s2.loss_bbox: 0.0613, s2.loss_mask: 0.0429, loss: 1.2117, grad_norm: 6.6032\n",
      "2021-05-20 10:27:29,869 - mmdet - INFO - Epoch [18][750/818]\tlr: 8.147e-05, eta: 15:35:32, time: 1.675, data_time: 0.067, memory: 26469, loss_rpn_cls: 0.0296, loss_rpn_bbox: 0.0247, loss_semantic_seg: 0.1038, s0.loss_cls: 0.2278, s0.acc: 92.5977, s0.loss_bbox: 0.1371, s0.loss_mask: 0.2299, s1.loss_cls: 0.1064, s1.acc: 92.9574, s1.loss_bbox: 0.1166, s1.loss_mask: 0.1034, s2.loss_cls: 0.0498, s2.acc: 93.4483, s2.loss_bbox: 0.0617, s2.loss_mask: 0.0473, loss: 1.2380, grad_norm: 6.6052\n"
     ]
    },
    {
     "name": "stderr",
     "output_type": "stream",
     "text": [
      "2021-05-20 10:28:53,910 - mmdet - INFO - Epoch [18][800/818]\tlr: 8.147e-05, eta: 15:34:16, time: 1.681, data_time: 0.076, memory: 26469, loss_rpn_cls: 0.0443, loss_rpn_bbox: 0.0280, loss_semantic_seg: 0.1085, s0.loss_cls: 0.2461, s0.acc: 92.2598, s0.loss_bbox: 0.1391, s0.loss_mask: 0.2309, s1.loss_cls: 0.1122, s1.acc: 93.0199, s1.loss_bbox: 0.1142, s1.loss_mask: 0.1017, s2.loss_cls: 0.0521, s2.acc: 93.5617, s2.loss_bbox: 0.0610, s2.loss_mask: 0.0458, loss: 1.2838, grad_norm: 6.9535\n",
      "2021-05-20 10:29:24,064 - mmdet - INFO - Saving checkpoint at 18 epochs\n"
     ]
    },
    {
     "name": "stdout",
     "output_type": "stream",
     "text": [
      "[>>>>>>>>>>>>>>>>>>>>>>>>>>>>>] 655/655, 3.8 task/s, elapsed: 171s, ETA:     0s"
     ]
    },
    {
     "name": "stderr",
     "output_type": "stream",
     "text": [
      "2021-05-20 10:32:22,066 - mmdet - INFO - Evaluating bbox...\n"
     ]
    },
    {
     "name": "stdout",
     "output_type": "stream",
     "text": [
      "Loading and preparing results...\n",
      "DONE (t=0.73s)\n",
      "creating index...\n",
      "index created!\n",
      "Running per image evaluation...\n",
      "Evaluate annotation type *bbox*\n",
      "DONE (t=7.56s).\n",
      "Accumulating evaluation results...\n",
      "DONE (t=1.48s).\n",
      "Average Precision  (AP) @[ IoU=0.50:0.95 | area=   all | maxDets=100 ] = 0.409\n",
      "Average Precision  (AP) @[ IoU=0.50      | area=   all | maxDets=1000 ] = 0.577\n",
      "Average Precision  (AP) @[ IoU=0.75      | area=   all | maxDets=1000 ] = 0.446\n",
      "Average Precision  (AP) @[ IoU=0.50:0.95 | area= small | maxDets=1000 ] = 0.120\n",
      "Average Precision  (AP) @[ IoU=0.50:0.95 | area=medium | maxDets=1000 ] = 0.389\n",
      "Average Precision  (AP) @[ IoU=0.50:0.95 | area= large | maxDets=1000 ] = 0.674\n",
      "Average Recall     (AR) @[ IoU=0.50:0.95 | area=   all | maxDets=100 ] = 0.526\n",
      "Average Recall     (AR) @[ IoU=0.50:0.95 | area=   all | maxDets=300 ] = 0.526\n",
      "Average Recall     (AR) @[ IoU=0.50:0.95 | area=   all | maxDets=1000 ] = 0.526\n",
      "Average Recall     (AR) @[ IoU=0.50:0.95 | area= small | maxDets=1000 ] = 0.235\n",
      "Average Recall     (AR) @[ IoU=0.50:0.95 | area=medium | maxDets=1000 ] = 0.528\n",
      "Average Recall     (AR) @[ IoU=0.50:0.95 | area= large | maxDets=1000 ] = 0.756\n"
     ]
    },
    {
     "name": "stderr",
     "output_type": "stream",
     "text": [
      "2021-05-20 10:32:35,406 - mmdet - INFO - Now best checkpoint is epoch_18.pth.Best bbox_mAP_50 is 0.5770\n",
      "2021-05-20 10:32:35,437 - mmdet - INFO - Epoch(val) [18][818]\tbbox_mAP: 0.4090, bbox_mAP_50: 0.5770, bbox_mAP_75: 0.4460, bbox_mAP_s: 0.1200, bbox_mAP_m: 0.3890, bbox_mAP_l: 0.6740, bbox_mAP_copypaste: 0.409 0.577 0.446 0.120 0.389 0.674\n",
      "/home/ubuntu/anaconda3/envs/pytorch_p36/lib/python3.6/site-packages/instaboostfast/pycococreater.py:48: VisibleDeprecationWarning: Creating an ndarray from ragged nested sequences (which is a list-or-tuple of lists-or-tuples-or ndarrays with different lengths or shapes) is deprecated. If you meant to do this, you must specify 'dtype=object' when creating the ndarray\n",
      "  contours = np.subtract(contours, 1)\n",
      "/home/ubuntu/anaconda3/envs/pytorch_p36/lib/python3.6/site-packages/instaboostfast/pycococreater.py:48: VisibleDeprecationWarning: Creating an ndarray from ragged nested sequences (which is a list-or-tuple of lists-or-tuples-or ndarrays with different lengths or shapes) is deprecated. If you meant to do this, you must specify 'dtype=object' when creating the ndarray\n",
      "  contours = np.subtract(contours, 1)\n",
      "2021-05-20 10:33:59,875 - mmdet - INFO - Epoch [19][50/818]\tlr: 7.939e-05, eta: 15:31:24, time: 1.688, data_time: 0.159, memory: 26469, loss_rpn_cls: 0.0289, loss_rpn_bbox: 0.0214, loss_semantic_seg: 0.1005, s0.loss_cls: 0.2074, s0.acc: 93.4707, s0.loss_bbox: 0.1111, s0.loss_mask: 0.2046, s1.loss_cls: 0.0935, s1.acc: 94.1233, s1.loss_bbox: 0.0938, s1.loss_mask: 0.0907, s2.loss_cls: 0.0437, s2.acc: 94.3975, s2.loss_bbox: 0.0505, s2.loss_mask: 0.0393, loss: 1.0853, grad_norm: 6.5648\n",
      "2021-05-20 10:35:21,489 - mmdet - INFO - Epoch [19][100/818]\tlr: 7.939e-05, eta: 15:30:03, time: 1.632, data_time: 0.074, memory: 26469, loss_rpn_cls: 0.0311, loss_rpn_bbox: 0.0280, loss_semantic_seg: 0.1120, s0.loss_cls: 0.2173, s0.acc: 93.1934, s0.loss_bbox: 0.1268, s0.loss_mask: 0.2121, s1.loss_cls: 0.0989, s1.acc: 93.8603, s1.loss_bbox: 0.1101, s1.loss_mask: 0.0929, s2.loss_cls: 0.0484, s2.acc: 93.8796, s2.loss_bbox: 0.0591, s2.loss_mask: 0.0406, loss: 1.1773, grad_norm: 6.4071\n",
      "2021-05-20 10:36:45,358 - mmdet - INFO - Epoch [19][150/818]\tlr: 7.939e-05, eta: 15:28:47, time: 1.677, data_time: 0.067, memory: 26469, loss_rpn_cls: 0.0385, loss_rpn_bbox: 0.0316, loss_semantic_seg: 0.1142, s0.loss_cls: 0.2453, s0.acc: 92.1211, s0.loss_bbox: 0.1389, s0.loss_mask: 0.2329, s1.loss_cls: 0.1107, s1.acc: 92.9381, s1.loss_bbox: 0.1198, s1.loss_mask: 0.1000, s2.loss_cls: 0.0519, s2.acc: 93.3911, s2.loss_bbox: 0.0645, s2.loss_mask: 0.0458, loss: 1.2940, grad_norm: 6.5295\n",
      "2021-05-20 10:38:07,279 - mmdet - INFO - Epoch [19][200/818]\tlr: 7.939e-05, eta: 15:27:27, time: 1.638, data_time: 0.061, memory: 26469, loss_rpn_cls: 0.0272, loss_rpn_bbox: 0.0207, loss_semantic_seg: 0.1113, s0.loss_cls: 0.2028, s0.acc: 93.6592, s0.loss_bbox: 0.1182, s0.loss_mask: 0.2161, s1.loss_cls: 0.0938, s1.acc: 94.0580, s1.loss_bbox: 0.1033, s1.loss_mask: 0.0950, s2.loss_cls: 0.0444, s2.acc: 94.1640, s2.loss_bbox: 0.0556, s2.loss_mask: 0.0419, loss: 1.1304, grad_norm: 6.4161\n",
      "2021-05-20 10:39:29,376 - mmdet - INFO - Epoch [19][250/818]\tlr: 7.939e-05, eta: 15:26:07, time: 1.642, data_time: 0.062, memory: 26469, loss_rpn_cls: 0.0260, loss_rpn_bbox: 0.0259, loss_semantic_seg: 0.1052, s0.loss_cls: 0.2115, s0.acc: 93.0684, s0.loss_bbox: 0.1252, s0.loss_mask: 0.2244, s1.loss_cls: 0.1004, s1.acc: 93.3893, s1.loss_bbox: 0.1060, s1.loss_mask: 0.0982, s2.loss_cls: 0.0464, s2.acc: 93.8363, s2.loss_bbox: 0.0562, s2.loss_mask: 0.0431, loss: 1.1685, grad_norm: 6.6066\n",
      "2021-05-20 10:40:51,160 - mmdet - INFO - Epoch [19][300/818]\tlr: 7.939e-05, eta: 15:24:46, time: 1.636, data_time: 0.060, memory: 26469, loss_rpn_cls: 0.0338, loss_rpn_bbox: 0.0231, loss_semantic_seg: 0.1028, s0.loss_cls: 0.2198, s0.acc: 92.9971, s0.loss_bbox: 0.1254, s0.loss_mask: 0.2020, s1.loss_cls: 0.1012, s1.acc: 93.4757, s1.loss_bbox: 0.1144, s1.loss_mask: 0.0902, s2.loss_cls: 0.0486, s2.acc: 93.6617, s2.loss_bbox: 0.0632, s2.loss_mask: 0.0400, loss: 1.1645, grad_norm: 6.6504\n",
      "2021-05-20 10:42:14,971 - mmdet - INFO - Epoch [19][350/818]\tlr: 7.939e-05, eta: 15:23:30, time: 1.676, data_time: 0.076, memory: 26469, loss_rpn_cls: 0.0429, loss_rpn_bbox: 0.0291, loss_semantic_seg: 0.1042, s0.loss_cls: 0.2497, s0.acc: 92.0195, s0.loss_bbox: 0.1405, s0.loss_mask: 0.2434, s1.loss_cls: 0.1145, s1.acc: 92.6967, s1.loss_bbox: 0.1203, s1.loss_mask: 0.1076, s2.loss_cls: 0.0539, s2.acc: 92.9714, s2.loss_bbox: 0.0662, s2.loss_mask: 0.0468, loss: 1.3189, grad_norm: 7.0973\n",
      "2021-05-20 10:43:37,315 - mmdet - INFO - Epoch [19][400/818]\tlr: 7.939e-05, eta: 15:22:10, time: 1.647, data_time: 0.071, memory: 26469, loss_rpn_cls: 0.0322, loss_rpn_bbox: 0.0246, loss_semantic_seg: 0.0941, s0.loss_cls: 0.2195, s0.acc: 92.9316, s0.loss_bbox: 0.1233, s0.loss_mask: 0.2142, s1.loss_cls: 0.1014, s1.acc: 93.4213, s1.loss_bbox: 0.1087, s1.loss_mask: 0.0955, s2.loss_cls: 0.0479, s2.acc: 93.7374, s2.loss_bbox: 0.0596, s2.loss_mask: 0.0414, loss: 1.1622, grad_norm: 5.8006\n",
      "2021-05-20 10:45:00,475 - mmdet - INFO - Epoch [19][450/818]\tlr: 7.939e-05, eta: 15:20:52, time: 1.663, data_time: 0.068, memory: 26469, loss_rpn_cls: 0.0313, loss_rpn_bbox: 0.0245, loss_semantic_seg: 0.1098, s0.loss_cls: 0.2490, s0.acc: 92.1934, s0.loss_bbox: 0.1249, s0.loss_mask: 0.2416, s1.loss_cls: 0.1171, s1.acc: 92.6893, s1.loss_bbox: 0.1120, s1.loss_mask: 0.1064, s2.loss_cls: 0.0556, s2.acc: 92.9425, s2.loss_bbox: 0.0600, s2.loss_mask: 0.0472, loss: 1.2796, grad_norm: 6.6233\n",
      "2021-05-20 10:46:21,962 - mmdet - INFO - Epoch [19][500/818]\tlr: 7.939e-05, eta: 15:19:31, time: 1.630, data_time: 0.064, memory: 26469, loss_rpn_cls: 0.0376, loss_rpn_bbox: 0.0319, loss_semantic_seg: 0.1183, s0.loss_cls: 0.2415, s0.acc: 92.5098, s0.loss_bbox: 0.1370, s0.loss_mask: 0.2305, s1.loss_cls: 0.1125, s1.acc: 92.9676, s1.loss_bbox: 0.1143, s1.loss_mask: 0.1029, s2.loss_cls: 0.0528, s2.acc: 93.3989, s2.loss_bbox: 0.0605, s2.loss_mask: 0.0461, loss: 1.2859, grad_norm: 6.8708\n",
      "2021-05-20 10:47:44,623 - mmdet - INFO - Epoch [19][550/818]\tlr: 7.939e-05, eta: 15:18:12, time: 1.653, data_time: 0.074, memory: 26469, loss_rpn_cls: 0.0361, loss_rpn_bbox: 0.0296, loss_semantic_seg: 0.1114, s0.loss_cls: 0.2443, s0.acc: 92.2373, s0.loss_bbox: 0.1325, s0.loss_mask: 0.2169, s1.loss_cls: 0.1153, s1.acc: 92.6366, s1.loss_bbox: 0.1136, s1.loss_mask: 0.0958, s2.loss_cls: 0.0549, s2.acc: 92.8784, s2.loss_bbox: 0.0598, s2.loss_mask: 0.0428, loss: 1.2530, grad_norm: 6.6838\n",
      "2021-05-20 10:49:08,021 - mmdet - INFO - Epoch [19][600/818]\tlr: 7.939e-05, eta: 15:16:55, time: 1.668, data_time: 0.073, memory: 26469, loss_rpn_cls: 0.0344, loss_rpn_bbox: 0.0293, loss_semantic_seg: 0.1084, s0.loss_cls: 0.2560, s0.acc: 91.8457, s0.loss_bbox: 0.1403, s0.loss_mask: 0.2314, s1.loss_cls: 0.1189, s1.acc: 92.5373, s1.loss_bbox: 0.1181, s1.loss_mask: 0.1015, s2.loss_cls: 0.0572, s2.acc: 92.7431, s2.loss_bbox: 0.0614, s2.loss_mask: 0.0449, loss: 1.3017, grad_norm: 6.6437\n",
      "2021-05-20 10:50:31,991 - mmdet - INFO - Epoch [19][650/818]\tlr: 7.939e-05, eta: 15:15:39, time: 1.679, data_time: 0.073, memory: 26469, loss_rpn_cls: 0.0361, loss_rpn_bbox: 0.0310, loss_semantic_seg: 0.1098, s0.loss_cls: 0.2584, s0.acc: 91.8555, s0.loss_bbox: 0.1456, s0.loss_mask: 0.2366, s1.loss_cls: 0.1189, s1.acc: 92.5771, s1.loss_bbox: 0.1220, s1.loss_mask: 0.1061, s2.loss_cls: 0.0558, s2.acc: 92.9381, s2.loss_bbox: 0.0651, s2.loss_mask: 0.0472, loss: 1.3326, grad_norm: 6.0630\n",
      "2021-05-20 10:51:54,781 - mmdet - INFO - Epoch [19][700/818]\tlr: 7.939e-05, eta: 15:14:20, time: 1.656, data_time: 0.067, memory: 26469, loss_rpn_cls: 0.0377, loss_rpn_bbox: 0.0300, loss_semantic_seg: 0.1050, s0.loss_cls: 0.2551, s0.acc: 91.8291, s0.loss_bbox: 0.1427, s0.loss_mask: 0.2219, s1.loss_cls: 0.1181, s1.acc: 92.3432, s1.loss_bbox: 0.1274, s1.loss_mask: 0.0980, s2.loss_cls: 0.0572, s2.acc: 92.2360, s2.loss_bbox: 0.0697, s2.loss_mask: 0.0435, loss: 1.3064, grad_norm: 6.7493\n",
      "2021-05-20 10:53:15,809 - mmdet - INFO - Epoch [19][750/818]\tlr: 7.939e-05, eta: 15:12:58, time: 1.621, data_time: 0.059, memory: 26469, loss_rpn_cls: 0.0283, loss_rpn_bbox: 0.0223, loss_semantic_seg: 0.0952, s0.loss_cls: 0.2232, s0.acc: 92.9756, s0.loss_bbox: 0.1181, s0.loss_mask: 0.2103, s1.loss_cls: 0.1029, s1.acc: 93.6841, s1.loss_bbox: 0.1019, s1.loss_mask: 0.0952, s2.loss_cls: 0.0484, s2.acc: 93.8008, s2.loss_bbox: 0.0578, s2.loss_mask: 0.0444, loss: 1.1480, grad_norm: 6.5684\n"
     ]
    },
    {
     "name": "stderr",
     "output_type": "stream",
     "text": [
      "2021-05-20 10:54:38,067 - mmdet - INFO - Epoch [19][800/818]\tlr: 7.939e-05, eta: 15:11:38, time: 1.645, data_time: 0.063, memory: 26469, loss_rpn_cls: 0.0350, loss_rpn_bbox: 0.0269, loss_semantic_seg: 0.1082, s0.loss_cls: 0.2206, s0.acc: 93.0498, s0.loss_bbox: 0.1223, s0.loss_mask: 0.2063, s1.loss_cls: 0.1017, s1.acc: 93.6435, s1.loss_bbox: 0.1066, s1.loss_mask: 0.0899, s2.loss_cls: 0.0476, s2.acc: 94.0038, s2.loss_bbox: 0.0603, s2.loss_mask: 0.0405, loss: 1.1659, grad_norm: 6.2537\n",
      "2021-05-20 10:55:10,182 - mmdet - INFO - Saving checkpoint at 19 epochs\n"
     ]
    },
    {
     "name": "stdout",
     "output_type": "stream",
     "text": [
      "[>>>>>>>>>>>>>>>>>>>>>>>>>>>>>] 655/655, 3.8 task/s, elapsed: 171s, ETA:     0s"
     ]
    },
    {
     "name": "stderr",
     "output_type": "stream",
     "text": [
      "2021-05-20 10:58:08,353 - mmdet - INFO - Evaluating bbox...\n"
     ]
    },
    {
     "name": "stdout",
     "output_type": "stream",
     "text": [
      "Loading and preparing results...\n",
      "DONE (t=0.72s)\n",
      "creating index...\n",
      "index created!\n",
      "Running per image evaluation...\n",
      "Evaluate annotation type *bbox*\n",
      "DONE (t=7.47s).\n",
      "Accumulating evaluation results...\n"
     ]
    },
    {
     "name": "stderr",
     "output_type": "stream",
     "text": [
      "2021-05-20 10:58:18,160 - mmdet - INFO - Epoch(val) [19][818]\tbbox_mAP: 0.4140, bbox_mAP_50: 0.5760, bbox_mAP_75: 0.4470, bbox_mAP_s: 0.1350, bbox_mAP_m: 0.3990, bbox_mAP_l: 0.6300, bbox_mAP_copypaste: 0.414 0.576 0.447 0.135 0.399 0.630\n"
     ]
    },
    {
     "name": "stdout",
     "output_type": "stream",
     "text": [
      "DONE (t=1.48s).\n",
      "Average Precision  (AP) @[ IoU=0.50:0.95 | area=   all | maxDets=100 ] = 0.414\n",
      "Average Precision  (AP) @[ IoU=0.50      | area=   all | maxDets=1000 ] = 0.576\n",
      "Average Precision  (AP) @[ IoU=0.75      | area=   all | maxDets=1000 ] = 0.447\n",
      "Average Precision  (AP) @[ IoU=0.50:0.95 | area= small | maxDets=1000 ] = 0.135\n",
      "Average Precision  (AP) @[ IoU=0.50:0.95 | area=medium | maxDets=1000 ] = 0.399\n",
      "Average Precision  (AP) @[ IoU=0.50:0.95 | area= large | maxDets=1000 ] = 0.630\n",
      "Average Recall     (AR) @[ IoU=0.50:0.95 | area=   all | maxDets=100 ] = 0.520\n",
      "Average Recall     (AR) @[ IoU=0.50:0.95 | area=   all | maxDets=300 ] = 0.520\n",
      "Average Recall     (AR) @[ IoU=0.50:0.95 | area=   all | maxDets=1000 ] = 0.520\n",
      "Average Recall     (AR) @[ IoU=0.50:0.95 | area= small | maxDets=1000 ] = 0.226\n",
      "Average Recall     (AR) @[ IoU=0.50:0.95 | area=medium | maxDets=1000 ] = 0.518\n",
      "Average Recall     (AR) @[ IoU=0.50:0.95 | area= large | maxDets=1000 ] = 0.762\n"
     ]
    },
    {
     "name": "stderr",
     "output_type": "stream",
     "text": [
      "/home/ubuntu/anaconda3/envs/pytorch_p36/lib/python3.6/site-packages/instaboostfast/pycococreater.py:48: VisibleDeprecationWarning: Creating an ndarray from ragged nested sequences (which is a list-or-tuple of lists-or-tuples-or ndarrays with different lengths or shapes) is deprecated. If you meant to do this, you must specify 'dtype=object' when creating the ndarray\n",
      "  contours = np.subtract(contours, 1)\n",
      "/home/ubuntu/anaconda3/envs/pytorch_p36/lib/python3.6/site-packages/instaboostfast/pycococreater.py:48: VisibleDeprecationWarning: Creating an ndarray from ragged nested sequences (which is a list-or-tuple of lists-or-tuples-or ndarrays with different lengths or shapes) is deprecated. If you meant to do this, you must specify 'dtype=object' when creating the ndarray\n",
      "  contours = np.subtract(contours, 1)\n",
      "2021-05-20 10:59:43,105 - mmdet - INFO - Epoch [20][50/818]\tlr: 7.723e-05, eta: 15:08:51, time: 1.699, data_time: 0.130, memory: 26469, loss_rpn_cls: 0.0298, loss_rpn_bbox: 0.0252, loss_semantic_seg: 0.0981, s0.loss_cls: 0.2111, s0.acc: 93.2607, s0.loss_bbox: 0.1154, s0.loss_mask: 0.2222, s1.loss_cls: 0.0976, s1.acc: 93.7099, s1.loss_bbox: 0.0997, s1.loss_mask: 0.0972, s2.loss_cls: 0.0458, s2.acc: 94.0662, s2.loss_bbox: 0.0562, s2.loss_mask: 0.0443, loss: 1.1425, grad_norm: 6.5054\n",
      "2021-05-20 11:01:06,570 - mmdet - INFO - Epoch [20][100/818]\tlr: 7.723e-05, eta: 15:07:34, time: 1.669, data_time: 0.065, memory: 26469, loss_rpn_cls: 0.0327, loss_rpn_bbox: 0.0279, loss_semantic_seg: 0.1013, s0.loss_cls: 0.2192, s0.acc: 93.0186, s0.loss_bbox: 0.1258, s0.loss_mask: 0.2064, s1.loss_cls: 0.1014, s1.acc: 93.6183, s1.loss_bbox: 0.1067, s1.loss_mask: 0.0906, s2.loss_cls: 0.0482, s2.acc: 93.8281, s2.loss_bbox: 0.0584, s2.loss_mask: 0.0395, loss: 1.1581, grad_norm: 6.2679\n",
      "2021-05-20 11:02:29,558 - mmdet - INFO - Epoch [20][150/818]\tlr: 7.723e-05, eta: 15:06:16, time: 1.660, data_time: 0.072, memory: 26469, loss_rpn_cls: 0.0354, loss_rpn_bbox: 0.0277, loss_semantic_seg: 0.1003, s0.loss_cls: 0.2222, s0.acc: 92.9590, s0.loss_bbox: 0.1282, s0.loss_mask: 0.2132, s1.loss_cls: 0.0996, s1.acc: 93.6248, s1.loss_bbox: 0.1109, s1.loss_mask: 0.0901, s2.loss_cls: 0.0477, s2.acc: 93.8899, s2.loss_bbox: 0.0591, s2.loss_mask: 0.0399, loss: 1.1742, grad_norm: 6.1729\n",
      "2021-05-20 11:03:52,806 - mmdet - INFO - Epoch [20][200/818]\tlr: 7.723e-05, eta: 15:04:58, time: 1.665, data_time: 0.068, memory: 26469, loss_rpn_cls: 0.0314, loss_rpn_bbox: 0.0265, loss_semantic_seg: 0.1109, s0.loss_cls: 0.2264, s0.acc: 92.8145, s0.loss_bbox: 0.1304, s0.loss_mask: 0.2228, s1.loss_cls: 0.1037, s1.acc: 93.3868, s1.loss_bbox: 0.1116, s1.loss_mask: 0.0990, s2.loss_cls: 0.0486, s2.acc: 93.6335, s2.loss_bbox: 0.0606, s2.loss_mask: 0.0438, loss: 1.2156, grad_norm: 6.3856\n",
      "2021-05-20 11:05:12,700 - mmdet - INFO - Epoch [20][250/818]\tlr: 7.723e-05, eta: 15:03:34, time: 1.598, data_time: 0.057, memory: 26469, loss_rpn_cls: 0.0299, loss_rpn_bbox: 0.0283, loss_semantic_seg: 0.1140, s0.loss_cls: 0.2277, s0.acc: 92.7402, s0.loss_bbox: 0.1222, s0.loss_mask: 0.2099, s1.loss_cls: 0.1048, s1.acc: 93.3416, s1.loss_bbox: 0.1042, s1.loss_mask: 0.0924, s2.loss_cls: 0.0501, s2.acc: 93.3956, s2.loss_bbox: 0.0574, s2.loss_mask: 0.0413, loss: 1.1823, grad_norm: 6.2569\n",
      "2021-05-20 11:06:34,598 - mmdet - INFO - Epoch [20][300/818]\tlr: 7.723e-05, eta: 15:02:13, time: 1.638, data_time: 0.065, memory: 26469, loss_rpn_cls: 0.0379, loss_rpn_bbox: 0.0287, loss_semantic_seg: 0.1075, s0.loss_cls: 0.2344, s0.acc: 92.4248, s0.loss_bbox: 0.1398, s0.loss_mask: 0.2396, s1.loss_cls: 0.1065, s1.acc: 93.0058, s1.loss_bbox: 0.1212, s1.loss_mask: 0.1064, s2.loss_cls: 0.0507, s2.acc: 93.2434, s2.loss_bbox: 0.0668, s2.loss_mask: 0.0481, loss: 1.2875, grad_norm: 6.6078\n",
      "2021-05-20 11:07:57,067 - mmdet - INFO - Epoch [20][350/818]\tlr: 7.723e-05, eta: 15:00:54, time: 1.649, data_time: 0.082, memory: 26469, loss_rpn_cls: 0.0371, loss_rpn_bbox: 0.0299, loss_semantic_seg: 0.0971, s0.loss_cls: 0.2521, s0.acc: 91.9668, s0.loss_bbox: 0.1366, s0.loss_mask: 0.2393, s1.loss_cls: 0.1158, s1.acc: 92.6209, s1.loss_bbox: 0.1206, s1.loss_mask: 0.1038, s2.loss_cls: 0.0536, s2.acc: 93.2989, s2.loss_bbox: 0.0610, s2.loss_mask: 0.0453, loss: 1.2922, grad_norm: 6.3805\n",
      "2021-05-20 11:09:21,864 - mmdet - INFO - Epoch [20][400/818]\tlr: 7.723e-05, eta: 14:59:40, time: 1.696, data_time: 0.085, memory: 26469, loss_rpn_cls: 0.0320, loss_rpn_bbox: 0.0245, loss_semantic_seg: 0.0993, s0.loss_cls: 0.2238, s0.acc: 92.8125, s0.loss_bbox: 0.1291, s0.loss_mask: 0.2223, s1.loss_cls: 0.1018, s1.acc: 93.5432, s1.loss_bbox: 0.1128, s1.loss_mask: 0.0981, s2.loss_cls: 0.0487, s2.acc: 93.6538, s2.loss_bbox: 0.0620, s2.loss_mask: 0.0430, loss: 1.1974, grad_norm: 6.3201\n",
      "2021-05-20 11:10:45,512 - mmdet - INFO - Epoch [20][450/818]\tlr: 7.723e-05, eta: 14:58:23, time: 1.673, data_time: 0.075, memory: 26469, loss_rpn_cls: 0.0338, loss_rpn_bbox: 0.0283, loss_semantic_seg: 0.1101, s0.loss_cls: 0.2351, s0.acc: 92.5176, s0.loss_bbox: 0.1256, s0.loss_mask: 0.2332, s1.loss_cls: 0.1072, s1.acc: 93.1984, s1.loss_bbox: 0.1083, s1.loss_mask: 0.1011, s2.loss_cls: 0.0507, s2.acc: 93.6072, s2.loss_bbox: 0.0567, s2.loss_mask: 0.0442, loss: 1.2341, grad_norm: 6.5517\n",
      "2021-05-20 11:12:09,183 - mmdet - INFO - Epoch [20][500/818]\tlr: 7.723e-05, eta: 14:57:06, time: 1.673, data_time: 0.077, memory: 26469, loss_rpn_cls: 0.0359, loss_rpn_bbox: 0.0271, loss_semantic_seg: 0.0984, s0.loss_cls: 0.2463, s0.acc: 92.3203, s0.loss_bbox: 0.1372, s0.loss_mask: 0.2317, s1.loss_cls: 0.1122, s1.acc: 93.1398, s1.loss_bbox: 0.1199, s1.loss_mask: 0.1006, s2.loss_cls: 0.0512, s2.acc: 93.7111, s2.loss_bbox: 0.0651, s2.loss_mask: 0.0446, loss: 1.2702, grad_norm: 6.7339\n",
      "2021-05-20 11:13:29,044 - mmdet - INFO - Epoch [20][550/818]\tlr: 7.723e-05, eta: 14:55:41, time: 1.597, data_time: 0.067, memory: 26469, loss_rpn_cls: 0.0338, loss_rpn_bbox: 0.0256, loss_semantic_seg: 0.1037, s0.loss_cls: 0.2228, s0.acc: 92.9980, s0.loss_bbox: 0.1151, s0.loss_mask: 0.2072, s1.loss_cls: 0.1035, s1.acc: 93.5615, s1.loss_bbox: 0.1026, s1.loss_mask: 0.0901, s2.loss_cls: 0.0489, s2.acc: 93.7275, s2.loss_bbox: 0.0562, s2.loss_mask: 0.0402, loss: 1.1497, grad_norm: 6.8129\n",
      "2021-05-20 11:14:53,155 - mmdet - INFO - Epoch [20][600/818]\tlr: 7.723e-05, eta: 14:54:25, time: 1.682, data_time: 0.080, memory: 26469, loss_rpn_cls: 0.0326, loss_rpn_bbox: 0.0259, loss_semantic_seg: 0.1020, s0.loss_cls: 0.2173, s0.acc: 92.9443, s0.loss_bbox: 0.1214, s0.loss_mask: 0.2130, s1.loss_cls: 0.1005, s1.acc: 93.6012, s1.loss_bbox: 0.1098, s1.loss_mask: 0.0946, s2.loss_cls: 0.0488, s2.acc: 93.5002, s2.loss_bbox: 0.0608, s2.loss_mask: 0.0424, loss: 1.1692, grad_norm: 5.9458\n",
      "2021-05-20 11:16:17,863 - mmdet - INFO - Epoch [20][650/818]\tlr: 7.723e-05, eta: 14:53:10, time: 1.694, data_time: 0.077, memory: 26469, loss_rpn_cls: 0.0328, loss_rpn_bbox: 0.0274, loss_semantic_seg: 0.1025, s0.loss_cls: 0.2198, s0.acc: 92.9268, s0.loss_bbox: 0.1265, s0.loss_mask: 0.2190, s1.loss_cls: 0.1023, s1.acc: 93.3740, s1.loss_bbox: 0.1111, s1.loss_mask: 0.0970, s2.loss_cls: 0.0490, s2.acc: 93.6979, s2.loss_bbox: 0.0613, s2.loss_mask: 0.0437, loss: 1.1925, grad_norm: 6.3274\n",
      "2021-05-20 11:17:38,380 - mmdet - INFO - Epoch [20][700/818]\tlr: 7.723e-05, eta: 14:51:47, time: 1.610, data_time: 0.072, memory: 26469, loss_rpn_cls: 0.0351, loss_rpn_bbox: 0.0270, loss_semantic_seg: 0.0884, s0.loss_cls: 0.2157, s0.acc: 92.8740, s0.loss_bbox: 0.1290, s0.loss_mask: 0.2113, s1.loss_cls: 0.1007, s1.acc: 93.3588, s1.loss_bbox: 0.1164, s1.loss_mask: 0.0952, s2.loss_cls: 0.0500, s2.acc: 93.3116, s2.loss_bbox: 0.0643, s2.loss_mask: 0.0419, loss: 1.1752, grad_norm: 6.2910\n",
      "2021-05-20 11:19:03,107 - mmdet - INFO - Epoch [20][750/818]\tlr: 7.723e-05, eta: 14:50:32, time: 1.694, data_time: 0.078, memory: 26469, loss_rpn_cls: 0.0403, loss_rpn_bbox: 0.0269, loss_semantic_seg: 0.1106, s0.loss_cls: 0.2343, s0.acc: 92.4678, s0.loss_bbox: 0.1315, s0.loss_mask: 0.2145, s1.loss_cls: 0.1085, s1.acc: 93.0670, s1.loss_bbox: 0.1117, s1.loss_mask: 0.0934, s2.loss_cls: 0.0518, s2.acc: 93.1636, s2.loss_bbox: 0.0621, s2.loss_mask: 0.0418, loss: 1.2274, grad_norm: 6.9144\n",
      "2021-05-20 11:20:23,494 - mmdet - INFO - Epoch [20][800/818]\tlr: 7.723e-05, eta: 14:49:08, time: 1.608, data_time: 0.061, memory: 26469, loss_rpn_cls: 0.0332, loss_rpn_bbox: 0.0227, loss_semantic_seg: 0.1017, s0.loss_cls: 0.2132, s0.acc: 93.0166, s0.loss_bbox: 0.1228, s0.loss_mask: 0.2187, s1.loss_cls: 0.0995, s1.acc: 93.4631, s1.loss_bbox: 0.1055, s1.loss_mask: 0.0980, s2.loss_cls: 0.0472, s2.acc: 93.7017, s2.loss_bbox: 0.0569, s2.loss_mask: 0.0439, loss: 1.1634, grad_norm: 6.4106\n"
     ]
    },
    {
     "name": "stderr",
     "output_type": "stream",
     "text": [
      "2021-05-20 11:20:53,161 - mmdet - INFO - Saving checkpoint at 20 epochs\n"
     ]
    },
    {
     "name": "stdout",
     "output_type": "stream",
     "text": [
      "[>>>>>>>>>>>>>>>>>>>>>>>>>>>>>] 655/655, 3.7 task/s, elapsed: 177s, ETA:     0s"
     ]
    },
    {
     "name": "stderr",
     "output_type": "stream",
     "text": [
      "2021-05-20 11:23:57,788 - mmdet - INFO - Evaluating bbox...\n"
     ]
    },
    {
     "name": "stdout",
     "output_type": "stream",
     "text": [
      "Loading and preparing results...\n",
      "DONE (t=1.25s)\n",
      "creating index...\n",
      "index created!\n",
      "Running per image evaluation...\n",
      "Evaluate annotation type *bbox*\n",
      "DONE (t=7.81s).\n",
      "Accumulating evaluation results...\n",
      "DONE (t=1.57s).\n",
      "Average Precision  (AP) @[ IoU=0.50:0.95 | area=   all | maxDets=100 ] = 0.427\n",
      "Average Precision  (AP) @[ IoU=0.50      | area=   all | maxDets=1000 ] = 0.591\n",
      "Average Precision  (AP) @[ IoU=0.75      | area=   all | maxDets=1000 ] = 0.451\n",
      "Average Precision  (AP) @[ IoU=0.50:0.95 | area= small | maxDets=1000 ] = 0.136\n",
      "Average Precision  (AP) @[ IoU=0.50:0.95 | area=medium | maxDets=1000 ] = 0.411\n",
      "Average Precision  (AP) @[ IoU=0.50:0.95 | area= large | maxDets=1000 ] = 0.687\n",
      "Average Recall     (AR) @[ IoU=0.50:0.95 | area=   all | maxDets=100 ] = 0.543\n",
      "Average Recall     (AR) @[ IoU=0.50:0.95 | area=   all | maxDets=300 ] = 0.543\n",
      "Average Recall     (AR) @[ IoU=0.50:0.95 | area=   all | maxDets=1000 ] = 0.543\n",
      "Average Recall     (AR) @[ IoU=0.50:0.95 | area= small | maxDets=1000 ] = 0.246\n",
      "Average Recall     (AR) @[ IoU=0.50:0.95 | area=medium | maxDets=1000 ] = 0.549\n",
      "Average Recall     (AR) @[ IoU=0.50:0.95 | area= large | maxDets=1000 ] = 0.774\n"
     ]
    },
    {
     "name": "stderr",
     "output_type": "stream",
     "text": [
      "2021-05-20 11:24:12,098 - mmdet - INFO - Now best checkpoint is epoch_20.pth.Best bbox_mAP_50 is 0.5910\n",
      "2021-05-20 11:24:12,134 - mmdet - INFO - Epoch(val) [20][818]\tbbox_mAP: 0.4270, bbox_mAP_50: 0.5910, bbox_mAP_75: 0.4510, bbox_mAP_s: 0.1360, bbox_mAP_m: 0.4110, bbox_mAP_l: 0.6870, bbox_mAP_copypaste: 0.427 0.591 0.451 0.136 0.411 0.687\n",
      "/home/ubuntu/anaconda3/envs/pytorch_p36/lib/python3.6/site-packages/instaboostfast/pycococreater.py:48: VisibleDeprecationWarning: Creating an ndarray from ragged nested sequences (which is a list-or-tuple of lists-or-tuples-or ndarrays with different lengths or shapes) is deprecated. If you meant to do this, you must specify 'dtype=object' when creating the ndarray\n",
      "  contours = np.subtract(contours, 1)\n",
      "/home/ubuntu/anaconda3/envs/pytorch_p36/lib/python3.6/site-packages/instaboostfast/pycococreater.py:48: VisibleDeprecationWarning: Creating an ndarray from ragged nested sequences (which is a list-or-tuple of lists-or-tuples-or ndarrays with different lengths or shapes) is deprecated. If you meant to do this, you must specify 'dtype=object' when creating the ndarray\n",
      "  contours = np.subtract(contours, 1)\n",
      "2021-05-20 11:25:38,232 - mmdet - INFO - Epoch [21][50/818]\tlr: 7.500e-05, eta: 14:46:28, time: 1.722, data_time: 0.144, memory: 26469, loss_rpn_cls: 0.0268, loss_rpn_bbox: 0.0226, loss_semantic_seg: 0.1055, s0.loss_cls: 0.2134, s0.acc: 93.0498, s0.loss_bbox: 0.1208, s0.loss_mask: 0.2095, s1.loss_cls: 0.0987, s1.acc: 93.5709, s1.loss_bbox: 0.1105, s1.loss_mask: 0.0943, s2.loss_cls: 0.0471, s2.acc: 93.8001, s2.loss_bbox: 0.0624, s2.loss_mask: 0.0420, loss: 1.1534, grad_norm: 6.1729\n",
      "2021-05-20 11:27:00,890 - mmdet - INFO - Epoch [21][100/818]\tlr: 7.500e-05, eta: 14:45:09, time: 1.653, data_time: 0.072, memory: 26469, loss_rpn_cls: 0.0364, loss_rpn_bbox: 0.0276, loss_semantic_seg: 0.0921, s0.loss_cls: 0.2077, s0.acc: 93.2295, s0.loss_bbox: 0.1222, s0.loss_mask: 0.2074, s1.loss_cls: 0.0954, s1.acc: 93.7175, s1.loss_bbox: 0.1082, s1.loss_mask: 0.0905, s2.loss_cls: 0.0457, s2.acc: 93.9679, s2.loss_bbox: 0.0604, s2.loss_mask: 0.0404, loss: 1.1340, grad_norm: 6.2956\n",
      "2021-05-20 11:28:24,490 - mmdet - INFO - Epoch [21][150/818]\tlr: 7.500e-05, eta: 14:43:52, time: 1.672, data_time: 0.072, memory: 26469, loss_rpn_cls: 0.0363, loss_rpn_bbox: 0.0255, loss_semantic_seg: 0.0998, s0.loss_cls: 0.2172, s0.acc: 92.9453, s0.loss_bbox: 0.1288, s0.loss_mask: 0.2165, s1.loss_cls: 0.0982, s1.acc: 93.7291, s1.loss_bbox: 0.1135, s1.loss_mask: 0.0938, s2.loss_cls: 0.0457, s2.acc: 94.0290, s2.loss_bbox: 0.0621, s2.loss_mask: 0.0420, loss: 1.1795, grad_norm: 6.4193\n",
      "2021-05-20 11:29:48,441 - mmdet - INFO - Epoch [21][200/818]\tlr: 7.500e-05, eta: 14:42:36, time: 1.679, data_time: 0.072, memory: 26469, loss_rpn_cls: 0.0322, loss_rpn_bbox: 0.0257, loss_semantic_seg: 0.1033, s0.loss_cls: 0.2244, s0.acc: 92.6045, s0.loss_bbox: 0.1241, s0.loss_mask: 0.2252, s1.loss_cls: 0.1037, s1.acc: 93.2820, s1.loss_bbox: 0.1096, s1.loss_mask: 0.0990, s2.loss_cls: 0.0488, s2.acc: 93.5442, s2.loss_bbox: 0.0590, s2.loss_mask: 0.0456, loss: 1.2006, grad_norm: 5.9267\n",
      "2021-05-20 11:31:10,089 - mmdet - INFO - Epoch [21][250/818]\tlr: 7.500e-05, eta: 14:41:15, time: 1.633, data_time: 0.058, memory: 26469, loss_rpn_cls: 0.0279, loss_rpn_bbox: 0.0220, loss_semantic_seg: 0.1033, s0.loss_cls: 0.2093, s0.acc: 93.2891, s0.loss_bbox: 0.1253, s0.loss_mask: 0.2170, s1.loss_cls: 0.0975, s1.acc: 93.7984, s1.loss_bbox: 0.1089, s1.loss_mask: 0.0962, s2.loss_cls: 0.0464, s2.acc: 93.8178, s2.loss_bbox: 0.0589, s2.loss_mask: 0.0419, loss: 1.1545, grad_norm: 6.4379\n",
      "2021-05-20 11:32:34,108 - mmdet - INFO - Epoch [21][300/818]\tlr: 7.500e-05, eta: 14:39:58, time: 1.680, data_time: 0.073, memory: 26469, loss_rpn_cls: 0.0393, loss_rpn_bbox: 0.0291, loss_semantic_seg: 0.1047, s0.loss_cls: 0.2458, s0.acc: 92.1787, s0.loss_bbox: 0.1369, s0.loss_mask: 0.2188, s1.loss_cls: 0.1120, s1.acc: 92.9428, s1.loss_bbox: 0.1156, s1.loss_mask: 0.0954, s2.loss_cls: 0.0516, s2.acc: 93.4290, s2.loss_bbox: 0.0626, s2.loss_mask: 0.0428, loss: 1.2546, grad_norm: 6.1695\n",
      "2021-05-20 11:33:57,862 - mmdet - INFO - Epoch [21][350/818]\tlr: 7.500e-05, eta: 14:38:41, time: 1.675, data_time: 0.076, memory: 26469, loss_rpn_cls: 0.0351, loss_rpn_bbox: 0.0267, loss_semantic_seg: 0.0945, s0.loss_cls: 0.2396, s0.acc: 92.4414, s0.loss_bbox: 0.1260, s0.loss_mask: 0.2145, s1.loss_cls: 0.1085, s1.acc: 93.1884, s1.loss_bbox: 0.1119, s1.loss_mask: 0.0937, s2.loss_cls: 0.0509, s2.acc: 93.5919, s2.loss_bbox: 0.0631, s2.loss_mask: 0.0410, loss: 1.2054, grad_norm: 6.1718\n",
      "2021-05-20 11:35:20,354 - mmdet - INFO - Epoch [21][400/818]\tlr: 7.500e-05, eta: 14:37:22, time: 1.650, data_time: 0.062, memory: 26469, loss_rpn_cls: 0.0323, loss_rpn_bbox: 0.0261, loss_semantic_seg: 0.1019, s0.loss_cls: 0.2212, s0.acc: 92.9209, s0.loss_bbox: 0.1241, s0.loss_mask: 0.1977, s1.loss_cls: 0.1009, s1.acc: 93.4774, s1.loss_bbox: 0.1096, s1.loss_mask: 0.0860, s2.loss_cls: 0.0474, s2.acc: 93.8269, s2.loss_bbox: 0.0613, s2.loss_mask: 0.0391, loss: 1.1477, grad_norm: 6.3671\n",
      "2021-05-20 11:36:42,521 - mmdet - INFO - Epoch [21][450/818]\tlr: 7.500e-05, eta: 14:36:02, time: 1.643, data_time: 0.075, memory: 26469, loss_rpn_cls: 0.0343, loss_rpn_bbox: 0.0248, loss_semantic_seg: 0.0983, s0.loss_cls: 0.2273, s0.acc: 92.6816, s0.loss_bbox: 0.1265, s0.loss_mask: 0.2169, s1.loss_cls: 0.1050, s1.acc: 93.2843, s1.loss_bbox: 0.1132, s1.loss_mask: 0.0969, s2.loss_cls: 0.0498, s2.acc: 93.5217, s2.loss_bbox: 0.0619, s2.loss_mask: 0.0438, loss: 1.1988, grad_norm: 6.4456\n",
      "2021-05-20 11:38:04,113 - mmdet - INFO - Epoch [21][500/818]\tlr: 7.500e-05, eta: 14:34:41, time: 1.632, data_time: 0.068, memory: 26469, loss_rpn_cls: 0.0281, loss_rpn_bbox: 0.0272, loss_semantic_seg: 0.1109, s0.loss_cls: 0.2094, s0.acc: 93.1182, s0.loss_bbox: 0.1129, s0.loss_mask: 0.2085, s1.loss_cls: 0.0980, s1.acc: 93.6812, s1.loss_bbox: 0.1002, s1.loss_mask: 0.0938, s2.loss_cls: 0.0477, s2.acc: 93.7270, s2.loss_bbox: 0.0578, s2.loss_mask: 0.0413, loss: 1.1357, grad_norm: 6.2508\n",
      "2021-05-20 11:39:27,156 - mmdet - INFO - Epoch [21][550/818]\tlr: 7.500e-05, eta: 14:33:22, time: 1.661, data_time: 0.068, memory: 26469, loss_rpn_cls: 0.0329, loss_rpn_bbox: 0.0255, loss_semantic_seg: 0.1016, s0.loss_cls: 0.2086, s0.acc: 93.1670, s0.loss_bbox: 0.1228, s0.loss_mask: 0.2045, s1.loss_cls: 0.0976, s1.acc: 93.5947, s1.loss_bbox: 0.1133, s1.loss_mask: 0.0892, s2.loss_cls: 0.0472, s2.acc: 93.6471, s2.loss_bbox: 0.0607, s2.loss_mask: 0.0392, loss: 1.1430, grad_norm: 6.6913\n",
      "2021-05-20 11:40:50,897 - mmdet - INFO - Epoch [21][600/818]\tlr: 7.500e-05, eta: 14:32:05, time: 1.675, data_time: 0.083, memory: 26469, loss_rpn_cls: 0.0360, loss_rpn_bbox: 0.0311, loss_semantic_seg: 0.0962, s0.loss_cls: 0.2482, s0.acc: 92.0283, s0.loss_bbox: 0.1464, s0.loss_mask: 0.2371, s1.loss_cls: 0.1144, s1.acc: 92.6639, s1.loss_bbox: 0.1237, s1.loss_mask: 0.1020, s2.loss_cls: 0.0525, s2.acc: 93.1198, s2.loss_bbox: 0.0659, s2.loss_mask: 0.0450, loss: 1.2986, grad_norm: 6.4603\n",
      "2021-05-20 11:42:15,870 - mmdet - INFO - Epoch [21][650/818]\tlr: 7.500e-05, eta: 14:30:50, time: 1.699, data_time: 0.078, memory: 26469, loss_rpn_cls: 0.0317, loss_rpn_bbox: 0.0256, loss_semantic_seg: 0.0969, s0.loss_cls: 0.2262, s0.acc: 92.6377, s0.loss_bbox: 0.1245, s0.loss_mask: 0.2166, s1.loss_cls: 0.1065, s1.acc: 93.1526, s1.loss_bbox: 0.1130, s1.loss_mask: 0.0954, s2.loss_cls: 0.0515, s2.acc: 93.2690, s2.loss_bbox: 0.0618, s2.loss_mask: 0.0435, loss: 1.1932, grad_norm: 6.3445\n",
      "2021-05-20 11:43:39,231 - mmdet - INFO - Epoch [21][700/818]\tlr: 7.500e-05, eta: 14:29:33, time: 1.667, data_time: 0.074, memory: 26469, loss_rpn_cls: 0.0315, loss_rpn_bbox: 0.0283, loss_semantic_seg: 0.1060, s0.loss_cls: 0.2372, s0.acc: 92.4014, s0.loss_bbox: 0.1308, s0.loss_mask: 0.2143, s1.loss_cls: 0.1101, s1.acc: 93.0127, s1.loss_bbox: 0.1117, s1.loss_mask: 0.0921, s2.loss_cls: 0.0529, s2.acc: 93.1964, s2.loss_bbox: 0.0626, s2.loss_mask: 0.0418, loss: 1.2192, grad_norm: 6.2723\n",
      "2021-05-20 11:45:03,971 - mmdet - INFO - Epoch [21][750/818]\tlr: 7.500e-05, eta: 14:28:17, time: 1.695, data_time: 0.074, memory: 26469, loss_rpn_cls: 0.0331, loss_rpn_bbox: 0.0225, loss_semantic_seg: 0.1006, s0.loss_cls: 0.2157, s0.acc: 93.1113, s0.loss_bbox: 0.1203, s0.loss_mask: 0.1986, s1.loss_cls: 0.0982, s1.acc: 93.7595, s1.loss_bbox: 0.1064, s1.loss_mask: 0.0872, s2.loss_cls: 0.0467, s2.acc: 94.0084, s2.loss_bbox: 0.0593, s2.loss_mask: 0.0388, loss: 1.1276, grad_norm: 6.7030\n"
     ]
    },
    {
     "name": "stderr",
     "output_type": "stream",
     "text": [
      "2021-05-20 11:46:25,898 - mmdet - INFO - Epoch [21][800/818]\tlr: 7.500e-05, eta: 14:26:57, time: 1.639, data_time: 0.074, memory: 26469, loss_rpn_cls: 0.0272, loss_rpn_bbox: 0.0254, loss_semantic_seg: 0.1037, s0.loss_cls: 0.2273, s0.acc: 92.6191, s0.loss_bbox: 0.1210, s0.loss_mask: 0.2239, s1.loss_cls: 0.1063, s1.acc: 93.0697, s1.loss_bbox: 0.1081, s1.loss_mask: 0.0991, s2.loss_cls: 0.0514, s2.acc: 93.1670, s2.loss_bbox: 0.0607, s2.loss_mask: 0.0453, loss: 1.1993, grad_norm: 6.8458\n",
      "2021-05-20 11:46:54,008 - mmdet - INFO - Saving checkpoint at 21 epochs\n"
     ]
    },
    {
     "name": "stdout",
     "output_type": "stream",
     "text": [
      "[>>>>>>>>>>>>>>>>>>>>>>>>>>>>>] 655/655, 3.8 task/s, elapsed: 171s, ETA:     0s"
     ]
    },
    {
     "name": "stderr",
     "output_type": "stream",
     "text": [
      "2021-05-20 11:49:51,912 - mmdet - INFO - Evaluating bbox...\n"
     ]
    },
    {
     "name": "stdout",
     "output_type": "stream",
     "text": [
      "Loading and preparing results...\n",
      "DONE (t=1.19s)\n",
      "creating index...\n",
      "index created!\n",
      "Running per image evaluation...\n",
      "Evaluate annotation type *bbox*\n",
      "DONE (t=7.69s).\n",
      "Accumulating evaluation results...\n",
      "DONE (t=2.03s).\n",
      "Average Precision  (AP) @[ IoU=0.50:0.95 | area=   all | maxDets=100 ] = 0.435\n",
      "Average Precision  (AP) @[ IoU=0.50      | area=   all | maxDets=1000 ] = 0.605\n",
      "Average Precision  (AP) @[ IoU=0.75      | area=   all | maxDets=1000 ] = 0.453\n",
      "Average Precision  (AP) @[ IoU=0.50:0.95 | area= small | maxDets=1000 ] = 0.151\n",
      "Average Precision  (AP) @[ IoU=0.50:0.95 | area=medium | maxDets=1000 ] = 0.415\n",
      "Average Precision  (AP) @[ IoU=0.50:0.95 | area= large | maxDets=1000 ] = 0.699\n",
      "Average Recall     (AR) @[ IoU=0.50:0.95 | area=   all | maxDets=100 ] = 0.544\n",
      "Average Recall     (AR) @[ IoU=0.50:0.95 | area=   all | maxDets=300 ] = 0.544\n",
      "Average Recall     (AR) @[ IoU=0.50:0.95 | area=   all | maxDets=1000 ] = 0.544\n",
      "Average Recall     (AR) @[ IoU=0.50:0.95 | area= small | maxDets=1000 ] = 0.256\n",
      "Average Recall     (AR) @[ IoU=0.50:0.95 | area=medium | maxDets=1000 ] = 0.547\n",
      "Average Recall     (AR) @[ IoU=0.50:0.95 | area= large | maxDets=1000 ] = 0.783\n"
     ]
    },
    {
     "name": "stderr",
     "output_type": "stream",
     "text": [
      "2021-05-20 11:50:06,696 - mmdet - INFO - Now best checkpoint is epoch_21.pth.Best bbox_mAP_50 is 0.6050\n",
      "2021-05-20 11:50:06,727 - mmdet - INFO - Epoch(val) [21][818]\tbbox_mAP: 0.4350, bbox_mAP_50: 0.6050, bbox_mAP_75: 0.4530, bbox_mAP_s: 0.1510, bbox_mAP_m: 0.4150, bbox_mAP_l: 0.6990, bbox_mAP_copypaste: 0.435 0.605 0.453 0.151 0.415 0.699\n",
      "/home/ubuntu/anaconda3/envs/pytorch_p36/lib/python3.6/site-packages/instaboostfast/pycococreater.py:48: VisibleDeprecationWarning: Creating an ndarray from ragged nested sequences (which is a list-or-tuple of lists-or-tuples-or ndarrays with different lengths or shapes) is deprecated. If you meant to do this, you must specify 'dtype=object' when creating the ndarray\n",
      "  contours = np.subtract(contours, 1)\n",
      "/home/ubuntu/anaconda3/envs/pytorch_p36/lib/python3.6/site-packages/instaboostfast/pycococreater.py:48: VisibleDeprecationWarning: Creating an ndarray from ragged nested sequences (which is a list-or-tuple of lists-or-tuples-or ndarrays with different lengths or shapes) is deprecated. If you meant to do this, you must specify 'dtype=object' when creating the ndarray\n",
      "  contours = np.subtract(contours, 1)\n",
      "2021-05-20 11:51:32,153 - mmdet - INFO - Epoch [22][50/818]\tlr: 7.270e-05, eta: 14:24:19, time: 1.708, data_time: 0.136, memory: 26469, loss_rpn_cls: 0.0318, loss_rpn_bbox: 0.0246, loss_semantic_seg: 0.1005, s0.loss_cls: 0.2112, s0.acc: 93.1045, s0.loss_bbox: 0.1229, s0.loss_mask: 0.2005, s1.loss_cls: 0.0972, s1.acc: 93.5353, s1.loss_bbox: 0.1103, s1.loss_mask: 0.0895, s2.loss_cls: 0.0461, s2.acc: 93.8049, s2.loss_bbox: 0.0609, s2.loss_mask: 0.0399, loss: 1.1355, grad_norm: 6.2731\n",
      "2021-05-20 11:52:55,060 - mmdet - INFO - Epoch [22][100/818]\tlr: 7.270e-05, eta: 14:23:00, time: 1.658, data_time: 0.072, memory: 26469, loss_rpn_cls: 0.0322, loss_rpn_bbox: 0.0265, loss_semantic_seg: 0.0988, s0.loss_cls: 0.2383, s0.acc: 92.2354, s0.loss_bbox: 0.1392, s0.loss_mask: 0.2255, s1.loss_cls: 0.1092, s1.acc: 92.9186, s1.loss_bbox: 0.1231, s1.loss_mask: 0.0977, s2.loss_cls: 0.0513, s2.acc: 93.2089, s2.loss_bbox: 0.0678, s2.loss_mask: 0.0437, loss: 1.2533, grad_norm: 6.4964\n",
      "2021-05-20 11:54:19,130 - mmdet - INFO - Epoch [22][150/818]\tlr: 7.270e-05, eta: 14:21:44, time: 1.681, data_time: 0.069, memory: 26469, loss_rpn_cls: 0.0353, loss_rpn_bbox: 0.0296, loss_semantic_seg: 0.1054, s0.loss_cls: 0.2351, s0.acc: 92.4043, s0.loss_bbox: 0.1251, s0.loss_mask: 0.2094, s1.loss_cls: 0.1096, s1.acc: 92.8597, s1.loss_bbox: 0.1079, s1.loss_mask: 0.0919, s2.loss_cls: 0.0517, s2.acc: 93.1542, s2.loss_bbox: 0.0615, s2.loss_mask: 0.0409, loss: 1.2034, grad_norm: 7.0247\n",
      "2021-05-20 11:55:41,506 - mmdet - INFO - Epoch [22][200/818]\tlr: 7.270e-05, eta: 14:20:24, time: 1.647, data_time: 0.070, memory: 26469, loss_rpn_cls: 0.0279, loss_rpn_bbox: 0.0236, loss_semantic_seg: 0.1041, s0.loss_cls: 0.2116, s0.acc: 93.1914, s0.loss_bbox: 0.1124, s0.loss_mask: 0.2165, s1.loss_cls: 0.0971, s1.acc: 93.8224, s1.loss_bbox: 0.1012, s1.loss_mask: 0.0963, s2.loss_cls: 0.0458, s2.acc: 94.1439, s2.loss_bbox: 0.0570, s2.loss_mask: 0.0440, loss: 1.1375, grad_norm: 6.4376\n",
      "2021-05-20 11:57:02,457 - mmdet - INFO - Epoch [22][250/818]\tlr: 7.270e-05, eta: 14:19:02, time: 1.619, data_time: 0.066, memory: 26469, loss_rpn_cls: 0.0352, loss_rpn_bbox: 0.0251, loss_semantic_seg: 0.1090, s0.loss_cls: 0.2180, s0.acc: 92.9229, s0.loss_bbox: 0.1184, s0.loss_mask: 0.2065, s1.loss_cls: 0.0991, s1.acc: 93.6420, s1.loss_bbox: 0.1044, s1.loss_mask: 0.0889, s2.loss_cls: 0.0472, s2.acc: 93.7823, s2.loss_bbox: 0.0592, s2.loss_mask: 0.0395, loss: 1.1503, grad_norm: 6.7252\n",
      "2021-05-20 11:58:21,906 - mmdet - INFO - Epoch [22][300/818]\tlr: 7.270e-05, eta: 14:17:37, time: 1.589, data_time: 0.060, memory: 26469, loss_rpn_cls: 0.0286, loss_rpn_bbox: 0.0236, loss_semantic_seg: 0.1098, s0.loss_cls: 0.2122, s0.acc: 93.3740, s0.loss_bbox: 0.1134, s0.loss_mask: 0.2040, s1.loss_cls: 0.0962, s1.acc: 93.9916, s1.loss_bbox: 0.0978, s1.loss_mask: 0.0909, s2.loss_cls: 0.0453, s2.acc: 94.2351, s2.loss_bbox: 0.0538, s2.loss_mask: 0.0409, loss: 1.1166, grad_norm: 6.4961\n",
      "2021-05-20 11:59:44,488 - mmdet - INFO - Epoch [22][350/818]\tlr: 7.270e-05, eta: 14:16:17, time: 1.652, data_time: 0.065, memory: 26469, loss_rpn_cls: 0.0355, loss_rpn_bbox: 0.0276, loss_semantic_seg: 0.1015, s0.loss_cls: 0.2093, s0.acc: 93.0264, s0.loss_bbox: 0.1304, s0.loss_mask: 0.2224, s1.loss_cls: 0.0949, s1.acc: 93.7178, s1.loss_bbox: 0.1054, s1.loss_mask: 0.0991, s2.loss_cls: 0.0452, s2.acc: 94.0450, s2.loss_bbox: 0.0570, s2.loss_mask: 0.0447, loss: 1.1729, grad_norm: 6.4869\n",
      "2021-05-20 12:01:06,263 - mmdet - INFO - Epoch [22][400/818]\tlr: 7.270e-05, eta: 14:14:57, time: 1.635, data_time: 0.078, memory: 26469, loss_rpn_cls: 0.0344, loss_rpn_bbox: 0.0274, loss_semantic_seg: 0.1104, s0.loss_cls: 0.2362, s0.acc: 92.3936, s0.loss_bbox: 0.1302, s0.loss_mask: 0.2197, s1.loss_cls: 0.1089, s1.acc: 92.9616, s1.loss_bbox: 0.1143, s1.loss_mask: 0.0963, s2.loss_cls: 0.0510, s2.acc: 93.2623, s2.loss_bbox: 0.0640, s2.loss_mask: 0.0428, loss: 1.2354, grad_norm: 6.2777\n",
      "2021-05-20 12:02:27,484 - mmdet - INFO - Epoch [22][450/818]\tlr: 7.270e-05, eta: 14:13:35, time: 1.624, data_time: 0.070, memory: 26469, loss_rpn_cls: 0.0362, loss_rpn_bbox: 0.0281, loss_semantic_seg: 0.1023, s0.loss_cls: 0.2273, s0.acc: 92.6777, s0.loss_bbox: 0.1274, s0.loss_mask: 0.2173, s1.loss_cls: 0.1037, s1.acc: 93.4191, s1.loss_bbox: 0.1090, s1.loss_mask: 0.0954, s2.loss_cls: 0.0477, s2.acc: 93.9425, s2.loss_bbox: 0.0594, s2.loss_mask: 0.0423, loss: 1.1961, grad_norm: 6.4654\n",
      "2021-05-20 12:03:48,911 - mmdet - INFO - Epoch [22][500/818]\tlr: 7.270e-05, eta: 14:12:13, time: 1.629, data_time: 0.069, memory: 26469, loss_rpn_cls: 0.0343, loss_rpn_bbox: 0.0253, loss_semantic_seg: 0.1060, s0.loss_cls: 0.2208, s0.acc: 93.0352, s0.loss_bbox: 0.1185, s0.loss_mask: 0.2089, s1.loss_cls: 0.0991, s1.acc: 93.5940, s1.loss_bbox: 0.1060, s1.loss_mask: 0.0938, s2.loss_cls: 0.0480, s2.acc: 93.7467, s2.loss_bbox: 0.0592, s2.loss_mask: 0.0406, loss: 1.1605, grad_norm: 6.7116\n",
      "2021-05-20 12:05:12,394 - mmdet - INFO - Epoch [22][550/818]\tlr: 7.270e-05, eta: 14:10:56, time: 1.670, data_time: 0.067, memory: 26469, loss_rpn_cls: 0.0355, loss_rpn_bbox: 0.0279, loss_semantic_seg: 0.1053, s0.loss_cls: 0.2368, s0.acc: 92.5781, s0.loss_bbox: 0.1267, s0.loss_mask: 0.2130, s1.loss_cls: 0.1074, s1.acc: 93.3393, s1.loss_bbox: 0.1098, s1.loss_mask: 0.0949, s2.loss_cls: 0.0503, s2.acc: 93.6368, s2.loss_bbox: 0.0614, s2.loss_mask: 0.0422, loss: 1.2113, grad_norm: 6.5808\n",
      "2021-05-20 12:06:36,257 - mmdet - INFO - Epoch [22][600/818]\tlr: 7.270e-05, eta: 14:09:38, time: 1.677, data_time: 0.073, memory: 26469, loss_rpn_cls: 0.0328, loss_rpn_bbox: 0.0294, loss_semantic_seg: 0.1071, s0.loss_cls: 0.2261, s0.acc: 92.5654, s0.loss_bbox: 0.1286, s0.loss_mask: 0.2195, s1.loss_cls: 0.1041, s1.acc: 93.2343, s1.loss_bbox: 0.1091, s1.loss_mask: 0.0958, s2.loss_cls: 0.0495, s2.acc: 93.5093, s2.loss_bbox: 0.0589, s2.loss_mask: 0.0429, loss: 1.2037, grad_norm: 6.2592\n",
      "2021-05-20 12:07:58,852 - mmdet - INFO - Epoch [22][650/818]\tlr: 7.270e-05, eta: 14:08:19, time: 1.652, data_time: 0.062, memory: 26469, loss_rpn_cls: 0.0275, loss_rpn_bbox: 0.0215, loss_semantic_seg: 0.0967, s0.loss_cls: 0.1961, s0.acc: 93.8145, s0.loss_bbox: 0.1093, s0.loss_mask: 0.2060, s1.loss_cls: 0.0880, s1.acc: 94.5856, s1.loss_bbox: 0.0954, s1.loss_mask: 0.0911, s2.loss_cls: 0.0416, s2.acc: 94.7865, s2.loss_bbox: 0.0543, s2.loss_mask: 0.0400, loss: 1.0674, grad_norm: 6.1744\n",
      "2021-05-20 12:09:21,427 - mmdet - INFO - Epoch [22][700/818]\tlr: 7.270e-05, eta: 14:07:00, time: 1.651, data_time: 0.073, memory: 26469, loss_rpn_cls: 0.0347, loss_rpn_bbox: 0.0266, loss_semantic_seg: 0.0995, s0.loss_cls: 0.2185, s0.acc: 92.8066, s0.loss_bbox: 0.1268, s0.loss_mask: 0.2049, s1.loss_cls: 0.0989, s1.acc: 93.6003, s1.loss_bbox: 0.1103, s1.loss_mask: 0.0898, s2.loss_cls: 0.0474, s2.acc: 93.8126, s2.loss_bbox: 0.0616, s2.loss_mask: 0.0408, loss: 1.1597, grad_norm: 6.2348\n",
      "2021-05-20 12:10:44,394 - mmdet - INFO - Epoch [22][750/818]\tlr: 7.270e-05, eta: 14:05:41, time: 1.659, data_time: 0.074, memory: 26469, loss_rpn_cls: 0.0299, loss_rpn_bbox: 0.0254, loss_semantic_seg: 0.0923, s0.loss_cls: 0.2115, s0.acc: 93.1533, s0.loss_bbox: 0.1246, s0.loss_mask: 0.2157, s1.loss_cls: 0.1000, s1.acc: 93.7045, s1.loss_bbox: 0.1108, s1.loss_mask: 0.0931, s2.loss_cls: 0.0479, s2.acc: 93.7981, s2.loss_bbox: 0.0632, s2.loss_mask: 0.0410, loss: 1.1555, grad_norm: 6.0574\n"
     ]
    },
    {
     "name": "stderr",
     "output_type": "stream",
     "text": [
      "2021-05-20 12:12:09,215 - mmdet - INFO - Epoch [22][800/818]\tlr: 7.270e-05, eta: 14:04:25, time: 1.696, data_time: 0.075, memory: 26469, loss_rpn_cls: 0.0355, loss_rpn_bbox: 0.0290, loss_semantic_seg: 0.1068, s0.loss_cls: 0.2242, s0.acc: 92.7637, s0.loss_bbox: 0.1293, s0.loss_mask: 0.2154, s1.loss_cls: 0.1045, s1.acc: 93.1536, s1.loss_bbox: 0.1094, s1.loss_mask: 0.0941, s2.loss_cls: 0.0498, s2.acc: 93.2572, s2.loss_bbox: 0.0593, s2.loss_mask: 0.0419, loss: 1.1993, grad_norm: 6.7842\n",
      "2021-05-20 12:12:36,993 - mmdet - INFO - Saving checkpoint at 22 epochs\n"
     ]
    },
    {
     "name": "stdout",
     "output_type": "stream",
     "text": [
      "[>>>>>>>>>>>>>>>>>>>>>>>>>>>>>] 655/655, 3.9 task/s, elapsed: 170s, ETA:     0s"
     ]
    },
    {
     "name": "stderr",
     "output_type": "stream",
     "text": [
      "2021-05-20 12:15:33,869 - mmdet - INFO - Evaluating bbox...\n"
     ]
    },
    {
     "name": "stdout",
     "output_type": "stream",
     "text": [
      "Loading and preparing results...\n",
      "DONE (t=1.21s)\n",
      "creating index...\n",
      "index created!\n",
      "Running per image evaluation...\n",
      "Evaluate annotation type *bbox*\n",
      "DONE (t=7.63s).\n",
      "Accumulating evaluation results...\n"
     ]
    },
    {
     "name": "stderr",
     "output_type": "stream",
     "text": [
      "2021-05-20 12:15:44,317 - mmdet - INFO - Epoch(val) [22][818]\tbbox_mAP: 0.4260, bbox_mAP_50: 0.5900, bbox_mAP_75: 0.4510, bbox_mAP_s: 0.1450, bbox_mAP_m: 0.4180, bbox_mAP_l: 0.6430, bbox_mAP_copypaste: 0.426 0.590 0.451 0.145 0.418 0.643\n"
     ]
    },
    {
     "name": "stdout",
     "output_type": "stream",
     "text": [
      "DONE (t=1.47s).\n",
      "Average Precision  (AP) @[ IoU=0.50:0.95 | area=   all | maxDets=100 ] = 0.426\n",
      "Average Precision  (AP) @[ IoU=0.50      | area=   all | maxDets=1000 ] = 0.590\n",
      "Average Precision  (AP) @[ IoU=0.75      | area=   all | maxDets=1000 ] = 0.451\n",
      "Average Precision  (AP) @[ IoU=0.50:0.95 | area= small | maxDets=1000 ] = 0.145\n",
      "Average Precision  (AP) @[ IoU=0.50:0.95 | area=medium | maxDets=1000 ] = 0.418\n",
      "Average Precision  (AP) @[ IoU=0.50:0.95 | area= large | maxDets=1000 ] = 0.643\n",
      "Average Recall     (AR) @[ IoU=0.50:0.95 | area=   all | maxDets=100 ] = 0.531\n",
      "Average Recall     (AR) @[ IoU=0.50:0.95 | area=   all | maxDets=300 ] = 0.531\n",
      "Average Recall     (AR) @[ IoU=0.50:0.95 | area=   all | maxDets=1000 ] = 0.531\n",
      "Average Recall     (AR) @[ IoU=0.50:0.95 | area= small | maxDets=1000 ] = 0.228\n",
      "Average Recall     (AR) @[ IoU=0.50:0.95 | area=medium | maxDets=1000 ] = 0.536\n",
      "Average Recall     (AR) @[ IoU=0.50:0.95 | area= large | maxDets=1000 ] = 0.772\n"
     ]
    },
    {
     "name": "stderr",
     "output_type": "stream",
     "text": [
      "/home/ubuntu/anaconda3/envs/pytorch_p36/lib/python3.6/site-packages/instaboostfast/pycococreater.py:48: VisibleDeprecationWarning: Creating an ndarray from ragged nested sequences (which is a list-or-tuple of lists-or-tuples-or ndarrays with different lengths or shapes) is deprecated. If you meant to do this, you must specify 'dtype=object' when creating the ndarray\n",
      "  contours = np.subtract(contours, 1)\n",
      "/home/ubuntu/anaconda3/envs/pytorch_p36/lib/python3.6/site-packages/instaboostfast/pycococreater.py:48: VisibleDeprecationWarning: Creating an ndarray from ragged nested sequences (which is a list-or-tuple of lists-or-tuples-or ndarrays with different lengths or shapes) is deprecated. If you meant to do this, you must specify 'dtype=object' when creating the ndarray\n",
      "  contours = np.subtract(contours, 1)\n",
      "2021-05-20 12:17:12,256 - mmdet - INFO - Epoch [23][50/818]\tlr: 7.034e-05, eta: 14:01:55, time: 1.758, data_time: 0.180, memory: 26469, loss_rpn_cls: 0.0285, loss_rpn_bbox: 0.0262, loss_semantic_seg: 0.1011, s0.loss_cls: 0.1945, s0.acc: 93.7480, s0.loss_bbox: 0.1140, s0.loss_mask: 0.2081, s1.loss_cls: 0.0887, s1.acc: 94.2068, s1.loss_bbox: 0.0989, s1.loss_mask: 0.0908, s2.loss_cls: 0.0414, s2.acc: 94.6259, s2.loss_bbox: 0.0533, s2.loss_mask: 0.0397, loss: 1.0853, grad_norm: 6.4291\n",
      "2021-05-20 12:18:32,969 - mmdet - INFO - Epoch [23][100/818]\tlr: 7.034e-05, eta: 14:00:33, time: 1.614, data_time: 0.065, memory: 26469, loss_rpn_cls: 0.0321, loss_rpn_bbox: 0.0255, loss_semantic_seg: 0.1103, s0.loss_cls: 0.2152, s0.acc: 93.1895, s0.loss_bbox: 0.1277, s0.loss_mask: 0.2164, s1.loss_cls: 0.0956, s1.acc: 93.8661, s1.loss_bbox: 0.1092, s1.loss_mask: 0.0937, s2.loss_cls: 0.0450, s2.acc: 94.1449, s2.loss_bbox: 0.0598, s2.loss_mask: 0.0422, loss: 1.1727, grad_norm: 6.6861\n",
      "2021-05-20 12:19:54,029 - mmdet - INFO - Epoch [23][150/818]\tlr: 7.034e-05, eta: 13:59:11, time: 1.621, data_time: 0.066, memory: 26469, loss_rpn_cls: 0.0296, loss_rpn_bbox: 0.0256, loss_semantic_seg: 0.1050, s0.loss_cls: 0.1984, s0.acc: 93.5576, s0.loss_bbox: 0.1114, s0.loss_mask: 0.2014, s1.loss_cls: 0.0915, s1.acc: 94.1809, s1.loss_bbox: 0.1007, s1.loss_mask: 0.0906, s2.loss_cls: 0.0446, s2.acc: 94.3418, s2.loss_bbox: 0.0574, s2.loss_mask: 0.0408, loss: 1.0969, grad_norm: 6.2271\n",
      "2021-05-20 12:21:17,284 - mmdet - INFO - Epoch [23][200/818]\tlr: 7.034e-05, eta: 13:57:52, time: 1.665, data_time: 0.063, memory: 26469, loss_rpn_cls: 0.0340, loss_rpn_bbox: 0.0290, loss_semantic_seg: 0.1058, s0.loss_cls: 0.2140, s0.acc: 92.9736, s0.loss_bbox: 0.1198, s0.loss_mask: 0.2301, s1.loss_cls: 0.0978, s1.acc: 93.7038, s1.loss_bbox: 0.1054, s1.loss_mask: 0.0999, s2.loss_cls: 0.0469, s2.acc: 93.6678, s2.loss_bbox: 0.0574, s2.loss_mask: 0.0438, loss: 1.1838, grad_norm: 6.5639\n",
      "2021-05-20 12:22:37,842 - mmdet - INFO - Epoch [23][250/818]\tlr: 7.034e-05, eta: 13:56:30, time: 1.611, data_time: 0.081, memory: 26469, loss_rpn_cls: 0.0362, loss_rpn_bbox: 0.0290, loss_semantic_seg: 0.1009, s0.loss_cls: 0.2223, s0.acc: 92.8242, s0.loss_bbox: 0.1290, s0.loss_mask: 0.2349, s1.loss_cls: 0.1044, s1.acc: 93.3238, s1.loss_bbox: 0.1138, s1.loss_mask: 0.1045, s2.loss_cls: 0.0501, s2.acc: 93.5958, s2.loss_bbox: 0.0602, s2.loss_mask: 0.0465, loss: 1.2320, grad_norm: 6.7023\n",
      "2021-05-20 12:23:59,390 - mmdet - INFO - Epoch [23][300/818]\tlr: 7.034e-05, eta: 13:55:09, time: 1.631, data_time: 0.061, memory: 26469, loss_rpn_cls: 0.0325, loss_rpn_bbox: 0.0254, loss_semantic_seg: 0.1154, s0.loss_cls: 0.2222, s0.acc: 92.9648, s0.loss_bbox: 0.1253, s0.loss_mask: 0.2275, s1.loss_cls: 0.0983, s1.acc: 93.8538, s1.loss_bbox: 0.1082, s1.loss_mask: 0.1015, s2.loss_cls: 0.0464, s2.acc: 94.0311, s2.loss_bbox: 0.0618, s2.loss_mask: 0.0463, loss: 1.2110, grad_norm: 6.6800\n",
      "2021-05-20 12:25:19,296 - mmdet - INFO - Epoch [23][350/818]\tlr: 7.034e-05, eta: 13:53:45, time: 1.598, data_time: 0.061, memory: 26469, loss_rpn_cls: 0.0261, loss_rpn_bbox: 0.0212, loss_semantic_seg: 0.1003, s0.loss_cls: 0.1839, s0.acc: 94.1582, s0.loss_bbox: 0.1029, s0.loss_mask: 0.1981, s1.loss_cls: 0.0860, s1.acc: 94.5020, s1.loss_bbox: 0.0928, s1.loss_mask: 0.0887, s2.loss_cls: 0.0410, s2.acc: 94.5947, s2.loss_bbox: 0.0509, s2.loss_mask: 0.0392, loss: 1.0310, grad_norm: 6.0476\n",
      "2021-05-20 12:26:41,909 - mmdet - INFO - Epoch [23][400/818]\tlr: 7.034e-05, eta: 13:52:25, time: 1.652, data_time: 0.076, memory: 26469, loss_rpn_cls: 0.0277, loss_rpn_bbox: 0.0265, loss_semantic_seg: 0.1015, s0.loss_cls: 0.2181, s0.acc: 92.8633, s0.loss_bbox: 0.1270, s0.loss_mask: 0.2112, s1.loss_cls: 0.0996, s1.acc: 93.5701, s1.loss_bbox: 0.1091, s1.loss_mask: 0.0949, s2.loss_cls: 0.0464, s2.acc: 93.8946, s2.loss_bbox: 0.0594, s2.loss_mask: 0.0425, loss: 1.1640, grad_norm: 6.0510\n",
      "2021-05-20 12:28:04,333 - mmdet - INFO - Epoch [23][450/818]\tlr: 7.034e-05, eta: 13:51:06, time: 1.648, data_time: 0.067, memory: 26469, loss_rpn_cls: 0.0332, loss_rpn_bbox: 0.0281, loss_semantic_seg: 0.1061, s0.loss_cls: 0.2390, s0.acc: 92.4688, s0.loss_bbox: 0.1316, s0.loss_mask: 0.2214, s1.loss_cls: 0.1106, s1.acc: 93.0304, s1.loss_bbox: 0.1185, s1.loss_mask: 0.0983, s2.loss_cls: 0.0527, s2.acc: 93.2389, s2.loss_bbox: 0.0636, s2.loss_mask: 0.0427, loss: 1.2457, grad_norm: 6.9185\n",
      "2021-05-20 12:29:27,713 - mmdet - INFO - Epoch [23][500/818]\tlr: 7.034e-05, eta: 13:49:48, time: 1.668, data_time: 0.071, memory: 26469, loss_rpn_cls: 0.0358, loss_rpn_bbox: 0.0263, loss_semantic_seg: 0.1038, s0.loss_cls: 0.2241, s0.acc: 92.7930, s0.loss_bbox: 0.1341, s0.loss_mask: 0.2141, s1.loss_cls: 0.1011, s1.acc: 93.4829, s1.loss_bbox: 0.1169, s1.loss_mask: 0.0923, s2.loss_cls: 0.0472, s2.acc: 93.6596, s2.loss_bbox: 0.0615, s2.loss_mask: 0.0412, loss: 1.1985, grad_norm: 6.6126\n",
      "2021-05-20 12:30:50,064 - mmdet - INFO - Epoch [23][550/818]\tlr: 7.034e-05, eta: 13:48:28, time: 1.647, data_time: 0.066, memory: 26469, loss_rpn_cls: 0.0327, loss_rpn_bbox: 0.0230, loss_semantic_seg: 0.1019, s0.loss_cls: 0.1890, s0.acc: 93.8604, s0.loss_bbox: 0.1116, s0.loss_mask: 0.2067, s1.loss_cls: 0.0849, s1.acc: 94.5210, s1.loss_bbox: 0.0974, s1.loss_mask: 0.0912, s2.loss_cls: 0.0404, s2.acc: 94.6260, s2.loss_bbox: 0.0539, s2.loss_mask: 0.0407, loss: 1.0733, grad_norm: 6.3894\n",
      "2021-05-20 12:32:13,973 - mmdet - INFO - Epoch [23][600/818]\tlr: 7.034e-05, eta: 13:47:10, time: 1.678, data_time: 0.081, memory: 26469, loss_rpn_cls: 0.0351, loss_rpn_bbox: 0.0271, loss_semantic_seg: 0.1046, s0.loss_cls: 0.2249, s0.acc: 92.8066, s0.loss_bbox: 0.1301, s0.loss_mask: 0.2158, s1.loss_cls: 0.1025, s1.acc: 93.3810, s1.loss_bbox: 0.1079, s1.loss_mask: 0.0924, s2.loss_cls: 0.0480, s2.acc: 93.6316, s2.loss_bbox: 0.0583, s2.loss_mask: 0.0409, loss: 1.1876, grad_norm: 6.5264\n",
      "2021-05-20 12:33:38,348 - mmdet - INFO - Epoch [23][650/818]\tlr: 7.034e-05, eta: 13:45:54, time: 1.688, data_time: 0.081, memory: 26469, loss_rpn_cls: 0.0331, loss_rpn_bbox: 0.0300, loss_semantic_seg: 0.1004, s0.loss_cls: 0.2188, s0.acc: 92.7500, s0.loss_bbox: 0.1281, s0.loss_mask: 0.2072, s1.loss_cls: 0.1002, s1.acc: 93.3189, s1.loss_bbox: 0.1132, s1.loss_mask: 0.0914, s2.loss_cls: 0.0490, s2.acc: 93.3277, s2.loss_bbox: 0.0626, s2.loss_mask: 0.0411, loss: 1.1751, grad_norm: 6.0950\n",
      "2021-05-20 12:35:01,049 - mmdet - INFO - Epoch [23][700/818]\tlr: 7.034e-05, eta: 13:44:35, time: 1.654, data_time: 0.074, memory: 26469, loss_rpn_cls: 0.0299, loss_rpn_bbox: 0.0256, loss_semantic_seg: 0.0951, s0.loss_cls: 0.2204, s0.acc: 92.8076, s0.loss_bbox: 0.1215, s0.loss_mask: 0.2110, s1.loss_cls: 0.1030, s1.acc: 93.2747, s1.loss_bbox: 0.1052, s1.loss_mask: 0.0910, s2.loss_cls: 0.0485, s2.acc: 93.5599, s2.loss_bbox: 0.0587, s2.loss_mask: 0.0408, loss: 1.1507, grad_norm: 6.2317\n",
      "2021-05-20 12:36:24,336 - mmdet - INFO - Epoch [23][750/818]\tlr: 7.034e-05, eta: 13:43:16, time: 1.666, data_time: 0.060, memory: 26469, loss_rpn_cls: 0.0261, loss_rpn_bbox: 0.0262, loss_semantic_seg: 0.1066, s0.loss_cls: 0.2187, s0.acc: 93.0752, s0.loss_bbox: 0.1205, s0.loss_mask: 0.2100, s1.loss_cls: 0.0988, s1.acc: 93.5587, s1.loss_bbox: 0.1065, s1.loss_mask: 0.0909, s2.loss_cls: 0.0476, s2.acc: 93.6795, s2.loss_bbox: 0.0604, s2.loss_mask: 0.0403, loss: 1.1527, grad_norm: 6.4267\n",
      "2021-05-20 12:37:47,780 - mmdet - INFO - Epoch [23][800/818]\tlr: 7.034e-05, eta: 13:41:58, time: 1.669, data_time: 0.080, memory: 26469, loss_rpn_cls: 0.0337, loss_rpn_bbox: 0.0281, loss_semantic_seg: 0.1007, s0.loss_cls: 0.2269, s0.acc: 92.5010, s0.loss_bbox: 0.1267, s0.loss_mask: 0.2175, s1.loss_cls: 0.1027, s1.acc: 93.2755, s1.loss_bbox: 0.1122, s1.loss_mask: 0.0968, s2.loss_cls: 0.0486, s2.acc: 93.5538, s2.loss_bbox: 0.0631, s2.loss_mask: 0.0431, loss: 1.2002, grad_norm: 6.0249\n"
     ]
    },
    {
     "name": "stderr",
     "output_type": "stream",
     "text": [
      "2021-05-20 12:38:18,579 - mmdet - INFO - Saving checkpoint at 23 epochs\n"
     ]
    },
    {
     "name": "stdout",
     "output_type": "stream",
     "text": [
      "[>>>>>>>>>>>>>>>>>>>>>>>>>>>>>] 655/655, 3.8 task/s, elapsed: 171s, ETA:     0s"
     ]
    },
    {
     "name": "stderr",
     "output_type": "stream",
     "text": [
      "2021-05-20 12:41:17,499 - mmdet - INFO - Evaluating bbox...\n"
     ]
    },
    {
     "name": "stdout",
     "output_type": "stream",
     "text": [
      "Loading and preparing results...\n",
      "DONE (t=0.72s)\n",
      "creating index...\n",
      "index created!\n",
      "Running per image evaluation...\n",
      "Evaluate annotation type *bbox*\n",
      "DONE (t=8.29s).\n",
      "Accumulating evaluation results...\n",
      "DONE (t=1.48s).\n",
      "Average Precision  (AP) @[ IoU=0.50:0.95 | area=   all | maxDets=100 ] = 0.451\n",
      "Average Precision  (AP) @[ IoU=0.50      | area=   all | maxDets=1000 ] = 0.612\n",
      "Average Precision  (AP) @[ IoU=0.75      | area=   all | maxDets=1000 ] = 0.466\n",
      "Average Precision  (AP) @[ IoU=0.50:0.95 | area= small | maxDets=1000 ] = 0.149\n",
      "Average Precision  (AP) @[ IoU=0.50:0.95 | area=medium | maxDets=1000 ] = 0.432\n",
      "Average Precision  (AP) @[ IoU=0.50:0.95 | area= large | maxDets=1000 ] = 0.728\n",
      "Average Recall     (AR) @[ IoU=0.50:0.95 | area=   all | maxDets=100 ] = 0.557\n",
      "Average Recall     (AR) @[ IoU=0.50:0.95 | area=   all | maxDets=300 ] = 0.557\n",
      "Average Recall     (AR) @[ IoU=0.50:0.95 | area=   all | maxDets=1000 ] = 0.557\n",
      "Average Recall     (AR) @[ IoU=0.50:0.95 | area= small | maxDets=1000 ] = 0.269\n",
      "Average Recall     (AR) @[ IoU=0.50:0.95 | area=medium | maxDets=1000 ] = 0.550\n",
      "Average Recall     (AR) @[ IoU=0.50:0.95 | area= large | maxDets=1000 ] = 0.796\n"
     ]
    },
    {
     "name": "stderr",
     "output_type": "stream",
     "text": [
      "2021-05-20 12:41:31,506 - mmdet - INFO - Now best checkpoint is epoch_23.pth.Best bbox_mAP_50 is 0.6120\n",
      "2021-05-20 12:41:31,544 - mmdet - INFO - Epoch(val) [23][818]\tbbox_mAP: 0.4510, bbox_mAP_50: 0.6120, bbox_mAP_75: 0.4660, bbox_mAP_s: 0.1490, bbox_mAP_m: 0.4320, bbox_mAP_l: 0.7280, bbox_mAP_copypaste: 0.451 0.612 0.466 0.149 0.432 0.728\n",
      "/home/ubuntu/anaconda3/envs/pytorch_p36/lib/python3.6/site-packages/instaboostfast/pycococreater.py:48: VisibleDeprecationWarning: Creating an ndarray from ragged nested sequences (which is a list-or-tuple of lists-or-tuples-or ndarrays with different lengths or shapes) is deprecated. If you meant to do this, you must specify 'dtype=object' when creating the ndarray\n",
      "  contours = np.subtract(contours, 1)\n",
      "/home/ubuntu/anaconda3/envs/pytorch_p36/lib/python3.6/site-packages/instaboostfast/pycococreater.py:48: VisibleDeprecationWarning: Creating an ndarray from ragged nested sequences (which is a list-or-tuple of lists-or-tuples-or ndarrays with different lengths or shapes) is deprecated. If you meant to do this, you must specify 'dtype=object' when creating the ndarray\n",
      "  contours = np.subtract(contours, 1)\n",
      "2021-05-20 12:42:55,746 - mmdet - INFO - Epoch [24][50/818]\tlr: 6.792e-05, eta: 13:39:25, time: 1.684, data_time: 0.139, memory: 26469, loss_rpn_cls: 0.0315, loss_rpn_bbox: 0.0247, loss_semantic_seg: 0.0968, s0.loss_cls: 0.1961, s0.acc: 93.3145, s0.loss_bbox: 0.1132, s0.loss_mask: 0.1955, s1.loss_cls: 0.0890, s1.acc: 93.9982, s1.loss_bbox: 0.0961, s1.loss_mask: 0.0863, s2.loss_cls: 0.0431, s2.acc: 94.1727, s2.loss_bbox: 0.0535, s2.loss_mask: 0.0383, loss: 1.0641, grad_norm: 5.7685\n",
      "2021-05-20 12:44:16,788 - mmdet - INFO - Epoch [24][100/818]\tlr: 6.792e-05, eta: 13:38:03, time: 1.621, data_time: 0.070, memory: 26469, loss_rpn_cls: 0.0297, loss_rpn_bbox: 0.0259, loss_semantic_seg: 0.1058, s0.loss_cls: 0.2021, s0.acc: 93.3232, s0.loss_bbox: 0.1165, s0.loss_mask: 0.2084, s1.loss_cls: 0.0938, s1.acc: 93.7236, s1.loss_bbox: 0.0993, s1.loss_mask: 0.0900, s2.loss_cls: 0.0436, s2.acc: 94.1846, s2.loss_bbox: 0.0530, s2.loss_mask: 0.0407, loss: 1.1088, grad_norm: 5.9807\n",
      "2021-05-20 12:45:38,064 - mmdet - INFO - Epoch [24][150/818]\tlr: 6.792e-05, eta: 13:36:41, time: 1.625, data_time: 0.064, memory: 26469, loss_rpn_cls: 0.0348, loss_rpn_bbox: 0.0251, loss_semantic_seg: 0.1045, s0.loss_cls: 0.1985, s0.acc: 93.4922, s0.loss_bbox: 0.1157, s0.loss_mask: 0.1974, s1.loss_cls: 0.0888, s1.acc: 94.2513, s1.loss_bbox: 0.1053, s1.loss_mask: 0.0850, s2.loss_cls: 0.0435, s2.acc: 94.3626, s2.loss_bbox: 0.0614, s2.loss_mask: 0.0383, loss: 1.0982, grad_norm: 6.1443\n",
      "2021-05-20 12:47:00,246 - mmdet - INFO - Epoch [24][200/818]\tlr: 6.792e-05, eta: 13:35:21, time: 1.644, data_time: 0.053, memory: 26469, loss_rpn_cls: 0.0290, loss_rpn_bbox: 0.0242, loss_semantic_seg: 0.1081, s0.loss_cls: 0.2089, s0.acc: 93.4336, s0.loss_bbox: 0.1182, s0.loss_mask: 0.2017, s1.loss_cls: 0.0936, s1.acc: 94.1298, s1.loss_bbox: 0.1065, s1.loss_mask: 0.0912, s2.loss_cls: 0.0441, s2.acc: 94.2689, s2.loss_bbox: 0.0583, s2.loss_mask: 0.0401, loss: 1.1238, grad_norm: 6.6419\n",
      "2021-05-20 12:48:19,845 - mmdet - INFO - Epoch [24][250/818]\tlr: 6.792e-05, eta: 13:33:57, time: 1.592, data_time: 0.064, memory: 26469, loss_rpn_cls: 0.0300, loss_rpn_bbox: 0.0241, loss_semantic_seg: 0.1072, s0.loss_cls: 0.2226, s0.acc: 92.7861, s0.loss_bbox: 0.1216, s0.loss_mask: 0.2152, s1.loss_cls: 0.1025, s1.acc: 93.2079, s1.loss_bbox: 0.1086, s1.loss_mask: 0.0904, s2.loss_cls: 0.0485, s2.acc: 93.5258, s2.loss_bbox: 0.0598, s2.loss_mask: 0.0398, loss: 1.1703, grad_norm: 6.4093\n",
      "2021-05-20 12:49:44,335 - mmdet - INFO - Epoch [24][300/818]\tlr: 6.792e-05, eta: 13:32:41, time: 1.690, data_time: 0.080, memory: 26469, loss_rpn_cls: 0.0357, loss_rpn_bbox: 0.0293, loss_semantic_seg: 0.1048, s0.loss_cls: 0.2423, s0.acc: 92.1572, s0.loss_bbox: 0.1400, s0.loss_mask: 0.2313, s1.loss_cls: 0.1108, s1.acc: 92.8948, s1.loss_bbox: 0.1202, s1.loss_mask: 0.1024, s2.loss_cls: 0.0525, s2.acc: 93.1870, s2.loss_bbox: 0.0658, s2.loss_mask: 0.0454, loss: 1.2804, grad_norm: 6.3404\n",
      "2021-05-20 12:51:05,631 - mmdet - INFO - Epoch [24][350/818]\tlr: 6.792e-05, eta: 13:31:19, time: 1.626, data_time: 0.063, memory: 26469, loss_rpn_cls: 0.0329, loss_rpn_bbox: 0.0251, loss_semantic_seg: 0.1032, s0.loss_cls: 0.2012, s0.acc: 93.4512, s0.loss_bbox: 0.1150, s0.loss_mask: 0.1968, s1.loss_cls: 0.0921, s1.acc: 94.0016, s1.loss_bbox: 0.1015, s1.loss_mask: 0.0874, s2.loss_cls: 0.0442, s2.acc: 94.3012, s2.loss_bbox: 0.0591, s2.loss_mask: 0.0397, loss: 1.0982, grad_norm: 6.2843\n",
      "2021-05-20 12:52:27,852 - mmdet - INFO - Epoch [24][400/818]\tlr: 6.792e-05, eta: 13:29:59, time: 1.644, data_time: 0.073, memory: 26469, loss_rpn_cls: 0.0302, loss_rpn_bbox: 0.0265, loss_semantic_seg: 0.1009, s0.loss_cls: 0.2067, s0.acc: 93.4277, s0.loss_bbox: 0.1196, s0.loss_mask: 0.2143, s1.loss_cls: 0.0921, s1.acc: 94.1911, s1.loss_bbox: 0.1055, s1.loss_mask: 0.0939, s2.loss_cls: 0.0433, s2.acc: 94.5179, s2.loss_bbox: 0.0577, s2.loss_mask: 0.0411, loss: 1.1315, grad_norm: 6.4135\n",
      "2021-05-20 12:53:48,573 - mmdet - INFO - Epoch [24][450/818]\tlr: 6.792e-05, eta: 13:28:37, time: 1.614, data_time: 0.056, memory: 26469, loss_rpn_cls: 0.0305, loss_rpn_bbox: 0.0225, loss_semantic_seg: 0.0949, s0.loss_cls: 0.2068, s0.acc: 93.4092, s0.loss_bbox: 0.1146, s0.loss_mask: 0.1998, s1.loss_cls: 0.0935, s1.acc: 94.0566, s1.loss_bbox: 0.1033, s1.loss_mask: 0.0888, s2.loss_cls: 0.0442, s2.acc: 94.2816, s2.loss_bbox: 0.0591, s2.loss_mask: 0.0397, loss: 1.0976, grad_norm: 6.4071\n",
      "2021-05-20 12:55:11,882 - mmdet - INFO - Epoch [24][500/818]\tlr: 6.792e-05, eta: 13:27:19, time: 1.666, data_time: 0.072, memory: 26469, loss_rpn_cls: 0.0342, loss_rpn_bbox: 0.0268, loss_semantic_seg: 0.0941, s0.loss_cls: 0.2211, s0.acc: 92.6445, s0.loss_bbox: 0.1275, s0.loss_mask: 0.2194, s1.loss_cls: 0.1007, s1.acc: 93.2844, s1.loss_bbox: 0.1097, s1.loss_mask: 0.0950, s2.loss_cls: 0.0477, s2.acc: 93.7172, s2.loss_bbox: 0.0602, s2.loss_mask: 0.0424, loss: 1.1787, grad_norm: 6.5050\n",
      "2021-05-20 12:56:34,572 - mmdet - INFO - Epoch [24][550/818]\tlr: 6.792e-05, eta: 13:25:59, time: 1.654, data_time: 0.068, memory: 26469, loss_rpn_cls: 0.0375, loss_rpn_bbox: 0.0281, loss_semantic_seg: 0.1069, s0.loss_cls: 0.2260, s0.acc: 92.8242, s0.loss_bbox: 0.1306, s0.loss_mask: 0.2134, s1.loss_cls: 0.1011, s1.acc: 93.6113, s1.loss_bbox: 0.1111, s1.loss_mask: 0.0944, s2.loss_cls: 0.0480, s2.acc: 93.8144, s2.loss_bbox: 0.0621, s2.loss_mask: 0.0410, loss: 1.2004, grad_norm: 6.0427\n",
      "2021-05-20 12:57:56,369 - mmdet - INFO - Epoch [24][600/818]\tlr: 6.792e-05, eta: 13:24:39, time: 1.636, data_time: 0.069, memory: 26469, loss_rpn_cls: 0.0377, loss_rpn_bbox: 0.0310, loss_semantic_seg: 0.1045, s0.loss_cls: 0.2371, s0.acc: 92.5898, s0.loss_bbox: 0.1307, s0.loss_mask: 0.2273, s1.loss_cls: 0.1081, s1.acc: 93.0686, s1.loss_bbox: 0.1093, s1.loss_mask: 0.0990, s2.loss_cls: 0.0499, s2.acc: 93.5747, s2.loss_bbox: 0.0578, s2.loss_mask: 0.0446, loss: 1.2368, grad_norm: 6.3380\n",
      "2021-05-20 12:59:19,110 - mmdet - INFO - Epoch [24][650/818]\tlr: 6.792e-05, eta: 13:23:19, time: 1.655, data_time: 0.078, memory: 26469, loss_rpn_cls: 0.0304, loss_rpn_bbox: 0.0254, loss_semantic_seg: 0.1065, s0.loss_cls: 0.2241, s0.acc: 92.7607, s0.loss_bbox: 0.1280, s0.loss_mask: 0.2149, s1.loss_cls: 0.1019, s1.acc: 93.4080, s1.loss_bbox: 0.1137, s1.loss_mask: 0.0937, s2.loss_cls: 0.0489, s2.acc: 93.6387, s2.loss_bbox: 0.0625, s2.loss_mask: 0.0417, loss: 1.1915, grad_norm: 7.1090\n",
      "2021-05-20 13:00:38,673 - mmdet - INFO - Epoch [24][700/818]\tlr: 6.792e-05, eta: 13:21:55, time: 1.591, data_time: 0.060, memory: 26469, loss_rpn_cls: 0.0307, loss_rpn_bbox: 0.0208, loss_semantic_seg: 0.0887, s0.loss_cls: 0.1776, s0.acc: 94.0400, s0.loss_bbox: 0.1050, s0.loss_mask: 0.1954, s1.loss_cls: 0.0827, s1.acc: 94.4929, s1.loss_bbox: 0.0918, s1.loss_mask: 0.0855, s2.loss_cls: 0.0398, s2.acc: 94.5583, s2.loss_bbox: 0.0507, s2.loss_mask: 0.0384, loss: 1.0073, grad_norm: 6.0044\n",
      "2021-05-20 13:02:02,273 - mmdet - INFO - Epoch [24][750/818]\tlr: 6.792e-05, eta: 13:20:37, time: 1.672, data_time: 0.079, memory: 26469, loss_rpn_cls: 0.0314, loss_rpn_bbox: 0.0264, loss_semantic_seg: 0.0985, s0.loss_cls: 0.2317, s0.acc: 92.4463, s0.loss_bbox: 0.1249, s0.loss_mask: 0.2166, s1.loss_cls: 0.1057, s1.acc: 93.0347, s1.loss_bbox: 0.1113, s1.loss_mask: 0.0951, s2.loss_cls: 0.0502, s2.acc: 93.3812, s2.loss_bbox: 0.0605, s2.loss_mask: 0.0424, loss: 1.1949, grad_norm: 6.6525\n"
     ]
    },
    {
     "name": "stderr",
     "output_type": "stream",
     "text": [
      "2021-05-20 13:03:26,605 - mmdet - INFO - Epoch [24][800/818]\tlr: 6.792e-05, eta: 13:19:20, time: 1.687, data_time: 0.084, memory: 26469, loss_rpn_cls: 0.0310, loss_rpn_bbox: 0.0274, loss_semantic_seg: 0.1008, s0.loss_cls: 0.2130, s0.acc: 92.9658, s0.loss_bbox: 0.1297, s0.loss_mask: 0.2159, s1.loss_cls: 0.0995, s1.acc: 93.4672, s1.loss_bbox: 0.1136, s1.loss_mask: 0.0964, s2.loss_cls: 0.0476, s2.acc: 93.5811, s2.loss_bbox: 0.0646, s2.loss_mask: 0.0438, loss: 1.1833, grad_norm: 7.5737\n",
      "2021-05-20 13:03:56,138 - mmdet - INFO - Saving checkpoint at 24 epochs\n"
     ]
    },
    {
     "name": "stdout",
     "output_type": "stream",
     "text": [
      "[>>>>>>>>>>>>>>>>>>>>>>>>>>>>>] 655/655, 3.8 task/s, elapsed: 171s, ETA:     0s"
     ]
    },
    {
     "name": "stderr",
     "output_type": "stream",
     "text": [
      "2021-05-20 13:06:55,038 - mmdet - INFO - Evaluating bbox...\n"
     ]
    },
    {
     "name": "stdout",
     "output_type": "stream",
     "text": [
      "Loading and preparing results...\n",
      "DONE (t=0.72s)\n",
      "creating index...\n",
      "index created!\n",
      "Running per image evaluation...\n",
      "Evaluate annotation type *bbox*\n",
      "DONE (t=7.91s).\n",
      "Accumulating evaluation results...\n",
      "DONE (t=1.50s).\n",
      "Average Precision  (AP) @[ IoU=0.50:0.95 | area=   all | maxDets=100 ] = 0.457\n",
      "Average Precision  (AP) @[ IoU=0.50      | area=   all | maxDets=1000 ] = 0.623\n",
      "Average Precision  (AP) @[ IoU=0.75      | area=   all | maxDets=1000 ] = 0.486\n",
      "Average Precision  (AP) @[ IoU=0.50:0.95 | area= small | maxDets=1000 ] = 0.175\n",
      "Average Precision  (AP) @[ IoU=0.50:0.95 | area=medium | maxDets=1000 ] = 0.441\n",
      "Average Precision  (AP) @[ IoU=0.50:0.95 | area= large | maxDets=1000 ] = 0.731\n",
      "Average Recall     (AR) @[ IoU=0.50:0.95 | area=   all | maxDets=100 ] = 0.565\n",
      "Average Recall     (AR) @[ IoU=0.50:0.95 | area=   all | maxDets=300 ] = 0.565\n",
      "Average Recall     (AR) @[ IoU=0.50:0.95 | area=   all | maxDets=1000 ] = 0.565\n",
      "Average Recall     (AR) @[ IoU=0.50:0.95 | area= small | maxDets=1000 ] = 0.271\n",
      "Average Recall     (AR) @[ IoU=0.50:0.95 | area=medium | maxDets=1000 ] = 0.578\n",
      "Average Recall     (AR) @[ IoU=0.50:0.95 | area= large | maxDets=1000 ] = 0.791\n"
     ]
    },
    {
     "name": "stderr",
     "output_type": "stream",
     "text": [
      "2021-05-20 13:07:08,926 - mmdet - INFO - Now best checkpoint is epoch_24.pth.Best bbox_mAP_50 is 0.6230\n",
      "2021-05-20 13:07:08,956 - mmdet - INFO - Epoch(val) [24][818]\tbbox_mAP: 0.4570, bbox_mAP_50: 0.6230, bbox_mAP_75: 0.4860, bbox_mAP_s: 0.1750, bbox_mAP_m: 0.4410, bbox_mAP_l: 0.7310, bbox_mAP_copypaste: 0.457 0.623 0.486 0.175 0.441 0.731\n",
      "/home/ubuntu/anaconda3/envs/pytorch_p36/lib/python3.6/site-packages/instaboostfast/pycococreater.py:48: VisibleDeprecationWarning: Creating an ndarray from ragged nested sequences (which is a list-or-tuple of lists-or-tuples-or ndarrays with different lengths or shapes) is deprecated. If you meant to do this, you must specify 'dtype=object' when creating the ndarray\n",
      "  contours = np.subtract(contours, 1)\n",
      "/home/ubuntu/anaconda3/envs/pytorch_p36/lib/python3.6/site-packages/instaboostfast/pycococreater.py:48: VisibleDeprecationWarning: Creating an ndarray from ragged nested sequences (which is a list-or-tuple of lists-or-tuples-or ndarrays with different lengths or shapes) is deprecated. If you meant to do this, you must specify 'dtype=object' when creating the ndarray\n",
      "  contours = np.subtract(contours, 1)\n",
      "2021-05-20 13:08:35,922 - mmdet - INFO - Epoch [25][50/818]\tlr: 6.545e-05, eta: 13:16:54, time: 1.739, data_time: 0.164, memory: 26469, loss_rpn_cls: 0.0266, loss_rpn_bbox: 0.0236, loss_semantic_seg: 0.1095, s0.loss_cls: 0.2238, s0.acc: 92.6152, s0.loss_bbox: 0.1257, s0.loss_mask: 0.1950, s1.loss_cls: 0.0999, s1.acc: 93.4762, s1.loss_bbox: 0.1081, s1.loss_mask: 0.0869, s2.loss_cls: 0.0469, s2.acc: 93.7714, s2.loss_bbox: 0.0611, s2.loss_mask: 0.0388, loss: 1.1461, grad_norm: 6.4920\n",
      "2021-05-20 13:09:57,649 - mmdet - INFO - Epoch [25][100/818]\tlr: 6.545e-05, eta: 13:15:33, time: 1.635, data_time: 0.059, memory: 26469, loss_rpn_cls: 0.0301, loss_rpn_bbox: 0.0221, loss_semantic_seg: 0.0942, s0.loss_cls: 0.1929, s0.acc: 93.7861, s0.loss_bbox: 0.1123, s0.loss_mask: 0.2038, s1.loss_cls: 0.0873, s1.acc: 94.4173, s1.loss_bbox: 0.0969, s1.loss_mask: 0.0890, s2.loss_cls: 0.0419, s2.acc: 94.4798, s2.loss_bbox: 0.0549, s2.loss_mask: 0.0409, loss: 1.0662, grad_norm: 6.0640\n",
      "2021-05-20 13:11:21,510 - mmdet - INFO - Epoch [25][150/818]\tlr: 6.545e-05, eta: 13:14:16, time: 1.677, data_time: 0.067, memory: 26469, loss_rpn_cls: 0.0350, loss_rpn_bbox: 0.0298, loss_semantic_seg: 0.1015, s0.loss_cls: 0.2219, s0.acc: 92.7090, s0.loss_bbox: 0.1288, s0.loss_mask: 0.2013, s1.loss_cls: 0.1003, s1.acc: 93.5332, s1.loss_bbox: 0.1115, s1.loss_mask: 0.0886, s2.loss_cls: 0.0472, s2.acc: 93.8906, s2.loss_bbox: 0.0617, s2.loss_mask: 0.0400, loss: 1.1676, grad_norm: 6.5640\n",
      "2021-05-20 13:12:45,550 - mmdet - INFO - Epoch [25][200/818]\tlr: 6.545e-05, eta: 13:12:58, time: 1.681, data_time: 0.074, memory: 26469, loss_rpn_cls: 0.0312, loss_rpn_bbox: 0.0258, loss_semantic_seg: 0.0992, s0.loss_cls: 0.2101, s0.acc: 93.1738, s0.loss_bbox: 0.1263, s0.loss_mask: 0.2206, s1.loss_cls: 0.0952, s1.acc: 93.9616, s1.loss_bbox: 0.1116, s1.loss_mask: 0.0983, s2.loss_cls: 0.0454, s2.acc: 94.1865, s2.loss_bbox: 0.0621, s2.loss_mask: 0.0443, loss: 1.1701, grad_norm: 6.3671\n",
      "2021-05-20 13:14:05,571 - mmdet - INFO - Epoch [25][250/818]\tlr: 6.545e-05, eta: 13:11:35, time: 1.600, data_time: 0.056, memory: 26469, loss_rpn_cls: 0.0287, loss_rpn_bbox: 0.0237, loss_semantic_seg: 0.0929, s0.loss_cls: 0.2037, s0.acc: 93.3047, s0.loss_bbox: 0.1167, s0.loss_mask: 0.2101, s1.loss_cls: 0.0937, s1.acc: 93.8075, s1.loss_bbox: 0.1042, s1.loss_mask: 0.0902, s2.loss_cls: 0.0454, s2.acc: 93.8777, s2.loss_bbox: 0.0587, s2.loss_mask: 0.0402, loss: 1.1081, grad_norm: 6.4702\n",
      "2021-05-20 13:15:28,015 - mmdet - INFO - Epoch [25][300/818]\tlr: 6.545e-05, eta: 13:10:15, time: 1.649, data_time: 0.073, memory: 26469, loss_rpn_cls: 0.0331, loss_rpn_bbox: 0.0325, loss_semantic_seg: 0.0993, s0.loss_cls: 0.2343, s0.acc: 92.2529, s0.loss_bbox: 0.1317, s0.loss_mask: 0.2173, s1.loss_cls: 0.1078, s1.acc: 92.8368, s1.loss_bbox: 0.1148, s1.loss_mask: 0.0941, s2.loss_cls: 0.0521, s2.acc: 93.0114, s2.loss_bbox: 0.0623, s2.loss_mask: 0.0425, loss: 1.2220, grad_norm: 7.0138\n",
      "2021-05-20 13:16:52,409 - mmdet - INFO - Epoch [25][350/818]\tlr: 6.545e-05, eta: 13:08:59, time: 1.688, data_time: 0.064, memory: 26469, loss_rpn_cls: 0.0291, loss_rpn_bbox: 0.0251, loss_semantic_seg: 0.0975, s0.loss_cls: 0.2090, s0.acc: 93.0850, s0.loss_bbox: 0.1174, s0.loss_mask: 0.2075, s1.loss_cls: 0.0954, s1.acc: 93.6429, s1.loss_bbox: 0.1060, s1.loss_mask: 0.0910, s2.loss_cls: 0.0451, s2.acc: 93.8478, s2.loss_bbox: 0.0606, s2.loss_mask: 0.0404, loss: 1.1243, grad_norm: 6.6689\n",
      "2021-05-20 13:18:16,215 - mmdet - INFO - Epoch [25][400/818]\tlr: 6.545e-05, eta: 13:07:41, time: 1.676, data_time: 0.074, memory: 26469, loss_rpn_cls: 0.0307, loss_rpn_bbox: 0.0274, loss_semantic_seg: 0.1048, s0.loss_cls: 0.2254, s0.acc: 92.7676, s0.loss_bbox: 0.1277, s0.loss_mask: 0.2146, s1.loss_cls: 0.1049, s1.acc: 93.1879, s1.loss_bbox: 0.1126, s1.loss_mask: 0.0962, s2.loss_cls: 0.0502, s2.acc: 93.4980, s2.loss_bbox: 0.0613, s2.loss_mask: 0.0426, loss: 1.1985, grad_norm: 6.4118\n",
      "2021-05-20 13:19:38,272 - mmdet - INFO - Epoch [25][450/818]\tlr: 6.545e-05, eta: 13:06:20, time: 1.641, data_time: 0.069, memory: 26469, loss_rpn_cls: 0.0303, loss_rpn_bbox: 0.0291, loss_semantic_seg: 0.0926, s0.loss_cls: 0.2193, s0.acc: 92.7109, s0.loss_bbox: 0.1258, s0.loss_mask: 0.2197, s1.loss_cls: 0.1011, s1.acc: 93.3709, s1.loss_bbox: 0.1125, s1.loss_mask: 0.0950, s2.loss_cls: 0.0488, s2.acc: 93.5996, s2.loss_bbox: 0.0615, s2.loss_mask: 0.0422, loss: 1.1779, grad_norm: 6.7341\n",
      "2021-05-20 13:20:59,020 - mmdet - INFO - Epoch [25][500/818]\tlr: 6.545e-05, eta: 13:04:58, time: 1.615, data_time: 0.071, memory: 26469, loss_rpn_cls: 0.0326, loss_rpn_bbox: 0.0287, loss_semantic_seg: 0.1067, s0.loss_cls: 0.2123, s0.acc: 93.0811, s0.loss_bbox: 0.1227, s0.loss_mask: 0.2202, s1.loss_cls: 0.0962, s1.acc: 93.8215, s1.loss_bbox: 0.1046, s1.loss_mask: 0.0968, s2.loss_cls: 0.0461, s2.acc: 93.9847, s2.loss_bbox: 0.0555, s2.loss_mask: 0.0439, loss: 1.1663, grad_norm: 6.6794\n",
      "2021-05-20 13:22:21,186 - mmdet - INFO - Epoch [25][550/818]\tlr: 6.545e-05, eta: 13:03:38, time: 1.643, data_time: 0.063, memory: 26469, loss_rpn_cls: 0.0299, loss_rpn_bbox: 0.0231, loss_semantic_seg: 0.1010, s0.loss_cls: 0.2055, s0.acc: 93.4268, s0.loss_bbox: 0.1117, s0.loss_mask: 0.2009, s1.loss_cls: 0.0944, s1.acc: 93.9641, s1.loss_bbox: 0.1019, s1.loss_mask: 0.0891, s2.loss_cls: 0.0443, s2.acc: 94.1919, s2.loss_bbox: 0.0552, s2.loss_mask: 0.0390, loss: 1.0962, grad_norm: 6.5227\n",
      "2021-05-20 13:23:44,257 - mmdet - INFO - Epoch [25][600/818]\tlr: 6.545e-05, eta: 13:02:19, time: 1.661, data_time: 0.072, memory: 26469, loss_rpn_cls: 0.0378, loss_rpn_bbox: 0.0298, loss_semantic_seg: 0.0900, s0.loss_cls: 0.2090, s0.acc: 93.1445, s0.loss_bbox: 0.1229, s0.loss_mask: 0.2172, s1.loss_cls: 0.0959, s1.acc: 93.7709, s1.loss_bbox: 0.1087, s1.loss_mask: 0.0953, s2.loss_cls: 0.0454, s2.acc: 94.1155, s2.loss_bbox: 0.0577, s2.loss_mask: 0.0431, loss: 1.1529, grad_norm: 6.3475\n",
      "2021-05-20 13:25:07,615 - mmdet - INFO - Epoch [25][650/818]\tlr: 6.545e-05, eta: 13:01:01, time: 1.667, data_time: 0.066, memory: 26469, loss_rpn_cls: 0.0316, loss_rpn_bbox: 0.0271, loss_semantic_seg: 0.0956, s0.loss_cls: 0.2100, s0.acc: 93.3604, s0.loss_bbox: 0.1213, s0.loss_mask: 0.2235, s1.loss_cls: 0.0930, s1.acc: 94.0521, s1.loss_bbox: 0.1047, s1.loss_mask: 0.0945, s2.loss_cls: 0.0444, s2.acc: 94.1360, s2.loss_bbox: 0.0590, s2.loss_mask: 0.0427, loss: 1.1474, grad_norm: 7.1918\n",
      "2021-05-20 13:26:28,663 - mmdet - INFO - Epoch [25][700/818]\tlr: 6.545e-05, eta: 12:59:39, time: 1.621, data_time: 0.062, memory: 26469, loss_rpn_cls: 0.0298, loss_rpn_bbox: 0.0201, loss_semantic_seg: 0.0874, s0.loss_cls: 0.1817, s0.acc: 94.0898, s0.loss_bbox: 0.1050, s0.loss_mask: 0.2010, s1.loss_cls: 0.0820, s1.acc: 94.7076, s1.loss_bbox: 0.0958, s1.loss_mask: 0.0876, s2.loss_cls: 0.0388, s2.acc: 94.8923, s2.loss_bbox: 0.0535, s2.loss_mask: 0.0390, loss: 1.0216, grad_norm: 6.1826\n",
      "2021-05-20 13:27:52,619 - mmdet - INFO - Epoch [25][750/818]\tlr: 6.545e-05, eta: 12:58:21, time: 1.679, data_time: 0.076, memory: 26469, loss_rpn_cls: 0.0339, loss_rpn_bbox: 0.0287, loss_semantic_seg: 0.1009, s0.loss_cls: 0.2163, s0.acc: 92.8066, s0.loss_bbox: 0.1290, s0.loss_mask: 0.2180, s1.loss_cls: 0.0982, s1.acc: 93.5448, s1.loss_bbox: 0.1095, s1.loss_mask: 0.0961, s2.loss_cls: 0.0460, s2.acc: 93.8624, s2.loss_bbox: 0.0575, s2.loss_mask: 0.0421, loss: 1.1764, grad_norm: 6.2243\n"
     ]
    },
    {
     "name": "stderr",
     "output_type": "stream",
     "text": [
      "2021-05-20 13:29:17,318 - mmdet - INFO - Epoch [25][800/818]\tlr: 6.545e-05, eta: 12:57:04, time: 1.694, data_time: 0.064, memory: 26469, loss_rpn_cls: 0.0326, loss_rpn_bbox: 0.0234, loss_semantic_seg: 0.1016, s0.loss_cls: 0.2201, s0.acc: 92.9814, s0.loss_bbox: 0.1219, s0.loss_mask: 0.1927, s1.loss_cls: 0.0986, s1.acc: 93.7882, s1.loss_bbox: 0.1056, s1.loss_mask: 0.0834, s2.loss_cls: 0.0462, s2.acc: 94.1406, s2.loss_bbox: 0.0613, s2.loss_mask: 0.0376, loss: 1.1249, grad_norm: 6.3526\n",
      "2021-05-20 13:29:46,011 - mmdet - INFO - Saving checkpoint at 25 epochs\n"
     ]
    },
    {
     "name": "stdout",
     "output_type": "stream",
     "text": [
      "[>>>>>>>>>>>>>>>>>>>>>>>>>>>>>] 655/655, 3.8 task/s, elapsed: 173s, ETA:     0s"
     ]
    },
    {
     "name": "stderr",
     "output_type": "stream",
     "text": [
      "2021-05-20 13:32:46,937 - mmdet - INFO - Evaluating bbox...\n"
     ]
    },
    {
     "name": "stdout",
     "output_type": "stream",
     "text": [
      "Loading and preparing results...\n",
      "DONE (t=0.76s)\n",
      "creating index...\n",
      "index created!\n",
      "Running per image evaluation...\n",
      "Evaluate annotation type *bbox*\n",
      "DONE (t=8.35s).\n",
      "Accumulating evaluation results...\n",
      "DONE (t=1.54s).\n",
      "Average Precision  (AP) @[ IoU=0.50:0.95 | area=   all | maxDets=100 ] = 0.467\n",
      "Average Precision  (AP) @[ IoU=0.50      | area=   all | maxDets=1000 ] = 0.626\n",
      "Average Precision  (AP) @[ IoU=0.75      | area=   all | maxDets=1000 ] = 0.505\n",
      "Average Precision  (AP) @[ IoU=0.50:0.95 | area= small | maxDets=1000 ] = 0.178\n",
      "Average Precision  (AP) @[ IoU=0.50:0.95 | area=medium | maxDets=1000 ] = 0.448\n",
      "Average Precision  (AP) @[ IoU=0.50:0.95 | area= large | maxDets=1000 ] = 0.729\n",
      "Average Recall     (AR) @[ IoU=0.50:0.95 | area=   all | maxDets=100 ] = 0.570\n",
      "Average Recall     (AR) @[ IoU=0.50:0.95 | area=   all | maxDets=300 ] = 0.570\n",
      "Average Recall     (AR) @[ IoU=0.50:0.95 | area=   all | maxDets=1000 ] = 0.570\n",
      "Average Recall     (AR) @[ IoU=0.50:0.95 | area= small | maxDets=1000 ] = 0.292\n",
      "Average Recall     (AR) @[ IoU=0.50:0.95 | area=medium | maxDets=1000 ] = 0.573\n",
      "Average Recall     (AR) @[ IoU=0.50:0.95 | area= large | maxDets=1000 ] = 0.791\n"
     ]
    },
    {
     "name": "stderr",
     "output_type": "stream",
     "text": [
      "2021-05-20 13:33:01,099 - mmdet - INFO - Now best checkpoint is epoch_25.pth.Best bbox_mAP_50 is 0.6260\n",
      "2021-05-20 13:33:01,131 - mmdet - INFO - Epoch(val) [25][818]\tbbox_mAP: 0.4670, bbox_mAP_50: 0.6260, bbox_mAP_75: 0.5050, bbox_mAP_s: 0.1780, bbox_mAP_m: 0.4480, bbox_mAP_l: 0.7290, bbox_mAP_copypaste: 0.467 0.626 0.505 0.178 0.448 0.729\n",
      "/home/ubuntu/anaconda3/envs/pytorch_p36/lib/python3.6/site-packages/instaboostfast/pycococreater.py:48: VisibleDeprecationWarning: Creating an ndarray from ragged nested sequences (which is a list-or-tuple of lists-or-tuples-or ndarrays with different lengths or shapes) is deprecated. If you meant to do this, you must specify 'dtype=object' when creating the ndarray\n",
      "  contours = np.subtract(contours, 1)\n",
      "/home/ubuntu/anaconda3/envs/pytorch_p36/lib/python3.6/site-packages/instaboostfast/pycococreater.py:48: VisibleDeprecationWarning: Creating an ndarray from ragged nested sequences (which is a list-or-tuple of lists-or-tuples-or ndarrays with different lengths or shapes) is deprecated. If you meant to do this, you must specify 'dtype=object' when creating the ndarray\n",
      "  contours = np.subtract(contours, 1)\n",
      "2021-05-20 13:34:28,402 - mmdet - INFO - Epoch [26][50/818]\tlr: 6.294e-05, eta: 12:54:41, time: 1.745, data_time: 0.143, memory: 26469, loss_rpn_cls: 0.0272, loss_rpn_bbox: 0.0245, loss_semantic_seg: 0.0939, s0.loss_cls: 0.1987, s0.acc: 93.4209, s0.loss_bbox: 0.1171, s0.loss_mask: 0.2134, s1.loss_cls: 0.0898, s1.acc: 94.0061, s1.loss_bbox: 0.1056, s1.loss_mask: 0.0936, s2.loss_cls: 0.0427, s2.acc: 94.1393, s2.loss_bbox: 0.0602, s2.loss_mask: 0.0419, loss: 1.1087, grad_norm: 6.4203\n",
      "2021-05-20 13:35:50,723 - mmdet - INFO - Epoch [26][100/818]\tlr: 6.294e-05, eta: 12:53:21, time: 1.646, data_time: 0.075, memory: 26469, loss_rpn_cls: 0.0261, loss_rpn_bbox: 0.0246, loss_semantic_seg: 0.1044, s0.loss_cls: 0.1899, s0.acc: 93.8555, s0.loss_bbox: 0.1089, s0.loss_mask: 0.1924, s1.loss_cls: 0.0864, s1.acc: 94.3786, s1.loss_bbox: 0.0961, s1.loss_mask: 0.0846, s2.loss_cls: 0.0417, s2.acc: 94.5617, s2.loss_bbox: 0.0550, s2.loss_mask: 0.0378, loss: 1.0478, grad_norm: 6.0125\n",
      "2021-05-20 13:37:15,306 - mmdet - INFO - Epoch [26][150/818]\tlr: 6.294e-05, eta: 12:52:04, time: 1.692, data_time: 0.076, memory: 26469, loss_rpn_cls: 0.0285, loss_rpn_bbox: 0.0264, loss_semantic_seg: 0.1002, s0.loss_cls: 0.2160, s0.acc: 93.0215, s0.loss_bbox: 0.1217, s0.loss_mask: 0.1951, s1.loss_cls: 0.0993, s1.acc: 93.6410, s1.loss_bbox: 0.1116, s1.loss_mask: 0.0842, s2.loss_cls: 0.0470, s2.acc: 93.9060, s2.loss_bbox: 0.0610, s2.loss_mask: 0.0373, loss: 1.1283, grad_norm: 6.0487\n",
      "2021-05-20 13:38:37,834 - mmdet - INFO - Epoch [26][200/818]\tlr: 6.294e-05, eta: 12:50:45, time: 1.651, data_time: 0.068, memory: 26469, loss_rpn_cls: 0.0282, loss_rpn_bbox: 0.0255, loss_semantic_seg: 0.1061, s0.loss_cls: 0.2174, s0.acc: 92.9932, s0.loss_bbox: 0.1301, s0.loss_mask: 0.2125, s1.loss_cls: 0.0998, s1.acc: 93.6201, s1.loss_bbox: 0.1148, s1.loss_mask: 0.0921, s2.loss_cls: 0.0480, s2.acc: 93.6502, s2.loss_bbox: 0.0616, s2.loss_mask: 0.0406, loss: 1.1768, grad_norm: 6.5731\n",
      "2021-05-20 13:39:58,718 - mmdet - INFO - Epoch [26][250/818]\tlr: 6.294e-05, eta: 12:49:23, time: 1.618, data_time: 0.079, memory: 26469, loss_rpn_cls: 0.0301, loss_rpn_bbox: 0.0283, loss_semantic_seg: 0.0935, s0.loss_cls: 0.1996, s0.acc: 93.4258, s0.loss_bbox: 0.1180, s0.loss_mask: 0.1978, s1.loss_cls: 0.0919, s1.acc: 93.8942, s1.loss_bbox: 0.1015, s1.loss_mask: 0.0867, s2.loss_cls: 0.0441, s2.acc: 94.2250, s2.loss_bbox: 0.0561, s2.loss_mask: 0.0386, loss: 1.0861, grad_norm: 5.8696\n",
      "2021-05-20 13:41:21,655 - mmdet - INFO - Epoch [26][300/818]\tlr: 6.294e-05, eta: 12:48:04, time: 1.659, data_time: 0.064, memory: 26469, loss_rpn_cls: 0.0276, loss_rpn_bbox: 0.0214, loss_semantic_seg: 0.1024, s0.loss_cls: 0.1883, s0.acc: 93.8975, s0.loss_bbox: 0.1066, s0.loss_mask: 0.1915, s1.loss_cls: 0.0857, s1.acc: 94.5142, s1.loss_bbox: 0.0951, s1.loss_mask: 0.0838, s2.loss_cls: 0.0411, s2.acc: 94.6251, s2.loss_bbox: 0.0552, s2.loss_mask: 0.0376, loss: 1.0364, grad_norm: 6.8077\n",
      "2021-05-20 13:42:46,973 - mmdet - INFO - Epoch [26][350/818]\tlr: 6.294e-05, eta: 12:46:48, time: 1.706, data_time: 0.071, memory: 26469, loss_rpn_cls: 0.0314, loss_rpn_bbox: 0.0230, loss_semantic_seg: 0.0956, s0.loss_cls: 0.2177, s0.acc: 92.8350, s0.loss_bbox: 0.1232, s0.loss_mask: 0.2123, s1.loss_cls: 0.1006, s1.acc: 93.5285, s1.loss_bbox: 0.1112, s1.loss_mask: 0.0945, s2.loss_cls: 0.0489, s2.acc: 93.6619, s2.loss_bbox: 0.0637, s2.loss_mask: 0.0420, loss: 1.1642, grad_norm: 6.7146\n",
      "2021-05-20 13:44:06,956 - mmdet - INFO - Epoch [26][400/818]\tlr: 6.294e-05, eta: 12:45:25, time: 1.600, data_time: 0.060, memory: 26469, loss_rpn_cls: 0.0296, loss_rpn_bbox: 0.0204, loss_semantic_seg: 0.0940, s0.loss_cls: 0.1944, s0.acc: 93.8428, s0.loss_bbox: 0.1069, s0.loss_mask: 0.2019, s1.loss_cls: 0.0868, s1.acc: 94.5243, s1.loss_bbox: 0.0937, s1.loss_mask: 0.0911, s2.loss_cls: 0.0409, s2.acc: 94.6393, s2.loss_bbox: 0.0519, s2.loss_mask: 0.0407, loss: 1.0521, grad_norm: 6.3192\n",
      "2021-05-20 13:45:31,248 - mmdet - INFO - Epoch [26][450/818]\tlr: 6.294e-05, eta: 12:44:07, time: 1.686, data_time: 0.081, memory: 26469, loss_rpn_cls: 0.0335, loss_rpn_bbox: 0.0277, loss_semantic_seg: 0.1031, s0.loss_cls: 0.2146, s0.acc: 93.0576, s0.loss_bbox: 0.1211, s0.loss_mask: 0.2069, s1.loss_cls: 0.0980, s1.acc: 93.8550, s1.loss_bbox: 0.1074, s1.loss_mask: 0.0911, s2.loss_cls: 0.0463, s2.acc: 93.9938, s2.loss_bbox: 0.0607, s2.loss_mask: 0.0409, loss: 1.1512, grad_norm: 6.8738\n",
      "2021-05-20 13:46:54,710 - mmdet - INFO - Epoch [26][500/818]\tlr: 6.294e-05, eta: 12:42:49, time: 1.669, data_time: 0.074, memory: 26469, loss_rpn_cls: 0.0289, loss_rpn_bbox: 0.0249, loss_semantic_seg: 0.0983, s0.loss_cls: 0.2051, s0.acc: 93.0928, s0.loss_bbox: 0.1233, s0.loss_mask: 0.2098, s1.loss_cls: 0.0944, s1.acc: 93.6403, s1.loss_bbox: 0.1098, s1.loss_mask: 0.0943, s2.loss_cls: 0.0447, s2.acc: 93.9890, s2.loss_bbox: 0.0614, s2.loss_mask: 0.0424, loss: 1.1373, grad_norm: 6.3755\n",
      "2021-05-20 13:48:18,301 - mmdet - INFO - Epoch [26][550/818]\tlr: 6.294e-05, eta: 12:41:30, time: 1.672, data_time: 0.077, memory: 26469, loss_rpn_cls: 0.0346, loss_rpn_bbox: 0.0272, loss_semantic_seg: 0.0977, s0.loss_cls: 0.2162, s0.acc: 92.9141, s0.loss_bbox: 0.1262, s0.loss_mask: 0.2038, s1.loss_cls: 0.0980, s1.acc: 93.6386, s1.loss_bbox: 0.1100, s1.loss_mask: 0.0884, s2.loss_cls: 0.0469, s2.acc: 93.8312, s2.loss_bbox: 0.0602, s2.loss_mask: 0.0395, loss: 1.1488, grad_norm: 6.0218\n",
      "2021-05-20 13:49:39,737 - mmdet - INFO - Epoch [26][600/818]\tlr: 6.294e-05, eta: 12:40:09, time: 1.629, data_time: 0.062, memory: 26469, loss_rpn_cls: 0.0284, loss_rpn_bbox: 0.0261, loss_semantic_seg: 0.0984, s0.loss_cls: 0.1983, s0.acc: 93.7734, s0.loss_bbox: 0.1141, s0.loss_mask: 0.2126, s1.loss_cls: 0.0903, s1.acc: 94.2739, s1.loss_bbox: 0.0959, s1.loss_mask: 0.0928, s2.loss_cls: 0.0423, s2.acc: 94.6097, s2.loss_bbox: 0.0516, s2.loss_mask: 0.0417, loss: 1.0925, grad_norm: 5.9761\n",
      "2021-05-20 13:51:05,012 - mmdet - INFO - Epoch [26][650/818]\tlr: 6.294e-05, eta: 12:38:53, time: 1.706, data_time: 0.079, memory: 26469, loss_rpn_cls: 0.0319, loss_rpn_bbox: 0.0233, loss_semantic_seg: 0.0945, s0.loss_cls: 0.2215, s0.acc: 92.8506, s0.loss_bbox: 0.1286, s0.loss_mask: 0.2171, s1.loss_cls: 0.0996, s1.acc: 93.6274, s1.loss_bbox: 0.1116, s1.loss_mask: 0.0958, s2.loss_cls: 0.0467, s2.acc: 93.9475, s2.loss_bbox: 0.0613, s2.loss_mask: 0.0412, loss: 1.1732, grad_norm: 6.8400\n",
      "2021-05-20 13:52:28,008 - mmdet - INFO - Epoch [26][700/818]\tlr: 6.294e-05, eta: 12:37:34, time: 1.660, data_time: 0.075, memory: 26469, loss_rpn_cls: 0.0329, loss_rpn_bbox: 0.0264, loss_semantic_seg: 0.0947, s0.loss_cls: 0.2232, s0.acc: 92.6904, s0.loss_bbox: 0.1189, s0.loss_mask: 0.2020, s1.loss_cls: 0.1020, s1.acc: 93.3860, s1.loss_bbox: 0.1031, s1.loss_mask: 0.0877, s2.loss_cls: 0.0486, s2.acc: 93.6572, s2.loss_bbox: 0.0562, s2.loss_mask: 0.0383, loss: 1.1341, grad_norm: 6.7537\n",
      "2021-05-20 13:53:49,363 - mmdet - INFO - Epoch [26][750/818]\tlr: 6.294e-05, eta: 12:36:12, time: 1.627, data_time: 0.078, memory: 26469, loss_rpn_cls: 0.0320, loss_rpn_bbox: 0.0248, loss_semantic_seg: 0.0914, s0.loss_cls: 0.2088, s0.acc: 93.0176, s0.loss_bbox: 0.1206, s0.loss_mask: 0.2031, s1.loss_cls: 0.0946, s1.acc: 93.6853, s1.loss_bbox: 0.1104, s1.loss_mask: 0.0897, s2.loss_cls: 0.0451, s2.acc: 94.0586, s2.loss_bbox: 0.0625, s2.loss_mask: 0.0407, loss: 1.1238, grad_norm: 6.0673\n"
     ]
    },
    {
     "name": "stderr",
     "output_type": "stream",
     "text": [
      "2021-05-20 13:55:14,390 - mmdet - INFO - Epoch [26][800/818]\tlr: 6.294e-05, eta: 12:34:56, time: 1.701, data_time: 0.072, memory: 26469, loss_rpn_cls: 0.0274, loss_rpn_bbox: 0.0272, loss_semantic_seg: 0.0999, s0.loss_cls: 0.2230, s0.acc: 92.7109, s0.loss_bbox: 0.1251, s0.loss_mask: 0.2017, s1.loss_cls: 0.1014, s1.acc: 93.3429, s1.loss_bbox: 0.1101, s1.loss_mask: 0.0877, s2.loss_cls: 0.0484, s2.acc: 93.6012, s2.loss_bbox: 0.0602, s2.loss_mask: 0.0391, loss: 1.1512, grad_norm: 6.1847\n",
      "2021-05-20 13:55:44,602 - mmdet - INFO - Saving checkpoint at 26 epochs\n"
     ]
    },
    {
     "name": "stdout",
     "output_type": "stream",
     "text": [
      "[>>>>>>>>>>>>>>>>>>>>>>>>>>>>>] 655/655, 4.0 task/s, elapsed: 165s, ETA:     0s"
     ]
    },
    {
     "name": "stderr",
     "output_type": "stream",
     "text": [
      "2021-05-20 13:58:36,151 - mmdet - INFO - Evaluating bbox...\n"
     ]
    },
    {
     "name": "stdout",
     "output_type": "stream",
     "text": [
      "Loading and preparing results...\n",
      "DONE (t=1.21s)\n",
      "creating index...\n",
      "index created!\n",
      "Running per image evaluation...\n",
      "Evaluate annotation type *bbox*\n",
      "DONE (t=7.60s).\n",
      "Accumulating evaluation results...\n",
      "DONE (t=1.34s).\n",
      "Average Precision  (AP) @[ IoU=0.50:0.95 | area=   all | maxDets=100 ] = 0.469\n",
      "Average Precision  (AP) @[ IoU=0.50      | area=   all | maxDets=1000 ] = 0.633\n",
      "Average Precision  (AP) @[ IoU=0.75      | area=   all | maxDets=1000 ] = 0.502\n",
      "Average Precision  (AP) @[ IoU=0.50:0.95 | area= small | maxDets=1000 ] = 0.163\n",
      "Average Precision  (AP) @[ IoU=0.50:0.95 | area=medium | maxDets=1000 ] = 0.461\n",
      "Average Precision  (AP) @[ IoU=0.50:0.95 | area= large | maxDets=1000 ] = 0.710\n",
      "Average Recall     (AR) @[ IoU=0.50:0.95 | area=   all | maxDets=100 ] = 0.563\n",
      "Average Recall     (AR) @[ IoU=0.50:0.95 | area=   all | maxDets=300 ] = 0.563\n",
      "Average Recall     (AR) @[ IoU=0.50:0.95 | area=   all | maxDets=1000 ] = 0.563\n",
      "Average Recall     (AR) @[ IoU=0.50:0.95 | area= small | maxDets=1000 ] = 0.271\n",
      "Average Recall     (AR) @[ IoU=0.50:0.95 | area=medium | maxDets=1000 ] = 0.570\n",
      "Average Recall     (AR) @[ IoU=0.50:0.95 | area= large | maxDets=1000 ] = 0.817\n"
     ]
    },
    {
     "name": "stderr",
     "output_type": "stream",
     "text": [
      "2021-05-20 13:58:49,809 - mmdet - INFO - Now best checkpoint is epoch_26.pth.Best bbox_mAP_50 is 0.6330\n",
      "2021-05-20 13:58:49,838 - mmdet - INFO - Epoch(val) [26][818]\tbbox_mAP: 0.4690, bbox_mAP_50: 0.6330, bbox_mAP_75: 0.5020, bbox_mAP_s: 0.1630, bbox_mAP_m: 0.4610, bbox_mAP_l: 0.7100, bbox_mAP_copypaste: 0.469 0.633 0.502 0.163 0.461 0.710\n",
      "/home/ubuntu/anaconda3/envs/pytorch_p36/lib/python3.6/site-packages/instaboostfast/pycococreater.py:48: VisibleDeprecationWarning: Creating an ndarray from ragged nested sequences (which is a list-or-tuple of lists-or-tuples-or ndarrays with different lengths or shapes) is deprecated. If you meant to do this, you must specify 'dtype=object' when creating the ndarray\n",
      "  contours = np.subtract(contours, 1)\n",
      "/home/ubuntu/anaconda3/envs/pytorch_p36/lib/python3.6/site-packages/instaboostfast/pycococreater.py:48: VisibleDeprecationWarning: Creating an ndarray from ragged nested sequences (which is a list-or-tuple of lists-or-tuples-or ndarrays with different lengths or shapes) is deprecated. If you meant to do this, you must specify 'dtype=object' when creating the ndarray\n",
      "  contours = np.subtract(contours, 1)\n",
      "2021-05-20 14:00:20,152 - mmdet - INFO - Epoch [27][50/818]\tlr: 6.040e-05, eta: 12:32:38, time: 1.806, data_time: 0.159, memory: 26469, loss_rpn_cls: 0.0300, loss_rpn_bbox: 0.0240, loss_semantic_seg: 0.0931, s0.loss_cls: 0.2265, s0.acc: 92.5801, s0.loss_bbox: 0.1273, s0.loss_mask: 0.2046, s1.loss_cls: 0.1023, s1.acc: 93.3044, s1.loss_bbox: 0.1151, s1.loss_mask: 0.0875, s2.loss_cls: 0.0495, s2.acc: 93.5249, s2.loss_bbox: 0.0665, s2.loss_mask: 0.0380, loss: 1.1644, grad_norm: 6.2976\n",
      "2021-05-20 14:01:39,304 - mmdet - INFO - Epoch [27][100/818]\tlr: 6.040e-05, eta: 12:31:14, time: 1.583, data_time: 0.053, memory: 26469, loss_rpn_cls: 0.0318, loss_rpn_bbox: 0.0255, loss_semantic_seg: 0.0840, s0.loss_cls: 0.1965, s0.acc: 93.4609, s0.loss_bbox: 0.1171, s0.loss_mask: 0.2030, s1.loss_cls: 0.0895, s1.acc: 94.0087, s1.loss_bbox: 0.1072, s1.loss_mask: 0.0878, s2.loss_cls: 0.0421, s2.acc: 94.3807, s2.loss_bbox: 0.0591, s2.loss_mask: 0.0389, loss: 1.0825, grad_norm: 6.1264\n",
      "2021-05-20 14:03:02,736 - mmdet - INFO - Epoch [27][150/818]\tlr: 6.040e-05, eta: 12:29:56, time: 1.669, data_time: 0.068, memory: 26469, loss_rpn_cls: 0.0272, loss_rpn_bbox: 0.0238, loss_semantic_seg: 0.0958, s0.loss_cls: 0.2104, s0.acc: 93.2412, s0.loss_bbox: 0.1205, s0.loss_mask: 0.2062, s1.loss_cls: 0.0942, s1.acc: 93.9374, s1.loss_bbox: 0.1094, s1.loss_mask: 0.0888, s2.loss_cls: 0.0444, s2.acc: 94.1648, s2.loss_bbox: 0.0633, s2.loss_mask: 0.0397, loss: 1.1237, grad_norm: 6.5982\n",
      "2021-05-20 14:04:25,641 - mmdet - INFO - Epoch [27][200/818]\tlr: 6.040e-05, eta: 12:28:36, time: 1.658, data_time: 0.068, memory: 26469, loss_rpn_cls: 0.0264, loss_rpn_bbox: 0.0258, loss_semantic_seg: 0.0967, s0.loss_cls: 0.1904, s0.acc: 93.7852, s0.loss_bbox: 0.1067, s0.loss_mask: 0.1975, s1.loss_cls: 0.0872, s1.acc: 94.2801, s1.loss_bbox: 0.1004, s1.loss_mask: 0.0881, s2.loss_cls: 0.0427, s2.acc: 94.3089, s2.loss_bbox: 0.0557, s2.loss_mask: 0.0397, loss: 1.0572, grad_norm: 6.7007\n",
      "2021-05-20 14:05:45,683 - mmdet - INFO - Epoch [27][250/818]\tlr: 6.040e-05, eta: 12:27:13, time: 1.601, data_time: 0.052, memory: 26469, loss_rpn_cls: 0.0250, loss_rpn_bbox: 0.0198, loss_semantic_seg: 0.0918, s0.loss_cls: 0.1767, s0.acc: 94.2432, s0.loss_bbox: 0.1033, s0.loss_mask: 0.1986, s1.loss_cls: 0.0787, s1.acc: 94.8843, s1.loss_bbox: 0.0917, s1.loss_mask: 0.0881, s2.loss_cls: 0.0379, s2.acc: 95.0297, s2.loss_bbox: 0.0517, s2.loss_mask: 0.0391, loss: 1.0022, grad_norm: 6.3226\n",
      "2021-05-20 14:07:06,820 - mmdet - INFO - Epoch [27][300/818]\tlr: 6.040e-05, eta: 12:25:52, time: 1.623, data_time: 0.063, memory: 26469, loss_rpn_cls: 0.0270, loss_rpn_bbox: 0.0250, loss_semantic_seg: 0.0901, s0.loss_cls: 0.2017, s0.acc: 93.3418, s0.loss_bbox: 0.1192, s0.loss_mask: 0.2010, s1.loss_cls: 0.0891, s1.acc: 94.0843, s1.loss_bbox: 0.1071, s1.loss_mask: 0.0882, s2.loss_cls: 0.0431, s2.acc: 94.3151, s2.loss_bbox: 0.0597, s2.loss_mask: 0.0386, loss: 1.0899, grad_norm: 6.7447\n",
      "2021-05-20 14:08:32,042 - mmdet - INFO - Epoch [27][350/818]\tlr: 6.040e-05, eta: 12:24:35, time: 1.704, data_time: 0.073, memory: 26469, loss_rpn_cls: 0.0311, loss_rpn_bbox: 0.0303, loss_semantic_seg: 0.0993, s0.loss_cls: 0.2214, s0.acc: 92.8428, s0.loss_bbox: 0.1334, s0.loss_mask: 0.2088, s1.loss_cls: 0.1003, s1.acc: 93.5504, s1.loss_bbox: 0.1170, s1.loss_mask: 0.0918, s2.loss_cls: 0.0467, s2.acc: 93.9739, s2.loss_bbox: 0.0641, s2.loss_mask: 0.0404, loss: 1.1844, grad_norm: 6.3764\n",
      "2021-05-20 14:09:53,491 - mmdet - INFO - Epoch [27][400/818]\tlr: 6.040e-05, eta: 12:23:14, time: 1.629, data_time: 0.065, memory: 26469, loss_rpn_cls: 0.0302, loss_rpn_bbox: 0.0242, loss_semantic_seg: 0.1021, s0.loss_cls: 0.1934, s0.acc: 93.6699, s0.loss_bbox: 0.1204, s0.loss_mask: 0.2031, s1.loss_cls: 0.0873, s1.acc: 94.2878, s1.loss_bbox: 0.1011, s1.loss_mask: 0.0879, s2.loss_cls: 0.0414, s2.acc: 94.6093, s2.loss_bbox: 0.0552, s2.loss_mask: 0.0389, loss: 1.0851, grad_norm: 6.1689\n",
      "2021-05-20 14:11:16,555 - mmdet - INFO - Epoch [27][450/818]\tlr: 6.040e-05, eta: 12:21:55, time: 1.661, data_time: 0.068, memory: 26469, loss_rpn_cls: 0.0254, loss_rpn_bbox: 0.0266, loss_semantic_seg: 0.0929, s0.loss_cls: 0.2123, s0.acc: 93.1064, s0.loss_bbox: 0.1231, s0.loss_mask: 0.2043, s1.loss_cls: 0.0982, s1.acc: 93.6372, s1.loss_bbox: 0.1066, s1.loss_mask: 0.0896, s2.loss_cls: 0.0458, s2.acc: 94.0839, s2.loss_bbox: 0.0564, s2.loss_mask: 0.0395, loss: 1.1205, grad_norm: 6.1341\n",
      "2021-05-20 14:12:39,675 - mmdet - INFO - Epoch [27][500/818]\tlr: 6.040e-05, eta: 12:20:36, time: 1.662, data_time: 0.081, memory: 26469, loss_rpn_cls: 0.0333, loss_rpn_bbox: 0.0265, loss_semantic_seg: 0.0985, s0.loss_cls: 0.2316, s0.acc: 92.3350, s0.loss_bbox: 0.1357, s0.loss_mask: 0.2076, s1.loss_cls: 0.1053, s1.acc: 93.0749, s1.loss_bbox: 0.1172, s1.loss_mask: 0.0918, s2.loss_cls: 0.0502, s2.acc: 93.2723, s2.loss_bbox: 0.0643, s2.loss_mask: 0.0407, loss: 1.2026, grad_norm: 6.4727\n",
      "2021-05-20 14:14:01,613 - mmdet - INFO - Epoch [27][550/818]\tlr: 6.040e-05, eta: 12:19:15, time: 1.639, data_time: 0.052, memory: 26469, loss_rpn_cls: 0.0271, loss_rpn_bbox: 0.0187, loss_semantic_seg: 0.1022, s0.loss_cls: 0.1823, s0.acc: 94.1172, s0.loss_bbox: 0.0985, s0.loss_mask: 0.1778, s1.loss_cls: 0.0841, s1.acc: 94.6766, s1.loss_bbox: 0.0881, s1.loss_mask: 0.0796, s2.loss_cls: 0.0401, s2.acc: 94.8307, s2.loss_bbox: 0.0511, s2.loss_mask: 0.0358, loss: 0.9855, grad_norm: 6.1236\n",
      "2021-05-20 14:15:25,089 - mmdet - INFO - Epoch [27][600/818]\tlr: 6.040e-05, eta: 12:17:57, time: 1.670, data_time: 0.068, memory: 26469, loss_rpn_cls: 0.0347, loss_rpn_bbox: 0.0296, loss_semantic_seg: 0.1000, s0.loss_cls: 0.1934, s0.acc: 93.6875, s0.loss_bbox: 0.1198, s0.loss_mask: 0.2020, s1.loss_cls: 0.0871, s1.acc: 94.3884, s1.loss_bbox: 0.1008, s1.loss_mask: 0.0865, s2.loss_cls: 0.0417, s2.acc: 94.6622, s2.loss_bbox: 0.0570, s2.loss_mask: 0.0388, loss: 1.0915, grad_norm: 7.6372\n",
      "2021-05-20 14:16:49,395 - mmdet - INFO - Epoch [27][650/818]\tlr: 6.040e-05, eta: 12:16:39, time: 1.686, data_time: 0.071, memory: 26469, loss_rpn_cls: 0.0292, loss_rpn_bbox: 0.0223, loss_semantic_seg: 0.0948, s0.loss_cls: 0.1979, s0.acc: 93.5967, s0.loss_bbox: 0.1128, s0.loss_mask: 0.1985, s1.loss_cls: 0.0882, s1.acc: 94.2493, s1.loss_bbox: 0.0955, s1.loss_mask: 0.0864, s2.loss_cls: 0.0416, s2.acc: 94.4889, s2.loss_bbox: 0.0536, s2.loss_mask: 0.0388, loss: 1.0596, grad_norm: 6.3034\n",
      "2021-05-20 14:18:12,227 - mmdet - INFO - Epoch [27][700/818]\tlr: 6.040e-05, eta: 12:15:19, time: 1.657, data_time: 0.061, memory: 26469, loss_rpn_cls: 0.0290, loss_rpn_bbox: 0.0231, loss_semantic_seg: 0.0962, s0.loss_cls: 0.2097, s0.acc: 92.9551, s0.loss_bbox: 0.1307, s0.loss_mask: 0.2144, s1.loss_cls: 0.0945, s1.acc: 93.5995, s1.loss_bbox: 0.1151, s1.loss_mask: 0.0950, s2.loss_cls: 0.0440, s2.acc: 93.9934, s2.loss_bbox: 0.0632, s2.loss_mask: 0.0417, loss: 1.1566, grad_norm: 6.5669\n",
      "2021-05-20 14:19:33,770 - mmdet - INFO - Epoch [27][750/818]\tlr: 6.040e-05, eta: 12:13:58, time: 1.631, data_time: 0.070, memory: 26469, loss_rpn_cls: 0.0266, loss_rpn_bbox: 0.0222, loss_semantic_seg: 0.0954, s0.loss_cls: 0.1858, s0.acc: 93.8682, s0.loss_bbox: 0.1075, s0.loss_mask: 0.1924, s1.loss_cls: 0.0854, s1.acc: 94.4638, s1.loss_bbox: 0.0956, s1.loss_mask: 0.0856, s2.loss_cls: 0.0414, s2.acc: 94.4960, s2.loss_bbox: 0.0521, s2.loss_mask: 0.0382, loss: 1.0280, grad_norm: 6.4310\n"
     ]
    },
    {
     "name": "stderr",
     "output_type": "stream",
     "text": [
      "2021-05-20 14:20:59,044 - mmdet - INFO - Epoch [27][800/818]\tlr: 6.040e-05, eta: 12:12:42, time: 1.705, data_time: 0.072, memory: 26469, loss_rpn_cls: 0.0287, loss_rpn_bbox: 0.0280, loss_semantic_seg: 0.0967, s0.loss_cls: 0.2116, s0.acc: 93.0996, s0.loss_bbox: 0.1219, s0.loss_mask: 0.1984, s1.loss_cls: 0.0958, s1.acc: 93.7960, s1.loss_bbox: 0.1065, s1.loss_mask: 0.0870, s2.loss_cls: 0.0456, s2.acc: 94.0081, s2.loss_bbox: 0.0599, s2.loss_mask: 0.0385, loss: 1.1187, grad_norm: 6.3137\n",
      "2021-05-20 14:21:28,659 - mmdet - INFO - Saving checkpoint at 27 epochs\n"
     ]
    },
    {
     "name": "stdout",
     "output_type": "stream",
     "text": [
      "[>>>>>>>>>>>>>>>>>>>>>>>>>>>>>] 655/655, 3.9 task/s, elapsed: 166s, ETA:     0s"
     ]
    },
    {
     "name": "stderr",
     "output_type": "stream",
     "text": [
      "2021-05-20 14:24:21,577 - mmdet - INFO - Evaluating bbox...\n"
     ]
    },
    {
     "name": "stdout",
     "output_type": "stream",
     "text": [
      "Loading and preparing results...\n",
      "DONE (t=1.27s)\n",
      "creating index...\n",
      "index created!\n",
      "Running per image evaluation...\n",
      "Evaluate annotation type *bbox*\n",
      "DONE (t=7.53s).\n",
      "Accumulating evaluation results...\n"
     ]
    },
    {
     "name": "stderr",
     "output_type": "stream",
     "text": [
      "2021-05-20 14:24:31,862 - mmdet - INFO - Epoch(val) [27][818]\tbbox_mAP: 0.4710, bbox_mAP_50: 0.6320, bbox_mAP_75: 0.4940, bbox_mAP_s: 0.1740, bbox_mAP_m: 0.4620, bbox_mAP_l: 0.7230, bbox_mAP_copypaste: 0.471 0.632 0.494 0.174 0.462 0.723\n"
     ]
    },
    {
     "name": "stdout",
     "output_type": "stream",
     "text": [
      "DONE (t=1.36s).\n",
      "Average Precision  (AP) @[ IoU=0.50:0.95 | area=   all | maxDets=100 ] = 0.471\n",
      "Average Precision  (AP) @[ IoU=0.50      | area=   all | maxDets=1000 ] = 0.632\n",
      "Average Precision  (AP) @[ IoU=0.75      | area=   all | maxDets=1000 ] = 0.494\n",
      "Average Precision  (AP) @[ IoU=0.50:0.95 | area= small | maxDets=1000 ] = 0.174\n",
      "Average Precision  (AP) @[ IoU=0.50:0.95 | area=medium | maxDets=1000 ] = 0.462\n",
      "Average Precision  (AP) @[ IoU=0.50:0.95 | area= large | maxDets=1000 ] = 0.723\n",
      "Average Recall     (AR) @[ IoU=0.50:0.95 | area=   all | maxDets=100 ] = 0.567\n",
      "Average Recall     (AR) @[ IoU=0.50:0.95 | area=   all | maxDets=300 ] = 0.567\n",
      "Average Recall     (AR) @[ IoU=0.50:0.95 | area=   all | maxDets=1000 ] = 0.567\n",
      "Average Recall     (AR) @[ IoU=0.50:0.95 | area= small | maxDets=1000 ] = 0.292\n",
      "Average Recall     (AR) @[ IoU=0.50:0.95 | area=medium | maxDets=1000 ] = 0.573\n",
      "Average Recall     (AR) @[ IoU=0.50:0.95 | area= large | maxDets=1000 ] = 0.772\n"
     ]
    },
    {
     "name": "stderr",
     "output_type": "stream",
     "text": [
      "/home/ubuntu/anaconda3/envs/pytorch_p36/lib/python3.6/site-packages/instaboostfast/pycococreater.py:48: VisibleDeprecationWarning: Creating an ndarray from ragged nested sequences (which is a list-or-tuple of lists-or-tuples-or ndarrays with different lengths or shapes) is deprecated. If you meant to do this, you must specify 'dtype=object' when creating the ndarray\n",
      "  contours = np.subtract(contours, 1)\n",
      "/home/ubuntu/anaconda3/envs/pytorch_p36/lib/python3.6/site-packages/instaboostfast/pycococreater.py:48: VisibleDeprecationWarning: Creating an ndarray from ragged nested sequences (which is a list-or-tuple of lists-or-tuples-or ndarrays with different lengths or shapes) is deprecated. If you meant to do this, you must specify 'dtype=object' when creating the ndarray\n",
      "  contours = np.subtract(contours, 1)\n",
      "2021-05-20 14:26:00,346 - mmdet - INFO - Epoch [28][50/818]\tlr: 5.782e-05, eta: 12:10:24, time: 1.769, data_time: 0.157, memory: 26469, loss_rpn_cls: 0.0315, loss_rpn_bbox: 0.0284, loss_semantic_seg: 0.0893, s0.loss_cls: 0.2287, s0.acc: 92.4736, s0.loss_bbox: 0.1262, s0.loss_mask: 0.2165, s1.loss_cls: 0.1041, s1.acc: 93.3947, s1.loss_bbox: 0.1081, s1.loss_mask: 0.0947, s2.loss_cls: 0.0497, s2.acc: 93.7131, s2.loss_bbox: 0.0626, s2.loss_mask: 0.0425, loss: 1.1823, grad_norm: 6.8817\n",
      "2021-05-20 14:27:24,106 - mmdet - INFO - Epoch [28][100/818]\tlr: 5.782e-05, eta: 12:09:06, time: 1.675, data_time: 0.075, memory: 26469, loss_rpn_cls: 0.0336, loss_rpn_bbox: 0.0291, loss_semantic_seg: 0.0960, s0.loss_cls: 0.2161, s0.acc: 92.8359, s0.loss_bbox: 0.1244, s0.loss_mask: 0.1970, s1.loss_cls: 0.1001, s1.acc: 93.5196, s1.loss_bbox: 0.1078, s1.loss_mask: 0.0837, s2.loss_cls: 0.0472, s2.acc: 93.7998, s2.loss_bbox: 0.0577, s2.loss_mask: 0.0367, loss: 1.1294, grad_norm: 6.5619\n",
      "2021-05-20 14:28:48,226 - mmdet - INFO - Epoch [28][150/818]\tlr: 5.782e-05, eta: 12:07:48, time: 1.682, data_time: 0.062, memory: 26469, loss_rpn_cls: 0.0260, loss_rpn_bbox: 0.0251, loss_semantic_seg: 0.0967, s0.loss_cls: 0.1875, s0.acc: 93.6104, s0.loss_bbox: 0.1134, s0.loss_mask: 0.1964, s1.loss_cls: 0.0834, s1.acc: 94.2611, s1.loss_bbox: 0.0979, s1.loss_mask: 0.0851, s2.loss_cls: 0.0395, s2.acc: 94.7269, s2.loss_bbox: 0.0561, s2.loss_mask: 0.0386, loss: 1.0455, grad_norm: 6.0972\n",
      "2021-05-20 14:30:10,618 - mmdet - INFO - Epoch [28][200/818]\tlr: 5.782e-05, eta: 12:06:28, time: 1.648, data_time: 0.072, memory: 26469, loss_rpn_cls: 0.0278, loss_rpn_bbox: 0.0267, loss_semantic_seg: 0.1022, s0.loss_cls: 0.1968, s0.acc: 93.5322, s0.loss_bbox: 0.1150, s0.loss_mask: 0.1974, s1.loss_cls: 0.0906, s1.acc: 93.9804, s1.loss_bbox: 0.1000, s1.loss_mask: 0.0868, s2.loss_cls: 0.0433, s2.acc: 94.1112, s2.loss_bbox: 0.0570, s2.loss_mask: 0.0395, loss: 1.0830, grad_norm: 6.1607\n",
      "2021-05-20 14:31:34,317 - mmdet - INFO - Epoch [28][250/818]\tlr: 5.782e-05, eta: 12:05:09, time: 1.674, data_time: 0.068, memory: 26469, loss_rpn_cls: 0.0243, loss_rpn_bbox: 0.0223, loss_semantic_seg: 0.0971, s0.loss_cls: 0.1859, s0.acc: 93.8037, s0.loss_bbox: 0.1124, s0.loss_mask: 0.1807, s1.loss_cls: 0.0814, s1.acc: 94.6487, s1.loss_bbox: 0.0977, s1.loss_mask: 0.0803, s2.loss_cls: 0.0388, s2.acc: 94.6685, s2.loss_bbox: 0.0555, s2.loss_mask: 0.0352, loss: 1.0116, grad_norm: 6.1394\n",
      "2021-05-20 14:32:54,035 - mmdet - INFO - Epoch [28][300/818]\tlr: 5.782e-05, eta: 12:03:46, time: 1.594, data_time: 0.054, memory: 26469, loss_rpn_cls: 0.0299, loss_rpn_bbox: 0.0230, loss_semantic_seg: 0.1001, s0.loss_cls: 0.2012, s0.acc: 93.4814, s0.loss_bbox: 0.1108, s0.loss_mask: 0.1966, s1.loss_cls: 0.0902, s1.acc: 94.1871, s1.loss_bbox: 0.0972, s1.loss_mask: 0.0856, s2.loss_cls: 0.0423, s2.acc: 94.5732, s2.loss_bbox: 0.0553, s2.loss_mask: 0.0382, loss: 1.0702, grad_norm: 6.6209\n",
      "2021-05-20 14:34:17,642 - mmdet - INFO - Epoch [28][350/818]\tlr: 5.782e-05, eta: 12:02:27, time: 1.672, data_time: 0.069, memory: 26469, loss_rpn_cls: 0.0242, loss_rpn_bbox: 0.0222, loss_semantic_seg: 0.0948, s0.loss_cls: 0.1796, s0.acc: 93.9160, s0.loss_bbox: 0.1065, s0.loss_mask: 0.1949, s1.loss_cls: 0.0832, s1.acc: 94.3788, s1.loss_bbox: 0.0924, s1.loss_mask: 0.0847, s2.loss_cls: 0.0401, s2.acc: 94.4590, s2.loss_bbox: 0.0527, s2.loss_mask: 0.0376, loss: 1.0129, grad_norm: 6.4862\n",
      "2021-05-20 14:35:38,168 - mmdet - INFO - Epoch [28][400/818]\tlr: 5.782e-05, eta: 12:01:05, time: 1.611, data_time: 0.064, memory: 26469, loss_rpn_cls: 0.0262, loss_rpn_bbox: 0.0260, loss_semantic_seg: 0.1022, s0.loss_cls: 0.2029, s0.acc: 93.3926, s0.loss_bbox: 0.1158, s0.loss_mask: 0.2098, s1.loss_cls: 0.0923, s1.acc: 93.9981, s1.loss_bbox: 0.1008, s1.loss_mask: 0.0912, s2.loss_cls: 0.0440, s2.acc: 94.2567, s2.loss_bbox: 0.0583, s2.loss_mask: 0.0416, loss: 1.1112, grad_norm: 7.0733\n",
      "2021-05-20 14:37:00,960 - mmdet - INFO - Epoch [28][450/818]\tlr: 5.782e-05, eta: 11:59:45, time: 1.656, data_time: 0.086, memory: 26469, loss_rpn_cls: 0.0290, loss_rpn_bbox: 0.0233, loss_semantic_seg: 0.1007, s0.loss_cls: 0.2035, s0.acc: 93.2295, s0.loss_bbox: 0.1181, s0.loss_mask: 0.1911, s1.loss_cls: 0.0924, s1.acc: 93.7920, s1.loss_bbox: 0.1021, s1.loss_mask: 0.0814, s2.loss_cls: 0.0450, s2.acc: 93.9244, s2.loss_bbox: 0.0570, s2.loss_mask: 0.0366, loss: 1.0803, grad_norm: 6.0967\n",
      "2021-05-20 14:38:23,496 - mmdet - INFO - Epoch [28][500/818]\tlr: 5.782e-05, eta: 11:58:25, time: 1.651, data_time: 0.062, memory: 26469, loss_rpn_cls: 0.0295, loss_rpn_bbox: 0.0277, loss_semantic_seg: 0.0969, s0.loss_cls: 0.1979, s0.acc: 93.4668, s0.loss_bbox: 0.1175, s0.loss_mask: 0.1959, s1.loss_cls: 0.0901, s1.acc: 94.1909, s1.loss_bbox: 0.1048, s1.loss_mask: 0.0870, s2.loss_cls: 0.0442, s2.acc: 94.0804, s2.loss_bbox: 0.0592, s2.loss_mask: 0.0390, loss: 1.0896, grad_norm: 6.2022\n",
      "2021-05-20 14:39:48,134 - mmdet - INFO - Epoch [28][550/818]\tlr: 5.782e-05, eta: 11:57:08, time: 1.693, data_time: 0.083, memory: 26469, loss_rpn_cls: 0.0341, loss_rpn_bbox: 0.0247, loss_semantic_seg: 0.0986, s0.loss_cls: 0.2147, s0.acc: 93.0117, s0.loss_bbox: 0.1219, s0.loss_mask: 0.2115, s1.loss_cls: 0.0987, s1.acc: 93.7077, s1.loss_bbox: 0.1098, s1.loss_mask: 0.0939, s2.loss_cls: 0.0478, s2.acc: 93.8092, s2.loss_bbox: 0.0607, s2.loss_mask: 0.0419, loss: 1.1584, grad_norm: 6.3757\n",
      "2021-05-20 14:41:11,197 - mmdet - INFO - Epoch [28][600/818]\tlr: 5.782e-05, eta: 11:55:48, time: 1.661, data_time: 0.059, memory: 26469, loss_rpn_cls: 0.0255, loss_rpn_bbox: 0.0217, loss_semantic_seg: 0.0975, s0.loss_cls: 0.1889, s0.acc: 93.8672, s0.loss_bbox: 0.1088, s0.loss_mask: 0.1931, s1.loss_cls: 0.0853, s1.acc: 94.4810, s1.loss_bbox: 0.0990, s1.loss_mask: 0.0830, s2.loss_cls: 0.0419, s2.acc: 94.5418, s2.loss_bbox: 0.0561, s2.loss_mask: 0.0370, loss: 1.0378, grad_norm: 6.6278\n",
      "2021-05-20 14:42:34,145 - mmdet - INFO - Epoch [28][650/818]\tlr: 5.782e-05, eta: 11:54:29, time: 1.659, data_time: 0.071, memory: 26469, loss_rpn_cls: 0.0286, loss_rpn_bbox: 0.0273, loss_semantic_seg: 0.0997, s0.loss_cls: 0.2093, s0.acc: 93.1055, s0.loss_bbox: 0.1286, s0.loss_mask: 0.1968, s1.loss_cls: 0.0925, s1.acc: 93.8834, s1.loss_bbox: 0.1094, s1.loss_mask: 0.0847, s2.loss_cls: 0.0444, s2.acc: 94.2508, s2.loss_bbox: 0.0601, s2.loss_mask: 0.0369, loss: 1.1185, grad_norm: 6.4581\n",
      "2021-05-20 14:43:56,456 - mmdet - INFO - Epoch [28][700/818]\tlr: 5.782e-05, eta: 11:53:08, time: 1.646, data_time: 0.066, memory: 26469, loss_rpn_cls: 0.0299, loss_rpn_bbox: 0.0220, loss_semantic_seg: 0.0888, s0.loss_cls: 0.2046, s0.acc: 93.3545, s0.loss_bbox: 0.1154, s0.loss_mask: 0.1992, s1.loss_cls: 0.0943, s1.acc: 93.9106, s1.loss_bbox: 0.0993, s1.loss_mask: 0.0868, s2.loss_cls: 0.0442, s2.acc: 94.1745, s2.loss_bbox: 0.0551, s2.loss_mask: 0.0386, loss: 1.0782, grad_norm: 6.4154\n",
      "2021-05-20 14:45:20,529 - mmdet - INFO - Epoch [28][750/818]\tlr: 5.782e-05, eta: 11:51:50, time: 1.681, data_time: 0.077, memory: 26469, loss_rpn_cls: 0.0310, loss_rpn_bbox: 0.0225, loss_semantic_seg: 0.0915, s0.loss_cls: 0.2130, s0.acc: 93.0010, s0.loss_bbox: 0.1186, s0.loss_mask: 0.2027, s1.loss_cls: 0.0970, s1.acc: 93.6722, s1.loss_bbox: 0.1094, s1.loss_mask: 0.0884, s2.loss_cls: 0.0447, s2.acc: 94.0640, s2.loss_bbox: 0.0619, s2.loss_mask: 0.0386, loss: 1.1194, grad_norm: 6.4456\n",
      "2021-05-20 14:46:42,585 - mmdet - INFO - Epoch [28][800/818]\tlr: 5.782e-05, eta: 11:50:30, time: 1.641, data_time: 0.057, memory: 26469, loss_rpn_cls: 0.0268, loss_rpn_bbox: 0.0238, loss_semantic_seg: 0.0897, s0.loss_cls: 0.1898, s0.acc: 93.8076, s0.loss_bbox: 0.1059, s0.loss_mask: 0.1977, s1.loss_cls: 0.0869, s1.acc: 94.4089, s1.loss_bbox: 0.0945, s1.loss_mask: 0.0866, s2.loss_cls: 0.0406, s2.acc: 94.5440, s2.loss_bbox: 0.0544, s2.loss_mask: 0.0390, loss: 1.0357, grad_norm: 6.1228\n"
     ]
    },
    {
     "name": "stderr",
     "output_type": "stream",
     "text": [
      "2021-05-20 14:47:12,096 - mmdet - INFO - Saving checkpoint at 28 epochs\n"
     ]
    },
    {
     "name": "stdout",
     "output_type": "stream",
     "text": [
      "[>>>>>>>>>>>>>>>>>>>>>>>>>>>>>] 655/655, 3.8 task/s, elapsed: 172s, ETA:     0s"
     ]
    },
    {
     "name": "stderr",
     "output_type": "stream",
     "text": [
      "2021-05-20 14:50:11,195 - mmdet - INFO - Evaluating bbox...\n"
     ]
    },
    {
     "name": "stdout",
     "output_type": "stream",
     "text": [
      "Loading and preparing results...\n",
      "DONE (t=1.20s)\n",
      "creating index...\n",
      "index created!\n",
      "Running per image evaluation...\n",
      "Evaluate annotation type *bbox*\n",
      "DONE (t=7.52s).\n",
      "Accumulating evaluation results...\n",
      "DONE (t=1.52s).\n",
      "Average Precision  (AP) @[ IoU=0.50:0.95 | area=   all | maxDets=100 ] = 0.479\n",
      "Average Precision  (AP) @[ IoU=0.50      | area=   all | maxDets=1000 ] = 0.645\n",
      "Average Precision  (AP) @[ IoU=0.75      | area=   all | maxDets=1000 ] = 0.521\n",
      "Average Precision  (AP) @[ IoU=0.50:0.95 | area= small | maxDets=1000 ] = 0.192\n",
      "Average Precision  (AP) @[ IoU=0.50:0.95 | area=medium | maxDets=1000 ] = 0.463\n",
      "Average Precision  (AP) @[ IoU=0.50:0.95 | area= large | maxDets=1000 ] = 0.740\n",
      "Average Recall     (AR) @[ IoU=0.50:0.95 | area=   all | maxDets=100 ] = 0.574\n",
      "Average Recall     (AR) @[ IoU=0.50:0.95 | area=   all | maxDets=300 ] = 0.574\n",
      "Average Recall     (AR) @[ IoU=0.50:0.95 | area=   all | maxDets=1000 ] = 0.574\n",
      "Average Recall     (AR) @[ IoU=0.50:0.95 | area= small | maxDets=1000 ] = 0.301\n",
      "Average Recall     (AR) @[ IoU=0.50:0.95 | area=medium | maxDets=1000 ] = 0.571\n",
      "Average Recall     (AR) @[ IoU=0.50:0.95 | area= large | maxDets=1000 ] = 0.802\n"
     ]
    },
    {
     "name": "stderr",
     "output_type": "stream",
     "text": [
      "2021-05-20 14:50:25,066 - mmdet - INFO - Now best checkpoint is epoch_28.pth.Best bbox_mAP_50 is 0.6450\n",
      "2021-05-20 14:50:25,097 - mmdet - INFO - Epoch(val) [28][818]\tbbox_mAP: 0.4790, bbox_mAP_50: 0.6450, bbox_mAP_75: 0.5210, bbox_mAP_s: 0.1920, bbox_mAP_m: 0.4630, bbox_mAP_l: 0.7400, bbox_mAP_copypaste: 0.479 0.645 0.521 0.192 0.463 0.740\n",
      "/home/ubuntu/anaconda3/envs/pytorch_p36/lib/python3.6/site-packages/instaboostfast/pycococreater.py:48: VisibleDeprecationWarning: Creating an ndarray from ragged nested sequences (which is a list-or-tuple of lists-or-tuples-or ndarrays with different lengths or shapes) is deprecated. If you meant to do this, you must specify 'dtype=object' when creating the ndarray\n",
      "  contours = np.subtract(contours, 1)\n",
      "/home/ubuntu/anaconda3/envs/pytorch_p36/lib/python3.6/site-packages/instaboostfast/pycococreater.py:48: VisibleDeprecationWarning: Creating an ndarray from ragged nested sequences (which is a list-or-tuple of lists-or-tuples-or ndarrays with different lengths or shapes) is deprecated. If you meant to do this, you must specify 'dtype=object' when creating the ndarray\n",
      "  contours = np.subtract(contours, 1)\n",
      "2021-05-20 14:51:50,573 - mmdet - INFO - Epoch [29][50/818]\tlr: 5.523e-05, eta: 11:48:10, time: 1.709, data_time: 0.140, memory: 26469, loss_rpn_cls: 0.0248, loss_rpn_bbox: 0.0211, loss_semantic_seg: 0.0927, s0.loss_cls: 0.1830, s0.acc: 94.0811, s0.loss_bbox: 0.1072, s0.loss_mask: 0.1919, s1.loss_cls: 0.0802, s1.acc: 94.7802, s1.loss_bbox: 0.0955, s1.loss_mask: 0.0851, s2.loss_cls: 0.0378, s2.acc: 94.8929, s2.loss_bbox: 0.0556, s2.loss_mask: 0.0379, loss: 1.0128, grad_norm: 6.2177\n",
      "2021-05-20 14:53:14,886 - mmdet - INFO - Epoch [29][100/818]\tlr: 5.523e-05, eta: 11:46:52, time: 1.686, data_time: 0.078, memory: 26469, loss_rpn_cls: 0.0307, loss_rpn_bbox: 0.0265, loss_semantic_seg: 0.0982, s0.loss_cls: 0.2134, s0.acc: 93.0049, s0.loss_bbox: 0.1234, s0.loss_mask: 0.1991, s1.loss_cls: 0.0960, s1.acc: 93.5483, s1.loss_bbox: 0.1068, s1.loss_mask: 0.0870, s2.loss_cls: 0.0449, s2.acc: 94.0815, s2.loss_bbox: 0.0602, s2.loss_mask: 0.0390, loss: 1.1253, grad_norm: 6.3562\n",
      "2021-05-20 14:54:38,563 - mmdet - INFO - Epoch [29][150/818]\tlr: 5.523e-05, eta: 11:45:34, time: 1.674, data_time: 0.069, memory: 26469, loss_rpn_cls: 0.0244, loss_rpn_bbox: 0.0221, loss_semantic_seg: 0.0876, s0.loss_cls: 0.1988, s0.acc: 93.3389, s0.loss_bbox: 0.1184, s0.loss_mask: 0.2045, s1.loss_cls: 0.0898, s1.acc: 93.9070, s1.loss_bbox: 0.1052, s1.loss_mask: 0.0884, s2.loss_cls: 0.0430, s2.acc: 94.1906, s2.loss_bbox: 0.0600, s2.loss_mask: 0.0394, loss: 1.0816, grad_norm: 6.4345\n",
      "2021-05-20 14:56:02,939 - mmdet - INFO - Epoch [29][200/818]\tlr: 5.523e-05, eta: 11:44:16, time: 1.688, data_time: 0.069, memory: 26469, loss_rpn_cls: 0.0228, loss_rpn_bbox: 0.0242, loss_semantic_seg: 0.1133, s0.loss_cls: 0.1978, s0.acc: 93.5088, s0.loss_bbox: 0.1206, s0.loss_mask: 0.2079, s1.loss_cls: 0.0913, s1.acc: 94.0767, s1.loss_bbox: 0.1042, s1.loss_mask: 0.0913, s2.loss_cls: 0.0436, s2.acc: 94.3881, s2.loss_bbox: 0.0564, s2.loss_mask: 0.0395, loss: 1.1127, grad_norm: 6.9210\n",
      "2021-05-20 14:57:26,204 - mmdet - INFO - Epoch [29][250/818]\tlr: 5.523e-05, eta: 11:42:57, time: 1.665, data_time: 0.067, memory: 26469, loss_rpn_cls: 0.0269, loss_rpn_bbox: 0.0230, loss_semantic_seg: 0.0933, s0.loss_cls: 0.1931, s0.acc: 93.4688, s0.loss_bbox: 0.1211, s0.loss_mask: 0.2010, s1.loss_cls: 0.0877, s1.acc: 94.2867, s1.loss_bbox: 0.1050, s1.loss_mask: 0.0900, s2.loss_cls: 0.0415, s2.acc: 94.3838, s2.loss_bbox: 0.0567, s2.loss_mask: 0.0402, loss: 1.0794, grad_norm: 6.4739\n",
      "2021-05-20 14:58:46,882 - mmdet - INFO - Epoch [29][300/818]\tlr: 5.523e-05, eta: 11:41:35, time: 1.614, data_time: 0.063, memory: 26469, loss_rpn_cls: 0.0274, loss_rpn_bbox: 0.0243, loss_semantic_seg: 0.1012, s0.loss_cls: 0.2047, s0.acc: 93.4150, s0.loss_bbox: 0.1202, s0.loss_mask: 0.2029, s1.loss_cls: 0.0895, s1.acc: 94.2669, s1.loss_bbox: 0.1042, s1.loss_mask: 0.0885, s2.loss_cls: 0.0424, s2.acc: 94.4319, s2.loss_bbox: 0.0571, s2.loss_mask: 0.0391, loss: 1.1015, grad_norm: 6.6939\n",
      "2021-05-20 15:00:10,079 - mmdet - INFO - Epoch [29][350/818]\tlr: 5.523e-05, eta: 11:40:15, time: 1.664, data_time: 0.062, memory: 26469, loss_rpn_cls: 0.0208, loss_rpn_bbox: 0.0228, loss_semantic_seg: 0.0930, s0.loss_cls: 0.1954, s0.acc: 93.4150, s0.loss_bbox: 0.1106, s0.loss_mask: 0.1965, s1.loss_cls: 0.0880, s1.acc: 94.1190, s1.loss_bbox: 0.0989, s1.loss_mask: 0.0855, s2.loss_cls: 0.0429, s2.acc: 94.2732, s2.loss_bbox: 0.0568, s2.loss_mask: 0.0383, loss: 1.0495, grad_norm: 6.4364\n",
      "2021-05-20 15:01:34,692 - mmdet - INFO - Epoch [29][400/818]\tlr: 5.523e-05, eta: 11:38:57, time: 1.692, data_time: 0.076, memory: 26469, loss_rpn_cls: 0.0248, loss_rpn_bbox: 0.0261, loss_semantic_seg: 0.0966, s0.loss_cls: 0.2026, s0.acc: 93.3887, s0.loss_bbox: 0.1199, s0.loss_mask: 0.2052, s1.loss_cls: 0.0912, s1.acc: 94.1618, s1.loss_bbox: 0.1056, s1.loss_mask: 0.0895, s2.loss_cls: 0.0433, s2.acc: 94.2723, s2.loss_bbox: 0.0596, s2.loss_mask: 0.0398, loss: 1.1042, grad_norm: 6.2984\n",
      "2021-05-20 15:02:56,886 - mmdet - INFO - Epoch [29][450/818]\tlr: 5.523e-05, eta: 11:37:37, time: 1.644, data_time: 0.065, memory: 26469, loss_rpn_cls: 0.0247, loss_rpn_bbox: 0.0230, loss_semantic_seg: 0.1068, s0.loss_cls: 0.1907, s0.acc: 93.9229, s0.loss_bbox: 0.1075, s0.loss_mask: 0.2075, s1.loss_cls: 0.0866, s1.acc: 94.4130, s1.loss_bbox: 0.0926, s1.loss_mask: 0.0952, s2.loss_cls: 0.0397, s2.acc: 94.6456, s2.loss_bbox: 0.0515, s2.loss_mask: 0.0441, loss: 1.0699, grad_norm: 6.2403\n",
      "2021-05-20 15:04:20,100 - mmdet - INFO - Epoch [29][500/818]\tlr: 5.523e-05, eta: 11:36:18, time: 1.664, data_time: 0.070, memory: 26469, loss_rpn_cls: 0.0301, loss_rpn_bbox: 0.0261, loss_semantic_seg: 0.0934, s0.loss_cls: 0.2065, s0.acc: 93.1816, s0.loss_bbox: 0.1194, s0.loss_mask: 0.2117, s1.loss_cls: 0.0947, s1.acc: 93.6742, s1.loss_bbox: 0.1048, s1.loss_mask: 0.0953, s2.loss_cls: 0.0448, s2.acc: 93.9865, s2.loss_bbox: 0.0604, s2.loss_mask: 0.0434, loss: 1.1305, grad_norm: 6.6581\n",
      "2021-05-20 15:05:42,659 - mmdet - INFO - Epoch [29][550/818]\tlr: 5.523e-05, eta: 11:34:58, time: 1.651, data_time: 0.059, memory: 26469, loss_rpn_cls: 0.0243, loss_rpn_bbox: 0.0209, loss_semantic_seg: 0.0894, s0.loss_cls: 0.1840, s0.acc: 94.0723, s0.loss_bbox: 0.1073, s0.loss_mask: 0.2043, s1.loss_cls: 0.0853, s1.acc: 94.5411, s1.loss_bbox: 0.0961, s1.loss_mask: 0.0874, s2.loss_cls: 0.0410, s2.acc: 94.7281, s2.loss_bbox: 0.0533, s2.loss_mask: 0.0392, loss: 1.0325, grad_norm: 6.2902\n",
      "2021-05-20 15:07:04,766 - mmdet - INFO - Epoch [29][600/818]\tlr: 5.523e-05, eta: 11:33:37, time: 1.642, data_time: 0.067, memory: 26469, loss_rpn_cls: 0.0293, loss_rpn_bbox: 0.0245, loss_semantic_seg: 0.0949, s0.loss_cls: 0.1853, s0.acc: 93.9160, s0.loss_bbox: 0.1098, s0.loss_mask: 0.1892, s1.loss_cls: 0.0833, s1.acc: 94.5754, s1.loss_bbox: 0.0958, s1.loss_mask: 0.0822, s2.loss_cls: 0.0398, s2.acc: 94.9399, s2.loss_bbox: 0.0549, s2.loss_mask: 0.0374, loss: 1.0263, grad_norm: 6.4718\n",
      "2021-05-20 15:08:29,221 - mmdet - INFO - Epoch [29][650/818]\tlr: 5.523e-05, eta: 11:32:19, time: 1.689, data_time: 0.076, memory: 26469, loss_rpn_cls: 0.0313, loss_rpn_bbox: 0.0275, loss_semantic_seg: 0.0980, s0.loss_cls: 0.2130, s0.acc: 93.1748, s0.loss_bbox: 0.1198, s0.loss_mask: 0.1963, s1.loss_cls: 0.0980, s1.acc: 93.8902, s1.loss_bbox: 0.1108, s1.loss_mask: 0.0883, s2.loss_cls: 0.0475, s2.acc: 93.8636, s2.loss_bbox: 0.0633, s2.loss_mask: 0.0409, loss: 1.1348, grad_norm: 7.4615\n",
      "2021-05-20 15:09:52,095 - mmdet - INFO - Epoch [29][700/818]\tlr: 5.523e-05, eta: 11:30:59, time: 1.657, data_time: 0.070, memory: 26469, loss_rpn_cls: 0.0305, loss_rpn_bbox: 0.0257, loss_semantic_seg: 0.0958, s0.loss_cls: 0.2116, s0.acc: 93.0967, s0.loss_bbox: 0.1218, s0.loss_mask: 0.2057, s1.loss_cls: 0.0968, s1.acc: 93.5932, s1.loss_bbox: 0.1093, s1.loss_mask: 0.0884, s2.loss_cls: 0.0465, s2.acc: 93.6948, s2.loss_bbox: 0.0613, s2.loss_mask: 0.0386, loss: 1.1321, grad_norm: 6.5152\n",
      "2021-05-20 15:11:14,051 - mmdet - INFO - Epoch [29][750/818]\tlr: 5.523e-05, eta: 11:29:39, time: 1.639, data_time: 0.059, memory: 26469, loss_rpn_cls: 0.0228, loss_rpn_bbox: 0.0221, loss_semantic_seg: 0.0917, s0.loss_cls: 0.1773, s0.acc: 94.4248, s0.loss_bbox: 0.0974, s0.loss_mask: 0.1715, s1.loss_cls: 0.0792, s1.acc: 94.9403, s1.loss_bbox: 0.0841, s1.loss_mask: 0.0766, s2.loss_cls: 0.0370, s2.acc: 95.0620, s2.loss_bbox: 0.0491, s2.loss_mask: 0.0353, loss: 0.9442, grad_norm: 6.1057\n"
     ]
    },
    {
     "name": "stderr",
     "output_type": "stream",
     "text": [
      "2021-05-20 15:12:39,428 - mmdet - INFO - Epoch [29][800/818]\tlr: 5.523e-05, eta: 11:28:22, time: 1.708, data_time: 0.080, memory: 26469, loss_rpn_cls: 0.0333, loss_rpn_bbox: 0.0266, loss_semantic_seg: 0.0945, s0.loss_cls: 0.2177, s0.acc: 92.7686, s0.loss_bbox: 0.1301, s0.loss_mask: 0.2046, s1.loss_cls: 0.0979, s1.acc: 93.5872, s1.loss_bbox: 0.1151, s1.loss_mask: 0.0906, s2.loss_cls: 0.0475, s2.acc: 93.7214, s2.loss_bbox: 0.0666, s2.loss_mask: 0.0411, loss: 1.1657, grad_norm: 6.8871\n",
      "2021-05-20 15:13:09,577 - mmdet - INFO - Saving checkpoint at 29 epochs\n"
     ]
    },
    {
     "name": "stdout",
     "output_type": "stream",
     "text": [
      "[>>>>>>>>>>>>>>>>>>>>>>>>>>>>>] 655/655, 3.8 task/s, elapsed: 172s, ETA:     0s"
     ]
    },
    {
     "name": "stderr",
     "output_type": "stream",
     "text": [
      "2021-05-20 15:16:08,652 - mmdet - INFO - Evaluating bbox...\n"
     ]
    },
    {
     "name": "stdout",
     "output_type": "stream",
     "text": [
      "Loading and preparing results...\n",
      "DONE (t=0.72s)\n",
      "creating index...\n",
      "index created!\n",
      "Running per image evaluation...\n",
      "Evaluate annotation type *bbox*\n",
      "DONE (t=8.16s).\n",
      "Accumulating evaluation results...\n",
      "DONE (t=1.46s).\n",
      "Average Precision  (AP) @[ IoU=0.50:0.95 | area=   all | maxDets=100 ] = 0.491\n",
      "Average Precision  (AP) @[ IoU=0.50      | area=   all | maxDets=1000 ] = 0.659\n",
      "Average Precision  (AP) @[ IoU=0.75      | area=   all | maxDets=1000 ] = 0.519\n",
      "Average Precision  (AP) @[ IoU=0.50:0.95 | area= small | maxDets=1000 ] = 0.178\n",
      "Average Precision  (AP) @[ IoU=0.50:0.95 | area=medium | maxDets=1000 ] = 0.480\n",
      "Average Precision  (AP) @[ IoU=0.50:0.95 | area= large | maxDets=1000 ] = 0.762\n",
      "Average Recall     (AR) @[ IoU=0.50:0.95 | area=   all | maxDets=100 ] = 0.582\n",
      "Average Recall     (AR) @[ IoU=0.50:0.95 | area=   all | maxDets=300 ] = 0.582\n",
      "Average Recall     (AR) @[ IoU=0.50:0.95 | area=   all | maxDets=1000 ] = 0.582\n",
      "Average Recall     (AR) @[ IoU=0.50:0.95 | area= small | maxDets=1000 ] = 0.300\n",
      "Average Recall     (AR) @[ IoU=0.50:0.95 | area=medium | maxDets=1000 ] = 0.587\n",
      "Average Recall     (AR) @[ IoU=0.50:0.95 | area= large | maxDets=1000 ] = 0.807\n"
     ]
    },
    {
     "name": "stderr",
     "output_type": "stream",
     "text": [
      "2021-05-20 15:16:22,938 - mmdet - INFO - Now best checkpoint is epoch_29.pth.Best bbox_mAP_50 is 0.6590\n",
      "2021-05-20 15:16:22,974 - mmdet - INFO - Epoch(val) [29][818]\tbbox_mAP: 0.4910, bbox_mAP_50: 0.6590, bbox_mAP_75: 0.5190, bbox_mAP_s: 0.1780, bbox_mAP_m: 0.4800, bbox_mAP_l: 0.7620, bbox_mAP_copypaste: 0.491 0.659 0.519 0.178 0.480 0.762\n",
      "/home/ubuntu/anaconda3/envs/pytorch_p36/lib/python3.6/site-packages/instaboostfast/pycococreater.py:48: VisibleDeprecationWarning: Creating an ndarray from ragged nested sequences (which is a list-or-tuple of lists-or-tuples-or ndarrays with different lengths or shapes) is deprecated. If you meant to do this, you must specify 'dtype=object' when creating the ndarray\n",
      "  contours = np.subtract(contours, 1)\n",
      "/home/ubuntu/anaconda3/envs/pytorch_p36/lib/python3.6/site-packages/instaboostfast/pycococreater.py:48: VisibleDeprecationWarning: Creating an ndarray from ragged nested sequences (which is a list-or-tuple of lists-or-tuples-or ndarrays with different lengths or shapes) is deprecated. If you meant to do this, you must specify 'dtype=object' when creating the ndarray\n",
      "  contours = np.subtract(contours, 1)\n",
      "2021-05-20 15:17:50,525 - mmdet - INFO - Epoch [30][50/818]\tlr: 5.262e-05, eta: 11:26:06, time: 1.751, data_time: 0.160, memory: 26469, loss_rpn_cls: 0.0260, loss_rpn_bbox: 0.0270, loss_semantic_seg: 0.0895, s0.loss_cls: 0.1910, s0.acc: 93.7939, s0.loss_bbox: 0.1162, s0.loss_mask: 0.2023, s1.loss_cls: 0.0859, s1.acc: 94.3071, s1.loss_bbox: 0.1011, s1.loss_mask: 0.0871, s2.loss_cls: 0.0407, s2.acc: 94.6075, s2.loss_bbox: 0.0567, s2.loss_mask: 0.0379, loss: 1.0615, grad_norm: 6.0037\n",
      "2021-05-20 15:19:11,939 - mmdet - INFO - Epoch [30][100/818]\tlr: 5.262e-05, eta: 11:24:45, time: 1.628, data_time: 0.065, memory: 26469, loss_rpn_cls: 0.0258, loss_rpn_bbox: 0.0234, loss_semantic_seg: 0.0892, s0.loss_cls: 0.1962, s0.acc: 93.5898, s0.loss_bbox: 0.1134, s0.loss_mask: 0.2013, s1.loss_cls: 0.0886, s1.acc: 94.1483, s1.loss_bbox: 0.1007, s1.loss_mask: 0.0911, s2.loss_cls: 0.0430, s2.acc: 94.1531, s2.loss_bbox: 0.0574, s2.loss_mask: 0.0415, loss: 1.0717, grad_norm: 6.7918\n",
      "2021-05-20 15:20:32,810 - mmdet - INFO - Epoch [30][150/818]\tlr: 5.262e-05, eta: 11:23:23, time: 1.617, data_time: 0.064, memory: 26469, loss_rpn_cls: 0.0247, loss_rpn_bbox: 0.0224, loss_semantic_seg: 0.0845, s0.loss_cls: 0.1779, s0.acc: 94.0996, s0.loss_bbox: 0.1053, s0.loss_mask: 0.1937, s1.loss_cls: 0.0788, s1.acc: 94.8112, s1.loss_bbox: 0.0967, s1.loss_mask: 0.0843, s2.loss_cls: 0.0379, s2.acc: 94.9816, s2.loss_bbox: 0.0548, s2.loss_mask: 0.0373, loss: 0.9984, grad_norm: 6.0807\n",
      "2021-05-20 15:21:56,387 - mmdet - INFO - Epoch [30][200/818]\tlr: 5.262e-05, eta: 11:22:04, time: 1.672, data_time: 0.074, memory: 26469, loss_rpn_cls: 0.0261, loss_rpn_bbox: 0.0255, loss_semantic_seg: 0.0973, s0.loss_cls: 0.2169, s0.acc: 93.0586, s0.loss_bbox: 0.1237, s0.loss_mask: 0.2032, s1.loss_cls: 0.0965, s1.acc: 93.8096, s1.loss_bbox: 0.1074, s1.loss_mask: 0.0910, s2.loss_cls: 0.0454, s2.acc: 94.2291, s2.loss_bbox: 0.0614, s2.loss_mask: 0.0401, loss: 1.1345, grad_norm: 6.7688\n",
      "2021-05-20 15:23:19,582 - mmdet - INFO - Epoch [30][250/818]\tlr: 5.262e-05, eta: 11:20:45, time: 1.664, data_time: 0.075, memory: 26469, loss_rpn_cls: 0.0290, loss_rpn_bbox: 0.0268, loss_semantic_seg: 0.0932, s0.loss_cls: 0.1918, s0.acc: 93.6172, s0.loss_bbox: 0.1125, s0.loss_mask: 0.1884, s1.loss_cls: 0.0844, s1.acc: 94.3925, s1.loss_bbox: 0.1001, s1.loss_mask: 0.0815, s2.loss_cls: 0.0404, s2.acc: 94.4708, s2.loss_bbox: 0.0574, s2.loss_mask: 0.0368, loss: 1.0422, grad_norm: 6.4145\n",
      "2021-05-20 15:24:43,219 - mmdet - INFO - Epoch [30][300/818]\tlr: 5.262e-05, eta: 11:19:26, time: 1.673, data_time: 0.073, memory: 26469, loss_rpn_cls: 0.0269, loss_rpn_bbox: 0.0252, loss_semantic_seg: 0.0955, s0.loss_cls: 0.2140, s0.acc: 92.9619, s0.loss_bbox: 0.1225, s0.loss_mask: 0.1892, s1.loss_cls: 0.0962, s1.acc: 93.7229, s1.loss_bbox: 0.1097, s1.loss_mask: 0.0832, s2.loss_cls: 0.0461, s2.acc: 93.8447, s2.loss_bbox: 0.0623, s2.loss_mask: 0.0365, loss: 1.1073, grad_norm: 6.1639\n",
      "2021-05-20 15:26:05,654 - mmdet - INFO - Epoch [30][350/818]\tlr: 5.262e-05, eta: 11:18:06, time: 1.649, data_time: 0.062, memory: 26469, loss_rpn_cls: 0.0299, loss_rpn_bbox: 0.0209, loss_semantic_seg: 0.0819, s0.loss_cls: 0.1878, s0.acc: 93.9023, s0.loss_bbox: 0.1058, s0.loss_mask: 0.1865, s1.loss_cls: 0.0843, s1.acc: 94.5887, s1.loss_bbox: 0.0975, s1.loss_mask: 0.0806, s2.loss_cls: 0.0408, s2.acc: 94.6856, s2.loss_bbox: 0.0559, s2.loss_mask: 0.0363, loss: 1.0081, grad_norm: 6.4642\n",
      "2021-05-20 15:27:30,684 - mmdet - INFO - Epoch [30][400/818]\tlr: 5.262e-05, eta: 11:16:48, time: 1.701, data_time: 0.075, memory: 26469, loss_rpn_cls: 0.0311, loss_rpn_bbox: 0.0283, loss_semantic_seg: 0.1016, s0.loss_cls: 0.2070, s0.acc: 93.0947, s0.loss_bbox: 0.1290, s0.loss_mask: 0.1984, s1.loss_cls: 0.0915, s1.acc: 93.9612, s1.loss_bbox: 0.1132, s1.loss_mask: 0.0875, s2.loss_cls: 0.0433, s2.acc: 94.2146, s2.loss_bbox: 0.0655, s2.loss_mask: 0.0394, loss: 1.1358, grad_norm: 6.4635\n",
      "2021-05-20 15:28:53,490 - mmdet - INFO - Epoch [30][450/818]\tlr: 5.262e-05, eta: 11:15:28, time: 1.656, data_time: 0.080, memory: 26469, loss_rpn_cls: 0.0273, loss_rpn_bbox: 0.0245, loss_semantic_seg: 0.0928, s0.loss_cls: 0.1940, s0.acc: 93.5947, s0.loss_bbox: 0.1151, s0.loss_mask: 0.1960, s1.loss_cls: 0.0886, s1.acc: 94.1388, s1.loss_bbox: 0.1042, s1.loss_mask: 0.0858, s2.loss_cls: 0.0427, s2.acc: 94.2056, s2.loss_bbox: 0.0591, s2.loss_mask: 0.0384, loss: 1.0685, grad_norm: 6.5274\n",
      "2021-05-20 15:30:15,676 - mmdet - INFO - Epoch [30][500/818]\tlr: 5.262e-05, eta: 11:14:08, time: 1.644, data_time: 0.073, memory: 26469, loss_rpn_cls: 0.0307, loss_rpn_bbox: 0.0236, loss_semantic_seg: 0.0877, s0.loss_cls: 0.2103, s0.acc: 93.1787, s0.loss_bbox: 0.1183, s0.loss_mask: 0.1959, s1.loss_cls: 0.0947, s1.acc: 93.9240, s1.loss_bbox: 0.1054, s1.loss_mask: 0.0860, s2.loss_cls: 0.0453, s2.acc: 93.9847, s2.loss_bbox: 0.0595, s2.loss_mask: 0.0385, loss: 1.0962, grad_norm: 6.4545\n",
      "2021-05-20 15:31:39,295 - mmdet - INFO - Epoch [30][550/818]\tlr: 5.262e-05, eta: 11:12:49, time: 1.672, data_time: 0.068, memory: 26469, loss_rpn_cls: 0.0333, loss_rpn_bbox: 0.0264, loss_semantic_seg: 0.0970, s0.loss_cls: 0.2065, s0.acc: 93.3945, s0.loss_bbox: 0.1198, s0.loss_mask: 0.2075, s1.loss_cls: 0.0911, s1.acc: 94.2169, s1.loss_bbox: 0.1044, s1.loss_mask: 0.0937, s2.loss_cls: 0.0435, s2.acc: 94.3000, s2.loss_bbox: 0.0571, s2.loss_mask: 0.0417, loss: 1.1221, grad_norm: 6.0198\n",
      "2021-05-20 15:33:03,215 - mmdet - INFO - Epoch [30][600/818]\tlr: 5.262e-05, eta: 11:11:30, time: 1.678, data_time: 0.069, memory: 26469, loss_rpn_cls: 0.0266, loss_rpn_bbox: 0.0227, loss_semantic_seg: 0.0895, s0.loss_cls: 0.1944, s0.acc: 93.5605, s0.loss_bbox: 0.1152, s0.loss_mask: 0.1988, s1.loss_cls: 0.0877, s1.acc: 94.2398, s1.loss_bbox: 0.1047, s1.loss_mask: 0.0851, s2.loss_cls: 0.0419, s2.acc: 94.4769, s2.loss_bbox: 0.0576, s2.loss_mask: 0.0385, loss: 1.0629, grad_norm: 6.1447\n",
      "2021-05-20 15:34:27,510 - mmdet - INFO - Epoch [30][650/818]\tlr: 5.262e-05, eta: 11:10:12, time: 1.686, data_time: 0.063, memory: 26469, loss_rpn_cls: 0.0253, loss_rpn_bbox: 0.0258, loss_semantic_seg: 0.1017, s0.loss_cls: 0.1926, s0.acc: 93.6240, s0.loss_bbox: 0.1072, s0.loss_mask: 0.1786, s1.loss_cls: 0.0853, s1.acc: 94.4463, s1.loss_bbox: 0.0931, s1.loss_mask: 0.0772, s2.loss_cls: 0.0412, s2.acc: 94.6203, s2.loss_bbox: 0.0532, s2.loss_mask: 0.0349, loss: 1.0162, grad_norm: 6.1134\n",
      "2021-05-20 15:35:49,700 - mmdet - INFO - Epoch [30][700/818]\tlr: 5.262e-05, eta: 11:08:51, time: 1.644, data_time: 0.065, memory: 26469, loss_rpn_cls: 0.0243, loss_rpn_bbox: 0.0246, loss_semantic_seg: 0.0961, s0.loss_cls: 0.1933, s0.acc: 93.5342, s0.loss_bbox: 0.1155, s0.loss_mask: 0.2055, s1.loss_cls: 0.0876, s1.acc: 94.1613, s1.loss_bbox: 0.1029, s1.loss_mask: 0.0893, s2.loss_cls: 0.0416, s2.acc: 94.4911, s2.loss_bbox: 0.0568, s2.loss_mask: 0.0404, loss: 1.0779, grad_norm: 6.4114\n",
      "2021-05-20 15:37:13,049 - mmdet - INFO - Epoch [30][750/818]\tlr: 5.262e-05, eta: 11:07:32, time: 1.667, data_time: 0.070, memory: 26469, loss_rpn_cls: 0.0236, loss_rpn_bbox: 0.0215, loss_semantic_seg: 0.0878, s0.loss_cls: 0.1888, s0.acc: 93.6484, s0.loss_bbox: 0.1091, s0.loss_mask: 0.1957, s1.loss_cls: 0.0828, s1.acc: 94.3666, s1.loss_bbox: 0.0929, s1.loss_mask: 0.0847, s2.loss_cls: 0.0394, s2.acc: 94.6675, s2.loss_bbox: 0.0516, s2.loss_mask: 0.0381, loss: 1.0160, grad_norm: 6.2684\n"
     ]
    },
    {
     "name": "stderr",
     "output_type": "stream",
     "text": [
      "2021-05-20 15:38:38,266 - mmdet - INFO - Epoch [30][800/818]\tlr: 5.262e-05, eta: 11:06:14, time: 1.704, data_time: 0.072, memory: 26469, loss_rpn_cls: 0.0244, loss_rpn_bbox: 0.0230, loss_semantic_seg: 0.1004, s0.loss_cls: 0.1939, s0.acc: 93.4424, s0.loss_bbox: 0.1120, s0.loss_mask: 0.1988, s1.loss_cls: 0.0883, s1.acc: 94.0206, s1.loss_bbox: 0.1014, s1.loss_mask: 0.0892, s2.loss_cls: 0.0429, s2.acc: 94.2146, s2.loss_bbox: 0.0579, s2.loss_mask: 0.0405, loss: 1.0726, grad_norm: 7.2067\n",
      "2021-05-20 15:39:07,863 - mmdet - INFO - Saving checkpoint at 30 epochs\n"
     ]
    },
    {
     "name": "stdout",
     "output_type": "stream",
     "text": [
      "[>>>>>>>>>>>>>>>>>>>>>>>>>>>>>] 655/655, 4.0 task/s, elapsed: 164s, ETA:     0s"
     ]
    },
    {
     "name": "stderr",
     "output_type": "stream",
     "text": [
      "2021-05-20 15:41:58,468 - mmdet - INFO - Evaluating bbox...\n"
     ]
    },
    {
     "name": "stdout",
     "output_type": "stream",
     "text": [
      "Loading and preparing results...\n",
      "DONE (t=0.72s)\n",
      "creating index...\n",
      "index created!\n",
      "Running per image evaluation...\n",
      "Evaluate annotation type *bbox*\n",
      "DONE (t=7.19s).\n",
      "Accumulating evaluation results...\n",
      "DONE (t=1.30s).\n",
      "Average Precision  (AP) @[ IoU=0.50:0.95 | area=   all | maxDets=100 ] = 0.508\n",
      "Average Precision  (AP) @[ IoU=0.50      | area=   all | maxDets=1000 ] = 0.668\n",
      "Average Precision  (AP) @[ IoU=0.75      | area=   all | maxDets=1000 ] = 0.548\n",
      "Average Precision  (AP) @[ IoU=0.50:0.95 | area= small | maxDets=1000 ] = 0.182\n",
      "Average Precision  (AP) @[ IoU=0.50:0.95 | area=medium | maxDets=1000 ] = 0.510\n",
      "Average Precision  (AP) @[ IoU=0.50:0.95 | area= large | maxDets=1000 ] = 0.770\n",
      "Average Recall     (AR) @[ IoU=0.50:0.95 | area=   all | maxDets=100 ] = 0.595\n",
      "Average Recall     (AR) @[ IoU=0.50:0.95 | area=   all | maxDets=300 ] = 0.595\n",
      "Average Recall     (AR) @[ IoU=0.50:0.95 | area=   all | maxDets=1000 ] = 0.595\n",
      "Average Recall     (AR) @[ IoU=0.50:0.95 | area= small | maxDets=1000 ] = 0.310\n",
      "Average Recall     (AR) @[ IoU=0.50:0.95 | area=medium | maxDets=1000 ] = 0.608\n",
      "Average Recall     (AR) @[ IoU=0.50:0.95 | area= large | maxDets=1000 ] = 0.810\n"
     ]
    },
    {
     "name": "stderr",
     "output_type": "stream",
     "text": [
      "2021-05-20 15:42:11,271 - mmdet - INFO - Now best checkpoint is epoch_30.pth.Best bbox_mAP_50 is 0.6680\n",
      "2021-05-20 15:42:11,303 - mmdet - INFO - Epoch(val) [30][818]\tbbox_mAP: 0.5080, bbox_mAP_50: 0.6680, bbox_mAP_75: 0.5480, bbox_mAP_s: 0.1820, bbox_mAP_m: 0.5100, bbox_mAP_l: 0.7700, bbox_mAP_copypaste: 0.508 0.668 0.548 0.182 0.510 0.770\n",
      "/home/ubuntu/anaconda3/envs/pytorch_p36/lib/python3.6/site-packages/instaboostfast/pycococreater.py:48: VisibleDeprecationWarning: Creating an ndarray from ragged nested sequences (which is a list-or-tuple of lists-or-tuples-or ndarrays with different lengths or shapes) is deprecated. If you meant to do this, you must specify 'dtype=object' when creating the ndarray\n",
      "  contours = np.subtract(contours, 1)\n",
      "/home/ubuntu/anaconda3/envs/pytorch_p36/lib/python3.6/site-packages/instaboostfast/pycococreater.py:48: VisibleDeprecationWarning: Creating an ndarray from ragged nested sequences (which is a list-or-tuple of lists-or-tuples-or ndarrays with different lengths or shapes) is deprecated. If you meant to do this, you must specify 'dtype=object' when creating the ndarray\n",
      "  contours = np.subtract(contours, 1)\n",
      "2021-05-20 15:43:39,171 - mmdet - INFO - Epoch [31][50/818]\tlr: 5.000e-05, eta: 11:04:01, time: 1.757, data_time: 0.171, memory: 26469, loss_rpn_cls: 0.0275, loss_rpn_bbox: 0.0229, loss_semantic_seg: 0.0920, s0.loss_cls: 0.1828, s0.acc: 93.9014, s0.loss_bbox: 0.1119, s0.loss_mask: 0.1857, s1.loss_cls: 0.0822, s1.acc: 94.6150, s1.loss_bbox: 0.0966, s1.loss_mask: 0.0811, s2.loss_cls: 0.0392, s2.acc: 94.8043, s2.loss_bbox: 0.0543, s2.loss_mask: 0.0360, loss: 1.0124, grad_norm: 6.4389\n",
      "2021-05-20 15:45:03,639 - mmdet - INFO - Epoch [31][100/818]\tlr: 5.000e-05, eta: 11:02:42, time: 1.689, data_time: 0.077, memory: 26469, loss_rpn_cls: 0.0257, loss_rpn_bbox: 0.0235, loss_semantic_seg: 0.0932, s0.loss_cls: 0.1849, s0.acc: 94.0547, s0.loss_bbox: 0.1065, s0.loss_mask: 0.1872, s1.loss_cls: 0.0840, s1.acc: 94.5744, s1.loss_bbox: 0.0959, s1.loss_mask: 0.0808, s2.loss_cls: 0.0402, s2.acc: 94.7646, s2.loss_bbox: 0.0546, s2.loss_mask: 0.0362, loss: 1.0128, grad_norm: 6.8984\n",
      "2021-05-20 15:46:25,667 - mmdet - INFO - Epoch [31][150/818]\tlr: 5.000e-05, eta: 11:01:22, time: 1.641, data_time: 0.064, memory: 26469, loss_rpn_cls: 0.0261, loss_rpn_bbox: 0.0231, loss_semantic_seg: 0.0938, s0.loss_cls: 0.1848, s0.acc: 93.8975, s0.loss_bbox: 0.1104, s0.loss_mask: 0.2029, s1.loss_cls: 0.0844, s1.acc: 94.3172, s1.loss_bbox: 0.0977, s1.loss_mask: 0.0880, s2.loss_cls: 0.0398, s2.acc: 94.6435, s2.loss_bbox: 0.0553, s2.loss_mask: 0.0392, loss: 1.0456, grad_norm: 6.4495\n",
      "2021-05-20 15:47:48,801 - mmdet - INFO - Epoch [31][200/818]\tlr: 5.000e-05, eta: 11:00:02, time: 1.663, data_time: 0.066, memory: 26469, loss_rpn_cls: 0.0259, loss_rpn_bbox: 0.0252, loss_semantic_seg: 0.0962, s0.loss_cls: 0.1850, s0.acc: 93.8496, s0.loss_bbox: 0.1159, s0.loss_mask: 0.2031, s1.loss_cls: 0.0850, s1.acc: 94.2868, s1.loss_bbox: 0.1024, s1.loss_mask: 0.0891, s2.loss_cls: 0.0405, s2.acc: 94.3520, s2.loss_bbox: 0.0573, s2.loss_mask: 0.0405, loss: 1.0660, grad_norm: 6.1213\n",
      "2021-05-20 15:49:09,760 - mmdet - INFO - Epoch [31][250/818]\tlr: 5.000e-05, eta: 10:58:40, time: 1.619, data_time: 0.068, memory: 26469, loss_rpn_cls: 0.0283, loss_rpn_bbox: 0.0230, loss_semantic_seg: 0.0977, s0.loss_cls: 0.1944, s0.acc: 93.5938, s0.loss_bbox: 0.1149, s0.loss_mask: 0.2002, s1.loss_cls: 0.0864, s1.acc: 94.2580, s1.loss_bbox: 0.1002, s1.loss_mask: 0.0899, s2.loss_cls: 0.0429, s2.acc: 94.2599, s2.loss_bbox: 0.0561, s2.loss_mask: 0.0397, loss: 1.0738, grad_norm: 6.4133\n",
      "2021-05-20 15:50:30,235 - mmdet - INFO - Epoch [31][300/818]\tlr: 5.000e-05, eta: 10:57:18, time: 1.609, data_time: 0.079, memory: 26469, loss_rpn_cls: 0.0276, loss_rpn_bbox: 0.0280, loss_semantic_seg: 0.1022, s0.loss_cls: 0.1989, s0.acc: 93.3740, s0.loss_bbox: 0.1202, s0.loss_mask: 0.1918, s1.loss_cls: 0.0902, s1.acc: 94.0644, s1.loss_bbox: 0.1029, s1.loss_mask: 0.0833, s2.loss_cls: 0.0424, s2.acc: 94.3378, s2.loss_bbox: 0.0570, s2.loss_mask: 0.0370, loss: 1.0813, grad_norm: 6.2919\n",
      "2021-05-20 15:51:52,521 - mmdet - INFO - Epoch [31][350/818]\tlr: 5.000e-05, eta: 10:55:58, time: 1.646, data_time: 0.066, memory: 26469, loss_rpn_cls: 0.0291, loss_rpn_bbox: 0.0257, loss_semantic_seg: 0.0914, s0.loss_cls: 0.1873, s0.acc: 93.6133, s0.loss_bbox: 0.1145, s0.loss_mask: 0.1933, s1.loss_cls: 0.0839, s1.acc: 94.2825, s1.loss_bbox: 0.1010, s1.loss_mask: 0.0850, s2.loss_cls: 0.0404, s2.acc: 94.5068, s2.loss_bbox: 0.0592, s2.loss_mask: 0.0378, loss: 1.0485, grad_norm: 6.4739\n",
      "2021-05-20 15:53:13,763 - mmdet - INFO - Epoch [31][400/818]\tlr: 5.000e-05, eta: 10:54:36, time: 1.625, data_time: 0.070, memory: 26469, loss_rpn_cls: 0.0248, loss_rpn_bbox: 0.0224, loss_semantic_seg: 0.1055, s0.loss_cls: 0.1912, s0.acc: 93.8047, s0.loss_bbox: 0.1241, s0.loss_mask: 0.2146, s1.loss_cls: 0.0842, s1.acc: 94.4883, s1.loss_bbox: 0.1070, s1.loss_mask: 0.0959, s2.loss_cls: 0.0409, s2.acc: 94.5565, s2.loss_bbox: 0.0586, s2.loss_mask: 0.0420, loss: 1.1111, grad_norm: 6.5184\n",
      "2021-05-20 15:54:35,537 - mmdet - INFO - Epoch [31][450/818]\tlr: 5.000e-05, eta: 10:53:15, time: 1.635, data_time: 0.070, memory: 26469, loss_rpn_cls: 0.0327, loss_rpn_bbox: 0.0263, loss_semantic_seg: 0.0979, s0.loss_cls: 0.1931, s0.acc: 93.6875, s0.loss_bbox: 0.1116, s0.loss_mask: 0.1876, s1.loss_cls: 0.0861, s1.acc: 94.4950, s1.loss_bbox: 0.0992, s1.loss_mask: 0.0831, s2.loss_cls: 0.0411, s2.acc: 94.7590, s2.loss_bbox: 0.0564, s2.loss_mask: 0.0374, loss: 1.0526, grad_norm: 6.6864\n",
      "2021-05-20 15:55:57,917 - mmdet - INFO - Epoch [31][500/818]\tlr: 5.000e-05, eta: 10:51:55, time: 1.648, data_time: 0.060, memory: 26469, loss_rpn_cls: 0.0217, loss_rpn_bbox: 0.0196, loss_semantic_seg: 0.0927, s0.loss_cls: 0.1708, s0.acc: 94.3506, s0.loss_bbox: 0.1058, s0.loss_mask: 0.1861, s1.loss_cls: 0.0754, s1.acc: 94.9410, s1.loss_bbox: 0.0946, s1.loss_mask: 0.0800, s2.loss_cls: 0.0371, s2.acc: 94.8723, s2.loss_bbox: 0.0546, s2.loss_mask: 0.0362, loss: 0.9746, grad_norm: 6.6785\n",
      "2021-05-20 15:57:22,408 - mmdet - INFO - Epoch [31][550/818]\tlr: 5.000e-05, eta: 10:50:37, time: 1.690, data_time: 0.078, memory: 26469, loss_rpn_cls: 0.0266, loss_rpn_bbox: 0.0283, loss_semantic_seg: 0.0982, s0.loss_cls: 0.2096, s0.acc: 93.0879, s0.loss_bbox: 0.1237, s0.loss_mask: 0.1988, s1.loss_cls: 0.0931, s1.acc: 93.9356, s1.loss_bbox: 0.1068, s1.loss_mask: 0.0871, s2.loss_cls: 0.0446, s2.acc: 94.0385, s2.loss_bbox: 0.0604, s2.loss_mask: 0.0386, loss: 1.1159, grad_norm: 6.4750\n",
      "2021-05-20 15:58:44,846 - mmdet - INFO - Epoch [31][600/818]\tlr: 5.000e-05, eta: 10:49:16, time: 1.649, data_time: 0.065, memory: 26469, loss_rpn_cls: 0.0252, loss_rpn_bbox: 0.0257, loss_semantic_seg: 0.0948, s0.loss_cls: 0.1844, s0.acc: 93.9209, s0.loss_bbox: 0.1070, s0.loss_mask: 0.1876, s1.loss_cls: 0.0823, s1.acc: 94.6272, s1.loss_bbox: 0.0990, s1.loss_mask: 0.0835, s2.loss_cls: 0.0401, s2.acc: 94.7460, s2.loss_bbox: 0.0578, s2.loss_mask: 0.0372, loss: 1.0245, grad_norm: 6.2053\n",
      "2021-05-20 16:00:08,114 - mmdet - INFO - Epoch [31][650/818]\tlr: 5.000e-05, eta: 10:47:57, time: 1.665, data_time: 0.075, memory: 26469, loss_rpn_cls: 0.0251, loss_rpn_bbox: 0.0249, loss_semantic_seg: 0.0875, s0.loss_cls: 0.1847, s0.acc: 94.0020, s0.loss_bbox: 0.1095, s0.loss_mask: 0.1951, s1.loss_cls: 0.0829, s1.acc: 94.6769, s1.loss_bbox: 0.0974, s1.loss_mask: 0.0837, s2.loss_cls: 0.0396, s2.acc: 94.7908, s2.loss_bbox: 0.0552, s2.loss_mask: 0.0378, loss: 1.0233, grad_norm: 5.9568\n",
      "2021-05-20 16:01:32,143 - mmdet - INFO - Epoch [31][700/818]\tlr: 5.000e-05, eta: 10:46:38, time: 1.681, data_time: 0.076, memory: 26469, loss_rpn_cls: 0.0317, loss_rpn_bbox: 0.0294, loss_semantic_seg: 0.0829, s0.loss_cls: 0.2054, s0.acc: 93.0732, s0.loss_bbox: 0.1226, s0.loss_mask: 0.1997, s1.loss_cls: 0.0940, s1.acc: 93.7404, s1.loss_bbox: 0.1073, s1.loss_mask: 0.0855, s2.loss_cls: 0.0441, s2.acc: 94.1213, s2.loss_bbox: 0.0575, s2.loss_mask: 0.0376, loss: 1.0977, grad_norm: 6.4154\n",
      "2021-05-20 16:02:53,338 - mmdet - INFO - Epoch [31][750/818]\tlr: 5.000e-05, eta: 10:45:16, time: 1.624, data_time: 0.071, memory: 26469, loss_rpn_cls: 0.0275, loss_rpn_bbox: 0.0238, loss_semantic_seg: 0.0924, s0.loss_cls: 0.1989, s0.acc: 93.3838, s0.loss_bbox: 0.1240, s0.loss_mask: 0.2023, s1.loss_cls: 0.0882, s1.acc: 94.1670, s1.loss_bbox: 0.1079, s1.loss_mask: 0.0883, s2.loss_cls: 0.0413, s2.acc: 94.5006, s2.loss_bbox: 0.0576, s2.loss_mask: 0.0390, loss: 1.0913, grad_norm: 6.5010\n"
     ]
    },
    {
     "name": "stderr",
     "output_type": "stream",
     "text": [
      "2021-05-20 16:04:16,927 - mmdet - INFO - Epoch [31][800/818]\tlr: 5.000e-05, eta: 10:43:57, time: 1.672, data_time: 0.071, memory: 26469, loss_rpn_cls: 0.0249, loss_rpn_bbox: 0.0232, loss_semantic_seg: 0.1029, s0.loss_cls: 0.1979, s0.acc: 93.5127, s0.loss_bbox: 0.1160, s0.loss_mask: 0.1946, s1.loss_cls: 0.0903, s1.acc: 94.0939, s1.loss_bbox: 0.1065, s1.loss_mask: 0.0844, s2.loss_cls: 0.0430, s2.acc: 94.2703, s2.loss_bbox: 0.0621, s2.loss_mask: 0.0367, loss: 1.0826, grad_norm: 7.2117\n",
      "2021-05-20 16:04:46,234 - mmdet - INFO - Saving checkpoint at 31 epochs\n"
     ]
    },
    {
     "name": "stdout",
     "output_type": "stream",
     "text": [
      "[>>>>>>>>>>>>>>>>>>>>>>>>>>>>>] 655/655, 4.0 task/s, elapsed: 165s, ETA:     0s"
     ]
    },
    {
     "name": "stderr",
     "output_type": "stream",
     "text": [
      "2021-05-20 16:07:37,575 - mmdet - INFO - Evaluating bbox...\n"
     ]
    },
    {
     "name": "stdout",
     "output_type": "stream",
     "text": [
      "Loading and preparing results...\n",
      "DONE (t=1.22s)\n",
      "creating index...\n",
      "index created!\n",
      "Running per image evaluation...\n",
      "Evaluate annotation type *bbox*\n",
      "DONE (t=7.13s).\n",
      "Accumulating evaluation results...\n"
     ]
    },
    {
     "name": "stderr",
     "output_type": "stream",
     "text": [
      "2021-05-20 16:07:47,427 - mmdet - INFO - Epoch(val) [31][818]\tbbox_mAP: 0.5060, bbox_mAP_50: 0.6660, bbox_mAP_75: 0.5480, bbox_mAP_s: 0.2070, bbox_mAP_m: 0.4970, bbox_mAP_l: 0.7670, bbox_mAP_copypaste: 0.506 0.666 0.548 0.207 0.497 0.767\n"
     ]
    },
    {
     "name": "stdout",
     "output_type": "stream",
     "text": [
      "DONE (t=1.37s).\n",
      "Average Precision  (AP) @[ IoU=0.50:0.95 | area=   all | maxDets=100 ] = 0.506\n",
      "Average Precision  (AP) @[ IoU=0.50      | area=   all | maxDets=1000 ] = 0.666\n",
      "Average Precision  (AP) @[ IoU=0.75      | area=   all | maxDets=1000 ] = 0.548\n",
      "Average Precision  (AP) @[ IoU=0.50:0.95 | area= small | maxDets=1000 ] = 0.207\n",
      "Average Precision  (AP) @[ IoU=0.50:0.95 | area=medium | maxDets=1000 ] = 0.497\n",
      "Average Precision  (AP) @[ IoU=0.50:0.95 | area= large | maxDets=1000 ] = 0.767\n",
      "Average Recall     (AR) @[ IoU=0.50:0.95 | area=   all | maxDets=100 ] = 0.604\n",
      "Average Recall     (AR) @[ IoU=0.50:0.95 | area=   all | maxDets=300 ] = 0.604\n",
      "Average Recall     (AR) @[ IoU=0.50:0.95 | area=   all | maxDets=1000 ] = 0.604\n",
      "Average Recall     (AR) @[ IoU=0.50:0.95 | area= small | maxDets=1000 ] = 0.334\n",
      "Average Recall     (AR) @[ IoU=0.50:0.95 | area=medium | maxDets=1000 ] = 0.612\n",
      "Average Recall     (AR) @[ IoU=0.50:0.95 | area= large | maxDets=1000 ] = 0.830\n"
     ]
    },
    {
     "name": "stderr",
     "output_type": "stream",
     "text": [
      "/home/ubuntu/anaconda3/envs/pytorch_p36/lib/python3.6/site-packages/instaboostfast/pycococreater.py:48: VisibleDeprecationWarning: Creating an ndarray from ragged nested sequences (which is a list-or-tuple of lists-or-tuples-or ndarrays with different lengths or shapes) is deprecated. If you meant to do this, you must specify 'dtype=object' when creating the ndarray\n",
      "  contours = np.subtract(contours, 1)\n",
      "/home/ubuntu/anaconda3/envs/pytorch_p36/lib/python3.6/site-packages/instaboostfast/pycococreater.py:48: VisibleDeprecationWarning: Creating an ndarray from ragged nested sequences (which is a list-or-tuple of lists-or-tuples-or ndarrays with different lengths or shapes) is deprecated. If you meant to do this, you must specify 'dtype=object' when creating the ndarray\n",
      "  contours = np.subtract(contours, 1)\n",
      "2021-05-20 16:09:13,486 - mmdet - INFO - Epoch [32][50/818]\tlr: 4.738e-05, eta: 10:41:43, time: 1.721, data_time: 0.152, memory: 26469, loss_rpn_cls: 0.0254, loss_rpn_bbox: 0.0243, loss_semantic_seg: 0.0937, s0.loss_cls: 0.1879, s0.acc: 93.7998, s0.loss_bbox: 0.1092, s0.loss_mask: 0.2006, s1.loss_cls: 0.0833, s1.acc: 94.4755, s1.loss_bbox: 0.0959, s1.loss_mask: 0.0884, s2.loss_cls: 0.0387, s2.acc: 94.7485, s2.loss_bbox: 0.0529, s2.loss_mask: 0.0387, loss: 1.0390, grad_norm: 6.2999\n",
      "2021-05-20 16:10:33,074 - mmdet - INFO - Epoch [32][100/818]\tlr: 4.738e-05, eta: 10:40:21, time: 1.592, data_time: 0.066, memory: 26469, loss_rpn_cls: 0.0237, loss_rpn_bbox: 0.0221, loss_semantic_seg: 0.0961, s0.loss_cls: 0.1629, s0.acc: 94.5859, s0.loss_bbox: 0.0957, s0.loss_mask: 0.1892, s1.loss_cls: 0.0744, s1.acc: 95.0870, s1.loss_bbox: 0.0913, s1.loss_mask: 0.0851, s2.loss_cls: 0.0356, s2.acc: 95.1183, s2.loss_bbox: 0.0519, s2.loss_mask: 0.0382, loss: 0.9663, grad_norm: 6.4803\n",
      "2021-05-20 16:11:56,649 - mmdet - INFO - Epoch [32][150/818]\tlr: 4.738e-05, eta: 10:39:01, time: 1.671, data_time: 0.070, memory: 26469, loss_rpn_cls: 0.0217, loss_rpn_bbox: 0.0195, loss_semantic_seg: 0.0950, s0.loss_cls: 0.1747, s0.acc: 94.3193, s0.loss_bbox: 0.0987, s0.loss_mask: 0.1852, s1.loss_cls: 0.0762, s1.acc: 95.1601, s1.loss_bbox: 0.0857, s1.loss_mask: 0.0809, s2.loss_cls: 0.0362, s2.acc: 95.3243, s2.loss_bbox: 0.0484, s2.loss_mask: 0.0364, loss: 0.9584, grad_norm: 6.4289\n",
      "2021-05-20 16:13:21,039 - mmdet - INFO - Epoch [32][200/818]\tlr: 4.738e-05, eta: 10:37:43, time: 1.688, data_time: 0.071, memory: 26469, loss_rpn_cls: 0.0267, loss_rpn_bbox: 0.0268, loss_semantic_seg: 0.0909, s0.loss_cls: 0.2203, s0.acc: 92.6348, s0.loss_bbox: 0.1347, s0.loss_mask: 0.1961, s1.loss_cls: 0.0980, s1.acc: 93.4821, s1.loss_bbox: 0.1148, s1.loss_mask: 0.0851, s2.loss_cls: 0.0465, s2.acc: 93.6168, s2.loss_bbox: 0.0633, s2.loss_mask: 0.0378, loss: 1.1409, grad_norm: 6.4292\n",
      "2021-05-20 16:14:42,045 - mmdet - INFO - Epoch [32][250/818]\tlr: 4.738e-05, eta: 10:36:21, time: 1.620, data_time: 0.068, memory: 26469, loss_rpn_cls: 0.0316, loss_rpn_bbox: 0.0236, loss_semantic_seg: 0.0939, s0.loss_cls: 0.1834, s0.acc: 93.8652, s0.loss_bbox: 0.1103, s0.loss_mask: 0.2043, s1.loss_cls: 0.0834, s1.acc: 94.4639, s1.loss_bbox: 0.1003, s1.loss_mask: 0.0879, s2.loss_cls: 0.0392, s2.acc: 94.7048, s2.loss_bbox: 0.0559, s2.loss_mask: 0.0393, loss: 1.0529, grad_norm: 6.5326\n",
      "2021-05-20 16:16:01,883 - mmdet - INFO - Epoch [32][300/818]\tlr: 4.738e-05, eta: 10:34:58, time: 1.597, data_time: 0.056, memory: 26469, loss_rpn_cls: 0.0225, loss_rpn_bbox: 0.0210, loss_semantic_seg: 0.0872, s0.loss_cls: 0.1721, s0.acc: 94.2539, s0.loss_bbox: 0.1005, s0.loss_mask: 0.1784, s1.loss_cls: 0.0763, s1.acc: 94.8010, s1.loss_bbox: 0.0897, s1.loss_mask: 0.0778, s2.loss_cls: 0.0369, s2.acc: 94.9424, s2.loss_bbox: 0.0530, s2.loss_mask: 0.0353, loss: 0.9506, grad_norm: 6.1326\n",
      "2021-05-20 16:17:26,771 - mmdet - INFO - Epoch [32][350/818]\tlr: 4.738e-05, eta: 10:33:40, time: 1.698, data_time: 0.066, memory: 26469, loss_rpn_cls: 0.0222, loss_rpn_bbox: 0.0218, loss_semantic_seg: 0.1097, s0.loss_cls: 0.1895, s0.acc: 93.6299, s0.loss_bbox: 0.1148, s0.loss_mask: 0.2056, s1.loss_cls: 0.0870, s1.acc: 94.0853, s1.loss_bbox: 0.1054, s1.loss_mask: 0.0914, s2.loss_cls: 0.0425, s2.acc: 94.2085, s2.loss_bbox: 0.0603, s2.loss_mask: 0.0401, loss: 1.0904, grad_norm: 6.6154\n",
      "2021-05-20 16:18:50,327 - mmdet - INFO - Epoch [32][400/818]\tlr: 4.738e-05, eta: 10:32:21, time: 1.671, data_time: 0.064, memory: 26469, loss_rpn_cls: 0.0245, loss_rpn_bbox: 0.0209, loss_semantic_seg: 0.0936, s0.loss_cls: 0.1722, s0.acc: 94.3721, s0.loss_bbox: 0.1021, s0.loss_mask: 0.1732, s1.loss_cls: 0.0769, s1.acc: 95.0496, s1.loss_bbox: 0.0902, s1.loss_mask: 0.0753, s2.loss_cls: 0.0371, s2.acc: 95.1071, s2.loss_bbox: 0.0531, s2.loss_mask: 0.0339, loss: 0.9530, grad_norm: 6.5580\n",
      "2021-05-20 16:20:13,300 - mmdet - INFO - Epoch [32][450/818]\tlr: 4.738e-05, eta: 10:31:01, time: 1.659, data_time: 0.067, memory: 26469, loss_rpn_cls: 0.0244, loss_rpn_bbox: 0.0229, loss_semantic_seg: 0.0946, s0.loss_cls: 0.1861, s0.acc: 93.6963, s0.loss_bbox: 0.1154, s0.loss_mask: 0.1897, s1.loss_cls: 0.0835, s1.acc: 94.2993, s1.loss_bbox: 0.1014, s1.loss_mask: 0.0816, s2.loss_cls: 0.0403, s2.acc: 94.3473, s2.loss_bbox: 0.0557, s2.loss_mask: 0.0368, loss: 1.0323, grad_norm: 6.6502\n",
      "2021-05-20 16:21:34,901 - mmdet - INFO - Epoch [32][500/818]\tlr: 4.738e-05, eta: 10:29:40, time: 1.632, data_time: 0.066, memory: 26469, loss_rpn_cls: 0.0238, loss_rpn_bbox: 0.0216, loss_semantic_seg: 0.0917, s0.loss_cls: 0.1739, s0.acc: 94.2334, s0.loss_bbox: 0.1018, s0.loss_mask: 0.1826, s1.loss_cls: 0.0775, s1.acc: 94.8996, s1.loss_bbox: 0.0932, s1.loss_mask: 0.0790, s2.loss_cls: 0.0367, s2.acc: 95.1056, s2.loss_bbox: 0.0542, s2.loss_mask: 0.0350, loss: 0.9709, grad_norm: 6.3337\n",
      "2021-05-20 16:22:59,581 - mmdet - INFO - Epoch [32][550/818]\tlr: 4.738e-05, eta: 10:28:22, time: 1.694, data_time: 0.074, memory: 26469, loss_rpn_cls: 0.0346, loss_rpn_bbox: 0.0271, loss_semantic_seg: 0.0916, s0.loss_cls: 0.2057, s0.acc: 93.2686, s0.loss_bbox: 0.1224, s0.loss_mask: 0.1950, s1.loss_cls: 0.0932, s1.acc: 93.9382, s1.loss_bbox: 0.1055, s1.loss_mask: 0.0874, s2.loss_cls: 0.0435, s2.acc: 94.3711, s2.loss_bbox: 0.0601, s2.loss_mask: 0.0404, loss: 1.1064, grad_norm: 7.2468\n",
      "2021-05-20 16:24:24,729 - mmdet - INFO - Epoch [32][600/818]\tlr: 4.738e-05, eta: 10:27:04, time: 1.703, data_time: 0.084, memory: 26469, loss_rpn_cls: 0.0340, loss_rpn_bbox: 0.0293, loss_semantic_seg: 0.0969, s0.loss_cls: 0.2054, s0.acc: 93.0518, s0.loss_bbox: 0.1214, s0.loss_mask: 0.2125, s1.loss_cls: 0.0944, s1.acc: 93.6954, s1.loss_bbox: 0.1067, s1.loss_mask: 0.0927, s2.loss_cls: 0.0449, s2.acc: 93.7492, s2.loss_bbox: 0.0597, s2.loss_mask: 0.0411, loss: 1.1390, grad_norm: 6.5503\n",
      "2021-05-20 16:25:46,512 - mmdet - INFO - Epoch [32][650/818]\tlr: 4.738e-05, eta: 10:25:43, time: 1.636, data_time: 0.058, memory: 26469, loss_rpn_cls: 0.0244, loss_rpn_bbox: 0.0192, loss_semantic_seg: 0.0925, s0.loss_cls: 0.1716, s0.acc: 94.3516, s0.loss_bbox: 0.1055, s0.loss_mask: 0.1823, s1.loss_cls: 0.0754, s1.acc: 95.1027, s1.loss_bbox: 0.0921, s1.loss_mask: 0.0772, s2.loss_cls: 0.0362, s2.acc: 95.3330, s2.loss_bbox: 0.0522, s2.loss_mask: 0.0345, loss: 0.9631, grad_norm: 6.4485\n",
      "2021-05-20 16:27:08,449 - mmdet - INFO - Epoch [32][700/818]\tlr: 4.738e-05, eta: 10:24:22, time: 1.639, data_time: 0.069, memory: 26469, loss_rpn_cls: 0.0314, loss_rpn_bbox: 0.0283, loss_semantic_seg: 0.0904, s0.loss_cls: 0.1911, s0.acc: 93.6230, s0.loss_bbox: 0.1147, s0.loss_mask: 0.2117, s1.loss_cls: 0.0853, s1.acc: 94.3139, s1.loss_bbox: 0.1051, s1.loss_mask: 0.0922, s2.loss_cls: 0.0417, s2.acc: 94.2867, s2.loss_bbox: 0.0584, s2.loss_mask: 0.0416, loss: 1.0920, grad_norm: 6.6936\n",
      "2021-05-20 16:28:33,862 - mmdet - INFO - Epoch [32][750/818]\tlr: 4.738e-05, eta: 10:23:04, time: 1.708, data_time: 0.088, memory: 26469, loss_rpn_cls: 0.0291, loss_rpn_bbox: 0.0289, loss_semantic_seg: 0.0983, s0.loss_cls: 0.2067, s0.acc: 92.9170, s0.loss_bbox: 0.1278, s0.loss_mask: 0.2068, s1.loss_cls: 0.0929, s1.acc: 93.6960, s1.loss_bbox: 0.1113, s1.loss_mask: 0.0899, s2.loss_cls: 0.0448, s2.acc: 93.8960, s2.loss_bbox: 0.0610, s2.loss_mask: 0.0401, loss: 1.1375, grad_norm: 6.5269\n",
      "2021-05-20 16:29:59,100 - mmdet - INFO - Epoch [32][800/818]\tlr: 4.738e-05, eta: 10:21:46, time: 1.705, data_time: 0.084, memory: 26469, loss_rpn_cls: 0.0316, loss_rpn_bbox: 0.0310, loss_semantic_seg: 0.0936, s0.loss_cls: 0.2033, s0.acc: 93.2432, s0.loss_bbox: 0.1269, s0.loss_mask: 0.2090, s1.loss_cls: 0.0904, s1.acc: 94.0210, s1.loss_bbox: 0.1109, s1.loss_mask: 0.0906, s2.loss_cls: 0.0431, s2.acc: 94.0697, s2.loss_bbox: 0.0607, s2.loss_mask: 0.0404, loss: 1.1314, grad_norm: 6.2230\n"
     ]
    },
    {
     "name": "stderr",
     "output_type": "stream",
     "text": [
      "2021-05-20 16:30:30,064 - mmdet - INFO - Saving checkpoint at 32 epochs\n"
     ]
    },
    {
     "name": "stdout",
     "output_type": "stream",
     "text": [
      "[>>>>>>>>>>>>>>>>>>>>>>>>>>>>>] 655/655, 4.0 task/s, elapsed: 162s, ETA:     0s"
     ]
    },
    {
     "name": "stderr",
     "output_type": "stream",
     "text": [
      "2021-05-20 16:33:18,878 - mmdet - INFO - Evaluating bbox...\n"
     ]
    },
    {
     "name": "stdout",
     "output_type": "stream",
     "text": [
      "Loading and preparing results...\n",
      "DONE (t=1.17s)\n",
      "creating index...\n",
      "index created!\n",
      "Running per image evaluation...\n",
      "Evaluate annotation type *bbox*\n",
      "DONE (t=7.47s).\n",
      "Accumulating evaluation results...\n",
      "DONE (t=1.32s).\n",
      "Average Precision  (AP) @[ IoU=0.50:0.95 | area=   all | maxDets=100 ] = 0.509\n",
      "Average Precision  (AP) @[ IoU=0.50      | area=   all | maxDets=1000 ] = 0.670\n",
      "Average Precision  (AP) @[ IoU=0.75      | area=   all | maxDets=1000 ] = 0.544\n",
      "Average Precision  (AP) @[ IoU=0.50:0.95 | area= small | maxDets=1000 ] = 0.217\n",
      "Average Precision  (AP) @[ IoU=0.50:0.95 | area=medium | maxDets=1000 ] = 0.508\n",
      "Average Precision  (AP) @[ IoU=0.50:0.95 | area= large | maxDets=1000 ] = 0.774\n",
      "Average Recall     (AR) @[ IoU=0.50:0.95 | area=   all | maxDets=100 ] = 0.600\n",
      "Average Recall     (AR) @[ IoU=0.50:0.95 | area=   all | maxDets=300 ] = 0.600\n",
      "Average Recall     (AR) @[ IoU=0.50:0.95 | area=   all | maxDets=1000 ] = 0.600\n",
      "Average Recall     (AR) @[ IoU=0.50:0.95 | area= small | maxDets=1000 ] = 0.324\n",
      "Average Recall     (AR) @[ IoU=0.50:0.95 | area=medium | maxDets=1000 ] = 0.615\n",
      "Average Recall     (AR) @[ IoU=0.50:0.95 | area= large | maxDets=1000 ] = 0.829\n"
     ]
    },
    {
     "name": "stderr",
     "output_type": "stream",
     "text": [
      "2021-05-20 16:33:32,383 - mmdet - INFO - Now best checkpoint is epoch_32.pth.Best bbox_mAP_50 is 0.6700\n",
      "2021-05-20 16:33:32,414 - mmdet - INFO - Epoch(val) [32][818]\tbbox_mAP: 0.5090, bbox_mAP_50: 0.6700, bbox_mAP_75: 0.5440, bbox_mAP_s: 0.2170, bbox_mAP_m: 0.5080, bbox_mAP_l: 0.7740, bbox_mAP_copypaste: 0.509 0.670 0.544 0.217 0.508 0.774\n",
      "/home/ubuntu/anaconda3/envs/pytorch_p36/lib/python3.6/site-packages/instaboostfast/pycococreater.py:48: VisibleDeprecationWarning: Creating an ndarray from ragged nested sequences (which is a list-or-tuple of lists-or-tuples-or ndarrays with different lengths or shapes) is deprecated. If you meant to do this, you must specify 'dtype=object' when creating the ndarray\n",
      "  contours = np.subtract(contours, 1)\n",
      "/home/ubuntu/anaconda3/envs/pytorch_p36/lib/python3.6/site-packages/instaboostfast/pycococreater.py:48: VisibleDeprecationWarning: Creating an ndarray from ragged nested sequences (which is a list-or-tuple of lists-or-tuples-or ndarrays with different lengths or shapes) is deprecated. If you meant to do this, you must specify 'dtype=object' when creating the ndarray\n",
      "  contours = np.subtract(contours, 1)\n",
      "2021-05-20 16:35:00,208 - mmdet - INFO - Epoch [33][50/818]\tlr: 4.477e-05, eta: 10:19:35, time: 1.756, data_time: 0.151, memory: 26469, loss_rpn_cls: 0.0310, loss_rpn_bbox: 0.0275, loss_semantic_seg: 0.0895, s0.loss_cls: 0.1985, s0.acc: 93.3877, s0.loss_bbox: 0.1158, s0.loss_mask: 0.2036, s1.loss_cls: 0.0877, s1.acc: 94.1271, s1.loss_bbox: 0.1052, s1.loss_mask: 0.0878, s2.loss_cls: 0.0422, s2.acc: 94.3657, s2.loss_bbox: 0.0603, s2.loss_mask: 0.0392, loss: 1.0882, grad_norm: 6.0012\n",
      "2021-05-20 16:36:24,697 - mmdet - INFO - Epoch [33][100/818]\tlr: 4.477e-05, eta: 10:18:17, time: 1.690, data_time: 0.073, memory: 26469, loss_rpn_cls: 0.0251, loss_rpn_bbox: 0.0277, loss_semantic_seg: 0.0951, s0.loss_cls: 0.1882, s0.acc: 93.6660, s0.loss_bbox: 0.1114, s0.loss_mask: 0.1961, s1.loss_cls: 0.0861, s1.acc: 94.2145, s1.loss_bbox: 0.0995, s1.loss_mask: 0.0857, s2.loss_cls: 0.0420, s2.acc: 94.2894, s2.loss_bbox: 0.0569, s2.loss_mask: 0.0387, loss: 1.0527, grad_norm: 6.2282\n",
      "2021-05-20 16:37:48,725 - mmdet - INFO - Epoch [33][150/818]\tlr: 4.477e-05, eta: 10:16:58, time: 1.681, data_time: 0.069, memory: 26469, loss_rpn_cls: 0.0275, loss_rpn_bbox: 0.0240, loss_semantic_seg: 0.0917, s0.loss_cls: 0.1854, s0.acc: 93.8916, s0.loss_bbox: 0.1110, s0.loss_mask: 0.1813, s1.loss_cls: 0.0824, s1.acc: 94.6291, s1.loss_bbox: 0.0976, s1.loss_mask: 0.0779, s2.loss_cls: 0.0393, s2.acc: 94.8165, s2.loss_bbox: 0.0564, s2.loss_mask: 0.0353, loss: 1.0095, grad_norm: 6.0860\n",
      "2021-05-20 16:39:10,867 - mmdet - INFO - Epoch [33][200/818]\tlr: 4.477e-05, eta: 10:15:37, time: 1.643, data_time: 0.070, memory: 26469, loss_rpn_cls: 0.0290, loss_rpn_bbox: 0.0235, loss_semantic_seg: 0.0973, s0.loss_cls: 0.1771, s0.acc: 94.1064, s0.loss_bbox: 0.1109, s0.loss_mask: 0.1857, s1.loss_cls: 0.0800, s1.acc: 94.7159, s1.loss_bbox: 0.0988, s1.loss_mask: 0.0819, s2.loss_cls: 0.0383, s2.acc: 94.9026, s2.loss_bbox: 0.0546, s2.loss_mask: 0.0358, loss: 1.0129, grad_norm: 6.0514\n",
      "2021-05-20 16:40:32,926 - mmdet - INFO - Epoch [33][250/818]\tlr: 4.477e-05, eta: 10:14:16, time: 1.641, data_time: 0.067, memory: 26469, loss_rpn_cls: 0.0229, loss_rpn_bbox: 0.0236, loss_semantic_seg: 0.0884, s0.loss_cls: 0.1846, s0.acc: 93.8105, s0.loss_bbox: 0.1148, s0.loss_mask: 0.2007, s1.loss_cls: 0.0817, s1.acc: 94.4707, s1.loss_bbox: 0.1066, s1.loss_mask: 0.0877, s2.loss_cls: 0.0394, s2.acc: 94.4945, s2.loss_bbox: 0.0600, s2.loss_mask: 0.0393, loss: 1.0497, grad_norm: 6.4050\n",
      "2021-05-20 16:41:55,731 - mmdet - INFO - Epoch [33][300/818]\tlr: 4.477e-05, eta: 10:12:56, time: 1.656, data_time: 0.085, memory: 26469, loss_rpn_cls: 0.0244, loss_rpn_bbox: 0.0238, loss_semantic_seg: 0.0851, s0.loss_cls: 0.1938, s0.acc: 93.7344, s0.loss_bbox: 0.1100, s0.loss_mask: 0.1842, s1.loss_cls: 0.0875, s1.acc: 94.3013, s1.loss_bbox: 0.0988, s1.loss_mask: 0.0784, s2.loss_cls: 0.0416, s2.acc: 94.4934, s2.loss_bbox: 0.0547, s2.loss_mask: 0.0341, loss: 1.0164, grad_norm: 7.1698\n",
      "2021-05-20 16:43:18,465 - mmdet - INFO - Epoch [33][350/818]\tlr: 4.477e-05, eta: 10:11:36, time: 1.655, data_time: 0.065, memory: 26469, loss_rpn_cls: 0.0226, loss_rpn_bbox: 0.0198, loss_semantic_seg: 0.0936, s0.loss_cls: 0.1676, s0.acc: 94.5127, s0.loss_bbox: 0.1005, s0.loss_mask: 0.1839, s1.loss_cls: 0.0741, s1.acc: 95.1065, s1.loss_bbox: 0.0920, s1.loss_mask: 0.0785, s2.loss_cls: 0.0347, s2.acc: 95.2813, s2.loss_bbox: 0.0548, s2.loss_mask: 0.0355, loss: 0.9574, grad_norm: 6.4451\n",
      "2021-05-20 16:44:38,391 - mmdet - INFO - Epoch [33][400/818]\tlr: 4.477e-05, eta: 10:10:14, time: 1.599, data_time: 0.057, memory: 26469, loss_rpn_cls: 0.0214, loss_rpn_bbox: 0.0232, loss_semantic_seg: 0.0997, s0.loss_cls: 0.1810, s0.acc: 93.9219, s0.loss_bbox: 0.1099, s0.loss_mask: 0.1892, s1.loss_cls: 0.0802, s1.acc: 94.6113, s1.loss_bbox: 0.0990, s1.loss_mask: 0.0833, s2.loss_cls: 0.0386, s2.acc: 94.7761, s2.loss_bbox: 0.0577, s2.loss_mask: 0.0371, loss: 1.0203, grad_norm: 6.4383\n",
      "2021-05-20 16:45:59,504 - mmdet - INFO - Epoch [33][450/818]\tlr: 4.477e-05, eta: 10:08:52, time: 1.622, data_time: 0.056, memory: 26469, loss_rpn_cls: 0.0261, loss_rpn_bbox: 0.0219, loss_semantic_seg: 0.0883, s0.loss_cls: 0.1704, s0.acc: 94.4785, s0.loss_bbox: 0.0977, s0.loss_mask: 0.1864, s1.loss_cls: 0.0747, s1.acc: 95.0578, s1.loss_bbox: 0.0874, s1.loss_mask: 0.0808, s2.loss_cls: 0.0362, s2.acc: 95.0768, s2.loss_bbox: 0.0502, s2.loss_mask: 0.0362, loss: 0.9563, grad_norm: 5.9865\n",
      "2021-05-20 16:47:20,765 - mmdet - INFO - Epoch [33][500/818]\tlr: 4.477e-05, eta: 10:07:31, time: 1.625, data_time: 0.065, memory: 26469, loss_rpn_cls: 0.0255, loss_rpn_bbox: 0.0221, loss_semantic_seg: 0.1015, s0.loss_cls: 0.2049, s0.acc: 93.3779, s0.loss_bbox: 0.1176, s0.loss_mask: 0.1935, s1.loss_cls: 0.0904, s1.acc: 94.2320, s1.loss_bbox: 0.1061, s1.loss_mask: 0.0843, s2.loss_cls: 0.0435, s2.acc: 94.2307, s2.loss_bbox: 0.0615, s2.loss_mask: 0.0382, loss: 1.0892, grad_norm: 6.6513\n",
      "2021-05-20 16:48:46,035 - mmdet - INFO - Epoch [33][550/818]\tlr: 4.477e-05, eta: 10:06:13, time: 1.705, data_time: 0.076, memory: 26469, loss_rpn_cls: 0.0281, loss_rpn_bbox: 0.0261, loss_semantic_seg: 0.1045, s0.loss_cls: 0.2098, s0.acc: 93.1025, s0.loss_bbox: 0.1283, s0.loss_mask: 0.2120, s1.loss_cls: 0.0933, s1.acc: 93.9636, s1.loss_bbox: 0.1104, s1.loss_mask: 0.0914, s2.loss_cls: 0.0438, s2.acc: 94.1534, s2.loss_bbox: 0.0616, s2.loss_mask: 0.0406, loss: 1.1499, grad_norm: 6.5478\n",
      "2021-05-20 16:50:10,460 - mmdet - INFO - Epoch [33][600/818]\tlr: 4.477e-05, eta: 10:04:54, time: 1.688, data_time: 0.073, memory: 26469, loss_rpn_cls: 0.0300, loss_rpn_bbox: 0.0251, loss_semantic_seg: 0.0969, s0.loss_cls: 0.1976, s0.acc: 93.4258, s0.loss_bbox: 0.1163, s0.loss_mask: 0.1987, s1.loss_cls: 0.0889, s1.acc: 93.9686, s1.loss_bbox: 0.1045, s1.loss_mask: 0.0880, s2.loss_cls: 0.0422, s2.acc: 94.0842, s2.loss_bbox: 0.0592, s2.loss_mask: 0.0395, loss: 1.0867, grad_norm: 6.6563\n",
      "2021-05-20 16:51:34,112 - mmdet - INFO - Epoch [33][650/818]\tlr: 4.477e-05, eta: 10:03:34, time: 1.673, data_time: 0.065, memory: 26469, loss_rpn_cls: 0.0225, loss_rpn_bbox: 0.0189, loss_semantic_seg: 0.0940, s0.loss_cls: 0.1749, s0.acc: 94.2705, s0.loss_bbox: 0.1030, s0.loss_mask: 0.1791, s1.loss_cls: 0.0792, s1.acc: 94.8202, s1.loss_bbox: 0.0950, s1.loss_mask: 0.0801, s2.loss_cls: 0.0381, s2.acc: 94.8899, s2.loss_bbox: 0.0544, s2.loss_mask: 0.0366, loss: 0.9759, grad_norm: 6.6293\n",
      "2021-05-20 16:52:58,455 - mmdet - INFO - Epoch [33][700/818]\tlr: 4.477e-05, eta: 10:02:15, time: 1.687, data_time: 0.092, memory: 26469, loss_rpn_cls: 0.0265, loss_rpn_bbox: 0.0237, loss_semantic_seg: 0.0923, s0.loss_cls: 0.1893, s0.acc: 93.6201, s0.loss_bbox: 0.1132, s0.loss_mask: 0.2007, s1.loss_cls: 0.0844, s1.acc: 94.2970, s1.loss_bbox: 0.0990, s1.loss_mask: 0.0884, s2.loss_cls: 0.0413, s2.acc: 94.5435, s2.loss_bbox: 0.0549, s2.loss_mask: 0.0390, loss: 1.0526, grad_norm: 6.7378\n",
      "2021-05-20 16:54:20,750 - mmdet - INFO - Epoch [33][750/818]\tlr: 4.477e-05, eta: 10:00:55, time: 1.646, data_time: 0.068, memory: 26469, loss_rpn_cls: 0.0252, loss_rpn_bbox: 0.0216, loss_semantic_seg: 0.1004, s0.loss_cls: 0.1834, s0.acc: 93.9463, s0.loss_bbox: 0.0994, s0.loss_mask: 0.1778, s1.loss_cls: 0.0823, s1.acc: 94.6343, s1.loss_bbox: 0.0881, s1.loss_mask: 0.0792, s2.loss_cls: 0.0395, s2.acc: 94.8324, s2.loss_bbox: 0.0523, s2.loss_mask: 0.0365, loss: 0.9857, grad_norm: 6.3971\n"
     ]
    },
    {
     "name": "stderr",
     "output_type": "stream",
     "text": [
      "2021-05-20 16:55:43,882 - mmdet - INFO - Epoch [33][800/818]\tlr: 4.477e-05, eta: 9:59:35, time: 1.663, data_time: 0.080, memory: 26469, loss_rpn_cls: 0.0238, loss_rpn_bbox: 0.0237, loss_semantic_seg: 0.0932, s0.loss_cls: 0.1824, s0.acc: 93.8535, s0.loss_bbox: 0.1087, s0.loss_mask: 0.1981, s1.loss_cls: 0.0821, s1.acc: 94.5193, s1.loss_bbox: 0.0990, s1.loss_mask: 0.0885, s2.loss_cls: 0.0403, s2.acc: 94.6072, s2.loss_bbox: 0.0549, s2.loss_mask: 0.0390, loss: 1.0335, grad_norm: 6.5974\n",
      "2021-05-20 16:56:13,693 - mmdet - INFO - Saving checkpoint at 33 epochs\n"
     ]
    },
    {
     "name": "stdout",
     "output_type": "stream",
     "text": [
      "[>>>>>>>>>>>>>>>>>>>>>>>>>>>>>] 655/655, 4.0 task/s, elapsed: 164s, ETA:     0s"
     ]
    },
    {
     "name": "stderr",
     "output_type": "stream",
     "text": [
      "2021-05-20 16:59:04,730 - mmdet - INFO - Evaluating bbox...\n"
     ]
    },
    {
     "name": "stdout",
     "output_type": "stream",
     "text": [
      "Loading and preparing results...\n",
      "DONE (t=0.67s)\n",
      "creating index...\n",
      "index created!\n",
      "Running per image evaluation...\n",
      "Evaluate annotation type *bbox*\n",
      "DONE (t=7.68s).\n",
      "Accumulating evaluation results...\n",
      "DONE (t=1.29s).\n",
      "Average Precision  (AP) @[ IoU=0.50:0.95 | area=   all | maxDets=100 ] = 0.517\n",
      "Average Precision  (AP) @[ IoU=0.50      | area=   all | maxDets=1000 ] = 0.685\n",
      "Average Precision  (AP) @[ IoU=0.75      | area=   all | maxDets=1000 ] = 0.543\n",
      "Average Precision  (AP) @[ IoU=0.50:0.95 | area= small | maxDets=1000 ] = 0.223\n",
      "Average Precision  (AP) @[ IoU=0.50:0.95 | area=medium | maxDets=1000 ] = 0.512\n",
      "Average Precision  (AP) @[ IoU=0.50:0.95 | area= large | maxDets=1000 ] = 0.779\n",
      "Average Recall     (AR) @[ IoU=0.50:0.95 | area=   all | maxDets=100 ] = 0.611\n",
      "Average Recall     (AR) @[ IoU=0.50:0.95 | area=   all | maxDets=300 ] = 0.611\n",
      "Average Recall     (AR) @[ IoU=0.50:0.95 | area=   all | maxDets=1000 ] = 0.611\n",
      "Average Recall     (AR) @[ IoU=0.50:0.95 | area= small | maxDets=1000 ] = 0.330\n",
      "Average Recall     (AR) @[ IoU=0.50:0.95 | area=medium | maxDets=1000 ] = 0.634\n",
      "Average Recall     (AR) @[ IoU=0.50:0.95 | area= large | maxDets=1000 ] = 0.847\n"
     ]
    },
    {
     "name": "stderr",
     "output_type": "stream",
     "text": [
      "2021-05-20 16:59:17,867 - mmdet - INFO - Now best checkpoint is epoch_33.pth.Best bbox_mAP_50 is 0.6850\n",
      "2021-05-20 16:59:17,896 - mmdet - INFO - Epoch(val) [33][818]\tbbox_mAP: 0.5170, bbox_mAP_50: 0.6850, bbox_mAP_75: 0.5430, bbox_mAP_s: 0.2230, bbox_mAP_m: 0.5120, bbox_mAP_l: 0.7790, bbox_mAP_copypaste: 0.517 0.685 0.543 0.223 0.512 0.779\n",
      "/home/ubuntu/anaconda3/envs/pytorch_p36/lib/python3.6/site-packages/instaboostfast/pycococreater.py:48: VisibleDeprecationWarning: Creating an ndarray from ragged nested sequences (which is a list-or-tuple of lists-or-tuples-or ndarrays with different lengths or shapes) is deprecated. If you meant to do this, you must specify 'dtype=object' when creating the ndarray\n",
      "  contours = np.subtract(contours, 1)\n",
      "/home/ubuntu/anaconda3/envs/pytorch_p36/lib/python3.6/site-packages/instaboostfast/pycococreater.py:48: VisibleDeprecationWarning: Creating an ndarray from ragged nested sequences (which is a list-or-tuple of lists-or-tuples-or ndarrays with different lengths or shapes) is deprecated. If you meant to do this, you must specify 'dtype=object' when creating the ndarray\n",
      "  contours = np.subtract(contours, 1)\n",
      "2021-05-20 17:00:45,174 - mmdet - INFO - Epoch [34][50/818]\tlr: 4.218e-05, eta: 9:57:25, time: 1.745, data_time: 0.155, memory: 26469, loss_rpn_cls: 0.0235, loss_rpn_bbox: 0.0240, loss_semantic_seg: 0.0938, s0.loss_cls: 0.1930, s0.acc: 93.7129, s0.loss_bbox: 0.1159, s0.loss_mask: 0.2048, s1.loss_cls: 0.0862, s1.acc: 94.4660, s1.loss_bbox: 0.1049, s1.loss_mask: 0.0910, s2.loss_cls: 0.0410, s2.acc: 94.6363, s2.loss_bbox: 0.0590, s2.loss_mask: 0.0414, loss: 1.0788, grad_norm: 6.3664\n",
      "2021-05-20 17:02:07,059 - mmdet - INFO - Epoch [34][100/818]\tlr: 4.218e-05, eta: 9:56:04, time: 1.638, data_time: 0.067, memory: 26469, loss_rpn_cls: 0.0255, loss_rpn_bbox: 0.0231, loss_semantic_seg: 0.0970, s0.loss_cls: 0.1923, s0.acc: 93.8340, s0.loss_bbox: 0.1112, s0.loss_mask: 0.1971, s1.loss_cls: 0.0857, s1.acc: 94.3696, s1.loss_bbox: 0.0944, s1.loss_mask: 0.0849, s2.loss_cls: 0.0402, s2.acc: 94.7373, s2.loss_bbox: 0.0519, s2.loss_mask: 0.0368, loss: 1.0402, grad_norm: 6.7777\n",
      "2021-05-20 17:03:31,550 - mmdet - INFO - Epoch [34][150/818]\tlr: 4.218e-05, eta: 9:54:45, time: 1.690, data_time: 0.071, memory: 26469, loss_rpn_cls: 0.0314, loss_rpn_bbox: 0.0274, loss_semantic_seg: 0.0910, s0.loss_cls: 0.1980, s0.acc: 93.5879, s0.loss_bbox: 0.1169, s0.loss_mask: 0.1974, s1.loss_cls: 0.0869, s1.acc: 94.3896, s1.loss_bbox: 0.1068, s1.loss_mask: 0.0866, s2.loss_cls: 0.0419, s2.acc: 94.4785, s2.loss_bbox: 0.0598, s2.loss_mask: 0.0381, loss: 1.0822, grad_norm: 6.4421\n",
      "2021-05-20 17:04:53,685 - mmdet - INFO - Epoch [34][200/818]\tlr: 4.218e-05, eta: 9:53:25, time: 1.643, data_time: 0.069, memory: 26469, loss_rpn_cls: 0.0248, loss_rpn_bbox: 0.0253, loss_semantic_seg: 0.0952, s0.loss_cls: 0.1824, s0.acc: 94.0273, s0.loss_bbox: 0.1018, s0.loss_mask: 0.1816, s1.loss_cls: 0.0807, s1.acc: 94.7228, s1.loss_bbox: 0.0942, s1.loss_mask: 0.0801, s2.loss_cls: 0.0380, s2.acc: 94.9382, s2.loss_bbox: 0.0541, s2.loss_mask: 0.0360, loss: 0.9943, grad_norm: 6.3217\n",
      "2021-05-20 17:06:15,398 - mmdet - INFO - Epoch [34][250/818]\tlr: 4.218e-05, eta: 9:52:04, time: 1.634, data_time: 0.062, memory: 26469, loss_rpn_cls: 0.0245, loss_rpn_bbox: 0.0202, loss_semantic_seg: 0.0853, s0.loss_cls: 0.1653, s0.acc: 94.3926, s0.loss_bbox: 0.1020, s0.loss_mask: 0.1847, s1.loss_cls: 0.0725, s1.acc: 95.0563, s1.loss_bbox: 0.0959, s1.loss_mask: 0.0828, s2.loss_cls: 0.0354, s2.acc: 95.2556, s2.loss_bbox: 0.0559, s2.loss_mask: 0.0375, loss: 0.9618, grad_norm: 6.3379\n",
      "2021-05-20 17:07:39,012 - mmdet - INFO - Epoch [34][300/818]\tlr: 4.218e-05, eta: 9:50:44, time: 1.672, data_time: 0.074, memory: 26469, loss_rpn_cls: 0.0241, loss_rpn_bbox: 0.0219, loss_semantic_seg: 0.0910, s0.loss_cls: 0.1970, s0.acc: 93.4277, s0.loss_bbox: 0.1175, s0.loss_mask: 0.1879, s1.loss_cls: 0.0876, s1.acc: 94.2063, s1.loss_bbox: 0.1026, s1.loss_mask: 0.0835, s2.loss_cls: 0.0416, s2.acc: 94.3827, s2.loss_bbox: 0.0585, s2.loss_mask: 0.0383, loss: 1.0513, grad_norm: 6.3269\n",
      "2021-05-20 17:09:03,730 - mmdet - INFO - Epoch [34][350/818]\tlr: 4.218e-05, eta: 9:49:25, time: 1.694, data_time: 0.068, memory: 26469, loss_rpn_cls: 0.0272, loss_rpn_bbox: 0.0226, loss_semantic_seg: 0.0864, s0.loss_cls: 0.1804, s0.acc: 94.0137, s0.loss_bbox: 0.1079, s0.loss_mask: 0.1801, s1.loss_cls: 0.0811, s1.acc: 94.6755, s1.loss_bbox: 0.0954, s1.loss_mask: 0.0798, s2.loss_cls: 0.0393, s2.acc: 94.7006, s2.loss_bbox: 0.0548, s2.loss_mask: 0.0361, loss: 0.9910, grad_norm: 6.6372\n",
      "2021-05-20 17:10:27,819 - mmdet - INFO - Epoch [34][400/818]\tlr: 4.218e-05, eta: 9:48:06, time: 1.682, data_time: 0.078, memory: 26469, loss_rpn_cls: 0.0241, loss_rpn_bbox: 0.0260, loss_semantic_seg: 0.0930, s0.loss_cls: 0.1795, s0.acc: 93.8379, s0.loss_bbox: 0.1097, s0.loss_mask: 0.1895, s1.loss_cls: 0.0801, s1.acc: 94.4003, s1.loss_bbox: 0.1013, s1.loss_mask: 0.0832, s2.loss_cls: 0.0393, s2.acc: 94.4961, s2.loss_bbox: 0.0574, s2.loss_mask: 0.0377, loss: 1.0207, grad_norm: 6.3493\n",
      "2021-05-20 17:11:50,093 - mmdet - INFO - Epoch [34][450/818]\tlr: 4.218e-05, eta: 9:46:46, time: 1.645, data_time: 0.059, memory: 26469, loss_rpn_cls: 0.0234, loss_rpn_bbox: 0.0241, loss_semantic_seg: 0.0953, s0.loss_cls: 0.1811, s0.acc: 93.9814, s0.loss_bbox: 0.1049, s0.loss_mask: 0.1846, s1.loss_cls: 0.0782, s1.acc: 94.6976, s1.loss_bbox: 0.0942, s1.loss_mask: 0.0811, s2.loss_cls: 0.0375, s2.acc: 94.7986, s2.loss_bbox: 0.0542, s2.loss_mask: 0.0367, loss: 0.9952, grad_norm: 6.3856\n",
      "2021-05-20 17:13:14,048 - mmdet - INFO - Epoch [34][500/818]\tlr: 4.218e-05, eta: 9:45:26, time: 1.679, data_time: 0.069, memory: 26469, loss_rpn_cls: 0.0306, loss_rpn_bbox: 0.0258, loss_semantic_seg: 0.0859, s0.loss_cls: 0.1905, s0.acc: 93.5605, s0.loss_bbox: 0.1185, s0.loss_mask: 0.1909, s1.loss_cls: 0.0859, s1.acc: 94.2953, s1.loss_bbox: 0.1020, s1.loss_mask: 0.0850, s2.loss_cls: 0.0407, s2.acc: 94.5272, s2.loss_bbox: 0.0556, s2.loss_mask: 0.0374, loss: 1.0488, grad_norm: 6.3431\n",
      "2021-05-20 17:14:37,958 - mmdet - INFO - Epoch [34][550/818]\tlr: 4.218e-05, eta: 9:44:07, time: 1.678, data_time: 0.067, memory: 26469, loss_rpn_cls: 0.0241, loss_rpn_bbox: 0.0222, loss_semantic_seg: 0.0866, s0.loss_cls: 0.1844, s0.acc: 93.7617, s0.loss_bbox: 0.1110, s0.loss_mask: 0.1880, s1.loss_cls: 0.0844, s1.acc: 94.2490, s1.loss_bbox: 0.1008, s1.loss_mask: 0.0849, s2.loss_cls: 0.0414, s2.acc: 94.2800, s2.loss_bbox: 0.0553, s2.loss_mask: 0.0370, loss: 1.0201, grad_norm: 6.9076\n",
      "2021-05-20 17:16:02,332 - mmdet - INFO - Epoch [34][600/818]\tlr: 4.218e-05, eta: 9:42:48, time: 1.687, data_time: 0.075, memory: 26469, loss_rpn_cls: 0.0324, loss_rpn_bbox: 0.0260, loss_semantic_seg: 0.0931, s0.loss_cls: 0.1886, s0.acc: 93.8926, s0.loss_bbox: 0.1101, s0.loss_mask: 0.1874, s1.loss_cls: 0.0846, s1.acc: 94.6426, s1.loss_bbox: 0.0985, s1.loss_mask: 0.0828, s2.loss_cls: 0.0401, s2.acc: 94.9090, s2.loss_bbox: 0.0556, s2.loss_mask: 0.0367, loss: 1.0360, grad_norm: 6.0038\n",
      "2021-05-20 17:17:27,846 - mmdet - INFO - Epoch [34][650/818]\tlr: 4.218e-05, eta: 9:41:30, time: 1.710, data_time: 0.075, memory: 26469, loss_rpn_cls: 0.0290, loss_rpn_bbox: 0.0227, loss_semantic_seg: 0.0930, s0.loss_cls: 0.1822, s0.acc: 94.1484, s0.loss_bbox: 0.1032, s0.loss_mask: 0.1769, s1.loss_cls: 0.0817, s1.acc: 94.8182, s1.loss_bbox: 0.0947, s1.loss_mask: 0.0757, s2.loss_cls: 0.0391, s2.acc: 95.0325, s2.loss_bbox: 0.0555, s2.loss_mask: 0.0348, loss: 0.9886, grad_norm: 5.6074\n",
      "2021-05-20 17:18:49,549 - mmdet - INFO - Epoch [34][700/818]\tlr: 4.218e-05, eta: 9:40:09, time: 1.634, data_time: 0.071, memory: 26469, loss_rpn_cls: 0.0249, loss_rpn_bbox: 0.0229, loss_semantic_seg: 0.0876, s0.loss_cls: 0.1947, s0.acc: 93.5889, s0.loss_bbox: 0.1127, s0.loss_mask: 0.1903, s1.loss_cls: 0.0854, s1.acc: 94.4611, s1.loss_bbox: 0.0997, s1.loss_mask: 0.0844, s2.loss_cls: 0.0410, s2.acc: 94.4536, s2.loss_bbox: 0.0581, s2.loss_mask: 0.0371, loss: 1.0387, grad_norm: 6.4012\n",
      "2021-05-20 17:20:11,388 - mmdet - INFO - Epoch [34][750/818]\tlr: 4.218e-05, eta: 9:38:48, time: 1.637, data_time: 0.063, memory: 26469, loss_rpn_cls: 0.0239, loss_rpn_bbox: 0.0203, loss_semantic_seg: 0.0948, s0.loss_cls: 0.1721, s0.acc: 94.4619, s0.loss_bbox: 0.1009, s0.loss_mask: 0.1857, s1.loss_cls: 0.0755, s1.acc: 95.0935, s1.loss_bbox: 0.0945, s1.loss_mask: 0.0806, s2.loss_cls: 0.0354, s2.acc: 95.3393, s2.loss_bbox: 0.0569, s2.loss_mask: 0.0361, loss: 0.9767, grad_norm: 6.1900\n"
     ]
    },
    {
     "name": "stderr",
     "output_type": "stream",
     "text": [
      "2021-05-20 17:21:35,343 - mmdet - INFO - Epoch [34][800/818]\tlr: 4.218e-05, eta: 9:37:28, time: 1.679, data_time: 0.068, memory: 26469, loss_rpn_cls: 0.0222, loss_rpn_bbox: 0.0221, loss_semantic_seg: 0.1003, s0.loss_cls: 0.1761, s0.acc: 94.0615, s0.loss_bbox: 0.1104, s0.loss_mask: 0.2021, s1.loss_cls: 0.0769, s1.acc: 94.7473, s1.loss_bbox: 0.0975, s1.loss_mask: 0.0899, s2.loss_cls: 0.0364, s2.acc: 94.9575, s2.loss_bbox: 0.0556, s2.loss_mask: 0.0404, loss: 1.0299, grad_norm: 6.9548\n",
      "2021-05-20 17:22:04,446 - mmdet - INFO - Saving checkpoint at 34 epochs\n"
     ]
    },
    {
     "name": "stdout",
     "output_type": "stream",
     "text": [
      "[>>>>>>>>>>>>>>>>>>>>>>>>>>>>>] 655/655, 4.0 task/s, elapsed: 165s, ETA:     0s"
     ]
    },
    {
     "name": "stderr",
     "output_type": "stream",
     "text": [
      "2021-05-20 17:24:55,982 - mmdet - INFO - Evaluating bbox...\n"
     ]
    },
    {
     "name": "stdout",
     "output_type": "stream",
     "text": [
      "Loading and preparing results...\n",
      "DONE (t=0.69s)\n",
      "creating index...\n",
      "index created!\n",
      "Running per image evaluation...\n",
      "Evaluate annotation type *bbox*\n",
      "DONE (t=8.24s).\n",
      "Accumulating evaluation results...\n"
     ]
    },
    {
     "name": "stderr",
     "output_type": "stream",
     "text": [
      "2021-05-20 17:25:06,391 - mmdet - INFO - Epoch(val) [34][818]\tbbox_mAP: 0.5180, bbox_mAP_50: 0.6790, bbox_mAP_75: 0.5500, bbox_mAP_s: 0.2080, bbox_mAP_m: 0.5100, bbox_mAP_l: 0.7840, bbox_mAP_copypaste: 0.518 0.679 0.550 0.208 0.510 0.784\n"
     ]
    },
    {
     "name": "stdout",
     "output_type": "stream",
     "text": [
      "DONE (t=1.35s).\n",
      "Average Precision  (AP) @[ IoU=0.50:0.95 | area=   all | maxDets=100 ] = 0.518\n",
      "Average Precision  (AP) @[ IoU=0.50      | area=   all | maxDets=1000 ] = 0.679\n",
      "Average Precision  (AP) @[ IoU=0.75      | area=   all | maxDets=1000 ] = 0.550\n",
      "Average Precision  (AP) @[ IoU=0.50:0.95 | area= small | maxDets=1000 ] = 0.208\n",
      "Average Precision  (AP) @[ IoU=0.50:0.95 | area=medium | maxDets=1000 ] = 0.510\n",
      "Average Precision  (AP) @[ IoU=0.50:0.95 | area= large | maxDets=1000 ] = 0.784\n",
      "Average Recall     (AR) @[ IoU=0.50:0.95 | area=   all | maxDets=100 ] = 0.600\n",
      "Average Recall     (AR) @[ IoU=0.50:0.95 | area=   all | maxDets=300 ] = 0.600\n",
      "Average Recall     (AR) @[ IoU=0.50:0.95 | area=   all | maxDets=1000 ] = 0.600\n",
      "Average Recall     (AR) @[ IoU=0.50:0.95 | area= small | maxDets=1000 ] = 0.343\n",
      "Average Recall     (AR) @[ IoU=0.50:0.95 | area=medium | maxDets=1000 ] = 0.601\n",
      "Average Recall     (AR) @[ IoU=0.50:0.95 | area= large | maxDets=1000 ] = 0.837\n"
     ]
    },
    {
     "name": "stderr",
     "output_type": "stream",
     "text": [
      "/home/ubuntu/anaconda3/envs/pytorch_p36/lib/python3.6/site-packages/instaboostfast/pycococreater.py:48: VisibleDeprecationWarning: Creating an ndarray from ragged nested sequences (which is a list-or-tuple of lists-or-tuples-or ndarrays with different lengths or shapes) is deprecated. If you meant to do this, you must specify 'dtype=object' when creating the ndarray\n",
      "  contours = np.subtract(contours, 1)\n",
      "/home/ubuntu/anaconda3/envs/pytorch_p36/lib/python3.6/site-packages/instaboostfast/pycococreater.py:48: VisibleDeprecationWarning: Creating an ndarray from ragged nested sequences (which is a list-or-tuple of lists-or-tuples-or ndarrays with different lengths or shapes) is deprecated. If you meant to do this, you must specify 'dtype=object' when creating the ndarray\n",
      "  contours = np.subtract(contours, 1)\n",
      "2021-05-20 17:26:34,892 - mmdet - INFO - Epoch [35][50/818]\tlr: 3.960e-05, eta: 9:35:21, time: 1.770, data_time: 0.154, memory: 26469, loss_rpn_cls: 0.0270, loss_rpn_bbox: 0.0246, loss_semantic_seg: 0.1016, s0.loss_cls: 0.1825, s0.acc: 93.8828, s0.loss_bbox: 0.1089, s0.loss_mask: 0.1856, s1.loss_cls: 0.0807, s1.acc: 94.5998, s1.loss_bbox: 0.1020, s1.loss_mask: 0.0813, s2.loss_cls: 0.0390, s2.acc: 94.6424, s2.loss_bbox: 0.0569, s2.loss_mask: 0.0364, loss: 1.0264, grad_norm: 6.4261\n",
      "2021-05-20 17:27:52,943 - mmdet - INFO - Epoch [35][100/818]\tlr: 3.960e-05, eta: 9:33:57, time: 1.561, data_time: 0.050, memory: 26469, loss_rpn_cls: 0.0207, loss_rpn_bbox: 0.0191, loss_semantic_seg: 0.0867, s0.loss_cls: 0.1481, s0.acc: 95.0400, s0.loss_bbox: 0.0890, s0.loss_mask: 0.1716, s1.loss_cls: 0.0653, s1.acc: 95.6087, s1.loss_bbox: 0.0814, s1.loss_mask: 0.0761, s2.loss_cls: 0.0309, s2.acc: 95.7894, s2.loss_bbox: 0.0473, s2.loss_mask: 0.0338, loss: 0.8699, grad_norm: 6.4271\n",
      "2021-05-20 17:29:17,348 - mmdet - INFO - Epoch [35][150/818]\tlr: 3.960e-05, eta: 9:32:38, time: 1.688, data_time: 0.072, memory: 26469, loss_rpn_cls: 0.0231, loss_rpn_bbox: 0.0230, loss_semantic_seg: 0.0853, s0.loss_cls: 0.1730, s0.acc: 94.1221, s0.loss_bbox: 0.1054, s0.loss_mask: 0.1760, s1.loss_cls: 0.0771, s1.acc: 94.8698, s1.loss_bbox: 0.0955, s1.loss_mask: 0.0771, s2.loss_cls: 0.0371, s2.acc: 94.8006, s2.loss_bbox: 0.0565, s2.loss_mask: 0.0355, loss: 0.9646, grad_norm: 5.8838\n",
      "2021-05-20 17:30:40,481 - mmdet - INFO - Epoch [35][200/818]\tlr: 3.960e-05, eta: 9:31:18, time: 1.663, data_time: 0.069, memory: 26469, loss_rpn_cls: 0.0223, loss_rpn_bbox: 0.0218, loss_semantic_seg: 0.0914, s0.loss_cls: 0.1737, s0.acc: 94.2109, s0.loss_bbox: 0.1026, s0.loss_mask: 0.1834, s1.loss_cls: 0.0791, s1.acc: 94.8641, s1.loss_bbox: 0.0933, s1.loss_mask: 0.0807, s2.loss_cls: 0.0377, s2.acc: 94.9396, s2.loss_bbox: 0.0517, s2.loss_mask: 0.0362, loss: 0.9737, grad_norm: 6.6380\n",
      "2021-05-20 17:32:02,300 - mmdet - INFO - Epoch [35][250/818]\tlr: 3.960e-05, eta: 9:29:57, time: 1.636, data_time: 0.058, memory: 26469, loss_rpn_cls: 0.0222, loss_rpn_bbox: 0.0210, loss_semantic_seg: 0.0848, s0.loss_cls: 0.1644, s0.acc: 94.6270, s0.loss_bbox: 0.0993, s0.loss_mask: 0.1816, s1.loss_cls: 0.0727, s1.acc: 95.3173, s1.loss_bbox: 0.0894, s1.loss_mask: 0.0799, s2.loss_cls: 0.0336, s2.acc: 95.5168, s2.loss_bbox: 0.0504, s2.loss_mask: 0.0360, loss: 0.9354, grad_norm: 6.2811\n",
      "2021-05-20 17:33:24,731 - mmdet - INFO - Epoch [35][300/818]\tlr: 3.960e-05, eta: 9:28:36, time: 1.649, data_time: 0.061, memory: 26469, loss_rpn_cls: 0.0241, loss_rpn_bbox: 0.0213, loss_semantic_seg: 0.0806, s0.loss_cls: 0.1717, s0.acc: 94.2158, s0.loss_bbox: 0.1063, s0.loss_mask: 0.1914, s1.loss_cls: 0.0768, s1.acc: 94.8798, s1.loss_bbox: 0.0932, s1.loss_mask: 0.0830, s2.loss_cls: 0.0360, s2.acc: 95.1739, s2.loss_bbox: 0.0529, s2.loss_mask: 0.0369, loss: 0.9742, grad_norm: 6.5624\n",
      "2021-05-20 17:34:49,526 - mmdet - INFO - Epoch [35][350/818]\tlr: 3.960e-05, eta: 9:27:17, time: 1.696, data_time: 0.088, memory: 26475, loss_rpn_cls: 0.0308, loss_rpn_bbox: 0.0290, loss_semantic_seg: 0.0884, s0.loss_cls: 0.2102, s0.acc: 92.8281, s0.loss_bbox: 0.1264, s0.loss_mask: 0.2078, s1.loss_cls: 0.0960, s1.acc: 93.3865, s1.loss_bbox: 0.1141, s1.loss_mask: 0.0923, s2.loss_cls: 0.0464, s2.acc: 93.5558, s2.loss_bbox: 0.0632, s2.loss_mask: 0.0410, loss: 1.1455, grad_norm: 6.4920\n",
      "2021-05-20 17:36:14,058 - mmdet - INFO - Epoch [35][400/818]\tlr: 3.960e-05, eta: 9:25:58, time: 1.691, data_time: 0.079, memory: 26475, loss_rpn_cls: 0.0250, loss_rpn_bbox: 0.0248, loss_semantic_seg: 0.0958, s0.loss_cls: 0.1863, s0.acc: 93.9883, s0.loss_bbox: 0.1122, s0.loss_mask: 0.1961, s1.loss_cls: 0.0813, s1.acc: 94.7809, s1.loss_bbox: 0.0996, s1.loss_mask: 0.0871, s2.loss_cls: 0.0378, s2.acc: 95.0809, s2.loss_bbox: 0.0581, s2.loss_mask: 0.0396, loss: 1.0439, grad_norm: 6.2644\n",
      "2021-05-20 17:37:36,631 - mmdet - INFO - Epoch [35][450/818]\tlr: 3.960e-05, eta: 9:24:38, time: 1.651, data_time: 0.071, memory: 26475, loss_rpn_cls: 0.0244, loss_rpn_bbox: 0.0233, loss_semantic_seg: 0.0851, s0.loss_cls: 0.1833, s0.acc: 93.9014, s0.loss_bbox: 0.1091, s0.loss_mask: 0.1776, s1.loss_cls: 0.0820, s1.acc: 94.6098, s1.loss_bbox: 0.0962, s1.loss_mask: 0.0767, s2.loss_cls: 0.0397, s2.acc: 94.6706, s2.loss_bbox: 0.0570, s2.loss_mask: 0.0344, loss: 0.9888, grad_norm: 5.9209\n",
      "2021-05-20 17:39:00,533 - mmdet - INFO - Epoch [35][500/818]\tlr: 3.960e-05, eta: 9:23:18, time: 1.678, data_time: 0.077, memory: 26475, loss_rpn_cls: 0.0297, loss_rpn_bbox: 0.0260, loss_semantic_seg: 0.0982, s0.loss_cls: 0.1933, s0.acc: 93.3232, s0.loss_bbox: 0.1211, s0.loss_mask: 0.2015, s1.loss_cls: 0.0853, s1.acc: 94.1528, s1.loss_bbox: 0.1081, s1.loss_mask: 0.0870, s2.loss_cls: 0.0410, s2.acc: 94.3228, s2.loss_bbox: 0.0621, s2.loss_mask: 0.0381, loss: 1.0912, grad_norm: 6.5185\n",
      "2021-05-20 17:40:24,282 - mmdet - INFO - Epoch [35][550/818]\tlr: 3.960e-05, eta: 9:21:59, time: 1.675, data_time: 0.068, memory: 26475, loss_rpn_cls: 0.0247, loss_rpn_bbox: 0.0219, loss_semantic_seg: 0.1016, s0.loss_cls: 0.1942, s0.acc: 93.5947, s0.loss_bbox: 0.1132, s0.loss_mask: 0.1958, s1.loss_cls: 0.0887, s1.acc: 94.0473, s1.loss_bbox: 0.0998, s1.loss_mask: 0.0868, s2.loss_cls: 0.0422, s2.acc: 94.2950, s2.loss_bbox: 0.0552, s2.loss_mask: 0.0382, loss: 1.0623, grad_norm: 6.8105\n",
      "2021-05-20 17:41:46,485 - mmdet - INFO - Epoch [35][600/818]\tlr: 3.960e-05, eta: 9:20:38, time: 1.644, data_time: 0.058, memory: 26475, loss_rpn_cls: 0.0209, loss_rpn_bbox: 0.0208, loss_semantic_seg: 0.0915, s0.loss_cls: 0.1800, s0.acc: 94.0107, s0.loss_bbox: 0.1096, s0.loss_mask: 0.1950, s1.loss_cls: 0.0781, s1.acc: 94.8644, s1.loss_bbox: 0.0946, s1.loss_mask: 0.0845, s2.loss_cls: 0.0360, s2.acc: 95.0890, s2.loss_bbox: 0.0556, s2.loss_mask: 0.0369, loss: 1.0034, grad_norm: 6.3029\n",
      "2021-05-20 17:43:12,690 - mmdet - INFO - Epoch [35][650/818]\tlr: 3.960e-05, eta: 9:19:20, time: 1.724, data_time: 0.075, memory: 26475, loss_rpn_cls: 0.0237, loss_rpn_bbox: 0.0277, loss_semantic_seg: 0.0964, s0.loss_cls: 0.1962, s0.acc: 93.4033, s0.loss_bbox: 0.1163, s0.loss_mask: 0.1944, s1.loss_cls: 0.0880, s1.acc: 94.1400, s1.loss_bbox: 0.1069, s1.loss_mask: 0.0845, s2.loss_cls: 0.0418, s2.acc: 94.3421, s2.loss_bbox: 0.0599, s2.loss_mask: 0.0381, loss: 1.0739, grad_norm: 7.0357\n",
      "2021-05-20 17:44:35,138 - mmdet - INFO - Epoch [35][700/818]\tlr: 3.960e-05, eta: 9:17:59, time: 1.649, data_time: 0.073, memory: 26475, loss_rpn_cls: 0.0293, loss_rpn_bbox: 0.0239, loss_semantic_seg: 0.0895, s0.loss_cls: 0.1875, s0.acc: 93.6445, s0.loss_bbox: 0.1131, s0.loss_mask: 0.1853, s1.loss_cls: 0.0812, s1.acc: 94.5625, s1.loss_bbox: 0.1004, s1.loss_mask: 0.0808, s2.loss_cls: 0.0383, s2.acc: 94.7703, s2.loss_bbox: 0.0575, s2.loss_mask: 0.0358, loss: 1.0226, grad_norm: 6.6090\n",
      "2021-05-20 17:45:58,379 - mmdet - INFO - Epoch [35][750/818]\tlr: 3.960e-05, eta: 9:16:39, time: 1.665, data_time: 0.078, memory: 26475, loss_rpn_cls: 0.0349, loss_rpn_bbox: 0.0240, loss_semantic_seg: 0.0904, s0.loss_cls: 0.2043, s0.acc: 93.1377, s0.loss_bbox: 0.1203, s0.loss_mask: 0.1897, s1.loss_cls: 0.0923, s1.acc: 93.8202, s1.loss_bbox: 0.1058, s1.loss_mask: 0.0832, s2.loss_cls: 0.0441, s2.acc: 94.1700, s2.loss_bbox: 0.0583, s2.loss_mask: 0.0374, loss: 1.0848, grad_norm: 6.6360\n",
      "2021-05-20 17:47:20,387 - mmdet - INFO - Epoch [35][800/818]\tlr: 3.960e-05, eta: 9:15:18, time: 1.640, data_time: 0.057, memory: 26475, loss_rpn_cls: 0.0261, loss_rpn_bbox: 0.0206, loss_semantic_seg: 0.0896, s0.loss_cls: 0.1863, s0.acc: 93.8994, s0.loss_bbox: 0.1090, s0.loss_mask: 0.1835, s1.loss_cls: 0.0819, s1.acc: 94.6463, s1.loss_bbox: 0.0984, s1.loss_mask: 0.0812, s2.loss_cls: 0.0390, s2.acc: 94.7863, s2.loss_bbox: 0.0560, s2.loss_mask: 0.0368, loss: 1.0083, grad_norm: 6.1999\n"
     ]
    },
    {
     "name": "stderr",
     "output_type": "stream",
     "text": [
      "2021-05-20 17:47:50,518 - mmdet - INFO - Saving checkpoint at 35 epochs\n"
     ]
    },
    {
     "name": "stdout",
     "output_type": "stream",
     "text": [
      "[>>>>>>>>>>>>>>>>>>>>>>>>>>>>>] 655/655, 4.0 task/s, elapsed: 162s, ETA:     0s"
     ]
    },
    {
     "name": "stderr",
     "output_type": "stream",
     "text": [
      "2021-05-20 17:50:39,994 - mmdet - INFO - Evaluating bbox...\n"
     ]
    },
    {
     "name": "stdout",
     "output_type": "stream",
     "text": [
      "Loading and preparing results...\n",
      "DONE (t=0.70s)\n",
      "creating index...\n",
      "index created!\n",
      "Running per image evaluation...\n",
      "Evaluate annotation type *bbox*\n",
      "DONE (t=7.37s).\n",
      "Accumulating evaluation results...\n",
      "DONE (t=1.33s).\n",
      "Average Precision  (AP) @[ IoU=0.50:0.95 | area=   all | maxDets=100 ] = 0.528\n",
      "Average Precision  (AP) @[ IoU=0.50      | area=   all | maxDets=1000 ] = 0.692\n",
      "Average Precision  (AP) @[ IoU=0.75      | area=   all | maxDets=1000 ] = 0.558\n",
      "Average Precision  (AP) @[ IoU=0.50:0.95 | area= small | maxDets=1000 ] = 0.219\n",
      "Average Precision  (AP) @[ IoU=0.50:0.95 | area=medium | maxDets=1000 ] = 0.523\n",
      "Average Precision  (AP) @[ IoU=0.50:0.95 | area= large | maxDets=1000 ] = 0.789\n",
      "Average Recall     (AR) @[ IoU=0.50:0.95 | area=   all | maxDets=100 ] = 0.614\n",
      "Average Recall     (AR) @[ IoU=0.50:0.95 | area=   all | maxDets=300 ] = 0.614\n",
      "Average Recall     (AR) @[ IoU=0.50:0.95 | area=   all | maxDets=1000 ] = 0.614\n",
      "Average Recall     (AR) @[ IoU=0.50:0.95 | area= small | maxDets=1000 ] = 0.345\n",
      "Average Recall     (AR) @[ IoU=0.50:0.95 | area=medium | maxDets=1000 ] = 0.634\n",
      "Average Recall     (AR) @[ IoU=0.50:0.95 | area= large | maxDets=1000 ] = 0.821\n"
     ]
    },
    {
     "name": "stderr",
     "output_type": "stream",
     "text": [
      "2021-05-20 17:50:52,916 - mmdet - INFO - Now best checkpoint is epoch_35.pth.Best bbox_mAP_50 is 0.6920\n",
      "2021-05-20 17:50:52,944 - mmdet - INFO - Epoch(val) [35][818]\tbbox_mAP: 0.5280, bbox_mAP_50: 0.6920, bbox_mAP_75: 0.5580, bbox_mAP_s: 0.2190, bbox_mAP_m: 0.5230, bbox_mAP_l: 0.7890, bbox_mAP_copypaste: 0.528 0.692 0.558 0.219 0.523 0.789\n",
      "/home/ubuntu/anaconda3/envs/pytorch_p36/lib/python3.6/site-packages/instaboostfast/pycococreater.py:48: VisibleDeprecationWarning: Creating an ndarray from ragged nested sequences (which is a list-or-tuple of lists-or-tuples-or ndarrays with different lengths or shapes) is deprecated. If you meant to do this, you must specify 'dtype=object' when creating the ndarray\n",
      "  contours = np.subtract(contours, 1)\n",
      "/home/ubuntu/anaconda3/envs/pytorch_p36/lib/python3.6/site-packages/instaboostfast/pycococreater.py:48: VisibleDeprecationWarning: Creating an ndarray from ragged nested sequences (which is a list-or-tuple of lists-or-tuples-or ndarrays with different lengths or shapes) is deprecated. If you meant to do this, you must specify 'dtype=object' when creating the ndarray\n",
      "  contours = np.subtract(contours, 1)\n",
      "2021-05-20 17:52:17,932 - mmdet - INFO - Epoch [36][50/818]\tlr: 3.706e-05, eta: 9:13:09, time: 1.699, data_time: 0.151, memory: 26475, loss_rpn_cls: 0.0210, loss_rpn_bbox: 0.0176, loss_semantic_seg: 0.0849, s0.loss_cls: 0.1466, s0.acc: 95.2754, s0.loss_bbox: 0.0819, s0.loss_mask: 0.1690, s1.loss_cls: 0.0627, s1.acc: 96.0543, s1.loss_bbox: 0.0792, s1.loss_mask: 0.0738, s2.loss_cls: 0.0293, s2.acc: 96.1642, s2.loss_bbox: 0.0491, s2.loss_mask: 0.0335, loss: 0.8485, grad_norm: 6.0263\n",
      "2021-05-20 17:53:41,694 - mmdet - INFO - Epoch [36][100/818]\tlr: 3.706e-05, eta: 9:11:50, time: 1.675, data_time: 0.074, memory: 26475, loss_rpn_cls: 0.0291, loss_rpn_bbox: 0.0244, loss_semantic_seg: 0.0854, s0.loss_cls: 0.1914, s0.acc: 93.5381, s0.loss_bbox: 0.1217, s0.loss_mask: 0.2041, s1.loss_cls: 0.0846, s1.acc: 94.2661, s1.loss_bbox: 0.1096, s1.loss_mask: 0.0905, s2.loss_cls: 0.0408, s2.acc: 94.4288, s2.loss_bbox: 0.0603, s2.loss_mask: 0.0404, loss: 1.0824, grad_norm: 6.3589\n",
      "2021-05-20 17:55:06,126 - mmdet - INFO - Epoch [36][150/818]\tlr: 3.706e-05, eta: 9:10:31, time: 1.689, data_time: 0.072, memory: 26475, loss_rpn_cls: 0.0263, loss_rpn_bbox: 0.0264, loss_semantic_seg: 0.0925, s0.loss_cls: 0.1851, s0.acc: 93.7012, s0.loss_bbox: 0.1149, s0.loss_mask: 0.1861, s1.loss_cls: 0.0815, s1.acc: 94.4797, s1.loss_bbox: 0.1029, s1.loss_mask: 0.0814, s2.loss_cls: 0.0390, s2.acc: 94.6035, s2.loss_bbox: 0.0605, s2.loss_mask: 0.0370, loss: 1.0338, grad_norm: 7.1114\n",
      "2021-05-20 17:56:30,751 - mmdet - INFO - Epoch [36][200/818]\tlr: 3.706e-05, eta: 9:09:12, time: 1.692, data_time: 0.074, memory: 26475, loss_rpn_cls: 0.0249, loss_rpn_bbox: 0.0235, loss_semantic_seg: 0.0963, s0.loss_cls: 0.1750, s0.acc: 94.1631, s0.loss_bbox: 0.1053, s0.loss_mask: 0.1868, s1.loss_cls: 0.0787, s1.acc: 94.6985, s1.loss_bbox: 0.0962, s1.loss_mask: 0.0824, s2.loss_cls: 0.0378, s2.acc: 94.8743, s2.loss_bbox: 0.0559, s2.loss_mask: 0.0367, loss: 0.9995, grad_norm: 6.2180\n",
      "2021-05-20 17:57:52,414 - mmdet - INFO - Epoch [36][250/818]\tlr: 3.706e-05, eta: 9:07:50, time: 1.633, data_time: 0.061, memory: 26475, loss_rpn_cls: 0.0224, loss_rpn_bbox: 0.0212, loss_semantic_seg: 0.0930, s0.loss_cls: 0.1633, s0.acc: 94.5713, s0.loss_bbox: 0.0952, s0.loss_mask: 0.1731, s1.loss_cls: 0.0716, s1.acc: 95.2734, s1.loss_bbox: 0.0843, s1.loss_mask: 0.0755, s2.loss_cls: 0.0337, s2.acc: 95.4923, s2.loss_bbox: 0.0505, s2.loss_mask: 0.0335, loss: 0.9173, grad_norm: 5.9727\n",
      "2021-05-20 17:59:13,763 - mmdet - INFO - Epoch [36][300/818]\tlr: 3.706e-05, eta: 9:06:29, time: 1.627, data_time: 0.067, memory: 26475, loss_rpn_cls: 0.0226, loss_rpn_bbox: 0.0208, loss_semantic_seg: 0.0995, s0.loss_cls: 0.1653, s0.acc: 94.4629, s0.loss_bbox: 0.1024, s0.loss_mask: 0.1933, s1.loss_cls: 0.0712, s1.acc: 95.3750, s1.loss_bbox: 0.0887, s1.loss_mask: 0.0821, s2.loss_cls: 0.0339, s2.acc: 95.5400, s2.loss_bbox: 0.0515, s2.loss_mask: 0.0368, loss: 0.9682, grad_norm: 7.2018\n",
      "2021-05-20 18:00:38,488 - mmdet - INFO - Epoch [36][350/818]\tlr: 3.706e-05, eta: 9:05:10, time: 1.694, data_time: 0.073, memory: 26475, loss_rpn_cls: 0.0255, loss_rpn_bbox: 0.0253, loss_semantic_seg: 0.0934, s0.loss_cls: 0.1789, s0.acc: 93.8633, s0.loss_bbox: 0.1110, s0.loss_mask: 0.1934, s1.loss_cls: 0.0799, s1.acc: 94.7064, s1.loss_bbox: 0.0998, s1.loss_mask: 0.0877, s2.loss_cls: 0.0381, s2.acc: 94.9923, s2.loss_bbox: 0.0573, s2.loss_mask: 0.0394, loss: 1.0297, grad_norm: 6.2808\n",
      "2021-05-20 18:02:02,842 - mmdet - INFO - Epoch [36][400/818]\tlr: 3.706e-05, eta: 9:03:51, time: 1.687, data_time: 0.070, memory: 26475, loss_rpn_cls: 0.0213, loss_rpn_bbox: 0.0226, loss_semantic_seg: 0.0901, s0.loss_cls: 0.1733, s0.acc: 93.9922, s0.loss_bbox: 0.1160, s0.loss_mask: 0.1874, s1.loss_cls: 0.0779, s1.acc: 94.6157, s1.loss_bbox: 0.1048, s1.loss_mask: 0.0806, s2.loss_cls: 0.0372, s2.acc: 94.7753, s2.loss_bbox: 0.0574, s2.loss_mask: 0.0360, loss: 1.0047, grad_norm: 5.9089\n",
      "2021-05-20 18:03:25,849 - mmdet - INFO - Epoch [36][450/818]\tlr: 3.706e-05, eta: 9:02:30, time: 1.660, data_time: 0.052, memory: 26475, loss_rpn_cls: 0.0192, loss_rpn_bbox: 0.0213, loss_semantic_seg: 0.0920, s0.loss_cls: 0.1711, s0.acc: 94.1807, s0.loss_bbox: 0.1047, s0.loss_mask: 0.1863, s1.loss_cls: 0.0752, s1.acc: 94.9609, s1.loss_bbox: 0.0957, s1.loss_mask: 0.0836, s2.loss_cls: 0.0370, s2.acc: 94.9386, s2.loss_bbox: 0.0552, s2.loss_mask: 0.0373, loss: 0.9785, grad_norm: 6.2657\n",
      "2021-05-20 18:04:47,180 - mmdet - INFO - Epoch [36][500/818]\tlr: 3.706e-05, eta: 9:01:09, time: 1.627, data_time: 0.067, memory: 26475, loss_rpn_cls: 0.0282, loss_rpn_bbox: 0.0253, loss_semantic_seg: 0.0936, s0.loss_cls: 0.1770, s0.acc: 94.1025, s0.loss_bbox: 0.1104, s0.loss_mask: 0.1911, s1.loss_cls: 0.0782, s1.acc: 94.7491, s1.loss_bbox: 0.0983, s1.loss_mask: 0.0838, s2.loss_cls: 0.0367, s2.acc: 95.0747, s2.loss_bbox: 0.0556, s2.loss_mask: 0.0370, loss: 1.0152, grad_norm: 6.5497\n",
      "2021-05-20 18:06:10,316 - mmdet - INFO - Epoch [36][550/818]\tlr: 3.706e-05, eta: 8:59:49, time: 1.663, data_time: 0.069, memory: 26475, loss_rpn_cls: 0.0286, loss_rpn_bbox: 0.0233, loss_semantic_seg: 0.0959, s0.loss_cls: 0.1840, s0.acc: 93.8486, s0.loss_bbox: 0.1094, s0.loss_mask: 0.1915, s1.loss_cls: 0.0829, s1.acc: 94.4170, s1.loss_bbox: 0.1031, s1.loss_mask: 0.0842, s2.loss_cls: 0.0395, s2.acc: 94.4156, s2.loss_bbox: 0.0585, s2.loss_mask: 0.0375, loss: 1.0384, grad_norm: 6.3337\n",
      "2021-05-20 18:07:33,267 - mmdet - INFO - Epoch [36][600/818]\tlr: 3.706e-05, eta: 8:58:28, time: 1.659, data_time: 0.066, memory: 26475, loss_rpn_cls: 0.0236, loss_rpn_bbox: 0.0213, loss_semantic_seg: 0.0901, s0.loss_cls: 0.1794, s0.acc: 93.9268, s0.loss_bbox: 0.1092, s0.loss_mask: 0.1802, s1.loss_cls: 0.0805, s1.acc: 94.5931, s1.loss_bbox: 0.0956, s1.loss_mask: 0.0787, s2.loss_cls: 0.0385, s2.acc: 94.7717, s2.loss_bbox: 0.0571, s2.loss_mask: 0.0358, loss: 0.9901, grad_norm: 6.4286\n",
      "2021-05-20 18:08:58,785 - mmdet - INFO - Epoch [36][650/818]\tlr: 3.706e-05, eta: 8:57:10, time: 1.710, data_time: 0.074, memory: 26475, loss_rpn_cls: 0.0256, loss_rpn_bbox: 0.0257, loss_semantic_seg: 0.0935, s0.loss_cls: 0.2064, s0.acc: 93.0977, s0.loss_bbox: 0.1291, s0.loss_mask: 0.2131, s1.loss_cls: 0.0937, s1.acc: 93.7707, s1.loss_bbox: 0.1135, s1.loss_mask: 0.0914, s2.loss_cls: 0.0445, s2.acc: 94.0220, s2.loss_bbox: 0.0655, s2.loss_mask: 0.0411, loss: 1.1430, grad_norm: 6.8942\n",
      "2021-05-20 18:10:21,393 - mmdet - INFO - Epoch [36][700/818]\tlr: 3.706e-05, eta: 8:55:49, time: 1.652, data_time: 0.063, memory: 26475, loss_rpn_cls: 0.0238, loss_rpn_bbox: 0.0202, loss_semantic_seg: 0.0880, s0.loss_cls: 0.1491, s0.acc: 94.9766, s0.loss_bbox: 0.0877, s0.loss_mask: 0.1698, s1.loss_cls: 0.0645, s1.acc: 95.6440, s1.loss_bbox: 0.0783, s1.loss_mask: 0.0742, s2.loss_cls: 0.0310, s2.acc: 95.8929, s2.loss_bbox: 0.0458, s2.loss_mask: 0.0333, loss: 0.8657, grad_norm: 6.0584\n",
      "2021-05-20 18:11:48,557 - mmdet - INFO - Epoch [36][750/818]\tlr: 3.706e-05, eta: 8:54:32, time: 1.743, data_time: 0.101, memory: 26475, loss_rpn_cls: 0.0337, loss_rpn_bbox: 0.0273, loss_semantic_seg: 0.0891, s0.loss_cls: 0.2099, s0.acc: 93.2578, s0.loss_bbox: 0.1225, s0.loss_mask: 0.2017, s1.loss_cls: 0.0917, s1.acc: 94.1300, s1.loss_bbox: 0.1107, s1.loss_mask: 0.0874, s2.loss_cls: 0.0433, s2.acc: 94.3692, s2.loss_bbox: 0.0643, s2.loss_mask: 0.0390, loss: 1.1206, grad_norm: 6.5421\n"
     ]
    },
    {
     "name": "stderr",
     "output_type": "stream",
     "text": [
      "2021-05-20 18:13:11,822 - mmdet - INFO - Epoch [36][800/818]\tlr: 3.706e-05, eta: 8:53:12, time: 1.665, data_time: 0.061, memory: 26475, loss_rpn_cls: 0.0213, loss_rpn_bbox: 0.0189, loss_semantic_seg: 0.0881, s0.loss_cls: 0.1799, s0.acc: 94.1260, s0.loss_bbox: 0.1062, s0.loss_mask: 0.1847, s1.loss_cls: 0.0811, s1.acc: 94.7269, s1.loss_bbox: 0.0927, s1.loss_mask: 0.0797, s2.loss_cls: 0.0381, s2.acc: 94.9568, s2.loss_bbox: 0.0512, s2.loss_mask: 0.0355, loss: 0.9772, grad_norm: 6.6761\n",
      "2021-05-20 18:13:43,043 - mmdet - INFO - Saving checkpoint at 36 epochs\n"
     ]
    },
    {
     "name": "stdout",
     "output_type": "stream",
     "text": [
      "[>>>>>>>>>>>>>>>>>>>>>>>>>>>>>] 655/655, 4.0 task/s, elapsed: 162s, ETA:     0s"
     ]
    },
    {
     "name": "stderr",
     "output_type": "stream",
     "text": [
      "2021-05-20 18:16:32,042 - mmdet - INFO - Evaluating bbox...\n"
     ]
    },
    {
     "name": "stdout",
     "output_type": "stream",
     "text": [
      "Loading and preparing results...\n",
      "DONE (t=1.22s)\n",
      "creating index...\n",
      "index created!\n",
      "Running per image evaluation...\n",
      "Evaluate annotation type *bbox*\n",
      "DONE (t=7.37s).\n",
      "Accumulating evaluation results...\n",
      "DONE (t=1.31s).\n",
      "Average Precision  (AP) @[ IoU=0.50:0.95 | area=   all | maxDets=100 ] = 0.526\n",
      "Average Precision  (AP) @[ IoU=0.50      | area=   all | maxDets=1000 ] = 0.697\n",
      "Average Precision  (AP) @[ IoU=0.75      | area=   all | maxDets=1000 ] = 0.559\n",
      "Average Precision  (AP) @[ IoU=0.50:0.95 | area= small | maxDets=1000 ] = 0.231\n",
      "Average Precision  (AP) @[ IoU=0.50:0.95 | area=medium | maxDets=1000 ] = 0.528\n",
      "Average Precision  (AP) @[ IoU=0.50:0.95 | area= large | maxDets=1000 ] = 0.785\n",
      "Average Recall     (AR) @[ IoU=0.50:0.95 | area=   all | maxDets=100 ] = 0.619\n",
      "Average Recall     (AR) @[ IoU=0.50:0.95 | area=   all | maxDets=300 ] = 0.619\n",
      "Average Recall     (AR) @[ IoU=0.50:0.95 | area=   all | maxDets=1000 ] = 0.619\n",
      "Average Recall     (AR) @[ IoU=0.50:0.95 | area= small | maxDets=1000 ] = 0.365\n",
      "Average Recall     (AR) @[ IoU=0.50:0.95 | area=medium | maxDets=1000 ] = 0.642\n",
      "Average Recall     (AR) @[ IoU=0.50:0.95 | area= large | maxDets=1000 ] = 0.838\n"
     ]
    },
    {
     "name": "stderr",
     "output_type": "stream",
     "text": [
      "2021-05-20 18:16:45,784 - mmdet - INFO - Now best checkpoint is epoch_36.pth.Best bbox_mAP_50 is 0.6970\n",
      "2021-05-20 18:16:45,812 - mmdet - INFO - Epoch(val) [36][818]\tbbox_mAP: 0.5260, bbox_mAP_50: 0.6970, bbox_mAP_75: 0.5590, bbox_mAP_s: 0.2310, bbox_mAP_m: 0.5280, bbox_mAP_l: 0.7850, bbox_mAP_copypaste: 0.526 0.697 0.559 0.231 0.528 0.785\n",
      "/home/ubuntu/anaconda3/envs/pytorch_p36/lib/python3.6/site-packages/instaboostfast/pycococreater.py:48: VisibleDeprecationWarning: Creating an ndarray from ragged nested sequences (which is a list-or-tuple of lists-or-tuples-or ndarrays with different lengths or shapes) is deprecated. If you meant to do this, you must specify 'dtype=object' when creating the ndarray\n",
      "  contours = np.subtract(contours, 1)\n",
      "/home/ubuntu/anaconda3/envs/pytorch_p36/lib/python3.6/site-packages/instaboostfast/pycococreater.py:48: VisibleDeprecationWarning: Creating an ndarray from ragged nested sequences (which is a list-or-tuple of lists-or-tuples-or ndarrays with different lengths or shapes) is deprecated. If you meant to do this, you must specify 'dtype=object' when creating the ndarray\n",
      "  contours = np.subtract(contours, 1)\n",
      "2021-05-20 18:18:13,242 - mmdet - INFO - Epoch [37][50/818]\tlr: 3.455e-05, eta: 8:51:05, time: 1.748, data_time: 0.170, memory: 26475, loss_rpn_cls: 0.0274, loss_rpn_bbox: 0.0232, loss_semantic_seg: 0.0917, s0.loss_cls: 0.1810, s0.acc: 93.9736, s0.loss_bbox: 0.1128, s0.loss_mask: 0.1868, s1.loss_cls: 0.0797, s1.acc: 94.7451, s1.loss_bbox: 0.0976, s1.loss_mask: 0.0814, s2.loss_cls: 0.0372, s2.acc: 94.8438, s2.loss_bbox: 0.0551, s2.loss_mask: 0.0368, loss: 1.0108, grad_norm: 6.1529\n",
      "2021-05-20 18:19:36,796 - mmdet - INFO - Epoch [37][100/818]\tlr: 3.455e-05, eta: 8:49:46, time: 1.671, data_time: 0.065, memory: 26475, loss_rpn_cls: 0.0229, loss_rpn_bbox: 0.0228, loss_semantic_seg: 0.0893, s0.loss_cls: 0.1786, s0.acc: 94.1016, s0.loss_bbox: 0.1099, s0.loss_mask: 0.1878, s1.loss_cls: 0.0771, s1.acc: 94.8957, s1.loss_bbox: 0.0940, s1.loss_mask: 0.0815, s2.loss_cls: 0.0374, s2.acc: 94.9490, s2.loss_bbox: 0.0548, s2.loss_mask: 0.0367, loss: 0.9927, grad_norm: 6.2632\n",
      "2021-05-20 18:21:01,847 - mmdet - INFO - Epoch [37][150/818]\tlr: 3.455e-05, eta: 8:48:27, time: 1.701, data_time: 0.067, memory: 26475, loss_rpn_cls: 0.0254, loss_rpn_bbox: 0.0224, loss_semantic_seg: 0.0892, s0.loss_cls: 0.1836, s0.acc: 93.8545, s0.loss_bbox: 0.1117, s0.loss_mask: 0.1881, s1.loss_cls: 0.0802, s1.acc: 94.6049, s1.loss_bbox: 0.0981, s1.loss_mask: 0.0826, s2.loss_cls: 0.0387, s2.acc: 94.8492, s2.loss_bbox: 0.0570, s2.loss_mask: 0.0368, loss: 1.0137, grad_norm: 6.6375\n",
      "2021-05-20 18:22:24,260 - mmdet - INFO - Epoch [37][200/818]\tlr: 3.455e-05, eta: 8:47:06, time: 1.648, data_time: 0.069, memory: 26475, loss_rpn_cls: 0.0281, loss_rpn_bbox: 0.0249, loss_semantic_seg: 0.0915, s0.loss_cls: 0.1747, s0.acc: 94.2002, s0.loss_bbox: 0.1078, s0.loss_mask: 0.1829, s1.loss_cls: 0.0771, s1.acc: 94.9672, s1.loss_bbox: 0.0960, s1.loss_mask: 0.0800, s2.loss_cls: 0.0362, s2.acc: 95.0489, s2.loss_bbox: 0.0526, s2.loss_mask: 0.0348, loss: 0.9865, grad_norm: 7.2879\n",
      "2021-05-20 18:23:45,701 - mmdet - INFO - Epoch [37][250/818]\tlr: 3.455e-05, eta: 8:45:45, time: 1.629, data_time: 0.070, memory: 26475, loss_rpn_cls: 0.0237, loss_rpn_bbox: 0.0223, loss_semantic_seg: 0.0882, s0.loss_cls: 0.1749, s0.acc: 94.0674, s0.loss_bbox: 0.1098, s0.loss_mask: 0.1917, s1.loss_cls: 0.0800, s1.acc: 94.6847, s1.loss_bbox: 0.1005, s1.loss_mask: 0.0827, s2.loss_cls: 0.0375, s2.acc: 94.9918, s2.loss_bbox: 0.0568, s2.loss_mask: 0.0365, loss: 1.0046, grad_norm: 6.2391\n",
      "2021-05-20 18:25:09,810 - mmdet - INFO - Epoch [37][300/818]\tlr: 3.455e-05, eta: 8:44:25, time: 1.682, data_time: 0.082, memory: 26475, loss_rpn_cls: 0.0256, loss_rpn_bbox: 0.0252, loss_semantic_seg: 0.0912, s0.loss_cls: 0.1878, s0.acc: 93.5879, s0.loss_bbox: 0.1187, s0.loss_mask: 0.1864, s1.loss_cls: 0.0813, s1.acc: 94.4341, s1.loss_bbox: 0.1028, s1.loss_mask: 0.0810, s2.loss_cls: 0.0386, s2.acc: 94.7687, s2.loss_bbox: 0.0569, s2.loss_mask: 0.0360, loss: 1.0315, grad_norm: 5.6419\n",
      "2021-05-20 18:26:32,980 - mmdet - INFO - Epoch [37][350/818]\tlr: 3.455e-05, eta: 8:43:05, time: 1.663, data_time: 0.067, memory: 26475, loss_rpn_cls: 0.0305, loss_rpn_bbox: 0.0247, loss_semantic_seg: 0.0901, s0.loss_cls: 0.1804, s0.acc: 93.9365, s0.loss_bbox: 0.1063, s0.loss_mask: 0.1788, s1.loss_cls: 0.0792, s1.acc: 94.7993, s1.loss_bbox: 0.0969, s1.loss_mask: 0.0792, s2.loss_cls: 0.0367, s2.acc: 95.2063, s2.loss_bbox: 0.0561, s2.loss_mask: 0.0357, loss: 0.9948, grad_norm: 6.3726\n",
      "2021-05-20 18:27:56,989 - mmdet - INFO - Epoch [37][400/818]\tlr: 3.455e-05, eta: 8:41:45, time: 1.680, data_time: 0.074, memory: 26475, loss_rpn_cls: 0.0252, loss_rpn_bbox: 0.0256, loss_semantic_seg: 0.0800, s0.loss_cls: 0.1749, s0.acc: 94.0986, s0.loss_bbox: 0.1109, s0.loss_mask: 0.1817, s1.loss_cls: 0.0770, s1.acc: 94.8404, s1.loss_bbox: 0.0970, s1.loss_mask: 0.0778, s2.loss_cls: 0.0372, s2.acc: 94.8050, s2.loss_bbox: 0.0568, s2.loss_mask: 0.0354, loss: 0.9795, grad_norm: 6.2383\n",
      "2021-05-20 18:29:18,671 - mmdet - INFO - Epoch [37][450/818]\tlr: 3.455e-05, eta: 8:40:24, time: 1.634, data_time: 0.070, memory: 26475, loss_rpn_cls: 0.0269, loss_rpn_bbox: 0.0229, loss_semantic_seg: 0.1038, s0.loss_cls: 0.1816, s0.acc: 93.9453, s0.loss_bbox: 0.1060, s0.loss_mask: 0.1827, s1.loss_cls: 0.0815, s1.acc: 94.5596, s1.loss_bbox: 0.0941, s1.loss_mask: 0.0780, s2.loss_cls: 0.0384, s2.acc: 94.8784, s2.loss_bbox: 0.0546, s2.loss_mask: 0.0349, loss: 1.0054, grad_norm: 6.1434\n",
      "2021-05-20 18:30:38,268 - mmdet - INFO - Epoch [37][500/818]\tlr: 3.455e-05, eta: 8:39:01, time: 1.592, data_time: 0.060, memory: 26475, loss_rpn_cls: 0.0218, loss_rpn_bbox: 0.0205, loss_semantic_seg: 0.0873, s0.loss_cls: 0.1585, s0.acc: 94.8076, s0.loss_bbox: 0.0918, s0.loss_mask: 0.1788, s1.loss_cls: 0.0702, s1.acc: 95.3363, s1.loss_bbox: 0.0841, s1.loss_mask: 0.0800, s2.loss_cls: 0.0331, s2.acc: 95.4586, s2.loss_bbox: 0.0485, s2.loss_mask: 0.0362, loss: 0.9106, grad_norm: 6.3165\n",
      "2021-05-20 18:32:01,982 - mmdet - INFO - Epoch [37][550/818]\tlr: 3.455e-05, eta: 8:37:41, time: 1.674, data_time: 0.069, memory: 26475, loss_rpn_cls: 0.0260, loss_rpn_bbox: 0.0232, loss_semantic_seg: 0.0912, s0.loss_cls: 0.1747, s0.acc: 94.2520, s0.loss_bbox: 0.1075, s0.loss_mask: 0.1842, s1.loss_cls: 0.0765, s1.acc: 95.0452, s1.loss_bbox: 0.0934, s1.loss_mask: 0.0799, s2.loss_cls: 0.0359, s2.acc: 95.3431, s2.loss_bbox: 0.0539, s2.loss_mask: 0.0362, loss: 0.9828, grad_norm: 5.8582\n",
      "2021-05-20 18:33:26,337 - mmdet - INFO - Epoch [37][600/818]\tlr: 3.455e-05, eta: 8:36:22, time: 1.687, data_time: 0.067, memory: 26475, loss_rpn_cls: 0.0311, loss_rpn_bbox: 0.0243, loss_semantic_seg: 0.0884, s0.loss_cls: 0.1798, s0.acc: 93.8369, s0.loss_bbox: 0.1072, s0.loss_mask: 0.1830, s1.loss_cls: 0.0788, s1.acc: 94.6692, s1.loss_bbox: 0.0977, s1.loss_mask: 0.0801, s2.loss_cls: 0.0382, s2.acc: 94.7536, s2.loss_bbox: 0.0571, s2.loss_mask: 0.0358, loss: 1.0015, grad_norm: 6.8977\n"
     ]
    },
    {
     "ename": "KeyboardInterrupt",
     "evalue": "",
     "output_type": "error",
     "traceback": [
      "\u001b[0;31m---------------------------------------------------------------------------\u001b[0m",
      "\u001b[0;31mKeyboardInterrupt\u001b[0m                         Traceback (most recent call last)",
      "\u001b[0;32m<ipython-input-5-59b5768e9e45>\u001b[0m in \u001b[0;36m<module>\u001b[0;34m()\u001b[0m\n\u001b[0;32m----> 1\u001b[0;31m \u001b[0mtrain_detector\u001b[0m\u001b[0;34m(\u001b[0m\u001b[0mmodel\u001b[0m\u001b[0;34m,\u001b[0m \u001b[0mdatasets\u001b[0m\u001b[0;34m[\u001b[0m\u001b[0;36m0\u001b[0m\u001b[0;34m]\u001b[0m\u001b[0;34m,\u001b[0m \u001b[0mcfg\u001b[0m\u001b[0;34m,\u001b[0m \u001b[0mdistributed\u001b[0m\u001b[0;34m=\u001b[0m\u001b[0;32mFalse\u001b[0m\u001b[0;34m,\u001b[0m \u001b[0mvalidate\u001b[0m\u001b[0;34m=\u001b[0m\u001b[0;32mTrue\u001b[0m\u001b[0;34m)\u001b[0m\u001b[0;34m\u001b[0m\u001b[0m\n\u001b[0m",
      "\u001b[0;32m~/CUAI_2021/Advanced_Won_Cho/code/Swin-Transformer-Object-Detection/mmdet/apis/train.py\u001b[0m in \u001b[0;36mtrain_detector\u001b[0;34m(model, dataset, cfg, distributed, validate, timestamp, meta)\u001b[0m\n\u001b[1;32m    183\u001b[0m     \u001b[0;32melif\u001b[0m \u001b[0mcfg\u001b[0m\u001b[0;34m.\u001b[0m\u001b[0mload_from\u001b[0m\u001b[0;34m:\u001b[0m\u001b[0;34m\u001b[0m\u001b[0m\n\u001b[1;32m    184\u001b[0m         \u001b[0mrunner\u001b[0m\u001b[0;34m.\u001b[0m\u001b[0mload_checkpoint\u001b[0m\u001b[0;34m(\u001b[0m\u001b[0mcfg\u001b[0m\u001b[0;34m.\u001b[0m\u001b[0mload_from\u001b[0m\u001b[0;34m)\u001b[0m\u001b[0;34m\u001b[0m\u001b[0m\n\u001b[0;32m--> 185\u001b[0;31m     \u001b[0mrunner\u001b[0m\u001b[0;34m.\u001b[0m\u001b[0mrun\u001b[0m\u001b[0;34m(\u001b[0m\u001b[0mdata_loaders\u001b[0m\u001b[0;34m,\u001b[0m \u001b[0mcfg\u001b[0m\u001b[0;34m.\u001b[0m\u001b[0mworkflow\u001b[0m\u001b[0;34m)\u001b[0m\u001b[0;34m\u001b[0m\u001b[0m\n\u001b[0m",
      "\u001b[0;32m~/anaconda3/envs/pytorch_p36/lib/python3.6/site-packages/mmcv/runner/epoch_based_runner.py\u001b[0m in \u001b[0;36mrun\u001b[0;34m(self, data_loaders, workflow, max_epochs, **kwargs)\u001b[0m\n\u001b[1;32m    123\u001b[0m                     \u001b[0;32mif\u001b[0m \u001b[0mmode\u001b[0m \u001b[0;34m==\u001b[0m \u001b[0;34m'train'\u001b[0m \u001b[0;32mand\u001b[0m \u001b[0mself\u001b[0m\u001b[0;34m.\u001b[0m\u001b[0mepoch\u001b[0m \u001b[0;34m>=\u001b[0m \u001b[0mself\u001b[0m\u001b[0;34m.\u001b[0m\u001b[0m_max_epochs\u001b[0m\u001b[0;34m:\u001b[0m\u001b[0;34m\u001b[0m\u001b[0m\n\u001b[1;32m    124\u001b[0m                         \u001b[0;32mbreak\u001b[0m\u001b[0;34m\u001b[0m\u001b[0m\n\u001b[0;32m--> 125\u001b[0;31m                     \u001b[0mepoch_runner\u001b[0m\u001b[0;34m(\u001b[0m\u001b[0mdata_loaders\u001b[0m\u001b[0;34m[\u001b[0m\u001b[0mi\u001b[0m\u001b[0;34m]\u001b[0m\u001b[0;34m,\u001b[0m \u001b[0;34m**\u001b[0m\u001b[0mkwargs\u001b[0m\u001b[0;34m)\u001b[0m\u001b[0;34m\u001b[0m\u001b[0m\n\u001b[0m\u001b[1;32m    126\u001b[0m \u001b[0;34m\u001b[0m\u001b[0m\n\u001b[1;32m    127\u001b[0m         \u001b[0mtime\u001b[0m\u001b[0;34m.\u001b[0m\u001b[0msleep\u001b[0m\u001b[0;34m(\u001b[0m\u001b[0;36m1\u001b[0m\u001b[0;34m)\u001b[0m  \u001b[0;31m# wait for some hooks like loggers to finish\u001b[0m\u001b[0;34m\u001b[0m\u001b[0m\n",
      "\u001b[0;32m~/anaconda3/envs/pytorch_p36/lib/python3.6/site-packages/mmcv/runner/epoch_based_runner.py\u001b[0m in \u001b[0;36mtrain\u001b[0;34m(self, data_loader, **kwargs)\u001b[0m\n\u001b[1;32m     49\u001b[0m             \u001b[0mself\u001b[0m\u001b[0;34m.\u001b[0m\u001b[0mcall_hook\u001b[0m\u001b[0;34m(\u001b[0m\u001b[0;34m'before_train_iter'\u001b[0m\u001b[0;34m)\u001b[0m\u001b[0;34m\u001b[0m\u001b[0m\n\u001b[1;32m     50\u001b[0m             \u001b[0mself\u001b[0m\u001b[0;34m.\u001b[0m\u001b[0mrun_iter\u001b[0m\u001b[0;34m(\u001b[0m\u001b[0mdata_batch\u001b[0m\u001b[0;34m,\u001b[0m \u001b[0mtrain_mode\u001b[0m\u001b[0;34m=\u001b[0m\u001b[0;32mTrue\u001b[0m\u001b[0;34m,\u001b[0m \u001b[0;34m**\u001b[0m\u001b[0mkwargs\u001b[0m\u001b[0;34m)\u001b[0m\u001b[0;34m\u001b[0m\u001b[0m\n\u001b[0;32m---> 51\u001b[0;31m             \u001b[0mself\u001b[0m\u001b[0;34m.\u001b[0m\u001b[0mcall_hook\u001b[0m\u001b[0;34m(\u001b[0m\u001b[0;34m'after_train_iter'\u001b[0m\u001b[0;34m)\u001b[0m\u001b[0;34m\u001b[0m\u001b[0m\n\u001b[0m\u001b[1;32m     52\u001b[0m             \u001b[0mself\u001b[0m\u001b[0;34m.\u001b[0m\u001b[0m_iter\u001b[0m \u001b[0;34m+=\u001b[0m \u001b[0;36m1\u001b[0m\u001b[0;34m\u001b[0m\u001b[0m\n\u001b[1;32m     53\u001b[0m \u001b[0;34m\u001b[0m\u001b[0m\n",
      "\u001b[0;32m~/anaconda3/envs/pytorch_p36/lib/python3.6/site-packages/mmcv/runner/base_runner.py\u001b[0m in \u001b[0;36mcall_hook\u001b[0;34m(self, fn_name)\u001b[0m\n\u001b[1;32m    305\u001b[0m         \"\"\"\n\u001b[1;32m    306\u001b[0m         \u001b[0;32mfor\u001b[0m \u001b[0mhook\u001b[0m \u001b[0;32min\u001b[0m \u001b[0mself\u001b[0m\u001b[0;34m.\u001b[0m\u001b[0m_hooks\u001b[0m\u001b[0;34m:\u001b[0m\u001b[0;34m\u001b[0m\u001b[0m\n\u001b[0;32m--> 307\u001b[0;31m             \u001b[0mgetattr\u001b[0m\u001b[0;34m(\u001b[0m\u001b[0mhook\u001b[0m\u001b[0;34m,\u001b[0m \u001b[0mfn_name\u001b[0m\u001b[0;34m)\u001b[0m\u001b[0;34m(\u001b[0m\u001b[0mself\u001b[0m\u001b[0;34m)\u001b[0m\u001b[0;34m\u001b[0m\u001b[0m\n\u001b[0m\u001b[1;32m    308\u001b[0m \u001b[0;34m\u001b[0m\u001b[0m\n\u001b[1;32m    309\u001b[0m     def load_checkpoint(self,\n",
      "\u001b[0;32m~/anaconda3/envs/pytorch_p36/lib/python3.6/site-packages/mmcv/runner/hooks/optimizer.py\u001b[0m in \u001b[0;36mafter_train_iter\u001b[0;34m(self, runner)\u001b[0m\n\u001b[1;32m     33\u001b[0m     \u001b[0;32mdef\u001b[0m \u001b[0mafter_train_iter\u001b[0m\u001b[0;34m(\u001b[0m\u001b[0mself\u001b[0m\u001b[0;34m,\u001b[0m \u001b[0mrunner\u001b[0m\u001b[0;34m)\u001b[0m\u001b[0;34m:\u001b[0m\u001b[0;34m\u001b[0m\u001b[0m\n\u001b[1;32m     34\u001b[0m         \u001b[0mrunner\u001b[0m\u001b[0;34m.\u001b[0m\u001b[0moptimizer\u001b[0m\u001b[0;34m.\u001b[0m\u001b[0mzero_grad\u001b[0m\u001b[0;34m(\u001b[0m\u001b[0;34m)\u001b[0m\u001b[0;34m\u001b[0m\u001b[0m\n\u001b[0;32m---> 35\u001b[0;31m         \u001b[0mrunner\u001b[0m\u001b[0;34m.\u001b[0m\u001b[0moutputs\u001b[0m\u001b[0;34m[\u001b[0m\u001b[0;34m'loss'\u001b[0m\u001b[0;34m]\u001b[0m\u001b[0;34m.\u001b[0m\u001b[0mbackward\u001b[0m\u001b[0;34m(\u001b[0m\u001b[0;34m)\u001b[0m\u001b[0;34m\u001b[0m\u001b[0m\n\u001b[0m\u001b[1;32m     36\u001b[0m         \u001b[0;32mif\u001b[0m \u001b[0mself\u001b[0m\u001b[0;34m.\u001b[0m\u001b[0mgrad_clip\u001b[0m \u001b[0;32mis\u001b[0m \u001b[0;32mnot\u001b[0m \u001b[0;32mNone\u001b[0m\u001b[0;34m:\u001b[0m\u001b[0;34m\u001b[0m\u001b[0m\n\u001b[1;32m     37\u001b[0m             \u001b[0mgrad_norm\u001b[0m \u001b[0;34m=\u001b[0m \u001b[0mself\u001b[0m\u001b[0;34m.\u001b[0m\u001b[0mclip_grads\u001b[0m\u001b[0;34m(\u001b[0m\u001b[0mrunner\u001b[0m\u001b[0;34m.\u001b[0m\u001b[0mmodel\u001b[0m\u001b[0;34m.\u001b[0m\u001b[0mparameters\u001b[0m\u001b[0;34m(\u001b[0m\u001b[0;34m)\u001b[0m\u001b[0;34m)\u001b[0m\u001b[0;34m\u001b[0m\u001b[0m\n",
      "\u001b[0;32m~/anaconda3/envs/pytorch_p36/lib/python3.6/site-packages/torch/tensor.py\u001b[0m in \u001b[0;36mbackward\u001b[0;34m(self, gradient, retain_graph, create_graph)\u001b[0m\n\u001b[1;32m    183\u001b[0m                 \u001b[0mproducts\u001b[0m\u001b[0;34m.\u001b[0m \u001b[0mDefaults\u001b[0m \u001b[0mto\u001b[0m\u001b[0;31m \u001b[0m\u001b[0;31m`\u001b[0m\u001b[0;31m`\u001b[0m\u001b[0;32mFalse\u001b[0m\u001b[0;31m`\u001b[0m\u001b[0;31m`\u001b[0m\u001b[0;34m.\u001b[0m\u001b[0;34m\u001b[0m\u001b[0m\n\u001b[1;32m    184\u001b[0m         \"\"\"\n\u001b[0;32m--> 185\u001b[0;31m         \u001b[0mtorch\u001b[0m\u001b[0;34m.\u001b[0m\u001b[0mautograd\u001b[0m\u001b[0;34m.\u001b[0m\u001b[0mbackward\u001b[0m\u001b[0;34m(\u001b[0m\u001b[0mself\u001b[0m\u001b[0;34m,\u001b[0m \u001b[0mgradient\u001b[0m\u001b[0;34m,\u001b[0m \u001b[0mretain_graph\u001b[0m\u001b[0;34m,\u001b[0m \u001b[0mcreate_graph\u001b[0m\u001b[0;34m)\u001b[0m\u001b[0;34m\u001b[0m\u001b[0m\n\u001b[0m\u001b[1;32m    186\u001b[0m \u001b[0;34m\u001b[0m\u001b[0m\n\u001b[1;32m    187\u001b[0m     \u001b[0;32mdef\u001b[0m \u001b[0mregister_hook\u001b[0m\u001b[0;34m(\u001b[0m\u001b[0mself\u001b[0m\u001b[0;34m,\u001b[0m \u001b[0mhook\u001b[0m\u001b[0;34m)\u001b[0m\u001b[0;34m:\u001b[0m\u001b[0;34m\u001b[0m\u001b[0m\n",
      "\u001b[0;32m~/anaconda3/envs/pytorch_p36/lib/python3.6/site-packages/torch/autograd/__init__.py\u001b[0m in \u001b[0;36mbackward\u001b[0;34m(tensors, grad_tensors, retain_graph, create_graph, grad_variables)\u001b[0m\n\u001b[1;32m    125\u001b[0m     Variable._execution_engine.run_backward(\n\u001b[1;32m    126\u001b[0m         \u001b[0mtensors\u001b[0m\u001b[0;34m,\u001b[0m \u001b[0mgrad_tensors\u001b[0m\u001b[0;34m,\u001b[0m \u001b[0mretain_graph\u001b[0m\u001b[0;34m,\u001b[0m \u001b[0mcreate_graph\u001b[0m\u001b[0;34m,\u001b[0m\u001b[0;34m\u001b[0m\u001b[0m\n\u001b[0;32m--> 127\u001b[0;31m         allow_unreachable=True)  # allow_unreachable flag\n\u001b[0m\u001b[1;32m    128\u001b[0m \u001b[0;34m\u001b[0m\u001b[0m\n\u001b[1;32m    129\u001b[0m \u001b[0;34m\u001b[0m\u001b[0m\n",
      "\u001b[0;31mKeyboardInterrupt\u001b[0m: "
     ]
    }
   ],
   "source": [
    "train_detector(model, datasets[0], cfg, distributed=False, validate=True)"
   ]
  }
 ],
 "metadata": {
  "kernelspec": {
   "display_name": "Python 3",
   "language": "python",
   "name": "python3"
  },
  "language_info": {
   "codemirror_mode": {
    "name": "ipython",
    "version": 3
   },
   "file_extension": ".py",
   "mimetype": "text/x-python",
   "name": "python",
   "nbconvert_exporter": "python",
   "pygments_lexer": "ipython3",
   "version": "3.6.5"
  }
 },
 "nbformat": 4,
 "nbformat_minor": 5
}
