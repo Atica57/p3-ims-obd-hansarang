{
 "cells": [
  {
   "cell_type": "code",
   "execution_count": 1,
   "metadata": {},
   "outputs": [
    {
     "name": "stdout",
     "output_type": "stream",
     "text": [
      "PyTorch version:[1.6.0].\n",
      "device:[cuda:0].\n"
     ]
    },
    {
     "name": "stderr",
     "output_type": "stream",
     "text": [
      "/home/ubuntu/anaconda3/envs/pytorch_p36/lib/python3.6/site-packages/mmcv/utils/registry.py:250: UserWarning: The old API of register_module(module, force=False) is deprecated and will be removed, please use the new API register_module(name=None, force=False, module=None) instead.\n",
      "  'The old API of register_module(module, force=False) '\n"
     ]
    }
   ],
   "source": [
    "from mmcv import Config\n",
    "from mmdet.datasets import build_dataset\n",
    "from mmdet.models import build_detector\n",
    "from mmdet.apis import train_detector\n",
    "from mmdet.datasets import (build_dataloader, build_dataset,\n",
    "                            replace_ImageToTensor)\n",
    "from mmcv.runner import load_checkpoint\n",
    "from tqdm.notebook import tqdm\n",
    "import torch\n",
    "print (\"PyTorch version:[%s].\"%(torch.__version__))\n",
    "device = torch.device('cuda:0' if torch.cuda.is_available() else 'cpu')\n",
    "print (\"device:[%s].\"%(device))"
   ]
  },
  {
   "cell_type": "code",
   "execution_count": 2,
   "metadata": {},
   "outputs": [],
   "source": [
    "classes = (\"UNKNOWN\", \"General trash\", \"Paper\", \"Paper pack\", \"Metal\", \"Glass\", \n",
    "           \"Plastic\", \"Styrofoam\", \"Plastic bag\", \"Battery\", \"Clothing\")\n",
    "# config file 들고오기\n",
    "cfg = Config.fromfile('./configs/swin/cascade_mask_rcnn_swin_base2.py')\n",
    "\n",
    "PREFIX = '../../input/data/'\n",
    "\n",
    "# dataset 바꾸기\n",
    "cfg.data.train.classes = classes\n",
    "cfg.data.train.img_prefix = PREFIX\n",
    "cfg.data.train.ann_file = PREFIX + 'train_all.json'\n",
    "\n",
    "cfg.data.val.classes = classes\n",
    "cfg.data.val.img_prefix = PREFIX\n",
    "cfg.data.val.ann_file = PREFIX + 'val.json'\n",
    "\n",
    "cfg.data.test.classes = classes\n",
    "cfg.data.test.img_prefix = PREFIX\n",
    "cfg.data.test.ann_file = PREFIX + 'test.json'\n",
    "\n",
    "cfg.data.samples_per_gpu = 3\n",
    "\n",
    "cfg.seed=42\n",
    "cfg.gpu_ids = [0]\n",
    "cfg.work_dir = './work_dirs/swin+cascade+small'\n",
    "cfg.optimizer_config.grad_clip = dict(max_norm=35, norm_type=2)"
   ]
  },
  {
   "cell_type": "code",
   "execution_count": 3,
   "metadata": {},
   "outputs": [
    {
     "name": "stderr",
     "output_type": "stream",
     "text": [
      "2021-05-20 02:28:45,685 - mmdet - INFO - load model from: /home/ubuntu/CUAI_2021/Advanced_Won_Cho/code/Swin-Transformer-Object-Detection/work_dirs/swin+cascade/swin_base_patch4_window7_224_22k.pth\n",
      "2021-05-20 02:28:47,137 - mmdet - WARNING - The model and loaded state dict do not match exactly\n",
      "\n",
      "unexpected key in source state_dict: norm.weight, norm.bias, head.weight, head.bias, layers.0.blocks.1.attn_mask, layers.1.blocks.1.attn_mask, layers.2.blocks.1.attn_mask, layers.2.blocks.3.attn_mask, layers.2.blocks.5.attn_mask, layers.2.blocks.7.attn_mask, layers.2.blocks.9.attn_mask, layers.2.blocks.11.attn_mask, layers.2.blocks.13.attn_mask, layers.2.blocks.15.attn_mask, layers.2.blocks.17.attn_mask\n",
      "\n",
      "missing keys in source state_dict: norm0.weight, norm0.bias, norm1.weight, norm1.bias, norm2.weight, norm2.bias, norm3.weight, norm3.bias\n",
      "\n"
     ]
    },
    {
     "name": "stdout",
     "output_type": "stream",
     "text": [
      "Use load_from_local loader\n",
      "The model and loaded state dict do not match exactly\n",
      "\n",
      "size mismatch for backbone.patch_embed.proj.weight: copying a param with shape torch.Size([96, 3, 4, 4]) from checkpoint, the shape in current model is torch.Size([128, 3, 4, 4]).\n",
      "size mismatch for backbone.patch_embed.proj.bias: copying a param with shape torch.Size([96]) from checkpoint, the shape in current model is torch.Size([128]).\n",
      "size mismatch for backbone.patch_embed.norm.weight: copying a param with shape torch.Size([96]) from checkpoint, the shape in current model is torch.Size([128]).\n",
      "size mismatch for backbone.patch_embed.norm.bias: copying a param with shape torch.Size([96]) from checkpoint, the shape in current model is torch.Size([128]).\n",
      "size mismatch for backbone.layers.0.blocks.0.norm1.weight: copying a param with shape torch.Size([96]) from checkpoint, the shape in current model is torch.Size([128]).\n",
      "size mismatch for backbone.layers.0.blocks.0.norm1.bias: copying a param with shape torch.Size([96]) from checkpoint, the shape in current model is torch.Size([128]).\n",
      "size mismatch for backbone.layers.0.blocks.0.attn.relative_position_bias_table: copying a param with shape torch.Size([169, 3]) from checkpoint, the shape in current model is torch.Size([169, 4]).\n",
      "size mismatch for backbone.layers.0.blocks.0.attn.qkv.weight: copying a param with shape torch.Size([288, 96]) from checkpoint, the shape in current model is torch.Size([384, 128]).\n",
      "size mismatch for backbone.layers.0.blocks.0.attn.qkv.bias: copying a param with shape torch.Size([288]) from checkpoint, the shape in current model is torch.Size([384]).\n",
      "size mismatch for backbone.layers.0.blocks.0.attn.proj.weight: copying a param with shape torch.Size([96, 96]) from checkpoint, the shape in current model is torch.Size([128, 128]).\n",
      "size mismatch for backbone.layers.0.blocks.0.attn.proj.bias: copying a param with shape torch.Size([96]) from checkpoint, the shape in current model is torch.Size([128]).\n",
      "size mismatch for backbone.layers.0.blocks.0.norm2.weight: copying a param with shape torch.Size([96]) from checkpoint, the shape in current model is torch.Size([128]).\n",
      "size mismatch for backbone.layers.0.blocks.0.norm2.bias: copying a param with shape torch.Size([96]) from checkpoint, the shape in current model is torch.Size([128]).\n",
      "size mismatch for backbone.layers.0.blocks.0.mlp.fc1.weight: copying a param with shape torch.Size([384, 96]) from checkpoint, the shape in current model is torch.Size([512, 128]).\n",
      "size mismatch for backbone.layers.0.blocks.0.mlp.fc1.bias: copying a param with shape torch.Size([384]) from checkpoint, the shape in current model is torch.Size([512]).\n",
      "size mismatch for backbone.layers.0.blocks.0.mlp.fc2.weight: copying a param with shape torch.Size([96, 384]) from checkpoint, the shape in current model is torch.Size([128, 512]).\n",
      "size mismatch for backbone.layers.0.blocks.0.mlp.fc2.bias: copying a param with shape torch.Size([96]) from checkpoint, the shape in current model is torch.Size([128]).\n",
      "size mismatch for backbone.layers.0.blocks.1.norm1.weight: copying a param with shape torch.Size([96]) from checkpoint, the shape in current model is torch.Size([128]).\n",
      "size mismatch for backbone.layers.0.blocks.1.norm1.bias: copying a param with shape torch.Size([96]) from checkpoint, the shape in current model is torch.Size([128]).\n",
      "size mismatch for backbone.layers.0.blocks.1.attn.relative_position_bias_table: copying a param with shape torch.Size([169, 3]) from checkpoint, the shape in current model is torch.Size([169, 4]).\n",
      "size mismatch for backbone.layers.0.blocks.1.attn.qkv.weight: copying a param with shape torch.Size([288, 96]) from checkpoint, the shape in current model is torch.Size([384, 128]).\n",
      "size mismatch for backbone.layers.0.blocks.1.attn.qkv.bias: copying a param with shape torch.Size([288]) from checkpoint, the shape in current model is torch.Size([384]).\n",
      "size mismatch for backbone.layers.0.blocks.1.attn.proj.weight: copying a param with shape torch.Size([96, 96]) from checkpoint, the shape in current model is torch.Size([128, 128]).\n",
      "size mismatch for backbone.layers.0.blocks.1.attn.proj.bias: copying a param with shape torch.Size([96]) from checkpoint, the shape in current model is torch.Size([128]).\n",
      "size mismatch for backbone.layers.0.blocks.1.norm2.weight: copying a param with shape torch.Size([96]) from checkpoint, the shape in current model is torch.Size([128]).\n",
      "size mismatch for backbone.layers.0.blocks.1.norm2.bias: copying a param with shape torch.Size([96]) from checkpoint, the shape in current model is torch.Size([128]).\n",
      "size mismatch for backbone.layers.0.blocks.1.mlp.fc1.weight: copying a param with shape torch.Size([384, 96]) from checkpoint, the shape in current model is torch.Size([512, 128]).\n",
      "size mismatch for backbone.layers.0.blocks.1.mlp.fc1.bias: copying a param with shape torch.Size([384]) from checkpoint, the shape in current model is torch.Size([512]).\n",
      "size mismatch for backbone.layers.0.blocks.1.mlp.fc2.weight: copying a param with shape torch.Size([96, 384]) from checkpoint, the shape in current model is torch.Size([128, 512]).\n",
      "size mismatch for backbone.layers.0.blocks.1.mlp.fc2.bias: copying a param with shape torch.Size([96]) from checkpoint, the shape in current model is torch.Size([128]).\n",
      "size mismatch for backbone.layers.0.downsample.reduction.weight: copying a param with shape torch.Size([192, 384]) from checkpoint, the shape in current model is torch.Size([256, 512]).\n",
      "size mismatch for backbone.layers.0.downsample.norm.weight: copying a param with shape torch.Size([384]) from checkpoint, the shape in current model is torch.Size([512]).\n",
      "size mismatch for backbone.layers.0.downsample.norm.bias: copying a param with shape torch.Size([384]) from checkpoint, the shape in current model is torch.Size([512]).\n",
      "size mismatch for backbone.layers.1.blocks.0.norm1.weight: copying a param with shape torch.Size([192]) from checkpoint, the shape in current model is torch.Size([256]).\n",
      "size mismatch for backbone.layers.1.blocks.0.norm1.bias: copying a param with shape torch.Size([192]) from checkpoint, the shape in current model is torch.Size([256]).\n",
      "size mismatch for backbone.layers.1.blocks.0.attn.relative_position_bias_table: copying a param with shape torch.Size([169, 6]) from checkpoint, the shape in current model is torch.Size([169, 8]).\n",
      "size mismatch for backbone.layers.1.blocks.0.attn.qkv.weight: copying a param with shape torch.Size([576, 192]) from checkpoint, the shape in current model is torch.Size([768, 256]).\n",
      "size mismatch for backbone.layers.1.blocks.0.attn.qkv.bias: copying a param with shape torch.Size([576]) from checkpoint, the shape in current model is torch.Size([768]).\n",
      "size mismatch for backbone.layers.1.blocks.0.attn.proj.weight: copying a param with shape torch.Size([192, 192]) from checkpoint, the shape in current model is torch.Size([256, 256]).\n",
      "size mismatch for backbone.layers.1.blocks.0.attn.proj.bias: copying a param with shape torch.Size([192]) from checkpoint, the shape in current model is torch.Size([256]).\n",
      "size mismatch for backbone.layers.1.blocks.0.norm2.weight: copying a param with shape torch.Size([192]) from checkpoint, the shape in current model is torch.Size([256]).\n",
      "size mismatch for backbone.layers.1.blocks.0.norm2.bias: copying a param with shape torch.Size([192]) from checkpoint, the shape in current model is torch.Size([256]).\n",
      "size mismatch for backbone.layers.1.blocks.0.mlp.fc1.weight: copying a param with shape torch.Size([768, 192]) from checkpoint, the shape in current model is torch.Size([1024, 256]).\n",
      "size mismatch for backbone.layers.1.blocks.0.mlp.fc1.bias: copying a param with shape torch.Size([768]) from checkpoint, the shape in current model is torch.Size([1024]).\n",
      "size mismatch for backbone.layers.1.blocks.0.mlp.fc2.weight: copying a param with shape torch.Size([192, 768]) from checkpoint, the shape in current model is torch.Size([256, 1024]).\n",
      "size mismatch for backbone.layers.1.blocks.0.mlp.fc2.bias: copying a param with shape torch.Size([192]) from checkpoint, the shape in current model is torch.Size([256]).\n",
      "size mismatch for backbone.layers.1.blocks.1.norm1.weight: copying a param with shape torch.Size([192]) from checkpoint, the shape in current model is torch.Size([256]).\n",
      "size mismatch for backbone.layers.1.blocks.1.norm1.bias: copying a param with shape torch.Size([192]) from checkpoint, the shape in current model is torch.Size([256]).\n",
      "size mismatch for backbone.layers.1.blocks.1.attn.relative_position_bias_table: copying a param with shape torch.Size([169, 6]) from checkpoint, the shape in current model is torch.Size([169, 8]).\n",
      "size mismatch for backbone.layers.1.blocks.1.attn.qkv.weight: copying a param with shape torch.Size([576, 192]) from checkpoint, the shape in current model is torch.Size([768, 256]).\n",
      "size mismatch for backbone.layers.1.blocks.1.attn.qkv.bias: copying a param with shape torch.Size([576]) from checkpoint, the shape in current model is torch.Size([768]).\n",
      "size mismatch for backbone.layers.1.blocks.1.attn.proj.weight: copying a param with shape torch.Size([192, 192]) from checkpoint, the shape in current model is torch.Size([256, 256]).\n",
      "size mismatch for backbone.layers.1.blocks.1.attn.proj.bias: copying a param with shape torch.Size([192]) from checkpoint, the shape in current model is torch.Size([256]).\n",
      "size mismatch for backbone.layers.1.blocks.1.norm2.weight: copying a param with shape torch.Size([192]) from checkpoint, the shape in current model is torch.Size([256]).\n",
      "size mismatch for backbone.layers.1.blocks.1.norm2.bias: copying a param with shape torch.Size([192]) from checkpoint, the shape in current model is torch.Size([256]).\n",
      "size mismatch for backbone.layers.1.blocks.1.mlp.fc1.weight: copying a param with shape torch.Size([768, 192]) from checkpoint, the shape in current model is torch.Size([1024, 256]).\n",
      "size mismatch for backbone.layers.1.blocks.1.mlp.fc1.bias: copying a param with shape torch.Size([768]) from checkpoint, the shape in current model is torch.Size([1024]).\n",
      "size mismatch for backbone.layers.1.blocks.1.mlp.fc2.weight: copying a param with shape torch.Size([192, 768]) from checkpoint, the shape in current model is torch.Size([256, 1024]).\n",
      "size mismatch for backbone.layers.1.blocks.1.mlp.fc2.bias: copying a param with shape torch.Size([192]) from checkpoint, the shape in current model is torch.Size([256]).\n",
      "size mismatch for backbone.layers.1.downsample.reduction.weight: copying a param with shape torch.Size([384, 768]) from checkpoint, the shape in current model is torch.Size([512, 1024]).\n",
      "size mismatch for backbone.layers.1.downsample.norm.weight: copying a param with shape torch.Size([768]) from checkpoint, the shape in current model is torch.Size([1024]).\n",
      "size mismatch for backbone.layers.1.downsample.norm.bias: copying a param with shape torch.Size([768]) from checkpoint, the shape in current model is torch.Size([1024]).\n",
      "size mismatch for backbone.layers.2.blocks.0.norm1.weight: copying a param with shape torch.Size([384]) from checkpoint, the shape in current model is torch.Size([512]).\n",
      "size mismatch for backbone.layers.2.blocks.0.norm1.bias: copying a param with shape torch.Size([384]) from checkpoint, the shape in current model is torch.Size([512]).\n",
      "size mismatch for backbone.layers.2.blocks.0.attn.relative_position_bias_table: copying a param with shape torch.Size([169, 12]) from checkpoint, the shape in current model is torch.Size([169, 16]).\n",
      "size mismatch for backbone.layers.2.blocks.0.attn.qkv.weight: copying a param with shape torch.Size([1152, 384]) from checkpoint, the shape in current model is torch.Size([1536, 512]).\n",
      "size mismatch for backbone.layers.2.blocks.0.attn.qkv.bias: copying a param with shape torch.Size([1152]) from checkpoint, the shape in current model is torch.Size([1536]).\n",
      "size mismatch for backbone.layers.2.blocks.0.attn.proj.weight: copying a param with shape torch.Size([384, 384]) from checkpoint, the shape in current model is torch.Size([512, 512]).\n",
      "size mismatch for backbone.layers.2.blocks.0.attn.proj.bias: copying a param with shape torch.Size([384]) from checkpoint, the shape in current model is torch.Size([512]).\n",
      "size mismatch for backbone.layers.2.blocks.0.norm2.weight: copying a param with shape torch.Size([384]) from checkpoint, the shape in current model is torch.Size([512]).\n",
      "size mismatch for backbone.layers.2.blocks.0.norm2.bias: copying a param with shape torch.Size([384]) from checkpoint, the shape in current model is torch.Size([512]).\n",
      "size mismatch for backbone.layers.2.blocks.0.mlp.fc1.weight: copying a param with shape torch.Size([1536, 384]) from checkpoint, the shape in current model is torch.Size([2048, 512]).\n",
      "size mismatch for backbone.layers.2.blocks.0.mlp.fc1.bias: copying a param with shape torch.Size([1536]) from checkpoint, the shape in current model is torch.Size([2048]).\n",
      "size mismatch for backbone.layers.2.blocks.0.mlp.fc2.weight: copying a param with shape torch.Size([384, 1536]) from checkpoint, the shape in current model is torch.Size([512, 2048]).\n",
      "size mismatch for backbone.layers.2.blocks.0.mlp.fc2.bias: copying a param with shape torch.Size([384]) from checkpoint, the shape in current model is torch.Size([512]).\n",
      "size mismatch for backbone.layers.2.blocks.1.norm1.weight: copying a param with shape torch.Size([384]) from checkpoint, the shape in current model is torch.Size([512]).\n",
      "size mismatch for backbone.layers.2.blocks.1.norm1.bias: copying a param with shape torch.Size([384]) from checkpoint, the shape in current model is torch.Size([512]).\n",
      "size mismatch for backbone.layers.2.blocks.1.attn.relative_position_bias_table: copying a param with shape torch.Size([169, 12]) from checkpoint, the shape in current model is torch.Size([169, 16]).\n",
      "size mismatch for backbone.layers.2.blocks.1.attn.qkv.weight: copying a param with shape torch.Size([1152, 384]) from checkpoint, the shape in current model is torch.Size([1536, 512]).\n",
      "size mismatch for backbone.layers.2.blocks.1.attn.qkv.bias: copying a param with shape torch.Size([1152]) from checkpoint, the shape in current model is torch.Size([1536]).\n",
      "size mismatch for backbone.layers.2.blocks.1.attn.proj.weight: copying a param with shape torch.Size([384, 384]) from checkpoint, the shape in current model is torch.Size([512, 512]).\n",
      "size mismatch for backbone.layers.2.blocks.1.attn.proj.bias: copying a param with shape torch.Size([384]) from checkpoint, the shape in current model is torch.Size([512]).\n",
      "size mismatch for backbone.layers.2.blocks.1.norm2.weight: copying a param with shape torch.Size([384]) from checkpoint, the shape in current model is torch.Size([512]).\n",
      "size mismatch for backbone.layers.2.blocks.1.norm2.bias: copying a param with shape torch.Size([384]) from checkpoint, the shape in current model is torch.Size([512]).\n",
      "size mismatch for backbone.layers.2.blocks.1.mlp.fc1.weight: copying a param with shape torch.Size([1536, 384]) from checkpoint, the shape in current model is torch.Size([2048, 512]).\n",
      "size mismatch for backbone.layers.2.blocks.1.mlp.fc1.bias: copying a param with shape torch.Size([1536]) from checkpoint, the shape in current model is torch.Size([2048]).\n",
      "size mismatch for backbone.layers.2.blocks.1.mlp.fc2.weight: copying a param with shape torch.Size([384, 1536]) from checkpoint, the shape in current model is torch.Size([512, 2048]).\n",
      "size mismatch for backbone.layers.2.blocks.1.mlp.fc2.bias: copying a param with shape torch.Size([384]) from checkpoint, the shape in current model is torch.Size([512]).\n",
      "size mismatch for backbone.layers.2.blocks.2.norm1.weight: copying a param with shape torch.Size([384]) from checkpoint, the shape in current model is torch.Size([512]).\n",
      "size mismatch for backbone.layers.2.blocks.2.norm1.bias: copying a param with shape torch.Size([384]) from checkpoint, the shape in current model is torch.Size([512]).\n",
      "size mismatch for backbone.layers.2.blocks.2.attn.relative_position_bias_table: copying a param with shape torch.Size([169, 12]) from checkpoint, the shape in current model is torch.Size([169, 16]).\n",
      "size mismatch for backbone.layers.2.blocks.2.attn.qkv.weight: copying a param with shape torch.Size([1152, 384]) from checkpoint, the shape in current model is torch.Size([1536, 512]).\n",
      "size mismatch for backbone.layers.2.blocks.2.attn.qkv.bias: copying a param with shape torch.Size([1152]) from checkpoint, the shape in current model is torch.Size([1536]).\n",
      "size mismatch for backbone.layers.2.blocks.2.attn.proj.weight: copying a param with shape torch.Size([384, 384]) from checkpoint, the shape in current model is torch.Size([512, 512]).\n",
      "size mismatch for backbone.layers.2.blocks.2.attn.proj.bias: copying a param with shape torch.Size([384]) from checkpoint, the shape in current model is torch.Size([512]).\n",
      "size mismatch for backbone.layers.2.blocks.2.norm2.weight: copying a param with shape torch.Size([384]) from checkpoint, the shape in current model is torch.Size([512]).\n",
      "size mismatch for backbone.layers.2.blocks.2.norm2.bias: copying a param with shape torch.Size([384]) from checkpoint, the shape in current model is torch.Size([512]).\n",
      "size mismatch for backbone.layers.2.blocks.2.mlp.fc1.weight: copying a param with shape torch.Size([1536, 384]) from checkpoint, the shape in current model is torch.Size([2048, 512]).\n",
      "size mismatch for backbone.layers.2.blocks.2.mlp.fc1.bias: copying a param with shape torch.Size([1536]) from checkpoint, the shape in current model is torch.Size([2048]).\n",
      "size mismatch for backbone.layers.2.blocks.2.mlp.fc2.weight: copying a param with shape torch.Size([384, 1536]) from checkpoint, the shape in current model is torch.Size([512, 2048]).\n",
      "size mismatch for backbone.layers.2.blocks.2.mlp.fc2.bias: copying a param with shape torch.Size([384]) from checkpoint, the shape in current model is torch.Size([512]).\n",
      "size mismatch for backbone.layers.2.blocks.3.norm1.weight: copying a param with shape torch.Size([384]) from checkpoint, the shape in current model is torch.Size([512]).\n",
      "size mismatch for backbone.layers.2.blocks.3.norm1.bias: copying a param with shape torch.Size([384]) from checkpoint, the shape in current model is torch.Size([512]).\n",
      "size mismatch for backbone.layers.2.blocks.3.attn.relative_position_bias_table: copying a param with shape torch.Size([169, 12]) from checkpoint, the shape in current model is torch.Size([169, 16]).\n",
      "size mismatch for backbone.layers.2.blocks.3.attn.qkv.weight: copying a param with shape torch.Size([1152, 384]) from checkpoint, the shape in current model is torch.Size([1536, 512]).\n",
      "size mismatch for backbone.layers.2.blocks.3.attn.qkv.bias: copying a param with shape torch.Size([1152]) from checkpoint, the shape in current model is torch.Size([1536]).\n",
      "size mismatch for backbone.layers.2.blocks.3.attn.proj.weight: copying a param with shape torch.Size([384, 384]) from checkpoint, the shape in current model is torch.Size([512, 512]).\n",
      "size mismatch for backbone.layers.2.blocks.3.attn.proj.bias: copying a param with shape torch.Size([384]) from checkpoint, the shape in current model is torch.Size([512]).\n",
      "size mismatch for backbone.layers.2.blocks.3.norm2.weight: copying a param with shape torch.Size([384]) from checkpoint, the shape in current model is torch.Size([512]).\n",
      "size mismatch for backbone.layers.2.blocks.3.norm2.bias: copying a param with shape torch.Size([384]) from checkpoint, the shape in current model is torch.Size([512]).\n",
      "size mismatch for backbone.layers.2.blocks.3.mlp.fc1.weight: copying a param with shape torch.Size([1536, 384]) from checkpoint, the shape in current model is torch.Size([2048, 512]).\n",
      "size mismatch for backbone.layers.2.blocks.3.mlp.fc1.bias: copying a param with shape torch.Size([1536]) from checkpoint, the shape in current model is torch.Size([2048]).\n",
      "size mismatch for backbone.layers.2.blocks.3.mlp.fc2.weight: copying a param with shape torch.Size([384, 1536]) from checkpoint, the shape in current model is torch.Size([512, 2048]).\n",
      "size mismatch for backbone.layers.2.blocks.3.mlp.fc2.bias: copying a param with shape torch.Size([384]) from checkpoint, the shape in current model is torch.Size([512]).\n",
      "size mismatch for backbone.layers.2.blocks.4.norm1.weight: copying a param with shape torch.Size([384]) from checkpoint, the shape in current model is torch.Size([512]).\n",
      "size mismatch for backbone.layers.2.blocks.4.norm1.bias: copying a param with shape torch.Size([384]) from checkpoint, the shape in current model is torch.Size([512]).\n",
      "size mismatch for backbone.layers.2.blocks.4.attn.relative_position_bias_table: copying a param with shape torch.Size([169, 12]) from checkpoint, the shape in current model is torch.Size([169, 16]).\n",
      "size mismatch for backbone.layers.2.blocks.4.attn.qkv.weight: copying a param with shape torch.Size([1152, 384]) from checkpoint, the shape in current model is torch.Size([1536, 512]).\n",
      "size mismatch for backbone.layers.2.blocks.4.attn.qkv.bias: copying a param with shape torch.Size([1152]) from checkpoint, the shape in current model is torch.Size([1536]).\n",
      "size mismatch for backbone.layers.2.blocks.4.attn.proj.weight: copying a param with shape torch.Size([384, 384]) from checkpoint, the shape in current model is torch.Size([512, 512]).\n",
      "size mismatch for backbone.layers.2.blocks.4.attn.proj.bias: copying a param with shape torch.Size([384]) from checkpoint, the shape in current model is torch.Size([512]).\n",
      "size mismatch for backbone.layers.2.blocks.4.norm2.weight: copying a param with shape torch.Size([384]) from checkpoint, the shape in current model is torch.Size([512]).\n",
      "size mismatch for backbone.layers.2.blocks.4.norm2.bias: copying a param with shape torch.Size([384]) from checkpoint, the shape in current model is torch.Size([512]).\n",
      "size mismatch for backbone.layers.2.blocks.4.mlp.fc1.weight: copying a param with shape torch.Size([1536, 384]) from checkpoint, the shape in current model is torch.Size([2048, 512]).\n",
      "size mismatch for backbone.layers.2.blocks.4.mlp.fc1.bias: copying a param with shape torch.Size([1536]) from checkpoint, the shape in current model is torch.Size([2048]).\n",
      "size mismatch for backbone.layers.2.blocks.4.mlp.fc2.weight: copying a param with shape torch.Size([384, 1536]) from checkpoint, the shape in current model is torch.Size([512, 2048]).\n",
      "size mismatch for backbone.layers.2.blocks.4.mlp.fc2.bias: copying a param with shape torch.Size([384]) from checkpoint, the shape in current model is torch.Size([512]).\n",
      "size mismatch for backbone.layers.2.blocks.5.norm1.weight: copying a param with shape torch.Size([384]) from checkpoint, the shape in current model is torch.Size([512]).\n",
      "size mismatch for backbone.layers.2.blocks.5.norm1.bias: copying a param with shape torch.Size([384]) from checkpoint, the shape in current model is torch.Size([512]).\n",
      "size mismatch for backbone.layers.2.blocks.5.attn.relative_position_bias_table: copying a param with shape torch.Size([169, 12]) from checkpoint, the shape in current model is torch.Size([169, 16]).\n",
      "size mismatch for backbone.layers.2.blocks.5.attn.qkv.weight: copying a param with shape torch.Size([1152, 384]) from checkpoint, the shape in current model is torch.Size([1536, 512]).\n",
      "size mismatch for backbone.layers.2.blocks.5.attn.qkv.bias: copying a param with shape torch.Size([1152]) from checkpoint, the shape in current model is torch.Size([1536]).\n",
      "size mismatch for backbone.layers.2.blocks.5.attn.proj.weight: copying a param with shape torch.Size([384, 384]) from checkpoint, the shape in current model is torch.Size([512, 512]).\n",
      "size mismatch for backbone.layers.2.blocks.5.attn.proj.bias: copying a param with shape torch.Size([384]) from checkpoint, the shape in current model is torch.Size([512]).\n",
      "size mismatch for backbone.layers.2.blocks.5.norm2.weight: copying a param with shape torch.Size([384]) from checkpoint, the shape in current model is torch.Size([512]).\n",
      "size mismatch for backbone.layers.2.blocks.5.norm2.bias: copying a param with shape torch.Size([384]) from checkpoint, the shape in current model is torch.Size([512]).\n",
      "size mismatch for backbone.layers.2.blocks.5.mlp.fc1.weight: copying a param with shape torch.Size([1536, 384]) from checkpoint, the shape in current model is torch.Size([2048, 512]).\n",
      "size mismatch for backbone.layers.2.blocks.5.mlp.fc1.bias: copying a param with shape torch.Size([1536]) from checkpoint, the shape in current model is torch.Size([2048]).\n",
      "size mismatch for backbone.layers.2.blocks.5.mlp.fc2.weight: copying a param with shape torch.Size([384, 1536]) from checkpoint, the shape in current model is torch.Size([512, 2048]).\n",
      "size mismatch for backbone.layers.2.blocks.5.mlp.fc2.bias: copying a param with shape torch.Size([384]) from checkpoint, the shape in current model is torch.Size([512]).\n",
      "size mismatch for backbone.layers.2.blocks.6.norm1.weight: copying a param with shape torch.Size([384]) from checkpoint, the shape in current model is torch.Size([512]).\n",
      "size mismatch for backbone.layers.2.blocks.6.norm1.bias: copying a param with shape torch.Size([384]) from checkpoint, the shape in current model is torch.Size([512]).\n",
      "size mismatch for backbone.layers.2.blocks.6.attn.relative_position_bias_table: copying a param with shape torch.Size([169, 12]) from checkpoint, the shape in current model is torch.Size([169, 16]).\n",
      "size mismatch for backbone.layers.2.blocks.6.attn.qkv.weight: copying a param with shape torch.Size([1152, 384]) from checkpoint, the shape in current model is torch.Size([1536, 512]).\n",
      "size mismatch for backbone.layers.2.blocks.6.attn.qkv.bias: copying a param with shape torch.Size([1152]) from checkpoint, the shape in current model is torch.Size([1536]).\n",
      "size mismatch for backbone.layers.2.blocks.6.attn.proj.weight: copying a param with shape torch.Size([384, 384]) from checkpoint, the shape in current model is torch.Size([512, 512]).\n",
      "size mismatch for backbone.layers.2.blocks.6.attn.proj.bias: copying a param with shape torch.Size([384]) from checkpoint, the shape in current model is torch.Size([512]).\n",
      "size mismatch for backbone.layers.2.blocks.6.norm2.weight: copying a param with shape torch.Size([384]) from checkpoint, the shape in current model is torch.Size([512]).\n",
      "size mismatch for backbone.layers.2.blocks.6.norm2.bias: copying a param with shape torch.Size([384]) from checkpoint, the shape in current model is torch.Size([512]).\n",
      "size mismatch for backbone.layers.2.blocks.6.mlp.fc1.weight: copying a param with shape torch.Size([1536, 384]) from checkpoint, the shape in current model is torch.Size([2048, 512]).\n",
      "size mismatch for backbone.layers.2.blocks.6.mlp.fc1.bias: copying a param with shape torch.Size([1536]) from checkpoint, the shape in current model is torch.Size([2048]).\n",
      "size mismatch for backbone.layers.2.blocks.6.mlp.fc2.weight: copying a param with shape torch.Size([384, 1536]) from checkpoint, the shape in current model is torch.Size([512, 2048]).\n",
      "size mismatch for backbone.layers.2.blocks.6.mlp.fc2.bias: copying a param with shape torch.Size([384]) from checkpoint, the shape in current model is torch.Size([512]).\n",
      "size mismatch for backbone.layers.2.blocks.7.norm1.weight: copying a param with shape torch.Size([384]) from checkpoint, the shape in current model is torch.Size([512]).\n",
      "size mismatch for backbone.layers.2.blocks.7.norm1.bias: copying a param with shape torch.Size([384]) from checkpoint, the shape in current model is torch.Size([512]).\n",
      "size mismatch for backbone.layers.2.blocks.7.attn.relative_position_bias_table: copying a param with shape torch.Size([169, 12]) from checkpoint, the shape in current model is torch.Size([169, 16]).\n",
      "size mismatch for backbone.layers.2.blocks.7.attn.qkv.weight: copying a param with shape torch.Size([1152, 384]) from checkpoint, the shape in current model is torch.Size([1536, 512]).\n",
      "size mismatch for backbone.layers.2.blocks.7.attn.qkv.bias: copying a param with shape torch.Size([1152]) from checkpoint, the shape in current model is torch.Size([1536]).\n",
      "size mismatch for backbone.layers.2.blocks.7.attn.proj.weight: copying a param with shape torch.Size([384, 384]) from checkpoint, the shape in current model is torch.Size([512, 512]).\n",
      "size mismatch for backbone.layers.2.blocks.7.attn.proj.bias: copying a param with shape torch.Size([384]) from checkpoint, the shape in current model is torch.Size([512]).\n",
      "size mismatch for backbone.layers.2.blocks.7.norm2.weight: copying a param with shape torch.Size([384]) from checkpoint, the shape in current model is torch.Size([512]).\n",
      "size mismatch for backbone.layers.2.blocks.7.norm2.bias: copying a param with shape torch.Size([384]) from checkpoint, the shape in current model is torch.Size([512]).\n",
      "size mismatch for backbone.layers.2.blocks.7.mlp.fc1.weight: copying a param with shape torch.Size([1536, 384]) from checkpoint, the shape in current model is torch.Size([2048, 512]).\n",
      "size mismatch for backbone.layers.2.blocks.7.mlp.fc1.bias: copying a param with shape torch.Size([1536]) from checkpoint, the shape in current model is torch.Size([2048]).\n",
      "size mismatch for backbone.layers.2.blocks.7.mlp.fc2.weight: copying a param with shape torch.Size([384, 1536]) from checkpoint, the shape in current model is torch.Size([512, 2048]).\n",
      "size mismatch for backbone.layers.2.blocks.7.mlp.fc2.bias: copying a param with shape torch.Size([384]) from checkpoint, the shape in current model is torch.Size([512]).\n",
      "size mismatch for backbone.layers.2.blocks.8.norm1.weight: copying a param with shape torch.Size([384]) from checkpoint, the shape in current model is torch.Size([512]).\n",
      "size mismatch for backbone.layers.2.blocks.8.norm1.bias: copying a param with shape torch.Size([384]) from checkpoint, the shape in current model is torch.Size([512]).\n",
      "size mismatch for backbone.layers.2.blocks.8.attn.relative_position_bias_table: copying a param with shape torch.Size([169, 12]) from checkpoint, the shape in current model is torch.Size([169, 16]).\n",
      "size mismatch for backbone.layers.2.blocks.8.attn.qkv.weight: copying a param with shape torch.Size([1152, 384]) from checkpoint, the shape in current model is torch.Size([1536, 512]).\n",
      "size mismatch for backbone.layers.2.blocks.8.attn.qkv.bias: copying a param with shape torch.Size([1152]) from checkpoint, the shape in current model is torch.Size([1536]).\n",
      "size mismatch for backbone.layers.2.blocks.8.attn.proj.weight: copying a param with shape torch.Size([384, 384]) from checkpoint, the shape in current model is torch.Size([512, 512]).\n",
      "size mismatch for backbone.layers.2.blocks.8.attn.proj.bias: copying a param with shape torch.Size([384]) from checkpoint, the shape in current model is torch.Size([512]).\n",
      "size mismatch for backbone.layers.2.blocks.8.norm2.weight: copying a param with shape torch.Size([384]) from checkpoint, the shape in current model is torch.Size([512]).\n",
      "size mismatch for backbone.layers.2.blocks.8.norm2.bias: copying a param with shape torch.Size([384]) from checkpoint, the shape in current model is torch.Size([512]).\n",
      "size mismatch for backbone.layers.2.blocks.8.mlp.fc1.weight: copying a param with shape torch.Size([1536, 384]) from checkpoint, the shape in current model is torch.Size([2048, 512]).\n",
      "size mismatch for backbone.layers.2.blocks.8.mlp.fc1.bias: copying a param with shape torch.Size([1536]) from checkpoint, the shape in current model is torch.Size([2048]).\n",
      "size mismatch for backbone.layers.2.blocks.8.mlp.fc2.weight: copying a param with shape torch.Size([384, 1536]) from checkpoint, the shape in current model is torch.Size([512, 2048]).\n",
      "size mismatch for backbone.layers.2.blocks.8.mlp.fc2.bias: copying a param with shape torch.Size([384]) from checkpoint, the shape in current model is torch.Size([512]).\n",
      "size mismatch for backbone.layers.2.blocks.9.norm1.weight: copying a param with shape torch.Size([384]) from checkpoint, the shape in current model is torch.Size([512]).\n",
      "size mismatch for backbone.layers.2.blocks.9.norm1.bias: copying a param with shape torch.Size([384]) from checkpoint, the shape in current model is torch.Size([512]).\n",
      "size mismatch for backbone.layers.2.blocks.9.attn.relative_position_bias_table: copying a param with shape torch.Size([169, 12]) from checkpoint, the shape in current model is torch.Size([169, 16]).\n",
      "size mismatch for backbone.layers.2.blocks.9.attn.qkv.weight: copying a param with shape torch.Size([1152, 384]) from checkpoint, the shape in current model is torch.Size([1536, 512]).\n",
      "size mismatch for backbone.layers.2.blocks.9.attn.qkv.bias: copying a param with shape torch.Size([1152]) from checkpoint, the shape in current model is torch.Size([1536]).\n",
      "size mismatch for backbone.layers.2.blocks.9.attn.proj.weight: copying a param with shape torch.Size([384, 384]) from checkpoint, the shape in current model is torch.Size([512, 512]).\n",
      "size mismatch for backbone.layers.2.blocks.9.attn.proj.bias: copying a param with shape torch.Size([384]) from checkpoint, the shape in current model is torch.Size([512]).\n",
      "size mismatch for backbone.layers.2.blocks.9.norm2.weight: copying a param with shape torch.Size([384]) from checkpoint, the shape in current model is torch.Size([512]).\n",
      "size mismatch for backbone.layers.2.blocks.9.norm2.bias: copying a param with shape torch.Size([384]) from checkpoint, the shape in current model is torch.Size([512]).\n",
      "size mismatch for backbone.layers.2.blocks.9.mlp.fc1.weight: copying a param with shape torch.Size([1536, 384]) from checkpoint, the shape in current model is torch.Size([2048, 512]).\n",
      "size mismatch for backbone.layers.2.blocks.9.mlp.fc1.bias: copying a param with shape torch.Size([1536]) from checkpoint, the shape in current model is torch.Size([2048]).\n",
      "size mismatch for backbone.layers.2.blocks.9.mlp.fc2.weight: copying a param with shape torch.Size([384, 1536]) from checkpoint, the shape in current model is torch.Size([512, 2048]).\n",
      "size mismatch for backbone.layers.2.blocks.9.mlp.fc2.bias: copying a param with shape torch.Size([384]) from checkpoint, the shape in current model is torch.Size([512]).\n",
      "size mismatch for backbone.layers.2.blocks.10.norm1.weight: copying a param with shape torch.Size([384]) from checkpoint, the shape in current model is torch.Size([512]).\n",
      "size mismatch for backbone.layers.2.blocks.10.norm1.bias: copying a param with shape torch.Size([384]) from checkpoint, the shape in current model is torch.Size([512]).\n",
      "size mismatch for backbone.layers.2.blocks.10.attn.relative_position_bias_table: copying a param with shape torch.Size([169, 12]) from checkpoint, the shape in current model is torch.Size([169, 16]).\n",
      "size mismatch for backbone.layers.2.blocks.10.attn.qkv.weight: copying a param with shape torch.Size([1152, 384]) from checkpoint, the shape in current model is torch.Size([1536, 512]).\n",
      "size mismatch for backbone.layers.2.blocks.10.attn.qkv.bias: copying a param with shape torch.Size([1152]) from checkpoint, the shape in current model is torch.Size([1536]).\n",
      "size mismatch for backbone.layers.2.blocks.10.attn.proj.weight: copying a param with shape torch.Size([384, 384]) from checkpoint, the shape in current model is torch.Size([512, 512]).\n",
      "size mismatch for backbone.layers.2.blocks.10.attn.proj.bias: copying a param with shape torch.Size([384]) from checkpoint, the shape in current model is torch.Size([512]).\n",
      "size mismatch for backbone.layers.2.blocks.10.norm2.weight: copying a param with shape torch.Size([384]) from checkpoint, the shape in current model is torch.Size([512]).\n",
      "size mismatch for backbone.layers.2.blocks.10.norm2.bias: copying a param with shape torch.Size([384]) from checkpoint, the shape in current model is torch.Size([512]).\n",
      "size mismatch for backbone.layers.2.blocks.10.mlp.fc1.weight: copying a param with shape torch.Size([1536, 384]) from checkpoint, the shape in current model is torch.Size([2048, 512]).\n",
      "size mismatch for backbone.layers.2.blocks.10.mlp.fc1.bias: copying a param with shape torch.Size([1536]) from checkpoint, the shape in current model is torch.Size([2048]).\n",
      "size mismatch for backbone.layers.2.blocks.10.mlp.fc2.weight: copying a param with shape torch.Size([384, 1536]) from checkpoint, the shape in current model is torch.Size([512, 2048]).\n",
      "size mismatch for backbone.layers.2.blocks.10.mlp.fc2.bias: copying a param with shape torch.Size([384]) from checkpoint, the shape in current model is torch.Size([512]).\n",
      "size mismatch for backbone.layers.2.blocks.11.norm1.weight: copying a param with shape torch.Size([384]) from checkpoint, the shape in current model is torch.Size([512]).\n",
      "size mismatch for backbone.layers.2.blocks.11.norm1.bias: copying a param with shape torch.Size([384]) from checkpoint, the shape in current model is torch.Size([512]).\n",
      "size mismatch for backbone.layers.2.blocks.11.attn.relative_position_bias_table: copying a param with shape torch.Size([169, 12]) from checkpoint, the shape in current model is torch.Size([169, 16]).\n",
      "size mismatch for backbone.layers.2.blocks.11.attn.qkv.weight: copying a param with shape torch.Size([1152, 384]) from checkpoint, the shape in current model is torch.Size([1536, 512]).\n",
      "size mismatch for backbone.layers.2.blocks.11.attn.qkv.bias: copying a param with shape torch.Size([1152]) from checkpoint, the shape in current model is torch.Size([1536]).\n",
      "size mismatch for backbone.layers.2.blocks.11.attn.proj.weight: copying a param with shape torch.Size([384, 384]) from checkpoint, the shape in current model is torch.Size([512, 512]).\n",
      "size mismatch for backbone.layers.2.blocks.11.attn.proj.bias: copying a param with shape torch.Size([384]) from checkpoint, the shape in current model is torch.Size([512]).\n",
      "size mismatch for backbone.layers.2.blocks.11.norm2.weight: copying a param with shape torch.Size([384]) from checkpoint, the shape in current model is torch.Size([512]).\n",
      "size mismatch for backbone.layers.2.blocks.11.norm2.bias: copying a param with shape torch.Size([384]) from checkpoint, the shape in current model is torch.Size([512]).\n",
      "size mismatch for backbone.layers.2.blocks.11.mlp.fc1.weight: copying a param with shape torch.Size([1536, 384]) from checkpoint, the shape in current model is torch.Size([2048, 512]).\n",
      "size mismatch for backbone.layers.2.blocks.11.mlp.fc1.bias: copying a param with shape torch.Size([1536]) from checkpoint, the shape in current model is torch.Size([2048]).\n",
      "size mismatch for backbone.layers.2.blocks.11.mlp.fc2.weight: copying a param with shape torch.Size([384, 1536]) from checkpoint, the shape in current model is torch.Size([512, 2048]).\n",
      "size mismatch for backbone.layers.2.blocks.11.mlp.fc2.bias: copying a param with shape torch.Size([384]) from checkpoint, the shape in current model is torch.Size([512]).\n",
      "size mismatch for backbone.layers.2.blocks.12.norm1.weight: copying a param with shape torch.Size([384]) from checkpoint, the shape in current model is torch.Size([512]).\n",
      "size mismatch for backbone.layers.2.blocks.12.norm1.bias: copying a param with shape torch.Size([384]) from checkpoint, the shape in current model is torch.Size([512]).\n",
      "size mismatch for backbone.layers.2.blocks.12.attn.relative_position_bias_table: copying a param with shape torch.Size([169, 12]) from checkpoint, the shape in current model is torch.Size([169, 16]).\n",
      "size mismatch for backbone.layers.2.blocks.12.attn.qkv.weight: copying a param with shape torch.Size([1152, 384]) from checkpoint, the shape in current model is torch.Size([1536, 512]).\n",
      "size mismatch for backbone.layers.2.blocks.12.attn.qkv.bias: copying a param with shape torch.Size([1152]) from checkpoint, the shape in current model is torch.Size([1536]).\n",
      "size mismatch for backbone.layers.2.blocks.12.attn.proj.weight: copying a param with shape torch.Size([384, 384]) from checkpoint, the shape in current model is torch.Size([512, 512]).\n",
      "size mismatch for backbone.layers.2.blocks.12.attn.proj.bias: copying a param with shape torch.Size([384]) from checkpoint, the shape in current model is torch.Size([512]).\n",
      "size mismatch for backbone.layers.2.blocks.12.norm2.weight: copying a param with shape torch.Size([384]) from checkpoint, the shape in current model is torch.Size([512]).\n",
      "size mismatch for backbone.layers.2.blocks.12.norm2.bias: copying a param with shape torch.Size([384]) from checkpoint, the shape in current model is torch.Size([512]).\n",
      "size mismatch for backbone.layers.2.blocks.12.mlp.fc1.weight: copying a param with shape torch.Size([1536, 384]) from checkpoint, the shape in current model is torch.Size([2048, 512]).\n",
      "size mismatch for backbone.layers.2.blocks.12.mlp.fc1.bias: copying a param with shape torch.Size([1536]) from checkpoint, the shape in current model is torch.Size([2048]).\n",
      "size mismatch for backbone.layers.2.blocks.12.mlp.fc2.weight: copying a param with shape torch.Size([384, 1536]) from checkpoint, the shape in current model is torch.Size([512, 2048]).\n",
      "size mismatch for backbone.layers.2.blocks.12.mlp.fc2.bias: copying a param with shape torch.Size([384]) from checkpoint, the shape in current model is torch.Size([512]).\n",
      "size mismatch for backbone.layers.2.blocks.13.norm1.weight: copying a param with shape torch.Size([384]) from checkpoint, the shape in current model is torch.Size([512]).\n",
      "size mismatch for backbone.layers.2.blocks.13.norm1.bias: copying a param with shape torch.Size([384]) from checkpoint, the shape in current model is torch.Size([512]).\n",
      "size mismatch for backbone.layers.2.blocks.13.attn.relative_position_bias_table: copying a param with shape torch.Size([169, 12]) from checkpoint, the shape in current model is torch.Size([169, 16]).\n",
      "size mismatch for backbone.layers.2.blocks.13.attn.qkv.weight: copying a param with shape torch.Size([1152, 384]) from checkpoint, the shape in current model is torch.Size([1536, 512]).\n",
      "size mismatch for backbone.layers.2.blocks.13.attn.qkv.bias: copying a param with shape torch.Size([1152]) from checkpoint, the shape in current model is torch.Size([1536]).\n",
      "size mismatch for backbone.layers.2.blocks.13.attn.proj.weight: copying a param with shape torch.Size([384, 384]) from checkpoint, the shape in current model is torch.Size([512, 512]).\n",
      "size mismatch for backbone.layers.2.blocks.13.attn.proj.bias: copying a param with shape torch.Size([384]) from checkpoint, the shape in current model is torch.Size([512]).\n",
      "size mismatch for backbone.layers.2.blocks.13.norm2.weight: copying a param with shape torch.Size([384]) from checkpoint, the shape in current model is torch.Size([512]).\n",
      "size mismatch for backbone.layers.2.blocks.13.norm2.bias: copying a param with shape torch.Size([384]) from checkpoint, the shape in current model is torch.Size([512]).\n",
      "size mismatch for backbone.layers.2.blocks.13.mlp.fc1.weight: copying a param with shape torch.Size([1536, 384]) from checkpoint, the shape in current model is torch.Size([2048, 512]).\n",
      "size mismatch for backbone.layers.2.blocks.13.mlp.fc1.bias: copying a param with shape torch.Size([1536]) from checkpoint, the shape in current model is torch.Size([2048]).\n",
      "size mismatch for backbone.layers.2.blocks.13.mlp.fc2.weight: copying a param with shape torch.Size([384, 1536]) from checkpoint, the shape in current model is torch.Size([512, 2048]).\n",
      "size mismatch for backbone.layers.2.blocks.13.mlp.fc2.bias: copying a param with shape torch.Size([384]) from checkpoint, the shape in current model is torch.Size([512]).\n",
      "size mismatch for backbone.layers.2.blocks.14.norm1.weight: copying a param with shape torch.Size([384]) from checkpoint, the shape in current model is torch.Size([512]).\n",
      "size mismatch for backbone.layers.2.blocks.14.norm1.bias: copying a param with shape torch.Size([384]) from checkpoint, the shape in current model is torch.Size([512]).\n",
      "size mismatch for backbone.layers.2.blocks.14.attn.relative_position_bias_table: copying a param with shape torch.Size([169, 12]) from checkpoint, the shape in current model is torch.Size([169, 16]).\n",
      "size mismatch for backbone.layers.2.blocks.14.attn.qkv.weight: copying a param with shape torch.Size([1152, 384]) from checkpoint, the shape in current model is torch.Size([1536, 512]).\n",
      "size mismatch for backbone.layers.2.blocks.14.attn.qkv.bias: copying a param with shape torch.Size([1152]) from checkpoint, the shape in current model is torch.Size([1536]).\n",
      "size mismatch for backbone.layers.2.blocks.14.attn.proj.weight: copying a param with shape torch.Size([384, 384]) from checkpoint, the shape in current model is torch.Size([512, 512]).\n",
      "size mismatch for backbone.layers.2.blocks.14.attn.proj.bias: copying a param with shape torch.Size([384]) from checkpoint, the shape in current model is torch.Size([512]).\n",
      "size mismatch for backbone.layers.2.blocks.14.norm2.weight: copying a param with shape torch.Size([384]) from checkpoint, the shape in current model is torch.Size([512]).\n",
      "size mismatch for backbone.layers.2.blocks.14.norm2.bias: copying a param with shape torch.Size([384]) from checkpoint, the shape in current model is torch.Size([512]).\n",
      "size mismatch for backbone.layers.2.blocks.14.mlp.fc1.weight: copying a param with shape torch.Size([1536, 384]) from checkpoint, the shape in current model is torch.Size([2048, 512]).\n",
      "size mismatch for backbone.layers.2.blocks.14.mlp.fc1.bias: copying a param with shape torch.Size([1536]) from checkpoint, the shape in current model is torch.Size([2048]).\n",
      "size mismatch for backbone.layers.2.blocks.14.mlp.fc2.weight: copying a param with shape torch.Size([384, 1536]) from checkpoint, the shape in current model is torch.Size([512, 2048]).\n",
      "size mismatch for backbone.layers.2.blocks.14.mlp.fc2.bias: copying a param with shape torch.Size([384]) from checkpoint, the shape in current model is torch.Size([512]).\n",
      "size mismatch for backbone.layers.2.blocks.15.norm1.weight: copying a param with shape torch.Size([384]) from checkpoint, the shape in current model is torch.Size([512]).\n",
      "size mismatch for backbone.layers.2.blocks.15.norm1.bias: copying a param with shape torch.Size([384]) from checkpoint, the shape in current model is torch.Size([512]).\n",
      "size mismatch for backbone.layers.2.blocks.15.attn.relative_position_bias_table: copying a param with shape torch.Size([169, 12]) from checkpoint, the shape in current model is torch.Size([169, 16]).\n",
      "size mismatch for backbone.layers.2.blocks.15.attn.qkv.weight: copying a param with shape torch.Size([1152, 384]) from checkpoint, the shape in current model is torch.Size([1536, 512]).\n",
      "size mismatch for backbone.layers.2.blocks.15.attn.qkv.bias: copying a param with shape torch.Size([1152]) from checkpoint, the shape in current model is torch.Size([1536]).\n",
      "size mismatch for backbone.layers.2.blocks.15.attn.proj.weight: copying a param with shape torch.Size([384, 384]) from checkpoint, the shape in current model is torch.Size([512, 512]).\n",
      "size mismatch for backbone.layers.2.blocks.15.attn.proj.bias: copying a param with shape torch.Size([384]) from checkpoint, the shape in current model is torch.Size([512]).\n",
      "size mismatch for backbone.layers.2.blocks.15.norm2.weight: copying a param with shape torch.Size([384]) from checkpoint, the shape in current model is torch.Size([512]).\n",
      "size mismatch for backbone.layers.2.blocks.15.norm2.bias: copying a param with shape torch.Size([384]) from checkpoint, the shape in current model is torch.Size([512]).\n",
      "size mismatch for backbone.layers.2.blocks.15.mlp.fc1.weight: copying a param with shape torch.Size([1536, 384]) from checkpoint, the shape in current model is torch.Size([2048, 512]).\n",
      "size mismatch for backbone.layers.2.blocks.15.mlp.fc1.bias: copying a param with shape torch.Size([1536]) from checkpoint, the shape in current model is torch.Size([2048]).\n",
      "size mismatch for backbone.layers.2.blocks.15.mlp.fc2.weight: copying a param with shape torch.Size([384, 1536]) from checkpoint, the shape in current model is torch.Size([512, 2048]).\n",
      "size mismatch for backbone.layers.2.blocks.15.mlp.fc2.bias: copying a param with shape torch.Size([384]) from checkpoint, the shape in current model is torch.Size([512]).\n",
      "size mismatch for backbone.layers.2.blocks.16.norm1.weight: copying a param with shape torch.Size([384]) from checkpoint, the shape in current model is torch.Size([512]).\n",
      "size mismatch for backbone.layers.2.blocks.16.norm1.bias: copying a param with shape torch.Size([384]) from checkpoint, the shape in current model is torch.Size([512]).\n",
      "size mismatch for backbone.layers.2.blocks.16.attn.relative_position_bias_table: copying a param with shape torch.Size([169, 12]) from checkpoint, the shape in current model is torch.Size([169, 16]).\n",
      "size mismatch for backbone.layers.2.blocks.16.attn.qkv.weight: copying a param with shape torch.Size([1152, 384]) from checkpoint, the shape in current model is torch.Size([1536, 512]).\n",
      "size mismatch for backbone.layers.2.blocks.16.attn.qkv.bias: copying a param with shape torch.Size([1152]) from checkpoint, the shape in current model is torch.Size([1536]).\n",
      "size mismatch for backbone.layers.2.blocks.16.attn.proj.weight: copying a param with shape torch.Size([384, 384]) from checkpoint, the shape in current model is torch.Size([512, 512]).\n",
      "size mismatch for backbone.layers.2.blocks.16.attn.proj.bias: copying a param with shape torch.Size([384]) from checkpoint, the shape in current model is torch.Size([512]).\n",
      "size mismatch for backbone.layers.2.blocks.16.norm2.weight: copying a param with shape torch.Size([384]) from checkpoint, the shape in current model is torch.Size([512]).\n",
      "size mismatch for backbone.layers.2.blocks.16.norm2.bias: copying a param with shape torch.Size([384]) from checkpoint, the shape in current model is torch.Size([512]).\n",
      "size mismatch for backbone.layers.2.blocks.16.mlp.fc1.weight: copying a param with shape torch.Size([1536, 384]) from checkpoint, the shape in current model is torch.Size([2048, 512]).\n",
      "size mismatch for backbone.layers.2.blocks.16.mlp.fc1.bias: copying a param with shape torch.Size([1536]) from checkpoint, the shape in current model is torch.Size([2048]).\n",
      "size mismatch for backbone.layers.2.blocks.16.mlp.fc2.weight: copying a param with shape torch.Size([384, 1536]) from checkpoint, the shape in current model is torch.Size([512, 2048]).\n",
      "size mismatch for backbone.layers.2.blocks.16.mlp.fc2.bias: copying a param with shape torch.Size([384]) from checkpoint, the shape in current model is torch.Size([512]).\n",
      "size mismatch for backbone.layers.2.blocks.17.norm1.weight: copying a param with shape torch.Size([384]) from checkpoint, the shape in current model is torch.Size([512]).\n",
      "size mismatch for backbone.layers.2.blocks.17.norm1.bias: copying a param with shape torch.Size([384]) from checkpoint, the shape in current model is torch.Size([512]).\n",
      "size mismatch for backbone.layers.2.blocks.17.attn.relative_position_bias_table: copying a param with shape torch.Size([169, 12]) from checkpoint, the shape in current model is torch.Size([169, 16]).\n",
      "size mismatch for backbone.layers.2.blocks.17.attn.qkv.weight: copying a param with shape torch.Size([1152, 384]) from checkpoint, the shape in current model is torch.Size([1536, 512]).\n",
      "size mismatch for backbone.layers.2.blocks.17.attn.qkv.bias: copying a param with shape torch.Size([1152]) from checkpoint, the shape in current model is torch.Size([1536]).\n",
      "size mismatch for backbone.layers.2.blocks.17.attn.proj.weight: copying a param with shape torch.Size([384, 384]) from checkpoint, the shape in current model is torch.Size([512, 512]).\n",
      "size mismatch for backbone.layers.2.blocks.17.attn.proj.bias: copying a param with shape torch.Size([384]) from checkpoint, the shape in current model is torch.Size([512]).\n",
      "size mismatch for backbone.layers.2.blocks.17.norm2.weight: copying a param with shape torch.Size([384]) from checkpoint, the shape in current model is torch.Size([512]).\n",
      "size mismatch for backbone.layers.2.blocks.17.norm2.bias: copying a param with shape torch.Size([384]) from checkpoint, the shape in current model is torch.Size([512]).\n",
      "size mismatch for backbone.layers.2.blocks.17.mlp.fc1.weight: copying a param with shape torch.Size([1536, 384]) from checkpoint, the shape in current model is torch.Size([2048, 512]).\n",
      "size mismatch for backbone.layers.2.blocks.17.mlp.fc1.bias: copying a param with shape torch.Size([1536]) from checkpoint, the shape in current model is torch.Size([2048]).\n",
      "size mismatch for backbone.layers.2.blocks.17.mlp.fc2.weight: copying a param with shape torch.Size([384, 1536]) from checkpoint, the shape in current model is torch.Size([512, 2048]).\n",
      "size mismatch for backbone.layers.2.blocks.17.mlp.fc2.bias: copying a param with shape torch.Size([384]) from checkpoint, the shape in current model is torch.Size([512]).\n",
      "size mismatch for backbone.layers.2.downsample.reduction.weight: copying a param with shape torch.Size([768, 1536]) from checkpoint, the shape in current model is torch.Size([1024, 2048]).\n",
      "size mismatch for backbone.layers.2.downsample.norm.weight: copying a param with shape torch.Size([1536]) from checkpoint, the shape in current model is torch.Size([2048]).\n",
      "size mismatch for backbone.layers.2.downsample.norm.bias: copying a param with shape torch.Size([1536]) from checkpoint, the shape in current model is torch.Size([2048]).\n",
      "size mismatch for backbone.layers.3.blocks.0.norm1.weight: copying a param with shape torch.Size([768]) from checkpoint, the shape in current model is torch.Size([1024]).\n",
      "size mismatch for backbone.layers.3.blocks.0.norm1.bias: copying a param with shape torch.Size([768]) from checkpoint, the shape in current model is torch.Size([1024]).\n",
      "size mismatch for backbone.layers.3.blocks.0.attn.relative_position_bias_table: copying a param with shape torch.Size([169, 24]) from checkpoint, the shape in current model is torch.Size([169, 32]).\n",
      "size mismatch for backbone.layers.3.blocks.0.attn.qkv.weight: copying a param with shape torch.Size([2304, 768]) from checkpoint, the shape in current model is torch.Size([3072, 1024]).\n",
      "size mismatch for backbone.layers.3.blocks.0.attn.qkv.bias: copying a param with shape torch.Size([2304]) from checkpoint, the shape in current model is torch.Size([3072]).\n",
      "size mismatch for backbone.layers.3.blocks.0.attn.proj.weight: copying a param with shape torch.Size([768, 768]) from checkpoint, the shape in current model is torch.Size([1024, 1024]).\n",
      "size mismatch for backbone.layers.3.blocks.0.attn.proj.bias: copying a param with shape torch.Size([768]) from checkpoint, the shape in current model is torch.Size([1024]).\n",
      "size mismatch for backbone.layers.3.blocks.0.norm2.weight: copying a param with shape torch.Size([768]) from checkpoint, the shape in current model is torch.Size([1024]).\n",
      "size mismatch for backbone.layers.3.blocks.0.norm2.bias: copying a param with shape torch.Size([768]) from checkpoint, the shape in current model is torch.Size([1024]).\n",
      "size mismatch for backbone.layers.3.blocks.0.mlp.fc1.weight: copying a param with shape torch.Size([3072, 768]) from checkpoint, the shape in current model is torch.Size([4096, 1024]).\n",
      "size mismatch for backbone.layers.3.blocks.0.mlp.fc1.bias: copying a param with shape torch.Size([3072]) from checkpoint, the shape in current model is torch.Size([4096]).\n",
      "size mismatch for backbone.layers.3.blocks.0.mlp.fc2.weight: copying a param with shape torch.Size([768, 3072]) from checkpoint, the shape in current model is torch.Size([1024, 4096]).\n",
      "size mismatch for backbone.layers.3.blocks.0.mlp.fc2.bias: copying a param with shape torch.Size([768]) from checkpoint, the shape in current model is torch.Size([1024]).\n",
      "size mismatch for backbone.layers.3.blocks.1.norm1.weight: copying a param with shape torch.Size([768]) from checkpoint, the shape in current model is torch.Size([1024]).\n",
      "size mismatch for backbone.layers.3.blocks.1.norm1.bias: copying a param with shape torch.Size([768]) from checkpoint, the shape in current model is torch.Size([1024]).\n",
      "size mismatch for backbone.layers.3.blocks.1.attn.relative_position_bias_table: copying a param with shape torch.Size([169, 24]) from checkpoint, the shape in current model is torch.Size([169, 32]).\n",
      "size mismatch for backbone.layers.3.blocks.1.attn.qkv.weight: copying a param with shape torch.Size([2304, 768]) from checkpoint, the shape in current model is torch.Size([3072, 1024]).\n",
      "size mismatch for backbone.layers.3.blocks.1.attn.qkv.bias: copying a param with shape torch.Size([2304]) from checkpoint, the shape in current model is torch.Size([3072]).\n",
      "size mismatch for backbone.layers.3.blocks.1.attn.proj.weight: copying a param with shape torch.Size([768, 768]) from checkpoint, the shape in current model is torch.Size([1024, 1024]).\n",
      "size mismatch for backbone.layers.3.blocks.1.attn.proj.bias: copying a param with shape torch.Size([768]) from checkpoint, the shape in current model is torch.Size([1024]).\n",
      "size mismatch for backbone.layers.3.blocks.1.norm2.weight: copying a param with shape torch.Size([768]) from checkpoint, the shape in current model is torch.Size([1024]).\n",
      "size mismatch for backbone.layers.3.blocks.1.norm2.bias: copying a param with shape torch.Size([768]) from checkpoint, the shape in current model is torch.Size([1024]).\n",
      "size mismatch for backbone.layers.3.blocks.1.mlp.fc1.weight: copying a param with shape torch.Size([3072, 768]) from checkpoint, the shape in current model is torch.Size([4096, 1024]).\n",
      "size mismatch for backbone.layers.3.blocks.1.mlp.fc1.bias: copying a param with shape torch.Size([3072]) from checkpoint, the shape in current model is torch.Size([4096]).\n",
      "size mismatch for backbone.layers.3.blocks.1.mlp.fc2.weight: copying a param with shape torch.Size([768, 3072]) from checkpoint, the shape in current model is torch.Size([1024, 4096]).\n",
      "size mismatch for backbone.layers.3.blocks.1.mlp.fc2.bias: copying a param with shape torch.Size([768]) from checkpoint, the shape in current model is torch.Size([1024]).\n",
      "size mismatch for backbone.norm0.weight: copying a param with shape torch.Size([96]) from checkpoint, the shape in current model is torch.Size([128]).\n",
      "size mismatch for backbone.norm0.bias: copying a param with shape torch.Size([96]) from checkpoint, the shape in current model is torch.Size([128]).\n",
      "size mismatch for backbone.norm1.weight: copying a param with shape torch.Size([192]) from checkpoint, the shape in current model is torch.Size([256]).\n",
      "size mismatch for backbone.norm1.bias: copying a param with shape torch.Size([192]) from checkpoint, the shape in current model is torch.Size([256]).\n",
      "size mismatch for backbone.norm2.weight: copying a param with shape torch.Size([384]) from checkpoint, the shape in current model is torch.Size([512]).\n",
      "size mismatch for backbone.norm2.bias: copying a param with shape torch.Size([384]) from checkpoint, the shape in current model is torch.Size([512]).\n",
      "size mismatch for backbone.norm3.weight: copying a param with shape torch.Size([768]) from checkpoint, the shape in current model is torch.Size([1024]).\n",
      "size mismatch for backbone.norm3.bias: copying a param with shape torch.Size([768]) from checkpoint, the shape in current model is torch.Size([1024]).\n",
      "size mismatch for neck.lateral_convs.0.conv.weight: copying a param with shape torch.Size([256, 96, 1, 1]) from checkpoint, the shape in current model is torch.Size([256, 128, 1, 1]).\n",
      "size mismatch for neck.lateral_convs.1.conv.weight: copying a param with shape torch.Size([256, 192, 1, 1]) from checkpoint, the shape in current model is torch.Size([256, 256, 1, 1]).\n",
      "size mismatch for neck.lateral_convs.2.conv.weight: copying a param with shape torch.Size([256, 384, 1, 1]) from checkpoint, the shape in current model is torch.Size([256, 512, 1, 1]).\n",
      "size mismatch for neck.lateral_convs.3.conv.weight: copying a param with shape torch.Size([256, 768, 1, 1]) from checkpoint, the shape in current model is torch.Size([256, 1024, 1, 1]).\n",
      "size mismatch for roi_head.bbox_head.0.fc_cls.weight: copying a param with shape torch.Size([81, 1024]) from checkpoint, the shape in current model is torch.Size([12, 1024]).\n",
      "size mismatch for roi_head.bbox_head.0.fc_cls.bias: copying a param with shape torch.Size([81]) from checkpoint, the shape in current model is torch.Size([12]).\n",
      "size mismatch for roi_head.bbox_head.0.fc_reg.weight: copying a param with shape torch.Size([320, 1024]) from checkpoint, the shape in current model is torch.Size([44, 1024]).\n",
      "size mismatch for roi_head.bbox_head.0.fc_reg.bias: copying a param with shape torch.Size([320]) from checkpoint, the shape in current model is torch.Size([44]).\n",
      "size mismatch for roi_head.bbox_head.1.fc_cls.weight: copying a param with shape torch.Size([81, 1024]) from checkpoint, the shape in current model is torch.Size([12, 1024]).\n",
      "size mismatch for roi_head.bbox_head.1.fc_cls.bias: copying a param with shape torch.Size([81]) from checkpoint, the shape in current model is torch.Size([12]).\n",
      "size mismatch for roi_head.bbox_head.1.fc_reg.weight: copying a param with shape torch.Size([320, 1024]) from checkpoint, the shape in current model is torch.Size([44, 1024]).\n",
      "size mismatch for roi_head.bbox_head.1.fc_reg.bias: copying a param with shape torch.Size([320]) from checkpoint, the shape in current model is torch.Size([44]).\n",
      "size mismatch for roi_head.bbox_head.2.fc_cls.weight: copying a param with shape torch.Size([81, 1024]) from checkpoint, the shape in current model is torch.Size([12, 1024]).\n",
      "size mismatch for roi_head.bbox_head.2.fc_cls.bias: copying a param with shape torch.Size([81]) from checkpoint, the shape in current model is torch.Size([12]).\n",
      "size mismatch for roi_head.bbox_head.2.fc_reg.weight: copying a param with shape torch.Size([320, 1024]) from checkpoint, the shape in current model is torch.Size([44, 1024]).\n",
      "size mismatch for roi_head.bbox_head.2.fc_reg.bias: copying a param with shape torch.Size([320]) from checkpoint, the shape in current model is torch.Size([44]).\n",
      "size mismatch for roi_head.mask_head.0.conv_logits.weight: copying a param with shape torch.Size([80, 256, 1, 1]) from checkpoint, the shape in current model is torch.Size([11, 256, 1, 1]).\n",
      "size mismatch for roi_head.mask_head.0.conv_logits.bias: copying a param with shape torch.Size([80]) from checkpoint, the shape in current model is torch.Size([11]).\n",
      "size mismatch for roi_head.mask_head.1.conv_logits.weight: copying a param with shape torch.Size([80, 256, 1, 1]) from checkpoint, the shape in current model is torch.Size([11, 256, 1, 1]).\n",
      "size mismatch for roi_head.mask_head.1.conv_logits.bias: copying a param with shape torch.Size([80]) from checkpoint, the shape in current model is torch.Size([11]).\n",
      "size mismatch for roi_head.mask_head.2.conv_logits.weight: copying a param with shape torch.Size([80, 256, 1, 1]) from checkpoint, the shape in current model is torch.Size([11, 256, 1, 1]).\n",
      "size mismatch for roi_head.mask_head.2.conv_logits.bias: copying a param with shape torch.Size([80]) from checkpoint, the shape in current model is torch.Size([11]).\n"
     ]
    }
   ],
   "source": [
    "import os\n",
    "from mmcv.runner import load_checkpoint\n",
    "model = build_detector(cfg.model)\n",
    "checkpoint_path = os.path.join('./work_dirs/swin+cascade','cascade_mask_rcnn_swin_small_patch4_window7.pth')\n",
    "checkpoint = load_checkpoint(model, checkpoint_path)"
   ]
  },
  {
   "cell_type": "code",
   "execution_count": 4,
   "metadata": {},
   "outputs": [
    {
     "name": "stdout",
     "output_type": "stream",
     "text": [
      "loading annotations into memory...\n",
      "Done (t=5.22s)\n",
      "creating index...\n",
      "index created!\n"
     ]
    }
   ],
   "source": [
    "datasets = [build_dataset(cfg.data.train)]"
   ]
  },
  {
   "cell_type": "code",
   "execution_count": 5,
   "metadata": {
    "scrolled": true
   },
   "outputs": [
    {
     "name": "stdout",
     "output_type": "stream",
     "text": [
      "loading annotations into memory...\n"
     ]
    },
    {
     "name": "stderr",
     "output_type": "stream",
     "text": [
      "2021-05-20 02:28:58,798 - mmdet - INFO - Start running, host: ubuntu@nipa2021-1083, work_dir: /home/ubuntu/CUAI_2021/Advanced_Won_Cho/code/Swin-Transformer-Object-Detection/work_dirs/swin+cascade+small\n",
      "2021-05-20 02:28:58,799 - mmdet - INFO - workflow: [('train', 1)], max: 15 epochs\n"
     ]
    },
    {
     "name": "stdout",
     "output_type": "stream",
     "text": [
      "Done (t=1.42s)\n",
      "creating index...\n",
      "index created!\n"
     ]
    },
    {
     "name": "stderr",
     "output_type": "stream",
     "text": [
      "/home/ubuntu/CUAI_2021/Advanced_Won_Cho/code/Swin-Transformer-Object-Detection/mmdet/core/evaluation/eval_hooks.py:111: UserWarning: runner.meta is None. Creating a empty one.\n",
      "  warnings.warn('runner.meta is None. Creating a empty one.')\n",
      "2021-05-20 02:30:00,533 - mmdet - INFO - Epoch [1][50/1091]\tlr: 9.890e-06, eta: 5:35:41, time: 1.235, data_time: 0.109, memory: 22007, loss_rpn_cls: 0.6526, loss_rpn_bbox: 0.0840, s0.loss_cls: 2.4300, s0.acc: 8.0221, s0.loss_bbox: 0.1122, s0.loss_mask: 1.1321, s1.loss_cls: 1.2824, s1.acc: 3.0391, s1.loss_bbox: 0.0153, s1.loss_mask: 0.4884, s2.loss_cls: 0.5469, s2.acc: 23.2201, s2.loss_bbox: 0.0017, s2.loss_mask: 0.2777, loss: 7.0232, grad_norm: 61.5901\n",
      "2021-05-20 02:30:59,660 - mmdet - INFO - Epoch [1][100/1091]\tlr: 1.988e-05, eta: 5:27:36, time: 1.183, data_time: 0.042, memory: 22090, loss_rpn_cls: 0.1828, loss_rpn_bbox: 0.0533, s0.loss_cls: 1.0823, s0.acc: 88.3516, s0.loss_bbox: 0.2585, s0.loss_mask: 0.8121, s1.loss_cls: 0.5289, s1.acc: 87.8060, s1.loss_bbox: 0.0348, s1.loss_mask: 0.3844, s2.loss_cls: 0.2295, s2.acc: 96.4883, s2.loss_bbox: 0.0037, s2.loss_mask: 0.1992, loss: 3.7695, grad_norm: 21.4464\n",
      "2021-05-20 02:31:57,794 - mmdet - INFO - Epoch [1][150/1091]\tlr: 2.987e-05, eta: 5:22:28, time: 1.163, data_time: 0.042, memory: 22090, loss_rpn_cls: 0.1479, loss_rpn_bbox: 0.0626, s0.loss_cls: 0.3926, s0.acc: 91.1510, s0.loss_bbox: 0.3222, s0.loss_mask: 0.6925, s1.loss_cls: 0.1144, s1.acc: 96.0247, s1.loss_bbox: 0.0444, s1.loss_mask: 0.3439, s2.loss_cls: 0.0378, s2.acc: 97.9141, s2.loss_bbox: 0.0047, s2.loss_mask: 0.1735, loss: 2.3364, grad_norm: 10.7951\n",
      "2021-05-20 02:32:57,584 - mmdet - INFO - Epoch [1][200/1091]\tlr: 3.986e-05, eta: 5:21:39, time: 1.196, data_time: 0.054, memory: 22395, loss_rpn_cls: 0.1208, loss_rpn_bbox: 0.0662, s0.loss_cls: 0.4044, s0.acc: 89.7305, s0.loss_bbox: 0.3782, s0.loss_mask: 0.6457, s1.loss_cls: 0.1151, s1.acc: 95.4570, s1.loss_bbox: 0.0523, s1.loss_mask: 0.3214, s2.loss_cls: 0.0346, s2.acc: 97.7161, s2.loss_bbox: 0.0052, s2.loss_mask: 0.1633, loss: 2.3070, grad_norm: 10.1398\n",
      "2021-05-20 02:33:55,497 - mmdet - INFO - Epoch [1][250/1091]\tlr: 4.985e-05, eta: 5:18:44, time: 1.158, data_time: 0.049, memory: 22395, loss_rpn_cls: 0.1162, loss_rpn_bbox: 0.0554, s0.loss_cls: 0.4038, s0.acc: 90.1667, s0.loss_bbox: 0.3685, s0.loss_mask: 0.6129, s1.loss_cls: 0.1116, s1.acc: 95.6510, s1.loss_bbox: 0.0500, s1.loss_mask: 0.3059, s2.loss_cls: 0.0330, s2.acc: 97.7839, s2.loss_bbox: 0.0053, s2.loss_mask: 0.1561, loss: 2.2188, grad_norm: 8.8933\n",
      "2021-05-20 02:34:55,058 - mmdet - INFO - Epoch [1][300/1091]\tlr: 5.984e-05, eta: 5:17:57, time: 1.191, data_time: 0.057, memory: 22395, loss_rpn_cls: 0.1007, loss_rpn_bbox: 0.0559, s0.loss_cls: 0.4079, s0.acc: 89.2904, s0.loss_bbox: 0.4100, s0.loss_mask: 0.5820, s1.loss_cls: 0.1201, s1.acc: 94.9010, s1.loss_bbox: 0.0624, s1.loss_mask: 0.2849, s2.loss_cls: 0.0350, s2.acc: 97.5404, s2.loss_bbox: 0.0068, s2.loss_mask: 0.1463, loss: 2.2120, grad_norm: 8.5299\n",
      "2021-05-20 02:35:53,864 - mmdet - INFO - Epoch [1][350/1091]\tlr: 6.983e-05, eta: 5:16:31, time: 1.176, data_time: 0.053, memory: 22579, loss_rpn_cls: 0.0845, loss_rpn_bbox: 0.0487, s0.loss_cls: 0.3861, s0.acc: 89.5169, s0.loss_bbox: 0.4110, s0.loss_mask: 0.5583, s1.loss_cls: 0.1146, s1.acc: 94.7370, s1.loss_bbox: 0.0676, s1.loss_mask: 0.2655, s2.loss_cls: 0.0320, s2.acc: 97.5690, s2.loss_bbox: 0.0072, s2.loss_mask: 0.1363, loss: 2.1118, grad_norm: 8.0204\n",
      "2021-05-20 02:36:54,114 - mmdet - INFO - Epoch [1][400/1091]\tlr: 7.982e-05, eta: 5:16:10, time: 1.205, data_time: 0.058, memory: 22579, loss_rpn_cls: 0.1053, loss_rpn_bbox: 0.0541, s0.loss_cls: 0.4015, s0.acc: 89.0260, s0.loss_bbox: 0.4265, s0.loss_mask: 0.5438, s1.loss_cls: 0.1314, s1.acc: 93.3411, s1.loss_bbox: 0.0886, s1.loss_mask: 0.2594, s2.loss_cls: 0.0398, s2.acc: 96.5599, s2.loss_bbox: 0.0123, s2.loss_mask: 0.1333, loss: 2.1961, grad_norm: 8.3743\n",
      "2021-05-20 02:37:54,531 - mmdet - INFO - Epoch [1][450/1091]\tlr: 8.981e-05, eta: 5:15:46, time: 1.208, data_time: 0.057, memory: 22579, loss_rpn_cls: 0.1159, loss_rpn_bbox: 0.0572, s0.loss_cls: 0.3887, s0.acc: 89.2773, s0.loss_bbox: 0.4243, s0.loss_mask: 0.5138, s1.loss_cls: 0.1483, s1.acc: 92.1274, s1.loss_bbox: 0.1148, s1.loss_mask: 0.2295, s2.loss_cls: 0.0469, s2.acc: 95.3762, s2.loss_bbox: 0.0206, s2.loss_mask: 0.1125, loss: 2.1726, grad_norm: 8.4714\n",
      "2021-05-20 02:38:56,416 - mmdet - INFO - Epoch [1][500/1091]\tlr: 9.980e-05, eta: 5:16:01, time: 1.238, data_time: 0.049, memory: 22621, loss_rpn_cls: 0.0847, loss_rpn_bbox: 0.0522, s0.loss_cls: 0.3714, s0.acc: 89.5104, s0.loss_bbox: 0.3912, s0.loss_mask: 0.4788, s1.loss_cls: 0.1568, s1.acc: 91.3402, s1.loss_bbox: 0.1269, s1.loss_mask: 0.2157, s2.loss_cls: 0.0526, s2.acc: 94.6650, s2.loss_bbox: 0.0276, s2.loss_mask: 0.1023, loss: 2.0601, grad_norm: 9.5832\n",
      "2021-05-20 02:40:00,514 - mmdet - INFO - Epoch [1][550/1091]\tlr: 1.000e-04, eta: 5:17:06, time: 1.282, data_time: 0.058, memory: 23013, loss_rpn_cls: 0.0776, loss_rpn_bbox: 0.0503, s0.loss_cls: 0.3898, s0.acc: 89.1979, s0.loss_bbox: 0.3907, s0.loss_mask: 0.4727, s1.loss_cls: 0.1747, s1.acc: 90.3156, s1.loss_bbox: 0.1407, s1.loss_mask: 0.2053, s2.loss_cls: 0.0653, s2.acc: 92.8856, s2.loss_bbox: 0.0366, s2.loss_mask: 0.0955, loss: 2.0993, grad_norm: 9.4383\n",
      "2021-05-20 02:41:02,497 - mmdet - INFO - Epoch [1][600/1091]\tlr: 1.000e-04, eta: 5:16:54, time: 1.240, data_time: 0.043, memory: 23013, loss_rpn_cls: 0.0838, loss_rpn_bbox: 0.0450, s0.loss_cls: 0.3331, s0.acc: 90.7865, s0.loss_bbox: 0.3315, s0.loss_mask: 0.4496, s1.loss_cls: 0.1547, s1.acc: 91.1713, s1.loss_bbox: 0.1285, s1.loss_mask: 0.1946, s2.loss_cls: 0.0607, s2.acc: 93.1833, s2.loss_bbox: 0.0380, s2.loss_mask: 0.0866, loss: 1.9062, grad_norm: 10.9073\n",
      "2021-05-20 02:42:06,505 - mmdet - INFO - Epoch [1][650/1091]\tlr: 1.000e-04, eta: 5:17:23, time: 1.280, data_time: 0.073, memory: 23318, loss_rpn_cls: 0.0905, loss_rpn_bbox: 0.0555, s0.loss_cls: 0.3682, s0.acc: 89.0951, s0.loss_bbox: 0.3832, s0.loss_mask: 0.4066, s1.loss_cls: 0.1748, s1.acc: 89.8020, s1.loss_bbox: 0.1453, s1.loss_mask: 0.1728, s2.loss_cls: 0.0734, s2.acc: 91.4467, s2.loss_bbox: 0.0455, s2.loss_mask: 0.0764, loss: 1.9923, grad_norm: 10.0917\n",
      "2021-05-20 02:43:08,322 - mmdet - INFO - Epoch [1][700/1091]\tlr: 1.000e-04, eta: 5:16:50, time: 1.236, data_time: 0.056, memory: 23318, loss_rpn_cls: 0.0719, loss_rpn_bbox: 0.0436, s0.loss_cls: 0.3258, s0.acc: 90.5078, s0.loss_bbox: 0.3331, s0.loss_mask: 0.4046, s1.loss_cls: 0.1592, s1.acc: 90.6556, s1.loss_bbox: 0.1293, s1.loss_mask: 0.1728, s2.loss_cls: 0.0693, s2.acc: 91.9392, s2.loss_bbox: 0.0429, s2.loss_mask: 0.0764, loss: 1.8288, grad_norm: 8.9063\n",
      "2021-05-20 02:44:13,491 - mmdet - INFO - Epoch [1][750/1091]\tlr: 1.000e-04, eta: 5:17:23, time: 1.303, data_time: 0.053, memory: 23318, loss_rpn_cls: 0.1041, loss_rpn_bbox: 0.0503, s0.loss_cls: 0.3470, s0.acc: 90.1133, s0.loss_bbox: 0.3420, s0.loss_mask: 0.3812, s1.loss_cls: 0.1670, s1.acc: 90.1089, s1.loss_bbox: 0.1318, s1.loss_mask: 0.1608, s2.loss_cls: 0.0741, s2.acc: 91.3047, s2.loss_bbox: 0.0439, s2.loss_mask: 0.0697, loss: 1.8720, grad_norm: 11.1347\n",
      "2021-05-20 02:45:17,571 - mmdet - INFO - Epoch [1][800/1091]\tlr: 1.000e-04, eta: 5:17:22, time: 1.282, data_time: 0.059, memory: 23318, loss_rpn_cls: 0.0809, loss_rpn_bbox: 0.0506, s0.loss_cls: 0.3367, s0.acc: 89.9206, s0.loss_bbox: 0.3358, s0.loss_mask: 0.3997, s1.loss_cls: 0.1688, s1.acc: 90.0113, s1.loss_bbox: 0.1304, s1.loss_mask: 0.1698, s2.loss_cls: 0.0769, s2.acc: 91.0301, s2.loss_bbox: 0.0435, s2.loss_mask: 0.0745, loss: 1.8676, grad_norm: 7.9421\n",
      "2021-05-20 02:46:21,464 - mmdet - INFO - Epoch [1][850/1091]\tlr: 1.000e-04, eta: 5:17:11, time: 1.278, data_time: 0.050, memory: 23318, loss_rpn_cls: 0.0609, loss_rpn_bbox: 0.0407, s0.loss_cls: 0.3280, s0.acc: 90.3021, s0.loss_bbox: 0.3222, s0.loss_mask: 0.3791, s1.loss_cls: 0.1640, s1.acc: 89.8737, s1.loss_bbox: 0.1278, s1.loss_mask: 0.1632, s2.loss_cls: 0.0745, s2.acc: 90.7728, s2.loss_bbox: 0.0444, s2.loss_mask: 0.0729, loss: 1.7777, grad_norm: 8.8088\n",
      "2021-05-20 02:47:25,534 - mmdet - INFO - Epoch [1][900/1091]\tlr: 1.000e-04, eta: 5:16:57, time: 1.281, data_time: 0.058, memory: 23442, loss_rpn_cls: 0.0754, loss_rpn_bbox: 0.0454, s0.loss_cls: 0.3344, s0.acc: 90.2969, s0.loss_bbox: 0.3259, s0.loss_mask: 0.3693, s1.loss_cls: 0.1614, s1.acc: 90.6213, s1.loss_bbox: 0.1267, s1.loss_mask: 0.1597, s2.loss_cls: 0.0723, s2.acc: 91.4747, s2.loss_bbox: 0.0421, s2.loss_mask: 0.0704, loss: 1.7831, grad_norm: 9.2981\n"
     ]
    },
    {
     "name": "stderr",
     "output_type": "stream",
     "text": [
      "2021-05-20 02:48:28,585 - mmdet - INFO - Epoch [1][950/1091]\tlr: 1.000e-04, eta: 5:16:21, time: 1.261, data_time: 0.049, memory: 23442, loss_rpn_cls: 0.0665, loss_rpn_bbox: 0.0420, s0.loss_cls: 0.3028, s0.acc: 91.1406, s0.loss_bbox: 0.3004, s0.loss_mask: 0.3636, s1.loss_cls: 0.1483, s1.acc: 91.2542, s1.loss_bbox: 0.1212, s1.loss_mask: 0.1638, s2.loss_cls: 0.0678, s2.acc: 92.0532, s2.loss_bbox: 0.0423, s2.loss_mask: 0.0786, loss: 1.6973, grad_norm: 7.7796\n",
      "2021-05-20 02:49:31,926 - mmdet - INFO - Epoch [1][1000/1091]\tlr: 1.000e-04, eta: 5:15:46, time: 1.267, data_time: 0.064, memory: 23442, loss_rpn_cls: 0.0626, loss_rpn_bbox: 0.0509, s0.loss_cls: 0.3029, s0.acc: 90.7956, s0.loss_bbox: 0.3147, s0.loss_mask: 0.3621, s1.loss_cls: 0.1472, s1.acc: 90.8819, s1.loss_bbox: 0.1216, s1.loss_mask: 0.1603, s2.loss_cls: 0.0679, s2.acc: 91.4986, s2.loss_bbox: 0.0434, s2.loss_mask: 0.0727, loss: 1.7063, grad_norm: 6.9757\n",
      "2021-05-20 02:50:36,819 - mmdet - INFO - Epoch [1][1050/1091]\tlr: 1.000e-04, eta: 5:15:32, time: 1.298, data_time: 0.054, memory: 23442, loss_rpn_cls: 0.0626, loss_rpn_bbox: 0.0474, s0.loss_cls: 0.3311, s0.acc: 90.0299, s0.loss_bbox: 0.3307, s0.loss_mask: 0.3512, s1.loss_cls: 0.1653, s1.acc: 90.0410, s1.loss_bbox: 0.1275, s1.loss_mask: 0.1523, s2.loss_cls: 0.0756, s2.acc: 90.7848, s2.loss_bbox: 0.0447, s2.loss_mask: 0.0699, loss: 1.7583, grad_norm: 7.4464\n",
      "2021-05-20 02:51:29,579 - mmdet - INFO - Saving checkpoint at 1 epochs\n"
     ]
    },
    {
     "name": "stdout",
     "output_type": "stream",
     "text": [
      "[>>>>>>>>>>>>>>>>>>>>>>>>>>>>>] 655/655, 2.7 task/s, elapsed: 240s, ETA:     0s"
     ]
    },
    {
     "name": "stderr",
     "output_type": "stream",
     "text": [
      "2021-05-20 02:55:37,020 - mmdet - INFO - Evaluating bbox...\n"
     ]
    },
    {
     "name": "stdout",
     "output_type": "stream",
     "text": [
      "Loading and preparing results...\n",
      "DONE (t=0.77s)\n",
      "creating index...\n",
      "index created!\n",
      "Running per image evaluation...\n",
      "Evaluate annotation type *bbox*\n",
      "DONE (t=8.65s).\n",
      "Accumulating evaluation results...\n",
      "DONE (t=1.42s).\n",
      "Average Precision  (AP) @[ IoU=0.50:0.95 | area=   all | maxDets=100 ] = 0.141\n",
      "Average Precision  (AP) @[ IoU=0.50      | area=   all | maxDets=1000 ] = 0.215\n",
      "Average Precision  (AP) @[ IoU=0.75      | area=   all | maxDets=1000 ] = 0.147\n",
      "Average Precision  (AP) @[ IoU=0.50:0.95 | area= small | maxDets=1000 ] = 0.031\n",
      "Average Precision  (AP) @[ IoU=0.50:0.95 | area=medium | maxDets=1000 ] = 0.132\n",
      "Average Precision  (AP) @[ IoU=0.50:0.95 | area= large | maxDets=1000 ] = 0.294\n",
      "Average Recall     (AR) @[ IoU=0.50:0.95 | area=   all | maxDets=100 ] = 0.281\n",
      "Average Recall     (AR) @[ IoU=0.50:0.95 | area=   all | maxDets=300 ] = 0.281\n",
      "Average Recall     (AR) @[ IoU=0.50:0.95 | area=   all | maxDets=1000 ] = 0.281\n",
      "Average Recall     (AR) @[ IoU=0.50:0.95 | area= small | maxDets=1000 ] = 0.073\n",
      "Average Recall     (AR) @[ IoU=0.50:0.95 | area=medium | maxDets=1000 ] = 0.272\n",
      "Average Recall     (AR) @[ IoU=0.50:0.95 | area= large | maxDets=1000 ] = 0.527\n"
     ]
    },
    {
     "name": "stderr",
     "output_type": "stream",
     "text": [
      "2021-05-20 02:55:53,259 - mmdet - INFO - Now best checkpoint is epoch_1.pth.Best bbox_mAP_50 is 0.2150\n",
      "2021-05-20 02:55:53,289 - mmdet - INFO - Epoch(val) [1][1091]\tbbox_mAP: 0.1410, bbox_mAP_50: 0.2150, bbox_mAP_75: 0.1470, bbox_mAP_s: 0.0310, bbox_mAP_m: 0.1320, bbox_mAP_l: 0.2940, bbox_mAP_copypaste: 0.141 0.215 0.147 0.031 0.132 0.294\n",
      "2021-05-20 02:57:00,543 - mmdet - INFO - Epoch [2][50/1091]\tlr: 1.000e-04, eta: 5:03:36, time: 1.345, data_time: 0.104, memory: 23442, loss_rpn_cls: 0.0543, loss_rpn_bbox: 0.0400, s0.loss_cls: 0.3051, s0.acc: 90.7852, s0.loss_bbox: 0.3008, s0.loss_mask: 0.3085, s1.loss_cls: 0.1505, s1.acc: 91.0297, s1.loss_bbox: 0.1193, s1.loss_mask: 0.1313, s2.loss_cls: 0.0697, s2.acc: 91.4276, s2.loss_bbox: 0.0428, s2.loss_mask: 0.0588, loss: 1.5812, grad_norm: 7.4999\n",
      "2021-05-20 02:58:04,918 - mmdet - INFO - Epoch [2][100/1091]\tlr: 1.000e-04, eta: 5:03:34, time: 1.287, data_time: 0.050, memory: 23442, loss_rpn_cls: 0.0619, loss_rpn_bbox: 0.0414, s0.loss_cls: 0.2880, s0.acc: 91.1341, s0.loss_bbox: 0.2838, s0.loss_mask: 0.3145, s1.loss_cls: 0.1433, s1.acc: 91.2332, s1.loss_bbox: 0.1123, s1.loss_mask: 0.1353, s2.loss_cls: 0.0678, s2.acc: 91.4999, s2.loss_bbox: 0.0400, s2.loss_mask: 0.0600, loss: 1.5484, grad_norm: 8.9151\n",
      "2021-05-20 02:59:08,953 - mmdet - INFO - Epoch [2][150/1091]\tlr: 1.000e-04, eta: 5:03:23, time: 1.281, data_time: 0.052, memory: 23442, loss_rpn_cls: 0.0628, loss_rpn_bbox: 0.0494, s0.loss_cls: 0.3267, s0.acc: 90.3763, s0.loss_bbox: 0.3220, s0.loss_mask: 0.3337, s1.loss_cls: 0.1622, s1.acc: 90.3529, s1.loss_bbox: 0.1241, s1.loss_mask: 0.1490, s2.loss_cls: 0.0755, s2.acc: 90.8119, s2.loss_bbox: 0.0423, s2.loss_mask: 0.0654, loss: 1.7132, grad_norm: 9.7582\n",
      "2021-05-20 03:00:13,858 - mmdet - INFO - Epoch [2][200/1091]\tlr: 1.000e-04, eta: 5:03:18, time: 1.298, data_time: 0.057, memory: 23459, loss_rpn_cls: 0.0724, loss_rpn_bbox: 0.0448, s0.loss_cls: 0.2834, s0.acc: 91.4102, s0.loss_bbox: 0.2831, s0.loss_mask: 0.3147, s1.loss_cls: 0.1396, s1.acc: 91.3644, s1.loss_bbox: 0.1146, s1.loss_mask: 0.1400, s2.loss_cls: 0.0665, s2.acc: 91.6746, s2.loss_bbox: 0.0415, s2.loss_mask: 0.0647, loss: 1.5655, grad_norm: 8.4822\n",
      "2021-05-20 03:01:18,337 - mmdet - INFO - Epoch [2][250/1091]\tlr: 1.000e-04, eta: 5:03:03, time: 1.289, data_time: 0.067, memory: 23459, loss_rpn_cls: 0.0589, loss_rpn_bbox: 0.0464, s0.loss_cls: 0.3363, s0.acc: 90.0846, s0.loss_bbox: 0.3171, s0.loss_mask: 0.3424, s1.loss_cls: 0.1692, s1.acc: 89.9769, s1.loss_bbox: 0.1233, s1.loss_mask: 0.1520, s2.loss_cls: 0.0813, s2.acc: 90.2701, s2.loss_bbox: 0.0441, s2.loss_mask: 0.0691, loss: 1.7402, grad_norm: 7.1923\n",
      "2021-05-20 03:02:22,325 - mmdet - INFO - Epoch [2][300/1091]\tlr: 1.000e-04, eta: 5:02:40, time: 1.280, data_time: 0.056, memory: 23459, loss_rpn_cls: 0.0641, loss_rpn_bbox: 0.0437, s0.loss_cls: 0.3126, s0.acc: 91.0039, s0.loss_bbox: 0.2864, s0.loss_mask: 0.3236, s1.loss_cls: 0.1571, s1.acc: 90.7809, s1.loss_bbox: 0.1116, s1.loss_mask: 0.1410, s2.loss_cls: 0.0743, s2.acc: 91.0810, s2.loss_bbox: 0.0389, s2.loss_mask: 0.0619, loss: 1.6152, grad_norm: 7.2652\n",
      "2021-05-20 03:03:26,572 - mmdet - INFO - Epoch [2][350/1091]\tlr: 1.000e-04, eta: 5:02:17, time: 1.285, data_time: 0.060, memory: 23459, loss_rpn_cls: 0.0594, loss_rpn_bbox: 0.0441, s0.loss_cls: 0.3292, s0.acc: 90.1875, s0.loss_bbox: 0.3091, s0.loss_mask: 0.3270, s1.loss_cls: 0.1641, s1.acc: 89.7780, s1.loss_bbox: 0.1235, s1.loss_mask: 0.1439, s2.loss_cls: 0.0782, s2.acc: 90.5145, s2.loss_bbox: 0.0443, s2.loss_mask: 0.0657, loss: 1.6885, grad_norm: 8.5211\n",
      "2021-05-20 03:04:29,699 - mmdet - INFO - Epoch [2][400/1091]\tlr: 1.000e-04, eta: 5:01:40, time: 1.263, data_time: 0.049, memory: 23459, loss_rpn_cls: 0.0534, loss_rpn_bbox: 0.0401, s0.loss_cls: 0.2552, s0.acc: 92.1914, s0.loss_bbox: 0.2529, s0.loss_mask: 0.2967, s1.loss_cls: 0.1279, s1.acc: 92.0413, s1.loss_bbox: 0.1017, s1.loss_mask: 0.1271, s2.loss_cls: 0.0611, s2.acc: 92.4338, s2.loss_bbox: 0.0367, s2.loss_mask: 0.0575, loss: 1.4105, grad_norm: 7.0360\n",
      "2021-05-20 03:05:32,874 - mmdet - INFO - Epoch [2][450/1091]\tlr: 1.000e-04, eta: 5:01:01, time: 1.263, data_time: 0.052, memory: 23459, loss_rpn_cls: 0.0653, loss_rpn_bbox: 0.0496, s0.loss_cls: 0.2750, s0.acc: 91.7969, s0.loss_bbox: 0.2906, s0.loss_mask: 0.2861, s1.loss_cls: 0.1349, s1.acc: 91.8784, s1.loss_bbox: 0.1171, s1.loss_mask: 0.1255, s2.loss_cls: 0.0632, s2.acc: 92.2613, s2.loss_bbox: 0.0422, s2.loss_mask: 0.0567, loss: 1.5062, grad_norm: 7.3586\n",
      "2021-05-20 03:06:35,628 - mmdet - INFO - Epoch [2][500/1091]\tlr: 1.000e-04, eta: 5:00:17, time: 1.255, data_time: 0.043, memory: 23459, loss_rpn_cls: 0.0571, loss_rpn_bbox: 0.0362, s0.loss_cls: 0.2977, s0.acc: 91.2487, s0.loss_bbox: 0.2784, s0.loss_mask: 0.2960, s1.loss_cls: 0.1500, s1.acc: 90.8854, s1.loss_bbox: 0.1089, s1.loss_mask: 0.1276, s2.loss_cls: 0.0729, s2.acc: 90.9778, s2.loss_bbox: 0.0386, s2.loss_mask: 0.0581, loss: 1.5212, grad_norm: 7.8870\n",
      "2021-05-20 03:07:40,082 - mmdet - INFO - Epoch [2][550/1091]\tlr: 1.000e-04, eta: 4:59:47, time: 1.289, data_time: 0.045, memory: 23459, loss_rpn_cls: 0.0559, loss_rpn_bbox: 0.0371, s0.loss_cls: 0.2645, s0.acc: 91.9362, s0.loss_bbox: 0.2696, s0.loss_mask: 0.2810, s1.loss_cls: 0.1346, s1.acc: 91.7760, s1.loss_bbox: 0.1078, s1.loss_mask: 0.1218, s2.loss_cls: 0.0634, s2.acc: 92.2289, s2.loss_bbox: 0.0392, s2.loss_mask: 0.0538, loss: 1.4286, grad_norm: 6.6178\n",
      "2021-05-20 03:08:44,906 - mmdet - INFO - Epoch [2][600/1091]\tlr: 1.000e-04, eta: 4:59:19, time: 1.296, data_time: 0.057, memory: 23459, loss_rpn_cls: 0.0597, loss_rpn_bbox: 0.0445, s0.loss_cls: 0.2847, s0.acc: 91.3125, s0.loss_bbox: 0.2898, s0.loss_mask: 0.2988, s1.loss_cls: 0.1377, s1.acc: 91.5102, s1.loss_bbox: 0.1132, s1.loss_mask: 0.1285, s2.loss_cls: 0.0655, s2.acc: 91.7501, s2.loss_bbox: 0.0412, s2.loss_mask: 0.0574, loss: 1.5210, grad_norm: 7.2952\n",
      "2021-05-20 03:09:50,331 - mmdet - INFO - Epoch [2][650/1091]\tlr: 1.000e-04, eta: 4:58:53, time: 1.308, data_time: 0.058, memory: 23459, loss_rpn_cls: 0.0560, loss_rpn_bbox: 0.0449, s0.loss_cls: 0.3167, s0.acc: 90.5104, s0.loss_bbox: 0.3108, s0.loss_mask: 0.3281, s1.loss_cls: 0.1533, s1.acc: 90.9617, s1.loss_bbox: 0.1216, s1.loss_mask: 0.1447, s2.loss_cls: 0.0734, s2.acc: 91.0596, s2.loss_bbox: 0.0431, s2.loss_mask: 0.0648, loss: 1.6573, grad_norm: 7.8997\n",
      "2021-05-20 03:10:54,171 - mmdet - INFO - Epoch [2][700/1091]\tlr: 1.000e-04, eta: 4:58:12, time: 1.277, data_time: 0.049, memory: 23459, loss_rpn_cls: 0.0475, loss_rpn_bbox: 0.0404, s0.loss_cls: 0.2937, s0.acc: 91.0208, s0.loss_bbox: 0.3019, s0.loss_mask: 0.3232, s1.loss_cls: 0.1483, s1.acc: 90.7780, s1.loss_bbox: 0.1193, s1.loss_mask: 0.1456, s2.loss_cls: 0.0709, s2.acc: 90.9995, s2.loss_bbox: 0.0421, s2.loss_mask: 0.0647, loss: 1.5975, grad_norm: 6.9463\n",
      "2021-05-20 03:12:09,697 - mmdet - INFO - Epoch [2][750/1091]\tlr: 1.000e-04, eta: 4:59:03, time: 1.510, data_time: 0.059, memory: 23497, loss_rpn_cls: 0.0523, loss_rpn_bbox: 0.0354, s0.loss_cls: 0.2926, s0.acc: 91.0326, s0.loss_bbox: 0.3012, s0.loss_mask: 0.3151, s1.loss_cls: 0.1464, s1.acc: 90.9844, s1.loss_bbox: 0.1196, s1.loss_mask: 0.1385, s2.loss_cls: 0.0696, s2.acc: 91.3491, s2.loss_bbox: 0.0431, s2.loss_mask: 0.0624, loss: 1.5761, grad_norm: 7.3100\n",
      "2021-05-20 03:13:39,307 - mmdet - INFO - Epoch [2][800/1091]\tlr: 1.000e-04, eta: 5:01:34, time: 1.792, data_time: 0.051, memory: 23497, loss_rpn_cls: 0.0477, loss_rpn_bbox: 0.0344, s0.loss_cls: 0.2839, s0.acc: 91.4310, s0.loss_bbox: 0.2551, s0.loss_mask: 0.2912, s1.loss_cls: 0.1448, s1.acc: 91.1913, s1.loss_bbox: 0.1016, s1.loss_mask: 0.1256, s2.loss_cls: 0.0693, s2.acc: 91.5251, s2.loss_bbox: 0.0372, s2.loss_mask: 0.0563, loss: 1.4470, grad_norm: 7.6400\n",
      "2021-05-20 03:15:09,494 - mmdet - INFO - Epoch [2][850/1091]\tlr: 1.000e-04, eta: 5:03:57, time: 1.804, data_time: 0.050, memory: 23497, loss_rpn_cls: 0.0426, loss_rpn_bbox: 0.0361, s0.loss_cls: 0.2855, s0.acc: 91.4687, s0.loss_bbox: 0.2648, s0.loss_mask: 0.2933, s1.loss_cls: 0.1399, s1.acc: 91.6389, s1.loss_bbox: 0.1080, s1.loss_mask: 0.1272, s2.loss_cls: 0.0677, s2.acc: 91.8878, s2.loss_bbox: 0.0402, s2.loss_mask: 0.0579, loss: 1.4631, grad_norm: 7.1109\n",
      "2021-05-20 03:16:39,581 - mmdet - INFO - Epoch [2][900/1091]\tlr: 1.000e-04, eta: 5:06:08, time: 1.802, data_time: 0.047, memory: 23497, loss_rpn_cls: 0.0453, loss_rpn_bbox: 0.0336, s0.loss_cls: 0.2482, s0.acc: 92.0755, s0.loss_bbox: 0.2665, s0.loss_mask: 0.2637, s1.loss_cls: 0.1237, s1.acc: 92.2655, s1.loss_bbox: 0.1078, s1.loss_mask: 0.1171, s2.loss_cls: 0.0602, s2.acc: 92.3344, s2.loss_bbox: 0.0400, s2.loss_mask: 0.0531, loss: 1.3592, grad_norm: 8.5949\n"
     ]
    },
    {
     "name": "stderr",
     "output_type": "stream",
     "text": [
      "2021-05-20 03:18:11,027 - mmdet - INFO - Epoch [2][950/1091]\tlr: 1.000e-04, eta: 5:08:17, time: 1.829, data_time: 0.066, memory: 23497, loss_rpn_cls: 0.0620, loss_rpn_bbox: 0.0416, s0.loss_cls: 0.2987, s0.acc: 90.7812, s0.loss_bbox: 0.3148, s0.loss_mask: 0.3022, s1.loss_cls: 0.1442, s1.acc: 90.8843, s1.loss_bbox: 0.1231, s1.loss_mask: 0.1287, s2.loss_cls: 0.0683, s2.acc: 91.0092, s2.loss_bbox: 0.0455, s2.loss_mask: 0.0582, loss: 1.5873, grad_norm: 11.6118\n",
      "2021-05-20 03:19:14,346 - mmdet - INFO - Epoch [2][1000/1091]\tlr: 1.000e-04, eta: 5:07:04, time: 1.266, data_time: 0.054, memory: 23497, loss_rpn_cls: 0.0595, loss_rpn_bbox: 0.0401, s0.loss_cls: 0.2951, s0.acc: 90.5612, s0.loss_bbox: 0.3097, s0.loss_mask: 0.3036, s1.loss_cls: 0.1504, s1.acc: 90.4023, s1.loss_bbox: 0.1245, s1.loss_mask: 0.1324, s2.loss_cls: 0.0723, s2.acc: 90.6804, s2.loss_bbox: 0.0438, s2.loss_mask: 0.0595, loss: 1.5909, grad_norm: 7.8069\n",
      "2021-05-20 03:20:18,879 - mmdet - INFO - Epoch [2][1050/1091]\tlr: 1.000e-04, eta: 5:06:00, time: 1.291, data_time: 0.050, memory: 23497, loss_rpn_cls: 0.0492, loss_rpn_bbox: 0.0361, s0.loss_cls: 0.2852, s0.acc: 91.4062, s0.loss_bbox: 0.2862, s0.loss_mask: 0.2996, s1.loss_cls: 0.1410, s1.acc: 91.4352, s1.loss_bbox: 0.1153, s1.loss_mask: 0.1320, s2.loss_cls: 0.0679, s2.acc: 91.6865, s2.loss_bbox: 0.0422, s2.loss_mask: 0.0594, loss: 1.5142, grad_norm: 6.9371\n",
      "2021-05-20 03:21:12,002 - mmdet - INFO - Saving checkpoint at 2 epochs\n"
     ]
    },
    {
     "name": "stdout",
     "output_type": "stream",
     "text": [
      "[>>>>>>>>>>>>>>>>>>>>>>>>>>>>>] 655/655, 2.3 task/s, elapsed: 287s, ETA:     0s"
     ]
    },
    {
     "name": "stderr",
     "output_type": "stream",
     "text": [
      "2021-05-20 03:26:07,069 - mmdet - INFO - Evaluating bbox...\n"
     ]
    },
    {
     "name": "stdout",
     "output_type": "stream",
     "text": [
      "Loading and preparing results...\n",
      "DONE (t=0.17s)\n",
      "creating index...\n",
      "index created!\n",
      "Running per image evaluation...\n",
      "Evaluate annotation type *bbox*\n",
      "DONE (t=8.18s).\n",
      "Accumulating evaluation results...\n",
      "DONE (t=1.17s).\n",
      "Average Precision  (AP) @[ IoU=0.50:0.95 | area=   all | maxDets=100 ] = 0.262\n",
      "Average Precision  (AP) @[ IoU=0.50      | area=   all | maxDets=1000 ] = 0.358\n",
      "Average Precision  (AP) @[ IoU=0.75      | area=   all | maxDets=1000 ] = 0.276\n",
      "Average Precision  (AP) @[ IoU=0.50:0.95 | area= small | maxDets=1000 ] = 0.065\n",
      "Average Precision  (AP) @[ IoU=0.50:0.95 | area=medium | maxDets=1000 ] = 0.262\n",
      "Average Precision  (AP) @[ IoU=0.50:0.95 | area= large | maxDets=1000 ] = 0.450\n",
      "Average Recall     (AR) @[ IoU=0.50:0.95 | area=   all | maxDets=100 ] = 0.404\n",
      "Average Recall     (AR) @[ IoU=0.50:0.95 | area=   all | maxDets=300 ] = 0.404\n",
      "Average Recall     (AR) @[ IoU=0.50:0.95 | area=   all | maxDets=1000 ] = 0.404\n",
      "Average Recall     (AR) @[ IoU=0.50:0.95 | area= small | maxDets=1000 ] = 0.145\n",
      "Average Recall     (AR) @[ IoU=0.50:0.95 | area=medium | maxDets=1000 ] = 0.416\n",
      "Average Recall     (AR) @[ IoU=0.50:0.95 | area= large | maxDets=1000 ] = 0.612\n"
     ]
    },
    {
     "name": "stderr",
     "output_type": "stream",
     "text": [
      "2021-05-20 03:26:25,367 - mmdet - INFO - Now best checkpoint is epoch_2.pth.Best bbox_mAP_50 is 0.3580\n",
      "2021-05-20 03:26:25,394 - mmdet - INFO - Epoch(val) [2][1091]\tbbox_mAP: 0.2620, bbox_mAP_50: 0.3580, bbox_mAP_75: 0.2760, bbox_mAP_s: 0.0650, bbox_mAP_m: 0.2620, bbox_mAP_l: 0.4500, bbox_mAP_copypaste: 0.262 0.358 0.276 0.065 0.262 0.450\n",
      "2021-05-20 03:27:50,441 - mmdet - INFO - Epoch [3][50/1091]\tlr: 1.000e-04, eta: 5:00:37, time: 1.701, data_time: 0.099, memory: 23497, loss_rpn_cls: 0.0424, loss_rpn_bbox: 0.0332, s0.loss_cls: 0.2562, s0.acc: 92.3190, s0.loss_bbox: 0.2605, s0.loss_mask: 0.2834, s1.loss_cls: 0.1256, s1.acc: 92.4643, s1.loss_bbox: 0.1058, s1.loss_mask: 0.1190, s2.loss_cls: 0.0596, s2.acc: 92.6915, s2.loss_bbox: 0.0386, s2.loss_mask: 0.0534, loss: 1.3778, grad_norm: 6.8577\n",
      "2021-05-20 03:29:24,964 - mmdet - INFO - Epoch [3][100/1091]\tlr: 1.000e-04, eta: 5:02:43, time: 1.891, data_time: 0.052, memory: 23497, loss_rpn_cls: 0.0524, loss_rpn_bbox: 0.0366, s0.loss_cls: 0.2701, s0.acc: 91.7630, s0.loss_bbox: 0.2667, s0.loss_mask: 0.2763, s1.loss_cls: 0.1325, s1.acc: 91.9759, s1.loss_bbox: 0.1056, s1.loss_mask: 0.1181, s2.loss_cls: 0.0635, s2.acc: 92.0983, s2.loss_bbox: 0.0398, s2.loss_mask: 0.0539, loss: 1.4156, grad_norm: 7.0469\n",
      "2021-05-20 03:30:59,093 - mmdet - INFO - Epoch [3][150/1091]\tlr: 1.000e-04, eta: 5:04:36, time: 1.883, data_time: 0.070, memory: 23497, loss_rpn_cls: 0.0682, loss_rpn_bbox: 0.0532, s0.loss_cls: 0.2907, s0.acc: 90.9935, s0.loss_bbox: 0.2927, s0.loss_mask: 0.2919, s1.loss_cls: 0.1414, s1.acc: 91.2953, s1.loss_bbox: 0.1134, s1.loss_mask: 0.1257, s2.loss_cls: 0.0676, s2.acc: 91.6732, s2.loss_bbox: 0.0415, s2.loss_mask: 0.0561, loss: 1.5425, grad_norm: 8.0173\n",
      "2021-05-20 03:32:36,382 - mmdet - INFO - Epoch [3][200/1091]\tlr: 1.000e-04, eta: 5:06:40, time: 1.946, data_time: 0.056, memory: 23497, loss_rpn_cls: 0.0548, loss_rpn_bbox: 0.0430, s0.loss_cls: 0.2906, s0.acc: 91.0260, s0.loss_bbox: 0.3147, s0.loss_mask: 0.2961, s1.loss_cls: 0.1413, s1.acc: 91.2530, s1.loss_bbox: 0.1237, s1.loss_mask: 0.1298, s2.loss_cls: 0.0675, s2.acc: 91.5191, s2.loss_bbox: 0.0441, s2.loss_mask: 0.0561, loss: 1.5617, grad_norm: 8.4914\n",
      "2021-05-20 03:34:07,877 - mmdet - INFO - Epoch [3][250/1091]\tlr: 1.000e-04, eta: 5:08:02, time: 1.830, data_time: 0.046, memory: 23497, loss_rpn_cls: 0.0503, loss_rpn_bbox: 0.0362, s0.loss_cls: 0.2692, s0.acc: 91.5872, s0.loss_bbox: 0.2655, s0.loss_mask: 0.2690, s1.loss_cls: 0.1348, s1.acc: 91.5501, s1.loss_bbox: 0.1080, s1.loss_mask: 0.1185, s2.loss_cls: 0.0675, s2.acc: 91.5792, s2.loss_bbox: 0.0407, s2.loss_mask: 0.0532, loss: 1.4130, grad_norm: 8.1030\n",
      "2021-05-20 03:35:42,532 - mmdet - INFO - Epoch [3][300/1091]\tlr: 1.000e-04, eta: 5:09:34, time: 1.893, data_time: 0.066, memory: 23497, loss_rpn_cls: 0.0482, loss_rpn_bbox: 0.0447, s0.loss_cls: 0.2904, s0.acc: 90.9075, s0.loss_bbox: 0.2981, s0.loss_mask: 0.3018, s1.loss_cls: 0.1459, s1.acc: 90.8759, s1.loss_bbox: 0.1181, s1.loss_mask: 0.1299, s2.loss_cls: 0.0702, s2.acc: 91.1605, s2.loss_bbox: 0.0427, s2.loss_mask: 0.0573, loss: 1.5471, grad_norm: 7.1647\n",
      "2021-05-20 03:36:59,830 - mmdet - INFO - Epoch [3][350/1091]\tlr: 1.000e-04, eta: 5:09:24, time: 1.546, data_time: 0.058, memory: 23497, loss_rpn_cls: 0.0474, loss_rpn_bbox: 0.0359, s0.loss_cls: 0.2650, s0.acc: 91.8776, s0.loss_bbox: 0.2837, s0.loss_mask: 0.2663, s1.loss_cls: 0.1280, s1.acc: 92.0846, s1.loss_bbox: 0.1137, s1.loss_mask: 0.1185, s2.loss_cls: 0.0612, s2.acc: 92.2577, s2.loss_bbox: 0.0428, s2.loss_mask: 0.0537, loss: 1.4163, grad_norm: 6.9598\n",
      "2021-05-20 03:38:26,766 - mmdet - INFO - Epoch [3][400/1091]\tlr: 1.000e-04, eta: 5:10:02, time: 1.739, data_time: 0.057, memory: 23497, loss_rpn_cls: 0.0449, loss_rpn_bbox: 0.0358, s0.loss_cls: 0.2826, s0.acc: 91.3268, s0.loss_bbox: 0.2650, s0.loss_mask: 0.2833, s1.loss_cls: 0.1412, s1.acc: 91.3540, s1.loss_bbox: 0.1051, s1.loss_mask: 0.1219, s2.loss_cls: 0.0670, s2.acc: 91.6948, s2.loss_bbox: 0.0383, s2.loss_mask: 0.0545, loss: 1.4395, grad_norm: 6.7186\n",
      "2021-05-20 03:39:59,721 - mmdet - INFO - Epoch [3][450/1091]\tlr: 1.000e-04, eta: 5:11:08, time: 1.859, data_time: 0.065, memory: 23497, loss_rpn_cls: 0.0560, loss_rpn_bbox: 0.0401, s0.loss_cls: 0.2777, s0.acc: 91.5430, s0.loss_bbox: 0.2751, s0.loss_mask: 0.2743, s1.loss_cls: 0.1350, s1.acc: 91.7423, s1.loss_bbox: 0.1113, s1.loss_mask: 0.1200, s2.loss_cls: 0.0649, s2.acc: 91.8699, s2.loss_bbox: 0.0416, s2.loss_mask: 0.0543, loss: 1.4504, grad_norm: 7.1459\n",
      "2021-05-20 03:41:32,653 - mmdet - INFO - Epoch [3][500/1091]\tlr: 1.000e-04, eta: 5:12:07, time: 1.859, data_time: 0.043, memory: 23497, loss_rpn_cls: 0.0507, loss_rpn_bbox: 0.0387, s0.loss_cls: 0.2841, s0.acc: 91.3034, s0.loss_bbox: 0.2912, s0.loss_mask: 0.2894, s1.loss_cls: 0.1381, s1.acc: 91.3999, s1.loss_bbox: 0.1146, s1.loss_mask: 0.1284, s2.loss_cls: 0.0664, s2.acc: 91.5516, s2.loss_bbox: 0.0423, s2.loss_mask: 0.0591, loss: 1.5030, grad_norm: 7.9400\n",
      "2021-05-20 03:43:05,986 - mmdet - INFO - Epoch [3][550/1091]\tlr: 1.000e-04, eta: 5:13:03, time: 1.867, data_time: 0.063, memory: 23497, loss_rpn_cls: 0.0443, loss_rpn_bbox: 0.0328, s0.loss_cls: 0.2419, s0.acc: 92.5833, s0.loss_bbox: 0.2428, s0.loss_mask: 0.2577, s1.loss_cls: 0.1191, s1.acc: 92.5529, s1.loss_bbox: 0.0967, s1.loss_mask: 0.1116, s2.loss_cls: 0.0572, s2.acc: 92.9648, s2.loss_bbox: 0.0353, s2.loss_mask: 0.0501, loss: 1.2894, grad_norm: 6.7010\n",
      "2021-05-20 03:44:10,887 - mmdet - INFO - Epoch [3][600/1091]\tlr: 1.000e-04, eta: 5:11:35, time: 1.298, data_time: 0.052, memory: 23497, loss_rpn_cls: 0.0489, loss_rpn_bbox: 0.0379, s0.loss_cls: 0.2773, s0.acc: 91.3359, s0.loss_bbox: 0.2831, s0.loss_mask: 0.2832, s1.loss_cls: 0.1355, s1.acc: 91.3572, s1.loss_bbox: 0.1119, s1.loss_mask: 0.1274, s2.loss_cls: 0.0642, s2.acc: 91.7014, s2.loss_bbox: 0.0409, s2.loss_mask: 0.0585, loss: 1.4687, grad_norm: 7.3737\n",
      "2021-05-20 03:45:15,320 - mmdet - INFO - Epoch [3][650/1091]\tlr: 1.000e-04, eta: 5:10:05, time: 1.289, data_time: 0.056, memory: 23497, loss_rpn_cls: 0.0507, loss_rpn_bbox: 0.0372, s0.loss_cls: 0.2793, s0.acc: 91.4805, s0.loss_bbox: 0.2727, s0.loss_mask: 0.2554, s1.loss_cls: 0.1383, s1.acc: 91.7608, s1.loss_bbox: 0.1094, s1.loss_mask: 0.1124, s2.loss_cls: 0.0661, s2.acc: 91.9858, s2.loss_bbox: 0.0406, s2.loss_mask: 0.0498, loss: 1.4121, grad_norm: 8.2361\n",
      "2021-05-20 03:46:18,964 - mmdet - INFO - Epoch [3][700/1091]\tlr: 1.000e-04, eta: 5:08:32, time: 1.273, data_time: 0.051, memory: 23497, loss_rpn_cls: 0.0455, loss_rpn_bbox: 0.0374, s0.loss_cls: 0.2574, s0.acc: 91.9753, s0.loss_bbox: 0.2604, s0.loss_mask: 0.2876, s1.loss_cls: 0.1281, s1.acc: 91.9982, s1.loss_bbox: 0.1065, s1.loss_mask: 0.1242, s2.loss_cls: 0.0618, s2.acc: 92.2013, s2.loss_bbox: 0.0391, s2.loss_mask: 0.0562, loss: 1.4042, grad_norm: 7.7985\n",
      "2021-05-20 03:47:35,087 - mmdet - INFO - Epoch [3][750/1091]\tlr: 1.000e-04, eta: 5:07:58, time: 1.522, data_time: 0.054, memory: 23497, loss_rpn_cls: 0.0359, loss_rpn_bbox: 0.0341, s0.loss_cls: 0.2469, s0.acc: 92.3607, s0.loss_bbox: 0.2536, s0.loss_mask: 0.2757, s1.loss_cls: 0.1270, s1.acc: 92.1620, s1.loss_bbox: 0.1021, s1.loss_mask: 0.1227, s2.loss_cls: 0.0623, s2.acc: 92.1924, s2.loss_bbox: 0.0385, s2.loss_mask: 0.0580, loss: 1.3569, grad_norm: 6.9629\n",
      "2021-05-20 03:49:15,037 - mmdet - INFO - Epoch [3][800/1091]\tlr: 1.000e-04, eta: 5:09:09, time: 1.999, data_time: 0.059, memory: 23497, loss_rpn_cls: 0.0429, loss_rpn_bbox: 0.0354, s0.loss_cls: 0.2677, s0.acc: 91.6003, s0.loss_bbox: 0.2787, s0.loss_mask: 0.2837, s1.loss_cls: 0.1327, s1.acc: 91.6886, s1.loss_bbox: 0.1123, s1.loss_mask: 0.1278, s2.loss_cls: 0.0641, s2.acc: 91.8109, s2.loss_bbox: 0.0414, s2.loss_mask: 0.0596, loss: 1.4464, grad_norm: 8.6457\n",
      "2021-05-20 03:50:54,690 - mmdet - INFO - Epoch [3][850/1091]\tlr: 1.000e-04, eta: 5:10:13, time: 1.993, data_time: 0.050, memory: 23497, loss_rpn_cls: 0.0465, loss_rpn_bbox: 0.0358, s0.loss_cls: 0.2678, s0.acc: 91.6784, s0.loss_bbox: 0.2561, s0.loss_mask: 0.2566, s1.loss_cls: 0.1339, s1.acc: 91.5535, s1.loss_bbox: 0.1044, s1.loss_mask: 0.1127, s2.loss_cls: 0.0647, s2.acc: 91.6992, s2.loss_bbox: 0.0389, s2.loss_mask: 0.0508, loss: 1.3680, grad_norm: 7.2625\n",
      "2021-05-20 03:52:36,835 - mmdet - INFO - Epoch [3][900/1091]\tlr: 1.000e-04, eta: 5:11:23, time: 2.043, data_time: 0.060, memory: 23497, loss_rpn_cls: 0.0508, loss_rpn_bbox: 0.0401, s0.loss_cls: 0.2702, s0.acc: 91.5885, s0.loss_bbox: 0.2726, s0.loss_mask: 0.2655, s1.loss_cls: 0.1336, s1.acc: 91.7376, s1.loss_bbox: 0.1112, s1.loss_mask: 0.1184, s2.loss_cls: 0.0638, s2.acc: 91.7635, s2.loss_bbox: 0.0426, s2.loss_mask: 0.0539, loss: 1.4228, grad_norm: 7.5494\n"
     ]
    },
    {
     "name": "stderr",
     "output_type": "stream",
     "text": [
      "2021-05-20 03:54:15,770 - mmdet - INFO - Epoch [3][950/1091]\tlr: 1.000e-04, eta: 5:12:13, time: 1.979, data_time: 0.059, memory: 23497, loss_rpn_cls: 0.0586, loss_rpn_bbox: 0.0387, s0.loss_cls: 0.2736, s0.acc: 91.5560, s0.loss_bbox: 0.2845, s0.loss_mask: 0.2831, s1.loss_cls: 0.1343, s1.acc: 91.7610, s1.loss_bbox: 0.1125, s1.loss_mask: 0.1226, s2.loss_cls: 0.0642, s2.acc: 92.0141, s2.loss_bbox: 0.0397, s2.loss_mask: 0.0529, loss: 1.4647, grad_norm: 7.2484\n",
      "2021-05-20 03:55:48,095 - mmdet - INFO - Epoch [3][1000/1091]\tlr: 1.000e-04, eta: 5:12:32, time: 1.847, data_time: 0.058, memory: 23497, loss_rpn_cls: 0.0576, loss_rpn_bbox: 0.0386, s0.loss_cls: 0.2779, s0.acc: 91.5820, s0.loss_bbox: 0.2898, s0.loss_mask: 0.2770, s1.loss_cls: 0.1336, s1.acc: 91.8133, s1.loss_bbox: 0.1155, s1.loss_mask: 0.1216, s2.loss_cls: 0.0645, s2.acc: 92.0499, s2.loss_bbox: 0.0428, s2.loss_mask: 0.0553, loss: 1.4743, grad_norm: 9.3877\n",
      "2021-05-20 03:56:52,179 - mmdet - INFO - Epoch [3][1050/1091]\tlr: 1.000e-04, eta: 5:10:52, time: 1.282, data_time: 0.044, memory: 23497, loss_rpn_cls: 0.0446, loss_rpn_bbox: 0.0344, s0.loss_cls: 0.2415, s0.acc: 92.4440, s0.loss_bbox: 0.2450, s0.loss_mask: 0.2765, s1.loss_cls: 0.1175, s1.acc: 92.5308, s1.loss_bbox: 0.0986, s1.loss_mask: 0.1209, s2.loss_cls: 0.0563, s2.acc: 92.5571, s2.loss_bbox: 0.0380, s2.loss_mask: 0.0551, loss: 1.3285, grad_norm: 6.8654\n",
      "2021-05-20 03:57:43,620 - mmdet - INFO - Saving checkpoint at 3 epochs\n"
     ]
    },
    {
     "name": "stdout",
     "output_type": "stream",
     "text": [
      "[>>>>>>>>>>>>>>>>>>>>>>>>>>>>>] 655/655, 3.0 task/s, elapsed: 220s, ETA:     0s"
     ]
    },
    {
     "name": "stderr",
     "output_type": "stream",
     "text": [
      "2021-05-20 04:01:30,813 - mmdet - INFO - Evaluating bbox...\n"
     ]
    },
    {
     "name": "stdout",
     "output_type": "stream",
     "text": [
      "Loading and preparing results...\n",
      "DONE (t=0.70s)\n",
      "creating index...\n",
      "index created!\n",
      "Running per image evaluation...\n",
      "Evaluate annotation type *bbox*\n",
      "DONE (t=7.52s).\n",
      "Accumulating evaluation results...\n",
      "DONE (t=1.15s).\n",
      "Average Precision  (AP) @[ IoU=0.50:0.95 | area=   all | maxDets=100 ] = 0.314\n",
      "Average Precision  (AP) @[ IoU=0.50      | area=   all | maxDets=1000 ] = 0.425\n",
      "Average Precision  (AP) @[ IoU=0.75      | area=   all | maxDets=1000 ] = 0.327\n",
      "Average Precision  (AP) @[ IoU=0.50:0.95 | area= small | maxDets=1000 ] = 0.069\n",
      "Average Precision  (AP) @[ IoU=0.50:0.95 | area=medium | maxDets=1000 ] = 0.322\n",
      "Average Precision  (AP) @[ IoU=0.50:0.95 | area= large | maxDets=1000 ] = 0.540\n",
      "Average Recall     (AR) @[ IoU=0.50:0.95 | area=   all | maxDets=100 ] = 0.472\n",
      "Average Recall     (AR) @[ IoU=0.50:0.95 | area=   all | maxDets=300 ] = 0.472\n",
      "Average Recall     (AR) @[ IoU=0.50:0.95 | area=   all | maxDets=1000 ] = 0.472\n",
      "Average Recall     (AR) @[ IoU=0.50:0.95 | area= small | maxDets=1000 ] = 0.136\n",
      "Average Recall     (AR) @[ IoU=0.50:0.95 | area=medium | maxDets=1000 ] = 0.459\n",
      "Average Recall     (AR) @[ IoU=0.50:0.95 | area= large | maxDets=1000 ] = 0.694\n"
     ]
    },
    {
     "name": "stderr",
     "output_type": "stream",
     "text": [
      "2021-05-20 04:01:45,547 - mmdet - INFO - Now best checkpoint is epoch_3.pth.Best bbox_mAP_50 is 0.4250\n",
      "2021-05-20 04:01:45,613 - mmdet - INFO - Epoch(val) [3][1091]\tbbox_mAP: 0.3140, bbox_mAP_50: 0.4250, bbox_mAP_75: 0.3270, bbox_mAP_s: 0.0690, bbox_mAP_m: 0.3220, bbox_mAP_l: 0.5400, bbox_mAP_copypaste: 0.314 0.425 0.327 0.069 0.322 0.540\n",
      "2021-05-20 04:02:53,536 - mmdet - INFO - Epoch [4][50/1091]\tlr: 1.000e-04, eta: 5:04:42, time: 1.358, data_time: 0.117, memory: 23497, loss_rpn_cls: 0.0488, loss_rpn_bbox: 0.0390, s0.loss_cls: 0.2251, s0.acc: 93.1393, s0.loss_bbox: 0.2423, s0.loss_mask: 0.2598, s1.loss_cls: 0.1078, s1.acc: 93.2774, s1.loss_bbox: 0.0946, s1.loss_mask: 0.1096, s2.loss_cls: 0.0520, s2.acc: 93.4319, s2.loss_bbox: 0.0358, s2.loss_mask: 0.0489, loss: 1.2637, grad_norm: 6.6465\n",
      "2021-05-20 04:03:58,498 - mmdet - INFO - Epoch [4][100/1091]\tlr: 1.000e-04, eta: 5:03:12, time: 1.299, data_time: 0.054, memory: 23497, loss_rpn_cls: 0.0375, loss_rpn_bbox: 0.0333, s0.loss_cls: 0.2239, s0.acc: 92.9557, s0.loss_bbox: 0.2367, s0.loss_mask: 0.2502, s1.loss_cls: 0.1107, s1.acc: 93.0259, s1.loss_bbox: 0.0962, s1.loss_mask: 0.1085, s2.loss_cls: 0.0541, s2.acc: 92.9170, s2.loss_bbox: 0.0362, s2.loss_mask: 0.0481, loss: 1.2354, grad_norm: 7.1748\n",
      "2021-05-20 04:05:02,436 - mmdet - INFO - Epoch [4][150/1091]\tlr: 1.000e-04, eta: 5:01:39, time: 1.279, data_time: 0.048, memory: 23497, loss_rpn_cls: 0.0431, loss_rpn_bbox: 0.0322, s0.loss_cls: 0.2490, s0.acc: 92.2969, s0.loss_bbox: 0.2599, s0.loss_mask: 0.2584, s1.loss_cls: 0.1227, s1.acc: 92.2978, s1.loss_bbox: 0.1033, s1.loss_mask: 0.1135, s2.loss_cls: 0.0584, s2.acc: 92.6156, s2.loss_bbox: 0.0379, s2.loss_mask: 0.0506, loss: 1.3290, grad_norm: 6.8604\n",
      "2021-05-20 04:06:08,616 - mmdet - INFO - Epoch [4][200/1091]\tlr: 1.000e-04, eta: 5:00:15, time: 1.324, data_time: 0.063, memory: 23497, loss_rpn_cls: 0.0501, loss_rpn_bbox: 0.0418, s0.loss_cls: 0.2649, s0.acc: 91.6667, s0.loss_bbox: 0.2805, s0.loss_mask: 0.2754, s1.loss_cls: 0.1304, s1.acc: 91.7841, s1.loss_bbox: 0.1132, s1.loss_mask: 0.1178, s2.loss_cls: 0.0626, s2.acc: 91.8534, s2.loss_bbox: 0.0415, s2.loss_mask: 0.0519, loss: 1.4301, grad_norm: 6.4763\n",
      "2021-05-20 04:07:12,612 - mmdet - INFO - Epoch [4][250/1091]\tlr: 1.000e-04, eta: 4:58:44, time: 1.280, data_time: 0.057, memory: 23497, loss_rpn_cls: 0.0454, loss_rpn_bbox: 0.0367, s0.loss_cls: 0.2561, s0.acc: 92.1497, s0.loss_bbox: 0.2615, s0.loss_mask: 0.2555, s1.loss_cls: 0.1263, s1.acc: 91.9936, s1.loss_bbox: 0.1025, s1.loss_mask: 0.1055, s2.loss_cls: 0.0603, s2.acc: 92.4905, s2.loss_bbox: 0.0380, s2.loss_mask: 0.0470, loss: 1.3348, grad_norm: 6.8346\n",
      "2021-05-20 04:08:18,093 - mmdet - INFO - Epoch [4][300/1091]\tlr: 1.000e-04, eta: 4:57:19, time: 1.310, data_time: 0.063, memory: 23498, loss_rpn_cls: 0.0464, loss_rpn_bbox: 0.0418, s0.loss_cls: 0.2501, s0.acc: 92.0456, s0.loss_bbox: 0.2762, s0.loss_mask: 0.2554, s1.loss_cls: 0.1218, s1.acc: 92.1843, s1.loss_bbox: 0.1098, s1.loss_mask: 0.1106, s2.loss_cls: 0.0590, s2.acc: 92.4238, s2.loss_bbox: 0.0398, s2.loss_mask: 0.0494, loss: 1.3603, grad_norm: 7.1928\n",
      "2021-05-20 04:09:21,114 - mmdet - INFO - Epoch [4][350/1091]\tlr: 1.000e-04, eta: 4:55:45, time: 1.260, data_time: 0.045, memory: 23498, loss_rpn_cls: 0.0391, loss_rpn_bbox: 0.0273, s0.loss_cls: 0.2345, s0.acc: 92.5221, s0.loss_bbox: 0.2379, s0.loss_mask: 0.2585, s1.loss_cls: 0.1170, s1.acc: 92.2699, s1.loss_bbox: 0.0982, s1.loss_mask: 0.1101, s2.loss_cls: 0.0580, s2.acc: 92.2839, s2.loss_bbox: 0.0367, s2.loss_mask: 0.0485, loss: 1.2657, grad_norm: 6.7691\n",
      "2021-05-20 04:10:27,253 - mmdet - INFO - Epoch [4][400/1091]\tlr: 1.000e-04, eta: 4:54:24, time: 1.323, data_time: 0.065, memory: 23508, loss_rpn_cls: 0.0509, loss_rpn_bbox: 0.0392, s0.loss_cls: 0.2770, s0.acc: 91.4727, s0.loss_bbox: 0.2868, s0.loss_mask: 0.2698, s1.loss_cls: 0.1349, s1.acc: 91.6509, s1.loss_bbox: 0.1122, s1.loss_mask: 0.1178, s2.loss_cls: 0.0655, s2.acc: 91.8738, s2.loss_bbox: 0.0420, s2.loss_mask: 0.0538, loss: 1.4499, grad_norm: 6.5994\n",
      "2021-05-20 04:11:30,669 - mmdet - INFO - Epoch [4][450/1091]\tlr: 1.000e-04, eta: 4:52:53, time: 1.268, data_time: 0.049, memory: 23508, loss_rpn_cls: 0.0482, loss_rpn_bbox: 0.0379, s0.loss_cls: 0.2571, s0.acc: 91.8047, s0.loss_bbox: 0.2742, s0.loss_mask: 0.2561, s1.loss_cls: 0.1256, s1.acc: 92.0247, s1.loss_bbox: 0.1083, s1.loss_mask: 0.1110, s2.loss_cls: 0.0618, s2.acc: 91.9824, s2.loss_bbox: 0.0420, s2.loss_mask: 0.0496, loss: 1.3715, grad_norm: 6.3601\n",
      "2021-05-20 04:12:34,897 - mmdet - INFO - Epoch [4][500/1091]\tlr: 1.000e-04, eta: 4:51:26, time: 1.285, data_time: 0.047, memory: 23508, loss_rpn_cls: 0.0434, loss_rpn_bbox: 0.0369, s0.loss_cls: 0.2704, s0.acc: 91.6536, s0.loss_bbox: 0.2623, s0.loss_mask: 0.2728, s1.loss_cls: 0.1305, s1.acc: 91.8703, s1.loss_bbox: 0.1065, s1.loss_mask: 0.1203, s2.loss_cls: 0.0638, s2.acc: 91.9097, s2.loss_bbox: 0.0400, s2.loss_mask: 0.0538, loss: 1.4008, grad_norm: 7.1273\n",
      "2021-05-20 04:13:41,721 - mmdet - INFO - Epoch [4][550/1091]\tlr: 1.000e-04, eta: 4:50:08, time: 1.336, data_time: 0.058, memory: 23508, loss_rpn_cls: 0.0454, loss_rpn_bbox: 0.0382, s0.loss_cls: 0.2467, s0.acc: 92.2279, s0.loss_bbox: 0.2639, s0.loss_mask: 0.2536, s1.loss_cls: 0.1239, s1.acc: 92.0275, s1.loss_bbox: 0.1052, s1.loss_mask: 0.1123, s2.loss_cls: 0.0605, s2.acc: 92.0320, s2.loss_bbox: 0.0402, s2.loss_mask: 0.0514, loss: 1.3413, grad_norm: 7.5723\n",
      "2021-05-20 04:14:47,233 - mmdet - INFO - Epoch [4][600/1091]\tlr: 1.000e-04, eta: 4:48:46, time: 1.310, data_time: 0.052, memory: 23508, loss_rpn_cls: 0.0521, loss_rpn_bbox: 0.0392, s0.loss_cls: 0.2631, s0.acc: 91.7565, s0.loss_bbox: 0.2789, s0.loss_mask: 0.2851, s1.loss_cls: 0.1281, s1.acc: 91.8606, s1.loss_bbox: 0.1121, s1.loss_mask: 0.1269, s2.loss_cls: 0.0623, s2.acc: 91.9638, s2.loss_bbox: 0.0418, s2.loss_mask: 0.0569, loss: 1.4465, grad_norm: 7.6387\n",
      "2021-05-20 04:15:53,751 - mmdet - INFO - Epoch [4][650/1091]\tlr: 1.000e-04, eta: 4:47:28, time: 1.330, data_time: 0.079, memory: 23508, loss_rpn_cls: 0.0602, loss_rpn_bbox: 0.0474, s0.loss_cls: 0.2877, s0.acc: 90.9935, s0.loss_bbox: 0.3044, s0.loss_mask: 0.2944, s1.loss_cls: 0.1404, s1.acc: 91.1992, s1.loss_bbox: 0.1230, s1.loss_mask: 0.1293, s2.loss_cls: 0.0677, s2.acc: 91.4382, s2.loss_bbox: 0.0452, s2.loss_mask: 0.0575, loss: 1.5572, grad_norm: 7.1273\n",
      "2021-05-20 04:16:58,496 - mmdet - INFO - Epoch [4][700/1091]\tlr: 1.000e-04, eta: 4:46:04, time: 1.295, data_time: 0.057, memory: 23508, loss_rpn_cls: 0.0468, loss_rpn_bbox: 0.0350, s0.loss_cls: 0.2615, s0.acc: 91.8737, s0.loss_bbox: 0.2745, s0.loss_mask: 0.2538, s1.loss_cls: 0.1257, s1.acc: 92.1127, s1.loss_bbox: 0.1099, s1.loss_mask: 0.1128, s2.loss_cls: 0.0595, s2.acc: 92.3825, s2.loss_bbox: 0.0410, s2.loss_mask: 0.0506, loss: 1.3712, grad_norm: 6.8337\n",
      "2021-05-20 04:18:04,772 - mmdet - INFO - Epoch [4][750/1091]\tlr: 1.000e-04, eta: 4:44:46, time: 1.326, data_time: 0.055, memory: 23508, loss_rpn_cls: 0.0508, loss_rpn_bbox: 0.0402, s0.loss_cls: 0.2723, s0.acc: 91.5898, s0.loss_bbox: 0.2626, s0.loss_mask: 0.2814, s1.loss_cls: 0.1373, s1.acc: 91.6197, s1.loss_bbox: 0.1053, s1.loss_mask: 0.1204, s2.loss_cls: 0.0666, s2.acc: 91.7250, s2.loss_bbox: 0.0390, s2.loss_mask: 0.0533, loss: 1.4291, grad_norm: 7.0366\n",
      "2021-05-20 04:19:10,404 - mmdet - INFO - Epoch [4][800/1091]\tlr: 1.000e-04, eta: 4:43:26, time: 1.313, data_time: 0.064, memory: 23508, loss_rpn_cls: 0.0464, loss_rpn_bbox: 0.0375, s0.loss_cls: 0.2582, s0.acc: 91.9167, s0.loss_bbox: 0.2657, s0.loss_mask: 0.2435, s1.loss_cls: 0.1290, s1.acc: 91.9525, s1.loss_bbox: 0.1053, s1.loss_mask: 0.1055, s2.loss_cls: 0.0627, s2.acc: 91.8000, s2.loss_bbox: 0.0394, s2.loss_mask: 0.0468, loss: 1.3401, grad_norm: 6.8306\n",
      "2021-05-20 04:20:15,123 - mmdet - INFO - Epoch [4][850/1091]\tlr: 1.000e-04, eta: 4:42:03, time: 1.294, data_time: 0.051, memory: 23508, loss_rpn_cls: 0.0447, loss_rpn_bbox: 0.0309, s0.loss_cls: 0.2706, s0.acc: 91.8932, s0.loss_bbox: 0.2583, s0.loss_mask: 0.2523, s1.loss_cls: 0.1314, s1.acc: 92.0306, s1.loss_bbox: 0.1028, s1.loss_mask: 0.1076, s2.loss_cls: 0.0642, s2.acc: 91.9972, s2.loss_bbox: 0.0389, s2.loss_mask: 0.0495, loss: 1.3511, grad_norm: 7.2877\n",
      "2021-05-20 04:21:20,143 - mmdet - INFO - Epoch [4][900/1091]\tlr: 1.000e-04, eta: 4:40:42, time: 1.300, data_time: 0.061, memory: 23508, loss_rpn_cls: 0.0454, loss_rpn_bbox: 0.0375, s0.loss_cls: 0.2459, s0.acc: 92.2083, s0.loss_bbox: 0.2658, s0.loss_mask: 0.2335, s1.loss_cls: 0.1208, s1.acc: 92.3189, s1.loss_bbox: 0.1093, s1.loss_mask: 0.1028, s2.loss_cls: 0.0571, s2.acc: 92.3173, s2.loss_bbox: 0.0411, s2.loss_mask: 0.0466, loss: 1.3059, grad_norm: 6.7669\n"
     ]
    },
    {
     "name": "stderr",
     "output_type": "stream",
     "text": [
      "2021-05-20 04:22:23,535 - mmdet - INFO - Epoch [4][950/1091]\tlr: 1.000e-04, eta: 4:39:17, time: 1.268, data_time: 0.046, memory: 23519, loss_rpn_cls: 0.0383, loss_rpn_bbox: 0.0322, s0.loss_cls: 0.2272, s0.acc: 93.0430, s0.loss_bbox: 0.2323, s0.loss_mask: 0.2476, s1.loss_cls: 0.1110, s1.acc: 93.0591, s1.loss_bbox: 0.0920, s1.loss_mask: 0.1107, s2.loss_cls: 0.0536, s2.acc: 93.1472, s2.loss_bbox: 0.0353, s2.loss_mask: 0.0513, loss: 1.2315, grad_norm: 7.3355\n",
      "2021-05-20 04:23:25,719 - mmdet - INFO - Epoch [4][1000/1091]\tlr: 1.000e-04, eta: 4:37:49, time: 1.244, data_time: 0.042, memory: 23519, loss_rpn_cls: 0.0439, loss_rpn_bbox: 0.0339, s0.loss_cls: 0.2445, s0.acc: 92.2292, s0.loss_bbox: 0.2692, s0.loss_mask: 0.2770, s1.loss_cls: 0.1209, s1.acc: 92.3490, s1.loss_bbox: 0.1062, s1.loss_mask: 0.1216, s2.loss_cls: 0.0608, s2.acc: 92.3944, s2.loss_bbox: 0.0397, s2.loss_mask: 0.0538, loss: 1.3717, grad_norm: 6.8107\n",
      "2021-05-20 04:24:29,401 - mmdet - INFO - Epoch [4][1050/1091]\tlr: 1.000e-04, eta: 4:36:25, time: 1.274, data_time: 0.046, memory: 23519, loss_rpn_cls: 0.0429, loss_rpn_bbox: 0.0375, s0.loss_cls: 0.2411, s0.acc: 92.5794, s0.loss_bbox: 0.2627, s0.loss_mask: 0.2768, s1.loss_cls: 0.1109, s1.acc: 93.2081, s1.loss_bbox: 0.1012, s1.loss_mask: 0.1208, s2.loss_cls: 0.0524, s2.acc: 93.6191, s2.loss_bbox: 0.0370, s2.loss_mask: 0.0536, loss: 1.3370, grad_norm: 7.2339\n",
      "2021-05-20 04:25:20,841 - mmdet - INFO - Saving checkpoint at 4 epochs\n"
     ]
    },
    {
     "name": "stdout",
     "output_type": "stream",
     "text": [
      "[>>>>>>>>>>>>>>>>>>>>>>>>>>>>>] 655/655, 2.9 task/s, elapsed: 227s, ETA:     0s"
     ]
    },
    {
     "name": "stderr",
     "output_type": "stream",
     "text": [
      "2021-05-20 04:29:15,698 - mmdet - INFO - Evaluating bbox...\n"
     ]
    },
    {
     "name": "stdout",
     "output_type": "stream",
     "text": [
      "Loading and preparing results...\n",
      "DONE (t=0.78s)\n",
      "creating index...\n",
      "index created!\n",
      "Running per image evaluation...\n",
      "Evaluate annotation type *bbox*\n",
      "DONE (t=7.92s).\n",
      "Accumulating evaluation results...\n",
      "DONE (t=1.20s).\n",
      "Average Precision  (AP) @[ IoU=0.50:0.95 | area=   all | maxDets=100 ] = 0.356\n",
      "Average Precision  (AP) @[ IoU=0.50      | area=   all | maxDets=1000 ] = 0.488\n",
      "Average Precision  (AP) @[ IoU=0.75      | area=   all | maxDets=1000 ] = 0.380\n",
      "Average Precision  (AP) @[ IoU=0.50:0.95 | area= small | maxDets=1000 ] = 0.101\n",
      "Average Precision  (AP) @[ IoU=0.50:0.95 | area=medium | maxDets=1000 ] = 0.337\n",
      "Average Precision  (AP) @[ IoU=0.50:0.95 | area= large | maxDets=1000 ] = 0.559\n",
      "Average Recall     (AR) @[ IoU=0.50:0.95 | area=   all | maxDets=100 ] = 0.522\n",
      "Average Recall     (AR) @[ IoU=0.50:0.95 | area=   all | maxDets=300 ] = 0.522\n",
      "Average Recall     (AR) @[ IoU=0.50:0.95 | area=   all | maxDets=1000 ] = 0.522\n",
      "Average Recall     (AR) @[ IoU=0.50:0.95 | area= small | maxDets=1000 ] = 0.191\n",
      "Average Recall     (AR) @[ IoU=0.50:0.95 | area=medium | maxDets=1000 ] = 0.503\n",
      "Average Recall     (AR) @[ IoU=0.50:0.95 | area= large | maxDets=1000 ] = 0.785\n"
     ]
    },
    {
     "name": "stderr",
     "output_type": "stream",
     "text": [
      "2021-05-20 04:29:30,773 - mmdet - INFO - Now best checkpoint is epoch_4.pth.Best bbox_mAP_50 is 0.4880\n",
      "2021-05-20 04:29:30,819 - mmdet - INFO - Epoch(val) [4][1091]\tbbox_mAP: 0.3560, bbox_mAP_50: 0.4880, bbox_mAP_75: 0.3800, bbox_mAP_s: 0.1010, bbox_mAP_m: 0.3370, bbox_mAP_l: 0.5590, bbox_mAP_copypaste: 0.356 0.488 0.380 0.101 0.337 0.559\n",
      "2021-05-20 04:30:38,313 - mmdet - INFO - Epoch [5][50/1091]\tlr: 1.000e-04, eta: 4:31:43, time: 1.350, data_time: 0.106, memory: 23519, loss_rpn_cls: 0.0445, loss_rpn_bbox: 0.0384, s0.loss_cls: 0.2541, s0.acc: 92.0443, s0.loss_bbox: 0.2677, s0.loss_mask: 0.2666, s1.loss_cls: 0.1238, s1.acc: 92.0938, s1.loss_bbox: 0.1098, s1.loss_mask: 0.1184, s2.loss_cls: 0.0607, s2.acc: 92.3346, s2.loss_bbox: 0.0414, s2.loss_mask: 0.0539, loss: 1.3792, grad_norm: 6.5385\n",
      "2021-05-20 04:31:43,221 - mmdet - INFO - Epoch [5][100/1091]\tlr: 1.000e-04, eta: 4:30:26, time: 1.298, data_time: 0.046, memory: 23519, loss_rpn_cls: 0.0443, loss_rpn_bbox: 0.0351, s0.loss_cls: 0.2477, s0.acc: 92.1120, s0.loss_bbox: 0.2506, s0.loss_mask: 0.2351, s1.loss_cls: 0.1225, s1.acc: 92.1459, s1.loss_bbox: 0.1027, s1.loss_mask: 0.0997, s2.loss_cls: 0.0601, s2.acc: 92.2842, s2.loss_bbox: 0.0400, s2.loss_mask: 0.0440, loss: 1.2820, grad_norm: 6.6136\n",
      "2021-05-20 04:32:47,030 - mmdet - INFO - Epoch [5][150/1091]\tlr: 1.000e-04, eta: 4:29:06, time: 1.276, data_time: 0.050, memory: 23519, loss_rpn_cls: 0.0383, loss_rpn_bbox: 0.0349, s0.loss_cls: 0.2286, s0.acc: 92.8086, s0.loss_bbox: 0.2372, s0.loss_mask: 0.2260, s1.loss_cls: 0.1129, s1.acc: 92.9027, s1.loss_bbox: 0.0948, s1.loss_mask: 0.1008, s2.loss_cls: 0.0552, s2.acc: 92.9573, s2.loss_bbox: 0.0364, s2.loss_mask: 0.0446, loss: 1.2097, grad_norm: 7.0569\n",
      "2021-05-20 04:33:51,827 - mmdet - INFO - Epoch [5][200/1091]\tlr: 1.000e-04, eta: 4:27:50, time: 1.296, data_time: 0.050, memory: 23519, loss_rpn_cls: 0.0351, loss_rpn_bbox: 0.0312, s0.loss_cls: 0.2294, s0.acc: 92.7943, s0.loss_bbox: 0.2363, s0.loss_mask: 0.2453, s1.loss_cls: 0.1141, s1.acc: 92.8495, s1.loss_bbox: 0.0942, s1.loss_mask: 0.1049, s2.loss_cls: 0.0558, s2.acc: 92.7423, s2.loss_bbox: 0.0364, s2.loss_mask: 0.0491, loss: 1.2320, grad_norm: 6.6161\n",
      "2021-05-20 04:34:55,574 - mmdet - INFO - Epoch [5][250/1091]\tlr: 1.000e-04, eta: 4:26:31, time: 1.275, data_time: 0.053, memory: 23519, loss_rpn_cls: 0.0431, loss_rpn_bbox: 0.0393, s0.loss_cls: 0.2372, s0.acc: 92.5430, s0.loss_bbox: 0.2561, s0.loss_mask: 0.2508, s1.loss_cls: 0.1153, s1.acc: 92.6585, s1.loss_bbox: 0.1022, s1.loss_mask: 0.1075, s2.loss_cls: 0.0569, s2.acc: 92.5815, s2.loss_bbox: 0.0389, s2.loss_mask: 0.0496, loss: 1.2970, grad_norm: 6.4745\n",
      "2021-05-20 04:36:01,480 - mmdet - INFO - Epoch [5][300/1091]\tlr: 1.000e-04, eta: 4:25:17, time: 1.318, data_time: 0.067, memory: 23519, loss_rpn_cls: 0.0542, loss_rpn_bbox: 0.0424, s0.loss_cls: 0.2755, s0.acc: 91.5872, s0.loss_bbox: 0.2806, s0.loss_mask: 0.2619, s1.loss_cls: 0.1337, s1.acc: 91.8898, s1.loss_bbox: 0.1115, s1.loss_mask: 0.1141, s2.loss_cls: 0.0634, s2.acc: 92.1040, s2.loss_bbox: 0.0403, s2.loss_mask: 0.0510, loss: 1.4285, grad_norm: 7.4856\n",
      "2021-05-20 04:37:05,915 - mmdet - INFO - Epoch [5][350/1091]\tlr: 1.000e-04, eta: 4:24:00, time: 1.289, data_time: 0.052, memory: 23519, loss_rpn_cls: 0.0453, loss_rpn_bbox: 0.0373, s0.loss_cls: 0.2657, s0.acc: 91.5482, s0.loss_bbox: 0.2874, s0.loss_mask: 0.2795, s1.loss_cls: 0.1252, s1.acc: 91.8828, s1.loss_bbox: 0.1124, s1.loss_mask: 0.1244, s2.loss_cls: 0.0602, s2.acc: 92.1330, s2.loss_bbox: 0.0426, s2.loss_mask: 0.0558, loss: 1.4358, grad_norm: 6.9511\n",
      "2021-05-20 04:38:11,627 - mmdet - INFO - Epoch [5][400/1091]\tlr: 1.000e-04, eta: 4:22:47, time: 1.314, data_time: 0.058, memory: 23519, loss_rpn_cls: 0.0482, loss_rpn_bbox: 0.0370, s0.loss_cls: 0.2477, s0.acc: 92.0690, s0.loss_bbox: 0.2676, s0.loss_mask: 0.2597, s1.loss_cls: 0.1182, s1.acc: 92.5213, s1.loss_bbox: 0.1071, s1.loss_mask: 0.1124, s2.loss_cls: 0.0571, s2.acc: 93.0407, s2.loss_bbox: 0.0406, s2.loss_mask: 0.0503, loss: 1.3458, grad_norm: 6.9211\n",
      "2021-05-20 04:39:15,057 - mmdet - INFO - Epoch [5][450/1091]\tlr: 1.000e-04, eta: 4:21:28, time: 1.269, data_time: 0.055, memory: 23519, loss_rpn_cls: 0.0453, loss_rpn_bbox: 0.0396, s0.loss_cls: 0.2298, s0.acc: 92.9375, s0.loss_bbox: 0.2507, s0.loss_mask: 0.2523, s1.loss_cls: 0.1110, s1.acc: 93.1560, s1.loss_bbox: 0.0994, s1.loss_mask: 0.1125, s2.loss_cls: 0.0525, s2.acc: 93.3625, s2.loss_bbox: 0.0390, s2.loss_mask: 0.0517, loss: 1.2839, grad_norm: 6.5423\n",
      "2021-05-20 04:40:19,414 - mmdet - INFO - Epoch [5][500/1091]\tlr: 1.000e-04, eta: 4:20:12, time: 1.287, data_time: 0.050, memory: 23519, loss_rpn_cls: 0.0473, loss_rpn_bbox: 0.0366, s0.loss_cls: 0.2483, s0.acc: 92.1523, s0.loss_bbox: 0.2632, s0.loss_mask: 0.2699, s1.loss_cls: 0.1215, s1.acc: 92.2470, s1.loss_bbox: 0.1039, s1.loss_mask: 0.1130, s2.loss_cls: 0.0598, s2.acc: 92.4324, s2.loss_bbox: 0.0404, s2.loss_mask: 0.0504, loss: 1.3541, grad_norm: 7.6357\n",
      "2021-05-20 04:41:25,721 - mmdet - INFO - Epoch [5][550/1091]\tlr: 1.000e-04, eta: 4:19:00, time: 1.326, data_time: 0.061, memory: 23519, loss_rpn_cls: 0.0430, loss_rpn_bbox: 0.0322, s0.loss_cls: 0.2199, s0.acc: 92.9700, s0.loss_bbox: 0.2459, s0.loss_mask: 0.2735, s1.loss_cls: 0.1038, s1.acc: 93.2448, s1.loss_bbox: 0.1006, s1.loss_mask: 0.1261, s2.loss_cls: 0.0511, s2.acc: 93.4042, s2.loss_bbox: 0.0372, s2.loss_mask: 0.0556, loss: 1.2890, grad_norm: 7.9052\n",
      "2021-05-20 04:42:30,715 - mmdet - INFO - Epoch [5][600/1091]\tlr: 1.000e-04, eta: 4:17:46, time: 1.300, data_time: 0.049, memory: 23519, loss_rpn_cls: 0.0479, loss_rpn_bbox: 0.0359, s0.loss_cls: 0.2355, s0.acc: 92.6615, s0.loss_bbox: 0.2503, s0.loss_mask: 0.2493, s1.loss_cls: 0.1154, s1.acc: 92.8472, s1.loss_bbox: 0.1020, s1.loss_mask: 0.1096, s2.loss_cls: 0.0570, s2.acc: 92.8270, s2.loss_bbox: 0.0387, s2.loss_mask: 0.0485, loss: 1.2901, grad_norm: 6.6066\n",
      "2021-05-20 04:43:35,595 - mmdet - INFO - Epoch [5][650/1091]\tlr: 1.000e-04, eta: 4:16:31, time: 1.298, data_time: 0.058, memory: 23519, loss_rpn_cls: 0.0540, loss_rpn_bbox: 0.0422, s0.loss_cls: 0.2552, s0.acc: 91.9062, s0.loss_bbox: 0.2779, s0.loss_mask: 0.2618, s1.loss_cls: 0.1237, s1.acc: 92.1162, s1.loss_bbox: 0.1097, s1.loss_mask: 0.1148, s2.loss_cls: 0.0587, s2.acc: 92.4491, s2.loss_bbox: 0.0414, s2.loss_mask: 0.0513, loss: 1.3906, grad_norm: 7.2185\n",
      "2021-05-20 04:44:39,309 - mmdet - INFO - Epoch [5][700/1091]\tlr: 1.000e-04, eta: 4:15:14, time: 1.274, data_time: 0.051, memory: 23519, loss_rpn_cls: 0.0353, loss_rpn_bbox: 0.0332, s0.loss_cls: 0.2268, s0.acc: 92.8464, s0.loss_bbox: 0.2408, s0.loss_mask: 0.2376, s1.loss_cls: 0.1145, s1.acc: 92.6438, s1.loss_bbox: 0.0974, s1.loss_mask: 0.1071, s2.loss_cls: 0.0556, s2.acc: 92.6862, s2.loss_bbox: 0.0376, s2.loss_mask: 0.0477, loss: 1.2338, grad_norm: 6.8979\n",
      "2021-05-20 04:45:45,476 - mmdet - INFO - Epoch [5][750/1091]\tlr: 1.000e-04, eta: 4:14:03, time: 1.323, data_time: 0.045, memory: 23519, loss_rpn_cls: 0.0381, loss_rpn_bbox: 0.0328, s0.loss_cls: 0.2416, s0.acc: 92.5352, s0.loss_bbox: 0.2501, s0.loss_mask: 0.2416, s1.loss_cls: 0.1193, s1.acc: 92.5709, s1.loss_bbox: 0.1019, s1.loss_mask: 0.1057, s2.loss_cls: 0.0579, s2.acc: 92.5117, s2.loss_bbox: 0.0391, s2.loss_mask: 0.0475, loss: 1.2756, grad_norm: 6.5750\n",
      "2021-05-20 04:46:49,373 - mmdet - INFO - Epoch [5][800/1091]\tlr: 1.000e-04, eta: 4:12:47, time: 1.278, data_time: 0.049, memory: 23519, loss_rpn_cls: 0.0399, loss_rpn_bbox: 0.0341, s0.loss_cls: 0.2340, s0.acc: 92.6250, s0.loss_bbox: 0.2396, s0.loss_mask: 0.2589, s1.loss_cls: 0.1188, s1.acc: 92.5653, s1.loss_bbox: 0.0989, s1.loss_mask: 0.1104, s2.loss_cls: 0.0580, s2.acc: 92.5376, s2.loss_bbox: 0.0386, s2.loss_mask: 0.0487, loss: 1.2800, grad_norm: 6.3065\n",
      "2021-05-20 04:47:54,174 - mmdet - INFO - Epoch [5][850/1091]\tlr: 1.000e-04, eta: 4:11:33, time: 1.296, data_time: 0.056, memory: 23519, loss_rpn_cls: 0.0372, loss_rpn_bbox: 0.0343, s0.loss_cls: 0.2337, s0.acc: 92.4622, s0.loss_bbox: 0.2481, s0.loss_mask: 0.2464, s1.loss_cls: 0.1183, s1.acc: 92.0712, s1.loss_bbox: 0.1003, s1.loss_mask: 0.1099, s2.loss_cls: 0.0586, s2.acc: 92.3180, s2.loss_bbox: 0.0385, s2.loss_mask: 0.0499, loss: 1.2752, grad_norm: 6.4984\n",
      "2021-05-20 04:48:59,179 - mmdet - INFO - Epoch [5][900/1091]\tlr: 1.000e-04, eta: 4:10:20, time: 1.300, data_time: 0.057, memory: 23519, loss_rpn_cls: 0.0429, loss_rpn_bbox: 0.0405, s0.loss_cls: 0.2419, s0.acc: 92.2682, s0.loss_bbox: 0.2737, s0.loss_mask: 0.2602, s1.loss_cls: 0.1166, s1.acc: 92.4871, s1.loss_bbox: 0.1099, s1.loss_mask: 0.1114, s2.loss_cls: 0.0563, s2.acc: 92.7110, s2.loss_bbox: 0.0422, s2.loss_mask: 0.0516, loss: 1.3472, grad_norm: 6.9695\n"
     ]
    },
    {
     "name": "stderr",
     "output_type": "stream",
     "text": [
      "2021-05-20 04:50:02,093 - mmdet - INFO - Epoch [5][950/1091]\tlr: 1.000e-04, eta: 4:09:02, time: 1.258, data_time: 0.046, memory: 23519, loss_rpn_cls: 0.0369, loss_rpn_bbox: 0.0302, s0.loss_cls: 0.2240, s0.acc: 93.1458, s0.loss_bbox: 0.2351, s0.loss_mask: 0.2400, s1.loss_cls: 0.1118, s1.acc: 93.1583, s1.loss_bbox: 0.0959, s1.loss_mask: 0.1030, s2.loss_cls: 0.0555, s2.acc: 93.0130, s2.loss_bbox: 0.0361, s2.loss_mask: 0.0459, loss: 1.2144, grad_norm: 6.1981\n",
      "2021-05-20 04:51:04,364 - mmdet - INFO - Epoch [5][1000/1091]\tlr: 1.000e-04, eta: 4:07:44, time: 1.245, data_time: 0.050, memory: 23519, loss_rpn_cls: 0.0550, loss_rpn_bbox: 0.0388, s0.loss_cls: 0.2497, s0.acc: 91.7825, s0.loss_bbox: 0.2703, s0.loss_mask: 0.2560, s1.loss_cls: 0.1227, s1.acc: 92.0386, s1.loss_bbox: 0.1055, s1.loss_mask: 0.1111, s2.loss_cls: 0.0594, s2.acc: 92.0306, s2.loss_bbox: 0.0388, s2.loss_mask: 0.0497, loss: 1.3568, grad_norm: 6.9690\n",
      "2021-05-20 04:52:08,550 - mmdet - INFO - Epoch [5][1050/1091]\tlr: 1.000e-04, eta: 4:06:29, time: 1.284, data_time: 0.059, memory: 23519, loss_rpn_cls: 0.0485, loss_rpn_bbox: 0.0380, s0.loss_cls: 0.2438, s0.acc: 92.2526, s0.loss_bbox: 0.2764, s0.loss_mask: 0.2853, s1.loss_cls: 0.1170, s1.acc: 92.5196, s1.loss_bbox: 0.1072, s1.loss_mask: 0.1253, s2.loss_cls: 0.0559, s2.acc: 92.5955, s2.loss_bbox: 0.0379, s2.loss_mask: 0.0562, loss: 1.3915, grad_norm: 6.1150\n",
      "2021-05-20 04:53:01,201 - mmdet - INFO - Saving checkpoint at 5 epochs\n"
     ]
    },
    {
     "name": "stdout",
     "output_type": "stream",
     "text": [
      "[>>>>>>>>>>>>>>>>>>>>>>>>>>>>>] 655/655, 2.9 task/s, elapsed: 223s, ETA:     0s"
     ]
    },
    {
     "name": "stderr",
     "output_type": "stream",
     "text": [
      "2021-05-20 04:56:51,316 - mmdet - INFO - Evaluating bbox...\n"
     ]
    },
    {
     "name": "stdout",
     "output_type": "stream",
     "text": [
      "Loading and preparing results...\n",
      "DONE (t=1.25s)\n",
      "creating index...\n",
      "index created!\n",
      "Running per image evaluation...\n",
      "Evaluate annotation type *bbox*\n",
      "DONE (t=7.35s).\n",
      "Accumulating evaluation results...\n",
      "DONE (t=1.17s).\n",
      "Average Precision  (AP) @[ IoU=0.50:0.95 | area=   all | maxDets=100 ] = 0.393\n",
      "Average Precision  (AP) @[ IoU=0.50      | area=   all | maxDets=1000 ] = 0.526\n",
      "Average Precision  (AP) @[ IoU=0.75      | area=   all | maxDets=1000 ] = 0.425\n",
      "Average Precision  (AP) @[ IoU=0.50:0.95 | area= small | maxDets=1000 ] = 0.085\n",
      "Average Precision  (AP) @[ IoU=0.50:0.95 | area=medium | maxDets=1000 ] = 0.357\n",
      "Average Precision  (AP) @[ IoU=0.50:0.95 | area= large | maxDets=1000 ] = 0.668\n",
      "Average Recall     (AR) @[ IoU=0.50:0.95 | area=   all | maxDets=100 ] = 0.523\n",
      "Average Recall     (AR) @[ IoU=0.50:0.95 | area=   all | maxDets=300 ] = 0.523\n",
      "Average Recall     (AR) @[ IoU=0.50:0.95 | area=   all | maxDets=1000 ] = 0.523\n",
      "Average Recall     (AR) @[ IoU=0.50:0.95 | area= small | maxDets=1000 ] = 0.173\n",
      "Average Recall     (AR) @[ IoU=0.50:0.95 | area=medium | maxDets=1000 ] = 0.513\n",
      "Average Recall     (AR) @[ IoU=0.50:0.95 | area= large | maxDets=1000 ] = 0.786\n"
     ]
    },
    {
     "name": "stderr",
     "output_type": "stream",
     "text": [
      "2021-05-20 04:57:06,095 - mmdet - INFO - Now best checkpoint is epoch_5.pth.Best bbox_mAP_50 is 0.5260\n",
      "2021-05-20 04:57:06,123 - mmdet - INFO - Epoch(val) [5][1091]\tbbox_mAP: 0.3930, bbox_mAP_50: 0.5260, bbox_mAP_75: 0.4250, bbox_mAP_s: 0.0850, bbox_mAP_m: 0.3570, bbox_mAP_l: 0.6680, bbox_mAP_copypaste: 0.393 0.526 0.425 0.085 0.357 0.668\n",
      "2021-05-20 04:58:13,644 - mmdet - INFO - Epoch [6][50/1091]\tlr: 1.000e-04, eta: 4:02:37, time: 1.350, data_time: 0.102, memory: 23519, loss_rpn_cls: 0.0314, loss_rpn_bbox: 0.0294, s0.loss_cls: 0.2111, s0.acc: 93.1667, s0.loss_bbox: 0.2367, s0.loss_mask: 0.2100, s1.loss_cls: 0.0996, s1.acc: 93.6587, s1.loss_bbox: 0.0931, s1.loss_mask: 0.0932, s2.loss_cls: 0.0480, s2.acc: 93.6536, s2.loss_bbox: 0.0358, s2.loss_mask: 0.0422, loss: 1.1305, grad_norm: 8.1323\n",
      "2021-05-20 04:59:19,834 - mmdet - INFO - Epoch [6][100/1091]\tlr: 1.000e-04, eta: 4:01:28, time: 1.324, data_time: 0.058, memory: 23519, loss_rpn_cls: 0.0457, loss_rpn_bbox: 0.0339, s0.loss_cls: 0.2438, s0.acc: 92.2669, s0.loss_bbox: 0.2571, s0.loss_mask: 0.2368, s1.loss_cls: 0.1204, s1.acc: 92.4157, s1.loss_bbox: 0.1041, s1.loss_mask: 0.1035, s2.loss_cls: 0.0579, s2.acc: 92.6157, s2.loss_bbox: 0.0390, s2.loss_mask: 0.0465, loss: 1.2889, grad_norm: 6.7710\n",
      "2021-05-20 05:00:23,336 - mmdet - INFO - Epoch [6][150/1091]\tlr: 1.000e-04, eta: 4:00:15, time: 1.270, data_time: 0.044, memory: 23519, loss_rpn_cls: 0.0330, loss_rpn_bbox: 0.0319, s0.loss_cls: 0.2092, s0.acc: 93.3685, s0.loss_bbox: 0.2209, s0.loss_mask: 0.2243, s1.loss_cls: 0.1031, s1.acc: 93.4053, s1.loss_bbox: 0.0915, s1.loss_mask: 0.0950, s2.loss_cls: 0.0509, s2.acc: 93.4756, s2.loss_bbox: 0.0354, s2.loss_mask: 0.0420, loss: 1.1373, grad_norm: 7.4836\n",
      "2021-05-20 05:01:28,560 - mmdet - INFO - Epoch [6][200/1091]\tlr: 1.000e-04, eta: 3:59:04, time: 1.304, data_time: 0.052, memory: 23519, loss_rpn_cls: 0.0436, loss_rpn_bbox: 0.0325, s0.loss_cls: 0.2358, s0.acc: 92.4167, s0.loss_bbox: 0.2558, s0.loss_mask: 0.2307, s1.loss_cls: 0.1123, s1.acc: 92.7424, s1.loss_bbox: 0.1034, s1.loss_mask: 0.1039, s2.loss_cls: 0.0543, s2.acc: 92.8751, s2.loss_bbox: 0.0406, s2.loss_mask: 0.0480, loss: 1.2608, grad_norm: 7.1571\n",
      "2021-05-20 05:02:32,412 - mmdet - INFO - Epoch [6][250/1091]\tlr: 1.000e-04, eta: 3:57:52, time: 1.277, data_time: 0.056, memory: 23519, loss_rpn_cls: 0.0353, loss_rpn_bbox: 0.0347, s0.loss_cls: 0.2306, s0.acc: 92.6575, s0.loss_bbox: 0.2494, s0.loss_mask: 0.2635, s1.loss_cls: 0.1091, s1.acc: 92.9829, s1.loss_bbox: 0.1012, s1.loss_mask: 0.1155, s2.loss_cls: 0.0526, s2.acc: 92.9790, s2.loss_bbox: 0.0371, s2.loss_mask: 0.0506, loss: 1.2797, grad_norm: 6.2840\n",
      "2021-05-20 05:03:37,403 - mmdet - INFO - Epoch [6][300/1091]\tlr: 1.000e-04, eta: 3:56:41, time: 1.300, data_time: 0.060, memory: 23519, loss_rpn_cls: 0.0418, loss_rpn_bbox: 0.0397, s0.loss_cls: 0.2327, s0.acc: 92.4961, s0.loss_bbox: 0.2613, s0.loss_mask: 0.2558, s1.loss_cls: 0.1124, s1.acc: 92.7744, s1.loss_bbox: 0.1049, s1.loss_mask: 0.1098, s2.loss_cls: 0.0545, s2.acc: 92.9853, s2.loss_bbox: 0.0401, s2.loss_mask: 0.0498, loss: 1.3027, grad_norm: 7.5048\n",
      "2021-05-20 05:04:41,550 - mmdet - INFO - Epoch [6][350/1091]\tlr: 1.000e-04, eta: 3:55:29, time: 1.283, data_time: 0.056, memory: 23519, loss_rpn_cls: 0.0502, loss_rpn_bbox: 0.0416, s0.loss_cls: 0.2549, s0.acc: 92.0052, s0.loss_bbox: 0.2708, s0.loss_mask: 0.2598, s1.loss_cls: 0.1208, s1.acc: 92.3560, s1.loss_bbox: 0.1077, s1.loss_mask: 0.1131, s2.loss_cls: 0.0594, s2.acc: 92.3297, s2.loss_bbox: 0.0406, s2.loss_mask: 0.0507, loss: 1.3697, grad_norm: 7.2105\n",
      "2021-05-20 05:05:46,948 - mmdet - INFO - Epoch [6][400/1091]\tlr: 1.000e-04, eta: 3:54:19, time: 1.308, data_time: 0.065, memory: 23519, loss_rpn_cls: 0.0533, loss_rpn_bbox: 0.0435, s0.loss_cls: 0.2729, s0.acc: 91.6029, s0.loss_bbox: 0.2726, s0.loss_mask: 0.2709, s1.loss_cls: 0.1312, s1.acc: 91.8458, s1.loss_bbox: 0.1064, s1.loss_mask: 0.1169, s2.loss_cls: 0.0628, s2.acc: 92.2047, s2.loss_bbox: 0.0389, s2.loss_mask: 0.0527, loss: 1.4221, grad_norm: 7.4967\n",
      "2021-05-20 05:06:49,857 - mmdet - INFO - Epoch [6][450/1091]\tlr: 1.000e-04, eta: 3:53:05, time: 1.258, data_time: 0.050, memory: 23519, loss_rpn_cls: 0.0473, loss_rpn_bbox: 0.0300, s0.loss_cls: 0.2211, s0.acc: 93.0534, s0.loss_bbox: 0.2291, s0.loss_mask: 0.2358, s1.loss_cls: 0.1109, s1.acc: 93.1115, s1.loss_bbox: 0.0938, s1.loss_mask: 0.1035, s2.loss_cls: 0.0527, s2.acc: 93.1724, s2.loss_bbox: 0.0359, s2.loss_mask: 0.0464, loss: 1.2066, grad_norm: 6.5760\n",
      "2021-05-20 05:07:53,523 - mmdet - INFO - Epoch [6][500/1091]\tlr: 1.000e-04, eta: 3:51:53, time: 1.273, data_time: 0.048, memory: 23519, loss_rpn_cls: 0.0407, loss_rpn_bbox: 0.0308, s0.loss_cls: 0.2242, s0.acc: 92.8281, s0.loss_bbox: 0.2569, s0.loss_mask: 0.2565, s1.loss_cls: 0.1088, s1.acc: 92.9775, s1.loss_bbox: 0.1010, s1.loss_mask: 0.1096, s2.loss_cls: 0.0526, s2.acc: 93.1411, s2.loss_bbox: 0.0375, s2.loss_mask: 0.0500, loss: 1.2688, grad_norm: 6.4364\n",
      "2021-05-20 05:09:01,491 - mmdet - INFO - Epoch [6][550/1091]\tlr: 1.000e-04, eta: 3:50:48, time: 1.359, data_time: 0.071, memory: 23519, loss_rpn_cls: 0.0476, loss_rpn_bbox: 0.0445, s0.loss_cls: 0.2665, s0.acc: 91.6536, s0.loss_bbox: 0.2840, s0.loss_mask: 0.2704, s1.loss_cls: 0.1275, s1.acc: 92.2310, s1.loss_bbox: 0.1110, s1.loss_mask: 0.1138, s2.loss_cls: 0.0597, s2.acc: 92.3761, s2.loss_bbox: 0.0408, s2.loss_mask: 0.0505, loss: 1.4164, grad_norm: 7.9413\n",
      "2021-05-20 05:10:06,840 - mmdet - INFO - Epoch [6][600/1091]\tlr: 1.000e-04, eta: 3:49:39, time: 1.307, data_time: 0.051, memory: 23519, loss_rpn_cls: 0.0364, loss_rpn_bbox: 0.0327, s0.loss_cls: 0.2364, s0.acc: 92.8503, s0.loss_bbox: 0.2712, s0.loss_mask: 0.2503, s1.loss_cls: 0.1092, s1.acc: 93.1880, s1.loss_bbox: 0.1102, s1.loss_mask: 0.1118, s2.loss_cls: 0.0515, s2.acc: 93.4065, s2.loss_bbox: 0.0423, s2.loss_mask: 0.0514, loss: 1.3032, grad_norm: 7.0615\n",
      "2021-05-20 05:11:11,252 - mmdet - INFO - Epoch [6][650/1091]\tlr: 1.000e-04, eta: 3:48:28, time: 1.288, data_time: 0.059, memory: 23519, loss_rpn_cls: 0.0416, loss_rpn_bbox: 0.0336, s0.loss_cls: 0.2315, s0.acc: 92.4753, s0.loss_bbox: 0.2596, s0.loss_mask: 0.2526, s1.loss_cls: 0.1139, s1.acc: 92.6520, s1.loss_bbox: 0.1063, s1.loss_mask: 0.1122, s2.loss_cls: 0.0560, s2.acc: 92.8027, s2.loss_bbox: 0.0395, s2.loss_mask: 0.0506, loss: 1.2974, grad_norm: 6.3387\n",
      "2021-05-20 05:12:14,275 - mmdet - INFO - Epoch [6][700/1091]\tlr: 1.000e-04, eta: 3:47:15, time: 1.260, data_time: 0.047, memory: 23519, loss_rpn_cls: 0.0316, loss_rpn_bbox: 0.0248, s0.loss_cls: 0.1895, s0.acc: 93.9323, s0.loss_bbox: 0.2137, s0.loss_mask: 0.2331, s1.loss_cls: 0.0943, s1.acc: 93.8780, s1.loss_bbox: 0.0864, s1.loss_mask: 0.1047, s2.loss_cls: 0.0461, s2.acc: 93.8096, s2.loss_bbox: 0.0339, s2.loss_mask: 0.0469, loss: 1.1051, grad_norm: 6.9486\n",
      "2021-05-20 05:13:21,054 - mmdet - INFO - Epoch [6][750/1091]\tlr: 1.000e-04, eta: 3:46:08, time: 1.336, data_time: 0.064, memory: 23519, loss_rpn_cls: 0.0373, loss_rpn_bbox: 0.0324, s0.loss_cls: 0.2222, s0.acc: 93.0104, s0.loss_bbox: 0.2439, s0.loss_mask: 0.2563, s1.loss_cls: 0.1108, s1.acc: 93.1118, s1.loss_bbox: 0.0990, s1.loss_mask: 0.1197, s2.loss_cls: 0.0537, s2.acc: 93.2593, s2.loss_bbox: 0.0374, s2.loss_mask: 0.0546, loss: 1.2672, grad_norm: 6.9207\n",
      "2021-05-20 05:14:25,343 - mmdet - INFO - Epoch [6][800/1091]\tlr: 1.000e-04, eta: 3:44:57, time: 1.286, data_time: 0.049, memory: 23519, loss_rpn_cls: 0.0387, loss_rpn_bbox: 0.0306, s0.loss_cls: 0.2271, s0.acc: 92.9414, s0.loss_bbox: 0.2385, s0.loss_mask: 0.2457, s1.loss_cls: 0.1110, s1.acc: 93.0852, s1.loss_bbox: 0.0956, s1.loss_mask: 0.1090, s2.loss_cls: 0.0545, s2.acc: 93.1634, s2.loss_bbox: 0.0365, s2.loss_mask: 0.0479, loss: 1.2351, grad_norm: 6.0459\n",
      "2021-05-20 05:15:29,850 - mmdet - INFO - Epoch [6][850/1091]\tlr: 1.000e-04, eta: 3:43:47, time: 1.290, data_time: 0.054, memory: 23519, loss_rpn_cls: 0.0403, loss_rpn_bbox: 0.0345, s0.loss_cls: 0.2267, s0.acc: 92.6289, s0.loss_bbox: 0.2515, s0.loss_mask: 0.2585, s1.loss_cls: 0.1108, s1.acc: 92.8381, s1.loss_bbox: 0.1013, s1.loss_mask: 0.1149, s2.loss_cls: 0.0533, s2.acc: 92.9591, s2.loss_bbox: 0.0376, s2.loss_mask: 0.0518, loss: 1.2812, grad_norm: 6.3691\n",
      "2021-05-20 05:16:33,763 - mmdet - INFO - Epoch [6][900/1091]\tlr: 1.000e-04, eta: 3:42:36, time: 1.278, data_time: 0.054, memory: 23519, loss_rpn_cls: 0.0423, loss_rpn_bbox: 0.0339, s0.loss_cls: 0.2424, s0.acc: 92.1302, s0.loss_bbox: 0.2514, s0.loss_mask: 0.2361, s1.loss_cls: 0.1209, s1.acc: 92.2069, s1.loss_bbox: 0.1045, s1.loss_mask: 0.1034, s2.loss_cls: 0.0586, s2.acc: 92.5267, s2.loss_bbox: 0.0392, s2.loss_mask: 0.0460, loss: 1.2787, grad_norm: 8.0965\n"
     ]
    },
    {
     "name": "stderr",
     "output_type": "stream",
     "text": [
      "2021-05-20 05:17:38,084 - mmdet - INFO - Epoch [6][950/1091]\tlr: 1.000e-04, eta: 3:41:25, time: 1.286, data_time: 0.058, memory: 23519, loss_rpn_cls: 0.0505, loss_rpn_bbox: 0.0400, s0.loss_cls: 0.2556, s0.acc: 91.8060, s0.loss_bbox: 0.2848, s0.loss_mask: 0.2506, s1.loss_cls: 0.1227, s1.acc: 92.1407, s1.loss_bbox: 0.1108, s1.loss_mask: 0.1107, s2.loss_cls: 0.0591, s2.acc: 92.2496, s2.loss_bbox: 0.0414, s2.loss_mask: 0.0493, loss: 1.3755, grad_norm: 6.8981\n",
      "2021-05-20 05:18:40,679 - mmdet - INFO - Epoch [6][1000/1091]\tlr: 1.000e-04, eta: 3:40:12, time: 1.252, data_time: 0.053, memory: 23519, loss_rpn_cls: 0.0384, loss_rpn_bbox: 0.0361, s0.loss_cls: 0.2456, s0.acc: 92.1927, s0.loss_bbox: 0.2740, s0.loss_mask: 0.2643, s1.loss_cls: 0.1197, s1.acc: 92.4317, s1.loss_bbox: 0.1080, s1.loss_mask: 0.1150, s2.loss_cls: 0.0562, s2.acc: 92.7375, s2.loss_bbox: 0.0391, s2.loss_mask: 0.0512, loss: 1.3476, grad_norm: 6.9551\n",
      "2021-05-20 05:19:44,764 - mmdet - INFO - Epoch [6][1050/1091]\tlr: 1.000e-04, eta: 3:39:02, time: 1.282, data_time: 0.046, memory: 23519, loss_rpn_cls: 0.0362, loss_rpn_bbox: 0.0307, s0.loss_cls: 0.2259, s0.acc: 92.6797, s0.loss_bbox: 0.2505, s0.loss_mask: 0.2511, s1.loss_cls: 0.1121, s1.acc: 92.6893, s1.loss_bbox: 0.1008, s1.loss_mask: 0.1104, s2.loss_cls: 0.0554, s2.acc: 92.8062, s2.loss_bbox: 0.0389, s2.loss_mask: 0.0505, loss: 1.2627, grad_norm: 7.6148\n",
      "2021-05-20 05:20:37,113 - mmdet - INFO - Saving checkpoint at 6 epochs\n"
     ]
    },
    {
     "name": "stdout",
     "output_type": "stream",
     "text": [
      "[>>>>>>>>>>>>>>>>>>>>>>>>>>>>>] 655/655, 3.0 task/s, elapsed: 222s, ETA:     0s"
     ]
    },
    {
     "name": "stderr",
     "output_type": "stream",
     "text": [
      "2021-05-20 05:24:26,580 - mmdet - INFO - Evaluating bbox...\n"
     ]
    },
    {
     "name": "stdout",
     "output_type": "stream",
     "text": [
      "Loading and preparing results...\n",
      "DONE (t=0.69s)\n",
      "creating index...\n",
      "index created!\n",
      "Running per image evaluation...\n",
      "Evaluate annotation type *bbox*\n",
      "DONE (t=7.62s).\n",
      "Accumulating evaluation results...\n",
      "DONE (t=1.14s).\n",
      "Average Precision  (AP) @[ IoU=0.50:0.95 | area=   all | maxDets=100 ] = 0.415\n",
      "Average Precision  (AP) @[ IoU=0.50      | area=   all | maxDets=1000 ] = 0.559\n",
      "Average Precision  (AP) @[ IoU=0.75      | area=   all | maxDets=1000 ] = 0.444\n",
      "Average Precision  (AP) @[ IoU=0.50:0.95 | area= small | maxDets=1000 ] = 0.129\n",
      "Average Precision  (AP) @[ IoU=0.50:0.95 | area=medium | maxDets=1000 ] = 0.377\n",
      "Average Precision  (AP) @[ IoU=0.50:0.95 | area= large | maxDets=1000 ] = 0.685\n",
      "Average Recall     (AR) @[ IoU=0.50:0.95 | area=   all | maxDets=100 ] = 0.552\n",
      "Average Recall     (AR) @[ IoU=0.50:0.95 | area=   all | maxDets=300 ] = 0.552\n",
      "Average Recall     (AR) @[ IoU=0.50:0.95 | area=   all | maxDets=1000 ] = 0.552\n",
      "Average Recall     (AR) @[ IoU=0.50:0.95 | area= small | maxDets=1000 ] = 0.227\n",
      "Average Recall     (AR) @[ IoU=0.50:0.95 | area=medium | maxDets=1000 ] = 0.545\n",
      "Average Recall     (AR) @[ IoU=0.50:0.95 | area= large | maxDets=1000 ] = 0.796\n"
     ]
    },
    {
     "name": "stderr",
     "output_type": "stream",
     "text": [
      "2021-05-20 05:24:40,993 - mmdet - INFO - Now best checkpoint is epoch_6.pth.Best bbox_mAP_50 is 0.5590\n",
      "2021-05-20 05:24:41,019 - mmdet - INFO - Epoch(val) [6][1091]\tbbox_mAP: 0.4150, bbox_mAP_50: 0.5590, bbox_mAP_75: 0.4440, bbox_mAP_s: 0.1290, bbox_mAP_m: 0.3770, bbox_mAP_l: 0.6850, bbox_mAP_copypaste: 0.415 0.559 0.444 0.129 0.377 0.685\n",
      "2021-05-20 05:25:48,269 - mmdet - INFO - Epoch [7][50/1091]\tlr: 1.000e-04, eta: 3:35:40, time: 1.344, data_time: 0.101, memory: 23519, loss_rpn_cls: 0.0445, loss_rpn_bbox: 0.0418, s0.loss_cls: 0.2350, s0.acc: 92.5430, s0.loss_bbox: 0.2452, s0.loss_mask: 0.2502, s1.loss_cls: 0.1129, s1.acc: 92.8916, s1.loss_bbox: 0.0988, s1.loss_mask: 0.1112, s2.loss_cls: 0.0545, s2.acc: 93.1987, s2.loss_bbox: 0.0375, s2.loss_mask: 0.0503, loss: 1.2818, grad_norm: 6.7156\n",
      "2021-05-20 05:26:53,886 - mmdet - INFO - Epoch [7][100/1091]\tlr: 1.000e-04, eta: 3:34:33, time: 1.312, data_time: 0.059, memory: 23519, loss_rpn_cls: 0.0431, loss_rpn_bbox: 0.0310, s0.loss_cls: 0.2227, s0.acc: 93.0430, s0.loss_bbox: 0.2496, s0.loss_mask: 0.2425, s1.loss_cls: 0.1080, s1.acc: 93.2818, s1.loss_bbox: 0.1007, s1.loss_mask: 0.1060, s2.loss_cls: 0.0529, s2.acc: 93.4283, s2.loss_bbox: 0.0377, s2.loss_mask: 0.0482, loss: 1.2423, grad_norm: 6.5223\n",
      "2021-05-20 05:27:57,430 - mmdet - INFO - Epoch [7][150/1091]\tlr: 1.000e-04, eta: 3:33:23, time: 1.271, data_time: 0.045, memory: 23519, loss_rpn_cls: 0.0330, loss_rpn_bbox: 0.0301, s0.loss_cls: 0.2124, s0.acc: 93.1536, s0.loss_bbox: 0.2327, s0.loss_mask: 0.2298, s1.loss_cls: 0.1036, s1.acc: 93.2829, s1.loss_bbox: 0.0928, s1.loss_mask: 0.1013, s2.loss_cls: 0.0505, s2.acc: 93.5396, s2.loss_bbox: 0.0354, s2.loss_mask: 0.0454, loss: 1.1670, grad_norm: 6.6162\n",
      "2021-05-20 05:29:02,344 - mmdet - INFO - Epoch [7][200/1091]\tlr: 1.000e-04, eta: 3:32:15, time: 1.298, data_time: 0.048, memory: 23519, loss_rpn_cls: 0.0423, loss_rpn_bbox: 0.0338, s0.loss_cls: 0.2144, s0.acc: 92.9518, s0.loss_bbox: 0.2469, s0.loss_mask: 0.2268, s1.loss_cls: 0.1067, s1.acc: 93.0457, s1.loss_bbox: 0.1011, s1.loss_mask: 0.0991, s2.loss_cls: 0.0536, s2.acc: 92.9244, s2.loss_bbox: 0.0397, s2.loss_mask: 0.0445, loss: 1.2089, grad_norm: 7.8527\n",
      "2021-05-20 05:30:06,007 - mmdet - INFO - Epoch [7][250/1091]\tlr: 1.000e-04, eta: 3:31:05, time: 1.273, data_time: 0.050, memory: 23519, loss_rpn_cls: 0.0410, loss_rpn_bbox: 0.0326, s0.loss_cls: 0.2412, s0.acc: 92.3125, s0.loss_bbox: 0.2636, s0.loss_mask: 0.2300, s1.loss_cls: 0.1156, s1.acc: 92.5554, s1.loss_bbox: 0.1064, s1.loss_mask: 0.1017, s2.loss_cls: 0.0555, s2.acc: 92.8286, s2.loss_bbox: 0.0407, s2.loss_mask: 0.0462, loss: 1.2743, grad_norm: 8.1068\n",
      "2021-05-20 05:31:11,225 - mmdet - INFO - Epoch [7][300/1091]\tlr: 1.000e-04, eta: 3:29:58, time: 1.304, data_time: 0.062, memory: 23519, loss_rpn_cls: 0.0451, loss_rpn_bbox: 0.0344, s0.loss_cls: 0.2349, s0.acc: 92.5898, s0.loss_bbox: 0.2603, s0.loss_mask: 0.2609, s1.loss_cls: 0.1125, s1.acc: 92.9161, s1.loss_bbox: 0.1055, s1.loss_mask: 0.1123, s2.loss_cls: 0.0530, s2.acc: 93.2122, s2.loss_bbox: 0.0398, s2.loss_mask: 0.0502, loss: 1.3088, grad_norm: 7.5060\n",
      "2021-05-20 05:32:15,224 - mmdet - INFO - Epoch [7][350/1091]\tlr: 1.000e-04, eta: 3:28:49, time: 1.280, data_time: 0.049, memory: 23519, loss_rpn_cls: 0.0444, loss_rpn_bbox: 0.0330, s0.loss_cls: 0.2241, s0.acc: 92.6497, s0.loss_bbox: 0.2656, s0.loss_mask: 0.2486, s1.loss_cls: 0.1077, s1.acc: 92.8057, s1.loss_bbox: 0.1079, s1.loss_mask: 0.1114, s2.loss_cls: 0.0534, s2.acc: 92.7898, s2.loss_bbox: 0.0414, s2.loss_mask: 0.0493, loss: 1.2867, grad_norm: 6.5661\n",
      "2021-05-20 05:33:19,884 - mmdet - INFO - Epoch [7][400/1091]\tlr: 1.000e-04, eta: 3:27:40, time: 1.293, data_time: 0.056, memory: 23519, loss_rpn_cls: 0.0337, loss_rpn_bbox: 0.0338, s0.loss_cls: 0.2125, s0.acc: 93.0221, s0.loss_bbox: 0.2337, s0.loss_mask: 0.2509, s1.loss_cls: 0.1044, s1.acc: 93.2084, s1.loss_bbox: 0.0960, s1.loss_mask: 0.1102, s2.loss_cls: 0.0517, s2.acc: 93.0850, s2.loss_bbox: 0.0365, s2.loss_mask: 0.0502, loss: 1.2136, grad_norm: 6.6986\n",
      "2021-05-20 05:34:22,555 - mmdet - INFO - Epoch [7][450/1091]\tlr: 1.000e-04, eta: 3:26:30, time: 1.253, data_time: 0.048, memory: 23519, loss_rpn_cls: 0.0407, loss_rpn_bbox: 0.0367, s0.loss_cls: 0.2113, s0.acc: 93.4010, s0.loss_bbox: 0.2468, s0.loss_mask: 0.2550, s1.loss_cls: 0.1013, s1.acc: 93.4902, s1.loss_bbox: 0.0989, s1.loss_mask: 0.1131, s2.loss_cls: 0.0485, s2.acc: 93.5194, s2.loss_bbox: 0.0374, s2.loss_mask: 0.0515, loss: 1.2413, grad_norm: 7.1441\n",
      "2021-05-20 05:35:27,276 - mmdet - INFO - Epoch [7][500/1091]\tlr: 1.000e-04, eta: 3:25:22, time: 1.294, data_time: 0.055, memory: 23519, loss_rpn_cls: 0.0467, loss_rpn_bbox: 0.0343, s0.loss_cls: 0.2402, s0.acc: 92.2552, s0.loss_bbox: 0.2631, s0.loss_mask: 0.2651, s1.loss_cls: 0.1146, s1.acc: 92.5149, s1.loss_bbox: 0.1066, s1.loss_mask: 0.1214, s2.loss_cls: 0.0568, s2.acc: 92.5951, s2.loss_bbox: 0.0398, s2.loss_mask: 0.0528, loss: 1.3413, grad_norm: 7.3856\n",
      "2021-05-20 05:36:33,651 - mmdet - INFO - Epoch [7][550/1091]\tlr: 1.000e-04, eta: 3:24:16, time: 1.327, data_time: 0.055, memory: 23519, loss_rpn_cls: 0.0373, loss_rpn_bbox: 0.0336, s0.loss_cls: 0.2361, s0.acc: 92.5221, s0.loss_bbox: 0.2504, s0.loss_mask: 0.2447, s1.loss_cls: 0.1165, s1.acc: 92.4693, s1.loss_bbox: 0.1023, s1.loss_mask: 0.1119, s2.loss_cls: 0.0563, s2.acc: 92.6403, s2.loss_bbox: 0.0389, s2.loss_mask: 0.0503, loss: 1.2783, grad_norm: 6.9289\n",
      "2021-05-20 05:37:38,718 - mmdet - INFO - Epoch [7][600/1091]\tlr: 1.000e-04, eta: 3:23:08, time: 1.301, data_time: 0.052, memory: 23519, loss_rpn_cls: 0.0436, loss_rpn_bbox: 0.0374, s0.loss_cls: 0.2342, s0.acc: 92.7135, s0.loss_bbox: 0.2587, s0.loss_mask: 0.2571, s1.loss_cls: 0.1109, s1.acc: 92.9230, s1.loss_bbox: 0.1011, s1.loss_mask: 0.1125, s2.loss_cls: 0.0532, s2.acc: 92.9428, s2.loss_bbox: 0.0370, s2.loss_mask: 0.0504, loss: 1.2961, grad_norm: 7.5929\n",
      "2021-05-20 05:38:42,945 - mmdet - INFO - Epoch [7][650/1091]\tlr: 1.000e-04, eta: 3:22:00, time: 1.285, data_time: 0.057, memory: 23519, loss_rpn_cls: 0.0428, loss_rpn_bbox: 0.0394, s0.loss_cls: 0.2293, s0.acc: 92.6797, s0.loss_bbox: 0.2541, s0.loss_mask: 0.2380, s1.loss_cls: 0.1124, s1.acc: 92.7476, s1.loss_bbox: 0.0998, s1.loss_mask: 0.1016, s2.loss_cls: 0.0546, s2.acc: 92.8167, s2.loss_bbox: 0.0372, s2.loss_mask: 0.0449, loss: 1.2541, grad_norm: 6.3320\n",
      "2021-05-20 05:39:47,114 - mmdet - INFO - Epoch [7][700/1091]\tlr: 1.000e-04, eta: 3:20:51, time: 1.283, data_time: 0.053, memory: 23519, loss_rpn_cls: 0.0393, loss_rpn_bbox: 0.0335, s0.loss_cls: 0.2197, s0.acc: 93.0286, s0.loss_bbox: 0.2501, s0.loss_mask: 0.2414, s1.loss_cls: 0.1050, s1.acc: 93.3430, s1.loss_bbox: 0.0997, s1.loss_mask: 0.1050, s2.loss_cls: 0.0515, s2.acc: 93.3542, s2.loss_bbox: 0.0383, s2.loss_mask: 0.0464, loss: 1.2299, grad_norm: 6.5867\n",
      "2021-05-20 05:40:52,353 - mmdet - INFO - Epoch [7][750/1091]\tlr: 1.000e-04, eta: 3:19:44, time: 1.305, data_time: 0.052, memory: 23519, loss_rpn_cls: 0.0303, loss_rpn_bbox: 0.0316, s0.loss_cls: 0.1820, s0.acc: 94.3984, s0.loss_bbox: 0.2101, s0.loss_mask: 0.2405, s1.loss_cls: 0.0899, s1.acc: 94.4701, s1.loss_bbox: 0.0840, s1.loss_mask: 0.1002, s2.loss_cls: 0.0444, s2.acc: 94.2216, s2.loss_bbox: 0.0318, s2.loss_mask: 0.0446, loss: 1.0896, grad_norm: 6.9152\n",
      "2021-05-20 05:41:56,888 - mmdet - INFO - Epoch [7][800/1091]\tlr: 1.000e-04, eta: 3:18:36, time: 1.291, data_time: 0.052, memory: 23519, loss_rpn_cls: 0.0384, loss_rpn_bbox: 0.0313, s0.loss_cls: 0.2352, s0.acc: 92.6849, s0.loss_bbox: 0.2563, s0.loss_mask: 0.2629, s1.loss_cls: 0.1116, s1.acc: 93.0422, s1.loss_bbox: 0.1021, s1.loss_mask: 0.1116, s2.loss_cls: 0.0532, s2.acc: 93.1486, s2.loss_bbox: 0.0371, s2.loss_mask: 0.0489, loss: 1.2885, grad_norm: 6.8465\n",
      "2021-05-20 05:43:00,712 - mmdet - INFO - Epoch [7][850/1091]\tlr: 1.000e-04, eta: 3:17:27, time: 1.276, data_time: 0.051, memory: 23519, loss_rpn_cls: 0.0475, loss_rpn_bbox: 0.0329, s0.loss_cls: 0.2241, s0.acc: 92.8841, s0.loss_bbox: 0.2521, s0.loss_mask: 0.2476, s1.loss_cls: 0.1081, s1.acc: 93.0023, s1.loss_bbox: 0.1020, s1.loss_mask: 0.1096, s2.loss_cls: 0.0528, s2.acc: 93.0241, s2.loss_bbox: 0.0390, s2.loss_mask: 0.0488, loss: 1.2645, grad_norm: 6.4079\n",
      "2021-05-20 05:44:03,982 - mmdet - INFO - Epoch [7][900/1091]\tlr: 1.000e-04, eta: 3:16:18, time: 1.265, data_time: 0.053, memory: 23519, loss_rpn_cls: 0.0385, loss_rpn_bbox: 0.0340, s0.loss_cls: 0.2237, s0.acc: 93.0703, s0.loss_bbox: 0.2409, s0.loss_mask: 0.2396, s1.loss_cls: 0.1048, s1.acc: 93.5312, s1.loss_bbox: 0.0964, s1.loss_mask: 0.1011, s2.loss_cls: 0.0511, s2.acc: 93.7421, s2.loss_bbox: 0.0377, s2.loss_mask: 0.0456, loss: 1.2133, grad_norm: 6.8738\n"
     ]
    },
    {
     "name": "stderr",
     "output_type": "stream",
     "text": [
      "2021-05-20 05:45:07,298 - mmdet - INFO - Epoch [7][950/1091]\tlr: 1.000e-04, eta: 3:15:09, time: 1.266, data_time: 0.056, memory: 23519, loss_rpn_cls: 0.0440, loss_rpn_bbox: 0.0404, s0.loss_cls: 0.2437, s0.acc: 92.2604, s0.loss_bbox: 0.2560, s0.loss_mask: 0.2447, s1.loss_cls: 0.1202, s1.acc: 92.2916, s1.loss_bbox: 0.1046, s1.loss_mask: 0.1081, s2.loss_cls: 0.0586, s2.acc: 92.4298, s2.loss_bbox: 0.0397, s2.loss_mask: 0.0495, loss: 1.3096, grad_norm: 7.3344\n",
      "2021-05-20 05:46:10,459 - mmdet - INFO - Epoch [7][1000/1091]\tlr: 1.000e-04, eta: 3:14:00, time: 1.263, data_time: 0.049, memory: 23519, loss_rpn_cls: 0.0386, loss_rpn_bbox: 0.0324, s0.loss_cls: 0.2239, s0.acc: 92.9648, s0.loss_bbox: 0.2503, s0.loss_mask: 0.2390, s1.loss_cls: 0.1073, s1.acc: 93.2669, s1.loss_bbox: 0.1005, s1.loss_mask: 0.1026, s2.loss_cls: 0.0524, s2.acc: 93.2576, s2.loss_bbox: 0.0375, s2.loss_mask: 0.0438, loss: 1.2282, grad_norm: 6.6859\n",
      "2021-05-20 05:47:15,465 - mmdet - INFO - Epoch [7][1050/1091]\tlr: 1.000e-04, eta: 3:12:52, time: 1.300, data_time: 0.049, memory: 23519, loss_rpn_cls: 0.0400, loss_rpn_bbox: 0.0347, s0.loss_cls: 0.2193, s0.acc: 93.0391, s0.loss_bbox: 0.2498, s0.loss_mask: 0.2366, s1.loss_cls: 0.1063, s1.acc: 93.2613, s1.loss_bbox: 0.0991, s1.loss_mask: 0.1005, s2.loss_cls: 0.0517, s2.acc: 93.4418, s2.loss_bbox: 0.0382, s2.loss_mask: 0.0446, loss: 1.2207, grad_norm: 6.7982\n",
      "2021-05-20 05:48:08,627 - mmdet - INFO - Saving checkpoint at 7 epochs\n"
     ]
    },
    {
     "name": "stdout",
     "output_type": "stream",
     "text": [
      "[>>>>>>>>>>>>>>>>>>>>>>>>>>>>>] 655/655, 3.0 task/s, elapsed: 216s, ETA:     0s"
     ]
    },
    {
     "name": "stderr",
     "output_type": "stream",
     "text": [
      "2021-05-20 05:51:51,888 - mmdet - INFO - Evaluating bbox...\n"
     ]
    },
    {
     "name": "stdout",
     "output_type": "stream",
     "text": [
      "Loading and preparing results...\n",
      "DONE (t=0.65s)\n",
      "creating index...\n",
      "index created!\n",
      "Running per image evaluation...\n",
      "Evaluate annotation type *bbox*\n",
      "DONE (t=7.27s).\n",
      "Accumulating evaluation results...\n",
      "DONE (t=1.04s).\n",
      "Average Precision  (AP) @[ IoU=0.50:0.95 | area=   all | maxDets=100 ] = 0.439\n",
      "Average Precision  (AP) @[ IoU=0.50      | area=   all | maxDets=1000 ] = 0.575\n",
      "Average Precision  (AP) @[ IoU=0.75      | area=   all | maxDets=1000 ] = 0.477\n",
      "Average Precision  (AP) @[ IoU=0.50:0.95 | area= small | maxDets=1000 ] = 0.140\n",
      "Average Precision  (AP) @[ IoU=0.50:0.95 | area=medium | maxDets=1000 ] = 0.403\n",
      "Average Precision  (AP) @[ IoU=0.50:0.95 | area= large | maxDets=1000 ] = 0.707\n",
      "Average Recall     (AR) @[ IoU=0.50:0.95 | area=   all | maxDets=100 ] = 0.566\n",
      "Average Recall     (AR) @[ IoU=0.50:0.95 | area=   all | maxDets=300 ] = 0.566\n",
      "Average Recall     (AR) @[ IoU=0.50:0.95 | area=   all | maxDets=1000 ] = 0.566\n",
      "Average Recall     (AR) @[ IoU=0.50:0.95 | area= small | maxDets=1000 ] = 0.242\n",
      "Average Recall     (AR) @[ IoU=0.50:0.95 | area=medium | maxDets=1000 ] = 0.565\n",
      "Average Recall     (AR) @[ IoU=0.50:0.95 | area= large | maxDets=1000 ] = 0.800\n"
     ]
    },
    {
     "name": "stderr",
     "output_type": "stream",
     "text": [
      "2021-05-20 05:52:05,799 - mmdet - INFO - Now best checkpoint is epoch_7.pth.Best bbox_mAP_50 is 0.5750\n",
      "2021-05-20 05:52:05,828 - mmdet - INFO - Epoch(val) [7][1091]\tbbox_mAP: 0.4390, bbox_mAP_50: 0.5750, bbox_mAP_75: 0.4770, bbox_mAP_s: 0.1400, bbox_mAP_m: 0.4030, bbox_mAP_l: 0.7070, bbox_mAP_copypaste: 0.439 0.575 0.477 0.140 0.403 0.707\n",
      "2021-05-20 05:53:14,103 - mmdet - INFO - Epoch [8][50/1091]\tlr: 1.000e-04, eta: 3:09:54, time: 1.365, data_time: 0.119, memory: 23519, loss_rpn_cls: 0.0393, loss_rpn_bbox: 0.0342, s0.loss_cls: 0.2218, s0.acc: 92.8698, s0.loss_bbox: 0.2477, s0.loss_mask: 0.2374, s1.loss_cls: 0.1051, s1.acc: 93.2024, s1.loss_bbox: 0.1005, s1.loss_mask: 0.1028, s2.loss_cls: 0.0523, s2.acc: 93.0857, s2.loss_bbox: 0.0381, s2.loss_mask: 0.0470, loss: 1.2262, grad_norm: 6.4101\n",
      "2021-05-20 05:54:19,560 - mmdet - INFO - Epoch [8][100/1091]\tlr: 1.000e-04, eta: 3:08:48, time: 1.309, data_time: 0.053, memory: 23519, loss_rpn_cls: 0.0392, loss_rpn_bbox: 0.0326, s0.loss_cls: 0.2039, s0.acc: 93.0365, s0.loss_bbox: 0.2433, s0.loss_mask: 0.2110, s1.loss_cls: 0.0987, s1.acc: 93.3682, s1.loss_bbox: 0.0980, s1.loss_mask: 0.0919, s2.loss_cls: 0.0493, s2.acc: 93.4001, s2.loss_bbox: 0.0379, s2.loss_mask: 0.0415, loss: 1.1473, grad_norm: 6.4186\n",
      "2021-05-20 05:55:23,725 - mmdet - INFO - Epoch [8][150/1091]\tlr: 1.000e-04, eta: 3:07:41, time: 1.283, data_time: 0.048, memory: 23519, loss_rpn_cls: 0.0335, loss_rpn_bbox: 0.0324, s0.loss_cls: 0.2141, s0.acc: 92.7799, s0.loss_bbox: 0.2467, s0.loss_mask: 0.2368, s1.loss_cls: 0.0994, s1.acc: 93.3421, s1.loss_bbox: 0.0951, s1.loss_mask: 0.1023, s2.loss_cls: 0.0469, s2.acc: 93.5583, s2.loss_bbox: 0.0359, s2.loss_mask: 0.0455, loss: 1.1887, grad_norm: 7.3784\n",
      "2021-05-20 05:56:28,835 - mmdet - INFO - Epoch [8][200/1091]\tlr: 1.000e-04, eta: 3:06:34, time: 1.302, data_time: 0.054, memory: 23519, loss_rpn_cls: 0.0357, loss_rpn_bbox: 0.0327, s0.loss_cls: 0.2226, s0.acc: 93.0169, s0.loss_bbox: 0.2446, s0.loss_mask: 0.2296, s1.loss_cls: 0.1054, s1.acc: 93.3131, s1.loss_bbox: 0.0962, s1.loss_mask: 0.0984, s2.loss_cls: 0.0510, s2.acc: 93.4532, s2.loss_bbox: 0.0366, s2.loss_mask: 0.0442, loss: 1.1971, grad_norm: 6.7063\n",
      "2021-05-20 05:57:32,303 - mmdet - INFO - Epoch [8][250/1091]\tlr: 1.000e-04, eta: 3:05:26, time: 1.269, data_time: 0.047, memory: 23519, loss_rpn_cls: 0.0332, loss_rpn_bbox: 0.0316, s0.loss_cls: 0.2079, s0.acc: 93.3932, s0.loss_bbox: 0.2503, s0.loss_mask: 0.2243, s1.loss_cls: 0.1000, s1.acc: 93.7949, s1.loss_bbox: 0.1015, s1.loss_mask: 0.0975, s2.loss_cls: 0.0487, s2.acc: 93.8898, s2.loss_bbox: 0.0392, s2.loss_mask: 0.0440, loss: 1.1783, grad_norm: 6.2037\n",
      "2021-05-20 05:58:37,447 - mmdet - INFO - Epoch [8][300/1091]\tlr: 1.000e-04, eta: 3:04:20, time: 1.303, data_time: 0.058, memory: 23519, loss_rpn_cls: 0.0402, loss_rpn_bbox: 0.0387, s0.loss_cls: 0.2255, s0.acc: 92.7917, s0.loss_bbox: 0.2610, s0.loss_mask: 0.2583, s1.loss_cls: 0.1080, s1.acc: 93.1181, s1.loss_bbox: 0.1052, s1.loss_mask: 0.1102, s2.loss_cls: 0.0522, s2.acc: 93.1664, s2.loss_bbox: 0.0391, s2.loss_mask: 0.0486, loss: 1.2872, grad_norm: 6.6922\n",
      "2021-05-20 05:59:41,553 - mmdet - INFO - Epoch [8][350/1091]\tlr: 1.000e-04, eta: 3:03:13, time: 1.282, data_time: 0.052, memory: 23519, loss_rpn_cls: 0.0352, loss_rpn_bbox: 0.0313, s0.loss_cls: 0.2267, s0.acc: 92.8737, s0.loss_bbox: 0.2539, s0.loss_mask: 0.2267, s1.loss_cls: 0.1090, s1.acc: 93.1098, s1.loss_bbox: 0.1022, s1.loss_mask: 0.0974, s2.loss_cls: 0.0540, s2.acc: 93.0329, s2.loss_bbox: 0.0393, s2.loss_mask: 0.0433, loss: 1.2191, grad_norm: 5.7448\n",
      "2021-05-20 06:00:46,197 - mmdet - INFO - Epoch [8][400/1091]\tlr: 1.000e-04, eta: 3:02:06, time: 1.293, data_time: 0.051, memory: 23519, loss_rpn_cls: 0.0349, loss_rpn_bbox: 0.0326, s0.loss_cls: 0.2027, s0.acc: 93.2292, s0.loss_bbox: 0.2411, s0.loss_mask: 0.2271, s1.loss_cls: 0.0971, s1.acc: 93.4639, s1.loss_bbox: 0.0955, s1.loss_mask: 0.0971, s2.loss_cls: 0.0468, s2.acc: 93.6267, s2.loss_bbox: 0.0372, s2.loss_mask: 0.0439, loss: 1.1559, grad_norm: 6.2347\n",
      "2021-05-20 06:01:50,496 - mmdet - INFO - Epoch [8][450/1091]\tlr: 1.000e-04, eta: 3:01:00, time: 1.286, data_time: 0.058, memory: 23519, loss_rpn_cls: 0.0372, loss_rpn_bbox: 0.0370, s0.loss_cls: 0.2275, s0.acc: 92.6823, s0.loss_bbox: 0.2625, s0.loss_mask: 0.2418, s1.loss_cls: 0.1099, s1.acc: 93.0078, s1.loss_bbox: 0.1030, s1.loss_mask: 0.1052, s2.loss_cls: 0.0521, s2.acc: 93.4672, s2.loss_bbox: 0.0389, s2.loss_mask: 0.0478, loss: 1.2629, grad_norm: 6.9794\n",
      "2021-05-20 06:02:54,379 - mmdet - INFO - Epoch [8][500/1091]\tlr: 1.000e-04, eta: 2:59:52, time: 1.278, data_time: 0.049, memory: 23519, loss_rpn_cls: 0.0349, loss_rpn_bbox: 0.0365, s0.loss_cls: 0.2086, s0.acc: 93.3086, s0.loss_bbox: 0.2437, s0.loss_mask: 0.2396, s1.loss_cls: 0.0990, s1.acc: 93.6190, s1.loss_bbox: 0.0970, s1.loss_mask: 0.1062, s2.loss_cls: 0.0481, s2.acc: 93.6361, s2.loss_bbox: 0.0364, s2.loss_mask: 0.0482, loss: 1.1982, grad_norm: 7.2476\n",
      "2021-05-20 06:04:01,024 - mmdet - INFO - Epoch [8][550/1091]\tlr: 1.000e-04, eta: 2:58:48, time: 1.333, data_time: 0.057, memory: 23519, loss_rpn_cls: 0.0405, loss_rpn_bbox: 0.0357, s0.loss_cls: 0.2236, s0.acc: 93.0026, s0.loss_bbox: 0.2537, s0.loss_mask: 0.2470, s1.loss_cls: 0.1076, s1.acc: 93.2504, s1.loss_bbox: 0.1034, s1.loss_mask: 0.1096, s2.loss_cls: 0.0529, s2.acc: 93.3973, s2.loss_bbox: 0.0398, s2.loss_mask: 0.0497, loss: 1.2635, grad_norm: 8.2894\n",
      "2021-05-20 06:05:05,634 - mmdet - INFO - Epoch [8][600/1091]\tlr: 1.000e-04, eta: 2:57:41, time: 1.292, data_time: 0.055, memory: 23519, loss_rpn_cls: 0.0405, loss_rpn_bbox: 0.0338, s0.loss_cls: 0.2340, s0.acc: 92.6068, s0.loss_bbox: 0.2528, s0.loss_mask: 0.2369, s1.loss_cls: 0.1120, s1.acc: 93.0188, s1.loss_bbox: 0.0985, s1.loss_mask: 0.1052, s2.loss_cls: 0.0541, s2.acc: 93.1837, s2.loss_bbox: 0.0377, s2.loss_mask: 0.0486, loss: 1.2540, grad_norm: 6.6085\n",
      "2021-05-20 06:06:10,254 - mmdet - INFO - Epoch [8][650/1091]\tlr: 1.000e-04, eta: 2:56:35, time: 1.292, data_time: 0.053, memory: 23519, loss_rpn_cls: 0.0344, loss_rpn_bbox: 0.0337, s0.loss_cls: 0.2030, s0.acc: 93.4401, s0.loss_bbox: 0.2448, s0.loss_mask: 0.2204, s1.loss_cls: 0.0939, s1.acc: 93.8390, s1.loss_bbox: 0.0996, s1.loss_mask: 0.0985, s2.loss_cls: 0.0454, s2.acc: 94.1502, s2.loss_bbox: 0.0384, s2.loss_mask: 0.0441, loss: 1.1563, grad_norm: 6.7948\n",
      "2021-05-20 06:07:13,602 - mmdet - INFO - Epoch [8][700/1091]\tlr: 1.000e-04, eta: 2:55:27, time: 1.267, data_time: 0.047, memory: 23519, loss_rpn_cls: 0.0361, loss_rpn_bbox: 0.0346, s0.loss_cls: 0.2052, s0.acc: 93.4622, s0.loss_bbox: 0.2260, s0.loss_mask: 0.2257, s1.loss_cls: 0.0975, s1.acc: 93.9630, s1.loss_bbox: 0.0898, s1.loss_mask: 0.0969, s2.loss_cls: 0.0465, s2.acc: 94.0810, s2.loss_bbox: 0.0347, s2.loss_mask: 0.0429, loss: 1.1359, grad_norm: 5.9769\n",
      "2021-05-20 06:08:20,009 - mmdet - INFO - Epoch [8][750/1091]\tlr: 1.000e-04, eta: 2:54:22, time: 1.328, data_time: 0.055, memory: 23519, loss_rpn_cls: 0.0375, loss_rpn_bbox: 0.0404, s0.loss_cls: 0.2376, s0.acc: 92.4661, s0.loss_bbox: 0.2576, s0.loss_mask: 0.2302, s1.loss_cls: 0.1162, s1.acc: 92.6017, s1.loss_bbox: 0.1030, s1.loss_mask: 0.0989, s2.loss_cls: 0.0565, s2.acc: 92.9163, s2.loss_bbox: 0.0387, s2.loss_mask: 0.0447, loss: 1.2613, grad_norm: 7.9081\n",
      "2021-05-20 06:09:23,114 - mmdet - INFO - Epoch [8][800/1091]\tlr: 1.000e-04, eta: 2:53:14, time: 1.262, data_time: 0.053, memory: 23519, loss_rpn_cls: 0.0400, loss_rpn_bbox: 0.0335, s0.loss_cls: 0.1990, s0.acc: 93.5417, s0.loss_bbox: 0.2324, s0.loss_mask: 0.2323, s1.loss_cls: 0.0960, s1.acc: 93.7327, s1.loss_bbox: 0.0934, s1.loss_mask: 0.0997, s2.loss_cls: 0.0465, s2.acc: 93.8835, s2.loss_bbox: 0.0345, s2.loss_mask: 0.0436, loss: 1.1509, grad_norm: 6.1086\n",
      "2021-05-20 06:10:26,622 - mmdet - INFO - Epoch [8][850/1091]\tlr: 1.000e-04, eta: 2:52:07, time: 1.270, data_time: 0.048, memory: 23519, loss_rpn_cls: 0.0391, loss_rpn_bbox: 0.0321, s0.loss_cls: 0.2261, s0.acc: 92.8932, s0.loss_bbox: 0.2366, s0.loss_mask: 0.2362, s1.loss_cls: 0.1078, s1.acc: 93.1067, s1.loss_bbox: 0.0939, s1.loss_mask: 0.1039, s2.loss_cls: 0.0522, s2.acc: 93.2049, s2.loss_bbox: 0.0356, s2.loss_mask: 0.0477, loss: 1.2110, grad_norm: 7.2929\n",
      "2021-05-20 06:11:29,422 - mmdet - INFO - Epoch [8][900/1091]\tlr: 1.000e-04, eta: 2:50:59, time: 1.256, data_time: 0.046, memory: 23519, loss_rpn_cls: 0.0371, loss_rpn_bbox: 0.0360, s0.loss_cls: 0.2177, s0.acc: 92.9219, s0.loss_bbox: 0.2448, s0.loss_mask: 0.2278, s1.loss_cls: 0.1069, s1.acc: 92.9865, s1.loss_bbox: 0.1003, s1.loss_mask: 0.1006, s2.loss_cls: 0.0521, s2.acc: 93.1132, s2.loss_bbox: 0.0386, s2.loss_mask: 0.0468, loss: 1.2088, grad_norm: 6.4187\n"
     ]
    },
    {
     "name": "stderr",
     "output_type": "stream",
     "text": [
      "2021-05-20 06:12:34,656 - mmdet - INFO - Epoch [8][950/1091]\tlr: 1.000e-04, eta: 2:49:53, time: 1.305, data_time: 0.064, memory: 23519, loss_rpn_cls: 0.0384, loss_rpn_bbox: 0.0354, s0.loss_cls: 0.2343, s0.acc: 92.4401, s0.loss_bbox: 0.2659, s0.loss_mask: 0.2405, s1.loss_cls: 0.1116, s1.acc: 92.6893, s1.loss_bbox: 0.1076, s1.loss_mask: 0.1083, s2.loss_cls: 0.0550, s2.acc: 92.8293, s2.loss_bbox: 0.0410, s2.loss_mask: 0.0489, loss: 1.2870, grad_norm: 6.7616\n",
      "2021-05-20 06:13:37,559 - mmdet - INFO - Epoch [8][1000/1091]\tlr: 1.000e-04, eta: 2:48:45, time: 1.258, data_time: 0.055, memory: 23519, loss_rpn_cls: 0.0479, loss_rpn_bbox: 0.0367, s0.loss_cls: 0.2335, s0.acc: 92.8008, s0.loss_bbox: 0.2435, s0.loss_mask: 0.2264, s1.loss_cls: 0.1107, s1.acc: 93.1266, s1.loss_bbox: 0.0977, s1.loss_mask: 0.0994, s2.loss_cls: 0.0536, s2.acc: 93.1706, s2.loss_bbox: 0.0374, s2.loss_mask: 0.0452, loss: 1.2320, grad_norm: 6.0721\n",
      "2021-05-20 06:14:42,346 - mmdet - INFO - Epoch [8][1050/1091]\tlr: 1.000e-04, eta: 2:47:39, time: 1.296, data_time: 0.050, memory: 23519, loss_rpn_cls: 0.0405, loss_rpn_bbox: 0.0311, s0.loss_cls: 0.2197, s0.acc: 93.1068, s0.loss_bbox: 0.2381, s0.loss_mask: 0.2325, s1.loss_cls: 0.1061, s1.acc: 93.3795, s1.loss_bbox: 0.0963, s1.loss_mask: 0.1010, s2.loss_cls: 0.0509, s2.acc: 93.4403, s2.loss_bbox: 0.0368, s2.loss_mask: 0.0445, loss: 1.1975, grad_norm: 7.3992\n",
      "2021-05-20 06:15:34,676 - mmdet - INFO - Saving checkpoint at 8 epochs\n"
     ]
    },
    {
     "name": "stdout",
     "output_type": "stream",
     "text": [
      "[>>>>>>>>>>>>>>>>>>>>>>>>>>>>>] 655/655, 3.0 task/s, elapsed: 221s, ETA:     0s"
     ]
    },
    {
     "name": "stderr",
     "output_type": "stream",
     "text": [
      "2021-05-20 06:19:22,945 - mmdet - INFO - Evaluating bbox...\n"
     ]
    },
    {
     "name": "stdout",
     "output_type": "stream",
     "text": [
      "Loading and preparing results...\n",
      "DONE (t=0.72s)\n",
      "creating index...\n",
      "index created!\n",
      "Running per image evaluation...\n",
      "Evaluate annotation type *bbox*\n",
      "DONE (t=7.44s).\n",
      "Accumulating evaluation results...\n",
      "DONE (t=1.10s).\n",
      "Average Precision  (AP) @[ IoU=0.50:0.95 | area=   all | maxDets=100 ] = 0.444\n",
      "Average Precision  (AP) @[ IoU=0.50      | area=   all | maxDets=1000 ] = 0.586\n",
      "Average Precision  (AP) @[ IoU=0.75      | area=   all | maxDets=1000 ] = 0.477\n",
      "Average Precision  (AP) @[ IoU=0.50:0.95 | area= small | maxDets=1000 ] = 0.143\n",
      "Average Precision  (AP) @[ IoU=0.50:0.95 | area=medium | maxDets=1000 ] = 0.406\n",
      "Average Precision  (AP) @[ IoU=0.50:0.95 | area= large | maxDets=1000 ] = 0.721\n",
      "Average Recall     (AR) @[ IoU=0.50:0.95 | area=   all | maxDets=100 ] = 0.565\n",
      "Average Recall     (AR) @[ IoU=0.50:0.95 | area=   all | maxDets=300 ] = 0.565\n",
      "Average Recall     (AR) @[ IoU=0.50:0.95 | area=   all | maxDets=1000 ] = 0.565\n",
      "Average Recall     (AR) @[ IoU=0.50:0.95 | area= small | maxDets=1000 ] = 0.241\n",
      "Average Recall     (AR) @[ IoU=0.50:0.95 | area=medium | maxDets=1000 ] = 0.565\n",
      "Average Recall     (AR) @[ IoU=0.50:0.95 | area= large | maxDets=1000 ] = 0.800\n"
     ]
    },
    {
     "name": "stderr",
     "output_type": "stream",
     "text": [
      "2021-05-20 06:19:37,722 - mmdet - INFO - Now best checkpoint is epoch_8.pth.Best bbox_mAP_50 is 0.5860\n",
      "2021-05-20 06:19:37,755 - mmdet - INFO - Epoch(val) [8][1091]\tbbox_mAP: 0.4440, bbox_mAP_50: 0.5860, bbox_mAP_75: 0.4770, bbox_mAP_s: 0.1430, bbox_mAP_m: 0.4060, bbox_mAP_l: 0.7210, bbox_mAP_copypaste: 0.444 0.586 0.477 0.143 0.406 0.721\n",
      "2021-05-20 06:20:45,296 - mmdet - INFO - Epoch [9][50/1091]\tlr: 1.000e-05, eta: 2:44:55, time: 1.351, data_time: 0.108, memory: 23519, loss_rpn_cls: 0.0334, loss_rpn_bbox: 0.0296, s0.loss_cls: 0.1939, s0.acc: 93.5182, s0.loss_bbox: 0.2355, s0.loss_mask: 0.2279, s1.loss_cls: 0.0908, s1.acc: 93.8781, s1.loss_bbox: 0.0958, s1.loss_mask: 0.0989, s2.loss_cls: 0.0438, s2.acc: 94.1199, s2.loss_bbox: 0.0372, s2.loss_mask: 0.0439, loss: 1.1307, grad_norm: 5.8696\n",
      "2021-05-20 06:21:51,710 - mmdet - INFO - Epoch [9][100/1091]\tlr: 1.000e-05, eta: 2:43:51, time: 1.328, data_time: 0.059, memory: 23519, loss_rpn_cls: 0.0368, loss_rpn_bbox: 0.0369, s0.loss_cls: 0.2187, s0.acc: 92.6654, s0.loss_bbox: 0.2668, s0.loss_mask: 0.2398, s1.loss_cls: 0.1028, s1.acc: 93.0065, s1.loss_bbox: 0.1095, s1.loss_mask: 0.1038, s2.loss_cls: 0.0499, s2.acc: 93.1020, s2.loss_bbox: 0.0406, s2.loss_mask: 0.0462, loss: 1.2517, grad_norm: 6.8145\n",
      "2021-05-20 06:22:56,832 - mmdet - INFO - Epoch [9][150/1091]\tlr: 1.000e-05, eta: 2:42:45, time: 1.302, data_time: 0.064, memory: 23519, loss_rpn_cls: 0.0347, loss_rpn_bbox: 0.0387, s0.loss_cls: 0.2072, s0.acc: 93.1445, s0.loss_bbox: 0.2379, s0.loss_mask: 0.2316, s1.loss_cls: 0.0983, s1.acc: 93.5143, s1.loss_bbox: 0.0960, s1.loss_mask: 0.1009, s2.loss_cls: 0.0478, s2.acc: 93.4451, s2.loss_bbox: 0.0366, s2.loss_mask: 0.0451, loss: 1.1747, grad_norm: 5.6233\n",
      "2021-05-20 06:24:02,036 - mmdet - INFO - Epoch [9][200/1091]\tlr: 1.000e-05, eta: 2:41:40, time: 1.304, data_time: 0.052, memory: 23519, loss_rpn_cls: 0.0296, loss_rpn_bbox: 0.0273, s0.loss_cls: 0.1914, s0.acc: 93.8411, s0.loss_bbox: 0.2286, s0.loss_mask: 0.2390, s1.loss_cls: 0.0884, s1.acc: 94.2830, s1.loss_bbox: 0.0939, s1.loss_mask: 0.1055, s2.loss_cls: 0.0439, s2.acc: 94.3060, s2.loss_bbox: 0.0366, s2.loss_mask: 0.0479, loss: 1.1320, grad_norm: 6.1449\n",
      "2021-05-20 06:25:04,392 - mmdet - INFO - Epoch [9][250/1091]\tlr: 1.000e-05, eta: 2:40:33, time: 1.247, data_time: 0.041, memory: 23519, loss_rpn_cls: 0.0259, loss_rpn_bbox: 0.0269, s0.loss_cls: 0.1522, s0.acc: 94.8672, s0.loss_bbox: 0.1979, s0.loss_mask: 0.1987, s1.loss_cls: 0.0722, s1.acc: 95.2154, s1.loss_bbox: 0.0813, s1.loss_mask: 0.0868, s2.loss_cls: 0.0361, s2.acc: 95.2646, s2.loss_bbox: 0.0330, s2.loss_mask: 0.0392, loss: 0.9503, grad_norm: 5.5097\n",
      "2021-05-20 06:26:09,160 - mmdet - INFO - Epoch [9][300/1091]\tlr: 1.000e-05, eta: 2:39:27, time: 1.295, data_time: 0.062, memory: 23519, loss_rpn_cls: 0.0282, loss_rpn_bbox: 0.0294, s0.loss_cls: 0.1691, s0.acc: 94.3932, s0.loss_bbox: 0.2149, s0.loss_mask: 0.2065, s1.loss_cls: 0.0794, s1.acc: 94.7686, s1.loss_bbox: 0.0868, s1.loss_mask: 0.0907, s2.loss_cls: 0.0382, s2.acc: 94.8414, s2.loss_bbox: 0.0335, s2.loss_mask: 0.0410, loss: 1.0178, grad_norm: 5.5100\n",
      "2021-05-20 06:27:12,464 - mmdet - INFO - Epoch [9][350/1091]\tlr: 1.000e-05, eta: 2:38:20, time: 1.266, data_time: 0.050, memory: 23519, loss_rpn_cls: 0.0297, loss_rpn_bbox: 0.0277, s0.loss_cls: 0.1832, s0.acc: 93.9141, s0.loss_bbox: 0.2250, s0.loss_mask: 0.2237, s1.loss_cls: 0.0846, s1.acc: 94.5494, s1.loss_bbox: 0.0898, s1.loss_mask: 0.0969, s2.loss_cls: 0.0406, s2.acc: 94.5997, s2.loss_bbox: 0.0343, s2.loss_mask: 0.0438, loss: 1.0793, grad_norm: 5.7031\n",
      "2021-05-20 06:28:18,121 - mmdet - INFO - Epoch [9][400/1091]\tlr: 1.000e-05, eta: 2:37:16, time: 1.313, data_time: 0.063, memory: 23519, loss_rpn_cls: 0.0395, loss_rpn_bbox: 0.0365, s0.loss_cls: 0.2153, s0.acc: 92.9531, s0.loss_bbox: 0.2499, s0.loss_mask: 0.2180, s1.loss_cls: 0.1046, s1.acc: 93.1819, s1.loss_bbox: 0.1026, s1.loss_mask: 0.0948, s2.loss_cls: 0.0510, s2.acc: 93.2077, s2.loss_bbox: 0.0390, s2.loss_mask: 0.0419, loss: 1.1932, grad_norm: 6.5223\n",
      "2021-05-20 06:29:20,624 - mmdet - INFO - Epoch [9][450/1091]\tlr: 1.000e-05, eta: 2:36:08, time: 1.250, data_time: 0.044, memory: 23519, loss_rpn_cls: 0.0283, loss_rpn_bbox: 0.0267, s0.loss_cls: 0.1625, s0.acc: 94.8945, s0.loss_bbox: 0.1943, s0.loss_mask: 0.2029, s1.loss_cls: 0.0788, s1.acc: 95.0896, s1.loss_bbox: 0.0797, s1.loss_mask: 0.0885, s2.loss_cls: 0.0392, s2.acc: 94.8212, s2.loss_bbox: 0.0304, s2.loss_mask: 0.0383, loss: 0.9695, grad_norm: 5.9839\n",
      "2021-05-20 06:30:25,153 - mmdet - INFO - Epoch [9][500/1091]\tlr: 1.000e-05, eta: 2:35:03, time: 1.291, data_time: 0.048, memory: 23519, loss_rpn_cls: 0.0342, loss_rpn_bbox: 0.0307, s0.loss_cls: 0.2029, s0.acc: 93.4505, s0.loss_bbox: 0.2360, s0.loss_mask: 0.2123, s1.loss_cls: 0.0950, s1.acc: 93.8025, s1.loss_bbox: 0.0960, s1.loss_mask: 0.0925, s2.loss_cls: 0.0473, s2.acc: 93.7116, s2.loss_bbox: 0.0386, s2.loss_mask: 0.0428, loss: 1.1284, grad_norm: 6.1861\n",
      "2021-05-20 06:31:32,259 - mmdet - INFO - Epoch [9][550/1091]\tlr: 1.000e-05, eta: 2:33:59, time: 1.342, data_time: 0.070, memory: 23519, loss_rpn_cls: 0.0360, loss_rpn_bbox: 0.0331, s0.loss_cls: 0.1882, s0.acc: 93.7031, s0.loss_bbox: 0.2243, s0.loss_mask: 0.2185, s1.loss_cls: 0.0901, s1.acc: 94.0693, s1.loss_bbox: 0.0919, s1.loss_mask: 0.0975, s2.loss_cls: 0.0440, s2.acc: 94.3001, s2.loss_bbox: 0.0350, s2.loss_mask: 0.0444, loss: 1.1030, grad_norm: 6.1880\n",
      "2021-05-20 06:32:37,543 - mmdet - INFO - Epoch [9][600/1091]\tlr: 1.000e-05, eta: 2:32:54, time: 1.306, data_time: 0.059, memory: 23519, loss_rpn_cls: 0.0322, loss_rpn_bbox: 0.0349, s0.loss_cls: 0.2066, s0.acc: 93.1289, s0.loss_bbox: 0.2506, s0.loss_mask: 0.2255, s1.loss_cls: 0.0979, s1.acc: 93.5063, s1.loss_bbox: 0.0989, s1.loss_mask: 0.0978, s2.loss_cls: 0.0470, s2.acc: 93.6857, s2.loss_bbox: 0.0372, s2.loss_mask: 0.0440, loss: 1.1724, grad_norm: 6.1315\n",
      "2021-05-20 06:33:43,439 - mmdet - INFO - Epoch [9][650/1091]\tlr: 1.000e-05, eta: 2:31:49, time: 1.318, data_time: 0.068, memory: 23519, loss_rpn_cls: 0.0328, loss_rpn_bbox: 0.0378, s0.loss_cls: 0.2237, s0.acc: 92.8724, s0.loss_bbox: 0.2621, s0.loss_mask: 0.2149, s1.loss_cls: 0.1033, s1.acc: 93.3661, s1.loss_bbox: 0.1079, s1.loss_mask: 0.0928, s2.loss_cls: 0.0490, s2.acc: 93.6532, s2.loss_bbox: 0.0417, s2.loss_mask: 0.0416, loss: 1.2076, grad_norm: 6.4103\n",
      "2021-05-20 06:34:47,838 - mmdet - INFO - Epoch [9][700/1091]\tlr: 1.000e-05, eta: 2:30:43, time: 1.288, data_time: 0.053, memory: 23519, loss_rpn_cls: 0.0309, loss_rpn_bbox: 0.0271, s0.loss_cls: 0.2024, s0.acc: 93.5521, s0.loss_bbox: 0.2472, s0.loss_mask: 0.2086, s1.loss_cls: 0.0947, s1.acc: 94.0502, s1.loss_bbox: 0.0980, s1.loss_mask: 0.0898, s2.loss_cls: 0.0449, s2.acc: 94.2228, s2.loss_bbox: 0.0374, s2.loss_mask: 0.0392, loss: 1.1201, grad_norm: 6.0595\n",
      "2021-05-20 06:35:54,074 - mmdet - INFO - Epoch [9][750/1091]\tlr: 1.000e-05, eta: 2:29:39, time: 1.325, data_time: 0.061, memory: 23519, loss_rpn_cls: 0.0311, loss_rpn_bbox: 0.0318, s0.loss_cls: 0.2010, s0.acc: 93.5482, s0.loss_bbox: 0.2399, s0.loss_mask: 0.2112, s1.loss_cls: 0.0922, s1.acc: 94.1067, s1.loss_bbox: 0.0964, s1.loss_mask: 0.0901, s2.loss_cls: 0.0448, s2.acc: 94.3266, s2.loss_bbox: 0.0367, s2.loss_mask: 0.0395, loss: 1.1146, grad_norm: 6.0651\n",
      "2021-05-20 06:36:58,155 - mmdet - INFO - Epoch [9][800/1091]\tlr: 1.000e-05, eta: 2:28:33, time: 1.282, data_time: 0.057, memory: 23519, loss_rpn_cls: 0.0360, loss_rpn_bbox: 0.0288, s0.loss_cls: 0.1942, s0.acc: 93.6055, s0.loss_bbox: 0.2287, s0.loss_mask: 0.2237, s1.loss_cls: 0.0905, s1.acc: 93.9444, s1.loss_bbox: 0.0912, s1.loss_mask: 0.1002, s2.loss_cls: 0.0436, s2.acc: 94.1180, s2.loss_bbox: 0.0349, s2.loss_mask: 0.0464, loss: 1.1182, grad_norm: 6.0450\n",
      "2021-05-20 06:38:01,423 - mmdet - INFO - Epoch [9][850/1091]\tlr: 1.000e-05, eta: 2:27:26, time: 1.265, data_time: 0.049, memory: 23519, loss_rpn_cls: 0.0271, loss_rpn_bbox: 0.0268, s0.loss_cls: 0.1637, s0.acc: 94.5950, s0.loss_bbox: 0.2093, s0.loss_mask: 0.2003, s1.loss_cls: 0.0765, s1.acc: 94.9088, s1.loss_bbox: 0.0878, s1.loss_mask: 0.0865, s2.loss_cls: 0.0371, s2.acc: 94.9676, s2.loss_bbox: 0.0353, s2.loss_mask: 0.0391, loss: 0.9894, grad_norm: 6.1429\n",
      "2021-05-20 06:39:06,101 - mmdet - INFO - Epoch [9][900/1091]\tlr: 1.000e-05, eta: 2:26:21, time: 1.294, data_time: 0.056, memory: 23519, loss_rpn_cls: 0.0298, loss_rpn_bbox: 0.0303, s0.loss_cls: 0.1882, s0.acc: 93.6771, s0.loss_bbox: 0.2320, s0.loss_mask: 0.2153, s1.loss_cls: 0.0868, s1.acc: 94.2128, s1.loss_bbox: 0.0937, s1.loss_mask: 0.0931, s2.loss_cls: 0.0413, s2.acc: 94.4445, s2.loss_bbox: 0.0357, s2.loss_mask: 0.0423, loss: 1.0885, grad_norm: 6.0362\n"
     ]
    },
    {
     "name": "stderr",
     "output_type": "stream",
     "text": [
      "2021-05-20 06:40:09,726 - mmdet - INFO - Epoch [9][950/1091]\tlr: 1.000e-05, eta: 2:25:15, time: 1.272, data_time: 0.045, memory: 23519, loss_rpn_cls: 0.0283, loss_rpn_bbox: 0.0246, s0.loss_cls: 0.1840, s0.acc: 94.0286, s0.loss_bbox: 0.2161, s0.loss_mask: 0.2130, s1.loss_cls: 0.0845, s1.acc: 94.5003, s1.loss_bbox: 0.0890, s1.loss_mask: 0.0928, s2.loss_cls: 0.0419, s2.acc: 94.2565, s2.loss_bbox: 0.0340, s2.loss_mask: 0.0412, loss: 1.0492, grad_norm: 6.7490\n",
      "2021-05-20 06:41:12,620 - mmdet - INFO - Epoch [9][1000/1091]\tlr: 1.000e-05, eta: 2:24:08, time: 1.258, data_time: 0.046, memory: 23519, loss_rpn_cls: 0.0264, loss_rpn_bbox: 0.0298, s0.loss_cls: 0.1731, s0.acc: 94.4219, s0.loss_bbox: 0.2257, s0.loss_mask: 0.2062, s1.loss_cls: 0.0787, s1.acc: 94.9157, s1.loss_bbox: 0.0932, s1.loss_mask: 0.0883, s2.loss_cls: 0.0383, s2.acc: 94.8892, s2.loss_bbox: 0.0361, s2.loss_mask: 0.0398, loss: 1.0355, grad_norm: 5.9731\n",
      "2021-05-20 06:42:17,172 - mmdet - INFO - Epoch [9][1050/1091]\tlr: 1.000e-05, eta: 2:23:02, time: 1.291, data_time: 0.052, memory: 23519, loss_rpn_cls: 0.0339, loss_rpn_bbox: 0.0328, s0.loss_cls: 0.1870, s0.acc: 93.9440, s0.loss_bbox: 0.2235, s0.loss_mask: 0.2216, s1.loss_cls: 0.0866, s1.acc: 94.4288, s1.loss_bbox: 0.0897, s1.loss_mask: 0.0959, s2.loss_cls: 0.0413, s2.acc: 94.4936, s2.loss_bbox: 0.0345, s2.loss_mask: 0.0430, loss: 1.0898, grad_norm: 6.0741\n",
      "2021-05-20 06:43:10,100 - mmdet - INFO - Saving checkpoint at 9 epochs\n"
     ]
    },
    {
     "name": "stdout",
     "output_type": "stream",
     "text": [
      "[>>>>>>>>>>>>>>>>>>>>>>>>>>>>>] 655/655, 3.1 task/s, elapsed: 213s, ETA:     0s"
     ]
    },
    {
     "name": "stderr",
     "output_type": "stream",
     "text": [
      "2021-05-20 06:46:49,909 - mmdet - INFO - Evaluating bbox...\n"
     ]
    },
    {
     "name": "stdout",
     "output_type": "stream",
     "text": [
      "Loading and preparing results...\n",
      "DONE (t=0.69s)\n",
      "creating index...\n",
      "index created!\n",
      "Running per image evaluation...\n",
      "Evaluate annotation type *bbox*\n",
      "DONE (t=7.18s).\n",
      "Accumulating evaluation results...\n",
      "DONE (t=0.96s).\n",
      "Average Precision  (AP) @[ IoU=0.50:0.95 | area=   all | maxDets=100 ] = 0.499\n",
      "Average Precision  (AP) @[ IoU=0.50      | area=   all | maxDets=1000 ] = 0.638\n",
      "Average Precision  (AP) @[ IoU=0.75      | area=   all | maxDets=1000 ] = 0.533\n",
      "Average Precision  (AP) @[ IoU=0.50:0.95 | area= small | maxDets=1000 ] = 0.188\n",
      "Average Precision  (AP) @[ IoU=0.50:0.95 | area=medium | maxDets=1000 ] = 0.483\n",
      "Average Precision  (AP) @[ IoU=0.50:0.95 | area= large | maxDets=1000 ] = 0.768\n",
      "Average Recall     (AR) @[ IoU=0.50:0.95 | area=   all | maxDets=100 ] = 0.607\n",
      "Average Recall     (AR) @[ IoU=0.50:0.95 | area=   all | maxDets=300 ] = 0.607\n",
      "Average Recall     (AR) @[ IoU=0.50:0.95 | area=   all | maxDets=1000 ] = 0.607\n",
      "Average Recall     (AR) @[ IoU=0.50:0.95 | area= small | maxDets=1000 ] = 0.294\n",
      "Average Recall     (AR) @[ IoU=0.50:0.95 | area=medium | maxDets=1000 ] = 0.620\n",
      "Average Recall     (AR) @[ IoU=0.50:0.95 | area= large | maxDets=1000 ] = 0.826\n"
     ]
    },
    {
     "name": "stderr",
     "output_type": "stream",
     "text": [
      "2021-05-20 06:47:03,947 - mmdet - INFO - Now best checkpoint is epoch_9.pth.Best bbox_mAP_50 is 0.6380\n",
      "2021-05-20 06:47:03,992 - mmdet - INFO - Epoch(val) [9][1091]\tbbox_mAP: 0.4990, bbox_mAP_50: 0.6380, bbox_mAP_75: 0.5330, bbox_mAP_s: 0.1880, bbox_mAP_m: 0.4830, bbox_mAP_l: 0.7680, bbox_mAP_copypaste: 0.499 0.638 0.533 0.188 0.483 0.768\n",
      "2021-05-20 06:48:11,617 - mmdet - INFO - Epoch [10][50/1091]\tlr: 1.000e-05, eta: 2:20:30, time: 1.352, data_time: 0.098, memory: 23519, loss_rpn_cls: 0.0289, loss_rpn_bbox: 0.0285, s0.loss_cls: 0.1754, s0.acc: 94.3008, s0.loss_bbox: 0.2207, s0.loss_mask: 0.2052, s1.loss_cls: 0.0810, s1.acc: 94.7771, s1.loss_bbox: 0.0883, s1.loss_mask: 0.0905, s2.loss_cls: 0.0399, s2.acc: 94.8529, s2.loss_bbox: 0.0351, s2.loss_mask: 0.0410, loss: 1.0343, grad_norm: 5.6357\n",
      "2021-05-20 06:49:17,067 - mmdet - INFO - Epoch [10][100/1091]\tlr: 1.000e-05, eta: 2:19:26, time: 1.309, data_time: 0.053, memory: 23519, loss_rpn_cls: 0.0306, loss_rpn_bbox: 0.0324, s0.loss_cls: 0.1667, s0.acc: 94.3060, s0.loss_bbox: 0.2225, s0.loss_mask: 0.2065, s1.loss_cls: 0.0783, s1.acc: 94.5771, s1.loss_bbox: 0.0909, s1.loss_mask: 0.0926, s2.loss_cls: 0.0385, s2.acc: 94.7012, s2.loss_bbox: 0.0352, s2.loss_mask: 0.0412, loss: 1.0354, grad_norm: 6.8059\n",
      "2021-05-20 06:50:21,220 - mmdet - INFO - Epoch [10][150/1091]\tlr: 1.000e-05, eta: 2:18:20, time: 1.283, data_time: 0.049, memory: 23519, loss_rpn_cls: 0.0266, loss_rpn_bbox: 0.0284, s0.loss_cls: 0.1693, s0.acc: 94.3789, s0.loss_bbox: 0.2147, s0.loss_mask: 0.1898, s1.loss_cls: 0.0771, s1.acc: 94.8150, s1.loss_bbox: 0.0870, s1.loss_mask: 0.0835, s2.loss_cls: 0.0385, s2.acc: 94.9474, s2.loss_bbox: 0.0341, s2.loss_mask: 0.0378, loss: 0.9870, grad_norm: 5.7610\n",
      "2021-05-20 06:51:24,659 - mmdet - INFO - Epoch [10][200/1091]\tlr: 1.000e-05, eta: 2:17:15, time: 1.269, data_time: 0.037, memory: 23519, loss_rpn_cls: 0.0196, loss_rpn_bbox: 0.0203, s0.loss_cls: 0.1567, s0.acc: 94.9141, s0.loss_bbox: 0.1874, s0.loss_mask: 0.1835, s1.loss_cls: 0.0732, s1.acc: 95.2060, s1.loss_bbox: 0.0758, s1.loss_mask: 0.0818, s2.loss_cls: 0.0348, s2.acc: 95.5327, s2.loss_bbox: 0.0296, s2.loss_mask: 0.0371, loss: 0.8998, grad_norm: 6.5257\n",
      "2021-05-20 06:52:28,635 - mmdet - INFO - Epoch [10][250/1091]\tlr: 1.000e-05, eta: 2:16:09, time: 1.280, data_time: 0.051, memory: 23519, loss_rpn_cls: 0.0268, loss_rpn_bbox: 0.0257, s0.loss_cls: 0.1789, s0.acc: 94.1406, s0.loss_bbox: 0.2206, s0.loss_mask: 0.2073, s1.loss_cls: 0.0837, s1.acc: 94.5053, s1.loss_bbox: 0.0910, s1.loss_mask: 0.0912, s2.loss_cls: 0.0407, s2.acc: 94.6673, s2.loss_bbox: 0.0359, s2.loss_mask: 0.0414, loss: 1.0433, grad_norm: 6.4297\n",
      "2021-05-20 06:53:33,338 - mmdet - INFO - Epoch [10][300/1091]\tlr: 1.000e-05, eta: 2:15:04, time: 1.294, data_time: 0.052, memory: 23519, loss_rpn_cls: 0.0303, loss_rpn_bbox: 0.0306, s0.loss_cls: 0.1771, s0.acc: 93.8424, s0.loss_bbox: 0.2320, s0.loss_mask: 0.2087, s1.loss_cls: 0.0838, s1.acc: 94.1355, s1.loss_bbox: 0.0927, s1.loss_mask: 0.0929, s2.loss_cls: 0.0409, s2.acc: 94.1834, s2.loss_bbox: 0.0350, s2.loss_mask: 0.0414, loss: 1.0654, grad_norm: 6.1484\n",
      "2021-05-20 06:54:37,132 - mmdet - INFO - Epoch [10][350/1091]\tlr: 1.000e-05, eta: 2:13:59, time: 1.276, data_time: 0.053, memory: 23519, loss_rpn_cls: 0.0285, loss_rpn_bbox: 0.0294, s0.loss_cls: 0.1662, s0.acc: 94.5365, s0.loss_bbox: 0.2127, s0.loss_mask: 0.1996, s1.loss_cls: 0.0779, s1.acc: 94.8295, s1.loss_bbox: 0.0866, s1.loss_mask: 0.0875, s2.loss_cls: 0.0375, s2.acc: 94.9574, s2.loss_bbox: 0.0332, s2.loss_mask: 0.0398, loss: 0.9989, grad_norm: 5.5613\n",
      "2021-05-20 06:55:41,606 - mmdet - INFO - Epoch [10][400/1091]\tlr: 1.000e-05, eta: 2:12:53, time: 1.289, data_time: 0.053, memory: 23519, loss_rpn_cls: 0.0310, loss_rpn_bbox: 0.0299, s0.loss_cls: 0.1908, s0.acc: 93.5690, s0.loss_bbox: 0.2306, s0.loss_mask: 0.2068, s1.loss_cls: 0.0897, s1.acc: 93.8391, s1.loss_bbox: 0.0936, s1.loss_mask: 0.0904, s2.loss_cls: 0.0439, s2.acc: 93.8462, s2.loss_bbox: 0.0356, s2.loss_mask: 0.0414, loss: 1.0836, grad_norm: 6.3237\n",
      "2021-05-20 06:56:44,961 - mmdet - INFO - Epoch [10][450/1091]\tlr: 1.000e-05, eta: 2:11:48, time: 1.267, data_time: 0.052, memory: 23519, loss_rpn_cls: 0.0313, loss_rpn_bbox: 0.0271, s0.loss_cls: 0.1699, s0.acc: 94.2721, s0.loss_bbox: 0.2195, s0.loss_mask: 0.1972, s1.loss_cls: 0.0782, s1.acc: 94.6997, s1.loss_bbox: 0.0886, s1.loss_mask: 0.0881, s2.loss_cls: 0.0370, s2.acc: 94.9520, s2.loss_bbox: 0.0344, s2.loss_mask: 0.0395, loss: 1.0109, grad_norm: 6.0299\n",
      "2021-05-20 06:57:49,069 - mmdet - INFO - Epoch [10][500/1091]\tlr: 1.000e-05, eta: 2:10:42, time: 1.282, data_time: 0.056, memory: 23519, loss_rpn_cls: 0.0300, loss_rpn_bbox: 0.0264, s0.loss_cls: 0.1582, s0.acc: 94.6263, s0.loss_bbox: 0.1950, s0.loss_mask: 0.1980, s1.loss_cls: 0.0736, s1.acc: 95.1288, s1.loss_bbox: 0.0824, s1.loss_mask: 0.0870, s2.loss_cls: 0.0371, s2.acc: 95.1730, s2.loss_bbox: 0.0325, s2.loss_mask: 0.0398, loss: 0.9600, grad_norm: 6.1500\n",
      "2021-05-20 06:58:55,152 - mmdet - INFO - Epoch [10][550/1091]\tlr: 1.000e-05, eta: 2:09:38, time: 1.322, data_time: 0.057, memory: 23519, loss_rpn_cls: 0.0272, loss_rpn_bbox: 0.0278, s0.loss_cls: 0.1692, s0.acc: 94.2135, s0.loss_bbox: 0.2115, s0.loss_mask: 0.2026, s1.loss_cls: 0.0801, s1.acc: 94.5134, s1.loss_bbox: 0.0875, s1.loss_mask: 0.0891, s2.loss_cls: 0.0389, s2.acc: 94.4904, s2.loss_bbox: 0.0339, s2.loss_mask: 0.0402, loss: 1.0081, grad_norm: 5.6769\n",
      "2021-05-20 06:59:59,882 - mmdet - INFO - Epoch [10][600/1091]\tlr: 1.000e-05, eta: 2:08:33, time: 1.295, data_time: 0.050, memory: 23519, loss_rpn_cls: 0.0273, loss_rpn_bbox: 0.0285, s0.loss_cls: 0.1801, s0.acc: 94.0560, s0.loss_bbox: 0.2209, s0.loss_mask: 0.2234, s1.loss_cls: 0.0843, s1.acc: 94.3534, s1.loss_bbox: 0.0867, s1.loss_mask: 0.0980, s2.loss_cls: 0.0412, s2.acc: 94.2368, s2.loss_bbox: 0.0334, s2.loss_mask: 0.0441, loss: 1.0680, grad_norm: 5.8290\n",
      "2021-05-20 07:01:04,278 - mmdet - INFO - Epoch [10][650/1091]\tlr: 1.000e-05, eta: 2:07:28, time: 1.288, data_time: 0.050, memory: 23519, loss_rpn_cls: 0.0309, loss_rpn_bbox: 0.0324, s0.loss_cls: 0.1837, s0.acc: 93.8333, s0.loss_bbox: 0.2405, s0.loss_mask: 0.2119, s1.loss_cls: 0.0860, s1.acc: 94.4165, s1.loss_bbox: 0.0984, s1.loss_mask: 0.0926, s2.loss_cls: 0.0419, s2.acc: 94.3235, s2.loss_bbox: 0.0381, s2.loss_mask: 0.0412, loss: 1.0975, grad_norm: 6.3234\n",
      "2021-05-20 07:02:07,015 - mmdet - INFO - Epoch [10][700/1091]\tlr: 1.000e-05, eta: 2:06:22, time: 1.255, data_time: 0.047, memory: 23519, loss_rpn_cls: 0.0258, loss_rpn_bbox: 0.0255, s0.loss_cls: 0.1763, s0.acc: 94.1042, s0.loss_bbox: 0.2178, s0.loss_mask: 0.2063, s1.loss_cls: 0.0802, s1.acc: 94.7199, s1.loss_bbox: 0.0896, s1.loss_mask: 0.0896, s2.loss_cls: 0.0404, s2.acc: 94.5970, s2.loss_bbox: 0.0355, s2.loss_mask: 0.0412, loss: 1.0282, grad_norm: 6.3274\n",
      "2021-05-20 07:03:13,022 - mmdet - INFO - Epoch [10][750/1091]\tlr: 1.000e-05, eta: 2:05:18, time: 1.320, data_time: 0.068, memory: 23519, loss_rpn_cls: 0.0376, loss_rpn_bbox: 0.0330, s0.loss_cls: 0.1849, s0.acc: 93.8763, s0.loss_bbox: 0.2252, s0.loss_mask: 0.2096, s1.loss_cls: 0.0876, s1.acc: 94.1636, s1.loss_bbox: 0.0927, s1.loss_mask: 0.0921, s2.loss_cls: 0.0427, s2.acc: 94.1942, s2.loss_bbox: 0.0355, s2.loss_mask: 0.0417, loss: 1.0826, grad_norm: 6.1791\n",
      "2021-05-20 07:04:17,678 - mmdet - INFO - Epoch [10][800/1091]\tlr: 1.000e-05, eta: 2:04:13, time: 1.293, data_time: 0.061, memory: 23519, loss_rpn_cls: 0.0272, loss_rpn_bbox: 0.0314, s0.loss_cls: 0.1849, s0.acc: 93.7513, s0.loss_bbox: 0.2291, s0.loss_mask: 0.2104, s1.loss_cls: 0.0870, s1.acc: 94.0709, s1.loss_bbox: 0.0934, s1.loss_mask: 0.0944, s2.loss_cls: 0.0438, s2.acc: 93.8428, s2.loss_bbox: 0.0362, s2.loss_mask: 0.0424, loss: 1.0802, grad_norm: 6.3878\n",
      "2021-05-20 07:05:23,804 - mmdet - INFO - Epoch [10][850/1091]\tlr: 1.000e-05, eta: 2:03:09, time: 1.322, data_time: 0.063, memory: 23519, loss_rpn_cls: 0.0348, loss_rpn_bbox: 0.0312, s0.loss_cls: 0.1858, s0.acc: 93.9089, s0.loss_bbox: 0.2407, s0.loss_mask: 0.2001, s1.loss_cls: 0.0864, s1.acc: 94.2338, s1.loss_bbox: 0.0964, s1.loss_mask: 0.0880, s2.loss_cls: 0.0421, s2.acc: 94.1763, s2.loss_bbox: 0.0377, s2.loss_mask: 0.0397, loss: 1.0828, grad_norm: 6.1892\n",
      "2021-05-20 07:06:29,056 - mmdet - INFO - Epoch [10][900/1091]\tlr: 1.000e-05, eta: 2:02:04, time: 1.305, data_time: 0.063, memory: 23519, loss_rpn_cls: 0.0370, loss_rpn_bbox: 0.0357, s0.loss_cls: 0.1911, s0.acc: 93.6081, s0.loss_bbox: 0.2406, s0.loss_mask: 0.2045, s1.loss_cls: 0.0883, s1.acc: 93.9713, s1.loss_bbox: 0.0956, s1.loss_mask: 0.0903, s2.loss_cls: 0.0421, s2.acc: 94.2091, s2.loss_bbox: 0.0373, s2.loss_mask: 0.0417, loss: 1.1043, grad_norm: 12.2837\n"
     ]
    },
    {
     "name": "stderr",
     "output_type": "stream",
     "text": [
      "2021-05-20 07:07:33,435 - mmdet - INFO - Epoch [10][950/1091]\tlr: 1.000e-05, eta: 2:00:59, time: 1.288, data_time: 0.058, memory: 23519, loss_rpn_cls: 0.0279, loss_rpn_bbox: 0.0297, s0.loss_cls: 0.1817, s0.acc: 94.1523, s0.loss_bbox: 0.2252, s0.loss_mask: 0.2055, s1.loss_cls: 0.0828, s1.acc: 94.5963, s1.loss_bbox: 0.0906, s1.loss_mask: 0.0880, s2.loss_cls: 0.0402, s2.acc: 94.8743, s2.loss_bbox: 0.0339, s2.loss_mask: 0.0386, loss: 1.0440, grad_norm: 5.8857\n",
      "2021-05-20 07:08:36,836 - mmdet - INFO - Epoch [10][1000/1091]\tlr: 1.000e-05, eta: 1:59:53, time: 1.268, data_time: 0.056, memory: 23519, loss_rpn_cls: 0.0337, loss_rpn_bbox: 0.0327, s0.loss_cls: 0.1938, s0.acc: 93.5469, s0.loss_bbox: 0.2483, s0.loss_mask: 0.2277, s1.loss_cls: 0.0914, s1.acc: 94.0573, s1.loss_bbox: 0.0992, s1.loss_mask: 0.1007, s2.loss_cls: 0.0448, s2.acc: 94.2182, s2.loss_bbox: 0.0381, s2.loss_mask: 0.0452, loss: 1.1556, grad_norm: 6.3709\n",
      "2021-05-20 07:09:41,644 - mmdet - INFO - Epoch [10][1050/1091]\tlr: 1.000e-05, eta: 1:58:48, time: 1.296, data_time: 0.050, memory: 23519, loss_rpn_cls: 0.0306, loss_rpn_bbox: 0.0273, s0.loss_cls: 0.1665, s0.acc: 94.4570, s0.loss_bbox: 0.2228, s0.loss_mask: 0.2051, s1.loss_cls: 0.0776, s1.acc: 94.8166, s1.loss_bbox: 0.0920, s1.loss_mask: 0.0893, s2.loss_cls: 0.0381, s2.acc: 94.8379, s2.loss_bbox: 0.0355, s2.loss_mask: 0.0410, loss: 1.0257, grad_norm: 5.6411\n",
      "2021-05-20 07:10:34,172 - mmdet - INFO - Saving checkpoint at 10 epochs\n"
     ]
    },
    {
     "name": "stdout",
     "output_type": "stream",
     "text": [
      "[>>>>>>>>>>>>>>>>>>>>>>>>>>>>>] 655/655, 3.1 task/s, elapsed: 213s, ETA:     0s"
     ]
    },
    {
     "name": "stderr",
     "output_type": "stream",
     "text": [
      "2021-05-20 07:14:14,132 - mmdet - INFO - Evaluating bbox...\n"
     ]
    },
    {
     "name": "stdout",
     "output_type": "stream",
     "text": [
      "Loading and preparing results...\n",
      "DONE (t=0.63s)\n",
      "creating index...\n",
      "index created!\n",
      "Running per image evaluation...\n",
      "Evaluate annotation type *bbox*\n",
      "DONE (t=7.78s).\n",
      "Accumulating evaluation results...\n",
      "DONE (t=1.01s).\n",
      "Average Precision  (AP) @[ IoU=0.50:0.95 | area=   all | maxDets=100 ] = 0.509\n",
      "Average Precision  (AP) @[ IoU=0.50      | area=   all | maxDets=1000 ] = 0.648\n",
      "Average Precision  (AP) @[ IoU=0.75      | area=   all | maxDets=1000 ] = 0.539\n",
      "Average Precision  (AP) @[ IoU=0.50:0.95 | area= small | maxDets=1000 ] = 0.191\n",
      "Average Precision  (AP) @[ IoU=0.50:0.95 | area=medium | maxDets=1000 ] = 0.502\n",
      "Average Precision  (AP) @[ IoU=0.50:0.95 | area= large | maxDets=1000 ] = 0.775\n",
      "Average Recall     (AR) @[ IoU=0.50:0.95 | area=   all | maxDets=100 ] = 0.621\n",
      "Average Recall     (AR) @[ IoU=0.50:0.95 | area=   all | maxDets=300 ] = 0.621\n",
      "Average Recall     (AR) @[ IoU=0.50:0.95 | area=   all | maxDets=1000 ] = 0.621\n",
      "Average Recall     (AR) @[ IoU=0.50:0.95 | area= small | maxDets=1000 ] = 0.303\n",
      "Average Recall     (AR) @[ IoU=0.50:0.95 | area=medium | maxDets=1000 ] = 0.646\n",
      "Average Recall     (AR) @[ IoU=0.50:0.95 | area= large | maxDets=1000 ] = 0.833\n"
     ]
    },
    {
     "name": "stderr",
     "output_type": "stream",
     "text": [
      "2021-05-20 07:14:28,969 - mmdet - INFO - Now best checkpoint is epoch_10.pth.Best bbox_mAP_50 is 0.6480\n",
      "2021-05-20 07:14:29,005 - mmdet - INFO - Epoch(val) [10][1091]\tbbox_mAP: 0.5090, bbox_mAP_50: 0.6480, bbox_mAP_75: 0.5390, bbox_mAP_s: 0.1910, bbox_mAP_m: 0.5020, bbox_mAP_l: 0.7750, bbox_mAP_copypaste: 0.509 0.648 0.539 0.191 0.502 0.775\n",
      "2021-05-20 07:15:36,010 - mmdet - INFO - Epoch [11][50/1091]\tlr: 1.000e-05, eta: 1:56:25, time: 1.340, data_time: 0.102, memory: 23519, loss_rpn_cls: 0.0253, loss_rpn_bbox: 0.0249, s0.loss_cls: 0.1759, s0.acc: 94.1680, s0.loss_bbox: 0.2113, s0.loss_mask: 0.1912, s1.loss_cls: 0.0822, s1.acc: 94.4748, s1.loss_bbox: 0.0866, s1.loss_mask: 0.0856, s2.loss_cls: 0.0400, s2.acc: 94.6857, s2.loss_bbox: 0.0338, s2.loss_mask: 0.0388, loss: 0.9957, grad_norm: 6.3265\n",
      "2021-05-20 07:16:41,560 - mmdet - INFO - Epoch [11][100/1091]\tlr: 1.000e-05, eta: 1:55:21, time: 1.311, data_time: 0.051, memory: 23519, loss_rpn_cls: 0.0314, loss_rpn_bbox: 0.0302, s0.loss_cls: 0.2005, s0.acc: 93.5078, s0.loss_bbox: 0.2390, s0.loss_mask: 0.2181, s1.loss_cls: 0.0940, s1.acc: 94.0893, s1.loss_bbox: 0.0949, s1.loss_mask: 0.0981, s2.loss_cls: 0.0432, s2.acc: 94.4953, s2.loss_bbox: 0.0349, s2.loss_mask: 0.0439, loss: 1.1282, grad_norm: 6.2862\n",
      "2021-05-20 07:17:46,120 - mmdet - INFO - Epoch [11][150/1091]\tlr: 1.000e-05, eta: 1:54:16, time: 1.291, data_time: 0.051, memory: 23519, loss_rpn_cls: 0.0251, loss_rpn_bbox: 0.0298, s0.loss_cls: 0.1755, s0.acc: 94.1549, s0.loss_bbox: 0.2238, s0.loss_mask: 0.2009, s1.loss_cls: 0.0824, s1.acc: 94.4991, s1.loss_bbox: 0.0905, s1.loss_mask: 0.0902, s2.loss_cls: 0.0399, s2.acc: 94.6354, s2.loss_bbox: 0.0354, s2.loss_mask: 0.0419, loss: 1.0355, grad_norm: 5.8812\n",
      "2021-05-20 07:18:52,862 - mmdet - INFO - Epoch [11][200/1091]\tlr: 1.000e-05, eta: 1:53:13, time: 1.335, data_time: 0.070, memory: 23519, loss_rpn_cls: 0.0370, loss_rpn_bbox: 0.0351, s0.loss_cls: 0.2058, s0.acc: 93.2904, s0.loss_bbox: 0.2540, s0.loss_mask: 0.2154, s1.loss_cls: 0.0965, s1.acc: 93.7941, s1.loss_bbox: 0.1027, s1.loss_mask: 0.0969, s2.loss_cls: 0.0464, s2.acc: 94.0343, s2.loss_bbox: 0.0395, s2.loss_mask: 0.0443, loss: 1.1736, grad_norm: 6.1402\n",
      "2021-05-20 07:19:56,275 - mmdet - INFO - Epoch [11][250/1091]\tlr: 1.000e-05, eta: 1:52:08, time: 1.268, data_time: 0.054, memory: 23519, loss_rpn_cls: 0.0247, loss_rpn_bbox: 0.0295, s0.loss_cls: 0.1649, s0.acc: 94.4922, s0.loss_bbox: 0.2051, s0.loss_mask: 0.1957, s1.loss_cls: 0.0764, s1.acc: 94.8117, s1.loss_bbox: 0.0851, s1.loss_mask: 0.0876, s2.loss_cls: 0.0384, s2.acc: 94.7070, s2.loss_bbox: 0.0332, s2.loss_mask: 0.0401, loss: 0.9806, grad_norm: 5.4659\n",
      "2021-05-20 07:21:00,497 - mmdet - INFO - Epoch [11][300/1091]\tlr: 1.000e-05, eta: 1:51:03, time: 1.284, data_time: 0.051, memory: 23519, loss_rpn_cls: 0.0257, loss_rpn_bbox: 0.0267, s0.loss_cls: 0.1725, s0.acc: 94.3060, s0.loss_bbox: 0.2173, s0.loss_mask: 0.2093, s1.loss_cls: 0.0793, s1.acc: 94.7754, s1.loss_bbox: 0.0874, s1.loss_mask: 0.0884, s2.loss_cls: 0.0378, s2.acc: 94.7839, s2.loss_bbox: 0.0346, s2.loss_mask: 0.0401, loss: 1.0191, grad_norm: 6.1122\n",
      "2021-05-20 07:22:04,454 - mmdet - INFO - Epoch [11][350/1091]\tlr: 1.000e-05, eta: 1:49:58, time: 1.279, data_time: 0.055, memory: 23519, loss_rpn_cls: 0.0253, loss_rpn_bbox: 0.0261, s0.loss_cls: 0.1807, s0.acc: 94.1289, s0.loss_bbox: 0.2174, s0.loss_mask: 0.2033, s1.loss_cls: 0.0867, s1.acc: 94.4596, s1.loss_bbox: 0.0898, s1.loss_mask: 0.0894, s2.loss_cls: 0.0420, s2.acc: 94.4959, s2.loss_bbox: 0.0343, s2.loss_mask: 0.0399, loss: 1.0350, grad_norm: 6.2462\n",
      "2021-05-20 07:23:09,146 - mmdet - INFO - Epoch [11][400/1091]\tlr: 1.000e-05, eta: 1:48:53, time: 1.294, data_time: 0.048, memory: 23519, loss_rpn_cls: 0.0288, loss_rpn_bbox: 0.0267, s0.loss_cls: 0.1676, s0.acc: 94.5586, s0.loss_bbox: 0.2111, s0.loss_mask: 0.2065, s1.loss_cls: 0.0787, s1.acc: 94.9176, s1.loss_bbox: 0.0884, s1.loss_mask: 0.0894, s2.loss_cls: 0.0385, s2.acc: 94.9386, s2.loss_bbox: 0.0351, s2.loss_mask: 0.0410, loss: 1.0117, grad_norm: 5.8431\n",
      "2021-05-20 07:24:13,076 - mmdet - INFO - Epoch [11][450/1091]\tlr: 1.000e-05, eta: 1:47:48, time: 1.279, data_time: 0.053, memory: 23519, loss_rpn_cls: 0.0280, loss_rpn_bbox: 0.0312, s0.loss_cls: 0.1961, s0.acc: 93.6029, s0.loss_bbox: 0.2473, s0.loss_mask: 0.2143, s1.loss_cls: 0.0909, s1.acc: 94.0194, s1.loss_bbox: 0.0992, s1.loss_mask: 0.0967, s2.loss_cls: 0.0445, s2.acc: 93.9883, s2.loss_bbox: 0.0380, s2.loss_mask: 0.0433, loss: 1.1295, grad_norm: 6.5461\n",
      "2021-05-20 07:25:17,054 - mmdet - INFO - Epoch [11][500/1091]\tlr: 1.000e-05, eta: 1:46:43, time: 1.280, data_time: 0.045, memory: 23519, loss_rpn_cls: 0.0293, loss_rpn_bbox: 0.0272, s0.loss_cls: 0.1699, s0.acc: 94.3333, s0.loss_bbox: 0.2211, s0.loss_mask: 0.1937, s1.loss_cls: 0.0780, s1.acc: 94.7294, s1.loss_bbox: 0.0911, s1.loss_mask: 0.0850, s2.loss_cls: 0.0382, s2.acc: 94.5895, s2.loss_bbox: 0.0348, s2.loss_mask: 0.0381, loss: 1.0065, grad_norm: 9.4373\n",
      "2021-05-20 07:26:22,992 - mmdet - INFO - Epoch [11][550/1091]\tlr: 1.000e-05, eta: 1:45:39, time: 1.319, data_time: 0.053, memory: 23519, loss_rpn_cls: 0.0268, loss_rpn_bbox: 0.0279, s0.loss_cls: 0.1755, s0.acc: 94.2539, s0.loss_bbox: 0.2093, s0.loss_mask: 0.2020, s1.loss_cls: 0.0800, s1.acc: 94.8140, s1.loss_bbox: 0.0855, s1.loss_mask: 0.0862, s2.loss_cls: 0.0390, s2.acc: 95.0319, s2.loss_bbox: 0.0334, s2.loss_mask: 0.0392, loss: 1.0047, grad_norm: 5.6770\n",
      "2021-05-20 07:27:27,867 - mmdet - INFO - Epoch [11][600/1091]\tlr: 1.000e-05, eta: 1:44:35, time: 1.297, data_time: 0.052, memory: 23519, loss_rpn_cls: 0.0320, loss_rpn_bbox: 0.0266, s0.loss_cls: 0.1694, s0.acc: 94.3073, s0.loss_bbox: 0.2209, s0.loss_mask: 0.1942, s1.loss_cls: 0.0762, s1.acc: 94.8922, s1.loss_bbox: 0.0900, s1.loss_mask: 0.0839, s2.loss_cls: 0.0366, s2.acc: 95.0395, s2.loss_bbox: 0.0357, s2.loss_mask: 0.0384, loss: 1.0039, grad_norm: 5.9353\n",
      "2021-05-20 07:28:31,204 - mmdet - INFO - Epoch [11][650/1091]\tlr: 1.000e-05, eta: 1:43:30, time: 1.267, data_time: 0.052, memory: 23519, loss_rpn_cls: 0.0242, loss_rpn_bbox: 0.0267, s0.loss_cls: 0.1617, s0.acc: 94.7904, s0.loss_bbox: 0.2013, s0.loss_mask: 0.1778, s1.loss_cls: 0.0748, s1.acc: 95.0795, s1.loss_bbox: 0.0827, s1.loss_mask: 0.0790, s2.loss_cls: 0.0366, s2.acc: 95.2335, s2.loss_bbox: 0.0336, s2.loss_mask: 0.0351, loss: 0.9333, grad_norm: 5.9568\n",
      "2021-05-20 07:29:34,106 - mmdet - INFO - Epoch [11][700/1091]\tlr: 1.000e-05, eta: 1:42:24, time: 1.258, data_time: 0.045, memory: 23519, loss_rpn_cls: 0.0246, loss_rpn_bbox: 0.0254, s0.loss_cls: 0.1607, s0.acc: 94.4518, s0.loss_bbox: 0.2157, s0.loss_mask: 0.1993, s1.loss_cls: 0.0731, s1.acc: 94.9372, s1.loss_bbox: 0.0892, s1.loss_mask: 0.0915, s2.loss_cls: 0.0357, s2.acc: 94.7419, s2.loss_bbox: 0.0341, s2.loss_mask: 0.0420, loss: 0.9913, grad_norm: 7.7900\n",
      "2021-05-20 07:30:40,791 - mmdet - INFO - Epoch [11][750/1091]\tlr: 1.000e-05, eta: 1:41:21, time: 1.334, data_time: 0.059, memory: 23519, loss_rpn_cls: 0.0255, loss_rpn_bbox: 0.0299, s0.loss_cls: 0.1738, s0.acc: 94.1953, s0.loss_bbox: 0.2145, s0.loss_mask: 0.1996, s1.loss_cls: 0.0813, s1.acc: 94.4140, s1.loss_bbox: 0.0876, s1.loss_mask: 0.0881, s2.loss_cls: 0.0398, s2.acc: 94.6002, s2.loss_bbox: 0.0341, s2.loss_mask: 0.0399, loss: 1.0141, grad_norm: 6.3363\n",
      "2021-05-20 07:31:46,275 - mmdet - INFO - Epoch [11][800/1091]\tlr: 1.000e-05, eta: 1:40:16, time: 1.310, data_time: 0.064, memory: 23519, loss_rpn_cls: 0.0293, loss_rpn_bbox: 0.0294, s0.loss_cls: 0.1712, s0.acc: 94.1549, s0.loss_bbox: 0.2313, s0.loss_mask: 0.2128, s1.loss_cls: 0.0820, s1.acc: 94.3682, s1.loss_bbox: 0.0936, s1.loss_mask: 0.0937, s2.loss_cls: 0.0395, s2.acc: 94.5168, s2.loss_bbox: 0.0363, s2.loss_mask: 0.0424, loss: 1.0615, grad_norm: 9.3192\n",
      "2021-05-20 07:32:51,616 - mmdet - INFO - Epoch [11][850/1091]\tlr: 1.000e-05, eta: 1:39:12, time: 1.307, data_time: 0.061, memory: 23519, loss_rpn_cls: 0.0281, loss_rpn_bbox: 0.0309, s0.loss_cls: 0.1728, s0.acc: 94.2565, s0.loss_bbox: 0.2190, s0.loss_mask: 0.1925, s1.loss_cls: 0.0784, s1.acc: 94.8759, s1.loss_bbox: 0.0914, s1.loss_mask: 0.0867, s2.loss_cls: 0.0391, s2.acc: 94.7617, s2.loss_bbox: 0.0358, s2.loss_mask: 0.0390, loss: 1.0136, grad_norm: 6.5532\n",
      "2021-05-20 07:33:55,934 - mmdet - INFO - Epoch [11][900/1091]\tlr: 1.000e-05, eta: 1:38:07, time: 1.286, data_time: 0.054, memory: 23519, loss_rpn_cls: 0.0362, loss_rpn_bbox: 0.0305, s0.loss_cls: 0.1725, s0.acc: 94.2266, s0.loss_bbox: 0.2183, s0.loss_mask: 0.1895, s1.loss_cls: 0.0804, s1.acc: 94.5579, s1.loss_bbox: 0.0868, s1.loss_mask: 0.0843, s2.loss_cls: 0.0384, s2.acc: 94.7025, s2.loss_bbox: 0.0324, s2.loss_mask: 0.0378, loss: 1.0071, grad_norm: 5.9093\n"
     ]
    },
    {
     "name": "stderr",
     "output_type": "stream",
     "text": [
      "2021-05-20 07:34:59,412 - mmdet - INFO - Epoch [11][950/1091]\tlr: 1.000e-05, eta: 1:37:02, time: 1.270, data_time: 0.050, memory: 23519, loss_rpn_cls: 0.0257, loss_rpn_bbox: 0.0234, s0.loss_cls: 0.1504, s0.acc: 94.9987, s0.loss_bbox: 0.1966, s0.loss_mask: 0.1833, s1.loss_cls: 0.0704, s1.acc: 95.2270, s1.loss_bbox: 0.0799, s1.loss_mask: 0.0784, s2.loss_cls: 0.0340, s2.acc: 95.3566, s2.loss_bbox: 0.0320, s2.loss_mask: 0.0345, loss: 0.9085, grad_norm: 5.9022\n",
      "2021-05-20 07:36:02,890 - mmdet - INFO - Epoch [11][1000/1091]\tlr: 1.000e-05, eta: 1:35:57, time: 1.270, data_time: 0.058, memory: 23519, loss_rpn_cls: 0.0349, loss_rpn_bbox: 0.0288, s0.loss_cls: 0.1739, s0.acc: 94.2266, s0.loss_bbox: 0.2343, s0.loss_mask: 0.2038, s1.loss_cls: 0.0795, s1.acc: 94.8225, s1.loss_bbox: 0.0950, s1.loss_mask: 0.0915, s2.loss_cls: 0.0392, s2.acc: 94.8021, s2.loss_bbox: 0.0363, s2.loss_mask: 0.0413, loss: 1.0584, grad_norm: 5.9405\n",
      "2021-05-20 07:37:07,853 - mmdet - INFO - Epoch [11][1050/1091]\tlr: 1.000e-05, eta: 1:34:53, time: 1.299, data_time: 0.056, memory: 23519, loss_rpn_cls: 0.0328, loss_rpn_bbox: 0.0292, s0.loss_cls: 0.1709, s0.acc: 94.1393, s0.loss_bbox: 0.2184, s0.loss_mask: 0.2026, s1.loss_cls: 0.0821, s1.acc: 94.3849, s1.loss_bbox: 0.0872, s1.loss_mask: 0.0896, s2.loss_cls: 0.0396, s2.acc: 94.2927, s2.loss_bbox: 0.0339, s2.loss_mask: 0.0407, loss: 1.0271, grad_norm: 6.3908\n",
      "2021-05-20 07:38:00,492 - mmdet - INFO - Saving checkpoint at 11 epochs\n"
     ]
    },
    {
     "name": "stdout",
     "output_type": "stream",
     "text": [
      "[>>>>>>>>>>>>>>>>>>>>>>>>>>>>>] 655/655, 3.1 task/s, elapsed: 213s, ETA:     0s"
     ]
    },
    {
     "name": "stderr",
     "output_type": "stream",
     "text": [
      "2021-05-20 07:41:40,566 - mmdet - INFO - Evaluating bbox...\n"
     ]
    },
    {
     "name": "stdout",
     "output_type": "stream",
     "text": [
      "Loading and preparing results...\n",
      "DONE (t=0.62s)\n",
      "creating index...\n",
      "index created!\n",
      "Running per image evaluation...\n",
      "Evaluate annotation type *bbox*\n",
      "DONE (t=7.30s).\n",
      "Accumulating evaluation results...\n",
      "DONE (t=0.97s).\n",
      "Average Precision  (AP) @[ IoU=0.50:0.95 | area=   all | maxDets=100 ] = 0.517\n",
      "Average Precision  (AP) @[ IoU=0.50      | area=   all | maxDets=1000 ] = 0.660\n",
      "Average Precision  (AP) @[ IoU=0.75      | area=   all | maxDets=1000 ] = 0.554\n",
      "Average Precision  (AP) @[ IoU=0.50:0.95 | area= small | maxDets=1000 ] = 0.195\n",
      "Average Precision  (AP) @[ IoU=0.50:0.95 | area=medium | maxDets=1000 ] = 0.509\n",
      "Average Precision  (AP) @[ IoU=0.50:0.95 | area= large | maxDets=1000 ] = 0.771\n",
      "Average Recall     (AR) @[ IoU=0.50:0.95 | area=   all | maxDets=100 ] = 0.623\n",
      "Average Recall     (AR) @[ IoU=0.50:0.95 | area=   all | maxDets=300 ] = 0.623\n",
      "Average Recall     (AR) @[ IoU=0.50:0.95 | area=   all | maxDets=1000 ] = 0.623\n",
      "Average Recall     (AR) @[ IoU=0.50:0.95 | area= small | maxDets=1000 ] = 0.305\n",
      "Average Recall     (AR) @[ IoU=0.50:0.95 | area=medium | maxDets=1000 ] = 0.644\n",
      "Average Recall     (AR) @[ IoU=0.50:0.95 | area= large | maxDets=1000 ] = 0.846\n"
     ]
    },
    {
     "name": "stderr",
     "output_type": "stream",
     "text": [
      "2021-05-20 07:41:54,476 - mmdet - INFO - Now best checkpoint is epoch_11.pth.Best bbox_mAP_50 is 0.6600\n",
      "2021-05-20 07:41:54,510 - mmdet - INFO - Epoch(val) [11][1091]\tbbox_mAP: 0.5170, bbox_mAP_50: 0.6600, bbox_mAP_75: 0.5540, bbox_mAP_s: 0.1950, bbox_mAP_m: 0.5090, bbox_mAP_l: 0.7710, bbox_mAP_copypaste: 0.517 0.660 0.554 0.195 0.509 0.771\n",
      "2021-05-20 07:43:03,046 - mmdet - INFO - Epoch [12][50/1091]\tlr: 1.000e-06, eta: 1:32:37, time: 1.370, data_time: 0.112, memory: 23519, loss_rpn_cls: 0.0265, loss_rpn_bbox: 0.0330, s0.loss_cls: 0.1775, s0.acc: 94.2682, s0.loss_bbox: 0.2135, s0.loss_mask: 0.1988, s1.loss_cls: 0.0822, s1.acc: 94.6606, s1.loss_bbox: 0.0883, s1.loss_mask: 0.0907, s2.loss_cls: 0.0408, s2.acc: 94.6574, s2.loss_bbox: 0.0340, s2.loss_mask: 0.0406, loss: 1.0259, grad_norm: 6.9682\n",
      "2021-05-20 07:44:08,296 - mmdet - INFO - Epoch [12][100/1091]\tlr: 1.000e-06, eta: 1:31:33, time: 1.305, data_time: 0.051, memory: 23519, loss_rpn_cls: 0.0272, loss_rpn_bbox: 0.0256, s0.loss_cls: 0.1465, s0.acc: 95.0013, s0.loss_bbox: 0.1978, s0.loss_mask: 0.1916, s1.loss_cls: 0.0676, s1.acc: 95.4208, s1.loss_bbox: 0.0806, s1.loss_mask: 0.0856, s2.loss_cls: 0.0336, s2.acc: 95.4091, s2.loss_bbox: 0.0317, s2.loss_mask: 0.0390, loss: 0.9269, grad_norm: 6.2154\n",
      "2021-05-20 07:45:13,376 - mmdet - INFO - Epoch [12][150/1091]\tlr: 1.000e-06, eta: 1:30:29, time: 1.302, data_time: 0.050, memory: 23519, loss_rpn_cls: 0.0290, loss_rpn_bbox: 0.0308, s0.loss_cls: 0.1689, s0.acc: 94.6198, s0.loss_bbox: 0.2196, s0.loss_mask: 0.1920, s1.loss_cls: 0.0771, s1.acc: 95.2063, s1.loss_bbox: 0.0905, s1.loss_mask: 0.0843, s2.loss_cls: 0.0365, s2.acc: 95.2551, s2.loss_bbox: 0.0354, s2.loss_mask: 0.0385, loss: 1.0025, grad_norm: 6.0737\n",
      "2021-05-20 07:46:18,714 - mmdet - INFO - Epoch [12][200/1091]\tlr: 1.000e-06, eta: 1:29:25, time: 1.307, data_time: 0.054, memory: 23519, loss_rpn_cls: 0.0282, loss_rpn_bbox: 0.0299, s0.loss_cls: 0.1658, s0.acc: 94.3138, s0.loss_bbox: 0.2218, s0.loss_mask: 0.1929, s1.loss_cls: 0.0761, s1.acc: 94.8463, s1.loss_bbox: 0.0890, s1.loss_mask: 0.0844, s2.loss_cls: 0.0372, s2.acc: 94.9068, s2.loss_bbox: 0.0336, s2.loss_mask: 0.0379, loss: 0.9970, grad_norm: 5.2911\n",
      "2021-05-20 07:47:22,075 - mmdet - INFO - Epoch [12][250/1091]\tlr: 1.000e-06, eta: 1:28:20, time: 1.267, data_time: 0.050, memory: 23519, loss_rpn_cls: 0.0317, loss_rpn_bbox: 0.0273, s0.loss_cls: 0.1694, s0.acc: 94.4049, s0.loss_bbox: 0.2204, s0.loss_mask: 0.2006, s1.loss_cls: 0.0771, s1.acc: 94.9453, s1.loss_bbox: 0.0895, s1.loss_mask: 0.0882, s2.loss_cls: 0.0378, s2.acc: 95.0824, s2.loss_bbox: 0.0348, s2.loss_mask: 0.0395, loss: 1.0163, grad_norm: 5.8569\n",
      "2021-05-20 07:48:26,316 - mmdet - INFO - Epoch [12][300/1091]\tlr: 1.000e-06, eta: 1:27:16, time: 1.285, data_time: 0.051, memory: 23519, loss_rpn_cls: 0.0230, loss_rpn_bbox: 0.0264, s0.loss_cls: 0.1657, s0.acc: 94.3893, s0.loss_bbox: 0.2103, s0.loss_mask: 0.1849, s1.loss_cls: 0.0771, s1.acc: 94.9033, s1.loss_bbox: 0.0862, s1.loss_mask: 0.0804, s2.loss_cls: 0.0373, s2.acc: 94.9869, s2.loss_bbox: 0.0350, s2.loss_mask: 0.0366, loss: 0.9627, grad_norm: 7.0827\n",
      "2021-05-20 07:49:29,864 - mmdet - INFO - Epoch [12][350/1091]\tlr: 1.000e-06, eta: 1:26:11, time: 1.271, data_time: 0.052, memory: 23519, loss_rpn_cls: 0.0278, loss_rpn_bbox: 0.0345, s0.loss_cls: 0.1781, s0.acc: 94.1302, s0.loss_bbox: 0.2293, s0.loss_mask: 0.2314, s1.loss_cls: 0.0819, s1.acc: 94.6322, s1.loss_bbox: 0.0906, s1.loss_mask: 0.1023, s2.loss_cls: 0.0399, s2.acc: 94.6943, s2.loss_bbox: 0.0350, s2.loss_mask: 0.0474, loss: 1.0982, grad_norm: 6.3533\n",
      "2021-05-20 07:50:34,723 - mmdet - INFO - Epoch [12][400/1091]\tlr: 1.000e-06, eta: 1:25:07, time: 1.297, data_time: 0.049, memory: 23519, loss_rpn_cls: 0.0275, loss_rpn_bbox: 0.0331, s0.loss_cls: 0.1842, s0.acc: 93.9180, s0.loss_bbox: 0.2334, s0.loss_mask: 0.2108, s1.loss_cls: 0.0817, s1.acc: 94.4631, s1.loss_bbox: 0.0938, s1.loss_mask: 0.0907, s2.loss_cls: 0.0387, s2.acc: 94.7250, s2.loss_bbox: 0.0351, s2.loss_mask: 0.0403, loss: 1.0693, grad_norm: 6.0056\n",
      "2021-05-20 07:51:38,044 - mmdet - INFO - Epoch [12][450/1091]\tlr: 1.000e-06, eta: 1:24:02, time: 1.266, data_time: 0.055, memory: 23519, loss_rpn_cls: 0.0295, loss_rpn_bbox: 0.0306, s0.loss_cls: 0.1592, s0.acc: 94.5859, s0.loss_bbox: 0.2069, s0.loss_mask: 0.1994, s1.loss_cls: 0.0740, s1.acc: 94.9598, s1.loss_bbox: 0.0813, s1.loss_mask: 0.0879, s2.loss_cls: 0.0362, s2.acc: 94.9417, s2.loss_bbox: 0.0315, s2.loss_mask: 0.0384, loss: 0.9749, grad_norm: 5.7269\n",
      "2021-05-20 07:52:42,224 - mmdet - INFO - Epoch [12][500/1091]\tlr: 1.000e-06, eta: 1:22:57, time: 1.284, data_time: 0.049, memory: 23519, loss_rpn_cls: 0.0261, loss_rpn_bbox: 0.0271, s0.loss_cls: 0.1597, s0.acc: 94.7773, s0.loss_bbox: 0.2120, s0.loss_mask: 0.1877, s1.loss_cls: 0.0734, s1.acc: 95.3117, s1.loss_bbox: 0.0857, s1.loss_mask: 0.0814, s2.loss_cls: 0.0360, s2.acc: 95.3653, s2.loss_bbox: 0.0337, s2.loss_mask: 0.0369, loss: 0.9596, grad_norm: 5.6099\n",
      "2021-05-20 07:53:46,969 - mmdet - INFO - Epoch [12][550/1091]\tlr: 1.000e-06, eta: 1:21:53, time: 1.295, data_time: 0.051, memory: 23519, loss_rpn_cls: 0.0211, loss_rpn_bbox: 0.0240, s0.loss_cls: 0.1349, s0.acc: 95.4792, s0.loss_bbox: 0.1869, s0.loss_mask: 0.1851, s1.loss_cls: 0.0610, s1.acc: 95.7241, s1.loss_bbox: 0.0737, s1.loss_mask: 0.0788, s2.loss_cls: 0.0293, s2.acc: 95.9920, s2.loss_bbox: 0.0291, s2.loss_mask: 0.0348, loss: 0.8585, grad_norm: 5.6222\n",
      "2021-05-20 07:54:51,964 - mmdet - INFO - Epoch [12][600/1091]\tlr: 1.000e-06, eta: 1:20:49, time: 1.300, data_time: 0.048, memory: 23519, loss_rpn_cls: 0.0356, loss_rpn_bbox: 0.0317, s0.loss_cls: 0.1863, s0.acc: 93.8359, s0.loss_bbox: 0.2341, s0.loss_mask: 0.2151, s1.loss_cls: 0.0877, s1.acc: 94.1936, s1.loss_bbox: 0.0954, s1.loss_mask: 0.0926, s2.loss_cls: 0.0418, s2.acc: 94.3915, s2.loss_bbox: 0.0358, s2.loss_mask: 0.0408, loss: 1.0969, grad_norm: 6.9300\n",
      "2021-05-20 07:55:56,386 - mmdet - INFO - Epoch [12][650/1091]\tlr: 1.000e-06, eta: 1:19:44, time: 1.288, data_time: 0.064, memory: 23519, loss_rpn_cls: 0.0281, loss_rpn_bbox: 0.0332, s0.loss_cls: 0.1784, s0.acc: 94.0729, s0.loss_bbox: 0.2343, s0.loss_mask: 0.2088, s1.loss_cls: 0.0823, s1.acc: 94.4428, s1.loss_bbox: 0.0941, s1.loss_mask: 0.0898, s2.loss_cls: 0.0397, s2.acc: 94.5115, s2.loss_bbox: 0.0361, s2.loss_mask: 0.0416, loss: 1.0664, grad_norm: 5.8115\n",
      "2021-05-20 07:56:59,769 - mmdet - INFO - Epoch [12][700/1091]\tlr: 1.000e-06, eta: 1:18:40, time: 1.268, data_time: 0.049, memory: 23519, loss_rpn_cls: 0.0242, loss_rpn_bbox: 0.0250, s0.loss_cls: 0.1709, s0.acc: 94.2487, s0.loss_bbox: 0.2134, s0.loss_mask: 0.2044, s1.loss_cls: 0.0771, s1.acc: 94.8770, s1.loss_bbox: 0.0861, s1.loss_mask: 0.0868, s2.loss_cls: 0.0385, s2.acc: 94.9129, s2.loss_bbox: 0.0339, s2.loss_mask: 0.0400, loss: 1.0003, grad_norm: 5.6023\n",
      "2021-05-20 07:58:06,801 - mmdet - INFO - Epoch [12][750/1091]\tlr: 1.000e-06, eta: 1:17:36, time: 1.341, data_time: 0.056, memory: 23519, loss_rpn_cls: 0.0261, loss_rpn_bbox: 0.0294, s0.loss_cls: 0.1725, s0.acc: 94.2396, s0.loss_bbox: 0.2351, s0.loss_mask: 0.2071, s1.loss_cls: 0.0781, s1.acc: 94.7751, s1.loss_bbox: 0.0966, s1.loss_mask: 0.0945, s2.loss_cls: 0.0381, s2.acc: 94.7673, s2.loss_bbox: 0.0377, s2.loss_mask: 0.0430, loss: 1.0584, grad_norm: 5.8743\n",
      "2021-05-20 07:59:10,591 - mmdet - INFO - Epoch [12][800/1091]\tlr: 1.000e-06, eta: 1:16:31, time: 1.276, data_time: 0.049, memory: 23519, loss_rpn_cls: 0.0237, loss_rpn_bbox: 0.0272, s0.loss_cls: 0.1529, s0.acc: 94.9036, s0.loss_bbox: 0.2083, s0.loss_mask: 0.1938, s1.loss_cls: 0.0696, s1.acc: 95.3182, s1.loss_bbox: 0.0841, s1.loss_mask: 0.0840, s2.loss_cls: 0.0344, s2.acc: 95.2607, s2.loss_bbox: 0.0319, s2.loss_mask: 0.0375, loss: 0.9474, grad_norm: 5.7794\n",
      "2021-05-20 08:00:15,413 - mmdet - INFO - Epoch [12][850/1091]\tlr: 1.000e-06, eta: 1:15:27, time: 1.296, data_time: 0.054, memory: 23519, loss_rpn_cls: 0.0272, loss_rpn_bbox: 0.0295, s0.loss_cls: 0.1741, s0.acc: 94.4089, s0.loss_bbox: 0.2159, s0.loss_mask: 0.2025, s1.loss_cls: 0.0791, s1.acc: 95.0430, s1.loss_bbox: 0.0882, s1.loss_mask: 0.0895, s2.loss_cls: 0.0388, s2.acc: 95.0348, s2.loss_bbox: 0.0346, s2.loss_mask: 0.0410, loss: 1.0203, grad_norm: 5.5571\n",
      "2021-05-20 08:01:20,095 - mmdet - INFO - Epoch [12][900/1091]\tlr: 1.000e-06, eta: 1:14:23, time: 1.294, data_time: 0.054, memory: 23519, loss_rpn_cls: 0.0287, loss_rpn_bbox: 0.0303, s0.loss_cls: 0.1614, s0.acc: 94.6172, s0.loss_bbox: 0.2152, s0.loss_mask: 0.2015, s1.loss_cls: 0.0746, s1.acc: 95.0649, s1.loss_bbox: 0.0893, s1.loss_mask: 0.0889, s2.loss_cls: 0.0371, s2.acc: 94.9749, s2.loss_bbox: 0.0346, s2.loss_mask: 0.0411, loss: 1.0028, grad_norm: 5.9493\n"
     ]
    },
    {
     "name": "stderr",
     "output_type": "stream",
     "text": [
      "2021-05-20 08:02:24,457 - mmdet - INFO - Epoch [12][950/1091]\tlr: 1.000e-06, eta: 1:13:18, time: 1.287, data_time: 0.057, memory: 23519, loss_rpn_cls: 0.0337, loss_rpn_bbox: 0.0289, s0.loss_cls: 0.1806, s0.acc: 93.9531, s0.loss_bbox: 0.2350, s0.loss_mask: 0.2106, s1.loss_cls: 0.0842, s1.acc: 94.3236, s1.loss_bbox: 0.0942, s1.loss_mask: 0.0930, s2.loss_cls: 0.0411, s2.acc: 94.3763, s2.loss_bbox: 0.0362, s2.loss_mask: 0.0418, loss: 1.0792, grad_norm: 6.1741\n",
      "2021-05-20 08:03:27,151 - mmdet - INFO - Epoch [12][1000/1091]\tlr: 1.000e-06, eta: 1:12:13, time: 1.254, data_time: 0.051, memory: 23519, loss_rpn_cls: 0.0240, loss_rpn_bbox: 0.0273, s0.loss_cls: 0.1630, s0.acc: 94.5482, s0.loss_bbox: 0.2180, s0.loss_mask: 0.2018, s1.loss_cls: 0.0750, s1.acc: 95.1268, s1.loss_bbox: 0.0882, s1.loss_mask: 0.0875, s2.loss_cls: 0.0370, s2.acc: 95.0706, s2.loss_bbox: 0.0351, s2.loss_mask: 0.0406, loss: 0.9976, grad_norm: 5.5557\n",
      "2021-05-20 08:04:32,678 - mmdet - INFO - Epoch [12][1050/1091]\tlr: 1.000e-06, eta: 1:11:09, time: 1.311, data_time: 0.062, memory: 23519, loss_rpn_cls: 0.0261, loss_rpn_bbox: 0.0264, s0.loss_cls: 0.1769, s0.acc: 94.0833, s0.loss_bbox: 0.2214, s0.loss_mask: 0.2024, s1.loss_cls: 0.0834, s1.acc: 94.4702, s1.loss_bbox: 0.0904, s1.loss_mask: 0.0885, s2.loss_cls: 0.0401, s2.acc: 94.6397, s2.loss_bbox: 0.0352, s2.loss_mask: 0.0398, loss: 1.0307, grad_norm: 6.0833\n",
      "2021-05-20 08:05:25,507 - mmdet - INFO - Saving checkpoint at 12 epochs\n"
     ]
    },
    {
     "name": "stdout",
     "output_type": "stream",
     "text": [
      "[>>>>>>>>>>>>>>>>>>>>>>>>>>>>>] 655/655, 3.1 task/s, elapsed: 210s, ETA:     0s"
     ]
    },
    {
     "name": "stderr",
     "output_type": "stream",
     "text": [
      "2021-05-20 08:09:02,497 - mmdet - INFO - Evaluating bbox...\n"
     ]
    },
    {
     "name": "stdout",
     "output_type": "stream",
     "text": [
      "Loading and preparing results...\n",
      "DONE (t=0.63s)\n",
      "creating index...\n",
      "index created!\n",
      "Running per image evaluation...\n",
      "Evaluate annotation type *bbox*\n",
      "DONE (t=6.98s).\n",
      "Accumulating evaluation results...\n",
      "DONE (t=0.97s).\n",
      "Average Precision  (AP) @[ IoU=0.50:0.95 | area=   all | maxDets=100 ] = 0.519\n",
      "Average Precision  (AP) @[ IoU=0.50      | area=   all | maxDets=1000 ] = 0.663\n",
      "Average Precision  (AP) @[ IoU=0.75      | area=   all | maxDets=1000 ] = 0.556\n",
      "Average Precision  (AP) @[ IoU=0.50:0.95 | area= small | maxDets=1000 ] = 0.207\n",
      "Average Precision  (AP) @[ IoU=0.50:0.95 | area=medium | maxDets=1000 ] = 0.511\n",
      "Average Precision  (AP) @[ IoU=0.50:0.95 | area= large | maxDets=1000 ] = 0.770\n",
      "Average Recall     (AR) @[ IoU=0.50:0.95 | area=   all | maxDets=100 ] = 0.626\n",
      "Average Recall     (AR) @[ IoU=0.50:0.95 | area=   all | maxDets=300 ] = 0.626\n",
      "Average Recall     (AR) @[ IoU=0.50:0.95 | area=   all | maxDets=1000 ] = 0.626\n",
      "Average Recall     (AR) @[ IoU=0.50:0.95 | area= small | maxDets=1000 ] = 0.315\n",
      "Average Recall     (AR) @[ IoU=0.50:0.95 | area=medium | maxDets=1000 ] = 0.650\n",
      "Average Recall     (AR) @[ IoU=0.50:0.95 | area= large | maxDets=1000 ] = 0.835\n"
     ]
    },
    {
     "name": "stderr",
     "output_type": "stream",
     "text": [
      "2021-05-20 08:09:16,236 - mmdet - INFO - Now best checkpoint is epoch_12.pth.Best bbox_mAP_50 is 0.6630\n",
      "2021-05-20 08:09:16,261 - mmdet - INFO - Epoch(val) [12][1091]\tbbox_mAP: 0.5190, bbox_mAP_50: 0.6630, bbox_mAP_75: 0.5560, bbox_mAP_s: 0.2070, bbox_mAP_m: 0.5110, bbox_mAP_l: 0.7700, bbox_mAP_copypaste: 0.519 0.663 0.556 0.207 0.511 0.770\n",
      "2021-05-20 08:10:23,362 - mmdet - INFO - Epoch [13][50/1091]\tlr: 1.000e-06, eta: 1:09:00, time: 1.342, data_time: 0.103, memory: 23519, loss_rpn_cls: 0.0320, loss_rpn_bbox: 0.0270, s0.loss_cls: 0.1554, s0.acc: 94.7786, s0.loss_bbox: 0.2057, s0.loss_mask: 0.1918, s1.loss_cls: 0.0701, s1.acc: 95.4782, s1.loss_bbox: 0.0853, s1.loss_mask: 0.0873, s2.loss_cls: 0.0348, s2.acc: 95.4260, s2.loss_bbox: 0.0331, s2.loss_mask: 0.0398, loss: 0.9623, grad_norm: 5.9208\n",
      "2021-05-20 08:11:29,098 - mmdet - INFO - Epoch [13][100/1091]\tlr: 1.000e-06, eta: 1:07:56, time: 1.315, data_time: 0.053, memory: 23519, loss_rpn_cls: 0.0234, loss_rpn_bbox: 0.0225, s0.loss_cls: 0.1554, s0.acc: 94.8620, s0.loss_bbox: 0.2137, s0.loss_mask: 0.1976, s1.loss_cls: 0.0724, s1.acc: 95.2267, s1.loss_bbox: 0.0868, s1.loss_mask: 0.0862, s2.loss_cls: 0.0350, s2.acc: 95.2251, s2.loss_bbox: 0.0334, s2.loss_mask: 0.0386, loss: 0.9652, grad_norm: 5.6998\n",
      "2021-05-20 08:12:35,139 - mmdet - INFO - Epoch [13][150/1091]\tlr: 1.000e-06, eta: 1:06:52, time: 1.321, data_time: 0.061, memory: 23519, loss_rpn_cls: 0.0316, loss_rpn_bbox: 0.0312, s0.loss_cls: 0.1920, s0.acc: 93.7122, s0.loss_bbox: 0.2427, s0.loss_mask: 0.2168, s1.loss_cls: 0.0875, s1.acc: 94.1666, s1.loss_bbox: 0.0957, s1.loss_mask: 0.0942, s2.loss_cls: 0.0419, s2.acc: 94.2128, s2.loss_bbox: 0.0361, s2.loss_mask: 0.0422, loss: 1.1119, grad_norm: 8.1390\n",
      "2021-05-20 08:13:41,201 - mmdet - INFO - Epoch [13][200/1091]\tlr: 1.000e-06, eta: 1:05:48, time: 1.321, data_time: 0.059, memory: 23519, loss_rpn_cls: 0.0278, loss_rpn_bbox: 0.0290, s0.loss_cls: 0.1667, s0.acc: 94.4609, s0.loss_bbox: 0.2192, s0.loss_mask: 0.1949, s1.loss_cls: 0.0787, s1.acc: 94.7689, s1.loss_bbox: 0.0913, s1.loss_mask: 0.0850, s2.loss_cls: 0.0390, s2.acc: 94.4160, s2.loss_bbox: 0.0352, s2.loss_mask: 0.0380, loss: 1.0049, grad_norm: 5.9362\n",
      "2021-05-20 08:14:44,052 - mmdet - INFO - Epoch [13][250/1091]\tlr: 1.000e-06, eta: 1:04:44, time: 1.257, data_time: 0.048, memory: 23519, loss_rpn_cls: 0.0255, loss_rpn_bbox: 0.0274, s0.loss_cls: 0.1506, s0.acc: 94.8984, s0.loss_bbox: 0.1972, s0.loss_mask: 0.1935, s1.loss_cls: 0.0671, s1.acc: 95.5192, s1.loss_bbox: 0.0799, s1.loss_mask: 0.0837, s2.loss_cls: 0.0337, s2.acc: 95.2625, s2.loss_bbox: 0.0317, s2.loss_mask: 0.0377, loss: 0.9280, grad_norm: 5.4556\n",
      "2021-05-20 08:15:49,208 - mmdet - INFO - Epoch [13][300/1091]\tlr: 1.000e-06, eta: 1:03:40, time: 1.303, data_time: 0.059, memory: 23519, loss_rpn_cls: 0.0311, loss_rpn_bbox: 0.0339, s0.loss_cls: 0.1708, s0.acc: 94.1172, s0.loss_bbox: 0.2267, s0.loss_mask: 0.2168, s1.loss_cls: 0.0798, s1.acc: 94.5535, s1.loss_bbox: 0.0907, s1.loss_mask: 0.0925, s2.loss_cls: 0.0379, s2.acc: 94.6422, s2.loss_bbox: 0.0346, s2.loss_mask: 0.0411, loss: 1.0562, grad_norm: 6.2726\n",
      "2021-05-20 08:16:52,104 - mmdet - INFO - Epoch [13][350/1091]\tlr: 1.000e-06, eta: 1:02:35, time: 1.258, data_time: 0.043, memory: 23519, loss_rpn_cls: 0.0213, loss_rpn_bbox: 0.0255, s0.loss_cls: 0.1682, s0.acc: 94.4023, s0.loss_bbox: 0.2197, s0.loss_mask: 0.1999, s1.loss_cls: 0.0802, s1.acc: 94.6995, s1.loss_bbox: 0.0896, s1.loss_mask: 0.0870, s2.loss_cls: 0.0388, s2.acc: 94.9203, s2.loss_bbox: 0.0348, s2.loss_mask: 0.0390, loss: 1.0039, grad_norm: 5.8063\n",
      "2021-05-20 08:17:56,668 - mmdet - INFO - Epoch [13][400/1091]\tlr: 1.000e-06, eta: 1:01:31, time: 1.291, data_time: 0.056, memory: 23519, loss_rpn_cls: 0.0317, loss_rpn_bbox: 0.0295, s0.loss_cls: 0.1672, s0.acc: 94.4479, s0.loss_bbox: 0.2178, s0.loss_mask: 0.2198, s1.loss_cls: 0.0764, s1.acc: 94.9300, s1.loss_bbox: 0.0871, s1.loss_mask: 0.0948, s2.loss_cls: 0.0369, s2.acc: 95.0330, s2.loss_bbox: 0.0341, s2.loss_mask: 0.0423, loss: 1.0377, grad_norm: 6.3390\n",
      "2021-05-20 08:19:00,224 - mmdet - INFO - Epoch [13][450/1091]\tlr: 1.000e-06, eta: 1:00:27, time: 1.271, data_time: 0.051, memory: 23519, loss_rpn_cls: 0.0277, loss_rpn_bbox: 0.0257, s0.loss_cls: 0.1514, s0.acc: 95.0078, s0.loss_bbox: 0.1969, s0.loss_mask: 0.1869, s1.loss_cls: 0.0680, s1.acc: 95.5914, s1.loss_bbox: 0.0789, s1.loss_mask: 0.0796, s2.loss_cls: 0.0331, s2.acc: 95.5389, s2.loss_bbox: 0.0303, s2.loss_mask: 0.0365, loss: 0.9150, grad_norm: 5.7859\n",
      "2021-05-20 08:20:03,494 - mmdet - INFO - Epoch [13][500/1091]\tlr: 1.000e-06, eta: 0:59:22, time: 1.265, data_time: 0.043, memory: 23519, loss_rpn_cls: 0.0281, loss_rpn_bbox: 0.0266, s0.loss_cls: 0.1504, s0.acc: 94.8138, s0.loss_bbox: 0.2188, s0.loss_mask: 0.2040, s1.loss_cls: 0.0683, s1.acc: 95.2239, s1.loss_bbox: 0.0890, s1.loss_mask: 0.0897, s2.loss_cls: 0.0342, s2.acc: 95.1268, s2.loss_bbox: 0.0343, s2.loss_mask: 0.0396, loss: 0.9829, grad_norm: 6.7833\n",
      "2021-05-20 08:21:09,630 - mmdet - INFO - Epoch [13][550/1091]\tlr: 1.000e-06, eta: 0:58:18, time: 1.323, data_time: 0.059, memory: 23519, loss_rpn_cls: 0.0236, loss_rpn_bbox: 0.0271, s0.loss_cls: 0.1620, s0.acc: 94.5378, s0.loss_bbox: 0.2167, s0.loss_mask: 0.1965, s1.loss_cls: 0.0735, s1.acc: 94.8888, s1.loss_bbox: 0.0873, s1.loss_mask: 0.0857, s2.loss_cls: 0.0371, s2.acc: 94.6759, s2.loss_bbox: 0.0355, s2.loss_mask: 0.0396, loss: 0.9845, grad_norm: 6.5525\n",
      "2021-05-20 08:22:14,431 - mmdet - INFO - Epoch [13][600/1091]\tlr: 1.000e-06, eta: 0:57:14, time: 1.296, data_time: 0.051, memory: 23519, loss_rpn_cls: 0.0287, loss_rpn_bbox: 0.0288, s0.loss_cls: 0.1627, s0.acc: 94.7057, s0.loss_bbox: 0.2090, s0.loss_mask: 0.1899, s1.loss_cls: 0.0758, s1.acc: 95.2199, s1.loss_bbox: 0.0868, s1.loss_mask: 0.0873, s2.loss_cls: 0.0364, s2.acc: 95.3057, s2.loss_bbox: 0.0349, s2.loss_mask: 0.0395, loss: 0.9799, grad_norm: 6.1121\n",
      "2021-05-20 08:23:18,431 - mmdet - INFO - Epoch [13][650/1091]\tlr: 1.000e-06, eta: 0:56:10, time: 1.280, data_time: 0.051, memory: 23519, loss_rpn_cls: 0.0273, loss_rpn_bbox: 0.0280, s0.loss_cls: 0.1632, s0.acc: 94.5950, s0.loss_bbox: 0.2056, s0.loss_mask: 0.1849, s1.loss_cls: 0.0750, s1.acc: 94.9749, s1.loss_bbox: 0.0842, s1.loss_mask: 0.0816, s2.loss_cls: 0.0366, s2.acc: 95.0948, s2.loss_bbox: 0.0336, s2.loss_mask: 0.0370, loss: 0.9570, grad_norm: 5.5420\n",
      "2021-05-20 08:24:22,775 - mmdet - INFO - Epoch [13][700/1091]\tlr: 1.000e-06, eta: 0:55:06, time: 1.287, data_time: 0.052, memory: 23519, loss_rpn_cls: 0.0321, loss_rpn_bbox: 0.0310, s0.loss_cls: 0.1824, s0.acc: 93.9909, s0.loss_bbox: 0.2366, s0.loss_mask: 0.2207, s1.loss_cls: 0.0872, s1.acc: 94.1644, s1.loss_bbox: 0.0973, s1.loss_mask: 0.0945, s2.loss_cls: 0.0418, s2.acc: 94.4191, s2.loss_bbox: 0.0365, s2.loss_mask: 0.0420, loss: 1.1021, grad_norm: 6.1999\n",
      "2021-05-20 08:25:28,946 - mmdet - INFO - Epoch [13][750/1091]\tlr: 1.000e-06, eta: 0:54:02, time: 1.323, data_time: 0.057, memory: 23519, loss_rpn_cls: 0.0269, loss_rpn_bbox: 0.0289, s0.loss_cls: 0.1772, s0.acc: 94.0859, s0.loss_bbox: 0.2144, s0.loss_mask: 0.2083, s1.loss_cls: 0.0820, s1.acc: 94.4961, s1.loss_bbox: 0.0860, s1.loss_mask: 0.0861, s2.loss_cls: 0.0399, s2.acc: 94.6874, s2.loss_bbox: 0.0332, s2.loss_mask: 0.0383, loss: 1.0211, grad_norm: 5.9021\n",
      "2021-05-20 08:26:33,887 - mmdet - INFO - Epoch [13][800/1091]\tlr: 1.000e-06, eta: 0:52:58, time: 1.299, data_time: 0.058, memory: 23519, loss_rpn_cls: 0.0307, loss_rpn_bbox: 0.0336, s0.loss_cls: 0.1800, s0.acc: 94.1523, s0.loss_bbox: 0.2297, s0.loss_mask: 0.2147, s1.loss_cls: 0.0846, s1.acc: 94.4587, s1.loss_bbox: 0.0933, s1.loss_mask: 0.0927, s2.loss_cls: 0.0415, s2.acc: 94.4354, s2.loss_bbox: 0.0348, s2.loss_mask: 0.0411, loss: 1.0768, grad_norm: 6.1505\n",
      "2021-05-20 08:27:38,661 - mmdet - INFO - Epoch [13][850/1091]\tlr: 1.000e-06, eta: 0:51:53, time: 1.295, data_time: 0.049, memory: 23519, loss_rpn_cls: 0.0273, loss_rpn_bbox: 0.0279, s0.loss_cls: 0.1762, s0.acc: 94.1536, s0.loss_bbox: 0.2206, s0.loss_mask: 0.2032, s1.loss_cls: 0.0826, s1.acc: 94.5916, s1.loss_bbox: 0.0896, s1.loss_mask: 0.0885, s2.loss_cls: 0.0396, s2.acc: 94.5863, s2.loss_bbox: 0.0351, s2.loss_mask: 0.0402, loss: 1.0309, grad_norm: 6.5135\n",
      "2021-05-20 08:28:42,575 - mmdet - INFO - Epoch [13][900/1091]\tlr: 1.000e-06, eta: 0:50:49, time: 1.278, data_time: 0.049, memory: 23519, loss_rpn_cls: 0.0231, loss_rpn_bbox: 0.0268, s0.loss_cls: 0.1423, s0.acc: 95.1406, s0.loss_bbox: 0.2072, s0.loss_mask: 0.1996, s1.loss_cls: 0.0648, s1.acc: 95.6589, s1.loss_bbox: 0.0836, s1.loss_mask: 0.0849, s2.loss_cls: 0.0322, s2.acc: 95.4228, s2.loss_bbox: 0.0332, s2.loss_mask: 0.0382, loss: 0.9359, grad_norm: 5.5120\n"
     ]
    },
    {
     "name": "stderr",
     "output_type": "stream",
     "text": [
      "2021-05-20 08:29:46,312 - mmdet - INFO - Epoch [13][950/1091]\tlr: 1.000e-06, eta: 0:49:45, time: 1.275, data_time: 0.042, memory: 23519, loss_rpn_cls: 0.0256, loss_rpn_bbox: 0.0242, s0.loss_cls: 0.1531, s0.acc: 94.9805, s0.loss_bbox: 0.2111, s0.loss_mask: 0.1881, s1.loss_cls: 0.0703, s1.acc: 95.4502, s1.loss_bbox: 0.0870, s1.loss_mask: 0.0825, s2.loss_cls: 0.0343, s2.acc: 95.4879, s2.loss_bbox: 0.0342, s2.loss_mask: 0.0377, loss: 0.9480, grad_norm: 6.0855\n",
      "2021-05-20 08:30:48,128 - mmdet - INFO - Epoch [13][1000/1091]\tlr: 1.000e-06, eta: 0:48:40, time: 1.236, data_time: 0.042, memory: 23519, loss_rpn_cls: 0.0214, loss_rpn_bbox: 0.0255, s0.loss_cls: 0.1430, s0.acc: 95.2695, s0.loss_bbox: 0.1866, s0.loss_mask: 0.1736, s1.loss_cls: 0.0662, s1.acc: 95.6071, s1.loss_bbox: 0.0764, s1.loss_mask: 0.0750, s2.loss_cls: 0.0323, s2.acc: 95.5923, s2.loss_bbox: 0.0297, s2.loss_mask: 0.0339, loss: 0.8636, grad_norm: 5.7502\n",
      "2021-05-20 08:31:53,835 - mmdet - INFO - Epoch [13][1050/1091]\tlr: 1.000e-06, eta: 0:47:36, time: 1.314, data_time: 0.055, memory: 23519, loss_rpn_cls: 0.0325, loss_rpn_bbox: 0.0353, s0.loss_cls: 0.1828, s0.acc: 93.9896, s0.loss_bbox: 0.2388, s0.loss_mask: 0.2120, s1.loss_cls: 0.0836, s1.acc: 94.5955, s1.loss_bbox: 0.0981, s1.loss_mask: 0.0931, s2.loss_cls: 0.0401, s2.acc: 94.5946, s2.loss_bbox: 0.0376, s2.loss_mask: 0.0428, loss: 1.0966, grad_norm: 5.8946\n",
      "2021-05-20 08:32:46,493 - mmdet - INFO - Saving checkpoint at 13 epochs\n"
     ]
    },
    {
     "name": "stdout",
     "output_type": "stream",
     "text": [
      "[>>>>>>>>>>>>>>>>>>>>>>>>>>>>>] 655/655, 3.1 task/s, elapsed: 210s, ETA:     0s"
     ]
    },
    {
     "name": "stderr",
     "output_type": "stream",
     "text": [
      "2021-05-20 08:36:23,134 - mmdet - INFO - Evaluating bbox...\n"
     ]
    },
    {
     "name": "stdout",
     "output_type": "stream",
     "text": [
      "Loading and preparing results...\n",
      "DONE (t=0.66s)\n",
      "creating index...\n",
      "index created!\n",
      "Running per image evaluation...\n",
      "Evaluate annotation type *bbox*\n",
      "DONE (t=7.23s).\n",
      "Accumulating evaluation results...\n",
      "DONE (t=1.00s).\n",
      "Average Precision  (AP) @[ IoU=0.50:0.95 | area=   all | maxDets=100 ] = 0.520\n",
      "Average Precision  (AP) @[ IoU=0.50      | area=   all | maxDets=1000 ] = 0.666\n",
      "Average Precision  (AP) @[ IoU=0.75      | area=   all | maxDets=1000 ] = 0.554\n",
      "Average Precision  (AP) @[ IoU=0.50:0.95 | area= small | maxDets=1000 ] = 0.208\n",
      "Average Precision  (AP) @[ IoU=0.50:0.95 | area=medium | maxDets=1000 ] = 0.515\n",
      "Average Precision  (AP) @[ IoU=0.50:0.95 | area= large | maxDets=1000 ] = 0.770\n",
      "Average Recall     (AR) @[ IoU=0.50:0.95 | area=   all | maxDets=100 ] = 0.628\n",
      "Average Recall     (AR) @[ IoU=0.50:0.95 | area=   all | maxDets=300 ] = 0.628\n",
      "Average Recall     (AR) @[ IoU=0.50:0.95 | area=   all | maxDets=1000 ] = 0.628\n",
      "Average Recall     (AR) @[ IoU=0.50:0.95 | area= small | maxDets=1000 ] = 0.319\n",
      "Average Recall     (AR) @[ IoU=0.50:0.95 | area=medium | maxDets=1000 ] = 0.652\n",
      "Average Recall     (AR) @[ IoU=0.50:0.95 | area= large | maxDets=1000 ] = 0.836\n"
     ]
    },
    {
     "name": "stderr",
     "output_type": "stream",
     "text": [
      "2021-05-20 08:36:37,008 - mmdet - INFO - Now best checkpoint is epoch_13.pth.Best bbox_mAP_50 is 0.6660\n",
      "2021-05-20 08:36:37,030 - mmdet - INFO - Epoch(val) [13][1091]\tbbox_mAP: 0.5200, bbox_mAP_50: 0.6660, bbox_mAP_75: 0.5540, bbox_mAP_s: 0.2080, bbox_mAP_m: 0.5150, bbox_mAP_l: 0.7700, bbox_mAP_copypaste: 0.520 0.666 0.554 0.208 0.515 0.770\n",
      "2021-05-20 08:37:44,311 - mmdet - INFO - Epoch [14][50/1091]\tlr: 1.000e-06, eta: 0:45:32, time: 1.345, data_time: 0.101, memory: 23519, loss_rpn_cls: 0.0232, loss_rpn_bbox: 0.0261, s0.loss_cls: 0.1551, s0.acc: 94.7786, s0.loss_bbox: 0.2047, s0.loss_mask: 0.1971, s1.loss_cls: 0.0690, s1.acc: 95.3211, s1.loss_bbox: 0.0808, s1.loss_mask: 0.0854, s2.loss_cls: 0.0337, s2.acc: 95.4579, s2.loss_bbox: 0.0312, s2.loss_mask: 0.0384, loss: 0.9447, grad_norm: 6.5108\n",
      "2021-05-20 08:38:50,113 - mmdet - INFO - Epoch [14][100/1091]\tlr: 1.000e-06, eta: 0:44:28, time: 1.316, data_time: 0.057, memory: 23519, loss_rpn_cls: 0.0245, loss_rpn_bbox: 0.0262, s0.loss_cls: 0.1695, s0.acc: 94.1667, s0.loss_bbox: 0.2283, s0.loss_mask: 0.2111, s1.loss_cls: 0.0802, s1.acc: 94.4178, s1.loss_bbox: 0.0926, s1.loss_mask: 0.0918, s2.loss_cls: 0.0387, s2.acc: 94.7358, s2.loss_bbox: 0.0353, s2.loss_mask: 0.0413, loss: 1.0396, grad_norm: 6.1082\n",
      "2021-05-20 08:39:54,220 - mmdet - INFO - Epoch [14][150/1091]\tlr: 1.000e-06, eta: 0:43:24, time: 1.282, data_time: 0.049, memory: 23519, loss_rpn_cls: 0.0279, loss_rpn_bbox: 0.0298, s0.loss_cls: 0.1745, s0.acc: 94.5221, s0.loss_bbox: 0.2120, s0.loss_mask: 0.1937, s1.loss_cls: 0.0789, s1.acc: 94.9182, s1.loss_bbox: 0.0882, s1.loss_mask: 0.0851, s2.loss_cls: 0.0372, s2.acc: 95.1424, s2.loss_bbox: 0.0354, s2.loss_mask: 0.0388, loss: 1.0015, grad_norm: 6.1750\n",
      "2021-05-20 08:40:59,203 - mmdet - INFO - Epoch [14][200/1091]\tlr: 1.000e-06, eta: 0:42:20, time: 1.300, data_time: 0.058, memory: 23519, loss_rpn_cls: 0.0289, loss_rpn_bbox: 0.0288, s0.loss_cls: 0.1746, s0.acc: 94.0325, s0.loss_bbox: 0.2263, s0.loss_mask: 0.2163, s1.loss_cls: 0.0818, s1.acc: 94.4621, s1.loss_bbox: 0.0931, s1.loss_mask: 0.0949, s2.loss_cls: 0.0399, s2.acc: 94.3885, s2.loss_bbox: 0.0358, s2.loss_mask: 0.0429, loss: 1.0633, grad_norm: 6.1352\n",
      "2021-05-20 08:42:03,792 - mmdet - INFO - Epoch [14][250/1091]\tlr: 1.000e-06, eta: 0:41:16, time: 1.292, data_time: 0.063, memory: 23519, loss_rpn_cls: 0.0296, loss_rpn_bbox: 0.0285, s0.loss_cls: 0.1736, s0.acc: 94.2891, s0.loss_bbox: 0.2236, s0.loss_mask: 0.1956, s1.loss_cls: 0.0804, s1.acc: 94.8459, s1.loss_bbox: 0.0922, s1.loss_mask: 0.0863, s2.loss_cls: 0.0385, s2.acc: 94.8226, s2.loss_bbox: 0.0370, s2.loss_mask: 0.0398, loss: 1.0251, grad_norm: 6.0204\n",
      "2021-05-20 08:43:09,758 - mmdet - INFO - Epoch [14][300/1091]\tlr: 1.000e-06, eta: 0:40:12, time: 1.319, data_time: 0.072, memory: 23519, loss_rpn_cls: 0.0317, loss_rpn_bbox: 0.0349, s0.loss_cls: 0.1882, s0.acc: 93.7695, s0.loss_bbox: 0.2387, s0.loss_mask: 0.2074, s1.loss_cls: 0.0903, s1.acc: 93.9365, s1.loss_bbox: 0.0954, s1.loss_mask: 0.0886, s2.loss_cls: 0.0436, s2.acc: 93.9080, s2.loss_bbox: 0.0364, s2.loss_mask: 0.0402, loss: 1.0953, grad_norm: 5.8405\n",
      "2021-05-20 08:44:14,184 - mmdet - INFO - Epoch [14][350/1091]\tlr: 1.000e-06, eta: 0:39:08, time: 1.288, data_time: 0.049, memory: 23519, loss_rpn_cls: 0.0283, loss_rpn_bbox: 0.0265, s0.loss_cls: 0.1614, s0.acc: 94.6185, s0.loss_bbox: 0.2086, s0.loss_mask: 0.1875, s1.loss_cls: 0.0754, s1.acc: 94.9780, s1.loss_bbox: 0.0855, s1.loss_mask: 0.0831, s2.loss_cls: 0.0361, s2.acc: 95.1408, s2.loss_bbox: 0.0343, s2.loss_mask: 0.0389, loss: 0.9655, grad_norm: 6.2820\n",
      "2021-05-20 08:45:18,349 - mmdet - INFO - Epoch [14][400/1091]\tlr: 1.000e-06, eta: 0:38:04, time: 1.283, data_time: 0.046, memory: 23519, loss_rpn_cls: 0.0272, loss_rpn_bbox: 0.0254, s0.loss_cls: 0.1555, s0.acc: 94.8906, s0.loss_bbox: 0.2120, s0.loss_mask: 0.1988, s1.loss_cls: 0.0707, s1.acc: 95.4253, s1.loss_bbox: 0.0888, s1.loss_mask: 0.0809, s2.loss_cls: 0.0342, s2.acc: 95.4536, s2.loss_bbox: 0.0348, s2.loss_mask: 0.0355, loss: 0.9636, grad_norm: 6.0728\n",
      "2021-05-20 08:46:20,768 - mmdet - INFO - Epoch [14][450/1091]\tlr: 1.000e-06, eta: 0:37:00, time: 1.248, data_time: 0.051, memory: 23519, loss_rpn_cls: 0.0257, loss_rpn_bbox: 0.0269, s0.loss_cls: 0.1395, s0.acc: 95.2878, s0.loss_bbox: 0.2020, s0.loss_mask: 0.1864, s1.loss_cls: 0.0623, s1.acc: 95.6777, s1.loss_bbox: 0.0831, s1.loss_mask: 0.0824, s2.loss_cls: 0.0315, s2.acc: 95.6054, s2.loss_bbox: 0.0319, s2.loss_mask: 0.0371, loss: 0.9087, grad_norm: 5.9677\n",
      "2021-05-20 08:47:24,834 - mmdet - INFO - Epoch [14][500/1091]\tlr: 1.000e-06, eta: 0:35:55, time: 1.281, data_time: 0.050, memory: 23519, loss_rpn_cls: 0.0235, loss_rpn_bbox: 0.0291, s0.loss_cls: 0.1643, s0.acc: 94.3581, s0.loss_bbox: 0.2068, s0.loss_mask: 0.1861, s1.loss_cls: 0.0735, s1.acc: 94.8501, s1.loss_bbox: 0.0838, s1.loss_mask: 0.0828, s2.loss_cls: 0.0355, s2.acc: 95.1735, s2.loss_bbox: 0.0321, s2.loss_mask: 0.0377, loss: 0.9552, grad_norm: 6.0614\n",
      "2021-05-20 08:48:31,029 - mmdet - INFO - Epoch [14][550/1091]\tlr: 1.000e-06, eta: 0:34:52, time: 1.324, data_time: 0.057, memory: 23519, loss_rpn_cls: 0.0296, loss_rpn_bbox: 0.0283, s0.loss_cls: 0.1716, s0.acc: 94.2956, s0.loss_bbox: 0.2150, s0.loss_mask: 0.2097, s1.loss_cls: 0.0790, s1.acc: 94.8337, s1.loss_bbox: 0.0864, s1.loss_mask: 0.0899, s2.loss_cls: 0.0385, s2.acc: 94.8774, s2.loss_bbox: 0.0337, s2.loss_mask: 0.0405, loss: 1.0221, grad_norm: 6.1515\n",
      "2021-05-20 08:49:36,047 - mmdet - INFO - Epoch [14][600/1091]\tlr: 1.000e-06, eta: 0:33:48, time: 1.300, data_time: 0.052, memory: 23519, loss_rpn_cls: 0.0337, loss_rpn_bbox: 0.0316, s0.loss_cls: 0.1778, s0.acc: 93.9362, s0.loss_bbox: 0.2368, s0.loss_mask: 0.2033, s1.loss_cls: 0.0842, s1.acc: 94.2800, s1.loss_bbox: 0.0940, s1.loss_mask: 0.0877, s2.loss_cls: 0.0407, s2.acc: 94.3568, s2.loss_bbox: 0.0356, s2.loss_mask: 0.0389, loss: 1.0642, grad_norm: 5.9337\n",
      "2021-05-20 08:50:39,941 - mmdet - INFO - Epoch [14][650/1091]\tlr: 1.000e-06, eta: 0:32:44, time: 1.278, data_time: 0.050, memory: 23519, loss_rpn_cls: 0.0261, loss_rpn_bbox: 0.0270, s0.loss_cls: 0.1611, s0.acc: 94.4427, s0.loss_bbox: 0.2210, s0.loss_mask: 0.2029, s1.loss_cls: 0.0737, s1.acc: 94.8623, s1.loss_bbox: 0.0899, s1.loss_mask: 0.0889, s2.loss_cls: 0.0355, s2.acc: 95.0598, s2.loss_bbox: 0.0346, s2.loss_mask: 0.0399, loss: 1.0005, grad_norm: 6.2467\n",
      "2021-05-20 08:51:43,858 - mmdet - INFO - Epoch [14][700/1091]\tlr: 1.000e-06, eta: 0:31:39, time: 1.278, data_time: 0.049, memory: 23519, loss_rpn_cls: 0.0273, loss_rpn_bbox: 0.0242, s0.loss_cls: 0.1736, s0.acc: 94.3711, s0.loss_bbox: 0.2277, s0.loss_mask: 0.2061, s1.loss_cls: 0.0805, s1.acc: 94.7840, s1.loss_bbox: 0.0917, s1.loss_mask: 0.0890, s2.loss_cls: 0.0399, s2.acc: 94.8474, s2.loss_bbox: 0.0356, s2.loss_mask: 0.0392, loss: 1.0348, grad_norm: 6.4697\n",
      "2021-05-20 08:52:50,730 - mmdet - INFO - Epoch [14][750/1091]\tlr: 1.000e-06, eta: 0:30:36, time: 1.337, data_time: 0.066, memory: 23519, loss_rpn_cls: 0.0277, loss_rpn_bbox: 0.0313, s0.loss_cls: 0.1686, s0.acc: 94.2695, s0.loss_bbox: 0.2245, s0.loss_mask: 0.2005, s1.loss_cls: 0.0776, s1.acc: 94.7375, s1.loss_bbox: 0.0912, s1.loss_mask: 0.0878, s2.loss_cls: 0.0382, s2.acc: 94.7597, s2.loss_bbox: 0.0345, s2.loss_mask: 0.0391, loss: 1.0209, grad_norm: 5.8215\n",
      "2021-05-20 08:53:55,266 - mmdet - INFO - Epoch [14][800/1091]\tlr: 1.000e-06, eta: 0:29:31, time: 1.291, data_time: 0.050, memory: 23519, loss_rpn_cls: 0.0284, loss_rpn_bbox: 0.0278, s0.loss_cls: 0.1713, s0.acc: 94.4648, s0.loss_bbox: 0.2141, s0.loss_mask: 0.1999, s1.loss_cls: 0.0773, s1.acc: 95.0397, s1.loss_bbox: 0.0853, s1.loss_mask: 0.0866, s2.loss_cls: 0.0373, s2.acc: 95.2147, s2.loss_bbox: 0.0328, s2.loss_mask: 0.0392, loss: 0.9999, grad_norm: 5.5788\n",
      "2021-05-20 08:55:00,257 - mmdet - INFO - Epoch [14][850/1091]\tlr: 1.000e-06, eta: 0:28:27, time: 1.300, data_time: 0.056, memory: 23519, loss_rpn_cls: 0.0289, loss_rpn_bbox: 0.0281, s0.loss_cls: 0.1653, s0.acc: 94.4922, s0.loss_bbox: 0.2121, s0.loss_mask: 0.1881, s1.loss_cls: 0.0749, s1.acc: 94.9854, s1.loss_bbox: 0.0876, s1.loss_mask: 0.0829, s2.loss_cls: 0.0357, s2.acc: 95.0395, s2.loss_bbox: 0.0346, s2.loss_mask: 0.0375, loss: 0.9756, grad_norm: 5.4793\n",
      "2021-05-20 08:56:05,680 - mmdet - INFO - Epoch [14][900/1091]\tlr: 1.000e-06, eta: 0:27:23, time: 1.308, data_time: 0.059, memory: 23519, loss_rpn_cls: 0.0293, loss_rpn_bbox: 0.0326, s0.loss_cls: 0.1724, s0.acc: 94.1628, s0.loss_bbox: 0.2372, s0.loss_mask: 0.2129, s1.loss_cls: 0.0796, s1.acc: 94.5436, s1.loss_bbox: 0.0943, s1.loss_mask: 0.0953, s2.loss_cls: 0.0385, s2.acc: 94.6048, s2.loss_bbox: 0.0365, s2.loss_mask: 0.0432, loss: 1.0717, grad_norm: 5.8791\n"
     ]
    },
    {
     "name": "stderr",
     "output_type": "stream",
     "text": [
      "2021-05-20 08:57:11,852 - mmdet - INFO - Epoch [14][950/1091]\tlr: 1.000e-06, eta: 0:26:20, time: 1.323, data_time: 0.068, memory: 23519, loss_rpn_cls: 0.0310, loss_rpn_bbox: 0.0292, s0.loss_cls: 0.1975, s0.acc: 93.3034, s0.loss_bbox: 0.2594, s0.loss_mask: 0.2166, s1.loss_cls: 0.0906, s1.acc: 94.0317, s1.loss_bbox: 0.1031, s1.loss_mask: 0.0928, s2.loss_cls: 0.0426, s2.acc: 94.2263, s2.loss_bbox: 0.0392, s2.loss_mask: 0.0415, loss: 1.1436, grad_norm: 6.4518\n",
      "2021-05-20 08:58:13,350 - mmdet - INFO - Epoch [14][1000/1091]\tlr: 1.000e-06, eta: 0:25:15, time: 1.230, data_time: 0.035, memory: 23519, loss_rpn_cls: 0.0213, loss_rpn_bbox: 0.0209, s0.loss_cls: 0.1401, s0.acc: 95.3034, s0.loss_bbox: 0.1743, s0.loss_mask: 0.1795, s1.loss_cls: 0.0631, s1.acc: 95.9332, s1.loss_bbox: 0.0742, s1.loss_mask: 0.0798, s2.loss_cls: 0.0311, s2.acc: 95.9388, s2.loss_bbox: 0.0298, s2.loss_mask: 0.0364, loss: 0.8504, grad_norm: 6.3125\n",
      "2021-05-20 08:59:18,799 - mmdet - INFO - Epoch [14][1050/1091]\tlr: 1.000e-06, eta: 0:24:11, time: 1.309, data_time: 0.058, memory: 23519, loss_rpn_cls: 0.0283, loss_rpn_bbox: 0.0292, s0.loss_cls: 0.1588, s0.acc: 94.4896, s0.loss_bbox: 0.2236, s0.loss_mask: 0.2038, s1.loss_cls: 0.0728, s1.acc: 95.0066, s1.loss_bbox: 0.0907, s1.loss_mask: 0.0900, s2.loss_cls: 0.0358, s2.acc: 94.8677, s2.loss_bbox: 0.0358, s2.loss_mask: 0.0421, loss: 1.0109, grad_norm: 6.1808\n",
      "2021-05-20 09:00:10,777 - mmdet - INFO - Saving checkpoint at 14 epochs\n"
     ]
    },
    {
     "name": "stdout",
     "output_type": "stream",
     "text": [
      "[>>>>>>>>>>>>>>>>>>>>>>>>>>>>>] 655/655, 3.1 task/s, elapsed: 211s, ETA:     0s"
     ]
    },
    {
     "name": "stderr",
     "output_type": "stream",
     "text": [
      "2021-05-20 09:03:49,186 - mmdet - INFO - Evaluating bbox...\n"
     ]
    },
    {
     "name": "stdout",
     "output_type": "stream",
     "text": [
      "Loading and preparing results...\n",
      "DONE (t=0.66s)\n",
      "creating index...\n",
      "index created!\n",
      "Running per image evaluation...\n",
      "Evaluate annotation type *bbox*\n",
      "DONE (t=7.21s).\n",
      "Accumulating evaluation results...\n"
     ]
    },
    {
     "name": "stderr",
     "output_type": "stream",
     "text": [
      "2021-05-20 09:03:58,131 - mmdet - INFO - Epoch(val) [14][1091]\tbbox_mAP: 0.5210, bbox_mAP_50: 0.6650, bbox_mAP_75: 0.5550, bbox_mAP_s: 0.2090, bbox_mAP_m: 0.5130, bbox_mAP_l: 0.7710, bbox_mAP_copypaste: 0.521 0.665 0.555 0.209 0.513 0.771\n"
     ]
    },
    {
     "name": "stdout",
     "output_type": "stream",
     "text": [
      "DONE (t=0.98s).\n",
      "Average Precision  (AP) @[ IoU=0.50:0.95 | area=   all | maxDets=100 ] = 0.521\n",
      "Average Precision  (AP) @[ IoU=0.50      | area=   all | maxDets=1000 ] = 0.665\n",
      "Average Precision  (AP) @[ IoU=0.75      | area=   all | maxDets=1000 ] = 0.555\n",
      "Average Precision  (AP) @[ IoU=0.50:0.95 | area= small | maxDets=1000 ] = 0.209\n",
      "Average Precision  (AP) @[ IoU=0.50:0.95 | area=medium | maxDets=1000 ] = 0.513\n",
      "Average Precision  (AP) @[ IoU=0.50:0.95 | area= large | maxDets=1000 ] = 0.771\n",
      "Average Recall     (AR) @[ IoU=0.50:0.95 | area=   all | maxDets=100 ] = 0.627\n",
      "Average Recall     (AR) @[ IoU=0.50:0.95 | area=   all | maxDets=300 ] = 0.627\n",
      "Average Recall     (AR) @[ IoU=0.50:0.95 | area=   all | maxDets=1000 ] = 0.627\n",
      "Average Recall     (AR) @[ IoU=0.50:0.95 | area= small | maxDets=1000 ] = 0.320\n",
      "Average Recall     (AR) @[ IoU=0.50:0.95 | area=medium | maxDets=1000 ] = 0.651\n",
      "Average Recall     (AR) @[ IoU=0.50:0.95 | area= large | maxDets=1000 ] = 0.835\n"
     ]
    },
    {
     "name": "stderr",
     "output_type": "stream",
     "text": [
      "2021-05-20 09:05:05,141 - mmdet - INFO - Epoch [15][50/1091]\tlr: 1.000e-06, eta: 0:22:11, time: 1.340, data_time: 0.098, memory: 23519, loss_rpn_cls: 0.0292, loss_rpn_bbox: 0.0245, s0.loss_cls: 0.1521, s0.acc: 94.9388, s0.loss_bbox: 0.2027, s0.loss_mask: 0.1910, s1.loss_cls: 0.0698, s1.acc: 95.4659, s1.loss_bbox: 0.0812, s1.loss_mask: 0.0823, s2.loss_cls: 0.0335, s2.acc: 95.3354, s2.loss_bbox: 0.0328, s2.loss_mask: 0.0366, loss: 0.9358, grad_norm: 6.0617\n",
      "2021-05-20 09:06:10,161 - mmdet - INFO - Epoch [15][100/1091]\tlr: 1.000e-06, eta: 0:21:07, time: 1.300, data_time: 0.050, memory: 23519, loss_rpn_cls: 0.0207, loss_rpn_bbox: 0.0214, s0.loss_cls: 0.1350, s0.acc: 95.2240, s0.loss_bbox: 0.1897, s0.loss_mask: 0.1686, s1.loss_cls: 0.0614, s1.acc: 95.6192, s1.loss_bbox: 0.0766, s1.loss_mask: 0.0738, s2.loss_cls: 0.0303, s2.acc: 95.6585, s2.loss_bbox: 0.0308, s2.loss_mask: 0.0335, loss: 0.8418, grad_norm: 6.3258\n",
      "2021-05-20 09:07:14,654 - mmdet - INFO - Epoch [15][150/1091]\tlr: 1.000e-06, eta: 0:20:03, time: 1.290, data_time: 0.060, memory: 23519, loss_rpn_cls: 0.0344, loss_rpn_bbox: 0.0315, s0.loss_cls: 0.1688, s0.acc: 94.2448, s0.loss_bbox: 0.2242, s0.loss_mask: 0.1973, s1.loss_cls: 0.0759, s1.acc: 94.9258, s1.loss_bbox: 0.0907, s1.loss_mask: 0.0867, s2.loss_cls: 0.0366, s2.acc: 95.0130, s2.loss_bbox: 0.0342, s2.loss_mask: 0.0390, loss: 1.0192, grad_norm: 5.5575\n",
      "2021-05-20 09:08:21,658 - mmdet - INFO - Epoch [15][200/1091]\tlr: 1.000e-06, eta: 0:18:59, time: 1.340, data_time: 0.076, memory: 23519, loss_rpn_cls: 0.0308, loss_rpn_bbox: 0.0342, s0.loss_cls: 0.1834, s0.acc: 93.9596, s0.loss_bbox: 0.2377, s0.loss_mask: 0.2129, s1.loss_cls: 0.0847, s1.acc: 94.4643, s1.loss_bbox: 0.0957, s1.loss_mask: 0.0927, s2.loss_cls: 0.0413, s2.acc: 94.4770, s2.loss_bbox: 0.0362, s2.loss_mask: 0.0418, loss: 1.0912, grad_norm: 6.2004\n",
      "2021-05-20 09:09:25,752 - mmdet - INFO - Epoch [15][250/1091]\tlr: 1.000e-06, eta: 0:17:56, time: 1.282, data_time: 0.059, memory: 23519, loss_rpn_cls: 0.0237, loss_rpn_bbox: 0.0253, s0.loss_cls: 0.1633, s0.acc: 94.6172, s0.loss_bbox: 0.2223, s0.loss_mask: 0.2053, s1.loss_cls: 0.0750, s1.acc: 95.0958, s1.loss_bbox: 0.0895, s1.loss_mask: 0.0902, s2.loss_cls: 0.0364, s2.acc: 95.1749, s2.loss_bbox: 0.0343, s2.loss_mask: 0.0401, loss: 1.0055, grad_norm: 5.3871\n",
      "2021-05-20 09:10:30,645 - mmdet - INFO - Epoch [15][300/1091]\tlr: 1.000e-06, eta: 0:16:52, time: 1.298, data_time: 0.061, memory: 23519, loss_rpn_cls: 0.0285, loss_rpn_bbox: 0.0280, s0.loss_cls: 0.1677, s0.acc: 94.4258, s0.loss_bbox: 0.2215, s0.loss_mask: 0.2141, s1.loss_cls: 0.0753, s1.acc: 94.8908, s1.loss_bbox: 0.0882, s1.loss_mask: 0.0951, s2.loss_cls: 0.0370, s2.acc: 94.8968, s2.loss_bbox: 0.0347, s2.loss_mask: 0.0444, loss: 1.0345, grad_norm: 6.5275\n",
      "2021-05-20 09:11:34,504 - mmdet - INFO - Epoch [15][350/1091]\tlr: 1.000e-06, eta: 0:15:48, time: 1.277, data_time: 0.053, memory: 23519, loss_rpn_cls: 0.0295, loss_rpn_bbox: 0.0282, s0.loss_cls: 0.1653, s0.acc: 94.4492, s0.loss_bbox: 0.2170, s0.loss_mask: 0.1885, s1.loss_cls: 0.0754, s1.acc: 94.9251, s1.loss_bbox: 0.0905, s1.loss_mask: 0.0818, s2.loss_cls: 0.0364, s2.acc: 94.9862, s2.loss_bbox: 0.0361, s2.loss_mask: 0.0372, loss: 0.9861, grad_norm: 5.5383\n",
      "2021-05-20 09:12:38,270 - mmdet - INFO - Epoch [15][400/1091]\tlr: 1.000e-06, eta: 0:14:44, time: 1.275, data_time: 0.044, memory: 23519, loss_rpn_cls: 0.0223, loss_rpn_bbox: 0.0212, s0.loss_cls: 0.1514, s0.acc: 94.8958, s0.loss_bbox: 0.1996, s0.loss_mask: 0.1883, s1.loss_cls: 0.0686, s1.acc: 95.5067, s1.loss_bbox: 0.0851, s1.loss_mask: 0.0838, s2.loss_cls: 0.0339, s2.acc: 95.4640, s2.loss_bbox: 0.0343, s2.loss_mask: 0.0380, loss: 0.9265, grad_norm: 5.9481\n",
      "2021-05-20 09:13:41,734 - mmdet - INFO - Epoch [15][450/1091]\tlr: 1.000e-06, eta: 0:13:40, time: 1.269, data_time: 0.052, memory: 23519, loss_rpn_cls: 0.0223, loss_rpn_bbox: 0.0267, s0.loss_cls: 0.1551, s0.acc: 94.8346, s0.loss_bbox: 0.2088, s0.loss_mask: 0.1836, s1.loss_cls: 0.0710, s1.acc: 95.3561, s1.loss_bbox: 0.0864, s1.loss_mask: 0.0814, s2.loss_cls: 0.0360, s2.acc: 95.1668, s2.loss_bbox: 0.0349, s2.loss_mask: 0.0376, loss: 0.9438, grad_norm: 5.7731\n",
      "2021-05-20 09:14:45,008 - mmdet - INFO - Epoch [15][500/1091]\tlr: 1.000e-06, eta: 0:12:36, time: 1.265, data_time: 0.048, memory: 23519, loss_rpn_cls: 0.0282, loss_rpn_bbox: 0.0287, s0.loss_cls: 0.1768, s0.acc: 93.9740, s0.loss_bbox: 0.2216, s0.loss_mask: 0.2073, s1.loss_cls: 0.0846, s1.acc: 94.2260, s1.loss_bbox: 0.0902, s1.loss_mask: 0.0941, s2.loss_cls: 0.0417, s2.acc: 94.2116, s2.loss_bbox: 0.0351, s2.loss_mask: 0.0425, loss: 1.0508, grad_norm: 6.9600\n",
      "2021-05-20 09:15:51,017 - mmdet - INFO - Epoch [15][550/1091]\tlr: 1.000e-06, eta: 0:11:32, time: 1.320, data_time: 0.055, memory: 23519, loss_rpn_cls: 0.0275, loss_rpn_bbox: 0.0242, s0.loss_cls: 0.1629, s0.acc: 94.5833, s0.loss_bbox: 0.2141, s0.loss_mask: 0.2017, s1.loss_cls: 0.0740, s1.acc: 95.1088, s1.loss_bbox: 0.0854, s1.loss_mask: 0.0891, s2.loss_cls: 0.0360, s2.acc: 95.0954, s2.loss_bbox: 0.0338, s2.loss_mask: 0.0413, loss: 0.9899, grad_norm: 6.7388\n",
      "2021-05-20 09:16:56,631 - mmdet - INFO - Epoch [15][600/1091]\tlr: 1.000e-06, eta: 0:10:28, time: 1.312, data_time: 0.055, memory: 23519, loss_rpn_cls: 0.0289, loss_rpn_bbox: 0.0294, s0.loss_cls: 0.1827, s0.acc: 93.9700, s0.loss_bbox: 0.2368, s0.loss_mask: 0.2243, s1.loss_cls: 0.0851, s1.acc: 94.4093, s1.loss_bbox: 0.0943, s1.loss_mask: 0.0947, s2.loss_cls: 0.0405, s2.acc: 94.6309, s2.loss_bbox: 0.0361, s2.loss_mask: 0.0422, loss: 1.0949, grad_norm: 5.9193\n",
      "2021-05-20 09:17:59,940 - mmdet - INFO - Epoch [15][650/1091]\tlr: 1.000e-06, eta: 0:09:24, time: 1.266, data_time: 0.045, memory: 23519, loss_rpn_cls: 0.0224, loss_rpn_bbox: 0.0246, s0.loss_cls: 0.1558, s0.acc: 94.7656, s0.loss_bbox: 0.2024, s0.loss_mask: 0.2014, s1.loss_cls: 0.0707, s1.acc: 95.3453, s1.loss_bbox: 0.0831, s1.loss_mask: 0.0866, s2.loss_cls: 0.0348, s2.acc: 95.4197, s2.loss_bbox: 0.0325, s2.loss_mask: 0.0386, loss: 0.9530, grad_norm: 5.6966\n",
      "2021-05-20 09:19:04,209 - mmdet - INFO - Epoch [15][700/1091]\tlr: 1.000e-06, eta: 0:08:20, time: 1.285, data_time: 0.060, memory: 23519, loss_rpn_cls: 0.0328, loss_rpn_bbox: 0.0324, s0.loss_cls: 0.1635, s0.acc: 94.3893, s0.loss_bbox: 0.2147, s0.loss_mask: 0.2015, s1.loss_cls: 0.0780, s1.acc: 94.6312, s1.loss_bbox: 0.0874, s1.loss_mask: 0.0883, s2.loss_cls: 0.0390, s2.acc: 94.6993, s2.loss_bbox: 0.0344, s2.loss_mask: 0.0406, loss: 1.0125, grad_norm: 5.5774\n",
      "2021-05-20 09:20:10,653 - mmdet - INFO - Epoch [15][750/1091]\tlr: 1.000e-06, eta: 0:07:16, time: 1.329, data_time: 0.055, memory: 23519, loss_rpn_cls: 0.0270, loss_rpn_bbox: 0.0275, s0.loss_cls: 0.1665, s0.acc: 94.4440, s0.loss_bbox: 0.2169, s0.loss_mask: 0.1953, s1.loss_cls: 0.0761, s1.acc: 94.9988, s1.loss_bbox: 0.0896, s1.loss_mask: 0.0855, s2.loss_cls: 0.0374, s2.acc: 95.0195, s2.loss_bbox: 0.0357, s2.loss_mask: 0.0386, loss: 0.9961, grad_norm: 6.1585\n",
      "2021-05-20 09:21:15,925 - mmdet - INFO - Epoch [15][800/1091]\tlr: 1.000e-06, eta: 0:06:12, time: 1.305, data_time: 0.063, memory: 23519, loss_rpn_cls: 0.0284, loss_rpn_bbox: 0.0306, s0.loss_cls: 0.1677, s0.acc: 94.4388, s0.loss_bbox: 0.2228, s0.loss_mask: 0.1960, s1.loss_cls: 0.0755, s1.acc: 94.9566, s1.loss_bbox: 0.0898, s1.loss_mask: 0.0847, s2.loss_cls: 0.0354, s2.acc: 95.2050, s2.loss_bbox: 0.0345, s2.loss_mask: 0.0376, loss: 1.0030, grad_norm: 5.9870\n",
      "2021-05-20 09:22:21,258 - mmdet - INFO - Epoch [15][850/1091]\tlr: 1.000e-06, eta: 0:05:08, time: 1.307, data_time: 0.066, memory: 23519, loss_rpn_cls: 0.0340, loss_rpn_bbox: 0.0334, s0.loss_cls: 0.1830, s0.acc: 93.8984, s0.loss_bbox: 0.2237, s0.loss_mask: 0.2015, s1.loss_cls: 0.0870, s1.acc: 94.1598, s1.loss_bbox: 0.0909, s1.loss_mask: 0.0877, s2.loss_cls: 0.0416, s2.acc: 94.6489, s2.loss_bbox: 0.0349, s2.loss_mask: 0.0401, loss: 1.0577, grad_norm: 6.2197\n",
      "2021-05-20 09:23:25,618 - mmdet - INFO - Epoch [15][900/1091]\tlr: 1.000e-06, eta: 0:04:04, time: 1.287, data_time: 0.052, memory: 23519, loss_rpn_cls: 0.0264, loss_rpn_bbox: 0.0297, s0.loss_cls: 0.1543, s0.acc: 94.6953, s0.loss_bbox: 0.2109, s0.loss_mask: 0.1792, s1.loss_cls: 0.0695, s1.acc: 95.2328, s1.loss_bbox: 0.0853, s1.loss_mask: 0.0784, s2.loss_cls: 0.0348, s2.acc: 95.1883, s2.loss_bbox: 0.0334, s2.loss_mask: 0.0359, loss: 0.9378, grad_norm: 5.7072\n"
     ]
    },
    {
     "name": "stderr",
     "output_type": "stream",
     "text": [
      "2021-05-20 09:24:29,878 - mmdet - INFO - Epoch [15][950/1091]\tlr: 1.000e-06, eta: 0:03:00, time: 1.285, data_time: 0.051, memory: 23519, loss_rpn_cls: 0.0275, loss_rpn_bbox: 0.0272, s0.loss_cls: 0.1740, s0.acc: 94.2070, s0.loss_bbox: 0.2142, s0.loss_mask: 0.1990, s1.loss_cls: 0.0797, s1.acc: 94.5774, s1.loss_bbox: 0.0866, s1.loss_mask: 0.0890, s2.loss_cls: 0.0385, s2.acc: 94.6724, s2.loss_bbox: 0.0332, s2.loss_mask: 0.0411, loss: 1.0098, grad_norm: 5.6063\n",
      "2021-05-20 09:25:32,886 - mmdet - INFO - Epoch [15][1000/1091]\tlr: 1.000e-06, eta: 0:01:56, time: 1.260, data_time: 0.047, memory: 23519, loss_rpn_cls: 0.0267, loss_rpn_bbox: 0.0234, s0.loss_cls: 0.1619, s0.acc: 94.6250, s0.loss_bbox: 0.2159, s0.loss_mask: 0.1976, s1.loss_cls: 0.0758, s1.acc: 95.1677, s1.loss_bbox: 0.0835, s1.loss_mask: 0.0866, s2.loss_cls: 0.0365, s2.acc: 95.2770, s2.loss_bbox: 0.0320, s2.loss_mask: 0.0382, loss: 0.9781, grad_norm: 5.7956\n",
      "2021-05-20 09:26:38,043 - mmdet - INFO - Epoch [15][1050/1091]\tlr: 1.000e-06, eta: 0:00:52, time: 1.303, data_time: 0.054, memory: 23519, loss_rpn_cls: 0.0266, loss_rpn_bbox: 0.0259, s0.loss_cls: 0.1695, s0.acc: 94.4661, s0.loss_bbox: 0.2185, s0.loss_mask: 0.1918, s1.loss_cls: 0.0789, s1.acc: 94.8661, s1.loss_bbox: 0.0911, s1.loss_mask: 0.0854, s2.loss_cls: 0.0384, s2.acc: 94.8401, s2.loss_bbox: 0.0363, s2.loss_mask: 0.0395, loss: 1.0018, grad_norm: 5.8931\n",
      "2021-05-20 09:27:30,512 - mmdet - INFO - Saving checkpoint at 15 epochs\n"
     ]
    },
    {
     "name": "stdout",
     "output_type": "stream",
     "text": [
      "[>>>>>>>>>>>>>>>>>>>>>>>>>>>>>] 655/655, 3.1 task/s, elapsed: 208s, ETA:     0s"
     ]
    },
    {
     "name": "stderr",
     "output_type": "stream",
     "text": [
      "2021-05-20 09:31:05,464 - mmdet - INFO - Evaluating bbox...\n"
     ]
    },
    {
     "name": "stdout",
     "output_type": "stream",
     "text": [
      "Loading and preparing results...\n",
      "DONE (t=0.14s)\n",
      "creating index...\n",
      "index created!\n",
      "Running per image evaluation...\n",
      "Evaluate annotation type *bbox*\n",
      "DONE (t=7.48s).\n",
      "Accumulating evaluation results...\n",
      "DONE (t=0.96s).\n",
      "Average Precision  (AP) @[ IoU=0.50:0.95 | area=   all | maxDets=100 ] = 0.523\n",
      "Average Precision  (AP) @[ IoU=0.50      | area=   all | maxDets=1000 ] = 0.668\n",
      "Average Precision  (AP) @[ IoU=0.75      | area=   all | maxDets=1000 ] = 0.556\n",
      "Average Precision  (AP) @[ IoU=0.50:0.95 | area= small | maxDets=1000 ] = 0.209\n",
      "Average Precision  (AP) @[ IoU=0.50:0.95 | area=medium | maxDets=1000 ] = 0.517\n",
      "Average Precision  (AP) @[ IoU=0.50:0.95 | area= large | maxDets=1000 ] = 0.772\n",
      "Average Recall     (AR) @[ IoU=0.50:0.95 | area=   all | maxDets=100 ] = 0.628\n",
      "Average Recall     (AR) @[ IoU=0.50:0.95 | area=   all | maxDets=300 ] = 0.628\n",
      "Average Recall     (AR) @[ IoU=0.50:0.95 | area=   all | maxDets=1000 ] = 0.628\n",
      "Average Recall     (AR) @[ IoU=0.50:0.95 | area= small | maxDets=1000 ] = 0.320\n",
      "Average Recall     (AR) @[ IoU=0.50:0.95 | area=medium | maxDets=1000 ] = 0.652\n",
      "Average Recall     (AR) @[ IoU=0.50:0.95 | area= large | maxDets=1000 ] = 0.836\n"
     ]
    },
    {
     "name": "stderr",
     "output_type": "stream",
     "text": [
      "2021-05-20 09:31:18,889 - mmdet - INFO - Now best checkpoint is epoch_15.pth.Best bbox_mAP_50 is 0.6680\n",
      "2021-05-20 09:31:18,925 - mmdet - INFO - Epoch(val) [15][1091]\tbbox_mAP: 0.5230, bbox_mAP_50: 0.6680, bbox_mAP_75: 0.5560, bbox_mAP_s: 0.2090, bbox_mAP_m: 0.5170, bbox_mAP_l: 0.7720, bbox_mAP_copypaste: 0.523 0.668 0.556 0.209 0.517 0.772\n"
     ]
    }
   ],
   "source": [
    "train_detector(model, datasets[0], cfg, distributed=False, validate=True)"
   ]
  }
 ],
 "metadata": {
  "kernelspec": {
   "display_name": "Python 3",
   "language": "python",
   "name": "python3"
  },
  "language_info": {
   "codemirror_mode": {
    "name": "ipython",
    "version": 3
   },
   "file_extension": ".py",
   "mimetype": "text/x-python",
   "name": "python",
   "nbconvert_exporter": "python",
   "pygments_lexer": "ipython3",
   "version": "3.6.5"
  }
 },
 "nbformat": 4,
 "nbformat_minor": 5
}
