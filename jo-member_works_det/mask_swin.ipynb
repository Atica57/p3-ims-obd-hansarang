{
 "cells": [
  {
   "cell_type": "code",
   "execution_count": 33,
   "metadata": {},
   "outputs": [],
   "source": [
    "from mmcv import Config\n",
    "from mmdet.datasets import build_dataset\n",
    "from mmdet.models import build_detector\n",
    "from mmdet.apis import train_detector\n",
    "from mmdet.datasets import (build_dataloader, build_dataset,\n",
    "                            replace_ImageToTensor)\n",
    "from mmcv.runner import load_checkpoint\n",
    "from tqdm.notebook import tqdm\n"
   ]
  },
  {
   "cell_type": "code",
   "execution_count": 34,
   "metadata": {},
   "outputs": [],
   "source": [
    "classes = (\"UNKNOWN\", \"General trash\", \"Paper\", \"Paper pack\", \"Metal\", \"Glass\", \n",
    "           \"Plastic\", \"Styrofoam\", \"Plastic bag\", \"Battery\", \"Clothing\")\n",
    "# config file 들고오기\n",
    "cfg = Config.fromfile('./configs/swin/mask_rcnn_swin_small.py')\n",
    "\n",
    "PREFIX = '../../input/data/'\n",
    "\n",
    "# dataset 바꾸기\n",
    "cfg.data.train.classes = classes\n",
    "cfg.data.train.img_prefix = PREFIX\n",
    "cfg.data.train.ann_file = PREFIX + 'train.json'\n",
    "\n",
    "cfg.data.val.classes = classes\n",
    "cfg.data.val.img_prefix = PREFIX\n",
    "cfg.data.val.ann_file = PREFIX + 'val.json'\n",
    "cfg.data.val.pipeline[1]['img_scale'] = (512, 512)\n",
    "\n",
    "cfg.data.test.classes = classes\n",
    "cfg.data.test.img_prefix = PREFIX\n",
    "cfg.data.test.ann_file = PREFIX + 'test.json'\n",
    "cfg.data.test.pipeline[1]['img_scale'] = (512, 512)\n",
    "\n",
    "\n",
    "cfg.data.samples_per_gpu = 4\n",
    "\n",
    "cfg.seed=42\n",
    "cfg.gpu_ids = [0]\n",
    "cfg.work_dir = './work_dirs/swin'\n",
    "\n",
    "\n",
    "cfg.optimizer_config.grad_clip = dict(max_norm=35, norm_type=2)"
   ]
  },
  {
   "cell_type": "code",
   "execution_count": 35,
   "metadata": {},
   "outputs": [
    {
     "name": "stderr",
     "output_type": "stream",
     "text": [
      "2021-05-14 17:29:41,354 - mmdet - INFO - load model from: /home/ubuntu/CUAI_2021/Advanced_Won_Cho/code/Swin-Transformer-Object-Detection/work_dirs/swin/swin_small_patch4_window7_224.pth\n",
      "2021-05-14 17:29:42,175 - mmdet - WARNING - The model and loaded state dict do not match exactly\n",
      "\n",
      "unexpected key in source state_dict: norm.weight, norm.bias, head.weight, head.bias, layers.0.blocks.1.attn_mask, layers.1.blocks.1.attn_mask, layers.2.blocks.1.attn_mask, layers.2.blocks.3.attn_mask, layers.2.blocks.5.attn_mask, layers.2.blocks.7.attn_mask, layers.2.blocks.9.attn_mask, layers.2.blocks.11.attn_mask, layers.2.blocks.13.attn_mask, layers.2.blocks.15.attn_mask, layers.2.blocks.17.attn_mask\n",
      "\n",
      "missing keys in source state_dict: norm0.weight, norm0.bias, norm1.weight, norm1.bias, norm2.weight, norm2.bias, norm3.weight, norm3.bias\n",
      "\n"
     ]
    }
   ],
   "source": [
    "model = build_detector(cfg.model)\n",
    "model.backbone.use_checkpoint=True"
   ]
  },
  {
   "cell_type": "code",
   "execution_count": 36,
   "metadata": {},
   "outputs": [
    {
     "name": "stdout",
     "output_type": "stream",
     "text": [
      "loading annotations into memory...\n",
      "Done (t=3.94s)\n",
      "creating index...\n",
      "index created!\n"
     ]
    }
   ],
   "source": [
    "datasets = [build_dataset(cfg.data.train)]"
   ]
  },
  {
   "cell_type": "code",
   "execution_count": null,
   "metadata": {
    "scrolled": true
   },
   "outputs": [
    {
     "name": "stdout",
     "output_type": "stream",
     "text": [
      "loading annotations into memory...\n"
     ]
    },
    {
     "name": "stderr",
     "output_type": "stream",
     "text": [
      "2021-05-14 17:29:48,284 - mmdet - INFO - Start running, host: ubuntu@nipa2021-1083, work_dir: /home/ubuntu/CUAI_2021/Advanced_Won_Cho/code/Swin-Transformer-Object-Detection/work_dirs/swin\n",
      "2021-05-14 17:29:48,284 - mmdet - INFO - workflow: [('train', 1)], max: 20 epochs\n"
     ]
    },
    {
     "name": "stdout",
     "output_type": "stream",
     "text": [
      "Done (t=1.75s)\n",
      "creating index...\n",
      "index created!\n"
     ]
    },
    {
     "name": "stderr",
     "output_type": "stream",
     "text": [
      "2021-05-14 17:30:11,771 - mmdet - INFO - Epoch [1][50/655]\tlr: 1.229e-05, eta: 1:42:08, time: 0.470, data_time: 0.074, memory: 16543, loss_rpn_cls: 0.6897, loss_rpn_bbox: 0.0002, loss_cls: 2.1925, acc: 45.5900, loss_bbox: 0.0041, loss_mask: 0.7062, loss: 3.5927, grad_norm: 14.3971\n",
      "2021-05-14 17:30:32,988 - mmdet - INFO - Epoch [1][100/655]\tlr: 2.478e-05, eta: 1:36:50, time: 0.424, data_time: 0.032, memory: 16543, loss_rpn_cls: 0.6393, loss_rpn_bbox: 0.0007, loss_cls: 0.4454, acc: 97.5014, loss_bbox: 0.0042, loss_mask: 0.6968, loss: 1.7865, grad_norm: 7.4289\n",
      "2021-05-14 17:30:54,252 - mmdet - INFO - Epoch [1][150/655]\tlr: 3.726e-05, eta: 1:34:54, time: 0.425, data_time: 0.033, memory: 16543, loss_rpn_cls: 0.4638, loss_rpn_bbox: 0.0005, loss_cls: 0.1348, acc: 97.0482, loss_bbox: 0.0076, loss_mask: 0.6959, loss: 1.3026, grad_norm: 2.7597\n",
      "2021-05-14 17:31:15,214 - mmdet - INFO - Epoch [1][200/655]\tlr: 4.975e-05, eta: 1:33:26, time: 0.419, data_time: 0.028, memory: 16543, loss_rpn_cls: 0.2003, loss_rpn_bbox: 0.0005, loss_cls: 0.1188, acc: 97.9134, loss_bbox: 0.0046, loss_mask: 0.6888, loss: 1.0130, grad_norm: 2.4746\n",
      "2021-05-14 17:31:36,419 - mmdet - INFO - Epoch [1][250/655]\tlr: 5.000e-05, eta: 1:32:37, time: 0.424, data_time: 0.030, memory: 16543, loss_rpn_cls: 0.0673, loss_rpn_bbox: 0.0007, loss_cls: 0.1716, acc: 98.1433, loss_bbox: 0.0043, loss_mask: 0.6868, loss: 0.9306, grad_norm: 1.9156\n",
      "2021-05-14 17:31:57,492 - mmdet - INFO - Epoch [1][300/655]\tlr: 5.000e-05, eta: 1:31:52, time: 0.421, data_time: 0.030, memory: 16543, loss_rpn_cls: 0.0342, loss_rpn_bbox: 0.0013, loss_cls: 0.1327, acc: 98.3423, loss_bbox: 0.0054, loss_mask: 0.6749, loss: 0.8486, grad_norm: 2.2109\n",
      "2021-05-14 17:32:18,647 - mmdet - INFO - Epoch [1][350/655]\tlr: 5.000e-05, eta: 1:31:17, time: 0.423, data_time: 0.032, memory: 16543, loss_rpn_cls: 0.0203, loss_rpn_bbox: 0.0006, loss_cls: 0.0745, acc: 98.0858, loss_bbox: 0.0069, loss_mask: 0.6629, loss: 0.7652, grad_norm: 2.1241\n",
      "2021-05-14 17:32:40,103 - mmdet - INFO - Epoch [1][400/655]\tlr: 5.000e-05, eta: 1:30:54, time: 0.429, data_time: 0.031, memory: 16543, loss_rpn_cls: 0.0182, loss_rpn_bbox: 0.0012, loss_cls: 0.0743, acc: 97.9537, loss_bbox: 0.0093, loss_mask: 0.6520, loss: 0.7551, grad_norm: 2.4749\n",
      "2021-05-14 17:33:01,590 - mmdet - INFO - Epoch [1][450/655]\tlr: 5.000e-05, eta: 1:30:33, time: 0.430, data_time: 0.036, memory: 16543, loss_rpn_cls: 0.0127, loss_rpn_bbox: 0.0005, loss_cls: 0.0636, acc: 97.7251, loss_bbox: 0.0044, loss_mask: 0.6185, loss: 0.6997, grad_norm: 1.4105\n",
      "2021-05-14 17:33:23,232 - mmdet - INFO - Epoch [1][500/655]\tlr: 5.000e-05, eta: 1:30:16, time: 0.433, data_time: 0.033, memory: 16543, loss_rpn_cls: 0.0156, loss_rpn_bbox: 0.0016, loss_cls: 0.0661, acc: 97.9686, loss_bbox: 0.0101, loss_mask: 0.6193, loss: 0.7127, grad_norm: 2.5611\n",
      "2021-05-14 17:33:44,753 - mmdet - INFO - Epoch [1][550/655]\tlr: 5.000e-05, eta: 1:29:55, time: 0.430, data_time: 0.034, memory: 16543, loss_rpn_cls: 0.0154, loss_rpn_bbox: 0.0015, loss_cls: 0.0667, acc: 98.0130, loss_bbox: 0.0093, loss_mask: 0.6109, loss: 0.7039, grad_norm: 3.0868\n",
      "2021-05-14 17:34:05,942 - mmdet - INFO - Epoch [1][600/655]\tlr: 5.000e-05, eta: 1:29:27, time: 0.424, data_time: 0.029, memory: 16543, loss_rpn_cls: 0.0091, loss_rpn_bbox: 0.0004, loss_cls: 0.0593, acc: 98.3447, loss_bbox: 0.0032, loss_mask: 0.6047, loss: 0.6767, grad_norm: 1.9727\n",
      "2021-05-14 17:34:26,995 - mmdet - INFO - Epoch [1][650/655]\tlr: 5.000e-05, eta: 1:28:58, time: 0.421, data_time: 0.030, memory: 16543, loss_rpn_cls: 0.0084, loss_rpn_bbox: 0.0004, loss_cls: 0.0537, acc: 98.1074, loss_bbox: 0.0052, loss_mask: 0.6085, loss: 0.6762, grad_norm: 0.8750\n",
      "2021-05-14 17:34:29,180 - mmdet - INFO - Saving checkpoint at 1 epochs\n"
     ]
    },
    {
     "name": "stdout",
     "output_type": "stream",
     "text": [
      "[>>>>>>>>>>>>>>>>>>>>>>>>>>>>>] 655/655, 16.8 task/s, elapsed: 39s, ETA:     0s"
     ]
    },
    {
     "name": "stderr",
     "output_type": "stream",
     "text": [
      "2021-05-14 17:35:12,610 - mmdet - INFO - Evaluating bbox...\n"
     ]
    },
    {
     "name": "stdout",
     "output_type": "stream",
     "text": [
      "Loading and preparing results...\n",
      "DONE (t=0.00s)\n",
      "creating index...\n",
      "index created!\n",
      "Running per image evaluation...\n",
      "Evaluate annotation type *bbox*\n"
     ]
    },
    {
     "name": "stderr",
     "output_type": "stream",
     "text": [
      "2021-05-14 17:35:13,139 - mmdet - INFO - Evaluating segm...\n"
     ]
    },
    {
     "name": "stdout",
     "output_type": "stream",
     "text": [
      "DONE (t=0.40s).\n",
      "Accumulating evaluation results...\n",
      "DONE (t=0.12s).\n",
      "Average Precision  (AP) @[ IoU=0.50:0.95 | area=   all | maxDets=100 ] = 0.000\n",
      "Average Precision  (AP) @[ IoU=0.50      | area=   all | maxDets=1000 ] = 0.000\n",
      "Average Precision  (AP) @[ IoU=0.75      | area=   all | maxDets=1000 ] = 0.000\n",
      "Average Precision  (AP) @[ IoU=0.50:0.95 | area= small | maxDets=1000 ] = 0.000\n",
      "Average Precision  (AP) @[ IoU=0.50:0.95 | area=medium | maxDets=1000 ] = 0.000\n",
      "Average Precision  (AP) @[ IoU=0.50:0.95 | area= large | maxDets=1000 ] = 0.000\n",
      "Average Recall     (AR) @[ IoU=0.50:0.95 | area=   all | maxDets=100 ] = 0.000\n",
      "Average Recall     (AR) @[ IoU=0.50:0.95 | area=   all | maxDets=300 ] = 0.000\n",
      "Average Recall     (AR) @[ IoU=0.50:0.95 | area=   all | maxDets=1000 ] = 0.000\n",
      "Average Recall     (AR) @[ IoU=0.50:0.95 | area= small | maxDets=1000 ] = 0.000\n",
      "Average Recall     (AR) @[ IoU=0.50:0.95 | area=medium | maxDets=1000 ] = 0.000\n",
      "Average Recall     (AR) @[ IoU=0.50:0.95 | area= large | maxDets=1000 ] = 0.000\n",
      "Loading and preparing results...\n",
      "DONE (t=0.00s)\n",
      "creating index...\n",
      "index created!\n",
      "Running per image evaluation...\n",
      "Evaluate annotation type *segm*\n"
     ]
    },
    {
     "name": "stderr",
     "output_type": "stream",
     "text": [
      "2021-05-14 17:35:14,451 - mmdet - INFO - Epoch(val) [1][655]\tbbox_mAP: 0.0000, bbox_mAP_50: 0.0000, bbox_mAP_75: 0.0000, bbox_mAP_s: 0.0000, bbox_mAP_m: 0.0000, bbox_mAP_l: 0.0000, bbox_mAP_copypaste: 0.000 0.000 0.000 0.000 0.000 0.000, segm_mAP: 0.0000, segm_mAP_50: 0.0000, segm_mAP_75: 0.0000, segm_mAP_s: 0.0000, segm_mAP_m: 0.0000, segm_mAP_l: 0.0000, segm_mAP_copypaste: 0.000 0.000 0.000 0.000 0.000 0.000\n"
     ]
    },
    {
     "name": "stdout",
     "output_type": "stream",
     "text": [
      "DONE (t=1.15s).\n",
      "Accumulating evaluation results...\n",
      "DONE (t=0.12s).\n",
      "Average Precision  (AP) @[ IoU=0.50:0.95 | area=   all | maxDets=100 ] = 0.000\n",
      "Average Precision  (AP) @[ IoU=0.50      | area=   all | maxDets=1000 ] = 0.000\n",
      "Average Precision  (AP) @[ IoU=0.75      | area=   all | maxDets=1000 ] = 0.000\n",
      "Average Precision  (AP) @[ IoU=0.50:0.95 | area= small | maxDets=1000 ] = 0.000\n",
      "Average Precision  (AP) @[ IoU=0.50:0.95 | area=medium | maxDets=1000 ] = 0.000\n",
      "Average Precision  (AP) @[ IoU=0.50:0.95 | area= large | maxDets=1000 ] = 0.000\n",
      "Average Recall     (AR) @[ IoU=0.50:0.95 | area=   all | maxDets=100 ] = 0.000\n",
      "Average Recall     (AR) @[ IoU=0.50:0.95 | area=   all | maxDets=300 ] = 0.000\n",
      "Average Recall     (AR) @[ IoU=0.50:0.95 | area=   all | maxDets=1000 ] = 0.000\n",
      "Average Recall     (AR) @[ IoU=0.50:0.95 | area= small | maxDets=1000 ] = 0.000\n",
      "Average Recall     (AR) @[ IoU=0.50:0.95 | area=medium | maxDets=1000 ] = 0.000\n",
      "Average Recall     (AR) @[ IoU=0.50:0.95 | area= large | maxDets=1000 ] = 0.000\n"
     ]
    },
    {
     "name": "stderr",
     "output_type": "stream",
     "text": [
      "2021-05-14 17:35:37,880 - mmdet - INFO - Epoch [2][50/655]\tlr: 5.000e-05, eta: 1:28:31, time: 0.468, data_time: 0.076, memory: 16543, loss_rpn_cls: 0.0084, loss_rpn_bbox: 0.0008, loss_cls: 0.0488, acc: 98.3488, loss_bbox: 0.0051, loss_mask: 0.6024, loss: 0.6655, grad_norm: 0.9952\n",
      "2021-05-14 17:35:58,923 - mmdet - INFO - Epoch [2][100/655]\tlr: 5.000e-05, eta: 1:28:03, time: 0.421, data_time: 0.031, memory: 16543, loss_rpn_cls: 0.0089, loss_rpn_bbox: 0.0009, loss_cls: 0.0608, acc: 97.9620, loss_bbox: 0.0068, loss_mask: 0.6020, loss: 0.6795, grad_norm: 1.0617\n",
      "2021-05-14 17:36:19,846 - mmdet - INFO - Epoch [2][150/655]\tlr: 5.000e-05, eta: 1:27:35, time: 0.418, data_time: 0.028, memory: 16543, loss_rpn_cls: 0.0045, loss_rpn_bbox: 0.0002, loss_cls: 0.0512, acc: 98.1930, loss_bbox: 0.0043, loss_mask: 0.5958, loss: 0.6559, grad_norm: 0.9257\n",
      "2021-05-14 17:36:41,518 - mmdet - INFO - Epoch [2][200/655]\tlr: 5.000e-05, eta: 1:27:18, time: 0.433, data_time: 0.029, memory: 16543, loss_rpn_cls: 0.0051, loss_rpn_bbox: 0.0004, loss_cls: 0.0471, acc: 98.3214, loss_bbox: 0.0044, loss_mask: 0.5997, loss: 0.6566, grad_norm: 0.9554\n",
      "2021-05-14 17:37:02,971 - mmdet - INFO - Epoch [2][250/655]\tlr: 5.000e-05, eta: 1:26:57, time: 0.429, data_time: 0.029, memory: 16543, loss_rpn_cls: 0.0071, loss_rpn_bbox: 0.0005, loss_cls: 0.0565, acc: 98.2025, loss_bbox: 0.0066, loss_mask: 0.6055, loss: 0.6762, grad_norm: 1.1134\n",
      "2021-05-14 17:37:24,415 - mmdet - INFO - Epoch [2][300/655]\tlr: 5.000e-05, eta: 1:26:36, time: 0.429, data_time: 0.031, memory: 16543, loss_rpn_cls: 0.0058, loss_rpn_bbox: 0.0005, loss_cls: 0.0639, acc: 98.0836, loss_bbox: 0.0052, loss_mask: 0.6007, loss: 0.6761, grad_norm: 0.7952\n",
      "2021-05-14 17:37:45,355 - mmdet - INFO - Epoch [2][350/655]\tlr: 5.000e-05, eta: 1:26:09, time: 0.419, data_time: 0.029, memory: 16543, loss_rpn_cls: 0.0064, loss_rpn_bbox: 0.0006, loss_cls: 0.0684, acc: 98.3143, loss_bbox: 0.0037, loss_mask: 0.6010, loss: 0.6801, grad_norm: 0.8088\n",
      "2021-05-14 17:38:06,540 - mmdet - INFO - Epoch [2][400/655]\tlr: 5.000e-05, eta: 1:25:46, time: 0.424, data_time: 0.031, memory: 16543, loss_rpn_cls: 0.0050, loss_rpn_bbox: 0.0005, loss_cls: 0.0586, acc: 98.0252, loss_bbox: 0.0080, loss_mask: 0.6032, loss: 0.6754, grad_norm: 1.2006\n",
      "2021-05-14 17:38:27,789 - mmdet - INFO - Epoch [2][450/655]\tlr: 5.000e-05, eta: 1:25:23, time: 0.425, data_time: 0.030, memory: 16543, loss_rpn_cls: 0.0064, loss_rpn_bbox: 0.0005, loss_cls: 0.0584, acc: 97.9879, loss_bbox: 0.0052, loss_mask: 0.5950, loss: 0.6655, grad_norm: 0.8972\n",
      "2021-05-14 17:38:48,934 - mmdet - INFO - Epoch [2][500/655]\tlr: 5.000e-05, eta: 1:25:00, time: 0.423, data_time: 0.028, memory: 16543, loss_rpn_cls: 0.0042, loss_rpn_bbox: 0.0004, loss_cls: 0.0608, acc: 98.1179, loss_bbox: 0.0050, loss_mask: 0.6017, loss: 0.6721, grad_norm: 1.0078\n",
      "2021-05-14 17:39:10,063 - mmdet - INFO - Epoch [2][550/655]\tlr: 5.000e-05, eta: 1:24:36, time: 0.423, data_time: 0.030, memory: 16543, loss_rpn_cls: 0.0026, loss_rpn_bbox: 0.0001, loss_cls: 0.0590, acc: 97.9917, loss_bbox: 0.0041, loss_mask: 0.6033, loss: 0.6691, grad_norm: 0.8008\n",
      "2021-05-14 17:39:31,400 - mmdet - INFO - Epoch [2][600/655]\tlr: 5.000e-05, eta: 1:24:15, time: 0.427, data_time: 0.033, memory: 16543, loss_rpn_cls: 0.0055, loss_rpn_bbox: 0.0005, loss_cls: 0.0617, acc: 97.8569, loss_bbox: 0.0068, loss_mask: 0.5991, loss: 0.6736, grad_norm: 1.0131\n",
      "2021-05-14 17:39:52,704 - mmdet - INFO - Epoch [2][650/655]\tlr: 5.000e-05, eta: 1:23:53, time: 0.426, data_time: 0.032, memory: 16543, loss_rpn_cls: 0.0062, loss_rpn_bbox: 0.0007, loss_cls: 0.0600, acc: 97.9684, loss_bbox: 0.0068, loss_mask: 0.5898, loss: 0.6634, grad_norm: 1.7750\n",
      "2021-05-14 17:39:54,821 - mmdet - INFO - Saving checkpoint at 2 epochs\n"
     ]
    },
    {
     "name": "stdout",
     "output_type": "stream",
     "text": [
      "[>>>>>>>>>>>>>>>>>>>>>>>>>>>>>] 655/655, 15.6 task/s, elapsed: 42s, ETA:     0s"
     ]
    },
    {
     "name": "stderr",
     "output_type": "stream",
     "text": [
      "2021-05-14 17:40:38,716 - mmdet - INFO - Evaluating bbox...\n"
     ]
    },
    {
     "name": "stdout",
     "output_type": "stream",
     "text": [
      "Loading and preparing results...\n",
      "DONE (t=0.00s)\n",
      "creating index...\n",
      "index created!\n",
      "Running per image evaluation...\n",
      "Evaluate annotation type *bbox*\n"
     ]
    },
    {
     "name": "stderr",
     "output_type": "stream",
     "text": [
      "2021-05-14 17:40:40,190 - mmdet - INFO - Evaluating segm...\n"
     ]
    },
    {
     "name": "stdout",
     "output_type": "stream",
     "text": [
      "DONE (t=1.31s).\n",
      "Accumulating evaluation results...\n",
      "DONE (t=0.16s).\n",
      "Average Precision  (AP) @[ IoU=0.50:0.95 | area=   all | maxDets=100 ] = 0.000\n",
      "Average Precision  (AP) @[ IoU=0.50      | area=   all | maxDets=1000 ] = 0.000\n",
      "Average Precision  (AP) @[ IoU=0.75      | area=   all | maxDets=1000 ] = 0.000\n",
      "Average Precision  (AP) @[ IoU=0.50:0.95 | area= small | maxDets=1000 ] = 0.000\n",
      "Average Precision  (AP) @[ IoU=0.50:0.95 | area=medium | maxDets=1000 ] = 0.000\n",
      "Average Precision  (AP) @[ IoU=0.50:0.95 | area= large | maxDets=1000 ] = 0.000\n",
      "Average Recall     (AR) @[ IoU=0.50:0.95 | area=   all | maxDets=100 ] = 0.000\n",
      "Average Recall     (AR) @[ IoU=0.50:0.95 | area=   all | maxDets=300 ] = 0.000\n",
      "Average Recall     (AR) @[ IoU=0.50:0.95 | area=   all | maxDets=1000 ] = 0.000\n",
      "Average Recall     (AR) @[ IoU=0.50:0.95 | area= small | maxDets=1000 ] = 0.000\n",
      "Average Recall     (AR) @[ IoU=0.50:0.95 | area=medium | maxDets=1000 ] = 0.000\n",
      "Average Recall     (AR) @[ IoU=0.50:0.95 | area= large | maxDets=1000 ] = 0.001\n",
      "Loading and preparing results...\n",
      "DONE (t=0.01s)\n",
      "creating index...\n",
      "index created!\n",
      "Running per image evaluation...\n",
      "Evaluate annotation type *segm*\n"
     ]
    },
    {
     "name": "stderr",
     "output_type": "stream",
     "text": [
      "2021-05-14 17:40:40,989 - mmdet - INFO - Epoch(val) [2][655]\tbbox_mAP: 0.0000, bbox_mAP_50: 0.0000, bbox_mAP_75: 0.0000, bbox_mAP_s: 0.0000, bbox_mAP_m: 0.0000, bbox_mAP_l: 0.0000, bbox_mAP_copypaste: 0.000 0.000 0.000 0.000 0.000 0.000, segm_mAP: 0.0000, segm_mAP_50: 0.0000, segm_mAP_75: 0.0000, segm_mAP_s: 0.0000, segm_mAP_m: 0.0000, segm_mAP_l: 0.0000, segm_mAP_copypaste: 0.000 0.000 0.000 0.000 0.000 0.000\n"
     ]
    },
    {
     "name": "stdout",
     "output_type": "stream",
     "text": [
      "DONE (t=0.60s).\n",
      "Accumulating evaluation results...\n",
      "DONE (t=0.15s).\n",
      "Average Precision  (AP) @[ IoU=0.50:0.95 | area=   all | maxDets=100 ] = 0.000\n",
      "Average Precision  (AP) @[ IoU=0.50      | area=   all | maxDets=1000 ] = 0.000\n",
      "Average Precision  (AP) @[ IoU=0.75      | area=   all | maxDets=1000 ] = 0.000\n",
      "Average Precision  (AP) @[ IoU=0.50:0.95 | area= small | maxDets=1000 ] = 0.000\n",
      "Average Precision  (AP) @[ IoU=0.50:0.95 | area=medium | maxDets=1000 ] = 0.000\n",
      "Average Precision  (AP) @[ IoU=0.50:0.95 | area= large | maxDets=1000 ] = 0.000\n",
      "Average Recall     (AR) @[ IoU=0.50:0.95 | area=   all | maxDets=100 ] = 0.000\n",
      "Average Recall     (AR) @[ IoU=0.50:0.95 | area=   all | maxDets=300 ] = 0.000\n",
      "Average Recall     (AR) @[ IoU=0.50:0.95 | area=   all | maxDets=1000 ] = 0.000\n",
      "Average Recall     (AR) @[ IoU=0.50:0.95 | area= small | maxDets=1000 ] = 0.000\n",
      "Average Recall     (AR) @[ IoU=0.50:0.95 | area=medium | maxDets=1000 ] = 0.000\n",
      "Average Recall     (AR) @[ IoU=0.50:0.95 | area= large | maxDets=1000 ] = 0.000\n"
     ]
    },
    {
     "name": "stderr",
     "output_type": "stream",
     "text": [
      "2021-05-14 17:41:04,862 - mmdet - INFO - Epoch [3][50/655]\tlr: 5.000e-05, eta: 1:23:33, time: 0.477, data_time: 0.083, memory: 16543, loss_rpn_cls: 0.0057, loss_rpn_bbox: 0.0005, loss_cls: 0.0606, acc: 97.8226, loss_bbox: 0.0051, loss_mask: 0.5954, loss: 0.6674, grad_norm: 1.2056\n",
      "2021-05-14 17:41:25,900 - mmdet - INFO - Epoch [3][100/655]\tlr: 5.000e-05, eta: 1:23:09, time: 0.421, data_time: 0.029, memory: 16543, loss_rpn_cls: 0.0035, loss_rpn_bbox: 0.0003, loss_cls: 0.0487, acc: 98.2065, loss_bbox: 0.0045, loss_mask: 0.5933, loss: 0.6504, grad_norm: 1.2085\n",
      "2021-05-14 17:41:47,163 - mmdet - INFO - Epoch [3][150/655]\tlr: 5.000e-05, eta: 1:22:47, time: 0.425, data_time: 0.031, memory: 16543, loss_rpn_cls: 0.0127, loss_rpn_bbox: 0.0012, loss_cls: 0.0851, acc: 97.9980, loss_bbox: 0.0096, loss_mask: 0.5913, loss: 0.6998, grad_norm: 1.5260\n",
      "2021-05-14 17:42:08,412 - mmdet - INFO - Epoch [3][200/655]\tlr: 5.000e-05, eta: 1:22:25, time: 0.425, data_time: 0.032, memory: 16543, loss_rpn_cls: 0.0073, loss_rpn_bbox: 0.0010, loss_cls: 0.2075, acc: 98.2052, loss_bbox: 0.0043, loss_mask: 0.6082, loss: 0.8282, grad_norm: 1.2705\n",
      "2021-05-14 17:42:29,905 - mmdet - INFO - Epoch [3][250/655]\tlr: 5.000e-05, eta: 1:22:05, time: 0.430, data_time: 0.034, memory: 16543, loss_rpn_cls: 0.0049, loss_rpn_bbox: 0.0005, loss_cls: 0.1781, acc: 98.0195, loss_bbox: 0.0037, loss_mask: 0.5987, loss: 0.7859, grad_norm: 0.6939\n",
      "2021-05-14 17:42:50,795 - mmdet - INFO - Epoch [3][300/655]\tlr: 5.000e-05, eta: 1:21:40, time: 0.418, data_time: 0.027, memory: 16543, loss_rpn_cls: 0.0060, loss_rpn_bbox: 0.0007, loss_cls: 0.1206, acc: 98.3201, loss_bbox: 0.0063, loss_mask: 0.5940, loss: 0.7276, grad_norm: 0.9709\n",
      "2021-05-14 17:43:12,181 - mmdet - INFO - Epoch [3][350/655]\tlr: 5.000e-05, eta: 1:21:19, time: 0.428, data_time: 0.031, memory: 16543, loss_rpn_cls: 0.0046, loss_rpn_bbox: 0.0003, loss_cls: 0.0695, acc: 97.8911, loss_bbox: 0.0071, loss_mask: 0.5955, loss: 0.6769, grad_norm: 0.8015\n",
      "2021-05-14 17:43:33,237 - mmdet - INFO - Epoch [3][400/655]\tlr: 5.000e-05, eta: 1:20:56, time: 0.421, data_time: 0.029, memory: 16543, loss_rpn_cls: 0.0042, loss_rpn_bbox: 0.0004, loss_cls: 0.0641, acc: 98.0952, loss_bbox: 0.0072, loss_mask: 0.5999, loss: 0.6759, grad_norm: 0.8519\n",
      "2021-05-14 17:43:54,219 - mmdet - INFO - Epoch [3][450/655]\tlr: 5.000e-05, eta: 1:20:33, time: 0.420, data_time: 0.028, memory: 16543, loss_rpn_cls: 0.0122, loss_rpn_bbox: 0.0011, loss_cls: 0.0603, acc: 98.0201, loss_bbox: 0.0070, loss_mask: 0.5945, loss: 0.6751, grad_norm: 0.9684\n",
      "2021-05-14 17:44:15,069 - mmdet - INFO - Epoch [3][500/655]\tlr: 5.000e-05, eta: 1:20:09, time: 0.417, data_time: 0.026, memory: 16543, loss_rpn_cls: 0.0021, loss_rpn_bbox: 0.0001, loss_cls: 0.0732, acc: 98.2177, loss_bbox: 0.0042, loss_mask: 0.5829, loss: 0.6626, grad_norm: 0.6948\n",
      "2021-05-14 17:44:36,047 - mmdet - INFO - Epoch [3][550/655]\tlr: 5.000e-05, eta: 1:19:45, time: 0.420, data_time: 0.028, memory: 16543, loss_rpn_cls: 0.0074, loss_rpn_bbox: 0.0008, loss_cls: 0.0894, acc: 97.9795, loss_bbox: 0.0096, loss_mask: 0.5881, loss: 0.6954, grad_norm: 0.8601\n",
      "2021-05-14 17:44:57,375 - mmdet - INFO - Epoch [3][600/655]\tlr: 5.000e-05, eta: 1:19:24, time: 0.427, data_time: 0.031, memory: 16543, loss_rpn_cls: 0.0029, loss_rpn_bbox: 0.0002, loss_cls: 0.1295, acc: 98.0359, loss_bbox: 0.0041, loss_mask: 0.5915, loss: 0.7283, grad_norm: 0.6415\n",
      "2021-05-14 17:45:18,573 - mmdet - INFO - Epoch [3][650/655]\tlr: 5.000e-05, eta: 1:19:03, time: 0.424, data_time: 0.031, memory: 16543, loss_rpn_cls: 0.0049, loss_rpn_bbox: 0.0006, loss_cls: 0.1213, acc: 98.0740, loss_bbox: 0.0073, loss_mask: 0.5852, loss: 0.7194, grad_norm: 0.7465\n",
      "2021-05-14 17:45:20,823 - mmdet - INFO - Saving checkpoint at 3 epochs\n"
     ]
    },
    {
     "name": "stdout",
     "output_type": "stream",
     "text": [
      "[>>>>>>>>>>>>>>>>>>>>>>>>>>>>>] 655/655, 16.9 task/s, elapsed: 39s, ETA:     0s"
     ]
    },
    {
     "name": "stderr",
     "output_type": "stream",
     "text": [
      "2021-05-14 17:46:01,332 - mmdet - INFO - Evaluating bbox...\n"
     ]
    },
    {
     "name": "stdout",
     "output_type": "stream",
     "text": [
      "Loading and preparing results...\n",
      "DONE (t=0.00s)\n",
      "creating index...\n",
      "index created!\n",
      "Running per image evaluation...\n",
      "Evaluate annotation type *bbox*\n"
     ]
    },
    {
     "name": "stderr",
     "output_type": "stream",
     "text": [
      "2021-05-14 17:46:01,909 - mmdet - INFO - Evaluating segm...\n"
     ]
    },
    {
     "name": "stdout",
     "output_type": "stream",
     "text": [
      "DONE (t=0.44s).\n",
      "Accumulating evaluation results...\n",
      "DONE (t=0.14s).\n",
      "Average Precision  (AP) @[ IoU=0.50:0.95 | area=   all | maxDets=100 ] = 0.000\n",
      "Average Precision  (AP) @[ IoU=0.50      | area=   all | maxDets=1000 ] = 0.000\n",
      "Average Precision  (AP) @[ IoU=0.75      | area=   all | maxDets=1000 ] = 0.000\n",
      "Average Precision  (AP) @[ IoU=0.50:0.95 | area= small | maxDets=1000 ] = 0.000\n",
      "Average Precision  (AP) @[ IoU=0.50:0.95 | area=medium | maxDets=1000 ] = 0.000\n",
      "Average Precision  (AP) @[ IoU=0.50:0.95 | area= large | maxDets=1000 ] = 0.000\n",
      "Average Recall     (AR) @[ IoU=0.50:0.95 | area=   all | maxDets=100 ] = 0.000\n",
      "Average Recall     (AR) @[ IoU=0.50:0.95 | area=   all | maxDets=300 ] = 0.000\n",
      "Average Recall     (AR) @[ IoU=0.50:0.95 | area=   all | maxDets=1000 ] = 0.000\n",
      "Average Recall     (AR) @[ IoU=0.50:0.95 | area= small | maxDets=1000 ] = 0.000\n",
      "Average Recall     (AR) @[ IoU=0.50:0.95 | area=medium | maxDets=1000 ] = 0.000\n",
      "Average Recall     (AR) @[ IoU=0.50:0.95 | area= large | maxDets=1000 ] = 0.000\n",
      "Loading and preparing results...\n",
      "DONE (t=0.76s)\n",
      "creating index...\n",
      "index created!\n",
      "Running per image evaluation...\n",
      "Evaluate annotation type *segm*\n"
     ]
    },
    {
     "name": "stderr",
     "output_type": "stream",
     "text": [
      "2021-05-14 17:46:03,300 - mmdet - INFO - Epoch(val) [3][655]\tbbox_mAP: 0.0000, bbox_mAP_50: 0.0000, bbox_mAP_75: 0.0000, bbox_mAP_s: 0.0000, bbox_mAP_m: 0.0000, bbox_mAP_l: 0.0000, bbox_mAP_copypaste: 0.000 0.000 0.000 0.000 0.000 0.000, segm_mAP: 0.0000, segm_mAP_50: 0.0000, segm_mAP_75: 0.0000, segm_mAP_s: 0.0000, segm_mAP_m: 0.0000, segm_mAP_l: 0.0000, segm_mAP_copypaste: 0.000 0.000 0.000 0.000 0.000 0.000\n"
     ]
    },
    {
     "name": "stdout",
     "output_type": "stream",
     "text": [
      "DONE (t=0.46s).\n",
      "Accumulating evaluation results...\n",
      "DONE (t=0.13s).\n",
      "Average Precision  (AP) @[ IoU=0.50:0.95 | area=   all | maxDets=100 ] = 0.000\n",
      "Average Precision  (AP) @[ IoU=0.50      | area=   all | maxDets=1000 ] = 0.000\n",
      "Average Precision  (AP) @[ IoU=0.75      | area=   all | maxDets=1000 ] = 0.000\n",
      "Average Precision  (AP) @[ IoU=0.50:0.95 | area= small | maxDets=1000 ] = 0.000\n",
      "Average Precision  (AP) @[ IoU=0.50:0.95 | area=medium | maxDets=1000 ] = 0.000\n",
      "Average Precision  (AP) @[ IoU=0.50:0.95 | area= large | maxDets=1000 ] = 0.000\n",
      "Average Recall     (AR) @[ IoU=0.50:0.95 | area=   all | maxDets=100 ] = 0.000\n",
      "Average Recall     (AR) @[ IoU=0.50:0.95 | area=   all | maxDets=300 ] = 0.000\n",
      "Average Recall     (AR) @[ IoU=0.50:0.95 | area=   all | maxDets=1000 ] = 0.000\n",
      "Average Recall     (AR) @[ IoU=0.50:0.95 | area= small | maxDets=1000 ] = 0.000\n",
      "Average Recall     (AR) @[ IoU=0.50:0.95 | area=medium | maxDets=1000 ] = 0.000\n",
      "Average Recall     (AR) @[ IoU=0.50:0.95 | area= large | maxDets=1000 ] = 0.000\n"
     ]
    },
    {
     "name": "stderr",
     "output_type": "stream",
     "text": [
      "2021-05-14 17:46:26,981 - mmdet - INFO - Epoch [4][50/655]\tlr: 5.000e-05, eta: 1:18:41, time: 0.473, data_time: 0.079, memory: 16543, loss_rpn_cls: 0.0102, loss_rpn_bbox: 0.0012, loss_cls: 0.0883, acc: 97.8616, loss_bbox: 0.0080, loss_mask: 0.5936, loss: 0.7014, grad_norm: 1.0277\n",
      "2021-05-14 17:46:48,033 - mmdet - INFO - Epoch [4][100/655]\tlr: 5.000e-05, eta: 1:18:18, time: 0.421, data_time: 0.030, memory: 16543, loss_rpn_cls: 0.0078, loss_rpn_bbox: 0.0009, loss_cls: 0.0773, acc: 97.7369, loss_bbox: 0.0133, loss_mask: 0.5902, loss: 0.6895, grad_norm: 0.9273\n",
      "2021-05-14 17:47:09,368 - mmdet - INFO - Epoch [4][150/655]\tlr: 5.000e-05, eta: 1:17:57, time: 0.427, data_time: 0.035, memory: 16543, loss_rpn_cls: 0.0041, loss_rpn_bbox: 0.0004, loss_cls: 0.0708, acc: 97.7683, loss_bbox: 0.0060, loss_mask: 0.5929, loss: 0.6742, grad_norm: 0.6963\n",
      "2021-05-14 17:47:30,837 - mmdet - INFO - Epoch [4][200/655]\tlr: 5.000e-05, eta: 1:17:36, time: 0.429, data_time: 0.031, memory: 16543, loss_rpn_cls: 0.0037, loss_rpn_bbox: 0.0003, loss_cls: 0.0628, acc: 97.8148, loss_bbox: 0.0071, loss_mask: 0.5974, loss: 0.6713, grad_norm: 0.8129\n",
      "2021-05-14 17:47:51,873 - mmdet - INFO - Epoch [4][250/655]\tlr: 5.000e-05, eta: 1:17:14, time: 0.421, data_time: 0.029, memory: 16543, loss_rpn_cls: 0.0029, loss_rpn_bbox: 0.0002, loss_cls: 0.0511, acc: 98.0728, loss_bbox: 0.0048, loss_mask: 0.5855, loss: 0.6445, grad_norm: 0.7500\n",
      "2021-05-14 17:48:12,743 - mmdet - INFO - Epoch [4][300/655]\tlr: 5.000e-05, eta: 1:16:51, time: 0.417, data_time: 0.028, memory: 16543, loss_rpn_cls: 0.0021, loss_rpn_bbox: 0.0002, loss_cls: 0.0487, acc: 98.1475, loss_bbox: 0.0058, loss_mask: 0.5890, loss: 0.6458, grad_norm: 0.6759\n",
      "2021-05-14 17:48:33,649 - mmdet - INFO - Epoch [4][350/655]\tlr: 5.000e-05, eta: 1:16:28, time: 0.418, data_time: 0.027, memory: 16543, loss_rpn_cls: 0.0053, loss_rpn_bbox: 0.0007, loss_cls: 0.0546, acc: 98.1708, loss_bbox: 0.0080, loss_mask: 0.5939, loss: 0.6625, grad_norm: 0.7389\n",
      "2021-05-14 17:48:54,652 - mmdet - INFO - Epoch [4][400/655]\tlr: 5.000e-05, eta: 1:16:05, time: 0.420, data_time: 0.028, memory: 16543, loss_rpn_cls: 0.0040, loss_rpn_bbox: 0.0003, loss_cls: 0.0566, acc: 98.1363, loss_bbox: 0.0069, loss_mask: 0.5957, loss: 0.6635, grad_norm: 0.6781\n",
      "2021-05-14 17:49:15,707 - mmdet - INFO - Epoch [4][450/655]\tlr: 5.000e-05, eta: 1:15:43, time: 0.421, data_time: 0.031, memory: 16543, loss_rpn_cls: 0.0073, loss_rpn_bbox: 0.0015, loss_cls: 0.0485, acc: 98.2436, loss_bbox: 0.0052, loss_mask: 0.5872, loss: 0.6496, grad_norm: 0.6453\n",
      "2021-05-14 17:49:36,794 - mmdet - INFO - Epoch [4][500/655]\tlr: 5.000e-05, eta: 1:15:21, time: 0.422, data_time: 0.030, memory: 16543, loss_rpn_cls: 0.0051, loss_rpn_bbox: 0.0005, loss_cls: 0.0577, acc: 98.2028, loss_bbox: 0.0056, loss_mask: 0.5851, loss: 0.6541, grad_norm: 0.7434\n",
      "2021-05-14 17:49:57,611 - mmdet - INFO - Epoch [4][550/655]\tlr: 5.000e-05, eta: 1:14:58, time: 0.416, data_time: 0.026, memory: 16543, loss_rpn_cls: 0.0038, loss_rpn_bbox: 0.0006, loss_cls: 0.1186, acc: 98.5002, loss_bbox: 0.0048, loss_mask: 0.5944, loss: 0.7222, grad_norm: 0.8652\n",
      "2021-05-14 17:50:18,659 - mmdet - INFO - Epoch [4][600/655]\tlr: 5.000e-05, eta: 1:14:36, time: 0.421, data_time: 0.028, memory: 16543, loss_rpn_cls: 0.0037, loss_rpn_bbox: 0.0004, loss_cls: 0.0887, acc: 98.2756, loss_bbox: 0.0059, loss_mask: 0.5915, loss: 0.6902, grad_norm: 0.6280\n",
      "2021-05-14 17:50:39,774 - mmdet - INFO - Epoch [4][650/655]\tlr: 5.000e-05, eta: 1:14:14, time: 0.422, data_time: 0.029, memory: 16543, loss_rpn_cls: 0.0055, loss_rpn_bbox: 0.0006, loss_cls: 0.0618, acc: 98.2112, loss_bbox: 0.0072, loss_mask: 0.5934, loss: 0.6684, grad_norm: 0.6518\n",
      "2021-05-14 17:50:42,032 - mmdet - INFO - Saving checkpoint at 4 epochs\n"
     ]
    },
    {
     "name": "stdout",
     "output_type": "stream",
     "text": [
      "[>>>>>>>>>>>>>>>>>>>>>>>>>>>>>] 655/655, 17.1 task/s, elapsed: 38s, ETA:     0s"
     ]
    },
    {
     "name": "stderr",
     "output_type": "stream",
     "text": [
      "2021-05-14 17:51:22,246 - mmdet - INFO - Evaluating bbox...\n"
     ]
    },
    {
     "name": "stdout",
     "output_type": "stream",
     "text": [
      "Loading and preparing results...\n",
      "DONE (t=0.00s)\n",
      "creating index...\n",
      "index created!\n",
      "Running per image evaluation...\n",
      "Evaluate annotation type *bbox*\n"
     ]
    },
    {
     "name": "stderr",
     "output_type": "stream",
     "text": [
      "2021-05-14 17:51:22,848 - mmdet - INFO - Evaluating segm...\n"
     ]
    },
    {
     "name": "stdout",
     "output_type": "stream",
     "text": [
      "DONE (t=0.46s).\n",
      "Accumulating evaluation results...\n",
      "DONE (t=0.13s).\n",
      "Average Precision  (AP) @[ IoU=0.50:0.95 | area=   all | maxDets=100 ] = 0.000\n",
      "Average Precision  (AP) @[ IoU=0.50      | area=   all | maxDets=1000 ] = 0.000\n",
      "Average Precision  (AP) @[ IoU=0.75      | area=   all | maxDets=1000 ] = 0.000\n",
      "Average Precision  (AP) @[ IoU=0.50:0.95 | area= small | maxDets=1000 ] = 0.000\n",
      "Average Precision  (AP) @[ IoU=0.50:0.95 | area=medium | maxDets=1000 ] = 0.000\n",
      "Average Precision  (AP) @[ IoU=0.50:0.95 | area= large | maxDets=1000 ] = 0.000\n",
      "Average Recall     (AR) @[ IoU=0.50:0.95 | area=   all | maxDets=100 ] = 0.000\n",
      "Average Recall     (AR) @[ IoU=0.50:0.95 | area=   all | maxDets=300 ] = 0.000\n",
      "Average Recall     (AR) @[ IoU=0.50:0.95 | area=   all | maxDets=1000 ] = 0.000\n",
      "Average Recall     (AR) @[ IoU=0.50:0.95 | area= small | maxDets=1000 ] = 0.000\n",
      "Average Recall     (AR) @[ IoU=0.50:0.95 | area=medium | maxDets=1000 ] = 0.000\n",
      "Average Recall     (AR) @[ IoU=0.50:0.95 | area= large | maxDets=1000 ] = 0.000\n",
      "Loading and preparing results...\n",
      "DONE (t=0.00s)\n",
      "creating index...\n",
      "index created!\n",
      "Running per image evaluation...\n",
      "Evaluate annotation type *segm*\n"
     ]
    },
    {
     "name": "stderr",
     "output_type": "stream",
     "text": [
      "2021-05-14 17:51:23,500 - mmdet - INFO - Epoch(val) [4][655]\tbbox_mAP: 0.0000, bbox_mAP_50: 0.0000, bbox_mAP_75: 0.0000, bbox_mAP_s: 0.0000, bbox_mAP_m: 0.0000, bbox_mAP_l: 0.0000, bbox_mAP_copypaste: 0.000 0.000 0.000 0.000 0.000 0.000, segm_mAP: 0.0000, segm_mAP_50: 0.0000, segm_mAP_75: 0.0000, segm_mAP_s: 0.0000, segm_mAP_m: 0.0000, segm_mAP_l: 0.0000, segm_mAP_copypaste: 0.000 0.000 0.000 0.000 0.000 0.000\n"
     ]
    },
    {
     "name": "stdout",
     "output_type": "stream",
     "text": [
      "DONE (t=0.48s).\n",
      "Accumulating evaluation results...\n",
      "DONE (t=0.13s).\n",
      "Average Precision  (AP) @[ IoU=0.50:0.95 | area=   all | maxDets=100 ] = 0.000\n",
      "Average Precision  (AP) @[ IoU=0.50      | area=   all | maxDets=1000 ] = 0.000\n",
      "Average Precision  (AP) @[ IoU=0.75      | area=   all | maxDets=1000 ] = 0.000\n",
      "Average Precision  (AP) @[ IoU=0.50:0.95 | area= small | maxDets=1000 ] = 0.000\n",
      "Average Precision  (AP) @[ IoU=0.50:0.95 | area=medium | maxDets=1000 ] = 0.000\n",
      "Average Precision  (AP) @[ IoU=0.50:0.95 | area= large | maxDets=1000 ] = 0.000\n",
      "Average Recall     (AR) @[ IoU=0.50:0.95 | area=   all | maxDets=100 ] = 0.000\n",
      "Average Recall     (AR) @[ IoU=0.50:0.95 | area=   all | maxDets=300 ] = 0.000\n",
      "Average Recall     (AR) @[ IoU=0.50:0.95 | area=   all | maxDets=1000 ] = 0.000\n",
      "Average Recall     (AR) @[ IoU=0.50:0.95 | area= small | maxDets=1000 ] = 0.000\n",
      "Average Recall     (AR) @[ IoU=0.50:0.95 | area=medium | maxDets=1000 ] = 0.000\n",
      "Average Recall     (AR) @[ IoU=0.50:0.95 | area= large | maxDets=1000 ] = 0.000\n"
     ]
    },
    {
     "name": "stderr",
     "output_type": "stream",
     "text": [
      "2021-05-14 17:51:46,965 - mmdet - INFO - Epoch [5][50/655]\tlr: 5.000e-05, eta: 1:13:51, time: 0.469, data_time: 0.076, memory: 16543, loss_rpn_cls: 0.0035, loss_rpn_bbox: 0.0003, loss_cls: 0.0568, acc: 98.2309, loss_bbox: 0.0080, loss_mask: 0.5864, loss: 0.6551, grad_norm: 0.6775\n",
      "2021-05-14 17:52:07,982 - mmdet - INFO - Epoch [5][100/655]\tlr: 5.000e-05, eta: 1:13:29, time: 0.420, data_time: 0.029, memory: 16543, loss_rpn_cls: 0.0029, loss_rpn_bbox: 0.0004, loss_cls: 0.0494, acc: 98.2267, loss_bbox: 0.0040, loss_mask: 0.5920, loss: 0.6487, grad_norm: 0.5966\n",
      "2021-05-14 17:52:29,321 - mmdet - INFO - Epoch [5][150/655]\tlr: 5.000e-05, eta: 1:13:08, time: 0.427, data_time: 0.029, memory: 16543, loss_rpn_cls: 0.0063, loss_rpn_bbox: 0.0015, loss_cls: 0.0513, acc: 98.2102, loss_bbox: 0.0085, loss_mask: 0.5963, loss: 0.6640, grad_norm: 0.7155\n",
      "2021-05-14 17:52:50,320 - mmdet - INFO - Epoch [5][200/655]\tlr: 5.000e-05, eta: 1:12:46, time: 0.420, data_time: 0.027, memory: 16543, loss_rpn_cls: 0.0038, loss_rpn_bbox: 0.0004, loss_cls: 0.0408, acc: 98.4436, loss_bbox: 0.0035, loss_mask: 0.5908, loss: 0.6392, grad_norm: 0.6091\n",
      "2021-05-14 17:53:11,536 - mmdet - INFO - Epoch [5][250/655]\tlr: 5.000e-05, eta: 1:12:24, time: 0.424, data_time: 0.028, memory: 16543, loss_rpn_cls: 0.0032, loss_rpn_bbox: 0.0004, loss_cls: 0.0484, acc: 98.0532, loss_bbox: 0.0044, loss_mask: 0.5915, loss: 0.6479, grad_norm: 0.6557\n",
      "2021-05-14 17:53:32,191 - mmdet - INFO - Epoch [5][300/655]\tlr: 5.000e-05, eta: 1:12:01, time: 0.413, data_time: 0.024, memory: 16543, loss_rpn_cls: 0.0036, loss_rpn_bbox: 0.0004, loss_cls: 0.0508, acc: 98.2317, loss_bbox: 0.0061, loss_mask: 0.5839, loss: 0.6448, grad_norm: 0.6468\n",
      "2021-05-14 17:53:53,207 - mmdet - INFO - Epoch [5][350/655]\tlr: 5.000e-05, eta: 1:11:39, time: 0.420, data_time: 0.032, memory: 16543, loss_rpn_cls: 0.0044, loss_rpn_bbox: 0.0005, loss_cls: 0.0593, acc: 97.6576, loss_bbox: 0.0074, loss_mask: 0.5820, loss: 0.6534, grad_norm: 0.6522\n",
      "2021-05-14 17:54:14,034 - mmdet - INFO - Epoch [5][400/655]\tlr: 5.000e-05, eta: 1:11:17, time: 0.417, data_time: 0.025, memory: 16543, loss_rpn_cls: 0.0066, loss_rpn_bbox: 0.0008, loss_cls: 0.0574, acc: 97.9938, loss_bbox: 0.0079, loss_mask: 0.5853, loss: 0.6579, grad_norm: 0.8579\n",
      "2021-05-14 17:54:35,259 - mmdet - INFO - Epoch [5][450/655]\tlr: 5.000e-05, eta: 1:10:56, time: 0.424, data_time: 0.029, memory: 16543, loss_rpn_cls: 0.0062, loss_rpn_bbox: 0.0010, loss_cls: 0.0693, acc: 98.1154, loss_bbox: 0.0097, loss_mask: 0.6020, loss: 0.6883, grad_norm: 0.6707\n",
      "2021-05-14 17:54:56,494 - mmdet - INFO - Epoch [5][500/655]\tlr: 5.000e-05, eta: 1:10:34, time: 0.425, data_time: 0.032, memory: 16543, loss_rpn_cls: 0.0037, loss_rpn_bbox: 0.0006, loss_cls: 0.0520, acc: 98.0892, loss_bbox: 0.0043, loss_mask: 0.5898, loss: 0.6505, grad_norm: 0.5313\n",
      "2021-05-14 17:55:17,605 - mmdet - INFO - Epoch [5][550/655]\tlr: 5.000e-05, eta: 1:10:13, time: 0.422, data_time: 0.030, memory: 16543, loss_rpn_cls: 0.0052, loss_rpn_bbox: 0.0006, loss_cls: 0.0555, acc: 97.9869, loss_bbox: 0.0068, loss_mask: 0.5887, loss: 0.6568, grad_norm: 0.7103\n",
      "2021-05-14 17:55:38,900 - mmdet - INFO - Epoch [5][600/655]\tlr: 5.000e-05, eta: 1:09:52, time: 0.426, data_time: 0.030, memory: 16543, loss_rpn_cls: 0.0041, loss_rpn_bbox: 0.0006, loss_cls: 0.0512, acc: 98.0597, loss_bbox: 0.0062, loss_mask: 0.5852, loss: 0.6472, grad_norm: 0.6746\n",
      "2021-05-14 17:55:59,926 - mmdet - INFO - Epoch [5][650/655]\tlr: 5.000e-05, eta: 1:09:30, time: 0.421, data_time: 0.028, memory: 16543, loss_rpn_cls: 0.0092, loss_rpn_bbox: 0.0012, loss_cls: 0.0534, acc: 98.1568, loss_bbox: 0.0088, loss_mask: 0.5904, loss: 0.6629, grad_norm: 0.9302\n",
      "2021-05-14 17:56:02,190 - mmdet - INFO - Saving checkpoint at 5 epochs\n"
     ]
    },
    {
     "name": "stdout",
     "output_type": "stream",
     "text": [
      "[>>>>>>>>>>>>>>>>>>>>>>>>>>>>>] 655/655, 15.7 task/s, elapsed: 42s, ETA:     0s"
     ]
    },
    {
     "name": "stderr",
     "output_type": "stream",
     "text": [
      "2021-05-14 17:56:46,054 - mmdet - INFO - Evaluating bbox...\n"
     ]
    },
    {
     "name": "stdout",
     "output_type": "stream",
     "text": [
      "Loading and preparing results...\n",
      "DONE (t=0.01s)\n",
      "creating index...\n",
      "index created!\n",
      "Running per image evaluation...\n",
      "Evaluate annotation type *bbox*\n"
     ]
    },
    {
     "name": "stderr",
     "output_type": "stream",
     "text": [
      "2021-05-14 17:56:46,998 - mmdet - INFO - Evaluating segm...\n"
     ]
    },
    {
     "name": "stdout",
     "output_type": "stream",
     "text": [
      "DONE (t=0.74s).\n",
      "Accumulating evaluation results...\n",
      "DONE (t=0.19s).\n",
      "Average Precision  (AP) @[ IoU=0.50:0.95 | area=   all | maxDets=100 ] = 0.000\n",
      "Average Precision  (AP) @[ IoU=0.50      | area=   all | maxDets=1000 ] = 0.000\n",
      "Average Precision  (AP) @[ IoU=0.75      | area=   all | maxDets=1000 ] = 0.000\n",
      "Average Precision  (AP) @[ IoU=0.50:0.95 | area= small | maxDets=1000 ] = 0.000\n",
      "Average Precision  (AP) @[ IoU=0.50:0.95 | area=medium | maxDets=1000 ] = 0.000\n",
      "Average Precision  (AP) @[ IoU=0.50:0.95 | area= large | maxDets=1000 ] = 0.000\n",
      "Average Recall     (AR) @[ IoU=0.50:0.95 | area=   all | maxDets=100 ] = 0.000\n",
      "Average Recall     (AR) @[ IoU=0.50:0.95 | area=   all | maxDets=300 ] = 0.000\n",
      "Average Recall     (AR) @[ IoU=0.50:0.95 | area=   all | maxDets=1000 ] = 0.000\n",
      "Average Recall     (AR) @[ IoU=0.50:0.95 | area= small | maxDets=1000 ] = 0.000\n",
      "Average Recall     (AR) @[ IoU=0.50:0.95 | area=medium | maxDets=1000 ] = 0.000\n",
      "Average Recall     (AR) @[ IoU=0.50:0.95 | area= large | maxDets=1000 ] = 0.001\n",
      "Loading and preparing results...\n",
      "DONE (t=0.01s)\n",
      "creating index...\n",
      "index created!\n",
      "Running per image evaluation...\n",
      "Evaluate annotation type *segm*\n",
      "DONE (t=0.77s).\n",
      "Accumulating evaluation results...\n",
      "DONE (t=0.19s).\n",
      "Average Precision  (AP) @[ IoU=0.50:0.95 | area=   all | maxDets=100 ] = 0.000\n",
      "Average Precision  (AP) @[ IoU=0.50      | area=   all | maxDets=1000 ] = 0.000\n",
      "Average Precision  (AP) @[ IoU=0.75      | area=   all | maxDets=1000 ] = 0.000\n",
      "Average Precision  (AP) @[ IoU=0.50:0.95 | area= small | maxDets=1000 ] = 0.000\n",
      "Average Precision  (AP) @[ IoU=0.50:0.95 | area=medium | maxDets=1000 ] = 0.000\n",
      "Average Precision  (AP) @[ IoU=0.50:0.95 | area= large | maxDets=1000 ] = 0.000\n",
      "Average Recall     (AR) @[ IoU=0.50:0.95 | area=   all | maxDets=100 ] = 0.000\n",
      "Average Recall     (AR) @[ IoU=0.50:0.95 | area=   all | maxDets=300 ] = 0.000\n",
      "Average Recall     (AR) @[ IoU=0.50:0.95 | area=   all | maxDets=1000 ] = 0.000\n",
      "Average Recall     (AR) @[ IoU=0.50:0.95 | area= small | maxDets=1000 ] = 0.000\n",
      "Average Recall     (AR) @[ IoU=0.50:0.95 | area=medium | maxDets=1000 ] = 0.000\n",
      "Average Recall     (AR) @[ IoU=0.50:0.95 | area= large | maxDets=1000 ] = 0.000\n"
     ]
    },
    {
     "name": "stderr",
     "output_type": "stream",
     "text": [
      "2021-05-14 17:56:48,028 - mmdet - INFO - Epoch(val) [5][655]\tbbox_mAP: 0.0000, bbox_mAP_50: 0.0000, bbox_mAP_75: 0.0000, bbox_mAP_s: 0.0000, bbox_mAP_m: 0.0000, bbox_mAP_l: 0.0000, bbox_mAP_copypaste: 0.000 0.000 0.000 0.000 0.000 0.000, segm_mAP: 0.0000, segm_mAP_50: 0.0000, segm_mAP_75: 0.0000, segm_mAP_s: 0.0000, segm_mAP_m: 0.0000, segm_mAP_l: 0.0000, segm_mAP_copypaste: 0.000 0.000 0.000 0.000 0.000 0.000\n",
      "2021-05-14 17:57:11,632 - mmdet - INFO - Epoch [6][50/655]\tlr: 5.000e-05, eta: 1:09:08, time: 0.472, data_time: 0.078, memory: 16543, loss_rpn_cls: 0.0047, loss_rpn_bbox: 0.0006, loss_cls: 0.0529, acc: 98.1970, loss_bbox: 0.0065, loss_mask: 0.5870, loss: 0.6517, grad_norm: 0.5713\n",
      "2021-05-14 17:57:32,962 - mmdet - INFO - Epoch [6][100/655]\tlr: 5.000e-05, eta: 1:08:47, time: 0.427, data_time: 0.030, memory: 16543, loss_rpn_cls: 0.0084, loss_rpn_bbox: 0.0012, loss_cls: 0.1108, acc: 98.2578, loss_bbox: 0.0078, loss_mask: 0.5863, loss: 0.7144, grad_norm: 0.8808\n",
      "2021-05-14 17:57:54,372 - mmdet - INFO - Epoch [6][150/655]\tlr: 5.000e-05, eta: 1:08:26, time: 0.428, data_time: 0.032, memory: 16543, loss_rpn_cls: 0.0051, loss_rpn_bbox: 0.0006, loss_cls: 0.0944, acc: 97.9879, loss_bbox: 0.0086, loss_mask: 0.5992, loss: 0.7079, grad_norm: 0.7507\n",
      "2021-05-14 17:58:15,624 - mmdet - INFO - Epoch [6][200/655]\tlr: 5.000e-05, eta: 1:08:05, time: 0.425, data_time: 0.031, memory: 16543, loss_rpn_cls: 0.0044, loss_rpn_bbox: 0.0005, loss_cls: 0.0594, acc: 98.0629, loss_bbox: 0.0065, loss_mask: 0.5841, loss: 0.6549, grad_norm: 0.6762\n",
      "2021-05-14 17:58:36,762 - mmdet - INFO - Epoch [6][250/655]\tlr: 5.000e-05, eta: 1:07:43, time: 0.423, data_time: 0.029, memory: 16543, loss_rpn_cls: 0.0036, loss_rpn_bbox: 0.0004, loss_cls: 0.0497, acc: 98.1946, loss_bbox: 0.0061, loss_mask: 0.5811, loss: 0.6409, grad_norm: 0.6718\n",
      "2021-05-14 17:58:58,186 - mmdet - INFO - Epoch [6][300/655]\tlr: 5.000e-05, eta: 1:07:23, time: 0.428, data_time: 0.033, memory: 16543, loss_rpn_cls: 0.0051, loss_rpn_bbox: 0.0006, loss_cls: 0.0720, acc: 97.5230, loss_bbox: 0.0119, loss_mask: 0.5965, loss: 0.6860, grad_norm: 0.8086\n",
      "2021-05-14 17:59:19,316 - mmdet - INFO - Epoch [6][350/655]\tlr: 5.000e-05, eta: 1:07:01, time: 0.423, data_time: 0.029, memory: 16543, loss_rpn_cls: 0.0029, loss_rpn_bbox: 0.0004, loss_cls: 0.0519, acc: 97.9690, loss_bbox: 0.0072, loss_mask: 0.5877, loss: 0.6501, grad_norm: 0.5570\n",
      "2021-05-14 17:59:40,368 - mmdet - INFO - Epoch [6][400/655]\tlr: 5.000e-05, eta: 1:06:40, time: 0.421, data_time: 0.029, memory: 16543, loss_rpn_cls: 0.0037, loss_rpn_bbox: 0.0005, loss_cls: 0.0469, acc: 98.1095, loss_bbox: 0.0044, loss_mask: 0.5860, loss: 0.6415, grad_norm: 0.6481\n",
      "2021-05-14 18:00:01,708 - mmdet - INFO - Epoch [6][450/655]\tlr: 5.000e-05, eta: 1:06:19, time: 0.427, data_time: 0.033, memory: 16543, loss_rpn_cls: 0.0039, loss_rpn_bbox: 0.0004, loss_cls: 0.0539, acc: 97.9241, loss_bbox: 0.0062, loss_mask: 0.5927, loss: 0.6571, grad_norm: 0.8757\n",
      "2021-05-14 18:00:23,090 - mmdet - INFO - Epoch [6][500/655]\tlr: 5.000e-05, eta: 1:05:58, time: 0.428, data_time: 0.032, memory: 16543, loss_rpn_cls: 0.0022, loss_rpn_bbox: 0.0002, loss_cls: 0.0538, acc: 97.8961, loss_bbox: 0.0048, loss_mask: 0.5916, loss: 0.6526, grad_norm: 0.5860\n",
      "2021-05-14 18:00:44,265 - mmdet - INFO - Epoch [6][550/655]\tlr: 5.000e-05, eta: 1:05:36, time: 0.424, data_time: 0.029, memory: 16543, loss_rpn_cls: 0.0018, loss_rpn_bbox: 0.0002, loss_cls: 0.0532, acc: 98.1777, loss_bbox: 0.0030, loss_mask: 0.5883, loss: 0.6465, grad_norm: 0.5452\n",
      "2021-05-14 18:01:05,411 - mmdet - INFO - Epoch [6][600/655]\tlr: 5.000e-05, eta: 1:05:15, time: 0.423, data_time: 0.027, memory: 16543, loss_rpn_cls: 0.0041, loss_rpn_bbox: 0.0005, loss_cls: 0.0463, acc: 98.3695, loss_bbox: 0.0075, loss_mask: 0.5806, loss: 0.6389, grad_norm: 0.7841\n",
      "2021-05-14 18:01:26,882 - mmdet - INFO - Epoch [6][650/655]\tlr: 5.000e-05, eta: 1:04:54, time: 0.429, data_time: 0.032, memory: 16543, loss_rpn_cls: 0.0049, loss_rpn_bbox: 0.0004, loss_cls: 0.0507, acc: 98.1318, loss_bbox: 0.0044, loss_mask: 0.5977, loss: 0.6581, grad_norm: 0.8744\n",
      "2021-05-14 18:01:29,124 - mmdet - INFO - Saving checkpoint at 6 epochs\n"
     ]
    },
    {
     "name": "stdout",
     "output_type": "stream",
     "text": [
      "[>>>>>>>>>>>>>>>>>>>>>>>>>>>>>] 655/655, 16.9 task/s, elapsed: 39s, ETA:     0s"
     ]
    },
    {
     "name": "stderr",
     "output_type": "stream",
     "text": [
      "2021-05-14 18:02:09,825 - mmdet - INFO - Evaluating bbox...\n"
     ]
    },
    {
     "name": "stdout",
     "output_type": "stream",
     "text": [
      "Loading and preparing results...\n",
      "DONE (t=0.00s)\n",
      "creating index...\n",
      "index created!\n",
      "Running per image evaluation...\n",
      "Evaluate annotation type *bbox*\n"
     ]
    },
    {
     "name": "stderr",
     "output_type": "stream",
     "text": [
      "2021-05-14 18:02:11,185 - mmdet - INFO - Evaluating segm...\n"
     ]
    },
    {
     "name": "stdout",
     "output_type": "stream",
     "text": [
      "DONE (t=1.21s).\n",
      "Accumulating evaluation results...\n",
      "DONE (t=0.14s).\n",
      "Average Precision  (AP) @[ IoU=0.50:0.95 | area=   all | maxDets=100 ] = 0.000\n",
      "Average Precision  (AP) @[ IoU=0.50      | area=   all | maxDets=1000 ] = 0.000\n",
      "Average Precision  (AP) @[ IoU=0.75      | area=   all | maxDets=1000 ] = 0.000\n",
      "Average Precision  (AP) @[ IoU=0.50:0.95 | area= small | maxDets=1000 ] = 0.000\n",
      "Average Precision  (AP) @[ IoU=0.50:0.95 | area=medium | maxDets=1000 ] = 0.000\n",
      "Average Precision  (AP) @[ IoU=0.50:0.95 | area= large | maxDets=1000 ] = 0.000\n",
      "Average Recall     (AR) @[ IoU=0.50:0.95 | area=   all | maxDets=100 ] = 0.000\n",
      "Average Recall     (AR) @[ IoU=0.50:0.95 | area=   all | maxDets=300 ] = 0.000\n",
      "Average Recall     (AR) @[ IoU=0.50:0.95 | area=   all | maxDets=1000 ] = 0.000\n",
      "Average Recall     (AR) @[ IoU=0.50:0.95 | area= small | maxDets=1000 ] = 0.000\n",
      "Average Recall     (AR) @[ IoU=0.50:0.95 | area=medium | maxDets=1000 ] = 0.000\n",
      "Average Recall     (AR) @[ IoU=0.50:0.95 | area= large | maxDets=1000 ] = 0.001\n",
      "Loading and preparing results...\n",
      "DONE (t=0.01s)\n",
      "creating index...\n",
      "index created!\n",
      "Running per image evaluation...\n",
      "Evaluate annotation type *segm*\n"
     ]
    },
    {
     "name": "stderr",
     "output_type": "stream",
     "text": [
      "2021-05-14 18:02:11,864 - mmdet - INFO - Epoch(val) [6][655]\tbbox_mAP: 0.0000, bbox_mAP_50: 0.0000, bbox_mAP_75: 0.0000, bbox_mAP_s: 0.0000, bbox_mAP_m: 0.0000, bbox_mAP_l: 0.0000, bbox_mAP_copypaste: 0.000 0.000 0.000 0.000 0.000 0.000, segm_mAP: 0.0000, segm_mAP_50: 0.0000, segm_mAP_75: 0.0000, segm_mAP_s: 0.0000, segm_mAP_m: 0.0000, segm_mAP_l: 0.0000, segm_mAP_copypaste: 0.000 0.000 0.000 0.000 0.000 0.000\n"
     ]
    },
    {
     "name": "stdout",
     "output_type": "stream",
     "text": [
      "DONE (t=0.50s).\n",
      "Accumulating evaluation results...\n",
      "DONE (t=0.14s).\n",
      "Average Precision  (AP) @[ IoU=0.50:0.95 | area=   all | maxDets=100 ] = 0.000\n",
      "Average Precision  (AP) @[ IoU=0.50      | area=   all | maxDets=1000 ] = 0.000\n",
      "Average Precision  (AP) @[ IoU=0.75      | area=   all | maxDets=1000 ] = 0.000\n",
      "Average Precision  (AP) @[ IoU=0.50:0.95 | area= small | maxDets=1000 ] = 0.000\n",
      "Average Precision  (AP) @[ IoU=0.50:0.95 | area=medium | maxDets=1000 ] = 0.000\n",
      "Average Precision  (AP) @[ IoU=0.50:0.95 | area= large | maxDets=1000 ] = 0.000\n",
      "Average Recall     (AR) @[ IoU=0.50:0.95 | area=   all | maxDets=100 ] = 0.000\n",
      "Average Recall     (AR) @[ IoU=0.50:0.95 | area=   all | maxDets=300 ] = 0.000\n",
      "Average Recall     (AR) @[ IoU=0.50:0.95 | area=   all | maxDets=1000 ] = 0.000\n",
      "Average Recall     (AR) @[ IoU=0.50:0.95 | area= small | maxDets=1000 ] = 0.000\n",
      "Average Recall     (AR) @[ IoU=0.50:0.95 | area=medium | maxDets=1000 ] = 0.000\n",
      "Average Recall     (AR) @[ IoU=0.50:0.95 | area= large | maxDets=1000 ] = 0.000\n"
     ]
    },
    {
     "name": "stderr",
     "output_type": "stream",
     "text": [
      "2021-05-14 18:02:35,536 - mmdet - INFO - Epoch [7][50/655]\tlr: 5.000e-05, eta: 1:04:32, time: 0.473, data_time: 0.078, memory: 16543, loss_rpn_cls: 0.0051, loss_rpn_bbox: 0.0006, loss_cls: 0.0646, acc: 98.2313, loss_bbox: 0.0052, loss_mask: 0.5872, loss: 0.6627, grad_norm: 0.7664\n",
      "2021-05-14 18:02:56,723 - mmdet - INFO - Epoch [7][100/655]\tlr: 5.000e-05, eta: 1:04:10, time: 0.424, data_time: 0.030, memory: 16543, loss_rpn_cls: 0.0023, loss_rpn_bbox: 0.0002, loss_cls: 0.0440, acc: 98.1873, loss_bbox: 0.0052, loss_mask: 0.5865, loss: 0.6382, grad_norm: 0.6135\n",
      "2021-05-14 18:03:18,045 - mmdet - INFO - Epoch [7][150/655]\tlr: 5.000e-05, eta: 1:03:49, time: 0.426, data_time: 0.028, memory: 16543, loss_rpn_cls: 0.0031, loss_rpn_bbox: 0.0005, loss_cls: 0.0414, acc: 98.2391, loss_bbox: 0.0049, loss_mask: 0.5815, loss: 0.6314, grad_norm: 0.5275\n",
      "2021-05-14 18:03:39,152 - mmdet - INFO - Epoch [7][200/655]\tlr: 5.000e-05, eta: 1:03:28, time: 0.422, data_time: 0.027, memory: 16543, loss_rpn_cls: 0.0062, loss_rpn_bbox: 0.0010, loss_cls: 0.0389, acc: 98.4782, loss_bbox: 0.0041, loss_mask: 0.5823, loss: 0.6325, grad_norm: 0.6609\n",
      "2021-05-14 18:04:00,403 - mmdet - INFO - Epoch [7][250/655]\tlr: 5.000e-05, eta: 1:03:07, time: 0.425, data_time: 0.032, memory: 16543, loss_rpn_cls: 0.0060, loss_rpn_bbox: 0.0009, loss_cls: 0.0575, acc: 98.2573, loss_bbox: 0.0068, loss_mask: 0.5909, loss: 0.6620, grad_norm: 0.6709\n",
      "2021-05-14 18:04:21,606 - mmdet - INFO - Epoch [7][300/655]\tlr: 5.000e-05, eta: 1:02:45, time: 0.424, data_time: 0.031, memory: 16543, loss_rpn_cls: 0.0010, loss_rpn_bbox: 0.0001, loss_cls: 0.0596, acc: 98.4841, loss_bbox: 0.0021, loss_mask: 0.5802, loss: 0.6428, grad_norm: 0.4930\n",
      "2021-05-14 18:04:42,964 - mmdet - INFO - Epoch [7][350/655]\tlr: 5.000e-05, eta: 1:02:24, time: 0.427, data_time: 0.030, memory: 16543, loss_rpn_cls: 0.0058, loss_rpn_bbox: 0.0007, loss_cls: 0.0825, acc: 98.1335, loss_bbox: 0.0074, loss_mask: 0.5876, loss: 0.6841, grad_norm: 0.7216\n",
      "2021-05-14 18:05:04,177 - mmdet - INFO - Epoch [7][400/655]\tlr: 5.000e-05, eta: 1:02:03, time: 0.424, data_time: 0.030, memory: 16543, loss_rpn_cls: 0.0044, loss_rpn_bbox: 0.0005, loss_cls: 0.0870, acc: 98.0799, loss_bbox: 0.0082, loss_mask: 0.5926, loss: 0.6926, grad_norm: 0.6983\n",
      "2021-05-14 18:05:25,259 - mmdet - INFO - Epoch [7][450/655]\tlr: 5.000e-05, eta: 1:01:42, time: 0.422, data_time: 0.029, memory: 16543, loss_rpn_cls: 0.0039, loss_rpn_bbox: 0.0005, loss_cls: 0.0750, acc: 98.3325, loss_bbox: 0.0056, loss_mask: 0.5909, loss: 0.6759, grad_norm: 0.6163\n",
      "2021-05-14 18:05:46,444 - mmdet - INFO - Epoch [7][500/655]\tlr: 5.000e-05, eta: 1:01:20, time: 0.424, data_time: 0.031, memory: 16543, loss_rpn_cls: 0.0029, loss_rpn_bbox: 0.0004, loss_cls: 0.0692, acc: 98.2174, loss_bbox: 0.0056, loss_mask: 0.5868, loss: 0.6649, grad_norm: 0.6262\n",
      "2021-05-14 18:06:07,397 - mmdet - INFO - Epoch [7][550/655]\tlr: 5.000e-05, eta: 1:00:59, time: 0.419, data_time: 0.027, memory: 16543, loss_rpn_cls: 0.0019, loss_rpn_bbox: 0.0002, loss_cls: 0.0579, acc: 98.4417, loss_bbox: 0.0038, loss_mask: 0.5839, loss: 0.6477, grad_norm: 0.5217\n",
      "2021-05-14 18:06:28,635 - mmdet - INFO - Epoch [7][600/655]\tlr: 5.000e-05, eta: 1:00:37, time: 0.425, data_time: 0.030, memory: 16543, loss_rpn_cls: 0.0039, loss_rpn_bbox: 0.0004, loss_cls: 0.0667, acc: 98.2421, loss_bbox: 0.0058, loss_mask: 0.5914, loss: 0.6682, grad_norm: 0.6435\n",
      "2021-05-14 18:06:50,204 - mmdet - INFO - Epoch [7][650/655]\tlr: 5.000e-05, eta: 1:00:17, time: 0.431, data_time: 0.033, memory: 16543, loss_rpn_cls: 0.0070, loss_rpn_bbox: 0.0010, loss_cls: 0.0617, acc: 97.9478, loss_bbox: 0.0095, loss_mask: 0.6005, loss: 0.6796, grad_norm: 0.6286\n",
      "2021-05-14 18:06:52,381 - mmdet - INFO - Saving checkpoint at 7 epochs\n"
     ]
    },
    {
     "name": "stdout",
     "output_type": "stream",
     "text": [
      "[>>>>>>>>>>>>>>>>>>>>>>>>>>>>>] 655/655, 16.2 task/s, elapsed: 40s, ETA:     0s"
     ]
    },
    {
     "name": "stderr",
     "output_type": "stream",
     "text": [
      "2021-05-14 18:07:37,745 - mmdet - INFO - Evaluating bbox...\n"
     ]
    },
    {
     "name": "stdout",
     "output_type": "stream",
     "text": [
      "Loading and preparing results...\n",
      "DONE (t=0.01s)\n",
      "creating index...\n",
      "index created!\n",
      "Running per image evaluation...\n",
      "Evaluate annotation type *bbox*\n"
     ]
    },
    {
     "name": "stderr",
     "output_type": "stream",
     "text": [
      "2021-05-14 18:07:39,287 - mmdet - INFO - Evaluating segm...\n"
     ]
    },
    {
     "name": "stdout",
     "output_type": "stream",
     "text": [
      "DONE (t=1.36s).\n",
      "Accumulating evaluation results...\n",
      "DONE (t=0.17s).\n",
      "Average Precision  (AP) @[ IoU=0.50:0.95 | area=   all | maxDets=100 ] = 0.000\n",
      "Average Precision  (AP) @[ IoU=0.50      | area=   all | maxDets=1000 ] = 0.000\n",
      "Average Precision  (AP) @[ IoU=0.75      | area=   all | maxDets=1000 ] = 0.000\n",
      "Average Precision  (AP) @[ IoU=0.50:0.95 | area= small | maxDets=1000 ] = 0.000\n",
      "Average Precision  (AP) @[ IoU=0.50:0.95 | area=medium | maxDets=1000 ] = 0.001\n",
      "Average Precision  (AP) @[ IoU=0.50:0.95 | area= large | maxDets=1000 ] = 0.000\n",
      "Average Recall     (AR) @[ IoU=0.50:0.95 | area=   all | maxDets=100 ] = 0.000\n",
      "Average Recall     (AR) @[ IoU=0.50:0.95 | area=   all | maxDets=300 ] = 0.000\n",
      "Average Recall     (AR) @[ IoU=0.50:0.95 | area=   all | maxDets=1000 ] = 0.000\n",
      "Average Recall     (AR) @[ IoU=0.50:0.95 | area= small | maxDets=1000 ] = 0.000\n",
      "Average Recall     (AR) @[ IoU=0.50:0.95 | area=medium | maxDets=1000 ] = 0.000\n",
      "Average Recall     (AR) @[ IoU=0.50:0.95 | area= large | maxDets=1000 ] = 0.001\n",
      "Loading and preparing results...\n",
      "DONE (t=0.01s)\n",
      "creating index...\n",
      "index created!\n",
      "Running per image evaluation...\n",
      "Evaluate annotation type *segm*\n"
     ]
    },
    {
     "name": "stderr",
     "output_type": "stream",
     "text": [
      "2021-05-14 18:07:40,153 - mmdet - INFO - Epoch(val) [7][655]\tbbox_mAP: 0.0000, bbox_mAP_50: 0.0000, bbox_mAP_75: 0.0000, bbox_mAP_s: 0.0000, bbox_mAP_m: 0.0010, bbox_mAP_l: 0.0000, bbox_mAP_copypaste: 0.000 0.000 0.000 0.000 0.001 0.000, segm_mAP: 0.0000, segm_mAP_50: 0.0000, segm_mAP_75: 0.0000, segm_mAP_s: 0.0000, segm_mAP_m: 0.0000, segm_mAP_l: 0.0000, segm_mAP_copypaste: 0.000 0.000 0.000 0.000 0.000 0.000\n"
     ]
    },
    {
     "name": "stdout",
     "output_type": "stream",
     "text": [
      "DONE (t=0.65s).\n",
      "Accumulating evaluation results...\n",
      "DONE (t=0.16s).\n",
      "Average Precision  (AP) @[ IoU=0.50:0.95 | area=   all | maxDets=100 ] = 0.000\n",
      "Average Precision  (AP) @[ IoU=0.50      | area=   all | maxDets=1000 ] = 0.000\n",
      "Average Precision  (AP) @[ IoU=0.75      | area=   all | maxDets=1000 ] = 0.000\n",
      "Average Precision  (AP) @[ IoU=0.50:0.95 | area= small | maxDets=1000 ] = 0.000\n",
      "Average Precision  (AP) @[ IoU=0.50:0.95 | area=medium | maxDets=1000 ] = 0.000\n",
      "Average Precision  (AP) @[ IoU=0.50:0.95 | area= large | maxDets=1000 ] = 0.000\n",
      "Average Recall     (AR) @[ IoU=0.50:0.95 | area=   all | maxDets=100 ] = 0.000\n",
      "Average Recall     (AR) @[ IoU=0.50:0.95 | area=   all | maxDets=300 ] = 0.000\n",
      "Average Recall     (AR) @[ IoU=0.50:0.95 | area=   all | maxDets=1000 ] = 0.000\n",
      "Average Recall     (AR) @[ IoU=0.50:0.95 | area= small | maxDets=1000 ] = 0.000\n",
      "Average Recall     (AR) @[ IoU=0.50:0.95 | area=medium | maxDets=1000 ] = 0.000\n",
      "Average Recall     (AR) @[ IoU=0.50:0.95 | area= large | maxDets=1000 ] = 0.000\n"
     ]
    },
    {
     "name": "stderr",
     "output_type": "stream",
     "text": [
      "2021-05-14 18:08:04,024 - mmdet - INFO - Epoch [8][50/655]\tlr: 5.000e-05, eta: 0:59:54, time: 0.477, data_time: 0.079, memory: 16543, loss_rpn_cls: 0.0018, loss_rpn_bbox: 0.0002, loss_cls: 0.0500, acc: 98.1886, loss_bbox: 0.0050, loss_mask: 0.5927, loss: 0.6497, grad_norm: 0.5130\n",
      "2021-05-14 18:08:24,924 - mmdet - INFO - Epoch [8][100/655]\tlr: 5.000e-05, eta: 0:59:33, time: 0.418, data_time: 0.026, memory: 16543, loss_rpn_cls: 0.0034, loss_rpn_bbox: 0.0003, loss_cls: 0.0423, acc: 98.4274, loss_bbox: 0.0048, loss_mask: 0.5974, loss: 0.6482, grad_norm: 0.5376\n",
      "2021-05-14 18:08:46,040 - mmdet - INFO - Epoch [8][150/655]\tlr: 5.000e-05, eta: 0:59:11, time: 0.422, data_time: 0.027, memory: 16543, loss_rpn_cls: 0.0020, loss_rpn_bbox: 0.0002, loss_cls: 0.0450, acc: 98.2621, loss_bbox: 0.0043, loss_mask: 0.5801, loss: 0.6316, grad_norm: 0.4337\n",
      "2021-05-14 18:09:07,414 - mmdet - INFO - Epoch [8][200/655]\tlr: 5.000e-05, eta: 0:58:50, time: 0.427, data_time: 0.031, memory: 16543, loss_rpn_cls: 0.0030, loss_rpn_bbox: 0.0003, loss_cls: 0.0477, acc: 98.2853, loss_bbox: 0.0052, loss_mask: 0.5892, loss: 0.6455, grad_norm: 0.5551\n",
      "2021-05-14 18:09:28,382 - mmdet - INFO - Epoch [8][250/655]\tlr: 5.000e-05, eta: 0:58:28, time: 0.419, data_time: 0.027, memory: 16543, loss_rpn_cls: 0.0013, loss_rpn_bbox: 0.0001, loss_cls: 0.0492, acc: 98.4398, loss_bbox: 0.0023, loss_mask: 0.5852, loss: 0.6382, grad_norm: 0.4985\n",
      "2021-05-14 18:09:49,802 - mmdet - INFO - Epoch [8][300/655]\tlr: 5.000e-05, eta: 0:58:08, time: 0.428, data_time: 0.030, memory: 16543, loss_rpn_cls: 0.0060, loss_rpn_bbox: 0.0010, loss_cls: 0.0618, acc: 98.1010, loss_bbox: 0.0121, loss_mask: 0.5885, loss: 0.6694, grad_norm: 0.5982\n",
      "2021-05-14 18:10:11,107 - mmdet - INFO - Epoch [8][350/655]\tlr: 5.000e-05, eta: 0:57:46, time: 0.426, data_time: 0.027, memory: 16543, loss_rpn_cls: 0.0026, loss_rpn_bbox: 0.0002, loss_cls: 0.0657, acc: 98.3314, loss_bbox: 0.0062, loss_mask: 0.5905, loss: 0.6653, grad_norm: 0.5884\n",
      "2021-05-14 18:10:32,249 - mmdet - INFO - Epoch [8][400/655]\tlr: 5.000e-05, eta: 0:57:25, time: 0.423, data_time: 0.029, memory: 16543, loss_rpn_cls: 0.0019, loss_rpn_bbox: 0.0003, loss_cls: 0.0598, acc: 98.2792, loss_bbox: 0.0043, loss_mask: 0.5888, loss: 0.6550, grad_norm: 0.5166\n",
      "2021-05-14 18:10:53,177 - mmdet - INFO - Epoch [8][450/655]\tlr: 5.000e-05, eta: 0:57:03, time: 0.419, data_time: 0.027, memory: 16543, loss_rpn_cls: 0.0037, loss_rpn_bbox: 0.0007, loss_cls: 0.0594, acc: 98.2091, loss_bbox: 0.0068, loss_mask: 0.5870, loss: 0.6576, grad_norm: 0.6142\n",
      "2021-05-14 18:11:14,425 - mmdet - INFO - Epoch [8][500/655]\tlr: 5.000e-05, eta: 0:56:42, time: 0.425, data_time: 0.030, memory: 16543, loss_rpn_cls: 0.0060, loss_rpn_bbox: 0.0009, loss_cls: 0.0725, acc: 98.1953, loss_bbox: 0.0079, loss_mask: 0.5899, loss: 0.6770, grad_norm: 0.7867\n",
      "2021-05-14 18:11:36,976 - mmdet - INFO - Epoch [8][550/655]\tlr: 5.000e-05, eta: 0:56:23, time: 0.451, data_time: 0.031, memory: 16543, loss_rpn_cls: 0.0031, loss_rpn_bbox: 0.0003, loss_cls: 0.0910, acc: 98.2234, loss_bbox: 0.0050, loss_mask: 0.5893, loss: 0.6887, grad_norm: 0.6319\n",
      "2021-05-14 18:11:57,748 - mmdet - INFO - Epoch [8][600/655]\tlr: 5.000e-05, eta: 0:56:01, time: 0.415, data_time: 0.026, memory: 16543, loss_rpn_cls: 0.0063, loss_rpn_bbox: 0.0009, loss_cls: 0.0828, acc: 98.3501, loss_bbox: 0.0088, loss_mask: 0.5890, loss: 0.6877, grad_norm: 0.7735\n",
      "2021-05-14 18:12:19,620 - mmdet - INFO - Epoch [8][650/655]\tlr: 5.000e-05, eta: 0:55:41, time: 0.437, data_time: 0.038, memory: 16543, loss_rpn_cls: 0.0059, loss_rpn_bbox: 0.0009, loss_cls: 0.0948, acc: 97.5182, loss_bbox: 0.0093, loss_mask: 0.5929, loss: 0.7038, grad_norm: 0.7618\n",
      "2021-05-14 18:12:21,769 - mmdet - INFO - Saving checkpoint at 8 epochs\n"
     ]
    },
    {
     "name": "stdout",
     "output_type": "stream",
     "text": [
      "[>>>>>>>>>>>>>>>>>>>>>>>>>>>>>] 655/655, 16.8 task/s, elapsed: 39s, ETA:     0s"
     ]
    },
    {
     "name": "stderr",
     "output_type": "stream",
     "text": [
      "2021-05-14 18:13:02,679 - mmdet - INFO - Evaluating bbox...\n"
     ]
    },
    {
     "name": "stdout",
     "output_type": "stream",
     "text": [
      "Loading and preparing results...\n",
      "DONE (t=0.00s)\n",
      "creating index...\n",
      "index created!\n",
      "Running per image evaluation...\n",
      "Evaluate annotation type *bbox*\n"
     ]
    },
    {
     "name": "stderr",
     "output_type": "stream",
     "text": [
      "2021-05-14 18:13:03,290 - mmdet - INFO - Evaluating segm...\n"
     ]
    },
    {
     "name": "stdout",
     "output_type": "stream",
     "text": [
      "DONE (t=0.47s).\n",
      "Accumulating evaluation results...\n",
      "DONE (t=0.14s).\n",
      "Average Precision  (AP) @[ IoU=0.50:0.95 | area=   all | maxDets=100 ] = 0.000\n",
      "Average Precision  (AP) @[ IoU=0.50      | area=   all | maxDets=1000 ] = 0.000\n",
      "Average Precision  (AP) @[ IoU=0.75      | area=   all | maxDets=1000 ] = 0.000\n",
      "Average Precision  (AP) @[ IoU=0.50:0.95 | area= small | maxDets=1000 ] = 0.000\n",
      "Average Precision  (AP) @[ IoU=0.50:0.95 | area=medium | maxDets=1000 ] = 0.000\n",
      "Average Precision  (AP) @[ IoU=0.50:0.95 | area= large | maxDets=1000 ] = 0.000\n",
      "Average Recall     (AR) @[ IoU=0.50:0.95 | area=   all | maxDets=100 ] = 0.000\n",
      "Average Recall     (AR) @[ IoU=0.50:0.95 | area=   all | maxDets=300 ] = 0.000\n",
      "Average Recall     (AR) @[ IoU=0.50:0.95 | area=   all | maxDets=1000 ] = 0.000\n",
      "Average Recall     (AR) @[ IoU=0.50:0.95 | area= small | maxDets=1000 ] = 0.000\n",
      "Average Recall     (AR) @[ IoU=0.50:0.95 | area=medium | maxDets=1000 ] = 0.000\n",
      "Average Recall     (AR) @[ IoU=0.50:0.95 | area= large | maxDets=1000 ] = 0.000\n",
      "Loading and preparing results...\n",
      "DONE (t=0.00s)\n",
      "creating index...\n",
      "index created!\n",
      "Running per image evaluation...\n",
      "Evaluate annotation type *segm*\n",
      "DONE (t=0.47s).\n",
      "Accumulating evaluation results...\n"
     ]
    },
    {
     "name": "stderr",
     "output_type": "stream",
     "text": [
      "2021-05-14 18:13:04,699 - mmdet - INFO - Epoch(val) [8][655]\tbbox_mAP: 0.0000, bbox_mAP_50: 0.0000, bbox_mAP_75: 0.0000, bbox_mAP_s: 0.0000, bbox_mAP_m: 0.0000, bbox_mAP_l: 0.0000, bbox_mAP_copypaste: 0.000 0.000 0.000 0.000 0.000 0.000, segm_mAP: 0.0000, segm_mAP_50: 0.0000, segm_mAP_75: 0.0000, segm_mAP_s: 0.0000, segm_mAP_m: 0.0000, segm_mAP_l: 0.0000, segm_mAP_copypaste: 0.000 0.000 0.000 0.000 0.000 0.000\n"
     ]
    },
    {
     "name": "stdout",
     "output_type": "stream",
     "text": [
      "DONE (t=0.90s).\n",
      "Average Precision  (AP) @[ IoU=0.50:0.95 | area=   all | maxDets=100 ] = 0.000\n",
      "Average Precision  (AP) @[ IoU=0.50      | area=   all | maxDets=1000 ] = 0.000\n",
      "Average Precision  (AP) @[ IoU=0.75      | area=   all | maxDets=1000 ] = 0.000\n",
      "Average Precision  (AP) @[ IoU=0.50:0.95 | area= small | maxDets=1000 ] = 0.000\n",
      "Average Precision  (AP) @[ IoU=0.50:0.95 | area=medium | maxDets=1000 ] = 0.000\n",
      "Average Precision  (AP) @[ IoU=0.50:0.95 | area= large | maxDets=1000 ] = 0.000\n",
      "Average Recall     (AR) @[ IoU=0.50:0.95 | area=   all | maxDets=100 ] = 0.000\n",
      "Average Recall     (AR) @[ IoU=0.50:0.95 | area=   all | maxDets=300 ] = 0.000\n",
      "Average Recall     (AR) @[ IoU=0.50:0.95 | area=   all | maxDets=1000 ] = 0.000\n",
      "Average Recall     (AR) @[ IoU=0.50:0.95 | area= small | maxDets=1000 ] = 0.000\n",
      "Average Recall     (AR) @[ IoU=0.50:0.95 | area=medium | maxDets=1000 ] = 0.000\n",
      "Average Recall     (AR) @[ IoU=0.50:0.95 | area= large | maxDets=1000 ] = 0.000\n"
     ]
    },
    {
     "name": "stderr",
     "output_type": "stream",
     "text": [
      "2021-05-14 18:13:28,329 - mmdet - INFO - Epoch [9][50/655]\tlr: 5.000e-05, eta: 0:55:18, time: 0.472, data_time: 0.077, memory: 16543, loss_rpn_cls: 0.0042, loss_rpn_bbox: 0.0007, loss_cls: 0.0504, acc: 98.2308, loss_bbox: 0.0045, loss_mask: 0.5893, loss: 0.6492, grad_norm: 0.5734\n",
      "2021-05-14 18:13:49,634 - mmdet - INFO - Epoch [9][100/655]\tlr: 5.000e-05, eta: 0:54:57, time: 0.426, data_time: 0.030, memory: 16543, loss_rpn_cls: 0.0030, loss_rpn_bbox: 0.0006, loss_cls: 0.0479, acc: 98.2181, loss_bbox: 0.0062, loss_mask: 0.5879, loss: 0.6455, grad_norm: 0.5688\n",
      "2021-05-14 18:14:10,789 - mmdet - INFO - Epoch [9][150/655]\tlr: 5.000e-05, eta: 0:54:35, time: 0.423, data_time: 0.030, memory: 16543, loss_rpn_cls: 0.0024, loss_rpn_bbox: 0.0004, loss_cls: 0.0472, acc: 98.3094, loss_bbox: 0.0041, loss_mask: 0.5944, loss: 0.6484, grad_norm: 0.5262\n",
      "2021-05-14 18:14:32,222 - mmdet - INFO - Epoch [9][200/655]\tlr: 5.000e-05, eta: 0:54:14, time: 0.429, data_time: 0.031, memory: 16543, loss_rpn_cls: 0.0017, loss_rpn_bbox: 0.0002, loss_cls: 0.0538, acc: 98.2427, loss_bbox: 0.0059, loss_mask: 0.5885, loss: 0.6502, grad_norm: 0.4921\n",
      "2021-05-14 18:14:53,320 - mmdet - INFO - Epoch [9][250/655]\tlr: 5.000e-05, eta: 0:53:53, time: 0.422, data_time: 0.029, memory: 16543, loss_rpn_cls: 0.0027, loss_rpn_bbox: 0.0003, loss_cls: 0.0541, acc: 98.3308, loss_bbox: 0.0046, loss_mask: 0.5800, loss: 0.6416, grad_norm: 0.5379\n",
      "2021-05-14 18:15:14,420 - mmdet - INFO - Epoch [9][300/655]\tlr: 5.000e-05, eta: 0:53:31, time: 0.422, data_time: 0.032, memory: 16543, loss_rpn_cls: 0.0016, loss_rpn_bbox: 0.0003, loss_cls: 0.0527, acc: 98.2768, loss_bbox: 0.0049, loss_mask: 0.5834, loss: 0.6430, grad_norm: 0.5300\n",
      "2021-05-14 18:15:36,238 - mmdet - INFO - Epoch [9][350/655]\tlr: 5.000e-05, eta: 0:53:11, time: 0.436, data_time: 0.031, memory: 16543, loss_rpn_cls: 0.0062, loss_rpn_bbox: 0.0008, loss_cls: 0.0541, acc: 98.2763, loss_bbox: 0.0058, loss_mask: 0.5882, loss: 0.6550, grad_norm: 0.5972\n",
      "2021-05-14 18:15:57,296 - mmdet - INFO - Epoch [9][400/655]\tlr: 5.000e-05, eta: 0:52:49, time: 0.421, data_time: 0.029, memory: 16543, loss_rpn_cls: 0.0015, loss_rpn_bbox: 0.0001, loss_cls: 0.0627, acc: 98.4568, loss_bbox: 0.0035, loss_mask: 0.5904, loss: 0.6583, grad_norm: 0.5180\n",
      "2021-05-14 18:16:18,423 - mmdet - INFO - Epoch [9][450/655]\tlr: 5.000e-05, eta: 0:52:28, time: 0.423, data_time: 0.029, memory: 16543, loss_rpn_cls: 0.0030, loss_rpn_bbox: 0.0005, loss_cls: 0.0659, acc: 98.2956, loss_bbox: 0.0056, loss_mask: 0.5820, loss: 0.6570, grad_norm: 0.5425\n",
      "2021-05-14 18:16:40,057 - mmdet - INFO - Epoch [9][500/655]\tlr: 5.000e-05, eta: 0:52:07, time: 0.433, data_time: 0.033, memory: 16543, loss_rpn_cls: 0.0042, loss_rpn_bbox: 0.0005, loss_cls: 0.0804, acc: 98.0569, loss_bbox: 0.0093, loss_mask: 0.5942, loss: 0.6887, grad_norm: 0.6629\n",
      "2021-05-14 18:17:01,378 - mmdet - INFO - Epoch [9][550/655]\tlr: 5.000e-05, eta: 0:51:46, time: 0.426, data_time: 0.031, memory: 16543, loss_rpn_cls: 0.0026, loss_rpn_bbox: 0.0004, loss_cls: 0.0683, acc: 98.0902, loss_bbox: 0.0072, loss_mask: 0.5915, loss: 0.6700, grad_norm: 0.5827\n",
      "2021-05-14 18:17:22,455 - mmdet - INFO - Epoch [9][600/655]\tlr: 5.000e-05, eta: 0:51:25, time: 0.422, data_time: 0.028, memory: 16543, loss_rpn_cls: 0.0050, loss_rpn_bbox: 0.0006, loss_cls: 0.0542, acc: 98.2916, loss_bbox: 0.0054, loss_mask: 0.5960, loss: 0.6612, grad_norm: 0.5796\n",
      "2021-05-14 18:17:43,803 - mmdet - INFO - Epoch [9][650/655]\tlr: 5.000e-05, eta: 0:51:04, time: 0.427, data_time: 0.030, memory: 16543, loss_rpn_cls: 0.0036, loss_rpn_bbox: 0.0005, loss_cls: 0.0750, acc: 98.0592, loss_bbox: 0.0067, loss_mask: 0.5883, loss: 0.6741, grad_norm: 0.5655\n",
      "2021-05-14 18:17:45,943 - mmdet - INFO - Saving checkpoint at 9 epochs\n"
     ]
    },
    {
     "name": "stdout",
     "output_type": "stream",
     "text": [
      "[>>>>>>>>>>>>>>>>>>>>>>>>>>>>>] 655/655, 16.5 task/s, elapsed: 40s, ETA:     0s"
     ]
    },
    {
     "name": "stderr",
     "output_type": "stream",
     "text": [
      "2021-05-14 18:18:27,609 - mmdet - INFO - Evaluating bbox...\n"
     ]
    },
    {
     "name": "stdout",
     "output_type": "stream",
     "text": [
      "Loading and preparing results...\n",
      "DONE (t=0.00s)\n",
      "creating index...\n",
      "index created!\n",
      "Running per image evaluation...\n",
      "Evaluate annotation type *bbox*\n"
     ]
    },
    {
     "name": "stderr",
     "output_type": "stream",
     "text": [
      "2021-05-14 18:18:28,334 - mmdet - INFO - Evaluating segm...\n"
     ]
    },
    {
     "name": "stdout",
     "output_type": "stream",
     "text": [
      "DONE (t=0.56s).\n",
      "Accumulating evaluation results...\n",
      "DONE (t=0.15s).\n",
      "Average Precision  (AP) @[ IoU=0.50:0.95 | area=   all | maxDets=100 ] = 0.000\n",
      "Average Precision  (AP) @[ IoU=0.50      | area=   all | maxDets=1000 ] = 0.001\n",
      "Average Precision  (AP) @[ IoU=0.75      | area=   all | maxDets=1000 ] = 0.000\n",
      "Average Precision  (AP) @[ IoU=0.50:0.95 | area= small | maxDets=1000 ] = 0.000\n",
      "Average Precision  (AP) @[ IoU=0.50:0.95 | area=medium | maxDets=1000 ] = 0.001\n",
      "Average Precision  (AP) @[ IoU=0.50:0.95 | area= large | maxDets=1000 ] = 0.000\n",
      "Average Recall     (AR) @[ IoU=0.50:0.95 | area=   all | maxDets=100 ] = 0.001\n",
      "Average Recall     (AR) @[ IoU=0.50:0.95 | area=   all | maxDets=300 ] = 0.001\n",
      "Average Recall     (AR) @[ IoU=0.50:0.95 | area=   all | maxDets=1000 ] = 0.001\n",
      "Average Recall     (AR) @[ IoU=0.50:0.95 | area= small | maxDets=1000 ] = 0.000\n",
      "Average Recall     (AR) @[ IoU=0.50:0.95 | area=medium | maxDets=1000 ] = 0.000\n",
      "Average Recall     (AR) @[ IoU=0.50:0.95 | area= large | maxDets=1000 ] = 0.001\n",
      "Loading and preparing results...\n",
      "DONE (t=0.01s)\n",
      "creating index...\n",
      "index created!\n",
      "Running per image evaluation...\n",
      "Evaluate annotation type *segm*\n"
     ]
    },
    {
     "name": "stderr",
     "output_type": "stream",
     "text": [
      "2021-05-14 18:18:29,139 - mmdet - INFO - Epoch(val) [9][655]\tbbox_mAP: 0.0000, bbox_mAP_50: 0.0010, bbox_mAP_75: 0.0000, bbox_mAP_s: 0.0000, bbox_mAP_m: 0.0010, bbox_mAP_l: 0.0000, bbox_mAP_copypaste: 0.000 0.001 0.000 0.000 0.001 0.000, segm_mAP: 0.0000, segm_mAP_50: 0.0000, segm_mAP_75: 0.0000, segm_mAP_s: 0.0000, segm_mAP_m: 0.0010, segm_mAP_l: 0.0000, segm_mAP_copypaste: 0.000 0.000 0.000 0.000 0.001 0.000\n"
     ]
    },
    {
     "name": "stdout",
     "output_type": "stream",
     "text": [
      "DONE (t=0.61s).\n",
      "Accumulating evaluation results...\n",
      "DONE (t=0.15s).\n",
      "Average Precision  (AP) @[ IoU=0.50:0.95 | area=   all | maxDets=100 ] = 0.000\n",
      "Average Precision  (AP) @[ IoU=0.50      | area=   all | maxDets=1000 ] = 0.000\n",
      "Average Precision  (AP) @[ IoU=0.75      | area=   all | maxDets=1000 ] = 0.000\n",
      "Average Precision  (AP) @[ IoU=0.50:0.95 | area= small | maxDets=1000 ] = 0.000\n",
      "Average Precision  (AP) @[ IoU=0.50:0.95 | area=medium | maxDets=1000 ] = 0.001\n",
      "Average Precision  (AP) @[ IoU=0.50:0.95 | area= large | maxDets=1000 ] = 0.000\n",
      "Average Recall     (AR) @[ IoU=0.50:0.95 | area=   all | maxDets=100 ] = 0.000\n",
      "Average Recall     (AR) @[ IoU=0.50:0.95 | area=   all | maxDets=300 ] = 0.000\n",
      "Average Recall     (AR) @[ IoU=0.50:0.95 | area=   all | maxDets=1000 ] = 0.000\n",
      "Average Recall     (AR) @[ IoU=0.50:0.95 | area= small | maxDets=1000 ] = 0.000\n",
      "Average Recall     (AR) @[ IoU=0.50:0.95 | area=medium | maxDets=1000 ] = 0.000\n",
      "Average Recall     (AR) @[ IoU=0.50:0.95 | area= large | maxDets=1000 ] = 0.000\n"
     ]
    },
    {
     "name": "stderr",
     "output_type": "stream",
     "text": [
      "2021-05-14 18:18:52,683 - mmdet - INFO - Epoch [10][50/655]\tlr: 5.000e-05, eta: 0:50:40, time: 0.471, data_time: 0.077, memory: 16543, loss_rpn_cls: 0.0042, loss_rpn_bbox: 0.0007, loss_cls: 0.0671, acc: 98.2068, loss_bbox: 0.0064, loss_mask: 0.5863, loss: 0.6647, grad_norm: 0.6279\n",
      "2021-05-14 18:19:14,392 - mmdet - INFO - Epoch [10][100/655]\tlr: 5.000e-05, eta: 0:50:20, time: 0.434, data_time: 0.033, memory: 16543, loss_rpn_cls: 0.0033, loss_rpn_bbox: 0.0005, loss_cls: 0.0585, acc: 98.1744, loss_bbox: 0.0056, loss_mask: 0.5869, loss: 0.6548, grad_norm: 0.6255\n",
      "2021-05-14 18:19:35,716 - mmdet - INFO - Epoch [10][150/655]\tlr: 5.000e-05, eta: 0:49:58, time: 0.426, data_time: 0.029, memory: 16543, loss_rpn_cls: 0.0049, loss_rpn_bbox: 0.0011, loss_cls: 0.0631, acc: 98.2344, loss_bbox: 0.0073, loss_mask: 0.5908, loss: 0.6671, grad_norm: 0.5656\n",
      "2021-05-14 18:19:56,988 - mmdet - INFO - Epoch [10][200/655]\tlr: 5.000e-05, eta: 0:49:37, time: 0.425, data_time: 0.032, memory: 16543, loss_rpn_cls: 0.0034, loss_rpn_bbox: 0.0006, loss_cls: 0.0526, acc: 98.1744, loss_bbox: 0.0087, loss_mask: 0.5855, loss: 0.6508, grad_norm: 0.5934\n",
      "2021-05-14 18:20:18,371 - mmdet - INFO - Epoch [10][250/655]\tlr: 5.000e-05, eta: 0:49:16, time: 0.428, data_time: 0.031, memory: 16543, loss_rpn_cls: 0.0031, loss_rpn_bbox: 0.0004, loss_cls: 0.0474, acc: 98.1687, loss_bbox: 0.0052, loss_mask: 0.5916, loss: 0.6477, grad_norm: 0.5236\n",
      "2021-05-14 18:20:39,704 - mmdet - INFO - Epoch [10][300/655]\tlr: 5.000e-05, eta: 0:48:55, time: 0.427, data_time: 0.031, memory: 16543, loss_rpn_cls: 0.0014, loss_rpn_bbox: 0.0002, loss_cls: 0.0477, acc: 98.2889, loss_bbox: 0.0038, loss_mask: 0.5871, loss: 0.6402, grad_norm: 0.4470\n",
      "2021-05-14 18:21:00,769 - mmdet - INFO - Epoch [10][350/655]\tlr: 5.000e-05, eta: 0:48:33, time: 0.421, data_time: 0.028, memory: 16543, loss_rpn_cls: 0.0013, loss_rpn_bbox: 0.0003, loss_cls: 0.0469, acc: 98.4210, loss_bbox: 0.0036, loss_mask: 0.5898, loss: 0.6420, grad_norm: 0.4876\n",
      "2021-05-14 18:21:22,272 - mmdet - INFO - Epoch [10][400/655]\tlr: 5.000e-05, eta: 0:48:12, time: 0.430, data_time: 0.030, memory: 16543, loss_rpn_cls: 0.0022, loss_rpn_bbox: 0.0002, loss_cls: 0.0535, acc: 98.2268, loss_bbox: 0.0049, loss_mask: 0.5887, loss: 0.6497, grad_norm: 0.6342\n",
      "2021-05-14 18:21:43,240 - mmdet - INFO - Epoch [10][450/655]\tlr: 5.000e-05, eta: 0:47:51, time: 0.419, data_time: 0.031, memory: 16543, loss_rpn_cls: 0.0021, loss_rpn_bbox: 0.0003, loss_cls: 0.0573, acc: 98.0684, loss_bbox: 0.0060, loss_mask: 0.5859, loss: 0.6515, grad_norm: 0.5305\n",
      "2021-05-14 18:22:04,671 - mmdet - INFO - Epoch [10][500/655]\tlr: 5.000e-05, eta: 0:47:30, time: 0.429, data_time: 0.031, memory: 16543, loss_rpn_cls: 0.0046, loss_rpn_bbox: 0.0007, loss_cls: 0.0693, acc: 97.3507, loss_bbox: 0.0119, loss_mask: 0.5915, loss: 0.6781, grad_norm: 0.6215\n",
      "2021-05-14 18:22:26,010 - mmdet - INFO - Epoch [10][550/655]\tlr: 5.000e-05, eta: 0:47:09, time: 0.427, data_time: 0.031, memory: 16543, loss_rpn_cls: 0.0030, loss_rpn_bbox: 0.0004, loss_cls: 0.0783, acc: 97.2980, loss_bbox: 0.0128, loss_mask: 0.5902, loss: 0.6847, grad_norm: 0.5687\n",
      "2021-05-14 18:22:47,245 - mmdet - INFO - Epoch [10][600/655]\tlr: 5.000e-05, eta: 0:46:47, time: 0.425, data_time: 0.030, memory: 16543, loss_rpn_cls: 0.0014, loss_rpn_bbox: 0.0002, loss_cls: 0.0728, acc: 97.6797, loss_bbox: 0.0070, loss_mask: 0.5861, loss: 0.6676, grad_norm: 0.5186\n",
      "2021-05-14 18:23:08,276 - mmdet - INFO - Epoch [10][650/655]\tlr: 5.000e-05, eta: 0:46:26, time: 0.421, data_time: 0.030, memory: 16543, loss_rpn_cls: 0.0023, loss_rpn_bbox: 0.0004, loss_cls: 0.0701, acc: 97.7702, loss_bbox: 0.0089, loss_mask: 0.5831, loss: 0.6649, grad_norm: 0.5699\n",
      "2021-05-14 18:23:10,491 - mmdet - INFO - Saving checkpoint at 10 epochs\n"
     ]
    },
    {
     "name": "stdout",
     "output_type": "stream",
     "text": [
      "[>>>>>>>>>>>>>>>>>>>>>>>>>>>>>] 655/655, 16.2 task/s, elapsed: 41s, ETA:     0s"
     ]
    },
    {
     "name": "stderr",
     "output_type": "stream",
     "text": [
      "2021-05-14 18:23:53,001 - mmdet - INFO - Evaluating bbox...\n"
     ]
    },
    {
     "name": "stdout",
     "output_type": "stream",
     "text": [
      "Loading and preparing results...\n",
      "DONE (t=0.01s)\n",
      "creating index...\n",
      "index created!\n",
      "Running per image evaluation...\n",
      "Evaluate annotation type *bbox*\n"
     ]
    },
    {
     "name": "stderr",
     "output_type": "stream",
     "text": [
      "2021-05-14 18:23:54,540 - mmdet - INFO - Evaluating segm...\n"
     ]
    },
    {
     "name": "stdout",
     "output_type": "stream",
     "text": [
      "DONE (t=1.36s).\n",
      "Accumulating evaluation results...\n",
      "DONE (t=0.17s).\n",
      "Average Precision  (AP) @[ IoU=0.50:0.95 | area=   all | maxDets=100 ] = 0.000\n",
      "Average Precision  (AP) @[ IoU=0.50      | area=   all | maxDets=1000 ] = 0.001\n",
      "Average Precision  (AP) @[ IoU=0.75      | area=   all | maxDets=1000 ] = 0.000\n",
      "Average Precision  (AP) @[ IoU=0.50:0.95 | area= small | maxDets=1000 ] = 0.000\n",
      "Average Precision  (AP) @[ IoU=0.50:0.95 | area=medium | maxDets=1000 ] = 0.001\n",
      "Average Precision  (AP) @[ IoU=0.50:0.95 | area= large | maxDets=1000 ] = 0.000\n",
      "Average Recall     (AR) @[ IoU=0.50:0.95 | area=   all | maxDets=100 ] = 0.000\n",
      "Average Recall     (AR) @[ IoU=0.50:0.95 | area=   all | maxDets=300 ] = 0.000\n",
      "Average Recall     (AR) @[ IoU=0.50:0.95 | area=   all | maxDets=1000 ] = 0.000\n",
      "Average Recall     (AR) @[ IoU=0.50:0.95 | area= small | maxDets=1000 ] = 0.000\n",
      "Average Recall     (AR) @[ IoU=0.50:0.95 | area=medium | maxDets=1000 ] = 0.000\n",
      "Average Recall     (AR) @[ IoU=0.50:0.95 | area= large | maxDets=1000 ] = 0.001\n",
      "Loading and preparing results...\n",
      "DONE (t=0.01s)\n",
      "creating index...\n",
      "index created!\n",
      "Running per image evaluation...\n",
      "Evaluate annotation type *segm*\n"
     ]
    },
    {
     "name": "stderr",
     "output_type": "stream",
     "text": [
      "2021-05-14 18:23:55,364 - mmdet - INFO - Epoch(val) [10][655]\tbbox_mAP: 0.0000, bbox_mAP_50: 0.0010, bbox_mAP_75: 0.0000, bbox_mAP_s: 0.0000, bbox_mAP_m: 0.0010, bbox_mAP_l: 0.0000, bbox_mAP_copypaste: 0.000 0.001 0.000 0.000 0.001 0.000, segm_mAP: 0.0000, segm_mAP_50: 0.0000, segm_mAP_75: 0.0000, segm_mAP_s: 0.0000, segm_mAP_m: 0.0000, segm_mAP_l: 0.0000, segm_mAP_copypaste: 0.000 0.000 0.000 0.000 0.000 0.000\n"
     ]
    },
    {
     "name": "stdout",
     "output_type": "stream",
     "text": [
      "DONE (t=0.61s).\n",
      "Accumulating evaluation results...\n",
      "DONE (t=0.16s).\n",
      "Average Precision  (AP) @[ IoU=0.50:0.95 | area=   all | maxDets=100 ] = 0.000\n",
      "Average Precision  (AP) @[ IoU=0.50      | area=   all | maxDets=1000 ] = 0.000\n",
      "Average Precision  (AP) @[ IoU=0.75      | area=   all | maxDets=1000 ] = 0.000\n",
      "Average Precision  (AP) @[ IoU=0.50:0.95 | area= small | maxDets=1000 ] = 0.000\n",
      "Average Precision  (AP) @[ IoU=0.50:0.95 | area=medium | maxDets=1000 ] = 0.000\n",
      "Average Precision  (AP) @[ IoU=0.50:0.95 | area= large | maxDets=1000 ] = 0.000\n",
      "Average Recall     (AR) @[ IoU=0.50:0.95 | area=   all | maxDets=100 ] = 0.000\n",
      "Average Recall     (AR) @[ IoU=0.50:0.95 | area=   all | maxDets=300 ] = 0.000\n",
      "Average Recall     (AR) @[ IoU=0.50:0.95 | area=   all | maxDets=1000 ] = 0.000\n",
      "Average Recall     (AR) @[ IoU=0.50:0.95 | area= small | maxDets=1000 ] = 0.000\n",
      "Average Recall     (AR) @[ IoU=0.50:0.95 | area=medium | maxDets=1000 ] = 0.000\n",
      "Average Recall     (AR) @[ IoU=0.50:0.95 | area= large | maxDets=1000 ] = 0.000\n"
     ]
    },
    {
     "name": "stderr",
     "output_type": "stream",
     "text": [
      "2021-05-14 18:24:18,540 - mmdet - INFO - Epoch [11][50/655]\tlr: 5.000e-06, eta: 0:46:02, time: 0.463, data_time: 0.073, memory: 16543, loss_rpn_cls: 0.0013, loss_rpn_bbox: 0.0002, loss_cls: 0.0654, acc: 98.0649, loss_bbox: 0.0065, loss_mask: 0.5831, loss: 0.6566, grad_norm: 0.5431\n",
      "2021-05-14 18:24:39,903 - mmdet - INFO - Epoch [11][100/655]\tlr: 5.000e-06, eta: 0:45:41, time: 0.427, data_time: 0.030, memory: 16543, loss_rpn_cls: 0.0042, loss_rpn_bbox: 0.0009, loss_cls: 0.0781, acc: 97.5885, loss_bbox: 0.0118, loss_mask: 0.5867, loss: 0.6817, grad_norm: 0.6345\n",
      "2021-05-14 18:25:01,159 - mmdet - INFO - Epoch [11][150/655]\tlr: 5.000e-06, eta: 0:45:20, time: 0.425, data_time: 0.032, memory: 16543, loss_rpn_cls: 0.0029, loss_rpn_bbox: 0.0005, loss_cls: 0.0790, acc: 97.4889, loss_bbox: 0.0087, loss_mask: 0.5854, loss: 0.6766, grad_norm: 0.8512\n",
      "2021-05-14 18:25:22,301 - mmdet - INFO - Epoch [11][200/655]\tlr: 5.000e-06, eta: 0:44:59, time: 0.423, data_time: 0.032, memory: 16543, loss_rpn_cls: 0.0051, loss_rpn_bbox: 0.0007, loss_cls: 0.0802, acc: 97.5648, loss_bbox: 0.0141, loss_mask: 0.5896, loss: 0.6896, grad_norm: 0.6931\n",
      "2021-05-14 18:25:43,438 - mmdet - INFO - Epoch [11][250/655]\tlr: 5.000e-06, eta: 0:44:37, time: 0.423, data_time: 0.031, memory: 16543, loss_rpn_cls: 0.0035, loss_rpn_bbox: 0.0003, loss_cls: 0.0703, acc: 97.7983, loss_bbox: 0.0063, loss_mask: 0.5898, loss: 0.6701, grad_norm: 0.5280\n",
      "2021-05-14 18:26:04,325 - mmdet - INFO - Epoch [11][300/655]\tlr: 5.000e-06, eta: 0:44:16, time: 0.418, data_time: 0.026, memory: 16543, loss_rpn_cls: 0.0036, loss_rpn_bbox: 0.0005, loss_cls: 0.0675, acc: 97.8810, loss_bbox: 0.0090, loss_mask: 0.5895, loss: 0.6701, grad_norm: 0.6024\n",
      "2021-05-14 18:26:25,242 - mmdet - INFO - Epoch [11][350/655]\tlr: 5.000e-06, eta: 0:43:54, time: 0.418, data_time: 0.026, memory: 16543, loss_rpn_cls: 0.0035, loss_rpn_bbox: 0.0008, loss_cls: 0.0609, acc: 97.8575, loss_bbox: 0.0105, loss_mask: 0.5920, loss: 0.6676, grad_norm: 0.5947\n",
      "2021-05-14 18:26:46,428 - mmdet - INFO - Epoch [11][400/655]\tlr: 5.000e-06, eta: 0:43:33, time: 0.424, data_time: 0.031, memory: 16543, loss_rpn_cls: 0.0026, loss_rpn_bbox: 0.0003, loss_cls: 0.0612, acc: 97.6770, loss_bbox: 0.0061, loss_mask: 0.5859, loss: 0.6561, grad_norm: 0.4738\n",
      "2021-05-14 18:27:07,593 - mmdet - INFO - Epoch [11][450/655]\tlr: 5.000e-06, eta: 0:43:11, time: 0.423, data_time: 0.030, memory: 16543, loss_rpn_cls: 0.0019, loss_rpn_bbox: 0.0003, loss_cls: 0.0651, acc: 97.5792, loss_bbox: 0.0071, loss_mask: 0.5845, loss: 0.6589, grad_norm: 0.4827\n",
      "2021-05-14 18:27:28,994 - mmdet - INFO - Epoch [11][500/655]\tlr: 5.000e-06, eta: 0:42:50, time: 0.428, data_time: 0.028, memory: 16543, loss_rpn_cls: 0.0029, loss_rpn_bbox: 0.0005, loss_cls: 0.0661, acc: 97.7802, loss_bbox: 0.0083, loss_mask: 0.5835, loss: 0.6612, grad_norm: 0.5314\n",
      "2021-05-14 18:27:50,211 - mmdet - INFO - Epoch [11][550/655]\tlr: 5.000e-06, eta: 0:42:29, time: 0.424, data_time: 0.029, memory: 16543, loss_rpn_cls: 0.0039, loss_rpn_bbox: 0.0007, loss_cls: 0.0658, acc: 97.7968, loss_bbox: 0.0076, loss_mask: 0.5823, loss: 0.6604, grad_norm: 0.5327\n",
      "2021-05-14 18:28:11,438 - mmdet - INFO - Epoch [11][600/655]\tlr: 5.000e-06, eta: 0:42:08, time: 0.425, data_time: 0.029, memory: 16543, loss_rpn_cls: 0.0025, loss_rpn_bbox: 0.0004, loss_cls: 0.0629, acc: 97.9379, loss_bbox: 0.0061, loss_mask: 0.5794, loss: 0.6512, grad_norm: 0.5317\n",
      "2021-05-14 18:28:32,603 - mmdet - INFO - Epoch [11][650/655]\tlr: 5.000e-06, eta: 0:41:47, time: 0.423, data_time: 0.030, memory: 16543, loss_rpn_cls: 0.0026, loss_rpn_bbox: 0.0004, loss_cls: 0.0664, acc: 97.8342, loss_bbox: 0.0091, loss_mask: 0.5932, loss: 0.6716, grad_norm: 0.5319\n",
      "2021-05-14 18:28:34,768 - mmdet - INFO - Saving checkpoint at 11 epochs\n"
     ]
    },
    {
     "name": "stdout",
     "output_type": "stream",
     "text": [
      "[>>>>>>>>>>>>>>>>>>>>>>>>>>>>>] 655/655, 15.9 task/s, elapsed: 41s, ETA:     0s"
     ]
    },
    {
     "name": "stderr",
     "output_type": "stream",
     "text": [
      "2021-05-14 18:29:17,732 - mmdet - INFO - Evaluating bbox...\n"
     ]
    },
    {
     "name": "stdout",
     "output_type": "stream",
     "text": [
      "Loading and preparing results...\n",
      "DONE (t=0.01s)\n",
      "creating index...\n",
      "index created!\n",
      "Running per image evaluation...\n",
      "Evaluate annotation type *bbox*\n"
     ]
    },
    {
     "name": "stderr",
     "output_type": "stream",
     "text": [
      "2021-05-14 18:29:19,334 - mmdet - INFO - Evaluating segm...\n"
     ]
    },
    {
     "name": "stdout",
     "output_type": "stream",
     "text": [
      "DONE (t=1.42s).\n",
      "Accumulating evaluation results...\n",
      "DONE (t=0.17s).\n",
      "Average Precision  (AP) @[ IoU=0.50:0.95 | area=   all | maxDets=100 ] = 0.000\n",
      "Average Precision  (AP) @[ IoU=0.50      | area=   all | maxDets=1000 ] = 0.001\n",
      "Average Precision  (AP) @[ IoU=0.75      | area=   all | maxDets=1000 ] = 0.000\n",
      "Average Precision  (AP) @[ IoU=0.50:0.95 | area= small | maxDets=1000 ] = 0.000\n",
      "Average Precision  (AP) @[ IoU=0.50:0.95 | area=medium | maxDets=1000 ] = 0.000\n",
      "Average Precision  (AP) @[ IoU=0.50:0.95 | area= large | maxDets=1000 ] = 0.000\n",
      "Average Recall     (AR) @[ IoU=0.50:0.95 | area=   all | maxDets=100 ] = 0.000\n",
      "Average Recall     (AR) @[ IoU=0.50:0.95 | area=   all | maxDets=300 ] = 0.000\n",
      "Average Recall     (AR) @[ IoU=0.50:0.95 | area=   all | maxDets=1000 ] = 0.000\n",
      "Average Recall     (AR) @[ IoU=0.50:0.95 | area= small | maxDets=1000 ] = 0.000\n",
      "Average Recall     (AR) @[ IoU=0.50:0.95 | area=medium | maxDets=1000 ] = 0.000\n",
      "Average Recall     (AR) @[ IoU=0.50:0.95 | area= large | maxDets=1000 ] = 0.001\n",
      "Loading and preparing results...\n",
      "DONE (t=0.01s)\n",
      "creating index...\n",
      "index created!\n",
      "Running per image evaluation...\n",
      "Evaluate annotation type *segm*\n"
     ]
    },
    {
     "name": "stderr",
     "output_type": "stream",
     "text": [
      "2021-05-14 18:29:20,214 - mmdet - INFO - Epoch(val) [11][655]\tbbox_mAP: 0.0000, bbox_mAP_50: 0.0010, bbox_mAP_75: 0.0000, bbox_mAP_s: 0.0000, bbox_mAP_m: 0.0000, bbox_mAP_l: 0.0000, bbox_mAP_copypaste: 0.000 0.001 0.000 0.000 0.000 0.000, segm_mAP: 0.0000, segm_mAP_50: 0.0000, segm_mAP_75: 0.0000, segm_mAP_s: 0.0000, segm_mAP_m: 0.0000, segm_mAP_l: 0.0000, segm_mAP_copypaste: 0.000 0.000 0.000 0.000 0.000 0.000\n"
     ]
    },
    {
     "name": "stdout",
     "output_type": "stream",
     "text": [
      "DONE (t=0.66s).\n",
      "Accumulating evaluation results...\n",
      "DONE (t=0.17s).\n",
      "Average Precision  (AP) @[ IoU=0.50:0.95 | area=   all | maxDets=100 ] = 0.000\n",
      "Average Precision  (AP) @[ IoU=0.50      | area=   all | maxDets=1000 ] = 0.000\n",
      "Average Precision  (AP) @[ IoU=0.75      | area=   all | maxDets=1000 ] = 0.000\n",
      "Average Precision  (AP) @[ IoU=0.50:0.95 | area= small | maxDets=1000 ] = 0.000\n",
      "Average Precision  (AP) @[ IoU=0.50:0.95 | area=medium | maxDets=1000 ] = 0.000\n",
      "Average Precision  (AP) @[ IoU=0.50:0.95 | area= large | maxDets=1000 ] = 0.000\n",
      "Average Recall     (AR) @[ IoU=0.50:0.95 | area=   all | maxDets=100 ] = 0.000\n",
      "Average Recall     (AR) @[ IoU=0.50:0.95 | area=   all | maxDets=300 ] = 0.000\n",
      "Average Recall     (AR) @[ IoU=0.50:0.95 | area=   all | maxDets=1000 ] = 0.000\n",
      "Average Recall     (AR) @[ IoU=0.50:0.95 | area= small | maxDets=1000 ] = 0.000\n",
      "Average Recall     (AR) @[ IoU=0.50:0.95 | area=medium | maxDets=1000 ] = 0.000\n",
      "Average Recall     (AR) @[ IoU=0.50:0.95 | area= large | maxDets=1000 ] = 0.000\n"
     ]
    },
    {
     "name": "stderr",
     "output_type": "stream",
     "text": [
      "2021-05-14 18:29:44,221 - mmdet - INFO - Epoch [12][50/655]\tlr: 5.000e-06, eta: 0:41:24, time: 0.480, data_time: 0.079, memory: 16543, loss_rpn_cls: 0.0011, loss_rpn_bbox: 0.0002, loss_cls: 0.0703, acc: 97.6634, loss_bbox: 0.0063, loss_mask: 0.5836, loss: 0.6615, grad_norm: 0.5044\n",
      "2021-05-14 18:30:05,472 - mmdet - INFO - Epoch [12][100/655]\tlr: 5.000e-06, eta: 0:41:02, time: 0.425, data_time: 0.030, memory: 16543, loss_rpn_cls: 0.0019, loss_rpn_bbox: 0.0003, loss_cls: 0.0663, acc: 97.7258, loss_bbox: 0.0087, loss_mask: 0.5858, loss: 0.6630, grad_norm: 0.5426\n",
      "2021-05-14 18:30:26,361 - mmdet - INFO - Epoch [12][150/655]\tlr: 5.000e-06, eta: 0:40:41, time: 0.418, data_time: 0.028, memory: 16543, loss_rpn_cls: 0.0012, loss_rpn_bbox: 0.0001, loss_cls: 0.0617, acc: 97.8580, loss_bbox: 0.0066, loss_mask: 0.5918, loss: 0.6614, grad_norm: 0.4596\n"
     ]
    }
   ],
   "source": [
    "train_detector(model, datasets[0], cfg, distributed=False, validate=True)"
   ]
  }
 ],
 "metadata": {
  "kernelspec": {
   "display_name": "Python 3",
   "language": "python",
   "name": "python3"
  },
  "language_info": {
   "codemirror_mode": {
    "name": "ipython",
    "version": 3
   },
   "file_extension": ".py",
   "mimetype": "text/x-python",
   "name": "python",
   "nbconvert_exporter": "python",
   "pygments_lexer": "ipython3",
   "version": "3.6.5"
  }
 },
 "nbformat": 4,
 "nbformat_minor": 5
}
